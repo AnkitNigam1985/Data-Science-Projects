{
  "nbformat": 4,
  "nbformat_minor": 0,
  "metadata": {
    "colab": {
      "name": "Analytics_Vidhya_Dimensionality_Reduction_Techniques.ipynb",
      "provenance": [],
      "collapsed_sections": []
    },
    "kernelspec": {
      "name": "python3",
      "display_name": "Python 3"
    }
  },
  "cells": [
    {
      "cell_type": "code",
      "metadata": {
        "id": "U_JbLNwWNqtX",
        "colab_type": "code",
        "colab": {}
      },
      "source": [
        "import pandas as pd\n",
        "from sklearn.preprocessing import normalize"
      ],
      "execution_count": 0,
      "outputs": []
    },
    {
      "cell_type": "markdown",
      "metadata": {
        "id": "QxQ-kHNcAxtz",
        "colab_type": "text"
      },
      "source": [
        "### Feature Selection"
      ]
    },
    {
      "cell_type": "markdown",
      "metadata": {
        "id": "6-Fv5CaENz_x",
        "colab_type": "text"
      },
      "source": [
        "**Missing Value Ratio**"
      ]
    },
    {
      "cell_type": "code",
      "metadata": {
        "id": "DW75qdd_N-5N",
        "colab_type": "code",
        "colab": {}
      },
      "source": [
        "data=pd.read_csv(\"missing_value_ratio-200306-192816.csv\")"
      ],
      "execution_count": 0,
      "outputs": []
    },
    {
      "cell_type": "code",
      "metadata": {
        "id": "QdOeg8e8OEkG",
        "colab_type": "code",
        "colab": {
          "base_uri": "https://localhost:8080/",
          "height": 197
        },
        "outputId": "3cd20b39-f38e-4ae8-e8a5-0ca639f52b5e"
      },
      "source": [
        "data.head()"
      ],
      "execution_count": 3,
      "outputs": [
        {
          "output_type": "execute_result",
          "data": {
            "text/html": [
              "<div>\n",
              "<style scoped>\n",
              "    .dataframe tbody tr th:only-of-type {\n",
              "        vertical-align: middle;\n",
              "    }\n",
              "\n",
              "    .dataframe tbody tr th {\n",
              "        vertical-align: top;\n",
              "    }\n",
              "\n",
              "    .dataframe thead th {\n",
              "        text-align: right;\n",
              "    }\n",
              "</style>\n",
              "<table border=\"1\" class=\"dataframe\">\n",
              "  <thead>\n",
              "    <tr style=\"text-align: right;\">\n",
              "      <th></th>\n",
              "      <th>ID</th>\n",
              "      <th>season</th>\n",
              "      <th>holiday</th>\n",
              "      <th>workingday</th>\n",
              "      <th>weather</th>\n",
              "      <th>temp</th>\n",
              "      <th>atemp</th>\n",
              "      <th>humidity</th>\n",
              "      <th>windspeed</th>\n",
              "      <th>count</th>\n",
              "    </tr>\n",
              "  </thead>\n",
              "  <tbody>\n",
              "    <tr>\n",
              "      <th>0</th>\n",
              "      <td>AB101</td>\n",
              "      <td>1.0</td>\n",
              "      <td>0.0</td>\n",
              "      <td>0.0</td>\n",
              "      <td>1.0</td>\n",
              "      <td>9.84</td>\n",
              "      <td>14.395</td>\n",
              "      <td>81.0</td>\n",
              "      <td>NaN</td>\n",
              "      <td>16</td>\n",
              "    </tr>\n",
              "    <tr>\n",
              "      <th>1</th>\n",
              "      <td>AB102</td>\n",
              "      <td>1.0</td>\n",
              "      <td>NaN</td>\n",
              "      <td>0.0</td>\n",
              "      <td>NaN</td>\n",
              "      <td>9.02</td>\n",
              "      <td>13.635</td>\n",
              "      <td>80.0</td>\n",
              "      <td>NaN</td>\n",
              "      <td>40</td>\n",
              "    </tr>\n",
              "    <tr>\n",
              "      <th>2</th>\n",
              "      <td>AB103</td>\n",
              "      <td>1.0</td>\n",
              "      <td>0.0</td>\n",
              "      <td>NaN</td>\n",
              "      <td>1.0</td>\n",
              "      <td>9.02</td>\n",
              "      <td>13.635</td>\n",
              "      <td>80.0</td>\n",
              "      <td>NaN</td>\n",
              "      <td>32</td>\n",
              "    </tr>\n",
              "    <tr>\n",
              "      <th>3</th>\n",
              "      <td>AB104</td>\n",
              "      <td>NaN</td>\n",
              "      <td>0.0</td>\n",
              "      <td>NaN</td>\n",
              "      <td>1.0</td>\n",
              "      <td>9.84</td>\n",
              "      <td>14.395</td>\n",
              "      <td>75.0</td>\n",
              "      <td>NaN</td>\n",
              "      <td>13</td>\n",
              "    </tr>\n",
              "    <tr>\n",
              "      <th>4</th>\n",
              "      <td>AB105</td>\n",
              "      <td>1.0</td>\n",
              "      <td>NaN</td>\n",
              "      <td>0.0</td>\n",
              "      <td>NaN</td>\n",
              "      <td>9.84</td>\n",
              "      <td>14.395</td>\n",
              "      <td>NaN</td>\n",
              "      <td>16.9979</td>\n",
              "      <td>1</td>\n",
              "    </tr>\n",
              "  </tbody>\n",
              "</table>\n",
              "</div>"
            ],
            "text/plain": [
              "      ID  season  holiday  workingday  ...   atemp  humidity  windspeed  count\n",
              "0  AB101     1.0      0.0         0.0  ...  14.395      81.0        NaN     16\n",
              "1  AB102     1.0      NaN         0.0  ...  13.635      80.0        NaN     40\n",
              "2  AB103     1.0      0.0         NaN  ...  13.635      80.0        NaN     32\n",
              "3  AB104     NaN      0.0         NaN  ...  14.395      75.0        NaN     13\n",
              "4  AB105     1.0      NaN         0.0  ...  14.395       NaN    16.9979      1\n",
              "\n",
              "[5 rows x 10 columns]"
            ]
          },
          "metadata": {
            "tags": []
          },
          "execution_count": 3
        }
      ]
    },
    {
      "cell_type": "code",
      "metadata": {
        "id": "rDM8wemFOH1f",
        "colab_type": "code",
        "colab": {
          "base_uri": "https://localhost:8080/",
          "height": 34
        },
        "outputId": "55a3f04d-7f0f-4884-9be9-407544d3c27f"
      },
      "source": [
        "data.shape"
      ],
      "execution_count": 4,
      "outputs": [
        {
          "output_type": "execute_result",
          "data": {
            "text/plain": [
              "(12980, 10)"
            ]
          },
          "metadata": {
            "tags": []
          },
          "execution_count": 4
        }
      ]
    },
    {
      "cell_type": "code",
      "metadata": {
        "id": "nkcWmaixOJ5k",
        "colab_type": "code",
        "colab": {
          "base_uri": "https://localhost:8080/",
          "height": 212
        },
        "outputId": "43c105a7-cd28-4fdf-8a50-cb796bfb79e7"
      },
      "source": [
        "data.isnull().sum()"
      ],
      "execution_count": 5,
      "outputs": [
        {
          "output_type": "execute_result",
          "data": {
            "text/plain": [
              "ID               0\n",
              "season           9\n",
              "holiday       6295\n",
              "workingday       9\n",
              "weather          4\n",
              "temp             0\n",
              "atemp            0\n",
              "humidity         5\n",
              "windspeed     5324\n",
              "count            0\n",
              "dtype: int64"
            ]
          },
          "metadata": {
            "tags": []
          },
          "execution_count": 5
        }
      ]
    },
    {
      "cell_type": "code",
      "metadata": {
        "id": "9ZyDso-2OSTD",
        "colab_type": "code",
        "colab": {
          "base_uri": "https://localhost:8080/",
          "height": 34
        },
        "outputId": "8c255dc2-bcb7-4df8-805b-417fc5b15bd0"
      },
      "source": [
        "len(data)"
      ],
      "execution_count": 6,
      "outputs": [
        {
          "output_type": "execute_result",
          "data": {
            "text/plain": [
              "12980"
            ]
          },
          "metadata": {
            "tags": []
          },
          "execution_count": 6
        }
      ]
    },
    {
      "cell_type": "code",
      "metadata": {
        "id": "8DD9JT1fOO8L",
        "colab_type": "code",
        "colab": {
          "base_uri": "https://localhost:8080/",
          "height": 212
        },
        "outputId": "deb40b40-7131-471b-ecbc-a0d563157770"
      },
      "source": [
        "a=(data.isnull().sum()/(len(data)))*100\n",
        "a"
      ],
      "execution_count": 8,
      "outputs": [
        {
          "output_type": "execute_result",
          "data": {
            "text/plain": [
              "ID             0.000000\n",
              "season         0.069337\n",
              "holiday       48.497689\n",
              "workingday     0.069337\n",
              "weather        0.030817\n",
              "temp           0.000000\n",
              "atemp          0.000000\n",
              "humidity       0.038521\n",
              "windspeed     41.016949\n",
              "count          0.000000\n",
              "dtype: float64"
            ]
          },
          "metadata": {
            "tags": []
          },
          "execution_count": 8
        }
      ]
    },
    {
      "cell_type": "code",
      "metadata": {
        "id": "mvGIWJKCOq2u",
        "colab_type": "code",
        "colab": {}
      },
      "source": [
        "variables=data.columns"
      ],
      "execution_count": 0,
      "outputs": []
    },
    {
      "cell_type": "code",
      "metadata": {
        "id": "c1yUp_3GPLY5",
        "colab_type": "code",
        "colab": {
          "base_uri": "https://localhost:8080/",
          "height": 34
        },
        "outputId": "2a16ec52-27ce-4be3-c6a1-b98d8474f6af"
      },
      "source": [
        "data.columns.shape[0]"
      ],
      "execution_count": 12,
      "outputs": [
        {
          "output_type": "execute_result",
          "data": {
            "text/plain": [
              "10"
            ]
          },
          "metadata": {
            "tags": []
          },
          "execution_count": 12
        }
      ]
    },
    {
      "cell_type": "code",
      "metadata": {
        "id": "-jt3onoGOvpr",
        "colab_type": "code",
        "colab": {
          "base_uri": "https://localhost:8080/",
          "height": 347
        },
        "outputId": "07e3a321-182a-45d3-f790-3ec2a5686e9a"
      },
      "source": [
        "pd.DataFrame(a)"
      ],
      "execution_count": 11,
      "outputs": [
        {
          "output_type": "execute_result",
          "data": {
            "text/html": [
              "<div>\n",
              "<style scoped>\n",
              "    .dataframe tbody tr th:only-of-type {\n",
              "        vertical-align: middle;\n",
              "    }\n",
              "\n",
              "    .dataframe tbody tr th {\n",
              "        vertical-align: top;\n",
              "    }\n",
              "\n",
              "    .dataframe thead th {\n",
              "        text-align: right;\n",
              "    }\n",
              "</style>\n",
              "<table border=\"1\" class=\"dataframe\">\n",
              "  <thead>\n",
              "    <tr style=\"text-align: right;\">\n",
              "      <th></th>\n",
              "      <th>0</th>\n",
              "    </tr>\n",
              "  </thead>\n",
              "  <tbody>\n",
              "    <tr>\n",
              "      <th>ID</th>\n",
              "      <td>0.000000</td>\n",
              "    </tr>\n",
              "    <tr>\n",
              "      <th>season</th>\n",
              "      <td>0.069337</td>\n",
              "    </tr>\n",
              "    <tr>\n",
              "      <th>holiday</th>\n",
              "      <td>48.497689</td>\n",
              "    </tr>\n",
              "    <tr>\n",
              "      <th>workingday</th>\n",
              "      <td>0.069337</td>\n",
              "    </tr>\n",
              "    <tr>\n",
              "      <th>weather</th>\n",
              "      <td>0.030817</td>\n",
              "    </tr>\n",
              "    <tr>\n",
              "      <th>temp</th>\n",
              "      <td>0.000000</td>\n",
              "    </tr>\n",
              "    <tr>\n",
              "      <th>atemp</th>\n",
              "      <td>0.000000</td>\n",
              "    </tr>\n",
              "    <tr>\n",
              "      <th>humidity</th>\n",
              "      <td>0.038521</td>\n",
              "    </tr>\n",
              "    <tr>\n",
              "      <th>windspeed</th>\n",
              "      <td>41.016949</td>\n",
              "    </tr>\n",
              "    <tr>\n",
              "      <th>count</th>\n",
              "      <td>0.000000</td>\n",
              "    </tr>\n",
              "  </tbody>\n",
              "</table>\n",
              "</div>"
            ],
            "text/plain": [
              "                    0\n",
              "ID           0.000000\n",
              "season       0.069337\n",
              "holiday     48.497689\n",
              "workingday   0.069337\n",
              "weather      0.030817\n",
              "temp         0.000000\n",
              "atemp        0.000000\n",
              "humidity     0.038521\n",
              "windspeed   41.016949\n",
              "count        0.000000"
            ]
          },
          "metadata": {
            "tags": []
          },
          "execution_count": 11
        }
      ]
    },
    {
      "cell_type": "code",
      "metadata": {
        "id": "os3USaCHPDpn",
        "colab_type": "code",
        "colab": {}
      },
      "source": [
        "variable=[]\n",
        "for i in range(data.columns.shape[0]):\n",
        "  if a[i]<=40:\n",
        "    variable.append(variables[i])"
      ],
      "execution_count": 0,
      "outputs": []
    },
    {
      "cell_type": "code",
      "metadata": {
        "id": "Rf1MqjMQPoZ0",
        "colab_type": "code",
        "colab": {
          "base_uri": "https://localhost:8080/",
          "height": 34
        },
        "outputId": "7e88607e-e49c-40fe-8133-6752517ce72b"
      },
      "source": [
        "variable"
      ],
      "execution_count": 15,
      "outputs": [
        {
          "output_type": "execute_result",
          "data": {
            "text/plain": [
              "['ID', 'season', 'workingday', 'weather', 'temp', 'atemp', 'humidity', 'count']"
            ]
          },
          "metadata": {
            "tags": []
          },
          "execution_count": 15
        }
      ]
    },
    {
      "cell_type": "code",
      "metadata": {
        "id": "81sj0pllPulj",
        "colab_type": "code",
        "colab": {
          "base_uri": "https://localhost:8080/",
          "height": 197
        },
        "outputId": "111d1680-e21a-4545-9634-4e4b41d50933"
      },
      "source": [
        "new_data=data[variable]\n",
        "new_data.head()"
      ],
      "execution_count": 16,
      "outputs": [
        {
          "output_type": "execute_result",
          "data": {
            "text/html": [
              "<div>\n",
              "<style scoped>\n",
              "    .dataframe tbody tr th:only-of-type {\n",
              "        vertical-align: middle;\n",
              "    }\n",
              "\n",
              "    .dataframe tbody tr th {\n",
              "        vertical-align: top;\n",
              "    }\n",
              "\n",
              "    .dataframe thead th {\n",
              "        text-align: right;\n",
              "    }\n",
              "</style>\n",
              "<table border=\"1\" class=\"dataframe\">\n",
              "  <thead>\n",
              "    <tr style=\"text-align: right;\">\n",
              "      <th></th>\n",
              "      <th>ID</th>\n",
              "      <th>season</th>\n",
              "      <th>workingday</th>\n",
              "      <th>weather</th>\n",
              "      <th>temp</th>\n",
              "      <th>atemp</th>\n",
              "      <th>humidity</th>\n",
              "      <th>count</th>\n",
              "    </tr>\n",
              "  </thead>\n",
              "  <tbody>\n",
              "    <tr>\n",
              "      <th>0</th>\n",
              "      <td>AB101</td>\n",
              "      <td>1.0</td>\n",
              "      <td>0.0</td>\n",
              "      <td>1.0</td>\n",
              "      <td>9.84</td>\n",
              "      <td>14.395</td>\n",
              "      <td>81.0</td>\n",
              "      <td>16</td>\n",
              "    </tr>\n",
              "    <tr>\n",
              "      <th>1</th>\n",
              "      <td>AB102</td>\n",
              "      <td>1.0</td>\n",
              "      <td>0.0</td>\n",
              "      <td>NaN</td>\n",
              "      <td>9.02</td>\n",
              "      <td>13.635</td>\n",
              "      <td>80.0</td>\n",
              "      <td>40</td>\n",
              "    </tr>\n",
              "    <tr>\n",
              "      <th>2</th>\n",
              "      <td>AB103</td>\n",
              "      <td>1.0</td>\n",
              "      <td>NaN</td>\n",
              "      <td>1.0</td>\n",
              "      <td>9.02</td>\n",
              "      <td>13.635</td>\n",
              "      <td>80.0</td>\n",
              "      <td>32</td>\n",
              "    </tr>\n",
              "    <tr>\n",
              "      <th>3</th>\n",
              "      <td>AB104</td>\n",
              "      <td>NaN</td>\n",
              "      <td>NaN</td>\n",
              "      <td>1.0</td>\n",
              "      <td>9.84</td>\n",
              "      <td>14.395</td>\n",
              "      <td>75.0</td>\n",
              "      <td>13</td>\n",
              "    </tr>\n",
              "    <tr>\n",
              "      <th>4</th>\n",
              "      <td>AB105</td>\n",
              "      <td>1.0</td>\n",
              "      <td>0.0</td>\n",
              "      <td>NaN</td>\n",
              "      <td>9.84</td>\n",
              "      <td>14.395</td>\n",
              "      <td>NaN</td>\n",
              "      <td>1</td>\n",
              "    </tr>\n",
              "  </tbody>\n",
              "</table>\n",
              "</div>"
            ],
            "text/plain": [
              "      ID  season  workingday  weather  temp   atemp  humidity  count\n",
              "0  AB101     1.0         0.0      1.0  9.84  14.395      81.0     16\n",
              "1  AB102     1.0         0.0      NaN  9.02  13.635      80.0     40\n",
              "2  AB103     1.0         NaN      1.0  9.02  13.635      80.0     32\n",
              "3  AB104     NaN         NaN      1.0  9.84  14.395      75.0     13\n",
              "4  AB105     1.0         0.0      NaN  9.84  14.395       NaN      1"
            ]
          },
          "metadata": {
            "tags": []
          },
          "execution_count": 16
        }
      ]
    },
    {
      "cell_type": "code",
      "metadata": {
        "id": "nwhWQQrGQAff",
        "colab_type": "code",
        "colab": {
          "base_uri": "https://localhost:8080/",
          "height": 283
        },
        "outputId": "05b8fb74-3053-48a1-ffcc-9cfbf784fa2b"
      },
      "source": [
        "new_data.info()"
      ],
      "execution_count": 17,
      "outputs": [
        {
          "output_type": "stream",
          "text": [
            "<class 'pandas.core.frame.DataFrame'>\n",
            "RangeIndex: 12980 entries, 0 to 12979\n",
            "Data columns (total 8 columns):\n",
            " #   Column      Non-Null Count  Dtype  \n",
            "---  ------      --------------  -----  \n",
            " 0   ID          12980 non-null  object \n",
            " 1   season      12971 non-null  float64\n",
            " 2   workingday  12971 non-null  float64\n",
            " 3   weather     12976 non-null  float64\n",
            " 4   temp        12980 non-null  float64\n",
            " 5   atemp       12980 non-null  float64\n",
            " 6   humidity    12975 non-null  float64\n",
            " 7   count       12980 non-null  int64  \n",
            "dtypes: float64(6), int64(1), object(1)\n",
            "memory usage: 811.4+ KB\n"
          ],
          "name": "stdout"
        }
      ]
    },
    {
      "cell_type": "code",
      "metadata": {
        "id": "TU6YTUkKQFZw",
        "colab_type": "code",
        "colab": {
          "base_uri": "https://localhost:8080/",
          "height": 176
        },
        "outputId": "3729cc7b-84cf-4f22-9136-42e6b173b4b8"
      },
      "source": [
        "new_data.isnull().sum()"
      ],
      "execution_count": 18,
      "outputs": [
        {
          "output_type": "execute_result",
          "data": {
            "text/plain": [
              "ID            0\n",
              "season        9\n",
              "workingday    9\n",
              "weather       4\n",
              "temp          0\n",
              "atemp         0\n",
              "humidity      5\n",
              "count         0\n",
              "dtype: int64"
            ]
          },
          "metadata": {
            "tags": []
          },
          "execution_count": 18
        }
      ]
    },
    {
      "cell_type": "code",
      "metadata": {
        "id": "BoufM-HvQK_T",
        "colab_type": "code",
        "colab": {
          "base_uri": "https://localhost:8080/",
          "height": 105
        },
        "outputId": "ef63083e-a0db-4dcd-d9f1-3735e22362ba"
      },
      "source": [
        "new_data.workingday.fillna(new_data.workingday.median(), inplace=True)\n",
        "new_data.weather.fillna(new_data.weather.median(), inplace=True)\n",
        "new_data.humidity.fillna(new_data.humidity.median(), inplace=True)\n",
        "new_data.season.fillna(new_data.season.median(), inplace=True)"
      ],
      "execution_count": 21,
      "outputs": [
        {
          "output_type": "stream",
          "text": [
            "/usr/local/lib/python3.6/dist-packages/pandas/core/generic.py:6245: SettingWithCopyWarning: \n",
            "A value is trying to be set on a copy of a slice from a DataFrame\n",
            "\n",
            "See the caveats in the documentation: https://pandas.pydata.org/pandas-docs/stable/user_guide/indexing.html#returning-a-view-versus-a-copy\n",
            "  self._update_inplace(new_data)\n"
          ],
          "name": "stderr"
        }
      ]
    },
    {
      "cell_type": "code",
      "metadata": {
        "id": "HB0tnnsrb-20",
        "colab_type": "code",
        "colab": {
          "base_uri": "https://localhost:8080/",
          "height": 176
        },
        "outputId": "c8cd4c65-3dc6-43b8-e0cb-8c6db5db9a65"
      },
      "source": [
        "new_data.isnull().sum()"
      ],
      "execution_count": 22,
      "outputs": [
        {
          "output_type": "execute_result",
          "data": {
            "text/plain": [
              "ID            0\n",
              "season        0\n",
              "workingday    0\n",
              "weather       0\n",
              "temp          0\n",
              "atemp         0\n",
              "humidity      0\n",
              "count         0\n",
              "dtype: int64"
            ]
          },
          "metadata": {
            "tags": []
          },
          "execution_count": 22
        }
      ]
    },
    {
      "cell_type": "markdown",
      "metadata": {
        "id": "6Hxf6GDtpPFa",
        "colab_type": "text"
      },
      "source": [
        "**Low variance filter**"
      ]
    },
    {
      "cell_type": "code",
      "metadata": {
        "id": "aKN2GIRRpR-v",
        "colab_type": "code",
        "colab": {}
      },
      "source": [
        "data=pd.read_csv(\"low_variance_filter-200306-194411.csv\")"
      ],
      "execution_count": 0,
      "outputs": []
    },
    {
      "cell_type": "code",
      "metadata": {
        "id": "0LhZF577pu6Z",
        "colab_type": "code",
        "colab": {
          "base_uri": "https://localhost:8080/",
          "height": 197
        },
        "outputId": "926e3b64-d8d0-4551-b3f0-126d8a8829ab"
      },
      "source": [
        "data.head()"
      ],
      "execution_count": 54,
      "outputs": [
        {
          "output_type": "execute_result",
          "data": {
            "text/html": [
              "<div>\n",
              "<style scoped>\n",
              "    .dataframe tbody tr th:only-of-type {\n",
              "        vertical-align: middle;\n",
              "    }\n",
              "\n",
              "    .dataframe tbody tr th {\n",
              "        vertical-align: top;\n",
              "    }\n",
              "\n",
              "    .dataframe thead th {\n",
              "        text-align: right;\n",
              "    }\n",
              "</style>\n",
              "<table border=\"1\" class=\"dataframe\">\n",
              "  <thead>\n",
              "    <tr style=\"text-align: right;\">\n",
              "      <th></th>\n",
              "      <th>ID</th>\n",
              "      <th>temp</th>\n",
              "      <th>atemp</th>\n",
              "      <th>humidity</th>\n",
              "      <th>windspeed</th>\n",
              "      <th>count</th>\n",
              "    </tr>\n",
              "  </thead>\n",
              "  <tbody>\n",
              "    <tr>\n",
              "      <th>0</th>\n",
              "      <td>AB101</td>\n",
              "      <td>9.84</td>\n",
              "      <td>14.395</td>\n",
              "      <td>81</td>\n",
              "      <td>0.0</td>\n",
              "      <td>16</td>\n",
              "    </tr>\n",
              "    <tr>\n",
              "      <th>1</th>\n",
              "      <td>AB102</td>\n",
              "      <td>9.02</td>\n",
              "      <td>13.635</td>\n",
              "      <td>80</td>\n",
              "      <td>0.0</td>\n",
              "      <td>40</td>\n",
              "    </tr>\n",
              "    <tr>\n",
              "      <th>2</th>\n",
              "      <td>AB103</td>\n",
              "      <td>9.02</td>\n",
              "      <td>13.635</td>\n",
              "      <td>80</td>\n",
              "      <td>0.0</td>\n",
              "      <td>32</td>\n",
              "    </tr>\n",
              "    <tr>\n",
              "      <th>3</th>\n",
              "      <td>AB104</td>\n",
              "      <td>9.84</td>\n",
              "      <td>14.395</td>\n",
              "      <td>75</td>\n",
              "      <td>0.0</td>\n",
              "      <td>13</td>\n",
              "    </tr>\n",
              "    <tr>\n",
              "      <th>4</th>\n",
              "      <td>AB105</td>\n",
              "      <td>9.84</td>\n",
              "      <td>14.395</td>\n",
              "      <td>75</td>\n",
              "      <td>0.0</td>\n",
              "      <td>1</td>\n",
              "    </tr>\n",
              "  </tbody>\n",
              "</table>\n",
              "</div>"
            ],
            "text/plain": [
              "      ID  temp   atemp  humidity  windspeed  count\n",
              "0  AB101  9.84  14.395        81        0.0     16\n",
              "1  AB102  9.02  13.635        80        0.0     40\n",
              "2  AB103  9.02  13.635        80        0.0     32\n",
              "3  AB104  9.84  14.395        75        0.0     13\n",
              "4  AB105  9.84  14.395        75        0.0      1"
            ]
          },
          "metadata": {
            "tags": []
          },
          "execution_count": 54
        }
      ]
    },
    {
      "cell_type": "code",
      "metadata": {
        "id": "Mc5jwwx_pyhj",
        "colab_type": "code",
        "colab": {
          "base_uri": "https://localhost:8080/",
          "height": 247
        },
        "outputId": "59cc5f52-9890-47ed-af57-644bd81a719b"
      },
      "source": [
        "data.info()"
      ],
      "execution_count": 55,
      "outputs": [
        {
          "output_type": "stream",
          "text": [
            "<class 'pandas.core.frame.DataFrame'>\n",
            "RangeIndex: 12980 entries, 0 to 12979\n",
            "Data columns (total 6 columns):\n",
            " #   Column     Non-Null Count  Dtype  \n",
            "---  ------     --------------  -----  \n",
            " 0   ID         12980 non-null  object \n",
            " 1   temp       12980 non-null  float64\n",
            " 2   atemp      12980 non-null  float64\n",
            " 3   humidity   12980 non-null  int64  \n",
            " 4   windspeed  12980 non-null  float64\n",
            " 5   count      12980 non-null  int64  \n",
            "dtypes: float64(3), int64(2), object(1)\n",
            "memory usage: 608.6+ KB\n"
          ],
          "name": "stdout"
        }
      ]
    },
    {
      "cell_type": "code",
      "metadata": {
        "id": "lGDM_ahmp-Q9",
        "colab_type": "code",
        "colab": {}
      },
      "source": [
        "data.drop('ID', axis=1, inplace=True)"
      ],
      "execution_count": 0,
      "outputs": []
    },
    {
      "cell_type": "code",
      "metadata": {
        "id": "GV5ntEhWqj9u",
        "colab_type": "code",
        "colab": {
          "base_uri": "https://localhost:8080/",
          "height": 123
        },
        "outputId": "92603ce5-a0ea-4838-f860-775a27fa8d75"
      },
      "source": [
        "data.var()"
      ],
      "execution_count": 57,
      "outputs": [
        {
          "output_type": "execute_result",
          "data": {
            "text/plain": [
              "temp            61.291712\n",
              "atemp           73.137484\n",
              "humidity       398.549141\n",
              "windspeed       69.322053\n",
              "count        25843.419864\n",
              "dtype: float64"
            ]
          },
          "metadata": {
            "tags": []
          },
          "execution_count": 57
        }
      ]
    },
    {
      "cell_type": "code",
      "metadata": {
        "id": "DY6H4DI5qELD",
        "colab_type": "code",
        "colab": {}
      },
      "source": [
        "normalizedata=normalize(data)"
      ],
      "execution_count": 0,
      "outputs": []
    },
    {
      "cell_type": "code",
      "metadata": {
        "id": "khQfQrsLqJkK",
        "colab_type": "code",
        "colab": {}
      },
      "source": [
        "data_scaled=pd.DataFrame(normalizedata)"
      ],
      "execution_count": 0,
      "outputs": []
    },
    {
      "cell_type": "code",
      "metadata": {
        "id": "y_bXv9e-q8gq",
        "colab_type": "code",
        "colab": {
          "base_uri": "https://localhost:8080/",
          "height": 406
        },
        "outputId": "31516f33-b6cd-4a32-83d4-ffda34935282"
      },
      "source": [
        "data_scaled"
      ],
      "execution_count": 60,
      "outputs": [
        {
          "output_type": "execute_result",
          "data": {
            "text/html": [
              "<div>\n",
              "<style scoped>\n",
              "    .dataframe tbody tr th:only-of-type {\n",
              "        vertical-align: middle;\n",
              "    }\n",
              "\n",
              "    .dataframe tbody tr th {\n",
              "        vertical-align: top;\n",
              "    }\n",
              "\n",
              "    .dataframe thead th {\n",
              "        text-align: right;\n",
              "    }\n",
              "</style>\n",
              "<table border=\"1\" class=\"dataframe\">\n",
              "  <thead>\n",
              "    <tr style=\"text-align: right;\">\n",
              "      <th></th>\n",
              "      <th>0</th>\n",
              "      <th>1</th>\n",
              "      <th>2</th>\n",
              "      <th>3</th>\n",
              "      <th>4</th>\n",
              "    </tr>\n",
              "  </thead>\n",
              "  <tbody>\n",
              "    <tr>\n",
              "      <th>0</th>\n",
              "      <td>0.116607</td>\n",
              "      <td>0.170585</td>\n",
              "      <td>0.959872</td>\n",
              "      <td>0.000000</td>\n",
              "      <td>0.189604</td>\n",
              "    </tr>\n",
              "    <tr>\n",
              "      <th>1</th>\n",
              "      <td>0.099203</td>\n",
              "      <td>0.149960</td>\n",
              "      <td>0.879850</td>\n",
              "      <td>0.000000</td>\n",
              "      <td>0.439925</td>\n",
              "    </tr>\n",
              "    <tr>\n",
              "      <th>2</th>\n",
              "      <td>0.102851</td>\n",
              "      <td>0.155473</td>\n",
              "      <td>0.912202</td>\n",
              "      <td>0.000000</td>\n",
              "      <td>0.364881</td>\n",
              "    </tr>\n",
              "    <tr>\n",
              "      <th>3</th>\n",
              "      <td>0.126009</td>\n",
              "      <td>0.184339</td>\n",
              "      <td>0.960431</td>\n",
              "      <td>0.000000</td>\n",
              "      <td>0.166475</td>\n",
              "    </tr>\n",
              "    <tr>\n",
              "      <th>4</th>\n",
              "      <td>0.127781</td>\n",
              "      <td>0.186932</td>\n",
              "      <td>0.973940</td>\n",
              "      <td>0.000000</td>\n",
              "      <td>0.012986</td>\n",
              "    </tr>\n",
              "    <tr>\n",
              "      <th>...</th>\n",
              "      <td>...</td>\n",
              "      <td>...</td>\n",
              "      <td>...</td>\n",
              "      <td>...</td>\n",
              "      <td>...</td>\n",
              "    </tr>\n",
              "    <tr>\n",
              "      <th>12975</th>\n",
              "      <td>0.119080</td>\n",
              "      <td>0.141100</td>\n",
              "      <td>0.132592</td>\n",
              "      <td>0.053662</td>\n",
              "      <td>0.972343</td>\n",
              "    </tr>\n",
              "    <tr>\n",
              "      <th>12976</th>\n",
              "      <td>0.142005</td>\n",
              "      <td>0.167801</td>\n",
              "      <td>0.213451</td>\n",
              "      <td>0.052348</td>\n",
              "      <td>0.950461</td>\n",
              "    </tr>\n",
              "    <tr>\n",
              "      <th>12977</th>\n",
              "      <td>0.183485</td>\n",
              "      <td>0.227392</td>\n",
              "      <td>0.343830</td>\n",
              "      <td>0.070938</td>\n",
              "      <td>0.889592</td>\n",
              "    </tr>\n",
              "    <tr>\n",
              "      <th>12978</th>\n",
              "      <td>0.348469</td>\n",
              "      <td>0.431855</td>\n",
              "      <td>0.652991</td>\n",
              "      <td>0.134723</td>\n",
              "      <td>0.497517</td>\n",
              "    </tr>\n",
              "    <tr>\n",
              "      <th>12979</th>\n",
              "      <td>0.219273</td>\n",
              "      <td>0.240582</td>\n",
              "      <td>0.743724</td>\n",
              "      <td>0.091933</td>\n",
              "      <td>0.576595</td>\n",
              "    </tr>\n",
              "  </tbody>\n",
              "</table>\n",
              "<p>12980 rows × 5 columns</p>\n",
              "</div>"
            ],
            "text/plain": [
              "              0         1         2         3         4\n",
              "0      0.116607  0.170585  0.959872  0.000000  0.189604\n",
              "1      0.099203  0.149960  0.879850  0.000000  0.439925\n",
              "2      0.102851  0.155473  0.912202  0.000000  0.364881\n",
              "3      0.126009  0.184339  0.960431  0.000000  0.166475\n",
              "4      0.127781  0.186932  0.973940  0.000000  0.012986\n",
              "...         ...       ...       ...       ...       ...\n",
              "12975  0.119080  0.141100  0.132592  0.053662  0.972343\n",
              "12976  0.142005  0.167801  0.213451  0.052348  0.950461\n",
              "12977  0.183485  0.227392  0.343830  0.070938  0.889592\n",
              "12978  0.348469  0.431855  0.652991  0.134723  0.497517\n",
              "12979  0.219273  0.240582  0.743724  0.091933  0.576595\n",
              "\n",
              "[12980 rows x 5 columns]"
            ]
          },
          "metadata": {
            "tags": []
          },
          "execution_count": 60
        }
      ]
    },
    {
      "cell_type": "code",
      "metadata": {
        "id": "AOCnLWbQqnsK",
        "colab_type": "code",
        "colab": {
          "base_uri": "https://localhost:8080/",
          "height": 123
        },
        "outputId": "10984038-53e7-4ac2-b68f-349d30315eb6"
      },
      "source": [
        "variance=data_scaled.var()\n",
        "variance"
      ],
      "execution_count": 61,
      "outputs": [
        {
          "output_type": "execute_result",
          "data": {
            "text/plain": [
              "0    0.005877\n",
              "1    0.007977\n",
              "2    0.093491\n",
              "3    0.008756\n",
              "4    0.111977\n",
              "dtype: float64"
            ]
          },
          "metadata": {
            "tags": []
          },
          "execution_count": 61
        }
      ]
    },
    {
      "cell_type": "code",
      "metadata": {
        "id": "jD_fmPS7qu3x",
        "colab_type": "code",
        "colab": {
          "base_uri": "https://localhost:8080/",
          "height": 34
        },
        "outputId": "c0434f89-19e7-4f8a-b3cc-a97a7bd74af9"
      },
      "source": [
        "variables=data.columns\n",
        "variables"
      ],
      "execution_count": 62,
      "outputs": [
        {
          "output_type": "execute_result",
          "data": {
            "text/plain": [
              "Index(['temp', 'atemp', 'humidity', 'windspeed', 'count'], dtype='object')"
            ]
          },
          "metadata": {
            "tags": []
          },
          "execution_count": 62
        }
      ]
    },
    {
      "cell_type": "code",
      "metadata": {
        "id": "2b5t0A5KrBIf",
        "colab_type": "code",
        "colab": {}
      },
      "source": [
        "variable=[]\n",
        "for i in range(0, len(variance)):\n",
        "  if variance[i]>0.006:\n",
        "    variable.append(variables[i])"
      ],
      "execution_count": 0,
      "outputs": []
    },
    {
      "cell_type": "code",
      "metadata": {
        "id": "ChRuVx7hrlOa",
        "colab_type": "code",
        "colab": {
          "base_uri": "https://localhost:8080/",
          "height": 34
        },
        "outputId": "d84fcc8a-63d2-492e-f828-5d508ba99277"
      },
      "source": [
        "variable\n"
      ],
      "execution_count": 64,
      "outputs": [
        {
          "output_type": "execute_result",
          "data": {
            "text/plain": [
              "['atemp', 'humidity', 'windspeed', 'count']"
            ]
          },
          "metadata": {
            "tags": []
          },
          "execution_count": 64
        }
      ]
    },
    {
      "cell_type": "code",
      "metadata": {
        "id": "23kqCY6brha1",
        "colab_type": "code",
        "colab": {
          "base_uri": "https://localhost:8080/",
          "height": 197
        },
        "outputId": "d4889f9e-4bbf-4e04-8037-023299e3b3f3"
      },
      "source": [
        "new_data=data[variable]\n",
        "new_data.head()"
      ],
      "execution_count": 65,
      "outputs": [
        {
          "output_type": "execute_result",
          "data": {
            "text/html": [
              "<div>\n",
              "<style scoped>\n",
              "    .dataframe tbody tr th:only-of-type {\n",
              "        vertical-align: middle;\n",
              "    }\n",
              "\n",
              "    .dataframe tbody tr th {\n",
              "        vertical-align: top;\n",
              "    }\n",
              "\n",
              "    .dataframe thead th {\n",
              "        text-align: right;\n",
              "    }\n",
              "</style>\n",
              "<table border=\"1\" class=\"dataframe\">\n",
              "  <thead>\n",
              "    <tr style=\"text-align: right;\">\n",
              "      <th></th>\n",
              "      <th>atemp</th>\n",
              "      <th>humidity</th>\n",
              "      <th>windspeed</th>\n",
              "      <th>count</th>\n",
              "    </tr>\n",
              "  </thead>\n",
              "  <tbody>\n",
              "    <tr>\n",
              "      <th>0</th>\n",
              "      <td>14.395</td>\n",
              "      <td>81</td>\n",
              "      <td>0.0</td>\n",
              "      <td>16</td>\n",
              "    </tr>\n",
              "    <tr>\n",
              "      <th>1</th>\n",
              "      <td>13.635</td>\n",
              "      <td>80</td>\n",
              "      <td>0.0</td>\n",
              "      <td>40</td>\n",
              "    </tr>\n",
              "    <tr>\n",
              "      <th>2</th>\n",
              "      <td>13.635</td>\n",
              "      <td>80</td>\n",
              "      <td>0.0</td>\n",
              "      <td>32</td>\n",
              "    </tr>\n",
              "    <tr>\n",
              "      <th>3</th>\n",
              "      <td>14.395</td>\n",
              "      <td>75</td>\n",
              "      <td>0.0</td>\n",
              "      <td>13</td>\n",
              "    </tr>\n",
              "    <tr>\n",
              "      <th>4</th>\n",
              "      <td>14.395</td>\n",
              "      <td>75</td>\n",
              "      <td>0.0</td>\n",
              "      <td>1</td>\n",
              "    </tr>\n",
              "  </tbody>\n",
              "</table>\n",
              "</div>"
            ],
            "text/plain": [
              "    atemp  humidity  windspeed  count\n",
              "0  14.395        81        0.0     16\n",
              "1  13.635        80        0.0     40\n",
              "2  13.635        80        0.0     32\n",
              "3  14.395        75        0.0     13\n",
              "4  14.395        75        0.0      1"
            ]
          },
          "metadata": {
            "tags": []
          },
          "execution_count": 65
        }
      ]
    },
    {
      "cell_type": "markdown",
      "metadata": {
        "id": "Zf2K55kqvdfZ",
        "colab_type": "text"
      },
      "source": [
        "**Backward feature elimination**"
      ]
    },
    {
      "cell_type": "code",
      "metadata": {
        "id": "dsAGZ3JPxVs8",
        "colab_type": "code",
        "colab": {}
      },
      "source": [
        "data=pd.read_csv(\"backward_feature_elimination-200308-140938.csv\")"
      ],
      "execution_count": 0,
      "outputs": []
    },
    {
      "cell_type": "code",
      "metadata": {
        "id": "bATSgeskxglw",
        "colab_type": "code",
        "colab": {
          "base_uri": "https://localhost:8080/",
          "height": 197
        },
        "outputId": "d0439250-b3d9-42c8-b848-0a333b3f77ab"
      },
      "source": [
        "data.head()"
      ],
      "execution_count": 68,
      "outputs": [
        {
          "output_type": "execute_result",
          "data": {
            "text/html": [
              "<div>\n",
              "<style scoped>\n",
              "    .dataframe tbody tr th:only-of-type {\n",
              "        vertical-align: middle;\n",
              "    }\n",
              "\n",
              "    .dataframe tbody tr th {\n",
              "        vertical-align: top;\n",
              "    }\n",
              "\n",
              "    .dataframe thead th {\n",
              "        text-align: right;\n",
              "    }\n",
              "</style>\n",
              "<table border=\"1\" class=\"dataframe\">\n",
              "  <thead>\n",
              "    <tr style=\"text-align: right;\">\n",
              "      <th></th>\n",
              "      <th>ID</th>\n",
              "      <th>season</th>\n",
              "      <th>holiday</th>\n",
              "      <th>workingday</th>\n",
              "      <th>weather</th>\n",
              "      <th>temp</th>\n",
              "      <th>humidity</th>\n",
              "      <th>windspeed</th>\n",
              "      <th>count</th>\n",
              "    </tr>\n",
              "  </thead>\n",
              "  <tbody>\n",
              "    <tr>\n",
              "      <th>0</th>\n",
              "      <td>AB101</td>\n",
              "      <td>1</td>\n",
              "      <td>0</td>\n",
              "      <td>0</td>\n",
              "      <td>1</td>\n",
              "      <td>9.84</td>\n",
              "      <td>81</td>\n",
              "      <td>0.0</td>\n",
              "      <td>16</td>\n",
              "    </tr>\n",
              "    <tr>\n",
              "      <th>1</th>\n",
              "      <td>AB102</td>\n",
              "      <td>1</td>\n",
              "      <td>0</td>\n",
              "      <td>0</td>\n",
              "      <td>1</td>\n",
              "      <td>9.02</td>\n",
              "      <td>80</td>\n",
              "      <td>0.0</td>\n",
              "      <td>40</td>\n",
              "    </tr>\n",
              "    <tr>\n",
              "      <th>2</th>\n",
              "      <td>AB103</td>\n",
              "      <td>1</td>\n",
              "      <td>0</td>\n",
              "      <td>0</td>\n",
              "      <td>1</td>\n",
              "      <td>9.02</td>\n",
              "      <td>80</td>\n",
              "      <td>0.0</td>\n",
              "      <td>32</td>\n",
              "    </tr>\n",
              "    <tr>\n",
              "      <th>3</th>\n",
              "      <td>AB104</td>\n",
              "      <td>1</td>\n",
              "      <td>0</td>\n",
              "      <td>0</td>\n",
              "      <td>1</td>\n",
              "      <td>9.84</td>\n",
              "      <td>75</td>\n",
              "      <td>0.0</td>\n",
              "      <td>13</td>\n",
              "    </tr>\n",
              "    <tr>\n",
              "      <th>4</th>\n",
              "      <td>AB105</td>\n",
              "      <td>1</td>\n",
              "      <td>0</td>\n",
              "      <td>0</td>\n",
              "      <td>1</td>\n",
              "      <td>9.84</td>\n",
              "      <td>75</td>\n",
              "      <td>0.0</td>\n",
              "      <td>1</td>\n",
              "    </tr>\n",
              "  </tbody>\n",
              "</table>\n",
              "</div>"
            ],
            "text/plain": [
              "      ID  season  holiday  workingday  ...  temp  humidity  windspeed  count\n",
              "0  AB101       1        0           0  ...  9.84        81        0.0     16\n",
              "1  AB102       1        0           0  ...  9.02        80        0.0     40\n",
              "2  AB103       1        0           0  ...  9.02        80        0.0     32\n",
              "3  AB104       1        0           0  ...  9.84        75        0.0     13\n",
              "4  AB105       1        0           0  ...  9.84        75        0.0      1\n",
              "\n",
              "[5 rows x 9 columns]"
            ]
          },
          "metadata": {
            "tags": []
          },
          "execution_count": 68
        }
      ]
    },
    {
      "cell_type": "code",
      "metadata": {
        "id": "Xmi78tEUxh6k",
        "colab_type": "code",
        "colab": {
          "base_uri": "https://localhost:8080/",
          "height": 34
        },
        "outputId": "456784a6-1d49-46dc-b48c-1438b1aa2ded"
      },
      "source": [
        "data.shape"
      ],
      "execution_count": 69,
      "outputs": [
        {
          "output_type": "execute_result",
          "data": {
            "text/plain": [
              "(12980, 9)"
            ]
          },
          "metadata": {
            "tags": []
          },
          "execution_count": 69
        }
      ]
    },
    {
      "cell_type": "code",
      "metadata": {
        "id": "HIPAD_DzxoGp",
        "colab_type": "code",
        "colab": {
          "base_uri": "https://localhost:8080/",
          "height": 301
        },
        "outputId": "c45bde36-31f4-4f17-cd0d-87ee5820cd6d"
      },
      "source": [
        "data.info()"
      ],
      "execution_count": 70,
      "outputs": [
        {
          "output_type": "stream",
          "text": [
            "<class 'pandas.core.frame.DataFrame'>\n",
            "RangeIndex: 12980 entries, 0 to 12979\n",
            "Data columns (total 9 columns):\n",
            " #   Column      Non-Null Count  Dtype  \n",
            "---  ------      --------------  -----  \n",
            " 0   ID          12980 non-null  object \n",
            " 1   season      12980 non-null  int64  \n",
            " 2   holiday     12980 non-null  int64  \n",
            " 3   workingday  12980 non-null  int64  \n",
            " 4   weather     12980 non-null  int64  \n",
            " 5   temp        12980 non-null  float64\n",
            " 6   humidity    12980 non-null  int64  \n",
            " 7   windspeed   12980 non-null  float64\n",
            " 8   count       12980 non-null  int64  \n",
            "dtypes: float64(2), int64(6), object(1)\n",
            "memory usage: 912.8+ KB\n"
          ],
          "name": "stdout"
        }
      ]
    },
    {
      "cell_type": "code",
      "metadata": {
        "id": "cda4-0koxq1a",
        "colab_type": "code",
        "colab": {}
      },
      "source": [
        "X=data.drop(['ID', 'count'], axis=1).copy()\n",
        "y=data['count'].copy()"
      ],
      "execution_count": 0,
      "outputs": []
    },
    {
      "cell_type": "code",
      "metadata": {
        "id": "GjOvPRiPx5_v",
        "colab_type": "code",
        "colab": {
          "base_uri": "https://localhost:8080/",
          "height": 34
        },
        "outputId": "7b017a1d-6b12-43fa-d222-75e3c4d652e6"
      },
      "source": [
        "X.shape"
      ],
      "execution_count": 86,
      "outputs": [
        {
          "output_type": "execute_result",
          "data": {
            "text/plain": [
              "(12980, 7)"
            ]
          },
          "metadata": {
            "tags": []
          },
          "execution_count": 86
        }
      ]
    },
    {
      "cell_type": "code",
      "metadata": {
        "id": "ajKujpyGy42C",
        "colab_type": "code",
        "colab": {
          "base_uri": "https://localhost:8080/",
          "height": 70
        },
        "outputId": "9591bc97-86ff-4c30-87f7-2c8753f57cc5"
      },
      "source": [
        "X.columns"
      ],
      "execution_count": 87,
      "outputs": [
        {
          "output_type": "execute_result",
          "data": {
            "text/plain": [
              "Index(['season', 'holiday', 'workingday', 'weather', 'temp', 'humidity',\n",
              "       'windspeed'],\n",
              "      dtype='object')"
            ]
          },
          "metadata": {
            "tags": []
          },
          "execution_count": 87
        }
      ]
    },
    {
      "cell_type": "code",
      "metadata": {
        "id": "uikDLL8dy7WC",
        "colab_type": "code",
        "colab": {
          "base_uri": "https://localhost:8080/",
          "height": 158
        },
        "outputId": "4dab0ba4-e6a8-4d13-bd0e-2a2919910d02"
      },
      "source": [
        "X.isnull().sum()"
      ],
      "execution_count": 88,
      "outputs": [
        {
          "output_type": "execute_result",
          "data": {
            "text/plain": [
              "season        0\n",
              "holiday       0\n",
              "workingday    0\n",
              "weather       0\n",
              "temp          0\n",
              "humidity      0\n",
              "windspeed     0\n",
              "dtype: int64"
            ]
          },
          "metadata": {
            "tags": []
          },
          "execution_count": 88
        }
      ]
    },
    {
      "cell_type": "code",
      "metadata": {
        "id": "fOJpJlGvzRoe",
        "colab_type": "code",
        "colab": {
          "base_uri": "https://localhost:8080/",
          "height": 197
        },
        "outputId": "441ac2ed-386d-4d10-a80f-10940e54fa48"
      },
      "source": [
        "X.head()"
      ],
      "execution_count": 89,
      "outputs": [
        {
          "output_type": "execute_result",
          "data": {
            "text/html": [
              "<div>\n",
              "<style scoped>\n",
              "    .dataframe tbody tr th:only-of-type {\n",
              "        vertical-align: middle;\n",
              "    }\n",
              "\n",
              "    .dataframe tbody tr th {\n",
              "        vertical-align: top;\n",
              "    }\n",
              "\n",
              "    .dataframe thead th {\n",
              "        text-align: right;\n",
              "    }\n",
              "</style>\n",
              "<table border=\"1\" class=\"dataframe\">\n",
              "  <thead>\n",
              "    <tr style=\"text-align: right;\">\n",
              "      <th></th>\n",
              "      <th>season</th>\n",
              "      <th>holiday</th>\n",
              "      <th>workingday</th>\n",
              "      <th>weather</th>\n",
              "      <th>temp</th>\n",
              "      <th>humidity</th>\n",
              "      <th>windspeed</th>\n",
              "    </tr>\n",
              "  </thead>\n",
              "  <tbody>\n",
              "    <tr>\n",
              "      <th>0</th>\n",
              "      <td>1</td>\n",
              "      <td>0</td>\n",
              "      <td>0</td>\n",
              "      <td>1</td>\n",
              "      <td>9.84</td>\n",
              "      <td>81</td>\n",
              "      <td>0.0</td>\n",
              "    </tr>\n",
              "    <tr>\n",
              "      <th>1</th>\n",
              "      <td>1</td>\n",
              "      <td>0</td>\n",
              "      <td>0</td>\n",
              "      <td>1</td>\n",
              "      <td>9.02</td>\n",
              "      <td>80</td>\n",
              "      <td>0.0</td>\n",
              "    </tr>\n",
              "    <tr>\n",
              "      <th>2</th>\n",
              "      <td>1</td>\n",
              "      <td>0</td>\n",
              "      <td>0</td>\n",
              "      <td>1</td>\n",
              "      <td>9.02</td>\n",
              "      <td>80</td>\n",
              "      <td>0.0</td>\n",
              "    </tr>\n",
              "    <tr>\n",
              "      <th>3</th>\n",
              "      <td>1</td>\n",
              "      <td>0</td>\n",
              "      <td>0</td>\n",
              "      <td>1</td>\n",
              "      <td>9.84</td>\n",
              "      <td>75</td>\n",
              "      <td>0.0</td>\n",
              "    </tr>\n",
              "    <tr>\n",
              "      <th>4</th>\n",
              "      <td>1</td>\n",
              "      <td>0</td>\n",
              "      <td>0</td>\n",
              "      <td>1</td>\n",
              "      <td>9.84</td>\n",
              "      <td>75</td>\n",
              "      <td>0.0</td>\n",
              "    </tr>\n",
              "  </tbody>\n",
              "</table>\n",
              "</div>"
            ],
            "text/plain": [
              "   season  holiday  workingday  weather  temp  humidity  windspeed\n",
              "0       1        0           0        1  9.84        81        0.0\n",
              "1       1        0           0        1  9.02        80        0.0\n",
              "2       1        0           0        1  9.02        80        0.0\n",
              "3       1        0           0        1  9.84        75        0.0\n",
              "4       1        0           0        1  9.84        75        0.0"
            ]
          },
          "metadata": {
            "tags": []
          },
          "execution_count": 89
        }
      ]
    },
    {
      "cell_type": "code",
      "metadata": {
        "id": "DjD49-cBx89r",
        "colab_type": "code",
        "colab": {
          "base_uri": "https://localhost:8080/",
          "height": 34
        },
        "outputId": "8264e0fb-896b-4541-c15e-19ed427f6a7b"
      },
      "source": [
        "y.shape"
      ],
      "execution_count": 90,
      "outputs": [
        {
          "output_type": "execute_result",
          "data": {
            "text/plain": [
              "(12980,)"
            ]
          },
          "metadata": {
            "tags": []
          },
          "execution_count": 90
        }
      ]
    },
    {
      "cell_type": "code",
      "metadata": {
        "id": "c9ynUUQ_x_Pq",
        "colab_type": "code",
        "colab": {
          "base_uri": "https://localhost:8080/",
          "height": 285
        },
        "outputId": "d5405fe3-4ef6-441d-9e38-06d341a224b3"
      },
      "source": [
        "!pip install mlxtend"
      ],
      "execution_count": 74,
      "outputs": [
        {
          "output_type": "stream",
          "text": [
            "Requirement already satisfied: mlxtend in /usr/local/lib/python3.6/dist-packages (0.14.0)\n",
            "Requirement already satisfied: scikit-learn>=0.18 in /usr/local/lib/python3.6/dist-packages (from mlxtend) (0.22.2.post1)\n",
            "Requirement already satisfied: matplotlib>=1.5.1 in /usr/local/lib/python3.6/dist-packages (from mlxtend) (3.2.1)\n",
            "Requirement already satisfied: scipy>=0.17 in /usr/local/lib/python3.6/dist-packages (from mlxtend) (1.4.1)\n",
            "Requirement already satisfied: setuptools in /usr/local/lib/python3.6/dist-packages (from mlxtend) (46.3.0)\n",
            "Requirement already satisfied: numpy>=1.10.4 in /usr/local/lib/python3.6/dist-packages (from mlxtend) (1.18.4)\n",
            "Requirement already satisfied: pandas>=0.17.1 in /usr/local/lib/python3.6/dist-packages (from mlxtend) (1.0.3)\n",
            "Requirement already satisfied: joblib>=0.11 in /usr/local/lib/python3.6/dist-packages (from scikit-learn>=0.18->mlxtend) (0.14.1)\n",
            "Requirement already satisfied: kiwisolver>=1.0.1 in /usr/local/lib/python3.6/dist-packages (from matplotlib>=1.5.1->mlxtend) (1.2.0)\n",
            "Requirement already satisfied: python-dateutil>=2.1 in /usr/local/lib/python3.6/dist-packages (from matplotlib>=1.5.1->mlxtend) (2.8.1)\n",
            "Requirement already satisfied: cycler>=0.10 in /usr/local/lib/python3.6/dist-packages (from matplotlib>=1.5.1->mlxtend) (0.10.0)\n",
            "Requirement already satisfied: pyparsing!=2.0.4,!=2.1.2,!=2.1.6,>=2.0.1 in /usr/local/lib/python3.6/dist-packages (from matplotlib>=1.5.1->mlxtend) (2.4.7)\n",
            "Requirement already satisfied: pytz>=2017.2 in /usr/local/lib/python3.6/dist-packages (from pandas>=0.17.1->mlxtend) (2018.9)\n",
            "Requirement already satisfied: six>=1.5 in /usr/local/lib/python3.6/dist-packages (from python-dateutil>=2.1->matplotlib>=1.5.1->mlxtend) (1.12.0)\n"
          ],
          "name": "stdout"
        }
      ]
    },
    {
      "cell_type": "code",
      "metadata": {
        "id": "QWXQ8HNKyFRi",
        "colab_type": "code",
        "colab": {}
      },
      "source": [
        "from mlxtend.feature_selection import SequentialFeatureSelector as sfs\n",
        "from sklearn.linear_model import LinearRegression"
      ],
      "execution_count": 0,
      "outputs": []
    },
    {
      "cell_type": "code",
      "metadata": {
        "id": "sXVUdfXPyU-D",
        "colab_type": "code",
        "colab": {}
      },
      "source": [
        "lreg=LinearRegression()"
      ],
      "execution_count": 0,
      "outputs": []
    },
    {
      "cell_type": "code",
      "metadata": {
        "id": "DWdkwPgSycMi",
        "colab_type": "code",
        "colab": {}
      },
      "source": [
        "sfsl=sfs(lreg, k_features=4, forward=False,  verbose=1, scoring='neg_mean_squared_error')"
      ],
      "execution_count": 0,
      "outputs": []
    },
    {
      "cell_type": "code",
      "metadata": {
        "id": "w-_g3As81nFQ",
        "colab_type": "code",
        "colab": {
          "base_uri": "https://localhost:8080/",
          "height": 141
        },
        "outputId": "6f15c5f5-c4af-4482-871b-52b750afc59f"
      },
      "source": [
        "X.values[:,:]"
      ],
      "execution_count": 109,
      "outputs": [
        {
          "output_type": "execute_result",
          "data": {
            "text/plain": [
              "array([[ 1.    ,  0.    ,  0.    , ...,  9.84  , 81.    ,  0.    ],\n",
              "       [ 1.    ,  0.    ,  0.    , ...,  9.02  , 80.    ,  0.    ],\n",
              "       [ 1.    ,  0.    ,  0.    , ...,  9.02  , 80.    ,  0.    ],\n",
              "       ...,\n",
              "       [ 3.    ,  0.    ,  1.    , ..., 33.62  , 63.    , 12.998 ],\n",
              "       [ 3.    ,  0.    ,  1.    , ..., 33.62  , 63.    , 12.998 ],\n",
              "       [ 3.    ,  0.    ,  0.    , ..., 26.24  , 89.    , 11.0014]])"
            ]
          },
          "metadata": {
            "tags": []
          },
          "execution_count": 109
        }
      ]
    },
    {
      "cell_type": "code",
      "metadata": {
        "id": "peU0aug6yyMP",
        "colab_type": "code",
        "colab": {
          "base_uri": "https://localhost:8080/",
          "height": 141
        },
        "outputId": "f813954a-7845-4b58-d60b-620ce9e6f82b"
      },
      "source": [
        "sfsl=sfsl.fit(X.values[:,:], y)"
      ],
      "execution_count": 112,
      "outputs": [
        {
          "output_type": "stream",
          "text": [
            "[Parallel(n_jobs=1)]: Using backend SequentialBackend with 1 concurrent workers.\n",
            "[Parallel(n_jobs=1)]: Done   7 out of   7 | elapsed:    0.2s finished\n",
            "Features: 6/4[Parallel(n_jobs=1)]: Using backend SequentialBackend with 1 concurrent workers.\n",
            "[Parallel(n_jobs=1)]: Done   6 out of   6 | elapsed:    0.2s finished\n",
            "Features: 5/4[Parallel(n_jobs=1)]: Using backend SequentialBackend with 1 concurrent workers.\n",
            "[Parallel(n_jobs=1)]: Done   5 out of   5 | elapsed:    0.1s finished\n",
            "Features: 4/4"
          ],
          "name": "stderr"
        }
      ]
    },
    {
      "cell_type": "code",
      "metadata": {
        "id": "4FTTSGN01ZOX",
        "colab_type": "code",
        "colab": {
          "base_uri": "https://localhost:8080/",
          "height": 34
        },
        "outputId": "946ee2e1-db12-4630-945b-3794b91fd900"
      },
      "source": [
        "feat_names=list(sfsl.k_feature_names_)\n",
        "feat_names"
      ],
      "execution_count": 113,
      "outputs": [
        {
          "output_type": "execute_result",
          "data": {
            "text/plain": [
              "['1', '2', '4', '5']"
            ]
          },
          "metadata": {
            "tags": []
          },
          "execution_count": 113
        }
      ]
    },
    {
      "cell_type": "code",
      "metadata": {
        "id": "3ePiMo_u1zq1",
        "colab_type": "code",
        "colab": {
          "base_uri": "https://localhost:8080/",
          "height": 372
        },
        "outputId": "c1b9f134-69bd-4ab0-bf15-ba46731c0248"
      },
      "source": [
        "sfsl.subsets_"
      ],
      "execution_count": 114,
      "outputs": [
        {
          "output_type": "execute_result",
          "data": {
            "text/plain": [
              "{4: {'avg_score': -21477.988573502796,\n",
              "  'cv_scores': array([-10703.63706214, -23425.25620717, -15550.4025171 , -14343.30493739,\n",
              "         -43367.34214371]),\n",
              "  'feature_idx': (1, 2, 4, 5),\n",
              "  'feature_names': ('1', '2', '4', '5')},\n",
              " 5: {'avg_score': -21555.457835854595,\n",
              "  'cv_scores': array([-10896.62593315, -23602.54703483, -15546.7587031 , -14371.5662685 ,\n",
              "         -43359.7912397 ]),\n",
              "  'feature_idx': (1, 2, 3, 4, 5),\n",
              "  'feature_names': ('1', '2', '3', '4', '5')},\n",
              " 6: {'avg_score': -21618.48384431219,\n",
              "  'cv_scores': array([-11017.71479872, -23692.48265533, -15593.9086543 , -14444.04658077,\n",
              "         -43344.26653245]),\n",
              "  'feature_idx': (1, 2, 3, 4, 5, 6),\n",
              "  'feature_names': ('1', '2', '3', '4', '5', '6')},\n",
              " 7: {'avg_score': -21987.18252699558,\n",
              "  'cv_scores': array([-11565.42516267, -23757.96572378, -15985.44252655, -14450.66534385,\n",
              "         -44176.41387812]),\n",
              "  'feature_idx': (0, 1, 2, 3, 4, 5, 6),\n",
              "  'feature_names': ('0', '1', '2', '3', '4', '5', '6')}}"
            ]
          },
          "metadata": {
            "tags": []
          },
          "execution_count": 114
        }
      ]
    },
    {
      "cell_type": "markdown",
      "metadata": {
        "id": "pufc9GGi2pZK",
        "colab_type": "text"
      },
      "source": [
        "1->holiday\n",
        "\n",
        "2->workingday\n",
        "\n",
        "4->temp\n",
        "\n",
        "5->humidity"
      ]
    },
    {
      "cell_type": "code",
      "metadata": {
        "id": "_F3qyEE02zdu",
        "colab_type": "code",
        "colab": {
          "base_uri": "https://localhost:8080/",
          "height": 197
        },
        "outputId": "138fc66f-142b-42d6-b13a-1f26231eed56"
      },
      "source": [
        "new_data=data[['holiday','workingday','temp', 'humidity']].copy()\n",
        "new_data['count']=data['count'].copy()\n",
        "new_data.head()"
      ],
      "execution_count": 116,
      "outputs": [
        {
          "output_type": "execute_result",
          "data": {
            "text/html": [
              "<div>\n",
              "<style scoped>\n",
              "    .dataframe tbody tr th:only-of-type {\n",
              "        vertical-align: middle;\n",
              "    }\n",
              "\n",
              "    .dataframe tbody tr th {\n",
              "        vertical-align: top;\n",
              "    }\n",
              "\n",
              "    .dataframe thead th {\n",
              "        text-align: right;\n",
              "    }\n",
              "</style>\n",
              "<table border=\"1\" class=\"dataframe\">\n",
              "  <thead>\n",
              "    <tr style=\"text-align: right;\">\n",
              "      <th></th>\n",
              "      <th>holiday</th>\n",
              "      <th>workingday</th>\n",
              "      <th>temp</th>\n",
              "      <th>humidity</th>\n",
              "      <th>count</th>\n",
              "    </tr>\n",
              "  </thead>\n",
              "  <tbody>\n",
              "    <tr>\n",
              "      <th>0</th>\n",
              "      <td>0</td>\n",
              "      <td>0</td>\n",
              "      <td>9.84</td>\n",
              "      <td>81</td>\n",
              "      <td>16</td>\n",
              "    </tr>\n",
              "    <tr>\n",
              "      <th>1</th>\n",
              "      <td>0</td>\n",
              "      <td>0</td>\n",
              "      <td>9.02</td>\n",
              "      <td>80</td>\n",
              "      <td>40</td>\n",
              "    </tr>\n",
              "    <tr>\n",
              "      <th>2</th>\n",
              "      <td>0</td>\n",
              "      <td>0</td>\n",
              "      <td>9.02</td>\n",
              "      <td>80</td>\n",
              "      <td>32</td>\n",
              "    </tr>\n",
              "    <tr>\n",
              "      <th>3</th>\n",
              "      <td>0</td>\n",
              "      <td>0</td>\n",
              "      <td>9.84</td>\n",
              "      <td>75</td>\n",
              "      <td>13</td>\n",
              "    </tr>\n",
              "    <tr>\n",
              "      <th>4</th>\n",
              "      <td>0</td>\n",
              "      <td>0</td>\n",
              "      <td>9.84</td>\n",
              "      <td>75</td>\n",
              "      <td>1</td>\n",
              "    </tr>\n",
              "  </tbody>\n",
              "</table>\n",
              "</div>"
            ],
            "text/plain": [
              "   holiday  workingday  temp  humidity  count\n",
              "0        0           0  9.84        81     16\n",
              "1        0           0  9.02        80     40\n",
              "2        0           0  9.02        80     32\n",
              "3        0           0  9.84        75     13\n",
              "4        0           0  9.84        75      1"
            ]
          },
          "metadata": {
            "tags": []
          },
          "execution_count": 116
        }
      ]
    },
    {
      "cell_type": "markdown",
      "metadata": {
        "id": "133gKcCU4L8o",
        "colab_type": "text"
      },
      "source": [
        "**Forward feature selection**"
      ]
    },
    {
      "cell_type": "code",
      "metadata": {
        "id": "itSBKIrJ4SCk",
        "colab_type": "code",
        "colab": {}
      },
      "source": [
        "data=pd.read_csv(\"backward_feature_elimination-200308-140938.csv\")"
      ],
      "execution_count": 0,
      "outputs": []
    },
    {
      "cell_type": "code",
      "metadata": {
        "id": "ZnSSusCq4W00",
        "colab_type": "code",
        "colab": {
          "base_uri": "https://localhost:8080/",
          "height": 197
        },
        "outputId": "28f97153-ce4c-447a-9d5b-689477969d54"
      },
      "source": [
        "data.head()"
      ],
      "execution_count": 118,
      "outputs": [
        {
          "output_type": "execute_result",
          "data": {
            "text/html": [
              "<div>\n",
              "<style scoped>\n",
              "    .dataframe tbody tr th:only-of-type {\n",
              "        vertical-align: middle;\n",
              "    }\n",
              "\n",
              "    .dataframe tbody tr th {\n",
              "        vertical-align: top;\n",
              "    }\n",
              "\n",
              "    .dataframe thead th {\n",
              "        text-align: right;\n",
              "    }\n",
              "</style>\n",
              "<table border=\"1\" class=\"dataframe\">\n",
              "  <thead>\n",
              "    <tr style=\"text-align: right;\">\n",
              "      <th></th>\n",
              "      <th>ID</th>\n",
              "      <th>season</th>\n",
              "      <th>holiday</th>\n",
              "      <th>workingday</th>\n",
              "      <th>weather</th>\n",
              "      <th>temp</th>\n",
              "      <th>humidity</th>\n",
              "      <th>windspeed</th>\n",
              "      <th>count</th>\n",
              "    </tr>\n",
              "  </thead>\n",
              "  <tbody>\n",
              "    <tr>\n",
              "      <th>0</th>\n",
              "      <td>AB101</td>\n",
              "      <td>1</td>\n",
              "      <td>0</td>\n",
              "      <td>0</td>\n",
              "      <td>1</td>\n",
              "      <td>9.84</td>\n",
              "      <td>81</td>\n",
              "      <td>0.0</td>\n",
              "      <td>16</td>\n",
              "    </tr>\n",
              "    <tr>\n",
              "      <th>1</th>\n",
              "      <td>AB102</td>\n",
              "      <td>1</td>\n",
              "      <td>0</td>\n",
              "      <td>0</td>\n",
              "      <td>1</td>\n",
              "      <td>9.02</td>\n",
              "      <td>80</td>\n",
              "      <td>0.0</td>\n",
              "      <td>40</td>\n",
              "    </tr>\n",
              "    <tr>\n",
              "      <th>2</th>\n",
              "      <td>AB103</td>\n",
              "      <td>1</td>\n",
              "      <td>0</td>\n",
              "      <td>0</td>\n",
              "      <td>1</td>\n",
              "      <td>9.02</td>\n",
              "      <td>80</td>\n",
              "      <td>0.0</td>\n",
              "      <td>32</td>\n",
              "    </tr>\n",
              "    <tr>\n",
              "      <th>3</th>\n",
              "      <td>AB104</td>\n",
              "      <td>1</td>\n",
              "      <td>0</td>\n",
              "      <td>0</td>\n",
              "      <td>1</td>\n",
              "      <td>9.84</td>\n",
              "      <td>75</td>\n",
              "      <td>0.0</td>\n",
              "      <td>13</td>\n",
              "    </tr>\n",
              "    <tr>\n",
              "      <th>4</th>\n",
              "      <td>AB105</td>\n",
              "      <td>1</td>\n",
              "      <td>0</td>\n",
              "      <td>0</td>\n",
              "      <td>1</td>\n",
              "      <td>9.84</td>\n",
              "      <td>75</td>\n",
              "      <td>0.0</td>\n",
              "      <td>1</td>\n",
              "    </tr>\n",
              "  </tbody>\n",
              "</table>\n",
              "</div>"
            ],
            "text/plain": [
              "      ID  season  holiday  workingday  ...  temp  humidity  windspeed  count\n",
              "0  AB101       1        0           0  ...  9.84        81        0.0     16\n",
              "1  AB102       1        0           0  ...  9.02        80        0.0     40\n",
              "2  AB103       1        0           0  ...  9.02        80        0.0     32\n",
              "3  AB104       1        0           0  ...  9.84        75        0.0     13\n",
              "4  AB105       1        0           0  ...  9.84        75        0.0      1\n",
              "\n",
              "[5 rows x 9 columns]"
            ]
          },
          "metadata": {
            "tags": []
          },
          "execution_count": 118
        }
      ]
    },
    {
      "cell_type": "code",
      "metadata": {
        "id": "Gt6pds874YeT",
        "colab_type": "code",
        "colab": {
          "base_uri": "https://localhost:8080/",
          "height": 194
        },
        "outputId": "1197521b-ab0e-4fc7-95d2-905b9be494ce"
      },
      "source": [
        "data.isnull().sum()"
      ],
      "execution_count": 119,
      "outputs": [
        {
          "output_type": "execute_result",
          "data": {
            "text/plain": [
              "ID            0\n",
              "season        0\n",
              "holiday       0\n",
              "workingday    0\n",
              "weather       0\n",
              "temp          0\n",
              "humidity      0\n",
              "windspeed     0\n",
              "count         0\n",
              "dtype: int64"
            ]
          },
          "metadata": {
            "tags": []
          },
          "execution_count": 119
        }
      ]
    },
    {
      "cell_type": "code",
      "metadata": {
        "id": "-g-_mzdb4gQd",
        "colab_type": "code",
        "colab": {}
      },
      "source": [
        "X=data.drop(['ID', 'count'], axis=1).copy()\n",
        "y=data['count'].copy()"
      ],
      "execution_count": 0,
      "outputs": []
    },
    {
      "cell_type": "code",
      "metadata": {
        "id": "qcGZR7GV4oQT",
        "colab_type": "code",
        "colab": {}
      },
      "source": [
        "lreg=LinearRegression()"
      ],
      "execution_count": 0,
      "outputs": []
    },
    {
      "cell_type": "code",
      "metadata": {
        "id": "0GdY3fri4qrq",
        "colab_type": "code",
        "colab": {}
      },
      "source": [
        "sfsl=sfs(lreg, k_features=4, forward=True,  verbose=2, scoring='neg_mean_squared_error')"
      ],
      "execution_count": 0,
      "outputs": []
    },
    {
      "cell_type": "code",
      "metadata": {
        "id": "m-r_p36j4vwF",
        "colab_type": "code",
        "colab": {
          "base_uri": "https://localhost:8080/",
          "height": 338
        },
        "outputId": "0751cf23-fb1c-4b4c-bdf6-4fe9f7d8e20b"
      },
      "source": [
        "sfsl=sfsl.fit(X, y)"
      ],
      "execution_count": 124,
      "outputs": [
        {
          "output_type": "stream",
          "text": [
            "[Parallel(n_jobs=1)]: Using backend SequentialBackend with 1 concurrent workers.\n",
            "[Parallel(n_jobs=1)]: Done   1 out of   1 | elapsed:    0.0s remaining:    0.0s\n",
            "[Parallel(n_jobs=1)]: Done   7 out of   7 | elapsed:    0.1s finished\n",
            "\n",
            "[2020-05-17 13:46:57] Features: 1/4 -- score: -23364.955503180994[Parallel(n_jobs=1)]: Using backend SequentialBackend with 1 concurrent workers.\n",
            "[Parallel(n_jobs=1)]: Done   1 out of   1 | elapsed:    0.0s remaining:    0.0s\n",
            "[Parallel(n_jobs=1)]: Done   6 out of   6 | elapsed:    0.1s finished\n",
            "\n",
            "[2020-05-17 13:46:57] Features: 2/4 -- score: -21454.899339219795[Parallel(n_jobs=1)]: Using backend SequentialBackend with 1 concurrent workers.\n",
            "[Parallel(n_jobs=1)]: Done   1 out of   1 | elapsed:    0.0s remaining:    0.0s\n",
            "[Parallel(n_jobs=1)]: Done   5 out of   5 | elapsed:    0.1s finished\n",
            "\n",
            "[2020-05-17 13:46:57] Features: 3/4 -- score: -21458.27878856439[Parallel(n_jobs=1)]: Using backend SequentialBackend with 1 concurrent workers.\n",
            "[Parallel(n_jobs=1)]: Done   1 out of   1 | elapsed:    0.0s remaining:    0.0s\n",
            "[Parallel(n_jobs=1)]: Done   4 out of   4 | elapsed:    0.1s finished\n",
            "\n",
            "[2020-05-17 13:46:57] Features: 4/4 -- score: -21477.988573502796"
          ],
          "name": "stderr"
        }
      ]
    },
    {
      "cell_type": "code",
      "metadata": {
        "id": "XojlmMQ746W1",
        "colab_type": "code",
        "colab": {
          "base_uri": "https://localhost:8080/",
          "height": 34
        },
        "outputId": "4f2a3e66-d3cf-4629-934c-d97c48bf4b05"
      },
      "source": [
        "feat_names=list(sfsl.k_feature_names_)\n",
        "feat_names"
      ],
      "execution_count": 125,
      "outputs": [
        {
          "output_type": "execute_result",
          "data": {
            "text/plain": [
              "['holiday', 'workingday', 'temp', 'humidity']"
            ]
          },
          "metadata": {
            "tags": []
          },
          "execution_count": 125
        }
      ]
    },
    {
      "cell_type": "code",
      "metadata": {
        "id": "1IgLpOA45C98",
        "colab_type": "code",
        "colab": {
          "base_uri": "https://localhost:8080/",
          "height": 197
        },
        "outputId": "8c16d547-a45d-403c-bd2d-46c04cbc61fc"
      },
      "source": [
        "new_data=data[feat_names].copy()\n",
        "new_data['count']=data['count'].copy()\n",
        "new_data.head()"
      ],
      "execution_count": 126,
      "outputs": [
        {
          "output_type": "execute_result",
          "data": {
            "text/html": [
              "<div>\n",
              "<style scoped>\n",
              "    .dataframe tbody tr th:only-of-type {\n",
              "        vertical-align: middle;\n",
              "    }\n",
              "\n",
              "    .dataframe tbody tr th {\n",
              "        vertical-align: top;\n",
              "    }\n",
              "\n",
              "    .dataframe thead th {\n",
              "        text-align: right;\n",
              "    }\n",
              "</style>\n",
              "<table border=\"1\" class=\"dataframe\">\n",
              "  <thead>\n",
              "    <tr style=\"text-align: right;\">\n",
              "      <th></th>\n",
              "      <th>holiday</th>\n",
              "      <th>workingday</th>\n",
              "      <th>temp</th>\n",
              "      <th>humidity</th>\n",
              "      <th>count</th>\n",
              "    </tr>\n",
              "  </thead>\n",
              "  <tbody>\n",
              "    <tr>\n",
              "      <th>0</th>\n",
              "      <td>0</td>\n",
              "      <td>0</td>\n",
              "      <td>9.84</td>\n",
              "      <td>81</td>\n",
              "      <td>16</td>\n",
              "    </tr>\n",
              "    <tr>\n",
              "      <th>1</th>\n",
              "      <td>0</td>\n",
              "      <td>0</td>\n",
              "      <td>9.02</td>\n",
              "      <td>80</td>\n",
              "      <td>40</td>\n",
              "    </tr>\n",
              "    <tr>\n",
              "      <th>2</th>\n",
              "      <td>0</td>\n",
              "      <td>0</td>\n",
              "      <td>9.02</td>\n",
              "      <td>80</td>\n",
              "      <td>32</td>\n",
              "    </tr>\n",
              "    <tr>\n",
              "      <th>3</th>\n",
              "      <td>0</td>\n",
              "      <td>0</td>\n",
              "      <td>9.84</td>\n",
              "      <td>75</td>\n",
              "      <td>13</td>\n",
              "    </tr>\n",
              "    <tr>\n",
              "      <th>4</th>\n",
              "      <td>0</td>\n",
              "      <td>0</td>\n",
              "      <td>9.84</td>\n",
              "      <td>75</td>\n",
              "      <td>1</td>\n",
              "    </tr>\n",
              "  </tbody>\n",
              "</table>\n",
              "</div>"
            ],
            "text/plain": [
              "   holiday  workingday  temp  humidity  count\n",
              "0        0           0  9.84        81     16\n",
              "1        0           0  9.02        80     40\n",
              "2        0           0  9.02        80     32\n",
              "3        0           0  9.84        75     13\n",
              "4        0           0  9.84        75      1"
            ]
          },
          "metadata": {
            "tags": []
          },
          "execution_count": 126
        }
      ]
    },
    {
      "cell_type": "markdown",
      "metadata": {
        "id": "S5rhCxVe5Rud",
        "colab_type": "text"
      },
      "source": [
        "**Random Forest**"
      ]
    },
    {
      "cell_type": "code",
      "metadata": {
        "id": "RV5JOKCE5V-K",
        "colab_type": "code",
        "colab": {}
      },
      "source": [
        "train_data=pd.read_csv('train_rf.csv')\n",
        "test_data=pd.read_csv('test_rf.csv')"
      ],
      "execution_count": 0,
      "outputs": []
    },
    {
      "cell_type": "code",
      "metadata": {
        "id": "JvIdQwyV6iV4",
        "colab_type": "code",
        "colab": {
          "base_uri": "https://localhost:8080/",
          "height": 301
        },
        "outputId": "64cba812-2405-4c9a-a11d-c7bb49b78224"
      },
      "source": [
        "train_data.head()"
      ],
      "execution_count": 142,
      "outputs": [
        {
          "output_type": "execute_result",
          "data": {
            "text/html": [
              "<div>\n",
              "<style scoped>\n",
              "    .dataframe tbody tr th:only-of-type {\n",
              "        vertical-align: middle;\n",
              "    }\n",
              "\n",
              "    .dataframe tbody tr th {\n",
              "        vertical-align: top;\n",
              "    }\n",
              "\n",
              "    .dataframe thead th {\n",
              "        text-align: right;\n",
              "    }\n",
              "</style>\n",
              "<table border=\"1\" class=\"dataframe\">\n",
              "  <thead>\n",
              "    <tr style=\"text-align: right;\">\n",
              "      <th></th>\n",
              "      <th>Item_Identifier</th>\n",
              "      <th>Item_Weight</th>\n",
              "      <th>Item_Fat_Content</th>\n",
              "      <th>Item_Visibility</th>\n",
              "      <th>Item_Type</th>\n",
              "      <th>Item_MRP</th>\n",
              "      <th>Outlet_Identifier</th>\n",
              "      <th>Outlet_Establishment_Year</th>\n",
              "      <th>Outlet_Size</th>\n",
              "      <th>Outlet_Location_Type</th>\n",
              "      <th>Outlet_Type</th>\n",
              "      <th>Item_Outlet_Sales</th>\n",
              "    </tr>\n",
              "  </thead>\n",
              "  <tbody>\n",
              "    <tr>\n",
              "      <th>0</th>\n",
              "      <td>FDA15</td>\n",
              "      <td>9.30</td>\n",
              "      <td>Low Fat</td>\n",
              "      <td>0.016047</td>\n",
              "      <td>Dairy</td>\n",
              "      <td>249.8092</td>\n",
              "      <td>OUT049</td>\n",
              "      <td>1999</td>\n",
              "      <td>Medium</td>\n",
              "      <td>Tier 1</td>\n",
              "      <td>Supermarket Type1</td>\n",
              "      <td>3735.1380</td>\n",
              "    </tr>\n",
              "    <tr>\n",
              "      <th>1</th>\n",
              "      <td>DRC01</td>\n",
              "      <td>5.92</td>\n",
              "      <td>Regular</td>\n",
              "      <td>0.019278</td>\n",
              "      <td>Soft Drinks</td>\n",
              "      <td>48.2692</td>\n",
              "      <td>OUT018</td>\n",
              "      <td>2009</td>\n",
              "      <td>Medium</td>\n",
              "      <td>Tier 3</td>\n",
              "      <td>Supermarket Type2</td>\n",
              "      <td>443.4228</td>\n",
              "    </tr>\n",
              "    <tr>\n",
              "      <th>2</th>\n",
              "      <td>FDN15</td>\n",
              "      <td>17.50</td>\n",
              "      <td>Low Fat</td>\n",
              "      <td>0.016760</td>\n",
              "      <td>Meat</td>\n",
              "      <td>141.6180</td>\n",
              "      <td>OUT049</td>\n",
              "      <td>1999</td>\n",
              "      <td>Medium</td>\n",
              "      <td>Tier 1</td>\n",
              "      <td>Supermarket Type1</td>\n",
              "      <td>2097.2700</td>\n",
              "    </tr>\n",
              "    <tr>\n",
              "      <th>3</th>\n",
              "      <td>FDX07</td>\n",
              "      <td>19.20</td>\n",
              "      <td>Regular</td>\n",
              "      <td>0.000000</td>\n",
              "      <td>Fruits and Vegetables</td>\n",
              "      <td>182.0950</td>\n",
              "      <td>OUT010</td>\n",
              "      <td>1998</td>\n",
              "      <td>NaN</td>\n",
              "      <td>Tier 3</td>\n",
              "      <td>Grocery Store</td>\n",
              "      <td>732.3800</td>\n",
              "    </tr>\n",
              "    <tr>\n",
              "      <th>4</th>\n",
              "      <td>NCD19</td>\n",
              "      <td>8.93</td>\n",
              "      <td>Low Fat</td>\n",
              "      <td>0.000000</td>\n",
              "      <td>Household</td>\n",
              "      <td>53.8614</td>\n",
              "      <td>OUT013</td>\n",
              "      <td>1987</td>\n",
              "      <td>High</td>\n",
              "      <td>Tier 3</td>\n",
              "      <td>Supermarket Type1</td>\n",
              "      <td>994.7052</td>\n",
              "    </tr>\n",
              "  </tbody>\n",
              "</table>\n",
              "</div>"
            ],
            "text/plain": [
              "  Item_Identifier  Item_Weight  ...        Outlet_Type  Item_Outlet_Sales\n",
              "0           FDA15         9.30  ...  Supermarket Type1          3735.1380\n",
              "1           DRC01         5.92  ...  Supermarket Type2           443.4228\n",
              "2           FDN15        17.50  ...  Supermarket Type1          2097.2700\n",
              "3           FDX07        19.20  ...      Grocery Store           732.3800\n",
              "4           NCD19         8.93  ...  Supermarket Type1           994.7052\n",
              "\n",
              "[5 rows x 12 columns]"
            ]
          },
          "metadata": {
            "tags": []
          },
          "execution_count": 142
        }
      ]
    },
    {
      "cell_type": "code",
      "metadata": {
        "id": "kP4gz1zX6kJR",
        "colab_type": "code",
        "colab": {
          "base_uri": "https://localhost:8080/",
          "height": 301
        },
        "outputId": "be1643d2-fb9c-406e-ef65-fda4ff87e9bd"
      },
      "source": [
        "test_data.head()"
      ],
      "execution_count": 143,
      "outputs": [
        {
          "output_type": "execute_result",
          "data": {
            "text/html": [
              "<div>\n",
              "<style scoped>\n",
              "    .dataframe tbody tr th:only-of-type {\n",
              "        vertical-align: middle;\n",
              "    }\n",
              "\n",
              "    .dataframe tbody tr th {\n",
              "        vertical-align: top;\n",
              "    }\n",
              "\n",
              "    .dataframe thead th {\n",
              "        text-align: right;\n",
              "    }\n",
              "</style>\n",
              "<table border=\"1\" class=\"dataframe\">\n",
              "  <thead>\n",
              "    <tr style=\"text-align: right;\">\n",
              "      <th></th>\n",
              "      <th>Item_Identifier</th>\n",
              "      <th>Item_Weight</th>\n",
              "      <th>Item_Fat_Content</th>\n",
              "      <th>Item_Visibility</th>\n",
              "      <th>Item_Type</th>\n",
              "      <th>Item_MRP</th>\n",
              "      <th>Outlet_Identifier</th>\n",
              "      <th>Outlet_Establishment_Year</th>\n",
              "      <th>Outlet_Size</th>\n",
              "      <th>Outlet_Location_Type</th>\n",
              "      <th>Outlet_Type</th>\n",
              "    </tr>\n",
              "  </thead>\n",
              "  <tbody>\n",
              "    <tr>\n",
              "      <th>0</th>\n",
              "      <td>FDW58</td>\n",
              "      <td>20.750</td>\n",
              "      <td>Low Fat</td>\n",
              "      <td>0.007565</td>\n",
              "      <td>Snack Foods</td>\n",
              "      <td>107.8622</td>\n",
              "      <td>OUT049</td>\n",
              "      <td>1999</td>\n",
              "      <td>Medium</td>\n",
              "      <td>Tier 1</td>\n",
              "      <td>Supermarket Type1</td>\n",
              "    </tr>\n",
              "    <tr>\n",
              "      <th>1</th>\n",
              "      <td>FDW14</td>\n",
              "      <td>8.300</td>\n",
              "      <td>reg</td>\n",
              "      <td>0.038428</td>\n",
              "      <td>Dairy</td>\n",
              "      <td>87.3198</td>\n",
              "      <td>OUT017</td>\n",
              "      <td>2007</td>\n",
              "      <td>NaN</td>\n",
              "      <td>Tier 2</td>\n",
              "      <td>Supermarket Type1</td>\n",
              "    </tr>\n",
              "    <tr>\n",
              "      <th>2</th>\n",
              "      <td>NCN55</td>\n",
              "      <td>14.600</td>\n",
              "      <td>Low Fat</td>\n",
              "      <td>0.099575</td>\n",
              "      <td>Others</td>\n",
              "      <td>241.7538</td>\n",
              "      <td>OUT010</td>\n",
              "      <td>1998</td>\n",
              "      <td>NaN</td>\n",
              "      <td>Tier 3</td>\n",
              "      <td>Grocery Store</td>\n",
              "    </tr>\n",
              "    <tr>\n",
              "      <th>3</th>\n",
              "      <td>FDQ58</td>\n",
              "      <td>7.315</td>\n",
              "      <td>Low Fat</td>\n",
              "      <td>0.015388</td>\n",
              "      <td>Snack Foods</td>\n",
              "      <td>155.0340</td>\n",
              "      <td>OUT017</td>\n",
              "      <td>2007</td>\n",
              "      <td>NaN</td>\n",
              "      <td>Tier 2</td>\n",
              "      <td>Supermarket Type1</td>\n",
              "    </tr>\n",
              "    <tr>\n",
              "      <th>4</th>\n",
              "      <td>FDY38</td>\n",
              "      <td>NaN</td>\n",
              "      <td>Regular</td>\n",
              "      <td>0.118599</td>\n",
              "      <td>Dairy</td>\n",
              "      <td>234.2300</td>\n",
              "      <td>OUT027</td>\n",
              "      <td>1985</td>\n",
              "      <td>Medium</td>\n",
              "      <td>Tier 3</td>\n",
              "      <td>Supermarket Type3</td>\n",
              "    </tr>\n",
              "  </tbody>\n",
              "</table>\n",
              "</div>"
            ],
            "text/plain": [
              "  Item_Identifier  Item_Weight  ... Outlet_Location_Type        Outlet_Type\n",
              "0           FDW58       20.750  ...               Tier 1  Supermarket Type1\n",
              "1           FDW14        8.300  ...               Tier 2  Supermarket Type1\n",
              "2           NCN55       14.600  ...               Tier 3      Grocery Store\n",
              "3           FDQ58        7.315  ...               Tier 2  Supermarket Type1\n",
              "4           FDY38          NaN  ...               Tier 3  Supermarket Type3\n",
              "\n",
              "[5 rows x 11 columns]"
            ]
          },
          "metadata": {
            "tags": []
          },
          "execution_count": 143
        }
      ]
    },
    {
      "cell_type": "code",
      "metadata": {
        "id": "bOcPBwnH64PV",
        "colab_type": "code",
        "colab": {}
      },
      "source": [
        "from sklearn.ensemble import RandomForestRegressor"
      ],
      "execution_count": 0,
      "outputs": []
    },
    {
      "cell_type": "code",
      "metadata": {
        "id": "JiEqgx_065OL",
        "colab_type": "code",
        "colab": {}
      },
      "source": [
        "df=train_data.copy()"
      ],
      "execution_count": 0,
      "outputs": []
    },
    {
      "cell_type": "code",
      "metadata": {
        "id": "nOI1Ns2G7PTn",
        "colab_type": "code",
        "colab": {}
      },
      "source": [
        "df=df.drop(['Item_Identifier', 'Outlet_Identifier'], axis=1)"
      ],
      "execution_count": 0,
      "outputs": []
    },
    {
      "cell_type": "code",
      "metadata": {
        "id": "SjAma5WF7jwQ",
        "colab_type": "code",
        "colab": {
          "base_uri": "https://localhost:8080/",
          "height": 301
        },
        "outputId": "76977b85-9210-4d67-cde8-5f6c07fd1bfd"
      },
      "source": [
        "df.head()"
      ],
      "execution_count": 147,
      "outputs": [
        {
          "output_type": "execute_result",
          "data": {
            "text/html": [
              "<div>\n",
              "<style scoped>\n",
              "    .dataframe tbody tr th:only-of-type {\n",
              "        vertical-align: middle;\n",
              "    }\n",
              "\n",
              "    .dataframe tbody tr th {\n",
              "        vertical-align: top;\n",
              "    }\n",
              "\n",
              "    .dataframe thead th {\n",
              "        text-align: right;\n",
              "    }\n",
              "</style>\n",
              "<table border=\"1\" class=\"dataframe\">\n",
              "  <thead>\n",
              "    <tr style=\"text-align: right;\">\n",
              "      <th></th>\n",
              "      <th>Item_Weight</th>\n",
              "      <th>Item_Fat_Content</th>\n",
              "      <th>Item_Visibility</th>\n",
              "      <th>Item_Type</th>\n",
              "      <th>Item_MRP</th>\n",
              "      <th>Outlet_Establishment_Year</th>\n",
              "      <th>Outlet_Size</th>\n",
              "      <th>Outlet_Location_Type</th>\n",
              "      <th>Outlet_Type</th>\n",
              "      <th>Item_Outlet_Sales</th>\n",
              "    </tr>\n",
              "  </thead>\n",
              "  <tbody>\n",
              "    <tr>\n",
              "      <th>0</th>\n",
              "      <td>9.30</td>\n",
              "      <td>Low Fat</td>\n",
              "      <td>0.016047</td>\n",
              "      <td>Dairy</td>\n",
              "      <td>249.8092</td>\n",
              "      <td>1999</td>\n",
              "      <td>Medium</td>\n",
              "      <td>Tier 1</td>\n",
              "      <td>Supermarket Type1</td>\n",
              "      <td>3735.1380</td>\n",
              "    </tr>\n",
              "    <tr>\n",
              "      <th>1</th>\n",
              "      <td>5.92</td>\n",
              "      <td>Regular</td>\n",
              "      <td>0.019278</td>\n",
              "      <td>Soft Drinks</td>\n",
              "      <td>48.2692</td>\n",
              "      <td>2009</td>\n",
              "      <td>Medium</td>\n",
              "      <td>Tier 3</td>\n",
              "      <td>Supermarket Type2</td>\n",
              "      <td>443.4228</td>\n",
              "    </tr>\n",
              "    <tr>\n",
              "      <th>2</th>\n",
              "      <td>17.50</td>\n",
              "      <td>Low Fat</td>\n",
              "      <td>0.016760</td>\n",
              "      <td>Meat</td>\n",
              "      <td>141.6180</td>\n",
              "      <td>1999</td>\n",
              "      <td>Medium</td>\n",
              "      <td>Tier 1</td>\n",
              "      <td>Supermarket Type1</td>\n",
              "      <td>2097.2700</td>\n",
              "    </tr>\n",
              "    <tr>\n",
              "      <th>3</th>\n",
              "      <td>19.20</td>\n",
              "      <td>Regular</td>\n",
              "      <td>0.000000</td>\n",
              "      <td>Fruits and Vegetables</td>\n",
              "      <td>182.0950</td>\n",
              "      <td>1998</td>\n",
              "      <td>NaN</td>\n",
              "      <td>Tier 3</td>\n",
              "      <td>Grocery Store</td>\n",
              "      <td>732.3800</td>\n",
              "    </tr>\n",
              "    <tr>\n",
              "      <th>4</th>\n",
              "      <td>8.93</td>\n",
              "      <td>Low Fat</td>\n",
              "      <td>0.000000</td>\n",
              "      <td>Household</td>\n",
              "      <td>53.8614</td>\n",
              "      <td>1987</td>\n",
              "      <td>High</td>\n",
              "      <td>Tier 3</td>\n",
              "      <td>Supermarket Type1</td>\n",
              "      <td>994.7052</td>\n",
              "    </tr>\n",
              "  </tbody>\n",
              "</table>\n",
              "</div>"
            ],
            "text/plain": [
              "   Item_Weight Item_Fat_Content  ...        Outlet_Type Item_Outlet_Sales\n",
              "0         9.30          Low Fat  ...  Supermarket Type1         3735.1380\n",
              "1         5.92          Regular  ...  Supermarket Type2          443.4228\n",
              "2        17.50          Low Fat  ...  Supermarket Type1         2097.2700\n",
              "3        19.20          Regular  ...      Grocery Store          732.3800\n",
              "4         8.93          Low Fat  ...  Supermarket Type1          994.7052\n",
              "\n",
              "[5 rows x 10 columns]"
            ]
          },
          "metadata": {
            "tags": []
          },
          "execution_count": 147
        }
      ]
    },
    {
      "cell_type": "code",
      "metadata": {
        "id": "8FDT0qHI7hAl",
        "colab_type": "code",
        "colab": {}
      },
      "source": [
        "model = RandomForestRegressor(random_state=1, max_depth=10)"
      ],
      "execution_count": 0,
      "outputs": []
    },
    {
      "cell_type": "code",
      "metadata": {
        "id": "uuEgr9l47m13",
        "colab_type": "code",
        "colab": {}
      },
      "source": [
        "df=pd.get_dummies(df)"
      ],
      "execution_count": 0,
      "outputs": []
    },
    {
      "cell_type": "code",
      "metadata": {
        "id": "2japcPPS7yf8",
        "colab_type": "code",
        "colab": {
          "base_uri": "https://localhost:8080/",
          "height": 234
        },
        "outputId": "dcca706e-2ca5-4cad-b328-621fb7098e64"
      },
      "source": [
        "df.head()"
      ],
      "execution_count": 150,
      "outputs": [
        {
          "output_type": "execute_result",
          "data": {
            "text/html": [
              "<div>\n",
              "<style scoped>\n",
              "    .dataframe tbody tr th:only-of-type {\n",
              "        vertical-align: middle;\n",
              "    }\n",
              "\n",
              "    .dataframe tbody tr th {\n",
              "        vertical-align: top;\n",
              "    }\n",
              "\n",
              "    .dataframe thead th {\n",
              "        text-align: right;\n",
              "    }\n",
              "</style>\n",
              "<table border=\"1\" class=\"dataframe\">\n",
              "  <thead>\n",
              "    <tr style=\"text-align: right;\">\n",
              "      <th></th>\n",
              "      <th>Item_Weight</th>\n",
              "      <th>Item_Visibility</th>\n",
              "      <th>Item_MRP</th>\n",
              "      <th>Outlet_Establishment_Year</th>\n",
              "      <th>Item_Outlet_Sales</th>\n",
              "      <th>Item_Fat_Content_LF</th>\n",
              "      <th>Item_Fat_Content_Low Fat</th>\n",
              "      <th>Item_Fat_Content_Regular</th>\n",
              "      <th>Item_Fat_Content_low fat</th>\n",
              "      <th>Item_Fat_Content_reg</th>\n",
              "      <th>Item_Type_Baking Goods</th>\n",
              "      <th>Item_Type_Breads</th>\n",
              "      <th>Item_Type_Breakfast</th>\n",
              "      <th>Item_Type_Canned</th>\n",
              "      <th>Item_Type_Dairy</th>\n",
              "      <th>Item_Type_Frozen Foods</th>\n",
              "      <th>Item_Type_Fruits and Vegetables</th>\n",
              "      <th>Item_Type_Hard Drinks</th>\n",
              "      <th>Item_Type_Health and Hygiene</th>\n",
              "      <th>Item_Type_Household</th>\n",
              "      <th>Item_Type_Meat</th>\n",
              "      <th>Item_Type_Others</th>\n",
              "      <th>Item_Type_Seafood</th>\n",
              "      <th>Item_Type_Snack Foods</th>\n",
              "      <th>Item_Type_Soft Drinks</th>\n",
              "      <th>Item_Type_Starchy Foods</th>\n",
              "      <th>Outlet_Size_High</th>\n",
              "      <th>Outlet_Size_Medium</th>\n",
              "      <th>Outlet_Size_Small</th>\n",
              "      <th>Outlet_Location_Type_Tier 1</th>\n",
              "      <th>Outlet_Location_Type_Tier 2</th>\n",
              "      <th>Outlet_Location_Type_Tier 3</th>\n",
              "      <th>Outlet_Type_Grocery Store</th>\n",
              "      <th>Outlet_Type_Supermarket Type1</th>\n",
              "      <th>Outlet_Type_Supermarket Type2</th>\n",
              "      <th>Outlet_Type_Supermarket Type3</th>\n",
              "    </tr>\n",
              "  </thead>\n",
              "  <tbody>\n",
              "    <tr>\n",
              "      <th>0</th>\n",
              "      <td>9.30</td>\n",
              "      <td>0.016047</td>\n",
              "      <td>249.8092</td>\n",
              "      <td>1999</td>\n",
              "      <td>3735.1380</td>\n",
              "      <td>0</td>\n",
              "      <td>1</td>\n",
              "      <td>0</td>\n",
              "      <td>0</td>\n",
              "      <td>0</td>\n",
              "      <td>0</td>\n",
              "      <td>0</td>\n",
              "      <td>0</td>\n",
              "      <td>0</td>\n",
              "      <td>1</td>\n",
              "      <td>0</td>\n",
              "      <td>0</td>\n",
              "      <td>0</td>\n",
              "      <td>0</td>\n",
              "      <td>0</td>\n",
              "      <td>0</td>\n",
              "      <td>0</td>\n",
              "      <td>0</td>\n",
              "      <td>0</td>\n",
              "      <td>0</td>\n",
              "      <td>0</td>\n",
              "      <td>0</td>\n",
              "      <td>1</td>\n",
              "      <td>0</td>\n",
              "      <td>1</td>\n",
              "      <td>0</td>\n",
              "      <td>0</td>\n",
              "      <td>0</td>\n",
              "      <td>1</td>\n",
              "      <td>0</td>\n",
              "      <td>0</td>\n",
              "    </tr>\n",
              "    <tr>\n",
              "      <th>1</th>\n",
              "      <td>5.92</td>\n",
              "      <td>0.019278</td>\n",
              "      <td>48.2692</td>\n",
              "      <td>2009</td>\n",
              "      <td>443.4228</td>\n",
              "      <td>0</td>\n",
              "      <td>0</td>\n",
              "      <td>1</td>\n",
              "      <td>0</td>\n",
              "      <td>0</td>\n",
              "      <td>0</td>\n",
              "      <td>0</td>\n",
              "      <td>0</td>\n",
              "      <td>0</td>\n",
              "      <td>0</td>\n",
              "      <td>0</td>\n",
              "      <td>0</td>\n",
              "      <td>0</td>\n",
              "      <td>0</td>\n",
              "      <td>0</td>\n",
              "      <td>0</td>\n",
              "      <td>0</td>\n",
              "      <td>0</td>\n",
              "      <td>0</td>\n",
              "      <td>1</td>\n",
              "      <td>0</td>\n",
              "      <td>0</td>\n",
              "      <td>1</td>\n",
              "      <td>0</td>\n",
              "      <td>0</td>\n",
              "      <td>0</td>\n",
              "      <td>1</td>\n",
              "      <td>0</td>\n",
              "      <td>0</td>\n",
              "      <td>1</td>\n",
              "      <td>0</td>\n",
              "    </tr>\n",
              "    <tr>\n",
              "      <th>2</th>\n",
              "      <td>17.50</td>\n",
              "      <td>0.016760</td>\n",
              "      <td>141.6180</td>\n",
              "      <td>1999</td>\n",
              "      <td>2097.2700</td>\n",
              "      <td>0</td>\n",
              "      <td>1</td>\n",
              "      <td>0</td>\n",
              "      <td>0</td>\n",
              "      <td>0</td>\n",
              "      <td>0</td>\n",
              "      <td>0</td>\n",
              "      <td>0</td>\n",
              "      <td>0</td>\n",
              "      <td>0</td>\n",
              "      <td>0</td>\n",
              "      <td>0</td>\n",
              "      <td>0</td>\n",
              "      <td>0</td>\n",
              "      <td>0</td>\n",
              "      <td>1</td>\n",
              "      <td>0</td>\n",
              "      <td>0</td>\n",
              "      <td>0</td>\n",
              "      <td>0</td>\n",
              "      <td>0</td>\n",
              "      <td>0</td>\n",
              "      <td>1</td>\n",
              "      <td>0</td>\n",
              "      <td>1</td>\n",
              "      <td>0</td>\n",
              "      <td>0</td>\n",
              "      <td>0</td>\n",
              "      <td>1</td>\n",
              "      <td>0</td>\n",
              "      <td>0</td>\n",
              "    </tr>\n",
              "    <tr>\n",
              "      <th>3</th>\n",
              "      <td>19.20</td>\n",
              "      <td>0.000000</td>\n",
              "      <td>182.0950</td>\n",
              "      <td>1998</td>\n",
              "      <td>732.3800</td>\n",
              "      <td>0</td>\n",
              "      <td>0</td>\n",
              "      <td>1</td>\n",
              "      <td>0</td>\n",
              "      <td>0</td>\n",
              "      <td>0</td>\n",
              "      <td>0</td>\n",
              "      <td>0</td>\n",
              "      <td>0</td>\n",
              "      <td>0</td>\n",
              "      <td>0</td>\n",
              "      <td>1</td>\n",
              "      <td>0</td>\n",
              "      <td>0</td>\n",
              "      <td>0</td>\n",
              "      <td>0</td>\n",
              "      <td>0</td>\n",
              "      <td>0</td>\n",
              "      <td>0</td>\n",
              "      <td>0</td>\n",
              "      <td>0</td>\n",
              "      <td>0</td>\n",
              "      <td>0</td>\n",
              "      <td>0</td>\n",
              "      <td>0</td>\n",
              "      <td>0</td>\n",
              "      <td>1</td>\n",
              "      <td>1</td>\n",
              "      <td>0</td>\n",
              "      <td>0</td>\n",
              "      <td>0</td>\n",
              "    </tr>\n",
              "    <tr>\n",
              "      <th>4</th>\n",
              "      <td>8.93</td>\n",
              "      <td>0.000000</td>\n",
              "      <td>53.8614</td>\n",
              "      <td>1987</td>\n",
              "      <td>994.7052</td>\n",
              "      <td>0</td>\n",
              "      <td>1</td>\n",
              "      <td>0</td>\n",
              "      <td>0</td>\n",
              "      <td>0</td>\n",
              "      <td>0</td>\n",
              "      <td>0</td>\n",
              "      <td>0</td>\n",
              "      <td>0</td>\n",
              "      <td>0</td>\n",
              "      <td>0</td>\n",
              "      <td>0</td>\n",
              "      <td>0</td>\n",
              "      <td>0</td>\n",
              "      <td>1</td>\n",
              "      <td>0</td>\n",
              "      <td>0</td>\n",
              "      <td>0</td>\n",
              "      <td>0</td>\n",
              "      <td>0</td>\n",
              "      <td>0</td>\n",
              "      <td>1</td>\n",
              "      <td>0</td>\n",
              "      <td>0</td>\n",
              "      <td>0</td>\n",
              "      <td>0</td>\n",
              "      <td>1</td>\n",
              "      <td>0</td>\n",
              "      <td>1</td>\n",
              "      <td>0</td>\n",
              "      <td>0</td>\n",
              "    </tr>\n",
              "  </tbody>\n",
              "</table>\n",
              "</div>"
            ],
            "text/plain": [
              "   Item_Weight  ...  Outlet_Type_Supermarket Type3\n",
              "0         9.30  ...                              0\n",
              "1         5.92  ...                              0\n",
              "2        17.50  ...                              0\n",
              "3        19.20  ...                              0\n",
              "4         8.93  ...                              0\n",
              "\n",
              "[5 rows x 36 columns]"
            ]
          },
          "metadata": {
            "tags": []
          },
          "execution_count": 150
        }
      ]
    },
    {
      "cell_type": "code",
      "metadata": {
        "id": "BCZ2pboW8KT2",
        "colab_type": "code",
        "colab": {
          "base_uri": "https://localhost:8080/",
          "height": 674
        },
        "outputId": "8705a5b1-976e-4547-9b61-009f31c7f347"
      },
      "source": [
        "df.isnull().sum()"
      ],
      "execution_count": 151,
      "outputs": [
        {
          "output_type": "execute_result",
          "data": {
            "text/plain": [
              "Item_Weight                        1463\n",
              "Item_Visibility                       0\n",
              "Item_MRP                              0\n",
              "Outlet_Establishment_Year             0\n",
              "Item_Outlet_Sales                     0\n",
              "Item_Fat_Content_LF                   0\n",
              "Item_Fat_Content_Low Fat              0\n",
              "Item_Fat_Content_Regular              0\n",
              "Item_Fat_Content_low fat              0\n",
              "Item_Fat_Content_reg                  0\n",
              "Item_Type_Baking Goods                0\n",
              "Item_Type_Breads                      0\n",
              "Item_Type_Breakfast                   0\n",
              "Item_Type_Canned                      0\n",
              "Item_Type_Dairy                       0\n",
              "Item_Type_Frozen Foods                0\n",
              "Item_Type_Fruits and Vegetables       0\n",
              "Item_Type_Hard Drinks                 0\n",
              "Item_Type_Health and Hygiene          0\n",
              "Item_Type_Household                   0\n",
              "Item_Type_Meat                        0\n",
              "Item_Type_Others                      0\n",
              "Item_Type_Seafood                     0\n",
              "Item_Type_Snack Foods                 0\n",
              "Item_Type_Soft Drinks                 0\n",
              "Item_Type_Starchy Foods               0\n",
              "Outlet_Size_High                      0\n",
              "Outlet_Size_Medium                    0\n",
              "Outlet_Size_Small                     0\n",
              "Outlet_Location_Type_Tier 1           0\n",
              "Outlet_Location_Type_Tier 2           0\n",
              "Outlet_Location_Type_Tier 3           0\n",
              "Outlet_Type_Grocery Store             0\n",
              "Outlet_Type_Supermarket Type1         0\n",
              "Outlet_Type_Supermarket Type2         0\n",
              "Outlet_Type_Supermarket Type3         0\n",
              "dtype: int64"
            ]
          },
          "metadata": {
            "tags": []
          },
          "execution_count": 151
        }
      ]
    },
    {
      "cell_type": "code",
      "metadata": {
        "id": "yIX4mFoW8jrn",
        "colab_type": "code",
        "colab": {
          "base_uri": "https://localhost:8080/",
          "height": 34
        },
        "outputId": "2f1dcc11-6b28-49f5-97b4-e97fecc3c54b"
      },
      "source": [
        "df.shape"
      ],
      "execution_count": 154,
      "outputs": [
        {
          "output_type": "execute_result",
          "data": {
            "text/plain": [
              "(8523, 36)"
            ]
          },
          "metadata": {
            "tags": []
          },
          "execution_count": 154
        }
      ]
    },
    {
      "cell_type": "code",
      "metadata": {
        "id": "SFI9EM4Y8sH9",
        "colab_type": "code",
        "colab": {
          "base_uri": "https://localhost:8080/",
          "height": 781
        },
        "outputId": "d5f79fa3-bd53-4680-a1a2-a8c90b1e73ef"
      },
      "source": [
        "df.info()"
      ],
      "execution_count": 155,
      "outputs": [
        {
          "output_type": "stream",
          "text": [
            "<class 'pandas.core.frame.DataFrame'>\n",
            "RangeIndex: 8523 entries, 0 to 8522\n",
            "Data columns (total 36 columns):\n",
            " #   Column                           Non-Null Count  Dtype  \n",
            "---  ------                           --------------  -----  \n",
            " 0   Item_Weight                      7060 non-null   float64\n",
            " 1   Item_Visibility                  8523 non-null   float64\n",
            " 2   Item_MRP                         8523 non-null   float64\n",
            " 3   Outlet_Establishment_Year        8523 non-null   int64  \n",
            " 4   Item_Outlet_Sales                8523 non-null   float64\n",
            " 5   Item_Fat_Content_LF              8523 non-null   uint8  \n",
            " 6   Item_Fat_Content_Low Fat         8523 non-null   uint8  \n",
            " 7   Item_Fat_Content_Regular         8523 non-null   uint8  \n",
            " 8   Item_Fat_Content_low fat         8523 non-null   uint8  \n",
            " 9   Item_Fat_Content_reg             8523 non-null   uint8  \n",
            " 10  Item_Type_Baking Goods           8523 non-null   uint8  \n",
            " 11  Item_Type_Breads                 8523 non-null   uint8  \n",
            " 12  Item_Type_Breakfast              8523 non-null   uint8  \n",
            " 13  Item_Type_Canned                 8523 non-null   uint8  \n",
            " 14  Item_Type_Dairy                  8523 non-null   uint8  \n",
            " 15  Item_Type_Frozen Foods           8523 non-null   uint8  \n",
            " 16  Item_Type_Fruits and Vegetables  8523 non-null   uint8  \n",
            " 17  Item_Type_Hard Drinks            8523 non-null   uint8  \n",
            " 18  Item_Type_Health and Hygiene     8523 non-null   uint8  \n",
            " 19  Item_Type_Household              8523 non-null   uint8  \n",
            " 20  Item_Type_Meat                   8523 non-null   uint8  \n",
            " 21  Item_Type_Others                 8523 non-null   uint8  \n",
            " 22  Item_Type_Seafood                8523 non-null   uint8  \n",
            " 23  Item_Type_Snack Foods            8523 non-null   uint8  \n",
            " 24  Item_Type_Soft Drinks            8523 non-null   uint8  \n",
            " 25  Item_Type_Starchy Foods          8523 non-null   uint8  \n",
            " 26  Outlet_Size_High                 8523 non-null   uint8  \n",
            " 27  Outlet_Size_Medium               8523 non-null   uint8  \n",
            " 28  Outlet_Size_Small                8523 non-null   uint8  \n",
            " 29  Outlet_Location_Type_Tier 1      8523 non-null   uint8  \n",
            " 30  Outlet_Location_Type_Tier 2      8523 non-null   uint8  \n",
            " 31  Outlet_Location_Type_Tier 3      8523 non-null   uint8  \n",
            " 32  Outlet_Type_Grocery Store        8523 non-null   uint8  \n",
            " 33  Outlet_Type_Supermarket Type1    8523 non-null   uint8  \n",
            " 34  Outlet_Type_Supermarket Type2    8523 non-null   uint8  \n",
            " 35  Outlet_Type_Supermarket Type3    8523 non-null   uint8  \n",
            "dtypes: float64(4), int64(1), uint8(31)\n",
            "memory usage: 591.1 KB\n"
          ],
          "name": "stdout"
        }
      ]
    },
    {
      "cell_type": "code",
      "metadata": {
        "id": "6DT2fJVO8nLR",
        "colab_type": "code",
        "colab": {}
      },
      "source": [
        "df['Item_Weight'].fillna(df['Item_Weight'].median(), inplace=True)"
      ],
      "execution_count": 0,
      "outputs": []
    },
    {
      "cell_type": "code",
      "metadata": {
        "id": "1Tzx6ETI760C",
        "colab_type": "code",
        "colab": {}
      },
      "source": [
        "X=df.drop('Item_Outlet_Sales', axis=1).copy()\n",
        "y=df['Item_Outlet_Sales'].copy()"
      ],
      "execution_count": 0,
      "outputs": []
    },
    {
      "cell_type": "code",
      "metadata": {
        "id": "Hw4YtUnW8DHy",
        "colab_type": "code",
        "colab": {
          "base_uri": "https://localhost:8080/",
          "height": 141
        },
        "outputId": "5e820aef-c783-4c73-87fa-aeb405cd8d90"
      },
      "source": [
        "model.fit(X,y)"
      ],
      "execution_count": 158,
      "outputs": [
        {
          "output_type": "execute_result",
          "data": {
            "text/plain": [
              "RandomForestRegressor(bootstrap=True, ccp_alpha=0.0, criterion='mse',\n",
              "                      max_depth=10, max_features='auto', max_leaf_nodes=None,\n",
              "                      max_samples=None, min_impurity_decrease=0.0,\n",
              "                      min_impurity_split=None, min_samples_leaf=1,\n",
              "                      min_samples_split=2, min_weight_fraction_leaf=0.0,\n",
              "                      n_estimators=100, n_jobs=None, oob_score=False,\n",
              "                      random_state=1, verbose=0, warm_start=False)"
            ]
          },
          "metadata": {
            "tags": []
          },
          "execution_count": 158
        }
      ]
    },
    {
      "cell_type": "code",
      "metadata": {
        "id": "BpU0Q3TV88u0",
        "colab_type": "code",
        "colab": {}
      },
      "source": [
        "features = df.columns"
      ],
      "execution_count": 0,
      "outputs": []
    },
    {
      "cell_type": "code",
      "metadata": {
        "id": "vfrSB2c48_zw",
        "colab_type": "code",
        "colab": {}
      },
      "source": [
        "importances = model.feature_importances_"
      ],
      "execution_count": 0,
      "outputs": []
    },
    {
      "cell_type": "code",
      "metadata": {
        "id": "uoYX6HIU-3XI",
        "colab_type": "code",
        "colab": {
          "base_uri": "https://localhost:8080/",
          "height": 176
        },
        "outputId": "3bd6765c-47bd-4b6b-9ac3-1551b53ab344"
      },
      "source": [
        "importances"
      ],
      "execution_count": 176,
      "outputs": [
        {
          "output_type": "execute_result",
          "data": {
            "text/plain": [
              "array([1.72271262e-02, 4.03802167e-02, 5.13835821e-01, 2.99625594e-02,\n",
              "       1.38199928e-03, 2.11110660e-03, 1.88682570e-03, 7.86053465e-04,\n",
              "       8.36704023e-04, 1.68049520e-03, 1.35607110e-03, 1.38008586e-03,\n",
              "       1.48252937e-03, 2.28178821e-03, 1.72979958e-03, 3.18833879e-03,\n",
              "       1.19908831e-03, 1.80012546e-03, 2.27264074e-03, 1.44640088e-03,\n",
              "       7.33468627e-04, 1.12088589e-03, 2.79798115e-03, 2.26771223e-03,\n",
              "       1.49298808e-03, 4.90320155e-04, 9.58723471e-04, 1.58192355e-03,\n",
              "       9.84016539e-04, 1.05698560e-03, 1.24080986e-03, 2.73233372e-01,\n",
              "       1.65332205e-03, 1.12247611e-03, 8.10392388e-02])"
            ]
          },
          "metadata": {
            "tags": []
          },
          "execution_count": 176
        }
      ]
    },
    {
      "cell_type": "code",
      "metadata": {
        "id": "EJsmxjFe9E50",
        "colab_type": "code",
        "colab": {}
      },
      "source": [
        "import numpy as np\n",
        "import matplotlib.pyplot as plt"
      ],
      "execution_count": 0,
      "outputs": []
    },
    {
      "cell_type": "code",
      "metadata": {
        "id": "eh4AUZGv9DA0",
        "colab_type": "code",
        "colab": {
          "base_uri": "https://localhost:8080/",
          "height": 294
        },
        "outputId": "3ec891a3-8e7f-4f65-fda1-0ea5b556e2aa"
      },
      "source": [
        "indices = np.argsort(importances)[-9:]  # top 10 features\n",
        "plt.title('Feature Importances')\n",
        "plt.barh(range(len(indices)), importances[indices], color='b', align='center')\n",
        "plt.yticks(range(len(indices)), [features[i] for i in indices])\n",
        "plt.xlabel('Relative Importance')\n",
        "plt.show()"
      ],
      "execution_count": 165,
      "outputs": [
        {
          "output_type": "display_data",
          "data": {
            "image/png": "[encoded data removed]",
            "text/plain": [
              "<Figure size 432x288 with 1 Axes>"
            ]
          },
          "metadata": {
            "tags": [],
            "needs_background": "light"
          }
        }
      ]
    },
    {
      "cell_type": "code",
      "metadata": {
        "id": "N9TVNCd09PNP",
        "colab_type": "code",
        "colab": {}
      },
      "source": [
        "from sklearn.feature_selection import SelectFromModel"
      ],
      "execution_count": 0,
      "outputs": []
    },
    {
      "cell_type": "code",
      "metadata": {
        "id": "lUdCAjNS9Pvn",
        "colab_type": "code",
        "colab": {}
      },
      "source": [
        "feature = SelectFromModel(model)"
      ],
      "execution_count": 0,
      "outputs": []
    },
    {
      "cell_type": "code",
      "metadata": {
        "id": "lTugiUHo9T8Q",
        "colab_type": "code",
        "colab": {
          "base_uri": "https://localhost:8080/",
          "height": 265
        },
        "outputId": "4648345a-6c2d-49f5-b519-f207444bac67"
      },
      "source": [
        "feature"
      ],
      "execution_count": 168,
      "outputs": [
        {
          "output_type": "execute_result",
          "data": {
            "text/plain": [
              "SelectFromModel(estimator=RandomForestRegressor(bootstrap=True, ccp_alpha=0.0,\n",
              "                                                criterion='mse', max_depth=10,\n",
              "                                                max_features='auto',\n",
              "                                                max_leaf_nodes=None,\n",
              "                                                max_samples=None,\n",
              "                                                min_impurity_decrease=0.0,\n",
              "                                                min_impurity_split=None,\n",
              "                                                min_samples_leaf=1,\n",
              "                                                min_samples_split=2,\n",
              "                                                min_weight_fraction_leaf=0.0,\n",
              "                                                n_estimators=100, n_jobs=None,\n",
              "                                                oob_score=False, random_state=1,\n",
              "                                                verbose=0, warm_start=False),\n",
              "                max_features=None, norm_order=1, prefit=False, threshold=None)"
            ]
          },
          "metadata": {
            "tags": []
          },
          "execution_count": 168
        }
      ]
    },
    {
      "cell_type": "code",
      "metadata": {
        "id": "e49k-odC9RJO",
        "colab_type": "code",
        "colab": {}
      },
      "source": [
        "Fit = feature.fit_transform(X, y)"
      ],
      "execution_count": 0,
      "outputs": []
    },
    {
      "cell_type": "code",
      "metadata": {
        "id": "39rG8SDo-IiU",
        "colab_type": "code",
        "colab": {
          "base_uri": "https://localhost:8080/",
          "height": 1000
        },
        "outputId": "e1ad62f7-4035-4f55-b73f-0373647796f5"
      },
      "source": [
        "Fit.tolist()"
      ],
      "execution_count": 175,
      "outputs": [
        {
          "output_type": "execute_result",
          "data": {
            "text/plain": [
              "[[0.016047301, 249.8092, 1999.0, 0.0, 0.0],\n",
              " [0.019278216, 48.2692, 2009.0, 0.0, 0.0],\n",
              " [0.016760075, 141.618, 1999.0, 0.0, 0.0],\n",
              " [0.0, 182.095, 1998.0, 1.0, 0.0],\n",
              " [0.0, 53.8614, 1987.0, 0.0, 0.0],\n",
              " [0.0, 51.4008, 2009.0, 0.0, 0.0],\n",
              " [0.012741088999999999, 57.6588, 1987.0, 0.0, 0.0],\n",
              " [0.127469857, 107.7622, 1985.0, 0.0, 1.0],\n",
              " [0.016687114, 96.9726, 2002.0, 0.0, 0.0],\n",
              " [0.09444959, 187.8214, 2007.0, 0.0, 0.0],\n",
              " [0.0, 45.5402, 1999.0, 0.0, 0.0],\n",
              " [0.045463773, 144.1102, 1997.0, 0.0, 0.0],\n",
              " [0.1000135, 145.4786, 1999.0, 0.0, 0.0],\n",
              " [0.047257328, 119.6782, 1997.0, 0.0, 0.0],\n",
              " [0.06802430000000001, 196.4426, 1987.0, 0.0, 0.0],\n",
              " [0.06908896099999999, 56.3614, 1997.0, 0.0, 0.0],\n",
              " [0.008596051, 115.3492, 2009.0, 0.0, 0.0],\n",
              " [0.06919637599999999, 54.3614, 1999.0, 0.0, 0.0],\n",
              " [0.034237682, 113.2834, 1985.0, 0.0, 1.0],\n",
              " [0.10249212, 230.5352, 2004.0, 0.0, 0.0],\n",
              " [0.138190277, 250.8724, 1987.0, 0.0, 0.0],\n",
              " [0.035399923, 144.5444, 1985.0, 0.0, 1.0],\n",
              " [0.025698133999999997, 196.5084, 2004.0, 0.0, 0.0],\n",
              " [0.057556998, 107.6938, 1985.0, 1.0, 0.0],\n",
              " [0.025896485, 165.021, 1997.0, 0.0, 0.0],\n",
              " [0.099887103, 45.906000000000006, 2007.0, 0.0, 0.0],\n",
              " [0.06669343700000001, 42.3112, 2004.0, 0.0, 0.0],\n",
              " [0.019356131999999998, 39.1164, 1987.0, 0.0, 0.0],\n",
              " [0.161466534, 45.5086, 1998.0, 1.0, 0.0],\n",
              " [0.072221801, 43.6454, 1985.0, 1.0, 0.0],\n",
              " [0.17034855100000001, 55.7956, 1998.0, 1.0, 0.0],\n",
              " [0.080829372, 96.4436, 2009.0, 0.0, 0.0],\n",
              " [0.0, 256.6672, 2009.0, 0.0, 0.0],\n",
              " [0.0, 93.1436, 2002.0, 0.0, 0.0],\n",
              " [0.097904029, 174.8738, 1997.0, 0.0, 0.0],\n",
              " [0.08929113699999999, 146.7102, 1999.0, 0.0, 0.0],\n",
              " [0.059511812000000004, 128.0678, 1985.0, 0.0, 1.0],\n",
              " [0.113123893, 122.5388, 2009.0, 0.0, 0.0],\n",
              " [0.12311145300000001, 36.9874, 1985.0, 0.0, 1.0],\n",
              " [0.026480953999999998, 87.6198, 1985.0, 0.0, 1.0],\n",
              " [0.102511504, 230.6352, 1997.0, 0.0, 0.0],\n",
              " [0.02681843, 126.00200000000001, 1987.0, 0.0, 0.0],\n",
              " [0.117818348, 192.9136, 1999.0, 0.0, 0.0],\n",
              " [0.06910283099999999, 259.9278, 2009.0, 0.0, 0.0],\n",
              " [0.042277867000000004, 126.5046, 1987.0, 0.0, 0.0],\n",
              " [0.08949892599999999, 178.1002, 1998.0, 1.0, 0.0],\n",
              " [0.0, 153.3024, 2002.0, 0.0, 0.0],\n",
              " [0.025879577, 265.2226, 2002.0, 0.0, 0.0],\n",
              " [0.121632721, 60.622, 1997.0, 0.0, 0.0],\n",
              " [0.25539489600000004, 196.8794, 1985.0, 1.0, 0.0],\n",
              " [0.067779712, 143.8812, 1997.0, 0.0, 0.0],\n",
              " [0.159803853, 141.5154, 1987.0, 0.0, 0.0],\n",
              " [0.028696932, 117.0492, 1987.0, 0.0, 0.0],\n",
              " [0.065041581, 196.3794, 2007.0, 0.0, 0.0],\n",
              " [0.028760012999999997, 151.4708, 2007.0, 0.0, 0.0],\n",
              " [0.010053105, 249.0408, 2009.0, 0.0, 0.0],\n",
              " [0.048157338, 106.1622, 2002.0, 0.0, 0.0],\n",
              " [0.071958197, 38.0506, 1999.0, 0.0, 0.0],\n",
              " [0.17348130399999998, 194.511, 1997.0, 0.0, 0.0],\n",
              " [0.061082177, 180.0344, 1985.0, 1.0, 0.0],\n",
              " [0.0, 246.9144, 2009.0, 0.0, 0.0],\n",
              " [0.040071131, 87.3514, 2002.0, 0.0, 0.0],\n",
              " [0.012090074, 38.2848, 1985.0, 0.0, 1.0],\n",
              " [0.15028599, 51.0692, 1985.0, 1.0, 0.0],\n",
              " [0.026015518999999997, 255.8356, 1985.0, 0.0, 1.0],\n",
              " [0.195068226, 185.4266, 1998.0, 1.0, 0.0],\n",
              " [0.033082215, 172.5738, 2004.0, 0.0, 0.0],\n",
              " [0.078946455, 186.024, 2002.0, 0.0, 0.0],\n",
              " [0.041700756, 164.8526, 2002.0, 0.0, 0.0],\n",
              " [0.14342264300000002, 95.84100000000001, 1997.0, 0.0, 0.0],\n",
              " [0.10529607199999999, 170.1764, 1997.0, 0.0, 0.0],\n",
              " [0.121531501, 59.222, 1987.0, 0.0, 0.0],\n",
              " [0.0, 164.7526, 2002.0, 0.0, 0.0],\n",
              " [0.011324862, 189.6188, 2007.0, 0.0, 0.0],\n",
              " [0.186357148, 254.3698, 1999.0, 0.0, 0.0],\n",
              " [0.024205661, 114.0176, 1997.0, 0.0, 0.0],\n",
              " [0.033230816, 172.3422, 1999.0, 0.0, 0.0],\n",
              " [0.113720344, 89.9804, 1985.0, 1.0, 0.0],\n",
              " [0.11255650699999999, 104.9622, 2007.0, 0.0, 0.0],\n",
              " [0.0, 222.5456, 2002.0, 0.0, 0.0],\n",
              " [0.05935224099999999, 101.87, 1997.0, 0.0, 0.0],\n",
              " [0.014087057, 180.3344, 1997.0, 0.0, 0.0],\n",
              " [0.045230944, 187.9556, 2009.0, 0.0, 0.0],\n",
              " [0.293417759, 194.6136, 1985.0, 1.0, 0.0],\n",
              " [0.031382044, 171.3764, 1985.0, 0.0, 1.0],\n",
              " [0.12639886, 177.0028, 2007.0, 0.0, 0.0],\n",
              " [0.025403897999999998, 160.99200000000002, 2004.0, 0.0, 0.0],\n",
              " [0.039057677, 155.963, 1985.0, 0.0, 1.0],\n",
              " [0.123115764, 95.6436, 1997.0, 0.0, 0.0],\n",
              " [0.039624006, 117.2808, 1999.0, 0.0, 0.0],\n",
              " [0.040421193, 122.17299999999999, 1998.0, 1.0, 0.0],\n",
              " [0.10527411099999999, 39.9138, 1999.0, 0.0, 0.0],\n",
              " [0.033970195, 55.1614, 2002.0, 0.0, 0.0],\n",
              " [0.053212652, 57.893, 2004.0, 0.0, 0.0],\n",
              " [0.024378706, 114.5492, 2004.0, 0.0, 0.0],\n",
              " [0.009714595, 120.0414, 1985.0, 1.0, 0.0],\n",
              " [0.131383762, 246.046, 1999.0, 0.0, 0.0],\n",
              " [0.07461309, 187.4556, 2004.0, 0.0, 0.0],\n",
              " [0.028459761, 149.9708, 1985.0, 0.0, 1.0],\n",
              " [0.07462720099999999, 187.8556, 1997.0, 0.0, 0.0],\n",
              " [0.063695084, 151.0708, 2002.0, 0.0, 0.0],\n",
              " [0.045797829000000005, 178.5344, 1985.0, 0.0, 1.0],\n",
              " [0.11585722300000001, 179.1028, 1999.0, 0.0, 0.0],\n",
              " [0.024832806000000002, 38.7822, 1987.0, 0.0, 0.0],\n",
              " [0.034027909, 212.0902, 2009.0, 0.0, 0.0],\n",
              " [0.046769599999999995, 141.1838, 1987.0, 0.0, 0.0],\n",
              " [0.11657670199999999, 163.121, 1987.0, 0.0, 0.0],\n",
              " [0.0, 121.3098, 2002.0, 0.0, 0.0],\n",
              " [0.278974075, 225.372, 1985.0, 1.0, 0.0],\n",
              " [0.035913805, 41.4138, 1987.0, 0.0, 0.0],\n",
              " [0.079806266, 232.53, 1997.0, 0.0, 0.0],\n",
              " [0.005505481, 102.4016, 2007.0, 0.0, 0.0],\n",
              " [0.064625342, 176.937, 1985.0, 1.0, 0.0],\n",
              " [0.071636937, 121.7098, 1985.0, 0.0, 1.0],\n",
              " [0.0, 173.2054, 2002.0, 0.0, 0.0],\n",
              " [0.032677677999999995, 239.0906, 1999.0, 0.0, 0.0],\n",
              " [0.160760054, 192.4478, 2007.0, 0.0, 0.0],\n",
              " [0.06911065, 109.0228, 2004.0, 0.0, 0.0],\n",
              " [0.041177505, 140.3154, 2007.0, 0.0, 0.0],\n",
              " [0.040081193, 227.0694, 2009.0, 0.0, 0.0],\n",
              " [0.035307322, 47.5034, 2007.0, 0.0, 0.0],\n",
              " [0.063017847, 159.0578, 2002.0, 0.0, 0.0],\n",
              " [0.171938781, 92.512, 1998.0, 1.0, 0.0],\n",
              " [0.040197932, 190.153, 2004.0, 0.0, 0.0],\n",
              " [0.049058014000000004, 62.7194, 2007.0, 0.0, 0.0],\n",
              " [0.01161096, 95.041, 2004.0, 0.0, 0.0],\n",
              " [0.183507295, 82.4276, 1997.0, 0.0, 0.0],\n",
              " [0.102349519, 52.7956, 2007.0, 0.0, 0.0],\n",
              " [0.08670898699999999, 151.7682, 1987.0, 0.0, 0.0],\n",
              " [0.032835147, 40.2822, 2002.0, 0.0, 0.0],\n",
              " [0.033809913, 180.5976, 1985.0, 0.0, 1.0],\n",
              " [0.07266912, 160.292, 1997.0, 0.0, 0.0],\n",
              " [0.144338493, 224.4404, 1985.0, 0.0, 1.0],\n",
              " [0.009163216, 101.7016, 1998.0, 1.0, 0.0],\n",
              " [0.011307038, 188.5188, 2009.0, 0.0, 0.0],\n",
              " [0.076855628, 116.0492, 1997.0, 0.0, 0.0],\n",
              " [0.059956876, 165.4526, 1985.0, 0.0, 1.0],\n",
              " [0.038532062, 60.5852, 2002.0, 0.0, 0.0],\n",
              " [0.043209581, 90.8172, 2007.0, 0.0, 0.0],\n",
              " [0.056816465, 132.1284, 1998.0, 1.0, 0.0],\n",
              " [0.019866705, 154.5972, 2004.0, 0.0, 0.0],\n",
              " [0.048331717, 105.1622, 2007.0, 0.0, 0.0],\n",
              " [0.091221855, 105.5938, 2002.0, 0.0, 0.0],\n",
              " [0.027622076000000002, 177.6344, 1999.0, 0.0, 0.0],\n",
              " [0.0, 53.06399999999999, 2004.0, 0.0, 0.0],\n",
              " [0.039355947, 246.3802, 1999.0, 0.0, 0.0],\n",
              " [0.060836524, 226.8404, 2004.0, 0.0, 0.0],\n",
              " [0.082316506, 160.692, 2004.0, 0.0, 0.0],\n",
              " [0.155350299, 178.237, 2004.0, 0.0, 0.0],\n",
              " [0.076841095, 117.5492, 2004.0, 0.0, 0.0],\n",
              " [0.151419185, 50.3692, 2007.0, 0.0, 0.0],\n",
              " [0.026001976, 161.52100000000002, 2009.0, 0.0, 0.0],\n",
              " [0.073209447, 197.6426, 2009.0, 0.0, 0.0],\n",
              " [0.041683481, 31.29, 1985.0, 0.0, 1.0],\n",
              " [0.042560252, 226.172, 1997.0, 0.0, 0.0],\n",
              " [0.014081156000000001, 223.5746, 2009.0, 0.0, 0.0],\n",
              " [0.0, 132.5626, 2009.0, 0.0, 0.0],\n",
              " [0.152918384, 99.8358, 2007.0, 0.0, 0.0],\n",
              " [0.030969273999999998, 140.9154, 2007.0, 0.0, 0.0],\n",
              " [0.06037677599999999, 154.5656, 1987.0, 0.0, 0.0],\n",
              " [0.04192285, 54.763999999999996, 1987.0, 0.0, 0.0],\n",
              " [0.077367431, 97.0094, 1985.0, 0.0, 1.0],\n",
              " [0.045838211, 222.5456, 2009.0, 0.0, 0.0],\n",
              " [0.071077939, 114.2518, 1997.0, 0.0, 0.0],\n",
              " [0.09465987099999999, 214.55599999999998, 1997.0, 0.0, 0.0],\n",
              " [0.077608838, 233.4958, 2007.0, 0.0, 0.0],\n",
              " [0.021327477, 216.8824, 2007.0, 0.0, 0.0],\n",
              " [0.042485444000000004, 125.0046, 2009.0, 0.0, 0.0],\n",
              " [0.025578526, 198.8084, 1985.0, 0.0, 1.0],\n",
              " [0.048980800000000005, 61.9194, 2009.0, 0.0, 0.0],\n",
              " [0.019471688, 164.821, 2004.0, 0.0, 0.0],\n",
              " [0.122918852, 173.0738, 2007.0, 0.0, 0.0],\n",
              " [0.057373797000000004, 151.4366, 1987.0, 0.0, 0.0],\n",
              " [0.044155597000000005, 178.8318, 1987.0, 0.0, 0.0],\n",
              " [0.291865402, 115.1834, 1998.0, 1.0, 0.0],\n",
              " [0.0, 196.5794, 1998.0, 1.0, 0.0],\n",
              " [0.064750025, 92.6804, 2002.0, 0.0, 0.0],\n",
              " [0.098312421, 81.4618, 1998.0, 1.0, 0.0],\n",
              " [0.191013663, 42.1112, 1985.0, 1.0, 0.0],\n",
              " [0.176573035, 157.4604, 2002.0, 0.0, 0.0],\n",
              " [0.060134441, 153.0656, 1985.0, 0.0, 1.0],\n",
              " [0.0072946519999999996, 198.1426, 2002.0, 0.0, 0.0],\n",
              " [0.128478462, 117.944, 1985.0, 1.0, 0.0],\n",
              " [0.075107656, 112.8176, 1987.0, 0.0, 0.0],\n",
              " [0.049381405999999996, 226.8062, 1985.0, 0.0, 1.0],\n",
              " [0.045165795999999994, 100.0016, 2009.0, 0.0, 0.0],\n",
              " [0.09415375, 165.7526, 1985.0, 1.0, 0.0],\n",
              " [0.028907832, 130.431, 1999.0, 0.0, 0.0],\n",
              " [0.018059621, 179.766, 2002.0, 0.0, 0.0],\n",
              " [0.09043609400000001, 85.0882, 1999.0, 0.0, 0.0],\n",
              " [0.146399712, 103.9648, 1999.0, 0.0, 0.0],\n",
              " [0.07426435599999999, 264.7568, 1999.0, 0.0, 0.0],\n",
              " [0.050186725999999994, 164.1526, 2002.0, 0.0, 0.0],\n",
              " [0.020631654, 50.1324, 2009.0, 0.0, 0.0],\n",
              " [0.01561108, 182.5976, 1985.0, 0.0, 1.0],\n",
              " [0.041395445, 37.6164, 1997.0, 0.0, 0.0],\n",
              " [0.097313129, 48.0718, 1997.0, 0.0, 0.0],\n",
              " [0.059582996, 238.8538, 1999.0, 0.0, 0.0],\n",
              " [0.09866365199999999, 62.9194, 1985.0, 0.0, 1.0],\n",
              " [0.101338651, 232.63, 1985.0, 0.0, 1.0],\n",
              " [0.052146455999999994, 104.62799999999999, 2002.0, 0.0, 0.0],\n",
              " [0.041764487, 161.8868, 2004.0, 0.0, 0.0],\n",
              " [0.054344185999999996, 140.2154, 2002.0, 0.0, 0.0],\n",
              " [0.07836248400000001, 177.937, 1985.0, 0.0, 1.0],\n",
              " [0.052339069, 242.7512, 1997.0, 0.0, 0.0],\n",
              " [0.042464962, 81.5934, 1998.0, 1.0, 0.0],\n",
              " [0.06573288299999999, 45.7402, 1999.0, 0.0, 0.0],\n",
              " [0.023625114, 189.3846, 2002.0, 0.0, 0.0],\n",
              " [0.051643608, 107.3622, 1985.0, 1.0, 0.0],\n",
              " [0.165694219, 39.7164, 1998.0, 1.0, 0.0],\n",
              " [0.041878397000000005, 32.99, 2004.0, 0.0, 0.0],\n",
              " [0.058091482, 245.1802, 2004.0, 0.0, 0.0],\n",
              " [0.0, 263.7568, 2007.0, 0.0, 0.0],\n",
              " [0.026903714, 96.0726, 2002.0, 0.0, 0.0],\n",
              " [0.0, 161.5552, 1998.0, 1.0, 0.0],\n",
              " [0.150554711, 130.0626, 1998.0, 1.0, 0.0],\n",
              " [0.0, 131.2968, 1998.0, 1.0, 0.0],\n",
              " [0.13497562800000001, 260.0936, 1998.0, 1.0, 0.0],\n",
              " [0.15616879, 160.6578, 1987.0, 0.0, 0.0],\n",
              " [0.0, 40.2822, 2004.0, 0.0, 0.0],\n",
              " [0.133700752, 52.9298, 1999.0, 0.0, 0.0],\n",
              " [0.115119905, 88.3514, 2007.0, 0.0, 0.0],\n",
              " [0.11003099699999999, 37.2506, 1997.0, 0.0, 0.0],\n",
              " [0.051038045, 121.7072, 2007.0, 0.0, 0.0],\n",
              " [0.062837968, 161.5578, 1987.0, 0.0, 0.0],\n",
              " [0.017116983, 211.956, 1985.0, 1.0, 0.0],\n",
              " [0.024129332000000003, 124.17299999999999, 1987.0, 0.0, 0.0],\n",
              " [0.049754975, 152.134, 1985.0, 1.0, 0.0],\n",
              " [0.0, 79.7644, 2004.0, 0.0, 0.0],\n",
              " [0.101561568, 181.9292, 1985.0, 0.0, 1.0],\n",
              " [0.0059496440000000005, 165.6526, 1985.0, 0.0, 1.0],\n",
              " [0.13956116, 170.4764, 1985.0, 0.0, 1.0],\n",
              " [0.126035694, 86.4198, 2002.0, 0.0, 0.0],\n",
              " [0.027164679, 152.334, 2004.0, 0.0, 0.0],\n",
              " [0.099325278, 45.406000000000006, 1997.0, 0.0, 0.0],\n",
              " [0.04357366, 192.8846, 1985.0, 0.0, 1.0],\n",
              " [0.082741482, 118.7782, 1985.0, 1.0, 0.0],\n",
              " [0.064565202, 92.9804, 1987.0, 0.0, 0.0],\n",
              " [0.08455456900000001, 109.8912, 1985.0, 0.0, 1.0],\n",
              " [0.058451805, 79.9618, 1985.0, 0.0, 1.0],\n",
              " [0.113748685, 251.3724, 2002.0, 0.0, 0.0],\n",
              " [0.020603511, 42.7112, 2007.0, 0.0, 0.0],\n",
              " [0.052044976, 192.1846, 2004.0, 0.0, 0.0],\n",
              " [0.06276442900000001, 227.6062, 2007.0, 0.0, 0.0],\n",
              " [0.08797726199999999, 229.0668, 2004.0, 0.0, 0.0],\n",
              " [0.010010425, 249.0408, 2004.0, 0.0, 0.0],\n",
              " [0.033946163, 179.3976, 1987.0, 0.0, 0.0],\n",
              " [0.058414678, 163.4552, 2004.0, 0.0, 0.0],\n",
              " [0.027106459, 75.367, 1999.0, 0.0, 0.0],\n",
              " [0.027022882999999998, 262.491, 2007.0, 0.0, 0.0],\n",
              " [0.058153409, 152.034, 1985.0, 1.0, 0.0],\n",
              " [0.128937661, 112.3886, 2009.0, 0.0, 0.0],\n",
              " [0.088846306, 61.451, 1999.0, 0.0, 0.0],\n",
              " [0.09357779, 125.9704, 1987.0, 0.0, 0.0],\n",
              " [0.165694678, 171.8764, 2002.0, 0.0, 0.0],\n",
              " [0.148392623, 41.5796, 1985.0, 1.0, 0.0],\n",
              " [0.098438394, 51.1324, 2007.0, 0.0, 0.0],\n",
              " [0.143303291, 96.34100000000001, 1987.0, 0.0, 0.0],\n",
              " [0.076276208, 110.9202, 2002.0, 0.0, 0.0],\n",
              " [0.175103435, 127.5362, 2007.0, 0.0, 0.0],\n",
              " [0.023511371, 225.9404, 1987.0, 0.0, 0.0],\n",
              " [0.06105276, 95.4436, 2004.0, 0.0, 0.0],\n",
              " [0.049559042000000005, 246.4144, 2007.0, 0.0, 0.0],\n",
              " [0.119418124, 231.03, 2002.0, 0.0, 0.0],\n",
              " [0.072545601, 176.237, 2002.0, 0.0, 0.0],\n",
              " [0.090486828, 195.21099999999998, 1987.0, 0.0, 0.0],\n",
              " [0.056245075, 43.3454, 1987.0, 0.0, 0.0],\n",
              " [0.014618973, 85.225, 1987.0, 0.0, 0.0],\n",
              " [0.04347912599999999, 36.7164, 2007.0, 0.0, 0.0],\n",
              " [0.045166237000000005, 178.666, 1987.0, 0.0, 0.0],\n",
              " [0.057827101, 128.83100000000002, 1997.0, 0.0, 0.0],\n",
              " [0.089394766, 260.1594, 1987.0, 0.0, 0.0],\n",
              " [0.10550944, 85.6908, 1987.0, 0.0, 0.0],\n",
              " [0.005234153, 264.0884, 2004.0, 0.0, 0.0],\n",
              " [0.036390174, 91.4488, 1997.0, 0.0, 0.0],\n",
              " [0.03292824, 173.1738, 1985.0, 0.0, 1.0],\n",
              " [0.081252534, 256.4988, 1987.0, 0.0, 0.0],\n",
              " [0.076552407, 110.5202, 2007.0, 0.0, 0.0],\n",
              " [0.016758568999999997, 250.4408, 1998.0, 1.0, 0.0],\n",
              " [0.044248175, 126.20200000000001, 1985.0, 0.0, 1.0],\n",
              " [0.038288087, 103.1964, 2009.0, 0.0, 0.0],\n",
              " [0.186032678, 253.0698, 2004.0, 0.0, 0.0],\n",
              " [0.031867464, 101.0016, 1985.0, 0.0, 1.0],\n",
              " [0.021370201000000002, 153.0024, 2007.0, 0.0, 0.0],\n",
              " [0.193772568, 190.3846, 1985.0, 1.0, 0.0],\n",
              " [0.009866049, 151.1366, 2004.0, 0.0, 0.0],\n",
              " [0.082551042, 147.3734, 1998.0, 1.0, 0.0],\n",
              " [0.099729888, 46.306000000000004, 2009.0, 0.0, 0.0],\n",
              " [0.018801549, 222.1772, 2004.0, 0.0, 0.0],\n",
              " [0.11972145099999999, 95.5094, 1999.0, 0.0, 0.0],\n",
              " [0.071222087, 113.5518, 2002.0, 0.0, 0.0],\n",
              " [0.060371962, 174.0712, 1985.0, 0.0, 1.0],\n",
              " [0.033287541000000004, 198.4768, 2002.0, 0.0, 0.0],\n",
              " [0.05858462, 142.7128, 2009.0, 0.0, 0.0],\n",
              " [0.11679292, 196.21099999999998, 1985.0, 0.0, 1.0],\n",
              " [0.031452265, 94.3462, 1999.0, 0.0, 0.0],\n",
              " [0.00721395, 47.9034, 2004.0, 0.0, 0.0],\n",
              " [0.081196619, 141.4154, 1997.0, 0.0, 0.0],\n",
              " [0.049916364000000005, 80.2644, 2007.0, 0.0, 0.0],\n",
              " [0.04627095, 99.3384, 1997.0, 0.0, 0.0],\n",
              " [0.02747716, 87.9856, 1985.0, 0.0, 1.0],\n",
              " [0.10470453699999999, 125.2678, 1985.0, 1.0, 0.0],\n",
              " [0.012540003000000001, 167.0474, 2004.0, 0.0, 0.0],\n",
              " [0.147023834, 93.7436, 2009.0, 0.0, 0.0],\n",
              " [0.15965759599999998, 224.972, 2002.0, 0.0, 0.0],\n",
              " [0.141398626, 250.5382, 2007.0, 0.0, 0.0],\n",
              " [0.148821808, 241.2854, 2002.0, 0.0, 0.0],\n",
              " [0.0, 98.0068, 2009.0, 0.0, 0.0],\n",
              " [0.029691762000000003, 92.6436, 1997.0, 0.0, 0.0],\n",
              " [0.09671552300000001, 235.0958, 2004.0, 0.0, 0.0],\n",
              " [0.014790558999999998, 193.6162, 2004.0, 0.0, 0.0],\n",
              " [0.054378253, 59.1904, 1997.0, 0.0, 0.0],\n",
              " [0.123428594, 89.1514, 1997.0, 0.0, 0.0],\n",
              " [0.029943462999999997, 60.222, 1985.0, 0.0, 1.0],\n",
              " [0.052368060999999994, 112.7176, 1987.0, 0.0, 0.0],\n",
              " [0.09386114400000001, 115.5834, 2002.0, 0.0, 0.0],\n",
              " [0.033968647000000005, 148.0076, 2002.0, 0.0, 0.0],\n",
              " [0.173154079, 228.27200000000002, 1998.0, 1.0, 0.0],\n",
              " [0.139735226, 147.5392, 2002.0, 0.0, 0.0],\n",
              " [0.043351895999999994, 146.6418, 1985.0, 0.0, 1.0],\n",
              " [0.042086652, 122.4388, 1985.0, 0.0, 1.0],\n",
              " [0.12848269, 223.9404, 1999.0, 0.0, 0.0],\n",
              " [0.049357077, 62.6168, 2007.0, 0.0, 0.0],\n",
              " [0.008326735, 149.9708, 2007.0, 0.0, 0.0],\n",
              " [0.021362955, 103.2306, 1999.0, 0.0, 0.0],\n",
              " [0.151420934, 194.3478, 1998.0, 1.0, 0.0],\n",
              " [0.032511818, 165.0842, 1987.0, 0.0, 0.0],\n",
              " [0.022323658, 101.29899999999999, 2002.0, 0.0, 0.0],\n",
              " [0.019292355, 129.9994, 1985.0, 0.0, 1.0],\n",
              " [0.048124442999999996, 216.7166, 2002.0, 0.0, 0.0],\n",
              " [0.09261307, 76.367, 1987.0, 0.0, 0.0],\n",
              " [0.094697274, 158.4604, 1985.0, 0.0, 1.0],\n",
              " [0.035984103999999996, 260.6278, 2002.0, 0.0, 0.0],\n",
              " [0.056596985, 230.9984, 1985.0, 0.0, 1.0],\n",
              " [0.2047, 76.867, 1985.0, 1.0, 0.0],\n",
              " [0.020618324, 129.3994, 1985.0, 0.0, 1.0],\n",
              " [0.04709821, 101.3016, 1997.0, 0.0, 0.0],\n",
              " [0.087584126, 221.7456, 2002.0, 0.0, 0.0],\n",
              " [0.038078899, 122.9046, 2007.0, 0.0, 0.0],\n",
              " [0.095102092, 104.4332, 2007.0, 0.0, 0.0],\n",
              " [0.011953901999999999, 164.5184, 1985.0, 0.0, 1.0],\n",
              " [0.062799379, 88.18299999999999, 1987.0, 0.0, 0.0],\n",
              " [0.031125708999999998, 174.3054, 1987.0, 0.0, 0.0],\n",
              " [0.026005891, 180.9976, 2002.0, 0.0, 0.0],\n",
              " [0.09246392, 190.9504, 1985.0, 1.0, 0.0],\n",
              " [0.107765165, 59.5904, 1999.0, 0.0, 0.0],\n",
              " [0.010647476999999999, 66.3826, 1999.0, 0.0, 0.0],\n",
              " [0.015749341, 182.2608, 1999.0, 0.0, 0.0],\n",
              " [0.077628053, 197.611, 1999.0, 0.0, 0.0],\n",
              " [0.0, 181.2292, 2009.0, 0.0, 0.0],\n",
              " [0.056695731, 104.0648, 2009.0, 0.0, 0.0],\n",
              " [0.063993068, 260.4594, 2002.0, 0.0, 0.0],\n",
              " [0.06952926200000001, 233.1616, 1987.0, 0.0, 0.0],\n",
              " [0.034452949, 174.0422, 1997.0, 0.0, 0.0],\n",
              " [0.06670068, 55.2956, 1999.0, 0.0, 0.0],\n",
              " [0.034699737, 141.7496, 1997.0, 0.0, 0.0],\n",
              " [0.058346939, 142.2128, 1997.0, 0.0, 0.0],\n",
              " [0.065203103, 166.0816, 1985.0, 0.0, 1.0],\n",
              " [0.07892957099999999, 79.9276, 1997.0, 0.0, 0.0],\n",
              " [0.18251488100000002, 98.77, 1985.0, 0.0, 1.0],\n",
              " [0.016895293000000002, 178.56599999999997, 2009.0, 0.0, 0.0],\n",
              " [0.073379745, 118.244, 1997.0, 0.0, 0.0],\n",
              " [0.08075758, 81.896, 2002.0, 0.0, 0.0],\n",
              " [0.11227149800000001, 58.222, 1999.0, 0.0, 0.0],\n",
              " [0.153741385, 182.6292, 1985.0, 1.0, 0.0],\n",
              " [0.127929521, 211.4902, 1987.0, 0.0, 0.0],\n",
              " [0.07838564, 256.4646, 2004.0, 0.0, 0.0],\n",
              " [0.078502143, 108.7596, 2007.0, 0.0, 0.0],\n",
              " [0.047684831, 212.5876, 2009.0, 0.0, 0.0],\n",
              " [0.12315965599999999, 110.1544, 2007.0, 0.0, 0.0],\n",
              " [0.0, 60.2194, 1985.0, 0.0, 1.0],\n",
              " [0.053392944000000005, 193.8162, 1985.0, 1.0, 0.0],\n",
              " [0.036715907, 180.0318, 2002.0, 0.0, 0.0],\n",
              " [0.065236932, 176.437, 2004.0, 0.0, 0.0],\n",
              " [0.041947547, 41.2112, 1987.0, 0.0, 0.0],\n",
              " [0.08288849599999999, 178.6002, 2009.0, 0.0, 0.0],\n",
              " [0.055390120999999994, 195.2768, 1997.0, 0.0, 0.0],\n",
              " [0.012194556, 57.7904, 1987.0, 0.0, 0.0],\n",
              " [0.060495243, 169.8106, 1987.0, 0.0, 0.0],\n",
              " [0.0, 214.3218, 2004.0, 0.0, 0.0],\n",
              " [0.014753811, 231.7958, 1985.0, 0.0, 1.0],\n",
              " [0.160707489, 38.019, 1985.0, 0.0, 1.0],\n",
              " [0.085622362, 119.4124, 2009.0, 0.0, 0.0],\n",
              " [0.046350909, 37.4506, 2007.0, 0.0, 0.0],\n",
              " [0.102920886, 130.4968, 1997.0, 0.0, 0.0],\n",
              " [0.026604781, 86.2198, 2004.0, 0.0, 0.0],\n",
              " [0.0, 96.4094, 2004.0, 0.0, 0.0],\n",
              " [0.031860325, 235.1248, 1998.0, 1.0, 0.0],\n",
              " [0.0, 52.6666, 1985.0, 0.0, 1.0],\n",
              " [0.021250002, 150.5024, 1997.0, 0.0, 0.0],\n",
              " [0.159936948, 143.2154, 1997.0, 0.0, 0.0],\n",
              " [0.12950314599999999, 164.021, 2002.0, 0.0, 0.0],\n",
              " [0.142688846, 88.5514, 1997.0, 0.0, 0.0],\n",
              " [0.179484411, 228.9352, 1985.0, 1.0, 0.0],\n",
              " [0.08916305599999999, 191.3504, 2002.0, 0.0, 0.0],\n",
              " [0.105761491, 84.8908, 1999.0, 0.0, 0.0],\n",
              " [0.056960814000000005, 230.0984, 1999.0, 0.0, 0.0],\n",
              " [0.00704098, 173.5738, 1997.0, 0.0, 0.0],\n",
              " [0.011026593999999999, 166.4842, 2009.0, 0.0, 0.0],\n",
              " [0.093203257, 52.7956, 2002.0, 0.0, 0.0],\n",
              " [0.026916793999999997, 50.9666, 1985.0, 0.0, 1.0],\n",
              " [0.035264298, 86.1224, 2002.0, 0.0, 0.0],\n",
              " [0.015908423999999997, 231.1668, 2004.0, 0.0, 0.0],\n",
              " [0.017719277, 211.0244, 1997.0, 0.0, 0.0],\n",
              " [0.035334201, 115.3518, 1985.0, 0.0, 1.0],\n",
              " [0.065652494, 48.9034, 1985.0, 1.0, 0.0],\n",
              " [0.056919038, 212.8218, 1999.0, 0.0, 0.0],\n",
              " [0.048143292000000004, 40.2138, 1997.0, 0.0, 0.0],\n",
              " [0.022047313, 110.2886, 1987.0, 0.0, 0.0],\n",
              " [0.090427268, 126.2336, 1985.0, 0.0, 1.0],\n",
              " [0.027779254, 150.1708, 1997.0, 0.0, 0.0],\n",
              " [0.0, 238.3248, 1998.0, 1.0, 0.0],\n",
              " [0.008033611, 174.2422, 2009.0, 0.0, 0.0],\n",
              " [0.033088472, 175.4738, 1997.0, 0.0, 0.0],\n",
              " [0.160663021, 59.4562, 1997.0, 0.0, 0.0],\n",
              " [0.178975721, 155.5288, 2007.0, 0.0, 0.0],\n",
              " [0.017627888, 239.6538, 2004.0, 0.0, 0.0],\n",
              " [0.0194158, 41.6454, 1985.0, 1.0, 0.0],\n",
              " [0.016993225, 211.0586, 2002.0, 0.0, 0.0],\n",
              " [0.027139012999999997, 127.3336, 2007.0, 0.0, 0.0],\n",
              " [0.03777249, 98.0068, 1998.0, 1.0, 0.0],\n",
              " [0.036746479, 181.2976, 2002.0, 0.0, 0.0],\n",
              " [0.022460102000000003, 226.8036, 1999.0, 0.0, 0.0],\n",
              " [0.0, 256.7672, 2009.0, 0.0, 0.0],\n",
              " [0.05213575, 190.1846, 1999.0, 0.0, 0.0],\n",
              " [0.062508438, 227.1062, 1999.0, 0.0, 0.0],\n",
              " [0.007309544, 196.2426, 2009.0, 0.0, 0.0],\n",
              " [0.015623753999999998, 182.6266, 2009.0, 0.0, 0.0],\n",
              " [0.14297822300000002, 87.4514, 2002.0, 0.0, 0.0],\n",
              " [0.017191055, 51.535, 2002.0, 0.0, 0.0],\n",
              " [0.143592939, 37.3164, 1985.0, 1.0, 0.0],\n",
              " [0.011995271000000002, 184.5924, 1997.0, 0.0, 0.0],\n",
              " [0.15717236, 149.1418, 1999.0, 0.0, 0.0],\n",
              " [0.061393095, 91.81200000000001, 1985.0, 1.0, 0.0],\n",
              " [0.264124669, 155.7314, 1985.0, 1.0, 0.0],\n",
              " [0.020310046000000002, 218.0508, 1987.0, 0.0, 0.0],\n",
              " [0.054630834, 200.2084, 1997.0, 0.0, 0.0],\n",
              " [0.052517969000000005, 115.4176, 2002.0, 0.0, 0.0],\n",
              " [0.047565208, 213.4876, 1999.0, 0.0, 0.0],\n",
              " [0.060797393, 223.8404, 1987.0, 0.0, 0.0],\n",
              " [0.041291168999999996, 180.7634, 1997.0, 0.0, 0.0],\n",
              " [0.022604051, 181.4318, 1997.0, 0.0, 0.0],\n",
              " [0.056580227999999996, 105.6648, 2002.0, 0.0, 0.0],\n",
              " [0.16419682300000002, 120.5124, 1999.0, 0.0, 0.0],\n",
              " [0.022976497000000002, 261.6594, 2009.0, 0.0, 0.0],\n",
              " [0.027310252, 101.0042, 2004.0, 0.0, 0.0],\n",
              " [0.141975462, 49.6008, 1985.0, 1.0, 0.0],\n",
              " [0.0, 45.9428, 1987.0, 0.0, 0.0],\n",
              " [0.01619866, 129.2626, 2007.0, 0.0, 0.0],\n",
              " [0.014205168, 56.7614, 1985.0, 0.0, 1.0],\n",
              " [0.09344495, 141.0812, 2004.0, 0.0, 0.0],\n",
              " [0.019199733, 84.3592, 1997.0, 0.0, 0.0],\n",
              " [0.15412025199999999, 51.935, 2009.0, 0.0, 0.0],\n",
              " [0.089004389, 196.7452, 2002.0, 0.0, 0.0],\n",
              " [0.011117041000000001, 85.854, 1987.0, 0.0, 0.0],\n",
              " [0.103422709, 169.9448, 2004.0, 0.0, 0.0],\n",
              " [0.089035961, 260.5594, 1985.0, 0.0, 1.0],\n",
              " [0.102723919, 93.212, 1997.0, 0.0, 0.0],\n",
              " [0.024733134, 40.2822, 1985.0, 0.0, 1.0],\n",
              " [0.044871033, 140.3838, 1987.0, 0.0, 0.0],\n",
              " [0.029760052000000002, 38.7138, 1987.0, 0.0, 0.0],\n",
              " [0.078999287, 38.6506, 2007.0, 0.0, 0.0],\n",
              " [0.020870744, 117.3782, 1997.0, 0.0, 0.0],\n",
              " [0.031599715, 111.3228, 2007.0, 0.0, 0.0],\n",
              " [0.042413704, 173.1764, 2009.0, 0.0, 0.0],\n",
              " [0.072284689, 119.9098, 2004.0, 0.0, 0.0],\n",
              " [0.009984847, 175.437, 1987.0, 0.0, 0.0],\n",
              " [0.052852620999999995, 88.78299999999999, 2007.0, 0.0, 0.0],\n",
              " [0.014660821000000001, 85.125, 2002.0, 0.0, 0.0],\n",
              " [0.076354362, 192.1846, 2009.0, 0.0, 0.0],\n",
              " [0.07670963900000001, 247.84599999999998, 2002.0, 0.0, 0.0],\n",
              " [0.005677876, 184.8924, 2002.0, 0.0, 0.0],\n",
              " [0.0, 184.7266, 1985.0, 0.0, 1.0],\n",
              " [0.012282366000000001, 132.5284, 1999.0, 0.0, 0.0],\n",
              " [0.026681262, 56.4246, 1997.0, 0.0, 0.0],\n",
              " [0.127541722, 84.9224, 1997.0, 0.0, 0.0],\n",
              " [0.119513002, 93.4094, 2004.0, 0.0, 0.0],\n",
              " [0.054463442, 163.8842, 1998.0, 1.0, 0.0],\n",
              " [0.0, 151.3366, 2002.0, 0.0, 0.0],\n",
              " [0.015756784, 185.0608, 2002.0, 0.0, 0.0],\n",
              " [0.010907967, 182.3608, 1987.0, 0.0, 0.0],\n",
              " [0.07543556, 235.8616, 2004.0, 0.0, 0.0],\n",
              " [0.0, 196.8452, 1997.0, 0.0, 0.0],\n",
              " [0.11519471699999999, 258.3278, 1998.0, 1.0, 0.0],\n",
              " [0.066922802, 174.83700000000002, 2004.0, 0.0, 0.0],\n",
              " [0.064636203, 90.0804, 1985.0, 0.0, 1.0],\n",
              " [0.10319540099999999, 117.8466, 2002.0, 0.0, 0.0],\n",
              " [0.13121032, 74.0354, 1985.0, 1.0, 0.0],\n",
              " [0.035747522000000004, 133.6284, 1997.0, 0.0, 0.0],\n",
              " [0.192650072, 37.4506, 1985.0, 1.0, 0.0],\n",
              " [0.09803177099999999, 151.3024, 1985.0, 1.0, 0.0],\n",
              " [0.030118337999999998, 248.8092, 1985.0, 0.0, 1.0],\n",
              " [0.016201845, 195.2478, 2007.0, 0.0, 0.0],\n",
              " [0.05837308, 243.9828, 1998.0, 1.0, 0.0],\n",
              " [0.087652908, 128.8678, 2004.0, 0.0, 0.0],\n",
              " [0.065999008, 177.96599999999998, 1999.0, 0.0, 0.0],\n",
              " [0.088750333, 196.5452, 1987.0, 0.0, 0.0],\n",
              " [0.100277876, 196.8768, 1985.0, 0.0, 1.0],\n",
              " [0.09925243800000001, 87.4856, 2004.0, 0.0, 0.0],\n",
              " [0.0, 127.831, 2002.0, 0.0, 0.0],\n",
              " [0.0, 117.815, 2007.0, 0.0, 0.0],\n",
              " [0.026384672, 208.9954, 1999.0, 0.0, 0.0],\n",
              " [0.228993134, 263.4568, 1998.0, 1.0, 0.0],\n",
              " [0.065431917, 76.1986, 2007.0, 0.0, 0.0],\n",
              " [0.026749991, 106.928, 1985.0, 0.0, 1.0],\n",
              " [0.0, 43.6744, 2009.0, 0.0, 0.0],\n",
              " [0.043333912, 201.0742, 2009.0, 0.0, 0.0],\n",
              " [0.08965681199999999, 144.0102, 2007.0, 0.0, 0.0],\n",
              " [0.039954281, 82.4908, 2004.0, 0.0, 0.0],\n",
              " [0.087854925, 95.9752, 1985.0, 1.0, 0.0],\n",
              " [0.14940405699999998, 192.8478, 1998.0, 1.0, 0.0],\n",
              " [0.0268952, 128.40200000000002, 2002.0, 0.0, 0.0],\n",
              " [0.065857092, 258.5646, 2009.0, 0.0, 0.0],\n",
              " [0.161817014, 37.819, 2002.0, 0.0, 0.0],\n",
              " [0.082197959, 49.2034, 1987.0, 0.0, 0.0],\n",
              " [0.015335349, 106.6938, 2002.0, 0.0, 0.0],\n",
              " [0.00599072, 163.6526, 2002.0, 0.0, 0.0],\n",
              " [0.013898123, 46.506, 2009.0, 0.0, 0.0],\n",
              " [0.078912473, 99.9042, 1985.0, 0.0, 1.0],\n",
              " [0.059776237, 231.7642, 1985.0, 0.0, 1.0],\n",
              " [0.0, 39.7506, 1987.0, 0.0, 0.0],\n",
              " [0.29788371199999997, 156.7288, 1998.0, 1.0, 0.0],\n",
              " [0.022059594, 56.0614, 1998.0, 1.0, 0.0],\n",
              " [0.03532494, 38.9506, 1987.0, 0.0, 0.0],\n",
              " [0.124967595, 112.7544, 2002.0, 0.0, 0.0],\n",
              " [0.062411404000000004, 225.9062, 1997.0, 0.0, 0.0],\n",
              " [0.032754431, 140.5154, 2009.0, 0.0, 0.0],\n",
              " [0.160178832, 160.2894, 1985.0, 1.0, 0.0],\n",
              " [0.10403514800000001, 227.77200000000002, 2007.0, 0.0, 0.0],\n",
              " [0.06390019, 157.263, 2002.0, 0.0, 0.0],\n",
              " [0.06264811099999999, 104.899, 1987.0, 0.0, 0.0],\n",
              " [0.11168586800000001, 184.7924, 1998.0, 1.0, 0.0],\n",
              " [0.23303981699999998, 49.5376, 1998.0, 1.0, 0.0],\n",
              " [0.17824575, 158.1288, 1999.0, 0.0, 0.0],\n",
              " [0.140241213, 150.2392, 2007.0, 0.0, 0.0],\n",
              " [0.0, 173.3738, 1997.0, 0.0, 0.0],\n",
              " [0.033935576, 221.9456, 2004.0, 0.0, 0.0],\n",
              " [0.016516275, 47.4034, 1985.0, 0.0, 1.0],\n",
              " [0.026537206, 57.2614, 1997.0, 0.0, 0.0],\n",
              " [0.015673267, 145.047, 2004.0, 0.0, 0.0],\n",
              " [0.089083914, 54.593, 1998.0, 1.0, 0.0],\n",
              " [0.13115279900000001, 78.6328, 2007.0, 0.0, 0.0],\n",
              " [0.083109455, 195.8426, 1985.0, 0.0, 1.0],\n",
              " [0.045818773, 138.718, 1987.0, 0.0, 0.0],\n",
              " [0.044869794000000005, 76.467, 2004.0, 0.0, 0.0],\n",
              " [0.0, 160.692, 1985.0, 1.0, 0.0],\n",
              " [0.04605781, 43.8744, 1999.0, 0.0, 0.0],\n",
              " [0.030815427000000003, 252.0698, 1998.0, 1.0, 0.0],\n",
              " [0.01806055, 97.0094, 2002.0, 0.0, 0.0],\n",
              " [0.035205866, 171.3448, 1999.0, 0.0, 0.0],\n",
              " [0.076705948, 34.7558, 2004.0, 0.0, 0.0],\n",
              " [0.089677773, 139.8496, 1997.0, 0.0, 0.0],\n",
              " [0.132327406, 168.4158, 1985.0, 1.0, 0.0],\n",
              " [0.065520388, 168.3816, 1997.0, 0.0, 0.0],\n",
              " [0.012518706999999999, 190.6872, 2007.0, 0.0, 0.0],\n",
              " [0.050353695, 78.696, 2007.0, 0.0, 0.0],\n",
              " [0.110762642, 108.5912, 1985.0, 0.0, 1.0],\n",
              " [0.045050674000000006, 84.925, 1985.0, 0.0, 1.0],\n",
              " [0.083016832, 193.4504, 2007.0, 0.0, 0.0],\n",
              " [0.0, 139.9838, 2002.0, 0.0, 0.0],\n",
              " [0.023983257999999997, 106.32799999999999, 2009.0, 0.0, 0.0],\n",
              " [0.075836522, 40.2138, 1998.0, 1.0, 0.0],\n",
              " [0.100330684, 123.4388, 1999.0, 0.0, 0.0],\n",
              " [0.051778173, 157.892, 1985.0, 1.0, 0.0],\n",
              " [0.022970467999999997, 211.0928, 2004.0, 0.0, 0.0],\n",
              " [0.066014596, 259.7278, 1987.0, 0.0, 0.0],\n",
              " [0.07429945, 264.9568, 2002.0, 0.0, 0.0],\n",
              " [0.131128467, 93.1804, 1999.0, 0.0, 0.0],\n",
              " [0.014816356000000001, 194.1162, 1999.0, 0.0, 0.0],\n",
              " [0.049318315, 149.005, 2002.0, 0.0, 0.0],\n",
              " [0.017960491999999998, 81.596, 2007.0, 0.0, 0.0],\n",
              " [0.035801238, 92.61200000000001, 2009.0, 0.0, 0.0],\n",
              " [0.038606365, 146.5102, 2002.0, 0.0, 0.0],\n",
              " [0.008871687, 99.7384, 2009.0, 0.0, 0.0],\n",
              " [0.125793938, 36.2506, 1985.0, 1.0, 0.0],\n",
              " [0.058369013, 115.2834, 2009.0, 0.0, 0.0],\n",
              " [0.0, 39.3822, 1997.0, 0.0, 0.0],\n",
              " [0.07326933599999999, 92.11200000000001, 2004.0, 0.0, 0.0],\n",
              " [0.049677650999999996, 245.9144, 1987.0, 0.0, 0.0],\n",
              " [0.031470832000000004, 110.2228, 1999.0, 0.0, 0.0],\n",
              " [0.024579432000000002, 105.3306, 1999.0, 0.0, 0.0],\n",
              " [0.131665479, 91.8804, 2007.0, 0.0, 0.0],\n",
              " [0.015523707, 212.0928, 2009.0, 0.0, 0.0],\n",
              " [0.122475364, 175.5738, 2002.0, 0.0, 0.0],\n",
              " [0.10789139800000001, 182.7634, 1997.0, 0.0, 0.0],\n",
              " [0.128065918, 104.3622, 2004.0, 0.0, 0.0],\n",
              " [0.045361705, 83.825, 2002.0, 0.0, 0.0],\n",
              " [0.09039035699999999, 192.1478, 1987.0, 0.0, 0.0],\n",
              " [0.087029712, 109.2228, 1985.0, 0.0, 1.0],\n",
              " [0.052054819, 189.1846, 1997.0, 0.0, 0.0],\n",
              " [0.051952572999999995, 152.3024, 2002.0, 0.0, 0.0],\n",
              " [0.050786366, 152.2024, 2007.0, 0.0, 0.0],\n",
              " [0.067141355, 114.586, 2004.0, 0.0, 0.0],\n",
              " [0.121485195, 40.2454, 1987.0, 0.0, 0.0],\n",
              " [0.080640478, 167.77900000000002, 1997.0, 0.0, 0.0],\n",
              " [0.037699254, 110.2886, 2002.0, 0.0, 0.0],\n",
              " [0.0, 123.2414, 2009.0, 0.0, 0.0],\n",
              " [0.034501405, 211.7218, 2007.0, 0.0, 0.0],\n",
              " [0.053795154000000005, 117.7466, 1985.0, 0.0, 1.0],\n",
              " [0.044004675, 188.85299999999998, 1997.0, 0.0, 0.0],\n",
              " [0.0, 76.8354, 1997.0, 0.0, 0.0],\n",
              " [0.12125037400000001, 193.9452, 1997.0, 0.0, 0.0],\n",
              " [0.0, 115.1808, 2009.0, 0.0, 0.0],\n",
              " [0.10023011400000001, 112.9886, 1999.0, 0.0, 0.0],\n",
              " [0.167383061, 175.6712, 1997.0, 0.0, 0.0],\n",
              " [0.034404732, 98.1726, 2004.0, 0.0, 0.0],\n",
              " [0.082719632, 179.3002, 2002.0, 0.0, 0.0],\n",
              " [0.041913535, 90.7462, 2004.0, 0.0, 0.0],\n",
              " [0.0132043, 143.8154, 2007.0, 0.0, 0.0],\n",
              " [0.041105789, 83.4934, 1997.0, 0.0, 0.0],\n",
              " [0.141106202, 87.9172, 1985.0, 0.0, 1.0],\n",
              " [0.036463975, 90.7488, 2002.0, 0.0, 0.0],\n",
              " [0.01946418, 196.3794, 1987.0, 0.0, 0.0],\n",
              " [0.0, 57.3562, 1987.0, 0.0, 0.0],\n",
              " [0.12308681199999999, 206.9638, 2002.0, 0.0, 0.0],\n",
              " [0.10564685300000001, 42.8796, 2004.0, 0.0, 0.0],\n",
              " [0.11814937699999999, 160.5578, 2007.0, 0.0, 0.0],\n",
              " [0.046545786, 59.9878, 1987.0, 0.0, 0.0],\n",
              " [0.065009745, 79.5986, 1987.0, 0.0, 0.0],\n",
              " [0.016630303, 48.1034, 2002.0, 0.0, 0.0],\n",
              " [0.134532392, 39.448, 1999.0, 0.0, 0.0],\n",
              " [0.083133128, 120.1756, 1999.0, 0.0, 0.0],\n",
              " [0.039428167, 127.9678, 2009.0, 0.0, 0.0],\n",
              " [0.0, 93.1462, 2009.0, 0.0, 0.0],\n",
              " [0.034823127, 248.675, 2002.0, 0.0, 0.0],\n",
              " [0.148492521, 240.6854, 2004.0, 0.0, 0.0],\n",
              " [0.06590129900000001, 188.7214, 2009.0, 0.0, 0.0],\n",
              " [0.041622264, 124.0072, 1999.0, 0.0, 0.0],\n",
              " [0.064933297, 174.83700000000002, 1985.0, 0.0, 1.0],\n",
              " [0.0945493, 102.6332, 2004.0, 0.0, 0.0],\n",
              " [0.107076832, 58.7904, 1985.0, 0.0, 1.0],\n",
              " [0.12867498300000002, 112.3886, 2002.0, 0.0, 0.0],\n",
              " [0.18832266399999997, 148.5418, 2009.0, 0.0, 0.0],\n",
              " [0.0, 145.2102, 1985.0, 1.0, 0.0],\n",
              " [0.052025392000000004, 118.4124, 1987.0, 0.0, 0.0],\n",
              " [0.065316099, 189.9214, 1985.0, 0.0, 1.0],\n",
              " [0.01516265, 101.899, 1998.0, 1.0, 0.0],\n",
              " [0.053584207, 224.4088, 1997.0, 0.0, 0.0],\n",
              " [0.020989132, 158.6578, 1987.0, 0.0, 0.0],\n",
              " [0.144017405, 238.3222, 1997.0, 0.0, 0.0],\n",
              " [0.11597812199999999, 183.4266, 1985.0, 0.0, 1.0],\n",
              " [0.081465335, 220.7798, 2009.0, 0.0, 0.0],\n",
              " [0.041177505, 142.3496, 2007.0, 0.0, 0.0],\n",
              " [0.042352822000000005, 51.6982, 2009.0, 0.0, 0.0],\n",
              " [0.074541867, 94.1462, 2009.0, 0.0, 0.0],\n",
              " [0.18454121, 211.5902, 2002.0, 0.0, 0.0],\n",
              " [0.114160573, 253.1724, 2007.0, 0.0, 0.0],\n",
              " [0.175352413, 147.4102, 1999.0, 0.0, 0.0],\n",
              " [0.083590755, 182.2318, 2004.0, 0.0, 0.0],\n",
              " [0.029471407999999998, 105.4622, 1987.0, 0.0, 0.0],\n",
              " [0.028282832, 46.2744, 2007.0, 0.0, 0.0],\n",
              " [0.0, 46.5402, 1998.0, 1.0, 0.0],\n",
              " [0.008208341999999999, 102.8674, 2002.0, 0.0, 0.0],\n",
              " [0.03334929, 155.034, 2009.0, 0.0, 0.0],\n",
              " [0.076060037, 95.141, 1997.0, 0.0, 0.0],\n",
              " [0.014301326000000001, 103.0332, 1997.0, 0.0, 0.0],\n",
              " [0.074931201, 187.6556, 2009.0, 0.0, 0.0],\n",
              " [0.080131363, 234.03, 2009.0, 0.0, 0.0],\n",
              " [0.167444431, 194.6136, 1987.0, 0.0, 0.0],\n",
              " [0.03033748, 222.9114, 1999.0, 0.0, 0.0],\n",
              " [0.04874969, 37.5506, 2004.0, 0.0, 0.0],\n",
              " [0.014788593999999999, 174.408, 1985.0, 0.0, 1.0],\n",
              " [0.11129811099999999, 191.7846, 2007.0, 0.0, 0.0],\n",
              " [0.05268526, 83.3224, 1987.0, 0.0, 0.0],\n",
              " [0.018485511, 253.1698, 2009.0, 0.0, 0.0],\n",
              " [0.184689756, 35.4216, 1987.0, 0.0, 0.0],\n",
              " [0.064153845, 76.9012, 1987.0, 0.0, 0.0],\n",
              " [0.092516598, 120.1098, 1987.0, 0.0, 0.0],\n",
              " [0.10424519800000001, 105.3622, 1999.0, 0.0, 0.0],\n",
              " [0.041779181, 43.4112, 1985.0, 0.0, 1.0],\n",
              " [0.07226985, 254.104, 2009.0, 0.0, 0.0],\n",
              " [0.17980696100000002, 95.2752, 2009.0, 0.0, 0.0],\n",
              " [0.044995630999999994, 89.2198, 1999.0, 0.0, 0.0],\n",
              " [0.053523765, 55.393, 2007.0, 0.0, 0.0],\n",
              " [0.041459372, 89.6514, 2009.0, 0.0, 0.0],\n",
              " [0.036234918, 175.3028, 1997.0, 0.0, 0.0],\n",
              " [0.10544580099999999, 214.4218, 2009.0, 0.0, 0.0],\n",
              " [0.0, 151.6708, 1987.0, 0.0, 0.0],\n",
              " [0.05997133, 132.1968, 2009.0, 0.0, 0.0],\n",
              " [0.075595405, 114.7176, 2007.0, 0.0, 0.0],\n",
              " [0.21037580600000003, 178.2028, 1998.0, 1.0, 0.0],\n",
              " [0.059341019, 99.77, 2004.0, 0.0, 0.0],\n",
              " [0.18520944, 212.9902, 2007.0, 0.0, 0.0],\n",
              " [0.098566832, 98.3042, 1999.0, 0.0, 0.0],\n",
              " [0.11084417, 189.2846, 1999.0, 0.0, 0.0],\n",
              " [0.035015199999999996, 182.0318, 1985.0, 0.0, 1.0],\n",
              " [0.023567538, 226.8404, 1999.0, 0.0, 0.0],\n",
              " [0.0, 123.0414, 1998.0, 1.0, 0.0],\n",
              " [0.04792722, 185.9556, 2004.0, 0.0, 0.0],\n",
              " [0.036207786, 121.0782, 2002.0, 0.0, 0.0],\n",
              " [0.044377096, 185.8266, 1987.0, 0.0, 0.0],\n",
              " [0.034742632, 127.402, 2002.0, 0.0, 0.0],\n",
              " [0.116915909, 159.4578, 1985.0, 0.0, 1.0],\n",
              " [0.062979148, 87.98299999999999, 2002.0, 0.0, 0.0],\n",
              " [0.068604503, 197.3768, 1985.0, 0.0, 1.0],\n",
              " [0.03294861, 116.8124, 1985.0, 0.0, 1.0],\n",
              " [0.007450258, 186.7556, 1987.0, 0.0, 0.0],\n",
              " [0.09302771800000001, 101.4674, 1999.0, 0.0, 0.0],\n",
              " [0.164864915, 255.2698, 1985.0, 1.0, 0.0],\n",
              " [0.083498083, 199.4426, 2004.0, 0.0, 0.0],\n",
              " [0.014522363, 50.2324, 1985.0, 0.0, 1.0],\n",
              " [0.025963795, 46.3376, 2004.0, 0.0, 0.0],\n",
              " [0.019012262, 237.15900000000002, 2007.0, 0.0, 0.0],\n",
              " [0.059393919, 181.7976, 2004.0, 0.0, 0.0],\n",
              " [0.027212057999999997, 152.734, 1999.0, 0.0, 0.0],\n",
              " [0.013263968000000001, 106.9254, 1997.0, 0.0, 0.0],\n",
              " [0.079113947, 99.2068, 1998.0, 1.0, 0.0],\n",
              " [0.03020851, 153.1656, 1997.0, 0.0, 0.0],\n",
              " [0.049634817000000005, 212.5586, 1987.0, 0.0, 0.0],\n",
              " [0.047187038, 100.6016, 1997.0, 0.0, 0.0],\n",
              " [0.066681333, 194.4478, 1997.0, 0.0, 0.0],\n",
              " [0.185218446, 36.3216, 2002.0, 0.0, 0.0],\n",
              " [0.162462044, 55.893, 1998.0, 1.0, 0.0],\n",
              " [0.031273559, 160.0604, 1999.0, 0.0, 0.0],\n",
              " [0.042836778, 175.8028, 1997.0, 0.0, 0.0],\n",
              " [0.11412741800000001, 147.17600000000002, 1985.0, 1.0, 0.0],\n",
              " [0.14689586599999999, 149.605, 2009.0, 0.0, 0.0],\n",
              " [0.013420878999999998, 104.82799999999999, 2009.0, 0.0, 0.0],\n",
              " [0.026181892999999998, 167.0474, 1997.0, 0.0, 0.0],\n",
              " [0.012184998999999998, 50.3034, 2007.0, 0.0, 0.0],\n",
              " [0.026428924, 78.2302, 2009.0, 0.0, 0.0],\n",
              " [0.045243612999999995, 146.8102, 1985.0, 0.0, 1.0],\n",
              " [0.0, 127.3678, 1997.0, 0.0, 0.0],\n",
              " [0.076790922, 172.1106, 1985.0, 0.0, 1.0],\n",
              " [0.045950475, 38.2848, 2007.0, 0.0, 0.0],\n",
              " [0.133673087, 41.548, 1985.0, 0.0, 1.0],\n",
              " [0.060252433, 170.7106, 1985.0, 0.0, 1.0],\n",
              " [0.08252970400000001, 56.9588, 1999.0, 0.0, 0.0],\n",
              " [0.082552214, 179.8002, 1997.0, 0.0, 0.0],\n",
              " [0.08927225300000001, 254.7672, 1997.0, 0.0, 0.0],\n",
              " [0.072541731, 48.5692, 2002.0, 0.0, 0.0],\n",
              " [0.017536671, 45.5718, 1987.0, 0.0, 0.0],\n",
              " [0.072088552, 253.704, 1999.0, 0.0, 0.0],\n",
              " [0.092781435, 119.7098, 2002.0, 0.0, 0.0],\n",
              " [0.008644894, 122.6756, 2004.0, 0.0, 0.0],\n",
              " [0.025342692000000003, 174.3054, 2007.0, 0.0, 0.0],\n",
              " [0.031145742999999997, 173.6054, 2004.0, 0.0, 0.0],\n",
              " [0.0, 120.9072, 1999.0, 0.0, 0.0],\n",
              " [0.030108283, 165.9816, 2007.0, 0.0, 0.0],\n",
              " [0.044391149000000005, 164.3842, 1985.0, 0.0, 1.0],\n",
              " [0.022639471, 248.4092, 2007.0, 0.0, 0.0],\n",
              " [0.0, 264.791, 2007.0, 0.0, 0.0],\n",
              " [0.139419417, 66.0826, 1985.0, 1.0, 0.0],\n",
              " [0.015278898999999999, 199.0084, 1997.0, 0.0, 0.0],\n",
              " [0.039329257, 127.6678, 1999.0, 0.0, 0.0],\n",
              " [0.008579863, 72.3038, 1999.0, 0.0, 0.0],\n",
              " [0.028164527, 178.166, 1998.0, 1.0, 0.0],\n",
              " [0.0, 144.2102, 2004.0, 0.0, 0.0],\n",
              " [0.054367970999999994, 58.5904, 2004.0, 0.0, 0.0],\n",
              " [0.027346699999999998, 158.99200000000002, 1997.0, 0.0, 0.0],\n",
              " [0.016001434, 230.6668, 2007.0, 0.0, 0.0],\n",
              " [0.165328057, 170.6764, 2004.0, 0.0, 0.0],\n",
              " [0.013529883999999999, 106.2596, 1985.0, 0.0, 1.0],\n",
              " [0.030510526, 211.4244, 1997.0, 0.0, 0.0],\n",
              " [0.027699862999999998, 87.9198, 2004.0, 0.0, 0.0],\n",
              " [0.09646733, 42.8086, 1997.0, 0.0, 0.0],\n",
              " [0.011636708, 94.541, 2002.0, 0.0, 0.0],\n",
              " [0.141642219, 168.1132, 1997.0, 0.0, 0.0],\n",
              " [0.044767800999999996, 241.8854, 1985.0, 0.0, 1.0],\n",
              " [0.028009382000000003, 141.718, 1998.0, 1.0, 0.0],\n",
              " [0.1164455, 182.8266, 1987.0, 0.0, 0.0],\n",
              " [0.013584408000000001, 107.7596, 1987.0, 0.0, 0.0],\n",
              " [0.026950104, 128.40200000000002, 2009.0, 0.0, 0.0],\n",
              " [0.054751689000000006, 54.793, 2002.0, 0.0, 0.0],\n",
              " [0.076121831, 111.7202, 1997.0, 0.0, 0.0],\n",
              " [0.058516562, 164.1552, 1999.0, 0.0, 0.0],\n",
              " [0.037923509, 61.651, 1987.0, 0.0, 0.0],\n",
              " [0.058365705999999996, 82.1908, 1999.0, 0.0, 0.0],\n",
              " [0.031346387, 110.7228, 2002.0, 0.0, 0.0],\n",
              " [0.015663185, 143.947, 1987.0, 0.0, 0.0],\n",
              " [0.06375030200000001, 153.4682, 1985.0, 0.0, 1.0],\n",
              " [0.07252476, 120.3098, 1985.0, 0.0, 1.0],\n",
              " [0.038040837, 189.1188, 2007.0, 0.0, 0.0],\n",
              " [0.049823902, 82.225, 1987.0, 0.0, 0.0],\n",
              " [0.014560297, 81.425, 1985.0, 0.0, 1.0],\n",
              " [0.026408697999999998, 53.2614, 1985.0, 0.0, 1.0],\n",
              " [0.069446588, 106.3938, 2004.0, 0.0, 0.0],\n",
              " [0.03217132, 184.824, 2004.0, 0.0, 0.0],\n",
              " [0.026046137999999996, 147.2076, 2002.0, 0.0, 0.0],\n",
              " [0.12184843599999999, 46.8402, 2002.0, 0.0, 0.0],\n",
              " [0.10847050400000001, 33.4558, 2009.0, 0.0, 0.0],\n",
              " [0.0, 55.8588, 2002.0, 0.0, 0.0],\n",
              " [0.038494623, 240.2564, 1987.0, 0.0, 0.0],\n",
              " [0.122830885, 86.9514, 1985.0, 0.0, 1.0],\n",
              " [0.038029746, 88.6856, 2002.0, 0.0, 0.0],\n",
              " [0.065207559, 89.8856, 1997.0, 0.0, 0.0],\n",
              " [0.037014587, 115.1834, 2002.0, 0.0, 0.0],\n",
              " [0.133281968, 63.2826, 1998.0, 1.0, 0.0],\n",
              " [0.045299563, 38.8138, 2004.0, 0.0, 0.0],\n",
              " [0.121149472, 93.7778, 1987.0, 0.0, 0.0],\n",
              " [0.09408330300000001, 252.2698, 1987.0, 0.0, 0.0],\n",
              " [0.0, 179.3002, 1999.0, 0.0, 0.0],\n",
              " [0.0, 174.737, 2007.0, 0.0, 0.0],\n",
              " [0.035022502999999996, 85.1224, 1985.0, 0.0, 1.0],\n",
              " [0.016060186, 47.2402, 2002.0, 0.0, 0.0],\n",
              " [0.009014978, 102.699, 1985.0, 0.0, 1.0],\n",
              " [0.096733815, 233.1958, 1997.0, 0.0, 0.0],\n",
              " [0.102607233, 54.0298, 2009.0, 0.0, 0.0],\n",
              " [0.024521191, 100.6332, 2004.0, 0.0, 0.0],\n",
              " [0.16062411599999998, 143.8128, 2007.0, 0.0, 0.0],\n",
              " [0.052165855, 125.073, 1987.0, 0.0, 0.0],\n",
              " [0.0, 162.421, 2002.0, 0.0, 0.0],\n",
              " [0.0, 55.4614, 2002.0, 0.0, 0.0],\n",
              " [0.07753654, 180.86599999999999, 1985.0, 0.0, 1.0],\n",
              " [0.024928351, 95.141, 1987.0, 0.0, 0.0],\n",
              " [0.08071118, 113.1544, 1985.0, 0.0, 1.0],\n",
              " [0.080968973, 171.37900000000002, 2009.0, 0.0, 0.0],\n",
              " [0.057485327999999995, 126.2046, 1999.0, 0.0, 0.0],\n",
              " [0.149669322, 180.266, 2002.0, 0.0, 0.0],\n",
              " [0.024776026, 172.3422, 1985.0, 0.0, 1.0],\n",
              " [0.061165512000000005, 125.6388, 2004.0, 0.0, 0.0],\n",
              " [0.041718456, 94.5462, 1985.0, 0.0, 1.0],\n",
              " [0.06100886, 166.0526, 1987.0, 0.0, 0.0],\n",
              " [0.167799329, 239.4564, 2004.0, 0.0, 0.0],\n",
              " [0.167351411, 176.0712, 2004.0, 0.0, 0.0],\n",
              " [0.071832909, 36.1506, 2004.0, 0.0, 0.0],\n",
              " [0.041886576, 92.1462, 1987.0, 0.0, 0.0],\n",
              " [0.150341867, 83.1276, 1985.0, 0.0, 1.0],\n",
              " [0.020542737, 80.5618, 1987.0, 0.0, 0.0],\n",
              " [0.045047439, 186.4556, 1997.0, 0.0, 0.0],\n",
              " [0.091008572, 129.6336, 1999.0, 0.0, 0.0],\n",
              " [0.07549348, 143.5444, 2004.0, 0.0, 0.0],\n",
              " [0.156286566, 238.9538, 1999.0, 0.0, 0.0],\n",
              " [0.033735909, 110.9912, 2009.0, 0.0, 0.0],\n",
              " [0.078547351, 79.3276, 1985.0, 0.0, 1.0],\n",
              " [0.093653464, 113.3834, 2004.0, 0.0, 0.0],\n",
              " [0.036107198, 184.4924, 2009.0, 0.0, 0.0],\n",
              " [0.109003832, 145.2418, 1985.0, 1.0, 0.0],\n",
              " [0.073480266, 58.8904, 1998.0, 1.0, 0.0],\n",
              " [0.113234914, 186.3924, 1987.0, 0.0, 0.0],\n",
              " [0.037711338, 41.548, 1985.0, 0.0, 1.0],\n",
              " [0.016054884, 250.2092, 2002.0, 0.0, 0.0],\n",
              " [0.021170542, 117.6124, 1985.0, 0.0, 1.0],\n",
              " [0.065188619, 181.1634, 1985.0, 1.0, 0.0],\n",
              " [0.11753756300000001, 195.4136, 1987.0, 0.0, 0.0],\n",
              " [0.01430324, 57.2614, 2002.0, 0.0, 0.0],\n",
              " [0.137697119, 47.1034, 1998.0, 1.0, 0.0],\n",
              " [0.047008497, 112.0202, 1985.0, 0.0, 1.0],\n",
              " [0.0, 178.9318, 1999.0, 0.0, 0.0],\n",
              " [0.060863167, 97.6384, 2004.0, 0.0, 0.0],\n",
              " [0.0, 87.1856, 2004.0, 0.0, 0.0],\n",
              " [0.045105407, 89.4172, 1985.0, 1.0, 0.0],\n",
              " [0.07685520700000001, 59.3536, 1999.0, 0.0, 0.0],\n",
              " [0.024482643999999998, 116.2492, 2009.0, 0.0, 0.0],\n",
              " [0.0, 154.6314, 1985.0, 0.0, 1.0],\n",
              " [0.020474913, 248.4092, 2009.0, 0.0, 0.0],\n",
              " [0.062044506, 57.4562, 1997.0, 0.0, 0.0],\n",
              " [0.22022560800000002, 85.6198, 1985.0, 1.0, 0.0],\n",
              " [0.079794329, 80.1644, 2007.0, 0.0, 0.0],\n",
              " [0.114916546, 188.4214, 1985.0, 1.0, 0.0],\n",
              " [0.00597362, 164.5526, 1987.0, 0.0, 0.0],\n",
              " [0.146973462, 184.1292, 1998.0, 1.0, 0.0],\n",
              " [0.07376631, 208.5638, 1987.0, 0.0, 0.0],\n",
              " [0.049349120999999996, 108.6912, 1985.0, 0.0, 1.0],\n",
              " [0.328390948, 146.0418, 1985.0, 1.0, 0.0],\n",
              " [0.13267058, 96.4726, 1997.0, 0.0, 0.0],\n",
              " [0.012455787, 197.511, 2004.0, 0.0, 0.0],\n",
              " [0.058142797, 162.1552, 1985.0, 0.0, 1.0],\n",
              " [0.006289291, 153.2998, 1985.0, 1.0, 0.0],\n",
              " [0.04929502, 150.505, 1999.0, 0.0, 0.0],\n",
              " [0.054362695, 117.9466, 2007.0, 0.0, 0.0],\n",
              " [0.11035679699999999, 62.051, 1998.0, 1.0, 0.0],\n",
              " [0.08527498800000001, 119.6124, 1997.0, 0.0, 0.0],\n",
              " [0.164542555, 112.2518, 1987.0, 0.0, 0.0],\n",
              " [0.160292264, 94.712, 2002.0, 0.0, 0.0],\n",
              " [0.112859454, 118.344, 2007.0, 0.0, 0.0],\n",
              " [0.021569566000000002, 184.8582, 2004.0, 0.0, 0.0],\n",
              " [0.073055148, 33.7216, 1985.0, 0.0, 1.0],\n",
              " [0.11934562900000001, 261.991, 2007.0, 0.0, 0.0],\n",
              " [0.072334667, 49.1692, 1987.0, 0.0, 0.0],\n",
              " [0.10814891300000001, 95.6752, 1987.0, 0.0, 0.0],\n",
              " [0.07585337, 36.8532, 1999.0, 0.0, 0.0],\n",
              " [0.062655235, 163.3184, 2002.0, 0.0, 0.0],\n",
              " [0.022278477, 102.499, 1997.0, 0.0, 0.0],\n",
              " [0.020961192, 62.0194, 2009.0, 0.0, 0.0],\n",
              " [0.025993422999999998, 147.4076, 1997.0, 0.0, 0.0],\n",
              " [0.018838681, 62.9536, 1985.0, 0.0, 1.0],\n",
              " [0.105577348, 85.6908, 2004.0, 0.0, 0.0],\n",
              " [0.129086113, 89.4856, 1999.0, 0.0, 0.0],\n",
              " [0.11312562699999999, 38.6848, 2002.0, 0.0, 0.0],\n",
              " [0.070699313, 65.7484, 2007.0, 0.0, 0.0],\n",
              " [0.151467821, 154.1314, 2009.0, 0.0, 0.0],\n",
              " [0.03616416, 150.1708, 1998.0, 1.0, 0.0],\n",
              " [0.062606583, 192.2478, 1998.0, 1.0, 0.0],\n",
              " [0.07043780000000001, 112.88600000000001, 1985.0, 0.0, 1.0],\n",
              " [0.079844043, 226.3036, 1987.0, 0.0, 0.0],\n",
              " [0.120139206, 45.0744, 1999.0, 0.0, 0.0],\n",
              " [0.032028115, 178.3344, 2009.0, 0.0, 0.0],\n",
              " [0.12049726599999999, 162.2868, 1997.0, 0.0, 0.0],\n",
              " [0.023492524, 155.5288, 2004.0, 0.0, 0.0],\n",
              " [0.12265733599999999, 110.1544, 1999.0, 0.0, 0.0],\n",
              " [0.070588037, 65.9484, 2009.0, 0.0, 0.0],\n",
              " [0.073024401, 121.844, 1985.0, 0.0, 1.0],\n",
              " [0.159587755, 145.3102, 1987.0, 0.0, 0.0],\n",
              " [0.088821765, 125.17299999999999, 2007.0, 0.0, 0.0],\n",
              " [0.13681074199999999, 263.0568, 1997.0, 0.0, 0.0],\n",
              " [0.128682722, 178.437, 2002.0, 0.0, 0.0],\n",
              " [0.109459733, 84.1592, 1985.0, 0.0, 1.0],\n",
              " [0.096644015, 131.9942, 2007.0, 0.0, 0.0],\n",
              " [0.013120028, 217.6192, 1997.0, 0.0, 0.0],\n",
              " [0.0, 144.847, 1985.0, 1.0, 0.0],\n",
              " [0.048339408, 41.5138, 2009.0, 0.0, 0.0],\n",
              " [0.08165845, 35.019, 2009.0, 0.0, 0.0],\n",
              " [0.04975339, 210.3586, 1999.0, 0.0, 0.0],\n",
              " [0.030379382000000003, 153.4656, 2007.0, 0.0, 0.0],\n",
              " [0.065810045, 149.105, 1997.0, 0.0, 0.0],\n",
              " [0.0, 32.89, 1998.0, 1.0, 0.0],\n",
              " [0.025272781, 146.6734, 2007.0, 0.0, 0.0],\n",
              " [0.019314961000000002, 164.6526, 1998.0, 1.0, 0.0],\n",
              " [0.07128216799999999, 74.4696, 2009.0, 0.0, 0.0],\n",
              " [0.18484357899999998, 33.1216, 1997.0, 0.0, 0.0],\n",
              " [0.122896411, 111.1912, 1985.0, 1.0, 0.0],\n",
              " [0.082935004, 119.5756, 1987.0, 0.0, 0.0],\n",
              " [0.16135017599999998, 196.6768, 1998.0, 1.0, 0.0],\n",
              " [0.106968096, 142.6786, 1987.0, 0.0, 0.0],\n",
              " [0.159582185, 224.77200000000002, 1999.0, 0.0, 0.0],\n",
              " [0.14453827, 180.6002, 1985.0, 1.0, 0.0],\n",
              " [0.038685802000000005, 243.8144, 1997.0, 0.0, 0.0],\n",
              " [0.17230990300000001, 98.2042, 1985.0, 1.0, 0.0],\n",
              " [0.037690731, 73.3354, 1999.0, 0.0, 0.0],\n",
              " [0.05787008, 49.7008, 1985.0, 1.0, 0.0],\n",
              " [0.026409147, 102.1332, 2009.0, 0.0, 0.0],\n",
              " [0.064367627, 126.1704, 1987.0, 0.0, 0.0],\n",
              " [0.173516063, 128.1652, 1997.0, 0.0, 0.0],\n",
              " [0.12898088, 250.4724, 1985.0, 1.0, 0.0],\n",
              " [0.048115543, 159.0946, 2002.0, 0.0, 0.0],\n",
              " [0.07789910900000001, 177.766, 2004.0, 0.0, 0.0],\n",
              " [0.13093275, 86.9198, 1985.0, 0.0, 1.0],\n",
              " [0.09846497900000001, 188.653, 1998.0, 1.0, 0.0],\n",
              " [0.037372847, 192.7478, 1987.0, 0.0, 0.0],\n",
              " [0.032230526, 61.4194, 1999.0, 0.0, 0.0],\n",
              " [0.040357315, 177.8002, 1997.0, 0.0, 0.0],\n",
              " [0.07461309, 108.7228, 2004.0, 0.0, 0.0],\n",
              " [0.160936178, 184.2608, 1985.0, 1.0, 0.0],\n",
              " [0.019502354, 120.8756, 2009.0, 0.0, 0.0],\n",
              " [0.06557744900000001, 181.766, 1985.0, 0.0, 1.0],\n",
              " [0.016944719, 209.2586, 1987.0, 0.0, 0.0],\n",
              " [0.065576228, 47.7402, 1987.0, 0.0, 0.0],\n",
              " [0.02579577, 88.4172, 1985.0, 1.0, 0.0],\n",
              " [0.010008699, 176.737, 1999.0, 0.0, 0.0],\n",
              " [0.053362085999999996, 41.577, 2004.0, 0.0, 0.0],\n",
              " [0.064621927, 196.6794, 1987.0, 0.0, 0.0],\n",
              " [0.018126724, 101.79899999999999, 2007.0, 0.0, 0.0],\n",
              " [0.0, 211.8902, 2009.0, 0.0, 0.0],\n",
              " [0.049263979000000006, 195.0478, 1987.0, 0.0, 0.0],\n",
              " [0.021343732, 58.3588, 1998.0, 1.0, 0.0],\n",
              " [0.110681931, 63.2826, 1985.0, 0.0, 1.0],\n",
              " [0.061955439, 145.1418, 1985.0, 0.0, 1.0],\n",
              " [0.076483451, 163.1236, 1985.0, 0.0, 1.0],\n",
              " [0.024701262, 176.8686, 2002.0, 0.0, 0.0],\n",
              " [0.02671821, 85.2198, 2009.0, 0.0, 0.0],\n",
              " [0.016597651, 121.5098, 1987.0, 0.0, 0.0],\n",
              " [0.0514111, 33.0558, 1985.0, 0.0, 1.0],\n",
              " [0.112985849, 185.424, 1998.0, 1.0, 0.0],\n",
              " [0.11411709, 92.7436, 1997.0, 0.0, 0.0],\n",
              " [0.0, 110.4228, 2007.0, 0.0, 0.0],\n",
              " [0.175033524, 55.5298, 2007.0, 0.0, 0.0],\n",
              " [0.020760673, 128.7994, 2002.0, 0.0, 0.0],\n",
              " [0.061405050999999995, 166.3526, 2007.0, 0.0, 0.0],\n",
              " [0.026676216000000003, 57.0246, 2004.0, 0.0, 0.0],\n",
              " [0.029380407, 114.715, 1985.0, 0.0, 1.0],\n",
              " [0.025715562, 168.1474, 1987.0, 0.0, 0.0],\n",
              " [0.06502643400000001, 253.704, 2007.0, 0.0, 0.0],\n",
              " [0.066315023, 78.296, 2002.0, 0.0, 0.0],\n",
              " [0.023664054, 226.0404, 2007.0, 0.0, 0.0],\n",
              " [0.154627247, 177.637, 1985.0, 0.0, 1.0],\n",
              " [0.20529482699999999, 172.8396, 1998.0, 1.0, 0.0],\n",
              " [0.152261999, 105.728, 2007.0, 0.0, 0.0],\n",
              " [0.0, 120.64399999999999, 2004.0, 0.0, 0.0],\n",
              " [0.136275173, 128.1678, 2004.0, 0.0, 0.0],\n",
              " [0.174621343, 104.2964, 1999.0, 0.0, 0.0],\n",
              " [0.038597077, 57.9272, 2002.0, 0.0, 0.0],\n",
              " [0.029799965, 39.1822, 2002.0, 0.0, 0.0],\n",
              " [0.011314423, 122.973, 1998.0, 1.0, 0.0],\n",
              " [0.072410764, 48.2034, 1999.0, 0.0, 0.0],\n",
              " [0.028118435, 46.7744, 2004.0, 0.0, 0.0],\n",
              " [0.163350221, 120.2124, 1985.0, 1.0, 0.0],\n",
              " [0.09330771300000001, 250.9066, 2007.0, 0.0, 0.0],\n",
              " [0.10599465400000001, 150.5682, 1998.0, 1.0, 0.0],\n",
              " [0.067055339, 184.2292, 2009.0, 0.0, 0.0],\n",
              " [0.10737674300000001, 147.6076, 2004.0, 0.0, 0.0],\n",
              " [0.043810028, 181.395, 1985.0, 0.0, 1.0],\n",
              " [0.118672537, 192.2162, 1998.0, 1.0, 0.0],\n",
              " [0.126897925, 110.6886, 2009.0, 0.0, 0.0],\n",
              " [0.014076503, 200.0084, 2009.0, 0.0, 0.0],\n",
              " [0.088305478, 123.473, 2004.0, 0.0, 0.0],\n",
              " [0.090153756, 143.2154, 2002.0, 0.0, 0.0],\n",
              " [0.182501773, 239.2196, 1987.0, 0.0, 0.0],\n",
              " [0.108710162, 161.7578, 1997.0, 0.0, 0.0],\n",
              " [0.058446424000000004, 172.1422, 1985.0, 0.0, 1.0],\n",
              " [0.054990009000000006, 35.2874, 1997.0, 0.0, 0.0],\n",
              " [0.15528831, 241.7538, 1985.0, 0.0, 1.0],\n",
              " [0.018021361, 101.199, 2004.0, 0.0, 0.0],\n",
              " [0.0816559, 143.3154, 2007.0, 0.0, 0.0],\n",
              " [0.010755465, 150.8392, 1987.0, 0.0, 0.0],\n",
              " [0.050111641, 165.9816, 1998.0, 1.0, 0.0],\n",
              " [0.048931174, 127.3336, 2004.0, 0.0, 0.0],\n",
              " [0.065960909, 259.2646, 2007.0, 0.0, 0.0],\n",
              " [0.036319195, 219.3482, 2004.0, 0.0, 0.0],\n",
              " [0.039055756000000004, 152.3366, 1985.0, 0.0, 1.0],\n",
              " ...]"
            ]
          },
          "metadata": {
            "tags": []
          },
          "execution_count": 175
        }
      ]
    },
    {
      "cell_type": "markdown",
      "metadata": {
        "id": "Ym9yi_FWA3sO",
        "colab_type": "text"
      },
      "source": [
        "### Feature Extraction"
      ]
    },
    {
      "cell_type": "code",
      "metadata": {
        "id": "1fQamFN4A6YZ",
        "colab_type": "code",
        "colab": {}
      },
      "source": [
        ""
      ],
      "execution_count": 0,
      "outputs": []
    }
  ]
}