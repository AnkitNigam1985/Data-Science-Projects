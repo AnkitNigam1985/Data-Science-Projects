{
  "nbformat": 4,
  "nbformat_minor": 0,
  "metadata": {
    "colab": {
      "name": "Analytics_Vidhya_Loan_Prediction.ipynb",
      "provenance": [],
      "collapsed_sections": []
    },
    "kernelspec": {
      "name": "python3",
      "display_name": "Python 3"
    }
  },
  "cells": [
    {
      "cell_type": "markdown",
      "metadata": {
        "id": "bEbM6vCnKk3D",
        "colab_type": "text"
      },
      "source": [
        "Dream Housing Finance company deals in all home loans. They have presence across all urban, semi urban and rural areas. Customer first apply for home loan after that company validates the customer eligibility for loan. Company wants to automate the loan eligibility process (real time) based on customer detail provided while filling online application form. These details are Gender, Marital Status, Education, Number of Dependents, Income, Loan Amount, Credit History and others. To automate this process, they have given a problem to identify the customers segments, those are eligible for loan amount so that they can specifically target these customers."
      ]
    },
    {
      "cell_type": "markdown",
      "metadata": {
        "id": "eKeM9JJjKyLB",
        "colab_type": "text"
      },
      "source": [
        "It is a classification problem where we have to predict whether a loan would be approved or not. In a classification problem, we have to predict discrete values based on a given set of independent variable(s). Classification can be of two types:\n",
        "\n",
        "Binary Classification : In this classification we have to predict either of the two given classes. For example: classifying the gender as male or female, predicting the result as win or loss, etc.\n",
        "\n",
        "Multiclass Classification : Here we have to classify the data into three or more classes. For example: classifying a movie's genre as comedy, action or romantic, classify fruits as oranges, apples, or pears, etc.\n",
        "\n",
        "Loan prediction is a very common real-life problem that each retail bank faces atleast once in its lifetime. If done correctly, it can save a lot of man hours at the end of a retail bank.\n",
        "\n",
        "Although this course is specifically built to give you a walkthrough of Loan Prediction problem, you can always refer the content to get a comprehensive overview to solve a classification problem."
      ]
    },
    {
      "cell_type": "markdown",
      "metadata": {
        "id": "_05VOSeBOeZ4",
        "colab_type": "text"
      },
      "source": [
        "What is hypothesis generation?\n",
        "\n",
        "This is a very important stage in any data science/machine learning pipeline. It involves understanding the problem in detail by brainstorming as many factors as possible which can impact the outcome. It is done by understanding the problem statement thoroughly and before looking at the data.\n",
        "\n",
        "Below are some of the factors which I think can affect the Loan Approval (dependent variable for this loan prediction problem):\n",
        "\n",
        "- Salary: Applicants with high income should have more chances of loan approval.\n",
        "\n",
        "- Previous history: Applicants who have repayed their previous debts should have higher chances of loan approval.\n",
        "\n",
        "- Loan amount: Loan approval should also depend on the loan amount. If the loan amount is less, chances of loan approval should be high.\n",
        "\n",
        "- Loan term: Loan for less time period and less amount should have higher chances of approval.\n",
        "\n",
        "- EMI: Lesser the amount to be paid monthly to repay the loan, higher the chances of loan approval.\n",
        "\n",
        "These are some of the factors which i think can affect the target variable, you can come up with many more factors.\n",
        "\n",
        "\n",
        "Dataset -  https://datahack.analyticsvidhya.com/contest/practice-problem-loan-prediction-iii/\n"
      ]
    },
    {
      "cell_type": "code",
      "metadata": {
        "id": "krZuErUSaM9j",
        "colab_type": "code",
        "colab": {}
      },
      "source": [
        "import pandas as pd\n",
        "import numpy as np\n",
        "import seaborn as sns\n",
        "import matplotlib.pyplot as plt\n",
        "%matplotlib inline"
      ],
      "execution_count": 0,
      "outputs": []
    },
    {
      "cell_type": "code",
      "metadata": {
        "id": "9QAbDY1GwrF2",
        "colab_type": "code",
        "colab": {}
      },
      "source": [
        "train=pd.read_csv(\"train_ctrUa4K.csv\")\n",
        "test=pd.read_csv(\"test_lAUu6dG.csv\")"
      ],
      "execution_count": 0,
      "outputs": []
    },
    {
      "cell_type": "code",
      "metadata": {
        "id": "gowkeSSbxMGq",
        "colab_type": "code",
        "colab": {
          "base_uri": "https://localhost:8080/",
          "height": 234
        },
        "outputId": "9a5524b3-a39e-408f-b270-4be6ce2d56a0"
      },
      "source": [
        "train.head()"
      ],
      "execution_count": 7,
      "outputs": [
        {
          "output_type": "execute_result",
          "data": {
            "text/html": [
              "<div>\n",
              "<style scoped>\n",
              "    .dataframe tbody tr th:only-of-type {\n",
              "        vertical-align: middle;\n",
              "    }\n",
              "\n",
              "    .dataframe tbody tr th {\n",
              "        vertical-align: top;\n",
              "    }\n",
              "\n",
              "    .dataframe thead th {\n",
              "        text-align: right;\n",
              "    }\n",
              "</style>\n",
              "<table border=\"1\" class=\"dataframe\">\n",
              "  <thead>\n",
              "    <tr style=\"text-align: right;\">\n",
              "      <th></th>\n",
              "      <th>Loan_ID</th>\n",
              "      <th>Gender</th>\n",
              "      <th>Married</th>\n",
              "      <th>Dependents</th>\n",
              "      <th>Education</th>\n",
              "      <th>Self_Employed</th>\n",
              "      <th>ApplicantIncome</th>\n",
              "      <th>CoapplicantIncome</th>\n",
              "      <th>LoanAmount</th>\n",
              "      <th>Loan_Amount_Term</th>\n",
              "      <th>Credit_History</th>\n",
              "      <th>Property_Area</th>\n",
              "      <th>Loan_Status</th>\n",
              "    </tr>\n",
              "  </thead>\n",
              "  <tbody>\n",
              "    <tr>\n",
              "      <th>0</th>\n",
              "      <td>LP001002</td>\n",
              "      <td>Male</td>\n",
              "      <td>No</td>\n",
              "      <td>0</td>\n",
              "      <td>Graduate</td>\n",
              "      <td>No</td>\n",
              "      <td>5849</td>\n",
              "      <td>0.0</td>\n",
              "      <td>NaN</td>\n",
              "      <td>360.0</td>\n",
              "      <td>1.0</td>\n",
              "      <td>Urban</td>\n",
              "      <td>Y</td>\n",
              "    </tr>\n",
              "    <tr>\n",
              "      <th>1</th>\n",
              "      <td>LP001003</td>\n",
              "      <td>Male</td>\n",
              "      <td>Yes</td>\n",
              "      <td>1</td>\n",
              "      <td>Graduate</td>\n",
              "      <td>No</td>\n",
              "      <td>4583</td>\n",
              "      <td>1508.0</td>\n",
              "      <td>128.0</td>\n",
              "      <td>360.0</td>\n",
              "      <td>1.0</td>\n",
              "      <td>Rural</td>\n",
              "      <td>N</td>\n",
              "    </tr>\n",
              "    <tr>\n",
              "      <th>2</th>\n",
              "      <td>LP001005</td>\n",
              "      <td>Male</td>\n",
              "      <td>Yes</td>\n",
              "      <td>0</td>\n",
              "      <td>Graduate</td>\n",
              "      <td>Yes</td>\n",
              "      <td>3000</td>\n",
              "      <td>0.0</td>\n",
              "      <td>66.0</td>\n",
              "      <td>360.0</td>\n",
              "      <td>1.0</td>\n",
              "      <td>Urban</td>\n",
              "      <td>Y</td>\n",
              "    </tr>\n",
              "    <tr>\n",
              "      <th>3</th>\n",
              "      <td>LP001006</td>\n",
              "      <td>Male</td>\n",
              "      <td>Yes</td>\n",
              "      <td>0</td>\n",
              "      <td>Not Graduate</td>\n",
              "      <td>No</td>\n",
              "      <td>2583</td>\n",
              "      <td>2358.0</td>\n",
              "      <td>120.0</td>\n",
              "      <td>360.0</td>\n",
              "      <td>1.0</td>\n",
              "      <td>Urban</td>\n",
              "      <td>Y</td>\n",
              "    </tr>\n",
              "    <tr>\n",
              "      <th>4</th>\n",
              "      <td>LP001008</td>\n",
              "      <td>Male</td>\n",
              "      <td>No</td>\n",
              "      <td>0</td>\n",
              "      <td>Graduate</td>\n",
              "      <td>No</td>\n",
              "      <td>6000</td>\n",
              "      <td>0.0</td>\n",
              "      <td>141.0</td>\n",
              "      <td>360.0</td>\n",
              "      <td>1.0</td>\n",
              "      <td>Urban</td>\n",
              "      <td>Y</td>\n",
              "    </tr>\n",
              "  </tbody>\n",
              "</table>\n",
              "</div>"
            ],
            "text/plain": [
              "    Loan_ID Gender Married  ... Credit_History Property_Area Loan_Status\n",
              "0  LP001002   Male      No  ...            1.0         Urban           Y\n",
              "1  LP001003   Male     Yes  ...            1.0         Rural           N\n",
              "2  LP001005   Male     Yes  ...            1.0         Urban           Y\n",
              "3  LP001006   Male     Yes  ...            1.0         Urban           Y\n",
              "4  LP001008   Male      No  ...            1.0         Urban           Y\n",
              "\n",
              "[5 rows x 13 columns]"
            ]
          },
          "metadata": {
            "tags": []
          },
          "execution_count": 7
        }
      ]
    },
    {
      "cell_type": "code",
      "metadata": {
        "id": "ZIjX-XJgxPI7",
        "colab_type": "code",
        "colab": {
          "base_uri": "https://localhost:8080/",
          "height": 234
        },
        "outputId": "59a0ad4f-a892-4399-d31d-c30d52d9bc66"
      },
      "source": [
        "test.head()"
      ],
      "execution_count": 8,
      "outputs": [
        {
          "output_type": "execute_result",
          "data": {
            "text/html": [
              "<div>\n",
              "<style scoped>\n",
              "    .dataframe tbody tr th:only-of-type {\n",
              "        vertical-align: middle;\n",
              "    }\n",
              "\n",
              "    .dataframe tbody tr th {\n",
              "        vertical-align: top;\n",
              "    }\n",
              "\n",
              "    .dataframe thead th {\n",
              "        text-align: right;\n",
              "    }\n",
              "</style>\n",
              "<table border=\"1\" class=\"dataframe\">\n",
              "  <thead>\n",
              "    <tr style=\"text-align: right;\">\n",
              "      <th></th>\n",
              "      <th>Loan_ID</th>\n",
              "      <th>Gender</th>\n",
              "      <th>Married</th>\n",
              "      <th>Dependents</th>\n",
              "      <th>Education</th>\n",
              "      <th>Self_Employed</th>\n",
              "      <th>ApplicantIncome</th>\n",
              "      <th>CoapplicantIncome</th>\n",
              "      <th>LoanAmount</th>\n",
              "      <th>Loan_Amount_Term</th>\n",
              "      <th>Credit_History</th>\n",
              "      <th>Property_Area</th>\n",
              "    </tr>\n",
              "  </thead>\n",
              "  <tbody>\n",
              "    <tr>\n",
              "      <th>0</th>\n",
              "      <td>LP001015</td>\n",
              "      <td>Male</td>\n",
              "      <td>Yes</td>\n",
              "      <td>0</td>\n",
              "      <td>Graduate</td>\n",
              "      <td>No</td>\n",
              "      <td>5720</td>\n",
              "      <td>0</td>\n",
              "      <td>110.0</td>\n",
              "      <td>360.0</td>\n",
              "      <td>1.0</td>\n",
              "      <td>Urban</td>\n",
              "    </tr>\n",
              "    <tr>\n",
              "      <th>1</th>\n",
              "      <td>LP001022</td>\n",
              "      <td>Male</td>\n",
              "      <td>Yes</td>\n",
              "      <td>1</td>\n",
              "      <td>Graduate</td>\n",
              "      <td>No</td>\n",
              "      <td>3076</td>\n",
              "      <td>1500</td>\n",
              "      <td>126.0</td>\n",
              "      <td>360.0</td>\n",
              "      <td>1.0</td>\n",
              "      <td>Urban</td>\n",
              "    </tr>\n",
              "    <tr>\n",
              "      <th>2</th>\n",
              "      <td>LP001031</td>\n",
              "      <td>Male</td>\n",
              "      <td>Yes</td>\n",
              "      <td>2</td>\n",
              "      <td>Graduate</td>\n",
              "      <td>No</td>\n",
              "      <td>5000</td>\n",
              "      <td>1800</td>\n",
              "      <td>208.0</td>\n",
              "      <td>360.0</td>\n",
              "      <td>1.0</td>\n",
              "      <td>Urban</td>\n",
              "    </tr>\n",
              "    <tr>\n",
              "      <th>3</th>\n",
              "      <td>LP001035</td>\n",
              "      <td>Male</td>\n",
              "      <td>Yes</td>\n",
              "      <td>2</td>\n",
              "      <td>Graduate</td>\n",
              "      <td>No</td>\n",
              "      <td>2340</td>\n",
              "      <td>2546</td>\n",
              "      <td>100.0</td>\n",
              "      <td>360.0</td>\n",
              "      <td>NaN</td>\n",
              "      <td>Urban</td>\n",
              "    </tr>\n",
              "    <tr>\n",
              "      <th>4</th>\n",
              "      <td>LP001051</td>\n",
              "      <td>Male</td>\n",
              "      <td>No</td>\n",
              "      <td>0</td>\n",
              "      <td>Not Graduate</td>\n",
              "      <td>No</td>\n",
              "      <td>3276</td>\n",
              "      <td>0</td>\n",
              "      <td>78.0</td>\n",
              "      <td>360.0</td>\n",
              "      <td>1.0</td>\n",
              "      <td>Urban</td>\n",
              "    </tr>\n",
              "  </tbody>\n",
              "</table>\n",
              "</div>"
            ],
            "text/plain": [
              "    Loan_ID Gender Married  ... Loan_Amount_Term Credit_History Property_Area\n",
              "0  LP001015   Male     Yes  ...            360.0            1.0         Urban\n",
              "1  LP001022   Male     Yes  ...            360.0            1.0         Urban\n",
              "2  LP001031   Male     Yes  ...            360.0            1.0         Urban\n",
              "3  LP001035   Male     Yes  ...            360.0            NaN         Urban\n",
              "4  LP001051   Male      No  ...            360.0            1.0         Urban\n",
              "\n",
              "[5 rows x 12 columns]"
            ]
          },
          "metadata": {
            "tags": []
          },
          "execution_count": 8
        }
      ]
    },
    {
      "cell_type": "code",
      "metadata": {
        "id": "agVdjgIvy_1-",
        "colab_type": "code",
        "colab": {
          "base_uri": "https://localhost:8080/",
          "height": 372
        },
        "outputId": "6b050e13-cb9e-4906-e48a-cadc0f31e900"
      },
      "source": [
        "train.info()"
      ],
      "execution_count": 14,
      "outputs": [
        {
          "output_type": "stream",
          "text": [
            "<class 'pandas.core.frame.DataFrame'>\n",
            "RangeIndex: 614 entries, 0 to 613\n",
            "Data columns (total 13 columns):\n",
            " #   Column             Non-Null Count  Dtype  \n",
            "---  ------             --------------  -----  \n",
            " 0   Loan_ID            614 non-null    object \n",
            " 1   Gender             601 non-null    object \n",
            " 2   Married            611 non-null    object \n",
            " 3   Dependents         599 non-null    object \n",
            " 4   Education          614 non-null    object \n",
            " 5   Self_Employed      582 non-null    object \n",
            " 6   ApplicantIncome    614 non-null    int64  \n",
            " 7   CoapplicantIncome  614 non-null    float64\n",
            " 8   LoanAmount         592 non-null    float64\n",
            " 9   Loan_Amount_Term   600 non-null    float64\n",
            " 10  Credit_History     564 non-null    float64\n",
            " 11  Property_Area      614 non-null    object \n",
            " 12  Loan_Status        614 non-null    object \n",
            "dtypes: float64(4), int64(1), object(8)\n",
            "memory usage: 62.5+ KB\n"
          ],
          "name": "stdout"
        }
      ]
    },
    {
      "cell_type": "code",
      "metadata": {
        "id": "WriLDe9FzBoF",
        "colab_type": "code",
        "colab": {
          "base_uri": "https://localhost:8080/",
          "height": 354
        },
        "outputId": "4d8801a2-4fe5-443f-e06c-33e5747cbc0f"
      },
      "source": [
        "test.info()"
      ],
      "execution_count": 15,
      "outputs": [
        {
          "output_type": "stream",
          "text": [
            "<class 'pandas.core.frame.DataFrame'>\n",
            "RangeIndex: 367 entries, 0 to 366\n",
            "Data columns (total 12 columns):\n",
            " #   Column             Non-Null Count  Dtype  \n",
            "---  ------             --------------  -----  \n",
            " 0   Loan_ID            367 non-null    object \n",
            " 1   Gender             356 non-null    object \n",
            " 2   Married            367 non-null    object \n",
            " 3   Dependents         357 non-null    object \n",
            " 4   Education          367 non-null    object \n",
            " 5   Self_Employed      344 non-null    object \n",
            " 6   ApplicantIncome    367 non-null    int64  \n",
            " 7   CoapplicantIncome  367 non-null    int64  \n",
            " 8   LoanAmount         362 non-null    float64\n",
            " 9   Loan_Amount_Term   361 non-null    float64\n",
            " 10  Credit_History     338 non-null    float64\n",
            " 11  Property_Area      367 non-null    object \n",
            "dtypes: float64(3), int64(2), object(7)\n",
            "memory usage: 34.5+ KB\n"
          ],
          "name": "stdout"
        }
      ]
    },
    {
      "cell_type": "code",
      "metadata": {
        "id": "pz_NVA-Gxg8w",
        "colab_type": "code",
        "colab": {}
      },
      "source": [
        "train_orginal=train.copy()\n",
        "test_original=test.copy()"
      ],
      "execution_count": 0,
      "outputs": []
    },
    {
      "cell_type": "code",
      "metadata": {
        "id": "IVqnDSF-xqIq",
        "colab_type": "code",
        "colab": {
          "base_uri": "https://localhost:8080/",
          "height": 87
        },
        "outputId": "370480f4-554f-4e7b-f0da-bca77508e344"
      },
      "source": [
        "train.columns"
      ],
      "execution_count": 10,
      "outputs": [
        {
          "output_type": "execute_result",
          "data": {
            "text/plain": [
              "Index(['Loan_ID', 'Gender', 'Married', 'Dependents', 'Education',\n",
              "       'Self_Employed', 'ApplicantIncome', 'CoapplicantIncome', 'LoanAmount',\n",
              "       'Loan_Amount_Term', 'Credit_History', 'Property_Area', 'Loan_Status'],\n",
              "      dtype='object')"
            ]
          },
          "metadata": {
            "tags": []
          },
          "execution_count": 10
        }
      ]
    },
    {
      "cell_type": "code",
      "metadata": {
        "id": "shJTDN1Uxsey",
        "colab_type": "code",
        "colab": {
          "base_uri": "https://localhost:8080/",
          "height": 87
        },
        "outputId": "4d6926b2-6c67-4112-f58d-3cb1805f87a3"
      },
      "source": [
        "test.columns"
      ],
      "execution_count": 11,
      "outputs": [
        {
          "output_type": "execute_result",
          "data": {
            "text/plain": [
              "Index(['Loan_ID', 'Gender', 'Married', 'Dependents', 'Education',\n",
              "       'Self_Employed', 'ApplicantIncome', 'CoapplicantIncome', 'LoanAmount',\n",
              "       'Loan_Amount_Term', 'Credit_History', 'Property_Area'],\n",
              "      dtype='object')"
            ]
          },
          "metadata": {
            "tags": []
          },
          "execution_count": 11
        }
      ]
    },
    {
      "cell_type": "code",
      "metadata": {
        "id": "S8NslIT_xw5Q",
        "colab_type": "code",
        "colab": {
          "base_uri": "https://localhost:8080/",
          "height": 287
        },
        "outputId": "16ff587f-b972-4f33-9226-b51751a85f3e"
      },
      "source": [
        "train.describe()"
      ],
      "execution_count": 12,
      "outputs": [
        {
          "output_type": "execute_result",
          "data": {
            "text/html": [
              "<div>\n",
              "<style scoped>\n",
              "    .dataframe tbody tr th:only-of-type {\n",
              "        vertical-align: middle;\n",
              "    }\n",
              "\n",
              "    .dataframe tbody tr th {\n",
              "        vertical-align: top;\n",
              "    }\n",
              "\n",
              "    .dataframe thead th {\n",
              "        text-align: right;\n",
              "    }\n",
              "</style>\n",
              "<table border=\"1\" class=\"dataframe\">\n",
              "  <thead>\n",
              "    <tr style=\"text-align: right;\">\n",
              "      <th></th>\n",
              "      <th>ApplicantIncome</th>\n",
              "      <th>CoapplicantIncome</th>\n",
              "      <th>LoanAmount</th>\n",
              "      <th>Loan_Amount_Term</th>\n",
              "      <th>Credit_History</th>\n",
              "    </tr>\n",
              "  </thead>\n",
              "  <tbody>\n",
              "    <tr>\n",
              "      <th>count</th>\n",
              "      <td>614.000000</td>\n",
              "      <td>614.000000</td>\n",
              "      <td>592.000000</td>\n",
              "      <td>600.00000</td>\n",
              "      <td>564.000000</td>\n",
              "    </tr>\n",
              "    <tr>\n",
              "      <th>mean</th>\n",
              "      <td>5403.459283</td>\n",
              "      <td>1621.245798</td>\n",
              "      <td>146.412162</td>\n",
              "      <td>342.00000</td>\n",
              "      <td>0.842199</td>\n",
              "    </tr>\n",
              "    <tr>\n",
              "      <th>std</th>\n",
              "      <td>6109.041673</td>\n",
              "      <td>2926.248369</td>\n",
              "      <td>85.587325</td>\n",
              "      <td>65.12041</td>\n",
              "      <td>0.364878</td>\n",
              "    </tr>\n",
              "    <tr>\n",
              "      <th>min</th>\n",
              "      <td>150.000000</td>\n",
              "      <td>0.000000</td>\n",
              "      <td>9.000000</td>\n",
              "      <td>12.00000</td>\n",
              "      <td>0.000000</td>\n",
              "    </tr>\n",
              "    <tr>\n",
              "      <th>25%</th>\n",
              "      <td>2877.500000</td>\n",
              "      <td>0.000000</td>\n",
              "      <td>100.000000</td>\n",
              "      <td>360.00000</td>\n",
              "      <td>1.000000</td>\n",
              "    </tr>\n",
              "    <tr>\n",
              "      <th>50%</th>\n",
              "      <td>3812.500000</td>\n",
              "      <td>1188.500000</td>\n",
              "      <td>128.000000</td>\n",
              "      <td>360.00000</td>\n",
              "      <td>1.000000</td>\n",
              "    </tr>\n",
              "    <tr>\n",
              "      <th>75%</th>\n",
              "      <td>5795.000000</td>\n",
              "      <td>2297.250000</td>\n",
              "      <td>168.000000</td>\n",
              "      <td>360.00000</td>\n",
              "      <td>1.000000</td>\n",
              "    </tr>\n",
              "    <tr>\n",
              "      <th>max</th>\n",
              "      <td>81000.000000</td>\n",
              "      <td>41667.000000</td>\n",
              "      <td>700.000000</td>\n",
              "      <td>480.00000</td>\n",
              "      <td>1.000000</td>\n",
              "    </tr>\n",
              "  </tbody>\n",
              "</table>\n",
              "</div>"
            ],
            "text/plain": [
              "       ApplicantIncome  CoapplicantIncome  ...  Loan_Amount_Term  Credit_History\n",
              "count       614.000000         614.000000  ...         600.00000      564.000000\n",
              "mean       5403.459283        1621.245798  ...         342.00000        0.842199\n",
              "std        6109.041673        2926.248369  ...          65.12041        0.364878\n",
              "min         150.000000           0.000000  ...          12.00000        0.000000\n",
              "25%        2877.500000           0.000000  ...         360.00000        1.000000\n",
              "50%        3812.500000        1188.500000  ...         360.00000        1.000000\n",
              "75%        5795.000000        2297.250000  ...         360.00000        1.000000\n",
              "max       81000.000000       41667.000000  ...         480.00000        1.000000\n",
              "\n",
              "[8 rows x 5 columns]"
            ]
          },
          "metadata": {
            "tags": []
          },
          "execution_count": 12
        }
      ]
    },
    {
      "cell_type": "code",
      "metadata": {
        "id": "25uyMea9xzn_",
        "colab_type": "code",
        "colab": {
          "base_uri": "https://localhost:8080/",
          "height": 287
        },
        "outputId": "da61c317-5d1d-4b0a-c6e0-e51db8045c0d"
      },
      "source": [
        "test.describe()"
      ],
      "execution_count": 13,
      "outputs": [
        {
          "output_type": "execute_result",
          "data": {
            "text/html": [
              "<div>\n",
              "<style scoped>\n",
              "    .dataframe tbody tr th:only-of-type {\n",
              "        vertical-align: middle;\n",
              "    }\n",
              "\n",
              "    .dataframe tbody tr th {\n",
              "        vertical-align: top;\n",
              "    }\n",
              "\n",
              "    .dataframe thead th {\n",
              "        text-align: right;\n",
              "    }\n",
              "</style>\n",
              "<table border=\"1\" class=\"dataframe\">\n",
              "  <thead>\n",
              "    <tr style=\"text-align: right;\">\n",
              "      <th></th>\n",
              "      <th>ApplicantIncome</th>\n",
              "      <th>CoapplicantIncome</th>\n",
              "      <th>LoanAmount</th>\n",
              "      <th>Loan_Amount_Term</th>\n",
              "      <th>Credit_History</th>\n",
              "    </tr>\n",
              "  </thead>\n",
              "  <tbody>\n",
              "    <tr>\n",
              "      <th>count</th>\n",
              "      <td>367.000000</td>\n",
              "      <td>367.000000</td>\n",
              "      <td>362.000000</td>\n",
              "      <td>361.000000</td>\n",
              "      <td>338.000000</td>\n",
              "    </tr>\n",
              "    <tr>\n",
              "      <th>mean</th>\n",
              "      <td>4805.599455</td>\n",
              "      <td>1569.577657</td>\n",
              "      <td>136.132597</td>\n",
              "      <td>342.537396</td>\n",
              "      <td>0.825444</td>\n",
              "    </tr>\n",
              "    <tr>\n",
              "      <th>std</th>\n",
              "      <td>4910.685399</td>\n",
              "      <td>2334.232099</td>\n",
              "      <td>61.366652</td>\n",
              "      <td>65.156643</td>\n",
              "      <td>0.380150</td>\n",
              "    </tr>\n",
              "    <tr>\n",
              "      <th>min</th>\n",
              "      <td>0.000000</td>\n",
              "      <td>0.000000</td>\n",
              "      <td>28.000000</td>\n",
              "      <td>6.000000</td>\n",
              "      <td>0.000000</td>\n",
              "    </tr>\n",
              "    <tr>\n",
              "      <th>25%</th>\n",
              "      <td>2864.000000</td>\n",
              "      <td>0.000000</td>\n",
              "      <td>100.250000</td>\n",
              "      <td>360.000000</td>\n",
              "      <td>1.000000</td>\n",
              "    </tr>\n",
              "    <tr>\n",
              "      <th>50%</th>\n",
              "      <td>3786.000000</td>\n",
              "      <td>1025.000000</td>\n",
              "      <td>125.000000</td>\n",
              "      <td>360.000000</td>\n",
              "      <td>1.000000</td>\n",
              "    </tr>\n",
              "    <tr>\n",
              "      <th>75%</th>\n",
              "      <td>5060.000000</td>\n",
              "      <td>2430.500000</td>\n",
              "      <td>158.000000</td>\n",
              "      <td>360.000000</td>\n",
              "      <td>1.000000</td>\n",
              "    </tr>\n",
              "    <tr>\n",
              "      <th>max</th>\n",
              "      <td>72529.000000</td>\n",
              "      <td>24000.000000</td>\n",
              "      <td>550.000000</td>\n",
              "      <td>480.000000</td>\n",
              "      <td>1.000000</td>\n",
              "    </tr>\n",
              "  </tbody>\n",
              "</table>\n",
              "</div>"
            ],
            "text/plain": [
              "       ApplicantIncome  CoapplicantIncome  ...  Loan_Amount_Term  Credit_History\n",
              "count       367.000000         367.000000  ...        361.000000      338.000000\n",
              "mean       4805.599455        1569.577657  ...        342.537396        0.825444\n",
              "std        4910.685399        2334.232099  ...         65.156643        0.380150\n",
              "min           0.000000           0.000000  ...          6.000000        0.000000\n",
              "25%        2864.000000           0.000000  ...        360.000000        1.000000\n",
              "50%        3786.000000        1025.000000  ...        360.000000        1.000000\n",
              "75%        5060.000000        2430.500000  ...        360.000000        1.000000\n",
              "max       72529.000000       24000.000000  ...        480.000000        1.000000\n",
              "\n",
              "[8 rows x 5 columns]"
            ]
          },
          "metadata": {
            "tags": []
          },
          "execution_count": 13
        }
      ]
    },
    {
      "cell_type": "code",
      "metadata": {
        "id": "_PUpL32EzM4X",
        "colab_type": "code",
        "colab": {
          "base_uri": "https://localhost:8080/",
          "height": 34
        },
        "outputId": "1ace25b3-a2e0-4ede-ab5e-cc1ec77c6afe"
      },
      "source": [
        "train.shape"
      ],
      "execution_count": 16,
      "outputs": [
        {
          "output_type": "execute_result",
          "data": {
            "text/plain": [
              "(614, 13)"
            ]
          },
          "metadata": {
            "tags": []
          },
          "execution_count": 16
        }
      ]
    },
    {
      "cell_type": "code",
      "metadata": {
        "id": "SFwDwYvSzPeH",
        "colab_type": "code",
        "colab": {
          "base_uri": "https://localhost:8080/",
          "height": 34
        },
        "outputId": "6136f219-da87-4a44-ca9b-c0feb113e701"
      },
      "source": [
        "test.shape"
      ],
      "execution_count": 17,
      "outputs": [
        {
          "output_type": "execute_result",
          "data": {
            "text/plain": [
              "(367, 12)"
            ]
          },
          "metadata": {
            "tags": []
          },
          "execution_count": 17
        }
      ]
    },
    {
      "cell_type": "code",
      "metadata": {
        "id": "9_3FJCmszWGo",
        "colab_type": "code",
        "colab": {
          "base_uri": "https://localhost:8080/",
          "height": 70
        },
        "outputId": "d1095c37-0846-48cc-b4ca-65c0d9c4c0da"
      },
      "source": [
        "train['Loan_Status'].value_counts()"
      ],
      "execution_count": 18,
      "outputs": [
        {
          "output_type": "execute_result",
          "data": {
            "text/plain": [
              "Y    422\n",
              "N    192\n",
              "Name: Loan_Status, dtype: int64"
            ]
          },
          "metadata": {
            "tags": []
          },
          "execution_count": 18
        }
      ]
    },
    {
      "cell_type": "code",
      "metadata": {
        "id": "woUz5IHCzY4W",
        "colab_type": "code",
        "colab": {
          "base_uri": "https://localhost:8080/",
          "height": 70
        },
        "outputId": "cd1afb1c-e571-42ed-8b73-4e0982c43af7"
      },
      "source": [
        "train['Loan_Status'].value_counts(normalize=True)"
      ],
      "execution_count": 19,
      "outputs": [
        {
          "output_type": "execute_result",
          "data": {
            "text/plain": [
              "Y    0.687296\n",
              "N    0.312704\n",
              "Name: Loan_Status, dtype: float64"
            ]
          },
          "metadata": {
            "tags": []
          },
          "execution_count": 19
        }
      ]
    },
    {
      "cell_type": "code",
      "metadata": {
        "id": "44gulFtRzeco",
        "colab_type": "code",
        "colab": {
          "base_uri": "https://localhost:8080/",
          "height": 281
        },
        "outputId": "286a6d24-f9e5-42d1-cddd-48a8df303348"
      },
      "source": [
        "train['Loan_Status'].value_counts().plot.bar(color='y')"
      ],
      "execution_count": 20,
      "outputs": [
        {
          "output_type": "execute_result",
          "data": {
            "text/plain": [
              "<matplotlib.axes._subplots.AxesSubplot at 0x7f93adeb58d0>"
            ]
          },
          "metadata": {
            "tags": []
          },
          "execution_count": 20
        },
        {
          "output_type": "display_data",
          "data": {
            "image/png": "[encoded data removed]",
            "text/plain": [
              "<Figure size 432x288 with 1 Axes>"
            ]
          },
          "metadata": {
            "tags": [],
            "needs_background": "light"
          }
        }
      ]
    },
    {
      "cell_type": "markdown",
      "metadata": {
        "id": "MZQ_H2a3zlcD",
        "colab_type": "text"
      },
      "source": [
        "The loan of 422(around 69%) people out of 614 was approved."
      ]
    },
    {
      "cell_type": "markdown",
      "metadata": {
        "id": "VAFSpdqzzp-T",
        "colab_type": "text"
      },
      "source": [
        "Now lets visualize each variable separately. Different types of variables are Categorical, ordinal and numerical.\n",
        "\n",
        "- Categorical features: These features have categories (Gender, Married, Self_Employed, Credit_History, Loan_Status)\n",
        "\n",
        "- Ordinal features: Variables in categorical features having some order involved (Dependents, Education, Property_Area)\n",
        "\n",
        "- Numerical features: These features have numerical values (ApplicantIncome, CoapplicantIncome, LoanAmount, Loan_Amount_Term)\n",
        "\n",
        "Let’s visualize the categorical and ordinal features first."
      ]
    },
    {
      "cell_type": "markdown",
      "metadata": {
        "id": "Nz_QavIEz5JL",
        "colab_type": "text"
      },
      "source": [
        "**Independent Variable (Categorical)**"
      ]
    },
    {
      "cell_type": "code",
      "metadata": {
        "id": "IIggxdnxzmNH",
        "colab_type": "code",
        "colab": {
          "base_uri": "https://localhost:8080/",
          "height": 583
        },
        "outputId": "ee9aa594-dcb6-4ef8-b155-c89a93c5be1b"
      },
      "source": [
        "plt.figure(1) \n",
        "\n",
        "plt.subplot(221)\n",
        "train['Gender'].value_counts(normalize=True).plot.bar(figsize=(20,10), title= 'Gender') \n",
        "\n",
        "plt.subplot(222) \n",
        "train['Married'].value_counts(normalize=True).plot.bar(title= 'Married') \n",
        "\n",
        "plt.subplot(223) \n",
        "train['Self_Employed'].value_counts(normalize=True).plot.bar(title= 'Self_Employed') \n",
        "\n",
        "plt.subplot(224) \n",
        "train['Credit_History'].value_counts(normalize=True).plot.bar(title= 'Credit_History') \n",
        "\n",
        "plt.show()"
      ],
      "execution_count": 26,
      "outputs": [
        {
          "output_type": "display_data",
          "data": {
            "image/png": "[encoded data removed]",
            "text/plain": [
              "<Figure size 1440x720 with 4 Axes>"
            ]
          },
          "metadata": {
            "tags": [],
            "needs_background": "light"
          }
        }
      ]
    },
    {
      "cell_type": "markdown",
      "metadata": {
        "id": "c83yKCPD04l6",
        "colab_type": "text"
      },
      "source": [
        "It can be inferred from the above bar plots that:\n",
        "\n",
        "- 80% applicants in the dataset are male.\n",
        "- Around 65% of the applicants in the dataset are married.\n",
        "- Around 15% applicants in the dataset are self employed.\n",
        "- Around 85% applicants have repaid their debts."
      ]
    },
    {
      "cell_type": "markdown",
      "metadata": {
        "id": "u2D2eNc_0_32",
        "colab_type": "text"
      },
      "source": [
        "**Independent Variable (Ordinal)**"
      ]
    },
    {
      "cell_type": "code",
      "metadata": {
        "id": "Ug8IncC_1BuG",
        "colab_type": "code",
        "colab": {
          "base_uri": "https://localhost:8080/",
          "height": 360
        },
        "outputId": "2e3e1d7c-7730-41ef-d501-deba77cd4fce"
      },
      "source": [
        "plt.figure(1) \n",
        "\n",
        "plt.subplot(131) \n",
        "train['Dependents'].value_counts(normalize=True).plot.bar(figsize=(24,6), title= 'Dependents') \n",
        "\n",
        "plt.subplot(132) \n",
        "train['Education'].value_counts(normalize=True).plot.bar(title= 'Education') \n",
        "\n",
        "plt.subplot(133) \n",
        "train['Property_Area'].value_counts(normalize=True).plot.bar(title= 'Property_Area') \n",
        "\n",
        "plt.show()"
      ],
      "execution_count": 29,
      "outputs": [
        {
          "output_type": "display_data",
          "data": {
            "image/png": "[encoded data removed]",
            "text/plain": [
              "<Figure size 1728x432 with 3 Axes>"
            ]
          },
          "metadata": {
            "tags": [],
            "needs_background": "light"
          }
        }
      ]
    },
    {
      "cell_type": "markdown",
      "metadata": {
        "id": "n2EfMeon1t73",
        "colab_type": "text"
      },
      "source": [
        "Following inferences can be made from the above bar plots:\n",
        "\n",
        "- Most of the applicants don’t have any dependents.\n",
        "- Around 80% of the applicants are Graduate.\n",
        "- Most of the applicants are from Semiurban area."
      ]
    },
    {
      "cell_type": "markdown",
      "metadata": {
        "id": "f7Zdk-qg1yxK",
        "colab_type": "text"
      },
      "source": [
        "**Independent Variable (Numerical)**"
      ]
    },
    {
      "cell_type": "code",
      "metadata": {
        "id": "ucWwqoX71844",
        "colab_type": "code",
        "colab": {
          "base_uri": "https://localhost:8080/",
          "height": 334
        },
        "outputId": "5f9f0c59-eac7-4603-ccd9-1d604bbeb6cd"
      },
      "source": [
        "plt.figure(1) \n",
        "\n",
        "plt.subplot(121) \n",
        "sns.distplot(train['ApplicantIncome']); \n",
        "\n",
        "plt.subplot(122) \n",
        "train['ApplicantIncome'].plot.box(figsize=(16,5)) \n",
        "\n",
        "plt.show()"
      ],
      "execution_count": 30,
      "outputs": [
        {
          "output_type": "display_data",
          "data": {
            "image/png": "[encoded data removed]",
            "text/plain": [
              "<Figure size 1152x360 with 2 Axes>"
            ]
          },
          "metadata": {
            "tags": [],
            "needs_background": "light"
          }
        }
      ]
    },
    {
      "cell_type": "markdown",
      "metadata": {
        "id": "f0bQZ1Tx175o",
        "colab_type": "text"
      },
      "source": [
        "It can be inferred that most of the data in the distribution of applicant income is towards left which means it is not normally distributed. We will try to make it normal in later sections as algorithms works better if the data is normally distributed.\n",
        "\n",
        "The boxplot confirms the presence of a lot of outliers/extreme values. This can be attributed to the income disparity in the society. Part of this can be driven by the fact that we are looking at people with different education levels. Let us segregate them by Education:"
      ]
    },
    {
      "cell_type": "code",
      "metadata": {
        "id": "vfUPtCmn2aHz",
        "colab_type": "code",
        "colab": {
          "base_uri": "https://localhost:8080/",
          "height": 294
        },
        "outputId": "b56c35aa-f1b6-40e9-d864-800537689c12"
      },
      "source": [
        "train.boxplot(column='ApplicantIncome', by = 'Education') \n",
        "plt.suptitle(\"\")\n",
        "plt.show()"
      ],
      "execution_count": 32,
      "outputs": [
        {
          "output_type": "display_data",
          "data": {
            "image/png": "[encoded data removed]",
            "text/plain": [
              "<Figure size 432x288 with 1 Axes>"
            ]
          },
          "metadata": {
            "tags": [],
            "needs_background": "light"
          }
        }
      ]
    },
    {
      "cell_type": "markdown",
      "metadata": {
        "id": "6z8o1Vbm2s2v",
        "colab_type": "text"
      },
      "source": [
        "We can see that there are a higher number of graduates with very high incomes, which are appearing to be the outliers.\n",
        "\n",
        "\n",
        "Let’s look at the Coapplicant income distribution."
      ]
    },
    {
      "cell_type": "code",
      "metadata": {
        "id": "wlWA-Gpu2vVX",
        "colab_type": "code",
        "colab": {
          "base_uri": "https://localhost:8080/",
          "height": 334
        },
        "outputId": "2ca4ff67-bc3d-4a1f-d49f-9e72a20b4d20"
      },
      "source": [
        "plt.figure(1) \n",
        "\n",
        "plt.subplot(121) \n",
        "sns.distplot(train['CoapplicantIncome']); \n",
        "\n",
        "plt.subplot(122) \n",
        "train['CoapplicantIncome'].plot.box(figsize=(16,5)) \n",
        "\n",
        "plt.show()"
      ],
      "execution_count": 33,
      "outputs": [
        {
          "output_type": "display_data",
          "data": {
            "image/png": "[encoded data removed]",
            "text/plain": [
              "<Figure size 1152x360 with 2 Axes>"
            ]
          },
          "metadata": {
            "tags": [],
            "needs_background": "light"
          }
        }
      ]
    },
    {
      "cell_type": "code",
      "metadata": {
        "id": "Tfi2KY8y27w0",
        "colab_type": "code",
        "colab": {
          "base_uri": "https://localhost:8080/",
          "height": 294
        },
        "outputId": "2a12d12e-d13e-44f8-8be2-ac7cda6a71fb"
      },
      "source": [
        "train.boxplot(column='CoapplicantIncome', by = 'Education') \n",
        "plt.suptitle(\"\")\n",
        "plt.show()"
      ],
      "execution_count": 34,
      "outputs": [
        {
          "output_type": "display_data",
          "data": {
            "image/png": "[encoded data removed]",
            "text/plain": [
              "<Figure size 432x288 with 1 Axes>"
            ]
          },
          "metadata": {
            "tags": [],
            "needs_background": "light"
          }
        }
      ]
    },
    {
      "cell_type": "markdown",
      "metadata": {
        "id": "a6Xj-jnP3fJ1",
        "colab_type": "text"
      },
      "source": [
        "We see a similar distribution as that of the applicant income. Majority of coapplicant’s income ranges from 0 to 5000. We also see a lot of outliers in the coapplicant income and it is not normally distributed."
      ]
    },
    {
      "cell_type": "markdown",
      "metadata": {
        "id": "HvgY86Rm3fr3",
        "colab_type": "text"
      },
      "source": [
        "Let’s look at the distribution of LoanAmount variable."
      ]
    },
    {
      "cell_type": "code",
      "metadata": {
        "id": "p2COOgxC3hHQ",
        "colab_type": "code",
        "colab": {
          "base_uri": "https://localhost:8080/",
          "height": 334
        },
        "outputId": "881d9741-40a4-483a-f178-760d7bd77b6b"
      },
      "source": [
        "plt.figure(1) \n",
        "\n",
        "plt.subplot(121) \n",
        "df=train.dropna() \n",
        "sns.distplot(train['LoanAmount']); \n",
        "\n",
        "plt.subplot(122) \n",
        "train['LoanAmount'].plot.box(figsize=(16,5)) \n",
        "\n",
        "plt.show()"
      ],
      "execution_count": 35,
      "outputs": [
        {
          "output_type": "display_data",
          "data": {
            "image/png": "[encoded data removed]",
            "text/plain": [
              "<Figure size 1152x360 with 2 Axes>"
            ]
          },
          "metadata": {
            "tags": [],
            "needs_background": "light"
          }
        }
      ]
    },
    {
      "cell_type": "markdown",
      "metadata": {
        "id": "LL2P2xmm3qsg",
        "colab_type": "text"
      },
      "source": [
        "We see a lot of outliers in this variable and the distribution is fairly normal. We will treat the outliers in later sections.\n",
        "\n",
        "Now we would like to know how well each feature correlate with Loan Status. So, in the next section we will look at bivariate analysis."
      ]
    },
    {
      "cell_type": "markdown",
      "metadata": {
        "id": "NI3lFnbY3s5G",
        "colab_type": "text"
      },
      "source": [
        "Lets recall some of the hypotheses that we generated earlier:\n",
        "\n",
        "- Applicants with high income should have more chances of loan approval.\n",
        "- Applicants who have repaid their previous debts should have higher chances of loan approval.\n",
        "- Loan approval should also depend on the loan amount. If the loan amount is less, chances of loan approval should be high.\n",
        "- Lesser the amount to be paid monthly to repay the loan, higher the chances of loan approval."
      ]
    },
    {
      "cell_type": "markdown",
      "metadata": {
        "id": "hTrzYFg-4Lm3",
        "colab_type": "text"
      },
      "source": [
        "**Categorical Independent Variable vs Target Variable**"
      ]
    },
    {
      "cell_type": "code",
      "metadata": {
        "id": "uXR5nQWl4PTX",
        "colab_type": "code",
        "colab": {
          "base_uri": "https://localhost:8080/",
          "height": 137
        },
        "outputId": "88438985-8b18-4a68-926c-f7a044a3bd73"
      },
      "source": [
        "Gender=pd.crosstab(train['Gender'],train['Loan_Status']) \n",
        "Gender"
      ],
      "execution_count": 36,
      "outputs": [
        {
          "output_type": "execute_result",
          "data": {
            "text/html": [
              "<div>\n",
              "<style scoped>\n",
              "    .dataframe tbody tr th:only-of-type {\n",
              "        vertical-align: middle;\n",
              "    }\n",
              "\n",
              "    .dataframe tbody tr th {\n",
              "        vertical-align: top;\n",
              "    }\n",
              "\n",
              "    .dataframe thead th {\n",
              "        text-align: right;\n",
              "    }\n",
              "</style>\n",
              "<table border=\"1\" class=\"dataframe\">\n",
              "  <thead>\n",
              "    <tr style=\"text-align: right;\">\n",
              "      <th>Loan_Status</th>\n",
              "      <th>N</th>\n",
              "      <th>Y</th>\n",
              "    </tr>\n",
              "    <tr>\n",
              "      <th>Gender</th>\n",
              "      <th></th>\n",
              "      <th></th>\n",
              "    </tr>\n",
              "  </thead>\n",
              "  <tbody>\n",
              "    <tr>\n",
              "      <th>Female</th>\n",
              "      <td>37</td>\n",
              "      <td>75</td>\n",
              "    </tr>\n",
              "    <tr>\n",
              "      <th>Male</th>\n",
              "      <td>150</td>\n",
              "      <td>339</td>\n",
              "    </tr>\n",
              "  </tbody>\n",
              "</table>\n",
              "</div>"
            ],
            "text/plain": [
              "Loan_Status    N    Y\n",
              "Gender               \n",
              "Female        37   75\n",
              "Male         150  339"
            ]
          },
          "metadata": {
            "tags": []
          },
          "execution_count": 36
        }
      ]
    },
    {
      "cell_type": "code",
      "metadata": {
        "id": "_AeFIeiI4bmk",
        "colab_type": "code",
        "colab": {
          "base_uri": "https://localhost:8080/",
          "height": 137
        },
        "outputId": "b6c2efea-f6b2-4220-ab03-2eb46127f0d7"
      },
      "source": [
        "Gender.div(Gender.sum(1).astype(float), axis=0)\n",
        "#37/(37+75)  = 0.330357\n",
        "#75/(37+75)  = 0.669643\n",
        "\n",
        "#......"
      ],
      "execution_count": 40,
      "outputs": [
        {
          "output_type": "execute_result",
          "data": {
            "text/html": [
              "<div>\n",
              "<style scoped>\n",
              "    .dataframe tbody tr th:only-of-type {\n",
              "        vertical-align: middle;\n",
              "    }\n",
              "\n",
              "    .dataframe tbody tr th {\n",
              "        vertical-align: top;\n",
              "    }\n",
              "\n",
              "    .dataframe thead th {\n",
              "        text-align: right;\n",
              "    }\n",
              "</style>\n",
              "<table border=\"1\" class=\"dataframe\">\n",
              "  <thead>\n",
              "    <tr style=\"text-align: right;\">\n",
              "      <th>Loan_Status</th>\n",
              "      <th>N</th>\n",
              "      <th>Y</th>\n",
              "    </tr>\n",
              "    <tr>\n",
              "      <th>Gender</th>\n",
              "      <th></th>\n",
              "      <th></th>\n",
              "    </tr>\n",
              "  </thead>\n",
              "  <tbody>\n",
              "    <tr>\n",
              "      <th>Female</th>\n",
              "      <td>0.330357</td>\n",
              "      <td>0.669643</td>\n",
              "    </tr>\n",
              "    <tr>\n",
              "      <th>Male</th>\n",
              "      <td>0.306748</td>\n",
              "      <td>0.693252</td>\n",
              "    </tr>\n",
              "  </tbody>\n",
              "</table>\n",
              "</div>"
            ],
            "text/plain": [
              "Loan_Status         N         Y\n",
              "Gender                         \n",
              "Female       0.330357  0.669643\n",
              "Male         0.306748  0.693252"
            ]
          },
          "metadata": {
            "tags": []
          },
          "execution_count": 40
        }
      ]
    },
    {
      "cell_type": "code",
      "metadata": {
        "id": "8TNBGYSo4UWT",
        "colab_type": "code",
        "colab": {
          "base_uri": "https://localhost:8080/",
          "height": 432
        },
        "outputId": "d6599d38-3063-4d64-9514-ce34696277de"
      },
      "source": [
        "Gender.div(Gender.sum(1).astype(float), axis=0).plot(kind=\"bar\", stacked=True, figsize=(6,6))"
      ],
      "execution_count": 41,
      "outputs": [
        {
          "output_type": "execute_result",
          "data": {
            "text/plain": [
              "<matplotlib.axes._subplots.AxesSubplot at 0x7f93acc5fc50>"
            ]
          },
          "metadata": {
            "tags": []
          },
          "execution_count": 41
        },
        {
          "output_type": "display_data",
          "data": {
            "image/png": "[encoded data removed]",
            "text/plain": [
              "<Figure size 432x432 with 1 Axes>"
            ]
          },
          "metadata": {
            "tags": [],
            "needs_background": "light"
          }
        }
      ]
    },
    {
      "cell_type": "markdown",
      "metadata": {
        "id": "AENyPduM5IQs",
        "colab_type": "text"
      },
      "source": [
        "It can be inferred that the proportion of male and female applicants is more or less same for both approved and unapproved loans."
      ]
    },
    {
      "cell_type": "code",
      "metadata": {
        "id": "a1s-Caoe5JB_",
        "colab_type": "code",
        "colab": {
          "base_uri": "https://localhost:8080/",
          "height": 284
        },
        "outputId": "1216ba8c-a04d-49ec-9a7a-0699ed6baccf"
      },
      "source": [
        "Married=pd.crosstab(train['Married'],train['Loan_Status']) \n",
        "Married.div(Married.sum(1).astype(float), axis=0).plot(kind=\"bar\", stacked=True, figsize=(4,4)) \n",
        "plt.show() "
      ],
      "execution_count": 42,
      "outputs": [
        {
          "output_type": "display_data",
          "data": {
            "image/png": "[encoded data removed]",
            "text/plain": [
              "<Figure size 288x288 with 1 Axes>"
            ]
          },
          "metadata": {
            "tags": [],
            "needs_background": "light"
          }
        }
      ]
    },
    {
      "cell_type": "code",
      "metadata": {
        "id": "cUOQaFFz5Q3w",
        "colab_type": "code",
        "colab": {
          "base_uri": "https://localhost:8080/",
          "height": 284
        },
        "outputId": "c27e5c5b-364e-444b-ed67-b09716081aeb"
      },
      "source": [
        "Dependents=pd.crosstab(train['Dependents'],train['Loan_Status'])\n",
        "Dependents.div(Dependents.sum(1).astype(float), axis=0).plot(kind=\"bar\", stacked=True) \n",
        "plt.show() "
      ],
      "execution_count": 43,
      "outputs": [
        {
          "output_type": "display_data",
          "data": {
            "image/png": "[encoded data removed]",
            "text/plain": [
              "<Figure size 432x288 with 1 Axes>"
            ]
          },
          "metadata": {
            "tags": [],
            "needs_background": "light"
          }
        }
      ]
    },
    {
      "cell_type": "code",
      "metadata": {
        "id": "C90U0LzB5VwD",
        "colab_type": "code",
        "colab": {
          "base_uri": "https://localhost:8080/",
          "height": 336
        },
        "outputId": "c0897a78-5913-4a34-deb3-5beb7f6c66e8"
      },
      "source": [
        "Education=pd.crosstab(train['Education'],train['Loan_Status']) \n",
        "Education.div(Education.sum(1).astype(float), axis=0).plot(kind=\"bar\", stacked=True, figsize=(4,4)) \n",
        "plt.show() "
      ],
      "execution_count": 44,
      "outputs": [
        {
          "output_type": "display_data",
          "data": {
            "image/png": "[encoded data removed]",
            "text/plain": [
              "<Figure size 288x288 with 1 Axes>"
            ]
          },
          "metadata": {
            "tags": [],
            "needs_background": "light"
          }
        }
      ]
    },
    {
      "cell_type": "code",
      "metadata": {
        "id": "X1hC6Dm15apg",
        "colab_type": "code",
        "colab": {
          "base_uri": "https://localhost:8080/",
          "height": 285
        },
        "outputId": "51a96497-63a2-49ce-e7b5-c17fd72a9413"
      },
      "source": [
        "Self_Employed=pd.crosstab(train['Self_Employed'],train['Loan_Status']) \n",
        "Self_Employed.div(Self_Employed.sum(1).astype(float), axis=0).plot(kind=\"bar\", stacked=True, figsize=(4,4)) \n",
        "plt.show()"
      ],
      "execution_count": 46,
      "outputs": [
        {
          "output_type": "display_data",
          "data": {
            "image/png": "[encoded data removed]",
            "text/plain": [
              "<Figure size 288x288 with 1 Axes>"
            ]
          },
          "metadata": {
            "tags": [],
            "needs_background": "light"
          }
        }
      ]
    },
    {
      "cell_type": "markdown",
      "metadata": {
        "id": "mnBq5V-c5vfn",
        "colab_type": "text"
      },
      "source": [
        "- Proportion of married applicants is higher for the approved loans.\n",
        "- Distribution of applicants with 1 or 3+ dependents is similar across both the categories of Loan_Status.\n",
        "- There is nothing significant we can infer from Self_Employed vs Loan_Status plot."
      ]
    },
    {
      "cell_type": "code",
      "metadata": {
        "id": "92cVfr2-5yA3",
        "colab_type": "code",
        "colab": {
          "base_uri": "https://localhost:8080/",
          "height": 285
        },
        "outputId": "e298ada1-e549-40b0-9488-1753a1f78b55"
      },
      "source": [
        "Credit_History=pd.crosstab(train['Credit_History'],train['Loan_Status']) \n",
        "Credit_History.div(Credit_History.sum(1).astype(float), axis=0).plot(kind=\"bar\", stacked=True, figsize=(4,4)) \n",
        "plt.show() "
      ],
      "execution_count": 47,
      "outputs": [
        {
          "output_type": "display_data",
          "data": {
            "image/png": "[encoded data removed]",
            "text/plain": [
              "<Figure size 288x288 with 1 Axes>"
            ]
          },
          "metadata": {
            "tags": [],
            "needs_background": "light"
          }
        }
      ]
    },
    {
      "cell_type": "code",
      "metadata": {
        "id": "W63NBR3559Qg",
        "colab_type": "code",
        "colab": {
          "base_uri": "https://localhost:8080/",
          "height": 324
        },
        "outputId": "02635629-c110-4013-dc15-1a2caccf9fff"
      },
      "source": [
        "Property_Area=pd.crosstab(train['Property_Area'],train['Loan_Status']) \n",
        "Property_Area.div(Property_Area.sum(1).astype(float), axis=0).plot(kind=\"bar\", stacked=True) \n",
        "plt.show()"
      ],
      "execution_count": 49,
      "outputs": [
        {
          "output_type": "display_data",
          "data": {
            "image/png": "[encoded data removed]",
            "text/plain": [
              "<Figure size 432x288 with 1 Axes>"
            ]
          },
          "metadata": {
            "tags": [],
            "needs_background": "light"
          }
        }
      ]
    },
    {
      "cell_type": "markdown",
      "metadata": {
        "id": "WtfVIv9B6SBr",
        "colab_type": "text"
      },
      "source": [
        "- It seems people with credit history as 1 are more likely to get their loans approved.\n",
        "- Proportion of loans getting approved in semiurban area is higher as compared to that in rural or urban areas."
      ]
    },
    {
      "cell_type": "markdown",
      "metadata": {
        "id": "poaBYlXj6Wqy",
        "colab_type": "text"
      },
      "source": [
        "**Numerical Independent Variable vs Target Variable**"
      ]
    },
    {
      "cell_type": "code",
      "metadata": {
        "id": "mV0nhq906UCO",
        "colab_type": "code",
        "colab": {
          "base_uri": "https://localhost:8080/",
          "height": 295
        },
        "outputId": "38ad5d8d-e8bd-40db-9621-5ee0c93788bc"
      },
      "source": [
        "train.groupby('Loan_Status')['ApplicantIncome'].mean().plot.bar()"
      ],
      "execution_count": 50,
      "outputs": [
        {
          "output_type": "execute_result",
          "data": {
            "text/plain": [
              "<matplotlib.axes._subplots.AxesSubplot at 0x7f93ad23c4e0>"
            ]
          },
          "metadata": {
            "tags": []
          },
          "execution_count": 50
        },
        {
          "output_type": "display_data",
          "data": {
            "image/png": "[encoded data removed]",
            "text/plain": [
              "<Figure size 432x288 with 1 Axes>"
            ]
          },
          "metadata": {
            "tags": [],
            "needs_background": "light"
          }
        }
      ]
    },
    {
      "cell_type": "markdown",
      "metadata": {
        "id": "mSnDHSFz6oGM",
        "colab_type": "text"
      },
      "source": [
        "Here the y-axis represents the mean applicant income. We don’t see any change in the mean income. So, let’s make bins for the applicant income variable based on the values in it and analyze the corresponding loan status for each bin."
      ]
    },
    {
      "cell_type": "code",
      "metadata": {
        "id": "RtvXn8Lt6qpX",
        "colab_type": "code",
        "colab": {
          "base_uri": "https://localhost:8080/",
          "height": 406
        },
        "outputId": "8464ca20-725d-4d7f-cc42-f41092e33569"
      },
      "source": [
        "bins=[0,2500,4000,6000,81000]\n",
        "group=['Low','Average','High', 'Very high'] \n",
        "\n",
        "train['Income_bin']=pd.cut(train['ApplicantIncome'],bins,labels=group)\n",
        "pd.DataFrame(train['Income_bin'])"
      ],
      "execution_count": 52,
      "outputs": [
        {
          "output_type": "execute_result",
          "data": {
            "text/html": [
              "<div>\n",
              "<style scoped>\n",
              "    .dataframe tbody tr th:only-of-type {\n",
              "        vertical-align: middle;\n",
              "    }\n",
              "\n",
              "    .dataframe tbody tr th {\n",
              "        vertical-align: top;\n",
              "    }\n",
              "\n",
              "    .dataframe thead th {\n",
              "        text-align: right;\n",
              "    }\n",
              "</style>\n",
              "<table border=\"1\" class=\"dataframe\">\n",
              "  <thead>\n",
              "    <tr style=\"text-align: right;\">\n",
              "      <th></th>\n",
              "      <th>Income_bin</th>\n",
              "    </tr>\n",
              "  </thead>\n",
              "  <tbody>\n",
              "    <tr>\n",
              "      <th>0</th>\n",
              "      <td>High</td>\n",
              "    </tr>\n",
              "    <tr>\n",
              "      <th>1</th>\n",
              "      <td>High</td>\n",
              "    </tr>\n",
              "    <tr>\n",
              "      <th>2</th>\n",
              "      <td>Average</td>\n",
              "    </tr>\n",
              "    <tr>\n",
              "      <th>3</th>\n",
              "      <td>Average</td>\n",
              "    </tr>\n",
              "    <tr>\n",
              "      <th>4</th>\n",
              "      <td>High</td>\n",
              "    </tr>\n",
              "    <tr>\n",
              "      <th>...</th>\n",
              "      <td>...</td>\n",
              "    </tr>\n",
              "    <tr>\n",
              "      <th>609</th>\n",
              "      <td>Average</td>\n",
              "    </tr>\n",
              "    <tr>\n",
              "      <th>610</th>\n",
              "      <td>High</td>\n",
              "    </tr>\n",
              "    <tr>\n",
              "      <th>611</th>\n",
              "      <td>Very high</td>\n",
              "    </tr>\n",
              "    <tr>\n",
              "      <th>612</th>\n",
              "      <td>Very high</td>\n",
              "    </tr>\n",
              "    <tr>\n",
              "      <th>613</th>\n",
              "      <td>High</td>\n",
              "    </tr>\n",
              "  </tbody>\n",
              "</table>\n",
              "<p>614 rows × 1 columns</p>\n",
              "</div>"
            ],
            "text/plain": [
              "    Income_bin\n",
              "0         High\n",
              "1         High\n",
              "2      Average\n",
              "3      Average\n",
              "4         High\n",
              "..         ...\n",
              "609    Average\n",
              "610       High\n",
              "611  Very high\n",
              "612  Very high\n",
              "613       High\n",
              "\n",
              "[614 rows x 1 columns]"
            ]
          },
          "metadata": {
            "tags": []
          },
          "execution_count": 52
        }
      ]
    },
    {
      "cell_type": "code",
      "metadata": {
        "id": "1VEZzcr861Kp",
        "colab_type": "code",
        "colab": {
          "base_uri": "https://localhost:8080/",
          "height": 197
        },
        "outputId": "f3ee578d-323d-4710-9824-bfde234a9231"
      },
      "source": [
        "Income_bin=pd.crosstab(train['Income_bin'],train['Loan_Status']) \n",
        "Income_bin"
      ],
      "execution_count": 53,
      "outputs": [
        {
          "output_type": "execute_result",
          "data": {
            "text/html": [
              "<div>\n",
              "<style scoped>\n",
              "    .dataframe tbody tr th:only-of-type {\n",
              "        vertical-align: middle;\n",
              "    }\n",
              "\n",
              "    .dataframe tbody tr th {\n",
              "        vertical-align: top;\n",
              "    }\n",
              "\n",
              "    .dataframe thead th {\n",
              "        text-align: right;\n",
              "    }\n",
              "</style>\n",
              "<table border=\"1\" class=\"dataframe\">\n",
              "  <thead>\n",
              "    <tr style=\"text-align: right;\">\n",
              "      <th>Loan_Status</th>\n",
              "      <th>N</th>\n",
              "      <th>Y</th>\n",
              "    </tr>\n",
              "    <tr>\n",
              "      <th>Income_bin</th>\n",
              "      <th></th>\n",
              "      <th></th>\n",
              "    </tr>\n",
              "  </thead>\n",
              "  <tbody>\n",
              "    <tr>\n",
              "      <th>Low</th>\n",
              "      <td>34</td>\n",
              "      <td>74</td>\n",
              "    </tr>\n",
              "    <tr>\n",
              "      <th>Average</th>\n",
              "      <td>67</td>\n",
              "      <td>159</td>\n",
              "    </tr>\n",
              "    <tr>\n",
              "      <th>High</th>\n",
              "      <td>45</td>\n",
              "      <td>98</td>\n",
              "    </tr>\n",
              "    <tr>\n",
              "      <th>Very high</th>\n",
              "      <td>46</td>\n",
              "      <td>91</td>\n",
              "    </tr>\n",
              "  </tbody>\n",
              "</table>\n",
              "</div>"
            ],
            "text/plain": [
              "Loan_Status   N    Y\n",
              "Income_bin          \n",
              "Low          34   74\n",
              "Average      67  159\n",
              "High         45   98\n",
              "Very high    46   91"
            ]
          },
          "metadata": {
            "tags": []
          },
          "execution_count": 53
        }
      ]
    },
    {
      "cell_type": "code",
      "metadata": {
        "id": "f2el6fvT7HXw",
        "colab_type": "code",
        "colab": {
          "base_uri": "https://localhost:8080/",
          "height": 334
        },
        "outputId": "061e3cd1-241d-41b5-e776-3b23ff187425"
      },
      "source": [
        "Income_bin.div(Income_bin.sum(1).astype(float), axis=0).plot(kind=\"bar\", stacked=True) \n",
        "plt.xlabel('ApplicantIncome') \n",
        "plt.ylabel('Percentage')"
      ],
      "execution_count": 54,
      "outputs": [
        {
          "output_type": "execute_result",
          "data": {
            "text/plain": [
              "Text(0, 0.5, 'Percentage')"
            ]
          },
          "metadata": {
            "tags": []
          },
          "execution_count": 54
        },
        {
          "output_type": "display_data",
          "data": {
            "image/png": "[encoded data removed]",
            "text/plain": [
              "<Figure size 432x288 with 1 Axes>"
            ]
          },
          "metadata": {
            "tags": [],
            "needs_background": "light"
          }
        }
      ]
    },
    {
      "cell_type": "markdown",
      "metadata": {
        "id": "kDobsR3Y9fBo",
        "colab_type": "text"
      },
      "source": [
        "It can be inferred that Applicant income does not affect the chances of loan approval which contradicts our hypothesis in which we assumed that if the applicant income is high the chances of loan approval will also be high."
      ]
    },
    {
      "cell_type": "code",
      "metadata": {
        "id": "9v3WhAme9hDG",
        "colab_type": "code",
        "colab": {
          "base_uri": "https://localhost:8080/",
          "height": 310
        },
        "outputId": "9dab9da3-a8c1-4e33-e97f-1b77b0a0a606"
      },
      "source": [
        "bins=[0,1000,3000,42000] \n",
        "group=['Low','Average','High'] \n",
        "\n",
        "train['Coapplicant_Income_bin']=pd.cut(train['CoapplicantIncome'],bins,labels=group)\n",
        "Coapplicant_Income_bin=pd.crosstab(train['Coapplicant_Income_bin'],train['Loan_Status']) \n",
        "Coapplicant_Income_bin.div(Coapplicant_Income_bin.sum(1).astype(float), axis=0).plot(kind=\"bar\", stacked=True) \n",
        "plt.xlabel('CoapplicantIncome') \n",
        "P = plt.ylabel('Percentage')"
      ],
      "execution_count": 55,
      "outputs": [
        {
          "output_type": "display_data",
          "data": {
            "image/png": "[encoded data removed]",
            "text/plain": [
              "<Figure size 432x288 with 1 Axes>"
            ]
          },
          "metadata": {
            "tags": [],
            "needs_background": "light"
          }
        }
      ]
    },
    {
      "cell_type": "markdown",
      "metadata": {
        "id": "G70sZOif95qX",
        "colab_type": "text"
      },
      "source": [
        "It shows that if coapplicant’s income is less the chances of loan approval are high. \n",
        "\n",
        "But this does not look right. \n",
        "\n",
        "The possible reason behind this may be that most of the applicants don’t have any coapplicant so the coapplicant income for such applicants is 0 and hence the loan approval is not dependent on it. \n",
        "\n",
        "So we can make a new variable in which we will combine the applicant’s and coapplicant’s income to visualize the combined effect of income on loan approval."
      ]
    },
    {
      "cell_type": "code",
      "metadata": {
        "id": "-h7YpooM9_-4",
        "colab_type": "code",
        "colab": {
          "base_uri": "https://localhost:8080/",
          "height": 317
        },
        "outputId": "60390984-4b4d-47f3-9b17-2f7d67e7af9a"
      },
      "source": [
        "train['Total_Income']=train['ApplicantIncome']+train['CoapplicantIncome']\n",
        "\n",
        "bins=[0,2500,4000,6000,81000]\n",
        "group=['Low','Average','High', 'Very high']\n",
        "\n",
        "train['Total_Income_bin']=pd.cut(train['Total_Income'],bins,labels=group)\n",
        "\n",
        "Total_Income_bin=pd.crosstab(train['Total_Income_bin'],train['Loan_Status'])\n",
        "Total_Income_bin.div(Total_Income_bin.sum(1).astype(float), axis=0).plot(kind=\"bar\", stacked=True) \n",
        "\n",
        "plt.xlabel('Total_Income')\n",
        "P = plt.ylabel('Percentage')"
      ],
      "execution_count": 57,
      "outputs": [
        {
          "output_type": "display_data",
          "data": {
            "image/png": "[encoded data removed]",
            "text/plain": [
              "<Figure size 432x288 with 1 Axes>"
            ]
          },
          "metadata": {
            "tags": [],
            "needs_background": "light"
          }
        }
      ]
    },
    {
      "cell_type": "markdown",
      "metadata": {
        "id": "ATGyo2PX-lnB",
        "colab_type": "text"
      },
      "source": [
        "We can see that Proportion of loans getting approved for applicants having low Total_Income is very less as compared to that of applicants with Average, High and Very High Income."
      ]
    },
    {
      "cell_type": "code",
      "metadata": {
        "id": "cMN8GiU8-D-g",
        "colab_type": "code",
        "colab": {
          "base_uri": "https://localhost:8080/",
          "height": 310
        },
        "outputId": "0da30bbf-a34c-4b63-d91e-2bdcd0528fe6"
      },
      "source": [
        "bins=[0,100,200,700]\n",
        "group=['Low','Average','High'] \n",
        "\n",
        "train['LoanAmount_bin']=pd.cut(train['LoanAmount'],bins,labels=group)\n",
        "\n",
        "LoanAmount_bin=pd.crosstab(train['LoanAmount_bin'],train['Loan_Status']) \n",
        "LoanAmount_bin.div(LoanAmount_bin.sum(1).astype(float), axis=0).plot(kind=\"bar\", stacked=True) \n",
        "plt.xlabel('LoanAmount')\n",
        "\n",
        "P = plt.ylabel('Percentage')"
      ],
      "execution_count": 58,
      "outputs": [
        {
          "output_type": "display_data",
          "data": {
            "image/png": "[encoded data removed]",
            "text/plain": [
              "<Figure size 432x288 with 1 Axes>"
            ]
          },
          "metadata": {
            "tags": [],
            "needs_background": "light"
          }
        }
      ]
    },
    {
      "cell_type": "markdown",
      "metadata": {
        "id": "0TdsOh6D_BrY",
        "colab_type": "text"
      },
      "source": [
        "It can be seen that the proportion of approved loans is higher for Low and Average Loan Amount as compared to that of High Loan Amount which supports our hypothesis in which we considered that the chances of loan approval will be high when the loan amount is less."
      ]
    },
    {
      "cell_type": "markdown",
      "metadata": {
        "id": "pEYaosql_L8x",
        "colab_type": "text"
      },
      "source": [
        "Let’s drop the bins which we created for the exploration part\n",
        "\n",
        "We will change the 3+ in dependents variable to 3 to make it a numerical variable\n",
        "\n",
        "\n",
        "We will also convert the target variable’s categories into 0 and 1 so that we can find its correlation with numerical variables.\n",
        "\n",
        "One more reason to do so is few models like logistic regression takes only numeric values as input. We will replace N with 0 and Y with 1."
      ]
    },
    {
      "cell_type": "code",
      "metadata": {
        "id": "qyiei7CE_K-B",
        "colab_type": "code",
        "colab": {}
      },
      "source": [
        "train=train.drop(['Income_bin', 'Coapplicant_Income_bin', 'LoanAmount_bin', 'Total_Income_bin', 'Total_Income'], axis=1)\n",
        "\n",
        "train['Dependents'].replace('3+', 3,inplace=True)\n",
        "test['Dependents'].replace('3+', 3,inplace=True) \n",
        "\n",
        "train['Loan_Status'].replace('N', 0,inplace=True) \n",
        "train['Loan_Status'].replace('Y', 1,inplace=True)"
      ],
      "execution_count": 0,
      "outputs": []
    },
    {
      "cell_type": "code",
      "metadata": {
        "id": "i_HZO9JVAH5E",
        "colab_type": "code",
        "colab": {
          "base_uri": "https://localhost:8080/",
          "height": 464
        },
        "outputId": "d64d9088-03a8-47f5-e427-c482d098b96c"
      },
      "source": [
        "matrix = train.corr()\n",
        "\n",
        "f, ax = plt.subplots(figsize=(9, 6))\n",
        "\n",
        "sns.heatmap(matrix, vmax=.8, square=True, cmap=\"BuPu\");"
      ],
      "execution_count": 60,
      "outputs": [
        {
          "output_type": "display_data",
          "data": {
            "image/png": "[encoded data removed]",
            "text/plain": [
              "<Figure size 648x432 with 2 Axes>"
            ]
          },
          "metadata": {
            "tags": [],
            "needs_background": "light"
          }
        }
      ]
    },
    {
      "cell_type": "markdown",
      "metadata": {
        "id": "BYfvRHhzAfIA",
        "colab_type": "text"
      },
      "source": [
        "We see that the most correlated variables are (ApplicantIncome - LoanAmount) and (Credit_History - Loan_Status). LoanAmount is also correlated with CoapplicantIncome."
      ]
    },
    {
      "cell_type": "markdown",
      "metadata": {
        "id": "6wqXndzPAmhI",
        "colab_type": "text"
      },
      "source": [
        "**Missing value imputation**"
      ]
    },
    {
      "cell_type": "code",
      "metadata": {
        "id": "IoMc6eLNApXH",
        "colab_type": "code",
        "colab": {
          "base_uri": "https://localhost:8080/",
          "height": 265
        },
        "outputId": "6c30bd83-4cdf-420b-ec38-4ea2ad2a961b"
      },
      "source": [
        "train.isnull().sum()"
      ],
      "execution_count": 61,
      "outputs": [
        {
          "output_type": "execute_result",
          "data": {
            "text/plain": [
              "Loan_ID               0\n",
              "Gender               13\n",
              "Married               3\n",
              "Dependents           15\n",
              "Education             0\n",
              "Self_Employed        32\n",
              "ApplicantIncome       0\n",
              "CoapplicantIncome     0\n",
              "LoanAmount           22\n",
              "Loan_Amount_Term     14\n",
              "Credit_History       50\n",
              "Property_Area         0\n",
              "Loan_Status           0\n",
              "dtype: int64"
            ]
          },
          "metadata": {
            "tags": []
          },
          "execution_count": 61
        }
      ]
    },
    {
      "cell_type": "markdown",
      "metadata": {
        "id": "aYSxJs-tBYLX",
        "colab_type": "text"
      },
      "source": [
        "There are missing values in Gender, Married, Dependents, Self_Employed, LoanAmount, Loan_Amount_Term and Credit_History features."
      ]
    },
    {
      "cell_type": "markdown",
      "metadata": {
        "id": "BhCka1h8Ba-_",
        "colab_type": "text"
      },
      "source": [
        "**For numerical variable**s: imputation using mean or median\n",
        "\n",
        "**For categorical variables**: imputation using mode"
      ]
    },
    {
      "cell_type": "code",
      "metadata": {
        "id": "YxRqtY_CBij1",
        "colab_type": "code",
        "colab": {}
      },
      "source": [
        "train['Gender'].fillna(train['Gender'].mode()[0], inplace=True) \n",
        "train['Married'].fillna(train['Married'].mode()[0], inplace=True) \n",
        "train['Dependents'].fillna(train['Dependents'].mode()[0], inplace=True) \n",
        "train['Self_Employed'].fillna(train['Self_Employed'].mode()[0], inplace=True) \n",
        "train['Credit_History'].fillna(train['Credit_History'].mode()[0], inplace=True)"
      ],
      "execution_count": 0,
      "outputs": []
    },
    {
      "cell_type": "code",
      "metadata": {
        "id": "KPVHUf39DVFJ",
        "colab_type": "code",
        "colab": {
          "base_uri": "https://localhost:8080/",
          "height": 212
        },
        "outputId": "93894790-1101-4437-ed88-b1ed7b2b4716"
      },
      "source": [
        "train['Loan_Amount_Term'].value_counts()"
      ],
      "execution_count": 63,
      "outputs": [
        {
          "output_type": "execute_result",
          "data": {
            "text/plain": [
              "360.0    512\n",
              "180.0     44\n",
              "480.0     15\n",
              "300.0     13\n",
              "84.0       4\n",
              "240.0      4\n",
              "120.0      3\n",
              "36.0       2\n",
              "60.0       2\n",
              "12.0       1\n",
              "Name: Loan_Amount_Term, dtype: int64"
            ]
          },
          "metadata": {
            "tags": []
          },
          "execution_count": 63
        }
      ]
    },
    {
      "cell_type": "code",
      "metadata": {
        "id": "HQKOm_WODaQX",
        "colab_type": "code",
        "colab": {}
      },
      "source": [
        "train['Loan_Amount_Term'].fillna(train['Loan_Amount_Term'].mode()[0], inplace=True)"
      ],
      "execution_count": 0,
      "outputs": []
    },
    {
      "cell_type": "code",
      "metadata": {
        "id": "gbAXt3rYDePX",
        "colab_type": "code",
        "colab": {}
      },
      "source": [
        "train['LoanAmount'].fillna(train['LoanAmount'].median(), inplace=True)"
      ],
      "execution_count": 0,
      "outputs": []
    },
    {
      "cell_type": "code",
      "metadata": {
        "id": "lm-BwpqJDgXF",
        "colab_type": "code",
        "colab": {
          "base_uri": "https://localhost:8080/",
          "height": 265
        },
        "outputId": "42bcda17-d40b-4864-d56c-d73ac8269f5c"
      },
      "source": [
        "train.isnull().sum()"
      ],
      "execution_count": 66,
      "outputs": [
        {
          "output_type": "execute_result",
          "data": {
            "text/plain": [
              "Loan_ID              0\n",
              "Gender               0\n",
              "Married              0\n",
              "Dependents           0\n",
              "Education            0\n",
              "Self_Employed        0\n",
              "ApplicantIncome      0\n",
              "CoapplicantIncome    0\n",
              "LoanAmount           0\n",
              "Loan_Amount_Term     0\n",
              "Credit_History       0\n",
              "Property_Area        0\n",
              "Loan_Status          0\n",
              "dtype: int64"
            ]
          },
          "metadata": {
            "tags": []
          },
          "execution_count": 66
        }
      ]
    },
    {
      "cell_type": "code",
      "metadata": {
        "id": "xOhFwlrkDke6",
        "colab_type": "code",
        "colab": {}
      },
      "source": [
        "test['Gender'].fillna(train['Gender'].mode()[0], inplace=True) \n",
        "test['Dependents'].fillna(train['Dependents'].mode()[0], inplace=True) \n",
        "test['Self_Employed'].fillna(train['Self_Employed'].mode()[0], inplace=True) \n",
        "test['Credit_History'].fillna(train['Credit_History'].mode()[0], inplace=True) \n",
        "test['Loan_Amount_Term'].fillna(train['Loan_Amount_Term'].mode()[0], inplace=True) \n",
        "test['LoanAmount'].fillna(train['LoanAmount'].median(), inplace=True)"
      ],
      "execution_count": 0,
      "outputs": []
    },
    {
      "cell_type": "markdown",
      "metadata": {
        "id": "FxzbKmNYDpso",
        "colab_type": "text"
      },
      "source": [
        "**Outlier Treatment**"
      ]
    },
    {
      "cell_type": "code",
      "metadata": {
        "id": "_w8a3OpnD5HU",
        "colab_type": "code",
        "colab": {}
      },
      "source": [
        "train['LoanAmount_log'] = np.log(train['LoanAmount'])"
      ],
      "execution_count": 0,
      "outputs": []
    },
    {
      "cell_type": "code",
      "metadata": {
        "id": "KG2inGBAD9nY",
        "colab_type": "code",
        "colab": {
          "base_uri": "https://localhost:8080/",
          "height": 282
        },
        "outputId": "7666c8f4-802d-4be6-c5c6-f975b9d62215"
      },
      "source": [
        "train['LoanAmount_log'].hist(bins=20) "
      ],
      "execution_count": 69,
      "outputs": [
        {
          "output_type": "execute_result",
          "data": {
            "text/plain": [
              "<matplotlib.axes._subplots.AxesSubplot at 0x7f93acebee10>"
            ]
          },
          "metadata": {
            "tags": []
          },
          "execution_count": 69
        },
        {
          "output_type": "display_data",
          "data": {
            "image/png": "[encoded data removed]",
            "text/plain": [
              "<Figure size 432x288 with 1 Axes>"
            ]
          },
          "metadata": {
            "tags": [],
            "needs_background": "light"
          }
        }
      ]
    },
    {
      "cell_type": "code",
      "metadata": {
        "id": "vXLEkEQ6EBC8",
        "colab_type": "code",
        "colab": {}
      },
      "source": [
        "test['LoanAmount_log'] = np.log(test['LoanAmount'])"
      ],
      "execution_count": 0,
      "outputs": []
    },
    {
      "cell_type": "markdown",
      "metadata": {
        "id": "oVrmj2YrEDPS",
        "colab_type": "text"
      },
      "source": [
        "Now the distribution looks much closer to normal and effect of extreme values has been significantly subsided. Let’s build a logistic regression model and make predictions for the test dataset."
      ]
    },
    {
      "cell_type": "markdown",
      "metadata": {
        "id": "ja5955neKt9L",
        "colab_type": "text"
      },
      "source": [
        "**Modelling**"
      ]
    },
    {
      "cell_type": "markdown",
      "metadata": {
        "id": "J_TrZr_fPTWJ",
        "colab_type": "text"
      },
      "source": [
        "**Logistic Regression**"
      ]
    },
    {
      "cell_type": "code",
      "metadata": {
        "id": "DUevMocNKwLr",
        "colab_type": "code",
        "colab": {}
      },
      "source": [
        "train=train.drop('Loan_ID',axis=1) \n",
        "test=test.drop('Loan_ID',axis=1)"
      ],
      "execution_count": 0,
      "outputs": []
    },
    {
      "cell_type": "code",
      "metadata": {
        "id": "IhAvMAJFKzfh",
        "colab_type": "code",
        "colab": {}
      },
      "source": [
        "X = train.drop('Loan_Status',1) \n",
        "y = train.Loan_Status"
      ],
      "execution_count": 0,
      "outputs": []
    },
    {
      "cell_type": "code",
      "metadata": {
        "id": "meT5ECgnK7rl",
        "colab_type": "code",
        "colab": {
          "base_uri": "https://localhost:8080/",
          "height": 234
        },
        "outputId": "3b2e7b28-b87b-4bff-ad12-7fe019a87804"
      },
      "source": [
        "X.head()"
      ],
      "execution_count": 74,
      "outputs": [
        {
          "output_type": "execute_result",
          "data": {
            "text/html": [
              "<div>\n",
              "<style scoped>\n",
              "    .dataframe tbody tr th:only-of-type {\n",
              "        vertical-align: middle;\n",
              "    }\n",
              "\n",
              "    .dataframe tbody tr th {\n",
              "        vertical-align: top;\n",
              "    }\n",
              "\n",
              "    .dataframe thead th {\n",
              "        text-align: right;\n",
              "    }\n",
              "</style>\n",
              "<table border=\"1\" class=\"dataframe\">\n",
              "  <thead>\n",
              "    <tr style=\"text-align: right;\">\n",
              "      <th></th>\n",
              "      <th>Gender</th>\n",
              "      <th>Married</th>\n",
              "      <th>Dependents</th>\n",
              "      <th>Education</th>\n",
              "      <th>Self_Employed</th>\n",
              "      <th>ApplicantIncome</th>\n",
              "      <th>CoapplicantIncome</th>\n",
              "      <th>LoanAmount</th>\n",
              "      <th>Loan_Amount_Term</th>\n",
              "      <th>Credit_History</th>\n",
              "      <th>Property_Area</th>\n",
              "      <th>LoanAmount_log</th>\n",
              "    </tr>\n",
              "  </thead>\n",
              "  <tbody>\n",
              "    <tr>\n",
              "      <th>0</th>\n",
              "      <td>Male</td>\n",
              "      <td>No</td>\n",
              "      <td>0</td>\n",
              "      <td>Graduate</td>\n",
              "      <td>No</td>\n",
              "      <td>5849</td>\n",
              "      <td>0.0</td>\n",
              "      <td>128.0</td>\n",
              "      <td>360.0</td>\n",
              "      <td>1.0</td>\n",
              "      <td>Urban</td>\n",
              "      <td>4.852030</td>\n",
              "    </tr>\n",
              "    <tr>\n",
              "      <th>1</th>\n",
              "      <td>Male</td>\n",
              "      <td>Yes</td>\n",
              "      <td>1</td>\n",
              "      <td>Graduate</td>\n",
              "      <td>No</td>\n",
              "      <td>4583</td>\n",
              "      <td>1508.0</td>\n",
              "      <td>128.0</td>\n",
              "      <td>360.0</td>\n",
              "      <td>1.0</td>\n",
              "      <td>Rural</td>\n",
              "      <td>4.852030</td>\n",
              "    </tr>\n",
              "    <tr>\n",
              "      <th>2</th>\n",
              "      <td>Male</td>\n",
              "      <td>Yes</td>\n",
              "      <td>0</td>\n",
              "      <td>Graduate</td>\n",
              "      <td>Yes</td>\n",
              "      <td>3000</td>\n",
              "      <td>0.0</td>\n",
              "      <td>66.0</td>\n",
              "      <td>360.0</td>\n",
              "      <td>1.0</td>\n",
              "      <td>Urban</td>\n",
              "      <td>4.189655</td>\n",
              "    </tr>\n",
              "    <tr>\n",
              "      <th>3</th>\n",
              "      <td>Male</td>\n",
              "      <td>Yes</td>\n",
              "      <td>0</td>\n",
              "      <td>Not Graduate</td>\n",
              "      <td>No</td>\n",
              "      <td>2583</td>\n",
              "      <td>2358.0</td>\n",
              "      <td>120.0</td>\n",
              "      <td>360.0</td>\n",
              "      <td>1.0</td>\n",
              "      <td>Urban</td>\n",
              "      <td>4.787492</td>\n",
              "    </tr>\n",
              "    <tr>\n",
              "      <th>4</th>\n",
              "      <td>Male</td>\n",
              "      <td>No</td>\n",
              "      <td>0</td>\n",
              "      <td>Graduate</td>\n",
              "      <td>No</td>\n",
              "      <td>6000</td>\n",
              "      <td>0.0</td>\n",
              "      <td>141.0</td>\n",
              "      <td>360.0</td>\n",
              "      <td>1.0</td>\n",
              "      <td>Urban</td>\n",
              "      <td>4.948760</td>\n",
              "    </tr>\n",
              "  </tbody>\n",
              "</table>\n",
              "</div>"
            ],
            "text/plain": [
              "  Gender Married Dependents  ... Credit_History Property_Area  LoanAmount_log\n",
              "0   Male      No          0  ...            1.0         Urban        4.852030\n",
              "1   Male     Yes          1  ...            1.0         Rural        4.852030\n",
              "2   Male     Yes          0  ...            1.0         Urban        4.189655\n",
              "3   Male     Yes          0  ...            1.0         Urban        4.787492\n",
              "4   Male      No          0  ...            1.0         Urban        4.948760\n",
              "\n",
              "[5 rows x 12 columns]"
            ]
          },
          "metadata": {
            "tags": []
          },
          "execution_count": 74
        }
      ]
    },
    {
      "cell_type": "code",
      "metadata": {
        "id": "JS0vGJuYLAqD",
        "colab_type": "code",
        "colab": {
          "base_uri": "https://localhost:8080/",
          "height": 234
        },
        "outputId": "576dda17-cba8-46ed-8067-33f1395149a7"
      },
      "source": [
        "X=pd.get_dummies(X) \n",
        "X.head()"
      ],
      "execution_count": 75,
      "outputs": [
        {
          "output_type": "execute_result",
          "data": {
            "text/html": [
              "<div>\n",
              "<style scoped>\n",
              "    .dataframe tbody tr th:only-of-type {\n",
              "        vertical-align: middle;\n",
              "    }\n",
              "\n",
              "    .dataframe tbody tr th {\n",
              "        vertical-align: top;\n",
              "    }\n",
              "\n",
              "    .dataframe thead th {\n",
              "        text-align: right;\n",
              "    }\n",
              "</style>\n",
              "<table border=\"1\" class=\"dataframe\">\n",
              "  <thead>\n",
              "    <tr style=\"text-align: right;\">\n",
              "      <th></th>\n",
              "      <th>ApplicantIncome</th>\n",
              "      <th>CoapplicantIncome</th>\n",
              "      <th>LoanAmount</th>\n",
              "      <th>Loan_Amount_Term</th>\n",
              "      <th>Credit_History</th>\n",
              "      <th>LoanAmount_log</th>\n",
              "      <th>Gender_Female</th>\n",
              "      <th>Gender_Male</th>\n",
              "      <th>Married_No</th>\n",
              "      <th>Married_Yes</th>\n",
              "      <th>Dependents_3</th>\n",
              "      <th>Dependents_0</th>\n",
              "      <th>Dependents_1</th>\n",
              "      <th>Dependents_2</th>\n",
              "      <th>Education_Graduate</th>\n",
              "      <th>Education_Not Graduate</th>\n",
              "      <th>Self_Employed_No</th>\n",
              "      <th>Self_Employed_Yes</th>\n",
              "      <th>Property_Area_Rural</th>\n",
              "      <th>Property_Area_Semiurban</th>\n",
              "      <th>Property_Area_Urban</th>\n",
              "    </tr>\n",
              "  </thead>\n",
              "  <tbody>\n",
              "    <tr>\n",
              "      <th>0</th>\n",
              "      <td>5849</td>\n",
              "      <td>0.0</td>\n",
              "      <td>128.0</td>\n",
              "      <td>360.0</td>\n",
              "      <td>1.0</td>\n",
              "      <td>4.852030</td>\n",
              "      <td>0</td>\n",
              "      <td>1</td>\n",
              "      <td>1</td>\n",
              "      <td>0</td>\n",
              "      <td>0</td>\n",
              "      <td>1</td>\n",
              "      <td>0</td>\n",
              "      <td>0</td>\n",
              "      <td>1</td>\n",
              "      <td>0</td>\n",
              "      <td>1</td>\n",
              "      <td>0</td>\n",
              "      <td>0</td>\n",
              "      <td>0</td>\n",
              "      <td>1</td>\n",
              "    </tr>\n",
              "    <tr>\n",
              "      <th>1</th>\n",
              "      <td>4583</td>\n",
              "      <td>1508.0</td>\n",
              "      <td>128.0</td>\n",
              "      <td>360.0</td>\n",
              "      <td>1.0</td>\n",
              "      <td>4.852030</td>\n",
              "      <td>0</td>\n",
              "      <td>1</td>\n",
              "      <td>0</td>\n",
              "      <td>1</td>\n",
              "      <td>0</td>\n",
              "      <td>0</td>\n",
              "      <td>1</td>\n",
              "      <td>0</td>\n",
              "      <td>1</td>\n",
              "      <td>0</td>\n",
              "      <td>1</td>\n",
              "      <td>0</td>\n",
              "      <td>1</td>\n",
              "      <td>0</td>\n",
              "      <td>0</td>\n",
              "    </tr>\n",
              "    <tr>\n",
              "      <th>2</th>\n",
              "      <td>3000</td>\n",
              "      <td>0.0</td>\n",
              "      <td>66.0</td>\n",
              "      <td>360.0</td>\n",
              "      <td>1.0</td>\n",
              "      <td>4.189655</td>\n",
              "      <td>0</td>\n",
              "      <td>1</td>\n",
              "      <td>0</td>\n",
              "      <td>1</td>\n",
              "      <td>0</td>\n",
              "      <td>1</td>\n",
              "      <td>0</td>\n",
              "      <td>0</td>\n",
              "      <td>1</td>\n",
              "      <td>0</td>\n",
              "      <td>0</td>\n",
              "      <td>1</td>\n",
              "      <td>0</td>\n",
              "      <td>0</td>\n",
              "      <td>1</td>\n",
              "    </tr>\n",
              "    <tr>\n",
              "      <th>3</th>\n",
              "      <td>2583</td>\n",
              "      <td>2358.0</td>\n",
              "      <td>120.0</td>\n",
              "      <td>360.0</td>\n",
              "      <td>1.0</td>\n",
              "      <td>4.787492</td>\n",
              "      <td>0</td>\n",
              "      <td>1</td>\n",
              "      <td>0</td>\n",
              "      <td>1</td>\n",
              "      <td>0</td>\n",
              "      <td>1</td>\n",
              "      <td>0</td>\n",
              "      <td>0</td>\n",
              "      <td>0</td>\n",
              "      <td>1</td>\n",
              "      <td>1</td>\n",
              "      <td>0</td>\n",
              "      <td>0</td>\n",
              "      <td>0</td>\n",
              "      <td>1</td>\n",
              "    </tr>\n",
              "    <tr>\n",
              "      <th>4</th>\n",
              "      <td>6000</td>\n",
              "      <td>0.0</td>\n",
              "      <td>141.0</td>\n",
              "      <td>360.0</td>\n",
              "      <td>1.0</td>\n",
              "      <td>4.948760</td>\n",
              "      <td>0</td>\n",
              "      <td>1</td>\n",
              "      <td>1</td>\n",
              "      <td>0</td>\n",
              "      <td>0</td>\n",
              "      <td>1</td>\n",
              "      <td>0</td>\n",
              "      <td>0</td>\n",
              "      <td>1</td>\n",
              "      <td>0</td>\n",
              "      <td>1</td>\n",
              "      <td>0</td>\n",
              "      <td>0</td>\n",
              "      <td>0</td>\n",
              "      <td>1</td>\n",
              "    </tr>\n",
              "  </tbody>\n",
              "</table>\n",
              "</div>"
            ],
            "text/plain": [
              "   ApplicantIncome  ...  Property_Area_Urban\n",
              "0             5849  ...                    1\n",
              "1             4583  ...                    0\n",
              "2             3000  ...                    1\n",
              "3             2583  ...                    1\n",
              "4             6000  ...                    1\n",
              "\n",
              "[5 rows x 21 columns]"
            ]
          },
          "metadata": {
            "tags": []
          },
          "execution_count": 75
        }
      ]
    },
    {
      "cell_type": "code",
      "metadata": {
        "id": "leBrXZAdLN5P",
        "colab_type": "code",
        "colab": {}
      },
      "source": [
        "train=pd.get_dummies(train) \n",
        "test=pd.get_dummies(test)"
      ],
      "execution_count": 0,
      "outputs": []
    },
    {
      "cell_type": "code",
      "metadata": {
        "id": "8hrQoVieL8wa",
        "colab_type": "code",
        "colab": {}
      },
      "source": [
        "from sklearn.model_selection import train_test_split\n",
        "from sklearn.linear_model import LogisticRegression \n",
        "from sklearn.metrics import accuracy_score"
      ],
      "execution_count": 0,
      "outputs": []
    },
    {
      "cell_type": "code",
      "metadata": {
        "id": "lGqH6LwpL-R5",
        "colab_type": "code",
        "colab": {}
      },
      "source": [
        "x_train, x_cv, y_train, y_cv = train_test_split(X,y, test_size =0.3)"
      ],
      "execution_count": 0,
      "outputs": []
    },
    {
      "cell_type": "code",
      "metadata": {
        "id": "l-wyl79wMFVh",
        "colab_type": "code",
        "colab": {}
      },
      "source": [
        "model = LogisticRegression() "
      ],
      "execution_count": 0,
      "outputs": []
    },
    {
      "cell_type": "code",
      "metadata": {
        "id": "bnc5_Cg-MGij",
        "colab_type": "code",
        "colab": {
          "base_uri": "https://localhost:8080/",
          "height": 105
        },
        "outputId": "efa27fe1-e60a-493c-a414-524842b33cd2"
      },
      "source": [
        "model.fit(x_train, y_train)"
      ],
      "execution_count": 80,
      "outputs": [
        {
          "output_type": "execute_result",
          "data": {
            "text/plain": [
              "LogisticRegression(C=1.0, class_weight=None, dual=False, fit_intercept=True,\n",
              "                   intercept_scaling=1, l1_ratio=None, max_iter=100,\n",
              "                   multi_class='auto', n_jobs=None, penalty='l2',\n",
              "                   random_state=None, solver='lbfgs', tol=0.0001, verbose=0,\n",
              "                   warm_start=False)"
            ]
          },
          "metadata": {
            "tags": []
          },
          "execution_count": 80
        }
      ]
    },
    {
      "cell_type": "code",
      "metadata": {
        "id": "ij_rBbdYMT1B",
        "colab_type": "code",
        "colab": {}
      },
      "source": [
        "pred_cv = model.predict(x_cv)"
      ],
      "execution_count": 0,
      "outputs": []
    },
    {
      "cell_type": "code",
      "metadata": {
        "id": "3Gn66ijTMV4U",
        "colab_type": "code",
        "colab": {
          "base_uri": "https://localhost:8080/",
          "height": 34
        },
        "outputId": "e45fc37b-f441-47ef-fd92-24f2551bee75"
      },
      "source": [
        "accuracy_score(y_cv,pred_cv)"
      ],
      "execution_count": 82,
      "outputs": [
        {
          "output_type": "execute_result",
          "data": {
            "text/plain": [
              "0.8054054054054054"
            ]
          },
          "metadata": {
            "tags": []
          },
          "execution_count": 82
        }
      ]
    },
    {
      "cell_type": "code",
      "metadata": {
        "id": "a3wHuzaBMaES",
        "colab_type": "code",
        "colab": {}
      },
      "source": [
        "pred_test = model.predict(test)"
      ],
      "execution_count": 0,
      "outputs": []
    },
    {
      "cell_type": "code",
      "metadata": {
        "id": "CsN0TUMROMG_",
        "colab_type": "code",
        "colab": {
          "base_uri": "https://localhost:8080/",
          "height": 406
        },
        "outputId": "1798d5a4-dc3e-4876-e270-883dc291c80c"
      },
      "source": [
        "submission=pd.DataFrame()\n",
        "submission['Loan_ID']=test_original['Loan_ID']\n",
        "submission['Loan_Status']=pred_test \n",
        "submission['Loan_Status'].replace(0, 'N',inplace=True) \n",
        "submission['Loan_Status'].replace(1, 'Y',inplace=True)\n",
        "submission"
      ],
      "execution_count": 86,
      "outputs": [
        {
          "output_type": "execute_result",
          "data": {
            "text/html": [
              "<div>\n",
              "<style scoped>\n",
              "    .dataframe tbody tr th:only-of-type {\n",
              "        vertical-align: middle;\n",
              "    }\n",
              "\n",
              "    .dataframe tbody tr th {\n",
              "        vertical-align: top;\n",
              "    }\n",
              "\n",
              "    .dataframe thead th {\n",
              "        text-align: right;\n",
              "    }\n",
              "</style>\n",
              "<table border=\"1\" class=\"dataframe\">\n",
              "  <thead>\n",
              "    <tr style=\"text-align: right;\">\n",
              "      <th></th>\n",
              "      <th>Loan_ID</th>\n",
              "      <th>Loan_Status</th>\n",
              "    </tr>\n",
              "  </thead>\n",
              "  <tbody>\n",
              "    <tr>\n",
              "      <th>0</th>\n",
              "      <td>LP001015</td>\n",
              "      <td>Y</td>\n",
              "    </tr>\n",
              "    <tr>\n",
              "      <th>1</th>\n",
              "      <td>LP001022</td>\n",
              "      <td>Y</td>\n",
              "    </tr>\n",
              "    <tr>\n",
              "      <th>2</th>\n",
              "      <td>LP001031</td>\n",
              "      <td>Y</td>\n",
              "    </tr>\n",
              "    <tr>\n",
              "      <th>3</th>\n",
              "      <td>LP001035</td>\n",
              "      <td>Y</td>\n",
              "    </tr>\n",
              "    <tr>\n",
              "      <th>4</th>\n",
              "      <td>LP001051</td>\n",
              "      <td>Y</td>\n",
              "    </tr>\n",
              "    <tr>\n",
              "      <th>...</th>\n",
              "      <td>...</td>\n",
              "      <td>...</td>\n",
              "    </tr>\n",
              "    <tr>\n",
              "      <th>362</th>\n",
              "      <td>LP002971</td>\n",
              "      <td>Y</td>\n",
              "    </tr>\n",
              "    <tr>\n",
              "      <th>363</th>\n",
              "      <td>LP002975</td>\n",
              "      <td>Y</td>\n",
              "    </tr>\n",
              "    <tr>\n",
              "      <th>364</th>\n",
              "      <td>LP002980</td>\n",
              "      <td>Y</td>\n",
              "    </tr>\n",
              "    <tr>\n",
              "      <th>365</th>\n",
              "      <td>LP002986</td>\n",
              "      <td>Y</td>\n",
              "    </tr>\n",
              "    <tr>\n",
              "      <th>366</th>\n",
              "      <td>LP002989</td>\n",
              "      <td>Y</td>\n",
              "    </tr>\n",
              "  </tbody>\n",
              "</table>\n",
              "<p>367 rows × 2 columns</p>\n",
              "</div>"
            ],
            "text/plain": [
              "      Loan_ID Loan_Status\n",
              "0    LP001015           Y\n",
              "1    LP001022           Y\n",
              "2    LP001031           Y\n",
              "3    LP001035           Y\n",
              "4    LP001051           Y\n",
              "..        ...         ...\n",
              "362  LP002971           Y\n",
              "363  LP002975           Y\n",
              "364  LP002980           Y\n",
              "365  LP002986           Y\n",
              "366  LP002989           Y\n",
              "\n",
              "[367 rows x 2 columns]"
            ]
          },
          "metadata": {
            "tags": []
          },
          "execution_count": 86
        }
      ]
    },
    {
      "cell_type": "code",
      "metadata": {
        "id": "uFgS2A8mOkbs",
        "colab_type": "code",
        "colab": {}
      },
      "source": [
        "pd.DataFrame(submission, columns=['Loan_ID','Loan_Status']).to_csv('logistic.csv')"
      ],
      "execution_count": 0,
      "outputs": []
    },
    {
      "cell_type": "markdown",
      "metadata": {
        "id": "uaf6A13jQGyZ",
        "colab_type": "text"
      },
      "source": [
        "**Logistic Regression with StratifiedKFold**"
      ]
    },
    {
      "cell_type": "code",
      "metadata": {
        "id": "aqQkvVXpQKen",
        "colab_type": "code",
        "colab": {}
      },
      "source": [
        "from sklearn.model_selection import StratifiedKFold\n",
        "from sklearn import metrics"
      ],
      "execution_count": 0,
      "outputs": []
    },
    {
      "cell_type": "code",
      "metadata": {
        "id": "ATL44goVQOwI",
        "colab_type": "code",
        "colab": {
          "base_uri": "https://localhost:8080/",
          "height": 1000
        },
        "outputId": "3afd8037-1201-4117-bea7-c1a39edd9850"
      },
      "source": [
        "i=1\n",
        "kf = StratifiedKFold(n_splits=5,random_state=1,shuffle=True)\n",
        "\n",
        "for train_index,test_index in kf.split(X,y):\n",
        "  print('\\n{} of kfold {}'.format(i,kf.n_splits))\n",
        "  xtr,xvl = X.loc[train_index],X.loc[test_index]\n",
        "  ytr,yvl = y[train_index],y[test_index] \n",
        "\n",
        "  model = LogisticRegression(random_state=1)\n",
        "  model.fit(xtr, ytr)\n",
        "\n",
        "  print(\"Model - \\n\", model)\n",
        "\n",
        "  pred_test = model.predict(xvl)\n",
        "  score = accuracy_score(yvl,pred_test)\n",
        "  print('accuracy_score',score)\n",
        "  i=i+1\n",
        "  pred_test = model.predict(test)\n",
        "  pred_proba=model.predict_proba(xvl)[:,1]\n",
        "\n",
        "  fpr, tpr, _ = metrics.roc_curve(yvl,  pred_proba)\n",
        "  auc = metrics.roc_auc_score(yvl, pred_proba)\n",
        "  plt.figure(figsize=(12,8))\n",
        "  plt.plot(fpr,tpr,label=\"validation, auc=\"+str(auc))\n",
        "  plt.xlabel('False Positive Rate')\n",
        "  plt.ylabel('True Positive Rate')\n",
        "  plt.legend(loc=4)\n",
        "  plt.show()"
      ],
      "execution_count": 94,
      "outputs": [
        {
          "output_type": "stream",
          "text": [
            "\n",
            "1 of kfold 5\n",
            "Model - \n",
            " LogisticRegression(C=1.0, class_weight=None, dual=False, fit_intercept=True,\n",
            "                   intercept_scaling=1, l1_ratio=None, max_iter=100,\n",
            "                   multi_class='auto', n_jobs=None, penalty='l2',\n",
            "                   random_state=1, solver='lbfgs', tol=0.0001, verbose=0,\n",
            "                   warm_start=False)\n",
            "accuracy_score 0.8048780487804879\n"
          ],
          "name": "stdout"
        },
        {
          "output_type": "stream",
          "text": [
            "/usr/local/lib/python3.6/dist-packages/sklearn/linear_model/_logistic.py:940: ConvergenceWarning: lbfgs failed to converge (status=1):\n",
            "STOP: TOTAL NO. of ITERATIONS REACHED LIMIT.\n",
            "\n",
            "Increase the number of iterations (max_iter) or scale the data as shown in:\n",
            "    https://scikit-learn.org/stable/modules/preprocessing.html\n",
            "Please also refer to the documentation for alternative solver options:\n",
            "    https://scikit-learn.org/stable/modules/linear_model.html#logistic-regression\n",
            "  extra_warning_msg=_LOGISTIC_SOLVER_CONVERGENCE_MSG)\n"
          ],
          "name": "stderr"
        },
        {
          "output_type": "display_data",
          "data": {
            "image/png": "[encoded data removed]",
            "text/plain": [
              "<Figure size 864x576 with 1 Axes>"
            ]
          },
          "metadata": {
            "tags": [],
            "needs_background": "light"
          }
        },
        {
          "output_type": "stream",
          "text": [
            "\n",
            "2 of kfold 5\n",
            "Model - \n",
            " LogisticRegression(C=1.0, class_weight=None, dual=False, fit_intercept=True,\n",
            "                   intercept_scaling=1, l1_ratio=None, max_iter=100,\n",
            "                   multi_class='auto', n_jobs=None, penalty='l2',\n",
            "                   random_state=1, solver='lbfgs', tol=0.0001, verbose=0,\n",
            "                   warm_start=False)\n",
            "accuracy_score 0.8373983739837398\n"
          ],
          "name": "stdout"
        },
        {
          "output_type": "stream",
          "text": [
            "/usr/local/lib/python3.6/dist-packages/sklearn/linear_model/_logistic.py:940: ConvergenceWarning: lbfgs failed to converge (status=1):\n",
            "STOP: TOTAL NO. of ITERATIONS REACHED LIMIT.\n",
            "\n",
            "Increase the number of iterations (max_iter) or scale the data as shown in:\n",
            "    https://scikit-learn.org/stable/modules/preprocessing.html\n",
            "Please also refer to the documentation for alternative solver options:\n",
            "    https://scikit-learn.org/stable/modules/linear_model.html#logistic-regression\n",
            "  extra_warning_msg=_LOGISTIC_SOLVER_CONVERGENCE_MSG)\n"
          ],
          "name": "stderr"
        },
        {
          "output_type": "display_data",
          "data": {
            "image/png": "[encoded data removed]",
            "text/plain": [
              "<Figure size 864x576 with 1 Axes>"
            ]
          },
          "metadata": {
            "tags": [],
            "needs_background": "light"
          }
        },
        {
          "output_type": "stream",
          "text": [
            "\n",
            "3 of kfold 5\n",
            "Model - \n",
            " LogisticRegression(C=1.0, class_weight=None, dual=False, fit_intercept=True,\n",
            "                   intercept_scaling=1, l1_ratio=None, max_iter=100,\n",
            "                   multi_class='auto', n_jobs=None, penalty='l2',\n",
            "                   random_state=1, solver='lbfgs', tol=0.0001, verbose=0,\n",
            "                   warm_start=False)\n",
            "accuracy_score 0.7804878048780488\n"
          ],
          "name": "stdout"
        },
        {
          "output_type": "stream",
          "text": [
            "/usr/local/lib/python3.6/dist-packages/sklearn/linear_model/_logistic.py:940: ConvergenceWarning: lbfgs failed to converge (status=1):\n",
            "STOP: TOTAL NO. of ITERATIONS REACHED LIMIT.\n",
            "\n",
            "Increase the number of iterations (max_iter) or scale the data as shown in:\n",
            "    https://scikit-learn.org/stable/modules/preprocessing.html\n",
            "Please also refer to the documentation for alternative solver options:\n",
            "    https://scikit-learn.org/stable/modules/linear_model.html#logistic-regression\n",
            "  extra_warning_msg=_LOGISTIC_SOLVER_CONVERGENCE_MSG)\n"
          ],
          "name": "stderr"
        },
        {
          "output_type": "display_data",
          "data": {
            "image/png": "[encoded data removed]",
            "text/plain": [
              "<Figure size 864x576 with 1 Axes>"
            ]
          },
          "metadata": {
            "tags": [],
            "needs_background": "light"
          }
        },
        {
          "output_type": "stream",
          "text": [
            "\n",
            "4 of kfold 5\n",
            "Model - \n",
            " LogisticRegression(C=1.0, class_weight=None, dual=False, fit_intercept=True,\n",
            "                   intercept_scaling=1, l1_ratio=None, max_iter=100,\n",
            "                   multi_class='auto', n_jobs=None, penalty='l2',\n",
            "                   random_state=1, solver='lbfgs', tol=0.0001, verbose=0,\n",
            "                   warm_start=False)\n",
            "accuracy_score 0.7886178861788617\n"
          ],
          "name": "stdout"
        },
        {
          "output_type": "display_data",
          "data": {
            "image/png": "[encoded data removed]",
            "text/plain": [
              "<Figure size 864x576 with 1 Axes>"
            ]
          },
          "metadata": {
            "tags": [],
            "needs_background": "light"
          }
        },
        {
          "output_type": "stream",
          "text": [
            "\n",
            "5 of kfold 5\n",
            "Model - \n",
            " LogisticRegression(C=1.0, class_weight=None, dual=False, fit_intercept=True,\n",
            "                   intercept_scaling=1, l1_ratio=None, max_iter=100,\n",
            "                   multi_class='auto', n_jobs=None, penalty='l2',\n",
            "                   random_state=1, solver='lbfgs', tol=0.0001, verbose=0,\n",
            "                   warm_start=False)\n",
            "accuracy_score 0.7950819672131147\n"
          ],
          "name": "stdout"
        },
        {
          "output_type": "stream",
          "text": [
            "/usr/local/lib/python3.6/dist-packages/sklearn/linear_model/_logistic.py:940: ConvergenceWarning: lbfgs failed to converge (status=1):\n",
            "STOP: TOTAL NO. of ITERATIONS REACHED LIMIT.\n",
            "\n",
            "Increase the number of iterations (max_iter) or scale the data as shown in:\n",
            "    https://scikit-learn.org/stable/modules/preprocessing.html\n",
            "Please also refer to the documentation for alternative solver options:\n",
            "    https://scikit-learn.org/stable/modules/linear_model.html#logistic-regression\n",
            "  extra_warning_msg=_LOGISTIC_SOLVER_CONVERGENCE_MSG)\n"
          ],
          "name": "stderr"
        },
        {
          "output_type": "display_data",
          "data": {
            "image/png": "[encoded data removed]",
            "text/plain": [
              "<Figure size 864x576 with 1 Axes>"
            ]
          },
          "metadata": {
            "tags": [],
            "needs_background": "light"
          }
        }
      ]
    },
    {
      "cell_type": "code",
      "metadata": {
        "id": "RFXvyfZXRJh1",
        "colab_type": "code",
        "colab": {
          "base_uri": "https://localhost:8080/",
          "height": 406
        },
        "outputId": "6df8577d-1568-48a2-ea1e-d085e21b04c6"
      },
      "source": [
        "submission=pd.DataFrame()\n",
        "submission['Loan_ID']=test_original['Loan_ID']\n",
        "submission['Loan_Status']=pred_test \n",
        "submission['Loan_Status'].replace(0, 'N',inplace=True) \n",
        "submission['Loan_Status'].replace(1, 'Y',inplace=True)\n",
        "submission"
      ],
      "execution_count": 95,
      "outputs": [
        {
          "output_type": "execute_result",
          "data": {
            "text/html": [
              "<div>\n",
              "<style scoped>\n",
              "    .dataframe tbody tr th:only-of-type {\n",
              "        vertical-align: middle;\n",
              "    }\n",
              "\n",
              "    .dataframe tbody tr th {\n",
              "        vertical-align: top;\n",
              "    }\n",
              "\n",
              "    .dataframe thead th {\n",
              "        text-align: right;\n",
              "    }\n",
              "</style>\n",
              "<table border=\"1\" class=\"dataframe\">\n",
              "  <thead>\n",
              "    <tr style=\"text-align: right;\">\n",
              "      <th></th>\n",
              "      <th>Loan_ID</th>\n",
              "      <th>Loan_Status</th>\n",
              "    </tr>\n",
              "  </thead>\n",
              "  <tbody>\n",
              "    <tr>\n",
              "      <th>0</th>\n",
              "      <td>LP001015</td>\n",
              "      <td>Y</td>\n",
              "    </tr>\n",
              "    <tr>\n",
              "      <th>1</th>\n",
              "      <td>LP001022</td>\n",
              "      <td>Y</td>\n",
              "    </tr>\n",
              "    <tr>\n",
              "      <th>2</th>\n",
              "      <td>LP001031</td>\n",
              "      <td>Y</td>\n",
              "    </tr>\n",
              "    <tr>\n",
              "      <th>3</th>\n",
              "      <td>LP001035</td>\n",
              "      <td>Y</td>\n",
              "    </tr>\n",
              "    <tr>\n",
              "      <th>4</th>\n",
              "      <td>LP001051</td>\n",
              "      <td>Y</td>\n",
              "    </tr>\n",
              "    <tr>\n",
              "      <th>...</th>\n",
              "      <td>...</td>\n",
              "      <td>...</td>\n",
              "    </tr>\n",
              "    <tr>\n",
              "      <th>362</th>\n",
              "      <td>LP002971</td>\n",
              "      <td>Y</td>\n",
              "    </tr>\n",
              "    <tr>\n",
              "      <th>363</th>\n",
              "      <td>LP002975</td>\n",
              "      <td>Y</td>\n",
              "    </tr>\n",
              "    <tr>\n",
              "      <th>364</th>\n",
              "      <td>LP002980</td>\n",
              "      <td>Y</td>\n",
              "    </tr>\n",
              "    <tr>\n",
              "      <th>365</th>\n",
              "      <td>LP002986</td>\n",
              "      <td>Y</td>\n",
              "    </tr>\n",
              "    <tr>\n",
              "      <th>366</th>\n",
              "      <td>LP002989</td>\n",
              "      <td>Y</td>\n",
              "    </tr>\n",
              "  </tbody>\n",
              "</table>\n",
              "<p>367 rows × 2 columns</p>\n",
              "</div>"
            ],
            "text/plain": [
              "      Loan_ID Loan_Status\n",
              "0    LP001015           Y\n",
              "1    LP001022           Y\n",
              "2    LP001031           Y\n",
              "3    LP001035           Y\n",
              "4    LP001051           Y\n",
              "..        ...         ...\n",
              "362  LP002971           Y\n",
              "363  LP002975           Y\n",
              "364  LP002980           Y\n",
              "365  LP002986           Y\n",
              "366  LP002989           Y\n",
              "\n",
              "[367 rows x 2 columns]"
            ]
          },
          "metadata": {
            "tags": []
          },
          "execution_count": 95
        }
      ]
    },
    {
      "cell_type": "code",
      "metadata": {
        "id": "nv2bBGeXczzU",
        "colab_type": "code",
        "colab": {}
      },
      "source": [
        "pd.DataFrame(submission, columns=['Loan_ID','Loan_Status']).to_csv('logistic_strat.csv')"
      ],
      "execution_count": 0,
      "outputs": []
    },
    {
      "cell_type": "markdown",
      "metadata": {
        "id": "kB5LjALxdRH_",
        "colab_type": "text"
      },
      "source": [
        "**Feature Engineering**"
      ]
    },
    {
      "cell_type": "code",
      "metadata": {
        "id": "EHpaDtdUdUiO",
        "colab_type": "code",
        "colab": {}
      },
      "source": [
        "train['Total_Income']=train['ApplicantIncome']+train['CoapplicantIncome'] \n",
        "test['Total_Income']=test['ApplicantIncome']+test['CoapplicantIncome']"
      ],
      "execution_count": 0,
      "outputs": []
    },
    {
      "cell_type": "code",
      "metadata": {
        "id": "JdoTQFqGdaSJ",
        "colab_type": "code",
        "colab": {
          "base_uri": "https://localhost:8080/",
          "height": 280
        },
        "outputId": "8980249b-521e-400b-da10-3098862a3e74"
      },
      "source": [
        "sns.distplot(train['Total_Income']);"
      ],
      "execution_count": 98,
      "outputs": [
        {
          "output_type": "display_data",
          "data": {
            "image/png": "[encoded data removed]",
            "text/plain": [
              "<Figure size 432x288 with 1 Axes>"
            ]
          },
          "metadata": {
            "tags": [],
            "needs_background": "light"
          }
        }
      ]
    },
    {
      "cell_type": "code",
      "metadata": {
        "id": "6VlOtKjodfgG",
        "colab_type": "code",
        "colab": {
          "base_uri": "https://localhost:8080/",
          "height": 280
        },
        "outputId": "2d9a0b1e-9497-4fa1-f583-afa2a9739e29"
      },
      "source": [
        "train['Total_Income_log'] = np.log(train['Total_Income']) \n",
        "sns.distplot(train['Total_Income_log']); "
      ],
      "execution_count": 99,
      "outputs": [
        {
          "output_type": "display_data",
          "data": {
            "image/png": "[encoded data removed]",
            "text/plain": [
              "<Figure size 432x288 with 1 Axes>"
            ]
          },
          "metadata": {
            "tags": [],
            "needs_background": "light"
          }
        }
      ]
    },
    {
      "cell_type": "code",
      "metadata": {
        "id": "jW9a1sCKdjbW",
        "colab_type": "code",
        "colab": {}
      },
      "source": [
        "test['Total_Income_log'] = np.log(test['Total_Income'])"
      ],
      "execution_count": 0,
      "outputs": []
    },
    {
      "cell_type": "code",
      "metadata": {
        "id": "BTpahGPxdmai",
        "colab_type": "code",
        "colab": {}
      },
      "source": [
        "train['EMI']=train['LoanAmount']/train['Loan_Amount_Term'] \n",
        "test['EMI']=test['LoanAmount']/test['Loan_Amount_Term']"
      ],
      "execution_count": 0,
      "outputs": []
    },
    {
      "cell_type": "code",
      "metadata": {
        "id": "Wp3Au47HdqSp",
        "colab_type": "code",
        "colab": {
          "base_uri": "https://localhost:8080/",
          "height": 278
        },
        "outputId": "3aed9f2e-9d18-42d5-9e73-f33456beec8b"
      },
      "source": [
        "sns.distplot(train['EMI']);"
      ],
      "execution_count": 102,
      "outputs": [
        {
          "output_type": "display_data",
          "data": {
            "image/png": "[encoded data removed]",
            "text/plain": [
              "<Figure size 432x288 with 1 Axes>"
            ]
          },
          "metadata": {
            "tags": [],
            "needs_background": "light"
          }
        }
      ]
    },
    {
      "cell_type": "code",
      "metadata": {
        "id": "wu6eBEoed1jP",
        "colab_type": "code",
        "colab": {
          "base_uri": "https://localhost:8080/",
          "height": 278
        },
        "outputId": "edbb02b6-3fb1-4f4d-a197-b1703c598450"
      },
      "source": [
        "train['Balance Income']=train['Total_Income']-(train['EMI']*1000) # Multiply with 1000 to make the units equal\n",
        "test['Balance Income']=test['Total_Income']-(test['EMI']*1000)\n",
        "\n",
        "sns.distplot(train['Balance Income']);"
      ],
      "execution_count": 103,
      "outputs": [
        {
          "output_type": "display_data",
          "data": {
            "image/png": "[encoded data removed]",
            "text/plain": [
              "<Figure size 432x288 with 1 Axes>"
            ]
          },
          "metadata": {
            "tags": [],
            "needs_background": "light"
          }
        }
      ]
    },
    {
      "cell_type": "code",
      "metadata": {
        "id": "yZIjm0end8SH",
        "colab_type": "code",
        "colab": {}
      },
      "source": [
        "train=train.drop(['ApplicantIncome', 'CoapplicantIncome', 'LoanAmount', 'Loan_Amount_Term'], axis=1) \n",
        "test=test.drop(['ApplicantIncome', 'CoapplicantIncome', 'LoanAmount', 'Loan_Amount_Term'], axis=1)"
      ],
      "execution_count": 0,
      "outputs": []
    },
    {
      "cell_type": "code",
      "metadata": {
        "id": "JBQ_Ux4DeFt4",
        "colab_type": "code",
        "colab": {
          "base_uri": "https://localhost:8080/",
          "height": 141
        },
        "outputId": "1a252d25-2af1-4d59-d773-8856f1c36b4b"
      },
      "source": [
        "train.columns"
      ],
      "execution_count": 105,
      "outputs": [
        {
          "output_type": "execute_result",
          "data": {
            "text/plain": [
              "Index(['Credit_History', 'Loan_Status', 'LoanAmount_log', 'Gender_Female',\n",
              "       'Gender_Male', 'Married_No', 'Married_Yes', 'Dependents_3',\n",
              "       'Dependents_0', 'Dependents_1', 'Dependents_2', 'Education_Graduate',\n",
              "       'Education_Not Graduate', 'Self_Employed_No', 'Self_Employed_Yes',\n",
              "       'Property_Area_Rural', 'Property_Area_Semiurban', 'Property_Area_Urban',\n",
              "       'Total_Income', 'Total_Income_log', 'EMI', 'Balance Income'],\n",
              "      dtype='object')"
            ]
          },
          "metadata": {
            "tags": []
          },
          "execution_count": 105
        }
      ]
    },
    {
      "cell_type": "code",
      "metadata": {
        "id": "B33LZz-veKWW",
        "colab_type": "code",
        "colab": {
          "base_uri": "https://localhost:8080/",
          "height": 141
        },
        "outputId": "1a2ff021-e7f9-41fb-e9c4-8bdbcc06d80b"
      },
      "source": [
        "test.columns"
      ],
      "execution_count": 106,
      "outputs": [
        {
          "output_type": "execute_result",
          "data": {
            "text/plain": [
              "Index(['Credit_History', 'LoanAmount_log', 'Gender_Female', 'Gender_Male',\n",
              "       'Married_No', 'Married_Yes', 'Dependents_3', 'Dependents_0',\n",
              "       'Dependents_1', 'Dependents_2', 'Education_Graduate',\n",
              "       'Education_Not Graduate', 'Self_Employed_No', 'Self_Employed_Yes',\n",
              "       'Property_Area_Rural', 'Property_Area_Semiurban', 'Property_Area_Urban',\n",
              "       'Total_Income', 'Total_Income_log', 'EMI', 'Balance Income'],\n",
              "      dtype='object')"
            ]
          },
          "metadata": {
            "tags": []
          },
          "execution_count": 106
        }
      ]
    },
    {
      "cell_type": "code",
      "metadata": {
        "id": "GSIs_-2peZP9",
        "colab_type": "code",
        "colab": {}
      },
      "source": [
        "X = train.drop('Loan_Status',1)\n",
        "y = train.Loan_Status"
      ],
      "execution_count": 0,
      "outputs": []
    },
    {
      "cell_type": "code",
      "metadata": {
        "id": "pC1sREx9iR3y",
        "colab_type": "code",
        "colab": {
          "base_uri": "https://localhost:8080/",
          "height": 34
        },
        "outputId": "df846c8b-94da-49fd-b822-fa5fa21d5c3a"
      },
      "source": [
        "train.shape"
      ],
      "execution_count": 110,
      "outputs": [
        {
          "output_type": "execute_result",
          "data": {
            "text/plain": [
              "(614, 22)"
            ]
          },
          "metadata": {
            "tags": []
          },
          "execution_count": 110
        }
      ]
    },
    {
      "cell_type": "code",
      "metadata": {
        "id": "cYBboqUwiUjq",
        "colab_type": "code",
        "colab": {
          "base_uri": "https://localhost:8080/",
          "height": 34
        },
        "outputId": "3db6164a-dab9-4e9b-c209-7c32bf450845"
      },
      "source": [
        "test.shape"
      ],
      "execution_count": 111,
      "outputs": [
        {
          "output_type": "execute_result",
          "data": {
            "text/plain": [
              "(367, 21)"
            ]
          },
          "metadata": {
            "tags": []
          },
          "execution_count": 111
        }
      ]
    },
    {
      "cell_type": "code",
      "metadata": {
        "id": "PtYACbUnhsjp",
        "colab_type": "code",
        "colab": {
          "base_uri": "https://localhost:8080/",
          "height": 425
        },
        "outputId": "0a3ce999-429a-466b-80c4-82f39900e522"
      },
      "source": [
        "#Logistic Regression\n",
        "\n",
        "i=1 \n",
        "kf = StratifiedKFold(n_splits=5,random_state=1,shuffle=True) \n",
        "for train_index,test_index in kf.split(X,y):\n",
        "  print('\\n{} of kfold {}'.format(i,kf.n_splits))   \n",
        "  xtr,xvl = X.loc[train_index],X.loc[test_index] \n",
        "  ytr,yvl = y[train_index],y[test_index] \n",
        "\n",
        "  model = LogisticRegression(random_state=1)\n",
        "  model.fit(xtr, ytr)\n",
        "  pred_test = model.predict(xvl) \n",
        "  score = accuracy_score(yvl,pred_test)\n",
        "  print('accuracy_score',score) \n",
        "  i=i+1\n",
        "  pred_test = model.predict(test) \n",
        "  pred=model.predict_proba(xvl)[:,1]"
      ],
      "execution_count": 113,
      "outputs": [
        {
          "output_type": "stream",
          "text": [
            "\n",
            "1 of kfold 5\n",
            "accuracy_score 0.7886178861788617\n",
            "\n",
            "2 of kfold 5\n",
            "accuracy_score 0.6910569105691057\n",
            "\n",
            "3 of kfold 5\n",
            "accuracy_score 0.6666666666666666\n",
            "\n",
            "4 of kfold 5\n",
            "accuracy_score 0.7967479674796748\n",
            "\n",
            "5 of kfold 5\n",
            "accuracy_score 0.680327868852459\n"
          ],
          "name": "stdout"
        },
        {
          "output_type": "stream",
          "text": [
            "/usr/local/lib/python3.6/dist-packages/sklearn/linear_model/_logistic.py:940: ConvergenceWarning: lbfgs failed to converge (status=1):\n",
            "STOP: TOTAL NO. of ITERATIONS REACHED LIMIT.\n",
            "\n",
            "Increase the number of iterations (max_iter) or scale the data as shown in:\n",
            "    https://scikit-learn.org/stable/modules/preprocessing.html\n",
            "Please also refer to the documentation for alternative solver options:\n",
            "    https://scikit-learn.org/stable/modules/linear_model.html#logistic-regression\n",
            "  extra_warning_msg=_LOGISTIC_SOLVER_CONVERGENCE_MSG)\n"
          ],
          "name": "stderr"
        }
      ]
    },
    {
      "cell_type": "code",
      "metadata": {
        "id": "LnPxfegfihTv",
        "colab_type": "code",
        "colab": {
          "base_uri": "https://localhost:8080/",
          "height": 283
        },
        "outputId": "4c837b75-071d-4c44-ca71-8c8a6704c7b3"
      },
      "source": [
        "#Decision Tree\n",
        "from sklearn import tree\n",
        "\n",
        "i=1 \n",
        "kf = StratifiedKFold(n_splits=5,random_state=1,shuffle=True) \n",
        "for train_index,test_index in kf.split(X,y):\n",
        "  print('\\n{} of kfold {}'.format(i,kf.n_splits))   \n",
        "  xtr,xvl = X.loc[train_index],X.loc[test_index] \n",
        "  ytr,yvl = y[train_index],y[test_index] \n",
        "\n",
        "  model = tree.DecisionTreeClassifier(random_state=1)\n",
        "  model.fit(xtr, ytr)\n",
        "  pred_test = model.predict(xvl) \n",
        "  score = accuracy_score(yvl,pred_test)\n",
        "  print('accuracy_score',score) \n",
        "  i=i+1\n",
        "  pred_test = model.predict(test) \n",
        "  pred=model.predict_proba(xvl)[:,1]"
      ],
      "execution_count": 114,
      "outputs": [
        {
          "output_type": "stream",
          "text": [
            "\n",
            "1 of kfold 5\n",
            "accuracy_score 0.7398373983739838\n",
            "\n",
            "2 of kfold 5\n",
            "accuracy_score 0.6991869918699187\n",
            "\n",
            "3 of kfold 5\n",
            "accuracy_score 0.7560975609756098\n",
            "\n",
            "4 of kfold 5\n",
            "accuracy_score 0.7073170731707317\n",
            "\n",
            "5 of kfold 5\n",
            "accuracy_score 0.6721311475409836\n"
          ],
          "name": "stdout"
        }
      ]
    },
    {
      "cell_type": "code",
      "metadata": {
        "id": "_-hEBstAi06Z",
        "colab_type": "code",
        "colab": {
          "base_uri": "https://localhost:8080/",
          "height": 283
        },
        "outputId": "ab789403-5e3c-4083-8f79-6d1bccdd8055"
      },
      "source": [
        "#Random Forest\n",
        "from sklearn.ensemble import RandomForestClassifier\n",
        "\n",
        "i=1 \n",
        "kf = StratifiedKFold(n_splits=5,random_state=1,shuffle=True) \n",
        "for train_index,test_index in kf.split(X,y):\n",
        "  print('\\n{} of kfold {}'.format(i,kf.n_splits))   \n",
        "  xtr,xvl = X.loc[train_index],X.loc[test_index] \n",
        "  ytr,yvl = y[train_index],y[test_index] \n",
        "\n",
        "  model = RandomForestClassifier(random_state=1, max_depth=10)\n",
        "  model.fit(xtr, ytr)\n",
        "  pred_test = model.predict(xvl) \n",
        "  score = accuracy_score(yvl,pred_test)\n",
        "  print('accuracy_score',score) \n",
        "  i=i+1\n",
        "  pred_test = model.predict(test) \n",
        "  pred=model.predict_proba(xvl)[:,1]"
      ],
      "execution_count": 115,
      "outputs": [
        {
          "output_type": "stream",
          "text": [
            "\n",
            "1 of kfold 5\n",
            "accuracy_score 0.8292682926829268\n",
            "\n",
            "2 of kfold 5\n",
            "accuracy_score 0.8130081300813008\n",
            "\n",
            "3 of kfold 5\n",
            "accuracy_score 0.7723577235772358\n",
            "\n",
            "4 of kfold 5\n",
            "accuracy_score 0.8048780487804879\n",
            "\n",
            "5 of kfold 5\n",
            "accuracy_score 0.7540983606557377\n"
          ],
          "name": "stdout"
        }
      ]
    },
    {
      "cell_type": "code",
      "metadata": {
        "id": "FnzZB7_5jA9m",
        "colab_type": "code",
        "colab": {
          "base_uri": "https://localhost:8080/",
          "height": 390
        },
        "outputId": "82a4eafb-64d6-4bd6-d87c-e6324b87b10e"
      },
      "source": [
        "from sklearn.model_selection import GridSearchCV\n",
        "\n",
        "paramgrid = {'max_depth': list(range(1, 20, 2)), 'n_estimators': list(range(1, 200, 20))}\n",
        "\n",
        "grid_search=GridSearchCV(RandomForestClassifier(random_state=1),paramgrid)\n",
        "x_train, x_cv, y_train, y_cv = train_test_split(X,y, test_size =0.3, random_state=1)\n",
        "\n",
        "grid_search.fit(x_train,y_train)"
      ],
      "execution_count": 116,
      "outputs": [
        {
          "output_type": "execute_result",
          "data": {
            "text/plain": [
              "GridSearchCV(cv=None, error_score=nan,\n",
              "             estimator=RandomForestClassifier(bootstrap=True, ccp_alpha=0.0,\n",
              "                                              class_weight=None,\n",
              "                                              criterion='gini', max_depth=None,\n",
              "                                              max_features='auto',\n",
              "                                              max_leaf_nodes=None,\n",
              "                                              max_samples=None,\n",
              "                                              min_impurity_decrease=0.0,\n",
              "                                              min_impurity_split=None,\n",
              "                                              min_samples_leaf=1,\n",
              "                                              min_samples_split=2,\n",
              "                                              min_weight_fraction_leaf=0.0,\n",
              "                                              n_estimators=100, n_jobs=None,\n",
              "                                              oob_score=False, random_state=1,\n",
              "                                              verbose=0, warm_start=False),\n",
              "             iid='deprecated', n_jobs=None,\n",
              "             param_grid={'max_depth': [1, 3, 5, 7, 9, 11, 13, 15, 17, 19],\n",
              "                         'n_estimators': [1, 21, 41, 61, 81, 101, 121, 141, 161,\n",
              "                                          181]},\n",
              "             pre_dispatch='2*n_jobs', refit=True, return_train_score=False,\n",
              "             scoring=None, verbose=0)"
            ]
          },
          "metadata": {
            "tags": []
          },
          "execution_count": 116
        }
      ]
    },
    {
      "cell_type": "code",
      "metadata": {
        "id": "SHVRyKjvjXZE",
        "colab_type": "code",
        "colab": {
          "base_uri": "https://localhost:8080/",
          "height": 158
        },
        "outputId": "3f976230-adc3-43cc-bc28-c3f8f6b27b7e"
      },
      "source": [
        "grid_search.best_estimator_"
      ],
      "execution_count": 117,
      "outputs": [
        {
          "output_type": "execute_result",
          "data": {
            "text/plain": [
              "RandomForestClassifier(bootstrap=True, ccp_alpha=0.0, class_weight=None,\n",
              "                       criterion='gini', max_depth=5, max_features='auto',\n",
              "                       max_leaf_nodes=None, max_samples=None,\n",
              "                       min_impurity_decrease=0.0, min_impurity_split=None,\n",
              "                       min_samples_leaf=1, min_samples_split=2,\n",
              "                       min_weight_fraction_leaf=0.0, n_estimators=41,\n",
              "                       n_jobs=None, oob_score=False, random_state=1, verbose=0,\n",
              "                       warm_start=False)"
            ]
          },
          "metadata": {
            "tags": []
          },
          "execution_count": 117
        }
      ]
    },
    {
      "cell_type": "code",
      "metadata": {
        "id": "MGcMPlVTj078",
        "colab_type": "code",
        "colab": {
          "base_uri": "https://localhost:8080/",
          "height": 283
        },
        "outputId": "89c83f6e-2f9f-4c9f-d7cc-4c6759460fdb"
      },
      "source": [
        "#Random Forest\n",
        "from sklearn.ensemble import RandomForestClassifier\n",
        "\n",
        "i=1 \n",
        "kf = StratifiedKFold(n_splits=5,random_state=1,shuffle=True) \n",
        "for train_index,test_index in kf.split(X,y):\n",
        "  print('\\n{} of kfold {}'.format(i,kf.n_splits))   \n",
        "  xtr,xvl = X.loc[train_index],X.loc[test_index] \n",
        "  ytr,yvl = y[train_index],y[test_index] \n",
        "\n",
        "  model = RandomForestClassifier(bootstrap=True, ccp_alpha=0.0, class_weight=None,\n",
        "                       criterion='gini', max_depth=5, max_features='auto',\n",
        "                       max_leaf_nodes=None, max_samples=None,\n",
        "                       min_impurity_decrease=0.0, min_impurity_split=None,\n",
        "                       min_samples_leaf=1, min_samples_split=2,\n",
        "                       min_weight_fraction_leaf=0.0, n_estimators=41,\n",
        "                       n_jobs=None, oob_score=False, random_state=1, verbose=0,\n",
        "                       warm_start=False)\n",
        "  model.fit(xtr, ytr)\n",
        "  pred_test = model.predict(xvl) \n",
        "  score = accuracy_score(yvl,pred_test)\n",
        "  print('accuracy_score',score) \n",
        "  i=i+1\n",
        "  pred_test = model.predict(test) \n",
        "  pred=model.predict_proba(xvl)[:,1]"
      ],
      "execution_count": 118,
      "outputs": [
        {
          "output_type": "stream",
          "text": [
            "\n",
            "1 of kfold 5\n",
            "accuracy_score 0.8211382113821138\n",
            "\n",
            "2 of kfold 5\n",
            "accuracy_score 0.8373983739837398\n",
            "\n",
            "3 of kfold 5\n",
            "accuracy_score 0.7804878048780488\n",
            "\n",
            "4 of kfold 5\n",
            "accuracy_score 0.7804878048780488\n",
            "\n",
            "5 of kfold 5\n",
            "accuracy_score 0.7868852459016393\n"
          ],
          "name": "stdout"
        }
      ]
    },
    {
      "cell_type": "code",
      "metadata": {
        "id": "KxUruV5ykBVd",
        "colab_type": "code",
        "colab": {
          "base_uri": "https://localhost:8080/",
          "height": 407
        },
        "outputId": "9c5664e5-b4aa-4ff5-c319-968631904d08"
      },
      "source": [
        "importances=pd.Series(model.feature_importances_, index=X.columns) \n",
        "importances"
      ],
      "execution_count": 121,
      "outputs": [
        {
          "output_type": "execute_result",
          "data": {
            "text/plain": [
              "Credit_History             0.394134\n",
              "LoanAmount_log             0.064901\n",
              "Gender_Female              0.003064\n",
              "Gender_Male                0.007016\n",
              "Married_No                 0.013283\n",
              "Married_Yes                0.017181\n",
              "Dependents_3               0.006613\n",
              "Dependents_0               0.008688\n",
              "Dependents_1               0.007043\n",
              "Dependents_2               0.010407\n",
              "Education_Graduate         0.005080\n",
              "Education_Not Graduate     0.016020\n",
              "Self_Employed_No           0.006635\n",
              "Self_Employed_Yes          0.007162\n",
              "Property_Area_Rural        0.028533\n",
              "Property_Area_Semiurban    0.029685\n",
              "Property_Area_Urban        0.006872\n",
              "Total_Income               0.092717\n",
              "Total_Income_log           0.071178\n",
              "EMI                        0.078217\n",
              "Balance Income             0.125571\n",
              "dtype: float64"
            ]
          },
          "metadata": {
            "tags": []
          },
          "execution_count": 121
        }
      ]
    },
    {
      "cell_type": "code",
      "metadata": {
        "id": "sYbmh4wQkJis",
        "colab_type": "code",
        "colab": {
          "base_uri": "https://localhost:8080/",
          "height": 501
        },
        "outputId": "ff3c9713-af1a-4d85-f417-3a96748ef6a3"
      },
      "source": [
        "importances.plot(kind='barh', figsize=(12,8))"
      ],
      "execution_count": 122,
      "outputs": [
        {
          "output_type": "execute_result",
          "data": {
            "text/plain": [
              "<matplotlib.axes._subplots.AxesSubplot at 0x7f93a54d4748>"
            ]
          },
          "metadata": {
            "tags": []
          },
          "execution_count": 122
        },
        {
          "output_type": "display_data",
          "data": {
            "image/png": "[encoded data removed]",
            "text/plain": [
              "<Figure size 864x576 with 1 Axes>"
            ]
          },
          "metadata": {
            "tags": [],
            "needs_background": "light"
          }
        }
      ]
    },
    {
      "cell_type": "markdown",
      "metadata": {
        "id": "wM8YLl5ukYRp",
        "colab_type": "text"
      },
      "source": [
        "**XGBoost** works only with numeric variables and we have already replaced the categorical variables with numeric variables. \n",
        "\n",
        "Let’s have a look at the parameters that we are going to use in our model.\n",
        "\n",
        "- n_estimator: This specifies the number of trees for the model.\n",
        "- max_depth: We can specify maximum depth of a tree using this parameter."
      ]
    },
    {
      "cell_type": "code",
      "metadata": {
        "id": "WiWQHWK5kRRW",
        "colab_type": "code",
        "colab": {
          "base_uri": "https://localhost:8080/",
          "height": 283
        },
        "outputId": "451d3434-2991-4e22-f106-685ca8a8635e"
      },
      "source": [
        "from xgboost import XGBClassifier\n",
        "\n",
        "i=1 \n",
        "kf = StratifiedKFold(n_splits=5,random_state=1,shuffle=True) \n",
        "for train_index,test_index in kf.split(X,y):\n",
        "  print('\\n{} of kfold {}'.format(i,kf.n_splits))   \n",
        "  xtr,xvl = X.loc[train_index],X.loc[test_index] \n",
        "  ytr,yvl = y[train_index],y[test_index] \n",
        "\n",
        "  model = XGBClassifier(n_estimators=50, max_depth=4)\n",
        "  model.fit(xtr, ytr)\n",
        "  pred_test = model.predict(xvl) \n",
        "  score = accuracy_score(yvl,pred_test)\n",
        "  print('accuracy_score',score) \n",
        "  i=i+1\n",
        "  pred_test = model.predict(test) \n",
        "  pred=model.predict_proba(xvl)[:,1]"
      ],
      "execution_count": 123,
      "outputs": [
        {
          "output_type": "stream",
          "text": [
            "\n",
            "1 of kfold 5\n",
            "accuracy_score 0.7886178861788617\n",
            "\n",
            "2 of kfold 5\n",
            "accuracy_score 0.8292682926829268\n",
            "\n",
            "3 of kfold 5\n",
            "accuracy_score 0.7804878048780488\n",
            "\n",
            "4 of kfold 5\n",
            "accuracy_score 0.8048780487804879\n",
            "\n",
            "5 of kfold 5\n",
            "accuracy_score 0.7786885245901639\n"
          ],
          "name": "stdout"
        }
      ]
    }
  ]
}