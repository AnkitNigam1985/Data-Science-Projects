{
  "nbformat": 4,
  "nbformat_minor": 0,
  "metadata": {
    "colab": {
      "name": "Statistics Tutorial_practice.ipynb",
      "provenance": [],
      "collapsed_sections": [
        "9-9fLQWwEDkx",
        "2q2-AgZtEDk5",
        "9DY6AVXjEDmB",
        "aM-do7j0EDm1",
        "J5tlbF4tEDm2",
        "6P_MYkHhEDm3",
        "4bTJirnDEDm6"
      ]
    },
    "kernelspec": {
      "display_name": "Python 3",
      "language": "python",
      "name": "python3"
    }
  },
  "cells": [
    {
      "cell_type": "markdown",
      "metadata": {
        "id": "aXcNGwohEDjC",
        "colab_type": "text"
      },
      "source": [
        "![sslogo](https://github.com/stratascratch/stratascratch.github.io/raw/master/assets/sslogo.jpg)"
      ]
    },
    {
      "cell_type": "markdown",
      "metadata": {
        "id": "iae3NFC3EDjE",
        "colab_type": "text"
      },
      "source": [
        "# Statistics\n",
        "\n",
        "- http://www.statsmodels.org/stable/index.html\n",
        "- https://docs.scipy.org/doc/scipy/reference/stats.html"
      ]
    },
    {
      "cell_type": "markdown",
      "metadata": {
        "id": "3decLWe2EDjG",
        "colab_type": "text"
      },
      "source": [
        "## Import the needed modules"
      ]
    },
    {
      "cell_type": "markdown",
      "metadata": {
        "id": "1324m3ltEDjG",
        "colab_type": "text"
      },
      "source": [
        "If you want to run this notebook offline you will probably need to install `statsmodels`.\n",
        "\n",
        "The python distribution we recommend is [Anaconda](https://www.anaconda.com/download/#linux)."
      ]
    },
    {
      "cell_type": "code",
      "metadata": {
        "id": "XzIvQsYCEDjI",
        "colab_type": "code",
        "colab": {
          "base_uri": "https://localhost:8080/",
          "height": 156
        },
        "outputId": "c15eed1d-b130-4909-98ba-557c3bce48cc"
      },
      "source": [
        "pip install statsmodels"
      ],
      "execution_count": 3,
      "outputs": [
        {
          "output_type": "stream",
          "text": [
            "Requirement already satisfied: statsmodels in /usr/local/lib/python3.6/dist-packages (0.10.2)\n",
            "Requirement already satisfied: numpy>=1.11 in /usr/local/lib/python3.6/dist-packages (from statsmodels) (1.17.4)\n",
            "Requirement already satisfied: pandas>=0.19 in /usr/local/lib/python3.6/dist-packages (from statsmodels) (0.25.3)\n",
            "Requirement already satisfied: scipy>=0.18 in /usr/local/lib/python3.6/dist-packages (from statsmodels) (1.3.3)\n",
            "Requirement already satisfied: patsy>=0.4.0 in /usr/local/lib/python3.6/dist-packages (from statsmodels) (0.5.1)\n",
            "Requirement already satisfied: pytz>=2017.2 in /usr/local/lib/python3.6/dist-packages (from pandas>=0.19->statsmodels) (2018.9)\n",
            "Requirement already satisfied: python-dateutil>=2.6.1 in /usr/local/lib/python3.6/dist-packages (from pandas>=0.19->statsmodels) (2.6.1)\n",
            "Requirement already satisfied: six in /usr/local/lib/python3.6/dist-packages (from patsy>=0.4.0->statsmodels) (1.12.0)\n"
          ],
          "name": "stdout"
        }
      ]
    },
    {
      "cell_type": "code",
      "metadata": {
        "id": "4Zt-FnzqEDjO",
        "colab_type": "code",
        "colab": {
          "base_uri": "https://localhost:8080/",
          "height": 72
        },
        "outputId": "75c16478-6512-40c4-c246-323dfad5e2eb"
      },
      "source": [
        "import pandas as pd\n",
        "import numpy  as np\n",
        "import psycopg2 as ps\n",
        "import matplotlib.pyplot as plt\n",
        "\n",
        "import scipy.stats as scp_stats\n",
        "\n",
        "import statsmodels.api as sm\n",
        "\n",
        "# ECDF = Empirical Cumulative Distribution Function\n",
        "from statsmodels.distributions import ECDF"
      ],
      "execution_count": 4,
      "outputs": [
        {
          "output_type": "stream",
          "text": [
            "/usr/local/lib/python3.6/dist-packages/psycopg2/__init__.py:144: UserWarning: The psycopg2 wheel package will be renamed from release 2.8; in order to keep installing from binary please use \"pip install psycopg2-binary\" instead. For details see: <http://initd.org/psycopg/docs/install.html#binary-install-from-pypi>.\n",
            "  \"\"\")\n"
          ],
          "name": "stderr"
        }
      ]
    },
    {
      "cell_type": "markdown",
      "metadata": {
        "id": "nZKE5A7-EDjS",
        "colab_type": "text"
      },
      "source": [
        "## Load the data"
      ]
    },
    {
      "cell_type": "code",
      "metadata": {
        "id": "CWmuDyj5EDjT",
        "colab_type": "code",
        "outputId": "20acbb34-e8f0-45a4-a943-d75e0c097d6d",
        "colab": {
          "base_uri": "https://localhost:8080/",
          "height": 34
        }
      },
      "source": [
        "# Connect to database\n",
        "host_name = 'db-strata.stratascratch.com'\n",
        "dbname = 'db_strata'\n",
        "port = '5432'\n",
        "# TODO Write your username and database password in the following two variables\n",
        "user_name = 'ankit082006' #enter username\n",
        "pwd = 'ofkMQPktC' #enter your database password found in the profile tab in Strata Scratch\n",
        "\n",
        "try:\n",
        "    conn = ps.connect(host=host_name,database=dbname,user=user_name,password=pwd,port=port)\n",
        "except ps.OperationalError as e:\n",
        "    raise e\n",
        "else:\n",
        "    print('Connected!')"
      ],
      "execution_count": 5,
      "outputs": [
        {
          "output_type": "stream",
          "text": [
            "Connected!\n"
          ],
          "name": "stdout"
        }
      ]
    },
    {
      "cell_type": "code",
      "metadata": {
        "id": "GYiDrzLiEDjb",
        "colab_type": "code",
        "colab": {}
      },
      "source": [
        "def get_dataset(dataset_name):\n",
        "    #Write SQL below to pull datasets \n",
        "    cur = conn.cursor()\n",
        "    cur.execute(\"\"\" \n",
        "                SELECT *  FROM {0}; \n",
        "                \"\"\".format(dataset_name))\n",
        "    data = cur.fetchall()\n",
        "    colnames = [desc[0] for desc in cur.description] \n",
        "    conn.commit()\n",
        "\n",
        "    #create the pandas dataframe\n",
        "    dataframe = pd.DataFrame(data, columns=colnames)\n",
        "\n",
        "    #close the connection\n",
        "    cur.close()\n",
        "    \n",
        "    return dataframe"
      ],
      "execution_count": 0,
      "outputs": []
    },
    {
      "cell_type": "code",
      "metadata": {
        "id": "q0x6l09kEDje",
        "colab_type": "code",
        "colab": {}
      },
      "source": [
        "sat_scores = get_dataset(\"sat_scores\")\n",
        "flight_revenue = get_dataset(\"flight_revenue\")\n",
        "forbes_global = get_dataset(\"forbes_global_2010_2014\")\n",
        "iris = get_dataset(\"iris\")"
      ],
      "execution_count": 0,
      "outputs": []
    },
    {
      "cell_type": "code",
      "metadata": {
        "id": "GZLIeZB-194q",
        "colab_type": "code",
        "colab": {
          "base_uri": "https://localhost:8080/",
          "height": 202
        },
        "outputId": "200b7cbf-8be1-4c33-ec7e-cb925f343718"
      },
      "source": [
        "sat_scores.head()"
      ],
      "execution_count": 9,
      "outputs": [
        {
          "output_type": "execute_result",
          "data": {
            "text/html": [
              "<div>\n",
              "<style scoped>\n",
              "    .dataframe tbody tr th:only-of-type {\n",
              "        vertical-align: middle;\n",
              "    }\n",
              "\n",
              "    .dataframe tbody tr th {\n",
              "        vertical-align: top;\n",
              "    }\n",
              "\n",
              "    .dataframe thead th {\n",
              "        text-align: right;\n",
              "    }\n",
              "</style>\n",
              "<table border=\"1\" class=\"dataframe\">\n",
              "  <thead>\n",
              "    <tr style=\"text-align: right;\">\n",
              "      <th></th>\n",
              "      <th>school</th>\n",
              "      <th>teacher</th>\n",
              "      <th>student_id</th>\n",
              "      <th>sat_writing</th>\n",
              "      <th>sat_verbal</th>\n",
              "      <th>sat_math</th>\n",
              "      <th>hrs_studied</th>\n",
              "      <th>id</th>\n",
              "    </tr>\n",
              "  </thead>\n",
              "  <tbody>\n",
              "    <tr>\n",
              "      <th>0</th>\n",
              "      <td>Washington HS</td>\n",
              "      <td>Frederickson</td>\n",
              "      <td>1.0</td>\n",
              "      <td>583.0</td>\n",
              "      <td>307.0</td>\n",
              "      <td>528.0</td>\n",
              "      <td>190.0</td>\n",
              "      <td>1</td>\n",
              "    </tr>\n",
              "    <tr>\n",
              "      <th>1</th>\n",
              "      <td>Washington HS</td>\n",
              "      <td>Frederickson</td>\n",
              "      <td>2.0</td>\n",
              "      <td>401.0</td>\n",
              "      <td>791.0</td>\n",
              "      <td>248.0</td>\n",
              "      <td>149.0</td>\n",
              "      <td>2</td>\n",
              "    </tr>\n",
              "    <tr>\n",
              "      <th>2</th>\n",
              "      <td>Washington HS</td>\n",
              "      <td>Frederickson</td>\n",
              "      <td>3.0</td>\n",
              "      <td>523.0</td>\n",
              "      <td>445.0</td>\n",
              "      <td>756.0</td>\n",
              "      <td>166.0</td>\n",
              "      <td>3</td>\n",
              "    </tr>\n",
              "    <tr>\n",
              "      <th>3</th>\n",
              "      <td>Washington HS</td>\n",
              "      <td>Frederickson</td>\n",
              "      <td>4.0</td>\n",
              "      <td>306.0</td>\n",
              "      <td>269.0</td>\n",
              "      <td>327.0</td>\n",
              "      <td>137.0</td>\n",
              "      <td>4</td>\n",
              "    </tr>\n",
              "    <tr>\n",
              "      <th>4</th>\n",
              "      <td>Washington HS</td>\n",
              "      <td>Frederickson</td>\n",
              "      <td>5.0</td>\n",
              "      <td>300.0</td>\n",
              "      <td>539.0</td>\n",
              "      <td>743.0</td>\n",
              "      <td>115.0</td>\n",
              "      <td>5</td>\n",
              "    </tr>\n",
              "  </tbody>\n",
              "</table>\n",
              "</div>"
            ],
            "text/plain": [
              "          school       teacher  student_id  ...  sat_math  hrs_studied  id\n",
              "0  Washington HS  Frederickson         1.0  ...     528.0        190.0   1\n",
              "1  Washington HS  Frederickson         2.0  ...     248.0        149.0   2\n",
              "2  Washington HS  Frederickson         3.0  ...     756.0        166.0   3\n",
              "3  Washington HS  Frederickson         4.0  ...     327.0        137.0   4\n",
              "4  Washington HS  Frederickson         5.0  ...     743.0        115.0   5\n",
              "\n",
              "[5 rows x 8 columns]"
            ]
          },
          "metadata": {
            "tags": []
          },
          "execution_count": 9
        }
      ]
    },
    {
      "cell_type": "code",
      "metadata": {
        "id": "xBysRe3P2BfM",
        "colab_type": "code",
        "colab": {
          "base_uri": "https://localhost:8080/",
          "height": 233
        },
        "outputId": "e47df734-a4e3-4e4c-be4a-0e8bb3943558"
      },
      "source": [
        "sat_scores.describe().T"
      ],
      "execution_count": 13,
      "outputs": [
        {
          "output_type": "execute_result",
          "data": {
            "text/html": [
              "<div>\n",
              "<style scoped>\n",
              "    .dataframe tbody tr th:only-of-type {\n",
              "        vertical-align: middle;\n",
              "    }\n",
              "\n",
              "    .dataframe tbody tr th {\n",
              "        vertical-align: top;\n",
              "    }\n",
              "\n",
              "    .dataframe thead th {\n",
              "        text-align: right;\n",
              "    }\n",
              "</style>\n",
              "<table border=\"1\" class=\"dataframe\">\n",
              "  <thead>\n",
              "    <tr style=\"text-align: right;\">\n",
              "      <th></th>\n",
              "      <th>count</th>\n",
              "      <th>mean</th>\n",
              "      <th>std</th>\n",
              "      <th>min</th>\n",
              "      <th>25%</th>\n",
              "      <th>50%</th>\n",
              "      <th>75%</th>\n",
              "      <th>max</th>\n",
              "    </tr>\n",
              "  </thead>\n",
              "  <tbody>\n",
              "    <tr>\n",
              "      <th>student_id</th>\n",
              "      <td>135.0</td>\n",
              "      <td>68.000000</td>\n",
              "      <td>39.115214</td>\n",
              "      <td>1.0</td>\n",
              "      <td>34.5</td>\n",
              "      <td>68.0</td>\n",
              "      <td>101.50</td>\n",
              "      <td>135.0</td>\n",
              "    </tr>\n",
              "    <tr>\n",
              "      <th>sat_writing</th>\n",
              "      <td>135.0</td>\n",
              "      <td>500.503704</td>\n",
              "      <td>162.220132</td>\n",
              "      <td>206.0</td>\n",
              "      <td>377.0</td>\n",
              "      <td>512.0</td>\n",
              "      <td>636.50</td>\n",
              "      <td>799.0</td>\n",
              "    </tr>\n",
              "    <tr>\n",
              "      <th>sat_verbal</th>\n",
              "      <td>135.0</td>\n",
              "      <td>495.725926</td>\n",
              "      <td>168.715535</td>\n",
              "      <td>200.0</td>\n",
              "      <td>361.0</td>\n",
              "      <td>488.0</td>\n",
              "      <td>641.50</td>\n",
              "      <td>799.0</td>\n",
              "    </tr>\n",
              "    <tr>\n",
              "      <th>sat_math</th>\n",
              "      <td>135.0</td>\n",
              "      <td>517.414815</td>\n",
              "      <td>180.212618</td>\n",
              "      <td>201.0</td>\n",
              "      <td>350.0</td>\n",
              "      <td>528.0</td>\n",
              "      <td>680.00</td>\n",
              "      <td>797.0</td>\n",
              "    </tr>\n",
              "    <tr>\n",
              "      <th>hrs_studied</th>\n",
              "      <td>128.0</td>\n",
              "      <td>100.546875</td>\n",
              "      <td>59.941554</td>\n",
              "      <td>0.0</td>\n",
              "      <td>51.0</td>\n",
              "      <td>95.5</td>\n",
              "      <td>156.25</td>\n",
              "      <td>200.0</td>\n",
              "    </tr>\n",
              "    <tr>\n",
              "      <th>id</th>\n",
              "      <td>135.0</td>\n",
              "      <td>68.000000</td>\n",
              "      <td>39.115214</td>\n",
              "      <td>1.0</td>\n",
              "      <td>34.5</td>\n",
              "      <td>68.0</td>\n",
              "      <td>101.50</td>\n",
              "      <td>135.0</td>\n",
              "    </tr>\n",
              "  </tbody>\n",
              "</table>\n",
              "</div>"
            ],
            "text/plain": [
              "             count        mean         std    min    25%    50%     75%    max\n",
              "student_id   135.0   68.000000   39.115214    1.0   34.5   68.0  101.50  135.0\n",
              "sat_writing  135.0  500.503704  162.220132  206.0  377.0  512.0  636.50  799.0\n",
              "sat_verbal   135.0  495.725926  168.715535  200.0  361.0  488.0  641.50  799.0\n",
              "sat_math     135.0  517.414815  180.212618  201.0  350.0  528.0  680.00  797.0\n",
              "hrs_studied  128.0  100.546875   59.941554    0.0   51.0   95.5  156.25  200.0\n",
              "id           135.0   68.000000   39.115214    1.0   34.5   68.0  101.50  135.0"
            ]
          },
          "metadata": {
            "tags": []
          },
          "execution_count": 13
        }
      ]
    },
    {
      "cell_type": "code",
      "metadata": {
        "id": "12fGStgI2Fbo",
        "colab_type": "code",
        "colab": {
          "base_uri": "https://localhost:8080/",
          "height": 202
        },
        "outputId": "d6b469bf-1d52-47f9-82f6-2acf4cdfed43"
      },
      "source": [
        "flight_revenue.head()"
      ],
      "execution_count": 11,
      "outputs": [
        {
          "output_type": "execute_result",
          "data": {
            "text/html": [
              "<div>\n",
              "<style scoped>\n",
              "    .dataframe tbody tr th:only-of-type {\n",
              "        vertical-align: middle;\n",
              "    }\n",
              "\n",
              "    .dataframe tbody tr th {\n",
              "        vertical-align: top;\n",
              "    }\n",
              "\n",
              "    .dataframe thead th {\n",
              "        text-align: right;\n",
              "    }\n",
              "</style>\n",
              "<table border=\"1\" class=\"dataframe\">\n",
              "  <thead>\n",
              "    <tr style=\"text-align: right;\">\n",
              "      <th></th>\n",
              "      <th>destination_airport</th>\n",
              "      <th>cargo_rev</th>\n",
              "      <th>first_class_rev</th>\n",
              "      <th>business_class_rev</th>\n",
              "      <th>coach_rev</th>\n",
              "      <th>id</th>\n",
              "    </tr>\n",
              "  </thead>\n",
              "  <tbody>\n",
              "    <tr>\n",
              "      <th>0</th>\n",
              "      <td>SFO</td>\n",
              "      <td>10239</td>\n",
              "      <td>15747</td>\n",
              "      <td>12119</td>\n",
              "      <td>11782</td>\n",
              "      <td>1</td>\n",
              "    </tr>\n",
              "    <tr>\n",
              "      <th>1</th>\n",
              "      <td>LAX</td>\n",
              "      <td>17437</td>\n",
              "      <td>18874</td>\n",
              "      <td>10931</td>\n",
              "      <td>23363</td>\n",
              "      <td>2</td>\n",
              "    </tr>\n",
              "    <tr>\n",
              "      <th>2</th>\n",
              "      <td>JFK</td>\n",
              "      <td>10272</td>\n",
              "      <td>19153</td>\n",
              "      <td>10396</td>\n",
              "      <td>12549</td>\n",
              "      <td>3</td>\n",
              "    </tr>\n",
              "    <tr>\n",
              "      <th>3</th>\n",
              "      <td>ANC</td>\n",
              "      <td>10099</td>\n",
              "      <td>16796</td>\n",
              "      <td>6568</td>\n",
              "      <td>25099</td>\n",
              "      <td>4</td>\n",
              "    </tr>\n",
              "    <tr>\n",
              "      <th>4</th>\n",
              "      <td>LHR</td>\n",
              "      <td>13658</td>\n",
              "      <td>16068</td>\n",
              "      <td>13497</td>\n",
              "      <td>23195</td>\n",
              "      <td>5</td>\n",
              "    </tr>\n",
              "  </tbody>\n",
              "</table>\n",
              "</div>"
            ],
            "text/plain": [
              "  destination_airport cargo_rev  ... coach_rev id\n",
              "0                 SFO     10239  ...     11782  1\n",
              "1                 LAX     17437  ...     23363  2\n",
              "2                 JFK     10272  ...     12549  3\n",
              "3                 ANC     10099  ...     25099  4\n",
              "4                 LHR     13658  ...     23195  5\n",
              "\n",
              "[5 rows x 6 columns]"
            ]
          },
          "metadata": {
            "tags": []
          },
          "execution_count": 11
        }
      ]
    },
    {
      "cell_type": "code",
      "metadata": {
        "id": "UKJC1spd2dje",
        "colab_type": "code",
        "colab": {
          "base_uri": "https://localhost:8080/",
          "height": 138
        },
        "outputId": "66ba7e09-2480-4d53-f1ed-ec30238912cc"
      },
      "source": [
        "flight_revenue.dtypes"
      ],
      "execution_count": 15,
      "outputs": [
        {
          "output_type": "execute_result",
          "data": {
            "text/plain": [
              "destination_airport    object\n",
              "cargo_rev              object\n",
              "first_class_rev        object\n",
              "business_class_rev     object\n",
              "coach_rev              object\n",
              "id                      int64\n",
              "dtype: object"
            ]
          },
          "metadata": {
            "tags": []
          },
          "execution_count": 15
        }
      ]
    },
    {
      "cell_type": "code",
      "metadata": {
        "id": "kPN7V6fV2vEo",
        "colab_type": "code",
        "colab": {
          "base_uri": "https://localhost:8080/",
          "height": 138
        },
        "outputId": "881cfe40-3ebb-4936-d8ca-d80d8e52dbea"
      },
      "source": [
        "flight_revenue.count()"
      ],
      "execution_count": 18,
      "outputs": [
        {
          "output_type": "execute_result",
          "data": {
            "text/plain": [
              "destination_airport    14\n",
              "cargo_rev              14\n",
              "first_class_rev        14\n",
              "business_class_rev     14\n",
              "coach_rev              14\n",
              "id                     14\n",
              "dtype: int64"
            ]
          },
          "metadata": {
            "tags": []
          },
          "execution_count": 18
        }
      ]
    },
    {
      "cell_type": "code",
      "metadata": {
        "id": "Z7vCBA0O2IU8",
        "colab_type": "code",
        "colab": {
          "base_uri": "https://localhost:8080/",
          "height": 80
        },
        "outputId": "63d6b693-8299-4531-9676-d744372388a6"
      },
      "source": [
        "flight_revenue.describe().T"
      ],
      "execution_count": 14,
      "outputs": [
        {
          "output_type": "execute_result",
          "data": {
            "text/html": [
              "<div>\n",
              "<style scoped>\n",
              "    .dataframe tbody tr th:only-of-type {\n",
              "        vertical-align: middle;\n",
              "    }\n",
              "\n",
              "    .dataframe tbody tr th {\n",
              "        vertical-align: top;\n",
              "    }\n",
              "\n",
              "    .dataframe thead th {\n",
              "        text-align: right;\n",
              "    }\n",
              "</style>\n",
              "<table border=\"1\" class=\"dataframe\">\n",
              "  <thead>\n",
              "    <tr style=\"text-align: right;\">\n",
              "      <th></th>\n",
              "      <th>count</th>\n",
              "      <th>mean</th>\n",
              "      <th>std</th>\n",
              "      <th>min</th>\n",
              "      <th>25%</th>\n",
              "      <th>50%</th>\n",
              "      <th>75%</th>\n",
              "      <th>max</th>\n",
              "    </tr>\n",
              "  </thead>\n",
              "  <tbody>\n",
              "    <tr>\n",
              "      <th>id</th>\n",
              "      <td>14.0</td>\n",
              "      <td>7.5</td>\n",
              "      <td>4.1833</td>\n",
              "      <td>1.0</td>\n",
              "      <td>4.25</td>\n",
              "      <td>7.5</td>\n",
              "      <td>10.75</td>\n",
              "      <td>14.0</td>\n",
              "    </tr>\n",
              "  </tbody>\n",
              "</table>\n",
              "</div>"
            ],
            "text/plain": [
              "    count  mean     std  min   25%  50%    75%   max\n",
              "id   14.0   7.5  4.1833  1.0  4.25  7.5  10.75  14.0"
            ]
          },
          "metadata": {
            "tags": []
          },
          "execution_count": 14
        }
      ]
    },
    {
      "cell_type": "code",
      "metadata": {
        "id": "RpTcaHlr2e68",
        "colab_type": "code",
        "colab": {
          "base_uri": "https://localhost:8080/",
          "height": 202
        },
        "outputId": "7e955a26-5fc9-44bd-b4ac-cc1636eec5ca"
      },
      "source": [
        "forbes_global.head()"
      ],
      "execution_count": 16,
      "outputs": [
        {
          "output_type": "execute_result",
          "data": {
            "text/html": [
              "<div>\n",
              "<style scoped>\n",
              "    .dataframe tbody tr th:only-of-type {\n",
              "        vertical-align: middle;\n",
              "    }\n",
              "\n",
              "    .dataframe tbody tr th {\n",
              "        vertical-align: top;\n",
              "    }\n",
              "\n",
              "    .dataframe thead th {\n",
              "        text-align: right;\n",
              "    }\n",
              "</style>\n",
              "<table border=\"1\" class=\"dataframe\">\n",
              "  <thead>\n",
              "    <tr style=\"text-align: right;\">\n",
              "      <th></th>\n",
              "      <th>company</th>\n",
              "      <th>sector</th>\n",
              "      <th>industry</th>\n",
              "      <th>continent</th>\n",
              "      <th>country</th>\n",
              "      <th>marketvalue</th>\n",
              "      <th>sales</th>\n",
              "      <th>profits</th>\n",
              "      <th>assets</th>\n",
              "      <th>rank</th>\n",
              "      <th>forbeswebpage</th>\n",
              "    </tr>\n",
              "  </thead>\n",
              "  <tbody>\n",
              "    <tr>\n",
              "      <th>0</th>\n",
              "      <td>ICBC</td>\n",
              "      <td>Financials</td>\n",
              "      <td>Major Banks</td>\n",
              "      <td>Asia</td>\n",
              "      <td>China</td>\n",
              "      <td>215.6</td>\n",
              "      <td>148.7</td>\n",
              "      <td>42.7</td>\n",
              "      <td>3124.9</td>\n",
              "      <td>1</td>\n",
              "      <td>http://www.forbes.com/companies/icbc/</td>\n",
              "    </tr>\n",
              "    <tr>\n",
              "      <th>1</th>\n",
              "      <td>China Construction Bank</td>\n",
              "      <td>Financials</td>\n",
              "      <td>Regional Banks</td>\n",
              "      <td>Asia</td>\n",
              "      <td>China</td>\n",
              "      <td>174.4</td>\n",
              "      <td>121.3</td>\n",
              "      <td>34.2</td>\n",
              "      <td>2449.5</td>\n",
              "      <td>2</td>\n",
              "      <td>http://www.forbes.com/companies/china-construc...</td>\n",
              "    </tr>\n",
              "    <tr>\n",
              "      <th>2</th>\n",
              "      <td>Agricultural Bank of China</td>\n",
              "      <td>Financials</td>\n",
              "      <td>Regional Banks</td>\n",
              "      <td>Asia</td>\n",
              "      <td>China</td>\n",
              "      <td>141.1</td>\n",
              "      <td>136.4</td>\n",
              "      <td>27.0</td>\n",
              "      <td>2405.4</td>\n",
              "      <td>3</td>\n",
              "      <td>http://www.forbes.com/companies/agricultural-b...</td>\n",
              "    </tr>\n",
              "    <tr>\n",
              "      <th>3</th>\n",
              "      <td>JPMorgan Chase</td>\n",
              "      <td>Financials</td>\n",
              "      <td>Major Banks</td>\n",
              "      <td>North America</td>\n",
              "      <td>United States</td>\n",
              "      <td>229.7</td>\n",
              "      <td>105.7</td>\n",
              "      <td>17.3</td>\n",
              "      <td>2435.3</td>\n",
              "      <td>4</td>\n",
              "      <td>http://www.forbes.com/companies/jpmorgan-chase/</td>\n",
              "    </tr>\n",
              "    <tr>\n",
              "      <th>4</th>\n",
              "      <td>Berkshire Hathaway</td>\n",
              "      <td>Financials</td>\n",
              "      <td>Investment Services</td>\n",
              "      <td>North America</td>\n",
              "      <td>United States</td>\n",
              "      <td>309.1</td>\n",
              "      <td>178.8</td>\n",
              "      <td>19.5</td>\n",
              "      <td>493.4</td>\n",
              "      <td>5</td>\n",
              "      <td>http://www.forbes.com/companies/berkshire-hath...</td>\n",
              "    </tr>\n",
              "  </tbody>\n",
              "</table>\n",
              "</div>"
            ],
            "text/plain": [
              "                      company  ...                                      forbeswebpage\n",
              "0                        ICBC  ...              http://www.forbes.com/companies/icbc/\n",
              "1     China Construction Bank  ...  http://www.forbes.com/companies/china-construc...\n",
              "2  Agricultural Bank of China  ...  http://www.forbes.com/companies/agricultural-b...\n",
              "3              JPMorgan Chase  ...    http://www.forbes.com/companies/jpmorgan-chase/\n",
              "4          Berkshire Hathaway  ...  http://www.forbes.com/companies/berkshire-hath...\n",
              "\n",
              "[5 rows x 11 columns]"
            ]
          },
          "metadata": {
            "tags": []
          },
          "execution_count": 16
        }
      ]
    },
    {
      "cell_type": "code",
      "metadata": {
        "id": "hh2J5hRZ2gZ4",
        "colab_type": "code",
        "colab": {
          "base_uri": "https://localhost:8080/",
          "height": 202
        },
        "outputId": "2a84a415-d530-48b8-e453-ff890048423f"
      },
      "source": [
        "forbes_global.describe().T"
      ],
      "execution_count": 17,
      "outputs": [
        {
          "output_type": "execute_result",
          "data": {
            "text/html": [
              "<div>\n",
              "<style scoped>\n",
              "    .dataframe tbody tr th:only-of-type {\n",
              "        vertical-align: middle;\n",
              "    }\n",
              "\n",
              "    .dataframe tbody tr th {\n",
              "        vertical-align: top;\n",
              "    }\n",
              "\n",
              "    .dataframe thead th {\n",
              "        text-align: right;\n",
              "    }\n",
              "</style>\n",
              "<table border=\"1\" class=\"dataframe\">\n",
              "  <thead>\n",
              "    <tr style=\"text-align: right;\">\n",
              "      <th></th>\n",
              "      <th>count</th>\n",
              "      <th>mean</th>\n",
              "      <th>std</th>\n",
              "      <th>min</th>\n",
              "      <th>25%</th>\n",
              "      <th>50%</th>\n",
              "      <th>75%</th>\n",
              "      <th>max</th>\n",
              "    </tr>\n",
              "  </thead>\n",
              "  <tbody>\n",
              "    <tr>\n",
              "      <th>marketvalue</th>\n",
              "      <td>2000.0</td>\n",
              "      <td>22.20515</td>\n",
              "      <td>37.077202</td>\n",
              "      <td>0.0</td>\n",
              "      <td>5.90</td>\n",
              "      <td>10.75</td>\n",
              "      <td>22.125</td>\n",
              "      <td>483.1</td>\n",
              "    </tr>\n",
              "    <tr>\n",
              "      <th>sales</th>\n",
              "      <td>2000.0</td>\n",
              "      <td>19.18050</td>\n",
              "      <td>34.695518</td>\n",
              "      <td>0.0</td>\n",
              "      <td>4.20</td>\n",
              "      <td>9.20</td>\n",
              "      <td>18.825</td>\n",
              "      <td>476.5</td>\n",
              "    </tr>\n",
              "    <tr>\n",
              "      <th>profits</th>\n",
              "      <td>2000.0</td>\n",
              "      <td>1.46375</td>\n",
              "      <td>3.962383</td>\n",
              "      <td>-13.4</td>\n",
              "      <td>0.30</td>\n",
              "      <td>0.60</td>\n",
              "      <td>1.300</td>\n",
              "      <td>84.0</td>\n",
              "    </tr>\n",
              "    <tr>\n",
              "      <th>assets</th>\n",
              "      <td>2000.0</td>\n",
              "      <td>80.48720</td>\n",
              "      <td>256.077169</td>\n",
              "      <td>0.7</td>\n",
              "      <td>10.20</td>\n",
              "      <td>19.95</td>\n",
              "      <td>46.600</td>\n",
              "      <td>3270.1</td>\n",
              "    </tr>\n",
              "    <tr>\n",
              "      <th>rank</th>\n",
              "      <td>2000.0</td>\n",
              "      <td>1000.32450</td>\n",
              "      <td>577.397506</td>\n",
              "      <td>1.0</td>\n",
              "      <td>500.75</td>\n",
              "      <td>1000.50</td>\n",
              "      <td>1499.500</td>\n",
              "      <td>1999.0</td>\n",
              "    </tr>\n",
              "  </tbody>\n",
              "</table>\n",
              "</div>"
            ],
            "text/plain": [
              "              count        mean         std  ...      50%       75%     max\n",
              "marketvalue  2000.0    22.20515   37.077202  ...    10.75    22.125   483.1\n",
              "sales        2000.0    19.18050   34.695518  ...     9.20    18.825   476.5\n",
              "profits      2000.0     1.46375    3.962383  ...     0.60     1.300    84.0\n",
              "assets       2000.0    80.48720  256.077169  ...    19.95    46.600  3270.1\n",
              "rank         2000.0  1000.32450  577.397506  ...  1000.50  1499.500  1999.0\n",
              "\n",
              "[5 rows x 8 columns]"
            ]
          },
          "metadata": {
            "tags": []
          },
          "execution_count": 17
        }
      ]
    },
    {
      "cell_type": "markdown",
      "metadata": {
        "id": "SMvrUK30EDji",
        "colab_type": "text"
      },
      "source": [
        "### Fix the data"
      ]
    },
    {
      "cell_type": "code",
      "metadata": {
        "id": "sm-9lsSz323F",
        "colab_type": "code",
        "colab": {
          "base_uri": "https://localhost:8080/",
          "height": 173
        },
        "outputId": "dd0040f8-fa6e-4a39-9a93-6371a6efcb13"
      },
      "source": [
        "sat_scores.dtypes"
      ],
      "execution_count": 19,
      "outputs": [
        {
          "output_type": "execute_result",
          "data": {
            "text/plain": [
              "school          object\n",
              "teacher         object\n",
              "student_id     float64\n",
              "sat_writing    float64\n",
              "sat_verbal     float64\n",
              "sat_math       float64\n",
              "hrs_studied    float64\n",
              "id               int64\n",
              "dtype: object"
            ]
          },
          "metadata": {
            "tags": []
          },
          "execution_count": 19
        }
      ]
    },
    {
      "cell_type": "code",
      "metadata": {
        "id": "AY9wxSueEDjj",
        "colab_type": "code",
        "colab": {}
      },
      "source": [
        "#Change the datatype\n",
        "for cn in [\"sat_math\", \"sat_writing\", \"sat_verbal\", \"hrs_studied\"]:\n",
        "    sat_scores[cn] = sat_scores[cn].astype(np.float64)\n",
        "    \n"
      ],
      "execution_count": 0,
      "outputs": []
    },
    {
      "cell_type": "code",
      "metadata": {
        "id": "tSQMHlKh3_Q4",
        "colab_type": "code",
        "colab": {}
      },
      "source": [
        "#Drop the column not required\n",
        "sat_scores.drop([\"student_id\"], axis=1, inplace=True)\n",
        "\n",
        "#Set the index\n",
        "sat_scores.set_index([\"id\"], inplace=True)"
      ],
      "execution_count": 0,
      "outputs": []
    },
    {
      "cell_type": "code",
      "metadata": {
        "id": "DxRGmMjM39ae",
        "colab_type": "code",
        "colab": {
          "base_uri": "https://localhost:8080/",
          "height": 138
        },
        "outputId": "edd7898b-fd61-49d0-aeed-05896faea6f5"
      },
      "source": [
        "sat_scores.dtypes"
      ],
      "execution_count": 22,
      "outputs": [
        {
          "output_type": "execute_result",
          "data": {
            "text/plain": [
              "school          object\n",
              "teacher         object\n",
              "sat_writing    float64\n",
              "sat_verbal     float64\n",
              "sat_math       float64\n",
              "hrs_studied    float64\n",
              "dtype: object"
            ]
          },
          "metadata": {
            "tags": []
          },
          "execution_count": 22
        }
      ]
    },
    {
      "cell_type": "code",
      "metadata": {
        "id": "vw6kXu6JEDjn",
        "colab_type": "code",
        "outputId": "2ad1e05e-85c8-4c89-fabc-72f692167317",
        "colab": {
          "base_uri": "https://localhost:8080/",
          "height": 208
        }
      },
      "source": [
        "sat_scores.info()"
      ],
      "execution_count": 23,
      "outputs": [
        {
          "output_type": "stream",
          "text": [
            "<class 'pandas.core.frame.DataFrame'>\n",
            "Int64Index: 135 entries, 1 to 135\n",
            "Data columns (total 6 columns):\n",
            "school         135 non-null object\n",
            "teacher        135 non-null object\n",
            "sat_writing    135 non-null float64\n",
            "sat_verbal     135 non-null float64\n",
            "sat_math       135 non-null float64\n",
            "hrs_studied    128 non-null float64\n",
            "dtypes: float64(4), object(2)\n",
            "memory usage: 7.4+ KB\n"
          ],
          "name": "stdout"
        }
      ]
    },
    {
      "cell_type": "code",
      "metadata": {
        "id": "1aZebRS-EDju",
        "colab_type": "code",
        "colab": {}
      },
      "source": [
        "flight_revenue.set_index(\"id\", inplace=True)\n",
        "\n",
        "for cn in [\"cargo_rev\", \"first_class_rev\", \"business_class_rev\", \"coach_rev\"]:\n",
        "    flight_revenue[cn] = flight_revenue[cn].astype(np.float64)"
      ],
      "execution_count": 0,
      "outputs": []
    },
    {
      "cell_type": "code",
      "metadata": {
        "id": "CHvs10TM4xqP",
        "colab_type": "code",
        "colab": {
          "base_uri": "https://localhost:8080/",
          "height": 233
        },
        "outputId": "60af5530-9140-46d5-e16c-71a9cc81a5f5"
      },
      "source": [
        "flight_revenue.head()"
      ],
      "execution_count": 25,
      "outputs": [
        {
          "output_type": "execute_result",
          "data": {
            "text/html": [
              "<div>\n",
              "<style scoped>\n",
              "    .dataframe tbody tr th:only-of-type {\n",
              "        vertical-align: middle;\n",
              "    }\n",
              "\n",
              "    .dataframe tbody tr th {\n",
              "        vertical-align: top;\n",
              "    }\n",
              "\n",
              "    .dataframe thead th {\n",
              "        text-align: right;\n",
              "    }\n",
              "</style>\n",
              "<table border=\"1\" class=\"dataframe\">\n",
              "  <thead>\n",
              "    <tr style=\"text-align: right;\">\n",
              "      <th></th>\n",
              "      <th>destination_airport</th>\n",
              "      <th>cargo_rev</th>\n",
              "      <th>first_class_rev</th>\n",
              "      <th>business_class_rev</th>\n",
              "      <th>coach_rev</th>\n",
              "    </tr>\n",
              "    <tr>\n",
              "      <th>id</th>\n",
              "      <th></th>\n",
              "      <th></th>\n",
              "      <th></th>\n",
              "      <th></th>\n",
              "      <th></th>\n",
              "    </tr>\n",
              "  </thead>\n",
              "  <tbody>\n",
              "    <tr>\n",
              "      <th>1</th>\n",
              "      <td>SFO</td>\n",
              "      <td>10239.0</td>\n",
              "      <td>15747.0</td>\n",
              "      <td>12119.0</td>\n",
              "      <td>11782.0</td>\n",
              "    </tr>\n",
              "    <tr>\n",
              "      <th>2</th>\n",
              "      <td>LAX</td>\n",
              "      <td>17437.0</td>\n",
              "      <td>18874.0</td>\n",
              "      <td>10931.0</td>\n",
              "      <td>23363.0</td>\n",
              "    </tr>\n",
              "    <tr>\n",
              "      <th>3</th>\n",
              "      <td>JFK</td>\n",
              "      <td>10272.0</td>\n",
              "      <td>19153.0</td>\n",
              "      <td>10396.0</td>\n",
              "      <td>12549.0</td>\n",
              "    </tr>\n",
              "    <tr>\n",
              "      <th>4</th>\n",
              "      <td>ANC</td>\n",
              "      <td>10099.0</td>\n",
              "      <td>16796.0</td>\n",
              "      <td>6568.0</td>\n",
              "      <td>25099.0</td>\n",
              "    </tr>\n",
              "    <tr>\n",
              "      <th>5</th>\n",
              "      <td>LHR</td>\n",
              "      <td>13658.0</td>\n",
              "      <td>16068.0</td>\n",
              "      <td>13497.0</td>\n",
              "      <td>23195.0</td>\n",
              "    </tr>\n",
              "  </tbody>\n",
              "</table>\n",
              "</div>"
            ],
            "text/plain": [
              "   destination_airport  cargo_rev  ...  business_class_rev  coach_rev\n",
              "id                                 ...                               \n",
              "1                  SFO    10239.0  ...             12119.0    11782.0\n",
              "2                  LAX    17437.0  ...             10931.0    23363.0\n",
              "3                  JFK    10272.0  ...             10396.0    12549.0\n",
              "4                  ANC    10099.0  ...              6568.0    25099.0\n",
              "5                  LHR    13658.0  ...             13497.0    23195.0\n",
              "\n",
              "[5 rows x 5 columns]"
            ]
          },
          "metadata": {
            "tags": []
          },
          "execution_count": 25
        }
      ]
    },
    {
      "cell_type": "code",
      "metadata": {
        "id": "4qpvGpEdEDjy",
        "colab_type": "code",
        "outputId": "2d76857d-b065-4df8-85ae-fc75948b93e0",
        "colab": {
          "base_uri": "https://localhost:8080/",
          "height": 190
        }
      },
      "source": [
        "flight_revenue.info()"
      ],
      "execution_count": 26,
      "outputs": [
        {
          "output_type": "stream",
          "text": [
            "<class 'pandas.core.frame.DataFrame'>\n",
            "Int64Index: 14 entries, 1 to 14\n",
            "Data columns (total 5 columns):\n",
            "destination_airport    14 non-null object\n",
            "cargo_rev              14 non-null float64\n",
            "first_class_rev        14 non-null float64\n",
            "business_class_rev     14 non-null float64\n",
            "coach_rev              14 non-null float64\n",
            "dtypes: float64(4), object(1)\n",
            "memory usage: 672.0+ bytes\n"
          ],
          "name": "stdout"
        }
      ]
    },
    {
      "cell_type": "markdown",
      "metadata": {
        "id": "r5NF_Z8qEDj4",
        "colab_type": "text"
      },
      "source": [
        "## Basic summary statistics"
      ]
    },
    {
      "cell_type": "markdown",
      "metadata": {
        "id": "kb95esIGEDj5",
        "colab_type": "text"
      },
      "source": [
        "### Introduction"
      ]
    },
    {
      "cell_type": "markdown",
      "metadata": {
        "id": "vnjfgoiqEDj6",
        "colab_type": "text"
      },
      "source": [
        "The most basic method is `describe`."
      ]
    },
    {
      "cell_type": "code",
      "metadata": {
        "id": "s3_Hk8ObEDj7",
        "colab_type": "code",
        "outputId": "5a093e0b-7f85-4e73-ef16-b5bc156b9625",
        "colab": {
          "base_uri": "https://localhost:8080/",
          "height": 294
        }
      },
      "source": [
        "sat_scores.describe()"
      ],
      "execution_count": 27,
      "outputs": [
        {
          "output_type": "execute_result",
          "data": {
            "text/html": [
              "<div>\n",
              "<style scoped>\n",
              "    .dataframe tbody tr th:only-of-type {\n",
              "        vertical-align: middle;\n",
              "    }\n",
              "\n",
              "    .dataframe tbody tr th {\n",
              "        vertical-align: top;\n",
              "    }\n",
              "\n",
              "    .dataframe thead th {\n",
              "        text-align: right;\n",
              "    }\n",
              "</style>\n",
              "<table border=\"1\" class=\"dataframe\">\n",
              "  <thead>\n",
              "    <tr style=\"text-align: right;\">\n",
              "      <th></th>\n",
              "      <th>sat_writing</th>\n",
              "      <th>sat_verbal</th>\n",
              "      <th>sat_math</th>\n",
              "      <th>hrs_studied</th>\n",
              "    </tr>\n",
              "  </thead>\n",
              "  <tbody>\n",
              "    <tr>\n",
              "      <th>count</th>\n",
              "      <td>135.000000</td>\n",
              "      <td>135.000000</td>\n",
              "      <td>135.000000</td>\n",
              "      <td>128.000000</td>\n",
              "    </tr>\n",
              "    <tr>\n",
              "      <th>mean</th>\n",
              "      <td>500.503704</td>\n",
              "      <td>495.725926</td>\n",
              "      <td>517.414815</td>\n",
              "      <td>100.546875</td>\n",
              "    </tr>\n",
              "    <tr>\n",
              "      <th>std</th>\n",
              "      <td>162.220132</td>\n",
              "      <td>168.715535</td>\n",
              "      <td>180.212618</td>\n",
              "      <td>59.941554</td>\n",
              "    </tr>\n",
              "    <tr>\n",
              "      <th>min</th>\n",
              "      <td>206.000000</td>\n",
              "      <td>200.000000</td>\n",
              "      <td>201.000000</td>\n",
              "      <td>0.000000</td>\n",
              "    </tr>\n",
              "    <tr>\n",
              "      <th>25%</th>\n",
              "      <td>377.000000</td>\n",
              "      <td>361.000000</td>\n",
              "      <td>350.000000</td>\n",
              "      <td>51.000000</td>\n",
              "    </tr>\n",
              "    <tr>\n",
              "      <th>50%</th>\n",
              "      <td>512.000000</td>\n",
              "      <td>488.000000</td>\n",
              "      <td>528.000000</td>\n",
              "      <td>95.500000</td>\n",
              "    </tr>\n",
              "    <tr>\n",
              "      <th>75%</th>\n",
              "      <td>636.500000</td>\n",
              "      <td>641.500000</td>\n",
              "      <td>680.000000</td>\n",
              "      <td>156.250000</td>\n",
              "    </tr>\n",
              "    <tr>\n",
              "      <th>max</th>\n",
              "      <td>799.000000</td>\n",
              "      <td>799.000000</td>\n",
              "      <td>797.000000</td>\n",
              "      <td>200.000000</td>\n",
              "    </tr>\n",
              "  </tbody>\n",
              "</table>\n",
              "</div>"
            ],
            "text/plain": [
              "       sat_writing  sat_verbal    sat_math  hrs_studied\n",
              "count   135.000000  135.000000  135.000000   128.000000\n",
              "mean    500.503704  495.725926  517.414815   100.546875\n",
              "std     162.220132  168.715535  180.212618    59.941554\n",
              "min     206.000000  200.000000  201.000000     0.000000\n",
              "25%     377.000000  361.000000  350.000000    51.000000\n",
              "50%     512.000000  488.000000  528.000000    95.500000\n",
              "75%     636.500000  641.500000  680.000000   156.250000\n",
              "max     799.000000  799.000000  797.000000   200.000000"
            ]
          },
          "metadata": {
            "tags": []
          },
          "execution_count": 27
        }
      ]
    },
    {
      "cell_type": "markdown",
      "metadata": {
        "id": "AHkDtkvMEDkD",
        "colab_type": "text"
      },
      "source": [
        "It returns a dataframe which can be indexed like any other dataframe to get the value of interest.\n",
        "\n",
        "For example to get the minimal sat_verbal score."
      ]
    },
    {
      "cell_type": "code",
      "metadata": {
        "id": "tLfRQWUXEDkF",
        "colab_type": "code",
        "outputId": "4142e070-526f-4b98-a9e5-765264d9dce6",
        "colab": {
          "base_uri": "https://localhost:8080/",
          "height": 34
        }
      },
      "source": [
        "sat_scores.describe().loc[\"min\"][\"sat_verbal\"]"
      ],
      "execution_count": 28,
      "outputs": [
        {
          "output_type": "execute_result",
          "data": {
            "text/plain": [
              "200.0"
            ]
          },
          "metadata": {
            "tags": []
          },
          "execution_count": 28
        }
      ]
    },
    {
      "cell_type": "markdown",
      "metadata": {
        "id": "vWc77CthEDkL",
        "colab_type": "text"
      },
      "source": [
        "But that is not the best way to do things because time is spent calculating all other statistics which we probably don't care about.\n",
        "\n",
        "To calculate a single statistic like in the previous example:"
      ]
    },
    {
      "cell_type": "code",
      "metadata": {
        "id": "az6REM75EDkN",
        "colab_type": "code",
        "outputId": "d57c51e4-79a6-4d2a-8636-9e3655617b9e",
        "colab": {
          "base_uri": "https://localhost:8080/",
          "height": 34
        }
      },
      "source": [
        "sat_scores[\"sat_verbal\"].min()"
      ],
      "execution_count": 29,
      "outputs": [
        {
          "output_type": "execute_result",
          "data": {
            "text/plain": [
              "200.0"
            ]
          },
          "metadata": {
            "tags": []
          },
          "execution_count": 29
        }
      ]
    },
    {
      "cell_type": "markdown",
      "metadata": {
        "id": "3C1nDoeaEDkS",
        "colab_type": "text"
      },
      "source": [
        "### 3 types of averages"
      ]
    },
    {
      "cell_type": "markdown",
      "metadata": {
        "id": "AolBeigzEDkU",
        "colab_type": "text"
      },
      "source": [
        "The average you are used to where you sum all values and divide by count is called the artithmetic average.\n",
        "\n",
        "We have calculated it many times by now using the `mean` functions of pandas and numpy."
      ]
    },
    {
      "cell_type": "code",
      "metadata": {
        "id": "MyoVW-VhEDkW",
        "colab_type": "code",
        "outputId": "0432897b-7f19-4aa2-c4a4-ca690535cf9a",
        "colab": {
          "base_uri": "https://localhost:8080/",
          "height": 104
        }
      },
      "source": [
        "sat_scores.describe().loc[\"mean\"]"
      ],
      "execution_count": 30,
      "outputs": [
        {
          "output_type": "execute_result",
          "data": {
            "text/plain": [
              "sat_writing    500.503704\n",
              "sat_verbal     495.725926\n",
              "sat_math       517.414815\n",
              "hrs_studied    100.546875\n",
              "Name: mean, dtype: float64"
            ]
          },
          "metadata": {
            "tags": []
          },
          "execution_count": 30
        }
      ]
    },
    {
      "cell_type": "markdown",
      "metadata": {
        "id": "TKFSzQpyEDkb",
        "colab_type": "text"
      },
      "source": [
        "But there are 2 more types of averages:\n",
        "- Geometric mean\n",
        "- Harmonic mean"
      ]
    },
    {
      "cell_type": "markdown",
      "metadata": {
        "id": "dQhoUPmiEDkd",
        "colab_type": "text"
      },
      "source": [
        "#### Geometric mean\n",
        "\n",
        "- https://en.wikipedia.org/wiki/Geometric_mean\n",
        "\n",
        "This is the n-th root of product of all values where n is the count of values.\n",
        "\n",
        "There is an easy way to calculate it using `scipy.stats` and the `gmean` method.\n",
        "\n",
        "For example the geometric mean of writing scores."
      ]
    },
    {
      "cell_type": "code",
      "metadata": {
        "id": "TUmsAO4EEDke",
        "colab_type": "code",
        "outputId": "eb5174e5-189f-40c0-9a12-1ec188126fb5",
        "colab": {
          "base_uri": "https://localhost:8080/",
          "height": 34
        }
      },
      "source": [
        "scp_stats.gmean(sat_scores[\"sat_writing\"])"
      ],
      "execution_count": 31,
      "outputs": [
        {
          "output_type": "execute_result",
          "data": {
            "text/plain": [
              "471.7562033189293"
            ]
          },
          "metadata": {
            "tags": []
          },
          "execution_count": 31
        }
      ]
    },
    {
      "cell_type": "markdown",
      "metadata": {
        "id": "-bBYVvVtEDkk",
        "colab_type": "text"
      },
      "source": [
        "#### Harmonic mean\n",
        "\n",
        "- https://en.wikipedia.org/wiki/Harmonic_mean\n",
        "\n",
        "This is defined as n / s where n is the count of observations and s is the sum of reciprocals of your values.\n",
        "\n",
        "We can calculate it using the `hmean` method from `scipy.stats`."
      ]
    },
    {
      "cell_type": "code",
      "metadata": {
        "id": "SKMs31V3EDkm",
        "colab_type": "code",
        "outputId": "baf1761b-d60c-4b8d-8b24-7e7fac1b6666",
        "colab": {
          "base_uri": "https://localhost:8080/",
          "height": 34
        }
      },
      "source": [
        "scp_stats.hmean(sat_scores[\"sat_writing\"])"
      ],
      "execution_count": 32,
      "outputs": [
        {
          "output_type": "execute_result",
          "data": {
            "text/plain": [
              "440.84803805361383"
            ]
          },
          "metadata": {
            "tags": []
          },
          "execution_count": 32
        }
      ]
    },
    {
      "cell_type": "markdown",
      "metadata": {
        "id": "74FYMZwVEDkq",
        "colab_type": "text"
      },
      "source": [
        "#### All 3 of them together"
      ]
    },
    {
      "cell_type": "code",
      "metadata": {
        "id": "zRhyClRkEDkr",
        "colab_type": "code",
        "outputId": "83b9d091-7e21-4046-b177-62ee63edd510",
        "colab": {
          "base_uri": "https://localhost:8080/",
          "height": 69
        }
      },
      "source": [
        "print(sat_scores[\"sat_writing\"].mean())\n",
        "print(scp_stats.gmean(sat_scores[\"sat_writing\"]))\n",
        "print(scp_stats.hmean(sat_scores[\"sat_writing\"]))"
      ],
      "execution_count": 33,
      "outputs": [
        {
          "output_type": "stream",
          "text": [
            "500.5037037037037\n",
            "471.7562033189293\n",
            "440.84803805361383\n"
          ],
          "name": "stdout"
        }
      ]
    },
    {
      "cell_type": "markdown",
      "metadata": {
        "id": "jFlabpuiEDkv",
        "colab_type": "text"
      },
      "source": [
        "You see that you got different values and that is usually the case."
      ]
    },
    {
      "cell_type": "markdown",
      "metadata": {
        "id": "9-9fLQWwEDkx",
        "colab_type": "text"
      },
      "source": [
        "#### Which one to use?\n",
        "\n",
        "Generally the arithmetic average works well enough when the numbers are balanced.\n",
        "\n",
        "When the numbers aren't balanced (there are some small numbers, some big numbers) using geometric or harmonic will give values which are closer to the middle which is the goal of all averages."
      ]
    },
    {
      "cell_type": "markdown",
      "metadata": {
        "id": "E4uCHAhUEDkx",
        "colab_type": "text"
      },
      "source": [
        "### Sorting the numbers "
      ]
    },
    {
      "cell_type": "markdown",
      "metadata": {
        "id": "kcc_Q3_wEDky",
        "colab_type": "text"
      },
      "source": [
        "Sometimes the best way to understand the numerical data you have is to sort it first.\n",
        "\n",
        "To sort in pandas we will use the `sort_values` method."
      ]
    },
    {
      "cell_type": "code",
      "metadata": {
        "id": "3g73GO6-EDkz",
        "colab_type": "code",
        "outputId": "a98348cd-dc04-4ac4-ef7c-401e4d5681cb",
        "colab": {
          "base_uri": "https://localhost:8080/",
          "height": 242
        }
      },
      "source": [
        "sat_scores[\"sat_math\"].sort_values()"
      ],
      "execution_count": 34,
      "outputs": [
        {
          "output_type": "execute_result",
          "data": {
            "text/plain": [
              "id\n",
              "69     201.0\n",
              "114    201.0\n",
              "60     205.0\n",
              "68     216.0\n",
              "66     216.0\n",
              "       ...  \n",
              "87     767.0\n",
              "6      771.0\n",
              "40     780.0\n",
              "21     796.0\n",
              "118    797.0\n",
              "Name: sat_math, Length: 135, dtype: float64"
            ]
          },
          "metadata": {
            "tags": []
          },
          "execution_count": 34
        }
      ]
    },
    {
      "cell_type": "markdown",
      "metadata": {
        "id": "2q2-AgZtEDk5",
        "colab_type": "text"
      },
      "source": [
        "#### Quantiles/Percentiles \n",
        "\n",
        "We can think about quantiles in our data and describe the numbers with them.\n",
        "\n",
        "A k-quantile is defined as the number which occupies the position k in the sorted list.\n",
        "\n",
        "For convenience we do not deal with whole numbers but take k to be from 0 to 1.\n",
        "- k = 0.25 is the first quartile, that is the number in the sorted list located at 0.25 * list_length.\n",
        "- k = 0.5 means that the number which is at half the sorted list and is usually called the median.\n",
        "- k = 0.75 is the third quartile, that is the number in the sorted list located at 0.25 * list_length.\n",
        "\n",
        "To find quantiles for pandas Series we use the `quantile` method."
      ]
    },
    {
      "cell_type": "markdown",
      "metadata": {
        "id": "oX9By-3VEDk6",
        "colab_type": "text"
      },
      "source": [
        "#### Example 1\n",
        "\n",
        "The median (0.5-th quantile)"
      ]
    },
    {
      "cell_type": "code",
      "metadata": {
        "id": "xkw4ZV9bEDk7",
        "colab_type": "code",
        "outputId": "d2387a62-ebd0-48ec-fac3-989c5b4ee403",
        "colab": {
          "base_uri": "https://localhost:8080/",
          "height": 34
        }
      },
      "source": [
        "sat_scores.hrs_studied.quantile(0.5)"
      ],
      "execution_count": 37,
      "outputs": [
        {
          "output_type": "execute_result",
          "data": {
            "text/plain": [
              "95.5"
            ]
          },
          "metadata": {
            "tags": []
          },
          "execution_count": 37
        }
      ]
    },
    {
      "cell_type": "markdown",
      "metadata": {
        "id": "HvmqrpJGEDlB",
        "colab_type": "text"
      },
      "source": [
        "#### Example 2\n",
        "\n",
        "The first and third quartiles."
      ]
    },
    {
      "cell_type": "code",
      "metadata": {
        "id": "uzi0pdiYEDlB",
        "colab_type": "code",
        "outputId": "d9430b7b-04b2-4e10-87ab-25739b96ac91",
        "colab": {
          "base_uri": "https://localhost:8080/",
          "height": 69
        }
      },
      "source": [
        "sat_scores.hrs_studied.quantile([0.25, 0.75])"
      ],
      "execution_count": 38,
      "outputs": [
        {
          "output_type": "execute_result",
          "data": {
            "text/plain": [
              "0.25     51.00\n",
              "0.75    156.25\n",
              "Name: hrs_studied, dtype: float64"
            ]
          },
          "metadata": {
            "tags": []
          },
          "execution_count": 38
        }
      ]
    },
    {
      "cell_type": "markdown",
      "metadata": {
        "id": "oAc2MikbEDlI",
        "colab_type": "text"
      },
      "source": [
        "#### Range\n",
        "\n",
        "Once you sort your data you can say what is the range of values it contains.\n",
        "\n",
        "The range is defined as the difference between the maximum and the minimum of the numbers."
      ]
    },
    {
      "cell_type": "code",
      "metadata": {
        "id": "zHms01EhEDlJ",
        "colab_type": "code",
        "outputId": "9dbef320-dc9c-442d-ab47-b8055aeb5ff4",
        "colab": {
          "base_uri": "https://localhost:8080/",
          "height": 34
        }
      },
      "source": [
        "maximum = sat_scores.hrs_studied.max()\n",
        "minumum = sat_scores.hrs_studied.min()\n",
        "\n",
        "hrs_studied_range = maximum - minumum\n",
        "\n",
        "hrs_studied_range"
      ],
      "execution_count": 39,
      "outputs": [
        {
          "output_type": "execute_result",
          "data": {
            "text/plain": [
              "200.0"
            ]
          },
          "metadata": {
            "tags": []
          },
          "execution_count": 39
        }
      ]
    },
    {
      "cell_type": "markdown",
      "metadata": {
        "id": "3vCy30ysEDlR",
        "colab_type": "text"
      },
      "source": [
        "#### Interquantile Range (IQR)\n",
        "\n",
        "This statistic is defined as the difference between the third quartile and the first quartile.\n",
        "\n",
        "It useful for outlier detection, a topic discussed later."
      ]
    },
    {
      "cell_type": "code",
      "metadata": {
        "id": "cbD9ErjgEDlT",
        "colab_type": "code",
        "outputId": "40e8ac88-cc59-4f57-edb0-3b6cb1c88413",
        "colab": {
          "base_uri": "https://localhost:8080/",
          "height": 34
        }
      },
      "source": [
        "q25 = sat_scores.hrs_studied.quantile(0.25)\n",
        "q75 = sat_scores.hrs_studied.quantile(0.75)\n",
        "\n",
        "hrs_studied_iqr = q75 - q25\n",
        "\n",
        "hrs_studied_iqr"
      ],
      "execution_count": 40,
      "outputs": [
        {
          "output_type": "execute_result",
          "data": {
            "text/plain": [
              "105.25"
            ]
          },
          "metadata": {
            "tags": []
          },
          "execution_count": 40
        }
      ]
    },
    {
      "cell_type": "markdown",
      "metadata": {
        "id": "troebFz6EDla",
        "colab_type": "text"
      },
      "source": [
        "### The mode"
      ]
    },
    {
      "cell_type": "markdown",
      "metadata": {
        "id": "lOhyLm26EDlc",
        "colab_type": "text"
      },
      "source": [
        "Mode is a very important statistics. The mode of your data is the number or category which occurs most (has the highest probability in math speak).\n",
        "\n",
        "All other statistics described by now are not applicable to categorical data but mode is.\n",
        "\n",
        "You can find the mode using the `value_counts` function.\n",
        "\n",
        "For example to find the most common professor."
      ]
    },
    {
      "cell_type": "code",
      "metadata": {
        "id": "9lY2nwQW7Hhm",
        "colab_type": "code",
        "colab": {
          "base_uri": "https://localhost:8080/",
          "height": 325
        },
        "outputId": "6afe4418-866e-44fc-94bf-b69a70a2ecca"
      },
      "source": [
        "sat_scores.groupby('teacher').count()"
      ],
      "execution_count": 44,
      "outputs": [
        {
          "output_type": "execute_result",
          "data": {
            "text/html": [
              "<div>\n",
              "<style scoped>\n",
              "    .dataframe tbody tr th:only-of-type {\n",
              "        vertical-align: middle;\n",
              "    }\n",
              "\n",
              "    .dataframe tbody tr th {\n",
              "        vertical-align: top;\n",
              "    }\n",
              "\n",
              "    .dataframe thead th {\n",
              "        text-align: right;\n",
              "    }\n",
              "</style>\n",
              "<table border=\"1\" class=\"dataframe\">\n",
              "  <thead>\n",
              "    <tr style=\"text-align: right;\">\n",
              "      <th></th>\n",
              "      <th>school</th>\n",
              "      <th>sat_writing</th>\n",
              "      <th>sat_verbal</th>\n",
              "      <th>sat_math</th>\n",
              "      <th>hrs_studied</th>\n",
              "    </tr>\n",
              "    <tr>\n",
              "      <th>teacher</th>\n",
              "      <th></th>\n",
              "      <th></th>\n",
              "      <th></th>\n",
              "      <th></th>\n",
              "      <th></th>\n",
              "    </tr>\n",
              "  </thead>\n",
              "  <tbody>\n",
              "    <tr>\n",
              "      <th>Brown</th>\n",
              "      <td>17</td>\n",
              "      <td>17</td>\n",
              "      <td>17</td>\n",
              "      <td>17</td>\n",
              "      <td>17</td>\n",
              "    </tr>\n",
              "    <tr>\n",
              "      <th>Davis</th>\n",
              "      <td>13</td>\n",
              "      <td>13</td>\n",
              "      <td>13</td>\n",
              "      <td>13</td>\n",
              "      <td>11</td>\n",
              "    </tr>\n",
              "    <tr>\n",
              "      <th>Frederickson</th>\n",
              "      <td>13</td>\n",
              "      <td>13</td>\n",
              "      <td>13</td>\n",
              "      <td>13</td>\n",
              "      <td>12</td>\n",
              "    </tr>\n",
              "    <tr>\n",
              "      <th>Perry</th>\n",
              "      <td>23</td>\n",
              "      <td>23</td>\n",
              "      <td>23</td>\n",
              "      <td>23</td>\n",
              "      <td>22</td>\n",
              "    </tr>\n",
              "    <tr>\n",
              "      <th>Rajaram</th>\n",
              "      <td>20</td>\n",
              "      <td>20</td>\n",
              "      <td>20</td>\n",
              "      <td>20</td>\n",
              "      <td>20</td>\n",
              "    </tr>\n",
              "    <tr>\n",
              "      <th>Spellman</th>\n",
              "      <td>18</td>\n",
              "      <td>18</td>\n",
              "      <td>18</td>\n",
              "      <td>18</td>\n",
              "      <td>17</td>\n",
              "    </tr>\n",
              "    <tr>\n",
              "      <th>Tran</th>\n",
              "      <td>15</td>\n",
              "      <td>15</td>\n",
              "      <td>15</td>\n",
              "      <td>15</td>\n",
              "      <td>13</td>\n",
              "    </tr>\n",
              "    <tr>\n",
              "      <th>Williams</th>\n",
              "      <td>16</td>\n",
              "      <td>16</td>\n",
              "      <td>16</td>\n",
              "      <td>16</td>\n",
              "      <td>16</td>\n",
              "    </tr>\n",
              "  </tbody>\n",
              "</table>\n",
              "</div>"
            ],
            "text/plain": [
              "              school  sat_writing  sat_verbal  sat_math  hrs_studied\n",
              "teacher                                                             \n",
              "Brown             17           17          17        17           17\n",
              "Davis             13           13          13        13           11\n",
              "Frederickson      13           13          13        13           12\n",
              "Perry             23           23          23        23           22\n",
              "Rajaram           20           20          20        20           20\n",
              "Spellman          18           18          18        18           17\n",
              "Tran              15           15          15        15           13\n",
              "Williams          16           16          16        16           16"
            ]
          },
          "metadata": {
            "tags": []
          },
          "execution_count": 44
        }
      ]
    },
    {
      "cell_type": "code",
      "metadata": {
        "id": "weaLVr64EDlf",
        "colab_type": "code",
        "outputId": "0106241f-4759-4ba3-a7ba-55e80d45864d",
        "colab": {
          "base_uri": "https://localhost:8080/",
          "height": 52
        }
      },
      "source": [
        "sat_scores.teacher.value_counts()[:1]"
      ],
      "execution_count": 41,
      "outputs": [
        {
          "output_type": "execute_result",
          "data": {
            "text/plain": [
              "Perry    23\n",
              "Name: teacher, dtype: int64"
            ]
          },
          "metadata": {
            "tags": []
          },
          "execution_count": 41
        }
      ]
    },
    {
      "cell_type": "code",
      "metadata": {
        "id": "uP3p5Rwt7Ale",
        "colab_type": "code",
        "colab": {
          "base_uri": "https://localhost:8080/",
          "height": 52
        },
        "outputId": "8a5fc558-26f9-4acd-96a3-ff9242450a03"
      },
      "source": [
        "sat_scores.teacher.mode()"
      ],
      "execution_count": 42,
      "outputs": [
        {
          "output_type": "execute_result",
          "data": {
            "text/plain": [
              "0    Perry\n",
              "dtype: object"
            ]
          },
          "metadata": {
            "tags": []
          },
          "execution_count": 42
        }
      ]
    },
    {
      "cell_type": "markdown",
      "metadata": {
        "id": "vr2mvEH4EDlr",
        "colab_type": "text"
      },
      "source": [
        "### Visual representations of your numbers"
      ]
    },
    {
      "cell_type": "markdown",
      "metadata": {
        "id": "gwUEhyPoEDls",
        "colab_type": "text"
      },
      "source": [
        "#### Histograms"
      ]
    },
    {
      "cell_type": "code",
      "metadata": {
        "id": "-PegH2fzEDlu",
        "colab_type": "code",
        "outputId": "7282550e-ed8b-4882-b645-273540cadce8",
        "colab": {
          "base_uri": "https://localhost:8080/",
          "height": 320
        }
      },
      "source": [
        "sat_scores.sat_math.plot('hist', bins=20)\n",
        "plt.show()"
      ],
      "execution_count": 45,
      "outputs": [
        {
          "output_type": "stream",
          "text": [
            "/usr/local/lib/python3.6/dist-packages/ipykernel_launcher.py:1: FutureWarning: `Series.plot()` should not be called with positional arguments, only keyword arguments. The order of positional arguments will change in the future. Use `Series.plot(kind='hist')` instead of `Series.plot('hist',)`.\n",
            "  \"\"\"Entry point for launching an IPython kernel.\n"
          ],
          "name": "stderr"
        },
        {
          "output_type": "display_data",
          "data": {
            "image/png": "[encoded data removed]",
            "text/plain": [
              "<Figure size 432x288 with 1 Axes>"
            ]
          },
          "metadata": {
            "tags": []
          }
        }
      ]
    },
    {
      "cell_type": "markdown",
      "metadata": {
        "id": "ENkqX4ROEDl3",
        "colab_type": "text"
      },
      "source": [
        "Above we defined mode as a single value and in the global sense when we look at all data there can be only one.\n",
        "\n",
        "In the histogram above we see that is somewhere around 730. So the most common score was around 730 but what does that tell us of the whole picture, not much really.\n",
        "\n",
        "Because of that people will sometime talk about multi-modal histograms. Multi-modal means that there are many modes, each being a peak surrounded by valeys in the histogram plot. In this case we have a mode around 250, a mode around 500 and the one we saw before around 730. I chose these on my personal preference and there is no strict definition of multi-modality. But you can pick as many as you want from the `value_counts` list as long as that makes sense to you."
      ]
    },
    {
      "cell_type": "markdown",
      "metadata": {
        "id": "5Tb2hKH6EDl4",
        "colab_type": "text"
      },
      "source": [
        "#### Box plots"
      ]
    },
    {
      "cell_type": "code",
      "metadata": {
        "id": "5kyhlDbCEDl5",
        "colab_type": "code",
        "outputId": "27d94855-f7dc-428b-ecad-3035af26e834",
        "colab": {
          "base_uri": "https://localhost:8080/",
          "height": 266
        }
      },
      "source": [
        "sat_scores.boxplot(column=[\"sat_math\"])\n",
        "plt.show()"
      ],
      "execution_count": 46,
      "outputs": [
        {
          "output_type": "display_data",
          "data": {
            "image/png": "[encoded data removed]",
            "text/plain": [
              "<Figure size 432x288 with 1 Axes>"
            ]
          },
          "metadata": {
            "tags": []
          }
        }
      ]
    },
    {
      "cell_type": "markdown",
      "metadata": {
        "id": "GVToVHR6EDl8",
        "colab_type": "text"
      },
      "source": [
        "These plots are a visual representation of almost everything we learned in the sorting your number section.\n",
        "- The two black lines, highest and lowest y-values, are the 75% and 25% percentile.\n",
        "- The green line is the median (50% percentile)\n",
        "\n",
        "These plots also sometimes show dots. These are called outliers, as determined by the IQR test.\n",
        "\n",
        "The following box plot from the iris dataset shows outliers."
      ]
    },
    {
      "cell_type": "code",
      "metadata": {
        "id": "4MFdEWfiEDl-",
        "colab_type": "code",
        "outputId": "1f289b8a-1fae-4f5d-92ff-1857338ae3d2",
        "colab": {
          "base_uri": "https://localhost:8080/",
          "height": 269
        }
      },
      "source": [
        "iris.boxplot(column=\"sepal_width\")\n",
        "plt.show()"
      ],
      "execution_count": 47,
      "outputs": [
        {
          "output_type": "display_data",
          "data": {
            "image/png": "[encoded data removed]",
            "text/plain": [
              "<Figure size 432x288 with 1 Axes>"
            ]
          },
          "metadata": {
            "tags": []
          }
        }
      ]
    },
    {
      "cell_type": "markdown",
      "metadata": {
        "id": "9DY6AVXjEDmB",
        "colab_type": "text"
      },
      "source": [
        "#### Outliers\n",
        "\n",
        "Outliers are numbers/data points which don't fit in with the data.\n",
        "- For example if you had the numbers 1,7, 3, 5, 21, 1000 the number 1000 is way too big for this dataset.\n",
        "\n",
        "There are many tests to see if a data point is an outlier but the one used for drawing boxplots is called the IQR-test for inter quartile range.\n",
        "\n",
        "A point is an outlier if it's either:\n",
        "- Bigger than Q3 + 1.5 * IQR (Q3 = third quartile, 75% percentile)\n",
        "- Smaller than Q1 - 1.5 * IQR (Q1 = first quartile, 25% percentile)"
      ]
    },
    {
      "cell_type": "markdown",
      "metadata": {
        "id": "hH_QKDXtEDmB",
        "colab_type": "text"
      },
      "source": [
        "### Measuring variance"
      ]
    },
    {
      "cell_type": "markdown",
      "metadata": {
        "id": "RXtYfW74EDmC",
        "colab_type": "text"
      },
      "source": [
        "Variance as a single number describes how far are the numbers from the mean.\n",
        "- A high variance means that every number tries to escape from the mean.\n",
        "- A low variance means that every number tries to be as close as possible to the mean.\n",
        "\n",
        "Generally you always want small variance because higher variance corresponds to higher uncertainity.\n",
        "\n",
        "To illustrate: Assume you are a manager in a chocolate factory. Your orders are that each chocolate weighs 100 grams. If your orders are disobeyed each cholocate off the shelves will have a different amount of grams (some 30g, some 150g, some 60g, some 250g) and your business could suffer because you don't get enough revenue to cover expenses.\n",
        "\n",
        "Still having high variance is not inherently bad because there are cases where diversity is OK like for example the variance in age of patients."
      ]
    },
    {
      "cell_type": "markdown",
      "metadata": {
        "id": "z1r262-nEDmD",
        "colab_type": "text"
      },
      "source": [
        "Along with variance comes a related quantity called the standard deviation which is the square root of variance.\n",
        "\n",
        "To find the standard deviation we use the `std` method."
      ]
    },
    {
      "cell_type": "code",
      "metadata": {
        "id": "dlyzgcJeEDmE",
        "colab_type": "code",
        "outputId": "10b78c8d-7cf8-4ff8-9ba9-0c88611594fb",
        "colab": {
          "base_uri": "https://localhost:8080/",
          "height": 34
        }
      },
      "source": [
        "sat_scores[\"sat_writing\"].std()"
      ],
      "execution_count": 48,
      "outputs": [
        {
          "output_type": "execute_result",
          "data": {
            "text/plain": [
              "162.2201320885818"
            ]
          },
          "metadata": {
            "tags": []
          },
          "execution_count": 48
        }
      ]
    },
    {
      "cell_type": "markdown",
      "metadata": {
        "id": "4cOayvZAEDmN",
        "colab_type": "text"
      },
      "source": [
        "To find the variance we square the resuls from above."
      ]
    },
    {
      "cell_type": "code",
      "metadata": {
        "id": "DnKyEr1cEDmO",
        "colab_type": "code",
        "outputId": "93442ed5-7d91-4b25-96f2-f3a5bbedc828",
        "colab": {
          "base_uri": "https://localhost:8080/",
          "height": 34
        }
      },
      "source": [
        "sat_scores[\"sat_writing\"].std() ** 2"
      ],
      "execution_count": 49,
      "outputs": [
        {
          "output_type": "execute_result",
          "data": {
            "text/plain": [
              "26315.37125483693"
            ]
          },
          "metadata": {
            "tags": []
          },
          "execution_count": 49
        }
      ]
    },
    {
      "cell_type": "markdown",
      "metadata": {
        "id": "tgye-_V5EDmb",
        "colab_type": "text"
      },
      "source": [
        "Generally we always use the standard deviation because it is a number which is close to other numbers in the dataset.\n",
        "\n",
        "To correctly interpret mean (arithmetic average), standard deviation and the quantiles you need to know what distribution your data comes from."
      ]
    },
    {
      "cell_type": "markdown",
      "metadata": {
        "id": "LdHor4n6EDmc",
        "colab_type": "text"
      },
      "source": [
        "### Correlation between two columns\n",
        "\n",
        "Correlation is linear dependence and correlation coefficient is a number from 0 to 1 which helps us quantify that dependence.\n",
        "\n",
        "To calculate it we can use `scp_stats.pearsonr`. \n",
        "- https://docs.scipy.org/doc/scipy/reference/generated/scipy.stats.pearsonr.html\n",
        "- Pearson was the scientist who invented this number so it is named after him.\n",
        "\n",
        "For example let's see if hours studied correlate with max score in any of 3 tests (more hours, bigger score)"
      ]
    },
    {
      "cell_type": "code",
      "metadata": {
        "id": "dqnVhK15EDmc",
        "colab_type": "code",
        "outputId": "17503750-0381-4aaa-ef73-daa8eff7ccc8",
        "colab": {
          "base_uri": "https://localhost:8080/",
          "height": 34
        }
      },
      "source": [
        "max_score = sat_scores[[\"sat_writing\", \"sat_math\", \"sat_verbal\"]].apply(np.max, axis=1)\n",
        "\n",
        "# Fill NaNs with mean value\n",
        "hrs_studied = sat_scores.hrs_studied.fillna(value=sat_scores.hrs_studied.mean())\n",
        "\n",
        "corr_coef, _ = scp_stats.pearsonr(hrs_studied, max_score)\n",
        "\n",
        "corr_coef"
      ],
      "execution_count": 50,
      "outputs": [
        {
          "output_type": "execute_result",
          "data": {
            "text/plain": [
              "0.07966449616970446"
            ]
          },
          "metadata": {
            "tags": []
          },
          "execution_count": 50
        }
      ]
    },
    {
      "cell_type": "markdown",
      "metadata": {
        "id": "wocYlOKaEDmi",
        "colab_type": "text"
      },
      "source": [
        "This number is very low so we conclude that there is no linear dependence."
      ]
    },
    {
      "cell_type": "markdown",
      "metadata": {
        "id": "_xsg8qNwEDmj",
        "colab_type": "text"
      },
      "source": [
        "## Distributions"
      ]
    },
    {
      "cell_type": "markdown",
      "metadata": {
        "id": "L1P3f7xUEDmk",
        "colab_type": "text"
      },
      "source": [
        "We will start from Empirical Cumulative Distribution Functions."
      ]
    },
    {
      "cell_type": "code",
      "metadata": {
        "id": "9JbYvoBIEDml",
        "colab_type": "code",
        "outputId": "87f934e8-39b2-4ebc-c6e7-31f7ae4f8533",
        "colab": {
          "base_uri": "https://localhost:8080/",
          "height": 606
        }
      },
      "source": [
        "vals = sat_scores[\"sat_writing\"].sort_values()\n",
        "\n",
        "plt.figure(figsize=(10, 10))\n",
        "plt.scatter(vals, np.arange(0, len(vals)) / len(vals), marker='o')\n",
        "plt.xlabel(\"Sat Writing Score\")\n",
        "plt.ylabel(\"Percentile\")\n",
        "plt.show()"
      ],
      "execution_count": 51,
      "outputs": [
        {
          "output_type": "display_data",
          "data": {
            "image/png": "[encoded data removed]",
            "text/plain": [
              "<Figure size 720x720 with 1 Axes>"
            ]
          },
          "metadata": {
            "tags": []
          }
        }
      ]
    },
    {
      "cell_type": "markdown",
      "metadata": {
        "id": "ttijrprJEDmp",
        "colab_type": "text"
      },
      "source": [
        "What we see here is called the empirical cumulative distribution function.\n",
        "\n",
        "On the Y-axis we see the position of the item in the sorted list as a percent 0 to 1.\n",
        "\n",
        "On the X-axis we see the values from 200 too 800 from sat writing scores.\n",
        "\n",
        "A reading of (400, 0.2) means that 20% of the numbers are smaller than 400.\n",
        "\n",
        "A reading of (500, 0.4) means that 40% of the numbers are smaller than 500.\n",
        "\n",
        "We can also use it to answer questions like how many observations are between 300 and 500.\n",
        "We find (500, 0.4) and find (300, 0.15) and we can say that 0.4 - 0.15 = 0.25 => 25% percent of the scores we have in our data are between 300 and 500.\n",
        "\n",
        "From here you can see all the percentiles. E.g. The median is around 520 from visual inspection.\n",
        "\n",
        "There is a lot of information you can see from here, and that is why people invented boxplots for quick summaries."
      ]
    },
    {
      "cell_type": "markdown",
      "metadata": {
        "id": "336VElC0EDmr",
        "colab_type": "text"
      },
      "source": [
        "We can also extend this plot to show the mean, median and mode."
      ]
    },
    {
      "cell_type": "code",
      "metadata": {
        "id": "a6iIVTSzEDmr",
        "colab_type": "code",
        "outputId": "49c3f32f-7bf7-48f5-dd18-41bdf51313a1",
        "colab": {
          "base_uri": "https://localhost:8080/",
          "height": 658
        }
      },
      "source": [
        "vals = sat_scores[\"sat_writing\"].sort_values()\n",
        "\n",
        "mu = vals.mean()\n",
        "median = vals.median()\n",
        "mode = vals.value_counts().index[0]\n",
        "\n",
        "print(\"Mean \" + str(mu))\n",
        "print(\"Median \" + str(median))\n",
        "print(\"Mode \" + str(mode))\n",
        "\n",
        "plt.figure(figsize=(10, 10))\n",
        "plt.scatter(vals, np.arange(0, len(vals)) / len(vals), marker='o')\n",
        "plt.gca().axvline(mu, color='red')\n",
        "plt.gca().axvline(median, color='green')\n",
        "plt.gca().axvline(mode, color='orange')\n",
        "plt.xlabel(\"Sat Writing Score\")\n",
        "plt.ylabel(\"Percentile\")\n",
        "plt.show()"
      ],
      "execution_count": 53,
      "outputs": [
        {
          "output_type": "stream",
          "text": [
            "Mean 500.5037037037037\n",
            "Median 512.0\n",
            "Mode 481.0\n"
          ],
          "name": "stdout"
        },
        {
          "output_type": "display_data",
          "data": {
            "image/png": "[encoded data removed]",
            "text/plain": [
              "<Figure size 720x720 with 1 Axes>"
            ]
          },
          "metadata": {
            "tags": []
          }
        }
      ]
    },
    {
      "cell_type": "markdown",
      "metadata": {
        "id": "gojinxa6EDmv",
        "colab_type": "text"
      },
      "source": [
        "To make our notion of how many numbers are between a and b precise and not just visual guesswork we need to create an ECDF from the `statsmodels` package. \n",
        "\n",
        "Using that function creates a new function that allows us to answer the question: How many values are smaller than my value of interest."
      ]
    },
    {
      "cell_type": "code",
      "metadata": {
        "id": "vgBA3mQiEDmv",
        "colab_type": "code",
        "outputId": "d275b8ac-4c92-4ea2-9472-4a1a2935989d",
        "colab": {
          "base_uri": "https://localhost:8080/",
          "height": 34
        }
      },
      "source": [
        "# This is a function\n",
        "sat_writing_cdf = ECDF(sat_scores.sat_writing)\n",
        "\n",
        "between300_and500 = sat_writing_cdf(500) - sat_writing_cdf(300)\n",
        "\n",
        "print(100 * between300_and500)"
      ],
      "execution_count": 52,
      "outputs": [
        {
          "output_type": "stream",
          "text": [
            "34.81481481481482\n"
          ],
          "name": "stdout"
        }
      ]
    },
    {
      "cell_type": "markdown",
      "metadata": {
        "id": "Wj6XqfipEDmz",
        "colab_type": "text"
      },
      "source": [
        "So the guess we had was about 10% wrong so never use intutition when exact numbers can be calculated."
      ]
    },
    {
      "cell_type": "markdown",
      "metadata": {
        "id": "aM-do7j0EDm1",
        "colab_type": "text"
      },
      "source": [
        "### The uniform distribution\n",
        "\n",
        "- https://en.wikipedia.org/wiki/Uniform_distribution_(continuous)\n",
        "\n",
        "This is the simplest distribution of numbers where each number is distributed purely randomly with 0 bias in range _a_ to _b_, _a_ < _b_."
      ]
    },
    {
      "cell_type": "markdown",
      "metadata": {
        "id": "J5tlbF4tEDm2",
        "colab_type": "text"
      },
      "source": [
        "### The normal distribution\n",
        "\n",
        "- https://en.wikipedia.org/wiki/Normal_distribution\n",
        "\n",
        "This is the most common distribution of numbers in nature and is known as the bell curve.\n",
        "- The curve is always centered on the mean of the numbers.\n",
        "- The height of the peak and the width of the curve depend on variance\n",
        "    - High variance, low height and high width.\n",
        "    - Low variance, high height and low width.\n",
        "    \n",
        "This behaviour coincides with the interpretation of variance as uncertainty seen above. More variance mean the probability is distributed away from the mean.\n",
        "\n",
        "This distribution is also very important for the Z-test we will see later."
      ]
    },
    {
      "cell_type": "markdown",
      "metadata": {
        "id": "6P_MYkHhEDm3",
        "colab_type": "text"
      },
      "source": [
        "### The t-distribution\n",
        "\n",
        "- https://en.wikipedia.org/wiki/Student's_t-distribution\n",
        "\n",
        "Looks similar to normal and actually becomes normal after its DoF paramater reaches infinity.\n",
        "\n",
        "In practical use cases having DoF >= 30 means this distribution is normal.\n",
        "\n",
        "The width of the curve depends on the DoF paramater and you will see that DoF = n - 1 where n is the number of samples we have."
      ]
    },
    {
      "cell_type": "markdown",
      "metadata": {
        "id": "-F8WsPpDEDm5",
        "colab_type": "text"
      },
      "source": [
        "## Hypothesis testing"
      ]
    },
    {
      "cell_type": "markdown",
      "metadata": {
        "id": "SI5mgZwBEDm6",
        "colab_type": "text"
      },
      "source": [
        "We have many beliefs and hypothesis about our *world*.\n",
        "\n",
        "Here are some examples:\n",
        "- The mean writing score is 500\n",
        "- The standard deviation of writing score is 200\n",
        "- The distribution of writing scores is normal.\n",
        "- Students from St. John's and students from Washington HS have different mean results/\n",
        "- ...\n",
        "\n",
        "The data we have can be used to help us confirm or reject these hypotheses and these is where tests come to use."
      ]
    },
    {
      "cell_type": "markdown",
      "metadata": {
        "id": "4bTJirnDEDm6",
        "colab_type": "text"
      },
      "source": [
        "### Terminology\n",
        "\n",
        "There is a lot of math behind all of this but the most important things to know are:\n",
        "- Null Hypothesis (H0) - This is what we believe is true\n",
        "- Alternative Hypothesis (Ha) - This is the opposite of H0\n",
        "- Rejecting - Claim that H0 is false and Ha is true\n",
        "- Accepting - Claim that H0 is true and Ha is false\n",
        "- Significance level - Sometimes called alpha is the probability of accepting H0 when it is false in nature but our data says it is true\n",
        "- Test-statistic - some number we get from our data that describes the mean, the difference between means, the variance or whatever depending on the context.\n",
        "- p-value - Probability that H0 is false given the value of our test statistic. We reject H0 if the p-value is smaller than the signifance level.\n",
        "\n",
        "And the most important thing of them all:\n",
        "- We make hypothesis about the state of the world, not the state of our data.\n",
        "- We use to data to prove them or disprove them but never make hypothesis about data."
      ]
    },
    {
      "cell_type": "markdown",
      "metadata": {
        "id": "rLX8PJlQEDm7",
        "colab_type": "text"
      },
      "source": [
        "### Testing for mean = constant\n",
        "\n",
        "- http://www.statsmodels.org/stable/generated/statsmodels.stats.weightstats.ztest.html#statsmodels.stats.weightstats.ztest\n",
        "\n",
        "This is the easiest case and we will now what all that stuff meant.\n",
        "\n",
        "We will learn about the 1-sample Z-test.\n",
        "\n",
        "Let's say I believe that the mean writing score is 600, thus:\n",
        "- H0: mean = 600\n",
        "- Ha: mean != 600\n",
        "\n",
        "To test that we can use `statsmodels.api.stats.ztest`."
      ]
    },
    {
      "cell_type": "code",
      "metadata": {
        "id": "SEdzc_7sEDm_",
        "colab_type": "code",
        "outputId": "c8dc1897-0fdc-4c64-f980-ec0a82639b6a",
        "colab": {
          "base_uri": "https://localhost:8080/",
          "height": 52
        }
      },
      "source": [
        "test_statistic, p_value = sm.stats.ztest(sat_scores.sat_writing, value=600)\n",
        "\n",
        "print(\"Z-test statistic is \" + str(test_statistic))\n",
        "print(\"p-value is \" + str(p_value))"
      ],
      "execution_count": 54,
      "outputs": [
        {
          "output_type": "stream",
          "text": [
            "Z-test statistic is -7.126381176063617\n",
            "p-value is 1.030421117356416e-12\n"
          ],
          "name": "stdout"
        }
      ]
    },
    {
      "cell_type": "markdown",
      "metadata": {
        "id": "UkPfv_dtEDnD",
        "colab_type": "text"
      },
      "source": [
        "Our p-value is less than 0.05 which we choose as our significance level, actually much much smaller.\n",
        "\n",
        "That means that we reject the hypothesis that true writing scores have a mean of 600.\n",
        "\n",
        "Usually we always choose 0.05 as alpha."
      ]
    },
    {
      "cell_type": "markdown",
      "metadata": {
        "id": "qcFubqt3EDnE",
        "colab_type": "text"
      },
      "source": [
        "What if we tried some value closer to the mean we got from the data."
      ]
    },
    {
      "cell_type": "code",
      "metadata": {
        "id": "2lm0BuUDEDnF",
        "colab_type": "code",
        "outputId": "8e7952a8-fa6b-40af-ad02-1a372056b20b",
        "colab": {
          "base_uri": "https://localhost:8080/",
          "height": 52
        }
      },
      "source": [
        "test_statistic, p_value = sm.stats.ztest(sat_scores.sat_writing, value=510)\n",
        "\n",
        "print(\"Z-test statistic is \" + str(test_statistic))\n",
        "print(\"p-value is \" + str(p_value))"
      ],
      "execution_count": 55,
      "outputs": [
        {
          "output_type": "stream",
          "text": [
            "Z-test statistic is -0.6801683046242968\n",
            "p-value is 0.4963978989048442\n"
          ],
          "name": "stdout"
        }
      ]
    },
    {
      "cell_type": "markdown",
      "metadata": {
        "id": "HwrVi7jnEDnI",
        "colab_type": "text"
      },
      "source": [
        "Now we got a high p-value and so we accept the null hypothesis that mean=510.\n",
        "\n",
        "The interpretation of this is that the data confirmed our hypothesis.\n",
        "\n",
        "Once again we will have to warn that this is a slippery slope and you should be very careful designing your hypothesis."
      ]
    },
    {
      "cell_type": "markdown",
      "metadata": {
        "id": "_ZqgT0TDEDnJ",
        "colab_type": "text"
      },
      "source": [
        "#### One-sided vs two-sided\n",
        "\n",
        "What we did by now were so-called two-sided tests because our alternative hypothesis was of the form mean != 600 but we can also test for cases mean <= 600 or mean >= 600 which are called onesided tests.\n",
        "\n",
        "To tell the method we want a one sided test we need to make a single change.\n",
        "- Set the `alternative` parameter to \"smaller\" or \"larger\".\n",
        "\n",
        "In this example we say that:\n",
        "- H0: mean < 600\n",
        "- Ha: mean > 600\n",
        "\n",
        "Thus the alternative parameters refers to the alternative hypothesis :)"
      ]
    },
    {
      "cell_type": "code",
      "metadata": {
        "id": "cZLcLfmtEDnK",
        "colab_type": "code",
        "outputId": "c51e736d-b08d-48ba-e94b-87ab417e5596",
        "colab": {}
      },
      "source": [
        "test_statistic, p_value = sm.stats.ztest(sat_scores.sat_writing, \n",
        "                                         value=600, \n",
        "                                         alternative='larger')\n",
        "\n",
        "print(\"Z-test statistic is \" + str(test_statistic))\n",
        "print(\"p-value is \" + str(p_value))"
      ],
      "execution_count": 0,
      "outputs": [
        {
          "output_type": "stream",
          "text": [
            "Z-test statistic is -7.126381176063617\n",
            "p-value is 0.9999999999994847\n"
          ],
          "name": "stdout"
        }
      ]
    },
    {
      "cell_type": "markdown",
      "metadata": {
        "id": "oCssXHikEDnQ",
        "colab_type": "text"
      },
      "source": [
        "### Testing for two means being equal\n",
        "\n",
        "- http://www.statsmodels.org/stable/generated/statsmodels.stats.weightstats.ttest_ind.html#statsmodels.stats.weightstats.ttest_ind\n",
        "\n",
        "When we want to answer questions like do group A and group B have a same mean we use this test.\n",
        "\n",
        "As an example we will look at students from Washingon and St Jhon's and compare their performance means for equality.\n",
        "- H0: The two groups have equal mean (the difference in means is equal to 0)\n",
        "- Ha: The means are not equal\n",
        "\n",
        "When testing for two groups we need to make a choice between using their pooled variance or their separate variances, thus the parameter `usevar` can be one of:\n",
        "- \"pooled\"\n",
        "- \"unequal\""
      ]
    },
    {
      "cell_type": "code",
      "metadata": {
        "id": "_g78jXZEEDnQ",
        "colab_type": "code",
        "outputId": "283136fa-c3fc-4ecf-cead-6e41c724532b",
        "colab": {}
      },
      "source": [
        "wash = sat_scores.query(\"school=='Washington HS'\")[\"sat_verbal\"]\n",
        "jhon = sat_scores.query('school==\"St. John\\'s\"')[\"sat_verbal\"]\n",
        "\n",
        "statistic, p_value, _ = sm.stats.ttest_ind(wash, jhon, value=0, usevar=\"pooled\")\n",
        "\n",
        "print(\"P-value is \" + str(p_value))"
      ],
      "execution_count": 0,
      "outputs": [
        {
          "output_type": "stream",
          "text": [
            "P-value is 0.9677369665089817\n"
          ],
          "name": "stdout"
        }
      ]
    },
    {
      "cell_type": "markdown",
      "metadata": {
        "id": "-a3kOZnNEDnX",
        "colab_type": "text"
      },
      "source": [
        "We got a very high p-value which means that our null hypothesis that the means are close are confirmed by our data but keep in mind that we had a small sample size, 31 students in Washington HS and 51 students in St. Jhon's. "
      ]
    },
    {
      "cell_type": "code",
      "metadata": {
        "id": "4PlFBXr4EDnZ",
        "colab_type": "code",
        "outputId": "eb0cf59f-070b-4d85-e881-b3c7fce4f153",
        "colab": {}
      },
      "source": [
        "wash.mean(), jhon.mean()"
      ],
      "execution_count": 0,
      "outputs": [
        {
          "output_type": "execute_result",
          "data": {
            "text/plain": [
              "(497.5483870967742, 495.96078431372547)"
            ]
          },
          "metadata": {
            "tags": []
          },
          "execution_count": 36
        }
      ]
    },
    {
      "cell_type": "markdown",
      "metadata": {
        "id": "NtMkt9DfEDne",
        "colab_type": "text"
      },
      "source": [
        "## Contigency Tables"
      ]
    },
    {
      "cell_type": "markdown",
      "metadata": {
        "id": "0wSsPE2pEDnf",
        "colab_type": "text"
      },
      "source": [
        "Contigency tables are a form of summary that shows counts for pairs of categories.\n",
        "\n",
        "For example we can make a contigency table from our `sat_scores` dataset based on Professors and High Schools. \n",
        "\n",
        "To do that we will use the [`crosstab`](https://pandas.pydata.org/pandas-docs/stable/generated/pandas.crosstab.html) method from pandas.\n",
        "- The first argument is the data for rows\n",
        "- Second is the data for columns."
      ]
    },
    {
      "cell_type": "code",
      "metadata": {
        "id": "_OaltBbTEDnh",
        "colab_type": "code",
        "outputId": "e87a2859-e05d-4c3a-f567-d74be00a00ce",
        "colab": {
          "base_uri": "https://localhost:8080/",
          "height": 172
        }
      },
      "source": [
        "pd.crosstab(sat_scores[\"school\"], sat_scores[\"teacher\"])"
      ],
      "execution_count": 56,
      "outputs": [
        {
          "output_type": "execute_result",
          "data": {
            "text/html": [
              "<div>\n",
              "<style scoped>\n",
              "    .dataframe tbody tr th:only-of-type {\n",
              "        vertical-align: middle;\n",
              "    }\n",
              "\n",
              "    .dataframe tbody tr th {\n",
              "        vertical-align: top;\n",
              "    }\n",
              "\n",
              "    .dataframe thead th {\n",
              "        text-align: right;\n",
              "    }\n",
              "</style>\n",
              "<table border=\"1\" class=\"dataframe\">\n",
              "  <thead>\n",
              "    <tr style=\"text-align: right;\">\n",
              "      <th>teacher</th>\n",
              "      <th>Brown</th>\n",
              "      <th>Davis</th>\n",
              "      <th>Frederickson</th>\n",
              "      <th>Perry</th>\n",
              "      <th>Rajaram</th>\n",
              "      <th>Spellman</th>\n",
              "      <th>Tran</th>\n",
              "      <th>Williams</th>\n",
              "    </tr>\n",
              "    <tr>\n",
              "      <th>school</th>\n",
              "      <th></th>\n",
              "      <th></th>\n",
              "      <th></th>\n",
              "      <th></th>\n",
              "      <th></th>\n",
              "      <th></th>\n",
              "      <th></th>\n",
              "      <th></th>\n",
              "    </tr>\n",
              "  </thead>\n",
              "  <tbody>\n",
              "    <tr>\n",
              "      <th>Petersville HS</th>\n",
              "      <td>17</td>\n",
              "      <td>13</td>\n",
              "      <td>0</td>\n",
              "      <td>23</td>\n",
              "      <td>0</td>\n",
              "      <td>0</td>\n",
              "      <td>0</td>\n",
              "      <td>0</td>\n",
              "    </tr>\n",
              "    <tr>\n",
              "      <th>St. John's</th>\n",
              "      <td>0</td>\n",
              "      <td>0</td>\n",
              "      <td>0</td>\n",
              "      <td>0</td>\n",
              "      <td>20</td>\n",
              "      <td>0</td>\n",
              "      <td>15</td>\n",
              "      <td>16</td>\n",
              "    </tr>\n",
              "    <tr>\n",
              "      <th>Washington HS</th>\n",
              "      <td>0</td>\n",
              "      <td>0</td>\n",
              "      <td>13</td>\n",
              "      <td>0</td>\n",
              "      <td>0</td>\n",
              "      <td>18</td>\n",
              "      <td>0</td>\n",
              "      <td>0</td>\n",
              "    </tr>\n",
              "  </tbody>\n",
              "</table>\n",
              "</div>"
            ],
            "text/plain": [
              "teacher         Brown  Davis  Frederickson  ...  Spellman  Tran  Williams\n",
              "school                                      ...                          \n",
              "Petersville HS     17     13             0  ...         0     0         0\n",
              "St. John's          0      0             0  ...         0    15        16\n",
              "Washington HS       0      0            13  ...        18     0         0\n",
              "\n",
              "[3 rows x 8 columns]"
            ]
          },
          "metadata": {
            "tags": []
          },
          "execution_count": 56
        }
      ]
    },
    {
      "cell_type": "markdown",
      "metadata": {
        "id": "v7SuDFivEDnr",
        "colab_type": "text"
      },
      "source": [
        "You can test for independence using functionality from `statsmodels`.\n",
        "- http://www.statsmodels.org/stable/contingency_tables.html\n",
        "\n",
        "The idea is to first create a contigency table in their format from our crosstab results and call the `test_nominal_association` method."
      ]
    },
    {
      "cell_type": "code",
      "metadata": {
        "id": "uA_mFf-MEDns",
        "colab_type": "code",
        "outputId": "233d77fc-60b8-4443-bf26-92775d397c49",
        "colab": {
          "base_uri": "https://localhost:8080/",
          "height": 34
        }
      },
      "source": [
        "table = sm.stats.Table(pd.crosstab(sat_scores[\"school\"], sat_scores[\"teacher\"]))\n",
        "\n",
        "table.test_nominal_association().pvalue"
      ],
      "execution_count": 57,
      "outputs": [
        {
          "output_type": "execute_result",
          "data": {
            "text/plain": [
              "0.0"
            ]
          },
          "metadata": {
            "tags": []
          },
          "execution_count": 57
        }
      ]
    },
    {
      "cell_type": "code",
      "metadata": {
        "id": "qIy4eMKDIc-p",
        "colab_type": "code",
        "colab": {
          "base_uri": "https://localhost:8080/",
          "height": 172
        },
        "outputId": "939237f0-e72d-4742-bed9-5fc972957244"
      },
      "source": [
        "table.table_orig"
      ],
      "execution_count": 60,
      "outputs": [
        {
          "output_type": "execute_result",
          "data": {
            "text/html": [
              "<div>\n",
              "<style scoped>\n",
              "    .dataframe tbody tr th:only-of-type {\n",
              "        vertical-align: middle;\n",
              "    }\n",
              "\n",
              "    .dataframe tbody tr th {\n",
              "        vertical-align: top;\n",
              "    }\n",
              "\n",
              "    .dataframe thead th {\n",
              "        text-align: right;\n",
              "    }\n",
              "</style>\n",
              "<table border=\"1\" class=\"dataframe\">\n",
              "  <thead>\n",
              "    <tr style=\"text-align: right;\">\n",
              "      <th>teacher</th>\n",
              "      <th>Brown</th>\n",
              "      <th>Davis</th>\n",
              "      <th>Frederickson</th>\n",
              "      <th>Perry</th>\n",
              "      <th>Rajaram</th>\n",
              "      <th>Spellman</th>\n",
              "      <th>Tran</th>\n",
              "      <th>Williams</th>\n",
              "    </tr>\n",
              "    <tr>\n",
              "      <th>school</th>\n",
              "      <th></th>\n",
              "      <th></th>\n",
              "      <th></th>\n",
              "      <th></th>\n",
              "      <th></th>\n",
              "      <th></th>\n",
              "      <th></th>\n",
              "      <th></th>\n",
              "    </tr>\n",
              "  </thead>\n",
              "  <tbody>\n",
              "    <tr>\n",
              "      <th>Petersville HS</th>\n",
              "      <td>17</td>\n",
              "      <td>13</td>\n",
              "      <td>0</td>\n",
              "      <td>23</td>\n",
              "      <td>0</td>\n",
              "      <td>0</td>\n",
              "      <td>0</td>\n",
              "      <td>0</td>\n",
              "    </tr>\n",
              "    <tr>\n",
              "      <th>St. John's</th>\n",
              "      <td>0</td>\n",
              "      <td>0</td>\n",
              "      <td>0</td>\n",
              "      <td>0</td>\n",
              "      <td>20</td>\n",
              "      <td>0</td>\n",
              "      <td>15</td>\n",
              "      <td>16</td>\n",
              "    </tr>\n",
              "    <tr>\n",
              "      <th>Washington HS</th>\n",
              "      <td>0</td>\n",
              "      <td>0</td>\n",
              "      <td>13</td>\n",
              "      <td>0</td>\n",
              "      <td>0</td>\n",
              "      <td>18</td>\n",
              "      <td>0</td>\n",
              "      <td>0</td>\n",
              "    </tr>\n",
              "  </tbody>\n",
              "</table>\n",
              "</div>"
            ],
            "text/plain": [
              "teacher         Brown  Davis  Frederickson  ...  Spellman  Tran  Williams\n",
              "school                                      ...                          \n",
              "Petersville HS     17     13             0  ...         0     0         0\n",
              "St. John's          0      0             0  ...         0    15        16\n",
              "Washington HS       0      0            13  ...        18     0         0\n",
              "\n",
              "[3 rows x 8 columns]"
            ]
          },
          "metadata": {
            "tags": []
          },
          "execution_count": 60
        }
      ]
    },
    {
      "cell_type": "markdown",
      "metadata": {
        "id": "fWNUvt-mEDnv",
        "colab_type": "text"
      },
      "source": [
        "We got a p-value of 0.0 which means that the hypothesis teachers and schools are independent is rejected.\n",
        "\n",
        "This makes perfect sense because one teacher works only at a single school and they are 100% dependent (see all the 0s in the table)."
      ]
    },
    {
      "cell_type": "markdown",
      "metadata": {
        "id": "3pkOJESAaCDP",
        "colab_type": "text"
      },
      "source": [
        "## Case Study \n",
        "\n",
        "This lesson is accompanied by a case study [medical appointments](https://github.com/stratascratch/stratascratch.github.io/tree/master/Data%20Analytics%20Case%20Studies/Medical%20Appointments.md).\n",
        "\n",
        "The solutions notebook for the study is available [here](https://colab.research.google.com/drive/1iTKUv7KEqwyicudr_yKNWV1GgsPQKfx6) "
      ]
    },
    {
      "cell_type": "markdown",
      "metadata": {
        "id": "7yAsv9dqEDnv",
        "colab_type": "text"
      },
      "source": [
        "## Exercises"
      ]
    },
    {
      "cell_type": "markdown",
      "metadata": {
        "id": "UCwwa6TTEDnz",
        "colab_type": "text"
      },
      "source": [
        "We will use the `forbes_global` dataset here."
      ]
    },
    {
      "cell_type": "code",
      "metadata": {
        "id": "TfDstwhZEDn0",
        "colab_type": "code",
        "outputId": "c67890a1-13f5-4718-b820-1c36b3b89ca0",
        "colab": {
          "base_uri": "https://localhost:8080/",
          "height": 202
        }
      },
      "source": [
        "forbes_global.head()"
      ],
      "execution_count": 62,
      "outputs": [
        {
          "output_type": "execute_result",
          "data": {
            "text/html": [
              "<div>\n",
              "<style scoped>\n",
              "    .dataframe tbody tr th:only-of-type {\n",
              "        vertical-align: middle;\n",
              "    }\n",
              "\n",
              "    .dataframe tbody tr th {\n",
              "        vertical-align: top;\n",
              "    }\n",
              "\n",
              "    .dataframe thead th {\n",
              "        text-align: right;\n",
              "    }\n",
              "</style>\n",
              "<table border=\"1\" class=\"dataframe\">\n",
              "  <thead>\n",
              "    <tr style=\"text-align: right;\">\n",
              "      <th></th>\n",
              "      <th>company</th>\n",
              "      <th>sector</th>\n",
              "      <th>industry</th>\n",
              "      <th>continent</th>\n",
              "      <th>country</th>\n",
              "      <th>marketvalue</th>\n",
              "      <th>sales</th>\n",
              "      <th>profits</th>\n",
              "      <th>assets</th>\n",
              "      <th>rank</th>\n",
              "      <th>forbeswebpage</th>\n",
              "    </tr>\n",
              "  </thead>\n",
              "  <tbody>\n",
              "    <tr>\n",
              "      <th>0</th>\n",
              "      <td>ICBC</td>\n",
              "      <td>Financials</td>\n",
              "      <td>Major Banks</td>\n",
              "      <td>Asia</td>\n",
              "      <td>China</td>\n",
              "      <td>215.6</td>\n",
              "      <td>148.7</td>\n",
              "      <td>42.7</td>\n",
              "      <td>3124.9</td>\n",
              "      <td>1</td>\n",
              "      <td>http://www.forbes.com/companies/icbc/</td>\n",
              "    </tr>\n",
              "    <tr>\n",
              "      <th>1</th>\n",
              "      <td>China Construction Bank</td>\n",
              "      <td>Financials</td>\n",
              "      <td>Regional Banks</td>\n",
              "      <td>Asia</td>\n",
              "      <td>China</td>\n",
              "      <td>174.4</td>\n",
              "      <td>121.3</td>\n",
              "      <td>34.2</td>\n",
              "      <td>2449.5</td>\n",
              "      <td>2</td>\n",
              "      <td>http://www.forbes.com/companies/china-construc...</td>\n",
              "    </tr>\n",
              "    <tr>\n",
              "      <th>2</th>\n",
              "      <td>Agricultural Bank of China</td>\n",
              "      <td>Financials</td>\n",
              "      <td>Regional Banks</td>\n",
              "      <td>Asia</td>\n",
              "      <td>China</td>\n",
              "      <td>141.1</td>\n",
              "      <td>136.4</td>\n",
              "      <td>27.0</td>\n",
              "      <td>2405.4</td>\n",
              "      <td>3</td>\n",
              "      <td>http://www.forbes.com/companies/agricultural-b...</td>\n",
              "    </tr>\n",
              "    <tr>\n",
              "      <th>3</th>\n",
              "      <td>JPMorgan Chase</td>\n",
              "      <td>Financials</td>\n",
              "      <td>Major Banks</td>\n",
              "      <td>North America</td>\n",
              "      <td>United States</td>\n",
              "      <td>229.7</td>\n",
              "      <td>105.7</td>\n",
              "      <td>17.3</td>\n",
              "      <td>2435.3</td>\n",
              "      <td>4</td>\n",
              "      <td>http://www.forbes.com/companies/jpmorgan-chase/</td>\n",
              "    </tr>\n",
              "    <tr>\n",
              "      <th>4</th>\n",
              "      <td>Berkshire Hathaway</td>\n",
              "      <td>Financials</td>\n",
              "      <td>Investment Services</td>\n",
              "      <td>North America</td>\n",
              "      <td>United States</td>\n",
              "      <td>309.1</td>\n",
              "      <td>178.8</td>\n",
              "      <td>19.5</td>\n",
              "      <td>493.4</td>\n",
              "      <td>5</td>\n",
              "      <td>http://www.forbes.com/companies/berkshire-hath...</td>\n",
              "    </tr>\n",
              "  </tbody>\n",
              "</table>\n",
              "</div>"
            ],
            "text/plain": [
              "                      company  ...                                      forbeswebpage\n",
              "0                        ICBC  ...              http://www.forbes.com/companies/icbc/\n",
              "1     China Construction Bank  ...  http://www.forbes.com/companies/china-construc...\n",
              "2  Agricultural Bank of China  ...  http://www.forbes.com/companies/agricultural-b...\n",
              "3              JPMorgan Chase  ...    http://www.forbes.com/companies/jpmorgan-chase/\n",
              "4          Berkshire Hathaway  ...  http://www.forbes.com/companies/berkshire-hath...\n",
              "\n",
              "[5 rows x 11 columns]"
            ]
          },
          "metadata": {
            "tags": []
          },
          "execution_count": 62
        }
      ]
    },
    {
      "cell_type": "markdown",
      "metadata": {
        "id": "mp4yrA7fEDn6",
        "colab_type": "text"
      },
      "source": [
        "#### Exercise 1\n",
        "\n",
        "Show me the geometric mean marketvalue per contintent.\n",
        "\n",
        "Hint: GroupBy objects have an `apply` method."
      ]
    },
    {
      "cell_type": "code",
      "metadata": {
        "id": "UebV6FkvEDn7",
        "colab_type": "code",
        "colab": {
          "base_uri": "https://localhost:8080/",
          "height": 190
        },
        "outputId": "8d3f964f-08b6-458d-8426-9bccca71ab43"
      },
      "source": [
        "#scp_stats.gmean(sat_scores[\"sat_writing\"])\n",
        "forbes_global.groupby('continent').apply(lambda grp: scp_stats.gmean(grp.marketvalue))\n"
      ],
      "execution_count": 67,
      "outputs": [
        {
          "output_type": "stream",
          "text": [
            "/usr/local/lib/python3.6/dist-packages/scipy/stats/stats.py:324: RuntimeWarning: divide by zero encountered in log\n",
            "  log_a = np.log(np.array(a, dtype=dtype))\n"
          ],
          "name": "stderr"
        },
        {
          "output_type": "execute_result",
          "data": {
            "text/plain": [
              "continent\n",
              "Africa            0.000000\n",
              "Asia              0.000000\n",
              "Australia        14.435557\n",
              "Europe           13.446678\n",
              "North America    16.545232\n",
              "South America    10.409348\n",
              "dtype: float64"
            ]
          },
          "metadata": {
            "tags": []
          },
          "execution_count": 67
        }
      ]
    },
    {
      "cell_type": "markdown",
      "metadata": {
        "id": "GCbTlk1TEDoA",
        "colab_type": "text"
      },
      "source": [
        "#### Exercise 2\n",
        "\n",
        "What is the range of sales per sector."
      ]
    },
    {
      "cell_type": "code",
      "metadata": {
        "id": "4_GqCvVUEDoA",
        "colab_type": "code",
        "colab": {
          "base_uri": "https://localhost:8080/",
          "height": 225
        },
        "outputId": "a51e6388-ce3f-4ee9-a268-eb844b3f3b00"
      },
      "source": [
        "forbes_global.groupby('sector')['sales'].max()"
      ],
      "execution_count": 73,
      "outputs": [
        {
          "output_type": "execute_result",
          "data": {
            "text/plain": [
              "sector\n",
              "Consumer Discretionary        476.5\n",
              "Consumer Staples              126.8\n",
              "Energy                        451.4\n",
              "Financials                    178.8\n",
              "Health Care                   130.1\n",
              "Industrials                   143.3\n",
              "Information Technology        208.9\n",
              "Materials                     232.6\n",
              "Telecommunication Services    128.8\n",
              "Utilities                     162.6\n",
              "Name: sales, dtype: float64"
            ]
          },
          "metadata": {
            "tags": []
          },
          "execution_count": 73
        }
      ]
    },
    {
      "cell_type": "code",
      "metadata": {
        "id": "a_Om37vxR9O-",
        "colab_type": "code",
        "colab": {
          "base_uri": "https://localhost:8080/",
          "height": 225
        },
        "outputId": "f0d74565-4b47-4835-ffe6-161d483fe5ed"
      },
      "source": [
        "forbes_global.groupby('sector')['sales'].min()"
      ],
      "execution_count": 74,
      "outputs": [
        {
          "output_type": "execute_result",
          "data": {
            "text/plain": [
              "sector\n",
              "Consumer Discretionary        0.0\n",
              "Consumer Staples              1.6\n",
              "Energy                        1.7\n",
              "Financials                    0.0\n",
              "Health Care                   1.2\n",
              "Industrials                   1.2\n",
              "Information Technology        0.7\n",
              "Materials                     0.7\n",
              "Telecommunication Services    2.9\n",
              "Utilities                     1.0\n",
              "Name: sales, dtype: float64"
            ]
          },
          "metadata": {
            "tags": []
          },
          "execution_count": 74
        }
      ]
    },
    {
      "cell_type": "code",
      "metadata": {
        "id": "5SWU4oBiSL7S",
        "colab_type": "code",
        "colab": {
          "base_uri": "https://localhost:8080/",
          "height": 225
        },
        "outputId": "e217cf0f-fceb-4957-b88e-4cde0eb70291"
      },
      "source": [
        "forbes_global.groupby('sector')['sales'].max() - forbes_global.groupby('sector')['sales'].min()"
      ],
      "execution_count": 75,
      "outputs": [
        {
          "output_type": "execute_result",
          "data": {
            "text/plain": [
              "sector\n",
              "Consumer Discretionary        476.5\n",
              "Consumer Staples              125.2\n",
              "Energy                        449.7\n",
              "Financials                    178.8\n",
              "Health Care                   128.9\n",
              "Industrials                   142.1\n",
              "Information Technology        208.2\n",
              "Materials                     231.9\n",
              "Telecommunication Services    125.9\n",
              "Utilities                     161.6\n",
              "Name: sales, dtype: float64"
            ]
          },
          "metadata": {
            "tags": []
          },
          "execution_count": 75
        }
      ]
    },
    {
      "cell_type": "markdown",
      "metadata": {
        "id": "8TtafqreEDoD",
        "colab_type": "text"
      },
      "source": [
        "#### Exercise 3\n",
        "\n",
        "What country has the smallest variance in profits?"
      ]
    },
    {
      "cell_type": "code",
      "metadata": {
        "id": "B6ahX6XdEDoE",
        "colab_type": "code",
        "colab": {}
      },
      "source": [
        "tmp=forbes_global.groupby('country')['profits'].std()**2"
      ],
      "execution_count": 0,
      "outputs": []
    },
    {
      "cell_type": "code",
      "metadata": {
        "id": "FMx9KeQqTL93",
        "colab_type": "code",
        "colab": {
          "base_uri": "https://localhost:8080/",
          "height": 34
        },
        "outputId": "46e47575-2d61-48ac-97a7-38f2987cec4e"
      },
      "source": [
        "type(tmp)"
      ],
      "execution_count": 80,
      "outputs": [
        {
          "output_type": "execute_result",
          "data": {
            "text/plain": [
              "pandas.core.series.Series"
            ]
          },
          "metadata": {
            "tags": []
          },
          "execution_count": 80
        }
      ]
    },
    {
      "cell_type": "code",
      "metadata": {
        "id": "X0tl9JfsTPtl",
        "colab_type": "code",
        "colab": {
          "base_uri": "https://localhost:8080/",
          "height": 34
        },
        "outputId": "7d0cea5e-838e-42a5-8564-4b18dfd75710"
      },
      "source": [
        "tmp.sort_values(ascending=True).idxmin()"
      ],
      "execution_count": 83,
      "outputs": [
        {
          "output_type": "execute_result",
          "data": {
            "text/plain": [
              "'Lebanon'"
            ]
          },
          "metadata": {
            "tags": []
          },
          "execution_count": 83
        }
      ]
    },
    {
      "cell_type": "markdown",
      "metadata": {
        "id": "XpazR0U0EDoH",
        "colab_type": "text"
      },
      "source": [
        "#### Exercise 4\n",
        "\n",
        "Show me the median values for us companies working in sectors Energy and Industrials."
      ]
    },
    {
      "cell_type": "code",
      "metadata": {
        "id": "o2z9e_FAUHuD",
        "colab_type": "code",
        "colab": {
          "base_uri": "https://localhost:8080/",
          "height": 86
        },
        "outputId": "0027f0cb-4e33-4451-ea7b-d80aa011afc5"
      },
      "source": [
        "forbes_global.sector.unique()"
      ],
      "execution_count": 84,
      "outputs": [
        {
          "output_type": "execute_result",
          "data": {
            "text/plain": [
              "array(['Financials', 'Energy', 'Industrials', 'Consumer Discretionary',\n",
              "       'Information Technology', 'Telecommunication Services',\n",
              "       'Consumer Staples', 'Health Care', 'Materials', 'Utilities', None],\n",
              "      dtype=object)"
            ]
          },
          "metadata": {
            "tags": []
          },
          "execution_count": 84
        }
      ]
    },
    {
      "cell_type": "code",
      "metadata": {
        "id": "iIYBb5ZrVLXz",
        "colab_type": "code",
        "colab": {
          "base_uri": "https://localhost:8080/",
          "height": 80
        },
        "outputId": "d6194db3-672c-4bcf-c3a3-b86577bb630f"
      },
      "source": [
        "forbes_global.head(1)"
      ],
      "execution_count": 92,
      "outputs": [
        {
          "output_type": "execute_result",
          "data": {
            "text/html": [
              "<div>\n",
              "<style scoped>\n",
              "    .dataframe tbody tr th:only-of-type {\n",
              "        vertical-align: middle;\n",
              "    }\n",
              "\n",
              "    .dataframe tbody tr th {\n",
              "        vertical-align: top;\n",
              "    }\n",
              "\n",
              "    .dataframe thead th {\n",
              "        text-align: right;\n",
              "    }\n",
              "</style>\n",
              "<table border=\"1\" class=\"dataframe\">\n",
              "  <thead>\n",
              "    <tr style=\"text-align: right;\">\n",
              "      <th></th>\n",
              "      <th>company</th>\n",
              "      <th>sector</th>\n",
              "      <th>industry</th>\n",
              "      <th>continent</th>\n",
              "      <th>country</th>\n",
              "      <th>marketvalue</th>\n",
              "      <th>sales</th>\n",
              "      <th>profits</th>\n",
              "      <th>assets</th>\n",
              "      <th>rank</th>\n",
              "      <th>forbeswebpage</th>\n",
              "    </tr>\n",
              "  </thead>\n",
              "  <tbody>\n",
              "    <tr>\n",
              "      <th>0</th>\n",
              "      <td>ICBC</td>\n",
              "      <td>Financials</td>\n",
              "      <td>Major Banks</td>\n",
              "      <td>Asia</td>\n",
              "      <td>China</td>\n",
              "      <td>215.6</td>\n",
              "      <td>148.7</td>\n",
              "      <td>42.7</td>\n",
              "      <td>3124.9</td>\n",
              "      <td>1</td>\n",
              "      <td>http://www.forbes.com/companies/icbc/</td>\n",
              "    </tr>\n",
              "  </tbody>\n",
              "</table>\n",
              "</div>"
            ],
            "text/plain": [
              "  company      sector  ... rank                          forbeswebpage\n",
              "0    ICBC  Financials  ...    1  http://www.forbes.com/companies/icbc/\n",
              "\n",
              "[1 rows x 11 columns]"
            ]
          },
          "metadata": {
            "tags": []
          },
          "execution_count": 92
        }
      ]
    },
    {
      "cell_type": "code",
      "metadata": {
        "id": "qBUIlkrFEDoJ",
        "colab_type": "code",
        "colab": {}
      },
      "source": [
        "tmp1=forbes_global[forbes_global.country=='United States']\n",
        "tmp1=tmp1[tmp1.sector.isin(['Energy','Industrials'])]"
      ],
      "execution_count": 0,
      "outputs": []
    },
    {
      "cell_type": "code",
      "metadata": {
        "id": "5DbBuf3OV-yD",
        "colab_type": "code",
        "colab": {
          "base_uri": "https://localhost:8080/",
          "height": 416
        },
        "outputId": "7c6ec3ba-272d-48f7-f9f9-fe9a235d1968"
      },
      "source": [
        "tmp1"
      ],
      "execution_count": 100,
      "outputs": [
        {
          "output_type": "execute_result",
          "data": {
            "text/html": [
              "<div>\n",
              "<style scoped>\n",
              "    .dataframe tbody tr th:only-of-type {\n",
              "        vertical-align: middle;\n",
              "    }\n",
              "\n",
              "    .dataframe tbody tr th {\n",
              "        vertical-align: top;\n",
              "    }\n",
              "\n",
              "    .dataframe thead th {\n",
              "        text-align: right;\n",
              "    }\n",
              "</style>\n",
              "<table border=\"1\" class=\"dataframe\">\n",
              "  <thead>\n",
              "    <tr style=\"text-align: right;\">\n",
              "      <th></th>\n",
              "      <th>company</th>\n",
              "      <th>sector</th>\n",
              "      <th>industry</th>\n",
              "      <th>continent</th>\n",
              "      <th>country</th>\n",
              "      <th>marketvalue</th>\n",
              "      <th>sales</th>\n",
              "      <th>profits</th>\n",
              "      <th>assets</th>\n",
              "      <th>rank</th>\n",
              "      <th>forbeswebpage</th>\n",
              "    </tr>\n",
              "  </thead>\n",
              "  <tbody>\n",
              "    <tr>\n",
              "      <th>5</th>\n",
              "      <td>Exxon Mobil</td>\n",
              "      <td>Energy</td>\n",
              "      <td>Oil &amp; Gas Operations</td>\n",
              "      <td>North America</td>\n",
              "      <td>United States</td>\n",
              "      <td>422.3</td>\n",
              "      <td>394.0</td>\n",
              "      <td>32.6</td>\n",
              "      <td>346.8</td>\n",
              "      <td>6</td>\n",
              "      <td>http://www.forbes.com/companies/exxon-mobil/</td>\n",
              "    </tr>\n",
              "    <tr>\n",
              "      <th>6</th>\n",
              "      <td>General Electric</td>\n",
              "      <td>Industrials</td>\n",
              "      <td>Conglomerates</td>\n",
              "      <td>North America</td>\n",
              "      <td>United States</td>\n",
              "      <td>259.6</td>\n",
              "      <td>143.3</td>\n",
              "      <td>14.8</td>\n",
              "      <td>656.6</td>\n",
              "      <td>7</td>\n",
              "      <td>http://www.forbes.com/companies/general-electric/</td>\n",
              "    </tr>\n",
              "    <tr>\n",
              "      <th>17</th>\n",
              "      <td>Chevron</td>\n",
              "      <td>Energy</td>\n",
              "      <td>Oil &amp; Gas Operations</td>\n",
              "      <td>North America</td>\n",
              "      <td>United States</td>\n",
              "      <td>227.2</td>\n",
              "      <td>211.8</td>\n",
              "      <td>21.4</td>\n",
              "      <td>253.8</td>\n",
              "      <td>18</td>\n",
              "      <td>http://www.forbes.com/companies/chevron/</td>\n",
              "    </tr>\n",
              "    <tr>\n",
              "      <th>76</th>\n",
              "      <td>ConocoPhillips</td>\n",
              "      <td>Energy</td>\n",
              "      <td>Oil &amp; Gas Operations</td>\n",
              "      <td>North America</td>\n",
              "      <td>United States</td>\n",
              "      <td>86.3</td>\n",
              "      <td>55.6</td>\n",
              "      <td>9.2</td>\n",
              "      <td>118.1</td>\n",
              "      <td>76</td>\n",
              "      <td>http://www.forbes.com/companies/conocophillips/</td>\n",
              "    </tr>\n",
              "    <tr>\n",
              "      <th>83</th>\n",
              "      <td>Boeing</td>\n",
              "      <td>Industrials</td>\n",
              "      <td>Aerospace &amp; Defense</td>\n",
              "      <td>North America</td>\n",
              "      <td>United States</td>\n",
              "      <td>95.3</td>\n",
              "      <td>86.6</td>\n",
              "      <td>4.6</td>\n",
              "      <td>92.7</td>\n",
              "      <td>84</td>\n",
              "      <td>http://www.forbes.com/companies/boeing/</td>\n",
              "    </tr>\n",
              "    <tr>\n",
              "      <th>...</th>\n",
              "      <td>...</td>\n",
              "      <td>...</td>\n",
              "      <td>...</td>\n",
              "      <td>...</td>\n",
              "      <td>...</td>\n",
              "      <td>...</td>\n",
              "      <td>...</td>\n",
              "      <td>...</td>\n",
              "      <td>...</td>\n",
              "      <td>...</td>\n",
              "      <td>...</td>\n",
              "    </tr>\n",
              "    <tr>\n",
              "      <th>1961</th>\n",
              "      <td>Western Refining</td>\n",
              "      <td>Energy</td>\n",
              "      <td>Oil &amp; Gas Operations</td>\n",
              "      <td>North America</td>\n",
              "      <td>United States</td>\n",
              "      <td>3.2</td>\n",
              "      <td>10.1</td>\n",
              "      <td>0.3</td>\n",
              "      <td>5.5</td>\n",
              "      <td>1961</td>\n",
              "      <td>http://www.forbes.com/companies/western-refining/</td>\n",
              "    </tr>\n",
              "    <tr>\n",
              "      <th>1965</th>\n",
              "      <td>Joy Global</td>\n",
              "      <td>Industrials</td>\n",
              "      <td>Heavy Equipment</td>\n",
              "      <td>North America</td>\n",
              "      <td>United States</td>\n",
              "      <td>5.8</td>\n",
              "      <td>4.7</td>\n",
              "      <td>0.4</td>\n",
              "      <td>5.5</td>\n",
              "      <td>1965</td>\n",
              "      <td>http://www.forbes.com/companies/joy-global/</td>\n",
              "    </tr>\n",
              "    <tr>\n",
              "      <th>1973</th>\n",
              "      <td>Oceaneering International</td>\n",
              "      <td>Energy</td>\n",
              "      <td>Oil Services &amp; Equipment</td>\n",
              "      <td>North America</td>\n",
              "      <td>United States</td>\n",
              "      <td>7.8</td>\n",
              "      <td>3.3</td>\n",
              "      <td>0.4</td>\n",
              "      <td>3.1</td>\n",
              "      <td>1973</td>\n",
              "      <td>http://www.forbes.com/companies/oceaneering-in...</td>\n",
              "    </tr>\n",
              "    <tr>\n",
              "      <th>1984</th>\n",
              "      <td>URS</td>\n",
              "      <td>Industrials</td>\n",
              "      <td>Construction Services</td>\n",
              "      <td>North America</td>\n",
              "      <td>United States</td>\n",
              "      <td>3.5</td>\n",
              "      <td>11.0</td>\n",
              "      <td>0.2</td>\n",
              "      <td>8.7</td>\n",
              "      <td>1985</td>\n",
              "      <td>http://www.forbes.com/companies/urs/</td>\n",
              "    </tr>\n",
              "    <tr>\n",
              "      <th>1985</th>\n",
              "      <td>Oshkosh</td>\n",
              "      <td>Industrials</td>\n",
              "      <td>Heavy Equipment</td>\n",
              "      <td>North America</td>\n",
              "      <td>United States</td>\n",
              "      <td>5.0</td>\n",
              "      <td>7.4</td>\n",
              "      <td>0.3</td>\n",
              "      <td>4.5</td>\n",
              "      <td>1986</td>\n",
              "      <td>http://www.forbes.com/companies/oshkosh/</td>\n",
              "    </tr>\n",
              "  </tbody>\n",
              "</table>\n",
              "<p>98 rows × 11 columns</p>\n",
              "</div>"
            ],
            "text/plain": [
              "                        company  ...                                      forbeswebpage\n",
              "5                   Exxon Mobil  ...       http://www.forbes.com/companies/exxon-mobil/\n",
              "6              General Electric  ...  http://www.forbes.com/companies/general-electric/\n",
              "17                      Chevron  ...           http://www.forbes.com/companies/chevron/\n",
              "76               ConocoPhillips  ...    http://www.forbes.com/companies/conocophillips/\n",
              "83                       Boeing  ...            http://www.forbes.com/companies/boeing/\n",
              "...                         ...  ...                                                ...\n",
              "1961           Western Refining  ...  http://www.forbes.com/companies/western-refining/\n",
              "1965                 Joy Global  ...        http://www.forbes.com/companies/joy-global/\n",
              "1973  Oceaneering International  ...  http://www.forbes.com/companies/oceaneering-in...\n",
              "1984                        URS  ...               http://www.forbes.com/companies/urs/\n",
              "1985                    Oshkosh  ...           http://www.forbes.com/companies/oshkosh/\n",
              "\n",
              "[98 rows x 11 columns]"
            ]
          },
          "metadata": {
            "tags": []
          },
          "execution_count": 100
        }
      ]
    },
    {
      "cell_type": "code",
      "metadata": {
        "id": "FH6Is3wPWD1q",
        "colab_type": "code",
        "colab": {
          "base_uri": "https://localhost:8080/",
          "height": 121
        },
        "outputId": "7cc7c2d8-72f6-4060-ca00-1ee649d42900"
      },
      "source": [
        "tmp1.median()"
      ],
      "execution_count": 101,
      "outputs": [
        {
          "output_type": "execute_result",
          "data": {
            "text/plain": [
              "marketvalue     17.40\n",
              "sales           12.95\n",
              "profits          0.80\n",
              "assets          18.80\n",
              "rank           755.00\n",
              "dtype: float64"
            ]
          },
          "metadata": {
            "tags": []
          },
          "execution_count": 101
        }
      ]
    },
    {
      "cell_type": "markdown",
      "metadata": {
        "id": "r7BwBfzNEDoO",
        "colab_type": "text"
      },
      "source": [
        "#### Exercise 5\n",
        "\n",
        "What is the interquartile range for assets globally? What is the country with most companies (the mode of the `country` column) "
      ]
    },
    {
      "cell_type": "code",
      "metadata": {
        "id": "AL_T_XpbEDoP",
        "colab_type": "code",
        "colab": {
          "base_uri": "https://localhost:8080/",
          "height": 202
        },
        "outputId": "414af329-f225-4b23-f822-011fe0d47f01"
      },
      "source": [
        "forbes_global.head()"
      ],
      "execution_count": 102,
      "outputs": [
        {
          "output_type": "execute_result",
          "data": {
            "text/html": [
              "<div>\n",
              "<style scoped>\n",
              "    .dataframe tbody tr th:only-of-type {\n",
              "        vertical-align: middle;\n",
              "    }\n",
              "\n",
              "    .dataframe tbody tr th {\n",
              "        vertical-align: top;\n",
              "    }\n",
              "\n",
              "    .dataframe thead th {\n",
              "        text-align: right;\n",
              "    }\n",
              "</style>\n",
              "<table border=\"1\" class=\"dataframe\">\n",
              "  <thead>\n",
              "    <tr style=\"text-align: right;\">\n",
              "      <th></th>\n",
              "      <th>company</th>\n",
              "      <th>sector</th>\n",
              "      <th>industry</th>\n",
              "      <th>continent</th>\n",
              "      <th>country</th>\n",
              "      <th>marketvalue</th>\n",
              "      <th>sales</th>\n",
              "      <th>profits</th>\n",
              "      <th>assets</th>\n",
              "      <th>rank</th>\n",
              "      <th>forbeswebpage</th>\n",
              "    </tr>\n",
              "  </thead>\n",
              "  <tbody>\n",
              "    <tr>\n",
              "      <th>0</th>\n",
              "      <td>ICBC</td>\n",
              "      <td>Financials</td>\n",
              "      <td>Major Banks</td>\n",
              "      <td>Asia</td>\n",
              "      <td>China</td>\n",
              "      <td>215.6</td>\n",
              "      <td>148.7</td>\n",
              "      <td>42.7</td>\n",
              "      <td>3124.9</td>\n",
              "      <td>1</td>\n",
              "      <td>http://www.forbes.com/companies/icbc/</td>\n",
              "    </tr>\n",
              "    <tr>\n",
              "      <th>1</th>\n",
              "      <td>China Construction Bank</td>\n",
              "      <td>Financials</td>\n",
              "      <td>Regional Banks</td>\n",
              "      <td>Asia</td>\n",
              "      <td>China</td>\n",
              "      <td>174.4</td>\n",
              "      <td>121.3</td>\n",
              "      <td>34.2</td>\n",
              "      <td>2449.5</td>\n",
              "      <td>2</td>\n",
              "      <td>http://www.forbes.com/companies/china-construc...</td>\n",
              "    </tr>\n",
              "    <tr>\n",
              "      <th>2</th>\n",
              "      <td>Agricultural Bank of China</td>\n",
              "      <td>Financials</td>\n",
              "      <td>Regional Banks</td>\n",
              "      <td>Asia</td>\n",
              "      <td>China</td>\n",
              "      <td>141.1</td>\n",
              "      <td>136.4</td>\n",
              "      <td>27.0</td>\n",
              "      <td>2405.4</td>\n",
              "      <td>3</td>\n",
              "      <td>http://www.forbes.com/companies/agricultural-b...</td>\n",
              "    </tr>\n",
              "    <tr>\n",
              "      <th>3</th>\n",
              "      <td>JPMorgan Chase</td>\n",
              "      <td>Financials</td>\n",
              "      <td>Major Banks</td>\n",
              "      <td>North America</td>\n",
              "      <td>United States</td>\n",
              "      <td>229.7</td>\n",
              "      <td>105.7</td>\n",
              "      <td>17.3</td>\n",
              "      <td>2435.3</td>\n",
              "      <td>4</td>\n",
              "      <td>http://www.forbes.com/companies/jpmorgan-chase/</td>\n",
              "    </tr>\n",
              "    <tr>\n",
              "      <th>4</th>\n",
              "      <td>Berkshire Hathaway</td>\n",
              "      <td>Financials</td>\n",
              "      <td>Investment Services</td>\n",
              "      <td>North America</td>\n",
              "      <td>United States</td>\n",
              "      <td>309.1</td>\n",
              "      <td>178.8</td>\n",
              "      <td>19.5</td>\n",
              "      <td>493.4</td>\n",
              "      <td>5</td>\n",
              "      <td>http://www.forbes.com/companies/berkshire-hath...</td>\n",
              "    </tr>\n",
              "  </tbody>\n",
              "</table>\n",
              "</div>"
            ],
            "text/plain": [
              "                      company  ...                                      forbeswebpage\n",
              "0                        ICBC  ...              http://www.forbes.com/companies/icbc/\n",
              "1     China Construction Bank  ...  http://www.forbes.com/companies/china-construc...\n",
              "2  Agricultural Bank of China  ...  http://www.forbes.com/companies/agricultural-b...\n",
              "3              JPMorgan Chase  ...    http://www.forbes.com/companies/jpmorgan-chase/\n",
              "4          Berkshire Hathaway  ...  http://www.forbes.com/companies/berkshire-hath...\n",
              "\n",
              "[5 rows x 11 columns]"
            ]
          },
          "metadata": {
            "tags": []
          },
          "execution_count": 102
        }
      ]
    },
    {
      "cell_type": "code",
      "metadata": {
        "id": "zC5lpS0AXVwo",
        "colab_type": "code",
        "colab": {
          "base_uri": "https://localhost:8080/",
          "height": 34
        },
        "outputId": "52cea208-bfcc-430c-856f-400a315e7d56"
      },
      "source": [
        "Q1=forbes_global.assets.quantile(0.25)\n",
        "Q3=forbes_global.assets.quantile(0.75)\n",
        "IQR=Q3-Q1\n",
        "IQR"
      ],
      "execution_count": 103,
      "outputs": [
        {
          "output_type": "execute_result",
          "data": {
            "text/plain": [
              "36.400000000000006"
            ]
          },
          "metadata": {
            "tags": []
          },
          "execution_count": 103
        }
      ]
    },
    {
      "cell_type": "code",
      "metadata": {
        "id": "0YbLNf7lXmCQ",
        "colab_type": "code",
        "colab": {
          "base_uri": "https://localhost:8080/",
          "height": 225
        },
        "outputId": "7cffb728-bcce-4cee-d922-f2987f08c38f"
      },
      "source": [
        "forbes_global.company.mode()"
      ],
      "execution_count": 110,
      "outputs": [
        {
          "output_type": "execute_result",
          "data": {
            "text/plain": [
              "0                            3M\n",
              "1                       77 Bank\n",
              "2                           A2A\n",
              "3                           ABB\n",
              "4                           ACE\n",
              "                 ...           \n",
              "1995           Zodiac Aerospace\n",
              "1996                     Zoetis\n",
              "1997    Zoomlion Heavy Industry\n",
              "1998     Zurich Insurance Group\n",
              "1999                       eBay\n",
              "Length: 2000, dtype: object"
            ]
          },
          "metadata": {
            "tags": []
          },
          "execution_count": 110
        }
      ]
    },
    {
      "cell_type": "code",
      "metadata": {
        "id": "3CQXfRAyYSZP",
        "colab_type": "code",
        "colab": {
          "base_uri": "https://localhost:8080/",
          "height": 446
        },
        "outputId": "78a15cd7-ee8b-4c92-93bd-c4eed421be12"
      },
      "source": [
        "forbes_global.groupby('country').sum()"
      ],
      "execution_count": 112,
      "outputs": [
        {
          "output_type": "execute_result",
          "data": {
            "text/html": [
              "<div>\n",
              "<style scoped>\n",
              "    .dataframe tbody tr th:only-of-type {\n",
              "        vertical-align: middle;\n",
              "    }\n",
              "\n",
              "    .dataframe tbody tr th {\n",
              "        vertical-align: top;\n",
              "    }\n",
              "\n",
              "    .dataframe thead th {\n",
              "        text-align: right;\n",
              "    }\n",
              "</style>\n",
              "<table border=\"1\" class=\"dataframe\">\n",
              "  <thead>\n",
              "    <tr style=\"text-align: right;\">\n",
              "      <th></th>\n",
              "      <th>marketvalue</th>\n",
              "      <th>sales</th>\n",
              "      <th>profits</th>\n",
              "      <th>assets</th>\n",
              "      <th>rank</th>\n",
              "    </tr>\n",
              "    <tr>\n",
              "      <th>country</th>\n",
              "      <th></th>\n",
              "      <th></th>\n",
              "      <th></th>\n",
              "      <th></th>\n",
              "      <th></th>\n",
              "    </tr>\n",
              "  </thead>\n",
              "  <tbody>\n",
              "    <tr>\n",
              "      <th>Australia</th>\n",
              "      <td>1008.7</td>\n",
              "      <td>588.5</td>\n",
              "      <td>62.4</td>\n",
              "      <td>3801.1</td>\n",
              "      <td>33372</td>\n",
              "    </tr>\n",
              "    <tr>\n",
              "      <th>Austria</th>\n",
              "      <td>74.2</td>\n",
              "      <td>146.4</td>\n",
              "      <td>4.3</td>\n",
              "      <td>679.4</td>\n",
              "      <td>10700</td>\n",
              "    </tr>\n",
              "    <tr>\n",
              "      <th>Bahrain</th>\n",
              "      <td>6.3</td>\n",
              "      <td>2.7</td>\n",
              "      <td>0.8</td>\n",
              "      <td>59.2</td>\n",
              "      <td>3313</td>\n",
              "    </tr>\n",
              "    <tr>\n",
              "      <th>Belgium</th>\n",
              "      <td>264.9</td>\n",
              "      <td>164.9</td>\n",
              "      <td>18.9</td>\n",
              "      <td>1024.4</td>\n",
              "      <td>11046</td>\n",
              "    </tr>\n",
              "    <tr>\n",
              "      <th>Bermuda</th>\n",
              "      <td>66.8</td>\n",
              "      <td>39.8</td>\n",
              "      <td>7.7</td>\n",
              "      <td>153.0</td>\n",
              "      <td>11984</td>\n",
              "    </tr>\n",
              "    <tr>\n",
              "      <th>...</th>\n",
              "      <td>...</td>\n",
              "      <td>...</td>\n",
              "      <td>...</td>\n",
              "      <td>...</td>\n",
              "      <td>...</td>\n",
              "    </tr>\n",
              "    <tr>\n",
              "      <th>United Arab Emirates</th>\n",
              "      <td>157.4</td>\n",
              "      <td>46.1</td>\n",
              "      <td>9.4</td>\n",
              "      <td>499.0</td>\n",
              "      <td>15756</td>\n",
              "    </tr>\n",
              "    <tr>\n",
              "      <th>United Kingdom</th>\n",
              "      <td>2569.2</td>\n",
              "      <td>2076.8</td>\n",
              "      <td>145.3</td>\n",
              "      <td>14325.6</td>\n",
              "      <td>82519</td>\n",
              "    </tr>\n",
              "    <tr>\n",
              "      <th>United States</th>\n",
              "      <td>18219.1</td>\n",
              "      <td>11518.9</td>\n",
              "      <td>1141.3</td>\n",
              "      <td>37066.8</td>\n",
              "      <td>532628</td>\n",
              "    </tr>\n",
              "    <tr>\n",
              "      <th>Venezuela</th>\n",
              "      <td>25.7</td>\n",
              "      <td>5.7</td>\n",
              "      <td>1.5</td>\n",
              "      <td>55.5</td>\n",
              "      <td>2195</td>\n",
              "    </tr>\n",
              "    <tr>\n",
              "      <th>Vietnam</th>\n",
              "      <td>10.4</td>\n",
              "      <td>5.4</td>\n",
              "      <td>0.9</td>\n",
              "      <td>29.7</td>\n",
              "      <td>3504</td>\n",
              "    </tr>\n",
              "  </tbody>\n",
              "</table>\n",
              "<p>63 rows × 5 columns</p>\n",
              "</div>"
            ],
            "text/plain": [
              "                      marketvalue    sales  profits   assets    rank\n",
              "country                                                             \n",
              "Australia                  1008.7    588.5     62.4   3801.1   33372\n",
              "Austria                      74.2    146.4      4.3    679.4   10700\n",
              "Bahrain                       6.3      2.7      0.8     59.2    3313\n",
              "Belgium                     264.9    164.9     18.9   1024.4   11046\n",
              "Bermuda                      66.8     39.8      7.7    153.0   11984\n",
              "...                           ...      ...      ...      ...     ...\n",
              "United Arab Emirates        157.4     46.1      9.4    499.0   15756\n",
              "United Kingdom             2569.2   2076.8    145.3  14325.6   82519\n",
              "United States             18219.1  11518.9   1141.3  37066.8  532628\n",
              "Venezuela                    25.7      5.7      1.5     55.5    2195\n",
              "Vietnam                      10.4      5.4      0.9     29.7    3504\n",
              "\n",
              "[63 rows x 5 columns]"
            ]
          },
          "metadata": {
            "tags": []
          },
          "execution_count": 112
        }
      ]
    },
    {
      "cell_type": "code",
      "metadata": {
        "id": "dZ9Fnk3cYswB",
        "colab_type": "code",
        "colab": {
          "base_uri": "https://localhost:8080/",
          "height": 34
        },
        "outputId": "90a05dfc-5b6d-4fa1-ceb8-3404c8614630"
      },
      "source": [
        "mode_company = forbes_global.country.value_counts().idxmax()\n",
        "mode_company"
      ],
      "execution_count": 113,
      "outputs": [
        {
          "output_type": "execute_result",
          "data": {
            "text/plain": [
              "'United States'"
            ]
          },
          "metadata": {
            "tags": []
          },
          "execution_count": 113
        }
      ]
    },
    {
      "cell_type": "markdown",
      "metadata": {
        "id": "kK1CSAn1EDoQ",
        "colab_type": "text"
      },
      "source": [
        "#### Exercise 6\n",
        "\n",
        "Make a histogram of assets globally and ECDF plot for assets. Explain what do you see on these plots!"
      ]
    },
    {
      "cell_type": "code",
      "metadata": {
        "id": "5SCFrZvkEDoR",
        "colab_type": "code",
        "colab": {
          "base_uri": "https://localhost:8080/",
          "height": 560
        },
        "outputId": "6341e134-9fa9-492e-b5c6-401023e63567"
      },
      "source": [
        "plt.hist(forbes_global.assets.value_counts(),  bins=50, density=True)"
      ],
      "execution_count": 115,
      "outputs": [
        {
          "output_type": "execute_result",
          "data": {
            "text/plain": [
              "(array([1.96301925, 0.        , 0.        , 0.56568727, 0.        ,\n",
              "        0.        , 0.        , 0.3335022 , 0.        , 0.        ,\n",
              "        0.19419115, 0.        , 0.        , 0.        , 0.1266464 ,\n",
              "        0.        , 0.        , 0.13086795, 0.        , 0.        ,\n",
              "        0.        , 0.10553867, 0.        , 0.        , 0.        ,\n",
              "        0.0717663 , 0.        , 0.        , 0.02955083, 0.        ,\n",
              "        0.        , 0.        , 0.01688619, 0.        , 0.        ,\n",
              "        0.01266464, 0.        , 0.        , 0.        , 0.01688619,\n",
              "        0.        , 0.        , 0.        , 0.        , 0.        ,\n",
              "        0.        , 0.        , 0.        , 0.        , 0.00422155]),\n",
              " array([ 1.  ,  1.28,  1.56,  1.84,  2.12,  2.4 ,  2.68,  2.96,  3.24,\n",
              "         3.52,  3.8 ,  4.08,  4.36,  4.64,  4.92,  5.2 ,  5.48,  5.76,\n",
              "         6.04,  6.32,  6.6 ,  6.88,  7.16,  7.44,  7.72,  8.  ,  8.28,\n",
              "         8.56,  8.84,  9.12,  9.4 ,  9.68,  9.96, 10.24, 10.52, 10.8 ,\n",
              "        11.08, 11.36, 11.64, 11.92, 12.2 , 12.48, 12.76, 13.04, 13.32,\n",
              "        13.6 , 13.88, 14.16, 14.44, 14.72, 15.  ]),\n",
              " <a list of 50 Patch objects>)"
            ]
          },
          "metadata": {
            "tags": []
          },
          "execution_count": 115
        },
        {
          "output_type": "display_data",
          "data": {
            "image/png": "[encoded data removed]",
            "text/plain": [
              "<Figure size 432x288 with 1 Axes>"
            ]
          },
          "metadata": {
            "tags": []
          }
        }
      ]
    },
    {
      "cell_type": "code",
      "metadata": {
        "id": "IJTS_MFaEDoV",
        "colab_type": "code",
        "colab": {
          "base_uri": "https://localhost:8080/",
          "height": 34
        },
        "outputId": "ece4667a-dbe7-4731-ec29-b37f70c703ca"
      },
      "source": [
        "forbes_global_assets_cdf=ECDF(forbes_global.assets)\n",
        "forbes_global_assets_cdf"
      ],
      "execution_count": 116,
      "outputs": [
        {
          "output_type": "execute_result",
          "data": {
            "text/plain": [
              "<statsmodels.distributions.empirical_distribution.ECDF at 0x7fa6ceb91550>"
            ]
          },
          "metadata": {
            "tags": []
          },
          "execution_count": 116
        }
      ]
    },
    {
      "cell_type": "code",
      "metadata": {
        "id": "yXoxrbMeaD-U",
        "colab_type": "code",
        "colab": {
          "base_uri": "https://localhost:8080/",
          "height": 606
        },
        "outputId": "6e1383df-4b46-42dc-ea1a-64bb06567552"
      },
      "source": [
        "vals = forbes_global.assets.sort_values()\n",
        "\n",
        "plt.figure(figsize=(10, 10))\n",
        "plt.scatter(vals, vals / len(vals), marker='o', color='red')\n",
        "plt.xlabel(\"Assets [millions USD]\")\n",
        "plt.ylabel(\"Percentile [0-1]\")\n",
        "plt.show()"
      ],
      "execution_count": 117,
      "outputs": [
        {
          "output_type": "display_data",
          "data": {
            "image/png": "[encoded data removed]",
            "text/plain": [
              "<Figure size 720x720 with 1 Axes>"
            ]
          },
          "metadata": {
            "tags": []
          }
        }
      ]
    },
    {
      "cell_type": "markdown",
      "metadata": {
        "id": "038x6hPkEDoX",
        "colab_type": "text"
      },
      "source": [
        "#### Exercise 7\n",
        "\n",
        "Make a function from the empirical cumulative distribution function of assets and use it to tell me how much of the whole world assets are taken by assets less than 500 million USD.\n",
        "\n",
        "Hint: Use statsmodels and ECDF function."
      ]
    },
    {
      "cell_type": "code",
      "metadata": {
        "id": "UjpONTG5EDoY",
        "colab_type": "code",
        "colab": {
          "base_uri": "https://localhost:8080/",
          "height": 34
        },
        "outputId": "a5b10722-d4bb-468a-d704-9d50b8514191"
      },
      "source": [
        "forbes_global_assets_cdf=ECDF(forbes_global.assets)\n",
        "forbes_global_assets_cdf(500)*100"
      ],
      "execution_count": 120,
      "outputs": [
        {
          "output_type": "execute_result",
          "data": {
            "text/plain": [
              "96.89999999999999"
            ]
          },
          "metadata": {
            "tags": []
          },
          "execution_count": 120
        }
      ]
    },
    {
      "cell_type": "markdown",
      "metadata": {
        "id": "mM76ci-2EDoZ",
        "colab_type": "text"
      },
      "source": [
        "#### Exercise 8\n",
        "\n",
        "I believe that consumer discretionary and consumer staples sectors tend to have similar means in assets. Prove me or disprove me.  The significance level is 0.05\n",
        "\n",
        "Explain your proof in terms of the p-value. \n",
        "\n",
        "What is the effect of using pooled or unequal variance?\n",
        "\n",
        "Hint: Use the two-sample t-test."
      ]
    },
    {
      "cell_type": "code",
      "metadata": {
        "id": "KdcKkCWWEDob",
        "colab_type": "code",
        "colab": {
          "base_uri": "https://localhost:8080/",
          "height": 34
        },
        "outputId": "be59ea98-9a40-48f2-8696-68ddfba21308"
      },
      "source": [
        "cd = forbes_global[forbes_global.sector == 'Consumer Discretionary'].assets\n",
        "cs = forbes_global[forbes_global.sector == 'Consumer Staples'].assets\n",
        "\n",
        "_, p_value_pooled, _ = sm.stats.ttest_ind(cd, cs, value=0, usevar=\"pooled\") #for assumption of same mean\n",
        "\n",
        "_, p_value_sep, _    = sm.stats.ttest_ind(cd, cs, value=0, usevar=\"unequal\") #for assumption of different mean\n",
        "\n",
        "p_value_pooled, p_value_sep"
      ],
      "execution_count": 122,
      "outputs": [
        {
          "output_type": "execute_result",
          "data": {
            "text/plain": [
              "(0.35533202897099725, 0.2728663179973006)"
            ]
          },
          "metadata": {
            "tags": []
          },
          "execution_count": 122
        }
      ]
    },
    {
      "cell_type": "markdown",
      "metadata": {
        "id": "pKLs_RoyePa0",
        "colab_type": "text"
      },
      "source": [
        "p_value_pooled>p_value_sep, so same mean assumption seems True"
      ]
    },
    {
      "cell_type": "markdown",
      "metadata": {
        "id": "rp7jziMfEDod",
        "colab_type": "text"
      },
      "source": [
        "Looking at how both p-values are high we can accept the Null Hypothesis that the means are equal between these two sectors."
      ]
    },
    {
      "cell_type": "markdown",
      "metadata": {
        "id": "niFTLlCGEDoe",
        "colab_type": "text"
      },
      "source": [
        "#### Exercise 9\n",
        "\n",
        "What is the correlation coefficent between profits and assets globally? What does the calculated value mean?"
      ]
    },
    {
      "cell_type": "code",
      "metadata": {
        "id": "hEMW5rePEDof",
        "colab_type": "code",
        "colab": {
          "base_uri": "https://localhost:8080/",
          "height": 34
        },
        "outputId": "65d1dd02-c888-4b7c-dfe4-97850bc3afee"
      },
      "source": [
        "\n",
        "\n",
        "corr_coef, _ = scp_stats.pearsonr(forbes_global.assets, forbes_global.profits)\n",
        "\n",
        "corr_coef"
      ],
      "execution_count": 123,
      "outputs": [
        {
          "output_type": "execute_result",
          "data": {
            "text/plain": [
              "0.5518257385904095"
            ]
          },
          "metadata": {
            "tags": []
          },
          "execution_count": 123
        }
      ]
    },
    {
      "cell_type": "markdown",
      "metadata": {
        "id": "ZvldKuOuEDoj",
        "colab_type": "text"
      },
      "source": [
        "#### Exercise 10\n",
        "\n",
        "I believe sectors and countries are dependent on each other with some sectors doing better in some countries compared to others (for various factors like natural resources, education structure, innovativeness etc).\n",
        "\n",
        "Use a contigency table to validate this claim."
      ]
    },
    {
      "cell_type": "code",
      "metadata": {
        "id": "fKuEYe0rEDok",
        "colab_type": "code",
        "colab": {
          "base_uri": "https://localhost:8080/",
          "height": 34
        },
        "outputId": "f6ad5b27-9d17-4d4f-da7b-aecaf710421f"
      },
      "source": [
        "pd.crosstab(forbes_global[\"sector\"], forbes_global[\"country\"])\n",
        "\n",
        "table = sm.stats.Table(pd.crosstab(forbes_global[\"sector\"], forbes_global[\"country\"]))\n",
        "\n",
        "table.test_nominal_association().pvalue"
      ],
      "execution_count": 126,
      "outputs": [
        {
          "output_type": "execute_result",
          "data": {
            "text/plain": [
              "0.05784203695013512"
            ]
          },
          "metadata": {
            "tags": []
          },
          "execution_count": 126
        }
      ]
    },
    {
      "cell_type": "markdown",
      "metadata": {
        "id": "7j07l5jLfp0s",
        "colab_type": "text"
      },
      "source": [
        "pvalue>0.05, so assumption is wrong"
      ]
    }
  ]
}