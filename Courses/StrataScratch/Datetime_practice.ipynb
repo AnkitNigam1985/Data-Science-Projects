{
  "nbformat": 4,
  "nbformat_minor": 0,
  "metadata": {
    "colab": {
      "name": "Datetime_practice.ipynb",
      "provenance": [],
      "collapsed_sections": []
    },
    "kernelspec": {
      "display_name": "Python 3",
      "language": "python",
      "name": "python3"
    }
  },
  "cells": [
    {
      "cell_type": "markdown",
      "metadata": {
        "id": "ymmlkiuWgPzq",
        "colab_type": "text"
      },
      "source": [
        "![sslogo](https://github.com/stratascratch/stratascratch.github.io/raw/master/assets/sslogo.jpg)"
      ]
    },
    {
      "cell_type": "markdown",
      "metadata": {
        "id": "OlP0mwzPTj51",
        "colab_type": "text"
      },
      "source": [
        " # Datetime Package Solutions"
      ]
    },
    {
      "cell_type": "markdown",
      "metadata": {
        "id": "yGOhOL6jTj52",
        "colab_type": "text"
      },
      "source": [
        "### Import the datetime package.\n",
        "\n",
        "The documentation for this package is available at:\n",
        "- https://docs.python.org/3.7/library/datetime.html"
      ]
    },
    {
      "cell_type": "code",
      "metadata": {
        "id": "cMzO2WFxTj53",
        "colab_type": "code",
        "colab": {}
      },
      "source": [
        "import datetime as dt"
      ],
      "execution_count": 0,
      "outputs": []
    },
    {
      "cell_type": "markdown",
      "metadata": {
        "id": "eqXvhfmvTj55",
        "colab_type": "text"
      },
      "source": [
        "Use ipython magic to see function options. Type datetime. and press tab.  Highlight time and press enter.  Hit shift-tab"
      ]
    },
    {
      "cell_type": "code",
      "metadata": {
        "id": "gR3tHdDHTj56",
        "colab_type": "code",
        "outputId": "aeb3c15b-ef4d-472f-cc3b-d6113bd95a3b",
        "colab": {
          "base_uri": "https://localhost:8080/",
          "height": 34
        }
      },
      "source": [
        "dt.time"
      ],
      "execution_count": 2,
      "outputs": [
        {
          "output_type": "execute_result",
          "data": {
            "text/plain": [
              "datetime.time"
            ]
          },
          "metadata": {
            "tags": []
          },
          "execution_count": 2
        }
      ]
    },
    {
      "cell_type": "markdown",
      "metadata": {
        "id": "kfealoxHTj6A",
        "colab_type": "text"
      },
      "source": [
        "### Create an instance of a time.\n",
        "\n",
        "The arguments are hour, minute, second, microsecond in order. If you do not supply a value of 0 is assumed as the default. You can call dt.time() with no arguments to get 00:00:00"
      ]
    },
    {
      "cell_type": "code",
      "metadata": {
        "id": "vL0DIciSTj6A",
        "colab_type": "code",
        "outputId": "f1199068-a396-494c-8dba-d21b8a961193",
        "colab": {
          "base_uri": "https://localhost:8080/",
          "height": 121
        }
      },
      "source": [
        "print(\"1 Hour\")\n",
        "print (dt.time(1))\n",
        "\n",
        "print(\"2 and a half hour\")\n",
        "print(dt.time(2, 30))\n",
        "\n",
        "print(\"3 hours, 45 minutes and 30 seconds\")\n",
        "print(dt.time(3, 45, 30))"
      ],
      "execution_count": 3,
      "outputs": [
        {
          "output_type": "stream",
          "text": [
            "1 Hour\n",
            "01:00:00\n",
            "2 and a half hour\n",
            "02:30:00\n",
            "3 hours, 45 minutes and 30 seconds\n",
            "03:45:30\n"
          ],
          "name": "stdout"
        }
      ]
    },
    {
      "cell_type": "markdown",
      "metadata": {
        "id": "iL4XjeKaTj6E",
        "colab_type": "text"
      },
      "source": [
        "### Use the `dt.datetime.now` function to get the current datetime stamp.   "
      ]
    },
    {
      "cell_type": "code",
      "metadata": {
        "id": "OyLZPgc4Tj6E",
        "colab_type": "code",
        "outputId": "61071ec3-87fe-4ab5-d76a-9978a56ece9c",
        "colab": {
          "base_uri": "https://localhost:8080/",
          "height": 34
        }
      },
      "source": [
        "ts_now = dt.datetime.now()\n",
        "print(ts_now)"
      ],
      "execution_count": 4,
      "outputs": [
        {
          "output_type": "stream",
          "text": [
            "2019-12-29 19:46:56.547084\n"
          ],
          "name": "stdout"
        }
      ]
    },
    {
      "cell_type": "markdown",
      "metadata": {
        "id": "VYR7rc-dTj6J",
        "colab_type": "text"
      },
      "source": [
        "Extract the day from the timestamp"
      ]
    },
    {
      "cell_type": "code",
      "metadata": {
        "id": "FglSeAjWTj6K",
        "colab_type": "code",
        "outputId": "40a8bff9-5659-4fb3-9e56-ef49f59f3e96",
        "colab": {
          "base_uri": "https://localhost:8080/",
          "height": 34
        }
      },
      "source": [
        "print(ts_now.day)"
      ],
      "execution_count": 5,
      "outputs": [
        {
          "output_type": "stream",
          "text": [
            "29\n"
          ],
          "name": "stdout"
        }
      ]
    },
    {
      "cell_type": "markdown",
      "metadata": {
        "id": "6Kj4VxkdTj6Q",
        "colab_type": "text"
      },
      "source": [
        "Extract some other datetime elements"
      ]
    },
    {
      "cell_type": "code",
      "metadata": {
        "id": "BKnrPC6eTj6R",
        "colab_type": "code",
        "outputId": "b5f6f9a0-d839-469c-e09f-258ecc6e6cf4",
        "colab": {
          "base_uri": "https://localhost:8080/",
          "height": 104
        }
      },
      "source": [
        "print (ts_now.year)\n",
        "print (ts_now.month)\n",
        "print (ts_now.minute)\n",
        "print (ts_now.second)\n",
        "print (ts_now.microsecond)"
      ],
      "execution_count": 6,
      "outputs": [
        {
          "output_type": "stream",
          "text": [
            "2019\n",
            "12\n",
            "46\n",
            "56\n",
            "547084\n"
          ],
          "name": "stdout"
        }
      ]
    },
    {
      "cell_type": "markdown",
      "metadata": {
        "id": "pWquEnoXTj6W",
        "colab_type": "text"
      },
      "source": [
        "Create a timestamp for Christmas.\n",
        "\n",
        "Unlike the time object which can have all 0 values the datetime object must have at least year, month and day defined."
      ]
    },
    {
      "cell_type": "code",
      "metadata": {
        "id": "hCn6RFvqTj6Y",
        "colab_type": "code",
        "outputId": "c1e6fc23-e911-4ca6-c3fc-afa40588f12d",
        "colab": {
          "base_uri": "https://localhost:8080/",
          "height": 34
        }
      },
      "source": [
        "ts_xmas = dt.datetime(2018,12,25)\n",
        "print (ts_xmas)"
      ],
      "execution_count": 7,
      "outputs": [
        {
          "output_type": "stream",
          "text": [
            "2018-12-25 00:00:00\n"
          ],
          "name": "stdout"
        }
      ]
    },
    {
      "cell_type": "markdown",
      "metadata": {
        "id": "xq-65lpgTj6j",
        "colab_type": "text"
      },
      "source": [
        "### Do math with the timestamps.\n",
        "\n",
        "You can substract two points in time to get a dt.timedelta object which describes how far apart are they in number of days and hours."
      ]
    },
    {
      "cell_type": "code",
      "metadata": {
        "id": "Ph2vhaaQTj6k",
        "colab_type": "code",
        "outputId": "b4f49d18-cd56-431a-906f-dd4d22f19ae0",
        "colab": {
          "base_uri": "https://localhost:8080/",
          "height": 52
        }
      },
      "source": [
        "ts_diff = ts_xmas - ts_now\n",
        "print (ts_diff)\n",
        "print (type(ts_diff))"
      ],
      "execution_count": 8,
      "outputs": [
        {
          "output_type": "stream",
          "text": [
            "-370 days, 4:13:03.452916\n",
            "<class 'datetime.timedelta'>\n"
          ],
          "name": "stdout"
        }
      ]
    },
    {
      "cell_type": "markdown",
      "metadata": {
        "id": "mZidAjPvgP0l",
        "colab_type": "text"
      },
      "source": [
        "You can also create a timedelta value manually and add it some datetime object.\n",
        "\n",
        "For example to find out what day it will be in 45 days and 13 hours we can do:"
      ]
    },
    {
      "cell_type": "code",
      "metadata": {
        "id": "mFglW_TkgP0m",
        "colab_type": "code",
        "outputId": "ee3a5676-a292-4bf4-bf52-3b9109de50dc",
        "colab": {
          "base_uri": "https://localhost:8080/",
          "height": 34
        }
      },
      "source": [
        "today = dt.datetime.now()\n",
        "\n",
        "offset = dt.timedelta(days=45, hours=13)\n",
        "\n",
        "print(today + offset)"
      ],
      "execution_count": 9,
      "outputs": [
        {
          "output_type": "stream",
          "text": [
            "2020-02-13 08:52:58.453139\n"
          ],
          "name": "stdout"
        }
      ]
    },
    {
      "cell_type": "markdown",
      "metadata": {
        "id": "g0i1g6xDTj6p",
        "colab_type": "text"
      },
      "source": [
        "### Convert a string to datetime.\n",
        "\n",
        "To convert a string into a datetime we need to know the format of the string.\n",
        "In this example we show how to use with formats \"day/month/year\" and \"month-day-year\".\n",
        "\n",
        "The function of importance here is `strptime` in `dt.datetime` which is short for **str**ing **p**arse **time**.\n",
        "\n",
        "Its first argument is the datetime as a string and the second argument is the format.\n",
        "\n",
        "The formatting language is explained at:\n",
        "- https://docs.python.org/3.7/library/datetime.html#strftime-strptime-behavior\n",
        "\n",
        "In Short:\n",
        "- %Y stands for year\n",
        "- %d stands for day\n",
        "- %m stands for month\n",
        "- %H stands for hour\n",
        "- %M stands for minute\n",
        "- %S stands for second\n",
        "- Everything without % before it stays as it was (e.g. analytics data %Y-%m-%d is a valid format string) "
      ]
    },
    {
      "cell_type": "code",
      "metadata": {
        "id": "Z81J4GH1Tj6q",
        "colab_type": "code",
        "outputId": "319207c7-a222-4cc6-b7fc-06398b6d4890",
        "colab": {
          "base_uri": "https://localhost:8080/",
          "height": 104
        }
      },
      "source": [
        "date_str = \"01-10-2015\"\n",
        "date_ts = dt.datetime.strptime(date_str,\"%m-%d-%Y\")\n",
        "print (date_ts)\n",
        "print(\"---------------------------\")\n",
        "\n",
        "date_str = \"10/01/2015\"\n",
        "date_ts = dt.datetime.strptime(date_str,\"%d/%m/%Y\")\n",
        "print (date_ts)\n",
        "\n",
        "print(\"---------------------------\")\n",
        "print (type(date_ts))"
      ],
      "execution_count": 10,
      "outputs": [
        {
          "output_type": "stream",
          "text": [
            "2015-01-10 00:00:00\n",
            "---------------------------\n",
            "2015-01-10 00:00:00\n",
            "---------------------------\n",
            "<class 'datetime.datetime'>\n"
          ],
          "name": "stdout"
        }
      ]
    },
    {
      "cell_type": "markdown",
      "metadata": {
        "id": "UjWaIM9ITj6w",
        "colab_type": "text"
      },
      "source": [
        "### Convert a datetime object to a string\n",
        "\n",
        "We can use the parsing procedure in reverse. \n",
        "\n",
        "To convert a datetime as a string we use strftime with f standing for format.\n",
        "\n",
        "First argument is the datetime to convert to string and second is format string.\n",
        "\n",
        "The formatting language still remains the same."
      ]
    },
    {
      "cell_type": "code",
      "metadata": {
        "id": "hGCf0nkUTj6w",
        "colab_type": "code",
        "outputId": "32347d17-97d2-48f7-d772-0d75ca3cfd9c",
        "colab": {}
      },
      "source": [
        "new_date_str = dt.datetime.strftime(date_ts, \"%H:%M:%S %m-%d-%Y\")\n",
        "print (new_date_str)\n",
        "print (type(new_date_str))"
      ],
      "execution_count": 0,
      "outputs": [
        {
          "output_type": "stream",
          "text": [
            "00:00:00 01-10-2015\n",
            "<class 'str'>\n"
          ],
          "name": "stdout"
        }
      ]
    },
    {
      "cell_type": "markdown",
      "metadata": {
        "id": "egxMOcyqTj62",
        "colab_type": "text"
      },
      "source": [
        "### Exercises"
      ]
    },
    {
      "cell_type": "markdown",
      "metadata": {
        "id": "6VJs0x8qTj65",
        "colab_type": "text"
      },
      "source": [
        "#### 1. Create a variable called future with a datetime value of January 20, 2019 at 12:00pm"
      ]
    },
    {
      "cell_type": "code",
      "metadata": {
        "id": "G8YO1oQvTj66",
        "colab_type": "code",
        "colab": {
          "base_uri": "https://localhost:8080/",
          "height": 34
        },
        "outputId": "10a6098d-3e5c-4b1e-c225-1b327d384d62"
      },
      "source": [
        "future = dt.datetime(2019,1,20,12)\n",
        "print (future)"
      ],
      "execution_count": 21,
      "outputs": [
        {
          "output_type": "stream",
          "text": [
            "2019-01-20 12:00:00\n"
          ],
          "name": "stdout"
        }
      ]
    },
    {
      "cell_type": "code",
      "metadata": {
        "id": "Xp5elPuGTszU",
        "colab_type": "code",
        "colab": {
          "base_uri": "https://localhost:8080/",
          "height": 34
        },
        "outputId": "b7dbbff0-8ee3-4dda-ab3f-745afb93213c"
      },
      "source": [
        "type(future)"
      ],
      "execution_count": 22,
      "outputs": [
        {
          "output_type": "execute_result",
          "data": {
            "text/plain": [
              "datetime.datetime"
            ]
          },
          "metadata": {
            "tags": []
          },
          "execution_count": 22
        }
      ]
    },
    {
      "cell_type": "code",
      "metadata": {
        "id": "SvPg5sWUTwMF",
        "colab_type": "code",
        "colab": {
          "base_uri": "https://localhost:8080/",
          "height": 34
        },
        "outputId": "439b0be2-d22a-4c00-cada-a3b2a5c69b9a"
      },
      "source": [
        "future.strftime(\"%B %d, %Y, %r\")"
      ],
      "execution_count": 24,
      "outputs": [
        {
          "output_type": "execute_result",
          "data": {
            "text/plain": [
              "'January 20, 2019, 12:00:00 PM'"
            ]
          },
          "metadata": {
            "tags": []
          },
          "execution_count": 24
        }
      ]
    },
    {
      "cell_type": "markdown",
      "metadata": {
        "id": "jrycGAluTj69",
        "colab_type": "text"
      },
      "source": [
        "#### 2. Create a variable with a timedelta equal to the difference between future and now"
      ]
    },
    {
      "cell_type": "code",
      "metadata": {
        "id": "bou3Rh-fTj6-",
        "colab_type": "code",
        "colab": {
          "base_uri": "https://localhost:8080/",
          "height": 34
        },
        "outputId": "03ce1728-b939-4d0d-953a-93a8c9ccd7c6"
      },
      "source": [
        "today = dt.datetime.now()\n",
        "\n",
        "offset = dt.timedelta(days=45, hours=13)\n",
        "\n",
        "dtx=today + offset\n",
        "dtx"
      ],
      "execution_count": 26,
      "outputs": [
        {
          "output_type": "execute_result",
          "data": {
            "text/plain": [
              "datetime.datetime(2020, 2, 13, 9, 21, 35, 455211)"
            ]
          },
          "metadata": {
            "tags": []
          },
          "execution_count": 26
        }
      ]
    },
    {
      "cell_type": "markdown",
      "metadata": {
        "id": "5fruT61PTj7F",
        "colab_type": "text"
      },
      "source": [
        "#### 3. Print the number of seconds from the timedelta"
      ]
    },
    {
      "cell_type": "code",
      "metadata": {
        "id": "bbCj5L9jTj7G",
        "colab_type": "code",
        "colab": {
          "base_uri": "https://localhost:8080/",
          "height": 34
        },
        "outputId": "471e26c7-0702-4b10-9dab-477117bfe4e5"
      },
      "source": [
        "dtx.second"
      ],
      "execution_count": 30,
      "outputs": [
        {
          "output_type": "execute_result",
          "data": {
            "text/plain": [
              "35"
            ]
          },
          "metadata": {
            "tags": []
          },
          "execution_count": 30
        }
      ]
    },
    {
      "cell_type": "code",
      "metadata": {
        "id": "vvqhKY8ATj7I",
        "colab_type": "code",
        "colab": {}
      },
      "source": [
        ""
      ],
      "execution_count": 0,
      "outputs": []
    },
    {
      "cell_type": "code",
      "metadata": {
        "id": "7kevGcEXTj7L",
        "colab_type": "code",
        "colab": {}
      },
      "source": [
        ""
      ],
      "execution_count": 0,
      "outputs": []
    },
    {
      "cell_type": "markdown",
      "metadata": {
        "id": "PG8OM5DATj7P",
        "colab_type": "text"
      },
      "source": [
        "#### 4. Convert the following string into a datetime object\n",
        "\n",
        "'Jan 20, 2017 5pm'"
      ]
    },
    {
      "cell_type": "code",
      "metadata": {
        "id": "I1H9nmOZTj7S",
        "colab_type": "code",
        "colab": {
          "base_uri": "https://localhost:8080/",
          "height": 34
        },
        "outputId": "6e63b98a-3512-4591-dff4-c20aa380772f"
      },
      "source": [
        "stringtime=\"Jan 20, 2017 5pm\"\n",
        "dtx=dt.datetime.strptime(stringtime,\"%b %d, %Y %H%p\")\n",
        "dtx"
      ],
      "execution_count": 33,
      "outputs": [
        {
          "output_type": "execute_result",
          "data": {
            "text/plain": [
              "datetime.datetime(2017, 1, 20, 5, 0)"
            ]
          },
          "metadata": {
            "tags": []
          },
          "execution_count": 33
        }
      ]
    },
    {
      "cell_type": "code",
      "metadata": {
        "id": "Bn6UaY7kV9e1",
        "colab_type": "code",
        "colab": {
          "base_uri": "https://localhost:8080/",
          "height": 34
        },
        "outputId": "d586c1d9-eedb-4113-cd6c-c3a4855d11f3"
      },
      "source": [
        "dtx.date()"
      ],
      "execution_count": 35,
      "outputs": [
        {
          "output_type": "execute_result",
          "data": {
            "text/plain": [
              "datetime.date(2017, 1, 20)"
            ]
          },
          "metadata": {
            "tags": []
          },
          "execution_count": 35
        }
      ]
    },
    {
      "cell_type": "markdown",
      "metadata": {
        "id": "JDRNS_wNgP1R",
        "colab_type": "text"
      },
      "source": [
        "**5. You are given a list of dates. Find the date which is oldest. Print the number of seconds passed since that date to today**\n",
        "\n",
        "For example.\n",
        "\n",
        "datetime_list = ['25.08.1995 00:00:00', '22.07.1999 00:00:00', '01.01.2001 13:42:59', '13.12.2011 01:02:03']\n",
        "\n",
        "Oldest date is '25.08.1995 00:00:00'\n",
        "\n",
        "You also need to find the format yourself.\n",
        "\n",
        "Hint: You can get each datetime as total seconds since 1 AD and compare these values to find oldest date"
      ]
    },
    {
      "cell_type": "code",
      "metadata": {
        "id": "1EqQQHwbgP1S",
        "colab_type": "code",
        "colab": {}
      },
      "source": [
        "datetime_list = ['25.08.1995 00:00:00', '22.07.1999 00:00:00', '01.01.2001 13:42:59', '13.12.2011 01:02:03']"
      ],
      "execution_count": 0,
      "outputs": []
    },
    {
      "cell_type": "code",
      "metadata": {
        "id": "DS2mO6eGWEnE",
        "colab_type": "code",
        "colab": {
          "base_uri": "https://localhost:8080/",
          "height": 34
        },
        "outputId": "ee3ab6ce-ecc0-4dfb-cdb0-9e98aa67d7a2"
      },
      "source": [
        "import numpy as np\n",
        "dtx=[]\n",
        "for dtxstr in datetime_list:\n",
        "  dtx.append(dt.datetime.strptime(dtxstr, \"%d.%m.%Y %H:%M:%S\"))\n",
        "\n",
        "dtx=np.array(dtx)\n",
        "dtx.astype(np.datetime64)\n",
        "dtx.min()"
      ],
      "execution_count": 43,
      "outputs": [
        {
          "output_type": "execute_result",
          "data": {
            "text/plain": [
              "datetime.datetime(1995, 8, 25, 0, 0)"
            ]
          },
          "metadata": {
            "tags": []
          },
          "execution_count": 43
        }
      ]
    },
    {
      "cell_type": "code",
      "metadata": {
        "id": "MyWTgc3vXRmz",
        "colab_type": "code",
        "colab": {
          "base_uri": "https://localhost:8080/",
          "height": 34
        },
        "outputId": "9544b1ce-daf1-429c-841a-47d815d06b87"
      },
      "source": [
        "dtx.max()"
      ],
      "execution_count": 44,
      "outputs": [
        {
          "output_type": "execute_result",
          "data": {
            "text/plain": [
              "datetime.datetime(2011, 12, 13, 1, 2, 3)"
            ]
          },
          "metadata": {
            "tags": []
          },
          "execution_count": 44
        }
      ]
    },
    {
      "cell_type": "markdown",
      "metadata": {
        "id": "5RpTDbpMTj7U",
        "colab_type": "text"
      },
      "source": [
        "#### Bonus: \n",
        "Try converting strings to datetime objects and datetime objects back to strings.  What are some interesting datetime formats you can find in the documentation?"
      ]
    },
    {
      "cell_type": "code",
      "metadata": {
        "id": "ISl6gkTWTj7U",
        "colab_type": "code",
        "colab": {}
      },
      "source": [
        "example = dt.datetime(2017,12,15,17,30)"
      ],
      "execution_count": 0,
      "outputs": []
    },
    {
      "cell_type": "code",
      "metadata": {
        "id": "505ZTw5GTj7a",
        "colab_type": "code",
        "colab": {
          "base_uri": "https://localhost:8080/",
          "height": 34
        },
        "outputId": "060dc250-e227-4f9e-dcb4-445040ee0148"
      },
      "source": [
        "example.strftime(\"%B %d, %Y, %r\")"
      ],
      "execution_count": 47,
      "outputs": [
        {
          "output_type": "execute_result",
          "data": {
            "text/plain": [
              "'December 15, 2017, 05:30:00 PM'"
            ]
          },
          "metadata": {
            "tags": []
          },
          "execution_count": 47
        }
      ]
    }
  ]
}