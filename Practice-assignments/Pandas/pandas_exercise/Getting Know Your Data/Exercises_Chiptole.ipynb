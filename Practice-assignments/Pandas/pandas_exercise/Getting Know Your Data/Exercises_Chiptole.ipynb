{
  "nbformat": 4,
  "nbformat_minor": 0,
  "metadata": {
    "anaconda-cloud": {},
    "kernelspec": {
      "name": "python3",
      "display_name": "Python 3"
    },
    "colab": {
      "name": "Exercises_Chiptole.ipynb",
      "provenance": [],
      "collapsed_sections": []
    }
  },
  "cells": [
    {
      "cell_type": "markdown",
      "metadata": {
        "id": "k39YrJBGZNi7",
        "colab_type": "text"
      },
      "source": [
        "# Ex2 - Getting and Knowing your Data"
      ]
    },
    {
      "cell_type": "markdown",
      "metadata": {
        "id": "awfvFaXaZNjC",
        "colab_type": "text"
      },
      "source": [
        "This time we are going to pull data directly from the internet.\n",
        "Special thanks to: https://github.com/justmarkham for sharing the dataset and materials.\n",
        "\n",
        "### Step 1. Import the necessary libraries"
      ]
    },
    {
      "cell_type": "code",
      "metadata": {
        "id": "QMrHdj-RZNjI",
        "colab_type": "code",
        "colab": {}
      },
      "source": [
        "import numpy as np\n",
        "import pandas as pd"
      ],
      "execution_count": 0,
      "outputs": []
    },
    {
      "cell_type": "markdown",
      "metadata": {
        "id": "FU9jebFQZNjQ",
        "colab_type": "text"
      },
      "source": [
        "### Step 2. Import the dataset from this [address](https://raw.githubusercontent.com/justmarkham/DAT8/master/data/chipotle.tsv). "
      ]
    },
    {
      "cell_type": "code",
      "metadata": {
        "id": "wAhubXNwcCpe",
        "colab_type": "code",
        "colab": {}
      },
      "source": [
        "data_chiptole=pd.read_csv(\"https://raw.githubusercontent.com/justmarkham/DAT8/master/data/chipotle.tsv\", sep='\\t')"
      ],
      "execution_count": 0,
      "outputs": []
    },
    {
      "cell_type": "code",
      "metadata": {
        "id": "NvhM4z-Lc1bL",
        "colab_type": "code",
        "outputId": "fbbc9010-2126-4e3f-bdb8-f9abed624f5e",
        "colab": {
          "base_uri": "https://localhost:8080/",
          "height": 202
        }
      },
      "source": [
        "data_chiptole.head()"
      ],
      "execution_count": 0,
      "outputs": [
        {
          "output_type": "execute_result",
          "data": {
            "text/html": [
              "<div>\n",
              "<style scoped>\n",
              "    .dataframe tbody tr th:only-of-type {\n",
              "        vertical-align: middle;\n",
              "    }\n",
              "\n",
              "    .dataframe tbody tr th {\n",
              "        vertical-align: top;\n",
              "    }\n",
              "\n",
              "    .dataframe thead th {\n",
              "        text-align: right;\n",
              "    }\n",
              "</style>\n",
              "<table border=\"1\" class=\"dataframe\">\n",
              "  <thead>\n",
              "    <tr style=\"text-align: right;\">\n",
              "      <th></th>\n",
              "      <th>order_id</th>\n",
              "      <th>quantity</th>\n",
              "      <th>item_name</th>\n",
              "      <th>choice_description</th>\n",
              "      <th>item_price</th>\n",
              "    </tr>\n",
              "  </thead>\n",
              "  <tbody>\n",
              "    <tr>\n",
              "      <th>0</th>\n",
              "      <td>1</td>\n",
              "      <td>1</td>\n",
              "      <td>Chips and Fresh Tomato Salsa</td>\n",
              "      <td>NaN</td>\n",
              "      <td>$2.39</td>\n",
              "    </tr>\n",
              "    <tr>\n",
              "      <th>1</th>\n",
              "      <td>1</td>\n",
              "      <td>1</td>\n",
              "      <td>Izze</td>\n",
              "      <td>[Clementine]</td>\n",
              "      <td>$3.39</td>\n",
              "    </tr>\n",
              "    <tr>\n",
              "      <th>2</th>\n",
              "      <td>1</td>\n",
              "      <td>1</td>\n",
              "      <td>Nantucket Nectar</td>\n",
              "      <td>[Apple]</td>\n",
              "      <td>$3.39</td>\n",
              "    </tr>\n",
              "    <tr>\n",
              "      <th>3</th>\n",
              "      <td>1</td>\n",
              "      <td>1</td>\n",
              "      <td>Chips and Tomatillo-Green Chili Salsa</td>\n",
              "      <td>NaN</td>\n",
              "      <td>$2.39</td>\n",
              "    </tr>\n",
              "    <tr>\n",
              "      <th>4</th>\n",
              "      <td>2</td>\n",
              "      <td>2</td>\n",
              "      <td>Chicken Bowl</td>\n",
              "      <td>[Tomatillo-Red Chili Salsa (Hot), [Black Beans...</td>\n",
              "      <td>$16.98</td>\n",
              "    </tr>\n",
              "  </tbody>\n",
              "</table>\n",
              "</div>"
            ],
            "text/plain": [
              "   order_id  ...  item_price\n",
              "0         1  ...      $2.39 \n",
              "1         1  ...      $3.39 \n",
              "2         1  ...      $3.39 \n",
              "3         1  ...      $2.39 \n",
              "4         2  ...     $16.98 \n",
              "\n",
              "[5 rows x 5 columns]"
            ]
          },
          "metadata": {
            "tags": []
          },
          "execution_count": 23
        }
      ]
    },
    {
      "cell_type": "code",
      "metadata": {
        "id": "bw3jbbfmeTmP",
        "colab_type": "code",
        "outputId": "92e1cccf-38d8-4890-8507-62ac499e54c6",
        "colab": {
          "base_uri": "https://localhost:8080/",
          "height": 121
        }
      },
      "source": [
        "data_chiptole.dtypes"
      ],
      "execution_count": 0,
      "outputs": [
        {
          "output_type": "execute_result",
          "data": {
            "text/plain": [
              "order_id               int64\n",
              "quantity               int64\n",
              "item_name             object\n",
              "choice_description    object\n",
              "item_price            object\n",
              "dtype: object"
            ]
          },
          "metadata": {
            "tags": []
          },
          "execution_count": 24
        }
      ]
    },
    {
      "cell_type": "code",
      "metadata": {
        "id": "tQNrHY_wehSc",
        "colab_type": "code",
        "outputId": "50ca0182-f0b7-489d-c61b-689dcff131e6",
        "colab": {
          "base_uri": "https://localhost:8080/",
          "height": 69
        }
      },
      "source": [
        "data_chiptole.columns"
      ],
      "execution_count": 0,
      "outputs": [
        {
          "output_type": "execute_result",
          "data": {
            "text/plain": [
              "Index(['order_id', 'quantity', 'item_name', 'choice_description',\n",
              "       'item_price'],\n",
              "      dtype='object')"
            ]
          },
          "metadata": {
            "tags": []
          },
          "execution_count": 25
        }
      ]
    },
    {
      "cell_type": "code",
      "metadata": {
        "id": "1V5ByiItethl",
        "colab_type": "code",
        "outputId": "cb0a83a1-f9fa-4235-8c97-c318d0303793",
        "colab": {
          "base_uri": "https://localhost:8080/",
          "height": 190
        }
      },
      "source": [
        "data_chiptole.info()"
      ],
      "execution_count": 0,
      "outputs": [
        {
          "output_type": "stream",
          "text": [
            "<class 'pandas.core.frame.DataFrame'>\n",
            "RangeIndex: 4622 entries, 0 to 4621\n",
            "Data columns (total 5 columns):\n",
            "order_id              4622 non-null int64\n",
            "quantity              4622 non-null int64\n",
            "item_name             4622 non-null object\n",
            "choice_description    3376 non-null object\n",
            "item_price            4622 non-null object\n",
            "dtypes: int64(2), object(3)\n",
            "memory usage: 180.7+ KB\n"
          ],
          "name": "stdout"
        }
      ]
    },
    {
      "cell_type": "code",
      "metadata": {
        "id": "KJ1AkADDey-E",
        "colab_type": "code",
        "outputId": "1d4eaef2-4bdc-4e0f-c5db-07afdf30c6d6",
        "colab": {
          "base_uri": "https://localhost:8080/",
          "height": 110
        }
      },
      "source": [
        "data_chiptole.describe().T"
      ],
      "execution_count": 0,
      "outputs": [
        {
          "output_type": "execute_result",
          "data": {
            "text/html": [
              "<div>\n",
              "<style scoped>\n",
              "    .dataframe tbody tr th:only-of-type {\n",
              "        vertical-align: middle;\n",
              "    }\n",
              "\n",
              "    .dataframe tbody tr th {\n",
              "        vertical-align: top;\n",
              "    }\n",
              "\n",
              "    .dataframe thead th {\n",
              "        text-align: right;\n",
              "    }\n",
              "</style>\n",
              "<table border=\"1\" class=\"dataframe\">\n",
              "  <thead>\n",
              "    <tr style=\"text-align: right;\">\n",
              "      <th></th>\n",
              "      <th>count</th>\n",
              "      <th>mean</th>\n",
              "      <th>std</th>\n",
              "      <th>min</th>\n",
              "      <th>25%</th>\n",
              "      <th>50%</th>\n",
              "      <th>75%</th>\n",
              "      <th>max</th>\n",
              "    </tr>\n",
              "  </thead>\n",
              "  <tbody>\n",
              "    <tr>\n",
              "      <th>order_id</th>\n",
              "      <td>4622.0</td>\n",
              "      <td>927.254868</td>\n",
              "      <td>528.890796</td>\n",
              "      <td>1.0</td>\n",
              "      <td>477.25</td>\n",
              "      <td>926.0</td>\n",
              "      <td>1393.0</td>\n",
              "      <td>1834.0</td>\n",
              "    </tr>\n",
              "    <tr>\n",
              "      <th>quantity</th>\n",
              "      <td>4622.0</td>\n",
              "      <td>1.075725</td>\n",
              "      <td>0.410186</td>\n",
              "      <td>1.0</td>\n",
              "      <td>1.00</td>\n",
              "      <td>1.0</td>\n",
              "      <td>1.0</td>\n",
              "      <td>15.0</td>\n",
              "    </tr>\n",
              "  </tbody>\n",
              "</table>\n",
              "</div>"
            ],
            "text/plain": [
              "           count        mean         std  min     25%    50%     75%     max\n",
              "order_id  4622.0  927.254868  528.890796  1.0  477.25  926.0  1393.0  1834.0\n",
              "quantity  4622.0    1.075725    0.410186  1.0    1.00    1.0     1.0    15.0"
            ]
          },
          "metadata": {
            "tags": []
          },
          "execution_count": 29
        }
      ]
    },
    {
      "cell_type": "markdown",
      "metadata": {
        "id": "HTrxIVXCZNjU",
        "colab_type": "text"
      },
      "source": [
        "### Step 3. Assign it to a variable called chipo."
      ]
    },
    {
      "cell_type": "code",
      "metadata": {
        "id": "OSvu0uxRZNjX",
        "colab_type": "code",
        "colab": {}
      },
      "source": [
        "chipo=data_chiptole.copy()"
      ],
      "execution_count": 0,
      "outputs": []
    },
    {
      "cell_type": "code",
      "metadata": {
        "id": "Pi3mMSOrfb7I",
        "colab_type": "code",
        "outputId": "208314b7-5815-4ffb-a20c-691509ed9a15",
        "colab": {
          "base_uri": "https://localhost:8080/",
          "height": 202
        }
      },
      "source": [
        "chipo.head()"
      ],
      "execution_count": 0,
      "outputs": [
        {
          "output_type": "execute_result",
          "data": {
            "text/html": [
              "<div>\n",
              "<style scoped>\n",
              "    .dataframe tbody tr th:only-of-type {\n",
              "        vertical-align: middle;\n",
              "    }\n",
              "\n",
              "    .dataframe tbody tr th {\n",
              "        vertical-align: top;\n",
              "    }\n",
              "\n",
              "    .dataframe thead th {\n",
              "        text-align: right;\n",
              "    }\n",
              "</style>\n",
              "<table border=\"1\" class=\"dataframe\">\n",
              "  <thead>\n",
              "    <tr style=\"text-align: right;\">\n",
              "      <th></th>\n",
              "      <th>order_id</th>\n",
              "      <th>quantity</th>\n",
              "      <th>item_name</th>\n",
              "      <th>choice_description</th>\n",
              "      <th>item_price</th>\n",
              "    </tr>\n",
              "  </thead>\n",
              "  <tbody>\n",
              "    <tr>\n",
              "      <th>0</th>\n",
              "      <td>1</td>\n",
              "      <td>1</td>\n",
              "      <td>Chips and Fresh Tomato Salsa</td>\n",
              "      <td>NaN</td>\n",
              "      <td>$2.39</td>\n",
              "    </tr>\n",
              "    <tr>\n",
              "      <th>1</th>\n",
              "      <td>1</td>\n",
              "      <td>1</td>\n",
              "      <td>Izze</td>\n",
              "      <td>[Clementine]</td>\n",
              "      <td>$3.39</td>\n",
              "    </tr>\n",
              "    <tr>\n",
              "      <th>2</th>\n",
              "      <td>1</td>\n",
              "      <td>1</td>\n",
              "      <td>Nantucket Nectar</td>\n",
              "      <td>[Apple]</td>\n",
              "      <td>$3.39</td>\n",
              "    </tr>\n",
              "    <tr>\n",
              "      <th>3</th>\n",
              "      <td>1</td>\n",
              "      <td>1</td>\n",
              "      <td>Chips and Tomatillo-Green Chili Salsa</td>\n",
              "      <td>NaN</td>\n",
              "      <td>$2.39</td>\n",
              "    </tr>\n",
              "    <tr>\n",
              "      <th>4</th>\n",
              "      <td>2</td>\n",
              "      <td>2</td>\n",
              "      <td>Chicken Bowl</td>\n",
              "      <td>[Tomatillo-Red Chili Salsa (Hot), [Black Beans...</td>\n",
              "      <td>$16.98</td>\n",
              "    </tr>\n",
              "  </tbody>\n",
              "</table>\n",
              "</div>"
            ],
            "text/plain": [
              "   order_id  ...  item_price\n",
              "0         1  ...      $2.39 \n",
              "1         1  ...      $3.39 \n",
              "2         1  ...      $3.39 \n",
              "3         1  ...      $2.39 \n",
              "4         2  ...     $16.98 \n",
              "\n",
              "[5 rows x 5 columns]"
            ]
          },
          "metadata": {
            "tags": []
          },
          "execution_count": 31
        }
      ]
    },
    {
      "cell_type": "markdown",
      "metadata": {
        "id": "nV-VZQa0ZNje",
        "colab_type": "text"
      },
      "source": [
        "### Step 4. See the first 10 entries"
      ]
    },
    {
      "cell_type": "code",
      "metadata": {
        "scrolled": false,
        "id": "SX-QvPWmZNjj",
        "colab_type": "code",
        "outputId": "2d08a102-2fd8-422a-b806-6fc48dc522d5",
        "colab": {
          "base_uri": "https://localhost:8080/",
          "height": 356
        }
      },
      "source": [
        "chipo.head(10)"
      ],
      "execution_count": 0,
      "outputs": [
        {
          "output_type": "execute_result",
          "data": {
            "text/html": [
              "<div>\n",
              "<style scoped>\n",
              "    .dataframe tbody tr th:only-of-type {\n",
              "        vertical-align: middle;\n",
              "    }\n",
              "\n",
              "    .dataframe tbody tr th {\n",
              "        vertical-align: top;\n",
              "    }\n",
              "\n",
              "    .dataframe thead th {\n",
              "        text-align: right;\n",
              "    }\n",
              "</style>\n",
              "<table border=\"1\" class=\"dataframe\">\n",
              "  <thead>\n",
              "    <tr style=\"text-align: right;\">\n",
              "      <th></th>\n",
              "      <th>order_id</th>\n",
              "      <th>quantity</th>\n",
              "      <th>item_name</th>\n",
              "      <th>choice_description</th>\n",
              "      <th>item_price</th>\n",
              "    </tr>\n",
              "  </thead>\n",
              "  <tbody>\n",
              "    <tr>\n",
              "      <th>0</th>\n",
              "      <td>1</td>\n",
              "      <td>1</td>\n",
              "      <td>Chips and Fresh Tomato Salsa</td>\n",
              "      <td>NaN</td>\n",
              "      <td>$2.39</td>\n",
              "    </tr>\n",
              "    <tr>\n",
              "      <th>1</th>\n",
              "      <td>1</td>\n",
              "      <td>1</td>\n",
              "      <td>Izze</td>\n",
              "      <td>[Clementine]</td>\n",
              "      <td>$3.39</td>\n",
              "    </tr>\n",
              "    <tr>\n",
              "      <th>2</th>\n",
              "      <td>1</td>\n",
              "      <td>1</td>\n",
              "      <td>Nantucket Nectar</td>\n",
              "      <td>[Apple]</td>\n",
              "      <td>$3.39</td>\n",
              "    </tr>\n",
              "    <tr>\n",
              "      <th>3</th>\n",
              "      <td>1</td>\n",
              "      <td>1</td>\n",
              "      <td>Chips and Tomatillo-Green Chili Salsa</td>\n",
              "      <td>NaN</td>\n",
              "      <td>$2.39</td>\n",
              "    </tr>\n",
              "    <tr>\n",
              "      <th>4</th>\n",
              "      <td>2</td>\n",
              "      <td>2</td>\n",
              "      <td>Chicken Bowl</td>\n",
              "      <td>[Tomatillo-Red Chili Salsa (Hot), [Black Beans...</td>\n",
              "      <td>$16.98</td>\n",
              "    </tr>\n",
              "    <tr>\n",
              "      <th>5</th>\n",
              "      <td>3</td>\n",
              "      <td>1</td>\n",
              "      <td>Chicken Bowl</td>\n",
              "      <td>[Fresh Tomato Salsa (Mild), [Rice, Cheese, Sou...</td>\n",
              "      <td>$10.98</td>\n",
              "    </tr>\n",
              "    <tr>\n",
              "      <th>6</th>\n",
              "      <td>3</td>\n",
              "      <td>1</td>\n",
              "      <td>Side of Chips</td>\n",
              "      <td>NaN</td>\n",
              "      <td>$1.69</td>\n",
              "    </tr>\n",
              "    <tr>\n",
              "      <th>7</th>\n",
              "      <td>4</td>\n",
              "      <td>1</td>\n",
              "      <td>Steak Burrito</td>\n",
              "      <td>[Tomatillo Red Chili Salsa, [Fajita Vegetables...</td>\n",
              "      <td>$11.75</td>\n",
              "    </tr>\n",
              "    <tr>\n",
              "      <th>8</th>\n",
              "      <td>4</td>\n",
              "      <td>1</td>\n",
              "      <td>Steak Soft Tacos</td>\n",
              "      <td>[Tomatillo Green Chili Salsa, [Pinto Beans, Ch...</td>\n",
              "      <td>$9.25</td>\n",
              "    </tr>\n",
              "    <tr>\n",
              "      <th>9</th>\n",
              "      <td>5</td>\n",
              "      <td>1</td>\n",
              "      <td>Steak Burrito</td>\n",
              "      <td>[Fresh Tomato Salsa, [Rice, Black Beans, Pinto...</td>\n",
              "      <td>$9.25</td>\n",
              "    </tr>\n",
              "  </tbody>\n",
              "</table>\n",
              "</div>"
            ],
            "text/plain": [
              "   order_id  ...  item_price\n",
              "0         1  ...      $2.39 \n",
              "1         1  ...      $3.39 \n",
              "2         1  ...      $3.39 \n",
              "3         1  ...      $2.39 \n",
              "4         2  ...     $16.98 \n",
              "5         3  ...     $10.98 \n",
              "6         3  ...      $1.69 \n",
              "7         4  ...     $11.75 \n",
              "8         4  ...      $9.25 \n",
              "9         5  ...      $9.25 \n",
              "\n",
              "[10 rows x 5 columns]"
            ]
          },
          "metadata": {
            "tags": []
          },
          "execution_count": 32
        }
      ]
    },
    {
      "cell_type": "markdown",
      "metadata": {
        "id": "KDEUFhwsZNjs",
        "colab_type": "text"
      },
      "source": [
        "### Step 5. What is the number of observations in the dataset?"
      ]
    },
    {
      "cell_type": "code",
      "metadata": {
        "id": "uuz0GZ1cZNju",
        "colab_type": "code",
        "outputId": "2367158a-6ca4-4ee7-8f20-2dce291219b0",
        "colab": {
          "base_uri": "https://localhost:8080/",
          "height": 294
        }
      },
      "source": [
        "# Solution 1\n",
        "chipo.describe()\n"
      ],
      "execution_count": 0,
      "outputs": [
        {
          "output_type": "execute_result",
          "data": {
            "text/html": [
              "<div>\n",
              "<style scoped>\n",
              "    .dataframe tbody tr th:only-of-type {\n",
              "        vertical-align: middle;\n",
              "    }\n",
              "\n",
              "    .dataframe tbody tr th {\n",
              "        vertical-align: top;\n",
              "    }\n",
              "\n",
              "    .dataframe thead th {\n",
              "        text-align: right;\n",
              "    }\n",
              "</style>\n",
              "<table border=\"1\" class=\"dataframe\">\n",
              "  <thead>\n",
              "    <tr style=\"text-align: right;\">\n",
              "      <th></th>\n",
              "      <th>order_id</th>\n",
              "      <th>quantity</th>\n",
              "    </tr>\n",
              "  </thead>\n",
              "  <tbody>\n",
              "    <tr>\n",
              "      <th>count</th>\n",
              "      <td>4622.000000</td>\n",
              "      <td>4622.000000</td>\n",
              "    </tr>\n",
              "    <tr>\n",
              "      <th>mean</th>\n",
              "      <td>927.254868</td>\n",
              "      <td>1.075725</td>\n",
              "    </tr>\n",
              "    <tr>\n",
              "      <th>std</th>\n",
              "      <td>528.890796</td>\n",
              "      <td>0.410186</td>\n",
              "    </tr>\n",
              "    <tr>\n",
              "      <th>min</th>\n",
              "      <td>1.000000</td>\n",
              "      <td>1.000000</td>\n",
              "    </tr>\n",
              "    <tr>\n",
              "      <th>25%</th>\n",
              "      <td>477.250000</td>\n",
              "      <td>1.000000</td>\n",
              "    </tr>\n",
              "    <tr>\n",
              "      <th>50%</th>\n",
              "      <td>926.000000</td>\n",
              "      <td>1.000000</td>\n",
              "    </tr>\n",
              "    <tr>\n",
              "      <th>75%</th>\n",
              "      <td>1393.000000</td>\n",
              "      <td>1.000000</td>\n",
              "    </tr>\n",
              "    <tr>\n",
              "      <th>max</th>\n",
              "      <td>1834.000000</td>\n",
              "      <td>15.000000</td>\n",
              "    </tr>\n",
              "  </tbody>\n",
              "</table>\n",
              "</div>"
            ],
            "text/plain": [
              "          order_id     quantity\n",
              "count  4622.000000  4622.000000\n",
              "mean    927.254868     1.075725\n",
              "std     528.890796     0.410186\n",
              "min       1.000000     1.000000\n",
              "25%     477.250000     1.000000\n",
              "50%     926.000000     1.000000\n",
              "75%    1393.000000     1.000000\n",
              "max    1834.000000    15.000000"
            ]
          },
          "metadata": {
            "tags": []
          },
          "execution_count": 33
        }
      ]
    },
    {
      "cell_type": "code",
      "metadata": {
        "id": "5neOBO_TZNj4",
        "colab_type": "code",
        "outputId": "f06c019e-2253-48eb-9c68-5ba7cb5dc550",
        "colab": {
          "base_uri": "https://localhost:8080/",
          "height": 190
        }
      },
      "source": [
        "# Solution 2\n",
        "\n",
        "chipo.info()"
      ],
      "execution_count": 0,
      "outputs": [
        {
          "output_type": "stream",
          "text": [
            "<class 'pandas.core.frame.DataFrame'>\n",
            "RangeIndex: 4622 entries, 0 to 4621\n",
            "Data columns (total 5 columns):\n",
            "order_id              4622 non-null int64\n",
            "quantity              4622 non-null int64\n",
            "item_name             4622 non-null object\n",
            "choice_description    3376 non-null object\n",
            "item_price            4622 non-null object\n",
            "dtypes: int64(2), object(3)\n",
            "memory usage: 180.7+ KB\n"
          ],
          "name": "stdout"
        }
      ]
    },
    {
      "cell_type": "code",
      "metadata": {
        "id": "xsfFSRkMoSBn",
        "colab_type": "code",
        "outputId": "558f4012-e31e-4eec-bea9-ee3d24cf8cac",
        "colab": {
          "base_uri": "https://localhost:8080/",
          "height": 34
        }
      },
      "source": [
        "chipo.index"
      ],
      "execution_count": 0,
      "outputs": [
        {
          "output_type": "execute_result",
          "data": {
            "text/plain": [
              "RangeIndex(start=0, stop=4622, step=1)"
            ]
          },
          "metadata": {
            "tags": []
          },
          "execution_count": 37
        }
      ]
    },
    {
      "cell_type": "code",
      "metadata": {
        "id": "Xj74d7jooimm",
        "colab_type": "code",
        "outputId": "0446037d-f3c0-409b-aafd-b1ebb9b044e4",
        "colab": {
          "base_uri": "https://localhost:8080/",
          "height": 34
        }
      },
      "source": [
        "chipo.order_id.count()"
      ],
      "execution_count": 0,
      "outputs": [
        {
          "output_type": "execute_result",
          "data": {
            "text/plain": [
              "4622"
            ]
          },
          "metadata": {
            "tags": []
          },
          "execution_count": 38
        }
      ]
    },
    {
      "cell_type": "markdown",
      "metadata": {
        "id": "W1pFx9m9ZNj_",
        "colab_type": "text"
      },
      "source": [
        "### Step 6. What is the number of columns in the dataset?"
      ]
    },
    {
      "cell_type": "code",
      "metadata": {
        "id": "_HbPGJtnZNkB",
        "colab_type": "code",
        "outputId": "a33f52f2-2f48-4589-9ddd-bfaeda101387",
        "colab": {
          "base_uri": "https://localhost:8080/",
          "height": 69
        }
      },
      "source": [
        "chipo.columns"
      ],
      "execution_count": 0,
      "outputs": [
        {
          "output_type": "execute_result",
          "data": {
            "text/plain": [
              "Index(['order_id', 'quantity', 'item_name', 'choice_description',\n",
              "       'item_price'],\n",
              "      dtype='object')"
            ]
          },
          "metadata": {
            "tags": []
          },
          "execution_count": 39
        }
      ]
    },
    {
      "cell_type": "code",
      "metadata": {
        "id": "bBBoswdKowmi",
        "colab_type": "code",
        "outputId": "e32b680c-6e16-4010-b3ef-1897c386b323",
        "colab": {
          "base_uri": "https://localhost:8080/",
          "height": 34
        }
      },
      "source": [
        "len(chipo.columns)"
      ],
      "execution_count": 0,
      "outputs": [
        {
          "output_type": "execute_result",
          "data": {
            "text/plain": [
              "5"
            ]
          },
          "metadata": {
            "tags": []
          },
          "execution_count": 40
        }
      ]
    },
    {
      "cell_type": "markdown",
      "metadata": {
        "id": "m3pj980JZNkT",
        "colab_type": "text"
      },
      "source": [
        "### Step 7. Print the name of all the columns."
      ]
    },
    {
      "cell_type": "code",
      "metadata": {
        "id": "tsL6yKUzZNkW",
        "colab_type": "code",
        "outputId": "3dfc2f50-b3c0-48a0-fce8-49258b8cffa8",
        "colab": {
          "base_uri": "https://localhost:8080/",
          "height": 69
        }
      },
      "source": [
        "chipo.columns\n"
      ],
      "execution_count": 0,
      "outputs": [
        {
          "output_type": "execute_result",
          "data": {
            "text/plain": [
              "Index(['order_id', 'quantity', 'item_name', 'choice_description',\n",
              "       'item_price'],\n",
              "      dtype='object')"
            ]
          },
          "metadata": {
            "tags": []
          },
          "execution_count": 41
        }
      ]
    },
    {
      "cell_type": "markdown",
      "metadata": {
        "id": "64ZfdxmlZNkd",
        "colab_type": "text"
      },
      "source": [
        "### Step 8. How is the dataset indexed?"
      ]
    },
    {
      "cell_type": "code",
      "metadata": {
        "id": "_zzOTVSNZNkl",
        "colab_type": "code",
        "outputId": "be579d24-fd9b-4874-b1d3-107c98089442",
        "colab": {
          "base_uri": "https://localhost:8080/",
          "height": 34
        }
      },
      "source": [
        "chipo.index"
      ],
      "execution_count": 0,
      "outputs": [
        {
          "output_type": "execute_result",
          "data": {
            "text/plain": [
              "RangeIndex(start=0, stop=4622, step=1)"
            ]
          },
          "metadata": {
            "tags": []
          },
          "execution_count": 42
        }
      ]
    },
    {
      "cell_type": "markdown",
      "metadata": {
        "id": "5-PcwPbbZNkr",
        "colab_type": "text"
      },
      "source": [
        "### Step 9. Which was the most-ordered item? "
      ]
    },
    {
      "cell_type": "code",
      "metadata": {
        "id": "RV57zHLEZNkt",
        "colab_type": "code",
        "outputId": "18bba483-6209-443b-c413-fb95b5fa1af6",
        "colab": {
          "base_uri": "https://localhost:8080/",
          "height": 202
        }
      },
      "source": [
        "chipo.head()"
      ],
      "execution_count": 0,
      "outputs": [
        {
          "output_type": "execute_result",
          "data": {
            "text/html": [
              "<div>\n",
              "<style scoped>\n",
              "    .dataframe tbody tr th:only-of-type {\n",
              "        vertical-align: middle;\n",
              "    }\n",
              "\n",
              "    .dataframe tbody tr th {\n",
              "        vertical-align: top;\n",
              "    }\n",
              "\n",
              "    .dataframe thead th {\n",
              "        text-align: right;\n",
              "    }\n",
              "</style>\n",
              "<table border=\"1\" class=\"dataframe\">\n",
              "  <thead>\n",
              "    <tr style=\"text-align: right;\">\n",
              "      <th></th>\n",
              "      <th>order_id</th>\n",
              "      <th>quantity</th>\n",
              "      <th>item_name</th>\n",
              "      <th>choice_description</th>\n",
              "      <th>item_price</th>\n",
              "    </tr>\n",
              "  </thead>\n",
              "  <tbody>\n",
              "    <tr>\n",
              "      <th>0</th>\n",
              "      <td>1</td>\n",
              "      <td>1</td>\n",
              "      <td>Chips and Fresh Tomato Salsa</td>\n",
              "      <td>NaN</td>\n",
              "      <td>$2.39</td>\n",
              "    </tr>\n",
              "    <tr>\n",
              "      <th>1</th>\n",
              "      <td>1</td>\n",
              "      <td>1</td>\n",
              "      <td>Izze</td>\n",
              "      <td>[Clementine]</td>\n",
              "      <td>$3.39</td>\n",
              "    </tr>\n",
              "    <tr>\n",
              "      <th>2</th>\n",
              "      <td>1</td>\n",
              "      <td>1</td>\n",
              "      <td>Nantucket Nectar</td>\n",
              "      <td>[Apple]</td>\n",
              "      <td>$3.39</td>\n",
              "    </tr>\n",
              "    <tr>\n",
              "      <th>3</th>\n",
              "      <td>1</td>\n",
              "      <td>1</td>\n",
              "      <td>Chips and Tomatillo-Green Chili Salsa</td>\n",
              "      <td>NaN</td>\n",
              "      <td>$2.39</td>\n",
              "    </tr>\n",
              "    <tr>\n",
              "      <th>4</th>\n",
              "      <td>2</td>\n",
              "      <td>2</td>\n",
              "      <td>Chicken Bowl</td>\n",
              "      <td>[Tomatillo-Red Chili Salsa (Hot), [Black Beans...</td>\n",
              "      <td>$16.98</td>\n",
              "    </tr>\n",
              "  </tbody>\n",
              "</table>\n",
              "</div>"
            ],
            "text/plain": [
              "   order_id  ...  item_price\n",
              "0         1  ...      $2.39 \n",
              "1         1  ...      $3.39 \n",
              "2         1  ...      $3.39 \n",
              "3         1  ...      $2.39 \n",
              "4         2  ...     $16.98 \n",
              "\n",
              "[5 rows x 5 columns]"
            ]
          },
          "metadata": {
            "tags": []
          },
          "execution_count": 43
        }
      ]
    },
    {
      "cell_type": "code",
      "metadata": {
        "id": "UgZcPg2wpEXH",
        "colab_type": "code",
        "colab": {}
      },
      "source": [
        "item_info=chipo.groupby('item_name')['quantity'].sum().sort_values(ascending=False)"
      ],
      "execution_count": 0,
      "outputs": []
    },
    {
      "cell_type": "code",
      "metadata": {
        "id": "UdIpz1bfrUIw",
        "colab_type": "code",
        "outputId": "57c1fbfb-c60e-455a-b560-6e132c509045",
        "colab": {
          "base_uri": "https://localhost:8080/",
          "height": 34
        }
      },
      "source": [
        "item_info.idxmax()"
      ],
      "execution_count": 0,
      "outputs": [
        {
          "output_type": "execute_result",
          "data": {
            "text/plain": [
              "'Chicken Bowl'"
            ]
          },
          "metadata": {
            "tags": []
          },
          "execution_count": 72
        }
      ]
    },
    {
      "cell_type": "code",
      "metadata": {
        "id": "Vzj_SQyqBKlY",
        "colab_type": "code",
        "outputId": "f9f3ce55-e9ae-4833-f010-45be6420d563",
        "colab": {
          "base_uri": "https://localhost:8080/",
          "height": 34
        }
      },
      "source": [
        "type(item_info.idxmax())"
      ],
      "execution_count": 0,
      "outputs": [
        {
          "output_type": "execute_result",
          "data": {
            "text/plain": [
              "str"
            ]
          },
          "metadata": {
            "tags": []
          },
          "execution_count": 119
        }
      ]
    },
    {
      "cell_type": "markdown",
      "metadata": {
        "id": "69Ab9y4qZNkz",
        "colab_type": "text"
      },
      "source": [
        "### Step 10. For the most-ordered item, how many items were ordered?"
      ]
    },
    {
      "cell_type": "code",
      "metadata": {
        "id": "YpKX0A-8BEDg",
        "colab_type": "code",
        "colab": {}
      },
      "source": [
        "x=chipo[chipo.item_name==item_info.idxmax()]"
      ],
      "execution_count": 0,
      "outputs": []
    },
    {
      "cell_type": "code",
      "metadata": {
        "id": "nWbkSUPQBT98",
        "colab_type": "code",
        "outputId": "d2d31484-77bd-4aac-a7a1-6262e3a5ad0c",
        "colab": {
          "base_uri": "https://localhost:8080/",
          "height": 34
        }
      },
      "source": [
        "x.quantity.sum()"
      ],
      "execution_count": 0,
      "outputs": [
        {
          "output_type": "execute_result",
          "data": {
            "text/plain": [
              "761"
            ]
          },
          "metadata": {
            "tags": []
          },
          "execution_count": 121
        }
      ]
    },
    {
      "cell_type": "code",
      "metadata": {
        "id": "Q8pGO4AKZNk6",
        "colab_type": "code",
        "outputId": "333dbd94-2bd6-45fe-c88b-847b79af41f9",
        "colab": {
          "base_uri": "https://localhost:8080/",
          "height": 34
        }
      },
      "source": [
        "item_info[item_info.idxmax()]"
      ],
      "execution_count": 0,
      "outputs": [
        {
          "output_type": "execute_result",
          "data": {
            "text/plain": [
              "761"
            ]
          },
          "metadata": {
            "tags": []
          },
          "execution_count": 73
        }
      ]
    },
    {
      "cell_type": "markdown",
      "metadata": {
        "id": "CFBu3646ZNlH",
        "colab_type": "text"
      },
      "source": [
        "### Step 11. What was the most ordered item in the choice_description column?"
      ]
    },
    {
      "cell_type": "code",
      "metadata": {
        "id": "QaztPedIZNlJ",
        "colab_type": "code",
        "outputId": "0b3a8de5-0eaa-4794-c850-fdc07b85a0c8",
        "colab": {
          "base_uri": "https://localhost:8080/",
          "height": 34
        }
      },
      "source": [
        "chipo.choice_description.isnull().sum()"
      ],
      "execution_count": 0,
      "outputs": [
        {
          "output_type": "execute_result",
          "data": {
            "text/plain": [
              "0"
            ]
          },
          "metadata": {
            "tags": []
          },
          "execution_count": 122
        }
      ]
    },
    {
      "cell_type": "code",
      "metadata": {
        "id": "wEamsxdSsXR0",
        "colab_type": "code",
        "outputId": "7f47ae40-a25d-4e20-dd74-b99be4b4614d",
        "colab": {
          "base_uri": "https://localhost:8080/",
          "height": 34
        }
      },
      "source": [
        "chipo.choice_description.count()"
      ],
      "execution_count": 0,
      "outputs": [
        {
          "output_type": "execute_result",
          "data": {
            "text/plain": [
              "4622"
            ]
          },
          "metadata": {
            "tags": []
          },
          "execution_count": 123
        }
      ]
    },
    {
      "cell_type": "code",
      "metadata": {
        "id": "b_uobhAssckr",
        "colab_type": "code",
        "outputId": "d28397aa-008f-4292-e7c9-43d06478c06e",
        "colab": {
          "base_uri": "https://localhost:8080/",
          "height": 208
        }
      },
      "source": [
        "chipo.info()"
      ],
      "execution_count": 0,
      "outputs": [
        {
          "output_type": "stream",
          "text": [
            "<class 'pandas.core.frame.DataFrame'>\n",
            "RangeIndex: 4622 entries, 0 to 4621\n",
            "Data columns (total 6 columns):\n",
            "order_id              4622 non-null int64\n",
            "quantity              4622 non-null int64\n",
            "item_name             4622 non-null object\n",
            "choice_description    4622 non-null object\n",
            "item_price            4622 non-null float64\n",
            "total_price           4622 non-null float64\n",
            "dtypes: float64(2), int64(2), object(2)\n",
            "memory usage: 216.8+ KB\n"
          ],
          "name": "stdout"
        }
      ]
    },
    {
      "cell_type": "code",
      "metadata": {
        "id": "7f-tb41HskQK",
        "colab_type": "code",
        "outputId": "3eb1c75c-3390-481f-90b6-b1db30104eec",
        "colab": {
          "base_uri": "https://localhost:8080/",
          "height": 34
        }
      },
      "source": [
        "(chipo.choice_description.isnull().sum()/chipo.choice_description.count())*100"
      ],
      "execution_count": 0,
      "outputs": [
        {
          "output_type": "execute_result",
          "data": {
            "text/plain": [
              "36.90758293838863"
            ]
          },
          "metadata": {
            "tags": []
          },
          "execution_count": 78
        }
      ]
    },
    {
      "cell_type": "code",
      "metadata": {
        "id": "n90WRRj6syWk",
        "colab_type": "code",
        "colab": {}
      },
      "source": [
        "chipo.choice_description.fillna(\" \", inplace=True)"
      ],
      "execution_count": 0,
      "outputs": []
    },
    {
      "cell_type": "code",
      "metadata": {
        "id": "zyRl-oWKs-jy",
        "colab_type": "code",
        "outputId": "629fd280-6ace-4de0-b631-47186bb2efd5",
        "colab": {
          "base_uri": "https://localhost:8080/",
          "height": 190
        }
      },
      "source": [
        "chipo.info()"
      ],
      "execution_count": 0,
      "outputs": [
        {
          "output_type": "stream",
          "text": [
            "<class 'pandas.core.frame.DataFrame'>\n",
            "RangeIndex: 4622 entries, 0 to 4621\n",
            "Data columns (total 5 columns):\n",
            "order_id              4622 non-null int64\n",
            "quantity              4622 non-null int64\n",
            "item_name             4622 non-null object\n",
            "choice_description    4622 non-null object\n",
            "item_price            4622 non-null object\n",
            "dtypes: int64(2), object(3)\n",
            "memory usage: 180.7+ KB\n"
          ],
          "name": "stdout"
        }
      ]
    },
    {
      "cell_type": "code",
      "metadata": {
        "id": "-Yn4ET0BtcXI",
        "colab_type": "code",
        "outputId": "74e3a029-3574-4a0e-98d2-3c6a83d6928e",
        "colab": {
          "base_uri": "https://localhost:8080/",
          "height": 104
        }
      },
      "source": [
        "chipo.choice_description.values"
      ],
      "execution_count": 0,
      "outputs": [
        {
          "output_type": "execute_result",
          "data": {
            "text/plain": [
              "array([' ', '[Clementine]', '[Apple]', ...,\n",
              "       '[Fresh Tomato Salsa, [Fajita Vegetables, Pinto Beans, Guacamole, Lettuce]]',\n",
              "       '[Fresh Tomato Salsa, [Fajita Vegetables, Lettuce]]',\n",
              "       '[Fresh Tomato Salsa, [Fajita Vegetables, Pinto Beans, Lettuce]]'],\n",
              "      dtype=object)"
            ]
          },
          "metadata": {
            "tags": []
          },
          "execution_count": 88
        }
      ]
    },
    {
      "cell_type": "code",
      "metadata": {
        "id": "1G5zCQV0tB6W",
        "colab_type": "code",
        "colab": {}
      },
      "source": [
        "tmp=chipo.choice_description.values.tolist()"
      ],
      "execution_count": 0,
      "outputs": []
    },
    {
      "cell_type": "code",
      "metadata": {
        "id": "Jh3tDqpnKcjb",
        "colab_type": "code",
        "outputId": "82e4e166-51b5-4d5e-d4d7-3af9e214ec03",
        "colab": {
          "base_uri": "https://localhost:8080/",
          "height": 1000
        }
      },
      "source": [
        "tmp"
      ],
      "execution_count": 0,
      "outputs": [
        {
          "output_type": "execute_result",
          "data": {
            "text/plain": [
              "[' ',\n",
              " '[Clementine]',\n",
              " '[Apple]',\n",
              " ' ',\n",
              " '[Tomatillo-Red Chili Salsa (Hot), [Black Beans, Rice, Cheese, Sour Cream]]',\n",
              " '[Fresh Tomato Salsa (Mild), [Rice, Cheese, Sour Cream, Guacamole, Lettuce]]',\n",
              " ' ',\n",
              " '[Tomatillo Red Chili Salsa, [Fajita Vegetables, Black Beans, Pinto Beans, Cheese, Sour Cream, Guacamole, Lettuce]]',\n",
              " '[Tomatillo Green Chili Salsa, [Pinto Beans, Cheese, Sour Cream, Lettuce]]',\n",
              " '[Fresh Tomato Salsa, [Rice, Black Beans, Pinto Beans, Cheese, Sour Cream, Lettuce]]',\n",
              " ' ',\n",
              " '[Roasted Chili Corn Salsa, [Fajita Vegetables, Rice, Black Beans, Cheese, Sour Cream]]',\n",
              " '[Roasted Chili Corn Salsa, [Rice, Black Beans, Cheese, Sour Cream]]',\n",
              " '[Fresh Tomato Salsa, [Fajita Vegetables, Rice, Cheese, Sour Cream, Guacamole]]',\n",
              " ' ',\n",
              " ' ',\n",
              " '[Tomatillo-Green Chili Salsa (Medium), [Pinto Beans, Cheese, Sour Cream]]',\n",
              " '[Fresh Tomato Salsa (Mild), [Black Beans, Rice, Cheese, Sour Cream, Lettuce]]',\n",
              " '[Sprite]',\n",
              " '[Tomatillo Red Chili Salsa, [Fajita Vegetables, Black Beans, Sour Cream, Cheese, Lettuce]]',\n",
              " ' ',\n",
              " '[[Fresh Tomato Salsa (Mild), Tomatillo-Green Chili Salsa (Medium), Tomatillo-Red Chili Salsa (Hot)], [Rice, Cheese, Sour Cream, Lettuce]]',\n",
              " '[Pomegranate Cherry]',\n",
              " '[[Tomatillo-Green Chili Salsa (Medium), Tomatillo-Red Chili Salsa (Hot)], [Pinto Beans, Rice, Cheese, Sour Cream, Guacamole, Lettuce]]',\n",
              " '[Grapefruit]',\n",
              " ' ',\n",
              " '[Roasted Chili Corn Salsa (Medium), [Pinto Beans, Rice, Fajita Veggies, Cheese, Sour Cream, Lettuce]]',\n",
              " '[[Tomatillo-Green Chili Salsa (Medium), Roasted Chili Corn Salsa (Medium)], [Black Beans, Rice, Sour Cream, Lettuce]]',\n",
              " '[Dr. Pepper]',\n",
              " '[Tomatillo-Green Chili Salsa (Medium), [Pinto Beans, Rice, Cheese, Sour Cream]]',\n",
              " ' ',\n",
              " '[[Roasted Chili Corn Salsa (Medium), Fresh Tomato Salsa (Mild)], [Rice, Black Beans, Sour Cream]]',\n",
              " ' ',\n",
              " '[Tomatillo-Red Chili Salsa (Hot), [Black Beans, Rice, Fajita Veggies, Cheese, Sour Cream, Lettuce]]',\n",
              " ' ',\n",
              " '[Roasted Chili Corn Salsa, Rice]',\n",
              " '[Roasted Chili Corn Salsa, [Cheese, Lettuce]]',\n",
              " ' ',\n",
              " ' ',\n",
              " '[Roasted Chili Corn Salsa, [Fajita Vegetables, Rice, Black Beans, Cheese, Sour Cream, Guacamole, Lettuce]]',\n",
              " ' ',\n",
              " ' ',\n",
              " '[Roasted Chili Corn Salsa, [Rice, Black Beans, Cheese, Sour Cream, Guacamole, Lettuce]]',\n",
              " '[Fresh Tomato Salsa, [Rice, Pinto Beans, Cheese, Sour Cream, Guacamole, Lettuce]]',\n",
              " '[Fresh Tomato Salsa, [Fajita Vegetables, Pinto Beans, Lettuce]]',\n",
              " '[Tomatillo-Red Chili Salsa (Hot), [Black Beans, Fajita Veggies, Cheese, Sour Cream, Guacamole, Lettuce]]',\n",
              " '[Tomatillo-Red Chili Salsa (Hot), [Rice, Fajita Veggies, Cheese]]',\n",
              " '[Blackberry]',\n",
              " '[[Fresh Tomato Salsa (Mild), Roasted Chili Corn Salsa (Medium), Tomatillo-Red Chili Salsa (Hot)], [Black Beans, Rice, Sour Cream]]',\n",
              " ' ',\n",
              " '[Roasted Chili Corn Salsa (Medium), [Rice, Fajita Veggies, Cheese, Sour Cream, Lettuce]]',\n",
              " '[Mountain Dew]',\n",
              " '[Roasted Chili Corn Salsa (Medium), [Black Beans, Rice, Fajita Veggies, Cheese, Sour Cream, Guacamole, Lettuce]]',\n",
              " '[Sprite]',\n",
              " '[Fresh Tomato Salsa (Mild), [Black Beans, Rice, Fajita Veggies, Cheese, Sour Cream]]',\n",
              " ' ',\n",
              " '[Fresh Tomato Salsa, [Fajita Vegetables, Black Beans, Lettuce]]',\n",
              " '[Tomatillo Red Chili Salsa, [Fajita Vegetables, Rice, Black Beans, Cheese, Sour Cream, Guacamole, Lettuce]]',\n",
              " '[Roasted Chili Corn Salsa, [Fajita Vegetables, Rice, Black Beans, Cheese, Sour Cream, Guacamole, Lettuce]]',\n",
              " ' ',\n",
              " ' ',\n",
              " '[Fresh Tomato Salsa, Cheese]',\n",
              " '[Fresh Tomato Salsa, [Fajita Vegetables, Rice, Black Beans, Cheese, Sour Cream, Guacamole, Lettuce]]',\n",
              " '[Fresh Tomato Salsa, [Rice, Black Beans, Cheese]]',\n",
              " '[Tomatillo-Red Chili Salsa (Hot), [Black Beans, Rice, Fajita Veggies, Cheese, Sour Cream, Lettuce]]',\n",
              " '[Tomatillo-Red Chili Salsa (Hot), [Rice, Cheese, Sour Cream, Lettuce]]',\n",
              " '[Blackberry]',\n",
              " '[Tomatillo-Red Chili Salsa (Hot), [Rice, Cheese]]',\n",
              " '[Tomatillo-Red Chili Salsa (Hot), [Black Beans, Fajita Veggies, Cheese, Sour Cream, Guacamole, Lettuce]]',\n",
              " '[Roasted Chili Corn Salsa (Medium), [Rice, Black Beans, Sour Cream]]',\n",
              " ' ',\n",
              " '[Tomatillo-Red Chili Salsa (Hot), [Black Beans, Rice, Cheese, Sour Cream, Lettuce]]',\n",
              " ' ',\n",
              " '[Tomatillo Red Chili Salsa, [Rice, Black Beans, Cheese, Sour Cream]]',\n",
              " ' ',\n",
              " '[Tomatillo Red Chili Salsa, [Rice, Cheese, Sour Cream, Lettuce]]',\n",
              " '[Fresh Tomato Salsa, [Rice, Black Beans, Pinto Beans, Cheese, Lettuce]]',\n",
              " ' ',\n",
              " '[Fresh Tomato Salsa, [Rice, Black Beans, Cheese, Sour Cream, Lettuce]]',\n",
              " '[Roasted Chili Corn Salsa, [Rice, Cheese, Lettuce, Guacamole]]',\n",
              " ' ',\n",
              " '[Fresh Tomato Salsa, [Rice, Pinto Beans, Cheese, Sour Cream, Lettuce]]',\n",
              " '[Fresh Tomato Salsa, [Rice, Black Beans, Cheese, Sour Cream, Lettuce]]',\n",
              " '[Tomatillo Green Chili Salsa, [Rice, Black Beans, Sour Cream, Cheese]]',\n",
              " '[Tomatillo Red Chili Salsa]',\n",
              " '[Tomatillo-Red Chili Salsa (Hot), [Pinto Beans, Black Beans, Rice, Fajita Veggies, Lettuce]]',\n",
              " '[Tomatillo-Red Chili Salsa (Hot), [Pinto Beans, Rice, Fajita Veggies, Cheese, Lettuce]]',\n",
              " ' ',\n",
              " '[Fresh Tomato Salsa, [Rice, Pinto Beans, Sour Cream, Cheese]]',\n",
              " ' ',\n",
              " '[Fresh Tomato Salsa, [Rice, Black Beans, Cheese, Sour Cream, Guacamole]]',\n",
              " '[Fresh Tomato Salsa, [Fajita Vegetables, Cheese, Sour Cream, Guacamole]]',\n",
              " '[Fresh Tomato Salsa, Sour Cream]',\n",
              " '[Roasted Chili Corn Salsa, [Sour Cream, Guacamole]]',\n",
              " ' ',\n",
              " '[Fresh Tomato Salsa, [Fajita Vegetables, Rice, Cheese, Sour Cream]]',\n",
              " ' ',\n",
              " '[Fresh Tomato Salsa, [Fajita Vegetables, Rice, Black Beans, Cheese, Guacamole, Lettuce]]',\n",
              " '[Tomatillo Red Chili Salsa, [Rice, Black Beans, Cheese]]',\n",
              " '[Tomatillo Red Chili Salsa, [Rice, Fajita Vegetables, Sour Cream, Lettuce]]',\n",
              " ' ',\n",
              " '[Tomatillo-Green Chili Salsa (Medium), [Rice, Cheese, Sour Cream, Lettuce]]',\n",
              " '[Tomatillo-Green Chili Salsa (Medium), [Rice, Cheese, Sour Cream, Lettuce]]',\n",
              " ' ',\n",
              " '[Fresh Tomato Salsa (Mild), [Black Beans, Rice, Fajita Veggies, Sour Cream, Lettuce]]',\n",
              " '[Pineapple Orange Banana]',\n",
              " '[Roasted Chili Corn Salsa (Medium), [Rice, Black Beans, Fajita Veggies, Sour Cream]]',\n",
              " '[Dr. Pepper]',\n",
              " '[Roasted Chili Corn Salsa, [Fajita Vegetables, Rice, Cheese, Sour Cream, Lettuce]]',\n",
              " ' ',\n",
              " '[Tomatillo Red Chili Salsa, [Rice, Black Beans, Cheese, Sour Cream, Lettuce]]',\n",
              " ' ',\n",
              " ' ',\n",
              " ' ',\n",
              " '[Tomatillo-Green Chili Salsa (Medium), [Pinto Beans, Rice, Cheese, Sour Cream]]',\n",
              " '[[Tomatillo-Red Chili Salsa (Hot), Tomatillo-Green Chili Salsa (Medium)], [Rice, Pinto Beans, Fajita Veggies, Cheese, Sour Cream, Lettuce]]',\n",
              " '[[Tomatillo-Red Chili Salsa (Hot), Tomatillo-Green Chili Salsa (Medium)], [Rice, Pinto Beans, Cheese, Lettuce]]',\n",
              " '[Diet Dr. Pepper]',\n",
              " '[[Roasted Chili Corn Salsa (Medium), Tomatillo-Red Chili Salsa (Hot)], [Cheese, Sour Cream, Lettuce]]',\n",
              " ' ',\n",
              " '[Tomatillo Red Chili Salsa, [Rice, Black Beans, Sour Cream, Cheese, Lettuce]]',\n",
              " '[Tomatillo Green Chili Salsa, [Rice, Black Beans, Sour Cream, Cheese, Lettuce]]',\n",
              " ' ',\n",
              " '[Fresh Tomato Salsa, [Guacamole, Cheese, Sour Cream, Fajita Vegetables, Rice]]',\n",
              " ' ',\n",
              " '[Roasted Chili Corn Salsa (Medium), [Rice, Black Beans, Fajita Veggies, Sour Cream]]',\n",
              " '[Coca Cola]',\n",
              " '[Tomatillo Red Chili Salsa, [Rice, Pinto Beans, Cheese, Lettuce]]',\n",
              " ' ',\n",
              " ' ',\n",
              " '[Roasted Chili Corn Salsa, [Rice, Pinto Beans, Cheese, Guacamole, Lettuce]]',\n",
              " ' ',\n",
              " '[Tomatillo-Green Chili Salsa (Medium), [Pinto Beans, Rice, Cheese, Sour Cream]]',\n",
              " ' ',\n",
              " '[Roasted Chili Corn Salsa (Medium), [Rice, Black Beans, Sour Cream, Guacamole]]',\n",
              " '[Tomatillo Green Chili Salsa, [Sour Cream, Cheese, Guacamole]]',\n",
              " '[Tomatillo Red Chili Salsa, [Fajita Vegetables, Rice, Black Beans, Cheese, Sour Cream, Guacamole, Lettuce]]',\n",
              " ' ',\n",
              " '[Fresh Tomato Salsa, [Rice, Fajita Vegetables, Sour Cream, Cheese, Guacamole]]',\n",
              " ' ',\n",
              " '[Tomatillo Green Chili Salsa, [Rice, Sour Cream, Cheese, Guacamole]]',\n",
              " ' ',\n",
              " '[Fresh Tomato Salsa, [Fajita Vegetables, Rice, Black Beans, Cheese, Guacamole, Lettuce]]',\n",
              " '[Tomatillo Red Chili Salsa, [Fajita Vegetables, Black Beans, Cheese, Guacamole, Lettuce]]',\n",
              " '[Tomatillo Red Chili Salsa, [Rice, Sour Cream, Cheese, Guacamole]]',\n",
              " '[Roasted Chili Corn Salsa, [Rice, Fajita Vegetables, Black Beans, Sour Cream, Cheese]]',\n",
              " ' ',\n",
              " '[Tomatillo-Green Chili Salsa (Medium), [Rice, Black Beans, Sour Cream, Guacamole]]',\n",
              " '[Tomatillo-Red Chili Salsa (Hot), [Rice, Cheese, Sour Cream, Lettuce]]',\n",
              " ' ',\n",
              " '[Tomatillo Red Chili Salsa, [Rice, Black Beans, Sour Cream, Cheese, Lettuce]]',\n",
              " ' ',\n",
              " '[Tomatillo-Green Chili Salsa (Medium), [Pinto Beans, Rice, Cheese, Sour Cream]]',\n",
              " ' ',\n",
              " '[Fresh Tomato Salsa, [Fajita Vegetables, Rice, Lettuce]]',\n",
              " ' ',\n",
              " ' ',\n",
              " '[Tomatillo Red Chili Salsa, [Fajita Vegetables, Rice, Black Beans, Cheese, Guacamole, Lettuce]]',\n",
              " '[Tomatillo Green Chili Salsa, [Rice, Cheese, Guacamole, Lettuce]]',\n",
              " '[[Roasted Chili Corn Salsa (Medium), Tomatillo-Red Chili Salsa (Hot)], [Black Beans, Rice, Fajita Veggies, Cheese, Sour Cream, Guacamole, Lettuce]]',\n",
              " '[Fresh Tomato Salsa (Mild), [Black Beans, Rice, Fajita Veggies, Cheese, Sour Cream, Lettuce]]',\n",
              " '[[Roasted Chili Corn Salsa (Medium), Tomatillo-Red Chili Salsa (Hot)], [Black Beans, Rice, Fajita Veggies, Cheese, Guacamole, Lettuce]]',\n",
              " '[Diet Coke]',\n",
              " '[Roasted Chili Corn Salsa (Medium), [Pinto Beans, Rice, Fajita Veggies, Cheese, Sour Cream, Guacamole, Lettuce]]',\n",
              " '[[Fresh Tomato Salsa (Mild), Roasted Chili Corn Salsa (Medium)], [Black Beans, Rice, Fajita Veggies, Cheese, Sour Cream, Lettuce]]',\n",
              " ' ',\n",
              " ' ',\n",
              " '[Tomatillo Red Chili Salsa, [Rice, Black Beans, Cheese, Guacamole, Lettuce]]',\n",
              " '[Tomatillo Red Chili Salsa, [Rice, Black Beans, Cheese, Sour Cream, Guacamole]]',\n",
              " '[Tomatillo Red Chili Salsa, [Rice, Cheese, Sour Cream]]',\n",
              " '[[Tomatillo-Red Chili Salsa (Hot), Fresh Tomato Salsa (Mild)], [Rice, Black Beans, Cheese, Lettuce]]',\n",
              " '[Diet Dr. Pepper]',\n",
              " '[Tomatillo-Red Chili Salsa (Hot), [Black Beans, Rice, Cheese, Sour Cream, Lettuce]]',\n",
              " '[Apple]',\n",
              " '[Tomatillo-Green Chili Salsa (Medium), Lettuce]',\n",
              " '[Roasted Chili Corn Salsa (Medium), Lettuce]',\n",
              " '[Roasted Chili Corn Salsa (Medium), [Black Beans, Rice, Fajita Veggies, Cheese, Sour Cream, Guacamole, Lettuce]]',\n",
              " '[Fresh Tomato Salsa (Mild), [Rice, Black Beans, Sour Cream, Guacamole]]',\n",
              " '[Tomatillo-Green Chili Salsa (Medium), [Rice, Fajita Veggies, Cheese, Sour Cream]]',\n",
              " '[Coca Cola]',\n",
              " '[Dr. Pepper]',\n",
              " '[Tomatillo Red Chili Salsa, [Rice, Pinto Beans, Cheese, Sour Cream]]',\n",
              " '[Fresh Tomato Salsa, [Rice, Black Beans, Sour Cream]]',\n",
              " ' ',\n",
              " '[Fresh Tomato Salsa, [Cheese, Sour Cream]]',\n",
              " ' ',\n",
              " '[Fresh Tomato Salsa, [Fajita Vegetables, Rice, Black Beans, Cheese, Sour Cream, Guacamole, Lettuce]]',\n",
              " '[Fresh Tomato Salsa (Mild), [Rice, Fajita Veggies, Guacamole, Lettuce]]',\n",
              " '[Roasted Chili Corn Salsa (Medium), [Rice, Cheese, Sour Cream, Lettuce]]',\n",
              " '[Roasted Chili Corn Salsa (Medium), [Rice, Cheese, Lettuce]]',\n",
              " '[Roasted Chili Corn Salsa (Medium), [Fajita Veggies, Cheese, Lettuce, Sour Cream, Rice]]',\n",
              " ' ',\n",
              " '[Roasted Chili Corn Salsa, [Fajita Vegetables, Rice, Cheese, Sour Cream, Guacamole, Lettuce]]',\n",
              " '[Fresh Tomato Salsa, [Rice, Cheese, Sour Cream]]',\n",
              " ' ',\n",
              " '[Coca Cola]',\n",
              " '[Roasted Chili Corn Salsa (Medium), [Rice, Black Beans, Sour Cream]]',\n",
              " '[Tomatillo-Green Chili Salsa (Medium), [Pinto Beans, Rice, Cheese, Sour Cream]]',\n",
              " ' ',\n",
              " '[[Roasted Chili Corn Salsa (Medium), Tomatillo-Red Chili Salsa (Hot)], [Black Beans, Rice, Fajita Veggies, Guacamole, Lettuce]]',\n",
              " '[Diet Coke]',\n",
              " ' ',\n",
              " '[Tomatillo Red Chili Salsa, [Rice, Black Beans, Sour Cream, Cheese, Lettuce, Guacamole]]',\n",
              " '[Tomatillo Green Chili Salsa, [Rice, Pinto Beans, Sour Cream, Cheese, Lettuce]]',\n",
              " '[Tomatillo-Red Chili Salsa (Hot), [Black Beans, Rice, Cheese, Sour Cream, Lettuce]]',\n",
              " '[Peach Orange]',\n",
              " '[Fresh Tomato Salsa, [Rice, Cheese, Lettuce]]',\n",
              " '[Roasted Chili Corn Salsa, [Rice, Black Beans, Cheese, Sour Cream, Lettuce]]',\n",
              " ' ',\n",
              " '[Roasted Chili Corn Salsa, [Fajita Vegetables, Rice, Black Beans, Cheese, Sour Cream, Guacamole, Lettuce]]',\n",
              " '[Roasted Chili Corn Salsa, [Rice, Black Beans, Cheese, Sour Cream, Guacamole, Lettuce]]',\n",
              " '[Roasted Chili Corn Salsa, [Fajita Vegetables, Rice, Black Beans, Pinto Beans, Cheese, Sour Cream, Guacamole, Lettuce]]',\n",
              " ' ',\n",
              " '[Fresh Tomato Salsa, [Fajita Vegetables, Pinto Beans, Guacamole]]',\n",
              " ' ',\n",
              " '[Tomatillo Green Chili Salsa, [Fajita Vegetables, Rice, Black Beans, Cheese, Guacamole, Lettuce]]',\n",
              " '[Tomatillo Red Chili Salsa, [Rice, Black Beans, Cheese, Sour Cream]]',\n",
              " '[Tomatillo Red Chili Salsa, [Cheese, Sour Cream, Lettuce]]',\n",
              " '[Tomatillo Green Chili Salsa, [Rice, Black Beans, Cheese, Sour Cream]]',\n",
              " '[Tomatillo Red Chili Salsa, [Rice, Black Beans, Cheese]]',\n",
              " '[Roasted Chili Corn Salsa, [Rice, Black Beans, Cheese, Sour Cream]]',\n",
              " ' ',\n",
              " '[Tomatillo Red Chili Salsa, [Rice, Cheese, Lettuce]]',\n",
              " ' ',\n",
              " '[Tomatillo Green Chili Salsa, [Rice, Pinto Beans, Sour Cream, Lettuce]]',\n",
              " '[Tomatillo Red Chili Salsa, [Black Beans, Cheese, Guacamole]]',\n",
              " ' ',\n",
              " '[Roasted Chili Corn Salsa (Medium), [Rice, Black Beans, Sour Cream]]',\n",
              " '[Mountain Dew]',\n",
              " '[Tomatillo-Green Chili Salsa (Medium), [Black Beans, Rice, Cheese, Sour Cream, Lettuce]]',\n",
              " ' ',\n",
              " '[Fresh Tomato Salsa, [Fajita Vegetables, Rice, Black Beans, Cheese, Sour Cream, Lettuce]]',\n",
              " ' ',\n",
              " ' ',\n",
              " '[Tomatillo Red Chili Salsa, [Rice, Black Beans, Cheese, Sour Cream, Guacamole, Lettuce]]',\n",
              " ' ',\n",
              " '[Tomatillo Red Chili Salsa, [Rice, Black Beans, Cheese]]',\n",
              " '[Tomatillo Green Chili Salsa, [Fajita Vegetables, Pinto Beans, Cheese]]',\n",
              " '[Tomatillo Red Chili Salsa, [Rice, Black Beans, Cheese, Sour Cream, Guacamole, Lettuce]]',\n",
              " '[Fresh Tomato Salsa, [Rice, Pinto Beans, Sour Cream, Cheese]]',\n",
              " ' ',\n",
              " '[Tomatillo Red Chili Salsa, [Rice, Black Beans, Cheese, Sour Cream, Lettuce]]',\n",
              " '[Fresh Tomato Salsa, [Rice, Pinto Beans, Cheese, Sour Cream]]',\n",
              " '[Fresh Tomato Salsa, [Rice, Black Beans, Pinto Beans, Cheese, Sour Cream]]',\n",
              " '[Roasted Chili Corn Salsa (Medium), [Rice, Fajita Veggies, Cheese, Sour Cream, Guacamole, Lettuce]]',\n",
              " '[Roasted Chili Corn Salsa (Medium), [Rice, Fajita Veggies, Cheese, Lettuce]]',\n",
              " '[Mountain Dew]',\n",
              " '[Dr. Pepper]',\n",
              " '[Mountain Dew]',\n",
              " '[[Tomatillo-Red Chili Salsa (Hot), Fresh Tomato Salsa (Mild), Tomatillo-Green Chili Salsa (Medium)], [Rice, Pinto Beans, Cheese]]',\n",
              " '[Roasted Chili Corn Salsa (Medium), [Black Beans, Rice, Fajita Veggies, Cheese, Sour Cream, Guacamole, Lettuce]]',\n",
              " '[Diet Dr. Pepper]',\n",
              " '[Tomatillo Red Chili Salsa, [Rice, Cheese, Lettuce]]',\n",
              " '[Roasted Chili Corn Salsa, [Rice, Pinto Beans, Cheese, Sour Cream]]',\n",
              " '[Tomatillo Red Chili Salsa, [Rice, Cheese, Lettuce]]',\n",
              " '[Roasted Chili Corn Salsa, [Rice, Cheese, Lettuce]]',\n",
              " '[Fresh Tomato Salsa, [Fajita Vegetables, Rice, Cheese, Sour Cream, Lettuce]]',\n",
              " '[Fresh Tomato Salsa, [Rice, Black Beans, Cheese]]',\n",
              " '[Tomatillo-Red Chili Salsa (Hot), [Pinto Beans, Rice, Fajita Veggies, Cheese, Sour Cream]]',\n",
              " '[Tomatillo-Red Chili Salsa (Hot), [Pinto Beans, Rice, Fajita Veggies, Cheese, Sour Cream]]',\n",
              " '[Roasted Chili Corn Salsa (Medium), [Rice, Black Beans, Sour Cream]]',\n",
              " '[Mountain Dew]',\n",
              " '[Fresh Tomato Salsa, [Fajita Vegetables, Cheese, Sour Cream, Guacamole, Lettuce]]',\n",
              " '[Coke]',\n",
              " '[Roasted Chili Corn Salsa (Medium), [Black Beans, Rice]]',\n",
              " ' ',\n",
              " '[Fresh Tomato Salsa, [Rice, Cheese, Lettuce]]',\n",
              " ' ',\n",
              " '[Tomatillo-Red Chili Salsa (Hot), [Pinto Beans, Cheese, Sour Cream, Lettuce]]',\n",
              " ' ',\n",
              " '[Tomatillo-Green Chili Salsa (Medium), [Pinto Beans, Rice, Cheese, Sour Cream]]',\n",
              " ' ',\n",
              " '[[Fresh Tomato Salsa (Mild), Roasted Chili Corn Salsa (Medium)], [Pinto Beans, Rice, Fajita Veggies, Cheese, Sour Cream, Lettuce]]',\n",
              " '[Roasted Chili Corn Salsa (Medium), [Black Beans, Rice, Cheese, Sour Cream, Lettuce]]',\n",
              " '[Tomatillo-Red Chili Salsa (Hot), [Black Beans, Rice, Cheese]]',\n",
              " ' ',\n",
              " '[Fresh Tomato Salsa (Mild), [Black Beans, Rice, Cheese, Sour Cream]]',\n",
              " ' ',\n",
              " '[Tomatillo-Red Chili Salsa (Hot), [Rice, Cheese, Lettuce]]',\n",
              " ' ',\n",
              " '[Coca Cola]',\n",
              " '[Tomatillo Red Chili Salsa, [Black Beans, Cheese, Guacamole]]',\n",
              " '[Fresh Tomato Salsa, [Rice, Black Beans, Cheese, Sour Cream]]',\n",
              " ' ',\n",
              " '[Fresh Tomato Salsa, [Rice, Cheese, Sour Cream]]',\n",
              " '[Roasted Chili Corn Salsa, [Fajita Vegetables, Rice, Lettuce]]',\n",
              " '[Roasted Chili Corn Salsa, [Rice, Black Beans, Cheese, Sour Cream, Lettuce]]',\n",
              " '[Roasted Chili Corn Salsa, [Fajita Vegetables, Rice, Black Beans, Cheese, Sour Cream, Lettuce]]',\n",
              " ' ',\n",
              " '[Fresh Tomato Salsa, [Rice, Cheese, Sour Cream]]',\n",
              " '[Roasted Chili Corn Salsa, [Fajita Vegetables, Rice, Black Beans, Guacamole, Lettuce]]',\n",
              " '[Tomatillo Green Chili Salsa, [Rice, Sour Cream, Guacamole, Lettuce]]',\n",
              " '[Sprite]',\n",
              " '[Fresh Tomato Salsa, [Cheese, Sour Cream]]',\n",
              " ' ',\n",
              " '[Fresh Tomato Salsa, [Fajita Vegetables, Lettuce, Guacamole, Sour Cream, Cheese, Black Beans, Rice]]',\n",
              " '[Tomatillo Green Chili Salsa, [Rice, Cheese, Guacamole]]',\n",
              " '[Tomatillo Green Chili Salsa, [Rice, Cheese, Guacamole]]',\n",
              " '[Sprite]',\n",
              " '[Tomatillo-Red Chili Salsa (Hot), Lettuce]',\n",
              " ' ',\n",
              " '[Fresh Tomato Salsa (Mild), [Rice, Fajita Veggies, Cheese, Sour Cream, Lettuce]]',\n",
              " ' ',\n",
              " '[Fresh Tomato Salsa, [Rice, Black Beans, Cheese, Sour Cream, Guacamole, Lettuce]]',\n",
              " '[Fresh Tomato Salsa, [Rice, Black Beans, Cheese, Sour Cream, Lettuce]]',\n",
              " ' ',\n",
              " '[Roasted Chili Corn Salsa (Medium), [Rice, Black Beans, Sour Cream]]',\n",
              " ' ',\n",
              " '[Tomatillo Red Chili Salsa, [Rice, Black Beans, Cheese, Lettuce]]',\n",
              " '[Tomatillo Red Chili Salsa, [Rice, Black Beans, Cheese, Sour Cream, Guacamole, Lettuce]]',\n",
              " ' ',\n",
              " ' ',\n",
              " '[Fresh Tomato Salsa, [Rice, Black Beans, Cheese, Sour Cream]]',\n",
              " '[Tomatillo-Red Chili Salsa (Hot), Fajita Veggies]',\n",
              " '[Tomatillo-Green Chili Salsa (Medium), [Cheese, Lettuce]]',\n",
              " '[Fresh Tomato Salsa, Fajita Vegetables]',\n",
              " '[Roasted Chili Corn Salsa (Medium), [Rice, Fajita Veggies, Cheese]]',\n",
              " '[Diet Coke]',\n",
              " ' ',\n",
              " '[Fresh Tomato Salsa, [Fajita Vegetables, Rice, Black Beans, Sour Cream]]',\n",
              " '[Coke]',\n",
              " ' ',\n",
              " '[Fresh Tomato (Mild), [Lettuce, Guacamole, Rice, Cheese]]',\n",
              " '[Roasted Chili Corn Salsa (Medium), [Pinto Beans, Black Beans, Rice, Fajita Veggies, Cheese, Sour Cream, Lettuce]]',\n",
              " '[[Roasted Chili Corn Salsa (Medium), Tomatillo-Red Chili Salsa (Hot)], [Rice, Fajita Veggies, Cheese, Lettuce]]',\n",
              " '[Roasted Chili Corn Salsa (Medium), Rice]',\n",
              " ' ',\n",
              " '[Tomatillo Red Chili Salsa, [Rice, Cheese]]',\n",
              " ' ',\n",
              " ' ',\n",
              " '[Fresh Tomato Salsa, [Rice, Black Beans, Cheese, Sour Cream, Guacamole, Lettuce]]',\n",
              " ' ',\n",
              " '[Fresh Tomato Salsa (Mild), [Black Beans, Rice, Cheese, Sour Cream, Lettuce]]',\n",
              " '[Fresh Tomato Salsa (Mild), [Rice, Cheese, Sour Cream]]',\n",
              " '[Roasted Chili Corn Salsa, [Rice, Black Beans, Cheese, Guacamole, Lettuce]]',\n",
              " '[Roasted Chili Corn Salsa, [Fajita Vegetables, Rice, Cheese, Lettuce]]',\n",
              " '[Tomatillo Red Chili Salsa, [Fajita Vegetables, Cheese, Guacamole, Lettuce]]',\n",
              " '[Coke]',\n",
              " '[Tomatillo Red Chili Salsa, [Rice, Black Beans, Sour Cream, Cheese, Lettuce, Guacamole]]',\n",
              " '[Tomatillo Green Chili Salsa, [Rice, Pinto Beans, Sour Cream, Cheese, Lettuce]]',\n",
              " ' ',\n",
              " '[Diet Coke]',\n",
              " '[Fresh Tomato Salsa, [Fajita Vegetables, Rice, Cheese, Sour Cream, Lettuce]]',\n",
              " ' ',\n",
              " '[Fresh Tomato Salsa, [Fajita Vegetables, Cheese, Guacamole, Lettuce]]',\n",
              " ' ',\n",
              " '[Lemonade]',\n",
              " '[Sprite]',\n",
              " '[Tomatillo-Red Chili Salsa (Hot), [Rice, Fajita Veggies, Cheese, Sour Cream, Lettuce]]',\n",
              " ' ',\n",
              " '[Diet Coke]',\n",
              " '[Tomatillo-Red Chili Salsa (Hot), [Black Beans, Rice, Cheese]]',\n",
              " '[Coca Cola]',\n",
              " '[Fresh Tomato (Mild), [Lettuce, Guacamole, Rice, Cheese]]',\n",
              " '[Fresh Tomato Salsa, Sour Cream]',\n",
              " '[Tomatillo Green Chili Salsa, [Fajita Vegetables, Rice, Cheese, Sour Cream, Lettuce]]',\n",
              " ' ',\n",
              " '[Coke]',\n",
              " '[Fresh Tomato Salsa (Mild), [Pinto Beans, Cheese, Sour Cream]]',\n",
              " '[Blackberry]',\n",
              " '[Grapefruit]',\n",
              " '[Fresh Tomato Salsa (Mild), [Cheese, Sour Cream, Lettuce]]',\n",
              " '[Fresh Tomato Salsa (Mild), [Pinto Beans, Cheese, Sour Cream, Lettuce]]',\n",
              " '[Tomatillo Red Chili Salsa, [Rice, Black Beans, Cheese, Sour Cream, Guacamole, Lettuce]]',\n",
              " ' ',\n",
              " '[Tomatillo Green Chili Salsa, [Black Beans, Cheese, Sour Cream, Guacamole, Lettuce]]',\n",
              " ' ',\n",
              " '[Roasted Chili Corn Salsa, [Rice, Fajita Vegetables, Black Beans, Cheese, Lettuce, Guacamole]]',\n",
              " '[Diet Coke]',\n",
              " '[Roasted Chili Corn Salsa (Medium), [Black Beans, Cheese, Sour Cream, Lettuce]]',\n",
              " '[Diet Coke]',\n",
              " '[Fresh Tomato Salsa, [Rice, Cheese, Sour Cream]]',\n",
              " '[Fresh Tomato Salsa, [Rice, Cheese, Sour Cream]]',\n",
              " '[Fresh Tomato Salsa, [Rice, Pinto Beans, Sour Cream, Cheese]]',\n",
              " ' ',\n",
              " '[Roasted Chili Corn Salsa, [Rice, Black Beans, Cheese, Lettuce, Guacamole]]',\n",
              " ' ',\n",
              " '[Roasted Chili Corn Salsa (Medium), [Rice, Black Beans, Sour Cream]]',\n",
              " '[Mountain Dew]',\n",
              " '[Fresh Tomato Salsa, [Rice, Black Beans, Cheese, Sour Cream, Guacamole]]',\n",
              " '[Coke]',\n",
              " '[Coke]',\n",
              " '[Fresh Tomato Salsa, [Rice, Black Beans, Sour Cream, Cheese, Guacamole]]',\n",
              " '[Tomatillo Red Chili Salsa, [Rice, Fajita Vegetables, Sour Cream, Cheese, Lettuce, Guacamole]]',\n",
              " ' ',\n",
              " '[Tomatillo-Red Chili Salsa (Hot), [Rice, Cheese, Sour Cream, Lettuce]]',\n",
              " ' ',\n",
              " '[Tomatillo Red Chili Salsa, [Rice, Black Beans, Cheese, Sour Cream, Guacamole, Lettuce]]',\n",
              " '[Diet Coke]',\n",
              " '[Fresh Tomato Salsa, [Cheese, Sour Cream]]',\n",
              " '[Fresh Tomato Salsa, [Cheese, Sour Cream]]',\n",
              " '[Fresh Tomato Salsa, [Fajita Vegetables, Rice, Pinto Beans, Cheese, Guacamole, Lettuce]]',\n",
              " ' ',\n",
              " '[Coke]',\n",
              " '[Tomatillo Green Chili Salsa, Guacamole]',\n",
              " ' ',\n",
              " '[Roasted Chili Corn Salsa (Medium), [Pinto Beans, Rice, Cheese, Sour Cream, Lettuce]]',\n",
              " '[Tomatillo-Red Chili Salsa (Hot), [Pinto Beans, Rice, Cheese, Sour Cream, Lettuce]]',\n",
              " '[Roasted Chili Corn Salsa (Medium), [Rice, Fajita Veggies, Cheese]]',\n",
              " '[[Fresh Tomato Salsa (Mild), Roasted Chili Corn Salsa (Medium)], [Rice, Cheese, Lettuce]]',\n",
              " '[Roasted Chili Corn Salsa, [Rice, Black Beans, Cheese, Lettuce, Guacamole]]',\n",
              " '[Sprite]',\n",
              " '[Fresh Tomato Salsa, [Rice, Black Beans, Cheese, Sour Cream, Guacamole]]',\n",
              " '[Coke]',\n",
              " '[Fresh Tomato Salsa, [Rice, Pinto Beans, Cheese, Guacamole, Lettuce]]',\n",
              " '[Fresh Tomato Salsa, [Cheese, Lettuce]]',\n",
              " ' ',\n",
              " '[Tomatillo Red Chili Salsa, [Rice, Black Beans, Cheese, Sour Cream, Guacamole, Lettuce]]',\n",
              " ' ',\n",
              " '[[Fresh Tomato Salsa (Mild), Tomatillo-Green Chili Salsa (Medium), Roasted Chili Corn Salsa (Medium)], [Black Beans, Rice, Fajita Veggies, Cheese, Guacamole, Lettuce]]',\n",
              " '[Coke]',\n",
              " '[Tomatillo Green Chili Salsa, [Sour Cream, Cheese, Guacamole]]',\n",
              " '[Tomatillo-Red Chili Salsa (Hot), [Rice, Cheese, Sour Cream, Guacamole, Lettuce]]',\n",
              " ' ',\n",
              " '[Dr. Pepper]',\n",
              " '[Tomatillo Red Chili Salsa]',\n",
              " ' ',\n",
              " '[Diet Coke]',\n",
              " '[Fresh Tomato Salsa, [Fajita Vegetables, Rice, Black Beans, Cheese]]',\n",
              " '[Fresh Tomato Salsa, [Fajita Vegetables, Rice, Cheese, Sour Cream, Lettuce]]',\n",
              " '[Tomatillo Green Chili Salsa, [Fajita Vegetables, Rice, Cheese, Sour Cream, Lettuce]]',\n",
              " '[Fresh Tomato Salsa, [Rice, Cheese, Sour Cream, Lettuce]]',\n",
              " '[Roasted Chili Corn Salsa, [Rice, Lettuce]]',\n",
              " '[Roasted Chili Corn Salsa, [Rice, Black Beans, Cheese, Sour Cream, Lettuce]]',\n",
              " ' ',\n",
              " ' ',\n",
              " '[Fresh Tomato Salsa, [Sour Cream, Lettuce]]',\n",
              " '[[Tomatillo-Red Chili Salsa (Hot), Roasted Chili Corn Salsa (Medium)], [Guacamole, Cheese, Sour Cream]]',\n",
              " '[[Roasted Chili Corn Salsa (Medium), Tomatillo-Red Chili Salsa (Hot)], [Rice, Cheese, Sour Cream, Guacamole]]',\n",
              " '[[Roasted Chili Corn Salsa (Medium), Tomatillo-Red Chili Salsa (Hot)], [Cheese, Sour Cream, Guacamole]]',\n",
              " '[Grapefruit]',\n",
              " '[Tomatillo-Red Chili Salsa (Hot), [Rice, Cheese, Sour Cream, Lettuce]]',\n",
              " ' ',\n",
              " '[Tomatillo-Red Chili Salsa (Hot), [Black Beans, Rice, Fajita Veggies, Cheese, Sour Cream, Lettuce]]',\n",
              " '[Coca Cola]',\n",
              " '[[Roasted Chili Corn Salsa (Medium), Fresh Tomato Salsa (Mild)], [Rice, Black Beans, Pinto Beans, Fajita Veggies, Guacamole, Lettuce]]',\n",
              " '[Pomegranate Cherry]',\n",
              " '[[Roasted Chili Corn Salsa (Medium), Tomatillo-Green Chili Salsa (Medium)], [Rice, Black Beans, Cheese, Sour Cream]]',\n",
              " '[Dr. Pepper]',\n",
              " '[Tomatillo Green Chili Salsa, [Fajita Vegetables, Rice, Cheese, Sour Cream, Lettuce]]',\n",
              " '[Roasted Chili Corn Salsa, [Fajita Vegetables, Rice, Cheese, Sour Cream, Lettuce]]',\n",
              " '[Roasted Chili Corn Salsa, [Rice, Fajita Vegetables, Black Beans, Sour Cream, Cheese, Lettuce, Guacamole]]',\n",
              " ' ',\n",
              " ' ',\n",
              " '[Tomatillo Red Chili Salsa, [Rice, Pinto Beans, Cheese]]',\n",
              " '[Braised Carnitas, Pinto Beans, [Sour Cream, Cheese, Cilantro-Lime Rice]]',\n",
              " '[Roasted Chili Corn Salsa (Medium), [Rice, Fajita Veggies, Cheese]]',\n",
              " '[Fresh Tomato Salsa (Mild), [Black Beans, Rice, Cheese, Sour Cream, Lettuce]]',\n",
              " '[Fresh Tomato Salsa, [Rice, Cheese, Sour Cream, Lettuce]]',\n",
              " '[Fresh Tomato Salsa, [Rice, Black Beans, Cheese, Lettuce]]',\n",
              " '[Fresh Tomato Salsa, [Fajita Vegetables, Rice, Cheese, Sour Cream, Guacamole, Lettuce]]',\n",
              " '[Fresh Tomato Salsa, [Fajita Vegetables, Rice, Cheese, Sour Cream]]',\n",
              " '[Fresh Tomato Salsa, [Rice, Black Beans, Cheese, Sour Cream, Guacamole, Lettuce]]',\n",
              " '[Fresh Tomato Salsa, [Sour Cream, Lettuce]]',\n",
              " '[Fresh Tomato Salsa, [Rice, Black Beans, Cheese, Sour Cream, Guacamole, Lettuce]]',\n",
              " '[Fresh Tomato Salsa, [Fajita Vegetables, Rice, Black Beans, Cheese, Guacamole, Lettuce]]',\n",
              " '[Fresh Tomato Salsa, [Rice, Black Beans, Cheese]]',\n",
              " '[Fresh Tomato Salsa, [Black Beans, Cheese, Guacamole, Lettuce]]',\n",
              " ' ',\n",
              " '[Coke]',\n",
              " '[Fresh Tomato Salsa (Mild), [Black Beans, Rice, Fajita Veggies, Cheese, Sour Cream, Lettuce]]',\n",
              " ' ',\n",
              " '[Fresh Tomato Salsa, [Rice, Black Beans, Cheese, Sour Cream, Guacamole, Lettuce]]',\n",
              " '[Fresh Tomato Salsa, [Rice, Black Beans, Cheese, Sour Cream, Guacamole, Lettuce]]',\n",
              " '[Tomatillo Green Chili Salsa, [Rice, Black Beans, Cheese]]',\n",
              " '[Roasted Chili Corn Salsa, [Rice, Fajita Vegetables, Black Beans, Sour Cream, Cheese, Lettuce]]',\n",
              " ' ',\n",
              " '[Fresh Tomato Salsa (Mild), [Pinto Beans, Rice, Cheese, Sour Cream]]',\n",
              " ' ',\n",
              " '[Fresh Tomato Salsa (Mild), [Pinto Beans, Rice, Sour Cream, Cheese]]',\n",
              " ' ',\n",
              " '[[Tomatillo-Green Chili Salsa (Medium), Roasted Chili Corn Salsa (Medium)], [Black Beans, Rice, Cheese, Guacamole]]',\n",
              " ' ',\n",
              " '[Diet Dr. Pepper]',\n",
              " '[Roasted Chili Corn Salsa, [Rice, Cheese, Lettuce, Guacamole]]',\n",
              " ' ',\n",
              " '[Fresh Tomato (Mild), [Guacamole, Lettuce, Rice, Fajita Veggies, Sour Cream, Cheese]]',\n",
              " ' ',\n",
              " '[Fresh Tomato Salsa, [Fajita Vegetables, Rice, Black Beans, Cheese, Sour Cream, Lettuce]]',\n",
              " '[Roasted Chili Corn Salsa, [Fajita Vegetables, Rice, Black Beans, Cheese, Sour Cream, Guacamole, Lettuce]]',\n",
              " '[Fresh Tomato Salsa, [Fajita Vegetables, Rice, Black Beans, Cheese]]',\n",
              " '[Tomatillo Red Chili Salsa, [Rice, Black Beans, Cheese, Sour Cream, Lettuce]]',\n",
              " '[Fresh Tomato Salsa, [Rice, Black Beans, Cheese, Sour Cream, Guacamole, Lettuce]]',\n",
              " '[Fresh Tomato Salsa, [Rice, Black Beans, Cheese, Sour Cream, Guacamole, Lettuce]]',\n",
              " '[Fresh Tomato Salsa, [Fajita Vegetables, Rice, Black Beans, Cheese]]',\n",
              " '[Fresh Tomato Salsa, Guacamole]',\n",
              " '[Fresh Tomato Salsa, Cheese]',\n",
              " '[Fresh Tomato Salsa, [Rice, Cheese, Lettuce]]',\n",
              " '[Fresh Tomato Salsa, [Rice, Black Beans, Cheese, Sour Cream, Lettuce]]',\n",
              " ' ',\n",
              " '[Fresh Tomato Salsa, [Fajita Vegetables, Rice, Cheese, Sour Cream, Guacamole]]',\n",
              " '[Fresh Tomato Salsa, [Fajita Vegetables, Rice, Cheese, Sour Cream, Guacamole]]',\n",
              " '[Diet Coke]',\n",
              " ' ',\n",
              " '[Fresh Tomato Salsa, [Sour Cream, Cheese]]',\n",
              " ' ',\n",
              " '[Fresh Tomato Salsa, [Rice, Lettuce, Guacamole, Fajita Vegetables, Cheese, Sour Cream, Black Beans]]',\n",
              " '[Fresh Tomato Salsa (Mild), [Pinto Beans, Cheese]]',\n",
              " ' ',\n",
              " '[Tomatillo Green Chili Salsa, [Fajita Vegetables, Rice, Lettuce]]',\n",
              " '[Fresh Tomato Salsa, [Rice, Cheese, Sour Cream]]',\n",
              " '[Roasted Chili Corn Salsa, [Fajita Vegetables, Rice, Black Beans, Guacamole]]',\n",
              " '[Tomatillo Green Chili Salsa, [Rice, Black Beans, Cheese, Lettuce]]',\n",
              " '[Roasted Chili Corn Salsa, [Rice, Black Beans, Sour Cream, Lettuce, Guacamole]]',\n",
              " '[Roasted Chili Corn Salsa, [Rice, Cheese, Lettuce, Guacamole]]',\n",
              " '[Lemonade]',\n",
              " '[Roasted Chili Corn Salsa, [Fajita Vegetables, Rice, Black Beans, Cheese, Sour Cream, Guacamole, Lettuce]]',\n",
              " '[Coke]',\n",
              " '[Tomatillo-Red Chili Salsa (Hot), Rice]',\n",
              " '[Tomatillo-Red Chili Salsa (Hot), Rice]',\n",
              " '[Adobo-Marinated and Grilled Chicken, Pinto Beans, [Sour Cream, Salsa, Cheese, Cilantro-Lime Rice, Guacamole]]',\n",
              " '[Braised Barbacoa, Vegetarian Black Beans, [Sour Cream, Salsa, Cheese, Cilantro-Lime Rice]]',\n",
              " '[Roasted Chili Corn Salsa, [Rice, Black Beans, Sour Cream, Lettuce]]',\n",
              " '[Diet Coke]',\n",
              " ' ',\n",
              " '[Fresh Tomato Salsa, [Fajita Vegetables, Rice, Black Beans, Cheese, Sour Cream, Lettuce]]',\n",
              " ' ',\n",
              " '[Tomatillo Green Chili Salsa, [Rice, Black Beans, Cheese, Sour Cream]]',\n",
              " ' ',\n",
              " '[Braised Barbacoa, Pinto Beans, [Sour Cream, Salsa, Cheese, Cilantro-Lime Rice, Guacamole]]',\n",
              " '[Adobo-Marinated and Grilled Steak]',\n",
              " '[Adobo-Marinated and Grilled Chicken]',\n",
              " '[Fresh Tomato Salsa (Mild), [Pinto Beans, Rice, Sour Cream]]',\n",
              " ' ',\n",
              " '[Tomatillo-Red Chili Salsa (Hot), [Pinto Beans, Rice, Cheese, Sour Cream, Lettuce]]',\n",
              " ' ',\n",
              " '[Roasted Chili Corn Salsa, [Black Beans, Sour Cream, Cheese, Lettuce]]',\n",
              " '[Fresh Tomato Salsa, [Rice, Black Beans, Sour Cream, Cheese]]',\n",
              " '[Tomatillo Green Chili Salsa, [Fajita Vegetables, Black Beans, Pinto Beans, Lettuce]]',\n",
              " '[Tomatillo Green Chili Salsa, [Fajita Vegetables, Rice, Cheese, Sour Cream, Lettuce]]',\n",
              " '[Roasted Chili Corn Salsa, [Fajita Vegetables, Rice, Black Beans, Guacamole]]',\n",
              " '[Tomatillo Red Chili Salsa, [Fajita Vegetables, Rice, Black Beans, Guacamole]]',\n",
              " ' ',\n",
              " '[Fresh Tomato Salsa, [Rice, Black Beans, Cheese]]',\n",
              " '[Fresh Tomato Salsa, [Sour Cream, Lettuce, Cheese, Rice]]',\n",
              " '[Fresh Tomato Salsa (Mild), [Pinto Beans, Rice, Cheese, Sour Cream]]',\n",
              " ' ',\n",
              " ' ',\n",
              " '[Tomatillo Green Chili Salsa, [Pinto Beans, Black Beans]]',\n",
              " '[Tomatillo Green Chili Salsa, Cheese]',\n",
              " ' ',\n",
              " '[Diet Coke]',\n",
              " '[Fresh Tomato Salsa, [Rice, Cheese, Lettuce]]',\n",
              " '[Tomatillo Green Chili Salsa, [Fajita Vegetables, Pinto Beans, Sour Cream, Cheese, Lettuce]]',\n",
              " ' ',\n",
              " '[Tomatillo Green Chili Salsa, [Rice, Black Beans, Cheese]]',\n",
              " '[Roasted Chili Corn Salsa, [Rice, Pinto Beans, Lettuce, Guacamole]]',\n",
              " ' ',\n",
              " '[Roasted Chili Corn Salsa (Medium), [Black Beans, Fajita Veggies, Cheese, Guacamole, Lettuce]]',\n",
              " '[Fresh Tomato (Mild), [Lettuce, Guacamole, Rice, Cheese]]',\n",
              " ' ',\n",
              " '[Tomatillo Red Chili Salsa]',\n",
              " '[Tomatillo Green Chili Salsa]',\n",
              " '[Diet Coke]',\n",
              " '[Roasted Chili Corn Salsa]',\n",
              " '[Roasted Chili Corn Salsa, [Fajita Vegetables, Rice, Black Beans, Guacamole]]',\n",
              " '[Fresh Tomato Salsa, [Rice, Cheese, Lettuce]]',\n",
              " '[Tomatillo Green Chili Salsa, [Rice, Black Beans, Cheese, Lettuce]]',\n",
              " ' ',\n",
              " '[Fresh Tomato Salsa, [Rice, Black Beans, Cheese, Sour Cream, Lettuce]]',\n",
              " ' ',\n",
              " '[Roasted Chili Corn Salsa]',\n",
              " ' ',\n",
              " '[Fresh Tomato Salsa, [Fajita Vegetables, Rice, Black Beans, Cheese, Sour Cream]]',\n",
              " '[Tomatillo Green Chili Salsa, [Fajita Vegetables, Rice, Black Beans, Cheese, Sour Cream, Lettuce]]',\n",
              " '[Fresh Tomato Salsa, [Fajita Vegetables, Black Beans, Cheese]]',\n",
              " '[Diet Coke]',\n",
              " '[Diet Coke]',\n",
              " '[Fresh Tomato Salsa, Fajita Vegetables]',\n",
              " '[Tomatillo Green Chili Salsa, [Fajita Vegetables, Black Beans, Sour Cream, Cheese]]',\n",
              " '[Fresh Tomato Salsa, [Rice, Sour Cream, Cheese]]',\n",
              " ' ',\n",
              " '[Roasted Chili Corn Salsa, [Fajita Vegetables, Sour Cream, Lettuce, Guacamole]]',\n",
              " '[Roasted Chili Corn Salsa, [Rice, Fajita Vegetables, Sour Cream, Cheese, Lettuce, Guacamole]]',\n",
              " '[Roasted Chili Corn Salsa, [Fajita Vegetables, Sour Cream, Cheese, Lettuce, Guacamole]]',\n",
              " '[Roasted Chili Corn Salsa, [Rice, Pinto Beans, Cheese, Sour Cream]]',\n",
              " '[Roasted Chili Corn Salsa, [Fajita Vegetables, Rice, Cheese, Lettuce]]',\n",
              " '[Fresh Tomato Salsa (Mild), [Pinto Beans, Rice, Cheese, Sour Cream, Lettuce]]',\n",
              " ' ',\n",
              " '[Clementine]',\n",
              " '[Grapefruit]',\n",
              " '[Tomatillo Green Chili Salsa, [Fajita Vegetables, Cheese, Lettuce]]',\n",
              " '[Fresh Tomato Salsa, [Fajita Vegetables, Cheese, Sour Cream, Guacamole, Lettuce]]',\n",
              " '[Roasted Chili Corn Salsa, [Rice, Black Beans, Cheese, Sour Cream, Guacamole, Lettuce]]',\n",
              " ' ',\n",
              " '[Fresh Tomato Salsa, Fajita Vegetables]',\n",
              " '[Fresh Tomato Salsa, [Rice, Pinto Beans, Cheese]]',\n",
              " ' ',\n",
              " '[Fresh Tomato Salsa (Mild), [Rice, Black Beans, Fajita Veggies, Cheese, Guacamole, Lettuce]]',\n",
              " '[Fresh Tomato Salsa, [Fajita Vegetables, Rice, Cheese, Sour Cream, Guacamole, Lettuce]]',\n",
              " '[Roasted Chili Corn Salsa]',\n",
              " '[Tomatillo Green Chili Salsa, [Black Beans, Sour Cream, Cheese, Lettuce, Guacamole]]',\n",
              " '[Roasted Chili Corn Salsa, [Rice, Cheese, Lettuce]]',\n",
              " ' ',\n",
              " ' ',\n",
              " '[[Roasted Chili Corn Salsa (Medium), Tomatillo-Red Chili Salsa (Hot)], [Rice, Cheese, Sour Cream, Guacamole]]',\n",
              " '[Fresh Tomato Salsa (Mild), [Rice, Cheese, Sour Cream, Lettuce]]',\n",
              " ' ',\n",
              " '[Fresh Tomato Salsa (Mild), [Pinto Beans, Fajita Veggies, Cheese, Sour Cream, Lettuce]]',\n",
              " '[Fresh Tomato Salsa (Mild), [Pinto Beans, Rice, Cheese, Sour Cream, Lettuce]]',\n",
              " '[Fresh Tomato Salsa (Mild), [Pinto Beans, Cheese, Sour Cream, Lettuce]]',\n",
              " '[Pineapple Orange Banana]',\n",
              " '[Roasted Chili Corn Salsa, [Rice, Pinto Beans, Cheese, Lettuce, Guacamole]]',\n",
              " ' ',\n",
              " '[Fresh Tomato Salsa, [Rice, Pinto Beans, Sour Cream, Cheese, Lettuce]]',\n",
              " ' ',\n",
              " '[Fresh Tomato Salsa, [Pinto Beans, Cheese, Guacamole, Lettuce]]',\n",
              " '[Fresh Tomato Salsa, Lettuce]',\n",
              " '[Fresh Tomato Salsa, [Rice, Black Beans, Cheese, Lettuce]]',\n",
              " ' ',\n",
              " '[Nestea]',\n",
              " '[Tomatillo Red Chili Salsa, [Rice, Pinto Beans, Cheese, Sour Cream]]',\n",
              " '[Fresh Tomato Salsa, [Rice, Black Beans, Sour Cream]]',\n",
              " '[Tomatillo Red Chili Salsa, [Fajita Vegetables, Black Beans, Cheese, Guacamole, Lettuce]]',\n",
              " '[Tomatillo Green Chili Salsa, [Rice, Black Beans, Sour Cream, Lettuce]]',\n",
              " '[Tomatillo Red Chili Salsa, [Rice, Cheese, Lettuce]]',\n",
              " ' ',\n",
              " ' ',\n",
              " '[Diet Coke]',\n",
              " '[Fresh Tomato Salsa (Mild), [Pinto Beans, Rice, Cheese, Sour Cream]]',\n",
              " ' ',\n",
              " '[Tomatillo-Red Chili Salsa (Hot), [Black Beans, Rice, Cheese, Sour Cream, Guacamole, Lettuce]]',\n",
              " '[Dr. Pepper]',\n",
              " '[Tomatillo Green Chili Salsa]',\n",
              " ' ',\n",
              " '[Roasted Chili Corn Salsa, [Rice, Cheese, Lettuce]]',\n",
              " '[Tomatillo Green Chili Salsa, [Sour Cream, Cheese, Guacamole]]',\n",
              " ' ',\n",
              " ' ',\n",
              " '[Tomatillo Green Chili Salsa, [Fajita Vegetables, Rice, Cheese, Sour Cream, Lettuce]]',\n",
              " '[Roasted Chili Corn Salsa, [Fajita Vegetables, Rice, Cheese, Sour Cream, Lettuce]]',\n",
              " '[Fresh Tomato Salsa (Mild), [Pinto Beans, Rice, Cheese, Sour Cream]]',\n",
              " ' ',\n",
              " '[Tomatillo Green Chili Salsa, [Black Beans, Cheese, Guacamole]]',\n",
              " '[Tomatillo Red Chili Salsa, [Cheese, Guacamole]]',\n",
              " '[Coke]',\n",
              " '[Fresh Tomato Salsa, [Rice, Pinto Beans, Cheese, Sour Cream]]',\n",
              " '[Fresh Tomato Salsa, [Rice, Pinto Beans, Cheese, Sour Cream, Lettuce]]',\n",
              " '[Fresh Tomato Salsa, [Rice, Cheese, Sour Cream]]',\n",
              " '[Diet Coke]',\n",
              " '[Tomatillo Red Chili Salsa, [Rice, Black Beans, Cheese, Sour Cream]]',\n",
              " '[Roasted Chili Corn Salsa, [Black Beans, Cheese, Sour Cream]]',\n",
              " ' ',\n",
              " '[Fresh Tomato Salsa (Mild), [Pinto Beans, Rice, Cheese, Sour Cream]]',\n",
              " ' ',\n",
              " '[Roasted Chili Corn Salsa (Medium), [Rice, Black Beans, Sour Cream]]',\n",
              " '[Sprite]',\n",
              " '[Tomatillo-Red Chili Salsa (Hot), [Black Beans, Rice, Fajita Veggies, Cheese, Lettuce]]',\n",
              " ' ',\n",
              " '[Roasted Chili Corn Salsa (Medium), [Rice, Black Beans, Sour Cream, Guacamole]]',\n",
              " ' ',\n",
              " '[Coke]',\n",
              " '[Fresh Tomato Salsa, [Rice, Pinto Beans, Sour Cream, Cheese]]',\n",
              " ' ',\n",
              " '[Fresh Tomato Salsa, [Fajita Vegetables, Rice, Lettuce]]',\n",
              " ' ',\n",
              " '[Fresh Tomato Salsa, [Fajita Vegetables, Rice, Sour Cream, Lettuce]]',\n",
              " ' ',\n",
              " '[Fresh Tomato Salsa, [Rice, Black Beans, Sour Cream, Cheese, Lettuce, Guacamole]]',\n",
              " '[Fresh Tomato Salsa, [Rice, Black Beans, Sour Cream, Cheese, Lettuce]]',\n",
              " '[Tomatillo-Red Chili Salsa (Hot), [Black Beans, Rice, Cheese, Sour Cream, Lettuce]]',\n",
              " ' ',\n",
              " '[Fresh Tomato Salsa (Mild), [Pinto Beans, Rice, Cheese, Sour Cream]]',\n",
              " ' ',\n",
              " '[Tomatillo-Red Chili Salsa (Hot), [Black Beans, Rice, Fajita Veggies, Cheese, Lettuce]]',\n",
              " '[[Fresh Tomato Salsa (Mild), Roasted Chili Corn Salsa (Medium)], [Black Beans, Rice, Fajita Veggies, Cheese, Sour Cream, Lettuce]]',\n",
              " ' ',\n",
              " '[Fresh Tomato Salsa (Mild), [Black Beans, Rice, Fajita Veggies, Cheese, Lettuce]]',\n",
              " '[Fresh Tomato Salsa, [Rice, Black Beans, Cheese, Sour Cream, Guacamole, Lettuce]]',\n",
              " ' ',\n",
              " '[Lemonade]',\n",
              " ' ',\n",
              " '[Roasted Chili Corn Salsa (Medium), [Black Beans, Rice, Fajita Veggies, Cheese, Sour Cream, Guacamole, Lettuce]]',\n",
              " '[Adobo-Marinated and Grilled Steak, [Sour Cream, Salsa, Cheese, Cilantro-Lime Rice, Guacamole]]',\n",
              " ' ',\n",
              " '[Adobo-Marinated and Grilled Chicken, [Sour Cream, Cheese, Cilantro-Lime Rice]]',\n",
              " ' ',\n",
              " '[Fresh Tomato Salsa (Mild), [Pinto Beans, Rice, Cheese, Sour Cream]]',\n",
              " ' ',\n",
              " '[Roasted Chili Corn Salsa, [Fajita Vegetables, Rice, Cheese, Lettuce]]',\n",
              " ' ',\n",
              " '[Tomatillo Red Chili Salsa, [Guacamole, Cheese]]',\n",
              " '[Coke]',\n",
              " '[Roasted Chili Corn Salsa, [Rice, Cheese, Guacamole]]',\n",
              " '[Coke]',\n",
              " '[Fresh Tomato Salsa, [Rice, Black Beans, Cheese, Guacamole, Lettuce]]',\n",
              " ' ',\n",
              " '[Fresh Tomato Salsa, [Fajita Vegetables, Rice, Cheese, Sour Cream, Guacamole]]',\n",
              " ' ',\n",
              " '[Diet Coke]',\n",
              " '[Fresh Tomato Salsa, [Fajita Vegetables, Rice, Cheese, Sour Cream, Guacamole, Lettuce]]',\n",
              " '[Tomatillo-Red Chili Salsa (Hot), [Black Beans, Rice, Fajita Veggies, Cheese, Sour Cream, Lettuce]]',\n",
              " ' ',\n",
              " '[Fresh Tomato Salsa, [Sour Cream, Cheese, Lettuce]]',\n",
              " ' ',\n",
              " '[Diet Coke]',\n",
              " '[Fresh Tomato Salsa (Mild), [Black Beans, Rice, Fajita Veggies, Cheese, Sour Cream, Lettuce]]',\n",
              " '[Tomatillo-Green Chili Salsa (Medium), [Pinto Beans, Cheese, Sour Cream, Lettuce]]',\n",
              " '[Coca Cola]',\n",
              " '[Fresh Tomato Salsa (Mild), [Rice, Cheese, Sour Cream, Lettuce]]',\n",
              " '[Coca Cola]',\n",
              " ' ',\n",
              " '[Tomatillo Red Chili Salsa, [Black Beans, Cheese, Lettuce]]',\n",
              " ' ',\n",
              " '[Lemonade]',\n",
              " ' ',\n",
              " '[Tomatillo Green Chili Salsa, [Rice, Sour Cream, Cheese, Guacamole]]',\n",
              " '[Fresh Tomato Salsa, [Fajita Vegetables, Rice, Cheese, Sour Cream, Lettuce]]',\n",
              " ' ',\n",
              " '[Lemonade]',\n",
              " '[Fresh Tomato Salsa (Mild), [Pinto Beans, Rice, Cheese, Sour Cream]]',\n",
              " ' ',\n",
              " '[[Roasted Chili Corn Salsa (Medium), Fresh Tomato Salsa (Mild)], [Rice, Pinto Beans, Cheese, Sour Cream, Guacamole, Lettuce]]',\n",
              " ' ',\n",
              " '[Fresh Tomato Salsa (Mild), [Pinto Beans, Rice, Cheese, Sour Cream]]',\n",
              " '[Tomatillo Red Chili Salsa, [Rice, Fajita Vegetables, Black Beans, Cheese, Lettuce, Guacamole]]',\n",
              " '[Diet Coke]',\n",
              " '[Tomatillo-Green Chili Salsa (Medium), [Rice, Cheese, Sour Cream, Lettuce]]',\n",
              " ' ',\n",
              " '[Tomatillo Green Chili Salsa, [Fajita Vegetables, Rice, Black Beans, Cheese, Sour Cream, Guacamole, Lettuce]]',\n",
              " '[Coke]',\n",
              " '[Nestea]',\n",
              " '[Roasted Chili Corn Salsa, [Rice, Black Beans, Cheese, Sour Cream, Lettuce]]',\n",
              " '[Tomatillo Red Chili Salsa, [Rice, Pinto Beans, Cheese, Sour Cream, Lettuce]]',\n",
              " '[Fresh Tomato Salsa]',\n",
              " ' ',\n",
              " '[Roasted Chili Corn Salsa, [Fajita Vegetables, Rice, Black Beans, Cheese]]',\n",
              " '[Roasted Chili Corn Salsa, [Fajita Vegetables, Black Beans, Sour Cream, Guacamole, Lettuce]]',\n",
              " '[Roasted Chili Corn (Medium), [Sour Cream, Cheese]]',\n",
              " '[Fresh Tomato (Mild), [Lettuce, Cheese]]',\n",
              " ' ',\n",
              " ' ',\n",
              " '[Fresh Tomato Salsa (Mild), [Pinto Beans, Rice, Cheese, Sour Cream]]',\n",
              " '[Fresh Tomato Salsa, [Rice, Black Beans, Sour Cream, Cheese]]',\n",
              " '[Roasted Chili Corn Salsa, [Rice, Fajita Vegetables, Black Beans, Sour Cream, Cheese, Lettuce]]',\n",
              " '[Sprite]',\n",
              " '[Tomatillo Green Chili Salsa, [Rice, Cheese, Guacamole, Lettuce]]',\n",
              " '[Tomatillo Red Chili Salsa, [Fajita Vegetables, Rice, Black Beans, Cheese, Guacamole, Lettuce]]',\n",
              " '[Tomatillo Red Chili Salsa, [Fajita Vegetables, Rice, Black Beans, Cheese, Guacamole, Lettuce]]',\n",
              " '[Tomatillo Red Chili Salsa, [Guacamole, Cheese]]',\n",
              " '[Coke]',\n",
              " '[Roasted Chili Corn Salsa]',\n",
              " '[Roasted Chili Corn Salsa, [Fajita Vegetables, Rice, Black Beans, Sour Cream, Guacamole]]',\n",
              " '[Coke]',\n",
              " ' ',\n",
              " '[Fresh Tomato Salsa (Mild), [Cheese, Rice, Pinto Beans, Sour Cream]]',\n",
              " '[Fresh Tomato Salsa, [Rice, Black Beans, Cheese, Guacamole, Lettuce]]',\n",
              " ' ',\n",
              " '[Roasted Chili Corn Salsa, [Rice, Sour Cream, Cheese, Guacamole]]',\n",
              " '[Roasted Chili Corn Salsa, [Rice, Cheese, Lettuce, Guacamole]]',\n",
              " '[Tomatillo-Red Chili Salsa (Hot), [Black Beans, Rice, Cheese, Sour Cream, Lettuce]]',\n",
              " ' ',\n",
              " '[Tomatillo-Red Chili Salsa (Hot), [Black Beans, Rice, Fajita Veggies, Cheese, Lettuce]]',\n",
              " '[[Roasted Chili Corn Salsa (Medium), Fresh Tomato Salsa (Mild)], [Cheese, Fajita Veggies, Lettuce, Sour Cream, Rice, Black Beans]]',\n",
              " ' ',\n",
              " '[Fresh Tomato Salsa (Mild), [Rice, Fajita Veggies, Cheese, Lettuce, Black Beans]]',\n",
              " '[Fresh Tomato Salsa, [Rice, Pinto Beans, Cheese, Sour Cream, Lettuce]]',\n",
              " '[Fresh Tomato Salsa, [Rice, Cheese, Sour Cream, Lettuce]]',\n",
              " ' ',\n",
              " '[White Rice, Adobo-Marinated and Grilled Steak, [Salsa, Cheese]]',\n",
              " '[White Rice, Adobo-Marinated and Grilled Steak, Pinto Beans, [Sour Cream, Salsa, Cheese, Cilantro-Lime Rice]]',\n",
              " '[Fresh Tomato Salsa, [Rice, Pinto Beans, Cheese]]',\n",
              " '[Fresh Tomato Salsa, [Fajita Vegetables, Lettuce]]',\n",
              " '[Fresh Tomato Salsa, [Sour Cream, Lettuce]]',\n",
              " ' ',\n",
              " '[Roasted Chili Corn Salsa, [Fajita Vegetables, Rice, Black Beans, Cheese, Sour Cream, Guacamole, Lettuce]]',\n",
              " '[Sprite]',\n",
              " '[Roasted Chili Corn Salsa, [Rice, Cheese, Guacamole]]',\n",
              " '[Roasted Chili Corn Salsa, [Rice, Cheese, Guacamole]]',\n",
              " '[Coke]',\n",
              " ' ',\n",
              " '[Fresh Tomato Salsa (Mild), [Cheese, Rice, Pinto Beans, Sour Cream]]',\n",
              " '[Tomatillo-Green Chili Salsa (Medium), Black Beans]',\n",
              " '[Tomatillo-Green Chili Salsa (Medium), Black Beans]',\n",
              " '[Tomatillo-Green Chili Salsa (Medium), Pinto Beans]',\n",
              " '[Fresh Tomato Salsa, [Rice, Black Beans, Cheese, Sour Cream, Lettuce]]',\n",
              " ' ',\n",
              " '[Sprite]',\n",
              " '[[Fresh Tomato Salsa (Mild), Roasted Chili Corn Salsa (Medium), Tomatillo-Red Chili Salsa (Hot)], [Black Beans, Rice, Fajita Veggies, Lettuce]]',\n",
              " '[Diet Coke]',\n",
              " ' ',\n",
              " '[Fresh Tomato Salsa, [Black Beans, Cheese, Sour Cream, Lettuce]]',\n",
              " ' ',\n",
              " '[Nestea]',\n",
              " '[Tomatillo Red Chili Salsa, [Rice, Cheese]]',\n",
              " '[Lemonade]',\n",
              " ' ',\n",
              " '[Roasted Chili Corn Salsa, [Rice, Black Beans, Cheese, Lettuce, Guacamole]]',\n",
              " '[Diet Coke]',\n",
              " ' ',\n",
              " '[Fresh Tomato Salsa, [Rice, Black Beans, Cheese]]',\n",
              " '[Coke]',\n",
              " ' ',\n",
              " '[Roasted Chili Corn Salsa, [Fajita Vegetables, Rice, Pinto Beans, Cheese, Sour Cream, Lettuce]]',\n",
              " '[Roasted Chili Corn Salsa, [Fajita Vegetables, Rice, Black Beans, Cheese, Lettuce]]',\n",
              " '[Tomatillo Red Chili Salsa, [Fajita Vegetables, Rice, Black Beans, Cheese, Sour Cream, Lettuce]]',\n",
              " '[Tomatillo Red Chili Salsa, [Fajita Vegetables, Rice, Black Beans, Sour Cream, Guacamole, Lettuce]]',\n",
              " '[Tomatillo Red Chili Salsa, [Fajita Vegetables, Rice, Sour Cream, Guacamole, Lettuce]]',\n",
              " '[[Fresh Tomato Salsa (Mild), Roasted Chili Corn Salsa (Medium)], [Rice, Sour Cream, Guacamole, Lettuce]]',\n",
              " ' ',\n",
              " '[Fresh Tomato Salsa (Mild), [Rice, Fajita Veggies, Cheese, Sour Cream, Guacamole, Lettuce]]',\n",
              " ' ',\n",
              " ' ',\n",
              " '[Tomatillo-Red Chili Salsa (Hot), [Black Beans, Rice, Cheese, Sour Cream, Lettuce]]',\n",
              " '[Tomatillo Red Chili Salsa, [Rice, Fajita Vegetables, Black Beans, Sour Cream, Cheese]]',\n",
              " '[Tomatillo Red Chili Salsa, [Rice, Fajita Vegetables, Black Beans, Sour Cream, Cheese]]',\n",
              " '[Roasted Chili Corn Salsa (Medium), [Rice, Black Beans, Sour Cream, Lettuce]]',\n",
              " '[Mountain Dew]',\n",
              " '[Fresh Tomato Salsa, [Fajita Vegetables, Rice, Cheese, Lettuce]]',\n",
              " ' ',\n",
              " '[Fresh Tomato Salsa, [Rice, Black Beans, Cheese, Sour Cream]]',\n",
              " '[Tomatillo Green Chili Salsa, [Rice, Black Beans, Cheese, Sour Cream]]',\n",
              " ' ',\n",
              " '[Fresh Tomato Salsa (Mild), [Cheese, Rice, Pinto Beans, Sour Cream]]',\n",
              " '[Roasted Chili Corn Salsa, [Rice, Cheese, Sour Cream, Lettuce]]',\n",
              " '[Tomatillo Red Chili Salsa, [Rice, Cheese, Sour Cream, Lettuce]]',\n",
              " '[Tomatillo Green Chili Salsa, [Black Beans, Cheese, Guacamole]]',\n",
              " '[[Roasted Chili Corn Salsa (Medium), Fresh Tomato Salsa (Mild)], [Rice, Black Beans, Fajita Veggies, Cheese, Sour Cream, Guacamole]]',\n",
              " ' ',\n",
              " ' ',\n",
              " '[Fresh Tomato Salsa (Mild), [Rice, Pinto Beans, Cheese, Sour Cream]]',\n",
              " '[Coca Cola]',\n",
              " '[Fresh Tomato (Mild), [Guacamole, Sour Cream, Cheese]]',\n",
              " '[Fresh Tomato Salsa, [Rice, Black Beans, Cheese, Sour Cream, Lettuce]]',\n",
              " ' ',\n",
              " '[Fresh Tomato (Mild), [Guacamole, Lettuce, Pinto Beans, Rice, Sour Cream, Cheese]]',\n",
              " ' ',\n",
              " '[Fresh Tomato Salsa (Mild), [Cheese, Pinto Beans, Sour Cream, Rice]]',\n",
              " ' ',\n",
              " '[Roasted Chili Corn Salsa, [Fajita Vegetables, Black Beans, Cheese]]',\n",
              " '[Fresh Tomato Salsa, [Rice, Cheese, Lettuce]]',\n",
              " '[Roasted Chili Corn Salsa, [Black Beans, Cheese, Sour Cream, Guacamole]]',\n",
              " '[Fresh Tomato Salsa, [Rice, Black Beans, Cheese, Sour Cream, Guacamole]]',\n",
              " '[Fresh Tomato Salsa, [Rice, Black Beans, Cheese, Sour Cream]]',\n",
              " '[Tomatillo-Green Chili Salsa (Medium), [Black Beans, Rice, Fajita Veggies, Sour Cream]]',\n",
              " '[Fresh Tomato Salsa (Mild), [Pinto Beans, Rice, Fajita Veggies, Sour Cream]]',\n",
              " '[Fresh Tomato Salsa (Mild), [Pinto Beans, Rice, Sour Cream]]',\n",
              " '[Tomatillo Red Chili Salsa, [Rice, Black Beans, Cheese, Sour Cream, Lettuce]]',\n",
              " ' ',\n",
              " ' ',\n",
              " '[Tomatillo Red Chili Salsa, [Rice, Cheese, Lettuce]]',\n",
              " ' ',\n",
              " '[Tomatillo Green Chili Salsa]',\n",
              " '[Roasted Chili Corn Salsa, Fajita Vegetables]',\n",
              " '[Fresh Tomato Salsa, [Rice, Guacamole]]',\n",
              " ' ',\n",
              " '[Fresh Tomato Salsa (Mild), [Rice, Sour Cream, Cheese, Pinto Beans]]',\n",
              " '[Tomatillo-Green Chili Salsa (Medium), [Black Beans, Rice, Cheese]]',\n",
              " ' ',\n",
              " '[Fresh Tomato Salsa, [Rice, Black Beans, Cheese, Sour Cream, Guacamole]]',\n",
              " '[Sprite]',\n",
              " '[Fresh Tomato Salsa, [Fajita Vegetables, Rice, Pinto Beans, Lettuce]]',\n",
              " ' ',\n",
              " '[Roasted Chili Corn Salsa, [Rice, Pinto Beans, Sour Cream, Cheese]]',\n",
              " '[Roasted Chili Corn Salsa, [Rice, Black Beans, Sour Cream, Cheese]]',\n",
              " ' ',\n",
              " '[Fresh Tomato Salsa, [Rice, Black Beans, Sour Cream, Lettuce]]',\n",
              " '[Tomatillo Red Chili Salsa, [Rice, Pinto Beans, Cheese, Sour Cream]]',\n",
              " '[Fresh Tomato Salsa, [Rice, Black Beans, Cheese, Lettuce]]',\n",
              " '[Fresh Tomato Salsa, [Fajita Vegetables, Rice, Black Beans, Cheese, Lettuce]]',\n",
              " '[Roasted Chili Corn Salsa, [Rice, Fajita Vegetables, Sour Cream, Cheese, Lettuce]]',\n",
              " '[Tomatillo Green Chili Salsa, [Rice, Fajita Vegetables, Black Beans, Cheese]]',\n",
              " '[Roasted Chili Corn Salsa (Medium), [Rice, Fajita Veggies, Sour Cream, Guacamole, Lettuce]]',\n",
              " '[Roasted Chili Corn Salsa (Medium), [Rice, Sour Cream, Lettuce]]',\n",
              " '[Fresh Tomato Salsa, [Black Beans, Cheese, Guacamole]]',\n",
              " '[Roasted Chili Corn Salsa, [Cheese, Rice, Guacamole]]',\n",
              " '[Roasted Chili Corn Salsa, [Rice, Cheese, Guacamole]]',\n",
              " '[Coke]',\n",
              " '[Tomatillo Green Chili Salsa, [Rice, Pinto Beans, Sour Cream, Lettuce]]',\n",
              " ' ',\n",
              " '[Diet Coke]',\n",
              " '[Tomatillo Red Chili Salsa, [Rice, Sour Cream, Cheese, Guacamole]]',\n",
              " '[Fresh Tomato Salsa, [Rice, Black Beans, Cheese]]',\n",
              " '[Sprite]',\n",
              " '[Fresh Tomato Salsa, [Rice, Black Beans, Sour Cream, Guacamole]]',\n",
              " ' ',\n",
              " '[Fresh Tomato Salsa, [Cheese, Sour Cream, Guacamole, Lettuce]]',\n",
              " '[Roasted Chili Corn Salsa, [Fajita Vegetables, Pinto Beans, Sour Cream, Guacamole]]',\n",
              " '[Fresh Tomato Salsa, [Fajita Vegetables, Rice, Cheese, Sour Cream]]',\n",
              " '[Coke]',\n",
              " ' ',\n",
              " '[Tomatillo Green Chili Salsa, [Rice, Cheese, Sour Cream, Lettuce]]',\n",
              " ' ',\n",
              " '[Roasted Chili Corn Salsa, [Rice, Cheese, Lettuce, Guacamole]]',\n",
              " '[Diet Coke]',\n",
              " '[Tomatillo Red Chili Salsa]',\n",
              " '[Tomatillo Red Chili Salsa]',\n",
              " '[Tomatillo Red Chili Salsa, [Fajita Vegetables, Rice, Pinto Beans, Cheese, Sour Cream, Lettuce]]',\n",
              " '[Tomatillo Red Chili Salsa, [Rice, Cheese, Sour Cream, Guacamole, Lettuce]]',\n",
              " ' ',\n",
              " '[Tomatillo-Red Chili Salsa (Hot), [Pinto Beans, Rice, Fajita Veggies, Cheese, Sour Cream, Lettuce]]',\n",
              " '[Fresh Tomato Salsa (Mild), [Black Beans, Rice, Cheese, Sour Cream, Lettuce]]',\n",
              " '[Fresh Tomato Salsa (Mild), [Rice, Fajita Veggies, Sour Cream, Guacamole]]',\n",
              " '[Fresh Tomato Salsa (Mild), [Rice, Cheese, Sour Cream, Lettuce]]',\n",
              " ' ',\n",
              " '[Tomatillo Green Chili Salsa, [Rice, Cheese, Sour Cream, Lettuce]]',\n",
              " ' ',\n",
              " '[[Fresh Tomato Salsa (Mild), Roasted Chili Corn Salsa (Medium), Tomatillo-Red Chili Salsa (Hot)], [Black Beans, Rice, Sour Cream]]',\n",
              " ' ',\n",
              " '[Roasted Chili Corn Salsa, [Rice, Black Beans, Cheese, Sour Cream, Guacamole, Lettuce]]',\n",
              " '[Fresh Tomato Salsa, [Rice, Cheese, Sour Cream]]',\n",
              " '[Roasted Chili Corn Salsa, [Rice, Black Beans, Cheese, Sour Cream, Guacamole]]',\n",
              " ' ',\n",
              " '[Fresh Tomato Salsa, [Fajita Vegetables, Rice, Black Beans, Sour Cream, Guacamole, Lettuce]]',\n",
              " '[Coke]',\n",
              " '[Roasted Chili Corn Salsa, [Fajita Vegetables, Rice, Black Beans, Cheese, Guacamole]]',\n",
              " ' ',\n",
              " '[Roasted Chili Corn Salsa (Medium), [Rice, Fajita Veggies, Cheese, Sour Cream, Lettuce]]',\n",
              " '[Roasted Chili Corn Salsa (Medium), [Rice, Fajita Veggies, Cheese, Sour Cream, Lettuce]]',\n",
              " '[Mountain Dew]',\n",
              " '[Roasted Chili Corn Salsa (Medium), [Black Beans, Rice, Cheese]]',\n",
              " '[Roasted Chili Corn Salsa (Medium), [Black Beans, Rice, Cheese]]',\n",
              " '[Fresh Tomato Salsa (Mild), [Black Beans, Rice, Cheese, Sour Cream, Lettuce]]',\n",
              " ' ',\n",
              " '[Roasted Chili Corn Salsa, [Fajita Vegetables, Rice, Cheese, Sour Cream, Guacamole, Lettuce]]',\n",
              " '[Roasted Chili Corn Salsa, [Fajita Vegetables, Rice, Cheese, Sour Cream, Guacamole, Lettuce]]',\n",
              " ' ',\n",
              " '[Lemonade]',\n",
              " '[Roasted Chili Corn Salsa, [Cheese, Sour Cream, Lettuce]]',\n",
              " '[Tomatillo Red Chili Salsa, [Fajita Vegetables, Rice, Black Beans, Pinto Beans, Cheese, Sour Cream, Guacamole, Lettuce]]',\n",
              " '[Roasted Chili Corn Salsa, [Rice, Cheese, Sour Cream, Lettuce]]',\n",
              " ' ',\n",
              " ' ',\n",
              " '[Tomatillo-Red Chili Salsa (Hot), Cheese]',\n",
              " '[Tomatillo-Red Chili Salsa (Hot), Cheese]',\n",
              " '[Pomegranate Cherry]',\n",
              " '[Fresh Tomato (Mild), [Lettuce, Black Beans, Rice, Cheese]]',\n",
              " ' ',\n",
              " '[Tomatillo Green Chili Salsa, [Rice, Cheese, Sour Cream, Lettuce]]',\n",
              " ' ',\n",
              " '[Fresh Tomato Salsa, [Rice, Black Beans, Cheese, Sour Cream]]',\n",
              " '[Fresh Tomato Salsa, [Rice, Black Beans, Guacamole, Lettuce]]',\n",
              " ' ',\n",
              " '[Fresh Tomato Salsa, [Fajita Vegetables, Rice, Cheese, Sour Cream, Lettuce]]',\n",
              " '[Fresh Tomato Salsa (Mild), [Pinto Beans, Rice, Cheese, Sour Cream, Lettuce]]',\n",
              " ' ',\n",
              " '[Tomatillo-Red Chili Salsa (Hot), [Pinto Beans, Black Beans, Rice, Fajita Veggies, Cheese]]',\n",
              " '[Tomatillo-Red Chili Salsa (Hot), [Rice, Fajita Veggies, Cheese, Sour Cream, Lettuce]]',\n",
              " '[Lemonade]',\n",
              " '[Roasted Chili Corn Salsa, [Rice, Fajita Vegetables, Sour Cream, Cheese, Lettuce]]',\n",
              " '[Roasted Chili Corn Salsa, [Rice, Fajita Vegetables, Cheese, Lettuce, Guacamole]]',\n",
              " '[Roasted Chili Corn Salsa, [Rice, Fajita Vegetables, Sour Cream, Lettuce, Guacamole]]',\n",
              " '[Tomatillo-Red Chili Salsa (Hot), [Pinto Beans, Rice, Cheese, Sour Cream]]',\n",
              " ' ',\n",
              " '[Fresh Tomato Salsa, [Fajita Vegetables, Rice, Black Beans, Sour Cream]]',\n",
              " ' ',\n",
              " '[Fresh Tomato Salsa, Lettuce]',\n",
              " ' ',\n",
              " '[Roasted Chili Corn Salsa, [Fajita Vegetables, Rice, Black Beans, Cheese, Sour Cream]]',\n",
              " ' ',\n",
              " ' ',\n",
              " '[Fresh Tomato Salsa (Mild), [Rice, Cheese, Sour Cream, Lettuce]]',\n",
              " '[[Fresh Tomato Salsa (Mild), Roasted Chili Corn Salsa (Medium)], [Pinto Beans, Rice, Fajita Veggies, Cheese, Sour Cream, Lettuce]]',\n",
              " ' ',\n",
              " '[Tomatillo-Red Chili Salsa (Hot), [Black Beans, Rice, Cheese]]',\n",
              " ' ',\n",
              " '[Coca Cola]',\n",
              " '[Fresh Tomato Salsa (Mild), [Pinto Beans, Rice, Cheese, Sour Cream, Lettuce]]',\n",
              " '[Sprite]',\n",
              " '[Fresh Tomato Salsa, [Rice, Pinto Beans, Cheese]]',\n",
              " '[Fresh Tomato Salsa, [Fajita Vegetables, Lettuce]]',\n",
              " '[Tomatillo-Red Chili Salsa (Hot), [Cheese, Sour Cream, Lettuce]]',\n",
              " ' ',\n",
              " '[Diet Coke]',\n",
              " '[Coke]',\n",
              " '[Fresh Tomato Salsa, [Fajita Vegetables, Sour Cream, Cheese, Guacamole]]',\n",
              " '[Fresh Tomato Salsa, [Sour Cream, Cheese, Guacamole]]',\n",
              " '[Fresh Tomato Salsa, [Rice, Black Beans, Cheese, Sour Cream]]',\n",
              " '[Fresh Tomato Salsa, [Cheese, Sour Cream]]',\n",
              " '[Roasted Chili Corn Salsa, [Rice, Black Beans, Cheese, Lettuce, Guacamole]]',\n",
              " ' ',\n",
              " ' ',\n",
              " '[Fresh Tomato Salsa (Mild), [Rice, Pinto Beans, Cheese, Sour Cream]]',\n",
              " '[Tomatillo Green Chili Salsa, [Rice, Fajita Vegetables, Pinto Beans, Sour Cream, Cheese, Lettuce, Guacamole]]',\n",
              " '[Tomatillo Red Chili Salsa]',\n",
              " '[Tomatillo Red Chili Salsa, [Rice, Black Beans, Cheese, Lettuce, Guacamole]]',\n",
              " '[Fresh Tomato Salsa, [Fajita Vegetables, Rice, Lettuce]]',\n",
              " '[Fresh Tomato Salsa, [Rice, Black Beans, Cheese, Lettuce]]',\n",
              " ' ',\n",
              " '[Fresh Tomato Salsa, [Fajita Vegetables, Rice, Black Beans, Cheese, Sour Cream, Lettuce]]',\n",
              " '[Tomatillo Green Chili Salsa, [Fajita Vegetables, Rice, Black Beans, Cheese, Sour Cream, Lettuce]]',\n",
              " '[Roasted Chili Corn Salsa (Medium), [Black Beans, Rice, Cheese, Sour Cream]]',\n",
              " ' ',\n",
              " '[Fresh Tomato Salsa, [Fajita Vegetables, Rice, Pinto Beans, Cheese, Guacamole, Lettuce]]',\n",
              " '[Fresh Tomato Salsa, [Fajita Vegetables, Rice, Pinto Beans, Cheese, Sour Cream, Lettuce]]',\n",
              " ' ',\n",
              " '[Fresh Tomato Salsa, [Fajita Vegetables, Pinto Beans, Cheese, Guacamole]]',\n",
              " '[Diet Coke]',\n",
              " '[Tomatillo Red Chili Salsa, [Black Beans, Cheese, Sour Cream, Guacamole]]',\n",
              " '[Diet Coke]',\n",
              " '[Roasted Chili Corn Salsa, [Rice, Sour Cream, Cheese, Guacamole]]',\n",
              " '[Roasted Chili Corn Salsa, [Rice, Sour Cream, Cheese, Guacamole]]',\n",
              " '[Coke]',\n",
              " '[Tomatillo Green Chili Salsa, [Rice, Sour Cream, Cheese, Guacamole]]',\n",
              " '[Fresh Tomato Salsa, [Rice, Fajita Vegetables, Pinto Beans, Sour Cream, Cheese, Lettuce, Guacamole]]',\n",
              " '[[Fresh Tomato Salsa (Mild), Tomatillo-Red Chili Salsa (Hot)], [Black Beans, Rice, Cheese, Sour Cream]]',\n",
              " '[Roasted Chili Corn Salsa (Medium), [Black Beans, Rice, Sour Cream, Guacamole]]',\n",
              " '[Roasted Chili Corn Salsa, [Rice, Black Beans]]',\n",
              " '[Diet Coke]',\n",
              " '[Roasted Chili Corn Salsa, [Black Beans, Lettuce]]',\n",
              " ...]"
            ]
          },
          "metadata": {
            "tags": []
          },
          "execution_count": 129
        }
      ]
    },
    {
      "cell_type": "code",
      "metadata": {
        "id": "Jm4I-F0Wt3b7",
        "colab_type": "code",
        "colab": {}
      },
      "source": [
        "for elem in tmp:\n",
        "  elem=elem.strip('[]')"
      ],
      "execution_count": 0,
      "outputs": []
    },
    {
      "cell_type": "code",
      "metadata": {
        "id": "S2FYbSJCKYLI",
        "colab_type": "code",
        "outputId": "e6a69095-5576-4a1f-e9b2-e8da0b3393fd",
        "colab": {
          "base_uri": "https://localhost:8080/",
          "height": 1000
        }
      },
      "source": [
        "tmp"
      ],
      "execution_count": 0,
      "outputs": [
        {
          "output_type": "execute_result",
          "data": {
            "text/plain": [
              "[' ',\n",
              " '[Clementine]',\n",
              " '[Apple]',\n",
              " ' ',\n",
              " '[Tomatillo-Red Chili Salsa (Hot), [Black Beans, Rice, Cheese, Sour Cream]]',\n",
              " '[Fresh Tomato Salsa (Mild), [Rice, Cheese, Sour Cream, Guacamole, Lettuce]]',\n",
              " ' ',\n",
              " '[Tomatillo Red Chili Salsa, [Fajita Vegetables, Black Beans, Pinto Beans, Cheese, Sour Cream, Guacamole, Lettuce]]',\n",
              " '[Tomatillo Green Chili Salsa, [Pinto Beans, Cheese, Sour Cream, Lettuce]]',\n",
              " '[Fresh Tomato Salsa, [Rice, Black Beans, Pinto Beans, Cheese, Sour Cream, Lettuce]]',\n",
              " ' ',\n",
              " '[Roasted Chili Corn Salsa, [Fajita Vegetables, Rice, Black Beans, Cheese, Sour Cream]]',\n",
              " '[Roasted Chili Corn Salsa, [Rice, Black Beans, Cheese, Sour Cream]]',\n",
              " '[Fresh Tomato Salsa, [Fajita Vegetables, Rice, Cheese, Sour Cream, Guacamole]]',\n",
              " ' ',\n",
              " ' ',\n",
              " '[Tomatillo-Green Chili Salsa (Medium), [Pinto Beans, Cheese, Sour Cream]]',\n",
              " '[Fresh Tomato Salsa (Mild), [Black Beans, Rice, Cheese, Sour Cream, Lettuce]]',\n",
              " '[Sprite]',\n",
              " '[Tomatillo Red Chili Salsa, [Fajita Vegetables, Black Beans, Sour Cream, Cheese, Lettuce]]',\n",
              " ' ',\n",
              " '[[Fresh Tomato Salsa (Mild), Tomatillo-Green Chili Salsa (Medium), Tomatillo-Red Chili Salsa (Hot)], [Rice, Cheese, Sour Cream, Lettuce]]',\n",
              " '[Pomegranate Cherry]',\n",
              " '[[Tomatillo-Green Chili Salsa (Medium), Tomatillo-Red Chili Salsa (Hot)], [Pinto Beans, Rice, Cheese, Sour Cream, Guacamole, Lettuce]]',\n",
              " '[Grapefruit]',\n",
              " ' ',\n",
              " '[Roasted Chili Corn Salsa (Medium), [Pinto Beans, Rice, Fajita Veggies, Cheese, Sour Cream, Lettuce]]',\n",
              " '[[Tomatillo-Green Chili Salsa (Medium), Roasted Chili Corn Salsa (Medium)], [Black Beans, Rice, Sour Cream, Lettuce]]',\n",
              " '[Dr. Pepper]',\n",
              " '[Tomatillo-Green Chili Salsa (Medium), [Pinto Beans, Rice, Cheese, Sour Cream]]',\n",
              " ' ',\n",
              " '[[Roasted Chili Corn Salsa (Medium), Fresh Tomato Salsa (Mild)], [Rice, Black Beans, Sour Cream]]',\n",
              " ' ',\n",
              " '[Tomatillo-Red Chili Salsa (Hot), [Black Beans, Rice, Fajita Veggies, Cheese, Sour Cream, Lettuce]]',\n",
              " ' ',\n",
              " '[Roasted Chili Corn Salsa, Rice]',\n",
              " '[Roasted Chili Corn Salsa, [Cheese, Lettuce]]',\n",
              " ' ',\n",
              " ' ',\n",
              " '[Roasted Chili Corn Salsa, [Fajita Vegetables, Rice, Black Beans, Cheese, Sour Cream, Guacamole, Lettuce]]',\n",
              " ' ',\n",
              " ' ',\n",
              " '[Roasted Chili Corn Salsa, [Rice, Black Beans, Cheese, Sour Cream, Guacamole, Lettuce]]',\n",
              " '[Fresh Tomato Salsa, [Rice, Pinto Beans, Cheese, Sour Cream, Guacamole, Lettuce]]',\n",
              " '[Fresh Tomato Salsa, [Fajita Vegetables, Pinto Beans, Lettuce]]',\n",
              " '[Tomatillo-Red Chili Salsa (Hot), [Black Beans, Fajita Veggies, Cheese, Sour Cream, Guacamole, Lettuce]]',\n",
              " '[Tomatillo-Red Chili Salsa (Hot), [Rice, Fajita Veggies, Cheese]]',\n",
              " '[Blackberry]',\n",
              " '[[Fresh Tomato Salsa (Mild), Roasted Chili Corn Salsa (Medium), Tomatillo-Red Chili Salsa (Hot)], [Black Beans, Rice, Sour Cream]]',\n",
              " ' ',\n",
              " '[Roasted Chili Corn Salsa (Medium), [Rice, Fajita Veggies, Cheese, Sour Cream, Lettuce]]',\n",
              " '[Mountain Dew]',\n",
              " '[Roasted Chili Corn Salsa (Medium), [Black Beans, Rice, Fajita Veggies, Cheese, Sour Cream, Guacamole, Lettuce]]',\n",
              " '[Sprite]',\n",
              " '[Fresh Tomato Salsa (Mild), [Black Beans, Rice, Fajita Veggies, Cheese, Sour Cream]]',\n",
              " ' ',\n",
              " '[Fresh Tomato Salsa, [Fajita Vegetables, Black Beans, Lettuce]]',\n",
              " '[Tomatillo Red Chili Salsa, [Fajita Vegetables, Rice, Black Beans, Cheese, Sour Cream, Guacamole, Lettuce]]',\n",
              " '[Roasted Chili Corn Salsa, [Fajita Vegetables, Rice, Black Beans, Cheese, Sour Cream, Guacamole, Lettuce]]',\n",
              " ' ',\n",
              " ' ',\n",
              " '[Fresh Tomato Salsa, Cheese]',\n",
              " '[Fresh Tomato Salsa, [Fajita Vegetables, Rice, Black Beans, Cheese, Sour Cream, Guacamole, Lettuce]]',\n",
              " '[Fresh Tomato Salsa, [Rice, Black Beans, Cheese]]',\n",
              " '[Tomatillo-Red Chili Salsa (Hot), [Black Beans, Rice, Fajita Veggies, Cheese, Sour Cream, Lettuce]]',\n",
              " '[Tomatillo-Red Chili Salsa (Hot), [Rice, Cheese, Sour Cream, Lettuce]]',\n",
              " '[Blackberry]',\n",
              " '[Tomatillo-Red Chili Salsa (Hot), [Rice, Cheese]]',\n",
              " '[Tomatillo-Red Chili Salsa (Hot), [Black Beans, Fajita Veggies, Cheese, Sour Cream, Guacamole, Lettuce]]',\n",
              " '[Roasted Chili Corn Salsa (Medium), [Rice, Black Beans, Sour Cream]]',\n",
              " ' ',\n",
              " '[Tomatillo-Red Chili Salsa (Hot), [Black Beans, Rice, Cheese, Sour Cream, Lettuce]]',\n",
              " ' ',\n",
              " '[Tomatillo Red Chili Salsa, [Rice, Black Beans, Cheese, Sour Cream]]',\n",
              " ' ',\n",
              " '[Tomatillo Red Chili Salsa, [Rice, Cheese, Sour Cream, Lettuce]]',\n",
              " '[Fresh Tomato Salsa, [Rice, Black Beans, Pinto Beans, Cheese, Lettuce]]',\n",
              " ' ',\n",
              " '[Fresh Tomato Salsa, [Rice, Black Beans, Cheese, Sour Cream, Lettuce]]',\n",
              " '[Roasted Chili Corn Salsa, [Rice, Cheese, Lettuce, Guacamole]]',\n",
              " ' ',\n",
              " '[Fresh Tomato Salsa, [Rice, Pinto Beans, Cheese, Sour Cream, Lettuce]]',\n",
              " '[Fresh Tomato Salsa, [Rice, Black Beans, Cheese, Sour Cream, Lettuce]]',\n",
              " '[Tomatillo Green Chili Salsa, [Rice, Black Beans, Sour Cream, Cheese]]',\n",
              " '[Tomatillo Red Chili Salsa]',\n",
              " '[Tomatillo-Red Chili Salsa (Hot), [Pinto Beans, Black Beans, Rice, Fajita Veggies, Lettuce]]',\n",
              " '[Tomatillo-Red Chili Salsa (Hot), [Pinto Beans, Rice, Fajita Veggies, Cheese, Lettuce]]',\n",
              " ' ',\n",
              " '[Fresh Tomato Salsa, [Rice, Pinto Beans, Sour Cream, Cheese]]',\n",
              " ' ',\n",
              " '[Fresh Tomato Salsa, [Rice, Black Beans, Cheese, Sour Cream, Guacamole]]',\n",
              " '[Fresh Tomato Salsa, [Fajita Vegetables, Cheese, Sour Cream, Guacamole]]',\n",
              " '[Fresh Tomato Salsa, Sour Cream]',\n",
              " '[Roasted Chili Corn Salsa, [Sour Cream, Guacamole]]',\n",
              " ' ',\n",
              " '[Fresh Tomato Salsa, [Fajita Vegetables, Rice, Cheese, Sour Cream]]',\n",
              " ' ',\n",
              " '[Fresh Tomato Salsa, [Fajita Vegetables, Rice, Black Beans, Cheese, Guacamole, Lettuce]]',\n",
              " '[Tomatillo Red Chili Salsa, [Rice, Black Beans, Cheese]]',\n",
              " '[Tomatillo Red Chili Salsa, [Rice, Fajita Vegetables, Sour Cream, Lettuce]]',\n",
              " ' ',\n",
              " '[Tomatillo-Green Chili Salsa (Medium), [Rice, Cheese, Sour Cream, Lettuce]]',\n",
              " '[Tomatillo-Green Chili Salsa (Medium), [Rice, Cheese, Sour Cream, Lettuce]]',\n",
              " ' ',\n",
              " '[Fresh Tomato Salsa (Mild), [Black Beans, Rice, Fajita Veggies, Sour Cream, Lettuce]]',\n",
              " '[Pineapple Orange Banana]',\n",
              " '[Roasted Chili Corn Salsa (Medium), [Rice, Black Beans, Fajita Veggies, Sour Cream]]',\n",
              " '[Dr. Pepper]',\n",
              " '[Roasted Chili Corn Salsa, [Fajita Vegetables, Rice, Cheese, Sour Cream, Lettuce]]',\n",
              " ' ',\n",
              " '[Tomatillo Red Chili Salsa, [Rice, Black Beans, Cheese, Sour Cream, Lettuce]]',\n",
              " ' ',\n",
              " ' ',\n",
              " ' ',\n",
              " '[Tomatillo-Green Chili Salsa (Medium), [Pinto Beans, Rice, Cheese, Sour Cream]]',\n",
              " '[[Tomatillo-Red Chili Salsa (Hot), Tomatillo-Green Chili Salsa (Medium)], [Rice, Pinto Beans, Fajita Veggies, Cheese, Sour Cream, Lettuce]]',\n",
              " '[[Tomatillo-Red Chili Salsa (Hot), Tomatillo-Green Chili Salsa (Medium)], [Rice, Pinto Beans, Cheese, Lettuce]]',\n",
              " '[Diet Dr. Pepper]',\n",
              " '[[Roasted Chili Corn Salsa (Medium), Tomatillo-Red Chili Salsa (Hot)], [Cheese, Sour Cream, Lettuce]]',\n",
              " ' ',\n",
              " '[Tomatillo Red Chili Salsa, [Rice, Black Beans, Sour Cream, Cheese, Lettuce]]',\n",
              " '[Tomatillo Green Chili Salsa, [Rice, Black Beans, Sour Cream, Cheese, Lettuce]]',\n",
              " ' ',\n",
              " '[Fresh Tomato Salsa, [Guacamole, Cheese, Sour Cream, Fajita Vegetables, Rice]]',\n",
              " ' ',\n",
              " '[Roasted Chili Corn Salsa (Medium), [Rice, Black Beans, Fajita Veggies, Sour Cream]]',\n",
              " '[Coca Cola]',\n",
              " '[Tomatillo Red Chili Salsa, [Rice, Pinto Beans, Cheese, Lettuce]]',\n",
              " ' ',\n",
              " ' ',\n",
              " '[Roasted Chili Corn Salsa, [Rice, Pinto Beans, Cheese, Guacamole, Lettuce]]',\n",
              " ' ',\n",
              " '[Tomatillo-Green Chili Salsa (Medium), [Pinto Beans, Rice, Cheese, Sour Cream]]',\n",
              " ' ',\n",
              " '[Roasted Chili Corn Salsa (Medium), [Rice, Black Beans, Sour Cream, Guacamole]]',\n",
              " '[Tomatillo Green Chili Salsa, [Sour Cream, Cheese, Guacamole]]',\n",
              " '[Tomatillo Red Chili Salsa, [Fajita Vegetables, Rice, Black Beans, Cheese, Sour Cream, Guacamole, Lettuce]]',\n",
              " ' ',\n",
              " '[Fresh Tomato Salsa, [Rice, Fajita Vegetables, Sour Cream, Cheese, Guacamole]]',\n",
              " ' ',\n",
              " '[Tomatillo Green Chili Salsa, [Rice, Sour Cream, Cheese, Guacamole]]',\n",
              " ' ',\n",
              " '[Fresh Tomato Salsa, [Fajita Vegetables, Rice, Black Beans, Cheese, Guacamole, Lettuce]]',\n",
              " '[Tomatillo Red Chili Salsa, [Fajita Vegetables, Black Beans, Cheese, Guacamole, Lettuce]]',\n",
              " '[Tomatillo Red Chili Salsa, [Rice, Sour Cream, Cheese, Guacamole]]',\n",
              " '[Roasted Chili Corn Salsa, [Rice, Fajita Vegetables, Black Beans, Sour Cream, Cheese]]',\n",
              " ' ',\n",
              " '[Tomatillo-Green Chili Salsa (Medium), [Rice, Black Beans, Sour Cream, Guacamole]]',\n",
              " '[Tomatillo-Red Chili Salsa (Hot), [Rice, Cheese, Sour Cream, Lettuce]]',\n",
              " ' ',\n",
              " '[Tomatillo Red Chili Salsa, [Rice, Black Beans, Sour Cream, Cheese, Lettuce]]',\n",
              " ' ',\n",
              " '[Tomatillo-Green Chili Salsa (Medium), [Pinto Beans, Rice, Cheese, Sour Cream]]',\n",
              " ' ',\n",
              " '[Fresh Tomato Salsa, [Fajita Vegetables, Rice, Lettuce]]',\n",
              " ' ',\n",
              " ' ',\n",
              " '[Tomatillo Red Chili Salsa, [Fajita Vegetables, Rice, Black Beans, Cheese, Guacamole, Lettuce]]',\n",
              " '[Tomatillo Green Chili Salsa, [Rice, Cheese, Guacamole, Lettuce]]',\n",
              " '[[Roasted Chili Corn Salsa (Medium), Tomatillo-Red Chili Salsa (Hot)], [Black Beans, Rice, Fajita Veggies, Cheese, Sour Cream, Guacamole, Lettuce]]',\n",
              " '[Fresh Tomato Salsa (Mild), [Black Beans, Rice, Fajita Veggies, Cheese, Sour Cream, Lettuce]]',\n",
              " '[[Roasted Chili Corn Salsa (Medium), Tomatillo-Red Chili Salsa (Hot)], [Black Beans, Rice, Fajita Veggies, Cheese, Guacamole, Lettuce]]',\n",
              " '[Diet Coke]',\n",
              " '[Roasted Chili Corn Salsa (Medium), [Pinto Beans, Rice, Fajita Veggies, Cheese, Sour Cream, Guacamole, Lettuce]]',\n",
              " '[[Fresh Tomato Salsa (Mild), Roasted Chili Corn Salsa (Medium)], [Black Beans, Rice, Fajita Veggies, Cheese, Sour Cream, Lettuce]]',\n",
              " ' ',\n",
              " ' ',\n",
              " '[Tomatillo Red Chili Salsa, [Rice, Black Beans, Cheese, Guacamole, Lettuce]]',\n",
              " '[Tomatillo Red Chili Salsa, [Rice, Black Beans, Cheese, Sour Cream, Guacamole]]',\n",
              " '[Tomatillo Red Chili Salsa, [Rice, Cheese, Sour Cream]]',\n",
              " '[[Tomatillo-Red Chili Salsa (Hot), Fresh Tomato Salsa (Mild)], [Rice, Black Beans, Cheese, Lettuce]]',\n",
              " '[Diet Dr. Pepper]',\n",
              " '[Tomatillo-Red Chili Salsa (Hot), [Black Beans, Rice, Cheese, Sour Cream, Lettuce]]',\n",
              " '[Apple]',\n",
              " '[Tomatillo-Green Chili Salsa (Medium), Lettuce]',\n",
              " '[Roasted Chili Corn Salsa (Medium), Lettuce]',\n",
              " '[Roasted Chili Corn Salsa (Medium), [Black Beans, Rice, Fajita Veggies, Cheese, Sour Cream, Guacamole, Lettuce]]',\n",
              " '[Fresh Tomato Salsa (Mild), [Rice, Black Beans, Sour Cream, Guacamole]]',\n",
              " '[Tomatillo-Green Chili Salsa (Medium), [Rice, Fajita Veggies, Cheese, Sour Cream]]',\n",
              " '[Coca Cola]',\n",
              " '[Dr. Pepper]',\n",
              " '[Tomatillo Red Chili Salsa, [Rice, Pinto Beans, Cheese, Sour Cream]]',\n",
              " '[Fresh Tomato Salsa, [Rice, Black Beans, Sour Cream]]',\n",
              " ' ',\n",
              " '[Fresh Tomato Salsa, [Cheese, Sour Cream]]',\n",
              " ' ',\n",
              " '[Fresh Tomato Salsa, [Fajita Vegetables, Rice, Black Beans, Cheese, Sour Cream, Guacamole, Lettuce]]',\n",
              " '[Fresh Tomato Salsa (Mild), [Rice, Fajita Veggies, Guacamole, Lettuce]]',\n",
              " '[Roasted Chili Corn Salsa (Medium), [Rice, Cheese, Sour Cream, Lettuce]]',\n",
              " '[Roasted Chili Corn Salsa (Medium), [Rice, Cheese, Lettuce]]',\n",
              " '[Roasted Chili Corn Salsa (Medium), [Fajita Veggies, Cheese, Lettuce, Sour Cream, Rice]]',\n",
              " ' ',\n",
              " '[Roasted Chili Corn Salsa, [Fajita Vegetables, Rice, Cheese, Sour Cream, Guacamole, Lettuce]]',\n",
              " '[Fresh Tomato Salsa, [Rice, Cheese, Sour Cream]]',\n",
              " ' ',\n",
              " '[Coca Cola]',\n",
              " '[Roasted Chili Corn Salsa (Medium), [Rice, Black Beans, Sour Cream]]',\n",
              " '[Tomatillo-Green Chili Salsa (Medium), [Pinto Beans, Rice, Cheese, Sour Cream]]',\n",
              " ' ',\n",
              " '[[Roasted Chili Corn Salsa (Medium), Tomatillo-Red Chili Salsa (Hot)], [Black Beans, Rice, Fajita Veggies, Guacamole, Lettuce]]',\n",
              " '[Diet Coke]',\n",
              " ' ',\n",
              " '[Tomatillo Red Chili Salsa, [Rice, Black Beans, Sour Cream, Cheese, Lettuce, Guacamole]]',\n",
              " '[Tomatillo Green Chili Salsa, [Rice, Pinto Beans, Sour Cream, Cheese, Lettuce]]',\n",
              " '[Tomatillo-Red Chili Salsa (Hot), [Black Beans, Rice, Cheese, Sour Cream, Lettuce]]',\n",
              " '[Peach Orange]',\n",
              " '[Fresh Tomato Salsa, [Rice, Cheese, Lettuce]]',\n",
              " '[Roasted Chili Corn Salsa, [Rice, Black Beans, Cheese, Sour Cream, Lettuce]]',\n",
              " ' ',\n",
              " '[Roasted Chili Corn Salsa, [Fajita Vegetables, Rice, Black Beans, Cheese, Sour Cream, Guacamole, Lettuce]]',\n",
              " '[Roasted Chili Corn Salsa, [Rice, Black Beans, Cheese, Sour Cream, Guacamole, Lettuce]]',\n",
              " '[Roasted Chili Corn Salsa, [Fajita Vegetables, Rice, Black Beans, Pinto Beans, Cheese, Sour Cream, Guacamole, Lettuce]]',\n",
              " ' ',\n",
              " '[Fresh Tomato Salsa, [Fajita Vegetables, Pinto Beans, Guacamole]]',\n",
              " ' ',\n",
              " '[Tomatillo Green Chili Salsa, [Fajita Vegetables, Rice, Black Beans, Cheese, Guacamole, Lettuce]]',\n",
              " '[Tomatillo Red Chili Salsa, [Rice, Black Beans, Cheese, Sour Cream]]',\n",
              " '[Tomatillo Red Chili Salsa, [Cheese, Sour Cream, Lettuce]]',\n",
              " '[Tomatillo Green Chili Salsa, [Rice, Black Beans, Cheese, Sour Cream]]',\n",
              " '[Tomatillo Red Chili Salsa, [Rice, Black Beans, Cheese]]',\n",
              " '[Roasted Chili Corn Salsa, [Rice, Black Beans, Cheese, Sour Cream]]',\n",
              " ' ',\n",
              " '[Tomatillo Red Chili Salsa, [Rice, Cheese, Lettuce]]',\n",
              " ' ',\n",
              " '[Tomatillo Green Chili Salsa, [Rice, Pinto Beans, Sour Cream, Lettuce]]',\n",
              " '[Tomatillo Red Chili Salsa, [Black Beans, Cheese, Guacamole]]',\n",
              " ' ',\n",
              " '[Roasted Chili Corn Salsa (Medium), [Rice, Black Beans, Sour Cream]]',\n",
              " '[Mountain Dew]',\n",
              " '[Tomatillo-Green Chili Salsa (Medium), [Black Beans, Rice, Cheese, Sour Cream, Lettuce]]',\n",
              " ' ',\n",
              " '[Fresh Tomato Salsa, [Fajita Vegetables, Rice, Black Beans, Cheese, Sour Cream, Lettuce]]',\n",
              " ' ',\n",
              " ' ',\n",
              " '[Tomatillo Red Chili Salsa, [Rice, Black Beans, Cheese, Sour Cream, Guacamole, Lettuce]]',\n",
              " ' ',\n",
              " '[Tomatillo Red Chili Salsa, [Rice, Black Beans, Cheese]]',\n",
              " '[Tomatillo Green Chili Salsa, [Fajita Vegetables, Pinto Beans, Cheese]]',\n",
              " '[Tomatillo Red Chili Salsa, [Rice, Black Beans, Cheese, Sour Cream, Guacamole, Lettuce]]',\n",
              " '[Fresh Tomato Salsa, [Rice, Pinto Beans, Sour Cream, Cheese]]',\n",
              " ' ',\n",
              " '[Tomatillo Red Chili Salsa, [Rice, Black Beans, Cheese, Sour Cream, Lettuce]]',\n",
              " '[Fresh Tomato Salsa, [Rice, Pinto Beans, Cheese, Sour Cream]]',\n",
              " '[Fresh Tomato Salsa, [Rice, Black Beans, Pinto Beans, Cheese, Sour Cream]]',\n",
              " '[Roasted Chili Corn Salsa (Medium), [Rice, Fajita Veggies, Cheese, Sour Cream, Guacamole, Lettuce]]',\n",
              " '[Roasted Chili Corn Salsa (Medium), [Rice, Fajita Veggies, Cheese, Lettuce]]',\n",
              " '[Mountain Dew]',\n",
              " '[Dr. Pepper]',\n",
              " '[Mountain Dew]',\n",
              " '[[Tomatillo-Red Chili Salsa (Hot), Fresh Tomato Salsa (Mild), Tomatillo-Green Chili Salsa (Medium)], [Rice, Pinto Beans, Cheese]]',\n",
              " '[Roasted Chili Corn Salsa (Medium), [Black Beans, Rice, Fajita Veggies, Cheese, Sour Cream, Guacamole, Lettuce]]',\n",
              " '[Diet Dr. Pepper]',\n",
              " '[Tomatillo Red Chili Salsa, [Rice, Cheese, Lettuce]]',\n",
              " '[Roasted Chili Corn Salsa, [Rice, Pinto Beans, Cheese, Sour Cream]]',\n",
              " '[Tomatillo Red Chili Salsa, [Rice, Cheese, Lettuce]]',\n",
              " '[Roasted Chili Corn Salsa, [Rice, Cheese, Lettuce]]',\n",
              " '[Fresh Tomato Salsa, [Fajita Vegetables, Rice, Cheese, Sour Cream, Lettuce]]',\n",
              " '[Fresh Tomato Salsa, [Rice, Black Beans, Cheese]]',\n",
              " '[Tomatillo-Red Chili Salsa (Hot), [Pinto Beans, Rice, Fajita Veggies, Cheese, Sour Cream]]',\n",
              " '[Tomatillo-Red Chili Salsa (Hot), [Pinto Beans, Rice, Fajita Veggies, Cheese, Sour Cream]]',\n",
              " '[Roasted Chili Corn Salsa (Medium), [Rice, Black Beans, Sour Cream]]',\n",
              " '[Mountain Dew]',\n",
              " '[Fresh Tomato Salsa, [Fajita Vegetables, Cheese, Sour Cream, Guacamole, Lettuce]]',\n",
              " '[Coke]',\n",
              " '[Roasted Chili Corn Salsa (Medium), [Black Beans, Rice]]',\n",
              " ' ',\n",
              " '[Fresh Tomato Salsa, [Rice, Cheese, Lettuce]]',\n",
              " ' ',\n",
              " '[Tomatillo-Red Chili Salsa (Hot), [Pinto Beans, Cheese, Sour Cream, Lettuce]]',\n",
              " ' ',\n",
              " '[Tomatillo-Green Chili Salsa (Medium), [Pinto Beans, Rice, Cheese, Sour Cream]]',\n",
              " ' ',\n",
              " '[[Fresh Tomato Salsa (Mild), Roasted Chili Corn Salsa (Medium)], [Pinto Beans, Rice, Fajita Veggies, Cheese, Sour Cream, Lettuce]]',\n",
              " '[Roasted Chili Corn Salsa (Medium), [Black Beans, Rice, Cheese, Sour Cream, Lettuce]]',\n",
              " '[Tomatillo-Red Chili Salsa (Hot), [Black Beans, Rice, Cheese]]',\n",
              " ' ',\n",
              " '[Fresh Tomato Salsa (Mild), [Black Beans, Rice, Cheese, Sour Cream]]',\n",
              " ' ',\n",
              " '[Tomatillo-Red Chili Salsa (Hot), [Rice, Cheese, Lettuce]]',\n",
              " ' ',\n",
              " '[Coca Cola]',\n",
              " '[Tomatillo Red Chili Salsa, [Black Beans, Cheese, Guacamole]]',\n",
              " '[Fresh Tomato Salsa, [Rice, Black Beans, Cheese, Sour Cream]]',\n",
              " ' ',\n",
              " '[Fresh Tomato Salsa, [Rice, Cheese, Sour Cream]]',\n",
              " '[Roasted Chili Corn Salsa, [Fajita Vegetables, Rice, Lettuce]]',\n",
              " '[Roasted Chili Corn Salsa, [Rice, Black Beans, Cheese, Sour Cream, Lettuce]]',\n",
              " '[Roasted Chili Corn Salsa, [Fajita Vegetables, Rice, Black Beans, Cheese, Sour Cream, Lettuce]]',\n",
              " ' ',\n",
              " '[Fresh Tomato Salsa, [Rice, Cheese, Sour Cream]]',\n",
              " '[Roasted Chili Corn Salsa, [Fajita Vegetables, Rice, Black Beans, Guacamole, Lettuce]]',\n",
              " '[Tomatillo Green Chili Salsa, [Rice, Sour Cream, Guacamole, Lettuce]]',\n",
              " '[Sprite]',\n",
              " '[Fresh Tomato Salsa, [Cheese, Sour Cream]]',\n",
              " ' ',\n",
              " '[Fresh Tomato Salsa, [Fajita Vegetables, Lettuce, Guacamole, Sour Cream, Cheese, Black Beans, Rice]]',\n",
              " '[Tomatillo Green Chili Salsa, [Rice, Cheese, Guacamole]]',\n",
              " '[Tomatillo Green Chili Salsa, [Rice, Cheese, Guacamole]]',\n",
              " '[Sprite]',\n",
              " '[Tomatillo-Red Chili Salsa (Hot), Lettuce]',\n",
              " ' ',\n",
              " '[Fresh Tomato Salsa (Mild), [Rice, Fajita Veggies, Cheese, Sour Cream, Lettuce]]',\n",
              " ' ',\n",
              " '[Fresh Tomato Salsa, [Rice, Black Beans, Cheese, Sour Cream, Guacamole, Lettuce]]',\n",
              " '[Fresh Tomato Salsa, [Rice, Black Beans, Cheese, Sour Cream, Lettuce]]',\n",
              " ' ',\n",
              " '[Roasted Chili Corn Salsa (Medium), [Rice, Black Beans, Sour Cream]]',\n",
              " ' ',\n",
              " '[Tomatillo Red Chili Salsa, [Rice, Black Beans, Cheese, Lettuce]]',\n",
              " '[Tomatillo Red Chili Salsa, [Rice, Black Beans, Cheese, Sour Cream, Guacamole, Lettuce]]',\n",
              " ' ',\n",
              " ' ',\n",
              " '[Fresh Tomato Salsa, [Rice, Black Beans, Cheese, Sour Cream]]',\n",
              " '[Tomatillo-Red Chili Salsa (Hot), Fajita Veggies]',\n",
              " '[Tomatillo-Green Chili Salsa (Medium), [Cheese, Lettuce]]',\n",
              " '[Fresh Tomato Salsa, Fajita Vegetables]',\n",
              " '[Roasted Chili Corn Salsa (Medium), [Rice, Fajita Veggies, Cheese]]',\n",
              " '[Diet Coke]',\n",
              " ' ',\n",
              " '[Fresh Tomato Salsa, [Fajita Vegetables, Rice, Black Beans, Sour Cream]]',\n",
              " '[Coke]',\n",
              " ' ',\n",
              " '[Fresh Tomato (Mild), [Lettuce, Guacamole, Rice, Cheese]]',\n",
              " '[Roasted Chili Corn Salsa (Medium), [Pinto Beans, Black Beans, Rice, Fajita Veggies, Cheese, Sour Cream, Lettuce]]',\n",
              " '[[Roasted Chili Corn Salsa (Medium), Tomatillo-Red Chili Salsa (Hot)], [Rice, Fajita Veggies, Cheese, Lettuce]]',\n",
              " '[Roasted Chili Corn Salsa (Medium), Rice]',\n",
              " ' ',\n",
              " '[Tomatillo Red Chili Salsa, [Rice, Cheese]]',\n",
              " ' ',\n",
              " ' ',\n",
              " '[Fresh Tomato Salsa, [Rice, Black Beans, Cheese, Sour Cream, Guacamole, Lettuce]]',\n",
              " ' ',\n",
              " '[Fresh Tomato Salsa (Mild), [Black Beans, Rice, Cheese, Sour Cream, Lettuce]]',\n",
              " '[Fresh Tomato Salsa (Mild), [Rice, Cheese, Sour Cream]]',\n",
              " '[Roasted Chili Corn Salsa, [Rice, Black Beans, Cheese, Guacamole, Lettuce]]',\n",
              " '[Roasted Chili Corn Salsa, [Fajita Vegetables, Rice, Cheese, Lettuce]]',\n",
              " '[Tomatillo Red Chili Salsa, [Fajita Vegetables, Cheese, Guacamole, Lettuce]]',\n",
              " '[Coke]',\n",
              " '[Tomatillo Red Chili Salsa, [Rice, Black Beans, Sour Cream, Cheese, Lettuce, Guacamole]]',\n",
              " '[Tomatillo Green Chili Salsa, [Rice, Pinto Beans, Sour Cream, Cheese, Lettuce]]',\n",
              " ' ',\n",
              " '[Diet Coke]',\n",
              " '[Fresh Tomato Salsa, [Fajita Vegetables, Rice, Cheese, Sour Cream, Lettuce]]',\n",
              " ' ',\n",
              " '[Fresh Tomato Salsa, [Fajita Vegetables, Cheese, Guacamole, Lettuce]]',\n",
              " ' ',\n",
              " '[Lemonade]',\n",
              " '[Sprite]',\n",
              " '[Tomatillo-Red Chili Salsa (Hot), [Rice, Fajita Veggies, Cheese, Sour Cream, Lettuce]]',\n",
              " ' ',\n",
              " '[Diet Coke]',\n",
              " '[Tomatillo-Red Chili Salsa (Hot), [Black Beans, Rice, Cheese]]',\n",
              " '[Coca Cola]',\n",
              " '[Fresh Tomato (Mild), [Lettuce, Guacamole, Rice, Cheese]]',\n",
              " '[Fresh Tomato Salsa, Sour Cream]',\n",
              " '[Tomatillo Green Chili Salsa, [Fajita Vegetables, Rice, Cheese, Sour Cream, Lettuce]]',\n",
              " ' ',\n",
              " '[Coke]',\n",
              " '[Fresh Tomato Salsa (Mild), [Pinto Beans, Cheese, Sour Cream]]',\n",
              " '[Blackberry]',\n",
              " '[Grapefruit]',\n",
              " '[Fresh Tomato Salsa (Mild), [Cheese, Sour Cream, Lettuce]]',\n",
              " '[Fresh Tomato Salsa (Mild), [Pinto Beans, Cheese, Sour Cream, Lettuce]]',\n",
              " '[Tomatillo Red Chili Salsa, [Rice, Black Beans, Cheese, Sour Cream, Guacamole, Lettuce]]',\n",
              " ' ',\n",
              " '[Tomatillo Green Chili Salsa, [Black Beans, Cheese, Sour Cream, Guacamole, Lettuce]]',\n",
              " ' ',\n",
              " '[Roasted Chili Corn Salsa, [Rice, Fajita Vegetables, Black Beans, Cheese, Lettuce, Guacamole]]',\n",
              " '[Diet Coke]',\n",
              " '[Roasted Chili Corn Salsa (Medium), [Black Beans, Cheese, Sour Cream, Lettuce]]',\n",
              " '[Diet Coke]',\n",
              " '[Fresh Tomato Salsa, [Rice, Cheese, Sour Cream]]',\n",
              " '[Fresh Tomato Salsa, [Rice, Cheese, Sour Cream]]',\n",
              " '[Fresh Tomato Salsa, [Rice, Pinto Beans, Sour Cream, Cheese]]',\n",
              " ' ',\n",
              " '[Roasted Chili Corn Salsa, [Rice, Black Beans, Cheese, Lettuce, Guacamole]]',\n",
              " ' ',\n",
              " '[Roasted Chili Corn Salsa (Medium), [Rice, Black Beans, Sour Cream]]',\n",
              " '[Mountain Dew]',\n",
              " '[Fresh Tomato Salsa, [Rice, Black Beans, Cheese, Sour Cream, Guacamole]]',\n",
              " '[Coke]',\n",
              " '[Coke]',\n",
              " '[Fresh Tomato Salsa, [Rice, Black Beans, Sour Cream, Cheese, Guacamole]]',\n",
              " '[Tomatillo Red Chili Salsa, [Rice, Fajita Vegetables, Sour Cream, Cheese, Lettuce, Guacamole]]',\n",
              " ' ',\n",
              " '[Tomatillo-Red Chili Salsa (Hot), [Rice, Cheese, Sour Cream, Lettuce]]',\n",
              " ' ',\n",
              " '[Tomatillo Red Chili Salsa, [Rice, Black Beans, Cheese, Sour Cream, Guacamole, Lettuce]]',\n",
              " '[Diet Coke]',\n",
              " '[Fresh Tomato Salsa, [Cheese, Sour Cream]]',\n",
              " '[Fresh Tomato Salsa, [Cheese, Sour Cream]]',\n",
              " '[Fresh Tomato Salsa, [Fajita Vegetables, Rice, Pinto Beans, Cheese, Guacamole, Lettuce]]',\n",
              " ' ',\n",
              " '[Coke]',\n",
              " '[Tomatillo Green Chili Salsa, Guacamole]',\n",
              " ' ',\n",
              " '[Roasted Chili Corn Salsa (Medium), [Pinto Beans, Rice, Cheese, Sour Cream, Lettuce]]',\n",
              " '[Tomatillo-Red Chili Salsa (Hot), [Pinto Beans, Rice, Cheese, Sour Cream, Lettuce]]',\n",
              " '[Roasted Chili Corn Salsa (Medium), [Rice, Fajita Veggies, Cheese]]',\n",
              " '[[Fresh Tomato Salsa (Mild), Roasted Chili Corn Salsa (Medium)], [Rice, Cheese, Lettuce]]',\n",
              " '[Roasted Chili Corn Salsa, [Rice, Black Beans, Cheese, Lettuce, Guacamole]]',\n",
              " '[Sprite]',\n",
              " '[Fresh Tomato Salsa, [Rice, Black Beans, Cheese, Sour Cream, Guacamole]]',\n",
              " '[Coke]',\n",
              " '[Fresh Tomato Salsa, [Rice, Pinto Beans, Cheese, Guacamole, Lettuce]]',\n",
              " '[Fresh Tomato Salsa, [Cheese, Lettuce]]',\n",
              " ' ',\n",
              " '[Tomatillo Red Chili Salsa, [Rice, Black Beans, Cheese, Sour Cream, Guacamole, Lettuce]]',\n",
              " ' ',\n",
              " '[[Fresh Tomato Salsa (Mild), Tomatillo-Green Chili Salsa (Medium), Roasted Chili Corn Salsa (Medium)], [Black Beans, Rice, Fajita Veggies, Cheese, Guacamole, Lettuce]]',\n",
              " '[Coke]',\n",
              " '[Tomatillo Green Chili Salsa, [Sour Cream, Cheese, Guacamole]]',\n",
              " '[Tomatillo-Red Chili Salsa (Hot), [Rice, Cheese, Sour Cream, Guacamole, Lettuce]]',\n",
              " ' ',\n",
              " '[Dr. Pepper]',\n",
              " '[Tomatillo Red Chili Salsa]',\n",
              " ' ',\n",
              " '[Diet Coke]',\n",
              " '[Fresh Tomato Salsa, [Fajita Vegetables, Rice, Black Beans, Cheese]]',\n",
              " '[Fresh Tomato Salsa, [Fajita Vegetables, Rice, Cheese, Sour Cream, Lettuce]]',\n",
              " '[Tomatillo Green Chili Salsa, [Fajita Vegetables, Rice, Cheese, Sour Cream, Lettuce]]',\n",
              " '[Fresh Tomato Salsa, [Rice, Cheese, Sour Cream, Lettuce]]',\n",
              " '[Roasted Chili Corn Salsa, [Rice, Lettuce]]',\n",
              " '[Roasted Chili Corn Salsa, [Rice, Black Beans, Cheese, Sour Cream, Lettuce]]',\n",
              " ' ',\n",
              " ' ',\n",
              " '[Fresh Tomato Salsa, [Sour Cream, Lettuce]]',\n",
              " '[[Tomatillo-Red Chili Salsa (Hot), Roasted Chili Corn Salsa (Medium)], [Guacamole, Cheese, Sour Cream]]',\n",
              " '[[Roasted Chili Corn Salsa (Medium), Tomatillo-Red Chili Salsa (Hot)], [Rice, Cheese, Sour Cream, Guacamole]]',\n",
              " '[[Roasted Chili Corn Salsa (Medium), Tomatillo-Red Chili Salsa (Hot)], [Cheese, Sour Cream, Guacamole]]',\n",
              " '[Grapefruit]',\n",
              " '[Tomatillo-Red Chili Salsa (Hot), [Rice, Cheese, Sour Cream, Lettuce]]',\n",
              " ' ',\n",
              " '[Tomatillo-Red Chili Salsa (Hot), [Black Beans, Rice, Fajita Veggies, Cheese, Sour Cream, Lettuce]]',\n",
              " '[Coca Cola]',\n",
              " '[[Roasted Chili Corn Salsa (Medium), Fresh Tomato Salsa (Mild)], [Rice, Black Beans, Pinto Beans, Fajita Veggies, Guacamole, Lettuce]]',\n",
              " '[Pomegranate Cherry]',\n",
              " '[[Roasted Chili Corn Salsa (Medium), Tomatillo-Green Chili Salsa (Medium)], [Rice, Black Beans, Cheese, Sour Cream]]',\n",
              " '[Dr. Pepper]',\n",
              " '[Tomatillo Green Chili Salsa, [Fajita Vegetables, Rice, Cheese, Sour Cream, Lettuce]]',\n",
              " '[Roasted Chili Corn Salsa, [Fajita Vegetables, Rice, Cheese, Sour Cream, Lettuce]]',\n",
              " '[Roasted Chili Corn Salsa, [Rice, Fajita Vegetables, Black Beans, Sour Cream, Cheese, Lettuce, Guacamole]]',\n",
              " ' ',\n",
              " ' ',\n",
              " '[Tomatillo Red Chili Salsa, [Rice, Pinto Beans, Cheese]]',\n",
              " '[Braised Carnitas, Pinto Beans, [Sour Cream, Cheese, Cilantro-Lime Rice]]',\n",
              " '[Roasted Chili Corn Salsa (Medium), [Rice, Fajita Veggies, Cheese]]',\n",
              " '[Fresh Tomato Salsa (Mild), [Black Beans, Rice, Cheese, Sour Cream, Lettuce]]',\n",
              " '[Fresh Tomato Salsa, [Rice, Cheese, Sour Cream, Lettuce]]',\n",
              " '[Fresh Tomato Salsa, [Rice, Black Beans, Cheese, Lettuce]]',\n",
              " '[Fresh Tomato Salsa, [Fajita Vegetables, Rice, Cheese, Sour Cream, Guacamole, Lettuce]]',\n",
              " '[Fresh Tomato Salsa, [Fajita Vegetables, Rice, Cheese, Sour Cream]]',\n",
              " '[Fresh Tomato Salsa, [Rice, Black Beans, Cheese, Sour Cream, Guacamole, Lettuce]]',\n",
              " '[Fresh Tomato Salsa, [Sour Cream, Lettuce]]',\n",
              " '[Fresh Tomato Salsa, [Rice, Black Beans, Cheese, Sour Cream, Guacamole, Lettuce]]',\n",
              " '[Fresh Tomato Salsa, [Fajita Vegetables, Rice, Black Beans, Cheese, Guacamole, Lettuce]]',\n",
              " '[Fresh Tomato Salsa, [Rice, Black Beans, Cheese]]',\n",
              " '[Fresh Tomato Salsa, [Black Beans, Cheese, Guacamole, Lettuce]]',\n",
              " ' ',\n",
              " '[Coke]',\n",
              " '[Fresh Tomato Salsa (Mild), [Black Beans, Rice, Fajita Veggies, Cheese, Sour Cream, Lettuce]]',\n",
              " ' ',\n",
              " '[Fresh Tomato Salsa, [Rice, Black Beans, Cheese, Sour Cream, Guacamole, Lettuce]]',\n",
              " '[Fresh Tomato Salsa, [Rice, Black Beans, Cheese, Sour Cream, Guacamole, Lettuce]]',\n",
              " '[Tomatillo Green Chili Salsa, [Rice, Black Beans, Cheese]]',\n",
              " '[Roasted Chili Corn Salsa, [Rice, Fajita Vegetables, Black Beans, Sour Cream, Cheese, Lettuce]]',\n",
              " ' ',\n",
              " '[Fresh Tomato Salsa (Mild), [Pinto Beans, Rice, Cheese, Sour Cream]]',\n",
              " ' ',\n",
              " '[Fresh Tomato Salsa (Mild), [Pinto Beans, Rice, Sour Cream, Cheese]]',\n",
              " ' ',\n",
              " '[[Tomatillo-Green Chili Salsa (Medium), Roasted Chili Corn Salsa (Medium)], [Black Beans, Rice, Cheese, Guacamole]]',\n",
              " ' ',\n",
              " '[Diet Dr. Pepper]',\n",
              " '[Roasted Chili Corn Salsa, [Rice, Cheese, Lettuce, Guacamole]]',\n",
              " ' ',\n",
              " '[Fresh Tomato (Mild), [Guacamole, Lettuce, Rice, Fajita Veggies, Sour Cream, Cheese]]',\n",
              " ' ',\n",
              " '[Fresh Tomato Salsa, [Fajita Vegetables, Rice, Black Beans, Cheese, Sour Cream, Lettuce]]',\n",
              " '[Roasted Chili Corn Salsa, [Fajita Vegetables, Rice, Black Beans, Cheese, Sour Cream, Guacamole, Lettuce]]',\n",
              " '[Fresh Tomato Salsa, [Fajita Vegetables, Rice, Black Beans, Cheese]]',\n",
              " '[Tomatillo Red Chili Salsa, [Rice, Black Beans, Cheese, Sour Cream, Lettuce]]',\n",
              " '[Fresh Tomato Salsa, [Rice, Black Beans, Cheese, Sour Cream, Guacamole, Lettuce]]',\n",
              " '[Fresh Tomato Salsa, [Rice, Black Beans, Cheese, Sour Cream, Guacamole, Lettuce]]',\n",
              " '[Fresh Tomato Salsa, [Fajita Vegetables, Rice, Black Beans, Cheese]]',\n",
              " '[Fresh Tomato Salsa, Guacamole]',\n",
              " '[Fresh Tomato Salsa, Cheese]',\n",
              " '[Fresh Tomato Salsa, [Rice, Cheese, Lettuce]]',\n",
              " '[Fresh Tomato Salsa, [Rice, Black Beans, Cheese, Sour Cream, Lettuce]]',\n",
              " ' ',\n",
              " '[Fresh Tomato Salsa, [Fajita Vegetables, Rice, Cheese, Sour Cream, Guacamole]]',\n",
              " '[Fresh Tomato Salsa, [Fajita Vegetables, Rice, Cheese, Sour Cream, Guacamole]]',\n",
              " '[Diet Coke]',\n",
              " ' ',\n",
              " '[Fresh Tomato Salsa, [Sour Cream, Cheese]]',\n",
              " ' ',\n",
              " '[Fresh Tomato Salsa, [Rice, Lettuce, Guacamole, Fajita Vegetables, Cheese, Sour Cream, Black Beans]]',\n",
              " '[Fresh Tomato Salsa (Mild), [Pinto Beans, Cheese]]',\n",
              " ' ',\n",
              " '[Tomatillo Green Chili Salsa, [Fajita Vegetables, Rice, Lettuce]]',\n",
              " '[Fresh Tomato Salsa, [Rice, Cheese, Sour Cream]]',\n",
              " '[Roasted Chili Corn Salsa, [Fajita Vegetables, Rice, Black Beans, Guacamole]]',\n",
              " '[Tomatillo Green Chili Salsa, [Rice, Black Beans, Cheese, Lettuce]]',\n",
              " '[Roasted Chili Corn Salsa, [Rice, Black Beans, Sour Cream, Lettuce, Guacamole]]',\n",
              " '[Roasted Chili Corn Salsa, [Rice, Cheese, Lettuce, Guacamole]]',\n",
              " '[Lemonade]',\n",
              " '[Roasted Chili Corn Salsa, [Fajita Vegetables, Rice, Black Beans, Cheese, Sour Cream, Guacamole, Lettuce]]',\n",
              " '[Coke]',\n",
              " '[Tomatillo-Red Chili Salsa (Hot), Rice]',\n",
              " '[Tomatillo-Red Chili Salsa (Hot), Rice]',\n",
              " '[Adobo-Marinated and Grilled Chicken, Pinto Beans, [Sour Cream, Salsa, Cheese, Cilantro-Lime Rice, Guacamole]]',\n",
              " '[Braised Barbacoa, Vegetarian Black Beans, [Sour Cream, Salsa, Cheese, Cilantro-Lime Rice]]',\n",
              " '[Roasted Chili Corn Salsa, [Rice, Black Beans, Sour Cream, Lettuce]]',\n",
              " '[Diet Coke]',\n",
              " ' ',\n",
              " '[Fresh Tomato Salsa, [Fajita Vegetables, Rice, Black Beans, Cheese, Sour Cream, Lettuce]]',\n",
              " ' ',\n",
              " '[Tomatillo Green Chili Salsa, [Rice, Black Beans, Cheese, Sour Cream]]',\n",
              " ' ',\n",
              " '[Braised Barbacoa, Pinto Beans, [Sour Cream, Salsa, Cheese, Cilantro-Lime Rice, Guacamole]]',\n",
              " '[Adobo-Marinated and Grilled Steak]',\n",
              " '[Adobo-Marinated and Grilled Chicken]',\n",
              " '[Fresh Tomato Salsa (Mild), [Pinto Beans, Rice, Sour Cream]]',\n",
              " ' ',\n",
              " '[Tomatillo-Red Chili Salsa (Hot), [Pinto Beans, Rice, Cheese, Sour Cream, Lettuce]]',\n",
              " ' ',\n",
              " '[Roasted Chili Corn Salsa, [Black Beans, Sour Cream, Cheese, Lettuce]]',\n",
              " '[Fresh Tomato Salsa, [Rice, Black Beans, Sour Cream, Cheese]]',\n",
              " '[Tomatillo Green Chili Salsa, [Fajita Vegetables, Black Beans, Pinto Beans, Lettuce]]',\n",
              " '[Tomatillo Green Chili Salsa, [Fajita Vegetables, Rice, Cheese, Sour Cream, Lettuce]]',\n",
              " '[Roasted Chili Corn Salsa, [Fajita Vegetables, Rice, Black Beans, Guacamole]]',\n",
              " '[Tomatillo Red Chili Salsa, [Fajita Vegetables, Rice, Black Beans, Guacamole]]',\n",
              " ' ',\n",
              " '[Fresh Tomato Salsa, [Rice, Black Beans, Cheese]]',\n",
              " '[Fresh Tomato Salsa, [Sour Cream, Lettuce, Cheese, Rice]]',\n",
              " '[Fresh Tomato Salsa (Mild), [Pinto Beans, Rice, Cheese, Sour Cream]]',\n",
              " ' ',\n",
              " ' ',\n",
              " '[Tomatillo Green Chili Salsa, [Pinto Beans, Black Beans]]',\n",
              " '[Tomatillo Green Chili Salsa, Cheese]',\n",
              " ' ',\n",
              " '[Diet Coke]',\n",
              " '[Fresh Tomato Salsa, [Rice, Cheese, Lettuce]]',\n",
              " '[Tomatillo Green Chili Salsa, [Fajita Vegetables, Pinto Beans, Sour Cream, Cheese, Lettuce]]',\n",
              " ' ',\n",
              " '[Tomatillo Green Chili Salsa, [Rice, Black Beans, Cheese]]',\n",
              " '[Roasted Chili Corn Salsa, [Rice, Pinto Beans, Lettuce, Guacamole]]',\n",
              " ' ',\n",
              " '[Roasted Chili Corn Salsa (Medium), [Black Beans, Fajita Veggies, Cheese, Guacamole, Lettuce]]',\n",
              " '[Fresh Tomato (Mild), [Lettuce, Guacamole, Rice, Cheese]]',\n",
              " ' ',\n",
              " '[Tomatillo Red Chili Salsa]',\n",
              " '[Tomatillo Green Chili Salsa]',\n",
              " '[Diet Coke]',\n",
              " '[Roasted Chili Corn Salsa]',\n",
              " '[Roasted Chili Corn Salsa, [Fajita Vegetables, Rice, Black Beans, Guacamole]]',\n",
              " '[Fresh Tomato Salsa, [Rice, Cheese, Lettuce]]',\n",
              " '[Tomatillo Green Chili Salsa, [Rice, Black Beans, Cheese, Lettuce]]',\n",
              " ' ',\n",
              " '[Fresh Tomato Salsa, [Rice, Black Beans, Cheese, Sour Cream, Lettuce]]',\n",
              " ' ',\n",
              " '[Roasted Chili Corn Salsa]',\n",
              " ' ',\n",
              " '[Fresh Tomato Salsa, [Fajita Vegetables, Rice, Black Beans, Cheese, Sour Cream]]',\n",
              " '[Tomatillo Green Chili Salsa, [Fajita Vegetables, Rice, Black Beans, Cheese, Sour Cream, Lettuce]]',\n",
              " '[Fresh Tomato Salsa, [Fajita Vegetables, Black Beans, Cheese]]',\n",
              " '[Diet Coke]',\n",
              " '[Diet Coke]',\n",
              " '[Fresh Tomato Salsa, Fajita Vegetables]',\n",
              " '[Tomatillo Green Chili Salsa, [Fajita Vegetables, Black Beans, Sour Cream, Cheese]]',\n",
              " '[Fresh Tomato Salsa, [Rice, Sour Cream, Cheese]]',\n",
              " ' ',\n",
              " '[Roasted Chili Corn Salsa, [Fajita Vegetables, Sour Cream, Lettuce, Guacamole]]',\n",
              " '[Roasted Chili Corn Salsa, [Rice, Fajita Vegetables, Sour Cream, Cheese, Lettuce, Guacamole]]',\n",
              " '[Roasted Chili Corn Salsa, [Fajita Vegetables, Sour Cream, Cheese, Lettuce, Guacamole]]',\n",
              " '[Roasted Chili Corn Salsa, [Rice, Pinto Beans, Cheese, Sour Cream]]',\n",
              " '[Roasted Chili Corn Salsa, [Fajita Vegetables, Rice, Cheese, Lettuce]]',\n",
              " '[Fresh Tomato Salsa (Mild), [Pinto Beans, Rice, Cheese, Sour Cream, Lettuce]]',\n",
              " ' ',\n",
              " '[Clementine]',\n",
              " '[Grapefruit]',\n",
              " '[Tomatillo Green Chili Salsa, [Fajita Vegetables, Cheese, Lettuce]]',\n",
              " '[Fresh Tomato Salsa, [Fajita Vegetables, Cheese, Sour Cream, Guacamole, Lettuce]]',\n",
              " '[Roasted Chili Corn Salsa, [Rice, Black Beans, Cheese, Sour Cream, Guacamole, Lettuce]]',\n",
              " ' ',\n",
              " '[Fresh Tomato Salsa, Fajita Vegetables]',\n",
              " '[Fresh Tomato Salsa, [Rice, Pinto Beans, Cheese]]',\n",
              " ' ',\n",
              " '[Fresh Tomato Salsa (Mild), [Rice, Black Beans, Fajita Veggies, Cheese, Guacamole, Lettuce]]',\n",
              " '[Fresh Tomato Salsa, [Fajita Vegetables, Rice, Cheese, Sour Cream, Guacamole, Lettuce]]',\n",
              " '[Roasted Chili Corn Salsa]',\n",
              " '[Tomatillo Green Chili Salsa, [Black Beans, Sour Cream, Cheese, Lettuce, Guacamole]]',\n",
              " '[Roasted Chili Corn Salsa, [Rice, Cheese, Lettuce]]',\n",
              " ' ',\n",
              " ' ',\n",
              " '[[Roasted Chili Corn Salsa (Medium), Tomatillo-Red Chili Salsa (Hot)], [Rice, Cheese, Sour Cream, Guacamole]]',\n",
              " '[Fresh Tomato Salsa (Mild), [Rice, Cheese, Sour Cream, Lettuce]]',\n",
              " ' ',\n",
              " '[Fresh Tomato Salsa (Mild), [Pinto Beans, Fajita Veggies, Cheese, Sour Cream, Lettuce]]',\n",
              " '[Fresh Tomato Salsa (Mild), [Pinto Beans, Rice, Cheese, Sour Cream, Lettuce]]',\n",
              " '[Fresh Tomato Salsa (Mild), [Pinto Beans, Cheese, Sour Cream, Lettuce]]',\n",
              " '[Pineapple Orange Banana]',\n",
              " '[Roasted Chili Corn Salsa, [Rice, Pinto Beans, Cheese, Lettuce, Guacamole]]',\n",
              " ' ',\n",
              " '[Fresh Tomato Salsa, [Rice, Pinto Beans, Sour Cream, Cheese, Lettuce]]',\n",
              " ' ',\n",
              " '[Fresh Tomato Salsa, [Pinto Beans, Cheese, Guacamole, Lettuce]]',\n",
              " '[Fresh Tomato Salsa, Lettuce]',\n",
              " '[Fresh Tomato Salsa, [Rice, Black Beans, Cheese, Lettuce]]',\n",
              " ' ',\n",
              " '[Nestea]',\n",
              " '[Tomatillo Red Chili Salsa, [Rice, Pinto Beans, Cheese, Sour Cream]]',\n",
              " '[Fresh Tomato Salsa, [Rice, Black Beans, Sour Cream]]',\n",
              " '[Tomatillo Red Chili Salsa, [Fajita Vegetables, Black Beans, Cheese, Guacamole, Lettuce]]',\n",
              " '[Tomatillo Green Chili Salsa, [Rice, Black Beans, Sour Cream, Lettuce]]',\n",
              " '[Tomatillo Red Chili Salsa, [Rice, Cheese, Lettuce]]',\n",
              " ' ',\n",
              " ' ',\n",
              " '[Diet Coke]',\n",
              " '[Fresh Tomato Salsa (Mild), [Pinto Beans, Rice, Cheese, Sour Cream]]',\n",
              " ' ',\n",
              " '[Tomatillo-Red Chili Salsa (Hot), [Black Beans, Rice, Cheese, Sour Cream, Guacamole, Lettuce]]',\n",
              " '[Dr. Pepper]',\n",
              " '[Tomatillo Green Chili Salsa]',\n",
              " ' ',\n",
              " '[Roasted Chili Corn Salsa, [Rice, Cheese, Lettuce]]',\n",
              " '[Tomatillo Green Chili Salsa, [Sour Cream, Cheese, Guacamole]]',\n",
              " ' ',\n",
              " ' ',\n",
              " '[Tomatillo Green Chili Salsa, [Fajita Vegetables, Rice, Cheese, Sour Cream, Lettuce]]',\n",
              " '[Roasted Chili Corn Salsa, [Fajita Vegetables, Rice, Cheese, Sour Cream, Lettuce]]',\n",
              " '[Fresh Tomato Salsa (Mild), [Pinto Beans, Rice, Cheese, Sour Cream]]',\n",
              " ' ',\n",
              " '[Tomatillo Green Chili Salsa, [Black Beans, Cheese, Guacamole]]',\n",
              " '[Tomatillo Red Chili Salsa, [Cheese, Guacamole]]',\n",
              " '[Coke]',\n",
              " '[Fresh Tomato Salsa, [Rice, Pinto Beans, Cheese, Sour Cream]]',\n",
              " '[Fresh Tomato Salsa, [Rice, Pinto Beans, Cheese, Sour Cream, Lettuce]]',\n",
              " '[Fresh Tomato Salsa, [Rice, Cheese, Sour Cream]]',\n",
              " '[Diet Coke]',\n",
              " '[Tomatillo Red Chili Salsa, [Rice, Black Beans, Cheese, Sour Cream]]',\n",
              " '[Roasted Chili Corn Salsa, [Black Beans, Cheese, Sour Cream]]',\n",
              " ' ',\n",
              " '[Fresh Tomato Salsa (Mild), [Pinto Beans, Rice, Cheese, Sour Cream]]',\n",
              " ' ',\n",
              " '[Roasted Chili Corn Salsa (Medium), [Rice, Black Beans, Sour Cream]]',\n",
              " '[Sprite]',\n",
              " '[Tomatillo-Red Chili Salsa (Hot), [Black Beans, Rice, Fajita Veggies, Cheese, Lettuce]]',\n",
              " ' ',\n",
              " '[Roasted Chili Corn Salsa (Medium), [Rice, Black Beans, Sour Cream, Guacamole]]',\n",
              " ' ',\n",
              " '[Coke]',\n",
              " '[Fresh Tomato Salsa, [Rice, Pinto Beans, Sour Cream, Cheese]]',\n",
              " ' ',\n",
              " '[Fresh Tomato Salsa, [Fajita Vegetables, Rice, Lettuce]]',\n",
              " ' ',\n",
              " '[Fresh Tomato Salsa, [Fajita Vegetables, Rice, Sour Cream, Lettuce]]',\n",
              " ' ',\n",
              " '[Fresh Tomato Salsa, [Rice, Black Beans, Sour Cream, Cheese, Lettuce, Guacamole]]',\n",
              " '[Fresh Tomato Salsa, [Rice, Black Beans, Sour Cream, Cheese, Lettuce]]',\n",
              " '[Tomatillo-Red Chili Salsa (Hot), [Black Beans, Rice, Cheese, Sour Cream, Lettuce]]',\n",
              " ' ',\n",
              " '[Fresh Tomato Salsa (Mild), [Pinto Beans, Rice, Cheese, Sour Cream]]',\n",
              " ' ',\n",
              " '[Tomatillo-Red Chili Salsa (Hot), [Black Beans, Rice, Fajita Veggies, Cheese, Lettuce]]',\n",
              " '[[Fresh Tomato Salsa (Mild), Roasted Chili Corn Salsa (Medium)], [Black Beans, Rice, Fajita Veggies, Cheese, Sour Cream, Lettuce]]',\n",
              " ' ',\n",
              " '[Fresh Tomato Salsa (Mild), [Black Beans, Rice, Fajita Veggies, Cheese, Lettuce]]',\n",
              " '[Fresh Tomato Salsa, [Rice, Black Beans, Cheese, Sour Cream, Guacamole, Lettuce]]',\n",
              " ' ',\n",
              " '[Lemonade]',\n",
              " ' ',\n",
              " '[Roasted Chili Corn Salsa (Medium), [Black Beans, Rice, Fajita Veggies, Cheese, Sour Cream, Guacamole, Lettuce]]',\n",
              " '[Adobo-Marinated and Grilled Steak, [Sour Cream, Salsa, Cheese, Cilantro-Lime Rice, Guacamole]]',\n",
              " ' ',\n",
              " '[Adobo-Marinated and Grilled Chicken, [Sour Cream, Cheese, Cilantro-Lime Rice]]',\n",
              " ' ',\n",
              " '[Fresh Tomato Salsa (Mild), [Pinto Beans, Rice, Cheese, Sour Cream]]',\n",
              " ' ',\n",
              " '[Roasted Chili Corn Salsa, [Fajita Vegetables, Rice, Cheese, Lettuce]]',\n",
              " ' ',\n",
              " '[Tomatillo Red Chili Salsa, [Guacamole, Cheese]]',\n",
              " '[Coke]',\n",
              " '[Roasted Chili Corn Salsa, [Rice, Cheese, Guacamole]]',\n",
              " '[Coke]',\n",
              " '[Fresh Tomato Salsa, [Rice, Black Beans, Cheese, Guacamole, Lettuce]]',\n",
              " ' ',\n",
              " '[Fresh Tomato Salsa, [Fajita Vegetables, Rice, Cheese, Sour Cream, Guacamole]]',\n",
              " ' ',\n",
              " '[Diet Coke]',\n",
              " '[Fresh Tomato Salsa, [Fajita Vegetables, Rice, Cheese, Sour Cream, Guacamole, Lettuce]]',\n",
              " '[Tomatillo-Red Chili Salsa (Hot), [Black Beans, Rice, Fajita Veggies, Cheese, Sour Cream, Lettuce]]',\n",
              " ' ',\n",
              " '[Fresh Tomato Salsa, [Sour Cream, Cheese, Lettuce]]',\n",
              " ' ',\n",
              " '[Diet Coke]',\n",
              " '[Fresh Tomato Salsa (Mild), [Black Beans, Rice, Fajita Veggies, Cheese, Sour Cream, Lettuce]]',\n",
              " '[Tomatillo-Green Chili Salsa (Medium), [Pinto Beans, Cheese, Sour Cream, Lettuce]]',\n",
              " '[Coca Cola]',\n",
              " '[Fresh Tomato Salsa (Mild), [Rice, Cheese, Sour Cream, Lettuce]]',\n",
              " '[Coca Cola]',\n",
              " ' ',\n",
              " '[Tomatillo Red Chili Salsa, [Black Beans, Cheese, Lettuce]]',\n",
              " ' ',\n",
              " '[Lemonade]',\n",
              " ' ',\n",
              " '[Tomatillo Green Chili Salsa, [Rice, Sour Cream, Cheese, Guacamole]]',\n",
              " '[Fresh Tomato Salsa, [Fajita Vegetables, Rice, Cheese, Sour Cream, Lettuce]]',\n",
              " ' ',\n",
              " '[Lemonade]',\n",
              " '[Fresh Tomato Salsa (Mild), [Pinto Beans, Rice, Cheese, Sour Cream]]',\n",
              " ' ',\n",
              " '[[Roasted Chili Corn Salsa (Medium), Fresh Tomato Salsa (Mild)], [Rice, Pinto Beans, Cheese, Sour Cream, Guacamole, Lettuce]]',\n",
              " ' ',\n",
              " '[Fresh Tomato Salsa (Mild), [Pinto Beans, Rice, Cheese, Sour Cream]]',\n",
              " '[Tomatillo Red Chili Salsa, [Rice, Fajita Vegetables, Black Beans, Cheese, Lettuce, Guacamole]]',\n",
              " '[Diet Coke]',\n",
              " '[Tomatillo-Green Chili Salsa (Medium), [Rice, Cheese, Sour Cream, Lettuce]]',\n",
              " ' ',\n",
              " '[Tomatillo Green Chili Salsa, [Fajita Vegetables, Rice, Black Beans, Cheese, Sour Cream, Guacamole, Lettuce]]',\n",
              " '[Coke]',\n",
              " '[Nestea]',\n",
              " '[Roasted Chili Corn Salsa, [Rice, Black Beans, Cheese, Sour Cream, Lettuce]]',\n",
              " '[Tomatillo Red Chili Salsa, [Rice, Pinto Beans, Cheese, Sour Cream, Lettuce]]',\n",
              " '[Fresh Tomato Salsa]',\n",
              " ' ',\n",
              " '[Roasted Chili Corn Salsa, [Fajita Vegetables, Rice, Black Beans, Cheese]]',\n",
              " '[Roasted Chili Corn Salsa, [Fajita Vegetables, Black Beans, Sour Cream, Guacamole, Lettuce]]',\n",
              " '[Roasted Chili Corn (Medium), [Sour Cream, Cheese]]',\n",
              " '[Fresh Tomato (Mild), [Lettuce, Cheese]]',\n",
              " ' ',\n",
              " ' ',\n",
              " '[Fresh Tomato Salsa (Mild), [Pinto Beans, Rice, Cheese, Sour Cream]]',\n",
              " '[Fresh Tomato Salsa, [Rice, Black Beans, Sour Cream, Cheese]]',\n",
              " '[Roasted Chili Corn Salsa, [Rice, Fajita Vegetables, Black Beans, Sour Cream, Cheese, Lettuce]]',\n",
              " '[Sprite]',\n",
              " '[Tomatillo Green Chili Salsa, [Rice, Cheese, Guacamole, Lettuce]]',\n",
              " '[Tomatillo Red Chili Salsa, [Fajita Vegetables, Rice, Black Beans, Cheese, Guacamole, Lettuce]]',\n",
              " '[Tomatillo Red Chili Salsa, [Fajita Vegetables, Rice, Black Beans, Cheese, Guacamole, Lettuce]]',\n",
              " '[Tomatillo Red Chili Salsa, [Guacamole, Cheese]]',\n",
              " '[Coke]',\n",
              " '[Roasted Chili Corn Salsa]',\n",
              " '[Roasted Chili Corn Salsa, [Fajita Vegetables, Rice, Black Beans, Sour Cream, Guacamole]]',\n",
              " '[Coke]',\n",
              " ' ',\n",
              " '[Fresh Tomato Salsa (Mild), [Cheese, Rice, Pinto Beans, Sour Cream]]',\n",
              " '[Fresh Tomato Salsa, [Rice, Black Beans, Cheese, Guacamole, Lettuce]]',\n",
              " ' ',\n",
              " '[Roasted Chili Corn Salsa, [Rice, Sour Cream, Cheese, Guacamole]]',\n",
              " '[Roasted Chili Corn Salsa, [Rice, Cheese, Lettuce, Guacamole]]',\n",
              " '[Tomatillo-Red Chili Salsa (Hot), [Black Beans, Rice, Cheese, Sour Cream, Lettuce]]',\n",
              " ' ',\n",
              " '[Tomatillo-Red Chili Salsa (Hot), [Black Beans, Rice, Fajita Veggies, Cheese, Lettuce]]',\n",
              " '[[Roasted Chili Corn Salsa (Medium), Fresh Tomato Salsa (Mild)], [Cheese, Fajita Veggies, Lettuce, Sour Cream, Rice, Black Beans]]',\n",
              " ' ',\n",
              " '[Fresh Tomato Salsa (Mild), [Rice, Fajita Veggies, Cheese, Lettuce, Black Beans]]',\n",
              " '[Fresh Tomato Salsa, [Rice, Pinto Beans, Cheese, Sour Cream, Lettuce]]',\n",
              " '[Fresh Tomato Salsa, [Rice, Cheese, Sour Cream, Lettuce]]',\n",
              " ' ',\n",
              " '[White Rice, Adobo-Marinated and Grilled Steak, [Salsa, Cheese]]',\n",
              " '[White Rice, Adobo-Marinated and Grilled Steak, Pinto Beans, [Sour Cream, Salsa, Cheese, Cilantro-Lime Rice]]',\n",
              " '[Fresh Tomato Salsa, [Rice, Pinto Beans, Cheese]]',\n",
              " '[Fresh Tomato Salsa, [Fajita Vegetables, Lettuce]]',\n",
              " '[Fresh Tomato Salsa, [Sour Cream, Lettuce]]',\n",
              " ' ',\n",
              " '[Roasted Chili Corn Salsa, [Fajita Vegetables, Rice, Black Beans, Cheese, Sour Cream, Guacamole, Lettuce]]',\n",
              " '[Sprite]',\n",
              " '[Roasted Chili Corn Salsa, [Rice, Cheese, Guacamole]]',\n",
              " '[Roasted Chili Corn Salsa, [Rice, Cheese, Guacamole]]',\n",
              " '[Coke]',\n",
              " ' ',\n",
              " '[Fresh Tomato Salsa (Mild), [Cheese, Rice, Pinto Beans, Sour Cream]]',\n",
              " '[Tomatillo-Green Chili Salsa (Medium), Black Beans]',\n",
              " '[Tomatillo-Green Chili Salsa (Medium), Black Beans]',\n",
              " '[Tomatillo-Green Chili Salsa (Medium), Pinto Beans]',\n",
              " '[Fresh Tomato Salsa, [Rice, Black Beans, Cheese, Sour Cream, Lettuce]]',\n",
              " ' ',\n",
              " '[Sprite]',\n",
              " '[[Fresh Tomato Salsa (Mild), Roasted Chili Corn Salsa (Medium), Tomatillo-Red Chili Salsa (Hot)], [Black Beans, Rice, Fajita Veggies, Lettuce]]',\n",
              " '[Diet Coke]',\n",
              " ' ',\n",
              " '[Fresh Tomato Salsa, [Black Beans, Cheese, Sour Cream, Lettuce]]',\n",
              " ' ',\n",
              " '[Nestea]',\n",
              " '[Tomatillo Red Chili Salsa, [Rice, Cheese]]',\n",
              " '[Lemonade]',\n",
              " ' ',\n",
              " '[Roasted Chili Corn Salsa, [Rice, Black Beans, Cheese, Lettuce, Guacamole]]',\n",
              " '[Diet Coke]',\n",
              " ' ',\n",
              " '[Fresh Tomato Salsa, [Rice, Black Beans, Cheese]]',\n",
              " '[Coke]',\n",
              " ' ',\n",
              " '[Roasted Chili Corn Salsa, [Fajita Vegetables, Rice, Pinto Beans, Cheese, Sour Cream, Lettuce]]',\n",
              " '[Roasted Chili Corn Salsa, [Fajita Vegetables, Rice, Black Beans, Cheese, Lettuce]]',\n",
              " '[Tomatillo Red Chili Salsa, [Fajita Vegetables, Rice, Black Beans, Cheese, Sour Cream, Lettuce]]',\n",
              " '[Tomatillo Red Chili Salsa, [Fajita Vegetables, Rice, Black Beans, Sour Cream, Guacamole, Lettuce]]',\n",
              " '[Tomatillo Red Chili Salsa, [Fajita Vegetables, Rice, Sour Cream, Guacamole, Lettuce]]',\n",
              " '[[Fresh Tomato Salsa (Mild), Roasted Chili Corn Salsa (Medium)], [Rice, Sour Cream, Guacamole, Lettuce]]',\n",
              " ' ',\n",
              " '[Fresh Tomato Salsa (Mild), [Rice, Fajita Veggies, Cheese, Sour Cream, Guacamole, Lettuce]]',\n",
              " ' ',\n",
              " ' ',\n",
              " '[Tomatillo-Red Chili Salsa (Hot), [Black Beans, Rice, Cheese, Sour Cream, Lettuce]]',\n",
              " '[Tomatillo Red Chili Salsa, [Rice, Fajita Vegetables, Black Beans, Sour Cream, Cheese]]',\n",
              " '[Tomatillo Red Chili Salsa, [Rice, Fajita Vegetables, Black Beans, Sour Cream, Cheese]]',\n",
              " '[Roasted Chili Corn Salsa (Medium), [Rice, Black Beans, Sour Cream, Lettuce]]',\n",
              " '[Mountain Dew]',\n",
              " '[Fresh Tomato Salsa, [Fajita Vegetables, Rice, Cheese, Lettuce]]',\n",
              " ' ',\n",
              " '[Fresh Tomato Salsa, [Rice, Black Beans, Cheese, Sour Cream]]',\n",
              " '[Tomatillo Green Chili Salsa, [Rice, Black Beans, Cheese, Sour Cream]]',\n",
              " ' ',\n",
              " '[Fresh Tomato Salsa (Mild), [Cheese, Rice, Pinto Beans, Sour Cream]]',\n",
              " '[Roasted Chili Corn Salsa, [Rice, Cheese, Sour Cream, Lettuce]]',\n",
              " '[Tomatillo Red Chili Salsa, [Rice, Cheese, Sour Cream, Lettuce]]',\n",
              " '[Tomatillo Green Chili Salsa, [Black Beans, Cheese, Guacamole]]',\n",
              " '[[Roasted Chili Corn Salsa (Medium), Fresh Tomato Salsa (Mild)], [Rice, Black Beans, Fajita Veggies, Cheese, Sour Cream, Guacamole]]',\n",
              " ' ',\n",
              " ' ',\n",
              " '[Fresh Tomato Salsa (Mild), [Rice, Pinto Beans, Cheese, Sour Cream]]',\n",
              " '[Coca Cola]',\n",
              " '[Fresh Tomato (Mild), [Guacamole, Sour Cream, Cheese]]',\n",
              " '[Fresh Tomato Salsa, [Rice, Black Beans, Cheese, Sour Cream, Lettuce]]',\n",
              " ' ',\n",
              " '[Fresh Tomato (Mild), [Guacamole, Lettuce, Pinto Beans, Rice, Sour Cream, Cheese]]',\n",
              " ' ',\n",
              " '[Fresh Tomato Salsa (Mild), [Cheese, Pinto Beans, Sour Cream, Rice]]',\n",
              " ' ',\n",
              " '[Roasted Chili Corn Salsa, [Fajita Vegetables, Black Beans, Cheese]]',\n",
              " '[Fresh Tomato Salsa, [Rice, Cheese, Lettuce]]',\n",
              " '[Roasted Chili Corn Salsa, [Black Beans, Cheese, Sour Cream, Guacamole]]',\n",
              " '[Fresh Tomato Salsa, [Rice, Black Beans, Cheese, Sour Cream, Guacamole]]',\n",
              " '[Fresh Tomato Salsa, [Rice, Black Beans, Cheese, Sour Cream]]',\n",
              " '[Tomatillo-Green Chili Salsa (Medium), [Black Beans, Rice, Fajita Veggies, Sour Cream]]',\n",
              " '[Fresh Tomato Salsa (Mild), [Pinto Beans, Rice, Fajita Veggies, Sour Cream]]',\n",
              " '[Fresh Tomato Salsa (Mild), [Pinto Beans, Rice, Sour Cream]]',\n",
              " '[Tomatillo Red Chili Salsa, [Rice, Black Beans, Cheese, Sour Cream, Lettuce]]',\n",
              " ' ',\n",
              " ' ',\n",
              " '[Tomatillo Red Chili Salsa, [Rice, Cheese, Lettuce]]',\n",
              " ' ',\n",
              " '[Tomatillo Green Chili Salsa]',\n",
              " '[Roasted Chili Corn Salsa, Fajita Vegetables]',\n",
              " '[Fresh Tomato Salsa, [Rice, Guacamole]]',\n",
              " ' ',\n",
              " '[Fresh Tomato Salsa (Mild), [Rice, Sour Cream, Cheese, Pinto Beans]]',\n",
              " '[Tomatillo-Green Chili Salsa (Medium), [Black Beans, Rice, Cheese]]',\n",
              " ' ',\n",
              " '[Fresh Tomato Salsa, [Rice, Black Beans, Cheese, Sour Cream, Guacamole]]',\n",
              " '[Sprite]',\n",
              " '[Fresh Tomato Salsa, [Fajita Vegetables, Rice, Pinto Beans, Lettuce]]',\n",
              " ' ',\n",
              " '[Roasted Chili Corn Salsa, [Rice, Pinto Beans, Sour Cream, Cheese]]',\n",
              " '[Roasted Chili Corn Salsa, [Rice, Black Beans, Sour Cream, Cheese]]',\n",
              " ' ',\n",
              " '[Fresh Tomato Salsa, [Rice, Black Beans, Sour Cream, Lettuce]]',\n",
              " '[Tomatillo Red Chili Salsa, [Rice, Pinto Beans, Cheese, Sour Cream]]',\n",
              " '[Fresh Tomato Salsa, [Rice, Black Beans, Cheese, Lettuce]]',\n",
              " '[Fresh Tomato Salsa, [Fajita Vegetables, Rice, Black Beans, Cheese, Lettuce]]',\n",
              " '[Roasted Chili Corn Salsa, [Rice, Fajita Vegetables, Sour Cream, Cheese, Lettuce]]',\n",
              " '[Tomatillo Green Chili Salsa, [Rice, Fajita Vegetables, Black Beans, Cheese]]',\n",
              " '[Roasted Chili Corn Salsa (Medium), [Rice, Fajita Veggies, Sour Cream, Guacamole, Lettuce]]',\n",
              " '[Roasted Chili Corn Salsa (Medium), [Rice, Sour Cream, Lettuce]]',\n",
              " '[Fresh Tomato Salsa, [Black Beans, Cheese, Guacamole]]',\n",
              " '[Roasted Chili Corn Salsa, [Cheese, Rice, Guacamole]]',\n",
              " '[Roasted Chili Corn Salsa, [Rice, Cheese, Guacamole]]',\n",
              " '[Coke]',\n",
              " '[Tomatillo Green Chili Salsa, [Rice, Pinto Beans, Sour Cream, Lettuce]]',\n",
              " ' ',\n",
              " '[Diet Coke]',\n",
              " '[Tomatillo Red Chili Salsa, [Rice, Sour Cream, Cheese, Guacamole]]',\n",
              " '[Fresh Tomato Salsa, [Rice, Black Beans, Cheese]]',\n",
              " '[Sprite]',\n",
              " '[Fresh Tomato Salsa, [Rice, Black Beans, Sour Cream, Guacamole]]',\n",
              " ' ',\n",
              " '[Fresh Tomato Salsa, [Cheese, Sour Cream, Guacamole, Lettuce]]',\n",
              " '[Roasted Chili Corn Salsa, [Fajita Vegetables, Pinto Beans, Sour Cream, Guacamole]]',\n",
              " '[Fresh Tomato Salsa, [Fajita Vegetables, Rice, Cheese, Sour Cream]]',\n",
              " '[Coke]',\n",
              " ' ',\n",
              " '[Tomatillo Green Chili Salsa, [Rice, Cheese, Sour Cream, Lettuce]]',\n",
              " ' ',\n",
              " '[Roasted Chili Corn Salsa, [Rice, Cheese, Lettuce, Guacamole]]',\n",
              " '[Diet Coke]',\n",
              " '[Tomatillo Red Chili Salsa]',\n",
              " '[Tomatillo Red Chili Salsa]',\n",
              " '[Tomatillo Red Chili Salsa, [Fajita Vegetables, Rice, Pinto Beans, Cheese, Sour Cream, Lettuce]]',\n",
              " '[Tomatillo Red Chili Salsa, [Rice, Cheese, Sour Cream, Guacamole, Lettuce]]',\n",
              " ' ',\n",
              " '[Tomatillo-Red Chili Salsa (Hot), [Pinto Beans, Rice, Fajita Veggies, Cheese, Sour Cream, Lettuce]]',\n",
              " '[Fresh Tomato Salsa (Mild), [Black Beans, Rice, Cheese, Sour Cream, Lettuce]]',\n",
              " '[Fresh Tomato Salsa (Mild), [Rice, Fajita Veggies, Sour Cream, Guacamole]]',\n",
              " '[Fresh Tomato Salsa (Mild), [Rice, Cheese, Sour Cream, Lettuce]]',\n",
              " ' ',\n",
              " '[Tomatillo Green Chili Salsa, [Rice, Cheese, Sour Cream, Lettuce]]',\n",
              " ' ',\n",
              " '[[Fresh Tomato Salsa (Mild), Roasted Chili Corn Salsa (Medium), Tomatillo-Red Chili Salsa (Hot)], [Black Beans, Rice, Sour Cream]]',\n",
              " ' ',\n",
              " '[Roasted Chili Corn Salsa, [Rice, Black Beans, Cheese, Sour Cream, Guacamole, Lettuce]]',\n",
              " '[Fresh Tomato Salsa, [Rice, Cheese, Sour Cream]]',\n",
              " '[Roasted Chili Corn Salsa, [Rice, Black Beans, Cheese, Sour Cream, Guacamole]]',\n",
              " ' ',\n",
              " '[Fresh Tomato Salsa, [Fajita Vegetables, Rice, Black Beans, Sour Cream, Guacamole, Lettuce]]',\n",
              " '[Coke]',\n",
              " '[Roasted Chili Corn Salsa, [Fajita Vegetables, Rice, Black Beans, Cheese, Guacamole]]',\n",
              " ' ',\n",
              " '[Roasted Chili Corn Salsa (Medium), [Rice, Fajita Veggies, Cheese, Sour Cream, Lettuce]]',\n",
              " '[Roasted Chili Corn Salsa (Medium), [Rice, Fajita Veggies, Cheese, Sour Cream, Lettuce]]',\n",
              " '[Mountain Dew]',\n",
              " '[Roasted Chili Corn Salsa (Medium), [Black Beans, Rice, Cheese]]',\n",
              " '[Roasted Chili Corn Salsa (Medium), [Black Beans, Rice, Cheese]]',\n",
              " '[Fresh Tomato Salsa (Mild), [Black Beans, Rice, Cheese, Sour Cream, Lettuce]]',\n",
              " ' ',\n",
              " '[Roasted Chili Corn Salsa, [Fajita Vegetables, Rice, Cheese, Sour Cream, Guacamole, Lettuce]]',\n",
              " '[Roasted Chili Corn Salsa, [Fajita Vegetables, Rice, Cheese, Sour Cream, Guacamole, Lettuce]]',\n",
              " ' ',\n",
              " '[Lemonade]',\n",
              " '[Roasted Chili Corn Salsa, [Cheese, Sour Cream, Lettuce]]',\n",
              " '[Tomatillo Red Chili Salsa, [Fajita Vegetables, Rice, Black Beans, Pinto Beans, Cheese, Sour Cream, Guacamole, Lettuce]]',\n",
              " '[Roasted Chili Corn Salsa, [Rice, Cheese, Sour Cream, Lettuce]]',\n",
              " ' ',\n",
              " ' ',\n",
              " '[Tomatillo-Red Chili Salsa (Hot), Cheese]',\n",
              " '[Tomatillo-Red Chili Salsa (Hot), Cheese]',\n",
              " '[Pomegranate Cherry]',\n",
              " '[Fresh Tomato (Mild), [Lettuce, Black Beans, Rice, Cheese]]',\n",
              " ' ',\n",
              " '[Tomatillo Green Chili Salsa, [Rice, Cheese, Sour Cream, Lettuce]]',\n",
              " ' ',\n",
              " '[Fresh Tomato Salsa, [Rice, Black Beans, Cheese, Sour Cream]]',\n",
              " '[Fresh Tomato Salsa, [Rice, Black Beans, Guacamole, Lettuce]]',\n",
              " ' ',\n",
              " '[Fresh Tomato Salsa, [Fajita Vegetables, Rice, Cheese, Sour Cream, Lettuce]]',\n",
              " '[Fresh Tomato Salsa (Mild), [Pinto Beans, Rice, Cheese, Sour Cream, Lettuce]]',\n",
              " ' ',\n",
              " '[Tomatillo-Red Chili Salsa (Hot), [Pinto Beans, Black Beans, Rice, Fajita Veggies, Cheese]]',\n",
              " '[Tomatillo-Red Chili Salsa (Hot), [Rice, Fajita Veggies, Cheese, Sour Cream, Lettuce]]',\n",
              " '[Lemonade]',\n",
              " '[Roasted Chili Corn Salsa, [Rice, Fajita Vegetables, Sour Cream, Cheese, Lettuce]]',\n",
              " '[Roasted Chili Corn Salsa, [Rice, Fajita Vegetables, Cheese, Lettuce, Guacamole]]',\n",
              " '[Roasted Chili Corn Salsa, [Rice, Fajita Vegetables, Sour Cream, Lettuce, Guacamole]]',\n",
              " '[Tomatillo-Red Chili Salsa (Hot), [Pinto Beans, Rice, Cheese, Sour Cream]]',\n",
              " ' ',\n",
              " '[Fresh Tomato Salsa, [Fajita Vegetables, Rice, Black Beans, Sour Cream]]',\n",
              " ' ',\n",
              " '[Fresh Tomato Salsa, Lettuce]',\n",
              " ' ',\n",
              " '[Roasted Chili Corn Salsa, [Fajita Vegetables, Rice, Black Beans, Cheese, Sour Cream]]',\n",
              " ' ',\n",
              " ' ',\n",
              " '[Fresh Tomato Salsa (Mild), [Rice, Cheese, Sour Cream, Lettuce]]',\n",
              " '[[Fresh Tomato Salsa (Mild), Roasted Chili Corn Salsa (Medium)], [Pinto Beans, Rice, Fajita Veggies, Cheese, Sour Cream, Lettuce]]',\n",
              " ' ',\n",
              " '[Tomatillo-Red Chili Salsa (Hot), [Black Beans, Rice, Cheese]]',\n",
              " ' ',\n",
              " '[Coca Cola]',\n",
              " '[Fresh Tomato Salsa (Mild), [Pinto Beans, Rice, Cheese, Sour Cream, Lettuce]]',\n",
              " '[Sprite]',\n",
              " '[Fresh Tomato Salsa, [Rice, Pinto Beans, Cheese]]',\n",
              " '[Fresh Tomato Salsa, [Fajita Vegetables, Lettuce]]',\n",
              " '[Tomatillo-Red Chili Salsa (Hot), [Cheese, Sour Cream, Lettuce]]',\n",
              " ' ',\n",
              " '[Diet Coke]',\n",
              " '[Coke]',\n",
              " '[Fresh Tomato Salsa, [Fajita Vegetables, Sour Cream, Cheese, Guacamole]]',\n",
              " '[Fresh Tomato Salsa, [Sour Cream, Cheese, Guacamole]]',\n",
              " '[Fresh Tomato Salsa, [Rice, Black Beans, Cheese, Sour Cream]]',\n",
              " '[Fresh Tomato Salsa, [Cheese, Sour Cream]]',\n",
              " '[Roasted Chili Corn Salsa, [Rice, Black Beans, Cheese, Lettuce, Guacamole]]',\n",
              " ' ',\n",
              " ' ',\n",
              " '[Fresh Tomato Salsa (Mild), [Rice, Pinto Beans, Cheese, Sour Cream]]',\n",
              " '[Tomatillo Green Chili Salsa, [Rice, Fajita Vegetables, Pinto Beans, Sour Cream, Cheese, Lettuce, Guacamole]]',\n",
              " '[Tomatillo Red Chili Salsa]',\n",
              " '[Tomatillo Red Chili Salsa, [Rice, Black Beans, Cheese, Lettuce, Guacamole]]',\n",
              " '[Fresh Tomato Salsa, [Fajita Vegetables, Rice, Lettuce]]',\n",
              " '[Fresh Tomato Salsa, [Rice, Black Beans, Cheese, Lettuce]]',\n",
              " ' ',\n",
              " '[Fresh Tomato Salsa, [Fajita Vegetables, Rice, Black Beans, Cheese, Sour Cream, Lettuce]]',\n",
              " '[Tomatillo Green Chili Salsa, [Fajita Vegetables, Rice, Black Beans, Cheese, Sour Cream, Lettuce]]',\n",
              " '[Roasted Chili Corn Salsa (Medium), [Black Beans, Rice, Cheese, Sour Cream]]',\n",
              " ' ',\n",
              " '[Fresh Tomato Salsa, [Fajita Vegetables, Rice, Pinto Beans, Cheese, Guacamole, Lettuce]]',\n",
              " '[Fresh Tomato Salsa, [Fajita Vegetables, Rice, Pinto Beans, Cheese, Sour Cream, Lettuce]]',\n",
              " ' ',\n",
              " '[Fresh Tomato Salsa, [Fajita Vegetables, Pinto Beans, Cheese, Guacamole]]',\n",
              " '[Diet Coke]',\n",
              " '[Tomatillo Red Chili Salsa, [Black Beans, Cheese, Sour Cream, Guacamole]]',\n",
              " '[Diet Coke]',\n",
              " '[Roasted Chili Corn Salsa, [Rice, Sour Cream, Cheese, Guacamole]]',\n",
              " '[Roasted Chili Corn Salsa, [Rice, Sour Cream, Cheese, Guacamole]]',\n",
              " '[Coke]',\n",
              " '[Tomatillo Green Chili Salsa, [Rice, Sour Cream, Cheese, Guacamole]]',\n",
              " '[Fresh Tomato Salsa, [Rice, Fajita Vegetables, Pinto Beans, Sour Cream, Cheese, Lettuce, Guacamole]]',\n",
              " '[[Fresh Tomato Salsa (Mild), Tomatillo-Red Chili Salsa (Hot)], [Black Beans, Rice, Cheese, Sour Cream]]',\n",
              " '[Roasted Chili Corn Salsa (Medium), [Black Beans, Rice, Sour Cream, Guacamole]]',\n",
              " '[Roasted Chili Corn Salsa, [Rice, Black Beans]]',\n",
              " '[Diet Coke]',\n",
              " '[Roasted Chili Corn Salsa, [Black Beans, Lettuce]]',\n",
              " ...]"
            ]
          },
          "metadata": {
            "tags": []
          },
          "execution_count": 132
        }
      ]
    },
    {
      "cell_type": "markdown",
      "metadata": {
        "id": "W9KRsK28ZNlQ",
        "colab_type": "text"
      },
      "source": [
        "### Step 12. How many items were orderd in total?"
      ]
    },
    {
      "cell_type": "code",
      "metadata": {
        "id": "x8l1cpmMZNlT",
        "colab_type": "code",
        "outputId": "4a9516c3-b7ec-48f4-d723-9f91b96d623a",
        "colab": {
          "base_uri": "https://localhost:8080/",
          "height": 34
        }
      },
      "source": [
        "len(chipo.item_name.unique())"
      ],
      "execution_count": 0,
      "outputs": [
        {
          "output_type": "execute_result",
          "data": {
            "text/plain": [
              "50"
            ]
          },
          "metadata": {
            "tags": []
          },
          "execution_count": 92
        }
      ]
    },
    {
      "cell_type": "markdown",
      "metadata": {
        "id": "yX0IaxtjZNld",
        "colab_type": "text"
      },
      "source": [
        "### Step 13. Turn the item price into a float"
      ]
    },
    {
      "cell_type": "code",
      "metadata": {
        "id": "EX8TShwTuUL8",
        "colab_type": "code",
        "outputId": "f19ef8dc-3a38-4f58-899e-23a4f0d44682",
        "colab": {
          "base_uri": "https://localhost:8080/",
          "height": 121
        }
      },
      "source": [
        "chipo.dtypes"
      ],
      "execution_count": 0,
      "outputs": [
        {
          "output_type": "execute_result",
          "data": {
            "text/plain": [
              "order_id               int64\n",
              "quantity               int64\n",
              "item_name             object\n",
              "choice_description    object\n",
              "item_price            object\n",
              "dtype: object"
            ]
          },
          "metadata": {
            "tags": []
          },
          "execution_count": 93
        }
      ]
    },
    {
      "cell_type": "code",
      "metadata": {
        "id": "-Y4V8dzI2iUa",
        "colab_type": "code",
        "outputId": "d24e8f26-79e6-47eb-b84e-7e9e70b086a7",
        "colab": {
          "base_uri": "https://localhost:8080/",
          "height": 260
        }
      },
      "source": [
        "chipo.item_price.unique()"
      ],
      "execution_count": 0,
      "outputs": [
        {
          "output_type": "execute_result",
          "data": {
            "text/plain": [
              "array(['$2.39 ', '$3.39 ', '$16.98 ', '$10.98 ', '$1.69 ', '$11.75 ',\n",
              "       '$9.25 ', '$4.45 ', '$8.75 ', '$11.25 ', '$8.49 ', '$2.18 ',\n",
              "       '$8.99 ', '$1.09 ', '$2.95 ', '$2.15 ', '$3.99 ', '$22.50 ',\n",
              "       '$11.48 ', '$17.98 ', '$17.50 ', '$4.30 ', '$5.90 ', '$1.25 ',\n",
              "       '$23.78 ', '$6.49 ', '$11.08 ', '$1.50 ', '$22.16 ', '$32.94 ',\n",
              "       '$22.20 ', '$10.58 ', '$2.50 ', '$23.50 ', '$7.40 ', '$18.50 ',\n",
              "       '$3.00 ', '$6.78 ', '$11.89 ', '$9.39 ', '$4.00 ', '$3.75 ',\n",
              "       '$8.69 ', '$2.29 ', '$8.90 ', '$3.27 ', '$3.89 ', '$8.19 ',\n",
              "       '$35.00 ', '$27.75 ', '$11.80 ', '$6.00 ', '$26.25 ', '$21.96 ',\n",
              "       '$4.36 ', '$7.50 ', '$4.78 ', '$13.35 ', '$6.45 ', '$5.07 ',\n",
              "       '$22.96 ', '$7.17 ', '$7.98 ', '$4.50 ', '$26.07 ', '$12.98 ',\n",
              "       '$35.25 ', '$44.25 ', '$10.50 ', '$33.75 ', '$16.38 ', '$13.52 ',\n",
              "       '$5.00 ', '$15.00 ', '$8.50 ', '$17.80 ', '$1.99 ', '$11.49 '],\n",
              "      dtype=object)"
            ]
          },
          "metadata": {
            "tags": []
          },
          "execution_count": 96
        }
      ]
    },
    {
      "cell_type": "code",
      "metadata": {
        "id": "WIkARTQQ2_x5",
        "colab_type": "code",
        "colab": {}
      },
      "source": [
        "chipo.item_price=chipo.item_price.replace(regex={r'^\\$':'0'})"
      ],
      "execution_count": 0,
      "outputs": []
    },
    {
      "cell_type": "code",
      "metadata": {
        "id": "I6fs9MmN3IkP",
        "colab_type": "code",
        "outputId": "3f9f9153-ef4f-4af4-c540-4b16a5d44fd2",
        "colab": {
          "base_uri": "https://localhost:8080/",
          "height": 260
        }
      },
      "source": [
        "chipo.item_price.unique()"
      ],
      "execution_count": 0,
      "outputs": [
        {
          "output_type": "execute_result",
          "data": {
            "text/plain": [
              "array(['02.39 ', '03.39 ', '016.98 ', '010.98 ', '01.69 ', '011.75 ',\n",
              "       '09.25 ', '04.45 ', '08.75 ', '011.25 ', '08.49 ', '02.18 ',\n",
              "       '08.99 ', '01.09 ', '02.95 ', '02.15 ', '03.99 ', '022.50 ',\n",
              "       '011.48 ', '017.98 ', '017.50 ', '04.30 ', '05.90 ', '01.25 ',\n",
              "       '023.78 ', '06.49 ', '011.08 ', '01.50 ', '022.16 ', '032.94 ',\n",
              "       '022.20 ', '010.58 ', '02.50 ', '023.50 ', '07.40 ', '018.50 ',\n",
              "       '03.00 ', '06.78 ', '011.89 ', '09.39 ', '04.00 ', '03.75 ',\n",
              "       '08.69 ', '02.29 ', '08.90 ', '03.27 ', '03.89 ', '08.19 ',\n",
              "       '035.00 ', '027.75 ', '011.80 ', '06.00 ', '026.25 ', '021.96 ',\n",
              "       '04.36 ', '07.50 ', '04.78 ', '013.35 ', '06.45 ', '05.07 ',\n",
              "       '022.96 ', '07.17 ', '07.98 ', '04.50 ', '026.07 ', '012.98 ',\n",
              "       '035.25 ', '044.25 ', '010.50 ', '033.75 ', '016.38 ', '013.52 ',\n",
              "       '05.00 ', '015.00 ', '08.50 ', '017.80 ', '01.99 ', '011.49 '],\n",
              "      dtype=object)"
            ]
          },
          "metadata": {
            "tags": []
          },
          "execution_count": 102
        }
      ]
    },
    {
      "cell_type": "code",
      "metadata": {
        "id": "PuF_obcA5MwK",
        "colab_type": "code",
        "colab": {}
      },
      "source": [
        "chipo.item_price=chipo.item_price.astype(float)"
      ],
      "execution_count": 0,
      "outputs": []
    },
    {
      "cell_type": "code",
      "metadata": {
        "id": "-cDtaHt15bGP",
        "colab_type": "code",
        "outputId": "1b791bfc-d6e4-4293-f710-864514f5b779",
        "colab": {
          "base_uri": "https://localhost:8080/",
          "height": 121
        }
      },
      "source": [
        "chipo.dtypes"
      ],
      "execution_count": 0,
      "outputs": [
        {
          "output_type": "execute_result",
          "data": {
            "text/plain": [
              "order_id                int64\n",
              "quantity                int64\n",
              "item_name              object\n",
              "choice_description     object\n",
              "item_price            float64\n",
              "dtype: object"
            ]
          },
          "metadata": {
            "tags": []
          },
          "execution_count": 104
        }
      ]
    },
    {
      "cell_type": "markdown",
      "metadata": {
        "id": "NlXHS-iNZNlf",
        "colab_type": "text"
      },
      "source": [
        "#### Step 13.a. Check the item price type"
      ]
    },
    {
      "cell_type": "code",
      "metadata": {
        "id": "07y2Q1fdZNlh",
        "colab_type": "code",
        "outputId": "e7313f48-7c54-4e66-c8e9-4495adafb6a3",
        "colab": {
          "base_uri": "https://localhost:8080/",
          "height": 34
        }
      },
      "source": [
        "chipo.item_price.dtype"
      ],
      "execution_count": 0,
      "outputs": [
        {
          "output_type": "execute_result",
          "data": {
            "text/plain": [
              "dtype('float64')"
            ]
          },
          "metadata": {
            "tags": []
          },
          "execution_count": 105
        }
      ]
    },
    {
      "cell_type": "markdown",
      "metadata": {
        "id": "mXR_Bm7PZNlm",
        "colab_type": "text"
      },
      "source": [
        "#### Step 13.b. Create a lambda function and change the type of item price"
      ]
    },
    {
      "cell_type": "code",
      "metadata": {
        "id": "A-N24ADZZNln",
        "colab_type": "code",
        "colab": {}
      },
      "source": [
        ""
      ],
      "execution_count": 0,
      "outputs": []
    },
    {
      "cell_type": "markdown",
      "metadata": {
        "id": "w4KHo6oGZNlt",
        "colab_type": "text"
      },
      "source": [
        "#### Step 13.c. Check the item price type"
      ]
    },
    {
      "cell_type": "code",
      "metadata": {
        "id": "tlR7Md5lZNlv",
        "colab_type": "code",
        "colab": {}
      },
      "source": [
        ""
      ],
      "execution_count": 0,
      "outputs": []
    },
    {
      "cell_type": "markdown",
      "metadata": {
        "id": "qFTqd2VhZNl0",
        "colab_type": "text"
      },
      "source": [
        "### Step 14. How much was the revenue for the period in the dataset?"
      ]
    },
    {
      "cell_type": "code",
      "metadata": {
        "id": "8qOy8f8UZNl4",
        "colab_type": "code",
        "outputId": "98e16a13-c1e5-4bd2-ee61-a9ced0180086",
        "colab": {
          "base_uri": "https://localhost:8080/",
          "height": 202
        }
      },
      "source": [
        "chipo.head()"
      ],
      "execution_count": 0,
      "outputs": [
        {
          "output_type": "execute_result",
          "data": {
            "text/html": [
              "<div>\n",
              "<style scoped>\n",
              "    .dataframe tbody tr th:only-of-type {\n",
              "        vertical-align: middle;\n",
              "    }\n",
              "\n",
              "    .dataframe tbody tr th {\n",
              "        vertical-align: top;\n",
              "    }\n",
              "\n",
              "    .dataframe thead th {\n",
              "        text-align: right;\n",
              "    }\n",
              "</style>\n",
              "<table border=\"1\" class=\"dataframe\">\n",
              "  <thead>\n",
              "    <tr style=\"text-align: right;\">\n",
              "      <th></th>\n",
              "      <th>order_id</th>\n",
              "      <th>quantity</th>\n",
              "      <th>item_name</th>\n",
              "      <th>choice_description</th>\n",
              "      <th>item_price</th>\n",
              "    </tr>\n",
              "  </thead>\n",
              "  <tbody>\n",
              "    <tr>\n",
              "      <th>0</th>\n",
              "      <td>1</td>\n",
              "      <td>1</td>\n",
              "      <td>Chips and Fresh Tomato Salsa</td>\n",
              "      <td></td>\n",
              "      <td>2.39</td>\n",
              "    </tr>\n",
              "    <tr>\n",
              "      <th>1</th>\n",
              "      <td>1</td>\n",
              "      <td>1</td>\n",
              "      <td>Izze</td>\n",
              "      <td>[Clementine]</td>\n",
              "      <td>3.39</td>\n",
              "    </tr>\n",
              "    <tr>\n",
              "      <th>2</th>\n",
              "      <td>1</td>\n",
              "      <td>1</td>\n",
              "      <td>Nantucket Nectar</td>\n",
              "      <td>[Apple]</td>\n",
              "      <td>3.39</td>\n",
              "    </tr>\n",
              "    <tr>\n",
              "      <th>3</th>\n",
              "      <td>1</td>\n",
              "      <td>1</td>\n",
              "      <td>Chips and Tomatillo-Green Chili Salsa</td>\n",
              "      <td></td>\n",
              "      <td>2.39</td>\n",
              "    </tr>\n",
              "    <tr>\n",
              "      <th>4</th>\n",
              "      <td>2</td>\n",
              "      <td>2</td>\n",
              "      <td>Chicken Bowl</td>\n",
              "      <td>[Tomatillo-Red Chili Salsa (Hot), [Black Beans...</td>\n",
              "      <td>16.98</td>\n",
              "    </tr>\n",
              "  </tbody>\n",
              "</table>\n",
              "</div>"
            ],
            "text/plain": [
              "   order_id  ...  item_price\n",
              "0         1  ...        2.39\n",
              "1         1  ...        3.39\n",
              "2         1  ...        3.39\n",
              "3         1  ...        2.39\n",
              "4         2  ...       16.98\n",
              "\n",
              "[5 rows x 5 columns]"
            ]
          },
          "metadata": {
            "tags": []
          },
          "execution_count": 106
        }
      ]
    },
    {
      "cell_type": "code",
      "metadata": {
        "id": "jaGTcsJb8rik",
        "colab_type": "code",
        "colab": {}
      },
      "source": [
        "chipo['total_price']=chipo['item_price']*chipo['quantity']"
      ],
      "execution_count": 0,
      "outputs": []
    },
    {
      "cell_type": "code",
      "metadata": {
        "id": "DCBRT2fE83QK",
        "colab_type": "code",
        "outputId": "f25948dc-c150-4844-ef03-39bb051d5c12",
        "colab": {
          "base_uri": "https://localhost:8080/",
          "height": 202
        }
      },
      "source": [
        "chipo.head()"
      ],
      "execution_count": 0,
      "outputs": [
        {
          "output_type": "execute_result",
          "data": {
            "text/html": [
              "<div>\n",
              "<style scoped>\n",
              "    .dataframe tbody tr th:only-of-type {\n",
              "        vertical-align: middle;\n",
              "    }\n",
              "\n",
              "    .dataframe tbody tr th {\n",
              "        vertical-align: top;\n",
              "    }\n",
              "\n",
              "    .dataframe thead th {\n",
              "        text-align: right;\n",
              "    }\n",
              "</style>\n",
              "<table border=\"1\" class=\"dataframe\">\n",
              "  <thead>\n",
              "    <tr style=\"text-align: right;\">\n",
              "      <th></th>\n",
              "      <th>order_id</th>\n",
              "      <th>quantity</th>\n",
              "      <th>item_name</th>\n",
              "      <th>choice_description</th>\n",
              "      <th>item_price</th>\n",
              "      <th>total_price</th>\n",
              "    </tr>\n",
              "  </thead>\n",
              "  <tbody>\n",
              "    <tr>\n",
              "      <th>0</th>\n",
              "      <td>1</td>\n",
              "      <td>1</td>\n",
              "      <td>Chips and Fresh Tomato Salsa</td>\n",
              "      <td></td>\n",
              "      <td>2.39</td>\n",
              "      <td>2.39</td>\n",
              "    </tr>\n",
              "    <tr>\n",
              "      <th>1</th>\n",
              "      <td>1</td>\n",
              "      <td>1</td>\n",
              "      <td>Izze</td>\n",
              "      <td>[Clementine]</td>\n",
              "      <td>3.39</td>\n",
              "      <td>3.39</td>\n",
              "    </tr>\n",
              "    <tr>\n",
              "      <th>2</th>\n",
              "      <td>1</td>\n",
              "      <td>1</td>\n",
              "      <td>Nantucket Nectar</td>\n",
              "      <td>[Apple]</td>\n",
              "      <td>3.39</td>\n",
              "      <td>3.39</td>\n",
              "    </tr>\n",
              "    <tr>\n",
              "      <th>3</th>\n",
              "      <td>1</td>\n",
              "      <td>1</td>\n",
              "      <td>Chips and Tomatillo-Green Chili Salsa</td>\n",
              "      <td></td>\n",
              "      <td>2.39</td>\n",
              "      <td>2.39</td>\n",
              "    </tr>\n",
              "    <tr>\n",
              "      <th>4</th>\n",
              "      <td>2</td>\n",
              "      <td>2</td>\n",
              "      <td>Chicken Bowl</td>\n",
              "      <td>[Tomatillo-Red Chili Salsa (Hot), [Black Beans...</td>\n",
              "      <td>16.98</td>\n",
              "      <td>33.96</td>\n",
              "    </tr>\n",
              "  </tbody>\n",
              "</table>\n",
              "</div>"
            ],
            "text/plain": [
              "   order_id  quantity  ... item_price total_price\n",
              "0         1         1  ...       2.39        2.39\n",
              "1         1         1  ...       3.39        3.39\n",
              "2         1         1  ...       3.39        3.39\n",
              "3         1         1  ...       2.39        2.39\n",
              "4         2         2  ...      16.98       33.96\n",
              "\n",
              "[5 rows x 6 columns]"
            ]
          },
          "metadata": {
            "tags": []
          },
          "execution_count": 108
        }
      ]
    },
    {
      "cell_type": "code",
      "metadata": {
        "id": "W0DRNSoE86qK",
        "colab_type": "code",
        "outputId": "11c5e25e-320d-4303-93ab-697f9e6f9764",
        "colab": {
          "base_uri": "https://localhost:8080/",
          "height": 34
        }
      },
      "source": [
        "chipo.total_price.sum()"
      ],
      "execution_count": 0,
      "outputs": [
        {
          "output_type": "execute_result",
          "data": {
            "text/plain": [
              "39237.02"
            ]
          },
          "metadata": {
            "tags": []
          },
          "execution_count": 109
        }
      ]
    },
    {
      "cell_type": "markdown",
      "metadata": {
        "id": "Z4XxKZ6mZNmJ",
        "colab_type": "text"
      },
      "source": [
        "### Step 15. How many orders were made in the period?"
      ]
    },
    {
      "cell_type": "code",
      "metadata": {
        "id": "Db8eCekAZNmO",
        "colab_type": "code",
        "outputId": "ad44921d-26c1-4abb-f336-4582c4e910f2",
        "colab": {
          "base_uri": "https://localhost:8080/",
          "height": 34
        }
      },
      "source": [
        "len(chipo.order_id.unique())"
      ],
      "execution_count": 0,
      "outputs": [
        {
          "output_type": "execute_result",
          "data": {
            "text/plain": [
              "1834"
            ]
          },
          "metadata": {
            "tags": []
          },
          "execution_count": 110
        }
      ]
    },
    {
      "cell_type": "markdown",
      "metadata": {
        "id": "HwKfcElcZNmU",
        "colab_type": "text"
      },
      "source": [
        "### Step 16. What is the average revenue amount per order?"
      ]
    },
    {
      "cell_type": "code",
      "metadata": {
        "id": "4EAi8-73_UTN",
        "colab_type": "code",
        "outputId": "7c70c800-129a-4cb8-fdf4-48158f24cbd5",
        "colab": {
          "base_uri": "https://localhost:8080/",
          "height": 242
        }
      },
      "source": [
        "chipo.groupby('order_id')['total_price'].sum()"
      ],
      "execution_count": 0,
      "outputs": [
        {
          "output_type": "execute_result",
          "data": {
            "text/plain": [
              "order_id\n",
              "1       11.56\n",
              "2       33.96\n",
              "3       12.67\n",
              "4       21.00\n",
              "5       13.70\n",
              "        ...  \n",
              "1830    23.00\n",
              "1831    12.90\n",
              "1832    13.20\n",
              "1833    23.50\n",
              "1834    28.75\n",
              "Name: total_price, Length: 1834, dtype: float64"
            ]
          },
          "metadata": {
            "tags": []
          },
          "execution_count": 112
        }
      ]
    },
    {
      "cell_type": "code",
      "metadata": {
        "id": "U5ZBCsWaZNmZ",
        "colab_type": "code",
        "outputId": "88380509-7d47-4f9a-82b3-ed409e239762",
        "colab": {
          "base_uri": "https://localhost:8080/",
          "height": 242
        }
      },
      "source": [
        "# Solution 1\n",
        "chipo.groupby('order_id')['total_price'].mean()\n"
      ],
      "execution_count": 0,
      "outputs": [
        {
          "output_type": "execute_result",
          "data": {
            "text/plain": [
              "order_id\n",
              "1        2.890000\n",
              "2       33.960000\n",
              "3        6.335000\n",
              "4       10.500000\n",
              "5        6.850000\n",
              "          ...    \n",
              "1830    11.500000\n",
              "1831     4.300000\n",
              "1832     6.600000\n",
              "1833    11.750000\n",
              "1834     9.583333\n",
              "Name: total_price, Length: 1834, dtype: float64"
            ]
          },
          "metadata": {
            "tags": []
          },
          "execution_count": 111
        }
      ]
    },
    {
      "cell_type": "code",
      "metadata": {
        "id": "x5xvZm6qZNmp",
        "colab_type": "code",
        "outputId": "bcd1a737-f62f-4c57-999c-cf164580690e",
        "colab": {
          "base_uri": "https://localhost:8080/",
          "height": 34
        }
      },
      "source": [
        "# Solution 2\n",
        "\n",
        "chipo.total_price.sum()"
      ],
      "execution_count": 0,
      "outputs": [
        {
          "output_type": "execute_result",
          "data": {
            "text/plain": [
              "39237.02"
            ]
          },
          "metadata": {
            "tags": []
          },
          "execution_count": 113
        }
      ]
    },
    {
      "cell_type": "code",
      "metadata": {
        "id": "-h2nZHUKAao5",
        "colab_type": "code",
        "outputId": "a97566b1-c295-4c59-9a63-cfb240769edf",
        "colab": {
          "base_uri": "https://localhost:8080/",
          "height": 34
        }
      },
      "source": [
        "len(chipo.order_id.unique())"
      ],
      "execution_count": 0,
      "outputs": [
        {
          "output_type": "execute_result",
          "data": {
            "text/plain": [
              "1834"
            ]
          },
          "metadata": {
            "tags": []
          },
          "execution_count": 114
        }
      ]
    },
    {
      "cell_type": "code",
      "metadata": {
        "id": "AF4Rv0h4AhXj",
        "colab_type": "code",
        "outputId": "33ea3aa9-d41d-400b-d7ee-cc2d2509e12a",
        "colab": {
          "base_uri": "https://localhost:8080/",
          "height": 34
        }
      },
      "source": [
        "chipo.total_price.sum()/len(chipo.order_id.unique())"
      ],
      "execution_count": 0,
      "outputs": [
        {
          "output_type": "execute_result",
          "data": {
            "text/plain": [
              "21.39423118865867"
            ]
          },
          "metadata": {
            "tags": []
          },
          "execution_count": 115
        }
      ]
    },
    {
      "cell_type": "markdown",
      "metadata": {
        "id": "QGhr3m-qZNm7",
        "colab_type": "text"
      },
      "source": [
        "### Step 17. How many different items are sold?"
      ]
    },
    {
      "cell_type": "code",
      "metadata": {
        "id": "A7l2zO3KZNnT",
        "colab_type": "code",
        "outputId": "30c1a8ce-0535-42ed-a923-07ec74f9b188",
        "colab": {
          "base_uri": "https://localhost:8080/",
          "height": 208
        }
      },
      "source": [
        "chipo.info()"
      ],
      "execution_count": 0,
      "outputs": [
        {
          "output_type": "stream",
          "text": [
            "<class 'pandas.core.frame.DataFrame'>\n",
            "RangeIndex: 4622 entries, 0 to 4621\n",
            "Data columns (total 6 columns):\n",
            "order_id              4622 non-null int64\n",
            "quantity              4622 non-null int64\n",
            "item_name             4622 non-null object\n",
            "choice_description    4622 non-null object\n",
            "item_price            4622 non-null float64\n",
            "total_price           4622 non-null float64\n",
            "dtypes: float64(2), int64(2), object(2)\n",
            "memory usage: 216.8+ KB\n"
          ],
          "name": "stdout"
        }
      ]
    },
    {
      "cell_type": "code",
      "metadata": {
        "id": "nAUz14NaArbd",
        "colab_type": "code",
        "outputId": "dd02318d-926b-4653-cff1-124970f64c64",
        "colab": {
          "base_uri": "https://localhost:8080/",
          "height": 364
        }
      },
      "source": [
        "chipo.item_name.unique()"
      ],
      "execution_count": 0,
      "outputs": [
        {
          "output_type": "execute_result",
          "data": {
            "text/plain": [
              "array(['Chips and Fresh Tomato Salsa', 'Izze', 'Nantucket Nectar',\n",
              "       'Chips and Tomatillo-Green Chili Salsa', 'Chicken Bowl',\n",
              "       'Side of Chips', 'Steak Burrito', 'Steak Soft Tacos',\n",
              "       'Chips and Guacamole', 'Chicken Crispy Tacos',\n",
              "       'Chicken Soft Tacos', 'Chicken Burrito', 'Canned Soda',\n",
              "       'Barbacoa Burrito', 'Carnitas Burrito', 'Carnitas Bowl',\n",
              "       'Bottled Water', 'Chips and Tomatillo Green Chili Salsa',\n",
              "       'Barbacoa Bowl', 'Chips', 'Chicken Salad Bowl', 'Steak Bowl',\n",
              "       'Barbacoa Soft Tacos', 'Veggie Burrito', 'Veggie Bowl',\n",
              "       'Steak Crispy Tacos', 'Chips and Tomatillo Red Chili Salsa',\n",
              "       'Barbacoa Crispy Tacos', 'Veggie Salad Bowl',\n",
              "       'Chips and Roasted Chili-Corn Salsa',\n",
              "       'Chips and Roasted Chili Corn Salsa', 'Carnitas Soft Tacos',\n",
              "       'Chicken Salad', 'Canned Soft Drink', 'Steak Salad Bowl',\n",
              "       '6 Pack Soft Drink', 'Chips and Tomatillo-Red Chili Salsa', 'Bowl',\n",
              "       'Burrito', 'Crispy Tacos', 'Carnitas Crispy Tacos', 'Steak Salad',\n",
              "       'Chips and Mild Fresh Tomato Salsa', 'Veggie Soft Tacos',\n",
              "       'Carnitas Salad Bowl', 'Barbacoa Salad Bowl', 'Salad',\n",
              "       'Veggie Crispy Tacos', 'Veggie Salad', 'Carnitas Salad'],\n",
              "      dtype=object)"
            ]
          },
          "metadata": {
            "tags": []
          },
          "execution_count": 117
        }
      ]
    },
    {
      "cell_type": "code",
      "metadata": {
        "id": "HNuQ8izpAy0e",
        "colab_type": "code",
        "outputId": "f1ad940d-7e23-42e0-e883-22f821e74c0e",
        "colab": {
          "base_uri": "https://localhost:8080/",
          "height": 34
        }
      },
      "source": [
        "len(chipo.item_name.unique())"
      ],
      "execution_count": 0,
      "outputs": [
        {
          "output_type": "execute_result",
          "data": {
            "text/plain": [
              "50"
            ]
          },
          "metadata": {
            "tags": []
          },
          "execution_count": 118
        }
      ]
    }
  ]
}