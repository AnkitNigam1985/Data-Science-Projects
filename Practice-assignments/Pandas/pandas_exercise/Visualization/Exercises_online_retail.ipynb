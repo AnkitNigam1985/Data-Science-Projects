{
  "nbformat": 4,
  "nbformat_minor": 0,
  "metadata": {
    "kernelspec": {
      "name": "python3",
      "display_name": "Python 3"
    },
    "language_info": {
      "codemirror_mode": {
        "name": "ipython",
        "version": 3
      },
      "file_extension": ".py",
      "mimetype": "text/x-python",
      "name": "python",
      "nbconvert_exporter": "python",
      "pygments_lexer": "ipython3",
      "version": "3.7.0"
    },
    "colab": {
      "name": "Exercises_online_retail.ipynb",
      "provenance": [],
      "collapsed_sections": []
    }
  },
  "cells": [
    {
      "cell_type": "markdown",
      "metadata": {
        "id": "ODMUckue3Owo",
        "colab_type": "text"
      },
      "source": [
        "# Online Retails Purchase"
      ]
    },
    {
      "cell_type": "markdown",
      "metadata": {
        "id": "2P6VkQ5-3Ows",
        "colab_type": "text"
      },
      "source": [
        "### Introduction:\n",
        "\n",
        "\n",
        "\n",
        "### Step 1. Import the necessary libraries"
      ]
    },
    {
      "cell_type": "code",
      "metadata": {
        "id": "mKLO7BpD3Owu",
        "colab_type": "code",
        "colab": {}
      },
      "source": [
        "import numpy as np\n",
        "import pandas as pd\n",
        "import matplotlib.pyplot as plt\n",
        "%matplotlib inline"
      ],
      "execution_count": 0,
      "outputs": []
    },
    {
      "cell_type": "markdown",
      "metadata": {
        "id": "wgvnoVWT3Ow3",
        "colab_type": "text"
      },
      "source": [
        "### Step 2. Import the dataset from this [address](https://raw.githubusercontent.com/guipsamora/pandas_exercises/master/07_Visualization/Online_Retail/Online_Retail.csv). "
      ]
    },
    {
      "cell_type": "markdown",
      "metadata": {
        "id": "cvQj0gwM3Ow6",
        "colab_type": "text"
      },
      "source": [
        "### Step 3. Assign it to a variable called online_rt\n",
        "Note: if you receive a utf-8 decode error, set `encoding = 'latin1'` in `pd.read_csv()`."
      ]
    },
    {
      "cell_type": "code",
      "metadata": {
        "id": "ytsLnr7Y3Ow8",
        "colab_type": "code",
        "colab": {}
      },
      "source": [
        "online_rt=pd.read_csv(\"https://raw.githubusercontent.com/guipsamora/pandas_exercises/master/07_Visualization/Online_Retail/Online_Retail.csv\", encoding='latin-1')"
      ],
      "execution_count": 0,
      "outputs": []
    },
    {
      "cell_type": "code",
      "metadata": {
        "id": "uP-PS2qd5ErJ",
        "colab_type": "code",
        "outputId": "ed9d22c4-67f7-4494-c3d3-6acb501fd1a2",
        "colab": {
          "base_uri": "https://localhost:8080/",
          "height": 204
        }
      },
      "source": [
        "online_rt.head()"
      ],
      "execution_count": 72,
      "outputs": [
        {
          "output_type": "execute_result",
          "data": {
            "text/html": [
              "<div>\n",
              "<style scoped>\n",
              "    .dataframe tbody tr th:only-of-type {\n",
              "        vertical-align: middle;\n",
              "    }\n",
              "\n",
              "    .dataframe tbody tr th {\n",
              "        vertical-align: top;\n",
              "    }\n",
              "\n",
              "    .dataframe thead th {\n",
              "        text-align: right;\n",
              "    }\n",
              "</style>\n",
              "<table border=\"1\" class=\"dataframe\">\n",
              "  <thead>\n",
              "    <tr style=\"text-align: right;\">\n",
              "      <th></th>\n",
              "      <th>InvoiceNo</th>\n",
              "      <th>StockCode</th>\n",
              "      <th>Description</th>\n",
              "      <th>Quantity</th>\n",
              "      <th>InvoiceDate</th>\n",
              "      <th>UnitPrice</th>\n",
              "      <th>CustomerID</th>\n",
              "      <th>Country</th>\n",
              "    </tr>\n",
              "  </thead>\n",
              "  <tbody>\n",
              "    <tr>\n",
              "      <th>0</th>\n",
              "      <td>536365</td>\n",
              "      <td>85123A</td>\n",
              "      <td>WHITE HANGING HEART T-LIGHT HOLDER</td>\n",
              "      <td>6</td>\n",
              "      <td>12/1/10 8:26</td>\n",
              "      <td>2.55</td>\n",
              "      <td>17850.0</td>\n",
              "      <td>United Kingdom</td>\n",
              "    </tr>\n",
              "    <tr>\n",
              "      <th>1</th>\n",
              "      <td>536365</td>\n",
              "      <td>71053</td>\n",
              "      <td>WHITE METAL LANTERN</td>\n",
              "      <td>6</td>\n",
              "      <td>12/1/10 8:26</td>\n",
              "      <td>3.39</td>\n",
              "      <td>17850.0</td>\n",
              "      <td>United Kingdom</td>\n",
              "    </tr>\n",
              "    <tr>\n",
              "      <th>2</th>\n",
              "      <td>536365</td>\n",
              "      <td>84406B</td>\n",
              "      <td>CREAM CUPID HEARTS COAT HANGER</td>\n",
              "      <td>8</td>\n",
              "      <td>12/1/10 8:26</td>\n",
              "      <td>2.75</td>\n",
              "      <td>17850.0</td>\n",
              "      <td>United Kingdom</td>\n",
              "    </tr>\n",
              "    <tr>\n",
              "      <th>3</th>\n",
              "      <td>536365</td>\n",
              "      <td>84029G</td>\n",
              "      <td>KNITTED UNION FLAG HOT WATER BOTTLE</td>\n",
              "      <td>6</td>\n",
              "      <td>12/1/10 8:26</td>\n",
              "      <td>3.39</td>\n",
              "      <td>17850.0</td>\n",
              "      <td>United Kingdom</td>\n",
              "    </tr>\n",
              "    <tr>\n",
              "      <th>4</th>\n",
              "      <td>536365</td>\n",
              "      <td>84029E</td>\n",
              "      <td>RED WOOLLY HOTTIE WHITE HEART.</td>\n",
              "      <td>6</td>\n",
              "      <td>12/1/10 8:26</td>\n",
              "      <td>3.39</td>\n",
              "      <td>17850.0</td>\n",
              "      <td>United Kingdom</td>\n",
              "    </tr>\n",
              "  </tbody>\n",
              "</table>\n",
              "</div>"
            ],
            "text/plain": [
              "  InvoiceNo StockCode  ... CustomerID         Country\n",
              "0    536365    85123A  ...    17850.0  United Kingdom\n",
              "1    536365     71053  ...    17850.0  United Kingdom\n",
              "2    536365    84406B  ...    17850.0  United Kingdom\n",
              "3    536365    84029G  ...    17850.0  United Kingdom\n",
              "4    536365    84029E  ...    17850.0  United Kingdom\n",
              "\n",
              "[5 rows x 8 columns]"
            ]
          },
          "metadata": {
            "tags": []
          },
          "execution_count": 72
        }
      ]
    },
    {
      "cell_type": "code",
      "metadata": {
        "id": "IGs4CZ4w5H0Q",
        "colab_type": "code",
        "outputId": "ad1d7f79-aa38-4776-ba8c-f9633b585c05",
        "colab": {
          "base_uri": "https://localhost:8080/",
          "height": 238
        }
      },
      "source": [
        "online_rt.info()"
      ],
      "execution_count": 73,
      "outputs": [
        {
          "output_type": "stream",
          "text": [
            "<class 'pandas.core.frame.DataFrame'>\n",
            "RangeIndex: 541909 entries, 0 to 541908\n",
            "Data columns (total 8 columns):\n",
            "InvoiceNo      541909 non-null object\n",
            "StockCode      541909 non-null object\n",
            "Description    540455 non-null object\n",
            "Quantity       541909 non-null int64\n",
            "InvoiceDate    541909 non-null object\n",
            "UnitPrice      541909 non-null float64\n",
            "CustomerID     406829 non-null float64\n",
            "Country        541909 non-null object\n",
            "dtypes: float64(2), int64(1), object(5)\n",
            "memory usage: 33.1+ MB\n"
          ],
          "name": "stdout"
        }
      ]
    },
    {
      "cell_type": "markdown",
      "metadata": {
        "id": "mtTdAYpE3Oy1",
        "colab_type": "text"
      },
      "source": [
        "### Step 4. Create a histogram with the 10 countries that have the most 'Quantity' ordered except UK"
      ]
    },
    {
      "cell_type": "code",
      "metadata": {
        "id": "dcn5XuU_6j4Y",
        "colab_type": "code",
        "outputId": "75e77a66-a8d2-4bf9-fa0c-1f111cbfc3ad",
        "colab": {
          "base_uri": "https://localhost:8080/",
          "height": 346
        }
      },
      "source": [
        "countries = online_rt.groupby('Country').sum()\n",
        "\n",
        "# sort the value and get the first 10 after UK\n",
        "countries = countries.sort_values(by = 'Quantity',ascending = False)[1:11]\n",
        "\n",
        "# create the plot\n",
        "countries['Quantity'].plot(kind='bar')\n",
        "\n",
        "# Set the title and labels\n",
        "plt.xlabel('Countries')\n",
        "plt.ylabel('Quantity')\n",
        "plt.title('10 Countries with most orders')\n",
        "\n",
        "# show the plot\n",
        "plt.show()"
      ],
      "execution_count": 74,
      "outputs": [
        {
          "output_type": "display_data",
          "data": {
            "image/png": "[encoded data removed]",
            "text/plain": [
              "<Figure size 432x288 with 1 Axes>"
            ]
          },
          "metadata": {
            "tags": []
          }
        }
      ]
    },
    {
      "cell_type": "markdown",
      "metadata": {
        "id": "lMpUJbYk3OzG",
        "colab_type": "text"
      },
      "source": [
        "### Step 5.  Exclude negative Quatity entries"
      ]
    },
    {
      "cell_type": "code",
      "metadata": {
        "id": "WhHvKeqy3OzN",
        "colab_type": "code",
        "colab": {}
      },
      "source": [
        "online_rt=online_rt[online_rt.Quantity>0]"
      ],
      "execution_count": 0,
      "outputs": []
    },
    {
      "cell_type": "code",
      "metadata": {
        "id": "HCj2L-gH70ny",
        "colab_type": "code",
        "outputId": "dd838860-68ce-4b51-c187-8b6ae6d6f02f",
        "colab": {
          "base_uri": "https://localhost:8080/",
          "height": 204
        }
      },
      "source": [
        "online_rt.head()"
      ],
      "execution_count": 76,
      "outputs": [
        {
          "output_type": "execute_result",
          "data": {
            "text/html": [
              "<div>\n",
              "<style scoped>\n",
              "    .dataframe tbody tr th:only-of-type {\n",
              "        vertical-align: middle;\n",
              "    }\n",
              "\n",
              "    .dataframe tbody tr th {\n",
              "        vertical-align: top;\n",
              "    }\n",
              "\n",
              "    .dataframe thead th {\n",
              "        text-align: right;\n",
              "    }\n",
              "</style>\n",
              "<table border=\"1\" class=\"dataframe\">\n",
              "  <thead>\n",
              "    <tr style=\"text-align: right;\">\n",
              "      <th></th>\n",
              "      <th>InvoiceNo</th>\n",
              "      <th>StockCode</th>\n",
              "      <th>Description</th>\n",
              "      <th>Quantity</th>\n",
              "      <th>InvoiceDate</th>\n",
              "      <th>UnitPrice</th>\n",
              "      <th>CustomerID</th>\n",
              "      <th>Country</th>\n",
              "    </tr>\n",
              "  </thead>\n",
              "  <tbody>\n",
              "    <tr>\n",
              "      <th>0</th>\n",
              "      <td>536365</td>\n",
              "      <td>85123A</td>\n",
              "      <td>WHITE HANGING HEART T-LIGHT HOLDER</td>\n",
              "      <td>6</td>\n",
              "      <td>12/1/10 8:26</td>\n",
              "      <td>2.55</td>\n",
              "      <td>17850.0</td>\n",
              "      <td>United Kingdom</td>\n",
              "    </tr>\n",
              "    <tr>\n",
              "      <th>1</th>\n",
              "      <td>536365</td>\n",
              "      <td>71053</td>\n",
              "      <td>WHITE METAL LANTERN</td>\n",
              "      <td>6</td>\n",
              "      <td>12/1/10 8:26</td>\n",
              "      <td>3.39</td>\n",
              "      <td>17850.0</td>\n",
              "      <td>United Kingdom</td>\n",
              "    </tr>\n",
              "    <tr>\n",
              "      <th>2</th>\n",
              "      <td>536365</td>\n",
              "      <td>84406B</td>\n",
              "      <td>CREAM CUPID HEARTS COAT HANGER</td>\n",
              "      <td>8</td>\n",
              "      <td>12/1/10 8:26</td>\n",
              "      <td>2.75</td>\n",
              "      <td>17850.0</td>\n",
              "      <td>United Kingdom</td>\n",
              "    </tr>\n",
              "    <tr>\n",
              "      <th>3</th>\n",
              "      <td>536365</td>\n",
              "      <td>84029G</td>\n",
              "      <td>KNITTED UNION FLAG HOT WATER BOTTLE</td>\n",
              "      <td>6</td>\n",
              "      <td>12/1/10 8:26</td>\n",
              "      <td>3.39</td>\n",
              "      <td>17850.0</td>\n",
              "      <td>United Kingdom</td>\n",
              "    </tr>\n",
              "    <tr>\n",
              "      <th>4</th>\n",
              "      <td>536365</td>\n",
              "      <td>84029E</td>\n",
              "      <td>RED WOOLLY HOTTIE WHITE HEART.</td>\n",
              "      <td>6</td>\n",
              "      <td>12/1/10 8:26</td>\n",
              "      <td>3.39</td>\n",
              "      <td>17850.0</td>\n",
              "      <td>United Kingdom</td>\n",
              "    </tr>\n",
              "  </tbody>\n",
              "</table>\n",
              "</div>"
            ],
            "text/plain": [
              "  InvoiceNo StockCode  ... CustomerID         Country\n",
              "0    536365    85123A  ...    17850.0  United Kingdom\n",
              "1    536365     71053  ...    17850.0  United Kingdom\n",
              "2    536365    84406B  ...    17850.0  United Kingdom\n",
              "3    536365    84029G  ...    17850.0  United Kingdom\n",
              "4    536365    84029E  ...    17850.0  United Kingdom\n",
              "\n",
              "[5 rows x 8 columns]"
            ]
          },
          "metadata": {
            "tags": []
          },
          "execution_count": 76
        }
      ]
    },
    {
      "cell_type": "markdown",
      "metadata": {
        "id": "ZXmxPH0P3OzY",
        "colab_type": "text"
      },
      "source": [
        "### Step 6. Create a scatterplot with the Quantity per UnitPrice by CustomerID for the top 3 Countries"
      ]
    },
    {
      "cell_type": "code",
      "metadata": {
        "id": "eWgJ-ftN3Oza",
        "colab_type": "code",
        "colab": {}
      },
      "source": [
        "tmp=online_rt.groupby(['CustomerID', 'Country']).sum()"
      ],
      "execution_count": 0,
      "outputs": []
    },
    {
      "cell_type": "code",
      "metadata": {
        "id": "MVvhDUp68y4y",
        "colab_type": "code",
        "outputId": "2b5f6486-7611-4baf-8dbb-15c457ad312a",
        "colab": {
          "base_uri": "https://localhost:8080/",
          "height": 235
        }
      },
      "source": [
        "tmp.head()"
      ],
      "execution_count": 78,
      "outputs": [
        {
          "output_type": "execute_result",
          "data": {
            "text/html": [
              "<div>\n",
              "<style scoped>\n",
              "    .dataframe tbody tr th:only-of-type {\n",
              "        vertical-align: middle;\n",
              "    }\n",
              "\n",
              "    .dataframe tbody tr th {\n",
              "        vertical-align: top;\n",
              "    }\n",
              "\n",
              "    .dataframe thead th {\n",
              "        text-align: right;\n",
              "    }\n",
              "</style>\n",
              "<table border=\"1\" class=\"dataframe\">\n",
              "  <thead>\n",
              "    <tr style=\"text-align: right;\">\n",
              "      <th></th>\n",
              "      <th></th>\n",
              "      <th>Quantity</th>\n",
              "      <th>UnitPrice</th>\n",
              "    </tr>\n",
              "    <tr>\n",
              "      <th>CustomerID</th>\n",
              "      <th>Country</th>\n",
              "      <th></th>\n",
              "      <th></th>\n",
              "    </tr>\n",
              "  </thead>\n",
              "  <tbody>\n",
              "    <tr>\n",
              "      <th>12346.0</th>\n",
              "      <th>United Kingdom</th>\n",
              "      <td>74215</td>\n",
              "      <td>1.04</td>\n",
              "    </tr>\n",
              "    <tr>\n",
              "      <th>12347.0</th>\n",
              "      <th>Iceland</th>\n",
              "      <td>2458</td>\n",
              "      <td>481.21</td>\n",
              "    </tr>\n",
              "    <tr>\n",
              "      <th>12348.0</th>\n",
              "      <th>Finland</th>\n",
              "      <td>2341</td>\n",
              "      <td>178.71</td>\n",
              "    </tr>\n",
              "    <tr>\n",
              "      <th>12349.0</th>\n",
              "      <th>Italy</th>\n",
              "      <td>631</td>\n",
              "      <td>605.10</td>\n",
              "    </tr>\n",
              "    <tr>\n",
              "      <th>12350.0</th>\n",
              "      <th>Norway</th>\n",
              "      <td>197</td>\n",
              "      <td>65.30</td>\n",
              "    </tr>\n",
              "  </tbody>\n",
              "</table>\n",
              "</div>"
            ],
            "text/plain": [
              "                           Quantity  UnitPrice\n",
              "CustomerID Country                            \n",
              "12346.0    United Kingdom     74215       1.04\n",
              "12347.0    Iceland             2458     481.21\n",
              "12348.0    Finland             2341     178.71\n",
              "12349.0    Italy                631     605.10\n",
              "12350.0    Norway               197      65.30"
            ]
          },
          "metadata": {
            "tags": []
          },
          "execution_count": 78
        }
      ]
    },
    {
      "cell_type": "code",
      "metadata": {
        "id": "8kg7BLAT_tqR",
        "colab_type": "code",
        "colab": {}
      },
      "source": [
        "tmp=tmp[:3]"
      ],
      "execution_count": 0,
      "outputs": []
    },
    {
      "cell_type": "code",
      "metadata": {
        "id": "5ejnvHHRDhgy",
        "colab_type": "code",
        "outputId": "a2616714-a1ce-481a-e104-8722f6cf2316",
        "colab": {
          "base_uri": "https://localhost:8080/",
          "height": 312
        }
      },
      "source": [
        "plt.scatter(x=tmp.UnitPrice, y=tmp.Quantity, cmap='virdis')\n",
        "plt.ylabel(\"Quantity\")\n",
        "plt.xlabel(\"Unit Price\")\n",
        "plt.title(\"Quanity and Unit Price\")"
      ],
      "execution_count": 80,
      "outputs": [
        {
          "output_type": "execute_result",
          "data": {
            "text/plain": [
              "Text(0.5, 1.0, 'Quanity and Unit Price')"
            ]
          },
          "metadata": {
            "tags": []
          },
          "execution_count": 80
        },
        {
          "output_type": "display_data",
          "data": {
            "image/png": "[encoded data removed]",
            "text/plain": [
              "<Figure size 432x288 with 1 Axes>"
            ]
          },
          "metadata": {
            "tags": []
          }
        }
      ]
    },
    {
      "cell_type": "markdown",
      "metadata": {
        "id": "DraN5nAE3Ozi",
        "colab_type": "text"
      },
      "source": [
        "### Step 7. Investigate why the previous results look so uninformative.\n",
        "\n",
        "This section might seem a bit tedious to go through. But I've thought of it as some kind of a simulation of problems one might encounter when dealing with data and other people. Besides there is a prize at the end (i.e. Section 8).\n",
        "\n",
        "(But feel free to jump right ahead into Section 8 if you want; it doesn't require that you finish this section.)\n",
        "\n",
        "#### Step 7.1 Look at the first line of code in Step 6. And try to figure out if it leads to any kind of problem.\n",
        "##### Step 7.1.1 Display the first few rows of that DataFrame."
      ]
    },
    {
      "cell_type": "code",
      "metadata": {
        "id": "QEAyTXGq3Ozn",
        "colab_type": "code",
        "outputId": "9beff51f-4299-4d41-cd99-0ad3eef541a3",
        "colab": {
          "base_uri": "https://localhost:8080/",
          "height": 173
        }
      },
      "source": [
        "tmp.head()"
      ],
      "execution_count": 81,
      "outputs": [
        {
          "output_type": "execute_result",
          "data": {
            "text/html": [
              "<div>\n",
              "<style scoped>\n",
              "    .dataframe tbody tr th:only-of-type {\n",
              "        vertical-align: middle;\n",
              "    }\n",
              "\n",
              "    .dataframe tbody tr th {\n",
              "        vertical-align: top;\n",
              "    }\n",
              "\n",
              "    .dataframe thead th {\n",
              "        text-align: right;\n",
              "    }\n",
              "</style>\n",
              "<table border=\"1\" class=\"dataframe\">\n",
              "  <thead>\n",
              "    <tr style=\"text-align: right;\">\n",
              "      <th></th>\n",
              "      <th></th>\n",
              "      <th>Quantity</th>\n",
              "      <th>UnitPrice</th>\n",
              "    </tr>\n",
              "    <tr>\n",
              "      <th>CustomerID</th>\n",
              "      <th>Country</th>\n",
              "      <th></th>\n",
              "      <th></th>\n",
              "    </tr>\n",
              "  </thead>\n",
              "  <tbody>\n",
              "    <tr>\n",
              "      <th>12346.0</th>\n",
              "      <th>United Kingdom</th>\n",
              "      <td>74215</td>\n",
              "      <td>1.04</td>\n",
              "    </tr>\n",
              "    <tr>\n",
              "      <th>12347.0</th>\n",
              "      <th>Iceland</th>\n",
              "      <td>2458</td>\n",
              "      <td>481.21</td>\n",
              "    </tr>\n",
              "    <tr>\n",
              "      <th>12348.0</th>\n",
              "      <th>Finland</th>\n",
              "      <td>2341</td>\n",
              "      <td>178.71</td>\n",
              "    </tr>\n",
              "  </tbody>\n",
              "</table>\n",
              "</div>"
            ],
            "text/plain": [
              "                           Quantity  UnitPrice\n",
              "CustomerID Country                            \n",
              "12346.0    United Kingdom     74215       1.04\n",
              "12347.0    Iceland             2458     481.21\n",
              "12348.0    Finland             2341     178.71"
            ]
          },
          "metadata": {
            "tags": []
          },
          "execution_count": 81
        }
      ]
    },
    {
      "cell_type": "code",
      "metadata": {
        "id": "vLy77wDBAaF3",
        "colab_type": "code",
        "outputId": "f0f25031-fba0-4fc2-8c83-53ab161b6d97",
        "colab": {
          "base_uri": "https://localhost:8080/",
          "height": 173
        }
      },
      "source": [
        "tmp.iloc[0:5]"
      ],
      "execution_count": 82,
      "outputs": [
        {
          "output_type": "execute_result",
          "data": {
            "text/html": [
              "<div>\n",
              "<style scoped>\n",
              "    .dataframe tbody tr th:only-of-type {\n",
              "        vertical-align: middle;\n",
              "    }\n",
              "\n",
              "    .dataframe tbody tr th {\n",
              "        vertical-align: top;\n",
              "    }\n",
              "\n",
              "    .dataframe thead th {\n",
              "        text-align: right;\n",
              "    }\n",
              "</style>\n",
              "<table border=\"1\" class=\"dataframe\">\n",
              "  <thead>\n",
              "    <tr style=\"text-align: right;\">\n",
              "      <th></th>\n",
              "      <th></th>\n",
              "      <th>Quantity</th>\n",
              "      <th>UnitPrice</th>\n",
              "    </tr>\n",
              "    <tr>\n",
              "      <th>CustomerID</th>\n",
              "      <th>Country</th>\n",
              "      <th></th>\n",
              "      <th></th>\n",
              "    </tr>\n",
              "  </thead>\n",
              "  <tbody>\n",
              "    <tr>\n",
              "      <th>12346.0</th>\n",
              "      <th>United Kingdom</th>\n",
              "      <td>74215</td>\n",
              "      <td>1.04</td>\n",
              "    </tr>\n",
              "    <tr>\n",
              "      <th>12347.0</th>\n",
              "      <th>Iceland</th>\n",
              "      <td>2458</td>\n",
              "      <td>481.21</td>\n",
              "    </tr>\n",
              "    <tr>\n",
              "      <th>12348.0</th>\n",
              "      <th>Finland</th>\n",
              "      <td>2341</td>\n",
              "      <td>178.71</td>\n",
              "    </tr>\n",
              "  </tbody>\n",
              "</table>\n",
              "</div>"
            ],
            "text/plain": [
              "                           Quantity  UnitPrice\n",
              "CustomerID Country                            \n",
              "12346.0    United Kingdom     74215       1.04\n",
              "12347.0    Iceland             2458     481.21\n",
              "12348.0    Finland             2341     178.71"
            ]
          },
          "metadata": {
            "tags": []
          },
          "execution_count": 82
        }
      ]
    },
    {
      "cell_type": "markdown",
      "metadata": {
        "id": "TmqG5hFB3Ozx",
        "colab_type": "text"
      },
      "source": [
        "##### Step 7.1.2 Think about what that piece of code does and display the dtype of `UnitPrice`"
      ]
    },
    {
      "cell_type": "code",
      "metadata": {
        "id": "mC3_iBMg3Ozz",
        "colab_type": "code",
        "outputId": "6a045d2d-e9dc-423b-e050-caf9b5f67e36",
        "colab": {
          "base_uri": "https://localhost:8080/",
          "height": 34
        }
      },
      "source": [
        "tmp.UnitPrice.dtype"
      ],
      "execution_count": 83,
      "outputs": [
        {
          "output_type": "execute_result",
          "data": {
            "text/plain": [
              "dtype('float64')"
            ]
          },
          "metadata": {
            "tags": []
          },
          "execution_count": 83
        }
      ]
    },
    {
      "cell_type": "markdown",
      "metadata": {
        "id": "XJ0wKRKl3Oz4",
        "colab_type": "text"
      },
      "source": [
        "##### Step 7.1.3 Pull data from `online_rt`for `CustomerID`s 12346.0 and 12347.0."
      ]
    },
    {
      "cell_type": "code",
      "metadata": {
        "id": "5EXQvKQr3Oz7",
        "colab_type": "code",
        "outputId": "cebbf70d-dfdd-41ae-8415-5af3aed4c398",
        "colab": {
          "base_uri": "https://localhost:8080/",
          "height": 419
        }
      },
      "source": [
        "online_rt[online_rt.CustomerID == 12347.0]"
      ],
      "execution_count": 84,
      "outputs": [
        {
          "output_type": "execute_result",
          "data": {
            "text/html": [
              "<div>\n",
              "<style scoped>\n",
              "    .dataframe tbody tr th:only-of-type {\n",
              "        vertical-align: middle;\n",
              "    }\n",
              "\n",
              "    .dataframe tbody tr th {\n",
              "        vertical-align: top;\n",
              "    }\n",
              "\n",
              "    .dataframe thead th {\n",
              "        text-align: right;\n",
              "    }\n",
              "</style>\n",
              "<table border=\"1\" class=\"dataframe\">\n",
              "  <thead>\n",
              "    <tr style=\"text-align: right;\">\n",
              "      <th></th>\n",
              "      <th>InvoiceNo</th>\n",
              "      <th>StockCode</th>\n",
              "      <th>Description</th>\n",
              "      <th>Quantity</th>\n",
              "      <th>InvoiceDate</th>\n",
              "      <th>UnitPrice</th>\n",
              "      <th>CustomerID</th>\n",
              "      <th>Country</th>\n",
              "    </tr>\n",
              "  </thead>\n",
              "  <tbody>\n",
              "    <tr>\n",
              "      <th>14938</th>\n",
              "      <td>537626</td>\n",
              "      <td>85116</td>\n",
              "      <td>BLACK CANDELABRA T-LIGHT HOLDER</td>\n",
              "      <td>12</td>\n",
              "      <td>12/7/10 14:57</td>\n",
              "      <td>2.10</td>\n",
              "      <td>12347.0</td>\n",
              "      <td>Iceland</td>\n",
              "    </tr>\n",
              "    <tr>\n",
              "      <th>14939</th>\n",
              "      <td>537626</td>\n",
              "      <td>22375</td>\n",
              "      <td>AIRLINE BAG VINTAGE JET SET BROWN</td>\n",
              "      <td>4</td>\n",
              "      <td>12/7/10 14:57</td>\n",
              "      <td>4.25</td>\n",
              "      <td>12347.0</td>\n",
              "      <td>Iceland</td>\n",
              "    </tr>\n",
              "    <tr>\n",
              "      <th>14940</th>\n",
              "      <td>537626</td>\n",
              "      <td>71477</td>\n",
              "      <td>COLOUR GLASS. STAR T-LIGHT HOLDER</td>\n",
              "      <td>12</td>\n",
              "      <td>12/7/10 14:57</td>\n",
              "      <td>3.25</td>\n",
              "      <td>12347.0</td>\n",
              "      <td>Iceland</td>\n",
              "    </tr>\n",
              "    <tr>\n",
              "      <th>14941</th>\n",
              "      <td>537626</td>\n",
              "      <td>22492</td>\n",
              "      <td>MINI PAINT SET VINTAGE</td>\n",
              "      <td>36</td>\n",
              "      <td>12/7/10 14:57</td>\n",
              "      <td>0.65</td>\n",
              "      <td>12347.0</td>\n",
              "      <td>Iceland</td>\n",
              "    </tr>\n",
              "    <tr>\n",
              "      <th>14942</th>\n",
              "      <td>537626</td>\n",
              "      <td>22771</td>\n",
              "      <td>CLEAR DRAWER KNOB ACRYLIC EDWARDIAN</td>\n",
              "      <td>12</td>\n",
              "      <td>12/7/10 14:57</td>\n",
              "      <td>1.25</td>\n",
              "      <td>12347.0</td>\n",
              "      <td>Iceland</td>\n",
              "    </tr>\n",
              "    <tr>\n",
              "      <th>...</th>\n",
              "      <td>...</td>\n",
              "      <td>...</td>\n",
              "      <td>...</td>\n",
              "      <td>...</td>\n",
              "      <td>...</td>\n",
              "      <td>...</td>\n",
              "      <td>...</td>\n",
              "      <td>...</td>\n",
              "    </tr>\n",
              "    <tr>\n",
              "      <th>535010</th>\n",
              "      <td>581180</td>\n",
              "      <td>20719</td>\n",
              "      <td>WOODLAND CHARLOTTE BAG</td>\n",
              "      <td>10</td>\n",
              "      <td>12/7/11 15:52</td>\n",
              "      <td>0.85</td>\n",
              "      <td>12347.0</td>\n",
              "      <td>Iceland</td>\n",
              "    </tr>\n",
              "    <tr>\n",
              "      <th>535011</th>\n",
              "      <td>581180</td>\n",
              "      <td>21265</td>\n",
              "      <td>PINK GOOSE FEATHER TREE 60CM</td>\n",
              "      <td>12</td>\n",
              "      <td>12/7/11 15:52</td>\n",
              "      <td>1.95</td>\n",
              "      <td>12347.0</td>\n",
              "      <td>Iceland</td>\n",
              "    </tr>\n",
              "    <tr>\n",
              "      <th>535012</th>\n",
              "      <td>581180</td>\n",
              "      <td>23271</td>\n",
              "      <td>CHRISTMAS TABLE SILVER CANDLE SPIKE</td>\n",
              "      <td>16</td>\n",
              "      <td>12/7/11 15:52</td>\n",
              "      <td>0.83</td>\n",
              "      <td>12347.0</td>\n",
              "      <td>Iceland</td>\n",
              "    </tr>\n",
              "    <tr>\n",
              "      <th>535013</th>\n",
              "      <td>581180</td>\n",
              "      <td>23506</td>\n",
              "      <td>MINI PLAYING CARDS SPACEBOY</td>\n",
              "      <td>20</td>\n",
              "      <td>12/7/11 15:52</td>\n",
              "      <td>0.42</td>\n",
              "      <td>12347.0</td>\n",
              "      <td>Iceland</td>\n",
              "    </tr>\n",
              "    <tr>\n",
              "      <th>535014</th>\n",
              "      <td>581180</td>\n",
              "      <td>23508</td>\n",
              "      <td>MINI PLAYING CARDS DOLLY GIRL</td>\n",
              "      <td>20</td>\n",
              "      <td>12/7/11 15:52</td>\n",
              "      <td>0.42</td>\n",
              "      <td>12347.0</td>\n",
              "      <td>Iceland</td>\n",
              "    </tr>\n",
              "  </tbody>\n",
              "</table>\n",
              "<p>182 rows × 8 columns</p>\n",
              "</div>"
            ],
            "text/plain": [
              "       InvoiceNo StockCode  ... CustomerID  Country\n",
              "14938     537626     85116  ...    12347.0  Iceland\n",
              "14939     537626     22375  ...    12347.0  Iceland\n",
              "14940     537626     71477  ...    12347.0  Iceland\n",
              "14941     537626     22492  ...    12347.0  Iceland\n",
              "14942     537626     22771  ...    12347.0  Iceland\n",
              "...          ...       ...  ...        ...      ...\n",
              "535010    581180     20719  ...    12347.0  Iceland\n",
              "535011    581180     21265  ...    12347.0  Iceland\n",
              "535012    581180     23271  ...    12347.0  Iceland\n",
              "535013    581180     23506  ...    12347.0  Iceland\n",
              "535014    581180     23508  ...    12347.0  Iceland\n",
              "\n",
              "[182 rows x 8 columns]"
            ]
          },
          "metadata": {
            "tags": []
          },
          "execution_count": 84
        }
      ]
    },
    {
      "cell_type": "code",
      "metadata": {
        "id": "970Qy3urB8ZB",
        "colab_type": "code",
        "outputId": "16a6e942-f698-44ac-b5cd-4652643b2c11",
        "colab": {
          "base_uri": "https://localhost:8080/",
          "height": 80
        }
      },
      "source": [
        "online_rt[online_rt.CustomerID == 12346.0]"
      ],
      "execution_count": 85,
      "outputs": [
        {
          "output_type": "execute_result",
          "data": {
            "text/html": [
              "<div>\n",
              "<style scoped>\n",
              "    .dataframe tbody tr th:only-of-type {\n",
              "        vertical-align: middle;\n",
              "    }\n",
              "\n",
              "    .dataframe tbody tr th {\n",
              "        vertical-align: top;\n",
              "    }\n",
              "\n",
              "    .dataframe thead th {\n",
              "        text-align: right;\n",
              "    }\n",
              "</style>\n",
              "<table border=\"1\" class=\"dataframe\">\n",
              "  <thead>\n",
              "    <tr style=\"text-align: right;\">\n",
              "      <th></th>\n",
              "      <th>InvoiceNo</th>\n",
              "      <th>StockCode</th>\n",
              "      <th>Description</th>\n",
              "      <th>Quantity</th>\n",
              "      <th>InvoiceDate</th>\n",
              "      <th>UnitPrice</th>\n",
              "      <th>CustomerID</th>\n",
              "      <th>Country</th>\n",
              "    </tr>\n",
              "  </thead>\n",
              "  <tbody>\n",
              "    <tr>\n",
              "      <th>61619</th>\n",
              "      <td>541431</td>\n",
              "      <td>23166</td>\n",
              "      <td>MEDIUM CERAMIC TOP STORAGE JAR</td>\n",
              "      <td>74215</td>\n",
              "      <td>1/18/11 10:01</td>\n",
              "      <td>1.04</td>\n",
              "      <td>12346.0</td>\n",
              "      <td>United Kingdom</td>\n",
              "    </tr>\n",
              "  </tbody>\n",
              "</table>\n",
              "</div>"
            ],
            "text/plain": [
              "      InvoiceNo StockCode  ... CustomerID         Country\n",
              "61619    541431     23166  ...    12346.0  United Kingdom\n",
              "\n",
              "[1 rows x 8 columns]"
            ]
          },
          "metadata": {
            "tags": []
          },
          "execution_count": 85
        }
      ]
    },
    {
      "cell_type": "markdown",
      "metadata": {
        "id": "S0GWfPc03O0B",
        "colab_type": "text"
      },
      "source": [
        "#### Step 7.2 Reinterpreting the initial problem.\n",
        "\n",
        "To reiterate the question that we were dealing with:  \n",
        "\"Create a scatterplot with the Quantity per UnitPrice by CustomerID for the top 3 Countries\"\n",
        "\n",
        "The question is open to a set of different interpretations.\n",
        "We need to disambiguate.\n",
        "\n",
        "We could do a single plot by looking at all the data from the top 3 countries.\n",
        "Or we could do one plot per country. To keep things consistent with the rest of the exercise,\n",
        "let's stick to the latter oprion. So that's settled.\n",
        "\n",
        "But \"top 3 countries\" with respect to what? Two answers suggest themselves:\n",
        "Total sales volume (i.e. total quantity sold) or total sales (i.e. revenue).\n",
        "This exercise goes for sales volume, so let's stick to that.\n",
        "\n",
        "##### Step 7.2.1 Find out the top 3 countries in terms of sales volume."
      ]
    },
    {
      "cell_type": "code",
      "metadata": {
        "id": "HcJQ1sOH3O0C",
        "colab_type": "code",
        "colab": {}
      },
      "source": [
        "sales_df = online_rt.groupby('Country').Quantity.sum().sort_values(ascending=False)"
      ],
      "execution_count": 0,
      "outputs": []
    },
    {
      "cell_type": "code",
      "metadata": {
        "id": "-lFJR8_NCUwm",
        "colab_type": "code",
        "outputId": "67fb7674-204a-4237-d237-21974aedd5ad",
        "colab": {
          "base_uri": "https://localhost:8080/",
          "height": 119
        }
      },
      "source": [
        "sales_df.head(4)"
      ],
      "execution_count": 87,
      "outputs": [
        {
          "output_type": "execute_result",
          "data": {
            "text/plain": [
              "Country\n",
              "United Kingdom    4733819\n",
              "Netherlands        200937\n",
              "EIRE               147447\n",
              "Germany            119263\n",
              "Name: Quantity, dtype: int64"
            ]
          },
          "metadata": {
            "tags": []
          },
          "execution_count": 87
        }
      ]
    },
    {
      "cell_type": "code",
      "metadata": {
        "id": "l9zpeAF2Ca23",
        "colab_type": "code",
        "colab": {}
      },
      "source": [
        "top3=sales_df[1:4]"
      ],
      "execution_count": 0,
      "outputs": []
    },
    {
      "cell_type": "code",
      "metadata": {
        "id": "ypncRWUECfMs",
        "colab_type": "code",
        "outputId": "95cf3331-83e2-458c-dc70-a5c0668b8057",
        "colab": {
          "base_uri": "https://localhost:8080/",
          "height": 102
        }
      },
      "source": [
        "top3"
      ],
      "execution_count": 89,
      "outputs": [
        {
          "output_type": "execute_result",
          "data": {
            "text/plain": [
              "Country\n",
              "Netherlands    200937\n",
              "EIRE           147447\n",
              "Germany        119263\n",
              "Name: Quantity, dtype: int64"
            ]
          },
          "metadata": {
            "tags": []
          },
          "execution_count": 89
        }
      ]
    },
    {
      "cell_type": "markdown",
      "metadata": {
        "id": "v1hM6jK73O0G",
        "colab_type": "text"
      },
      "source": [
        "##### Step 7.2.2 \n",
        "\n",
        "Now that we have the top 3 countries, we can focus on the rest of the problem:  \n",
        "\"Quantity per UnitPrice by CustomerID\".  \n",
        "We need to unpack that.\n",
        "\n",
        "\"by CustomerID\" part is easy. That means we're going to be plotting one dot per CustomerID's on our plot. In other words, we're going to be grouping by CustomerID.\n",
        "\n",
        "\"Quantity per UnitPrice\" is trickier. Here's what we know:  \n",
        "*One axis will represent a Quantity assigned to a given customer. This is easy; we can just plot the total  Quantity for each customer.  \n",
        "*The other axis will represent a UnitPrice assigned to a given customer. Remember a single customer can have any number of orders with different prices, so summing up prices isn't quite helpful. Besides it's not quite clear what we mean when we say \"unit price per customer\"; it sounds like price of the customer! A reasonable alternative is that we assign each customer the average amount each has paid per item. So let's settle that question in that manner.\n",
        "\n",
        "#### Step 7.3 Modify, select and plot data\n",
        "##### Step 7.3.1 Add a column to online_rt called `Revenue` calculate the revenue (Quantity * UnitPrice) from each sale.\n",
        "We will use this later to figure out an average price per customer."
      ]
    },
    {
      "cell_type": "code",
      "metadata": {
        "id": "4jB17B-P3O0H",
        "colab_type": "code",
        "colab": {}
      },
      "source": [
        "online_rt['Revenue'] = online_rt.Quantity * online_rt.UnitPrice"
      ],
      "execution_count": 0,
      "outputs": []
    },
    {
      "cell_type": "code",
      "metadata": {
        "id": "tcCI45vtDkEa",
        "colab_type": "code",
        "outputId": "4d4c7276-9de4-4553-882c-132984c2dd0b",
        "colab": {
          "base_uri": "https://localhost:8080/",
          "height": 204
        }
      },
      "source": [
        "online_rt.head()"
      ],
      "execution_count": 91,
      "outputs": [
        {
          "output_type": "execute_result",
          "data": {
            "text/html": [
              "<div>\n",
              "<style scoped>\n",
              "    .dataframe tbody tr th:only-of-type {\n",
              "        vertical-align: middle;\n",
              "    }\n",
              "\n",
              "    .dataframe tbody tr th {\n",
              "        vertical-align: top;\n",
              "    }\n",
              "\n",
              "    .dataframe thead th {\n",
              "        text-align: right;\n",
              "    }\n",
              "</style>\n",
              "<table border=\"1\" class=\"dataframe\">\n",
              "  <thead>\n",
              "    <tr style=\"text-align: right;\">\n",
              "      <th></th>\n",
              "      <th>InvoiceNo</th>\n",
              "      <th>StockCode</th>\n",
              "      <th>Description</th>\n",
              "      <th>Quantity</th>\n",
              "      <th>InvoiceDate</th>\n",
              "      <th>UnitPrice</th>\n",
              "      <th>CustomerID</th>\n",
              "      <th>Country</th>\n",
              "      <th>Revenue</th>\n",
              "    </tr>\n",
              "  </thead>\n",
              "  <tbody>\n",
              "    <tr>\n",
              "      <th>0</th>\n",
              "      <td>536365</td>\n",
              "      <td>85123A</td>\n",
              "      <td>WHITE HANGING HEART T-LIGHT HOLDER</td>\n",
              "      <td>6</td>\n",
              "      <td>12/1/10 8:26</td>\n",
              "      <td>2.55</td>\n",
              "      <td>17850.0</td>\n",
              "      <td>United Kingdom</td>\n",
              "      <td>15.30</td>\n",
              "    </tr>\n",
              "    <tr>\n",
              "      <th>1</th>\n",
              "      <td>536365</td>\n",
              "      <td>71053</td>\n",
              "      <td>WHITE METAL LANTERN</td>\n",
              "      <td>6</td>\n",
              "      <td>12/1/10 8:26</td>\n",
              "      <td>3.39</td>\n",
              "      <td>17850.0</td>\n",
              "      <td>United Kingdom</td>\n",
              "      <td>20.34</td>\n",
              "    </tr>\n",
              "    <tr>\n",
              "      <th>2</th>\n",
              "      <td>536365</td>\n",
              "      <td>84406B</td>\n",
              "      <td>CREAM CUPID HEARTS COAT HANGER</td>\n",
              "      <td>8</td>\n",
              "      <td>12/1/10 8:26</td>\n",
              "      <td>2.75</td>\n",
              "      <td>17850.0</td>\n",
              "      <td>United Kingdom</td>\n",
              "      <td>22.00</td>\n",
              "    </tr>\n",
              "    <tr>\n",
              "      <th>3</th>\n",
              "      <td>536365</td>\n",
              "      <td>84029G</td>\n",
              "      <td>KNITTED UNION FLAG HOT WATER BOTTLE</td>\n",
              "      <td>6</td>\n",
              "      <td>12/1/10 8:26</td>\n",
              "      <td>3.39</td>\n",
              "      <td>17850.0</td>\n",
              "      <td>United Kingdom</td>\n",
              "      <td>20.34</td>\n",
              "    </tr>\n",
              "    <tr>\n",
              "      <th>4</th>\n",
              "      <td>536365</td>\n",
              "      <td>84029E</td>\n",
              "      <td>RED WOOLLY HOTTIE WHITE HEART.</td>\n",
              "      <td>6</td>\n",
              "      <td>12/1/10 8:26</td>\n",
              "      <td>3.39</td>\n",
              "      <td>17850.0</td>\n",
              "      <td>United Kingdom</td>\n",
              "      <td>20.34</td>\n",
              "    </tr>\n",
              "  </tbody>\n",
              "</table>\n",
              "</div>"
            ],
            "text/plain": [
              "  InvoiceNo StockCode  ...         Country  Revenue\n",
              "0    536365    85123A  ...  United Kingdom    15.30\n",
              "1    536365     71053  ...  United Kingdom    20.34\n",
              "2    536365    84406B  ...  United Kingdom    22.00\n",
              "3    536365    84029G  ...  United Kingdom    20.34\n",
              "4    536365    84029E  ...  United Kingdom    20.34\n",
              "\n",
              "[5 rows x 9 columns]"
            ]
          },
          "metadata": {
            "tags": []
          },
          "execution_count": 91
        }
      ]
    },
    {
      "cell_type": "markdown",
      "metadata": {
        "id": "SAYYUl6D3O0L",
        "colab_type": "text"
      },
      "source": [
        "##### Step 7.3.2 Group by `CustomerID` and `Country` and find out the average price (`AvgPrice`) each customer spends per unit."
      ]
    },
    {
      "cell_type": "code",
      "metadata": {
        "id": "9wPSF_PeFALv",
        "colab_type": "code",
        "outputId": "9fedadbd-42c1-473c-f9df-0d9600c84107",
        "colab": {
          "base_uri": "https://localhost:8080/",
          "height": 102
        }
      },
      "source": [
        "top3"
      ],
      "execution_count": 92,
      "outputs": [
        {
          "output_type": "execute_result",
          "data": {
            "text/plain": [
              "Country\n",
              "Netherlands    200937\n",
              "EIRE           147447\n",
              "Germany        119263\n",
              "Name: Quantity, dtype: int64"
            ]
          },
          "metadata": {
            "tags": []
          },
          "execution_count": 92
        }
      ]
    },
    {
      "cell_type": "code",
      "metadata": {
        "id": "UwWMsSyAFC4x",
        "colab_type": "code",
        "outputId": "41d77caa-1d80-44a7-b459-13f840cb7877",
        "colab": {
          "base_uri": "https://localhost:8080/",
          "height": 34
        }
      },
      "source": [
        "top3.index"
      ],
      "execution_count": 93,
      "outputs": [
        {
          "output_type": "execute_result",
          "data": {
            "text/plain": [
              "Index(['Netherlands', 'EIRE', 'Germany'], dtype='object', name='Country')"
            ]
          },
          "metadata": {
            "tags": []
          },
          "execution_count": 93
        }
      ]
    },
    {
      "cell_type": "code",
      "metadata": {
        "id": "5HzDg0v73O0M",
        "colab_type": "code",
        "colab": {}
      },
      "source": [
        "x=online_rt[online_rt.Country.isin(top3.index)]"
      ],
      "execution_count": 0,
      "outputs": []
    },
    {
      "cell_type": "code",
      "metadata": {
        "id": "FcniIIuLFNaL",
        "colab_type": "code",
        "outputId": "c173263c-3fd8-40eb-c7ff-17b19ee35093",
        "colab": {
          "base_uri": "https://localhost:8080/",
          "height": 419
        }
      },
      "source": [
        "x"
      ],
      "execution_count": 95,
      "outputs": [
        {
          "output_type": "execute_result",
          "data": {
            "text/html": [
              "<div>\n",
              "<style scoped>\n",
              "    .dataframe tbody tr th:only-of-type {\n",
              "        vertical-align: middle;\n",
              "    }\n",
              "\n",
              "    .dataframe tbody tr th {\n",
              "        vertical-align: top;\n",
              "    }\n",
              "\n",
              "    .dataframe thead th {\n",
              "        text-align: right;\n",
              "    }\n",
              "</style>\n",
              "<table border=\"1\" class=\"dataframe\">\n",
              "  <thead>\n",
              "    <tr style=\"text-align: right;\">\n",
              "      <th></th>\n",
              "      <th>InvoiceNo</th>\n",
              "      <th>StockCode</th>\n",
              "      <th>Description</th>\n",
              "      <th>Quantity</th>\n",
              "      <th>InvoiceDate</th>\n",
              "      <th>UnitPrice</th>\n",
              "      <th>CustomerID</th>\n",
              "      <th>Country</th>\n",
              "      <th>Revenue</th>\n",
              "    </tr>\n",
              "  </thead>\n",
              "  <tbody>\n",
              "    <tr>\n",
              "      <th>385</th>\n",
              "      <td>536403</td>\n",
              "      <td>22867</td>\n",
              "      <td>HAND WARMER BIRD DESIGN</td>\n",
              "      <td>96</td>\n",
              "      <td>12/1/10 11:27</td>\n",
              "      <td>1.85</td>\n",
              "      <td>12791.0</td>\n",
              "      <td>Netherlands</td>\n",
              "      <td>177.60</td>\n",
              "    </tr>\n",
              "    <tr>\n",
              "      <th>386</th>\n",
              "      <td>536403</td>\n",
              "      <td>POST</td>\n",
              "      <td>POSTAGE</td>\n",
              "      <td>1</td>\n",
              "      <td>12/1/10 11:27</td>\n",
              "      <td>15.00</td>\n",
              "      <td>12791.0</td>\n",
              "      <td>Netherlands</td>\n",
              "      <td>15.00</td>\n",
              "    </tr>\n",
              "    <tr>\n",
              "      <th>1109</th>\n",
              "      <td>536527</td>\n",
              "      <td>22809</td>\n",
              "      <td>SET OF 6 T-LIGHTS SANTA</td>\n",
              "      <td>6</td>\n",
              "      <td>12/1/10 13:04</td>\n",
              "      <td>2.95</td>\n",
              "      <td>12662.0</td>\n",
              "      <td>Germany</td>\n",
              "      <td>17.70</td>\n",
              "    </tr>\n",
              "    <tr>\n",
              "      <th>1110</th>\n",
              "      <td>536527</td>\n",
              "      <td>84347</td>\n",
              "      <td>ROTATING SILVER ANGELS T-LIGHT HLDR</td>\n",
              "      <td>6</td>\n",
              "      <td>12/1/10 13:04</td>\n",
              "      <td>2.55</td>\n",
              "      <td>12662.0</td>\n",
              "      <td>Germany</td>\n",
              "      <td>15.30</td>\n",
              "    </tr>\n",
              "    <tr>\n",
              "      <th>1111</th>\n",
              "      <td>536527</td>\n",
              "      <td>84945</td>\n",
              "      <td>MULTI COLOUR SILVER T-LIGHT HOLDER</td>\n",
              "      <td>12</td>\n",
              "      <td>12/1/10 13:04</td>\n",
              "      <td>0.85</td>\n",
              "      <td>12662.0</td>\n",
              "      <td>Germany</td>\n",
              "      <td>10.20</td>\n",
              "    </tr>\n",
              "    <tr>\n",
              "      <th>...</th>\n",
              "      <td>...</td>\n",
              "      <td>...</td>\n",
              "      <td>...</td>\n",
              "      <td>...</td>\n",
              "      <td>...</td>\n",
              "      <td>...</td>\n",
              "      <td>...</td>\n",
              "      <td>...</td>\n",
              "      <td>...</td>\n",
              "    </tr>\n",
              "    <tr>\n",
              "      <th>541801</th>\n",
              "      <td>581578</td>\n",
              "      <td>22993</td>\n",
              "      <td>SET OF 4 PANTRY JELLY MOULDS</td>\n",
              "      <td>12</td>\n",
              "      <td>12/9/11 12:16</td>\n",
              "      <td>1.25</td>\n",
              "      <td>12713.0</td>\n",
              "      <td>Germany</td>\n",
              "      <td>15.00</td>\n",
              "    </tr>\n",
              "    <tr>\n",
              "      <th>541802</th>\n",
              "      <td>581578</td>\n",
              "      <td>22907</td>\n",
              "      <td>PACK OF 20 NAPKINS PANTRY DESIGN</td>\n",
              "      <td>12</td>\n",
              "      <td>12/9/11 12:16</td>\n",
              "      <td>0.85</td>\n",
              "      <td>12713.0</td>\n",
              "      <td>Germany</td>\n",
              "      <td>10.20</td>\n",
              "    </tr>\n",
              "    <tr>\n",
              "      <th>541803</th>\n",
              "      <td>581578</td>\n",
              "      <td>22908</td>\n",
              "      <td>PACK OF 20 NAPKINS RED APPLES</td>\n",
              "      <td>12</td>\n",
              "      <td>12/9/11 12:16</td>\n",
              "      <td>0.85</td>\n",
              "      <td>12713.0</td>\n",
              "      <td>Germany</td>\n",
              "      <td>10.20</td>\n",
              "    </tr>\n",
              "    <tr>\n",
              "      <th>541804</th>\n",
              "      <td>581578</td>\n",
              "      <td>23215</td>\n",
              "      <td>JINGLE BELL HEART ANTIQUE SILVER</td>\n",
              "      <td>12</td>\n",
              "      <td>12/9/11 12:16</td>\n",
              "      <td>2.08</td>\n",
              "      <td>12713.0</td>\n",
              "      <td>Germany</td>\n",
              "      <td>24.96</td>\n",
              "    </tr>\n",
              "    <tr>\n",
              "      <th>541805</th>\n",
              "      <td>581578</td>\n",
              "      <td>22736</td>\n",
              "      <td>RIBBON REEL MAKING SNOWMEN</td>\n",
              "      <td>10</td>\n",
              "      <td>12/9/11 12:16</td>\n",
              "      <td>1.65</td>\n",
              "      <td>12713.0</td>\n",
              "      <td>Germany</td>\n",
              "      <td>16.50</td>\n",
              "    </tr>\n",
              "  </tbody>\n",
              "</table>\n",
              "<p>19299 rows × 9 columns</p>\n",
              "</div>"
            ],
            "text/plain": [
              "       InvoiceNo StockCode  ...      Country  Revenue\n",
              "385       536403     22867  ...  Netherlands   177.60\n",
              "386       536403      POST  ...  Netherlands    15.00\n",
              "1109      536527     22809  ...      Germany    17.70\n",
              "1110      536527     84347  ...      Germany    15.30\n",
              "1111      536527     84945  ...      Germany    10.20\n",
              "...          ...       ...  ...          ...      ...\n",
              "541801    581578     22993  ...      Germany    15.00\n",
              "541802    581578     22907  ...      Germany    10.20\n",
              "541803    581578     22908  ...      Germany    10.20\n",
              "541804    581578     23215  ...      Germany    24.96\n",
              "541805    581578     22736  ...      Germany    16.50\n",
              "\n",
              "[19299 rows x 9 columns]"
            ]
          },
          "metadata": {
            "tags": []
          },
          "execution_count": 95
        }
      ]
    },
    {
      "cell_type": "code",
      "metadata": {
        "id": "7MZIsPyBFPu5",
        "colab_type": "code",
        "colab": {}
      },
      "source": [
        "y=x.groupby(['CustomerID','Country'])['Quantity','Revenue'].sum()"
      ],
      "execution_count": 0,
      "outputs": []
    },
    {
      "cell_type": "code",
      "metadata": {
        "id": "ucb3JAX-FpPD",
        "colab_type": "code",
        "outputId": "cb2dc7d4-e654-41c3-d777-cd0352e7e4a1",
        "colab": {
          "base_uri": "https://localhost:8080/",
          "height": 450
        }
      },
      "source": [
        "y"
      ],
      "execution_count": 97,
      "outputs": [
        {
          "output_type": "execute_result",
          "data": {
            "text/html": [
              "<div>\n",
              "<style scoped>\n",
              "    .dataframe tbody tr th:only-of-type {\n",
              "        vertical-align: middle;\n",
              "    }\n",
              "\n",
              "    .dataframe tbody tr th {\n",
              "        vertical-align: top;\n",
              "    }\n",
              "\n",
              "    .dataframe thead th {\n",
              "        text-align: right;\n",
              "    }\n",
              "</style>\n",
              "<table border=\"1\" class=\"dataframe\">\n",
              "  <thead>\n",
              "    <tr style=\"text-align: right;\">\n",
              "      <th></th>\n",
              "      <th></th>\n",
              "      <th>Quantity</th>\n",
              "      <th>Revenue</th>\n",
              "    </tr>\n",
              "    <tr>\n",
              "      <th>CustomerID</th>\n",
              "      <th>Country</th>\n",
              "      <th></th>\n",
              "      <th></th>\n",
              "    </tr>\n",
              "  </thead>\n",
              "  <tbody>\n",
              "    <tr>\n",
              "      <th>12426.0</th>\n",
              "      <th>Germany</th>\n",
              "      <td>258</td>\n",
              "      <td>582.73</td>\n",
              "    </tr>\n",
              "    <tr>\n",
              "      <th>12427.0</th>\n",
              "      <th>Germany</th>\n",
              "      <td>533</td>\n",
              "      <td>825.80</td>\n",
              "    </tr>\n",
              "    <tr>\n",
              "      <th>12468.0</th>\n",
              "      <th>Germany</th>\n",
              "      <td>366</td>\n",
              "      <td>729.54</td>\n",
              "    </tr>\n",
              "    <tr>\n",
              "      <th>12471.0</th>\n",
              "      <th>Germany</th>\n",
              "      <td>8212</td>\n",
              "      <td>19824.05</td>\n",
              "    </tr>\n",
              "    <tr>\n",
              "      <th>12472.0</th>\n",
              "      <th>Germany</th>\n",
              "      <td>4148</td>\n",
              "      <td>6572.11</td>\n",
              "    </tr>\n",
              "    <tr>\n",
              "      <th>...</th>\n",
              "      <th>...</th>\n",
              "      <td>...</td>\n",
              "      <td>...</td>\n",
              "    </tr>\n",
              "    <tr>\n",
              "      <th>14016.0</th>\n",
              "      <th>EIRE</th>\n",
              "      <td>2125</td>\n",
              "      <td>4341.21</td>\n",
              "    </tr>\n",
              "    <tr>\n",
              "      <th>14156.0</th>\n",
              "      <th>EIRE</th>\n",
              "      <td>57885</td>\n",
              "      <td>117379.63</td>\n",
              "    </tr>\n",
              "    <tr>\n",
              "      <th>14335.0</th>\n",
              "      <th>Germany</th>\n",
              "      <td>379</td>\n",
              "      <td>468.26</td>\n",
              "    </tr>\n",
              "    <tr>\n",
              "      <th>14646.0</th>\n",
              "      <th>Netherlands</th>\n",
              "      <td>197491</td>\n",
              "      <td>280206.02</td>\n",
              "    </tr>\n",
              "    <tr>\n",
              "      <th>14911.0</th>\n",
              "      <th>EIRE</th>\n",
              "      <td>80515</td>\n",
              "      <td>143825.06</td>\n",
              "    </tr>\n",
              "  </tbody>\n",
              "</table>\n",
              "<p>106 rows × 2 columns</p>\n",
              "</div>"
            ],
            "text/plain": [
              "                        Quantity    Revenue\n",
              "CustomerID Country                         \n",
              "12426.0    Germany           258     582.73\n",
              "12427.0    Germany           533     825.80\n",
              "12468.0    Germany           366     729.54\n",
              "12471.0    Germany          8212   19824.05\n",
              "12472.0    Germany          4148    6572.11\n",
              "...                          ...        ...\n",
              "14016.0    EIRE             2125    4341.21\n",
              "14156.0    EIRE            57885  117379.63\n",
              "14335.0    Germany           379     468.26\n",
              "14646.0    Netherlands    197491  280206.02\n",
              "14911.0    EIRE            80515  143825.06\n",
              "\n",
              "[106 rows x 2 columns]"
            ]
          },
          "metadata": {
            "tags": []
          },
          "execution_count": 97
        }
      ]
    },
    {
      "cell_type": "code",
      "metadata": {
        "id": "uyMHoVa6Fv8X",
        "colab_type": "code",
        "colab": {}
      },
      "source": [
        "y['AvgPrice']=y.Quantity / y.Revenue"
      ],
      "execution_count": 0,
      "outputs": []
    },
    {
      "cell_type": "code",
      "metadata": {
        "id": "18P5CDj7G5-0",
        "colab_type": "code",
        "colab": {}
      },
      "source": [
        "y['Country']=y.index.get_level_values(1)"
      ],
      "execution_count": 0,
      "outputs": []
    },
    {
      "cell_type": "code",
      "metadata": {
        "id": "7U3cG_aqF6oj",
        "colab_type": "code",
        "outputId": "fc8d3e83-cef2-40ee-a3b3-e74742acd72c",
        "colab": {
          "base_uri": "https://localhost:8080/",
          "height": 450
        }
      },
      "source": [
        "y"
      ],
      "execution_count": 100,
      "outputs": [
        {
          "output_type": "execute_result",
          "data": {
            "text/html": [
              "<div>\n",
              "<style scoped>\n",
              "    .dataframe tbody tr th:only-of-type {\n",
              "        vertical-align: middle;\n",
              "    }\n",
              "\n",
              "    .dataframe tbody tr th {\n",
              "        vertical-align: top;\n",
              "    }\n",
              "\n",
              "    .dataframe thead th {\n",
              "        text-align: right;\n",
              "    }\n",
              "</style>\n",
              "<table border=\"1\" class=\"dataframe\">\n",
              "  <thead>\n",
              "    <tr style=\"text-align: right;\">\n",
              "      <th></th>\n",
              "      <th></th>\n",
              "      <th>Quantity</th>\n",
              "      <th>Revenue</th>\n",
              "      <th>AvgPrice</th>\n",
              "      <th>Country</th>\n",
              "    </tr>\n",
              "    <tr>\n",
              "      <th>CustomerID</th>\n",
              "      <th>Country</th>\n",
              "      <th></th>\n",
              "      <th></th>\n",
              "      <th></th>\n",
              "      <th></th>\n",
              "    </tr>\n",
              "  </thead>\n",
              "  <tbody>\n",
              "    <tr>\n",
              "      <th>12426.0</th>\n",
              "      <th>Germany</th>\n",
              "      <td>258</td>\n",
              "      <td>582.73</td>\n",
              "      <td>0.442744</td>\n",
              "      <td>Germany</td>\n",
              "    </tr>\n",
              "    <tr>\n",
              "      <th>12427.0</th>\n",
              "      <th>Germany</th>\n",
              "      <td>533</td>\n",
              "      <td>825.80</td>\n",
              "      <td>0.645435</td>\n",
              "      <td>Germany</td>\n",
              "    </tr>\n",
              "    <tr>\n",
              "      <th>12468.0</th>\n",
              "      <th>Germany</th>\n",
              "      <td>366</td>\n",
              "      <td>729.54</td>\n",
              "      <td>0.501686</td>\n",
              "      <td>Germany</td>\n",
              "    </tr>\n",
              "    <tr>\n",
              "      <th>12471.0</th>\n",
              "      <th>Germany</th>\n",
              "      <td>8212</td>\n",
              "      <td>19824.05</td>\n",
              "      <td>0.414244</td>\n",
              "      <td>Germany</td>\n",
              "    </tr>\n",
              "    <tr>\n",
              "      <th>12472.0</th>\n",
              "      <th>Germany</th>\n",
              "      <td>4148</td>\n",
              "      <td>6572.11</td>\n",
              "      <td>0.631152</td>\n",
              "      <td>Germany</td>\n",
              "    </tr>\n",
              "    <tr>\n",
              "      <th>...</th>\n",
              "      <th>...</th>\n",
              "      <td>...</td>\n",
              "      <td>...</td>\n",
              "      <td>...</td>\n",
              "      <td>...</td>\n",
              "    </tr>\n",
              "    <tr>\n",
              "      <th>14016.0</th>\n",
              "      <th>EIRE</th>\n",
              "      <td>2125</td>\n",
              "      <td>4341.21</td>\n",
              "      <td>0.489495</td>\n",
              "      <td>EIRE</td>\n",
              "    </tr>\n",
              "    <tr>\n",
              "      <th>14156.0</th>\n",
              "      <th>EIRE</th>\n",
              "      <td>57885</td>\n",
              "      <td>117379.63</td>\n",
              "      <td>0.493143</td>\n",
              "      <td>EIRE</td>\n",
              "    </tr>\n",
              "    <tr>\n",
              "      <th>14335.0</th>\n",
              "      <th>Germany</th>\n",
              "      <td>379</td>\n",
              "      <td>468.26</td>\n",
              "      <td>0.809379</td>\n",
              "      <td>Germany</td>\n",
              "    </tr>\n",
              "    <tr>\n",
              "      <th>14646.0</th>\n",
              "      <th>Netherlands</th>\n",
              "      <td>197491</td>\n",
              "      <td>280206.02</td>\n",
              "      <td>0.704806</td>\n",
              "      <td>Netherlands</td>\n",
              "    </tr>\n",
              "    <tr>\n",
              "      <th>14911.0</th>\n",
              "      <th>EIRE</th>\n",
              "      <td>80515</td>\n",
              "      <td>143825.06</td>\n",
              "      <td>0.559812</td>\n",
              "      <td>EIRE</td>\n",
              "    </tr>\n",
              "  </tbody>\n",
              "</table>\n",
              "<p>106 rows × 4 columns</p>\n",
              "</div>"
            ],
            "text/plain": [
              "                        Quantity    Revenue  AvgPrice      Country\n",
              "CustomerID Country                                                \n",
              "12426.0    Germany           258     582.73  0.442744      Germany\n",
              "12427.0    Germany           533     825.80  0.645435      Germany\n",
              "12468.0    Germany           366     729.54  0.501686      Germany\n",
              "12471.0    Germany          8212   19824.05  0.414244      Germany\n",
              "12472.0    Germany          4148    6572.11  0.631152      Germany\n",
              "...                          ...        ...       ...          ...\n",
              "14016.0    EIRE             2125    4341.21  0.489495         EIRE\n",
              "14156.0    EIRE            57885  117379.63  0.493143         EIRE\n",
              "14335.0    Germany           379     468.26  0.809379      Germany\n",
              "14646.0    Netherlands    197491  280206.02  0.704806  Netherlands\n",
              "14911.0    EIRE            80515  143825.06  0.559812         EIRE\n",
              "\n",
              "[106 rows x 4 columns]"
            ]
          },
          "metadata": {
            "tags": []
          },
          "execution_count": 100
        }
      ]
    },
    {
      "cell_type": "markdown",
      "metadata": {
        "id": "7N99Gn2E3O0P",
        "colab_type": "text"
      },
      "source": [
        "##### Step 7.3.3 Plot"
      ]
    },
    {
      "cell_type": "code",
      "metadata": {
        "id": "7usiYDxCGs-b",
        "colab_type": "code",
        "colab": {}
      },
      "source": [
        "import seaborn as sns"
      ],
      "execution_count": 0,
      "outputs": []
    },
    {
      "cell_type": "code",
      "metadata": {
        "id": "Y88Z7dJ93O0Q",
        "colab_type": "code",
        "outputId": "d3758ab1-c87d-424a-8395-a00c36d3b488",
        "colab": {
          "base_uri": "https://localhost:8080/",
          "height": 242
        }
      },
      "source": [
        "g = sns.FacetGrid(y, col=\"Country\")\n",
        "g.map(plt.scatter, \"Quantity\", \"AvgPrice\", alpha=1)\n"
      ],
      "execution_count": 102,
      "outputs": [
        {
          "output_type": "execute_result",
          "data": {
            "text/plain": [
              "<seaborn.axisgrid.FacetGrid at 0x7feda57aa518>"
            ]
          },
          "metadata": {
            "tags": []
          },
          "execution_count": 102
        },
        {
          "output_type": "display_data",
          "data": {
            "image/png": "[encoded data removed]",
            "text/plain": [
              "<Figure size 648x216 with 3 Axes>"
            ]
          },
          "metadata": {
            "tags": []
          }
        }
      ]
    },
    {
      "cell_type": "code",
      "metadata": {
        "id": "SsQjYP47HtJZ",
        "colab_type": "code",
        "outputId": "5a24baaa-a4d8-4947-f74d-3ee476193ea6",
        "colab": {
          "base_uri": "https://localhost:8080/",
          "height": 296
        }
      },
      "source": [
        "y.plot.scatter(y='Quantity', x='AvgPrice')"
      ],
      "execution_count": 103,
      "outputs": [
        {
          "output_type": "execute_result",
          "data": {
            "text/plain": [
              "<matplotlib.axes._subplots.AxesSubplot at 0x7feda56041d0>"
            ]
          },
          "metadata": {
            "tags": []
          },
          "execution_count": 103
        },
        {
          "output_type": "display_data",
          "data": {
            "image/png": "[encoded data removed]",
            "text/plain": [
              "<Figure size 432x288 with 1 Axes>"
            ]
          },
          "metadata": {
            "tags": []
          }
        }
      ]
    },
    {
      "cell_type": "markdown",
      "metadata": {
        "id": "FhbZQm9b3O0T",
        "colab_type": "text"
      },
      "source": [
        "#### Step 7.4 What to do now?\n",
        "We aren't much better-off than what we started with. The data are still extremely scattered around and don't seem quite informative.\n",
        "\n",
        "But we shouldn't despair!\n",
        "There are two things to realize:\n",
        "1) The data seem to be skewed towaards the axes (e.g. we don't have any values where Quantity = 50000 and AvgPrice = 5). So that might suggest a trend.\n",
        "2) We have more data! We've only been looking at the data from 3 different countries and they are plotted on different graphs.\n",
        "\n",
        "So: we should plot the data regardless of `Country` and hopefully see a less scattered graph.\n",
        "\n",
        "##### Step 7.4.1 Plot the data for each `CustomerID` on a single graph"
      ]
    },
    {
      "cell_type": "code",
      "metadata": {
        "id": "CHI4om4T3O0U",
        "colab_type": "code",
        "outputId": "dbf2ae5b-134d-49b8-bd62-4460fc46d8af",
        "colab": {
          "base_uri": "https://localhost:8080/",
          "height": 282
        }
      },
      "source": [
        "grouped = online_rt.groupby(['CustomerID'])\n",
        "plottable = grouped['Quantity','Revenue'].agg('sum')\n",
        "plottable['AvgPrice'] = plottable.Revenue / plottable.Quantity\n",
        "\n",
        "# map over a make a scatterplot\n",
        "plt.scatter(plottable.Quantity, plottable.AvgPrice)\n",
        "plt.plot()"
      ],
      "execution_count": 104,
      "outputs": [
        {
          "output_type": "execute_result",
          "data": {
            "text/plain": [
              "[]"
            ]
          },
          "metadata": {
            "tags": []
          },
          "execution_count": 104
        },
        {
          "output_type": "display_data",
          "data": {
            "image/png": "[encoded data removed]",
            "text/plain": [
              "<Figure size 432x288 with 1 Axes>"
            ]
          },
          "metadata": {
            "tags": []
          }
        }
      ]
    },
    {
      "cell_type": "markdown",
      "metadata": {
        "id": "O34D7x8r3O0X",
        "colab_type": "text"
      },
      "source": [
        "##### Step 7.4.2 Zoom in so we can see that curve more clearly"
      ]
    },
    {
      "cell_type": "code",
      "metadata": {
        "id": "xfuzisQo3O0Y",
        "colab_type": "code",
        "outputId": "962618b2-cde4-457a-aa65-ff64c142add2",
        "colab": {
          "base_uri": "https://localhost:8080/",
          "height": 286
        }
      },
      "source": [
        "grouped = online_rt.groupby(['CustomerID','Country'])\n",
        "plottable = grouped.agg({'Quantity': 'sum',\n",
        "                         'Revenue': 'sum'})\n",
        "plottable['AvgPrice'] = plottable.Revenue / plottable.Quantity\n",
        "\n",
        "# map over a make a scatterplot\n",
        "plt.scatter(plottable.Quantity, plottable.AvgPrice)\n",
        "\n",
        "#Zooming in. (I'm starting the axes from a negative value so that\n",
        "#the dots can be plotted in the graph completely.)\n",
        "plt.xlim(-40,2000) \n",
        "plt.ylim(-1,80)\n",
        "\n",
        "plt.plot()"
      ],
      "execution_count": 105,
      "outputs": [
        {
          "output_type": "execute_result",
          "data": {
            "text/plain": [
              "[]"
            ]
          },
          "metadata": {
            "tags": []
          },
          "execution_count": 105
        },
        {
          "output_type": "display_data",
          "data": {
            "image/png": "[encoded data removed]",
            "text/plain": [
              "<Figure size 432x288 with 1 Axes>"
            ]
          },
          "metadata": {
            "tags": []
          }
        }
      ]
    },
    {
      "cell_type": "markdown",
      "metadata": {
        "id": "vuN7CGNe3O0d",
        "colab_type": "text"
      },
      "source": [
        "### 8. Plot a line chart showing revenue (y) per UnitPrice (x).\n",
        "\n",
        "Did Step 7 give us any insights about the data? Sure! As average price increases, the quantity ordered decreses.  But that's hardly surprising. It would be surprising if that wasn't the case!\n",
        "\n",
        "Nevertheless the rate of drop in quantity is so drastic, it makes me wonder how our revenue changes with respect to item price. It would not be that surprising if it didn't change that much. But it would be interesting to know whether most of our revenue comes from expensive or inexpensive items, and how that relation looks like.\n",
        "\n",
        "That is what we are going to do now.\n",
        "\n",
        "#### 8.1 Group `UnitPrice` by intervals of 1 for prices [0,50), and sum `Quantity` and `Revenue`."
      ]
    },
    {
      "cell_type": "code",
      "metadata": {
        "id": "r3C3FpH53O0e",
        "colab_type": "code",
        "colab": {
          "base_uri": "https://localhost:8080/",
          "height": 136
        },
        "outputId": "3e8b203b-abd2-4bad-b758-031787b2edb0"
      },
      "source": [
        "#These are the values for the graph.\n",
        "#They are used both in selecting data from\n",
        "#the DataFrame and plotting the data so I've assigned\n",
        "#them to variables to increase consistency and make things easier\n",
        "#when playing with the variables.\n",
        "price_start = 0 \n",
        "price_end = 50\n",
        "price_interval = 1\n",
        "\n",
        "#Creating the buckets to collect the data accordingly\n",
        "buckets = np.arange(price_start,price_end,price_interval)\n",
        "\n",
        "#Select the data and sum\n",
        "revenue_per_price = online_rt.groupby(pd.cut(online_rt.UnitPrice, buckets)).Revenue.sum()\n",
        "revenue_per_price.head()"
      ],
      "execution_count": 106,
      "outputs": [
        {
          "output_type": "execute_result",
          "data": {
            "text/plain": [
              "UnitPrice\n",
              "(0, 1]    1.107775e+06\n",
              "(1, 2]    2.691765e+06\n",
              "(2, 3]    2.024143e+06\n",
              "(3, 4]    8.651018e+05\n",
              "(4, 5]    1.219377e+06\n",
              "Name: Revenue, dtype: float64"
            ]
          },
          "metadata": {
            "tags": []
          },
          "execution_count": 106
        }
      ]
    },
    {
      "cell_type": "code",
      "metadata": {
        "id": "2ZwWh7d1MQhM",
        "colab_type": "code",
        "colab": {
          "base_uri": "https://localhost:8080/",
          "height": 68
        },
        "outputId": "5ed84e69-9b18-4a2a-80f7-ab56bd8eb372"
      },
      "source": [
        "buckets"
      ],
      "execution_count": 107,
      "outputs": [
        {
          "output_type": "execute_result",
          "data": {
            "text/plain": [
              "array([ 0,  1,  2,  3,  4,  5,  6,  7,  8,  9, 10, 11, 12, 13, 14, 15, 16,\n",
              "       17, 18, 19, 20, 21, 22, 23, 24, 25, 26, 27, 28, 29, 30, 31, 32, 33,\n",
              "       34, 35, 36, 37, 38, 39, 40, 41, 42, 43, 44, 45, 46, 47, 48, 49])"
            ]
          },
          "metadata": {
            "tags": []
          },
          "execution_count": 107
        }
      ]
    },
    {
      "cell_type": "markdown",
      "metadata": {
        "id": "Z99NHnTh3O0h",
        "colab_type": "text"
      },
      "source": [
        "#### 8.3 Plot."
      ]
    },
    {
      "cell_type": "code",
      "metadata": {
        "id": "lKcvxJic3O0i",
        "colab_type": "code",
        "colab": {
          "base_uri": "https://localhost:8080/",
          "height": 279
        },
        "outputId": "46b01b75-f091-4c7c-e6c8-8a3db4e70ac5"
      },
      "source": [
        "revenue_per_price.plot()\n",
        "plt.xlabel('Unit Price (in intervals of '+str(price_interval)+')')\n",
        "plt.ylabel('Revenue')\n",
        "plt.show()"
      ],
      "execution_count": 108,
      "outputs": [
        {
          "output_type": "display_data",
          "data": {
            "image/png": "[encoded data removed]",
            "text/plain": [
              "<Figure size 432x288 with 1 Axes>"
            ]
          },
          "metadata": {
            "tags": []
          }
        }
      ]
    },
    {
      "cell_type": "markdown",
      "metadata": {
        "id": "-gkPlD9X3O0q",
        "colab_type": "text"
      },
      "source": [
        "#### 8.4 Make it look nicer.\n",
        "x-axis needs values.  \n",
        "y-axis isn't that easy to read; show in terms of millions."
      ]
    },
    {
      "cell_type": "code",
      "metadata": {
        "id": "Z2ReQmka3O0t",
        "colab_type": "code",
        "colab": {
          "base_uri": "https://localhost:8080/",
          "height": 279
        },
        "outputId": "2c9a8db7-e545-4adc-b0fe-67bbc9482959"
      },
      "source": [
        "revenue_per_price.plot()\n",
        "\n",
        "#Place labels\n",
        "plt.xlabel('Unit Price (in buckets of '+str(price_interval)+')') \n",
        "plt.ylabel('Revenue')\n",
        "\n",
        "#Even though the data is bucketed in intervals of 1,\n",
        "#I'll plot ticks a little bit further apart from each other to avoid cluttering.\n",
        "plt.xticks(np.arange(price_start,price_end,3),\n",
        "           np.arange(price_start,price_end,3))\n",
        "plt.yticks([0, 500000, 1000000, 1500000, 2000000, 2500000],\n",
        "           ['0', '$0.5M', '$1M', '$1.5M', '$2M', '$2.5M'])\n",
        "plt.show()\n"
      ],
      "execution_count": 109,
      "outputs": [
        {
          "output_type": "display_data",
          "data": {
            "image/png": "[encoded data removed]",
            "text/plain": [
              "<Figure size 432x288 with 1 Axes>"
            ]
          },
          "metadata": {
            "tags": []
          }
        }
      ]
    },
    {
      "cell_type": "markdown",
      "metadata": {
        "id": "zBm8UnqQ3O0x",
        "colab_type": "text"
      },
      "source": [
        "### BONUS: Create your own question and answer it."
      ]
    },
    {
      "cell_type": "code",
      "metadata": {
        "id": "6nfWfoiV3O0y",
        "colab_type": "code",
        "colab": {}
      },
      "source": [
        ""
      ],
      "execution_count": 0,
      "outputs": []
    }
  ]
}