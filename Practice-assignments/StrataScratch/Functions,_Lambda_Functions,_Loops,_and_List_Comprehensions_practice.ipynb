{
  "nbformat": 4,
  "nbformat_minor": 0,
  "metadata": {
    "colab": {
      "name": "Functions, Lambda Functions, Loops, and List Comprehensions_practice.ipynb",
      "provenance": [],
      "collapsed_sections": [
        "NHbOBTGTN4U5"
      ]
    },
    "kernelspec": {
      "display_name": "Python 3",
      "language": "python",
      "name": "python3"
    },
    "language_info": {
      "codemirror_mode": {
        "name": "ipython",
        "version": 3
      },
      "file_extension": ".py",
      "mimetype": "text/x-python",
      "name": "python",
      "nbconvert_exporter": "python",
      "pygments_lexer": "ipython3",
      "version": "3.6.1"
    }
  },
  "cells": [
    {
      "cell_type": "markdown",
      "metadata": {
        "id": "G-1CzviKN4QZ",
        "colab_type": "text"
      },
      "source": [
        "![sslogo](https://github.com/stratascratch/stratascratch.github.io/raw/master/assets/sslogo.jpg)"
      ]
    },
    {
      "cell_type": "markdown",
      "metadata": {
        "colab_type": "text",
        "id": "qZUmLBf2VIKG"
      },
      "source": [
        "# Functions,  Lambda Functions, List Comprehensions, Loops"
      ]
    },
    {
      "cell_type": "markdown",
      "metadata": {
        "colab_type": "text",
        "id": "IUum2DJQVIKH"
      },
      "source": [
        "## Functions"
      ]
    },
    {
      "cell_type": "markdown",
      "metadata": {
        "colab_type": "text",
        "id": "n3bVkHL1VIKH"
      },
      "source": [
        "The following cell defines a function called square.\n",
        "\n",
        "All named functions in python are defined using the def keyword (which as you guessed is short for define) followed by the function name and function arguments in parentheses. All function definitions must end with the colon sign (:) or you will get an error.\n",
        "\n",
        "Functions can do anything and usually they give some value as their output. That value is given back to the caller of the function (returned) using the return keyword followed by the value.\n",
        "\n",
        "Functions are always named by their purpose so we always know what to expect from them.\n",
        "\n",
        "In this case the square functions always squares the input number.\n",
        "\n",
        "The `**` operator is exponentiation in python (e.g. sqrt(2) = 2 `**` 0.5, 16 = 2 `**` 4) "
      ]
    },
    {
      "cell_type": "code",
      "metadata": {
        "colab_type": "code",
        "id": "h1uw8lu6VIKI",
        "colab": {}
      },
      "source": [
        "def square(x): \n",
        "    return x**2 "
      ],
      "execution_count": 0,
      "outputs": []
    },
    {
      "cell_type": "markdown",
      "metadata": {
        "colab_type": "text",
        "id": "dbPosAFKVIKM"
      },
      "source": [
        "Calling our custom defined functions is same as calling any function."
      ]
    },
    {
      "cell_type": "code",
      "metadata": {
        "colab_type": "code",
        "id": "9eoC2HVKVIKM",
        "outputId": "d0336352-ea29-433c-faa7-2a9bb843639e",
        "colab": {
          "base_uri": "https://localhost:8080/",
          "height": 34
        }
      },
      "source": [
        "x = 2\n",
        "y = square(x)\n",
        "print(y)"
      ],
      "execution_count": 5,
      "outputs": [
        {
          "output_type": "stream",
          "text": [
            "4\n"
          ],
          "name": "stdout"
        }
      ]
    },
    {
      "cell_type": "markdown",
      "metadata": {
        "id": "VSlYb8TFN4Q2",
        "colab_type": "text"
      },
      "source": [
        "Calling our function using named arguments\n",
        "\n",
        "Named arguments mean that when calling the function we do not pass just arguments as values (e.g. 2) but pass arguments as name, value pairs (e.g. x = 2)\n",
        "\n",
        "Another example. Assuming we have some function `func(a, b, c)` we can call it as `func(1, 2, 3)` or as `func(a = 1, b = 2, c = 3)` or even `func(b = 2, c = 3, a = 1)`.\n",
        "\n",
        "When using this calling convention we can order the arguments however we want."
      ]
    },
    {
      "cell_type": "code",
      "metadata": {
        "id": "58l_4W-FN4Q4",
        "colab_type": "code",
        "outputId": "33414c72-96b9-479a-8540-65b2eeddcd2e",
        "colab": {
          "base_uri": "https://localhost:8080/",
          "height": 34
        }
      },
      "source": [
        "y = square(x = 2)\n",
        "print(y)"
      ],
      "execution_count": 6,
      "outputs": [
        {
          "output_type": "stream",
          "text": [
            "4\n"
          ],
          "name": "stdout"
        }
      ]
    },
    {
      "cell_type": "markdown",
      "metadata": {
        "id": "4ZpTNGEsN4Q_",
        "colab_type": "text"
      },
      "source": [
        "### Exercises\n",
        "\n",
        "#### Exercise #1\n",
        "\n",
        "Define a function called `pythonize_expression` which takes an input string and replaces all ^ with `**` and replaces all & with `and` and replaces all | with or.\n",
        "\n",
        "Hint: Visit https://docs.python.org/3.7/library/string.html#string.replace"
      ]
    },
    {
      "cell_type": "code",
      "metadata": {
        "id": "kEhZWhH9N4RB",
        "colab_type": "code",
        "colab": {
          "base_uri": "https://localhost:8080/",
          "height": 52
        },
        "outputId": "0ec54c28-625c-43f2-8c40-bc0c79d5e682"
      },
      "source": [
        "def pythonize_expression (inpstring):\n",
        "\n",
        "  inpstring=inpstring.replace('^','**')\n",
        "  inpstring=inpstring.replace('&', 'and')\n",
        "  inpstring=inpstring.replace('|', 'or')\n",
        "\n",
        "  #print(inpstring)\n",
        "  return inpstring\n",
        "\n",
        "inpstring=\"\"\"i am learnign ^ data science ^^ &&& ||||\"\"\"\n",
        "print(inpstring)\n",
        "\n",
        "\n",
        "new_string=pythonize_expression(inpstring)\n",
        "print(new_string)"
      ],
      "execution_count": 10,
      "outputs": [
        {
          "output_type": "stream",
          "text": [
            "i am learnign ^ data science ^^ &&& ||||\n",
            "i am learnign ** data science **** andandand orororor\n"
          ],
          "name": "stdout"
        }
      ]
    },
    {
      "cell_type": "markdown",
      "metadata": {
        "id": "g5rTecipN4RG",
        "colab_type": "text"
      },
      "source": [
        "#### Exercise #2\n",
        "\n",
        "Define three functions f, g, h and call them in succession from the starting argument 10.\n",
        "- f should double the input number\n",
        "- g should multiply it with 10\n",
        "- h should cube it\n",
        "\n",
        "The wanted result is h(g(f(10)))"
      ]
    },
    {
      "cell_type": "code",
      "metadata": {
        "id": "VT1DaREqN4RH",
        "colab_type": "code",
        "colab": {
          "base_uri": "https://localhost:8080/",
          "height": 70
        },
        "outputId": "e6435de6-0cc8-476c-fd03-bc6c6e640366"
      },
      "source": [
        "def f(inpnumber):\n",
        "  tmp=inpnumber*2\n",
        "  return tmp\n",
        "\n",
        "def g(inpnumber):\n",
        "  tmp=inpnumber*10\n",
        "  return tmp\n",
        "\n",
        "def h(inpnumber):\n",
        "  tmp=(inpnumber ** 3)\n",
        "  return tmp\n",
        "\n",
        "mynumber=10\n",
        "x=f(mynumber)\n",
        "print(x)\n",
        "y=g(mynumber)\n",
        "print(y)\n",
        "z=h(mynumber)\n",
        "print(z)"
      ],
      "execution_count": 16,
      "outputs": [
        {
          "output_type": "stream",
          "text": [
            "20\n",
            "100\n",
            "1000\n"
          ],
          "name": "stdout"
        }
      ]
    },
    {
      "cell_type": "markdown",
      "metadata": {
        "id": "vd6XEQLlN4RL",
        "colab_type": "text"
      },
      "source": [
        "#### Exercise #3\n",
        "\n",
        "Define a function called `animal_speak` which takes two parameters\n",
        "\n",
        "- First parameter is the name of the animal (one of \"horse\", \"elephant\", \"duck\" or \"snake\")\n",
        "- Second paramater is the loudness (one of \"loud\" or \"quiet\") If \"loud\" print sound using upper case letters.\n",
        "\n",
        "Each animal has a charactertic sound:\n",
        "- horse has \"neigh\"\n",
        "- elphant has \"trumpet\"\n",
        "- duck has \"quack\"\n",
        "- snake has \"sss\""
      ]
    },
    {
      "cell_type": "code",
      "metadata": {
        "id": "g7tCuqcoN4RN",
        "colab_type": "code",
        "colab": {
          "base_uri": "https://localhost:8080/",
          "height": 52
        },
        "outputId": "ccdb1bce-f1db-42c1-cf64-73f6b7357b1c"
      },
      "source": [
        "def animal_speak(animal_name, loudness):\n",
        "  voice=''\n",
        "\n",
        "  if (animal_name=='horse'):\n",
        "    voice='neigh'\n",
        "  elif (animal_name=='elephant'):\n",
        "    voice='trumpet'\n",
        "  elif (animal_name=='duck'):\n",
        "    voice='quack'\n",
        "  elif (animal_name=='snake'):\n",
        "    voice='sss'\n",
        "  else:\n",
        "    print(\"Wrong animal\")\n",
        "    voice='error'\n",
        "\n",
        "  if (loudness=='loud'):\n",
        "    print(\"For {}, the sound is {}\".format(animal_name, voice.upper()))\n",
        "  else:\n",
        "    print(\"For {}, the sound is {}\".format(animal_name, voice.lower()))\n",
        "\n",
        "animal_speak('horse', 'loud')\n",
        "animal_speak('elephant', 'quiet')"
      ],
      "execution_count": 27,
      "outputs": [
        {
          "output_type": "stream",
          "text": [
            "For horse, the sound is NEIGH\n",
            "For elephant, the sound is trumpet\n"
          ],
          "name": "stdout"
        }
      ]
    },
    {
      "cell_type": "markdown",
      "metadata": {
        "colab_type": "text",
        "id": "3yrCuo_OVIKP"
      },
      "source": [
        "## Lambda Functions"
      ]
    },
    {
      "cell_type": "markdown",
      "metadata": {
        "id": "DGlNOT6WN4Ra",
        "colab_type": "text"
      },
      "source": [
        "The function square we defined above has a name and we can call it with that name.\n",
        "\n",
        "There also exist another variery of functions which are not named and are called lambdas.\n",
        "\n",
        "It might seem weird to create a function and not give it a name but consider the case of a function used only once.\n",
        "This happens much more often than you may think. \n",
        "\n",
        "Defining lambdas goes with the lambda keyword, followed by a list of parameters separated by comas, followed by a colon (:) and followed by a **single** python expression. Due to python limitations only a single expressions may be used. The reason for this is that if you have more than a single expression you should probably devise a named function.\n",
        "\n",
        "Examples:\n",
        "- `lambda x, y, z: (x * y) / z`\n",
        "- `lambda array: array.shape`\n",
        "- `lambda string: string.split(' ')[0]`"
      ]
    },
    {
      "cell_type": "markdown",
      "metadata": {
        "id": "sQ7woYgaN4Rc",
        "colab_type": "text"
      },
      "source": [
        "### Exercises\n",
        "\n",
        "#### Exercise #1\n",
        "\n",
        "Define a lambda function to calculate e^x as $$((1 + \\frac{1}{n})^n)^x$$ for n = 1000"
      ]
    },
    {
      "cell_type": "code",
      "metadata": {
        "id": "rNdPCP7bN4Re",
        "colab_type": "code",
        "colab": {
          "base_uri": "https://localhost:8080/",
          "height": 34
        },
        "outputId": "0ff0aa4d-248e-48a8-b7ef-025ef1ecacf0"
      },
      "source": [
        "n=1000\n",
        "lambda x:  ((1+(1/n)) ** n) ** x"
      ],
      "execution_count": 29,
      "outputs": [
        {
          "output_type": "execute_result",
          "data": {
            "text/plain": [
              "<function __main__.<lambda>>"
            ]
          },
          "metadata": {
            "tags": []
          },
          "execution_count": 29
        }
      ]
    },
    {
      "cell_type": "markdown",
      "metadata": {
        "id": "4SVjXhENN4Rk",
        "colab_type": "text"
      },
      "source": [
        "#### Exercise #2\n",
        "\n",
        "Define a lambda function to get first and last elements of a list as a new list\n",
        "\n",
        "Hint: Last element is at position -1"
      ]
    },
    {
      "cell_type": "code",
      "metadata": {
        "id": "w-DzEPJ0N4Rl",
        "colab_type": "code",
        "colab": {
          "base_uri": "https://localhost:8080/",
          "height": 34
        },
        "outputId": "25f79bb3-ecd3-4068-a625-a7d646461da8"
      },
      "source": [
        "lambda list : [list[0], list[-1]]"
      ],
      "execution_count": 30,
      "outputs": [
        {
          "output_type": "execute_result",
          "data": {
            "text/plain": [
              "<function __main__.<lambda>>"
            ]
          },
          "metadata": {
            "tags": []
          },
          "execution_count": 30
        }
      ]
    },
    {
      "cell_type": "markdown",
      "metadata": {
        "id": "RqGmkJuVN4Rp",
        "colab_type": "text"
      },
      "source": [
        "#### Exercise #3\n",
        "\n",
        "Define a lambda function which takes 4 arguments, first two are lists (l1 and l2) and second two are positions (i1 and i2) and takes the elements at corresponding positions and multiplies them.\n",
        "\n",
        "The body of the lambda is: `l1[i1] * l2[i2]` and you need to define the parameters."
      ]
    },
    {
      "cell_type": "code",
      "metadata": {
        "id": "601VnSkYN4Rq",
        "colab_type": "code",
        "colab": {
          "base_uri": "https://localhost:8080/",
          "height": 34
        },
        "outputId": "be321d0d-0b3c-47c5-a3b9-7ca406ae036a"
      },
      "source": [
        "lambda l1,l2,i1,i2 : li[i1]*l2[i2]"
      ],
      "execution_count": 31,
      "outputs": [
        {
          "output_type": "execute_result",
          "data": {
            "text/plain": [
              "<function __main__.<lambda>>"
            ]
          },
          "metadata": {
            "tags": []
          },
          "execution_count": 31
        }
      ]
    },
    {
      "cell_type": "markdown",
      "metadata": {
        "id": "E2k8OJadN4Rt",
        "colab_type": "text"
      },
      "source": [
        "## Function references"
      ]
    },
    {
      "cell_type": "markdown",
      "metadata": {
        "id": "14TYq87xN4Rw",
        "colab_type": "text"
      },
      "source": [
        "When you define functions and their parameters you usually think of parameters either as being some simple type (integer, real number, character string, array, datetime) or some class object.\n",
        "\n",
        "It is possible to define functions whose parameters are other functions. This might be an abstract concept but it is the basis of many day-to-day tasks in data science so it is super important to understand.\n",
        "\n",
        "An example is given in the following cell.\n",
        "\n",
        "The `operate` function takes two parameters:\n",
        "- operating_function which is a function that will do something with our number\n",
        "- number which is what is passed to another_function as input\n",
        "It prints the results of calling the function **referenced** by first parameter with the second parameter as input.\n",
        "\n",
        "Our two functions which we use as operations are:\n",
        "- `is_powerful` which checks if a number is powerful and says True or False.\n",
        "- `make_powerful` which makes small numbers powerful by making them 9001 \n",
        "\n",
        "The crucial line is `operate(is_powerful, 8000)`.\n",
        "- We pass `is_powerful` **without any brackets** as the reference to the `is_powerful` function\n",
        "- We also pass 8000 as the number we want to operate\n",
        "\n",
        "The bold part is very important because if we used brackets that would be calling the `is_powerful` functions.\n",
        "We do not want to call it here but just say to our `operate` function what is the function it should use as its `operating_function`"
      ]
    },
    {
      "cell_type": "code",
      "metadata": {
        "id": "dgStvYbBN4Rz",
        "colab_type": "code",
        "outputId": "5a3cb237-9a96-49c0-edc3-57faeacc6d4c",
        "colab": {
          "base_uri": "https://localhost:8080/",
          "height": 52
        }
      },
      "source": [
        "def operate(operating_function, number):\n",
        "    print(operating_function(number))\n",
        "    \n",
        "def is_powerful(number):\n",
        "    if number > 9000:\n",
        "        return True\n",
        "    else:\n",
        "        return False\n",
        "    \n",
        "def make_powerful(number):\n",
        "    if number <= 9000:\n",
        "        return 9001\n",
        "    else:\n",
        "        return number\n",
        "    \n",
        "operate(is_powerful, 8000)\n",
        "\n",
        "operate(make_powerful, 9000)"
      ],
      "execution_count": 32,
      "outputs": [
        {
          "output_type": "stream",
          "text": [
            "False\n",
            "9001\n"
          ],
          "name": "stdout"
        }
      ]
    },
    {
      "cell_type": "markdown",
      "metadata": {
        "id": "PgP65YHkN4R5",
        "colab_type": "text"
      },
      "source": [
        "### Exercises\n",
        "\n",
        "#### Exercise #1\n",
        "\n",
        "What do you think is the output of the following cell?"
      ]
    },
    {
      "cell_type": "code",
      "metadata": {
        "id": "EDL_xyRUN4R6",
        "colab_type": "code",
        "colab": {
          "base_uri": "https://localhost:8080/",
          "height": 34
        },
        "outputId": "afb5058b-1747-4491-be3a-89d1b5e54f1b"
      },
      "source": [
        "operate(is_powerful, make_powerful(8000))"
      ],
      "execution_count": 33,
      "outputs": [
        {
          "output_type": "stream",
          "text": [
            "True\n"
          ],
          "name": "stdout"
        }
      ]
    },
    {
      "cell_type": "markdown",
      "metadata": {
        "id": "bn3Xj7vaN4R9",
        "colab_type": "text"
      },
      "source": [
        "#### Exercise #2\n",
        "\n",
        "Make functions `is_weak` and `make_weak` and use them as references with `operate` function."
      ]
    },
    {
      "cell_type": "code",
      "metadata": {
        "id": "bqFsXfXfN4R-",
        "colab_type": "code",
        "colab": {
          "base_uri": "https://localhost:8080/",
          "height": 34
        },
        "outputId": "c0b19575-d6e0-42c4-c6fe-e3d7a5d0224a"
      },
      "source": [
        "def is_weak(number):\n",
        "  if number < 9000:\n",
        "    return True\n",
        "  else:\n",
        "    return False\n",
        "\n",
        "def make_weak(number):\n",
        "  if number< 9000:\n",
        "    return 8999\n",
        "  else:\n",
        "    return number\n",
        "\n",
        "operate(is_weak, make_weak(8000))\n"
      ],
      "execution_count": 34,
      "outputs": [
        {
          "output_type": "stream",
          "text": [
            "True\n"
          ],
          "name": "stdout"
        }
      ]
    },
    {
      "cell_type": "markdown",
      "metadata": {
        "colab_type": "text",
        "id": "VufXxmWGVIKP"
      },
      "source": [
        "### Practical Examples of Functions\n",
        "\n",
        "Import nfl combine dataset"
      ]
    },
    {
      "cell_type": "code",
      "metadata": {
        "colab_type": "code",
        "id": "R242ErkNVIKR",
        "colab": {
          "base_uri": "https://localhost:8080/",
          "height": 72
        },
        "outputId": "5f0731e9-514b-4a21-e60e-8cfbb2d0185f"
      },
      "source": [
        "import pandas as pd\n",
        "import numpy as np\n",
        "import psycopg2 as ps"
      ],
      "execution_count": 35,
      "outputs": [
        {
          "output_type": "stream",
          "text": [
            "/usr/local/lib/python3.6/dist-packages/psycopg2/__init__.py:144: UserWarning: The psycopg2 wheel package will be renamed from release 2.8; in order to keep installing from binary please use \"pip install psycopg2-binary\" instead. For details see: <http://initd.org/psycopg/docs/install.html#binary-install-from-pypi>.\n",
            "  \"\"\")\n"
          ],
          "name": "stderr"
        }
      ]
    },
    {
      "cell_type": "code",
      "metadata": {
        "colab_type": "code",
        "id": "kii5a_nVVIKT",
        "outputId": "fb2625dc-b97d-4ae0-ac15-64b32a8b7809",
        "colab": {
          "base_uri": "https://localhost:8080/",
          "height": 34
        }
      },
      "source": [
        "host_name = 'db-strata.stratascratch.com'\n",
        "dbname = 'db_strata'\n",
        "user_name = 'ankit082006' #enter username and password from profile tab in Strata Scratch\n",
        "pwd = 'ofkMQPktC'\n",
        "port = '5432'\n",
        "\n",
        "try:\n",
        "    conn = ps.connect(host=host_name,database=dbname,user=user_name,password=pwd,port=port)\n",
        "except ps.OperationalError as e:\n",
        "    raise e\n",
        "else:\n",
        "    print('Connected!')"
      ],
      "execution_count": 42,
      "outputs": [
        {
          "output_type": "stream",
          "text": [
            "Connected!\n"
          ],
          "name": "stdout"
        }
      ]
    },
    {
      "cell_type": "code",
      "metadata": {
        "colab_type": "code",
        "id": "5Ujey6hZVIKb",
        "colab": {
          "base_uri": "https://localhost:8080/",
          "height": 345
        },
        "outputId": "b391a160-0b57-4258-dfb2-2df7324f28d0"
      },
      "source": [
        "#Make the database call\n",
        "cur = conn.cursor()\n",
        "cur.execute(\"\"\" \n",
        "            SELECT *  FROM datasets.nfl_combine; \n",
        "            \"\"\")\n",
        "data = cur.fetchall()\n",
        "colnames = [desc[0] for desc in cur.description] #grab the column names\n",
        "conn.commit()\n",
        "\n",
        "#create the dataframe\n",
        "data=pd.DataFrame(data)\n",
        "data.columns = colnames\n",
        "\n",
        "#close the connection\n",
        "cur.close()"
      ],
      "execution_count": 43,
      "outputs": [
        {
          "output_type": "stream",
          "text": [
            "ERROR:root:An unexpected error occurred while tokenizing input\n",
            "The following traceback may be corrupted or invalid\n",
            "The error message is: ('EOF in multi-line string', (1, 12))\n",
            "\n"
          ],
          "name": "stderr"
        },
        {
          "output_type": "error",
          "ename": "ProgrammingError",
          "evalue": "ignored",
          "traceback": [
            "\u001b[0;31m---------------------------------------------------------------------------\u001b[0m",
            "\u001b[0;31mProgrammingError\u001b[0m                          Traceback (most recent call last)",
            "\u001b[0;32m<ipython-input-43-b6ff0c2bfdad>\u001b[0m in \u001b[0;36m<module>\u001b[0;34m()\u001b[0m\n\u001b[1;32m      2\u001b[0m cur.execute(\"\"\" \n\u001b[1;32m      3\u001b[0m             \u001b[0mSELECT\u001b[0m \u001b[0;34m*\u001b[0m  \u001b[0mFROM\u001b[0m \u001b[0mdatasets\u001b[0m\u001b[0;34m.\u001b[0m\u001b[0mnfl_combine\u001b[0m\u001b[0;34m;\u001b[0m\u001b[0;34m\u001b[0m\u001b[0;34m\u001b[0m\u001b[0m\n\u001b[0;32m----> 4\u001b[0;31m             \"\"\")\n\u001b[0m\u001b[1;32m      5\u001b[0m \u001b[0mdata\u001b[0m \u001b[0;34m=\u001b[0m \u001b[0mcur\u001b[0m\u001b[0;34m.\u001b[0m\u001b[0mfetchall\u001b[0m\u001b[0;34m(\u001b[0m\u001b[0;34m)\u001b[0m\u001b[0;34m\u001b[0m\u001b[0;34m\u001b[0m\u001b[0m\n\u001b[1;32m      6\u001b[0m \u001b[0mcolnames\u001b[0m \u001b[0;34m=\u001b[0m \u001b[0;34m[\u001b[0m\u001b[0mdesc\u001b[0m\u001b[0;34m[\u001b[0m\u001b[0;36m0\u001b[0m\u001b[0;34m]\u001b[0m \u001b[0;32mfor\u001b[0m \u001b[0mdesc\u001b[0m \u001b[0;32min\u001b[0m \u001b[0mcur\u001b[0m\u001b[0;34m.\u001b[0m\u001b[0mdescription\u001b[0m\u001b[0;34m]\u001b[0m \u001b[0;31m#grab the column names\u001b[0m\u001b[0;34m\u001b[0m\u001b[0;34m\u001b[0m\u001b[0m\n",
            "\u001b[0;31mProgrammingError\u001b[0m: relation \"datasets.nfl_combine\" does not exist\nLINE 2:             SELECT *  FROM datasets.nfl_combine; \n                                   ^\n"
          ]
        }
      ]
    },
    {
      "cell_type": "code",
      "metadata": {
        "colab_type": "code",
        "id": "1MR0nfENVIKf",
        "outputId": "9531ca47-c880-4063-a914-9982fe334d24",
        "colab": {
          "base_uri": "https://localhost:8080/",
          "height": 167
        }
      },
      "source": [
        "data.head()"
      ],
      "execution_count": 38,
      "outputs": [
        {
          "output_type": "error",
          "ename": "NameError",
          "evalue": "ignored",
          "traceback": [
            "\u001b[0;31m---------------------------------------------------------------------------\u001b[0m",
            "\u001b[0;31mNameError\u001b[0m                                 Traceback (most recent call last)",
            "\u001b[0;32m<ipython-input-38-304fa4ce4ebd>\u001b[0m in \u001b[0;36m<module>\u001b[0;34m()\u001b[0m\n\u001b[0;32m----> 1\u001b[0;31m \u001b[0mdata\u001b[0m\u001b[0;34m.\u001b[0m\u001b[0mhead\u001b[0m\u001b[0;34m(\u001b[0m\u001b[0;34m)\u001b[0m\u001b[0;34m\u001b[0m\u001b[0;34m\u001b[0m\u001b[0m\n\u001b[0m",
            "\u001b[0;31mNameError\u001b[0m: name 'data' is not defined"
          ]
        }
      ]
    },
    {
      "cell_type": "markdown",
      "metadata": {
        "colab_type": "text",
        "id": "j1MnApx1VIKk"
      },
      "source": [
        "#### Example #1\n",
        "\n",
        "Turn name to upper case letters\n",
        "\n",
        "Here we see a practical example of function references.\n",
        "\n",
        "As the reference we use `str.upper` which just makes all characters uppercase.\n",
        "\n",
        "The `apply` function of a Series applies/calls the function on each item and stores the result in a new Series.\n",
        "\n",
        "We use the Series which is behind the column called name."
      ]
    },
    {
      "cell_type": "code",
      "metadata": {
        "colab_type": "code",
        "id": "9btSZmQ2VIKl",
        "outputId": "f72af4d1-46d6-4b09-e8d0-2851cdff5e28",
        "colab": {}
      },
      "source": [
        "data.name.apply(str.upper).head() "
      ],
      "execution_count": 0,
      "outputs": [
        {
          "output_type": "execute_result",
          "data": {
            "text/plain": [
              "0    AMEER ABDULLAH\n",
              "1    NELSON AGHOLOR\n",
              "2         JAY AJAYI\n",
              "3    KWON ALEXANDER\n",
              "4      MARIO ALFORD\n",
              "Name: name, dtype: object"
            ]
          },
          "metadata": {
            "tags": []
          },
          "execution_count": 17
        }
      ]
    },
    {
      "cell_type": "markdown",
      "metadata": {
        "colab_type": "text",
        "id": "tjukAotDVIKp"
      },
      "source": [
        "#### Example #2\n",
        "\n",
        "Reverse order of first and last name with lambda\n",
        "\n",
        "Here we used a lambda function.\n",
        "\n",
        "This time apply works over rows (axis = 1) but the logic is the same."
      ]
    },
    {
      "cell_type": "code",
      "metadata": {
        "colab_type": "code",
        "id": "TJ0STRnCVIKp",
        "outputId": "e610bdc3-820f-4671-aaca-c6b86d4fe70c",
        "colab": {}
      },
      "source": [
        "data.apply(lambda row: '{1}, {0}'.format(row['lastname'], row['firstname']), axis=1).head()"
      ],
      "execution_count": 0,
      "outputs": [
        {
          "output_type": "execute_result",
          "data": {
            "text/plain": [
              "0    Ameer, Abdullah\n",
              "1    Nelson, Agholor\n",
              "2         Jay, Ajayi\n",
              "3    Kwon, Alexander\n",
              "4      Mario, Alford\n",
              "dtype: object"
            ]
          },
          "metadata": {
            "tags": []
          },
          "execution_count": 18
        }
      ]
    },
    {
      "cell_type": "markdown",
      "metadata": {
        "id": "aaiC4J2TN4TH",
        "colab_type": "text"
      },
      "source": [
        "#### Example #3\n",
        "\n",
        "Reverse order of first and last name with named functions and references."
      ]
    },
    {
      "cell_type": "code",
      "metadata": {
        "id": "MaffNIWWN4TJ",
        "colab_type": "code",
        "outputId": "59594ba9-aed6-4a2b-dd61-d7bb4af97946",
        "colab": {}
      },
      "source": [
        "def name_reverse(row):\n",
        "    return '{1}, {0}'.format(row['lastname'], row['firstname'])\n",
        "\n",
        "data.apply(name_reverse, axis=1).head()"
      ],
      "execution_count": 0,
      "outputs": [
        {
          "output_type": "execute_result",
          "data": {
            "text/plain": [
              "0    Ameer, Abdullah\n",
              "1    Nelson, Agholor\n",
              "2         Jay, Ajayi\n",
              "3    Kwon, Alexander\n",
              "4      Mario, Alford\n",
              "dtype: object"
            ]
          },
          "metadata": {
            "tags": []
          },
          "execution_count": 19
        }
      ]
    },
    {
      "cell_type": "markdown",
      "metadata": {
        "id": "AJxYAuo2N4TM",
        "colab_type": "text"
      },
      "source": [
        "### Exercises"
      ]
    },
    {
      "cell_type": "markdown",
      "metadata": {
        "id": "ZrutrkmzN4TN",
        "colab_type": "text"
      },
      "source": [
        "#### Exercise #1\n",
        "\n",
        "Label colleges as Ivy League or not Ivy League"
      ]
    },
    {
      "cell_type": "code",
      "metadata": {
        "id": "GlTYdu1GN4TO",
        "colab_type": "code",
        "colab": {}
      },
      "source": [
        "def label_ivy_league(college_name):\n",
        "    ivy_colleges = [\"Brown\", \"Columbia\", \"Cornell\", \"Dartmouth\", \"Harvard\", \"Pennsylvania\", \"Princeton\", \"Yale\"]\n",
        "    \n",
        "    if college_name in ivy_colleges:\n",
        "        return 'Ivy League'\n",
        "    else:\n",
        "        return 'Not Ivy League'\n",
        "    \n",
        "data.college.apply(label_ivy_league)"
      ],
      "execution_count": 0,
      "outputs": []
    },
    {
      "cell_type": "markdown",
      "metadata": {
        "id": "FqSUtwlhN4TP",
        "colab_type": "text"
      },
      "source": [
        "#### Exercise #2\n",
        "\n",
        "Convert between lambda and named function and vice versa\n",
        "\n",
        "`lambda line: len(line.replace('\\n', '').split(' '))`\n",
        "\n",
        "def rotate2(message):\n",
        "    a = message.pop()\n",
        "    b = message.pop()\n",
        "    \n",
        "    message = message + [a, b]\n",
        "    \n",
        "    return message\n",
        "    \n",
        "Hint 1: rotate2(['h', 'e', 'l', 'l', 'o']) is ['h', 'e', 'l', 'o', 'l']\n",
        "\n",
        "Hint 2: when using + lists are concatenated together (e.g. [1, 2, 3] + [4, 5, 6] = [1, 2, 3, 4, 5, 6]"
      ]
    },
    {
      "cell_type": "code",
      "metadata": {
        "id": "QDUoEMyiN4TQ",
        "colab_type": "code",
        "colab": {}
      },
      "source": [
        "# Lambda to named function\n",
        "def count_words(line):\n",
        "    line = line.replace('\\n', '')\n",
        "    words = line.split(' ')\n",
        "    count = len(words)\n",
        "    return count\n",
        "\n",
        "# named function to lambda\n",
        "def rotate2(message):\n",
        "    a = message.pop()\n",
        "    b = message.pop()\n",
        "    \n",
        "    message = message + [a, b]\n",
        "    \n",
        "    return message\n",
        "\n",
        "print(rotate2(['h', 'e', 'l', 'l', 'o']))\n",
        "\n",
        "lambda message: message + [message.pop(), message.pop()]"
      ],
      "execution_count": 0,
      "outputs": []
    },
    {
      "cell_type": "markdown",
      "metadata": {
        "id": "ukQ6fHXjN4TS",
        "colab_type": "text"
      },
      "source": [
        "#### Exercise #3\n",
        "\n",
        "Use apply over a row\n",
        "\n",
        "Make a description of each player using their name, college and position attributes.\n",
        "\n",
        "Hint: Use a lambda"
      ]
    },
    {
      "cell_type": "code",
      "metadata": {
        "id": "AB4TXoUWN4TT",
        "colab_type": "code",
        "colab": {}
      },
      "source": [
        "data.apply(lambda row: '{0}, from {1}, is playing as {2}'.format(row['name'], row.college, row.position), axis=1)"
      ],
      "execution_count": 0,
      "outputs": []
    },
    {
      "cell_type": "markdown",
      "metadata": {
        "colab_type": "text",
        "id": "Ouw_RUmyVIKr"
      },
      "source": [
        "## For loops"
      ]
    },
    {
      "cell_type": "markdown",
      "metadata": {
        "colab_type": "text",
        "id": "Irr7mMhXVIKs"
      },
      "source": [
        "For loops are an essential piece of the programming puzzle because they allow us to process unlimited amounts of data. \n",
        "\n",
        "In python for loops have the syntactic structure:\n",
        "\n",
        "```\n",
        "for x in iterable:\n",
        "    do something with x\n",
        "```\n",
        "    \n",
        "There are many iterables in python but for now we will stick with the two main ones:\n",
        "- list\n",
        "- range\n",
        "\n",
        "In the following example we see a loop over a list where we just print each element."
      ]
    },
    {
      "cell_type": "code",
      "metadata": {
        "colab_type": "code",
        "id": "sMndry-JVIKs",
        "outputId": "136e8640-b9e8-4561-b8d3-82bbd7f1169b",
        "colab": {
          "base_uri": "https://localhost:8080/",
          "height": 87
        }
      },
      "source": [
        "languages = [\"C\", \"C++\", \"Perl\", \"Python\"]\n",
        "for x in languages:\n",
        "    print(x)"
      ],
      "execution_count": 44,
      "outputs": [
        {
          "output_type": "stream",
          "text": [
            "C\n",
            "C++\n",
            "Perl\n",
            "Python\n"
          ],
          "name": "stdout"
        }
      ]
    },
    {
      "cell_type": "markdown",
      "metadata": {
        "colab_type": "text",
        "id": "iqsvGWwNVIKv"
      },
      "source": [
        "#### More complicated For loop\n",
        "\n",
        "In programming all loops can end in one of two ways:\n",
        "- When the iterable is finished (for example we reached end of list)\n",
        "- Forcefully using break\n",
        "\n",
        "In this example we forcefully exit a loop using break if we reach spam in our list of edibles.\n",
        "\n",
        "You can also notice the added construction `else:`. This else is not linked to the `if` above it but to the `for`. You can see that by tracing the lines of indentation.\n",
        "\n",
        "So what does that mean? It means that if the loop ended naturally (without break) the code in `else` section will be executed."
      ]
    },
    {
      "cell_type": "code",
      "metadata": {
        "colab_type": "code",
        "id": "vM1HGaBNVIKw",
        "outputId": "573a1ec1-d09d-4f85-83c3-5490083257bf",
        "colab": {
          "base_uri": "https://localhost:8080/",
          "height": 105
        }
      },
      "source": [
        "edibles = [\"ham\",\"eggs\",\"nuts\"]\n",
        "for food in edibles:\n",
        "    if food == \"spam\":\n",
        "        print(\"No more spam please!\")\n",
        "        break\n",
        "    print(\"Great, delicious {0}\".format(food))\n",
        "else:\n",
        "    print(\"I am so glad: No spam!\")\n",
        "    \n",
        "print(\"Finally, I finished stuffing myself\")"
      ],
      "execution_count": 45,
      "outputs": [
        {
          "output_type": "stream",
          "text": [
            "Great, delicious ham\n",
            "Great, delicious eggs\n",
            "Great, delicious nuts\n",
            "I am so glad: No spam!\n",
            "Finally, I finished stuffing myself\n"
          ],
          "name": "stdout"
        }
      ]
    },
    {
      "cell_type": "markdown",
      "metadata": {
        "id": "g9aN-cSxN4Ty",
        "colab_type": "text"
      },
      "source": [
        "#### Range iterable\n",
        "\n",
        "```\n",
        "for x in range(1, 5):\n",
        "    print(x)\n",
        "```\n",
        "\n",
        "will print 1, print 2, print 3, print 4 but not 5.\n",
        "\n",
        "Thus `range(start, end)` is the only way to iterate over a sequence of numbers using vanilla python (in numpy there is arange function).\n",
        "\n",
        "There is also a version of range which takes a step parameter: `range(start, end, step)`"
      ]
    },
    {
      "cell_type": "code",
      "metadata": {
        "id": "6AeVUox1N4T2",
        "colab_type": "code",
        "outputId": "31fc9743-bd95-40a9-c231-fb2a4deeea12",
        "colab": {
          "base_uri": "https://localhost:8080/",
          "height": 87
        }
      },
      "source": [
        "for x in range(1, 5):\n",
        "    print(x)"
      ],
      "execution_count": 46,
      "outputs": [
        {
          "output_type": "stream",
          "text": [
            "1\n",
            "2\n",
            "3\n",
            "4\n"
          ],
          "name": "stdout"
        }
      ]
    },
    {
      "cell_type": "markdown",
      "metadata": {
        "id": "kfXPl3zHN4T5",
        "colab_type": "text"
      },
      "source": [
        "#### Nested for loops\n",
        "\n",
        "Sometimes we want to iterate in more than a single dimension (e.g. we need to work with matrices).\n",
        "\n",
        "To do that we have to use nested for loops."
      ]
    },
    {
      "cell_type": "code",
      "metadata": {
        "id": "xGJYvioIN4T5",
        "colab_type": "code",
        "outputId": "0375bbda-ab6f-468d-d620-bdc4c04073f2",
        "colab": {
          "base_uri": "https://localhost:8080/",
          "height": 283
        }
      },
      "source": [
        "for x in range(0, 5):\n",
        "    for y in range(0, 3):\n",
        "        print(\"ROW {0} COLUMN {1}\".format(x, y))"
      ],
      "execution_count": 47,
      "outputs": [
        {
          "output_type": "stream",
          "text": [
            "ROW 0 COLUMN 0\n",
            "ROW 0 COLUMN 1\n",
            "ROW 0 COLUMN 2\n",
            "ROW 1 COLUMN 0\n",
            "ROW 1 COLUMN 1\n",
            "ROW 1 COLUMN 2\n",
            "ROW 2 COLUMN 0\n",
            "ROW 2 COLUMN 1\n",
            "ROW 2 COLUMN 2\n",
            "ROW 3 COLUMN 0\n",
            "ROW 3 COLUMN 1\n",
            "ROW 3 COLUMN 2\n",
            "ROW 4 COLUMN 0\n",
            "ROW 4 COLUMN 1\n",
            "ROW 4 COLUMN 2\n"
          ],
          "name": "stdout"
        }
      ]
    },
    {
      "cell_type": "markdown",
      "metadata": {
        "id": "rj-kFijbN4T7",
        "colab_type": "text"
      },
      "source": [
        "### Exercises"
      ]
    },
    {
      "cell_type": "markdown",
      "metadata": {
        "id": "M0ffcPtON4T8",
        "colab_type": "text"
      },
      "source": [
        "#### Exercise #1\n",
        "\n",
        "Iterate over triples of numbers in a list, sum them up and print the result.\n",
        "\n",
        "[2, 4, 6, 8, 10] => [2 + 4 + 6, 4 + 6 + 8, 6 + 8 + 10]\n",
        "\n",
        "Hint: use the range function"
      ]
    },
    {
      "cell_type": "code",
      "metadata": {
        "id": "ZzxygNXHN4T9",
        "colab_type": "code",
        "colab": {
          "base_uri": "https://localhost:8080/",
          "height": 70
        },
        "outputId": "cee78b3e-dc40-47e2-bab6-af18cef88b1f"
      },
      "source": [
        "\n",
        "# 2 4 6\n",
        "# 4 6 8\n",
        "# 6 8 10\n",
        "\n",
        "numbers = [2, 4, 6, 8, 10]\n",
        "\n",
        "for i in range(0, len(numbers) - 2):\n",
        "    a = numbers[i]\n",
        "    b = numbers[i + 1]\n",
        "    c = numbers[i + 2]\n",
        "    \n",
        "    print(a + b + c)"
      ],
      "execution_count": 52,
      "outputs": [
        {
          "output_type": "stream",
          "text": [
            "12\n",
            "18\n",
            "24\n"
          ],
          "name": "stdout"
        }
      ]
    },
    {
      "cell_type": "markdown",
      "metadata": {
        "id": "xNTqbUOCN4UA",
        "colab_type": "text"
      },
      "source": [
        "#### Exercise #2\n",
        "\n",
        "You are given two lists, one containg fruit names and other containing the sweetness level of each fruit. Your goal is to print out each fruit along with a binary information about its sweetness (SOUR if sweetness is below 0.5 else SWEET).\n",
        "\n",
        "Hint: Use range and index the two lists using the `i` from range. Use the len function."
      ]
    },
    {
      "cell_type": "code",
      "metadata": {
        "id": "sdGilQnuN4UB",
        "colab_type": "code",
        "colab": {
          "base_uri": "https://localhost:8080/",
          "height": 87
        },
        "outputId": "6f7cc79d-fa78-44dc-b7d2-623a1b3edc35"
      },
      "source": [
        "fruitlist=['apple','orange','banana','bitterguard']\n",
        "sweetlist=[0.6,0.5,0.5, 0.1]\n",
        "\n",
        "ind=\"SWEET\"\n",
        "for a,b in (zip(fruitlist, sweetlist)):\n",
        "  if b<0.5:\n",
        "    ind=\"SOUR\"\n",
        "  else:\n",
        "    ind=\"SWEET\"\n",
        "\n",
        "  print (\"{} is {}\".format(a, ind))"
      ],
      "execution_count": 56,
      "outputs": [
        {
          "output_type": "stream",
          "text": [
            "apple is SWEET\n",
            "orange is SWEET\n",
            "banana is SWEET\n",
            "bitterguard is SOUR\n"
          ],
          "name": "stdout"
        }
      ]
    },
    {
      "cell_type": "markdown",
      "metadata": {
        "id": "5oy_1ys5N4UF",
        "colab_type": "text"
      },
      "source": [
        "#### Exercise #3\n",
        "\n",
        "Print out the multiplication of every combination of first 5 odd and first 5 even numbers.\n",
        "\n",
        "[1, 3, 5] and [2, 4, 6] would give `1 * 2, 1 * 4, 1 * 6, 3 * 2, 3 * 4, 3 * 6` and so on\n",
        "\n",
        "Hint  : Use a nested for loop\n",
        "\n",
        "Hint 2: Use a range with step or a manually created list"
      ]
    },
    {
      "cell_type": "code",
      "metadata": {
        "id": "xilHIcRAN4UG",
        "colab_type": "code",
        "colab": {
          "base_uri": "https://localhost:8080/",
          "height": 34
        },
        "outputId": "9b33c8f1-e753-49a3-e123-291363edc3af"
      },
      "source": [
        "list1=[1,3,5]\n",
        "list2=[2,4,6]\n",
        "\n",
        "result=[]\n",
        "for elem1 in list1:\n",
        "  for elem2 in list2:\n",
        "    result.append(elem1*elem2)\n",
        "\n",
        "print(result)"
      ],
      "execution_count": 57,
      "outputs": [
        {
          "output_type": "stream",
          "text": [
            "[2, 4, 6, 6, 12, 18, 10, 20, 30]\n"
          ],
          "name": "stdout"
        }
      ]
    },
    {
      "cell_type": "markdown",
      "metadata": {
        "colab_type": "text",
        "id": "j8Q5__xvVIKy"
      },
      "source": [
        "### List Comprehensions\n",
        "List comprehensions are compact lines of code that have the same functionality as longer lines of code.  They're harder to read at first, but they end up saving lots of unnecessary loops of code."
      ]
    },
    {
      "cell_type": "markdown",
      "metadata": {
        "colab_type": "text",
        "id": "Jwuo5h2yVIKy"
      },
      "source": [
        "#### List Comprehension Example #1\n",
        "Long format"
      ]
    },
    {
      "cell_type": "code",
      "metadata": {
        "colab_type": "code",
        "id": "HF35lK_dVIKz",
        "outputId": "07b3324c-49ba-4a43-c3fc-65142fed4ba9",
        "colab": {
          "base_uri": "https://localhost:8080/",
          "height": 34
        }
      },
      "source": [
        "example_1 = []\n",
        "for x in [1,2,3,4]:\n",
        "    calculation = x ** 2\n",
        "    example_1.append(calculation)\n",
        "print(example_1)"
      ],
      "execution_count": 58,
      "outputs": [
        {
          "output_type": "stream",
          "text": [
            "[1, 4, 9, 16]\n"
          ],
          "name": "stdout"
        }
      ]
    },
    {
      "cell_type": "markdown",
      "metadata": {
        "colab_type": "text",
        "id": "ve3laSTyVIK5"
      },
      "source": [
        "List comprehension"
      ]
    },
    {
      "cell_type": "code",
      "metadata": {
        "colab_type": "code",
        "id": "sbeVOuavVIK6",
        "outputId": "573a92b8-5158-4b5b-c633-0de08fe000d7",
        "colab": {
          "base_uri": "https://localhost:8080/",
          "height": 34
        }
      },
      "source": [
        "[x ** 2 for x in [1,2,3,4]]"
      ],
      "execution_count": 59,
      "outputs": [
        {
          "output_type": "execute_result",
          "data": {
            "text/plain": [
              "[1, 4, 9, 16]"
            ]
          },
          "metadata": {
            "tags": []
          },
          "execution_count": 59
        }
      ]
    },
    {
      "cell_type": "markdown",
      "metadata": {
        "colab_type": "text",
        "id": "X8XFtKGsVIK8"
      },
      "source": [
        "#### List Comprehension Example #2\n",
        "Long format"
      ]
    },
    {
      "cell_type": "code",
      "metadata": {
        "colab_type": "code",
        "id": "RrXZnKayVIK8",
        "outputId": "e223dc8b-f4c9-4067-c174-99273e2c1f6a",
        "colab": {}
      },
      "source": [
        "example_2 = []\n",
        "for x in [1,2,3,4]:\n",
        "    if x%2 == 0:\n",
        "        example_2.append(x)\n",
        "print (example_2)"
      ],
      "execution_count": 0,
      "outputs": [
        {
          "output_type": "stream",
          "text": [
            "[2, 4]\n"
          ],
          "name": "stdout"
        }
      ]
    },
    {
      "cell_type": "markdown",
      "metadata": {
        "colab_type": "text",
        "id": "kexmo51zVIK_"
      },
      "source": [
        "List comprehension"
      ]
    },
    {
      "cell_type": "code",
      "metadata": {
        "colab_type": "code",
        "id": "N5BIZmr7VILA",
        "outputId": "40d218b2-1693-48dc-8897-f971a728da30",
        "colab": {
          "base_uri": "https://localhost:8080/",
          "height": 34
        }
      },
      "source": [
        "[x for x in [1,2,3,4] if x%2 == 0]"
      ],
      "execution_count": 60,
      "outputs": [
        {
          "output_type": "execute_result",
          "data": {
            "text/plain": [
              "[2, 4]"
            ]
          },
          "metadata": {
            "tags": []
          },
          "execution_count": 60
        }
      ]
    },
    {
      "cell_type": "markdown",
      "metadata": {
        "colab_type": "text",
        "id": "r-HzqFkoVILE"
      },
      "source": [
        "#### List Comprehension Example #3\n",
        "Long format"
      ]
    },
    {
      "cell_type": "code",
      "metadata": {
        "colab_type": "code",
        "id": "RkUbdeMwVILa",
        "outputId": "7e6084a6-00f0-4aed-ef40-d1063fd10245",
        "colab": {}
      },
      "source": [
        "example_3 = []\n",
        "for x in [1,2,3,4]:\n",
        "    if x%2==0:\n",
        "        example_3.append('even')\n",
        "    else:\n",
        "        example_3.append('odd')\n",
        "print(example_3)"
      ],
      "execution_count": 0,
      "outputs": [
        {
          "output_type": "stream",
          "text": [
            "['odd', 'even', 'odd', 'even']\n"
          ],
          "name": "stdout"
        }
      ]
    },
    {
      "cell_type": "markdown",
      "metadata": {
        "colab_type": "text",
        "id": "pZqhcaGgVILc"
      },
      "source": [
        "List comprehension"
      ]
    },
    {
      "cell_type": "code",
      "metadata": {
        "colab_type": "code",
        "id": "JJgm9BFcVILd",
        "outputId": "170f1529-97a4-4637-8599-6f22d288a97c",
        "colab": {
          "base_uri": "https://localhost:8080/",
          "height": 34
        }
      },
      "source": [
        "['even' if x%2==0 else 'odd' for x in [1,2,3,4]]"
      ],
      "execution_count": 61,
      "outputs": [
        {
          "output_type": "execute_result",
          "data": {
            "text/plain": [
              "['odd', 'even', 'odd', 'even']"
            ]
          },
          "metadata": {
            "tags": []
          },
          "execution_count": 61
        }
      ]
    },
    {
      "cell_type": "markdown",
      "metadata": {
        "id": "NHbOBTGTN4U5",
        "colab_type": "text"
      },
      "source": [
        "#### Short form if\n",
        "\n",
        "You can see that we use the short form of if in list comprehensions.\n",
        "\n",
        "The syntax is: `result_true if condition else result_false`\n",
        "\n",
        "The following two blocks of code are equivalent.\n",
        "\n",
        "```\n",
        "if condition:\n",
        "    result_true\n",
        "else:\n",
        "    result_false\n",
        "```\n",
        "\n",
        "```result_true if condition else result_false```"
      ]
    },
    {
      "cell_type": "markdown",
      "metadata": {
        "id": "fGbN7zE0N4U7",
        "colab_type": "text"
      },
      "source": [
        "## Using functions and loops to clean data"
      ]
    },
    {
      "cell_type": "markdown",
      "metadata": {
        "id": "NHxkSRwuN4U_",
        "colab_type": "text"
      },
      "source": [
        "### Really messy dataset\n",
        "\n",
        "We must load a new dataset where we can showcase how to apply our newfound knowlegde to clean data.\n",
        "\n",
        "And as a bonus I will use a function to do so. You can reuse this function to load your own datasets from StrataScratch."
      ]
    },
    {
      "cell_type": "code",
      "metadata": {
        "scrolled": true,
        "id": "E7eYLwn7N4VC",
        "colab_type": "code",
        "outputId": "36f6bfdf-1d0a-4338-f318-a50a263a2649",
        "colab": {
          "base_uri": "https://localhost:8080/",
          "height": 487
        }
      },
      "source": [
        "host_name = 'db-strata.stratascratch.com'\n",
        "dbname = 'db_strata'\n",
        "port = '5432'\n",
        "user_name='ankit082006'\n",
        "pwd='ofkMQPktC'\n",
        "\n",
        "try:\n",
        "    conn = ps.connect(host=host_name,database=dbname,user=user_name,password=pwd,port=port)\n",
        "except ps.OperationalError as e:\n",
        "    raise e\n",
        "else:\n",
        "    print('Connected!')\n",
        "\n",
        "def get_dataset(dataset_name):\n",
        "    #Write SQL below to pull datasets \n",
        "    cur = conn.cursor()\n",
        "    cur.execute(\"\"\" \n",
        "                SELECT *  FROM datasets.{0}; \n",
        "                \"\"\".format(dataset_name))\n",
        "    data = cur.fetchall()\n",
        "    colnames = [desc[0] for desc in cur.description] \n",
        "    conn.commit()\n",
        "\n",
        "    #create the pandas dataframe\n",
        "    dataframe = pd.DataFrame(data, columns=colnames)\n",
        "\n",
        "    #close the connection\n",
        "    cur.close()\n",
        "    \n",
        "    return dataframe\n",
        "\n",
        "innerwear_amazon = get_dataset(\"innerwear_amazon_com\")\n",
        "\n",
        "innerwear_amazon.head()"
      ],
      "execution_count": 63,
      "outputs": [
        {
          "output_type": "stream",
          "text": [
            "ERROR:root:An unexpected error occurred while tokenizing input\n",
            "The following traceback may be corrupted or invalid\n",
            "The error message is: ('EOF in multi-line string', (1, 16))\n",
            "\n"
          ],
          "name": "stderr"
        },
        {
          "output_type": "stream",
          "text": [
            "Connected!\n"
          ],
          "name": "stdout"
        },
        {
          "output_type": "error",
          "ename": "ProgrammingError",
          "evalue": "ignored",
          "traceback": [
            "\u001b[0;31m---------------------------------------------------------------------------\u001b[0m",
            "\u001b[0;31mProgrammingError\u001b[0m                          Traceback (most recent call last)",
            "\u001b[0;32m<ipython-input-63-7f1c4a939e85>\u001b[0m in \u001b[0;36m<module>\u001b[0;34m()\u001b[0m\n\u001b[1;32m     30\u001b[0m     \u001b[0;32mreturn\u001b[0m \u001b[0mdataframe\u001b[0m\u001b[0;34m\u001b[0m\u001b[0;34m\u001b[0m\u001b[0m\n\u001b[1;32m     31\u001b[0m \u001b[0;34m\u001b[0m\u001b[0m\n\u001b[0;32m---> 32\u001b[0;31m \u001b[0minnerwear_amazon\u001b[0m \u001b[0;34m=\u001b[0m \u001b[0mget_dataset\u001b[0m\u001b[0;34m(\u001b[0m\u001b[0;34m\"innerwear_amazon_com\"\u001b[0m\u001b[0;34m)\u001b[0m\u001b[0;34m\u001b[0m\u001b[0;34m\u001b[0m\u001b[0m\n\u001b[0m\u001b[1;32m     33\u001b[0m \u001b[0;34m\u001b[0m\u001b[0m\n\u001b[1;32m     34\u001b[0m \u001b[0minnerwear_amazon\u001b[0m\u001b[0;34m.\u001b[0m\u001b[0mhead\u001b[0m\u001b[0;34m(\u001b[0m\u001b[0;34m)\u001b[0m\u001b[0;34m\u001b[0m\u001b[0;34m\u001b[0m\u001b[0m\n",
            "\u001b[0;32m<ipython-input-63-7f1c4a939e85>\u001b[0m in \u001b[0;36mget_dataset\u001b[0;34m(dataset_name)\u001b[0m\n\u001b[1;32m     17\u001b[0m     cur.execute(\"\"\" \n\u001b[1;32m     18\u001b[0m                 \u001b[0mSELECT\u001b[0m \u001b[0;34m*\u001b[0m  \u001b[0mFROM\u001b[0m \u001b[0mdatasets\u001b[0m\u001b[0;34m.\u001b[0m\u001b[0;34m{\u001b[0m\u001b[0;36m0\u001b[0m\u001b[0;34m}\u001b[0m\u001b[0;34m;\u001b[0m\u001b[0;34m\u001b[0m\u001b[0;34m\u001b[0m\u001b[0m\n\u001b[0;32m---> 19\u001b[0;31m                 \"\"\".format(dataset_name))\n\u001b[0m\u001b[1;32m     20\u001b[0m     \u001b[0mdata\u001b[0m \u001b[0;34m=\u001b[0m \u001b[0mcur\u001b[0m\u001b[0;34m.\u001b[0m\u001b[0mfetchall\u001b[0m\u001b[0;34m(\u001b[0m\u001b[0;34m)\u001b[0m\u001b[0;34m\u001b[0m\u001b[0;34m\u001b[0m\u001b[0m\n\u001b[1;32m     21\u001b[0m     \u001b[0mcolnames\u001b[0m \u001b[0;34m=\u001b[0m \u001b[0;34m[\u001b[0m\u001b[0mdesc\u001b[0m\u001b[0;34m[\u001b[0m\u001b[0;36m0\u001b[0m\u001b[0;34m]\u001b[0m \u001b[0;32mfor\u001b[0m \u001b[0mdesc\u001b[0m \u001b[0;32min\u001b[0m \u001b[0mcur\u001b[0m\u001b[0;34m.\u001b[0m\u001b[0mdescription\u001b[0m\u001b[0;34m]\u001b[0m\u001b[0;34m\u001b[0m\u001b[0;34m\u001b[0m\u001b[0m\n",
            "\u001b[0;31mProgrammingError\u001b[0m: relation \"datasets.innerwear_amazon_com\" does not exist\nLINE 2:                 SELECT *  FROM datasets.innerwear_amazon_com...\n                                       ^\n"
          ]
        }
      ]
    },
    {
      "cell_type": "code",
      "metadata": {
        "id": "c1b0yaa4N4VX",
        "colab_type": "code",
        "outputId": "1265d7b3-a6d8-44a7-8c39-0b1baa18fd97",
        "colab": {}
      },
      "source": [
        "innerwear_amazon.dtypes"
      ],
      "execution_count": 0,
      "outputs": [
        {
          "output_type": "execute_result",
          "data": {
            "text/plain": [
              "product_name        object\n",
              "mrp                 object\n",
              "price               object\n",
              "pdp_url             object\n",
              "brand_name          object\n",
              "product_category    object\n",
              "retailer            object\n",
              "description         object\n",
              "rating              object\n",
              "review_count         int64\n",
              "style_attributes    object\n",
              "total_sizes         object\n",
              "available_size      object\n",
              "color               object\n",
              "dtype: object"
            ]
          },
          "metadata": {
            "tags": []
          },
          "execution_count": 37
        }
      ]
    },
    {
      "cell_type": "markdown",
      "metadata": {
        "id": "S7RFfH5rN4VZ",
        "colab_type": "text"
      },
      "source": [
        "**This tutorial is assuming you have some experience with regular expressions and that you have read the guide for cleaning data in pandas.**\n",
        "- https://colab.research.google.com/drive/1TlPeG9clc2UOE-pXteTRfy8CkfVbQn-p"
      ]
    },
    {
      "cell_type": "code",
      "metadata": {
        "id": "ZhH7jzsrN4Va",
        "colab_type": "code",
        "colab": {}
      },
      "source": [
        "import re"
      ],
      "execution_count": 0,
      "outputs": []
    },
    {
      "cell_type": "markdown",
      "metadata": {
        "id": "RpPeXV6FN4Vg",
        "colab_type": "text"
      },
      "source": [
        "#### Example 1\n",
        "\n",
        "Fix prices (price and mrp columns) to become numbers and of type float64."
      ]
    },
    {
      "cell_type": "code",
      "metadata": {
        "id": "ETO1u6aBN4Vi",
        "colab_type": "code",
        "outputId": "44f678d9-d84e-4fea-f8a5-865fc7a5a503",
        "colab": {}
      },
      "source": [
        "# get the first element of a list only if it has elements otherwise return NaN\n",
        "def safe_get(list):\n",
        "    if len(list) > 0:\n",
        "        return list[0]\n",
        "    else:\n",
        "        return np.nan\n",
        "\n",
        "# $ is also a special sign and we must escape it in regexp\n",
        "def convert_prices(p):\n",
        "    return safe_get(re.findall(\"\\$(\\d{2}\\.\\d{2})\", p))\n",
        "\n",
        "for column in [\"price\", \"mrp\"]:\n",
        "    innerwear_amazon[column] = innerwear_amazon[column].apply(convert_prices).astype(np.float64)\n",
        "\n",
        "innerwear_amazon.dtypes"
      ],
      "execution_count": 0,
      "outputs": [
        {
          "output_type": "execute_result",
          "data": {
            "text/plain": [
              "product_name         object\n",
              "mrp                 float64\n",
              "price               float64\n",
              "pdp_url              object\n",
              "brand_name           object\n",
              "product_category     object\n",
              "retailer             object\n",
              "description          object\n",
              "rating               object\n",
              "review_count          int64\n",
              "style_attributes     object\n",
              "total_sizes          object\n",
              "available_size       object\n",
              "color                object\n",
              "dtype: object"
            ]
          },
          "metadata": {
            "tags": []
          },
          "execution_count": 39
        }
      ]
    },
    {
      "cell_type": "markdown",
      "metadata": {
        "id": "opkmvsUpN4Vk",
        "colab_type": "text"
      },
      "source": [
        "#### Example 2\n",
        "\n",
        "The `available_size` attribute is a list and of two different variations:\n",
        "- Small, Medium, Large for Panties\n",
        "- 30B, 30C, 30DD etc for Bras\n",
        "\n",
        "For further analysis (let's say we want to count the total number of available Medium Panties or 30D Bras) we want to create new columns called Small, Medium, etc and 32DD, 34C etc and have a value of 1 in the correspondingly named column if that size is present in the list of available sizes.\n",
        "\n",
        "This will be a bigger example and the explanations are in code comments so make sure to take it slowly and go step by step."
      ]
    },
    {
      "cell_type": "code",
      "metadata": {
        "id": "nYIAtnCsN4Vm",
        "colab_type": "code",
        "outputId": "a6c51518-761e-4c88-ced6-c41fc53f3e39",
        "colab": {}
      },
      "source": [
        "all_sizes = innerwear_amazon.available_size\n",
        "\n",
        "# we use this set to store a list of all possible sizes\n",
        "possibles_sizes_set = set()\n",
        "\n",
        "# we can iterate over Series as they are iterables too\n",
        "for sizes_str in all_sizes:\n",
        "    # sizes_str is a string and we make it into a list using split by comma\n",
        "    sizes = sizes_str.split(\",\")\n",
        "    # we now have a list of sizes but they have extra whitespace which we strip away\n",
        "    for size in sizes:\n",
        "        size = size.strip(\" \")\n",
        "        \n",
        "        # we add this size to our set using union and making a one-element set out of size\n",
        "        possibles_sizes_set = possibles_sizes_set.union({ size })\n",
        "    \n",
        "# Now we have a set of all possible sizes which will be the names of our new columns.\n",
        "\n",
        "print(\"The possible sizes are: \")\n",
        "print(possibles_sizes_set)"
      ],
      "execution_count": 0,
      "outputs": [
        {
          "output_type": "stream",
          "text": [
            "The possible sizes are: \n",
            "{'One Size', '36I', '32D', '2X Apparel', '44DD', '38DD', '30DDD', '42G', '36DD', '32DDD', '44H', '2X Plus', '36DDD', 'XL', '34H', '24-26 Plus', '40DDD', '44G', 'Medium', '34A', '42D', '1X Apparel', '38B', 'Small', '40B', '40G', '32H', '34D', '36G', '34DD', '46DD', '44DDD', '36H', '42DD', '46H', '30C', '32', '40I', '40C', '40H', 'S', 'XS', '36C', '36A', '42C', '32DD', '30G', '2X (20W-22W)', '36B', '48H', '40D', '3X Apparel', '32A', '30B', '34', 'X-Large', '32B', 'X-Small', '44D', '38DDD', '34C', '38H', '36', '1X Plus', '38A', 'L', 'Null', '30DD', '38D', '38I', '2X', '44C', 'M', '34I', '36D', '38G', '38C', '46DDD', '34DDD', '40DD', '32C', '1X', 'One Size (fits 0-12)', '42DDD', '38', '46D', 'Large', '30D', '3X', '46G', '32G', '34G', '34B', '42H'}\n"
          ],
          "name": "stdout"
        }
      ]
    },
    {
      "cell_type": "code",
      "metadata": {
        "id": "KRGq1lW8N4Vp",
        "colab_type": "code",
        "outputId": "f3caec58-3781-4cef-cb4a-3e3137d36609",
        "colab": {}
      },
      "source": [
        "# We now build our new dataframe using the data we just got\n",
        "rows = []\n",
        "\n",
        "for sizes_str in all_sizes:\n",
        "    # sizes_str is a string and we make it into a list using split by comma\n",
        "    sizes = sizes_str.split(\",\")\n",
        "    \n",
        "    # now we can use a list comprehension to remove whitespace\n",
        "    sizes = [sz.strip(\" \") for sz in sizes]\n",
        "    \n",
        "    # This is magic for now, just take it that it builds a row whose columns are our sizes\n",
        "    # and whose cells are all 0 and that row is in form of a dictionary.\n",
        "    one_row = dict(zip(possibles_sizes_set, [0] * len(possibles_sizes_set)))\n",
        "    \n",
        "    for size in sizes:\n",
        "        one_row[size] = 1\n",
        "                    \n",
        "    # We store our new row in a list called rows.\n",
        "    rows.append(one_row)\n",
        "    \n",
        "print(\"Example row after sizes are marked\")\n",
        "print(rows[0])"
      ],
      "execution_count": 0,
      "outputs": [
        {
          "output_type": "stream",
          "text": [
            "Example row after sizes are marked\n",
            "{'One Size': 0, '36I': 0, '32D': 1, '2X Apparel': 0, '44DD': 0, '38DD': 0, '30DDD': 0, '42G': 0, '36DD': 0, '32DDD': 0, '44H': 0, '2X Plus': 0, '36DDD': 0, 'XL': 0, '34H': 0, '24-26 Plus': 0, '40DDD': 0, '44G': 0, 'Medium': 0, '34A': 1, '42D': 0, '1X Apparel': 0, '38B': 1, 'Small': 0, '40B': 0, '40G': 0, '32H': 0, '34D': 1, '36G': 0, '34DD': 1, '46DD': 0, '44DDD': 0, '36H': 0, '42DD': 0, '46H': 0, '30C': 1, '32': 0, '40I': 0, '40C': 0, '40H': 0, 'S': 0, 'XS': 0, '36C': 1, '36A': 1, '42C': 0, '32DD': 1, '30G': 0, '2X (20W-22W)': 0, '36B': 1, '48H': 0, '40D': 0, '3X Apparel': 0, '32A': 0, '30B': 1, '34': 0, 'X-Large': 0, '32B': 1, 'X-Small': 0, '44D': 0, '38DDD': 0, '34C': 1, '38H': 0, '36': 0, '1X Plus': 0, '38A': 0, 'L': 0, 'Null': 0, '30DD': 1, '38D': 0, '38I': 0, '2X': 0, '44C': 0, 'M': 0, '34I': 0, '36D': 1, '38G': 0, '38C': 1, '46DDD': 0, '34DDD': 0, '40DD': 0, '32C': 1, '1X': 0, 'One Size (fits 0-12)': 0, '42DDD': 0, '38': 0, '46D': 0, 'Large': 0, '30D': 1, '3X': 0, '46G': 0, '32G': 0, '34G': 0, '34B': 1, '42H': 0}\n"
          ],
          "name": "stdout"
        }
      ]
    },
    {
      "cell_type": "code",
      "metadata": {
        "id": "qiqI2CE4N4Vr",
        "colab_type": "code",
        "outputId": "a03de12e-6119-4861-abb9-403f095a2e7c",
        "colab": {}
      },
      "source": [
        "# We have a list of dictionaries and we must now build a dictionary of lists so we can build a data frame.\n",
        "n_rows = len(rows)\n",
        "\n",
        "# there exist dictionary comprehensions too\n",
        "final_dict = {  size : np.zeros(shape=n_rows, dtype=np.bool)\n",
        "                for size in possibles_sizes_set }\n",
        "\n",
        "# We go row by row to build our final dictionary\n",
        "for i in range(0, n_rows):\n",
        "    # this is how we iterate over dictionaries\n",
        "    for size, present in rows[i].items():\n",
        "        # think of this like a matrix, size is columns, i is rows\n",
        "        final_dict[size][i] = present\n",
        "\n",
        "final_dict"
      ],
      "execution_count": 0,
      "outputs": [
        {
          "output_type": "execute_result",
          "data": {
            "text/plain": [
              "{'1X': array([False, False, False, ..., False, False, False]),\n",
              " '1X Apparel': array([False, False, False, ..., False, False, False]),\n",
              " '1X Plus': array([False, False, False, ..., False, False, False]),\n",
              " '24-26 Plus': array([False, False, False, ..., False, False, False]),\n",
              " '2X': array([False, False, False, ..., False, False, False]),\n",
              " '2X (20W-22W)': array([False, False, False, ..., False, False, False]),\n",
              " '2X Apparel': array([False, False, False, ..., False, False, False]),\n",
              " '2X Plus': array([False, False, False, ..., False, False, False]),\n",
              " '30B': array([ True, False, False, ..., False, False, False]),\n",
              " '30C': array([ True, False, False, ..., False, False, False]),\n",
              " '30D': array([ True, False, False, ..., False, False, False]),\n",
              " '30DD': array([ True, False, False, ..., False, False, False]),\n",
              " '30DDD': array([False, False, False, ..., False, False, False]),\n",
              " '30G': array([False, False, False, ..., False, False, False]),\n",
              " '32': array([False, False, False, ..., False, False, False]),\n",
              " '32A': array([False, False, False, ..., False, False, False]),\n",
              " '32B': array([ True, False, False, ..., False, False, False]),\n",
              " '32C': array([ True, False, False, ..., False,  True, False]),\n",
              " '32D': array([ True, False, False, ...,  True,  True, False]),\n",
              " '32DD': array([ True, False,  True, ...,  True,  True,  True]),\n",
              " '32DDD': array([False, False,  True, ...,  True,  True,  True]),\n",
              " '32G': array([False, False, False, ...,  True,  True, False]),\n",
              " '32H': array([False, False, False, ..., False, False, False]),\n",
              " '34': array([False, False, False, ..., False, False, False]),\n",
              " '34A': array([ True, False, False, ..., False, False, False]),\n",
              " '34B': array([ True, False, False, ..., False,  True, False]),\n",
              " '34C': array([ True, False,  True, ...,  True,  True,  True]),\n",
              " '34D': array([ True, False,  True, ...,  True,  True,  True]),\n",
              " '34DD': array([ True, False,  True, ...,  True,  True,  True]),\n",
              " '34DDD': array([False, False,  True, ...,  True,  True,  True]),\n",
              " '34G': array([False, False, False, ...,  True,  True,  True]),\n",
              " '34H': array([False, False, False, ...,  True, False, False]),\n",
              " '34I': array([False, False, False, ..., False, False, False]),\n",
              " '36': array([False, False, False, ..., False, False, False]),\n",
              " '36A': array([ True, False, False, ..., False, False, False]),\n",
              " '36B': array([ True, False, False, ..., False,  True, False]),\n",
              " '36C': array([ True, False,  True, ...,  True,  True,  True]),\n",
              " '36D': array([ True, False,  True, ...,  True,  True,  True]),\n",
              " '36DD': array([False, False,  True, ...,  True,  True,  True]),\n",
              " '36DDD': array([False, False,  True, ...,  True,  True,  True]),\n",
              " '36G': array([False, False, False, ...,  True,  True, False]),\n",
              " '36H': array([False, False, False, ...,  True, False, False]),\n",
              " '36I': array([False, False, False, ..., False, False, False]),\n",
              " '38': array([False, False, False, ..., False, False, False]),\n",
              " '38A': array([False, False, False, ..., False, False, False]),\n",
              " '38B': array([ True, False, False, ..., False, False, False]),\n",
              " '38C': array([ True, False,  True, ...,  True,  True,  True]),\n",
              " '38D': array([False, False,  True, ...,  True,  True,  True]),\n",
              " '38DD': array([False, False,  True, ...,  True,  True,  True]),\n",
              " '38DDD': array([False, False,  True, ...,  True,  True,  True]),\n",
              " '38G': array([False, False, False, ...,  True, False,  True]),\n",
              " '38H': array([False, False, False, ...,  True, False, False]),\n",
              " '38I': array([False, False, False, ..., False, False, False]),\n",
              " '3X': array([False, False, False, ..., False, False, False]),\n",
              " '3X Apparel': array([False, False, False, ..., False, False, False]),\n",
              " '40B': array([False, False, False, ..., False, False, False]),\n",
              " '40C': array([False, False,  True, ...,  True,  True, False]),\n",
              " '40D': array([False, False, False, ...,  True,  True,  True]),\n",
              " '40DD': array([False, False,  True, ...,  True,  True,  True]),\n",
              " '40DDD': array([False, False,  True, ...,  True,  True,  True]),\n",
              " '40G': array([False, False, False, ...,  True, False, False]),\n",
              " '40H': array([False, False, False, ...,  True, False, False]),\n",
              " '40I': array([False, False, False, ..., False, False, False]),\n",
              " '42C': array([False, False, False, ..., False, False, False]),\n",
              " '42D': array([False, False, False, ...,  True, False,  True]),\n",
              " '42DD': array([False, False, False, ...,  True, False, False]),\n",
              " '42DDD': array([False, False, False, ...,  True, False, False]),\n",
              " '42G': array([False, False, False, ...,  True, False, False]),\n",
              " '42H': array([False, False, False, ..., False, False, False]),\n",
              " '44C': array([False, False, False, ..., False, False, False]),\n",
              " '44D': array([False, False, False, ...,  True, False, False]),\n",
              " '44DD': array([False, False, False, ..., False, False,  True]),\n",
              " '44DDD': array([False, False, False, ...,  True, False, False]),\n",
              " '44G': array([False, False, False, ..., False, False, False]),\n",
              " '44H': array([False, False, False, ..., False, False, False]),\n",
              " '46D': array([False, False, False, ..., False, False, False]),\n",
              " '46DD': array([False, False, False, ..., False, False, False]),\n",
              " '46DDD': array([False, False, False, ..., False, False, False]),\n",
              " '46G': array([False, False, False, ..., False, False, False]),\n",
              " '46H': array([False, False, False, ..., False, False, False]),\n",
              " '48H': array([False, False, False, ..., False, False, False]),\n",
              " 'L': array([False, False, False, ..., False, False, False]),\n",
              " 'Large': array([False, False, False, ..., False, False, False]),\n",
              " 'M': array([False, False, False, ..., False, False, False]),\n",
              " 'Medium': array([False,  True, False, ..., False, False, False]),\n",
              " 'Null': array([False, False, False, ..., False, False, False]),\n",
              " 'One Size': array([False, False, False, ..., False, False, False]),\n",
              " 'One Size (fits 0-12)': array([False, False, False, ..., False, False, False]),\n",
              " 'S': array([False, False, False, ..., False, False, False]),\n",
              " 'Small': array([False,  True, False, ..., False, False, False]),\n",
              " 'X-Large': array([False,  True, False, ..., False, False, False]),\n",
              " 'X-Small': array([False, False, False, ..., False, False, False]),\n",
              " 'XL': array([False, False, False, ..., False, False, False]),\n",
              " 'XS': array([False, False, False, ..., False, False, False])}"
            ]
          },
          "metadata": {
            "tags": []
          },
          "execution_count": 42
        }
      ]
    },
    {
      "cell_type": "code",
      "metadata": {
        "id": "zlAxoORrN4Vu",
        "colab_type": "code",
        "outputId": "f3948e40-a406-42e6-9b42-e7921b2d98e6",
        "colab": {}
      },
      "source": [
        "# Turn our final dictionary to a dataframe\n",
        "sizes_dataframe = pd.DataFrame(final_dict)\n",
        "\n",
        "# Whew no wonder data scientists get over $100k\n",
        "sizes_dataframe.head()"
      ],
      "execution_count": 0,
      "outputs": [
        {
          "output_type": "execute_result",
          "data": {
            "text/html": [
              "<div>\n",
              "<style scoped>\n",
              "    .dataframe tbody tr th:only-of-type {\n",
              "        vertical-align: middle;\n",
              "    }\n",
              "\n",
              "    .dataframe tbody tr th {\n",
              "        vertical-align: top;\n",
              "    }\n",
              "\n",
              "    .dataframe thead th {\n",
              "        text-align: right;\n",
              "    }\n",
              "</style>\n",
              "<table border=\"1\" class=\"dataframe\">\n",
              "  <thead>\n",
              "    <tr style=\"text-align: right;\">\n",
              "      <th></th>\n",
              "      <th>One Size</th>\n",
              "      <th>36I</th>\n",
              "      <th>32D</th>\n",
              "      <th>2X Apparel</th>\n",
              "      <th>44DD</th>\n",
              "      <th>38DD</th>\n",
              "      <th>30DDD</th>\n",
              "      <th>42G</th>\n",
              "      <th>36DD</th>\n",
              "      <th>32DDD</th>\n",
              "      <th>...</th>\n",
              "      <th>38</th>\n",
              "      <th>46D</th>\n",
              "      <th>Large</th>\n",
              "      <th>30D</th>\n",
              "      <th>3X</th>\n",
              "      <th>46G</th>\n",
              "      <th>32G</th>\n",
              "      <th>34G</th>\n",
              "      <th>34B</th>\n",
              "      <th>42H</th>\n",
              "    </tr>\n",
              "  </thead>\n",
              "  <tbody>\n",
              "    <tr>\n",
              "      <th>0</th>\n",
              "      <td>False</td>\n",
              "      <td>False</td>\n",
              "      <td>True</td>\n",
              "      <td>False</td>\n",
              "      <td>False</td>\n",
              "      <td>False</td>\n",
              "      <td>False</td>\n",
              "      <td>False</td>\n",
              "      <td>False</td>\n",
              "      <td>False</td>\n",
              "      <td>...</td>\n",
              "      <td>False</td>\n",
              "      <td>False</td>\n",
              "      <td>False</td>\n",
              "      <td>True</td>\n",
              "      <td>False</td>\n",
              "      <td>False</td>\n",
              "      <td>False</td>\n",
              "      <td>False</td>\n",
              "      <td>True</td>\n",
              "      <td>False</td>\n",
              "    </tr>\n",
              "    <tr>\n",
              "      <th>1</th>\n",
              "      <td>False</td>\n",
              "      <td>False</td>\n",
              "      <td>False</td>\n",
              "      <td>False</td>\n",
              "      <td>False</td>\n",
              "      <td>False</td>\n",
              "      <td>False</td>\n",
              "      <td>False</td>\n",
              "      <td>False</td>\n",
              "      <td>False</td>\n",
              "      <td>...</td>\n",
              "      <td>False</td>\n",
              "      <td>False</td>\n",
              "      <td>False</td>\n",
              "      <td>False</td>\n",
              "      <td>False</td>\n",
              "      <td>False</td>\n",
              "      <td>False</td>\n",
              "      <td>False</td>\n",
              "      <td>False</td>\n",
              "      <td>False</td>\n",
              "    </tr>\n",
              "    <tr>\n",
              "      <th>2</th>\n",
              "      <td>False</td>\n",
              "      <td>False</td>\n",
              "      <td>False</td>\n",
              "      <td>False</td>\n",
              "      <td>False</td>\n",
              "      <td>True</td>\n",
              "      <td>False</td>\n",
              "      <td>False</td>\n",
              "      <td>True</td>\n",
              "      <td>True</td>\n",
              "      <td>...</td>\n",
              "      <td>False</td>\n",
              "      <td>False</td>\n",
              "      <td>False</td>\n",
              "      <td>False</td>\n",
              "      <td>False</td>\n",
              "      <td>False</td>\n",
              "      <td>False</td>\n",
              "      <td>False</td>\n",
              "      <td>False</td>\n",
              "      <td>False</td>\n",
              "    </tr>\n",
              "    <tr>\n",
              "      <th>3</th>\n",
              "      <td>False</td>\n",
              "      <td>False</td>\n",
              "      <td>False</td>\n",
              "      <td>False</td>\n",
              "      <td>False</td>\n",
              "      <td>False</td>\n",
              "      <td>False</td>\n",
              "      <td>False</td>\n",
              "      <td>False</td>\n",
              "      <td>False</td>\n",
              "      <td>...</td>\n",
              "      <td>False</td>\n",
              "      <td>False</td>\n",
              "      <td>False</td>\n",
              "      <td>False</td>\n",
              "      <td>False</td>\n",
              "      <td>False</td>\n",
              "      <td>False</td>\n",
              "      <td>False</td>\n",
              "      <td>False</td>\n",
              "      <td>False</td>\n",
              "    </tr>\n",
              "    <tr>\n",
              "      <th>4</th>\n",
              "      <td>False</td>\n",
              "      <td>False</td>\n",
              "      <td>True</td>\n",
              "      <td>False</td>\n",
              "      <td>False</td>\n",
              "      <td>True</td>\n",
              "      <td>True</td>\n",
              "      <td>False</td>\n",
              "      <td>True</td>\n",
              "      <td>True</td>\n",
              "      <td>...</td>\n",
              "      <td>False</td>\n",
              "      <td>False</td>\n",
              "      <td>False</td>\n",
              "      <td>True</td>\n",
              "      <td>False</td>\n",
              "      <td>False</td>\n",
              "      <td>True</td>\n",
              "      <td>True</td>\n",
              "      <td>False</td>\n",
              "      <td>False</td>\n",
              "    </tr>\n",
              "  </tbody>\n",
              "</table>\n",
              "<p>5 rows × 94 columns</p>\n",
              "</div>"
            ],
            "text/plain": [
              "   One Size    36I    32D  2X Apparel   44DD   38DD  30DDD    42G   36DD  \\\n",
              "0     False  False   True       False  False  False  False  False  False   \n",
              "1     False  False  False       False  False  False  False  False  False   \n",
              "2     False  False  False       False  False   True  False  False   True   \n",
              "3     False  False  False       False  False  False  False  False  False   \n",
              "4     False  False   True       False  False   True   True  False   True   \n",
              "\n",
              "   32DDD  ...       38    46D  Large    30D     3X    46G    32G    34G  \\\n",
              "0  False  ...    False  False  False   True  False  False  False  False   \n",
              "1  False  ...    False  False  False  False  False  False  False  False   \n",
              "2   True  ...    False  False  False  False  False  False  False  False   \n",
              "3  False  ...    False  False  False  False  False  False  False  False   \n",
              "4   True  ...    False  False  False   True  False  False   True   True   \n",
              "\n",
              "     34B    42H  \n",
              "0   True  False  \n",
              "1  False  False  \n",
              "2  False  False  \n",
              "3  False  False  \n",
              "4  False  False  \n",
              "\n",
              "[5 rows x 94 columns]"
            ]
          },
          "metadata": {
            "tags": []
          },
          "execution_count": 43
        }
      ]
    },
    {
      "cell_type": "code",
      "metadata": {
        "id": "rDy91z2vN4Vw",
        "colab_type": "code",
        "outputId": "f96bff3b-89a3-4f30-fe3c-f96a639b337d",
        "colab": {}
      },
      "source": [
        "# Find how many bras are of size 30G\n",
        "print(sizes_dataframe['30G'].sum())\n",
        "# Find out how many panties are Medium\n",
        "print(sizes_dataframe['Medium'].sum())"
      ],
      "execution_count": 0,
      "outputs": [
        {
          "output_type": "stream",
          "text": [
            "1434\n",
            "3625\n"
          ],
          "name": "stdout"
        }
      ]
    },
    {
      "cell_type": "markdown",
      "metadata": {
        "colab_type": "text",
        "id": "qEp8t4Y0VILi"
      },
      "source": [
        "### Exercises"
      ]
    },
    {
      "cell_type": "markdown",
      "metadata": {
        "colab_type": "text",
        "id": "mboBpl4SVILj"
      },
      "source": [
        "#### Exercise #1"
      ]
    },
    {
      "cell_type": "markdown",
      "metadata": {
        "colab_type": "text",
        "id": "epiZEhz8VILk"
      },
      "source": [
        "Create a list comprehension that converts temperatures from Celsius to Fahrenheit for 0 to 100 in increments of 10. (hint: use the range with step function)"
      ]
    },
    {
      "cell_type": "code",
      "metadata": {
        "colab_type": "code",
        "id": "ezpz8Ut6VILl",
        "colab": {
          "base_uri": "https://localhost:8080/",
          "height": 52
        },
        "outputId": "00961c65-c5cb-4d3a-ef0b-9e1002cb09ca"
      },
      "source": [
        "celciuslist=np.arange(10,101, 10)\n",
        "print(celciuslist)\n",
        "\n",
        "farenheightlist=[(x*(9/5)+32) for x in celciuslist ]\n",
        "print(farenheightlist)"
      ],
      "execution_count": 66,
      "outputs": [
        {
          "output_type": "stream",
          "text": [
            "[ 10  20  30  40  50  60  70  80  90 100]\n",
            "[50.0, 68.0, 86.0, 104.0, 122.0, 140.0, 158.0, 176.0, 194.0, 212.0]\n"
          ],
          "name": "stdout"
        }
      ]
    },
    {
      "cell_type": "markdown",
      "metadata": {
        "colab_type": "text",
        "id": "DFE4UovCVILo"
      },
      "source": [
        "Update your list comprehension to check the data type and return an error message if the data type isn't numeric. (hint: range returns integer values)"
      ]
    },
    {
      "cell_type": "code",
      "metadata": {
        "id": "rrOY60eF4-5v",
        "colab_type": "code",
        "colab": {
          "base_uri": "https://localhost:8080/",
          "height": 194
        },
        "outputId": "d5b0d9ca-6029-4a2c-cecc-173a3ad60204"
      },
      "source": [
        "for elem in celciuslist:\n",
        "  print(type(elem))"
      ],
      "execution_count": 69,
      "outputs": [
        {
          "output_type": "stream",
          "text": [
            "<class 'numpy.int64'>\n",
            "<class 'numpy.int64'>\n",
            "<class 'numpy.int64'>\n",
            "<class 'numpy.int64'>\n",
            "<class 'numpy.int64'>\n",
            "<class 'numpy.int64'>\n",
            "<class 'numpy.int64'>\n",
            "<class 'numpy.int64'>\n",
            "<class 'numpy.int64'>\n",
            "<class 'numpy.int64'>\n"
          ],
          "name": "stdout"
        }
      ]
    },
    {
      "cell_type": "code",
      "metadata": {
        "colab_type": "code",
        "id": "ep1uP7hUVILo",
        "colab": {
          "base_uri": "https://localhost:8080/",
          "height": 34
        },
        "outputId": "7a1aed57-256f-47d0-afe7-e5dce04794e8"
      },
      "source": [
        "farenheightlist=[(x*(9/5)+32) if type(x)==np.int64 else \"error\" for x in celciuslist ]\n",
        "print(farenheightlist)"
      ],
      "execution_count": 71,
      "outputs": [
        {
          "output_type": "stream",
          "text": [
            "[50.0, 68.0, 86.0, 104.0, 122.0, 140.0, 158.0, 176.0, 194.0, 212.0]\n"
          ],
          "name": "stdout"
        }
      ]
    },
    {
      "cell_type": "markdown",
      "metadata": {
        "id": "BrEMNVCdN4V_",
        "colab_type": "text"
      },
      "source": [
        "#### Exercise #2\n",
        "\n",
        "Check if an input list is a palindrome with a list comprehension \n",
        "\n",
        "A palindrome is a list whose elements satisfy l[0] = l[-1], l[1] = l[-2], l[2] = l[-3] and so on.\n",
        "\n",
        "For example: [1, 2, 2, 1] is a palindrome with result [True, True] but [1, 2, 3, 1] is not with result [True, False]\n",
        "\n",
        "The result should be a list of boolean values, where each value is True if the input list is a palindrome.\n",
        "\n",
        "Hint: Make the list comprehension over the results of range function"
      ]
    },
    {
      "cell_type": "code",
      "metadata": {
        "id": "WoKP1_XWN4WA",
        "colab_type": "code",
        "colab": {}
      },
      "source": [
        "input_list = [1, 2, 2, 1]\n",
        "length=len(input_list)"
      ],
      "execution_count": 0,
      "outputs": []
    },
    {
      "cell_type": "code",
      "metadata": {
        "id": "ZXFPIgZw5vl4",
        "colab_type": "code",
        "colab": {}
      },
      "source": [
        "result=[input_list[i]==input_list[length-i-1] for i in range(0, length//2) ]"
      ],
      "execution_count": 0,
      "outputs": []
    },
    {
      "cell_type": "code",
      "metadata": {
        "id": "fvkHOsgV7Z3i",
        "colab_type": "code",
        "colab": {
          "base_uri": "https://localhost:8080/",
          "height": 34
        },
        "outputId": "28655eec-07b2-4c2d-f83b-fce58547ea29"
      },
      "source": [
        "result"
      ],
      "execution_count": 75,
      "outputs": [
        {
          "output_type": "execute_result",
          "data": {
            "text/plain": [
              "[True, True]"
            ]
          },
          "metadata": {
            "tags": []
          },
          "execution_count": 75
        }
      ]
    },
    {
      "cell_type": "markdown",
      "metadata": {
        "id": "WsB2s7FeN4WC",
        "colab_type": "text"
      },
      "source": [
        "#### Exercise #3\n",
        "\n",
        "Take the results from exercise 2 and use a for loop to get a single value\n",
        "\n",
        "Hint: Use the `and` operator"
      ]
    },
    {
      "cell_type": "code",
      "metadata": {
        "id": "tph2BEsPN4WP",
        "colab_type": "code",
        "colab": {
          "base_uri": "https://localhost:8080/",
          "height": 34
        },
        "outputId": "a19dca13-d587-4b66-a5fa-d0642c4bf1df"
      },
      "source": [
        "result = [True, True]\n",
        "\n",
        "output = True\n",
        "\n",
        "for b in result:\n",
        "    output = output and b\n",
        "\n",
        "print(output)"
      ],
      "execution_count": 76,
      "outputs": [
        {
          "output_type": "stream",
          "text": [
            "True\n"
          ],
          "name": "stdout"
        }
      ]
    },
    {
      "cell_type": "markdown",
      "metadata": {
        "colab_type": "text",
        "id": "wmqbOxdRVILr"
      },
      "source": [
        "#### Exercise for whole lesson"
      ]
    },
    {
      "cell_type": "markdown",
      "metadata": {
        "colab_type": "text",
        "id": "cWYtOUBMVILs"
      },
      "source": [
        "We want to know what physical and athletic characteristics lead to an athelete being drafted in the 1st vs 2nd vs 3rd, etc rounds for a specific position. Using the NFL combine dataset, pick one position to evaluate, and analyze the differences between atheletes drafted in the different rounds.\n",
        "\n",
        "Hints: There's no right or wrong answer but here's a few things to think about\n",
        "\n",
        "- Based on the athelete's physical and atheletic characteristics, is there an aggregate metric you can create (similar to column nflgrade)?\n",
        "- How accurate is that metric in determining whether or not an athelete is drafted in the 1st round vs 2nd round, etc? You might need to create an if/else statement inside a for loop to evaluate the accuracy of the metric for each athelete before evaluating the performance of the metric.\n",
        "- Another method is to take a look at the averages of each attribute to evaluate whether or not the athelete is above or below the average for each round. "
      ]
    },
    {
      "cell_type": "code",
      "metadata": {
        "colab_type": "code",
        "id": "jxh1sEv2VILs",
        "colab": {}
      },
      "source": [
        ""
      ],
      "execution_count": 0,
      "outputs": []
    },
    {
      "cell_type": "code",
      "metadata": {
        "colab_type": "code",
        "id": "1K5rPKeiVILv",
        "colab": {}
      },
      "source": [
        ""
      ],
      "execution_count": 0,
      "outputs": []
    }
  ]
}