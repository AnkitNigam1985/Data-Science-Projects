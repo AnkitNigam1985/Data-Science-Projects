{
  "nbformat": 4,
  "nbformat_minor": 0,
  "metadata": {
    "colab": {
      "name": "Numpy Tutorial_practice.ipynb",
      "provenance": [],
      "collapsed_sections": []
    },
    "kernelspec": {
      "display_name": "Python 3",
      "language": "python",
      "name": "python3"
    }
  },
  "cells": [
    {
      "cell_type": "markdown",
      "metadata": {
        "id": "-s9bQNqkVygt",
        "colab_type": "text"
      },
      "source": [
        "![sslogo](https://github.com/stratascratch/stratascratch.github.io/raw/master/assets/sslogo.jpg)"
      ]
    },
    {
      "cell_type": "markdown",
      "metadata": {
        "id": "7UV8v2kdVscb",
        "colab_type": "text"
      },
      "source": [
        "# Intro to NumPy\n",
        "\n",
        "NumPy is the fundamental package for scientific computing in Python. NumPy is used in many other packages in python even though you may not see it explicitly running in your code.\n",
        "\n",
        "It is a python library that provides a multidimensional array object, various derived objects (such as masked arrays and matrices), and an assortment of routines for fast operations on arrays, including mathematical, logical, shape manipulation, sorting, selecting, I/O, discrete Fourier transforms, basic linear algebra, basic statistical operations, random simulation and much more.\n",
        "\n",
        "\n"
      ]
    },
    {
      "cell_type": "markdown",
      "metadata": {
        "id": "fkjpKVmZVscc",
        "colab_type": "text"
      },
      "source": [
        "#### Import the numpy package"
      ]
    },
    {
      "cell_type": "code",
      "metadata": {
        "id": "oFl5JU9fVscd",
        "colab_type": "code",
        "colab": {}
      },
      "source": [
        "import numpy as np"
      ],
      "execution_count": 0,
      "outputs": []
    },
    {
      "cell_type": "markdown",
      "metadata": {
        "id": "Wi_iVJZcVsch",
        "colab_type": "text"
      },
      "source": [
        "#### Make an array from a list. \n",
        "\n",
        "This will create a numpy array with 3 elements. \n",
        "\n",
        "Each numpy array contains an attribute called `shape`. Shape is a tuple which tells you how many elements you have per axis. For example (5, 6, 8) means 5 elements per axis 0, 6 elements per axis 1 and 8 elements per axis 2. Usually you will have only one or two axes.\n",
        "\n",
        "The shape for the array in this section is `(3, )`. The reason for this funny notation is python's type system where shape must be a tuple and this is a tuple with 1 element. Writing just 3 would mean a number, not a tuple.\n",
        "\n",
        "To verify that try `np.array([1, 2, 3]).shape` "
      ]
    },
    {
      "cell_type": "code",
      "metadata": {
        "id": "hiCYmtPGVsch",
        "colab_type": "code",
        "colab": {
          "base_uri": "https://localhost:8080/",
          "height": 34
        },
        "outputId": "a7a3e8f8-5f5a-4657-e134-4abfcb5cc475"
      },
      "source": [
        "np.array([1, 2, 3])"
      ],
      "execution_count": 2,
      "outputs": [
        {
          "output_type": "execute_result",
          "data": {
            "text/plain": [
              "array([1, 2, 3])"
            ]
          },
          "metadata": {
            "tags": []
          },
          "execution_count": 2
        }
      ]
    },
    {
      "cell_type": "markdown",
      "metadata": {
        "id": "stlK-cUIVscm",
        "colab_type": "text"
      },
      "source": [
        "#### Make an array from a list of lists\n",
        "\n",
        "The shape of this array is (2, 2) so this is a matrix."
      ]
    },
    {
      "cell_type": "code",
      "metadata": {
        "id": "0R0OYUEgVscn",
        "colab_type": "code",
        "colab": {
          "base_uri": "https://localhost:8080/",
          "height": 51
        },
        "outputId": "cb138699-ee4b-4906-cb9c-789d38765533"
      },
      "source": [
        "np.array([[1, 2], [3, 4]])"
      ],
      "execution_count": 3,
      "outputs": [
        {
          "output_type": "execute_result",
          "data": {
            "text/plain": [
              "array([[1, 2],\n",
              "       [3, 4]])"
            ]
          },
          "metadata": {
            "tags": []
          },
          "execution_count": 3
        }
      ]
    },
    {
      "cell_type": "markdown",
      "metadata": {
        "id": "XlI6D-_IVscq",
        "colab_type": "text"
      },
      "source": [
        "#### Make an array using a function\n",
        "\n",
        "The arrays made in previous sections were based on us supplying each value.\n",
        "\n",
        "Very often we need large arrays and it is not possible to use our current approach and thus we need to use array creating functions. The most important functions are `zeros` and `ones`. They both take a parameter called shape which determines the shape of the output array.\n",
        "* `zeros` makes an array which is all 0 [docs](https://docs.scipy.org/doc/numpy/reference/generated/numpy.zeros.html)\n",
        "* `ones`  makes an array which is all 1 [docs](https://docs.scipy.org/doc/numpy/reference/generated/numpy.ones.html#numpy.ones)"
      ]
    },
    {
      "cell_type": "code",
      "metadata": {
        "id": "VbIimhBLVscr",
        "colab_type": "code",
        "colab": {
          "base_uri": "https://localhost:8080/",
          "height": 51
        },
        "outputId": "7c00743d-77ac-4409-95d0-8d28a661409b"
      },
      "source": [
        "np.zeros((2, 3))"
      ],
      "execution_count": 4,
      "outputs": [
        {
          "output_type": "execute_result",
          "data": {
            "text/plain": [
              "array([[0., 0., 0.],\n",
              "       [0., 0., 0.]])"
            ]
          },
          "metadata": {
            "tags": []
          },
          "execution_count": 4
        }
      ]
    },
    {
      "cell_type": "code",
      "metadata": {
        "id": "2ehKzKEsVsct",
        "colab_type": "code",
        "colab": {
          "base_uri": "https://localhost:8080/",
          "height": 68
        },
        "outputId": "29236a1c-eaa4-4dae-f124-8c5cea8ff915"
      },
      "source": [
        "np.ones((3, 2))"
      ],
      "execution_count": 5,
      "outputs": [
        {
          "output_type": "execute_result",
          "data": {
            "text/plain": [
              "array([[1., 1.],\n",
              "       [1., 1.],\n",
              "       [1., 1.]])"
            ]
          },
          "metadata": {
            "tags": []
          },
          "execution_count": 5
        }
      ]
    },
    {
      "cell_type": "markdown",
      "metadata": {
        "id": "SYWOfj3GVscx",
        "colab_type": "text"
      },
      "source": [
        "#### Make an array by starting at 0, incrementing by 2 and ending before 10\n",
        "\n",
        "`arange` is the exact same thing as regular python `range` except giving back a numpy array.\n",
        "\n",
        "This functions requires only a single argument which is the end point. The start point is assumed to be 0 and step is assumed to be 1.\n",
        "\n",
        "In this variety when in takes three parameters, the first one is the start, second one is the end and the third one is the step.\n",
        "\n",
        "[docs](https://docs.scipy.org/doc/numpy/reference/generated/numpy.arange.html)"
      ]
    },
    {
      "cell_type": "code",
      "metadata": {
        "id": "YmUE2XZIVscx",
        "colab_type": "code",
        "colab": {
          "base_uri": "https://localhost:8080/",
          "height": 34
        },
        "outputId": "175fd3ae-f364-44e7-8785-774534b65be7"
      },
      "source": [
        "np.arange(0, 10, 2)"
      ],
      "execution_count": 6,
      "outputs": [
        {
          "output_type": "execute_result",
          "data": {
            "text/plain": [
              "array([0, 2, 4, 6, 8])"
            ]
          },
          "metadata": {
            "tags": []
          },
          "execution_count": 6
        }
      ]
    },
    {
      "cell_type": "markdown",
      "metadata": {
        "id": "WgfvR8_eVsc0",
        "colab_type": "text"
      },
      "source": [
        "#### Make an array of four evenly spaced numbers including both endpoints"
      ]
    },
    {
      "cell_type": "code",
      "metadata": {
        "id": "CmQ2LtbjVsc2",
        "colab_type": "code",
        "colab": {
          "base_uri": "https://localhost:8080/",
          "height": 34
        },
        "outputId": "c60d5c5b-8af4-4e8b-f617-1fd7e97dc2cd"
      },
      "source": [
        "np.linspace(0, 1, 4)"
      ],
      "execution_count": 7,
      "outputs": [
        {
          "output_type": "execute_result",
          "data": {
            "text/plain": [
              "array([0.        , 0.33333333, 0.66666667, 1.        ])"
            ]
          },
          "metadata": {
            "tags": []
          },
          "execution_count": 7
        }
      ]
    },
    {
      "cell_type": "markdown",
      "metadata": {
        "id": "pSwe4s-6Vsc6",
        "colab_type": "text"
      },
      "source": [
        "#### Make an array of random numbers (using a normal distribution)\n",
        "\n",
        "The random submodule of numpy contains a variety of functions for generating random numbers following a specified probability distributions or sampling from a finite set of choices. To learn more about it visit the [documentation](https://docs.scipy.org/doc/numpy/reference/routines.random.html). "
      ]
    },
    {
      "cell_type": "code",
      "metadata": {
        "id": "rIVnHqRNVsc6",
        "colab_type": "code",
        "colab": {}
      },
      "source": [
        "mean = 10\n",
        "stdev = 3\n",
        "number_values = 20\n",
        "arr=np.random.normal(mean, stdev, number_values)"
      ],
      "execution_count": 0,
      "outputs": []
    },
    {
      "cell_type": "code",
      "metadata": {
        "id": "y0njy91iJXht",
        "colab_type": "code",
        "colab": {
          "base_uri": "https://localhost:8080/",
          "height": 85
        },
        "outputId": "55c6427d-e0c3-4968-a518-0a1bd71f9fea"
      },
      "source": [
        "arr"
      ],
      "execution_count": 16,
      "outputs": [
        {
          "output_type": "execute_result",
          "data": {
            "text/plain": [
              "array([ 8.72417534, 12.67800223,  9.78485755,  9.96233655, 11.52642839,\n",
              "        5.37522277,  9.8065536 , 12.23661693, 13.11238742, 11.71827815,\n",
              "        7.94041662,  9.44231271,  9.65971102, 10.77346247, 10.09401882,\n",
              "        7.5426644 , 15.13581638,  6.20685509,  6.49281792, 10.28454719])"
            ]
          },
          "metadata": {
            "tags": []
          },
          "execution_count": 16
        }
      ]
    },
    {
      "cell_type": "code",
      "metadata": {
        "id": "VBYBD1qiHAVZ",
        "colab_type": "code",
        "colab": {}
      },
      "source": [
        "import matplotlib.pyplot as plt\n",
        "%matplotlib inline\n",
        "\n"
      ],
      "execution_count": 0,
      "outputs": []
    },
    {
      "cell_type": "code",
      "metadata": {
        "id": "vln8Z-E4JFpm",
        "colab_type": "code",
        "colab": {
          "base_uri": "https://localhost:8080/",
          "height": 316
        },
        "outputId": "5d11b10e-2732-4e50-f70c-77b3c94a2499"
      },
      "source": [
        "plt.hist(arr,bins=[2,4,6,8,10,12,14,16])"
      ],
      "execution_count": 18,
      "outputs": [
        {
          "output_type": "execute_result",
          "data": {
            "text/plain": [
              "(array([0., 1., 4., 6., 5., 3., 1.]),\n",
              " array([ 2,  4,  6,  8, 10, 12, 14, 16]),\n",
              " <a list of 7 Patch objects>)"
            ]
          },
          "metadata": {
            "tags": []
          },
          "execution_count": 18
        },
        {
          "output_type": "display_data",
          "data": {
            "image/png": "[encoded data removed]",
            "text/plain": [
              "<Figure size 432x288 with 1 Axes>"
            ]
          },
          "metadata": {
            "tags": []
          }
        }
      ]
    },
    {
      "cell_type": "markdown",
      "metadata": {
        "id": "gPZuEtnjVsc9",
        "colab_type": "text"
      },
      "source": [
        "## Indexing Arrays\n",
        "#### Access elements of a 1-dimensional array.  Get the first and last element.\n",
        "\n",
        "In python as is in many other programming languages all arrays start from 0 so the first element is at position 0.\n",
        "\n",
        "To access the last element we can use -1 as the index. `x[-1]` is identical to `x[x.shape[0] - 1]` where `shape[0]` is the length of the array."
      ]
    },
    {
      "cell_type": "code",
      "metadata": {
        "id": "TTfE_CDUVsc-",
        "colab_type": "code",
        "colab": {
          "base_uri": "https://localhost:8080/",
          "height": 51
        },
        "outputId": "2f18aa51-7dad-4c1a-b91a-fde6a2eb3250"
      },
      "source": [
        "x = np.arange(4)\n",
        "\n",
        "print(x[0])\n",
        "print(x[-1])"
      ],
      "execution_count": 21,
      "outputs": [
        {
          "output_type": "stream",
          "text": [
            "0\n",
            "3\n"
          ],
          "name": "stdout"
        }
      ]
    },
    {
      "cell_type": "markdown",
      "metadata": {
        "id": "TzlouFp2VsdD",
        "colab_type": "text"
      },
      "source": [
        "#### Reshape an array\n",
        "\n",
        "Remember that shape is the fundamenal property of each array and we can modify it as we desire and we often do so. To change the shape of an array we use the `reshape` method.\n",
        "\n",
        "The code in this example creates an 1D-array of 6 elements using the `arange` functon.\n",
        "\n",
        "We convert it to a 2D-array using the `reshape` method.\n",
        "\n",
        "You see that the total amount of numbers did not change, only our view of them. 6 elements in a vector or 3 x 2 elements in a matrix.\n",
        "\n",
        "It is very important that when using `reshape` to ensure that dimensions match or you will get an error. 6 = 3 x 2 is a match so this works but trying np.arange(6).reshape(4, 2) will give you an error. \n",
        "\n",
        "[docs](https://docs.scipy.org/doc/numpy/reference/generated/numpy.reshape.html)"
      ]
    },
    {
      "cell_type": "code",
      "metadata": {
        "id": "L-99GhjBVsdE",
        "colab_type": "code",
        "colab": {
          "base_uri": "https://localhost:8080/",
          "height": 51
        },
        "outputId": "19bbf3cb-11e7-4272-95f8-e1264cf12076"
      },
      "source": [
        "x = np.arange(6).reshape(2, 3)\n",
        "print(x)"
      ],
      "execution_count": 22,
      "outputs": [
        {
          "output_type": "stream",
          "text": [
            "[[0 1 2]\n",
            " [3 4 5]]\n"
          ],
          "name": "stdout"
        }
      ]
    },
    {
      "cell_type": "markdown",
      "metadata": {
        "id": "PJwakKH2VsdG",
        "colab_type": "text"
      },
      "source": [
        "#### Get the last row\n",
        "\n",
        "When dealing with arrays which are of more than a single dimension we can use partial indexing specifications go slice the array the way we want. \n",
        "\n",
        "For example `print(x[-1])` will print the last **row**.\n",
        "\n",
        "To get the last column take the transpose of the 2d-array and then use [-1]. \n",
        "\n",
        "For exampe `print(x.T[-1])` will give you the last columns. `x.T` is the transpose of `x`"
      ]
    },
    {
      "cell_type": "code",
      "metadata": {
        "id": "eRzSoVEBVsdH",
        "colab_type": "code",
        "colab": {
          "base_uri": "https://localhost:8080/",
          "height": 34
        },
        "outputId": "b4bc299a-cb2c-4d62-98bb-7419722f38cb"
      },
      "source": [
        "print(x[-1])"
      ],
      "execution_count": 23,
      "outputs": [
        {
          "output_type": "stream",
          "text": [
            "[3 4 5]\n"
          ],
          "name": "stdout"
        }
      ]
    },
    {
      "cell_type": "markdown",
      "metadata": {
        "id": "lLqO8U4ZVsdL",
        "colab_type": "text"
      },
      "source": [
        "#### Get the last element of the last row\n",
        "\n",
        "Here we are using full indexing to get a single **element**."
      ]
    },
    {
      "cell_type": "code",
      "metadata": {
        "id": "ktEhAKY0VsdL",
        "colab_type": "code",
        "colab": {
          "base_uri": "https://localhost:8080/",
          "height": 34
        },
        "outputId": "00da47ab-4db4-442f-ee14-e2ea85668779"
      },
      "source": [
        "print(x[-1, -1])"
      ],
      "execution_count": 24,
      "outputs": [
        {
          "output_type": "stream",
          "text": [
            "5\n"
          ],
          "name": "stdout"
        }
      ]
    },
    {
      "cell_type": "markdown",
      "metadata": {
        "id": "S_vuadjsVsdO",
        "colab_type": "text"
      },
      "source": [
        "#### Get elements like a list\n",
        "\n",
        "Using the notation `a:b` we can slice arrays as precisely as we want.\n",
        "\n",
        "`a:b` means give me back all elements whose positions is in that set.\n",
        "\n",
        "For example `y = [1, 3, 5, 7, 9]` and `y[0:2]` would give us the first two elements `[1, 3]`.\n",
        "\n",
        "Negative indices mean from back so -3 means 3 positions starting from the last position.\n",
        "\n",
        "Experiment with the values until you get the feel for it."
      ]
    },
    {
      "cell_type": "code",
      "metadata": {
        "id": "Q6coPcKdVsdO",
        "colab_type": "code",
        "colab": {
          "base_uri": "https://localhost:8080/",
          "height": 85
        },
        "outputId": "80b71277-fefe-4036-a8b2-595af2067dea"
      },
      "source": [
        "x = np.arange(10) \n",
        "\n",
        "print(x)\n",
        "print(x[:3])\n",
        "print(x[1:4])\n",
        "print(x[-3:])"
      ],
      "execution_count": 25,
      "outputs": [
        {
          "output_type": "stream",
          "text": [
            "[0 1 2 3 4 5 6 7 8 9]\n",
            "[0 1 2]\n",
            "[1 2 3]\n",
            "[7 8 9]\n"
          ],
          "name": "stdout"
        }
      ]
    },
    {
      "cell_type": "markdown",
      "metadata": {
        "id": "u0LUGU7QVsdR",
        "colab_type": "text"
      },
      "source": [
        "#### Get all elements in reverse order\n",
        "\n",
        "The enhanced slicing syntax is `a:b:c` were `c` is the step. For example `0:10:2`.\n",
        "\n",
        "If we omit `a` and `b` we always asume they are `a` = 0 and `b` = length of the list so we are only left with a step.\n",
        "\n",
        "Thus `::2` means slicing from 0 to end with a step 2. `::3` mean slicing with a step 3.\n",
        "\n",
        "Now what if we used negative steps. Using -1 as the step would reverse the logic and `a` becomes the end of the list and `b` becomes zero. So `::-1` will slice in reverse direction.\n",
        "\n",
        "Finally there is also the slice form `::1` or written short `:` which means give me back all elements in order as they are present."
      ]
    },
    {
      "cell_type": "code",
      "metadata": {
        "id": "4UzObVzGVsdS",
        "colab_type": "code",
        "colab": {
          "base_uri": "https://localhost:8080/",
          "height": 34
        },
        "outputId": "06ff7276-730e-478a-8970-94eae36786e6"
      },
      "source": [
        "print(x[::-1])"
      ],
      "execution_count": 26,
      "outputs": [
        {
          "output_type": "stream",
          "text": [
            "[9 8 7 6 5 4 3 2 1 0]\n"
          ],
          "name": "stdout"
        }
      ]
    },
    {
      "cell_type": "markdown",
      "metadata": {
        "id": "RYDI0tKZVsdV",
        "colab_type": "text"
      },
      "source": [
        "#### Get every second element or third element"
      ]
    },
    {
      "cell_type": "code",
      "metadata": {
        "id": "Qt1WeSeUVsdW",
        "colab_type": "code",
        "colab": {
          "base_uri": "https://localhost:8080/",
          "height": 51
        },
        "outputId": "826bde6b-7bff-4166-cbc8-7b95643ce9b0"
      },
      "source": [
        "print(x[::2])\n",
        "print(x[::3])"
      ],
      "execution_count": 27,
      "outputs": [
        {
          "output_type": "stream",
          "text": [
            "[0 2 4 6 8]\n",
            "[0 3 6 9]\n"
          ],
          "name": "stdout"
        }
      ]
    },
    {
      "cell_type": "markdown",
      "metadata": {
        "id": "gTtzstSeVsdZ",
        "colab_type": "text"
      },
      "source": [
        "#### Create a 5x5 matrix"
      ]
    },
    {
      "cell_type": "code",
      "metadata": {
        "id": "QGlTQXhwVsda",
        "colab_type": "code",
        "colab": {
          "base_uri": "https://localhost:8080/",
          "height": 102
        },
        "outputId": "19fcc3de-c219-4f63-df0d-5766aef7e3c7"
      },
      "source": [
        "x = np.arange(25).reshape(5, 5)\n",
        "print(x)"
      ],
      "execution_count": 28,
      "outputs": [
        {
          "output_type": "stream",
          "text": [
            "[[ 0  1  2  3  4]\n",
            " [ 5  6  7  8  9]\n",
            " [10 11 12 13 14]\n",
            " [15 16 17 18 19]\n",
            " [20 21 22 23 24]]\n"
          ],
          "name": "stdout"
        }
      ]
    },
    {
      "cell_type": "markdown",
      "metadata": {
        "id": "13f9XrWfVsdc",
        "colab_type": "text"
      },
      "source": [
        "#### Get the first two columns and the first two rows\n",
        "\n",
        "Until now you have learned how to slice on a 1D array but slices can be generalized to any dimensional arrays.\n",
        "\n",
        "The trick is to create a slice for every dimensions. \n",
        "\n",
        "In this example we have a 2d-array so we create two slices, one for dimension 0 (rows) and one for dimension 1 (columns)\n"
      ]
    },
    {
      "cell_type": "code",
      "metadata": {
        "id": "sU273gC3Vsdd",
        "colab_type": "code",
        "colab": {
          "base_uri": "https://localhost:8080/",
          "height": 51
        },
        "outputId": "4ab2e2f0-ce3a-458b-8f1e-7bbbcbccc35a"
      },
      "source": [
        "print(x[:2, :2])"
      ],
      "execution_count": 29,
      "outputs": [
        {
          "output_type": "stream",
          "text": [
            "[[0 1]\n",
            " [5 6]]\n"
          ],
          "name": "stdout"
        }
      ]
    },
    {
      "cell_type": "markdown",
      "metadata": {
        "id": "k4o5CSY-Vsdg",
        "colab_type": "text"
      },
      "source": [
        "#### Get every second column of every second row"
      ]
    },
    {
      "cell_type": "code",
      "metadata": {
        "id": "v1RkC6_XVsdg",
        "colab_type": "code",
        "colab": {
          "base_uri": "https://localhost:8080/",
          "height": 68
        },
        "outputId": "70f956b7-8732-4fe2-e2ee-14fe18bd0317"
      },
      "source": [
        "print(x[::2, ::2])"
      ],
      "execution_count": 30,
      "outputs": [
        {
          "output_type": "stream",
          "text": [
            "[[ 0  2  4]\n",
            " [10 12 14]\n",
            " [20 22 24]]\n"
          ],
          "name": "stdout"
        }
      ]
    },
    {
      "cell_type": "markdown",
      "metadata": {
        "id": "VUN97--UVsdj",
        "colab_type": "text"
      },
      "source": [
        "## Access parts of an array with index arrays"
      ]
    },
    {
      "cell_type": "markdown",
      "metadata": {
        "id": "LpR2l52dVsdj",
        "colab_type": "text"
      },
      "source": [
        "#### Generate six random integers between 0 and 9 inclusive\n",
        "\n",
        "`randint` in `np.random` is a very useful function which generates uniformly distributed random integers from the range provided as its first two parameters (start and end of range respectively). It's third parameter tells the method how many numbers we need."
      ]
    },
    {
      "cell_type": "code",
      "metadata": {
        "id": "1nY57f_oVsdk",
        "colab_type": "code",
        "colab": {
          "base_uri": "https://localhost:8080/",
          "height": 34
        },
        "outputId": "c5257d78-b270-4e46-c304-a0293448de9a"
      },
      "source": [
        "x = np.random.randint(0, 10, 6) \n",
        "print(x)"
      ],
      "execution_count": 31,
      "outputs": [
        {
          "output_type": "stream",
          "text": [
            "[0 3 2 8 0 1]\n"
          ],
          "name": "stdout"
        }
      ]
    },
    {
      "cell_type": "markdown",
      "metadata": {
        "id": "bkjGnJKEVsdo",
        "colab_type": "text"
      },
      "source": [
        "#### Get the first number and the last two numbers\n",
        "\n",
        "Slices are inhetently linear and give us access to arrays in a linear fashion.\n",
        "\n",
        "To access elements in any order we must use index arrays which are numpy arrays holding integer numbers which tell what elements to chose from the indexed array."
      ]
    },
    {
      "cell_type": "code",
      "metadata": {
        "id": "GWxn2lx2Vsdp",
        "colab_type": "code",
        "colab": {
          "base_uri": "https://localhost:8080/",
          "height": 34
        },
        "outputId": "c0b54e77-bbe1-4385-eee0-19b1da3a5d38"
      },
      "source": [
        "indices = [0, -2, -1]\n",
        "print(x[indices])"
      ],
      "execution_count": 32,
      "outputs": [
        {
          "output_type": "stream",
          "text": [
            "[0 0 1]\n"
          ],
          "name": "stdout"
        }
      ]
    },
    {
      "cell_type": "markdown",
      "metadata": {
        "id": "5RfG_quvVsdr",
        "colab_type": "text"
      },
      "source": [
        "#### Create two arrays\n",
        "\n",
        "The array `x2` is created as `x1 * -1`. The multiplication operator here means multiply all elements of `x1` with -1 and give back that as result."
      ]
    },
    {
      "cell_type": "code",
      "metadata": {
        "id": "V46GuSJOVsdr",
        "colab_type": "code",
        "colab": {
          "base_uri": "https://localhost:8080/",
          "height": 51
        },
        "outputId": "250a00a1-cedf-40a3-c6d7-c0ae8ff2072b"
      },
      "source": [
        "arrayLength = 5\n",
        "x1 = np.arange(arrayLength)\n",
        "x2 = np.arange(arrayLength) * -1\n",
        "\n",
        "print(x1)\n",
        "print(x2)"
      ],
      "execution_count": 33,
      "outputs": [
        {
          "output_type": "stream",
          "text": [
            "[0 1 2 3 4]\n",
            "[ 0 -1 -2 -3 -4]\n"
          ],
          "name": "stdout"
        }
      ]
    },
    {
      "cell_type": "markdown",
      "metadata": {
        "id": "Qm54IQiiVsdu",
        "colab_type": "text"
      },
      "source": [
        "#### Create a random shuffled range of numbers\n",
        "\n",
        "This and the following example shows how to shuffle an array in numpy.\n",
        "\n",
        "Shuffling means reoreding the items in an array and we can do that using random permutations of the array positions."
      ]
    },
    {
      "cell_type": "code",
      "metadata": {
        "id": "-XfqUqd8Vsdv",
        "colab_type": "code",
        "colab": {
          "base_uri": "https://localhost:8080/",
          "height": 34
        },
        "outputId": "29699903-5685-4dcb-bbfc-adf6bf250c6d"
      },
      "source": [
        "indices = np.random.permutation(arrayLength)\n",
        "print(indices)"
      ],
      "execution_count": 34,
      "outputs": [
        {
          "output_type": "stream",
          "text": [
            "[4 1 2 3 0]\n"
          ],
          "name": "stdout"
        }
      ]
    },
    {
      "cell_type": "markdown",
      "metadata": {
        "id": "At69gWFaVsdz",
        "colab_type": "text"
      },
      "source": [
        "#### Use indices to re-order arrays"
      ]
    },
    {
      "cell_type": "code",
      "metadata": {
        "id": "bqfTE7IEVsd0",
        "colab_type": "code",
        "colab": {
          "base_uri": "https://localhost:8080/",
          "height": 51
        },
        "outputId": "ee3e63d6-6370-43c1-d2e6-e19bc2939777"
      },
      "source": [
        "print(x1[indices])\n",
        "print(x2[indices])"
      ],
      "execution_count": 35,
      "outputs": [
        {
          "output_type": "stream",
          "text": [
            "[4 1 2 3 0]\n",
            "[-4 -1 -2 -3  0]\n"
          ],
          "name": "stdout"
        }
      ]
    },
    {
      "cell_type": "markdown",
      "metadata": {
        "id": "JhA7z7NiVsd5",
        "colab_type": "text"
      },
      "source": [
        "#### Create array of boolean values\n",
        "\n",
        "The main novelty of this example is `print(x > 2)`.\n",
        "\n",
        "`x > 2` generates an array of boolean values where each element is True or False.\n",
        "Having True at position i of the output means that the conditions is satisfied for the element of `x` at position i.\n",
        "\n",
        "For exampe if `x=[0,1,2,3,4]` then `x > 2` would be `[False, False, False, True, True]`.\n",
        "\n",
        "As you see 0 > 2 = False, 1 > 2 = False, 2 > 2 = False, 3 > 2 = True and 4 > 2 = True and that is shown in the output array."
      ]
    },
    {
      "cell_type": "code",
      "metadata": {
        "id": "Wq39t_tDVsd6",
        "colab_type": "code",
        "colab": {
          "base_uri": "https://localhost:8080/",
          "height": 51
        },
        "outputId": "8af34650-bd62-4538-96c7-53708bc9380b"
      },
      "source": [
        "x = np.arange(5)\n",
        "print(x)\n",
        "print(x > 2)"
      ],
      "execution_count": 36,
      "outputs": [
        {
          "output_type": "stream",
          "text": [
            "[0 1 2 3 4]\n",
            "[False False False  True  True]\n"
          ],
          "name": "stdout"
        }
      ]
    },
    {
      "cell_type": "markdown",
      "metadata": {
        "id": "k5Zv-VArVsd8",
        "colab_type": "text"
      },
      "source": [
        "#### Use boolean values to index arrays\n",
        "\n",
        "Once we have created our boolean array we can use it to index other arrays.\n",
        "\n",
        "The rule is very simple. If at position i of index we have True include `x[i]` in the output."
      ]
    },
    {
      "cell_type": "code",
      "metadata": {
        "id": "E4ea2NQwVsd9",
        "colab_type": "code",
        "colab": {
          "base_uri": "https://localhost:8080/",
          "height": 51
        },
        "outputId": "5123fec6-b6db-403d-a1bd-5f7570882a69"
      },
      "source": [
        "print(x[x > 2])\n",
        "print(x[np.array([False,False,False,True,True])])"
      ],
      "execution_count": 37,
      "outputs": [
        {
          "output_type": "stream",
          "text": [
            "[3 4]\n",
            "[3 4]\n"
          ],
          "name": "stdout"
        }
      ]
    },
    {
      "cell_type": "markdown",
      "metadata": {
        "id": "CPA6fxsgVseB",
        "colab_type": "text"
      },
      "source": [
        "## Array Math"
      ]
    },
    {
      "cell_type": "markdown",
      "metadata": {
        "id": "BXU-_j3XYjIx",
        "colab_type": "text"
      },
      "source": [
        "#### Try adding to a list"
      ]
    },
    {
      "cell_type": "code",
      "metadata": {
        "id": "77uE0DtkVseC",
        "colab_type": "code",
        "colab": {
          "base_uri": "https://localhost:8080/",
          "height": 197
        },
        "outputId": "4bfdac5a-c7c2-4aea-df9a-1e9f20870b73"
      },
      "source": [
        "x = [1, 2, 3, 4]\n",
        "\n",
        "print(x + 10)"
      ],
      "execution_count": 38,
      "outputs": [
        {
          "output_type": "error",
          "ename": "TypeError",
          "evalue": "ignored",
          "traceback": [
            "\u001b[0;31m---------------------------------------------------------------------------\u001b[0m",
            "\u001b[0;31mTypeError\u001b[0m                                 Traceback (most recent call last)",
            "\u001b[0;32m<ipython-input-38-ba2fe335b5c7>\u001b[0m in \u001b[0;36m<module>\u001b[0;34m()\u001b[0m\n\u001b[1;32m      1\u001b[0m \u001b[0mx\u001b[0m \u001b[0;34m=\u001b[0m \u001b[0;34m[\u001b[0m\u001b[0;36m1\u001b[0m\u001b[0;34m,\u001b[0m \u001b[0;36m2\u001b[0m\u001b[0;34m,\u001b[0m \u001b[0;36m3\u001b[0m\u001b[0;34m,\u001b[0m \u001b[0;36m4\u001b[0m\u001b[0;34m]\u001b[0m\u001b[0;34m\u001b[0m\u001b[0;34m\u001b[0m\u001b[0m\n\u001b[1;32m      2\u001b[0m \u001b[0;34m\u001b[0m\u001b[0m\n\u001b[0;32m----> 3\u001b[0;31m \u001b[0mprint\u001b[0m\u001b[0;34m(\u001b[0m\u001b[0mx\u001b[0m \u001b[0;34m+\u001b[0m \u001b[0;36m10\u001b[0m\u001b[0;34m)\u001b[0m\u001b[0;34m\u001b[0m\u001b[0;34m\u001b[0m\u001b[0m\n\u001b[0m",
            "\u001b[0;31mTypeError\u001b[0m: can only concatenate list (not \"int\") to list"
          ]
        }
      ]
    },
    {
      "cell_type": "markdown",
      "metadata": {
        "id": "TmH2s9-aVseE",
        "colab_type": "text"
      },
      "source": [
        "#### Try again with an array\n",
        "\n",
        "When trying with a list you got an error because simple python lists do not support addition with scalars.\n",
        "\n",
        "But numpy arrays do allow that."
      ]
    },
    {
      "cell_type": "code",
      "metadata": {
        "id": "oOmv1DBxVseE",
        "colab_type": "code",
        "colab": {
          "base_uri": "https://localhost:8080/",
          "height": 51
        },
        "outputId": "fd8a1f5a-8a9d-4a15-9e83-8f1a94c7512b"
      },
      "source": [
        "x = np.array(x)\n",
        "\n",
        "print(x)\n",
        "print(x + 10)"
      ],
      "execution_count": 39,
      "outputs": [
        {
          "output_type": "stream",
          "text": [
            "[1 2 3 4]\n",
            "[11 12 13 14]\n"
          ],
          "name": "stdout"
        }
      ]
    },
    {
      "cell_type": "markdown",
      "metadata": {
        "id": "XvwnrdEsVseH",
        "colab_type": "text"
      },
      "source": [
        "## Exercises"
      ]
    },
    {
      "cell_type": "markdown",
      "metadata": {
        "id": "Xf0nHJl3VseH",
        "colab_type": "text"
      },
      "source": [
        "#### Create an array from 0 to 26 assign it to a variable x"
      ]
    },
    {
      "cell_type": "code",
      "metadata": {
        "id": "CFzHAXotVseI",
        "colab_type": "code",
        "colab": {
          "base_uri": "https://localhost:8080/",
          "height": 51
        },
        "outputId": "c0ea0c03-7ba7-471e-f724-9ce66d6ee83d"
      },
      "source": [
        "x=np.arange(0,27)\n",
        "x"
      ],
      "execution_count": 41,
      "outputs": [
        {
          "output_type": "execute_result",
          "data": {
            "text/plain": [
              "array([ 0,  1,  2,  3,  4,  5,  6,  7,  8,  9, 10, 11, 12, 13, 14, 15, 16,\n",
              "       17, 18, 19, 20, 21, 22, 23, 24, 25, 26])"
            ]
          },
          "metadata": {
            "tags": []
          },
          "execution_count": 41
        }
      ]
    },
    {
      "cell_type": "markdown",
      "metadata": {
        "id": "gSpgRMsjVseK",
        "colab_type": "text"
      },
      "source": [
        "#### Reverse the order of the array and print it out"
      ]
    },
    {
      "cell_type": "code",
      "metadata": {
        "id": "Xg3yZ1yYVseL",
        "colab_type": "code",
        "colab": {
          "base_uri": "https://localhost:8080/",
          "height": 51
        },
        "outputId": "7d6baeaf-c593-4481-be5e-97b707d4c4c6"
      },
      "source": [
        "x=np.flip(x)\n",
        "x"
      ],
      "execution_count": 46,
      "outputs": [
        {
          "output_type": "execute_result",
          "data": {
            "text/plain": [
              "array([26, 25, 24, 23, 22, 21, 20, 19, 18, 17, 16, 15, 14, 13, 12, 11, 10,\n",
              "        9,  8,  7,  6,  5,  4,  3,  2,  1,  0])"
            ]
          },
          "metadata": {
            "tags": []
          },
          "execution_count": 46
        }
      ]
    },
    {
      "cell_type": "markdown",
      "metadata": {
        "id": "9C0WP05VVseR",
        "colab_type": "text"
      },
      "source": [
        "#### Convert the 1-dimensional array you created into a 3 dimensional array"
      ]
    },
    {
      "cell_type": "code",
      "metadata": {
        "id": "S1EwyyqfVseS",
        "colab_type": "code",
        "colab": {}
      },
      "source": [
        "x=x.reshape(3,3,3)"
      ],
      "execution_count": 0,
      "outputs": []
    },
    {
      "cell_type": "code",
      "metadata": {
        "id": "cE5dXM8KNlrz",
        "colab_type": "code",
        "colab": {
          "base_uri": "https://localhost:8080/",
          "height": 204
        },
        "outputId": "3656e0a2-bb96-4f03-d095-3bdc728be7bd"
      },
      "source": [
        "x"
      ],
      "execution_count": 51,
      "outputs": [
        {
          "output_type": "execute_result",
          "data": {
            "text/plain": [
              "array([[[26, 25, 24],\n",
              "        [23, 22, 21],\n",
              "        [20, 19, 18]],\n",
              "\n",
              "       [[17, 16, 15],\n",
              "        [14, 13, 12],\n",
              "        [11, 10,  9]],\n",
              "\n",
              "       [[ 8,  7,  6],\n",
              "        [ 5,  4,  3],\n",
              "        [ 2,  1,  0]]])"
            ]
          },
          "metadata": {
            "tags": []
          },
          "execution_count": 51
        }
      ]
    },
    {
      "cell_type": "markdown",
      "metadata": {
        "id": "30CSoki5VseU",
        "colab_type": "text"
      },
      "source": [
        "#### Find the index (location) for value 12"
      ]
    },
    {
      "cell_type": "code",
      "metadata": {
        "id": "3en3QEIXVseV",
        "colab_type": "code",
        "colab": {
          "base_uri": "https://localhost:8080/",
          "height": 34
        },
        "outputId": "8d787f3f-0e17-4d9f-e81d-033ab6da8a47"
      },
      "source": [
        "np.where(x==12)\n"
      ],
      "execution_count": 58,
      "outputs": [
        {
          "output_type": "execute_result",
          "data": {
            "text/plain": [
              "(array([1]), array([1]), array([2]))"
            ]
          },
          "metadata": {
            "tags": []
          },
          "execution_count": 58
        }
      ]
    },
    {
      "cell_type": "code",
      "metadata": {
        "id": "YVHF_3PrOWck",
        "colab_type": "code",
        "colab": {}
      },
      "source": [
        "y=np.arange(0,27)\n"
      ],
      "execution_count": 0,
      "outputs": []
    },
    {
      "cell_type": "code",
      "metadata": {
        "id": "WBUKKbezOe01",
        "colab_type": "code",
        "colab": {
          "base_uri": "https://localhost:8080/",
          "height": 51
        },
        "outputId": "1ca38972-894b-407b-e868-b56019b59340"
      },
      "source": [
        "y"
      ],
      "execution_count": 60,
      "outputs": [
        {
          "output_type": "execute_result",
          "data": {
            "text/plain": [
              "array([ 0,  1,  2,  3,  4,  5,  6,  7,  8,  9, 10, 11, 12, 13, 14, 15, 16,\n",
              "       17, 18, 19, 20, 21, 22, 23, 24, 25, 26])"
            ]
          },
          "metadata": {
            "tags": []
          },
          "execution_count": 60
        }
      ]
    },
    {
      "cell_type": "code",
      "metadata": {
        "id": "SpmTPPPWOhqB",
        "colab_type": "code",
        "colab": {
          "base_uri": "https://localhost:8080/",
          "height": 34
        },
        "outputId": "e0796586-72eb-4d00-8641-567104244151"
      },
      "source": [
        "np.where(y==12)"
      ],
      "execution_count": 61,
      "outputs": [
        {
          "output_type": "execute_result",
          "data": {
            "text/plain": [
              "(array([12]),)"
            ]
          },
          "metadata": {
            "tags": []
          },
          "execution_count": 61
        }
      ]
    },
    {
      "cell_type": "markdown",
      "metadata": {
        "id": "aIawXcgSVseb",
        "colab_type": "text"
      },
      "source": [
        "#### Create a random shuffled list of values from 0-19 and assign it to variable y"
      ]
    },
    {
      "cell_type": "code",
      "metadata": {
        "id": "G9hLCgCeVseb",
        "colab_type": "code",
        "colab": {}
      },
      "source": [
        "y=list(np.arange(0,20))"
      ],
      "execution_count": 0,
      "outputs": []
    },
    {
      "cell_type": "code",
      "metadata": {
        "id": "bQQeEP1jO0v_",
        "colab_type": "code",
        "colab": {
          "base_uri": "https://localhost:8080/",
          "height": 34
        },
        "outputId": "248fcbbc-4a58-407d-b7d6-43e534424abd"
      },
      "source": [
        "y"
      ],
      "execution_count": 63,
      "outputs": [
        {
          "output_type": "execute_result",
          "data": {
            "text/plain": [
              "[0, 1, 2, 3, 4, 5, 6, 7, 8, 9, 10, 11, 12, 13, 14, 15, 16, 17, 18, 19]"
            ]
          },
          "metadata": {
            "tags": []
          },
          "execution_count": 63
        }
      ]
    },
    {
      "cell_type": "code",
      "metadata": {
        "id": "AYtYzj3lO2nk",
        "colab_type": "code",
        "colab": {
          "base_uri": "https://localhost:8080/",
          "height": 34
        },
        "outputId": "0861e2b9-9ceb-47da-fe1d-7012f0c51d91"
      },
      "source": [
        "type(y)"
      ],
      "execution_count": 64,
      "outputs": [
        {
          "output_type": "execute_result",
          "data": {
            "text/plain": [
              "list"
            ]
          },
          "metadata": {
            "tags": []
          },
          "execution_count": 64
        }
      ]
    },
    {
      "cell_type": "markdown",
      "metadata": {
        "id": "aRe_-tIOVsee",
        "colab_type": "text"
      },
      "source": [
        "#### Create an array of boolean values for values in y that are greater than 10"
      ]
    },
    {
      "cell_type": "code",
      "metadata": {
        "id": "wZ3zDBh-Vsee",
        "colab_type": "code",
        "colab": {
          "base_uri": "https://localhost:8080/",
          "height": 51
        },
        "outputId": "05031baf-9807-4aeb-98e3-6a94cabbbca8"
      },
      "source": [
        "y=np.array(y)\n",
        "print(y>10)"
      ],
      "execution_count": 65,
      "outputs": [
        {
          "output_type": "stream",
          "text": [
            "[False False False False False False False False False False False  True\n",
            "  True  True  True  True  True  True  True  True]\n"
          ],
          "name": "stdout"
        }
      ]
    },
    {
      "cell_type": "markdown",
      "metadata": {
        "id": "r8XL5KlKVseg",
        "colab_type": "text"
      },
      "source": [
        "#### Create a random sample of 20 data points from a normal distribution with mean of 10 and standard deviation 5"
      ]
    },
    {
      "cell_type": "code",
      "metadata": {
        "id": "zwFXB9qbVseh",
        "colab_type": "code",
        "colab": {
          "base_uri": "https://localhost:8080/",
          "height": 85
        },
        "outputId": "141a870f-4bb6-4a51-f27e-cb5df46fa352"
      },
      "source": [
        "mean=10\n",
        "stdev=5\n",
        "x=np.random.normal(mean, stdev, 20)\n",
        "x"
      ],
      "execution_count": 66,
      "outputs": [
        {
          "output_type": "execute_result",
          "data": {
            "text/plain": [
              "array([ 8.85358398,  5.28812129, 11.94776666,  8.37488891, 10.35016593,\n",
              "       19.40200324, 12.68756781,  9.85707575,  6.39325799,  4.02794185,\n",
              "       10.68926807, 19.04148098, 18.94555321, 11.53321312, 13.37769878,\n",
              "       10.70161815, 15.1761587 , 11.42403068,  3.41257727, 15.78573544])"
            ]
          },
          "metadata": {
            "tags": []
          },
          "execution_count": 66
        }
      ]
    }
  ]
}