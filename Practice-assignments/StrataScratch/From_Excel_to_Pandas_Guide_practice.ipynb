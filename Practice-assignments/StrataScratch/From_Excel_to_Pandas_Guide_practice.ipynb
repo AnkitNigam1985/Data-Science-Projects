{
  "nbformat": 4,
  "nbformat_minor": 0,
  "metadata": {
    "colab": {
      "name": "From Excel to Pandas Guide_practice.ipynb",
      "provenance": [],
      "collapsed_sections": [
        "fnNt1DCxy_4b"
      ]
    },
    "kernelspec": {
      "display_name": "Python 3",
      "language": "python",
      "name": "python3"
    }
  },
  "cells": [
    {
      "cell_type": "markdown",
      "metadata": {
        "id": "m53rebcBy_1H",
        "colab_type": "text"
      },
      "source": [
        "![sslogo](https://github.com/stratascratch/stratascratch.github.io/raw/master/assets/sslogo.jpg)"
      ]
    },
    {
      "cell_type": "markdown",
      "metadata": {
        "id": "1t_lIvdzy_1J",
        "colab_type": "text"
      },
      "source": [
        "# From Excel to Pandas"
      ]
    },
    {
      "cell_type": "code",
      "metadata": {
        "id": "qORXCRDiy_1M",
        "colab_type": "code",
        "colab": {
          "base_uri": "https://localhost:8080/",
          "height": 52
        },
        "outputId": "72642f16-3975-4112-9c0c-5cfa34160c5c"
      },
      "source": [
        "# xlrd is needed to load excel files\n",
        "!pip install xlrd\n",
        "!pip install psycopg2"
      ],
      "execution_count": 1,
      "outputs": [
        {
          "output_type": "stream",
          "text": [
            "Requirement already satisfied: xlrd in /usr/local/lib/python3.6/dist-packages (1.1.0)\n",
            "Requirement already satisfied: psycopg2 in /usr/local/lib/python3.6/dist-packages (2.7.6.1)\n"
          ],
          "name": "stdout"
        }
      ]
    },
    {
      "cell_type": "code",
      "metadata": {
        "id": "ZvS7gahzy_1S",
        "colab_type": "code",
        "colab": {
          "base_uri": "https://localhost:8080/",
          "height": 72
        },
        "outputId": "db5f1c6c-6249-4779-e67e-a93fb989341d"
      },
      "source": [
        "import pandas as pd\n",
        "import numpy  as np\n",
        "import matplotlib.pyplot as plt\n",
        "import psycopg2 as ps"
      ],
      "execution_count": 2,
      "outputs": [
        {
          "output_type": "stream",
          "text": [
            "/usr/local/lib/python3.6/dist-packages/psycopg2/__init__.py:144: UserWarning: The psycopg2 wheel package will be renamed from release 2.8; in order to keep installing from binary please use \"pip install psycopg2-binary\" instead. For details see: <http://initd.org/psycopg/docs/install.html#binary-install-from-pypi>.\n",
            "  \"\"\")\n"
          ],
          "name": "stderr"
        }
      ]
    },
    {
      "cell_type": "markdown",
      "metadata": {
        "id": "Bhw3SyP2y_1V",
        "colab_type": "text"
      },
      "source": [
        "## Loading data from files"
      ]
    },
    {
      "cell_type": "markdown",
      "metadata": {
        "id": "nqODQrRAy_1X",
        "colab_type": "text"
      },
      "source": [
        "### Loading from XLSX (Excel format)\n",
        "\n",
        "We will now load a file stored in excel format with 3 sheets called [iris.xlsx](https://github.com/stratascratch/stratascratch.github.io/raw/master/assets/iris.xlsx).\n",
        "\n",
        "These 3 sheets represent the 3 varities of iris flowers as studied by [Fisher](https://en.wikipedia.org/wiki/Iris_flower_data_set).\n",
        "\n",
        "To load from excel we need to use `pd.read_excel`\n",
        "- https://pandas.pydata.org/pandas-docs/stable/generated/pandas.read_excel.html\n",
        "\n",
        "The main parameters are:\n",
        "- Filepath which tells it where to find the excel file\n",
        "- Sheet name which is very versatile and can be a string, integer or a list of strings and integers. If it is a string it means take a single sheet named with that string. If it is a number it means take a sheet by that number.\n",
        "\n",
        "The dataset intentionally misses headers because we will add them manually and this entails two more parameters which you might need to use often (which are b.t.w. also aplicable to `pd.read_csv`):\n",
        "- header which can be None or a number. If it is a number it means that the row at that number is the header and everything before that number is skiped.\n",
        "- names is a list of strings which are column names"
      ]
    },
    {
      "cell_type": "code",
      "metadata": {
        "id": "0yOhkUF0y_1Y",
        "colab_type": "code",
        "colab": {
          "base_uri": "https://localhost:8080/",
          "height": 294
        },
        "outputId": "d45acba2-3fd7-4743-9558-1e4c0d1bdd85"
      },
      "source": [
        "# One way to load the data\n",
        "column_names = [\"sepal_length\", \"sepal_width\" , \"petal_length\", \"petal_width\", \"variety\"]\n",
        "\n",
        "iris_excel_path = \"https://github.com/stratascratch/stratascratch.github.io/raw/master/assets/iris.xlsx\"\n",
        "\n",
        "setosa_data = pd.read_excel(iris_excel_path, \"Setosa\", header=None, names=column_names) # Setosa is the sheet name\n",
        "versi_data  = pd.read_excel(iris_excel_path, 1, header=None, names=column_names) # 1 is the index of the second sheet\n",
        "virgi_data  = pd.read_excel(iris_excel_path, 2, header=None, names=column_names)\n",
        "\n",
        "# we need to reset the index to have nice linear indices from 0, 1 to 150\n",
        "# reset_index() adds a new column called \"index\" which we drop (explained later)\n",
        "iris = pd.concat([setosa_data, versi_data, virgi_data]).reset_index().drop(\"index\", axis=1)\n",
        "\n",
        "iris.describe()"
      ],
      "execution_count": 3,
      "outputs": [
        {
          "output_type": "execute_result",
          "data": {
            "text/html": [
              "<div>\n",
              "<style scoped>\n",
              "    .dataframe tbody tr th:only-of-type {\n",
              "        vertical-align: middle;\n",
              "    }\n",
              "\n",
              "    .dataframe tbody tr th {\n",
              "        vertical-align: top;\n",
              "    }\n",
              "\n",
              "    .dataframe thead th {\n",
              "        text-align: right;\n",
              "    }\n",
              "</style>\n",
              "<table border=\"1\" class=\"dataframe\">\n",
              "  <thead>\n",
              "    <tr style=\"text-align: right;\">\n",
              "      <th></th>\n",
              "      <th>sepal_length</th>\n",
              "      <th>sepal_width</th>\n",
              "      <th>petal_length</th>\n",
              "      <th>petal_width</th>\n",
              "    </tr>\n",
              "  </thead>\n",
              "  <tbody>\n",
              "    <tr>\n",
              "      <th>count</th>\n",
              "      <td>150.000000</td>\n",
              "      <td>150.000000</td>\n",
              "      <td>150.000000</td>\n",
              "      <td>150.000000</td>\n",
              "    </tr>\n",
              "    <tr>\n",
              "      <th>mean</th>\n",
              "      <td>5.843333</td>\n",
              "      <td>3.057333</td>\n",
              "      <td>3.758000</td>\n",
              "      <td>1.199333</td>\n",
              "    </tr>\n",
              "    <tr>\n",
              "      <th>std</th>\n",
              "      <td>0.828066</td>\n",
              "      <td>0.435866</td>\n",
              "      <td>1.765298</td>\n",
              "      <td>0.762238</td>\n",
              "    </tr>\n",
              "    <tr>\n",
              "      <th>min</th>\n",
              "      <td>4.300000</td>\n",
              "      <td>2.000000</td>\n",
              "      <td>1.000000</td>\n",
              "      <td>0.100000</td>\n",
              "    </tr>\n",
              "    <tr>\n",
              "      <th>25%</th>\n",
              "      <td>5.100000</td>\n",
              "      <td>2.800000</td>\n",
              "      <td>1.600000</td>\n",
              "      <td>0.300000</td>\n",
              "    </tr>\n",
              "    <tr>\n",
              "      <th>50%</th>\n",
              "      <td>5.800000</td>\n",
              "      <td>3.000000</td>\n",
              "      <td>4.350000</td>\n",
              "      <td>1.300000</td>\n",
              "    </tr>\n",
              "    <tr>\n",
              "      <th>75%</th>\n",
              "      <td>6.400000</td>\n",
              "      <td>3.300000</td>\n",
              "      <td>5.100000</td>\n",
              "      <td>1.800000</td>\n",
              "    </tr>\n",
              "    <tr>\n",
              "      <th>max</th>\n",
              "      <td>7.900000</td>\n",
              "      <td>4.400000</td>\n",
              "      <td>6.900000</td>\n",
              "      <td>2.500000</td>\n",
              "    </tr>\n",
              "  </tbody>\n",
              "</table>\n",
              "</div>"
            ],
            "text/plain": [
              "       sepal_length  sepal_width  petal_length  petal_width\n",
              "count    150.000000   150.000000    150.000000   150.000000\n",
              "mean       5.843333     3.057333      3.758000     1.199333\n",
              "std        0.828066     0.435866      1.765298     0.762238\n",
              "min        4.300000     2.000000      1.000000     0.100000\n",
              "25%        5.100000     2.800000      1.600000     0.300000\n",
              "50%        5.800000     3.000000      4.350000     1.300000\n",
              "75%        6.400000     3.300000      5.100000     1.800000\n",
              "max        7.900000     4.400000      6.900000     2.500000"
            ]
          },
          "metadata": {
            "tags": []
          },
          "execution_count": 3
        }
      ]
    },
    {
      "cell_type": "code",
      "metadata": {
        "id": "deP_7BZEy_1c",
        "colab_type": "code",
        "colab": {
          "base_uri": "https://localhost:8080/",
          "height": 312
        },
        "outputId": "181a1a36-6f93-4f03-bdf8-a6c7c6b2046c"
      },
      "source": [
        "# Another way to load the data using one call to pd.read_excel\n",
        "# We get a dictionary which we can convert to one data frame using pd.concat again\n",
        "sheets = [\"Setosa\", \"Versicolor\", \"Virginica\"]\n",
        "\n",
        "column_names = [\"sepal_length\", \"sepal_width\" , \"petal_length\", \"petal_width\", \"variety\"]\n",
        "\n",
        "data_frames_dictionary = pd.read_excel(iris_excel_path, sheets, header=None, names=column_names)\n",
        "\n",
        "# values() gives us a list of dataframes\n",
        "data_frames = data_frames_dictionary.values()\n",
        "\n",
        "# we need to reset the index to have nice linear indices from 0, 1 to 150\n",
        "iris = pd.concat(data_frames).reset_index().drop(\"index\", axis=1)\n",
        "\n",
        "#keys are the sheet names\n",
        "print(data_frames_dictionary.keys())\n",
        "\n",
        "iris.describe()"
      ],
      "execution_count": 6,
      "outputs": [
        {
          "output_type": "stream",
          "text": [
            "odict_keys(['Setosa', 'Versicolor', 'Virginica'])\n"
          ],
          "name": "stdout"
        },
        {
          "output_type": "execute_result",
          "data": {
            "text/html": [
              "<div>\n",
              "<style scoped>\n",
              "    .dataframe tbody tr th:only-of-type {\n",
              "        vertical-align: middle;\n",
              "    }\n",
              "\n",
              "    .dataframe tbody tr th {\n",
              "        vertical-align: top;\n",
              "    }\n",
              "\n",
              "    .dataframe thead th {\n",
              "        text-align: right;\n",
              "    }\n",
              "</style>\n",
              "<table border=\"1\" class=\"dataframe\">\n",
              "  <thead>\n",
              "    <tr style=\"text-align: right;\">\n",
              "      <th></th>\n",
              "      <th>sepal_length</th>\n",
              "      <th>sepal_width</th>\n",
              "      <th>petal_length</th>\n",
              "      <th>petal_width</th>\n",
              "    </tr>\n",
              "  </thead>\n",
              "  <tbody>\n",
              "    <tr>\n",
              "      <th>count</th>\n",
              "      <td>150.000000</td>\n",
              "      <td>150.000000</td>\n",
              "      <td>150.000000</td>\n",
              "      <td>150.000000</td>\n",
              "    </tr>\n",
              "    <tr>\n",
              "      <th>mean</th>\n",
              "      <td>5.843333</td>\n",
              "      <td>3.057333</td>\n",
              "      <td>3.758000</td>\n",
              "      <td>1.199333</td>\n",
              "    </tr>\n",
              "    <tr>\n",
              "      <th>std</th>\n",
              "      <td>0.828066</td>\n",
              "      <td>0.435866</td>\n",
              "      <td>1.765298</td>\n",
              "      <td>0.762238</td>\n",
              "    </tr>\n",
              "    <tr>\n",
              "      <th>min</th>\n",
              "      <td>4.300000</td>\n",
              "      <td>2.000000</td>\n",
              "      <td>1.000000</td>\n",
              "      <td>0.100000</td>\n",
              "    </tr>\n",
              "    <tr>\n",
              "      <th>25%</th>\n",
              "      <td>5.100000</td>\n",
              "      <td>2.800000</td>\n",
              "      <td>1.600000</td>\n",
              "      <td>0.300000</td>\n",
              "    </tr>\n",
              "    <tr>\n",
              "      <th>50%</th>\n",
              "      <td>5.800000</td>\n",
              "      <td>3.000000</td>\n",
              "      <td>4.350000</td>\n",
              "      <td>1.300000</td>\n",
              "    </tr>\n",
              "    <tr>\n",
              "      <th>75%</th>\n",
              "      <td>6.400000</td>\n",
              "      <td>3.300000</td>\n",
              "      <td>5.100000</td>\n",
              "      <td>1.800000</td>\n",
              "    </tr>\n",
              "    <tr>\n",
              "      <th>max</th>\n",
              "      <td>7.900000</td>\n",
              "      <td>4.400000</td>\n",
              "      <td>6.900000</td>\n",
              "      <td>2.500000</td>\n",
              "    </tr>\n",
              "  </tbody>\n",
              "</table>\n",
              "</div>"
            ],
            "text/plain": [
              "       sepal_length  sepal_width  petal_length  petal_width\n",
              "count    150.000000   150.000000    150.000000   150.000000\n",
              "mean       5.843333     3.057333      3.758000     1.199333\n",
              "std        0.828066     0.435866      1.765298     0.762238\n",
              "min        4.300000     2.000000      1.000000     0.100000\n",
              "25%        5.100000     2.800000      1.600000     0.300000\n",
              "50%        5.800000     3.000000      4.350000     1.300000\n",
              "75%        6.400000     3.300000      5.100000     1.800000\n",
              "max        7.900000     4.400000      6.900000     2.500000"
            ]
          },
          "metadata": {
            "tags": []
          },
          "execution_count": 6
        }
      ]
    },
    {
      "cell_type": "code",
      "metadata": {
        "id": "L3Q0Y-YrrLMW",
        "colab_type": "code",
        "colab": {
          "base_uri": "https://localhost:8080/",
          "height": 1000
        },
        "outputId": "2e193965-d8c9-4981-9a28-327bfbe71696"
      },
      "source": [
        "data_frames_dictionary"
      ],
      "execution_count": 7,
      "outputs": [
        {
          "output_type": "execute_result",
          "data": {
            "text/plain": [
              "OrderedDict([('Setosa',\n",
              "                  sepal_length  sepal_width  petal_length  petal_width variety\n",
              "              0            5.1          3.5           1.4          0.2  Setosa\n",
              "              1            4.9          3.0           1.4          0.2  Setosa\n",
              "              2            4.7          3.2           1.3          0.2  Setosa\n",
              "              3            4.6          3.1           1.5          0.2  Setosa\n",
              "              4            5.0          3.6           1.4          0.2  Setosa\n",
              "              5            5.4          3.9           1.7          0.4  Setosa\n",
              "              6            4.6          3.4           1.4          0.3  Setosa\n",
              "              7            5.0          3.4           1.5          0.2  Setosa\n",
              "              8            4.4          2.9           1.4          0.2  Setosa\n",
              "              9            4.9          3.1           1.5          0.1  Setosa\n",
              "              10           5.4          3.7           1.5          0.2  Setosa\n",
              "              11           4.8          3.4           1.6          0.2  Setosa\n",
              "              12           4.8          3.0           1.4          0.1  Setosa\n",
              "              13           4.3          3.0           1.1          0.1  Setosa\n",
              "              14           5.8          4.0           1.2          0.2  Setosa\n",
              "              15           5.7          4.4           1.5          0.4  Setosa\n",
              "              16           5.4          3.9           1.3          0.4  Setosa\n",
              "              17           5.1          3.5           1.4          0.3  Setosa\n",
              "              18           5.7          3.8           1.7          0.3  Setosa\n",
              "              19           5.1          3.8           1.5          0.3  Setosa\n",
              "              20           5.4          3.4           1.7          0.2  Setosa\n",
              "              21           5.1          3.7           1.5          0.4  Setosa\n",
              "              22           4.6          3.6           1.0          0.2  Setosa\n",
              "              23           5.1          3.3           1.7          0.5  Setosa\n",
              "              24           4.8          3.4           1.9          0.2  Setosa\n",
              "              25           5.0          3.0           1.6          0.2  Setosa\n",
              "              26           5.0          3.4           1.6          0.4  Setosa\n",
              "              27           5.2          3.5           1.5          0.2  Setosa\n",
              "              28           5.2          3.4           1.4          0.2  Setosa\n",
              "              29           4.7          3.2           1.6          0.2  Setosa\n",
              "              30           4.8          3.1           1.6          0.2  Setosa\n",
              "              31           5.4          3.4           1.5          0.4  Setosa\n",
              "              32           5.2          4.1           1.5          0.1  Setosa\n",
              "              33           5.5          4.2           1.4          0.2  Setosa\n",
              "              34           4.9          3.1           1.5          0.2  Setosa\n",
              "              35           5.0          3.2           1.2          0.2  Setosa\n",
              "              36           5.5          3.5           1.3          0.2  Setosa\n",
              "              37           4.9          3.6           1.4          0.1  Setosa\n",
              "              38           4.4          3.0           1.3          0.2  Setosa\n",
              "              39           5.1          3.4           1.5          0.2  Setosa\n",
              "              40           5.0          3.5           1.3          0.3  Setosa\n",
              "              41           4.5          2.3           1.3          0.3  Setosa\n",
              "              42           4.4          3.2           1.3          0.2  Setosa\n",
              "              43           5.0          3.5           1.6          0.6  Setosa\n",
              "              44           5.1          3.8           1.9          0.4  Setosa\n",
              "              45           4.8          3.0           1.4          0.3  Setosa\n",
              "              46           5.1          3.8           1.6          0.2  Setosa\n",
              "              47           4.6          3.2           1.4          0.2  Setosa\n",
              "              48           5.3          3.7           1.5          0.2  Setosa\n",
              "              49           5.0          3.3           1.4          0.2  Setosa),\n",
              "             ('Versicolor',\n",
              "                  sepal_length  sepal_width  petal_length  petal_width     variety\n",
              "              0            7.0          3.2           4.7          1.4  Versicolor\n",
              "              1            6.4          3.2           4.5          1.5  Versicolor\n",
              "              2            6.9          3.1           4.9          1.5  Versicolor\n",
              "              3            5.5          2.3           4.0          1.3  Versicolor\n",
              "              4            6.5          2.8           4.6          1.5  Versicolor\n",
              "              5            5.7          2.8           4.5          1.3  Versicolor\n",
              "              6            6.3          3.3           4.7          1.6  Versicolor\n",
              "              7            4.9          2.4           3.3          1.0  Versicolor\n",
              "              8            6.6          2.9           4.6          1.3  Versicolor\n",
              "              9            5.2          2.7           3.9          1.4  Versicolor\n",
              "              10           5.0          2.0           3.5          1.0  Versicolor\n",
              "              11           5.9          3.0           4.2          1.5  Versicolor\n",
              "              12           6.0          2.2           4.0          1.0  Versicolor\n",
              "              13           6.1          2.9           4.7          1.4  Versicolor\n",
              "              14           5.6          2.9           3.6          1.3  Versicolor\n",
              "              15           6.7          3.1           4.4          1.4  Versicolor\n",
              "              16           5.6          3.0           4.5          1.5  Versicolor\n",
              "              17           5.8          2.7           4.1          1.0  Versicolor\n",
              "              18           6.2          2.2           4.5          1.5  Versicolor\n",
              "              19           5.6          2.5           3.9          1.1  Versicolor\n",
              "              20           5.9          3.2           4.8          1.8  Versicolor\n",
              "              21           6.1          2.8           4.0          1.3  Versicolor\n",
              "              22           6.3          2.5           4.9          1.5  Versicolor\n",
              "              23           6.1          2.8           4.7          1.2  Versicolor\n",
              "              24           6.4          2.9           4.3          1.3  Versicolor\n",
              "              25           6.6          3.0           4.4          1.4  Versicolor\n",
              "              26           6.8          2.8           4.8          1.4  Versicolor\n",
              "              27           6.7          3.0           5.0          1.7  Versicolor\n",
              "              28           6.0          2.9           4.5          1.5  Versicolor\n",
              "              29           5.7          2.6           3.5          1.0  Versicolor\n",
              "              30           5.5          2.4           3.8          1.1  Versicolor\n",
              "              31           5.5          2.4           3.7          1.0  Versicolor\n",
              "              32           5.8          2.7           3.9          1.2  Versicolor\n",
              "              33           6.0          2.7           5.1          1.6  Versicolor\n",
              "              34           5.4          3.0           4.5          1.5  Versicolor\n",
              "              35           6.0          3.4           4.5          1.6  Versicolor\n",
              "              36           6.7          3.1           4.7          1.5  Versicolor\n",
              "              37           6.3          2.3           4.4          1.3  Versicolor\n",
              "              38           5.6          3.0           4.1          1.3  Versicolor\n",
              "              39           5.5          2.5           4.0          1.3  Versicolor\n",
              "              40           5.5          2.6           4.4          1.2  Versicolor\n",
              "              41           6.1          3.0           4.6          1.4  Versicolor\n",
              "              42           5.8          2.6           4.0          1.2  Versicolor\n",
              "              43           5.0          2.3           3.3          1.0  Versicolor\n",
              "              44           5.6          2.7           4.2          1.3  Versicolor\n",
              "              45           5.7          3.0           4.2          1.2  Versicolor\n",
              "              46           5.7          2.9           4.2          1.3  Versicolor\n",
              "              47           6.2          2.9           4.3          1.3  Versicolor\n",
              "              48           5.1          2.5           3.0          1.1  Versicolor\n",
              "              49           5.7          2.8           4.1          1.3  Versicolor),\n",
              "             ('Virginica',\n",
              "                  sepal_length  sepal_width  petal_length  petal_width    variety\n",
              "              0            6.3          3.3           6.0          2.5  Virginica\n",
              "              1            5.8          2.7           5.1          1.9  Virginica\n",
              "              2            7.1          3.0           5.9          2.1  Virginica\n",
              "              3            6.3          2.9           5.6          1.8  Virginica\n",
              "              4            6.5          3.0           5.8          2.2  Virginica\n",
              "              5            7.6          3.0           6.6          2.1  Virginica\n",
              "              6            4.9          2.5           4.5          1.7  Virginica\n",
              "              7            7.3          2.9           6.3          1.8  Virginica\n",
              "              8            6.7          2.5           5.8          1.8  Virginica\n",
              "              9            7.2          3.6           6.1          2.5  Virginica\n",
              "              10           6.5          3.2           5.1          2.0  Virginica\n",
              "              11           6.4          2.7           5.3          1.9  Virginica\n",
              "              12           6.8          3.0           5.5          2.1  Virginica\n",
              "              13           5.7          2.5           5.0          2.0  Virginica\n",
              "              14           5.8          2.8           5.1          2.4  Virginica\n",
              "              15           6.4          3.2           5.3          2.3  Virginica\n",
              "              16           6.5          3.0           5.5          1.8  Virginica\n",
              "              17           7.7          3.8           6.7          2.2  Virginica\n",
              "              18           7.7          2.6           6.9          2.3  Virginica\n",
              "              19           6.0          2.2           5.0          1.5  Virginica\n",
              "              20           6.9          3.2           5.7          2.3  Virginica\n",
              "              21           5.6          2.8           4.9          2.0  Virginica\n",
              "              22           7.7          2.8           6.7          2.0  Virginica\n",
              "              23           6.3          2.7           4.9          1.8  Virginica\n",
              "              24           6.7          3.3           5.7          2.1  Virginica\n",
              "              25           7.2          3.2           6.0          1.8  Virginica\n",
              "              26           6.2          2.8           4.8          1.8  Virginica\n",
              "              27           6.1          3.0           4.9          1.8  Virginica\n",
              "              28           6.4          2.8           5.6          2.1  Virginica\n",
              "              29           7.2          3.0           5.8          1.6  Virginica\n",
              "              30           7.4          2.8           6.1          1.9  Virginica\n",
              "              31           7.9          3.8           6.4          2.0  Virginica\n",
              "              32           6.4          2.8           5.6          2.2  Virginica\n",
              "              33           6.3          2.8           5.1          1.5  Virginica\n",
              "              34           6.1          2.6           5.6          1.4  Virginica\n",
              "              35           7.7          3.0           6.1          2.3  Virginica\n",
              "              36           6.3          3.4           5.6          2.4  Virginica\n",
              "              37           6.4          3.1           5.5          1.8  Virginica\n",
              "              38           6.0          3.0           4.8          1.8  Virginica\n",
              "              39           6.9          3.1           5.4          2.1  Virginica\n",
              "              40           6.7          3.1           5.6          2.4  Virginica\n",
              "              41           6.9          3.1           5.1          2.3  Virginica\n",
              "              42           5.8          2.7           5.1          1.9  Virginica\n",
              "              43           6.8          3.2           5.9          2.3  Virginica\n",
              "              44           6.7          3.3           5.7          2.5  Virginica\n",
              "              45           6.7          3.0           5.2          2.3  Virginica\n",
              "              46           6.3          2.5           5.0          1.9  Virginica\n",
              "              47           6.5          3.0           5.2          2.0  Virginica\n",
              "              48           6.2          3.4           5.4          2.3  Virginica\n",
              "              49           5.9          3.0           5.1          1.8  Virginica)])"
            ]
          },
          "metadata": {
            "tags": []
          },
          "execution_count": 7
        }
      ]
    },
    {
      "cell_type": "markdown",
      "metadata": {
        "id": "ZTTVcb7uy_1f",
        "colab_type": "text"
      },
      "source": [
        "## The iris dataset from database\n",
        "\n",
        "This dataset is also present in the database under `datasets.iris`"
      ]
    },
    {
      "cell_type": "code",
      "metadata": {
        "id": "aAI25jeRy_1h",
        "colab_type": "code",
        "colab": {
          "base_uri": "https://localhost:8080/",
          "height": 34
        },
        "outputId": "fcff060e-e503-482a-ed24-ea56ce90cc25"
      },
      "source": [
        "# Connect to database\n",
        "host_name = 'db-strata.stratascratch.com'\n",
        "dbname = 'db_strata'\n",
        "port = '5432'\n",
        "user_name = 'ankit082006' #enter username\n",
        "pwd = 'ofkMQPktC' #enter your database password found in the profile tab in Strata Scratch\n",
        "\n",
        "try:\n",
        "    conn = ps.connect(host=host_name,database=dbname,user=user_name,password=pwd,port=port)\n",
        "except ps.OperationalError as e:\n",
        "    raise e\n",
        "else:\n",
        "    print('Connected!')\n",
        "\n",
        "def get_dataset(dataset_name):\n",
        "    #Write SQL below to pull datasets \n",
        "    cur = conn.cursor()\n",
        "    cur.execute(\"\"\" \n",
        "                SELECT *  FROM {0}; \n",
        "                \"\"\".format(dataset_name))\n",
        "    data = cur.fetchall()\n",
        "    colnames = [desc[0] for desc in cur.description] \n",
        "    conn.commit()\n",
        "\n",
        "    #create the pandas dataframe\n",
        "    dataframe = pd.DataFrame(data, columns=colnames)\n",
        "\n",
        "    #close the connection\n",
        "    cur.close()\n",
        "    \n",
        "    return dataframe"
      ],
      "execution_count": 8,
      "outputs": [
        {
          "output_type": "stream",
          "text": [
            "Connected!\n"
          ],
          "name": "stdout"
        }
      ]
    },
    {
      "cell_type": "code",
      "metadata": {
        "id": "8IhPk69vy_1l",
        "colab_type": "code",
        "colab": {
          "base_uri": "https://localhost:8080/",
          "height": 202
        },
        "outputId": "09ace14f-4d8b-4287-ba60-753606295850"
      },
      "source": [
        "# We load iris and by the way we also load four more datasets that we'll use later\n",
        "iris = get_dataset(\"iris\")\n",
        "\n",
        "nominee_filmography = get_dataset(\"nominee_filmography\")\n",
        "nominee_information = get_dataset(\"nominee_information\")\n",
        "billboard_top_100 = get_dataset(\"billboard_top_100_year_end\")\n",
        "\n",
        "sat_scores = get_dataset(\"sat_scores\")\n",
        "\n",
        "iris.head()"
      ],
      "execution_count": 9,
      "outputs": [
        {
          "output_type": "execute_result",
          "data": {
            "text/html": [
              "<div>\n",
              "<style scoped>\n",
              "    .dataframe tbody tr th:only-of-type {\n",
              "        vertical-align: middle;\n",
              "    }\n",
              "\n",
              "    .dataframe tbody tr th {\n",
              "        vertical-align: top;\n",
              "    }\n",
              "\n",
              "    .dataframe thead th {\n",
              "        text-align: right;\n",
              "    }\n",
              "</style>\n",
              "<table border=\"1\" class=\"dataframe\">\n",
              "  <thead>\n",
              "    <tr style=\"text-align: right;\">\n",
              "      <th></th>\n",
              "      <th>sepal_length</th>\n",
              "      <th>sepal_width</th>\n",
              "      <th>petal_length</th>\n",
              "      <th>petal_width</th>\n",
              "      <th>variety</th>\n",
              "    </tr>\n",
              "  </thead>\n",
              "  <tbody>\n",
              "    <tr>\n",
              "      <th>0</th>\n",
              "      <td>5.1</td>\n",
              "      <td>3.5</td>\n",
              "      <td>1.4</td>\n",
              "      <td>0.2</td>\n",
              "      <td>Setosa</td>\n",
              "    </tr>\n",
              "    <tr>\n",
              "      <th>1</th>\n",
              "      <td>4.9</td>\n",
              "      <td>3.0</td>\n",
              "      <td>1.4</td>\n",
              "      <td>0.2</td>\n",
              "      <td>Setosa</td>\n",
              "    </tr>\n",
              "    <tr>\n",
              "      <th>2</th>\n",
              "      <td>4.7</td>\n",
              "      <td>3.2</td>\n",
              "      <td>1.3</td>\n",
              "      <td>0.2</td>\n",
              "      <td>Setosa</td>\n",
              "    </tr>\n",
              "    <tr>\n",
              "      <th>3</th>\n",
              "      <td>4.6</td>\n",
              "      <td>3.1</td>\n",
              "      <td>1.5</td>\n",
              "      <td>0.2</td>\n",
              "      <td>Setosa</td>\n",
              "    </tr>\n",
              "    <tr>\n",
              "      <th>4</th>\n",
              "      <td>5.0</td>\n",
              "      <td>3.6</td>\n",
              "      <td>1.4</td>\n",
              "      <td>0.2</td>\n",
              "      <td>Setosa</td>\n",
              "    </tr>\n",
              "  </tbody>\n",
              "</table>\n",
              "</div>"
            ],
            "text/plain": [
              "   sepal_length  sepal_width  petal_length  petal_width variety\n",
              "0           5.1          3.5           1.4          0.2  Setosa\n",
              "1           4.9          3.0           1.4          0.2  Setosa\n",
              "2           4.7          3.2           1.3          0.2  Setosa\n",
              "3           4.6          3.1           1.5          0.2  Setosa\n",
              "4           5.0          3.6           1.4          0.2  Setosa"
            ]
          },
          "metadata": {
            "tags": []
          },
          "execution_count": 9
        }
      ]
    },
    {
      "cell_type": "markdown",
      "metadata": {
        "id": "uSLF_ztby_1p",
        "colab_type": "text"
      },
      "source": [
        "## Saving data to files"
      ]
    },
    {
      "cell_type": "markdown",
      "metadata": {
        "id": "910YT9yNy_1q",
        "colab_type": "text"
      },
      "source": [
        "Each dataframe has two methods called `to_csv` and `to_excel` whose documentation can be found at:\n",
        "- https://pandas.pydata.org/pandas-docs/stable/generated/pandas.DataFrame.to_csv.html\n",
        "- https://pandas.pydata.org/pandas-docs/stable/generated/pandas.DataFrame.to_excel.html"
      ]
    },
    {
      "cell_type": "markdown",
      "metadata": {
        "id": "q3yBzkUCy_1r",
        "colab_type": "text"
      },
      "source": [
        "## Simple math in pandas"
      ]
    },
    {
      "cell_type": "markdown",
      "metadata": {
        "id": "ZbGyW2jwy_1s",
        "colab_type": "text"
      },
      "source": [
        "You can add together two columns to get an elementwise addition."
      ]
    },
    {
      "cell_type": "code",
      "metadata": {
        "id": "-8vEpmVyy_1u",
        "colab_type": "code",
        "colab": {
          "base_uri": "https://localhost:8080/",
          "height": 121
        },
        "outputId": "d9730bef-0259-4faa-e076-8c384876e533"
      },
      "source": [
        "(iris[\"petal_width\"] + iris[\"sepal_width\"]).head()"
      ],
      "execution_count": 10,
      "outputs": [
        {
          "output_type": "execute_result",
          "data": {
            "text/plain": [
              "0    3.7\n",
              "1    3.2\n",
              "2    3.4\n",
              "3    3.3\n",
              "4    3.8\n",
              "dtype: float64"
            ]
          },
          "metadata": {
            "tags": []
          },
          "execution_count": 10
        }
      ]
    },
    {
      "cell_type": "markdown",
      "metadata": {
        "id": "vp4sZ34Qy_14",
        "colab_type": "text"
      },
      "source": [
        "Other operations are also supported (multiplication (`*`), substraction(`-`) and division(`/`)) "
      ]
    },
    {
      "cell_type": "code",
      "metadata": {
        "id": "NdjLA-nky_16",
        "colab_type": "code",
        "colab": {
          "base_uri": "https://localhost:8080/",
          "height": 121
        },
        "outputId": "690db384-7c61-43d6-f296-6a7c291e96ec"
      },
      "source": [
        "# Get rectangular approximation of petal area using elementwise multiplication\n",
        "(iris[\"petal_length\"] * iris[\"petal_width\"]).head()"
      ],
      "execution_count": 11,
      "outputs": [
        {
          "output_type": "execute_result",
          "data": {
            "text/plain": [
              "0    0.28\n",
              "1    0.28\n",
              "2    0.26\n",
              "3    0.30\n",
              "4    0.28\n",
              "dtype: float64"
            ]
          },
          "metadata": {
            "tags": []
          },
          "execution_count": 11
        }
      ]
    },
    {
      "cell_type": "markdown",
      "metadata": {
        "id": "N4nRdwH7y_2A",
        "colab_type": "text"
      },
      "source": [
        "You can also apply operations and scalars.\n",
        "\n",
        "For example you can add a scalar to a column and you can multiply by a scalar.\n",
        "\n",
        "What happens in the background is that the scalar gets replicated into an ndarray which is then processed as described above depending on the operator."
      ]
    },
    {
      "cell_type": "code",
      "metadata": {
        "id": "zm8jpgzSy_2A",
        "colab_type": "code",
        "colab": {
          "base_uri": "https://localhost:8080/",
          "height": 121
        },
        "outputId": "1312bb04-1809-4b30-8e7d-746851976a32"
      },
      "source": [
        "(5 * iris[\"sepal_length\"] + 10).head()"
      ],
      "execution_count": 12,
      "outputs": [
        {
          "output_type": "execute_result",
          "data": {
            "text/plain": [
              "0    35.5\n",
              "1    34.5\n",
              "2    33.5\n",
              "3    33.0\n",
              "4    35.0\n",
              "Name: sepal_length, dtype: float64"
            ]
          },
          "metadata": {
            "tags": []
          },
          "execution_count": 12
        }
      ]
    },
    {
      "cell_type": "markdown",
      "metadata": {
        "id": "f7BH8gRpy_2F",
        "colab_type": "text"
      },
      "source": [
        "#### Replicating scalars to array in python.\n",
        "\n",
        "In excel you can write a value in cell and then you drag down with your mouse and the value replicates itself to cells below.\n",
        "\n",
        "In python we have a special syntax for this.\n",
        "- `items * amount` where items is a python list (not ndarray) and amount is an integer."
      ]
    },
    {
      "cell_type": "code",
      "metadata": {
        "id": "R2QyhDNZy_2G",
        "colab_type": "code",
        "colab": {
          "base_uri": "https://localhost:8080/",
          "height": 190
        },
        "outputId": "5979aa13-ff38-467c-97c6-2e95a303f9f2"
      },
      "source": [
        "[\"plenty\"] * 10"
      ],
      "execution_count": 13,
      "outputs": [
        {
          "output_type": "execute_result",
          "data": {
            "text/plain": [
              "['plenty',\n",
              " 'plenty',\n",
              " 'plenty',\n",
              " 'plenty',\n",
              " 'plenty',\n",
              " 'plenty',\n",
              " 'plenty',\n",
              " 'plenty',\n",
              " 'plenty',\n",
              " 'plenty']"
            ]
          },
          "metadata": {
            "tags": []
          },
          "execution_count": 13
        }
      ]
    },
    {
      "cell_type": "code",
      "metadata": {
        "id": "vSVegm2ly_2L",
        "colab_type": "code",
        "colab": {
          "base_uri": "https://localhost:8080/",
          "height": 34
        },
        "outputId": "c2eec83d-c7e0-410f-eeff-13a5a2b74570"
      },
      "source": [
        "[5] * 10"
      ],
      "execution_count": 14,
      "outputs": [
        {
          "output_type": "execute_result",
          "data": {
            "text/plain": [
              "[5, 5, 5, 5, 5, 5, 5, 5, 5, 5]"
            ]
          },
          "metadata": {
            "tags": []
          },
          "execution_count": 14
        }
      ]
    },
    {
      "cell_type": "code",
      "metadata": {
        "id": "V4VipzbYy_2R",
        "colab_type": "code",
        "colab": {
          "base_uri": "https://localhost:8080/",
          "height": 34
        },
        "outputId": "a22972de-73c6-4a55-ac9f-75783daa0e1f"
      },
      "source": [
        "5 * 10"
      ],
      "execution_count": 15,
      "outputs": [
        {
          "output_type": "execute_result",
          "data": {
            "text/plain": [
              "50"
            ]
          },
          "metadata": {
            "tags": []
          },
          "execution_count": 15
        }
      ]
    },
    {
      "cell_type": "code",
      "metadata": {
        "id": "OM0WE6bzy_2X",
        "colab_type": "code",
        "colab": {
          "base_uri": "https://localhost:8080/",
          "height": 34
        },
        "outputId": "3810e327-b73e-43db-89ca-a75f0d0a7928"
      },
      "source": [
        "np.array([\"few\"] * 3)"
      ],
      "execution_count": 16,
      "outputs": [
        {
          "output_type": "execute_result",
          "data": {
            "text/plain": [
              "array(['few', 'few', 'few'], dtype='<U3')"
            ]
          },
          "metadata": {
            "tags": []
          },
          "execution_count": 16
        }
      ]
    },
    {
      "cell_type": "markdown",
      "metadata": {
        "id": "eQFuKbNzy_2b",
        "colab_type": "text"
      },
      "source": [
        "#### Linear sequences in python\n",
        "\n",
        "In Excel if you hold shift and drag down the value of the cell will get copied downwards while the value linearly increases by 1.\n",
        "\n",
        "To get the same effect in python we use `np.arange`."
      ]
    },
    {
      "cell_type": "code",
      "metadata": {
        "id": "7OSNoMGoy_2d",
        "colab_type": "code",
        "colab": {
          "base_uri": "https://localhost:8080/",
          "height": 52
        },
        "outputId": "fca6468c-db33-445a-ffa8-d3b84365e97a"
      },
      "source": [
        "np.arange(7, 32)"
      ],
      "execution_count": 17,
      "outputs": [
        {
          "output_type": "execute_result",
          "data": {
            "text/plain": [
              "array([ 7,  8,  9, 10, 11, 12, 13, 14, 15, 16, 17, 18, 19, 20, 21, 22, 23,\n",
              "       24, 25, 26, 27, 28, 29, 30, 31])"
            ]
          },
          "metadata": {
            "tags": []
          },
          "execution_count": 17
        }
      ]
    },
    {
      "cell_type": "markdown",
      "metadata": {
        "id": "U0RJXjk9y_2g",
        "colab_type": "text"
      },
      "source": [
        "## Column operations"
      ]
    },
    {
      "cell_type": "markdown",
      "metadata": {
        "id": "3HLjj9AJy_2g",
        "colab_type": "text"
      },
      "source": [
        "### Dropping columns\n",
        "\n",
        "You can permanently get rid of some columns you no longer need in your dataframe with a call to `pd.DataFrame.drop`:\n",
        "- https://pandas.pydata.org/pandas-docs/stable/generated/pandas.DataFrame.drop.html\n",
        "\n",
        "By default this method drops rows but if you pass `axis=1` it will drop columns.\n",
        "\n",
        "The main parameter (besides axis) is the `labels` which is a list of columns names you wish to drop.\n",
        "\n",
        "By default this method returns a new dataframe with the dropped column unless you also pass `inplace=True` in which case it modifies the dataframe in place and returns None. "
      ]
    },
    {
      "cell_type": "code",
      "metadata": {
        "id": "c5qr00AQy_2h",
        "colab_type": "code",
        "colab": {
          "base_uri": "https://localhost:8080/",
          "height": 202
        },
        "outputId": "b762df29-ea37-40aa-fc99-eaa4508d0af7"
      },
      "source": [
        "# Droping the petal columns\n",
        "\n",
        "iris_without_petals = iris.drop(labels=[\"petal_width\", \"petal_length\"], \n",
        "                                axis=1, \n",
        "                                inplace=False)\n",
        "\n",
        "iris_without_petals.head()"
      ],
      "execution_count": 18,
      "outputs": [
        {
          "output_type": "execute_result",
          "data": {
            "text/html": [
              "<div>\n",
              "<style scoped>\n",
              "    .dataframe tbody tr th:only-of-type {\n",
              "        vertical-align: middle;\n",
              "    }\n",
              "\n",
              "    .dataframe tbody tr th {\n",
              "        vertical-align: top;\n",
              "    }\n",
              "\n",
              "    .dataframe thead th {\n",
              "        text-align: right;\n",
              "    }\n",
              "</style>\n",
              "<table border=\"1\" class=\"dataframe\">\n",
              "  <thead>\n",
              "    <tr style=\"text-align: right;\">\n",
              "      <th></th>\n",
              "      <th>sepal_length</th>\n",
              "      <th>sepal_width</th>\n",
              "      <th>variety</th>\n",
              "    </tr>\n",
              "  </thead>\n",
              "  <tbody>\n",
              "    <tr>\n",
              "      <th>0</th>\n",
              "      <td>5.1</td>\n",
              "      <td>3.5</td>\n",
              "      <td>Setosa</td>\n",
              "    </tr>\n",
              "    <tr>\n",
              "      <th>1</th>\n",
              "      <td>4.9</td>\n",
              "      <td>3.0</td>\n",
              "      <td>Setosa</td>\n",
              "    </tr>\n",
              "    <tr>\n",
              "      <th>2</th>\n",
              "      <td>4.7</td>\n",
              "      <td>3.2</td>\n",
              "      <td>Setosa</td>\n",
              "    </tr>\n",
              "    <tr>\n",
              "      <th>3</th>\n",
              "      <td>4.6</td>\n",
              "      <td>3.1</td>\n",
              "      <td>Setosa</td>\n",
              "    </tr>\n",
              "    <tr>\n",
              "      <th>4</th>\n",
              "      <td>5.0</td>\n",
              "      <td>3.6</td>\n",
              "      <td>Setosa</td>\n",
              "    </tr>\n",
              "  </tbody>\n",
              "</table>\n",
              "</div>"
            ],
            "text/plain": [
              "   sepal_length  sepal_width variety\n",
              "0           5.1          3.5  Setosa\n",
              "1           4.9          3.0  Setosa\n",
              "2           4.7          3.2  Setosa\n",
              "3           4.6          3.1  Setosa\n",
              "4           5.0          3.6  Setosa"
            ]
          },
          "metadata": {
            "tags": []
          },
          "execution_count": 18
        }
      ]
    },
    {
      "cell_type": "markdown",
      "metadata": {
        "id": "dQimVyrVy_2k",
        "colab_type": "text"
      },
      "source": [
        "### Reordering columns\n",
        "\n",
        "Due to the implementation nature of pandas reordering columns is actually not a straight forward thing to do.\n",
        "\n",
        "To do that you need to construct a new dataframe using a dictionary and ordering the columns as you wish in it.\n",
        "\n",
        "Here in this example we will put variety first and swap the places of sepals and petals."
      ]
    },
    {
      "cell_type": "code",
      "metadata": {
        "id": "c8rTf_lsy_2l",
        "colab_type": "code",
        "colab": {}
      },
      "source": [
        "iris_reorder = pd.DataFrame({\n",
        "    \"variety\": iris[\"variety\"],\n",
        "    \"petal_length\": iris[\"petal_length\"],\n",
        "    \"petal_width\": iris[\"petal_width\"],\n",
        "    \"sepal_length\": iris[\"sepal_length\"],\n",
        "    \"sepal_width\": iris[\"sepal_width\"]\n",
        "})\n",
        "\n",
        "iris_reorder.head()"
      ],
      "execution_count": 0,
      "outputs": []
    },
    {
      "cell_type": "markdown",
      "metadata": {
        "id": "RdXHEGQly_2p",
        "colab_type": "text"
      },
      "source": [
        "#### Another way to reorder columns\n",
        "\n",
        "This is the shorter way which is easier to write as a one-liner but it can get clumsy when there are many columns.\n",
        "\n",
        "The idea is to use the usual column selection via `iris[[...]]` but instead of only a subset we list all columns, in the order we want in the new dataframe, and then we copy to get a new dataframe."
      ]
    },
    {
      "cell_type": "code",
      "metadata": {
        "id": "aoKsn2Cly_2q",
        "colab_type": "code",
        "colab": {}
      },
      "source": [
        "iris[[\"variety\", \"petal_length\", \"petal_width\", \"sepal_length\", \"sepal_width\"]].copy().head()"
      ],
      "execution_count": 0,
      "outputs": []
    },
    {
      "cell_type": "markdown",
      "metadata": {
        "id": "tYq8fcEKy_2t",
        "colab_type": "text"
      },
      "source": [
        "### Renaming columns\n",
        "\n",
        "Sometimes you get columns with ugly and weird names and to save yourself of some typing you might want to rename them and this is where (surprise, surprise) comes the `pd.DataFrame.rename` method:\n",
        "- https://pandas.pydata.org/pandas-docs/stable/generated/pandas.DataFrame.rename.html\n",
        "\n",
        "The primary argument is called mapper and is a dictionary of old names to new names.\n",
        "\n",
        "By default it also targets rows (the index column to be precise) but if we use `axis=1` it works on column names. \n",
        "\n",
        "It also follows the `inplace` contract many other methods do in the same way.\n",
        "\n",
        "For example our column names are long to write so we can replace them with aliases.\n",
        "\n",
        "One common use case for rename is changing column names before joins."
      ]
    },
    {
      "cell_type": "code",
      "metadata": {
        "id": "mzS9wyqAy_2v",
        "colab_type": "code",
        "colab": {
          "base_uri": "https://localhost:8080/",
          "height": 202
        },
        "outputId": "421ce28c-c6db-4434-8d59-15047ca574dc"
      },
      "source": [
        "iris.rename({\n",
        "    # old name     new name \n",
        "    \"sepal_width\": \"sw\",\n",
        "    \"sepal_length\": \"sl\",\n",
        "    \"petal_width\": \"pw\",\n",
        "    \"petal_length\": \"pl\"\n",
        "}, axis=1).head()"
      ],
      "execution_count": 19,
      "outputs": [
        {
          "output_type": "execute_result",
          "data": {
            "text/html": [
              "<div>\n",
              "<style scoped>\n",
              "    .dataframe tbody tr th:only-of-type {\n",
              "        vertical-align: middle;\n",
              "    }\n",
              "\n",
              "    .dataframe tbody tr th {\n",
              "        vertical-align: top;\n",
              "    }\n",
              "\n",
              "    .dataframe thead th {\n",
              "        text-align: right;\n",
              "    }\n",
              "</style>\n",
              "<table border=\"1\" class=\"dataframe\">\n",
              "  <thead>\n",
              "    <tr style=\"text-align: right;\">\n",
              "      <th></th>\n",
              "      <th>sl</th>\n",
              "      <th>sw</th>\n",
              "      <th>pl</th>\n",
              "      <th>pw</th>\n",
              "      <th>variety</th>\n",
              "    </tr>\n",
              "  </thead>\n",
              "  <tbody>\n",
              "    <tr>\n",
              "      <th>0</th>\n",
              "      <td>5.1</td>\n",
              "      <td>3.5</td>\n",
              "      <td>1.4</td>\n",
              "      <td>0.2</td>\n",
              "      <td>Setosa</td>\n",
              "    </tr>\n",
              "    <tr>\n",
              "      <th>1</th>\n",
              "      <td>4.9</td>\n",
              "      <td>3.0</td>\n",
              "      <td>1.4</td>\n",
              "      <td>0.2</td>\n",
              "      <td>Setosa</td>\n",
              "    </tr>\n",
              "    <tr>\n",
              "      <th>2</th>\n",
              "      <td>4.7</td>\n",
              "      <td>3.2</td>\n",
              "      <td>1.3</td>\n",
              "      <td>0.2</td>\n",
              "      <td>Setosa</td>\n",
              "    </tr>\n",
              "    <tr>\n",
              "      <th>3</th>\n",
              "      <td>4.6</td>\n",
              "      <td>3.1</td>\n",
              "      <td>1.5</td>\n",
              "      <td>0.2</td>\n",
              "      <td>Setosa</td>\n",
              "    </tr>\n",
              "    <tr>\n",
              "      <th>4</th>\n",
              "      <td>5.0</td>\n",
              "      <td>3.6</td>\n",
              "      <td>1.4</td>\n",
              "      <td>0.2</td>\n",
              "      <td>Setosa</td>\n",
              "    </tr>\n",
              "  </tbody>\n",
              "</table>\n",
              "</div>"
            ],
            "text/plain": [
              "    sl   sw   pl   pw variety\n",
              "0  5.1  3.5  1.4  0.2  Setosa\n",
              "1  4.9  3.0  1.4  0.2  Setosa\n",
              "2  4.7  3.2  1.3  0.2  Setosa\n",
              "3  4.6  3.1  1.5  0.2  Setosa\n",
              "4  5.0  3.6  1.4  0.2  Setosa"
            ]
          },
          "metadata": {
            "tags": []
          },
          "execution_count": 19
        }
      ]
    },
    {
      "cell_type": "markdown",
      "metadata": {
        "id": "phoohNEEy_2y",
        "colab_type": "text"
      },
      "source": [
        "### Filtering columns\n",
        "\n",
        "Pandas dataframes have one really nifty and powerful method called `pd.DataFrame.filter` \n",
        "- https://pandas.pydata.org/pandas-docs/stable/generated/pandas.DataFrame.filter.html\n",
        "\n",
        "Depending on the axis paramater it can be applied to both rows and columns and by default is applied to rows but by now you know the drill `axis=1` is columns.\n",
        "\n",
        "It has 3 paramaters called `items`, `like` and `regex` of which *only one* must be passed\n",
        "- items is a list of labels you want returned \n",
        "- like is a string which must be contained in column names to be returned\n",
        "- regex is a supercharged `like` with regular expressions\n",
        "\n",
        "For example to take only the petals we can use."
      ]
    },
    {
      "cell_type": "code",
      "metadata": {
        "id": "rUEhw9ZUy_2y",
        "colab_type": "code",
        "colab": {
          "base_uri": "https://localhost:8080/",
          "height": 202
        },
        "outputId": "4306435a-6d60-492a-b376-fa9b2f76edd3"
      },
      "source": [
        "iris.filter(like=\"petal\", axis=1).head()"
      ],
      "execution_count": 20,
      "outputs": [
        {
          "output_type": "execute_result",
          "data": {
            "text/html": [
              "<div>\n",
              "<style scoped>\n",
              "    .dataframe tbody tr th:only-of-type {\n",
              "        vertical-align: middle;\n",
              "    }\n",
              "\n",
              "    .dataframe tbody tr th {\n",
              "        vertical-align: top;\n",
              "    }\n",
              "\n",
              "    .dataframe thead th {\n",
              "        text-align: right;\n",
              "    }\n",
              "</style>\n",
              "<table border=\"1\" class=\"dataframe\">\n",
              "  <thead>\n",
              "    <tr style=\"text-align: right;\">\n",
              "      <th></th>\n",
              "      <th>petal_length</th>\n",
              "      <th>petal_width</th>\n",
              "    </tr>\n",
              "  </thead>\n",
              "  <tbody>\n",
              "    <tr>\n",
              "      <th>0</th>\n",
              "      <td>1.4</td>\n",
              "      <td>0.2</td>\n",
              "    </tr>\n",
              "    <tr>\n",
              "      <th>1</th>\n",
              "      <td>1.4</td>\n",
              "      <td>0.2</td>\n",
              "    </tr>\n",
              "    <tr>\n",
              "      <th>2</th>\n",
              "      <td>1.3</td>\n",
              "      <td>0.2</td>\n",
              "    </tr>\n",
              "    <tr>\n",
              "      <th>3</th>\n",
              "      <td>1.5</td>\n",
              "      <td>0.2</td>\n",
              "    </tr>\n",
              "    <tr>\n",
              "      <th>4</th>\n",
              "      <td>1.4</td>\n",
              "      <td>0.2</td>\n",
              "    </tr>\n",
              "  </tbody>\n",
              "</table>\n",
              "</div>"
            ],
            "text/plain": [
              "   petal_length  petal_width\n",
              "0           1.4          0.2\n",
              "1           1.4          0.2\n",
              "2           1.3          0.2\n",
              "3           1.5          0.2\n",
              "4           1.4          0.2"
            ]
          },
          "metadata": {
            "tags": []
          },
          "execution_count": 20
        }
      ]
    },
    {
      "cell_type": "markdown",
      "metadata": {
        "id": "TODmuAF2y_22",
        "colab_type": "text"
      },
      "source": [
        "## Conditional formating\n",
        "\n",
        "* https://pandas.pydata.org/pandas-docs/stable/style.html\n",
        "\n",
        "Each dataframe has a property called `style` and inside that `style` there are two methods:\n",
        "- `applymap` which allows conditional formating by element\n",
        "- `apply` which allows conditional formating by rows or columns\n",
        "\n",
        "To have styling we must use CSS. That means that our styling functions must return strings of special form.\n",
        "Through examples we will develop what that means."
      ]
    },
    {
      "cell_type": "markdown",
      "metadata": {
        "id": "6yPr-y69y_23",
        "colab_type": "text"
      },
      "source": [
        "### Color elements by type\n",
        "\n",
        "Here we check the type of each element of the dataframe and change its background color based on it.\n",
        "\n",
        "The syntax `background-color: blue` is called cascading style sheets or [CSS](https://www.w3schools.com/Css/). It always goes `property_name : property_value`. Other examples are `font-size: 16px`, `color: orange`, `font-weight: bold` etc.\n",
        "\n",
        "Notice that because we operate on elements we always return a single string describing the style."
      ]
    },
    {
      "cell_type": "code",
      "metadata": {
        "id": "WZbIbut5y_24",
        "colab_type": "code",
        "colab": {}
      },
      "source": [
        "def color_elements(val):\n",
        "    \"\"\"\n",
        "    If val is string we color it blue.\n",
        "    If it is a number we color it green.\n",
        "    \"\"\"\n",
        "    \n",
        "    if type(val) == str:\n",
        "        return 'background-color: blue'\n",
        "    else:\n",
        "        return 'background-color: green'\n",
        "    \n",
        "iris.style.applymap(color_elements)"
      ],
      "execution_count": 0,
      "outputs": []
    },
    {
      "cell_type": "markdown",
      "metadata": {
        "id": "AlWq6ALay_27",
        "colab_type": "text"
      },
      "source": [
        "### Highlight the minimum value in each column\n",
        "\n",
        "Now we will use the `iris.style.apply` method which expects a function that returns a list of styles, one for element in the series.\n",
        "\n",
        "The meaning of axis here is:\n",
        "- `axis=0` work on columns\n",
        "- `axis=1` work on rows\n",
        "- `axis=None` work on the whole dataframe"
      ]
    },
    {
      "cell_type": "code",
      "metadata": {
        "id": "2c130Dbvy_29",
        "colab_type": "code",
        "colab": {}
      },
      "source": [
        "def higlight_min(series):\n",
        "    n_elements = series.shape[0]\n",
        "    \n",
        "    # create an array with empty styles which are default for all items\n",
        "    styles = ['' for i in range(0, n_elements)]\n",
        "    \n",
        "    # now set the style for max position to be a orange highlight\n",
        "    styles[series.idxmin()] = 'background-color: orange'\n",
        "    \n",
        "    # finally return the list of styles\n",
        "    return styles\n",
        "\n",
        "# We can't use highlight min on the variety column so we drop it \n",
        "iris.drop(['variety'], axis=1).style.apply(higlight_min)"
      ],
      "execution_count": 0,
      "outputs": []
    },
    {
      "cell_type": "markdown",
      "metadata": {
        "id": "5nPujp5Iy_3B",
        "colab_type": "text"
      },
      "source": [
        "### Make the maximum of a row italic"
      ]
    },
    {
      "cell_type": "code",
      "metadata": {
        "id": "VPmB-zXDy_3C",
        "colab_type": "code",
        "colab": {}
      },
      "source": [
        "def bold_max(series):    \n",
        "    n_elements = series.shape[0]\n",
        "    \n",
        "    # create an array with empty styles which are default for all items\n",
        "    styles = ['' for i in range(0, n_elements)]\n",
        "    \n",
        "    # now set the style for max position to be a orange highlight\n",
        "    styles[series.values.argmax()] = 'font-style: italic'\n",
        "    \n",
        "    # finally return the list of styles\n",
        "    return styles\n",
        "\n",
        "iris.drop(['variety'], axis=1).style.apply(bold_max, axis=1)"
      ],
      "execution_count": 0,
      "outputs": []
    },
    {
      "cell_type": "markdown",
      "metadata": {
        "id": "ZURxMAscy_3I",
        "colab_type": "text"
      },
      "source": [
        "This visualizations made it easier for us to see that sepal length is almost always the largest number."
      ]
    },
    {
      "cell_type": "markdown",
      "metadata": {
        "id": "DPWsToNHy_3K",
        "colab_type": "text"
      },
      "source": [
        "### Change the number format\n",
        "\n",
        "The style property also allows changing the format using the property of the same name.\n",
        "\n",
        "It takes a dictionary mapping between column names and formats.\n",
        "\n",
        "The formating language can be explored farther in:\n",
        "- https://docs.python.org/3.7/library/string.html#format-string-syntax\n",
        "\n",
        "For example we will add trailing zeros to our numbers."
      ]
    },
    {
      "cell_type": "code",
      "metadata": {
        "id": "HQz6UIhsy_3L",
        "colab_type": "code",
        "colab": {}
      },
      "source": [
        "iris.style.format({ \"sepal_length\": \"{:.3f}\", \n",
        "                    \"sepal_width\": \"{:.5f}\",\n",
        "                    \"petal_width\": \"{:.5f}\",\n",
        "                    \"petal_length\": \"{:.3f}\"\n",
        "                  })"
      ],
      "execution_count": 0,
      "outputs": []
    },
    {
      "cell_type": "markdown",
      "metadata": {
        "id": "62yHv5pPy_3T",
        "colab_type": "text"
      },
      "source": [
        "### Barcharts in cells\n",
        "\n",
        "One cool example of styling in pandas is drawing barcharts in cells.\n",
        "- https://pandas.pydata.org/pandas-docs/stable/style.html#Bar-charts\n",
        "\n",
        "In our example we also see the first use of the `subset` parameter which is very handy to apply styling selectively and which can also be used in `apply` (rember we used drop but you can get the same effect using subset and writing out all columns except variety in the subset list). "
      ]
    },
    {
      "cell_type": "code",
      "metadata": {
        "id": "MGDXsfzoy_3U",
        "colab_type": "code",
        "colab": {}
      },
      "source": [
        "iris.style.bar(subset=[\"sepal_length\", \"petal_length\"], color=\"cyan\")"
      ],
      "execution_count": 0,
      "outputs": []
    },
    {
      "cell_type": "markdown",
      "metadata": {
        "id": "iRCWwocDy_3e",
        "colab_type": "text"
      },
      "source": [
        "## Filtering data\n",
        "\n",
        "You have already learned the basics of filtering using comparisons and masks so this section will be about bit more advanced topics. \n",
        "\n",
        "The functions covered are:\n",
        "- `isin` which tests each item of a series for membership in some list\n",
        "- `query` which filters the dataframes based on expressions"
      ]
    },
    {
      "cell_type": "markdown",
      "metadata": {
        "id": "F7lAy7N8y_3g",
        "colab_type": "text"
      },
      "source": [
        "### IsIn example\n",
        "\n",
        "- https://pandas.pydata.org/pandas-docs/stable/generated/pandas.DataFrame.isin.html"
      ]
    },
    {
      "cell_type": "code",
      "metadata": {
        "id": "iyshh2Rzy_3h",
        "colab_type": "code",
        "colab": {}
      },
      "source": [
        "iris[iris.variety.isin([\"Setosa\", \"Virginica\"])]"
      ],
      "execution_count": 0,
      "outputs": []
    },
    {
      "cell_type": "markdown",
      "metadata": {
        "id": "FMsuY5Vay_3l",
        "colab_type": "text"
      },
      "source": [
        "### Query\n",
        "\n",
        "This is a really powerful mechanism for filtering your data but be careful because the error messages tend to be hard to understand.\n",
        "\n",
        "- http://pandas.pydata.org/pandas-docs/stable/generated/pandas.DataFrame.query.html\n",
        "\n",
        "The syntax is best explained through a few examples but it's worth noting that you can access variables using the @ notation.\n",
        "\n",
        "Sadly it does not support column names which have dots in them so to use `query` we must rename our columns."
      ]
    },
    {
      "cell_type": "markdown",
      "metadata": {
        "id": "zk4gjZIgy_3n",
        "colab_type": "text"
      },
      "source": [
        "#### Example 1 \n",
        "\n",
        "Find all flowers whose sepal width is below the mean sepal width."
      ]
    },
    {
      "cell_type": "code",
      "metadata": {
        "id": "wlTh6NgKy_3n",
        "colab_type": "code",
        "colab": {
          "base_uri": "https://localhost:8080/",
          "height": 509
        },
        "outputId": "289ee632-7cda-46b0-d156-d88015d6dc6b"
      },
      "source": [
        "mean_sw = iris[\"sepal_width\"].mean()\n",
        "\n",
        "iris.query(\"sepal_width < @mean_sw\").head(15)"
      ],
      "execution_count": 21,
      "outputs": [
        {
          "output_type": "execute_result",
          "data": {
            "text/html": [
              "<div>\n",
              "<style scoped>\n",
              "    .dataframe tbody tr th:only-of-type {\n",
              "        vertical-align: middle;\n",
              "    }\n",
              "\n",
              "    .dataframe tbody tr th {\n",
              "        vertical-align: top;\n",
              "    }\n",
              "\n",
              "    .dataframe thead th {\n",
              "        text-align: right;\n",
              "    }\n",
              "</style>\n",
              "<table border=\"1\" class=\"dataframe\">\n",
              "  <thead>\n",
              "    <tr style=\"text-align: right;\">\n",
              "      <th></th>\n",
              "      <th>sepal_length</th>\n",
              "      <th>sepal_width</th>\n",
              "      <th>petal_length</th>\n",
              "      <th>petal_width</th>\n",
              "      <th>variety</th>\n",
              "    </tr>\n",
              "  </thead>\n",
              "  <tbody>\n",
              "    <tr>\n",
              "      <th>1</th>\n",
              "      <td>4.9</td>\n",
              "      <td>3.0</td>\n",
              "      <td>1.4</td>\n",
              "      <td>0.2</td>\n",
              "      <td>Setosa</td>\n",
              "    </tr>\n",
              "    <tr>\n",
              "      <th>8</th>\n",
              "      <td>4.4</td>\n",
              "      <td>2.9</td>\n",
              "      <td>1.4</td>\n",
              "      <td>0.2</td>\n",
              "      <td>Setosa</td>\n",
              "    </tr>\n",
              "    <tr>\n",
              "      <th>12</th>\n",
              "      <td>4.8</td>\n",
              "      <td>3.0</td>\n",
              "      <td>1.4</td>\n",
              "      <td>0.1</td>\n",
              "      <td>Setosa</td>\n",
              "    </tr>\n",
              "    <tr>\n",
              "      <th>13</th>\n",
              "      <td>4.3</td>\n",
              "      <td>3.0</td>\n",
              "      <td>1.1</td>\n",
              "      <td>0.1</td>\n",
              "      <td>Setosa</td>\n",
              "    </tr>\n",
              "    <tr>\n",
              "      <th>25</th>\n",
              "      <td>5.0</td>\n",
              "      <td>3.0</td>\n",
              "      <td>1.6</td>\n",
              "      <td>0.2</td>\n",
              "      <td>Setosa</td>\n",
              "    </tr>\n",
              "    <tr>\n",
              "      <th>38</th>\n",
              "      <td>4.4</td>\n",
              "      <td>3.0</td>\n",
              "      <td>1.3</td>\n",
              "      <td>0.2</td>\n",
              "      <td>Setosa</td>\n",
              "    </tr>\n",
              "    <tr>\n",
              "      <th>41</th>\n",
              "      <td>4.5</td>\n",
              "      <td>2.3</td>\n",
              "      <td>1.3</td>\n",
              "      <td>0.3</td>\n",
              "      <td>Setosa</td>\n",
              "    </tr>\n",
              "    <tr>\n",
              "      <th>45</th>\n",
              "      <td>4.8</td>\n",
              "      <td>3.0</td>\n",
              "      <td>1.4</td>\n",
              "      <td>0.3</td>\n",
              "      <td>Setosa</td>\n",
              "    </tr>\n",
              "    <tr>\n",
              "      <th>53</th>\n",
              "      <td>5.5</td>\n",
              "      <td>2.3</td>\n",
              "      <td>4.0</td>\n",
              "      <td>1.3</td>\n",
              "      <td>Versicolor</td>\n",
              "    </tr>\n",
              "    <tr>\n",
              "      <th>54</th>\n",
              "      <td>6.5</td>\n",
              "      <td>2.8</td>\n",
              "      <td>4.6</td>\n",
              "      <td>1.5</td>\n",
              "      <td>Versicolor</td>\n",
              "    </tr>\n",
              "    <tr>\n",
              "      <th>55</th>\n",
              "      <td>5.7</td>\n",
              "      <td>2.8</td>\n",
              "      <td>4.5</td>\n",
              "      <td>1.3</td>\n",
              "      <td>Versicolor</td>\n",
              "    </tr>\n",
              "    <tr>\n",
              "      <th>57</th>\n",
              "      <td>4.9</td>\n",
              "      <td>2.4</td>\n",
              "      <td>3.3</td>\n",
              "      <td>1.0</td>\n",
              "      <td>Versicolor</td>\n",
              "    </tr>\n",
              "    <tr>\n",
              "      <th>58</th>\n",
              "      <td>6.6</td>\n",
              "      <td>2.9</td>\n",
              "      <td>4.6</td>\n",
              "      <td>1.3</td>\n",
              "      <td>Versicolor</td>\n",
              "    </tr>\n",
              "    <tr>\n",
              "      <th>59</th>\n",
              "      <td>5.2</td>\n",
              "      <td>2.7</td>\n",
              "      <td>3.9</td>\n",
              "      <td>1.4</td>\n",
              "      <td>Versicolor</td>\n",
              "    </tr>\n",
              "    <tr>\n",
              "      <th>60</th>\n",
              "      <td>5.0</td>\n",
              "      <td>2.0</td>\n",
              "      <td>3.5</td>\n",
              "      <td>1.0</td>\n",
              "      <td>Versicolor</td>\n",
              "    </tr>\n",
              "  </tbody>\n",
              "</table>\n",
              "</div>"
            ],
            "text/plain": [
              "    sepal_length  sepal_width  petal_length  petal_width     variety\n",
              "1            4.9          3.0           1.4          0.2      Setosa\n",
              "8            4.4          2.9           1.4          0.2      Setosa\n",
              "12           4.8          3.0           1.4          0.1      Setosa\n",
              "13           4.3          3.0           1.1          0.1      Setosa\n",
              "25           5.0          3.0           1.6          0.2      Setosa\n",
              "38           4.4          3.0           1.3          0.2      Setosa\n",
              "41           4.5          2.3           1.3          0.3      Setosa\n",
              "45           4.8          3.0           1.4          0.3      Setosa\n",
              "53           5.5          2.3           4.0          1.3  Versicolor\n",
              "54           6.5          2.8           4.6          1.5  Versicolor\n",
              "55           5.7          2.8           4.5          1.3  Versicolor\n",
              "57           4.9          2.4           3.3          1.0  Versicolor\n",
              "58           6.6          2.9           4.6          1.3  Versicolor\n",
              "59           5.2          2.7           3.9          1.4  Versicolor\n",
              "60           5.0          2.0           3.5          1.0  Versicolor"
            ]
          },
          "metadata": {
            "tags": []
          },
          "execution_count": 21
        }
      ]
    },
    {
      "cell_type": "markdown",
      "metadata": {
        "id": "TufIxfS5y_3q",
        "colab_type": "text"
      },
      "source": [
        "#### Example 2 \n",
        "\n",
        "Find all flowers of variety setosa whose sepal length is above 5.5"
      ]
    },
    {
      "cell_type": "code",
      "metadata": {
        "id": "Uh1KPDJTy_3r",
        "colab_type": "code",
        "colab": {
          "base_uri": "https://localhost:8080/",
          "height": 202
        },
        "outputId": "2888b58e-a2a3-4019-fa96-22de9366c89b"
      },
      "source": [
        "iris.query(\"sepal_length >= 5.5 and variety == 'Setosa'\")"
      ],
      "execution_count": 22,
      "outputs": [
        {
          "output_type": "execute_result",
          "data": {
            "text/html": [
              "<div>\n",
              "<style scoped>\n",
              "    .dataframe tbody tr th:only-of-type {\n",
              "        vertical-align: middle;\n",
              "    }\n",
              "\n",
              "    .dataframe tbody tr th {\n",
              "        vertical-align: top;\n",
              "    }\n",
              "\n",
              "    .dataframe thead th {\n",
              "        text-align: right;\n",
              "    }\n",
              "</style>\n",
              "<table border=\"1\" class=\"dataframe\">\n",
              "  <thead>\n",
              "    <tr style=\"text-align: right;\">\n",
              "      <th></th>\n",
              "      <th>sepal_length</th>\n",
              "      <th>sepal_width</th>\n",
              "      <th>petal_length</th>\n",
              "      <th>petal_width</th>\n",
              "      <th>variety</th>\n",
              "    </tr>\n",
              "  </thead>\n",
              "  <tbody>\n",
              "    <tr>\n",
              "      <th>14</th>\n",
              "      <td>5.8</td>\n",
              "      <td>4.0</td>\n",
              "      <td>1.2</td>\n",
              "      <td>0.2</td>\n",
              "      <td>Setosa</td>\n",
              "    </tr>\n",
              "    <tr>\n",
              "      <th>15</th>\n",
              "      <td>5.7</td>\n",
              "      <td>4.4</td>\n",
              "      <td>1.5</td>\n",
              "      <td>0.4</td>\n",
              "      <td>Setosa</td>\n",
              "    </tr>\n",
              "    <tr>\n",
              "      <th>18</th>\n",
              "      <td>5.7</td>\n",
              "      <td>3.8</td>\n",
              "      <td>1.7</td>\n",
              "      <td>0.3</td>\n",
              "      <td>Setosa</td>\n",
              "    </tr>\n",
              "    <tr>\n",
              "      <th>33</th>\n",
              "      <td>5.5</td>\n",
              "      <td>4.2</td>\n",
              "      <td>1.4</td>\n",
              "      <td>0.2</td>\n",
              "      <td>Setosa</td>\n",
              "    </tr>\n",
              "    <tr>\n",
              "      <th>36</th>\n",
              "      <td>5.5</td>\n",
              "      <td>3.5</td>\n",
              "      <td>1.3</td>\n",
              "      <td>0.2</td>\n",
              "      <td>Setosa</td>\n",
              "    </tr>\n",
              "  </tbody>\n",
              "</table>\n",
              "</div>"
            ],
            "text/plain": [
              "    sepal_length  sepal_width  petal_length  petal_width variety\n",
              "14           5.8          4.0           1.2          0.2  Setosa\n",
              "15           5.7          4.4           1.5          0.4  Setosa\n",
              "18           5.7          3.8           1.7          0.3  Setosa\n",
              "33           5.5          4.2           1.4          0.2  Setosa\n",
              "36           5.5          3.5           1.3          0.2  Setosa"
            ]
          },
          "metadata": {
            "tags": []
          },
          "execution_count": 22
        }
      ]
    },
    {
      "cell_type": "markdown",
      "metadata": {
        "id": "YYMCr5RFy_3u",
        "colab_type": "text"
      },
      "source": [
        "#### Example 3\n",
        "\n",
        "Find all flowers whose petal_length * petal_width is smaler than 0.3 or whose variety is versicolor and sepal_width <  4.\n",
        "\n",
        "It is a made up example for you to see that you can do almost everything you do using regular filtering masks."
      ]
    },
    {
      "cell_type": "code",
      "metadata": {
        "id": "dCd_vE4Ky_3v",
        "colab_type": "code",
        "colab": {
          "base_uri": "https://localhost:8080/",
          "height": 416
        },
        "outputId": "3542bad1-868c-4469-ed46-b8875a036373"
      },
      "source": [
        "# Our query expression must be a single line but we can use the triple quote syntax.\n",
        "iris.query(\"\"\"\n",
        "    (petal_length * petal_width <= 0.3) or (variety == 'Versicolor' and sepal_width < 4.0)\n",
        "\"\"\")"
      ],
      "execution_count": 23,
      "outputs": [
        {
          "output_type": "execute_result",
          "data": {
            "text/html": [
              "<div>\n",
              "<style scoped>\n",
              "    .dataframe tbody tr th:only-of-type {\n",
              "        vertical-align: middle;\n",
              "    }\n",
              "\n",
              "    .dataframe tbody tr th {\n",
              "        vertical-align: top;\n",
              "    }\n",
              "\n",
              "    .dataframe thead th {\n",
              "        text-align: right;\n",
              "    }\n",
              "</style>\n",
              "<table border=\"1\" class=\"dataframe\">\n",
              "  <thead>\n",
              "    <tr style=\"text-align: right;\">\n",
              "      <th></th>\n",
              "      <th>sepal_length</th>\n",
              "      <th>sepal_width</th>\n",
              "      <th>petal_length</th>\n",
              "      <th>petal_width</th>\n",
              "      <th>variety</th>\n",
              "    </tr>\n",
              "  </thead>\n",
              "  <tbody>\n",
              "    <tr>\n",
              "      <th>0</th>\n",
              "      <td>5.1</td>\n",
              "      <td>3.5</td>\n",
              "      <td>1.4</td>\n",
              "      <td>0.2</td>\n",
              "      <td>Setosa</td>\n",
              "    </tr>\n",
              "    <tr>\n",
              "      <th>1</th>\n",
              "      <td>4.9</td>\n",
              "      <td>3.0</td>\n",
              "      <td>1.4</td>\n",
              "      <td>0.2</td>\n",
              "      <td>Setosa</td>\n",
              "    </tr>\n",
              "    <tr>\n",
              "      <th>2</th>\n",
              "      <td>4.7</td>\n",
              "      <td>3.2</td>\n",
              "      <td>1.3</td>\n",
              "      <td>0.2</td>\n",
              "      <td>Setosa</td>\n",
              "    </tr>\n",
              "    <tr>\n",
              "      <th>4</th>\n",
              "      <td>5.0</td>\n",
              "      <td>3.6</td>\n",
              "      <td>1.4</td>\n",
              "      <td>0.2</td>\n",
              "      <td>Setosa</td>\n",
              "    </tr>\n",
              "    <tr>\n",
              "      <th>8</th>\n",
              "      <td>4.4</td>\n",
              "      <td>2.9</td>\n",
              "      <td>1.4</td>\n",
              "      <td>0.2</td>\n",
              "      <td>Setosa</td>\n",
              "    </tr>\n",
              "    <tr>\n",
              "      <th>...</th>\n",
              "      <td>...</td>\n",
              "      <td>...</td>\n",
              "      <td>...</td>\n",
              "      <td>...</td>\n",
              "      <td>...</td>\n",
              "    </tr>\n",
              "    <tr>\n",
              "      <th>95</th>\n",
              "      <td>5.7</td>\n",
              "      <td>3.0</td>\n",
              "      <td>4.2</td>\n",
              "      <td>1.2</td>\n",
              "      <td>Versicolor</td>\n",
              "    </tr>\n",
              "    <tr>\n",
              "      <th>96</th>\n",
              "      <td>5.7</td>\n",
              "      <td>2.9</td>\n",
              "      <td>4.2</td>\n",
              "      <td>1.3</td>\n",
              "      <td>Versicolor</td>\n",
              "    </tr>\n",
              "    <tr>\n",
              "      <th>97</th>\n",
              "      <td>6.2</td>\n",
              "      <td>2.9</td>\n",
              "      <td>4.3</td>\n",
              "      <td>1.3</td>\n",
              "      <td>Versicolor</td>\n",
              "    </tr>\n",
              "    <tr>\n",
              "      <th>98</th>\n",
              "      <td>5.1</td>\n",
              "      <td>2.5</td>\n",
              "      <td>3.0</td>\n",
              "      <td>1.1</td>\n",
              "      <td>Versicolor</td>\n",
              "    </tr>\n",
              "    <tr>\n",
              "      <th>99</th>\n",
              "      <td>5.7</td>\n",
              "      <td>2.8</td>\n",
              "      <td>4.1</td>\n",
              "      <td>1.3</td>\n",
              "      <td>Versicolor</td>\n",
              "    </tr>\n",
              "  </tbody>\n",
              "</table>\n",
              "<p>70 rows × 5 columns</p>\n",
              "</div>"
            ],
            "text/plain": [
              "    sepal_length  sepal_width  petal_length  petal_width     variety\n",
              "0            5.1          3.5           1.4          0.2      Setosa\n",
              "1            4.9          3.0           1.4          0.2      Setosa\n",
              "2            4.7          3.2           1.3          0.2      Setosa\n",
              "4            5.0          3.6           1.4          0.2      Setosa\n",
              "8            4.4          2.9           1.4          0.2      Setosa\n",
              "..           ...          ...           ...          ...         ...\n",
              "95           5.7          3.0           4.2          1.2  Versicolor\n",
              "96           5.7          2.9           4.2          1.3  Versicolor\n",
              "97           6.2          2.9           4.3          1.3  Versicolor\n",
              "98           5.1          2.5           3.0          1.1  Versicolor\n",
              "99           5.7          2.8           4.1          1.3  Versicolor\n",
              "\n",
              "[70 rows x 5 columns]"
            ]
          },
          "metadata": {
            "tags": []
          },
          "execution_count": 23
        }
      ]
    },
    {
      "cell_type": "markdown",
      "metadata": {
        "id": "qLe35nSMy_3y",
        "colab_type": "text"
      },
      "source": [
        "## IF and IF ELSE"
      ]
    },
    {
      "cell_type": "markdown",
      "metadata": {
        "id": "GKpVA_jXy_3z",
        "colab_type": "text"
      },
      "source": [
        "In the pandas and numpy world we use the function `np.where` to achieve the effect of IF in Excel.\n",
        "\n",
        "- https://docs.scipy.org/doc/numpy/reference/generated/numpy.where.html\n",
        "\n",
        "It has two forms:\n",
        "- Form 1 where it takes only a single parameter which is a ndarray of boolean values (the condition array) and returns the indices where the array holds True\n",
        "- Form 2 where it takes the condition array, results_true array and results_false array and returns a new array which is the mix of results_true and results_false based on conditions which is what we will use here."
      ]
    },
    {
      "cell_type": "markdown",
      "metadata": {
        "id": "0r1jj07jy_30",
        "colab_type": "text"
      },
      "source": [
        "#### Example 1\n",
        "\n",
        "Simple example of np.where with dummy data.\n",
        "\n",
        "Where the condition was true the resulting array has an element from x while where it was false the result is from y.\n",
        "\n",
        "The following table shows how np.where works.\n",
        "\n",
        "|condition value|x|y|result|\n",
        "|---------------|-|-|------|\n",
        "|True|*100*|10|100|\n",
        "|True|*200*|20|200|\n",
        "|False|300|*30*|30|\n",
        "|False|400|*40*|40|\n",
        "|True|*500*|50|500|"
      ]
    },
    {
      "cell_type": "code",
      "metadata": {
        "id": "sh_0VGa3y_31",
        "colab_type": "code",
        "colab": {
          "base_uri": "https://localhost:8080/",
          "height": 34
        },
        "outputId": "a460722b-1bcf-4b7a-b063-4ee1c073424d"
      },
      "source": [
        "condition_array = [True, True, False, False, True]\n",
        "\n",
        "array_x = [100, 200, 300, 400, 500]\n",
        "\n",
        "array_y = [10, 20, 30, 40, 50]\n",
        "\n",
        "np.where(condition_array, array_x, array_y)"
      ],
      "execution_count": 24,
      "outputs": [
        {
          "output_type": "execute_result",
          "data": {
            "text/plain": [
              "array([100, 200,  30,  40, 500])"
            ]
          },
          "metadata": {
            "tags": []
          },
          "execution_count": 24
        }
      ]
    },
    {
      "cell_type": "markdown",
      "metadata": {
        "id": "VaU_5zRcy_34",
        "colab_type": "text"
      },
      "source": [
        "#### Example 2\n",
        "\n",
        "The behaviour of np.where when given only a single input paramater, the condition array."
      ]
    },
    {
      "cell_type": "code",
      "metadata": {
        "id": "HH6LS8yoy_35",
        "colab_type": "code",
        "colab": {
          "base_uri": "https://localhost:8080/",
          "height": 34
        },
        "outputId": "d16fce83-653f-4a36-8008-814d373a479e"
      },
      "source": [
        "np.where([True, False, False, True, True, False, True])"
      ],
      "execution_count": 25,
      "outputs": [
        {
          "output_type": "execute_result",
          "data": {
            "text/plain": [
              "(array([0, 3, 4, 6]),)"
            ]
          },
          "metadata": {
            "tags": []
          },
          "execution_count": 25
        }
      ]
    },
    {
      "cell_type": "markdown",
      "metadata": {
        "id": "PHHhLVkiy_4D",
        "colab_type": "text"
      },
      "source": [
        "#### Example 3\n",
        "\n",
        "Binarize the variety as Setosa or NotSetosa.\n",
        "\n",
        "This example also shows that we can use scalar values for array `x` or array `y` and these values will get replicated the necessary amount of times.\n",
        "\n",
        "This is common use case in machine learning."
      ]
    },
    {
      "cell_type": "code",
      "metadata": {
        "id": "AiOXaZLXy_4E",
        "colab_type": "code",
        "colab": {
          "base_uri": "https://localhost:8080/",
          "height": 520
        },
        "outputId": "30722e18-b59a-489a-816a-a89b2d214cbe"
      },
      "source": [
        "np.where(iris.variety == 'Setosa', 'Setosa', 'NotSetosa')"
      ],
      "execution_count": 26,
      "outputs": [
        {
          "output_type": "execute_result",
          "data": {
            "text/plain": [
              "array(['Setosa', 'Setosa', 'Setosa', 'Setosa', 'Setosa', 'Setosa',\n",
              "       'Setosa', 'Setosa', 'Setosa', 'Setosa', 'Setosa', 'Setosa',\n",
              "       'Setosa', 'Setosa', 'Setosa', 'Setosa', 'Setosa', 'Setosa',\n",
              "       'Setosa', 'Setosa', 'Setosa', 'Setosa', 'Setosa', 'Setosa',\n",
              "       'Setosa', 'Setosa', 'Setosa', 'Setosa', 'Setosa', 'Setosa',\n",
              "       'Setosa', 'Setosa', 'Setosa', 'Setosa', 'Setosa', 'Setosa',\n",
              "       'Setosa', 'Setosa', 'Setosa', 'Setosa', 'Setosa', 'Setosa',\n",
              "       'Setosa', 'Setosa', 'Setosa', 'Setosa', 'Setosa', 'Setosa',\n",
              "       'Setosa', 'Setosa', 'NotSetosa', 'NotSetosa', 'NotSetosa',\n",
              "       'NotSetosa', 'NotSetosa', 'NotSetosa', 'NotSetosa', 'NotSetosa',\n",
              "       'NotSetosa', 'NotSetosa', 'NotSetosa', 'NotSetosa', 'NotSetosa',\n",
              "       'NotSetosa', 'NotSetosa', 'NotSetosa', 'NotSetosa', 'NotSetosa',\n",
              "       'NotSetosa', 'NotSetosa', 'NotSetosa', 'NotSetosa', 'NotSetosa',\n",
              "       'NotSetosa', 'NotSetosa', 'NotSetosa', 'NotSetosa', 'NotSetosa',\n",
              "       'NotSetosa', 'NotSetosa', 'NotSetosa', 'NotSetosa', 'NotSetosa',\n",
              "       'NotSetosa', 'NotSetosa', 'NotSetosa', 'NotSetosa', 'NotSetosa',\n",
              "       'NotSetosa', 'NotSetosa', 'NotSetosa', 'NotSetosa', 'NotSetosa',\n",
              "       'NotSetosa', 'NotSetosa', 'NotSetosa', 'NotSetosa', 'NotSetosa',\n",
              "       'NotSetosa', 'NotSetosa', 'NotSetosa', 'NotSetosa', 'NotSetosa',\n",
              "       'NotSetosa', 'NotSetosa', 'NotSetosa', 'NotSetosa', 'NotSetosa',\n",
              "       'NotSetosa', 'NotSetosa', 'NotSetosa', 'NotSetosa', 'NotSetosa',\n",
              "       'NotSetosa', 'NotSetosa', 'NotSetosa', 'NotSetosa', 'NotSetosa',\n",
              "       'NotSetosa', 'NotSetosa', 'NotSetosa', 'NotSetosa', 'NotSetosa',\n",
              "       'NotSetosa', 'NotSetosa', 'NotSetosa', 'NotSetosa', 'NotSetosa',\n",
              "       'NotSetosa', 'NotSetosa', 'NotSetosa', 'NotSetosa', 'NotSetosa',\n",
              "       'NotSetosa', 'NotSetosa', 'NotSetosa', 'NotSetosa', 'NotSetosa',\n",
              "       'NotSetosa', 'NotSetosa', 'NotSetosa', 'NotSetosa', 'NotSetosa',\n",
              "       'NotSetosa', 'NotSetosa', 'NotSetosa', 'NotSetosa', 'NotSetosa',\n",
              "       'NotSetosa', 'NotSetosa'], dtype='<U9')"
            ]
          },
          "metadata": {
            "tags": []
          },
          "execution_count": 26
        }
      ]
    },
    {
      "cell_type": "markdown",
      "metadata": {
        "id": "ws3kSFo8y_4J",
        "colab_type": "text"
      },
      "source": [
        "## VLOOKUP and HLOOKUP\n",
        "\n",
        "Are not implemented directly in pandas but they are very similar to relational inner joins and can also be implemented using `pd.Series.map` function.\n",
        "\n",
        "For a detailed tutorial on relational joins see the following link:\n",
        "- https://colab.research.google.com/drive/1Jedvkfma4swWG1YsWrEiFpzBmwTUcOx8\n",
        "\n"
      ]
    },
    {
      "cell_type": "markdown",
      "metadata": {
        "id": "p5R2NgN0y_4K",
        "colab_type": "text"
      },
      "source": [
        "### VLOOKUP using map\n",
        "\n",
        "- https://pandas.pydata.org/pandas-docs/stable/generated/pandas.Series.map.html\n",
        "\n",
        "`map` can take a mapping function or a dictionary, for our use case the dictionary approach will suffice while the function is left for advanced use cases.\n",
        "\n",
        "We will use the `iris` dataset for the first example and we'll load `nominee_information` and `nominee_filmography` for out second example."
      ]
    },
    {
      "cell_type": "markdown",
      "metadata": {
        "id": "Ld59hD5Cy_4N",
        "colab_type": "text"
      },
      "source": [
        "#### Example 1 - Iris\n",
        "\n",
        "We find the average petal length per variety.\n",
        "\n",
        "Our dictionary `{'Setosa': 1.4620000000000002, 'Versicolor': 4.26, 'Virginica': 5.552}`\n",
        "corresponds to a table in excel of the format:\n",
        "\n",
        "| Variety | Average Petal Length |\n",
        "| --------| -------------- |\n",
        "| Setosa |  1.462 |\n",
        "| Versicolor | 4.26 |\n",
        "| Virginica | 5.52 |\n",
        "\n",
        "We want to attach the information about average petal length per variety to each row in the iris dataframe."
      ]
    },
    {
      "cell_type": "code",
      "metadata": {
        "id": "tmc3lc74y_4P",
        "colab_type": "code",
        "colab": {
          "base_uri": "https://localhost:8080/",
          "height": 34
        },
        "outputId": "c0fdf755-6328-4905-cc04-69daf5864af7"
      },
      "source": [
        "average_petal_length = iris.groupby(\"variety\")[\"petal_length\"].mean()\n",
        "\n",
        "average_petal_length.to_dict()"
      ],
      "execution_count": 27,
      "outputs": [
        {
          "output_type": "execute_result",
          "data": {
            "text/plain": [
              "{'Setosa': 1.4620000000000002, 'Versicolor': 4.26, 'Virginica': 5.552}"
            ]
          },
          "metadata": {
            "tags": []
          },
          "execution_count": 27
        }
      ]
    },
    {
      "cell_type": "code",
      "metadata": {
        "id": "5CzIG3ar0PPp",
        "colab_type": "code",
        "colab": {
          "base_uri": "https://localhost:8080/",
          "height": 202
        },
        "outputId": "06888f5e-3001-4d0e-af5e-973721587be9"
      },
      "source": [
        "iris.head()"
      ],
      "execution_count": 28,
      "outputs": [
        {
          "output_type": "execute_result",
          "data": {
            "text/html": [
              "<div>\n",
              "<style scoped>\n",
              "    .dataframe tbody tr th:only-of-type {\n",
              "        vertical-align: middle;\n",
              "    }\n",
              "\n",
              "    .dataframe tbody tr th {\n",
              "        vertical-align: top;\n",
              "    }\n",
              "\n",
              "    .dataframe thead th {\n",
              "        text-align: right;\n",
              "    }\n",
              "</style>\n",
              "<table border=\"1\" class=\"dataframe\">\n",
              "  <thead>\n",
              "    <tr style=\"text-align: right;\">\n",
              "      <th></th>\n",
              "      <th>sepal_length</th>\n",
              "      <th>sepal_width</th>\n",
              "      <th>petal_length</th>\n",
              "      <th>petal_width</th>\n",
              "      <th>variety</th>\n",
              "    </tr>\n",
              "  </thead>\n",
              "  <tbody>\n",
              "    <tr>\n",
              "      <th>0</th>\n",
              "      <td>5.1</td>\n",
              "      <td>3.5</td>\n",
              "      <td>1.4</td>\n",
              "      <td>0.2</td>\n",
              "      <td>Setosa</td>\n",
              "    </tr>\n",
              "    <tr>\n",
              "      <th>1</th>\n",
              "      <td>4.9</td>\n",
              "      <td>3.0</td>\n",
              "      <td>1.4</td>\n",
              "      <td>0.2</td>\n",
              "      <td>Setosa</td>\n",
              "    </tr>\n",
              "    <tr>\n",
              "      <th>2</th>\n",
              "      <td>4.7</td>\n",
              "      <td>3.2</td>\n",
              "      <td>1.3</td>\n",
              "      <td>0.2</td>\n",
              "      <td>Setosa</td>\n",
              "    </tr>\n",
              "    <tr>\n",
              "      <th>3</th>\n",
              "      <td>4.6</td>\n",
              "      <td>3.1</td>\n",
              "      <td>1.5</td>\n",
              "      <td>0.2</td>\n",
              "      <td>Setosa</td>\n",
              "    </tr>\n",
              "    <tr>\n",
              "      <th>4</th>\n",
              "      <td>5.0</td>\n",
              "      <td>3.6</td>\n",
              "      <td>1.4</td>\n",
              "      <td>0.2</td>\n",
              "      <td>Setosa</td>\n",
              "    </tr>\n",
              "  </tbody>\n",
              "</table>\n",
              "</div>"
            ],
            "text/plain": [
              "   sepal_length  sepal_width  petal_length  petal_width variety\n",
              "0           5.1          3.5           1.4          0.2  Setosa\n",
              "1           4.9          3.0           1.4          0.2  Setosa\n",
              "2           4.7          3.2           1.3          0.2  Setosa\n",
              "3           4.6          3.1           1.5          0.2  Setosa\n",
              "4           5.0          3.6           1.4          0.2  Setosa"
            ]
          },
          "metadata": {
            "tags": []
          },
          "execution_count": 28
        }
      ]
    },
    {
      "cell_type": "code",
      "metadata": {
        "id": "UubONelky_4X",
        "colab_type": "code",
        "colab": {
          "base_uri": "https://localhost:8080/",
          "height": 202
        },
        "outputId": "aeb9c02e-7cd2-4cfb-ffc1-ad6fc2716c88"
      },
      "source": [
        "iris[\"average_petal_length\"] = iris[\"variety\"].map(average_petal_length.to_dict())\n",
        "\n",
        "iris.head()"
      ],
      "execution_count": 29,
      "outputs": [
        {
          "output_type": "execute_result",
          "data": {
            "text/html": [
              "<div>\n",
              "<style scoped>\n",
              "    .dataframe tbody tr th:only-of-type {\n",
              "        vertical-align: middle;\n",
              "    }\n",
              "\n",
              "    .dataframe tbody tr th {\n",
              "        vertical-align: top;\n",
              "    }\n",
              "\n",
              "    .dataframe thead th {\n",
              "        text-align: right;\n",
              "    }\n",
              "</style>\n",
              "<table border=\"1\" class=\"dataframe\">\n",
              "  <thead>\n",
              "    <tr style=\"text-align: right;\">\n",
              "      <th></th>\n",
              "      <th>sepal_length</th>\n",
              "      <th>sepal_width</th>\n",
              "      <th>petal_length</th>\n",
              "      <th>petal_width</th>\n",
              "      <th>variety</th>\n",
              "      <th>average_petal_length</th>\n",
              "    </tr>\n",
              "  </thead>\n",
              "  <tbody>\n",
              "    <tr>\n",
              "      <th>0</th>\n",
              "      <td>5.1</td>\n",
              "      <td>3.5</td>\n",
              "      <td>1.4</td>\n",
              "      <td>0.2</td>\n",
              "      <td>Setosa</td>\n",
              "      <td>1.462</td>\n",
              "    </tr>\n",
              "    <tr>\n",
              "      <th>1</th>\n",
              "      <td>4.9</td>\n",
              "      <td>3.0</td>\n",
              "      <td>1.4</td>\n",
              "      <td>0.2</td>\n",
              "      <td>Setosa</td>\n",
              "      <td>1.462</td>\n",
              "    </tr>\n",
              "    <tr>\n",
              "      <th>2</th>\n",
              "      <td>4.7</td>\n",
              "      <td>3.2</td>\n",
              "      <td>1.3</td>\n",
              "      <td>0.2</td>\n",
              "      <td>Setosa</td>\n",
              "      <td>1.462</td>\n",
              "    </tr>\n",
              "    <tr>\n",
              "      <th>3</th>\n",
              "      <td>4.6</td>\n",
              "      <td>3.1</td>\n",
              "      <td>1.5</td>\n",
              "      <td>0.2</td>\n",
              "      <td>Setosa</td>\n",
              "      <td>1.462</td>\n",
              "    </tr>\n",
              "    <tr>\n",
              "      <th>4</th>\n",
              "      <td>5.0</td>\n",
              "      <td>3.6</td>\n",
              "      <td>1.4</td>\n",
              "      <td>0.2</td>\n",
              "      <td>Setosa</td>\n",
              "      <td>1.462</td>\n",
              "    </tr>\n",
              "  </tbody>\n",
              "</table>\n",
              "</div>"
            ],
            "text/plain": [
              "   sepal_length  sepal_width  ...  variety  average_petal_length\n",
              "0           5.1          3.5  ...   Setosa                 1.462\n",
              "1           4.9          3.0  ...   Setosa                 1.462\n",
              "2           4.7          3.2  ...   Setosa                 1.462\n",
              "3           4.6          3.1  ...   Setosa                 1.462\n",
              "4           5.0          3.6  ...   Setosa                 1.462\n",
              "\n",
              "[5 rows x 6 columns]"
            ]
          },
          "metadata": {
            "tags": []
          },
          "execution_count": 29
        }
      ]
    },
    {
      "cell_type": "markdown",
      "metadata": {
        "id": "fnNt1DCxy_4b",
        "colab_type": "text"
      },
      "source": [
        "#### Example 2 - Nominees"
      ]
    },
    {
      "cell_type": "code",
      "metadata": {
        "id": "AXGm_jfUy_4c",
        "colab_type": "code",
        "collapsed": true,
        "colab": {}
      },
      "source": [
        "# 'Gerard Depardieu' : '1948-12-127' ...\n",
        "name2birthday_dict = nominee_information[[\"name\", \"birthday\"]]\\\n",
        "                        .set_index(\"name\")\\\n",
        "                        .to_dict()[\"birthday\"] # we get as result {'birthday': actual_data_we_need} so we extract\n",
        "\n",
        "nominee_filmography[\"actor_bday\"] = nominee_filmography[\"name\"].map(name2birthday_dict)\n",
        "\n",
        "nominee_filmography.head()"
      ],
      "execution_count": 0,
      "outputs": []
    },
    {
      "cell_type": "markdown",
      "metadata": {
        "id": "Db3T7jDHy_4g",
        "colab_type": "text"
      },
      "source": [
        "### VLOOKUP using inner join\n",
        "\n",
        "We will utilize `pd.merge` to get the same effect as we did above with map for nominee data.\n",
        "\n",
        "Notice that `actor_bday` which we had from before is same as `birthday`.\n",
        "\n",
        "The trick is to extract the two columns we need for VLOOKUP in this case `name` and `birthday`"
      ]
    },
    {
      "cell_type": "code",
      "metadata": {
        "id": "TjDQWnDly_4h",
        "colab_type": "code",
        "colab": {}
      },
      "source": [
        "pd.merge(left = nominee_filmography, \n",
        "         right = nominee_information[[\"name\", \"birthday\"]], # extract columns\n",
        "         how = \"inner\",\n",
        "         left_on  = \"name\", # left on vlookup criteria\n",
        "         right_on = \"name\") # right on vlookup criteria"
      ],
      "execution_count": 0,
      "outputs": []
    },
    {
      "cell_type": "markdown",
      "metadata": {
        "id": "Z5Fr1FbEy_4j",
        "colab_type": "text"
      },
      "source": [
        "### HLOOKUP as transposed data VLOOKUP\n",
        "\n",
        "The easiest way is to transpose your table with which you HLOOKUP and then use VLOOKUP using one of the two ways above whichever suits you most."
      ]
    },
    {
      "cell_type": "markdown",
      "metadata": {
        "id": "UwzhFV02y_4k",
        "colab_type": "text"
      },
      "source": [
        "#### Example 1\n",
        "\n",
        "Transform the variety column to be numbers instead of names.\n",
        "\n",
        "`iris_variety_codes` is a table in HLOOKUP format.\n",
        "\n",
        "We make a dataframe from the transposition of that table and use inner joins."
      ]
    },
    {
      "cell_type": "code",
      "metadata": {
        "id": "nHBXWefSy_4l",
        "colab_type": "code",
        "colab": {
          "base_uri": "https://localhost:8080/",
          "height": 52
        },
        "outputId": "e3fe6e73-37fb-4544-de5e-818b8a350db8"
      },
      "source": [
        "iris_variety_codes = np.array([[\"Setosa\", \"Versicolor\", \"Virginica\"], \n",
        "                               [1, 2, 3]])\n",
        "\n",
        "iris_variety_codes"
      ],
      "execution_count": 30,
      "outputs": [
        {
          "output_type": "execute_result",
          "data": {
            "text/plain": [
              "array([['Setosa', 'Versicolor', 'Virginica'],\n",
              "       ['1', '2', '3']], dtype='<U10')"
            ]
          },
          "metadata": {
            "tags": []
          },
          "execution_count": 30
        }
      ]
    },
    {
      "cell_type": "code",
      "metadata": {
        "id": "AP0Vrp90y_4t",
        "colab_type": "code",
        "colab": {
          "base_uri": "https://localhost:8080/",
          "height": 202
        },
        "outputId": "83a8a374-24a2-464d-d6d7-2b9fc0b02317"
      },
      "source": [
        "tmp_df = pd.DataFrame(iris_variety_codes.T, # We transpose to get in VLOOKUP format\n",
        "                      columns=[\"variety\", \"variety_code\"]) \n",
        "\n",
        "pd.merge(iris, tmp_df, on=\"variety\").drop(\"variety\", axis=1).head()"
      ],
      "execution_count": 31,
      "outputs": [
        {
          "output_type": "execute_result",
          "data": {
            "text/html": [
              "<div>\n",
              "<style scoped>\n",
              "    .dataframe tbody tr th:only-of-type {\n",
              "        vertical-align: middle;\n",
              "    }\n",
              "\n",
              "    .dataframe tbody tr th {\n",
              "        vertical-align: top;\n",
              "    }\n",
              "\n",
              "    .dataframe thead th {\n",
              "        text-align: right;\n",
              "    }\n",
              "</style>\n",
              "<table border=\"1\" class=\"dataframe\">\n",
              "  <thead>\n",
              "    <tr style=\"text-align: right;\">\n",
              "      <th></th>\n",
              "      <th>sepal_length</th>\n",
              "      <th>sepal_width</th>\n",
              "      <th>petal_length</th>\n",
              "      <th>petal_width</th>\n",
              "      <th>average_petal_length</th>\n",
              "      <th>variety_code</th>\n",
              "    </tr>\n",
              "  </thead>\n",
              "  <tbody>\n",
              "    <tr>\n",
              "      <th>0</th>\n",
              "      <td>5.1</td>\n",
              "      <td>3.5</td>\n",
              "      <td>1.4</td>\n",
              "      <td>0.2</td>\n",
              "      <td>1.462</td>\n",
              "      <td>1</td>\n",
              "    </tr>\n",
              "    <tr>\n",
              "      <th>1</th>\n",
              "      <td>4.9</td>\n",
              "      <td>3.0</td>\n",
              "      <td>1.4</td>\n",
              "      <td>0.2</td>\n",
              "      <td>1.462</td>\n",
              "      <td>1</td>\n",
              "    </tr>\n",
              "    <tr>\n",
              "      <th>2</th>\n",
              "      <td>4.7</td>\n",
              "      <td>3.2</td>\n",
              "      <td>1.3</td>\n",
              "      <td>0.2</td>\n",
              "      <td>1.462</td>\n",
              "      <td>1</td>\n",
              "    </tr>\n",
              "    <tr>\n",
              "      <th>3</th>\n",
              "      <td>4.6</td>\n",
              "      <td>3.1</td>\n",
              "      <td>1.5</td>\n",
              "      <td>0.2</td>\n",
              "      <td>1.462</td>\n",
              "      <td>1</td>\n",
              "    </tr>\n",
              "    <tr>\n",
              "      <th>4</th>\n",
              "      <td>5.0</td>\n",
              "      <td>3.6</td>\n",
              "      <td>1.4</td>\n",
              "      <td>0.2</td>\n",
              "      <td>1.462</td>\n",
              "      <td>1</td>\n",
              "    </tr>\n",
              "  </tbody>\n",
              "</table>\n",
              "</div>"
            ],
            "text/plain": [
              "   sepal_length  sepal_width  ...  average_petal_length  variety_code\n",
              "0           5.1          3.5  ...                 1.462             1\n",
              "1           4.9          3.0  ...                 1.462             1\n",
              "2           4.7          3.2  ...                 1.462             1\n",
              "3           4.6          3.1  ...                 1.462             1\n",
              "4           5.0          3.6  ...                 1.462             1\n",
              "\n",
              "[5 rows x 6 columns]"
            ]
          },
          "metadata": {
            "tags": []
          },
          "execution_count": 31
        }
      ]
    },
    {
      "cell_type": "markdown",
      "metadata": {
        "id": "aOOLLNi-y_40",
        "colab_type": "text"
      },
      "source": [
        "## RANDBETWEEN equivalent\n",
        "\n",
        "To generate random numbers in numpy we use the `numpy.random` module.\n",
        "\n",
        "It has a variety of functions from random numbers of various distributions.\n",
        "\n",
        "The equivalent of RANDBETWEEN is `randint`.\n",
        "- https://docs.scipy.org/doc/numpy/reference/generated/numpy.random.randint.html#numpy.random.randint\n",
        "\n",
        "The upper bound is non-inclusive (so randint(5, 10) can only be one of {5, 6, 7, 8, 9})"
      ]
    },
    {
      "cell_type": "code",
      "metadata": {
        "id": "VLgjB4Jdy_41",
        "colab_type": "code",
        "colab": {
          "base_uri": "https://localhost:8080/",
          "height": 34
        },
        "outputId": "e4043217-4407-4e7d-8a23-8616d70b4a5b"
      },
      "source": [
        "np.random.randint(5, 10)"
      ],
      "execution_count": 32,
      "outputs": [
        {
          "output_type": "execute_result",
          "data": {
            "text/plain": [
              "8"
            ]
          },
          "metadata": {
            "tags": []
          },
          "execution_count": 32
        }
      ]
    },
    {
      "cell_type": "markdown",
      "metadata": {
        "id": "Q-CH-URry_44",
        "colab_type": "text"
      },
      "source": [
        "## Pivot tables in pandas\n",
        "\n",
        "- https://pandas.pydata.org/pandas-docs/stable/reshaping.html"
      ]
    },
    {
      "cell_type": "markdown",
      "metadata": {
        "id": "BvsuO6ZAy_45",
        "colab_type": "text"
      },
      "source": [
        "There is lot to learn about this but we only focus on the `pd.DataFrame.pivot` and `pd.DataFrame.pivot_table` methods which are simplest to use and generally do everything you might want. For more information and more advanced techniques consult the link above.\n",
        "\n",
        "The pandas documentation has a nice image to showcase the first method.\n",
        "\n",
        "![pd_pivot](https://pandas.pydata.org/pandas-docs/stable/_images/reshaping_pivot.png)"
      ]
    },
    {
      "cell_type": "markdown",
      "metadata": {
        "id": "K-kFzuSKy_46",
        "colab_type": "text"
      },
      "source": [
        "There are 3 parameters:\n",
        "- `index` which is the column name in the input dataframe from which to pull the rows for the pivot table. (in image foo has entries `one` and `two` which are the rows of the pivot table)\n",
        "- `columns` which is a column name in the input dataframe from which to pull the polumns (in image bar has values A, B, C which are the columns of the pivot table)\n",
        "- `values` is the name of the column in input dataframe from which to pull the table values. (in image that is baz which has values 1, 2, 3, 4, 5, 6)"
      ]
    },
    {
      "cell_type": "markdown",
      "metadata": {
        "id": "zcQV6Blhy_48",
        "colab_type": "text"
      },
      "source": [
        "#### Example - Billboards top 100"
      ]
    },
    {
      "cell_type": "markdown",
      "metadata": {
        "id": "Q4TNw59Ey_49",
        "colab_type": "text"
      },
      "source": [
        "We want to have rows be artists, columns be years and the value for cell be the year rank for the corresponding year and artist. But first we must do some aggregations."
      ]
    },
    {
      "cell_type": "code",
      "metadata": {
        "id": "XOcTaXHXy_4-",
        "colab_type": "code",
        "colab": {
          "base_uri": "https://localhost:8080/",
          "height": 202
        },
        "outputId": "b73fccc6-b131-480e-bcb6-d716d8e42321"
      },
      "source": [
        "data_to_pivot = billboard_top_100.groupby([\"year\", \"artist\"])[\"year_rank\"].mean().reset_index()\n",
        "\n",
        "data_to_pivot.head()"
      ],
      "execution_count": 33,
      "outputs": [
        {
          "output_type": "execute_result",
          "data": {
            "text/html": [
              "<div>\n",
              "<style scoped>\n",
              "    .dataframe tbody tr th:only-of-type {\n",
              "        vertical-align: middle;\n",
              "    }\n",
              "\n",
              "    .dataframe tbody tr th {\n",
              "        vertical-align: top;\n",
              "    }\n",
              "\n",
              "    .dataframe thead th {\n",
              "        text-align: right;\n",
              "    }\n",
              "</style>\n",
              "<table border=\"1\" class=\"dataframe\">\n",
              "  <thead>\n",
              "    <tr style=\"text-align: right;\">\n",
              "      <th></th>\n",
              "      <th>year</th>\n",
              "      <th>artist</th>\n",
              "      <th>year_rank</th>\n",
              "    </tr>\n",
              "  </thead>\n",
              "  <tbody>\n",
              "    <tr>\n",
              "      <th>0</th>\n",
              "      <td>1956</td>\n",
              "      <td>Al Hibbler</td>\n",
              "      <td>70.0</td>\n",
              "    </tr>\n",
              "    <tr>\n",
              "      <th>1</th>\n",
              "      <td>1956</td>\n",
              "      <td>Ames Brothers</td>\n",
              "      <td>48.0</td>\n",
              "    </tr>\n",
              "    <tr>\n",
              "      <th>2</th>\n",
              "      <td>1956</td>\n",
              "      <td>Andy Williams</td>\n",
              "      <td>55.0</td>\n",
              "    </tr>\n",
              "    <tr>\n",
              "      <th>3</th>\n",
              "      <td>1956</td>\n",
              "      <td>Bill Doggett</td>\n",
              "      <td>21.0</td>\n",
              "    </tr>\n",
              "    <tr>\n",
              "      <th>4</th>\n",
              "      <td>1956</td>\n",
              "      <td>Bill Haley and His Comets</td>\n",
              "      <td>33.0</td>\n",
              "    </tr>\n",
              "  </tbody>\n",
              "</table>\n",
              "</div>"
            ],
            "text/plain": [
              "   year                     artist  year_rank\n",
              "0  1956                 Al Hibbler       70.0\n",
              "1  1956              Ames Brothers       48.0\n",
              "2  1956              Andy Williams       55.0\n",
              "3  1956               Bill Doggett       21.0\n",
              "4  1956  Bill Haley and His Comets       33.0"
            ]
          },
          "metadata": {
            "tags": []
          },
          "execution_count": 33
        }
      ]
    },
    {
      "cell_type": "code",
      "metadata": {
        "id": "hka6rhsmy_5B",
        "colab_type": "code",
        "colab": {}
      },
      "source": [
        "data_to_pivot.pivot(\n",
        "    index=\"artist\",\n",
        "    columns=\"year\",\n",
        "    values=\"year_rank\"\n",
        ").fillna(value='No Data').head()"
      ],
      "execution_count": 0,
      "outputs": []
    },
    {
      "cell_type": "markdown",
      "metadata": {
        "id": "JI6jTuWXy_5G",
        "colab_type": "text"
      },
      "source": [
        "Because the grouping operation is so common pandas provides a convenience function `pd.DataFrame.pivot_table` which takes the same 3 parameters as `pd.DataFrame.pivot` but also takes an additional paramater `aggfunc` which is the name of aggregation we want (e.g. \"mean\"). "
      ]
    },
    {
      "cell_type": "code",
      "metadata": {
        "id": "zHUMT0tcy_5H",
        "colab_type": "code",
        "colab": {
          "base_uri": "https://localhost:8080/",
          "height": 374
        },
        "outputId": "d17dfeea-c343-4e1c-dd51-5867016d2e23"
      },
      "source": [
        "# notice how we work on the original dataframe now, not on the result of groupby dataframe\n",
        "billboard_top_100.pivot_table(\n",
        "    index=\"artist\",\n",
        "    columns=\"year\",\n",
        "    values=\"year_rank\",\n",
        "    aggfunc=\"mean\"\n",
        ").fillna(value=\"No Data\").head()"
      ],
      "execution_count": 34,
      "outputs": [
        {
          "output_type": "execute_result",
          "data": {
            "text/html": [
              "<div>\n",
              "<style scoped>\n",
              "    .dataframe tbody tr th:only-of-type {\n",
              "        vertical-align: middle;\n",
              "    }\n",
              "\n",
              "    .dataframe tbody tr th {\n",
              "        vertical-align: top;\n",
              "    }\n",
              "\n",
              "    .dataframe thead th {\n",
              "        text-align: right;\n",
              "    }\n",
              "</style>\n",
              "<table border=\"1\" class=\"dataframe\">\n",
              "  <thead>\n",
              "    <tr style=\"text-align: right;\">\n",
              "      <th>year</th>\n",
              "      <th>1956</th>\n",
              "      <th>1957</th>\n",
              "      <th>1958</th>\n",
              "      <th>1959</th>\n",
              "      <th>1960</th>\n",
              "      <th>1961</th>\n",
              "      <th>1962</th>\n",
              "      <th>1963</th>\n",
              "      <th>1964</th>\n",
              "      <th>1965</th>\n",
              "      <th>1966</th>\n",
              "      <th>1967</th>\n",
              "      <th>1968</th>\n",
              "      <th>1969</th>\n",
              "      <th>1970</th>\n",
              "      <th>1971</th>\n",
              "      <th>1972</th>\n",
              "      <th>1973</th>\n",
              "      <th>1974</th>\n",
              "      <th>1975</th>\n",
              "      <th>1976</th>\n",
              "      <th>1977</th>\n",
              "      <th>1978</th>\n",
              "      <th>1979</th>\n",
              "      <th>1980</th>\n",
              "      <th>1981</th>\n",
              "      <th>1982</th>\n",
              "      <th>1983</th>\n",
              "      <th>1984</th>\n",
              "      <th>1985</th>\n",
              "      <th>1986</th>\n",
              "      <th>1987</th>\n",
              "      <th>1988</th>\n",
              "      <th>1989</th>\n",
              "      <th>1990</th>\n",
              "      <th>1991</th>\n",
              "      <th>1992</th>\n",
              "      <th>1993</th>\n",
              "      <th>1994</th>\n",
              "      <th>1995</th>\n",
              "      <th>1996</th>\n",
              "      <th>1997</th>\n",
              "      <th>1998</th>\n",
              "      <th>1999</th>\n",
              "      <th>2000</th>\n",
              "      <th>2001</th>\n",
              "      <th>2002</th>\n",
              "      <th>2003</th>\n",
              "      <th>2004</th>\n",
              "      <th>2005</th>\n",
              "      <th>2006</th>\n",
              "      <th>2007</th>\n",
              "      <th>2008</th>\n",
              "      <th>2009</th>\n",
              "      <th>2010</th>\n",
              "      <th>2011</th>\n",
              "      <th>2012</th>\n",
              "      <th>2013</th>\n",
              "    </tr>\n",
              "    <tr>\n",
              "      <th>artist</th>\n",
              "      <th></th>\n",
              "      <th></th>\n",
              "      <th></th>\n",
              "      <th></th>\n",
              "      <th></th>\n",
              "      <th></th>\n",
              "      <th></th>\n",
              "      <th></th>\n",
              "      <th></th>\n",
              "      <th></th>\n",
              "      <th></th>\n",
              "      <th></th>\n",
              "      <th></th>\n",
              "      <th></th>\n",
              "      <th></th>\n",
              "      <th></th>\n",
              "      <th></th>\n",
              "      <th></th>\n",
              "      <th></th>\n",
              "      <th></th>\n",
              "      <th></th>\n",
              "      <th></th>\n",
              "      <th></th>\n",
              "      <th></th>\n",
              "      <th></th>\n",
              "      <th></th>\n",
              "      <th></th>\n",
              "      <th></th>\n",
              "      <th></th>\n",
              "      <th></th>\n",
              "      <th></th>\n",
              "      <th></th>\n",
              "      <th></th>\n",
              "      <th></th>\n",
              "      <th></th>\n",
              "      <th></th>\n",
              "      <th></th>\n",
              "      <th></th>\n",
              "      <th></th>\n",
              "      <th></th>\n",
              "      <th></th>\n",
              "      <th></th>\n",
              "      <th></th>\n",
              "      <th></th>\n",
              "      <th></th>\n",
              "      <th></th>\n",
              "      <th></th>\n",
              "      <th></th>\n",
              "      <th></th>\n",
              "      <th></th>\n",
              "      <th></th>\n",
              "      <th></th>\n",
              "      <th></th>\n",
              "      <th></th>\n",
              "      <th></th>\n",
              "      <th></th>\n",
              "      <th></th>\n",
              "      <th></th>\n",
              "    </tr>\n",
              "  </thead>\n",
              "  <tbody>\n",
              "    <tr>\n",
              "      <th></th>\n",
              "      <td>No Data</td>\n",
              "      <td>No Data</td>\n",
              "      <td>No Data</td>\n",
              "      <td>4</td>\n",
              "      <td>20</td>\n",
              "      <td>85</td>\n",
              "      <td>77</td>\n",
              "      <td>No Data</td>\n",
              "      <td>No Data</td>\n",
              "      <td>No Data</td>\n",
              "      <td>No Data</td>\n",
              "      <td>No Data</td>\n",
              "      <td>No Data</td>\n",
              "      <td>No Data</td>\n",
              "      <td>No Data</td>\n",
              "      <td>No Data</td>\n",
              "      <td>No Data</td>\n",
              "      <td>No Data</td>\n",
              "      <td>No Data</td>\n",
              "      <td>No Data</td>\n",
              "      <td>No Data</td>\n",
              "      <td>No Data</td>\n",
              "      <td>No Data</td>\n",
              "      <td>No Data</td>\n",
              "      <td>No Data</td>\n",
              "      <td>No Data</td>\n",
              "      <td>No Data</td>\n",
              "      <td>No Data</td>\n",
              "      <td>No Data</td>\n",
              "      <td>24</td>\n",
              "      <td>No Data</td>\n",
              "      <td>No Data</td>\n",
              "      <td>No Data</td>\n",
              "      <td>No Data</td>\n",
              "      <td>No Data</td>\n",
              "      <td>42</td>\n",
              "      <td>No Data</td>\n",
              "      <td>No Data</td>\n",
              "      <td>No Data</td>\n",
              "      <td>No Data</td>\n",
              "      <td>No Data</td>\n",
              "      <td>89</td>\n",
              "      <td>No Data</td>\n",
              "      <td>No Data</td>\n",
              "      <td>No Data</td>\n",
              "      <td>No Data</td>\n",
              "      <td>No Data</td>\n",
              "      <td>No Data</td>\n",
              "      <td>No Data</td>\n",
              "      <td>42</td>\n",
              "      <td>No Data</td>\n",
              "      <td>No Data</td>\n",
              "      <td>No Data</td>\n",
              "      <td>94</td>\n",
              "      <td>No Data</td>\n",
              "      <td>No Data</td>\n",
              "      <td>No Data</td>\n",
              "      <td>No Data</td>\n",
              "    </tr>\n",
              "    <tr>\n",
              "      <th>.38 Special</th>\n",
              "      <td>No Data</td>\n",
              "      <td>No Data</td>\n",
              "      <td>No Data</td>\n",
              "      <td>No Data</td>\n",
              "      <td>No Data</td>\n",
              "      <td>No Data</td>\n",
              "      <td>No Data</td>\n",
              "      <td>No Data</td>\n",
              "      <td>No Data</td>\n",
              "      <td>No Data</td>\n",
              "      <td>No Data</td>\n",
              "      <td>No Data</td>\n",
              "      <td>No Data</td>\n",
              "      <td>No Data</td>\n",
              "      <td>No Data</td>\n",
              "      <td>No Data</td>\n",
              "      <td>No Data</td>\n",
              "      <td>No Data</td>\n",
              "      <td>No Data</td>\n",
              "      <td>No Data</td>\n",
              "      <td>No Data</td>\n",
              "      <td>No Data</td>\n",
              "      <td>No Data</td>\n",
              "      <td>No Data</td>\n",
              "      <td>No Data</td>\n",
              "      <td>No Data</td>\n",
              "      <td>No Data</td>\n",
              "      <td>No Data</td>\n",
              "      <td>No Data</td>\n",
              "      <td>No Data</td>\n",
              "      <td>No Data</td>\n",
              "      <td>No Data</td>\n",
              "      <td>No Data</td>\n",
              "      <td>63</td>\n",
              "      <td>No Data</td>\n",
              "      <td>No Data</td>\n",
              "      <td>No Data</td>\n",
              "      <td>No Data</td>\n",
              "      <td>No Data</td>\n",
              "      <td>No Data</td>\n",
              "      <td>No Data</td>\n",
              "      <td>No Data</td>\n",
              "      <td>No Data</td>\n",
              "      <td>No Data</td>\n",
              "      <td>No Data</td>\n",
              "      <td>No Data</td>\n",
              "      <td>No Data</td>\n",
              "      <td>No Data</td>\n",
              "      <td>No Data</td>\n",
              "      <td>No Data</td>\n",
              "      <td>No Data</td>\n",
              "      <td>No Data</td>\n",
              "      <td>No Data</td>\n",
              "      <td>No Data</td>\n",
              "      <td>No Data</td>\n",
              "      <td>No Data</td>\n",
              "      <td>No Data</td>\n",
              "      <td>No Data</td>\n",
              "    </tr>\n",
              "    <tr>\n",
              "      <th>10,000 Maniacs</th>\n",
              "      <td>No Data</td>\n",
              "      <td>No Data</td>\n",
              "      <td>No Data</td>\n",
              "      <td>No Data</td>\n",
              "      <td>No Data</td>\n",
              "      <td>No Data</td>\n",
              "      <td>No Data</td>\n",
              "      <td>No Data</td>\n",
              "      <td>No Data</td>\n",
              "      <td>No Data</td>\n",
              "      <td>No Data</td>\n",
              "      <td>No Data</td>\n",
              "      <td>No Data</td>\n",
              "      <td>No Data</td>\n",
              "      <td>No Data</td>\n",
              "      <td>No Data</td>\n",
              "      <td>No Data</td>\n",
              "      <td>No Data</td>\n",
              "      <td>No Data</td>\n",
              "      <td>No Data</td>\n",
              "      <td>No Data</td>\n",
              "      <td>No Data</td>\n",
              "      <td>No Data</td>\n",
              "      <td>No Data</td>\n",
              "      <td>No Data</td>\n",
              "      <td>No Data</td>\n",
              "      <td>No Data</td>\n",
              "      <td>No Data</td>\n",
              "      <td>No Data</td>\n",
              "      <td>No Data</td>\n",
              "      <td>No Data</td>\n",
              "      <td>No Data</td>\n",
              "      <td>No Data</td>\n",
              "      <td>No Data</td>\n",
              "      <td>No Data</td>\n",
              "      <td>No Data</td>\n",
              "      <td>No Data</td>\n",
              "      <td>No Data</td>\n",
              "      <td>40</td>\n",
              "      <td>No Data</td>\n",
              "      <td>No Data</td>\n",
              "      <td>No Data</td>\n",
              "      <td>No Data</td>\n",
              "      <td>No Data</td>\n",
              "      <td>No Data</td>\n",
              "      <td>No Data</td>\n",
              "      <td>No Data</td>\n",
              "      <td>No Data</td>\n",
              "      <td>No Data</td>\n",
              "      <td>No Data</td>\n",
              "      <td>No Data</td>\n",
              "      <td>No Data</td>\n",
              "      <td>No Data</td>\n",
              "      <td>No Data</td>\n",
              "      <td>No Data</td>\n",
              "      <td>No Data</td>\n",
              "      <td>No Data</td>\n",
              "      <td>No Data</td>\n",
              "    </tr>\n",
              "    <tr>\n",
              "      <th>100 Proof Aged In Soul</th>\n",
              "      <td>No Data</td>\n",
              "      <td>No Data</td>\n",
              "      <td>No Data</td>\n",
              "      <td>No Data</td>\n",
              "      <td>No Data</td>\n",
              "      <td>No Data</td>\n",
              "      <td>No Data</td>\n",
              "      <td>No Data</td>\n",
              "      <td>No Data</td>\n",
              "      <td>No Data</td>\n",
              "      <td>No Data</td>\n",
              "      <td>No Data</td>\n",
              "      <td>No Data</td>\n",
              "      <td>No Data</td>\n",
              "      <td>84</td>\n",
              "      <td>No Data</td>\n",
              "      <td>No Data</td>\n",
              "      <td>No Data</td>\n",
              "      <td>No Data</td>\n",
              "      <td>No Data</td>\n",
              "      <td>No Data</td>\n",
              "      <td>No Data</td>\n",
              "      <td>No Data</td>\n",
              "      <td>No Data</td>\n",
              "      <td>No Data</td>\n",
              "      <td>No Data</td>\n",
              "      <td>No Data</td>\n",
              "      <td>No Data</td>\n",
              "      <td>No Data</td>\n",
              "      <td>No Data</td>\n",
              "      <td>No Data</td>\n",
              "      <td>No Data</td>\n",
              "      <td>No Data</td>\n",
              "      <td>No Data</td>\n",
              "      <td>No Data</td>\n",
              "      <td>No Data</td>\n",
              "      <td>No Data</td>\n",
              "      <td>No Data</td>\n",
              "      <td>No Data</td>\n",
              "      <td>No Data</td>\n",
              "      <td>No Data</td>\n",
              "      <td>No Data</td>\n",
              "      <td>No Data</td>\n",
              "      <td>No Data</td>\n",
              "      <td>No Data</td>\n",
              "      <td>No Data</td>\n",
              "      <td>No Data</td>\n",
              "      <td>No Data</td>\n",
              "      <td>No Data</td>\n",
              "      <td>No Data</td>\n",
              "      <td>No Data</td>\n",
              "      <td>No Data</td>\n",
              "      <td>No Data</td>\n",
              "      <td>No Data</td>\n",
              "      <td>No Data</td>\n",
              "      <td>No Data</td>\n",
              "      <td>No Data</td>\n",
              "      <td>No Data</td>\n",
              "    </tr>\n",
              "    <tr>\n",
              "      <th>10cc</th>\n",
              "      <td>No Data</td>\n",
              "      <td>No Data</td>\n",
              "      <td>No Data</td>\n",
              "      <td>No Data</td>\n",
              "      <td>No Data</td>\n",
              "      <td>No Data</td>\n",
              "      <td>No Data</td>\n",
              "      <td>No Data</td>\n",
              "      <td>No Data</td>\n",
              "      <td>No Data</td>\n",
              "      <td>No Data</td>\n",
              "      <td>No Data</td>\n",
              "      <td>No Data</td>\n",
              "      <td>No Data</td>\n",
              "      <td>No Data</td>\n",
              "      <td>No Data</td>\n",
              "      <td>No Data</td>\n",
              "      <td>No Data</td>\n",
              "      <td>No Data</td>\n",
              "      <td>42</td>\n",
              "      <td>No Data</td>\n",
              "      <td>44</td>\n",
              "      <td>No Data</td>\n",
              "      <td>No Data</td>\n",
              "      <td>No Data</td>\n",
              "      <td>No Data</td>\n",
              "      <td>No Data</td>\n",
              "      <td>No Data</td>\n",
              "      <td>No Data</td>\n",
              "      <td>No Data</td>\n",
              "      <td>No Data</td>\n",
              "      <td>No Data</td>\n",
              "      <td>No Data</td>\n",
              "      <td>No Data</td>\n",
              "      <td>No Data</td>\n",
              "      <td>No Data</td>\n",
              "      <td>No Data</td>\n",
              "      <td>No Data</td>\n",
              "      <td>No Data</td>\n",
              "      <td>No Data</td>\n",
              "      <td>No Data</td>\n",
              "      <td>No Data</td>\n",
              "      <td>No Data</td>\n",
              "      <td>No Data</td>\n",
              "      <td>No Data</td>\n",
              "      <td>No Data</td>\n",
              "      <td>No Data</td>\n",
              "      <td>No Data</td>\n",
              "      <td>No Data</td>\n",
              "      <td>No Data</td>\n",
              "      <td>No Data</td>\n",
              "      <td>No Data</td>\n",
              "      <td>No Data</td>\n",
              "      <td>No Data</td>\n",
              "      <td>No Data</td>\n",
              "      <td>No Data</td>\n",
              "      <td>No Data</td>\n",
              "      <td>No Data</td>\n",
              "    </tr>\n",
              "  </tbody>\n",
              "</table>\n",
              "</div>"
            ],
            "text/plain": [
              "year                       1956     1957     1958  ...     2011     2012     2013\n",
              "artist                                             ...                           \n",
              "                        No Data  No Data  No Data  ...  No Data  No Data  No Data\n",
              ".38 Special             No Data  No Data  No Data  ...  No Data  No Data  No Data\n",
              "10,000 Maniacs          No Data  No Data  No Data  ...  No Data  No Data  No Data\n",
              "100 Proof Aged In Soul  No Data  No Data  No Data  ...  No Data  No Data  No Data\n",
              "10cc                    No Data  No Data  No Data  ...  No Data  No Data  No Data\n",
              "\n",
              "[5 rows x 58 columns]"
            ]
          },
          "metadata": {
            "tags": []
          },
          "execution_count": 34
        }
      ]
    },
    {
      "cell_type": "markdown",
      "metadata": {
        "id": "SKhiS_0Sy_5M",
        "colab_type": "text"
      },
      "source": [
        "#### Example 2\n",
        "\n",
        "Making our pivot table look nicer using conditional formating and sorting the artist names.\n",
        "\n",
        "Notice that we can combine multiple CSS properties if we separate them with a semicolon.\n",
        "\n",
        "- `text-align` is about horizontal alignment.\n",
        "- `opacity` is about visibility"
      ]
    },
    {
      "cell_type": "code",
      "metadata": {
        "id": "PVAIGSj0y_5P",
        "colab_type": "code",
        "colab": {
          "base_uri": "https://localhost:8080/",
          "height": 470
        },
        "outputId": "b4b30cca-f807-4722-a071-e7c25cda76f9"
      },
      "source": [
        "def pivot_table_element_style(element):\n",
        "    if element == \"No Data\":\n",
        "        return 'opacity: 0.5' # low opacity makes the no data text fade into the background\n",
        "    else:\n",
        "        return 'background-color: green; text-align: center'\n",
        "\n",
        "# Pivot, Sort, Fill Na with No Data text, take last 10, apply styling\n",
        "billboard_top_100.pivot_table(\n",
        "    index=\"artist\",\n",
        "    columns=\"year\",\n",
        "    values=\"year_rank\",\n",
        "    aggfunc=\"mean\"\n",
        ").sort_index(ascending=False)\\\n",
        " .fillna(value=\"No Data\")\\\n",
        " .tail(10)\\\n",
        " .style.applymap(pivot_table_element_style)"
      ],
      "execution_count": 35,
      "outputs": [
        {
          "output_type": "execute_result",
          "data": {
            "text/html": [
              "<style  type=\"text/css\" >\n",
              "    #T_01071340_2a6b_11ea_9acd_0242ac1c0002row0_col0 {\n",
              "            opacity:  0.5;\n",
              "        }    #T_01071340_2a6b_11ea_9acd_0242ac1c0002row0_col1 {\n",
              "            opacity:  0.5;\n",
              "        }    #T_01071340_2a6b_11ea_9acd_0242ac1c0002row0_col2 {\n",
              "            opacity:  0.5;\n",
              "        }    #T_01071340_2a6b_11ea_9acd_0242ac1c0002row0_col3 {\n",
              "            opacity:  0.5;\n",
              "        }    #T_01071340_2a6b_11ea_9acd_0242ac1c0002row0_col4 {\n",
              "            opacity:  0.5;\n",
              "        }    #T_01071340_2a6b_11ea_9acd_0242ac1c0002row0_col5 {\n",
              "            opacity:  0.5;\n",
              "        }    #T_01071340_2a6b_11ea_9acd_0242ac1c0002row0_col6 {\n",
              "            opacity:  0.5;\n",
              "        }    #T_01071340_2a6b_11ea_9acd_0242ac1c0002row0_col7 {\n",
              "            opacity:  0.5;\n",
              "        }    #T_01071340_2a6b_11ea_9acd_0242ac1c0002row0_col8 {\n",
              "            opacity:  0.5;\n",
              "        }    #T_01071340_2a6b_11ea_9acd_0242ac1c0002row0_col9 {\n",
              "            opacity:  0.5;\n",
              "        }    #T_01071340_2a6b_11ea_9acd_0242ac1c0002row0_col10 {\n",
              "            opacity:  0.5;\n",
              "        }    #T_01071340_2a6b_11ea_9acd_0242ac1c0002row0_col11 {\n",
              "            opacity:  0.5;\n",
              "        }    #T_01071340_2a6b_11ea_9acd_0242ac1c0002row0_col12 {\n",
              "            opacity:  0.5;\n",
              "        }    #T_01071340_2a6b_11ea_9acd_0242ac1c0002row0_col13 {\n",
              "            opacity:  0.5;\n",
              "        }    #T_01071340_2a6b_11ea_9acd_0242ac1c0002row0_col14 {\n",
              "            opacity:  0.5;\n",
              "        }    #T_01071340_2a6b_11ea_9acd_0242ac1c0002row0_col15 {\n",
              "            opacity:  0.5;\n",
              "        }    #T_01071340_2a6b_11ea_9acd_0242ac1c0002row0_col16 {\n",
              "            opacity:  0.5;\n",
              "        }    #T_01071340_2a6b_11ea_9acd_0242ac1c0002row0_col17 {\n",
              "            opacity:  0.5;\n",
              "        }    #T_01071340_2a6b_11ea_9acd_0242ac1c0002row0_col18 {\n",
              "            opacity:  0.5;\n",
              "        }    #T_01071340_2a6b_11ea_9acd_0242ac1c0002row0_col19 {\n",
              "            opacity:  0.5;\n",
              "        }    #T_01071340_2a6b_11ea_9acd_0242ac1c0002row0_col20 {\n",
              "            opacity:  0.5;\n",
              "        }    #T_01071340_2a6b_11ea_9acd_0242ac1c0002row0_col21 {\n",
              "            opacity:  0.5;\n",
              "        }    #T_01071340_2a6b_11ea_9acd_0242ac1c0002row0_col22 {\n",
              "            opacity:  0.5;\n",
              "        }    #T_01071340_2a6b_11ea_9acd_0242ac1c0002row0_col23 {\n",
              "            opacity:  0.5;\n",
              "        }    #T_01071340_2a6b_11ea_9acd_0242ac1c0002row0_col24 {\n",
              "            opacity:  0.5;\n",
              "        }    #T_01071340_2a6b_11ea_9acd_0242ac1c0002row0_col25 {\n",
              "            opacity:  0.5;\n",
              "        }    #T_01071340_2a6b_11ea_9acd_0242ac1c0002row0_col26 {\n",
              "            opacity:  0.5;\n",
              "        }    #T_01071340_2a6b_11ea_9acd_0242ac1c0002row0_col27 {\n",
              "            opacity:  0.5;\n",
              "        }    #T_01071340_2a6b_11ea_9acd_0242ac1c0002row0_col28 {\n",
              "            opacity:  0.5;\n",
              "        }    #T_01071340_2a6b_11ea_9acd_0242ac1c0002row0_col29 {\n",
              "            opacity:  0.5;\n",
              "        }    #T_01071340_2a6b_11ea_9acd_0242ac1c0002row0_col30 {\n",
              "            opacity:  0.5;\n",
              "        }    #T_01071340_2a6b_11ea_9acd_0242ac1c0002row0_col31 {\n",
              "            opacity:  0.5;\n",
              "        }    #T_01071340_2a6b_11ea_9acd_0242ac1c0002row0_col32 {\n",
              "            opacity:  0.5;\n",
              "        }    #T_01071340_2a6b_11ea_9acd_0242ac1c0002row0_col33 {\n",
              "            opacity:  0.5;\n",
              "        }    #T_01071340_2a6b_11ea_9acd_0242ac1c0002row0_col34 {\n",
              "            opacity:  0.5;\n",
              "        }    #T_01071340_2a6b_11ea_9acd_0242ac1c0002row0_col35 {\n",
              "            opacity:  0.5;\n",
              "        }    #T_01071340_2a6b_11ea_9acd_0242ac1c0002row0_col36 {\n",
              "            opacity:  0.5;\n",
              "        }    #T_01071340_2a6b_11ea_9acd_0242ac1c0002row0_col37 {\n",
              "            opacity:  0.5;\n",
              "        }    #T_01071340_2a6b_11ea_9acd_0242ac1c0002row0_col38 {\n",
              "            opacity:  0.5;\n",
              "        }    #T_01071340_2a6b_11ea_9acd_0242ac1c0002row0_col39 {\n",
              "            background-color:  green;\n",
              "             text-align:  center;\n",
              "        }    #T_01071340_2a6b_11ea_9acd_0242ac1c0002row0_col40 {\n",
              "            opacity:  0.5;\n",
              "        }    #T_01071340_2a6b_11ea_9acd_0242ac1c0002row0_col41 {\n",
              "            opacity:  0.5;\n",
              "        }    #T_01071340_2a6b_11ea_9acd_0242ac1c0002row0_col42 {\n",
              "            opacity:  0.5;\n",
              "        }    #T_01071340_2a6b_11ea_9acd_0242ac1c0002row0_col43 {\n",
              "            opacity:  0.5;\n",
              "        }    #T_01071340_2a6b_11ea_9acd_0242ac1c0002row0_col44 {\n",
              "            opacity:  0.5;\n",
              "        }    #T_01071340_2a6b_11ea_9acd_0242ac1c0002row0_col45 {\n",
              "            opacity:  0.5;\n",
              "        }    #T_01071340_2a6b_11ea_9acd_0242ac1c0002row0_col46 {\n",
              "            opacity:  0.5;\n",
              "        }    #T_01071340_2a6b_11ea_9acd_0242ac1c0002row0_col47 {\n",
              "            opacity:  0.5;\n",
              "        }    #T_01071340_2a6b_11ea_9acd_0242ac1c0002row0_col48 {\n",
              "            opacity:  0.5;\n",
              "        }    #T_01071340_2a6b_11ea_9acd_0242ac1c0002row0_col49 {\n",
              "            opacity:  0.5;\n",
              "        }    #T_01071340_2a6b_11ea_9acd_0242ac1c0002row0_col50 {\n",
              "            opacity:  0.5;\n",
              "        }    #T_01071340_2a6b_11ea_9acd_0242ac1c0002row0_col51 {\n",
              "            opacity:  0.5;\n",
              "        }    #T_01071340_2a6b_11ea_9acd_0242ac1c0002row0_col52 {\n",
              "            opacity:  0.5;\n",
              "        }    #T_01071340_2a6b_11ea_9acd_0242ac1c0002row0_col53 {\n",
              "            opacity:  0.5;\n",
              "        }    #T_01071340_2a6b_11ea_9acd_0242ac1c0002row0_col54 {\n",
              "            opacity:  0.5;\n",
              "        }    #T_01071340_2a6b_11ea_9acd_0242ac1c0002row0_col55 {\n",
              "            opacity:  0.5;\n",
              "        }    #T_01071340_2a6b_11ea_9acd_0242ac1c0002row0_col56 {\n",
              "            opacity:  0.5;\n",
              "        }    #T_01071340_2a6b_11ea_9acd_0242ac1c0002row0_col57 {\n",
              "            opacity:  0.5;\n",
              "        }    #T_01071340_2a6b_11ea_9acd_0242ac1c0002row1_col0 {\n",
              "            opacity:  0.5;\n",
              "        }    #T_01071340_2a6b_11ea_9acd_0242ac1c0002row1_col1 {\n",
              "            opacity:  0.5;\n",
              "        }    #T_01071340_2a6b_11ea_9acd_0242ac1c0002row1_col2 {\n",
              "            opacity:  0.5;\n",
              "        }    #T_01071340_2a6b_11ea_9acd_0242ac1c0002row1_col3 {\n",
              "            opacity:  0.5;\n",
              "        }    #T_01071340_2a6b_11ea_9acd_0242ac1c0002row1_col4 {\n",
              "            opacity:  0.5;\n",
              "        }    #T_01071340_2a6b_11ea_9acd_0242ac1c0002row1_col5 {\n",
              "            opacity:  0.5;\n",
              "        }    #T_01071340_2a6b_11ea_9acd_0242ac1c0002row1_col6 {\n",
              "            opacity:  0.5;\n",
              "        }    #T_01071340_2a6b_11ea_9acd_0242ac1c0002row1_col7 {\n",
              "            opacity:  0.5;\n",
              "        }    #T_01071340_2a6b_11ea_9acd_0242ac1c0002row1_col8 {\n",
              "            opacity:  0.5;\n",
              "        }    #T_01071340_2a6b_11ea_9acd_0242ac1c0002row1_col9 {\n",
              "            opacity:  0.5;\n",
              "        }    #T_01071340_2a6b_11ea_9acd_0242ac1c0002row1_col10 {\n",
              "            opacity:  0.5;\n",
              "        }    #T_01071340_2a6b_11ea_9acd_0242ac1c0002row1_col11 {\n",
              "            opacity:  0.5;\n",
              "        }    #T_01071340_2a6b_11ea_9acd_0242ac1c0002row1_col12 {\n",
              "            opacity:  0.5;\n",
              "        }    #T_01071340_2a6b_11ea_9acd_0242ac1c0002row1_col13 {\n",
              "            opacity:  0.5;\n",
              "        }    #T_01071340_2a6b_11ea_9acd_0242ac1c0002row1_col14 {\n",
              "            opacity:  0.5;\n",
              "        }    #T_01071340_2a6b_11ea_9acd_0242ac1c0002row1_col15 {\n",
              "            opacity:  0.5;\n",
              "        }    #T_01071340_2a6b_11ea_9acd_0242ac1c0002row1_col16 {\n",
              "            opacity:  0.5;\n",
              "        }    #T_01071340_2a6b_11ea_9acd_0242ac1c0002row1_col17 {\n",
              "            opacity:  0.5;\n",
              "        }    #T_01071340_2a6b_11ea_9acd_0242ac1c0002row1_col18 {\n",
              "            opacity:  0.5;\n",
              "        }    #T_01071340_2a6b_11ea_9acd_0242ac1c0002row1_col19 {\n",
              "            opacity:  0.5;\n",
              "        }    #T_01071340_2a6b_11ea_9acd_0242ac1c0002row1_col20 {\n",
              "            opacity:  0.5;\n",
              "        }    #T_01071340_2a6b_11ea_9acd_0242ac1c0002row1_col21 {\n",
              "            opacity:  0.5;\n",
              "        }    #T_01071340_2a6b_11ea_9acd_0242ac1c0002row1_col22 {\n",
              "            opacity:  0.5;\n",
              "        }    #T_01071340_2a6b_11ea_9acd_0242ac1c0002row1_col23 {\n",
              "            opacity:  0.5;\n",
              "        }    #T_01071340_2a6b_11ea_9acd_0242ac1c0002row1_col24 {\n",
              "            opacity:  0.5;\n",
              "        }    #T_01071340_2a6b_11ea_9acd_0242ac1c0002row1_col25 {\n",
              "            opacity:  0.5;\n",
              "        }    #T_01071340_2a6b_11ea_9acd_0242ac1c0002row1_col26 {\n",
              "            opacity:  0.5;\n",
              "        }    #T_01071340_2a6b_11ea_9acd_0242ac1c0002row1_col27 {\n",
              "            opacity:  0.5;\n",
              "        }    #T_01071340_2a6b_11ea_9acd_0242ac1c0002row1_col28 {\n",
              "            opacity:  0.5;\n",
              "        }    #T_01071340_2a6b_11ea_9acd_0242ac1c0002row1_col29 {\n",
              "            opacity:  0.5;\n",
              "        }    #T_01071340_2a6b_11ea_9acd_0242ac1c0002row1_col30 {\n",
              "            opacity:  0.5;\n",
              "        }    #T_01071340_2a6b_11ea_9acd_0242ac1c0002row1_col31 {\n",
              "            opacity:  0.5;\n",
              "        }    #T_01071340_2a6b_11ea_9acd_0242ac1c0002row1_col32 {\n",
              "            opacity:  0.5;\n",
              "        }    #T_01071340_2a6b_11ea_9acd_0242ac1c0002row1_col33 {\n",
              "            opacity:  0.5;\n",
              "        }    #T_01071340_2a6b_11ea_9acd_0242ac1c0002row1_col34 {\n",
              "            opacity:  0.5;\n",
              "        }    #T_01071340_2a6b_11ea_9acd_0242ac1c0002row1_col35 {\n",
              "            opacity:  0.5;\n",
              "        }    #T_01071340_2a6b_11ea_9acd_0242ac1c0002row1_col36 {\n",
              "            opacity:  0.5;\n",
              "        }    #T_01071340_2a6b_11ea_9acd_0242ac1c0002row1_col37 {\n",
              "            opacity:  0.5;\n",
              "        }    #T_01071340_2a6b_11ea_9acd_0242ac1c0002row1_col38 {\n",
              "            opacity:  0.5;\n",
              "        }    #T_01071340_2a6b_11ea_9acd_0242ac1c0002row1_col39 {\n",
              "            opacity:  0.5;\n",
              "        }    #T_01071340_2a6b_11ea_9acd_0242ac1c0002row1_col40 {\n",
              "            opacity:  0.5;\n",
              "        }    #T_01071340_2a6b_11ea_9acd_0242ac1c0002row1_col41 {\n",
              "            opacity:  0.5;\n",
              "        }    #T_01071340_2a6b_11ea_9acd_0242ac1c0002row1_col42 {\n",
              "            opacity:  0.5;\n",
              "        }    #T_01071340_2a6b_11ea_9acd_0242ac1c0002row1_col43 {\n",
              "            opacity:  0.5;\n",
              "        }    #T_01071340_2a6b_11ea_9acd_0242ac1c0002row1_col44 {\n",
              "            opacity:  0.5;\n",
              "        }    #T_01071340_2a6b_11ea_9acd_0242ac1c0002row1_col45 {\n",
              "            opacity:  0.5;\n",
              "        }    #T_01071340_2a6b_11ea_9acd_0242ac1c0002row1_col46 {\n",
              "            opacity:  0.5;\n",
              "        }    #T_01071340_2a6b_11ea_9acd_0242ac1c0002row1_col47 {\n",
              "            opacity:  0.5;\n",
              "        }    #T_01071340_2a6b_11ea_9acd_0242ac1c0002row1_col48 {\n",
              "            opacity:  0.5;\n",
              "        }    #T_01071340_2a6b_11ea_9acd_0242ac1c0002row1_col49 {\n",
              "            opacity:  0.5;\n",
              "        }    #T_01071340_2a6b_11ea_9acd_0242ac1c0002row1_col50 {\n",
              "            opacity:  0.5;\n",
              "        }    #T_01071340_2a6b_11ea_9acd_0242ac1c0002row1_col51 {\n",
              "            opacity:  0.5;\n",
              "        }    #T_01071340_2a6b_11ea_9acd_0242ac1c0002row1_col52 {\n",
              "            background-color:  green;\n",
              "             text-align:  center;\n",
              "        }    #T_01071340_2a6b_11ea_9acd_0242ac1c0002row1_col53 {\n",
              "            opacity:  0.5;\n",
              "        }    #T_01071340_2a6b_11ea_9acd_0242ac1c0002row1_col54 {\n",
              "            opacity:  0.5;\n",
              "        }    #T_01071340_2a6b_11ea_9acd_0242ac1c0002row1_col55 {\n",
              "            opacity:  0.5;\n",
              "        }    #T_01071340_2a6b_11ea_9acd_0242ac1c0002row1_col56 {\n",
              "            opacity:  0.5;\n",
              "        }    #T_01071340_2a6b_11ea_9acd_0242ac1c0002row1_col57 {\n",
              "            opacity:  0.5;\n",
              "        }    #T_01071340_2a6b_11ea_9acd_0242ac1c0002row2_col0 {\n",
              "            opacity:  0.5;\n",
              "        }    #T_01071340_2a6b_11ea_9acd_0242ac1c0002row2_col1 {\n",
              "            opacity:  0.5;\n",
              "        }    #T_01071340_2a6b_11ea_9acd_0242ac1c0002row2_col2 {\n",
              "            opacity:  0.5;\n",
              "        }    #T_01071340_2a6b_11ea_9acd_0242ac1c0002row2_col3 {\n",
              "            opacity:  0.5;\n",
              "        }    #T_01071340_2a6b_11ea_9acd_0242ac1c0002row2_col4 {\n",
              "            opacity:  0.5;\n",
              "        }    #T_01071340_2a6b_11ea_9acd_0242ac1c0002row2_col5 {\n",
              "            opacity:  0.5;\n",
              "        }    #T_01071340_2a6b_11ea_9acd_0242ac1c0002row2_col6 {\n",
              "            opacity:  0.5;\n",
              "        }    #T_01071340_2a6b_11ea_9acd_0242ac1c0002row2_col7 {\n",
              "            opacity:  0.5;\n",
              "        }    #T_01071340_2a6b_11ea_9acd_0242ac1c0002row2_col8 {\n",
              "            opacity:  0.5;\n",
              "        }    #T_01071340_2a6b_11ea_9acd_0242ac1c0002row2_col9 {\n",
              "            opacity:  0.5;\n",
              "        }    #T_01071340_2a6b_11ea_9acd_0242ac1c0002row2_col10 {\n",
              "            opacity:  0.5;\n",
              "        }    #T_01071340_2a6b_11ea_9acd_0242ac1c0002row2_col11 {\n",
              "            opacity:  0.5;\n",
              "        }    #T_01071340_2a6b_11ea_9acd_0242ac1c0002row2_col12 {\n",
              "            opacity:  0.5;\n",
              "        }    #T_01071340_2a6b_11ea_9acd_0242ac1c0002row2_col13 {\n",
              "            opacity:  0.5;\n",
              "        }    #T_01071340_2a6b_11ea_9acd_0242ac1c0002row2_col14 {\n",
              "            opacity:  0.5;\n",
              "        }    #T_01071340_2a6b_11ea_9acd_0242ac1c0002row2_col15 {\n",
              "            opacity:  0.5;\n",
              "        }    #T_01071340_2a6b_11ea_9acd_0242ac1c0002row2_col16 {\n",
              "            opacity:  0.5;\n",
              "        }    #T_01071340_2a6b_11ea_9acd_0242ac1c0002row2_col17 {\n",
              "            opacity:  0.5;\n",
              "        }    #T_01071340_2a6b_11ea_9acd_0242ac1c0002row2_col18 {\n",
              "            opacity:  0.5;\n",
              "        }    #T_01071340_2a6b_11ea_9acd_0242ac1c0002row2_col19 {\n",
              "            opacity:  0.5;\n",
              "        }    #T_01071340_2a6b_11ea_9acd_0242ac1c0002row2_col20 {\n",
              "            opacity:  0.5;\n",
              "        }    #T_01071340_2a6b_11ea_9acd_0242ac1c0002row2_col21 {\n",
              "            opacity:  0.5;\n",
              "        }    #T_01071340_2a6b_11ea_9acd_0242ac1c0002row2_col22 {\n",
              "            opacity:  0.5;\n",
              "        }    #T_01071340_2a6b_11ea_9acd_0242ac1c0002row2_col23 {\n",
              "            opacity:  0.5;\n",
              "        }    #T_01071340_2a6b_11ea_9acd_0242ac1c0002row2_col24 {\n",
              "            opacity:  0.5;\n",
              "        }    #T_01071340_2a6b_11ea_9acd_0242ac1c0002row2_col25 {\n",
              "            opacity:  0.5;\n",
              "        }    #T_01071340_2a6b_11ea_9acd_0242ac1c0002row2_col26 {\n",
              "            opacity:  0.5;\n",
              "        }    #T_01071340_2a6b_11ea_9acd_0242ac1c0002row2_col27 {\n",
              "            opacity:  0.5;\n",
              "        }    #T_01071340_2a6b_11ea_9acd_0242ac1c0002row2_col28 {\n",
              "            opacity:  0.5;\n",
              "        }    #T_01071340_2a6b_11ea_9acd_0242ac1c0002row2_col29 {\n",
              "            opacity:  0.5;\n",
              "        }    #T_01071340_2a6b_11ea_9acd_0242ac1c0002row2_col30 {\n",
              "            opacity:  0.5;\n",
              "        }    #T_01071340_2a6b_11ea_9acd_0242ac1c0002row2_col31 {\n",
              "            opacity:  0.5;\n",
              "        }    #T_01071340_2a6b_11ea_9acd_0242ac1c0002row2_col32 {\n",
              "            opacity:  0.5;\n",
              "        }    #T_01071340_2a6b_11ea_9acd_0242ac1c0002row2_col33 {\n",
              "            opacity:  0.5;\n",
              "        }    #T_01071340_2a6b_11ea_9acd_0242ac1c0002row2_col34 {\n",
              "            opacity:  0.5;\n",
              "        }    #T_01071340_2a6b_11ea_9acd_0242ac1c0002row2_col35 {\n",
              "            opacity:  0.5;\n",
              "        }    #T_01071340_2a6b_11ea_9acd_0242ac1c0002row2_col36 {\n",
              "            opacity:  0.5;\n",
              "        }    #T_01071340_2a6b_11ea_9acd_0242ac1c0002row2_col37 {\n",
              "            opacity:  0.5;\n",
              "        }    #T_01071340_2a6b_11ea_9acd_0242ac1c0002row2_col38 {\n",
              "            opacity:  0.5;\n",
              "        }    #T_01071340_2a6b_11ea_9acd_0242ac1c0002row2_col39 {\n",
              "            opacity:  0.5;\n",
              "        }    #T_01071340_2a6b_11ea_9acd_0242ac1c0002row2_col40 {\n",
              "            opacity:  0.5;\n",
              "        }    #T_01071340_2a6b_11ea_9acd_0242ac1c0002row2_col41 {\n",
              "            opacity:  0.5;\n",
              "        }    #T_01071340_2a6b_11ea_9acd_0242ac1c0002row2_col42 {\n",
              "            opacity:  0.5;\n",
              "        }    #T_01071340_2a6b_11ea_9acd_0242ac1c0002row2_col43 {\n",
              "            opacity:  0.5;\n",
              "        }    #T_01071340_2a6b_11ea_9acd_0242ac1c0002row2_col44 {\n",
              "            opacity:  0.5;\n",
              "        }    #T_01071340_2a6b_11ea_9acd_0242ac1c0002row2_col45 {\n",
              "            opacity:  0.5;\n",
              "        }    #T_01071340_2a6b_11ea_9acd_0242ac1c0002row2_col46 {\n",
              "            opacity:  0.5;\n",
              "        }    #T_01071340_2a6b_11ea_9acd_0242ac1c0002row2_col47 {\n",
              "            opacity:  0.5;\n",
              "        }    #T_01071340_2a6b_11ea_9acd_0242ac1c0002row2_col48 {\n",
              "            opacity:  0.5;\n",
              "        }    #T_01071340_2a6b_11ea_9acd_0242ac1c0002row2_col49 {\n",
              "            opacity:  0.5;\n",
              "        }    #T_01071340_2a6b_11ea_9acd_0242ac1c0002row2_col50 {\n",
              "            opacity:  0.5;\n",
              "        }    #T_01071340_2a6b_11ea_9acd_0242ac1c0002row2_col51 {\n",
              "            opacity:  0.5;\n",
              "        }    #T_01071340_2a6b_11ea_9acd_0242ac1c0002row2_col52 {\n",
              "            opacity:  0.5;\n",
              "        }    #T_01071340_2a6b_11ea_9acd_0242ac1c0002row2_col53 {\n",
              "            opacity:  0.5;\n",
              "        }    #T_01071340_2a6b_11ea_9acd_0242ac1c0002row2_col54 {\n",
              "            opacity:  0.5;\n",
              "        }    #T_01071340_2a6b_11ea_9acd_0242ac1c0002row2_col55 {\n",
              "            opacity:  0.5;\n",
              "        }    #T_01071340_2a6b_11ea_9acd_0242ac1c0002row2_col56 {\n",
              "            background-color:  green;\n",
              "             text-align:  center;\n",
              "        }    #T_01071340_2a6b_11ea_9acd_0242ac1c0002row2_col57 {\n",
              "            background-color:  green;\n",
              "             text-align:  center;\n",
              "        }    #T_01071340_2a6b_11ea_9acd_0242ac1c0002row3_col0 {\n",
              "            opacity:  0.5;\n",
              "        }    #T_01071340_2a6b_11ea_9acd_0242ac1c0002row3_col1 {\n",
              "            opacity:  0.5;\n",
              "        }    #T_01071340_2a6b_11ea_9acd_0242ac1c0002row3_col2 {\n",
              "            opacity:  0.5;\n",
              "        }    #T_01071340_2a6b_11ea_9acd_0242ac1c0002row3_col3 {\n",
              "            opacity:  0.5;\n",
              "        }    #T_01071340_2a6b_11ea_9acd_0242ac1c0002row3_col4 {\n",
              "            opacity:  0.5;\n",
              "        }    #T_01071340_2a6b_11ea_9acd_0242ac1c0002row3_col5 {\n",
              "            opacity:  0.5;\n",
              "        }    #T_01071340_2a6b_11ea_9acd_0242ac1c0002row3_col6 {\n",
              "            opacity:  0.5;\n",
              "        }    #T_01071340_2a6b_11ea_9acd_0242ac1c0002row3_col7 {\n",
              "            opacity:  0.5;\n",
              "        }    #T_01071340_2a6b_11ea_9acd_0242ac1c0002row3_col8 {\n",
              "            opacity:  0.5;\n",
              "        }    #T_01071340_2a6b_11ea_9acd_0242ac1c0002row3_col9 {\n",
              "            opacity:  0.5;\n",
              "        }    #T_01071340_2a6b_11ea_9acd_0242ac1c0002row3_col10 {\n",
              "            opacity:  0.5;\n",
              "        }    #T_01071340_2a6b_11ea_9acd_0242ac1c0002row3_col11 {\n",
              "            opacity:  0.5;\n",
              "        }    #T_01071340_2a6b_11ea_9acd_0242ac1c0002row3_col12 {\n",
              "            background-color:  green;\n",
              "             text-align:  center;\n",
              "        }    #T_01071340_2a6b_11ea_9acd_0242ac1c0002row3_col13 {\n",
              "            background-color:  green;\n",
              "             text-align:  center;\n",
              "        }    #T_01071340_2a6b_11ea_9acd_0242ac1c0002row3_col14 {\n",
              "            opacity:  0.5;\n",
              "        }    #T_01071340_2a6b_11ea_9acd_0242ac1c0002row3_col15 {\n",
              "            opacity:  0.5;\n",
              "        }    #T_01071340_2a6b_11ea_9acd_0242ac1c0002row3_col16 {\n",
              "            opacity:  0.5;\n",
              "        }    #T_01071340_2a6b_11ea_9acd_0242ac1c0002row3_col17 {\n",
              "            opacity:  0.5;\n",
              "        }    #T_01071340_2a6b_11ea_9acd_0242ac1c0002row3_col18 {\n",
              "            opacity:  0.5;\n",
              "        }    #T_01071340_2a6b_11ea_9acd_0242ac1c0002row3_col19 {\n",
              "            opacity:  0.5;\n",
              "        }    #T_01071340_2a6b_11ea_9acd_0242ac1c0002row3_col20 {\n",
              "            opacity:  0.5;\n",
              "        }    #T_01071340_2a6b_11ea_9acd_0242ac1c0002row3_col21 {\n",
              "            opacity:  0.5;\n",
              "        }    #T_01071340_2a6b_11ea_9acd_0242ac1c0002row3_col22 {\n",
              "            opacity:  0.5;\n",
              "        }    #T_01071340_2a6b_11ea_9acd_0242ac1c0002row3_col23 {\n",
              "            opacity:  0.5;\n",
              "        }    #T_01071340_2a6b_11ea_9acd_0242ac1c0002row3_col24 {\n",
              "            opacity:  0.5;\n",
              "        }    #T_01071340_2a6b_11ea_9acd_0242ac1c0002row3_col25 {\n",
              "            opacity:  0.5;\n",
              "        }    #T_01071340_2a6b_11ea_9acd_0242ac1c0002row3_col26 {\n",
              "            opacity:  0.5;\n",
              "        }    #T_01071340_2a6b_11ea_9acd_0242ac1c0002row3_col27 {\n",
              "            opacity:  0.5;\n",
              "        }    #T_01071340_2a6b_11ea_9acd_0242ac1c0002row3_col28 {\n",
              "            opacity:  0.5;\n",
              "        }    #T_01071340_2a6b_11ea_9acd_0242ac1c0002row3_col29 {\n",
              "            opacity:  0.5;\n",
              "        }    #T_01071340_2a6b_11ea_9acd_0242ac1c0002row3_col30 {\n",
              "            opacity:  0.5;\n",
              "        }    #T_01071340_2a6b_11ea_9acd_0242ac1c0002row3_col31 {\n",
              "            opacity:  0.5;\n",
              "        }    #T_01071340_2a6b_11ea_9acd_0242ac1c0002row3_col32 {\n",
              "            opacity:  0.5;\n",
              "        }    #T_01071340_2a6b_11ea_9acd_0242ac1c0002row3_col33 {\n",
              "            opacity:  0.5;\n",
              "        }    #T_01071340_2a6b_11ea_9acd_0242ac1c0002row3_col34 {\n",
              "            opacity:  0.5;\n",
              "        }    #T_01071340_2a6b_11ea_9acd_0242ac1c0002row3_col35 {\n",
              "            opacity:  0.5;\n",
              "        }    #T_01071340_2a6b_11ea_9acd_0242ac1c0002row3_col36 {\n",
              "            opacity:  0.5;\n",
              "        }    #T_01071340_2a6b_11ea_9acd_0242ac1c0002row3_col37 {\n",
              "            opacity:  0.5;\n",
              "        }    #T_01071340_2a6b_11ea_9acd_0242ac1c0002row3_col38 {\n",
              "            opacity:  0.5;\n",
              "        }    #T_01071340_2a6b_11ea_9acd_0242ac1c0002row3_col39 {\n",
              "            opacity:  0.5;\n",
              "        }    #T_01071340_2a6b_11ea_9acd_0242ac1c0002row3_col40 {\n",
              "            opacity:  0.5;\n",
              "        }    #T_01071340_2a6b_11ea_9acd_0242ac1c0002row3_col41 {\n",
              "            opacity:  0.5;\n",
              "        }    #T_01071340_2a6b_11ea_9acd_0242ac1c0002row3_col42 {\n",
              "            opacity:  0.5;\n",
              "        }    #T_01071340_2a6b_11ea_9acd_0242ac1c0002row3_col43 {\n",
              "            opacity:  0.5;\n",
              "        }    #T_01071340_2a6b_11ea_9acd_0242ac1c0002row3_col44 {\n",
              "            opacity:  0.5;\n",
              "        }    #T_01071340_2a6b_11ea_9acd_0242ac1c0002row3_col45 {\n",
              "            opacity:  0.5;\n",
              "        }    #T_01071340_2a6b_11ea_9acd_0242ac1c0002row3_col46 {\n",
              "            opacity:  0.5;\n",
              "        }    #T_01071340_2a6b_11ea_9acd_0242ac1c0002row3_col47 {\n",
              "            opacity:  0.5;\n",
              "        }    #T_01071340_2a6b_11ea_9acd_0242ac1c0002row3_col48 {\n",
              "            opacity:  0.5;\n",
              "        }    #T_01071340_2a6b_11ea_9acd_0242ac1c0002row3_col49 {\n",
              "            opacity:  0.5;\n",
              "        }    #T_01071340_2a6b_11ea_9acd_0242ac1c0002row3_col50 {\n",
              "            opacity:  0.5;\n",
              "        }    #T_01071340_2a6b_11ea_9acd_0242ac1c0002row3_col51 {\n",
              "            opacity:  0.5;\n",
              "        }    #T_01071340_2a6b_11ea_9acd_0242ac1c0002row3_col52 {\n",
              "            opacity:  0.5;\n",
              "        }    #T_01071340_2a6b_11ea_9acd_0242ac1c0002row3_col53 {\n",
              "            opacity:  0.5;\n",
              "        }    #T_01071340_2a6b_11ea_9acd_0242ac1c0002row3_col54 {\n",
              "            opacity:  0.5;\n",
              "        }    #T_01071340_2a6b_11ea_9acd_0242ac1c0002row3_col55 {\n",
              "            opacity:  0.5;\n",
              "        }    #T_01071340_2a6b_11ea_9acd_0242ac1c0002row3_col56 {\n",
              "            opacity:  0.5;\n",
              "        }    #T_01071340_2a6b_11ea_9acd_0242ac1c0002row3_col57 {\n",
              "            opacity:  0.5;\n",
              "        }    #T_01071340_2a6b_11ea_9acd_0242ac1c0002row4_col0 {\n",
              "            opacity:  0.5;\n",
              "        }    #T_01071340_2a6b_11ea_9acd_0242ac1c0002row4_col1 {\n",
              "            opacity:  0.5;\n",
              "        }    #T_01071340_2a6b_11ea_9acd_0242ac1c0002row4_col2 {\n",
              "            opacity:  0.5;\n",
              "        }    #T_01071340_2a6b_11ea_9acd_0242ac1c0002row4_col3 {\n",
              "            opacity:  0.5;\n",
              "        }    #T_01071340_2a6b_11ea_9acd_0242ac1c0002row4_col4 {\n",
              "            opacity:  0.5;\n",
              "        }    #T_01071340_2a6b_11ea_9acd_0242ac1c0002row4_col5 {\n",
              "            opacity:  0.5;\n",
              "        }    #T_01071340_2a6b_11ea_9acd_0242ac1c0002row4_col6 {\n",
              "            opacity:  0.5;\n",
              "        }    #T_01071340_2a6b_11ea_9acd_0242ac1c0002row4_col7 {\n",
              "            opacity:  0.5;\n",
              "        }    #T_01071340_2a6b_11ea_9acd_0242ac1c0002row4_col8 {\n",
              "            opacity:  0.5;\n",
              "        }    #T_01071340_2a6b_11ea_9acd_0242ac1c0002row4_col9 {\n",
              "            opacity:  0.5;\n",
              "        }    #T_01071340_2a6b_11ea_9acd_0242ac1c0002row4_col10 {\n",
              "            opacity:  0.5;\n",
              "        }    #T_01071340_2a6b_11ea_9acd_0242ac1c0002row4_col11 {\n",
              "            opacity:  0.5;\n",
              "        }    #T_01071340_2a6b_11ea_9acd_0242ac1c0002row4_col12 {\n",
              "            opacity:  0.5;\n",
              "        }    #T_01071340_2a6b_11ea_9acd_0242ac1c0002row4_col13 {\n",
              "            opacity:  0.5;\n",
              "        }    #T_01071340_2a6b_11ea_9acd_0242ac1c0002row4_col14 {\n",
              "            opacity:  0.5;\n",
              "        }    #T_01071340_2a6b_11ea_9acd_0242ac1c0002row4_col15 {\n",
              "            opacity:  0.5;\n",
              "        }    #T_01071340_2a6b_11ea_9acd_0242ac1c0002row4_col16 {\n",
              "            opacity:  0.5;\n",
              "        }    #T_01071340_2a6b_11ea_9acd_0242ac1c0002row4_col17 {\n",
              "            opacity:  0.5;\n",
              "        }    #T_01071340_2a6b_11ea_9acd_0242ac1c0002row4_col18 {\n",
              "            opacity:  0.5;\n",
              "        }    #T_01071340_2a6b_11ea_9acd_0242ac1c0002row4_col19 {\n",
              "            opacity:  0.5;\n",
              "        }    #T_01071340_2a6b_11ea_9acd_0242ac1c0002row4_col20 {\n",
              "            opacity:  0.5;\n",
              "        }    #T_01071340_2a6b_11ea_9acd_0242ac1c0002row4_col21 {\n",
              "            opacity:  0.5;\n",
              "        }    #T_01071340_2a6b_11ea_9acd_0242ac1c0002row4_col22 {\n",
              "            opacity:  0.5;\n",
              "        }    #T_01071340_2a6b_11ea_9acd_0242ac1c0002row4_col23 {\n",
              "            opacity:  0.5;\n",
              "        }    #T_01071340_2a6b_11ea_9acd_0242ac1c0002row4_col24 {\n",
              "            opacity:  0.5;\n",
              "        }    #T_01071340_2a6b_11ea_9acd_0242ac1c0002row4_col25 {\n",
              "            opacity:  0.5;\n",
              "        }    #T_01071340_2a6b_11ea_9acd_0242ac1c0002row4_col26 {\n",
              "            opacity:  0.5;\n",
              "        }    #T_01071340_2a6b_11ea_9acd_0242ac1c0002row4_col27 {\n",
              "            opacity:  0.5;\n",
              "        }    #T_01071340_2a6b_11ea_9acd_0242ac1c0002row4_col28 {\n",
              "            opacity:  0.5;\n",
              "        }    #T_01071340_2a6b_11ea_9acd_0242ac1c0002row4_col29 {\n",
              "            opacity:  0.5;\n",
              "        }    #T_01071340_2a6b_11ea_9acd_0242ac1c0002row4_col30 {\n",
              "            opacity:  0.5;\n",
              "        }    #T_01071340_2a6b_11ea_9acd_0242ac1c0002row4_col31 {\n",
              "            opacity:  0.5;\n",
              "        }    #T_01071340_2a6b_11ea_9acd_0242ac1c0002row4_col32 {\n",
              "            opacity:  0.5;\n",
              "        }    #T_01071340_2a6b_11ea_9acd_0242ac1c0002row4_col33 {\n",
              "            opacity:  0.5;\n",
              "        }    #T_01071340_2a6b_11ea_9acd_0242ac1c0002row4_col34 {\n",
              "            opacity:  0.5;\n",
              "        }    #T_01071340_2a6b_11ea_9acd_0242ac1c0002row4_col35 {\n",
              "            opacity:  0.5;\n",
              "        }    #T_01071340_2a6b_11ea_9acd_0242ac1c0002row4_col36 {\n",
              "            opacity:  0.5;\n",
              "        }    #T_01071340_2a6b_11ea_9acd_0242ac1c0002row4_col37 {\n",
              "            opacity:  0.5;\n",
              "        }    #T_01071340_2a6b_11ea_9acd_0242ac1c0002row4_col38 {\n",
              "            opacity:  0.5;\n",
              "        }    #T_01071340_2a6b_11ea_9acd_0242ac1c0002row4_col39 {\n",
              "            opacity:  0.5;\n",
              "        }    #T_01071340_2a6b_11ea_9acd_0242ac1c0002row4_col40 {\n",
              "            background-color:  green;\n",
              "             text-align:  center;\n",
              "        }    #T_01071340_2a6b_11ea_9acd_0242ac1c0002row4_col41 {\n",
              "            background-color:  green;\n",
              "             text-align:  center;\n",
              "        }    #T_01071340_2a6b_11ea_9acd_0242ac1c0002row4_col42 {\n",
              "            background-color:  green;\n",
              "             text-align:  center;\n",
              "        }    #T_01071340_2a6b_11ea_9acd_0242ac1c0002row4_col43 {\n",
              "            background-color:  green;\n",
              "             text-align:  center;\n",
              "        }    #T_01071340_2a6b_11ea_9acd_0242ac1c0002row4_col44 {\n",
              "            opacity:  0.5;\n",
              "        }    #T_01071340_2a6b_11ea_9acd_0242ac1c0002row4_col45 {\n",
              "            background-color:  green;\n",
              "             text-align:  center;\n",
              "        }    #T_01071340_2a6b_11ea_9acd_0242ac1c0002row4_col46 {\n",
              "            opacity:  0.5;\n",
              "        }    #T_01071340_2a6b_11ea_9acd_0242ac1c0002row4_col47 {\n",
              "            opacity:  0.5;\n",
              "        }    #T_01071340_2a6b_11ea_9acd_0242ac1c0002row4_col48 {\n",
              "            opacity:  0.5;\n",
              "        }    #T_01071340_2a6b_11ea_9acd_0242ac1c0002row4_col49 {\n",
              "            background-color:  green;\n",
              "             text-align:  center;\n",
              "        }    #T_01071340_2a6b_11ea_9acd_0242ac1c0002row4_col50 {\n",
              "            opacity:  0.5;\n",
              "        }    #T_01071340_2a6b_11ea_9acd_0242ac1c0002row4_col51 {\n",
              "            opacity:  0.5;\n",
              "        }    #T_01071340_2a6b_11ea_9acd_0242ac1c0002row4_col52 {\n",
              "            opacity:  0.5;\n",
              "        }    #T_01071340_2a6b_11ea_9acd_0242ac1c0002row4_col53 {\n",
              "            opacity:  0.5;\n",
              "        }    #T_01071340_2a6b_11ea_9acd_0242ac1c0002row4_col54 {\n",
              "            opacity:  0.5;\n",
              "        }    #T_01071340_2a6b_11ea_9acd_0242ac1c0002row4_col55 {\n",
              "            opacity:  0.5;\n",
              "        }    #T_01071340_2a6b_11ea_9acd_0242ac1c0002row4_col56 {\n",
              "            opacity:  0.5;\n",
              "        }    #T_01071340_2a6b_11ea_9acd_0242ac1c0002row4_col57 {\n",
              "            opacity:  0.5;\n",
              "        }    #T_01071340_2a6b_11ea_9acd_0242ac1c0002row5_col0 {\n",
              "            opacity:  0.5;\n",
              "        }    #T_01071340_2a6b_11ea_9acd_0242ac1c0002row5_col1 {\n",
              "            opacity:  0.5;\n",
              "        }    #T_01071340_2a6b_11ea_9acd_0242ac1c0002row5_col2 {\n",
              "            opacity:  0.5;\n",
              "        }    #T_01071340_2a6b_11ea_9acd_0242ac1c0002row5_col3 {\n",
              "            opacity:  0.5;\n",
              "        }    #T_01071340_2a6b_11ea_9acd_0242ac1c0002row5_col4 {\n",
              "            opacity:  0.5;\n",
              "        }    #T_01071340_2a6b_11ea_9acd_0242ac1c0002row5_col5 {\n",
              "            opacity:  0.5;\n",
              "        }    #T_01071340_2a6b_11ea_9acd_0242ac1c0002row5_col6 {\n",
              "            opacity:  0.5;\n",
              "        }    #T_01071340_2a6b_11ea_9acd_0242ac1c0002row5_col7 {\n",
              "            opacity:  0.5;\n",
              "        }    #T_01071340_2a6b_11ea_9acd_0242ac1c0002row5_col8 {\n",
              "            opacity:  0.5;\n",
              "        }    #T_01071340_2a6b_11ea_9acd_0242ac1c0002row5_col9 {\n",
              "            opacity:  0.5;\n",
              "        }    #T_01071340_2a6b_11ea_9acd_0242ac1c0002row5_col10 {\n",
              "            opacity:  0.5;\n",
              "        }    #T_01071340_2a6b_11ea_9acd_0242ac1c0002row5_col11 {\n",
              "            opacity:  0.5;\n",
              "        }    #T_01071340_2a6b_11ea_9acd_0242ac1c0002row5_col12 {\n",
              "            opacity:  0.5;\n",
              "        }    #T_01071340_2a6b_11ea_9acd_0242ac1c0002row5_col13 {\n",
              "            opacity:  0.5;\n",
              "        }    #T_01071340_2a6b_11ea_9acd_0242ac1c0002row5_col14 {\n",
              "            opacity:  0.5;\n",
              "        }    #T_01071340_2a6b_11ea_9acd_0242ac1c0002row5_col15 {\n",
              "            opacity:  0.5;\n",
              "        }    #T_01071340_2a6b_11ea_9acd_0242ac1c0002row5_col16 {\n",
              "            opacity:  0.5;\n",
              "        }    #T_01071340_2a6b_11ea_9acd_0242ac1c0002row5_col17 {\n",
              "            opacity:  0.5;\n",
              "        }    #T_01071340_2a6b_11ea_9acd_0242ac1c0002row5_col18 {\n",
              "            opacity:  0.5;\n",
              "        }    #T_01071340_2a6b_11ea_9acd_0242ac1c0002row5_col19 {\n",
              "            background-color:  green;\n",
              "             text-align:  center;\n",
              "        }    #T_01071340_2a6b_11ea_9acd_0242ac1c0002row5_col20 {\n",
              "            opacity:  0.5;\n",
              "        }    #T_01071340_2a6b_11ea_9acd_0242ac1c0002row5_col21 {\n",
              "            background-color:  green;\n",
              "             text-align:  center;\n",
              "        }    #T_01071340_2a6b_11ea_9acd_0242ac1c0002row5_col22 {\n",
              "            opacity:  0.5;\n",
              "        }    #T_01071340_2a6b_11ea_9acd_0242ac1c0002row5_col23 {\n",
              "            opacity:  0.5;\n",
              "        }    #T_01071340_2a6b_11ea_9acd_0242ac1c0002row5_col24 {\n",
              "            opacity:  0.5;\n",
              "        }    #T_01071340_2a6b_11ea_9acd_0242ac1c0002row5_col25 {\n",
              "            opacity:  0.5;\n",
              "        }    #T_01071340_2a6b_11ea_9acd_0242ac1c0002row5_col26 {\n",
              "            opacity:  0.5;\n",
              "        }    #T_01071340_2a6b_11ea_9acd_0242ac1c0002row5_col27 {\n",
              "            opacity:  0.5;\n",
              "        }    #T_01071340_2a6b_11ea_9acd_0242ac1c0002row5_col28 {\n",
              "            opacity:  0.5;\n",
              "        }    #T_01071340_2a6b_11ea_9acd_0242ac1c0002row5_col29 {\n",
              "            opacity:  0.5;\n",
              "        }    #T_01071340_2a6b_11ea_9acd_0242ac1c0002row5_col30 {\n",
              "            opacity:  0.5;\n",
              "        }    #T_01071340_2a6b_11ea_9acd_0242ac1c0002row5_col31 {\n",
              "            opacity:  0.5;\n",
              "        }    #T_01071340_2a6b_11ea_9acd_0242ac1c0002row5_col32 {\n",
              "            opacity:  0.5;\n",
              "        }    #T_01071340_2a6b_11ea_9acd_0242ac1c0002row5_col33 {\n",
              "            opacity:  0.5;\n",
              "        }    #T_01071340_2a6b_11ea_9acd_0242ac1c0002row5_col34 {\n",
              "            opacity:  0.5;\n",
              "        }    #T_01071340_2a6b_11ea_9acd_0242ac1c0002row5_col35 {\n",
              "            opacity:  0.5;\n",
              "        }    #T_01071340_2a6b_11ea_9acd_0242ac1c0002row5_col36 {\n",
              "            opacity:  0.5;\n",
              "        }    #T_01071340_2a6b_11ea_9acd_0242ac1c0002row5_col37 {\n",
              "            opacity:  0.5;\n",
              "        }    #T_01071340_2a6b_11ea_9acd_0242ac1c0002row5_col38 {\n",
              "            opacity:  0.5;\n",
              "        }    #T_01071340_2a6b_11ea_9acd_0242ac1c0002row5_col39 {\n",
              "            opacity:  0.5;\n",
              "        }    #T_01071340_2a6b_11ea_9acd_0242ac1c0002row5_col40 {\n",
              "            opacity:  0.5;\n",
              "        }    #T_01071340_2a6b_11ea_9acd_0242ac1c0002row5_col41 {\n",
              "            opacity:  0.5;\n",
              "        }    #T_01071340_2a6b_11ea_9acd_0242ac1c0002row5_col42 {\n",
              "            opacity:  0.5;\n",
              "        }    #T_01071340_2a6b_11ea_9acd_0242ac1c0002row5_col43 {\n",
              "            opacity:  0.5;\n",
              "        }    #T_01071340_2a6b_11ea_9acd_0242ac1c0002row5_col44 {\n",
              "            opacity:  0.5;\n",
              "        }    #T_01071340_2a6b_11ea_9acd_0242ac1c0002row5_col45 {\n",
              "            opacity:  0.5;\n",
              "        }    #T_01071340_2a6b_11ea_9acd_0242ac1c0002row5_col46 {\n",
              "            opacity:  0.5;\n",
              "        }    #T_01071340_2a6b_11ea_9acd_0242ac1c0002row5_col47 {\n",
              "            opacity:  0.5;\n",
              "        }    #T_01071340_2a6b_11ea_9acd_0242ac1c0002row5_col48 {\n",
              "            opacity:  0.5;\n",
              "        }    #T_01071340_2a6b_11ea_9acd_0242ac1c0002row5_col49 {\n",
              "            opacity:  0.5;\n",
              "        }    #T_01071340_2a6b_11ea_9acd_0242ac1c0002row5_col50 {\n",
              "            opacity:  0.5;\n",
              "        }    #T_01071340_2a6b_11ea_9acd_0242ac1c0002row5_col51 {\n",
              "            opacity:  0.5;\n",
              "        }    #T_01071340_2a6b_11ea_9acd_0242ac1c0002row5_col52 {\n",
              "            opacity:  0.5;\n",
              "        }    #T_01071340_2a6b_11ea_9acd_0242ac1c0002row5_col53 {\n",
              "            opacity:  0.5;\n",
              "        }    #T_01071340_2a6b_11ea_9acd_0242ac1c0002row5_col54 {\n",
              "            opacity:  0.5;\n",
              "        }    #T_01071340_2a6b_11ea_9acd_0242ac1c0002row5_col55 {\n",
              "            opacity:  0.5;\n",
              "        }    #T_01071340_2a6b_11ea_9acd_0242ac1c0002row5_col56 {\n",
              "            opacity:  0.5;\n",
              "        }    #T_01071340_2a6b_11ea_9acd_0242ac1c0002row5_col57 {\n",
              "            opacity:  0.5;\n",
              "        }    #T_01071340_2a6b_11ea_9acd_0242ac1c0002row6_col0 {\n",
              "            opacity:  0.5;\n",
              "        }    #T_01071340_2a6b_11ea_9acd_0242ac1c0002row6_col1 {\n",
              "            opacity:  0.5;\n",
              "        }    #T_01071340_2a6b_11ea_9acd_0242ac1c0002row6_col2 {\n",
              "            opacity:  0.5;\n",
              "        }    #T_01071340_2a6b_11ea_9acd_0242ac1c0002row6_col3 {\n",
              "            opacity:  0.5;\n",
              "        }    #T_01071340_2a6b_11ea_9acd_0242ac1c0002row6_col4 {\n",
              "            opacity:  0.5;\n",
              "        }    #T_01071340_2a6b_11ea_9acd_0242ac1c0002row6_col5 {\n",
              "            opacity:  0.5;\n",
              "        }    #T_01071340_2a6b_11ea_9acd_0242ac1c0002row6_col6 {\n",
              "            opacity:  0.5;\n",
              "        }    #T_01071340_2a6b_11ea_9acd_0242ac1c0002row6_col7 {\n",
              "            opacity:  0.5;\n",
              "        }    #T_01071340_2a6b_11ea_9acd_0242ac1c0002row6_col8 {\n",
              "            opacity:  0.5;\n",
              "        }    #T_01071340_2a6b_11ea_9acd_0242ac1c0002row6_col9 {\n",
              "            opacity:  0.5;\n",
              "        }    #T_01071340_2a6b_11ea_9acd_0242ac1c0002row6_col10 {\n",
              "            opacity:  0.5;\n",
              "        }    #T_01071340_2a6b_11ea_9acd_0242ac1c0002row6_col11 {\n",
              "            opacity:  0.5;\n",
              "        }    #T_01071340_2a6b_11ea_9acd_0242ac1c0002row6_col12 {\n",
              "            opacity:  0.5;\n",
              "        }    #T_01071340_2a6b_11ea_9acd_0242ac1c0002row6_col13 {\n",
              "            opacity:  0.5;\n",
              "        }    #T_01071340_2a6b_11ea_9acd_0242ac1c0002row6_col14 {\n",
              "            background-color:  green;\n",
              "             text-align:  center;\n",
              "        }    #T_01071340_2a6b_11ea_9acd_0242ac1c0002row6_col15 {\n",
              "            opacity:  0.5;\n",
              "        }    #T_01071340_2a6b_11ea_9acd_0242ac1c0002row6_col16 {\n",
              "            opacity:  0.5;\n",
              "        }    #T_01071340_2a6b_11ea_9acd_0242ac1c0002row6_col17 {\n",
              "            opacity:  0.5;\n",
              "        }    #T_01071340_2a6b_11ea_9acd_0242ac1c0002row6_col18 {\n",
              "            opacity:  0.5;\n",
              "        }    #T_01071340_2a6b_11ea_9acd_0242ac1c0002row6_col19 {\n",
              "            opacity:  0.5;\n",
              "        }    #T_01071340_2a6b_11ea_9acd_0242ac1c0002row6_col20 {\n",
              "            opacity:  0.5;\n",
              "        }    #T_01071340_2a6b_11ea_9acd_0242ac1c0002row6_col21 {\n",
              "            opacity:  0.5;\n",
              "        }    #T_01071340_2a6b_11ea_9acd_0242ac1c0002row6_col22 {\n",
              "            opacity:  0.5;\n",
              "        }    #T_01071340_2a6b_11ea_9acd_0242ac1c0002row6_col23 {\n",
              "            opacity:  0.5;\n",
              "        }    #T_01071340_2a6b_11ea_9acd_0242ac1c0002row6_col24 {\n",
              "            opacity:  0.5;\n",
              "        }    #T_01071340_2a6b_11ea_9acd_0242ac1c0002row6_col25 {\n",
              "            opacity:  0.5;\n",
              "        }    #T_01071340_2a6b_11ea_9acd_0242ac1c0002row6_col26 {\n",
              "            opacity:  0.5;\n",
              "        }    #T_01071340_2a6b_11ea_9acd_0242ac1c0002row6_col27 {\n",
              "            opacity:  0.5;\n",
              "        }    #T_01071340_2a6b_11ea_9acd_0242ac1c0002row6_col28 {\n",
              "            opacity:  0.5;\n",
              "        }    #T_01071340_2a6b_11ea_9acd_0242ac1c0002row6_col29 {\n",
              "            opacity:  0.5;\n",
              "        }    #T_01071340_2a6b_11ea_9acd_0242ac1c0002row6_col30 {\n",
              "            opacity:  0.5;\n",
              "        }    #T_01071340_2a6b_11ea_9acd_0242ac1c0002row6_col31 {\n",
              "            opacity:  0.5;\n",
              "        }    #T_01071340_2a6b_11ea_9acd_0242ac1c0002row6_col32 {\n",
              "            opacity:  0.5;\n",
              "        }    #T_01071340_2a6b_11ea_9acd_0242ac1c0002row6_col33 {\n",
              "            opacity:  0.5;\n",
              "        }    #T_01071340_2a6b_11ea_9acd_0242ac1c0002row6_col34 {\n",
              "            opacity:  0.5;\n",
              "        }    #T_01071340_2a6b_11ea_9acd_0242ac1c0002row6_col35 {\n",
              "            opacity:  0.5;\n",
              "        }    #T_01071340_2a6b_11ea_9acd_0242ac1c0002row6_col36 {\n",
              "            opacity:  0.5;\n",
              "        }    #T_01071340_2a6b_11ea_9acd_0242ac1c0002row6_col37 {\n",
              "            opacity:  0.5;\n",
              "        }    #T_01071340_2a6b_11ea_9acd_0242ac1c0002row6_col38 {\n",
              "            opacity:  0.5;\n",
              "        }    #T_01071340_2a6b_11ea_9acd_0242ac1c0002row6_col39 {\n",
              "            opacity:  0.5;\n",
              "        }    #T_01071340_2a6b_11ea_9acd_0242ac1c0002row6_col40 {\n",
              "            opacity:  0.5;\n",
              "        }    #T_01071340_2a6b_11ea_9acd_0242ac1c0002row6_col41 {\n",
              "            opacity:  0.5;\n",
              "        }    #T_01071340_2a6b_11ea_9acd_0242ac1c0002row6_col42 {\n",
              "            opacity:  0.5;\n",
              "        }    #T_01071340_2a6b_11ea_9acd_0242ac1c0002row6_col43 {\n",
              "            opacity:  0.5;\n",
              "        }    #T_01071340_2a6b_11ea_9acd_0242ac1c0002row6_col44 {\n",
              "            opacity:  0.5;\n",
              "        }    #T_01071340_2a6b_11ea_9acd_0242ac1c0002row6_col45 {\n",
              "            opacity:  0.5;\n",
              "        }    #T_01071340_2a6b_11ea_9acd_0242ac1c0002row6_col46 {\n",
              "            opacity:  0.5;\n",
              "        }    #T_01071340_2a6b_11ea_9acd_0242ac1c0002row6_col47 {\n",
              "            opacity:  0.5;\n",
              "        }    #T_01071340_2a6b_11ea_9acd_0242ac1c0002row6_col48 {\n",
              "            opacity:  0.5;\n",
              "        }    #T_01071340_2a6b_11ea_9acd_0242ac1c0002row6_col49 {\n",
              "            opacity:  0.5;\n",
              "        }    #T_01071340_2a6b_11ea_9acd_0242ac1c0002row6_col50 {\n",
              "            opacity:  0.5;\n",
              "        }    #T_01071340_2a6b_11ea_9acd_0242ac1c0002row6_col51 {\n",
              "            opacity:  0.5;\n",
              "        }    #T_01071340_2a6b_11ea_9acd_0242ac1c0002row6_col52 {\n",
              "            opacity:  0.5;\n",
              "        }    #T_01071340_2a6b_11ea_9acd_0242ac1c0002row6_col53 {\n",
              "            opacity:  0.5;\n",
              "        }    #T_01071340_2a6b_11ea_9acd_0242ac1c0002row6_col54 {\n",
              "            opacity:  0.5;\n",
              "        }    #T_01071340_2a6b_11ea_9acd_0242ac1c0002row6_col55 {\n",
              "            opacity:  0.5;\n",
              "        }    #T_01071340_2a6b_11ea_9acd_0242ac1c0002row6_col56 {\n",
              "            opacity:  0.5;\n",
              "        }    #T_01071340_2a6b_11ea_9acd_0242ac1c0002row6_col57 {\n",
              "            opacity:  0.5;\n",
              "        }    #T_01071340_2a6b_11ea_9acd_0242ac1c0002row7_col0 {\n",
              "            opacity:  0.5;\n",
              "        }    #T_01071340_2a6b_11ea_9acd_0242ac1c0002row7_col1 {\n",
              "            opacity:  0.5;\n",
              "        }    #T_01071340_2a6b_11ea_9acd_0242ac1c0002row7_col2 {\n",
              "            opacity:  0.5;\n",
              "        }    #T_01071340_2a6b_11ea_9acd_0242ac1c0002row7_col3 {\n",
              "            opacity:  0.5;\n",
              "        }    #T_01071340_2a6b_11ea_9acd_0242ac1c0002row7_col4 {\n",
              "            opacity:  0.5;\n",
              "        }    #T_01071340_2a6b_11ea_9acd_0242ac1c0002row7_col5 {\n",
              "            opacity:  0.5;\n",
              "        }    #T_01071340_2a6b_11ea_9acd_0242ac1c0002row7_col6 {\n",
              "            opacity:  0.5;\n",
              "        }    #T_01071340_2a6b_11ea_9acd_0242ac1c0002row7_col7 {\n",
              "            opacity:  0.5;\n",
              "        }    #T_01071340_2a6b_11ea_9acd_0242ac1c0002row7_col8 {\n",
              "            opacity:  0.5;\n",
              "        }    #T_01071340_2a6b_11ea_9acd_0242ac1c0002row7_col9 {\n",
              "            opacity:  0.5;\n",
              "        }    #T_01071340_2a6b_11ea_9acd_0242ac1c0002row7_col10 {\n",
              "            opacity:  0.5;\n",
              "        }    #T_01071340_2a6b_11ea_9acd_0242ac1c0002row7_col11 {\n",
              "            opacity:  0.5;\n",
              "        }    #T_01071340_2a6b_11ea_9acd_0242ac1c0002row7_col12 {\n",
              "            opacity:  0.5;\n",
              "        }    #T_01071340_2a6b_11ea_9acd_0242ac1c0002row7_col13 {\n",
              "            opacity:  0.5;\n",
              "        }    #T_01071340_2a6b_11ea_9acd_0242ac1c0002row7_col14 {\n",
              "            opacity:  0.5;\n",
              "        }    #T_01071340_2a6b_11ea_9acd_0242ac1c0002row7_col15 {\n",
              "            opacity:  0.5;\n",
              "        }    #T_01071340_2a6b_11ea_9acd_0242ac1c0002row7_col16 {\n",
              "            opacity:  0.5;\n",
              "        }    #T_01071340_2a6b_11ea_9acd_0242ac1c0002row7_col17 {\n",
              "            opacity:  0.5;\n",
              "        }    #T_01071340_2a6b_11ea_9acd_0242ac1c0002row7_col18 {\n",
              "            opacity:  0.5;\n",
              "        }    #T_01071340_2a6b_11ea_9acd_0242ac1c0002row7_col19 {\n",
              "            opacity:  0.5;\n",
              "        }    #T_01071340_2a6b_11ea_9acd_0242ac1c0002row7_col20 {\n",
              "            opacity:  0.5;\n",
              "        }    #T_01071340_2a6b_11ea_9acd_0242ac1c0002row7_col21 {\n",
              "            opacity:  0.5;\n",
              "        }    #T_01071340_2a6b_11ea_9acd_0242ac1c0002row7_col22 {\n",
              "            opacity:  0.5;\n",
              "        }    #T_01071340_2a6b_11ea_9acd_0242ac1c0002row7_col23 {\n",
              "            opacity:  0.5;\n",
              "        }    #T_01071340_2a6b_11ea_9acd_0242ac1c0002row7_col24 {\n",
              "            opacity:  0.5;\n",
              "        }    #T_01071340_2a6b_11ea_9acd_0242ac1c0002row7_col25 {\n",
              "            opacity:  0.5;\n",
              "        }    #T_01071340_2a6b_11ea_9acd_0242ac1c0002row7_col26 {\n",
              "            opacity:  0.5;\n",
              "        }    #T_01071340_2a6b_11ea_9acd_0242ac1c0002row7_col27 {\n",
              "            opacity:  0.5;\n",
              "        }    #T_01071340_2a6b_11ea_9acd_0242ac1c0002row7_col28 {\n",
              "            opacity:  0.5;\n",
              "        }    #T_01071340_2a6b_11ea_9acd_0242ac1c0002row7_col29 {\n",
              "            opacity:  0.5;\n",
              "        }    #T_01071340_2a6b_11ea_9acd_0242ac1c0002row7_col30 {\n",
              "            opacity:  0.5;\n",
              "        }    #T_01071340_2a6b_11ea_9acd_0242ac1c0002row7_col31 {\n",
              "            opacity:  0.5;\n",
              "        }    #T_01071340_2a6b_11ea_9acd_0242ac1c0002row7_col32 {\n",
              "            opacity:  0.5;\n",
              "        }    #T_01071340_2a6b_11ea_9acd_0242ac1c0002row7_col33 {\n",
              "            opacity:  0.5;\n",
              "        }    #T_01071340_2a6b_11ea_9acd_0242ac1c0002row7_col34 {\n",
              "            opacity:  0.5;\n",
              "        }    #T_01071340_2a6b_11ea_9acd_0242ac1c0002row7_col35 {\n",
              "            opacity:  0.5;\n",
              "        }    #T_01071340_2a6b_11ea_9acd_0242ac1c0002row7_col36 {\n",
              "            opacity:  0.5;\n",
              "        }    #T_01071340_2a6b_11ea_9acd_0242ac1c0002row7_col37 {\n",
              "            opacity:  0.5;\n",
              "        }    #T_01071340_2a6b_11ea_9acd_0242ac1c0002row7_col38 {\n",
              "            background-color:  green;\n",
              "             text-align:  center;\n",
              "        }    #T_01071340_2a6b_11ea_9acd_0242ac1c0002row7_col39 {\n",
              "            opacity:  0.5;\n",
              "        }    #T_01071340_2a6b_11ea_9acd_0242ac1c0002row7_col40 {\n",
              "            opacity:  0.5;\n",
              "        }    #T_01071340_2a6b_11ea_9acd_0242ac1c0002row7_col41 {\n",
              "            opacity:  0.5;\n",
              "        }    #T_01071340_2a6b_11ea_9acd_0242ac1c0002row7_col42 {\n",
              "            opacity:  0.5;\n",
              "        }    #T_01071340_2a6b_11ea_9acd_0242ac1c0002row7_col43 {\n",
              "            opacity:  0.5;\n",
              "        }    #T_01071340_2a6b_11ea_9acd_0242ac1c0002row7_col44 {\n",
              "            opacity:  0.5;\n",
              "        }    #T_01071340_2a6b_11ea_9acd_0242ac1c0002row7_col45 {\n",
              "            opacity:  0.5;\n",
              "        }    #T_01071340_2a6b_11ea_9acd_0242ac1c0002row7_col46 {\n",
              "            opacity:  0.5;\n",
              "        }    #T_01071340_2a6b_11ea_9acd_0242ac1c0002row7_col47 {\n",
              "            opacity:  0.5;\n",
              "        }    #T_01071340_2a6b_11ea_9acd_0242ac1c0002row7_col48 {\n",
              "            opacity:  0.5;\n",
              "        }    #T_01071340_2a6b_11ea_9acd_0242ac1c0002row7_col49 {\n",
              "            opacity:  0.5;\n",
              "        }    #T_01071340_2a6b_11ea_9acd_0242ac1c0002row7_col50 {\n",
              "            opacity:  0.5;\n",
              "        }    #T_01071340_2a6b_11ea_9acd_0242ac1c0002row7_col51 {\n",
              "            opacity:  0.5;\n",
              "        }    #T_01071340_2a6b_11ea_9acd_0242ac1c0002row7_col52 {\n",
              "            opacity:  0.5;\n",
              "        }    #T_01071340_2a6b_11ea_9acd_0242ac1c0002row7_col53 {\n",
              "            opacity:  0.5;\n",
              "        }    #T_01071340_2a6b_11ea_9acd_0242ac1c0002row7_col54 {\n",
              "            opacity:  0.5;\n",
              "        }    #T_01071340_2a6b_11ea_9acd_0242ac1c0002row7_col55 {\n",
              "            opacity:  0.5;\n",
              "        }    #T_01071340_2a6b_11ea_9acd_0242ac1c0002row7_col56 {\n",
              "            opacity:  0.5;\n",
              "        }    #T_01071340_2a6b_11ea_9acd_0242ac1c0002row7_col57 {\n",
              "            opacity:  0.5;\n",
              "        }    #T_01071340_2a6b_11ea_9acd_0242ac1c0002row8_col0 {\n",
              "            opacity:  0.5;\n",
              "        }    #T_01071340_2a6b_11ea_9acd_0242ac1c0002row8_col1 {\n",
              "            opacity:  0.5;\n",
              "        }    #T_01071340_2a6b_11ea_9acd_0242ac1c0002row8_col2 {\n",
              "            opacity:  0.5;\n",
              "        }    #T_01071340_2a6b_11ea_9acd_0242ac1c0002row8_col3 {\n",
              "            opacity:  0.5;\n",
              "        }    #T_01071340_2a6b_11ea_9acd_0242ac1c0002row8_col4 {\n",
              "            opacity:  0.5;\n",
              "        }    #T_01071340_2a6b_11ea_9acd_0242ac1c0002row8_col5 {\n",
              "            opacity:  0.5;\n",
              "        }    #T_01071340_2a6b_11ea_9acd_0242ac1c0002row8_col6 {\n",
              "            opacity:  0.5;\n",
              "        }    #T_01071340_2a6b_11ea_9acd_0242ac1c0002row8_col7 {\n",
              "            opacity:  0.5;\n",
              "        }    #T_01071340_2a6b_11ea_9acd_0242ac1c0002row8_col8 {\n",
              "            opacity:  0.5;\n",
              "        }    #T_01071340_2a6b_11ea_9acd_0242ac1c0002row8_col9 {\n",
              "            opacity:  0.5;\n",
              "        }    #T_01071340_2a6b_11ea_9acd_0242ac1c0002row8_col10 {\n",
              "            opacity:  0.5;\n",
              "        }    #T_01071340_2a6b_11ea_9acd_0242ac1c0002row8_col11 {\n",
              "            opacity:  0.5;\n",
              "        }    #T_01071340_2a6b_11ea_9acd_0242ac1c0002row8_col12 {\n",
              "            opacity:  0.5;\n",
              "        }    #T_01071340_2a6b_11ea_9acd_0242ac1c0002row8_col13 {\n",
              "            opacity:  0.5;\n",
              "        }    #T_01071340_2a6b_11ea_9acd_0242ac1c0002row8_col14 {\n",
              "            opacity:  0.5;\n",
              "        }    #T_01071340_2a6b_11ea_9acd_0242ac1c0002row8_col15 {\n",
              "            opacity:  0.5;\n",
              "        }    #T_01071340_2a6b_11ea_9acd_0242ac1c0002row8_col16 {\n",
              "            opacity:  0.5;\n",
              "        }    #T_01071340_2a6b_11ea_9acd_0242ac1c0002row8_col17 {\n",
              "            opacity:  0.5;\n",
              "        }    #T_01071340_2a6b_11ea_9acd_0242ac1c0002row8_col18 {\n",
              "            opacity:  0.5;\n",
              "        }    #T_01071340_2a6b_11ea_9acd_0242ac1c0002row8_col19 {\n",
              "            opacity:  0.5;\n",
              "        }    #T_01071340_2a6b_11ea_9acd_0242ac1c0002row8_col20 {\n",
              "            opacity:  0.5;\n",
              "        }    #T_01071340_2a6b_11ea_9acd_0242ac1c0002row8_col21 {\n",
              "            opacity:  0.5;\n",
              "        }    #T_01071340_2a6b_11ea_9acd_0242ac1c0002row8_col22 {\n",
              "            opacity:  0.5;\n",
              "        }    #T_01071340_2a6b_11ea_9acd_0242ac1c0002row8_col23 {\n",
              "            opacity:  0.5;\n",
              "        }    #T_01071340_2a6b_11ea_9acd_0242ac1c0002row8_col24 {\n",
              "            opacity:  0.5;\n",
              "        }    #T_01071340_2a6b_11ea_9acd_0242ac1c0002row8_col25 {\n",
              "            opacity:  0.5;\n",
              "        }    #T_01071340_2a6b_11ea_9acd_0242ac1c0002row8_col26 {\n",
              "            opacity:  0.5;\n",
              "        }    #T_01071340_2a6b_11ea_9acd_0242ac1c0002row8_col27 {\n",
              "            opacity:  0.5;\n",
              "        }    #T_01071340_2a6b_11ea_9acd_0242ac1c0002row8_col28 {\n",
              "            opacity:  0.5;\n",
              "        }    #T_01071340_2a6b_11ea_9acd_0242ac1c0002row8_col29 {\n",
              "            opacity:  0.5;\n",
              "        }    #T_01071340_2a6b_11ea_9acd_0242ac1c0002row8_col30 {\n",
              "            opacity:  0.5;\n",
              "        }    #T_01071340_2a6b_11ea_9acd_0242ac1c0002row8_col31 {\n",
              "            opacity:  0.5;\n",
              "        }    #T_01071340_2a6b_11ea_9acd_0242ac1c0002row8_col32 {\n",
              "            opacity:  0.5;\n",
              "        }    #T_01071340_2a6b_11ea_9acd_0242ac1c0002row8_col33 {\n",
              "            background-color:  green;\n",
              "             text-align:  center;\n",
              "        }    #T_01071340_2a6b_11ea_9acd_0242ac1c0002row8_col34 {\n",
              "            opacity:  0.5;\n",
              "        }    #T_01071340_2a6b_11ea_9acd_0242ac1c0002row8_col35 {\n",
              "            opacity:  0.5;\n",
              "        }    #T_01071340_2a6b_11ea_9acd_0242ac1c0002row8_col36 {\n",
              "            opacity:  0.5;\n",
              "        }    #T_01071340_2a6b_11ea_9acd_0242ac1c0002row8_col37 {\n",
              "            opacity:  0.5;\n",
              "        }    #T_01071340_2a6b_11ea_9acd_0242ac1c0002row8_col38 {\n",
              "            opacity:  0.5;\n",
              "        }    #T_01071340_2a6b_11ea_9acd_0242ac1c0002row8_col39 {\n",
              "            opacity:  0.5;\n",
              "        }    #T_01071340_2a6b_11ea_9acd_0242ac1c0002row8_col40 {\n",
              "            opacity:  0.5;\n",
              "        }    #T_01071340_2a6b_11ea_9acd_0242ac1c0002row8_col41 {\n",
              "            opacity:  0.5;\n",
              "        }    #T_01071340_2a6b_11ea_9acd_0242ac1c0002row8_col42 {\n",
              "            opacity:  0.5;\n",
              "        }    #T_01071340_2a6b_11ea_9acd_0242ac1c0002row8_col43 {\n",
              "            opacity:  0.5;\n",
              "        }    #T_01071340_2a6b_11ea_9acd_0242ac1c0002row8_col44 {\n",
              "            opacity:  0.5;\n",
              "        }    #T_01071340_2a6b_11ea_9acd_0242ac1c0002row8_col45 {\n",
              "            opacity:  0.5;\n",
              "        }    #T_01071340_2a6b_11ea_9acd_0242ac1c0002row8_col46 {\n",
              "            opacity:  0.5;\n",
              "        }    #T_01071340_2a6b_11ea_9acd_0242ac1c0002row8_col47 {\n",
              "            opacity:  0.5;\n",
              "        }    #T_01071340_2a6b_11ea_9acd_0242ac1c0002row8_col48 {\n",
              "            opacity:  0.5;\n",
              "        }    #T_01071340_2a6b_11ea_9acd_0242ac1c0002row8_col49 {\n",
              "            opacity:  0.5;\n",
              "        }    #T_01071340_2a6b_11ea_9acd_0242ac1c0002row8_col50 {\n",
              "            opacity:  0.5;\n",
              "        }    #T_01071340_2a6b_11ea_9acd_0242ac1c0002row8_col51 {\n",
              "            opacity:  0.5;\n",
              "        }    #T_01071340_2a6b_11ea_9acd_0242ac1c0002row8_col52 {\n",
              "            opacity:  0.5;\n",
              "        }    #T_01071340_2a6b_11ea_9acd_0242ac1c0002row8_col53 {\n",
              "            opacity:  0.5;\n",
              "        }    #T_01071340_2a6b_11ea_9acd_0242ac1c0002row8_col54 {\n",
              "            opacity:  0.5;\n",
              "        }    #T_01071340_2a6b_11ea_9acd_0242ac1c0002row8_col55 {\n",
              "            opacity:  0.5;\n",
              "        }    #T_01071340_2a6b_11ea_9acd_0242ac1c0002row8_col56 {\n",
              "            opacity:  0.5;\n",
              "        }    #T_01071340_2a6b_11ea_9acd_0242ac1c0002row8_col57 {\n",
              "            opacity:  0.5;\n",
              "        }    #T_01071340_2a6b_11ea_9acd_0242ac1c0002row9_col0 {\n",
              "            opacity:  0.5;\n",
              "        }    #T_01071340_2a6b_11ea_9acd_0242ac1c0002row9_col1 {\n",
              "            opacity:  0.5;\n",
              "        }    #T_01071340_2a6b_11ea_9acd_0242ac1c0002row9_col2 {\n",
              "            opacity:  0.5;\n",
              "        }    #T_01071340_2a6b_11ea_9acd_0242ac1c0002row9_col3 {\n",
              "            background-color:  green;\n",
              "             text-align:  center;\n",
              "        }    #T_01071340_2a6b_11ea_9acd_0242ac1c0002row9_col4 {\n",
              "            background-color:  green;\n",
              "             text-align:  center;\n",
              "        }    #T_01071340_2a6b_11ea_9acd_0242ac1c0002row9_col5 {\n",
              "            background-color:  green;\n",
              "             text-align:  center;\n",
              "        }    #T_01071340_2a6b_11ea_9acd_0242ac1c0002row9_col6 {\n",
              "            background-color:  green;\n",
              "             text-align:  center;\n",
              "        }    #T_01071340_2a6b_11ea_9acd_0242ac1c0002row9_col7 {\n",
              "            opacity:  0.5;\n",
              "        }    #T_01071340_2a6b_11ea_9acd_0242ac1c0002row9_col8 {\n",
              "            opacity:  0.5;\n",
              "        }    #T_01071340_2a6b_11ea_9acd_0242ac1c0002row9_col9 {\n",
              "            opacity:  0.5;\n",
              "        }    #T_01071340_2a6b_11ea_9acd_0242ac1c0002row9_col10 {\n",
              "            opacity:  0.5;\n",
              "        }    #T_01071340_2a6b_11ea_9acd_0242ac1c0002row9_col11 {\n",
              "            opacity:  0.5;\n",
              "        }    #T_01071340_2a6b_11ea_9acd_0242ac1c0002row9_col12 {\n",
              "            opacity:  0.5;\n",
              "        }    #T_01071340_2a6b_11ea_9acd_0242ac1c0002row9_col13 {\n",
              "            opacity:  0.5;\n",
              "        }    #T_01071340_2a6b_11ea_9acd_0242ac1c0002row9_col14 {\n",
              "            opacity:  0.5;\n",
              "        }    #T_01071340_2a6b_11ea_9acd_0242ac1c0002row9_col15 {\n",
              "            opacity:  0.5;\n",
              "        }    #T_01071340_2a6b_11ea_9acd_0242ac1c0002row9_col16 {\n",
              "            opacity:  0.5;\n",
              "        }    #T_01071340_2a6b_11ea_9acd_0242ac1c0002row9_col17 {\n",
              "            opacity:  0.5;\n",
              "        }    #T_01071340_2a6b_11ea_9acd_0242ac1c0002row9_col18 {\n",
              "            opacity:  0.5;\n",
              "        }    #T_01071340_2a6b_11ea_9acd_0242ac1c0002row9_col19 {\n",
              "            opacity:  0.5;\n",
              "        }    #T_01071340_2a6b_11ea_9acd_0242ac1c0002row9_col20 {\n",
              "            opacity:  0.5;\n",
              "        }    #T_01071340_2a6b_11ea_9acd_0242ac1c0002row9_col21 {\n",
              "            opacity:  0.5;\n",
              "        }    #T_01071340_2a6b_11ea_9acd_0242ac1c0002row9_col22 {\n",
              "            opacity:  0.5;\n",
              "        }    #T_01071340_2a6b_11ea_9acd_0242ac1c0002row9_col23 {\n",
              "            opacity:  0.5;\n",
              "        }    #T_01071340_2a6b_11ea_9acd_0242ac1c0002row9_col24 {\n",
              "            opacity:  0.5;\n",
              "        }    #T_01071340_2a6b_11ea_9acd_0242ac1c0002row9_col25 {\n",
              "            opacity:  0.5;\n",
              "        }    #T_01071340_2a6b_11ea_9acd_0242ac1c0002row9_col26 {\n",
              "            opacity:  0.5;\n",
              "        }    #T_01071340_2a6b_11ea_9acd_0242ac1c0002row9_col27 {\n",
              "            opacity:  0.5;\n",
              "        }    #T_01071340_2a6b_11ea_9acd_0242ac1c0002row9_col28 {\n",
              "            opacity:  0.5;\n",
              "        }    #T_01071340_2a6b_11ea_9acd_0242ac1c0002row9_col29 {\n",
              "            background-color:  green;\n",
              "             text-align:  center;\n",
              "        }    #T_01071340_2a6b_11ea_9acd_0242ac1c0002row9_col30 {\n",
              "            opacity:  0.5;\n",
              "        }    #T_01071340_2a6b_11ea_9acd_0242ac1c0002row9_col31 {\n",
              "            opacity:  0.5;\n",
              "        }    #T_01071340_2a6b_11ea_9acd_0242ac1c0002row9_col32 {\n",
              "            opacity:  0.5;\n",
              "        }    #T_01071340_2a6b_11ea_9acd_0242ac1c0002row9_col33 {\n",
              "            opacity:  0.5;\n",
              "        }    #T_01071340_2a6b_11ea_9acd_0242ac1c0002row9_col34 {\n",
              "            opacity:  0.5;\n",
              "        }    #T_01071340_2a6b_11ea_9acd_0242ac1c0002row9_col35 {\n",
              "            background-color:  green;\n",
              "             text-align:  center;\n",
              "        }    #T_01071340_2a6b_11ea_9acd_0242ac1c0002row9_col36 {\n",
              "            opacity:  0.5;\n",
              "        }    #T_01071340_2a6b_11ea_9acd_0242ac1c0002row9_col37 {\n",
              "            opacity:  0.5;\n",
              "        }    #T_01071340_2a6b_11ea_9acd_0242ac1c0002row9_col38 {\n",
              "            opacity:  0.5;\n",
              "        }    #T_01071340_2a6b_11ea_9acd_0242ac1c0002row9_col39 {\n",
              "            opacity:  0.5;\n",
              "        }    #T_01071340_2a6b_11ea_9acd_0242ac1c0002row9_col40 {\n",
              "            opacity:  0.5;\n",
              "        }    #T_01071340_2a6b_11ea_9acd_0242ac1c0002row9_col41 {\n",
              "            background-color:  green;\n",
              "             text-align:  center;\n",
              "        }    #T_01071340_2a6b_11ea_9acd_0242ac1c0002row9_col42 {\n",
              "            opacity:  0.5;\n",
              "        }    #T_01071340_2a6b_11ea_9acd_0242ac1c0002row9_col43 {\n",
              "            opacity:  0.5;\n",
              "        }    #T_01071340_2a6b_11ea_9acd_0242ac1c0002row9_col44 {\n",
              "            opacity:  0.5;\n",
              "        }    #T_01071340_2a6b_11ea_9acd_0242ac1c0002row9_col45 {\n",
              "            opacity:  0.5;\n",
              "        }    #T_01071340_2a6b_11ea_9acd_0242ac1c0002row9_col46 {\n",
              "            opacity:  0.5;\n",
              "        }    #T_01071340_2a6b_11ea_9acd_0242ac1c0002row9_col47 {\n",
              "            opacity:  0.5;\n",
              "        }    #T_01071340_2a6b_11ea_9acd_0242ac1c0002row9_col48 {\n",
              "            opacity:  0.5;\n",
              "        }    #T_01071340_2a6b_11ea_9acd_0242ac1c0002row9_col49 {\n",
              "            background-color:  green;\n",
              "             text-align:  center;\n",
              "        }    #T_01071340_2a6b_11ea_9acd_0242ac1c0002row9_col50 {\n",
              "            opacity:  0.5;\n",
              "        }    #T_01071340_2a6b_11ea_9acd_0242ac1c0002row9_col51 {\n",
              "            opacity:  0.5;\n",
              "        }    #T_01071340_2a6b_11ea_9acd_0242ac1c0002row9_col52 {\n",
              "            opacity:  0.5;\n",
              "        }    #T_01071340_2a6b_11ea_9acd_0242ac1c0002row9_col53 {\n",
              "            background-color:  green;\n",
              "             text-align:  center;\n",
              "        }    #T_01071340_2a6b_11ea_9acd_0242ac1c0002row9_col54 {\n",
              "            opacity:  0.5;\n",
              "        }    #T_01071340_2a6b_11ea_9acd_0242ac1c0002row9_col55 {\n",
              "            opacity:  0.5;\n",
              "        }    #T_01071340_2a6b_11ea_9acd_0242ac1c0002row9_col56 {\n",
              "            opacity:  0.5;\n",
              "        }    #T_01071340_2a6b_11ea_9acd_0242ac1c0002row9_col57 {\n",
              "            opacity:  0.5;\n",
              "        }</style><table id=\"T_01071340_2a6b_11ea_9acd_0242ac1c0002\" ><thead>    <tr>        <th class=\"index_name level0\" >year</th>        <th class=\"col_heading level0 col0\" >1956</th>        <th class=\"col_heading level0 col1\" >1957</th>        <th class=\"col_heading level0 col2\" >1958</th>        <th class=\"col_heading level0 col3\" >1959</th>        <th class=\"col_heading level0 col4\" >1960</th>        <th class=\"col_heading level0 col5\" >1961</th>        <th class=\"col_heading level0 col6\" >1962</th>        <th class=\"col_heading level0 col7\" >1963</th>        <th class=\"col_heading level0 col8\" >1964</th>        <th class=\"col_heading level0 col9\" >1965</th>        <th class=\"col_heading level0 col10\" >1966</th>        <th class=\"col_heading level0 col11\" >1967</th>        <th class=\"col_heading level0 col12\" >1968</th>        <th class=\"col_heading level0 col13\" >1969</th>        <th class=\"col_heading level0 col14\" >1970</th>        <th class=\"col_heading level0 col15\" >1971</th>        <th class=\"col_heading level0 col16\" >1972</th>        <th class=\"col_heading level0 col17\" >1973</th>        <th class=\"col_heading level0 col18\" >1974</th>        <th class=\"col_heading level0 col19\" >1975</th>        <th class=\"col_heading level0 col20\" >1976</th>        <th class=\"col_heading level0 col21\" >1977</th>        <th class=\"col_heading level0 col22\" >1978</th>        <th class=\"col_heading level0 col23\" >1979</th>        <th class=\"col_heading level0 col24\" >1980</th>        <th class=\"col_heading level0 col25\" >1981</th>        <th class=\"col_heading level0 col26\" >1982</th>        <th class=\"col_heading level0 col27\" >1983</th>        <th class=\"col_heading level0 col28\" >1984</th>        <th class=\"col_heading level0 col29\" >1985</th>        <th class=\"col_heading level0 col30\" >1986</th>        <th class=\"col_heading level0 col31\" >1987</th>        <th class=\"col_heading level0 col32\" >1988</th>        <th class=\"col_heading level0 col33\" >1989</th>        <th class=\"col_heading level0 col34\" >1990</th>        <th class=\"col_heading level0 col35\" >1991</th>        <th class=\"col_heading level0 col36\" >1992</th>        <th class=\"col_heading level0 col37\" >1993</th>        <th class=\"col_heading level0 col38\" >1994</th>        <th class=\"col_heading level0 col39\" >1995</th>        <th class=\"col_heading level0 col40\" >1996</th>        <th class=\"col_heading level0 col41\" >1997</th>        <th class=\"col_heading level0 col42\" >1998</th>        <th class=\"col_heading level0 col43\" >1999</th>        <th class=\"col_heading level0 col44\" >2000</th>        <th class=\"col_heading level0 col45\" >2001</th>        <th class=\"col_heading level0 col46\" >2002</th>        <th class=\"col_heading level0 col47\" >2003</th>        <th class=\"col_heading level0 col48\" >2004</th>        <th class=\"col_heading level0 col49\" >2005</th>        <th class=\"col_heading level0 col50\" >2006</th>        <th class=\"col_heading level0 col51\" >2007</th>        <th class=\"col_heading level0 col52\" >2008</th>        <th class=\"col_heading level0 col53\" >2009</th>        <th class=\"col_heading level0 col54\" >2010</th>        <th class=\"col_heading level0 col55\" >2011</th>        <th class=\"col_heading level0 col56\" >2012</th>        <th class=\"col_heading level0 col57\" >2013</th>    </tr>    <tr>        <th class=\"index_name level0\" >artist</th>        <th class=\"blank\" ></th>        <th class=\"blank\" ></th>        <th class=\"blank\" ></th>        <th class=\"blank\" ></th>        <th class=\"blank\" ></th>        <th class=\"blank\" ></th>        <th class=\"blank\" ></th>        <th class=\"blank\" ></th>        <th class=\"blank\" ></th>        <th class=\"blank\" ></th>        <th class=\"blank\" ></th>        <th class=\"blank\" ></th>        <th class=\"blank\" ></th>        <th class=\"blank\" ></th>        <th class=\"blank\" ></th>        <th class=\"blank\" ></th>        <th class=\"blank\" ></th>        <th class=\"blank\" ></th>        <th class=\"blank\" ></th>        <th class=\"blank\" ></th>        <th class=\"blank\" ></th>        <th class=\"blank\" ></th>        <th class=\"blank\" ></th>        <th class=\"blank\" ></th>        <th class=\"blank\" ></th>        <th class=\"blank\" ></th>        <th class=\"blank\" ></th>        <th class=\"blank\" ></th>        <th class=\"blank\" ></th>        <th class=\"blank\" ></th>        <th class=\"blank\" ></th>        <th class=\"blank\" ></th>        <th class=\"blank\" ></th>        <th class=\"blank\" ></th>        <th class=\"blank\" ></th>        <th class=\"blank\" ></th>        <th class=\"blank\" ></th>        <th class=\"blank\" ></th>        <th class=\"blank\" ></th>        <th class=\"blank\" ></th>        <th class=\"blank\" ></th>        <th class=\"blank\" ></th>        <th class=\"blank\" ></th>        <th class=\"blank\" ></th>        <th class=\"blank\" ></th>        <th class=\"blank\" ></th>        <th class=\"blank\" ></th>        <th class=\"blank\" ></th>        <th class=\"blank\" ></th>        <th class=\"blank\" ></th>        <th class=\"blank\" ></th>        <th class=\"blank\" ></th>        <th class=\"blank\" ></th>        <th class=\"blank\" ></th>        <th class=\"blank\" ></th>        <th class=\"blank\" ></th>        <th class=\"blank\" ></th>        <th class=\"blank\" ></th>    </tr></thead><tbody>\n",
              "                <tr>\n",
              "                        <th id=\"T_01071340_2a6b_11ea_9acd_0242ac1c0002level0_row0\" class=\"row_heading level0 row0\" >20 Fingers</th>\n",
              "                        <td id=\"T_01071340_2a6b_11ea_9acd_0242ac1c0002row0_col0\" class=\"data row0 col0\" >No Data</td>\n",
              "                        <td id=\"T_01071340_2a6b_11ea_9acd_0242ac1c0002row0_col1\" class=\"data row0 col1\" >No Data</td>\n",
              "                        <td id=\"T_01071340_2a6b_11ea_9acd_0242ac1c0002row0_col2\" class=\"data row0 col2\" >No Data</td>\n",
              "                        <td id=\"T_01071340_2a6b_11ea_9acd_0242ac1c0002row0_col3\" class=\"data row0 col3\" >No Data</td>\n",
              "                        <td id=\"T_01071340_2a6b_11ea_9acd_0242ac1c0002row0_col4\" class=\"data row0 col4\" >No Data</td>\n",
              "                        <td id=\"T_01071340_2a6b_11ea_9acd_0242ac1c0002row0_col5\" class=\"data row0 col5\" >No Data</td>\n",
              "                        <td id=\"T_01071340_2a6b_11ea_9acd_0242ac1c0002row0_col6\" class=\"data row0 col6\" >No Data</td>\n",
              "                        <td id=\"T_01071340_2a6b_11ea_9acd_0242ac1c0002row0_col7\" class=\"data row0 col7\" >No Data</td>\n",
              "                        <td id=\"T_01071340_2a6b_11ea_9acd_0242ac1c0002row0_col8\" class=\"data row0 col8\" >No Data</td>\n",
              "                        <td id=\"T_01071340_2a6b_11ea_9acd_0242ac1c0002row0_col9\" class=\"data row0 col9\" >No Data</td>\n",
              "                        <td id=\"T_01071340_2a6b_11ea_9acd_0242ac1c0002row0_col10\" class=\"data row0 col10\" >No Data</td>\n",
              "                        <td id=\"T_01071340_2a6b_11ea_9acd_0242ac1c0002row0_col11\" class=\"data row0 col11\" >No Data</td>\n",
              "                        <td id=\"T_01071340_2a6b_11ea_9acd_0242ac1c0002row0_col12\" class=\"data row0 col12\" >No Data</td>\n",
              "                        <td id=\"T_01071340_2a6b_11ea_9acd_0242ac1c0002row0_col13\" class=\"data row0 col13\" >No Data</td>\n",
              "                        <td id=\"T_01071340_2a6b_11ea_9acd_0242ac1c0002row0_col14\" class=\"data row0 col14\" >No Data</td>\n",
              "                        <td id=\"T_01071340_2a6b_11ea_9acd_0242ac1c0002row0_col15\" class=\"data row0 col15\" >No Data</td>\n",
              "                        <td id=\"T_01071340_2a6b_11ea_9acd_0242ac1c0002row0_col16\" class=\"data row0 col16\" >No Data</td>\n",
              "                        <td id=\"T_01071340_2a6b_11ea_9acd_0242ac1c0002row0_col17\" class=\"data row0 col17\" >No Data</td>\n",
              "                        <td id=\"T_01071340_2a6b_11ea_9acd_0242ac1c0002row0_col18\" class=\"data row0 col18\" >No Data</td>\n",
              "                        <td id=\"T_01071340_2a6b_11ea_9acd_0242ac1c0002row0_col19\" class=\"data row0 col19\" >No Data</td>\n",
              "                        <td id=\"T_01071340_2a6b_11ea_9acd_0242ac1c0002row0_col20\" class=\"data row0 col20\" >No Data</td>\n",
              "                        <td id=\"T_01071340_2a6b_11ea_9acd_0242ac1c0002row0_col21\" class=\"data row0 col21\" >No Data</td>\n",
              "                        <td id=\"T_01071340_2a6b_11ea_9acd_0242ac1c0002row0_col22\" class=\"data row0 col22\" >No Data</td>\n",
              "                        <td id=\"T_01071340_2a6b_11ea_9acd_0242ac1c0002row0_col23\" class=\"data row0 col23\" >No Data</td>\n",
              "                        <td id=\"T_01071340_2a6b_11ea_9acd_0242ac1c0002row0_col24\" class=\"data row0 col24\" >No Data</td>\n",
              "                        <td id=\"T_01071340_2a6b_11ea_9acd_0242ac1c0002row0_col25\" class=\"data row0 col25\" >No Data</td>\n",
              "                        <td id=\"T_01071340_2a6b_11ea_9acd_0242ac1c0002row0_col26\" class=\"data row0 col26\" >No Data</td>\n",
              "                        <td id=\"T_01071340_2a6b_11ea_9acd_0242ac1c0002row0_col27\" class=\"data row0 col27\" >No Data</td>\n",
              "                        <td id=\"T_01071340_2a6b_11ea_9acd_0242ac1c0002row0_col28\" class=\"data row0 col28\" >No Data</td>\n",
              "                        <td id=\"T_01071340_2a6b_11ea_9acd_0242ac1c0002row0_col29\" class=\"data row0 col29\" >No Data</td>\n",
              "                        <td id=\"T_01071340_2a6b_11ea_9acd_0242ac1c0002row0_col30\" class=\"data row0 col30\" >No Data</td>\n",
              "                        <td id=\"T_01071340_2a6b_11ea_9acd_0242ac1c0002row0_col31\" class=\"data row0 col31\" >No Data</td>\n",
              "                        <td id=\"T_01071340_2a6b_11ea_9acd_0242ac1c0002row0_col32\" class=\"data row0 col32\" >No Data</td>\n",
              "                        <td id=\"T_01071340_2a6b_11ea_9acd_0242ac1c0002row0_col33\" class=\"data row0 col33\" >No Data</td>\n",
              "                        <td id=\"T_01071340_2a6b_11ea_9acd_0242ac1c0002row0_col34\" class=\"data row0 col34\" >No Data</td>\n",
              "                        <td id=\"T_01071340_2a6b_11ea_9acd_0242ac1c0002row0_col35\" class=\"data row0 col35\" >No Data</td>\n",
              "                        <td id=\"T_01071340_2a6b_11ea_9acd_0242ac1c0002row0_col36\" class=\"data row0 col36\" >No Data</td>\n",
              "                        <td id=\"T_01071340_2a6b_11ea_9acd_0242ac1c0002row0_col37\" class=\"data row0 col37\" >No Data</td>\n",
              "                        <td id=\"T_01071340_2a6b_11ea_9acd_0242ac1c0002row0_col38\" class=\"data row0 col38\" >No Data</td>\n",
              "                        <td id=\"T_01071340_2a6b_11ea_9acd_0242ac1c0002row0_col39\" class=\"data row0 col39\" >76</td>\n",
              "                        <td id=\"T_01071340_2a6b_11ea_9acd_0242ac1c0002row0_col40\" class=\"data row0 col40\" >No Data</td>\n",
              "                        <td id=\"T_01071340_2a6b_11ea_9acd_0242ac1c0002row0_col41\" class=\"data row0 col41\" >No Data</td>\n",
              "                        <td id=\"T_01071340_2a6b_11ea_9acd_0242ac1c0002row0_col42\" class=\"data row0 col42\" >No Data</td>\n",
              "                        <td id=\"T_01071340_2a6b_11ea_9acd_0242ac1c0002row0_col43\" class=\"data row0 col43\" >No Data</td>\n",
              "                        <td id=\"T_01071340_2a6b_11ea_9acd_0242ac1c0002row0_col44\" class=\"data row0 col44\" >No Data</td>\n",
              "                        <td id=\"T_01071340_2a6b_11ea_9acd_0242ac1c0002row0_col45\" class=\"data row0 col45\" >No Data</td>\n",
              "                        <td id=\"T_01071340_2a6b_11ea_9acd_0242ac1c0002row0_col46\" class=\"data row0 col46\" >No Data</td>\n",
              "                        <td id=\"T_01071340_2a6b_11ea_9acd_0242ac1c0002row0_col47\" class=\"data row0 col47\" >No Data</td>\n",
              "                        <td id=\"T_01071340_2a6b_11ea_9acd_0242ac1c0002row0_col48\" class=\"data row0 col48\" >No Data</td>\n",
              "                        <td id=\"T_01071340_2a6b_11ea_9acd_0242ac1c0002row0_col49\" class=\"data row0 col49\" >No Data</td>\n",
              "                        <td id=\"T_01071340_2a6b_11ea_9acd_0242ac1c0002row0_col50\" class=\"data row0 col50\" >No Data</td>\n",
              "                        <td id=\"T_01071340_2a6b_11ea_9acd_0242ac1c0002row0_col51\" class=\"data row0 col51\" >No Data</td>\n",
              "                        <td id=\"T_01071340_2a6b_11ea_9acd_0242ac1c0002row0_col52\" class=\"data row0 col52\" >No Data</td>\n",
              "                        <td id=\"T_01071340_2a6b_11ea_9acd_0242ac1c0002row0_col53\" class=\"data row0 col53\" >No Data</td>\n",
              "                        <td id=\"T_01071340_2a6b_11ea_9acd_0242ac1c0002row0_col54\" class=\"data row0 col54\" >No Data</td>\n",
              "                        <td id=\"T_01071340_2a6b_11ea_9acd_0242ac1c0002row0_col55\" class=\"data row0 col55\" >No Data</td>\n",
              "                        <td id=\"T_01071340_2a6b_11ea_9acd_0242ac1c0002row0_col56\" class=\"data row0 col56\" >No Data</td>\n",
              "                        <td id=\"T_01071340_2a6b_11ea_9acd_0242ac1c0002row0_col57\" class=\"data row0 col57\" >No Data</td>\n",
              "            </tr>\n",
              "            <tr>\n",
              "                        <th id=\"T_01071340_2a6b_11ea_9acd_0242ac1c0002level0_row1\" class=\"row_heading level0 row1\" >2 Pistols</th>\n",
              "                        <td id=\"T_01071340_2a6b_11ea_9acd_0242ac1c0002row1_col0\" class=\"data row1 col0\" >No Data</td>\n",
              "                        <td id=\"T_01071340_2a6b_11ea_9acd_0242ac1c0002row1_col1\" class=\"data row1 col1\" >No Data</td>\n",
              "                        <td id=\"T_01071340_2a6b_11ea_9acd_0242ac1c0002row1_col2\" class=\"data row1 col2\" >No Data</td>\n",
              "                        <td id=\"T_01071340_2a6b_11ea_9acd_0242ac1c0002row1_col3\" class=\"data row1 col3\" >No Data</td>\n",
              "                        <td id=\"T_01071340_2a6b_11ea_9acd_0242ac1c0002row1_col4\" class=\"data row1 col4\" >No Data</td>\n",
              "                        <td id=\"T_01071340_2a6b_11ea_9acd_0242ac1c0002row1_col5\" class=\"data row1 col5\" >No Data</td>\n",
              "                        <td id=\"T_01071340_2a6b_11ea_9acd_0242ac1c0002row1_col6\" class=\"data row1 col6\" >No Data</td>\n",
              "                        <td id=\"T_01071340_2a6b_11ea_9acd_0242ac1c0002row1_col7\" class=\"data row1 col7\" >No Data</td>\n",
              "                        <td id=\"T_01071340_2a6b_11ea_9acd_0242ac1c0002row1_col8\" class=\"data row1 col8\" >No Data</td>\n",
              "                        <td id=\"T_01071340_2a6b_11ea_9acd_0242ac1c0002row1_col9\" class=\"data row1 col9\" >No Data</td>\n",
              "                        <td id=\"T_01071340_2a6b_11ea_9acd_0242ac1c0002row1_col10\" class=\"data row1 col10\" >No Data</td>\n",
              "                        <td id=\"T_01071340_2a6b_11ea_9acd_0242ac1c0002row1_col11\" class=\"data row1 col11\" >No Data</td>\n",
              "                        <td id=\"T_01071340_2a6b_11ea_9acd_0242ac1c0002row1_col12\" class=\"data row1 col12\" >No Data</td>\n",
              "                        <td id=\"T_01071340_2a6b_11ea_9acd_0242ac1c0002row1_col13\" class=\"data row1 col13\" >No Data</td>\n",
              "                        <td id=\"T_01071340_2a6b_11ea_9acd_0242ac1c0002row1_col14\" class=\"data row1 col14\" >No Data</td>\n",
              "                        <td id=\"T_01071340_2a6b_11ea_9acd_0242ac1c0002row1_col15\" class=\"data row1 col15\" >No Data</td>\n",
              "                        <td id=\"T_01071340_2a6b_11ea_9acd_0242ac1c0002row1_col16\" class=\"data row1 col16\" >No Data</td>\n",
              "                        <td id=\"T_01071340_2a6b_11ea_9acd_0242ac1c0002row1_col17\" class=\"data row1 col17\" >No Data</td>\n",
              "                        <td id=\"T_01071340_2a6b_11ea_9acd_0242ac1c0002row1_col18\" class=\"data row1 col18\" >No Data</td>\n",
              "                        <td id=\"T_01071340_2a6b_11ea_9acd_0242ac1c0002row1_col19\" class=\"data row1 col19\" >No Data</td>\n",
              "                        <td id=\"T_01071340_2a6b_11ea_9acd_0242ac1c0002row1_col20\" class=\"data row1 col20\" >No Data</td>\n",
              "                        <td id=\"T_01071340_2a6b_11ea_9acd_0242ac1c0002row1_col21\" class=\"data row1 col21\" >No Data</td>\n",
              "                        <td id=\"T_01071340_2a6b_11ea_9acd_0242ac1c0002row1_col22\" class=\"data row1 col22\" >No Data</td>\n",
              "                        <td id=\"T_01071340_2a6b_11ea_9acd_0242ac1c0002row1_col23\" class=\"data row1 col23\" >No Data</td>\n",
              "                        <td id=\"T_01071340_2a6b_11ea_9acd_0242ac1c0002row1_col24\" class=\"data row1 col24\" >No Data</td>\n",
              "                        <td id=\"T_01071340_2a6b_11ea_9acd_0242ac1c0002row1_col25\" class=\"data row1 col25\" >No Data</td>\n",
              "                        <td id=\"T_01071340_2a6b_11ea_9acd_0242ac1c0002row1_col26\" class=\"data row1 col26\" >No Data</td>\n",
              "                        <td id=\"T_01071340_2a6b_11ea_9acd_0242ac1c0002row1_col27\" class=\"data row1 col27\" >No Data</td>\n",
              "                        <td id=\"T_01071340_2a6b_11ea_9acd_0242ac1c0002row1_col28\" class=\"data row1 col28\" >No Data</td>\n",
              "                        <td id=\"T_01071340_2a6b_11ea_9acd_0242ac1c0002row1_col29\" class=\"data row1 col29\" >No Data</td>\n",
              "                        <td id=\"T_01071340_2a6b_11ea_9acd_0242ac1c0002row1_col30\" class=\"data row1 col30\" >No Data</td>\n",
              "                        <td id=\"T_01071340_2a6b_11ea_9acd_0242ac1c0002row1_col31\" class=\"data row1 col31\" >No Data</td>\n",
              "                        <td id=\"T_01071340_2a6b_11ea_9acd_0242ac1c0002row1_col32\" class=\"data row1 col32\" >No Data</td>\n",
              "                        <td id=\"T_01071340_2a6b_11ea_9acd_0242ac1c0002row1_col33\" class=\"data row1 col33\" >No Data</td>\n",
              "                        <td id=\"T_01071340_2a6b_11ea_9acd_0242ac1c0002row1_col34\" class=\"data row1 col34\" >No Data</td>\n",
              "                        <td id=\"T_01071340_2a6b_11ea_9acd_0242ac1c0002row1_col35\" class=\"data row1 col35\" >No Data</td>\n",
              "                        <td id=\"T_01071340_2a6b_11ea_9acd_0242ac1c0002row1_col36\" class=\"data row1 col36\" >No Data</td>\n",
              "                        <td id=\"T_01071340_2a6b_11ea_9acd_0242ac1c0002row1_col37\" class=\"data row1 col37\" >No Data</td>\n",
              "                        <td id=\"T_01071340_2a6b_11ea_9acd_0242ac1c0002row1_col38\" class=\"data row1 col38\" >No Data</td>\n",
              "                        <td id=\"T_01071340_2a6b_11ea_9acd_0242ac1c0002row1_col39\" class=\"data row1 col39\" >No Data</td>\n",
              "                        <td id=\"T_01071340_2a6b_11ea_9acd_0242ac1c0002row1_col40\" class=\"data row1 col40\" >No Data</td>\n",
              "                        <td id=\"T_01071340_2a6b_11ea_9acd_0242ac1c0002row1_col41\" class=\"data row1 col41\" >No Data</td>\n",
              "                        <td id=\"T_01071340_2a6b_11ea_9acd_0242ac1c0002row1_col42\" class=\"data row1 col42\" >No Data</td>\n",
              "                        <td id=\"T_01071340_2a6b_11ea_9acd_0242ac1c0002row1_col43\" class=\"data row1 col43\" >No Data</td>\n",
              "                        <td id=\"T_01071340_2a6b_11ea_9acd_0242ac1c0002row1_col44\" class=\"data row1 col44\" >No Data</td>\n",
              "                        <td id=\"T_01071340_2a6b_11ea_9acd_0242ac1c0002row1_col45\" class=\"data row1 col45\" >No Data</td>\n",
              "                        <td id=\"T_01071340_2a6b_11ea_9acd_0242ac1c0002row1_col46\" class=\"data row1 col46\" >No Data</td>\n",
              "                        <td id=\"T_01071340_2a6b_11ea_9acd_0242ac1c0002row1_col47\" class=\"data row1 col47\" >No Data</td>\n",
              "                        <td id=\"T_01071340_2a6b_11ea_9acd_0242ac1c0002row1_col48\" class=\"data row1 col48\" >No Data</td>\n",
              "                        <td id=\"T_01071340_2a6b_11ea_9acd_0242ac1c0002row1_col49\" class=\"data row1 col49\" >No Data</td>\n",
              "                        <td id=\"T_01071340_2a6b_11ea_9acd_0242ac1c0002row1_col50\" class=\"data row1 col50\" >No Data</td>\n",
              "                        <td id=\"T_01071340_2a6b_11ea_9acd_0242ac1c0002row1_col51\" class=\"data row1 col51\" >No Data</td>\n",
              "                        <td id=\"T_01071340_2a6b_11ea_9acd_0242ac1c0002row1_col52\" class=\"data row1 col52\" >100</td>\n",
              "                        <td id=\"T_01071340_2a6b_11ea_9acd_0242ac1c0002row1_col53\" class=\"data row1 col53\" >No Data</td>\n",
              "                        <td id=\"T_01071340_2a6b_11ea_9acd_0242ac1c0002row1_col54\" class=\"data row1 col54\" >No Data</td>\n",
              "                        <td id=\"T_01071340_2a6b_11ea_9acd_0242ac1c0002row1_col55\" class=\"data row1 col55\" >No Data</td>\n",
              "                        <td id=\"T_01071340_2a6b_11ea_9acd_0242ac1c0002row1_col56\" class=\"data row1 col56\" >No Data</td>\n",
              "                        <td id=\"T_01071340_2a6b_11ea_9acd_0242ac1c0002row1_col57\" class=\"data row1 col57\" >No Data</td>\n",
              "            </tr>\n",
              "            <tr>\n",
              "                        <th id=\"T_01071340_2a6b_11ea_9acd_0242ac1c0002level0_row2\" class=\"row_heading level0 row2\" >2 Chainz</th>\n",
              "                        <td id=\"T_01071340_2a6b_11ea_9acd_0242ac1c0002row2_col0\" class=\"data row2 col0\" >No Data</td>\n",
              "                        <td id=\"T_01071340_2a6b_11ea_9acd_0242ac1c0002row2_col1\" class=\"data row2 col1\" >No Data</td>\n",
              "                        <td id=\"T_01071340_2a6b_11ea_9acd_0242ac1c0002row2_col2\" class=\"data row2 col2\" >No Data</td>\n",
              "                        <td id=\"T_01071340_2a6b_11ea_9acd_0242ac1c0002row2_col3\" class=\"data row2 col3\" >No Data</td>\n",
              "                        <td id=\"T_01071340_2a6b_11ea_9acd_0242ac1c0002row2_col4\" class=\"data row2 col4\" >No Data</td>\n",
              "                        <td id=\"T_01071340_2a6b_11ea_9acd_0242ac1c0002row2_col5\" class=\"data row2 col5\" >No Data</td>\n",
              "                        <td id=\"T_01071340_2a6b_11ea_9acd_0242ac1c0002row2_col6\" class=\"data row2 col6\" >No Data</td>\n",
              "                        <td id=\"T_01071340_2a6b_11ea_9acd_0242ac1c0002row2_col7\" class=\"data row2 col7\" >No Data</td>\n",
              "                        <td id=\"T_01071340_2a6b_11ea_9acd_0242ac1c0002row2_col8\" class=\"data row2 col8\" >No Data</td>\n",
              "                        <td id=\"T_01071340_2a6b_11ea_9acd_0242ac1c0002row2_col9\" class=\"data row2 col9\" >No Data</td>\n",
              "                        <td id=\"T_01071340_2a6b_11ea_9acd_0242ac1c0002row2_col10\" class=\"data row2 col10\" >No Data</td>\n",
              "                        <td id=\"T_01071340_2a6b_11ea_9acd_0242ac1c0002row2_col11\" class=\"data row2 col11\" >No Data</td>\n",
              "                        <td id=\"T_01071340_2a6b_11ea_9acd_0242ac1c0002row2_col12\" class=\"data row2 col12\" >No Data</td>\n",
              "                        <td id=\"T_01071340_2a6b_11ea_9acd_0242ac1c0002row2_col13\" class=\"data row2 col13\" >No Data</td>\n",
              "                        <td id=\"T_01071340_2a6b_11ea_9acd_0242ac1c0002row2_col14\" class=\"data row2 col14\" >No Data</td>\n",
              "                        <td id=\"T_01071340_2a6b_11ea_9acd_0242ac1c0002row2_col15\" class=\"data row2 col15\" >No Data</td>\n",
              "                        <td id=\"T_01071340_2a6b_11ea_9acd_0242ac1c0002row2_col16\" class=\"data row2 col16\" >No Data</td>\n",
              "                        <td id=\"T_01071340_2a6b_11ea_9acd_0242ac1c0002row2_col17\" class=\"data row2 col17\" >No Data</td>\n",
              "                        <td id=\"T_01071340_2a6b_11ea_9acd_0242ac1c0002row2_col18\" class=\"data row2 col18\" >No Data</td>\n",
              "                        <td id=\"T_01071340_2a6b_11ea_9acd_0242ac1c0002row2_col19\" class=\"data row2 col19\" >No Data</td>\n",
              "                        <td id=\"T_01071340_2a6b_11ea_9acd_0242ac1c0002row2_col20\" class=\"data row2 col20\" >No Data</td>\n",
              "                        <td id=\"T_01071340_2a6b_11ea_9acd_0242ac1c0002row2_col21\" class=\"data row2 col21\" >No Data</td>\n",
              "                        <td id=\"T_01071340_2a6b_11ea_9acd_0242ac1c0002row2_col22\" class=\"data row2 col22\" >No Data</td>\n",
              "                        <td id=\"T_01071340_2a6b_11ea_9acd_0242ac1c0002row2_col23\" class=\"data row2 col23\" >No Data</td>\n",
              "                        <td id=\"T_01071340_2a6b_11ea_9acd_0242ac1c0002row2_col24\" class=\"data row2 col24\" >No Data</td>\n",
              "                        <td id=\"T_01071340_2a6b_11ea_9acd_0242ac1c0002row2_col25\" class=\"data row2 col25\" >No Data</td>\n",
              "                        <td id=\"T_01071340_2a6b_11ea_9acd_0242ac1c0002row2_col26\" class=\"data row2 col26\" >No Data</td>\n",
              "                        <td id=\"T_01071340_2a6b_11ea_9acd_0242ac1c0002row2_col27\" class=\"data row2 col27\" >No Data</td>\n",
              "                        <td id=\"T_01071340_2a6b_11ea_9acd_0242ac1c0002row2_col28\" class=\"data row2 col28\" >No Data</td>\n",
              "                        <td id=\"T_01071340_2a6b_11ea_9acd_0242ac1c0002row2_col29\" class=\"data row2 col29\" >No Data</td>\n",
              "                        <td id=\"T_01071340_2a6b_11ea_9acd_0242ac1c0002row2_col30\" class=\"data row2 col30\" >No Data</td>\n",
              "                        <td id=\"T_01071340_2a6b_11ea_9acd_0242ac1c0002row2_col31\" class=\"data row2 col31\" >No Data</td>\n",
              "                        <td id=\"T_01071340_2a6b_11ea_9acd_0242ac1c0002row2_col32\" class=\"data row2 col32\" >No Data</td>\n",
              "                        <td id=\"T_01071340_2a6b_11ea_9acd_0242ac1c0002row2_col33\" class=\"data row2 col33\" >No Data</td>\n",
              "                        <td id=\"T_01071340_2a6b_11ea_9acd_0242ac1c0002row2_col34\" class=\"data row2 col34\" >No Data</td>\n",
              "                        <td id=\"T_01071340_2a6b_11ea_9acd_0242ac1c0002row2_col35\" class=\"data row2 col35\" >No Data</td>\n",
              "                        <td id=\"T_01071340_2a6b_11ea_9acd_0242ac1c0002row2_col36\" class=\"data row2 col36\" >No Data</td>\n",
              "                        <td id=\"T_01071340_2a6b_11ea_9acd_0242ac1c0002row2_col37\" class=\"data row2 col37\" >No Data</td>\n",
              "                        <td id=\"T_01071340_2a6b_11ea_9acd_0242ac1c0002row2_col38\" class=\"data row2 col38\" >No Data</td>\n",
              "                        <td id=\"T_01071340_2a6b_11ea_9acd_0242ac1c0002row2_col39\" class=\"data row2 col39\" >No Data</td>\n",
              "                        <td id=\"T_01071340_2a6b_11ea_9acd_0242ac1c0002row2_col40\" class=\"data row2 col40\" >No Data</td>\n",
              "                        <td id=\"T_01071340_2a6b_11ea_9acd_0242ac1c0002row2_col41\" class=\"data row2 col41\" >No Data</td>\n",
              "                        <td id=\"T_01071340_2a6b_11ea_9acd_0242ac1c0002row2_col42\" class=\"data row2 col42\" >No Data</td>\n",
              "                        <td id=\"T_01071340_2a6b_11ea_9acd_0242ac1c0002row2_col43\" class=\"data row2 col43\" >No Data</td>\n",
              "                        <td id=\"T_01071340_2a6b_11ea_9acd_0242ac1c0002row2_col44\" class=\"data row2 col44\" >No Data</td>\n",
              "                        <td id=\"T_01071340_2a6b_11ea_9acd_0242ac1c0002row2_col45\" class=\"data row2 col45\" >No Data</td>\n",
              "                        <td id=\"T_01071340_2a6b_11ea_9acd_0242ac1c0002row2_col46\" class=\"data row2 col46\" >No Data</td>\n",
              "                        <td id=\"T_01071340_2a6b_11ea_9acd_0242ac1c0002row2_col47\" class=\"data row2 col47\" >No Data</td>\n",
              "                        <td id=\"T_01071340_2a6b_11ea_9acd_0242ac1c0002row2_col48\" class=\"data row2 col48\" >No Data</td>\n",
              "                        <td id=\"T_01071340_2a6b_11ea_9acd_0242ac1c0002row2_col49\" class=\"data row2 col49\" >No Data</td>\n",
              "                        <td id=\"T_01071340_2a6b_11ea_9acd_0242ac1c0002row2_col50\" class=\"data row2 col50\" >No Data</td>\n",
              "                        <td id=\"T_01071340_2a6b_11ea_9acd_0242ac1c0002row2_col51\" class=\"data row2 col51\" >No Data</td>\n",
              "                        <td id=\"T_01071340_2a6b_11ea_9acd_0242ac1c0002row2_col52\" class=\"data row2 col52\" >No Data</td>\n",
              "                        <td id=\"T_01071340_2a6b_11ea_9acd_0242ac1c0002row2_col53\" class=\"data row2 col53\" >No Data</td>\n",
              "                        <td id=\"T_01071340_2a6b_11ea_9acd_0242ac1c0002row2_col54\" class=\"data row2 col54\" >No Data</td>\n",
              "                        <td id=\"T_01071340_2a6b_11ea_9acd_0242ac1c0002row2_col55\" class=\"data row2 col55\" >No Data</td>\n",
              "                        <td id=\"T_01071340_2a6b_11ea_9acd_0242ac1c0002row2_col56\" class=\"data row2 col56\" >40.5</td>\n",
              "                        <td id=\"T_01071340_2a6b_11ea_9acd_0242ac1c0002row2_col57\" class=\"data row2 col57\" >70</td>\n",
              "            </tr>\n",
              "            <tr>\n",
              "                        <th id=\"T_01071340_2a6b_11ea_9acd_0242ac1c0002level0_row3\" class=\"row_heading level0 row3\" >1910 Fruitgum Company</th>\n",
              "                        <td id=\"T_01071340_2a6b_11ea_9acd_0242ac1c0002row3_col0\" class=\"data row3 col0\" >No Data</td>\n",
              "                        <td id=\"T_01071340_2a6b_11ea_9acd_0242ac1c0002row3_col1\" class=\"data row3 col1\" >No Data</td>\n",
              "                        <td id=\"T_01071340_2a6b_11ea_9acd_0242ac1c0002row3_col2\" class=\"data row3 col2\" >No Data</td>\n",
              "                        <td id=\"T_01071340_2a6b_11ea_9acd_0242ac1c0002row3_col3\" class=\"data row3 col3\" >No Data</td>\n",
              "                        <td id=\"T_01071340_2a6b_11ea_9acd_0242ac1c0002row3_col4\" class=\"data row3 col4\" >No Data</td>\n",
              "                        <td id=\"T_01071340_2a6b_11ea_9acd_0242ac1c0002row3_col5\" class=\"data row3 col5\" >No Data</td>\n",
              "                        <td id=\"T_01071340_2a6b_11ea_9acd_0242ac1c0002row3_col6\" class=\"data row3 col6\" >No Data</td>\n",
              "                        <td id=\"T_01071340_2a6b_11ea_9acd_0242ac1c0002row3_col7\" class=\"data row3 col7\" >No Data</td>\n",
              "                        <td id=\"T_01071340_2a6b_11ea_9acd_0242ac1c0002row3_col8\" class=\"data row3 col8\" >No Data</td>\n",
              "                        <td id=\"T_01071340_2a6b_11ea_9acd_0242ac1c0002row3_col9\" class=\"data row3 col9\" >No Data</td>\n",
              "                        <td id=\"T_01071340_2a6b_11ea_9acd_0242ac1c0002row3_col10\" class=\"data row3 col10\" >No Data</td>\n",
              "                        <td id=\"T_01071340_2a6b_11ea_9acd_0242ac1c0002row3_col11\" class=\"data row3 col11\" >No Data</td>\n",
              "                        <td id=\"T_01071340_2a6b_11ea_9acd_0242ac1c0002row3_col12\" class=\"data row3 col12\" >40.5</td>\n",
              "                        <td id=\"T_01071340_2a6b_11ea_9acd_0242ac1c0002row3_col13\" class=\"data row3 col13\" >67</td>\n",
              "                        <td id=\"T_01071340_2a6b_11ea_9acd_0242ac1c0002row3_col14\" class=\"data row3 col14\" >No Data</td>\n",
              "                        <td id=\"T_01071340_2a6b_11ea_9acd_0242ac1c0002row3_col15\" class=\"data row3 col15\" >No Data</td>\n",
              "                        <td id=\"T_01071340_2a6b_11ea_9acd_0242ac1c0002row3_col16\" class=\"data row3 col16\" >No Data</td>\n",
              "                        <td id=\"T_01071340_2a6b_11ea_9acd_0242ac1c0002row3_col17\" class=\"data row3 col17\" >No Data</td>\n",
              "                        <td id=\"T_01071340_2a6b_11ea_9acd_0242ac1c0002row3_col18\" class=\"data row3 col18\" >No Data</td>\n",
              "                        <td id=\"T_01071340_2a6b_11ea_9acd_0242ac1c0002row3_col19\" class=\"data row3 col19\" >No Data</td>\n",
              "                        <td id=\"T_01071340_2a6b_11ea_9acd_0242ac1c0002row3_col20\" class=\"data row3 col20\" >No Data</td>\n",
              "                        <td id=\"T_01071340_2a6b_11ea_9acd_0242ac1c0002row3_col21\" class=\"data row3 col21\" >No Data</td>\n",
              "                        <td id=\"T_01071340_2a6b_11ea_9acd_0242ac1c0002row3_col22\" class=\"data row3 col22\" >No Data</td>\n",
              "                        <td id=\"T_01071340_2a6b_11ea_9acd_0242ac1c0002row3_col23\" class=\"data row3 col23\" >No Data</td>\n",
              "                        <td id=\"T_01071340_2a6b_11ea_9acd_0242ac1c0002row3_col24\" class=\"data row3 col24\" >No Data</td>\n",
              "                        <td id=\"T_01071340_2a6b_11ea_9acd_0242ac1c0002row3_col25\" class=\"data row3 col25\" >No Data</td>\n",
              "                        <td id=\"T_01071340_2a6b_11ea_9acd_0242ac1c0002row3_col26\" class=\"data row3 col26\" >No Data</td>\n",
              "                        <td id=\"T_01071340_2a6b_11ea_9acd_0242ac1c0002row3_col27\" class=\"data row3 col27\" >No Data</td>\n",
              "                        <td id=\"T_01071340_2a6b_11ea_9acd_0242ac1c0002row3_col28\" class=\"data row3 col28\" >No Data</td>\n",
              "                        <td id=\"T_01071340_2a6b_11ea_9acd_0242ac1c0002row3_col29\" class=\"data row3 col29\" >No Data</td>\n",
              "                        <td id=\"T_01071340_2a6b_11ea_9acd_0242ac1c0002row3_col30\" class=\"data row3 col30\" >No Data</td>\n",
              "                        <td id=\"T_01071340_2a6b_11ea_9acd_0242ac1c0002row3_col31\" class=\"data row3 col31\" >No Data</td>\n",
              "                        <td id=\"T_01071340_2a6b_11ea_9acd_0242ac1c0002row3_col32\" class=\"data row3 col32\" >No Data</td>\n",
              "                        <td id=\"T_01071340_2a6b_11ea_9acd_0242ac1c0002row3_col33\" class=\"data row3 col33\" >No Data</td>\n",
              "                        <td id=\"T_01071340_2a6b_11ea_9acd_0242ac1c0002row3_col34\" class=\"data row3 col34\" >No Data</td>\n",
              "                        <td id=\"T_01071340_2a6b_11ea_9acd_0242ac1c0002row3_col35\" class=\"data row3 col35\" >No Data</td>\n",
              "                        <td id=\"T_01071340_2a6b_11ea_9acd_0242ac1c0002row3_col36\" class=\"data row3 col36\" >No Data</td>\n",
              "                        <td id=\"T_01071340_2a6b_11ea_9acd_0242ac1c0002row3_col37\" class=\"data row3 col37\" >No Data</td>\n",
              "                        <td id=\"T_01071340_2a6b_11ea_9acd_0242ac1c0002row3_col38\" class=\"data row3 col38\" >No Data</td>\n",
              "                        <td id=\"T_01071340_2a6b_11ea_9acd_0242ac1c0002row3_col39\" class=\"data row3 col39\" >No Data</td>\n",
              "                        <td id=\"T_01071340_2a6b_11ea_9acd_0242ac1c0002row3_col40\" class=\"data row3 col40\" >No Data</td>\n",
              "                        <td id=\"T_01071340_2a6b_11ea_9acd_0242ac1c0002row3_col41\" class=\"data row3 col41\" >No Data</td>\n",
              "                        <td id=\"T_01071340_2a6b_11ea_9acd_0242ac1c0002row3_col42\" class=\"data row3 col42\" >No Data</td>\n",
              "                        <td id=\"T_01071340_2a6b_11ea_9acd_0242ac1c0002row3_col43\" class=\"data row3 col43\" >No Data</td>\n",
              "                        <td id=\"T_01071340_2a6b_11ea_9acd_0242ac1c0002row3_col44\" class=\"data row3 col44\" >No Data</td>\n",
              "                        <td id=\"T_01071340_2a6b_11ea_9acd_0242ac1c0002row3_col45\" class=\"data row3 col45\" >No Data</td>\n",
              "                        <td id=\"T_01071340_2a6b_11ea_9acd_0242ac1c0002row3_col46\" class=\"data row3 col46\" >No Data</td>\n",
              "                        <td id=\"T_01071340_2a6b_11ea_9acd_0242ac1c0002row3_col47\" class=\"data row3 col47\" >No Data</td>\n",
              "                        <td id=\"T_01071340_2a6b_11ea_9acd_0242ac1c0002row3_col48\" class=\"data row3 col48\" >No Data</td>\n",
              "                        <td id=\"T_01071340_2a6b_11ea_9acd_0242ac1c0002row3_col49\" class=\"data row3 col49\" >No Data</td>\n",
              "                        <td id=\"T_01071340_2a6b_11ea_9acd_0242ac1c0002row3_col50\" class=\"data row3 col50\" >No Data</td>\n",
              "                        <td id=\"T_01071340_2a6b_11ea_9acd_0242ac1c0002row3_col51\" class=\"data row3 col51\" >No Data</td>\n",
              "                        <td id=\"T_01071340_2a6b_11ea_9acd_0242ac1c0002row3_col52\" class=\"data row3 col52\" >No Data</td>\n",
              "                        <td id=\"T_01071340_2a6b_11ea_9acd_0242ac1c0002row3_col53\" class=\"data row3 col53\" >No Data</td>\n",
              "                        <td id=\"T_01071340_2a6b_11ea_9acd_0242ac1c0002row3_col54\" class=\"data row3 col54\" >No Data</td>\n",
              "                        <td id=\"T_01071340_2a6b_11ea_9acd_0242ac1c0002row3_col55\" class=\"data row3 col55\" >No Data</td>\n",
              "                        <td id=\"T_01071340_2a6b_11ea_9acd_0242ac1c0002row3_col56\" class=\"data row3 col56\" >No Data</td>\n",
              "                        <td id=\"T_01071340_2a6b_11ea_9acd_0242ac1c0002row3_col57\" class=\"data row3 col57\" >No Data</td>\n",
              "            </tr>\n",
              "            <tr>\n",
              "                        <th id=\"T_01071340_2a6b_11ea_9acd_0242ac1c0002level0_row4\" class=\"row_heading level0 row4\" >112</th>\n",
              "                        <td id=\"T_01071340_2a6b_11ea_9acd_0242ac1c0002row4_col0\" class=\"data row4 col0\" >No Data</td>\n",
              "                        <td id=\"T_01071340_2a6b_11ea_9acd_0242ac1c0002row4_col1\" class=\"data row4 col1\" >No Data</td>\n",
              "                        <td id=\"T_01071340_2a6b_11ea_9acd_0242ac1c0002row4_col2\" class=\"data row4 col2\" >No Data</td>\n",
              "                        <td id=\"T_01071340_2a6b_11ea_9acd_0242ac1c0002row4_col3\" class=\"data row4 col3\" >No Data</td>\n",
              "                        <td id=\"T_01071340_2a6b_11ea_9acd_0242ac1c0002row4_col4\" class=\"data row4 col4\" >No Data</td>\n",
              "                        <td id=\"T_01071340_2a6b_11ea_9acd_0242ac1c0002row4_col5\" class=\"data row4 col5\" >No Data</td>\n",
              "                        <td id=\"T_01071340_2a6b_11ea_9acd_0242ac1c0002row4_col6\" class=\"data row4 col6\" >No Data</td>\n",
              "                        <td id=\"T_01071340_2a6b_11ea_9acd_0242ac1c0002row4_col7\" class=\"data row4 col7\" >No Data</td>\n",
              "                        <td id=\"T_01071340_2a6b_11ea_9acd_0242ac1c0002row4_col8\" class=\"data row4 col8\" >No Data</td>\n",
              "                        <td id=\"T_01071340_2a6b_11ea_9acd_0242ac1c0002row4_col9\" class=\"data row4 col9\" >No Data</td>\n",
              "                        <td id=\"T_01071340_2a6b_11ea_9acd_0242ac1c0002row4_col10\" class=\"data row4 col10\" >No Data</td>\n",
              "                        <td id=\"T_01071340_2a6b_11ea_9acd_0242ac1c0002row4_col11\" class=\"data row4 col11\" >No Data</td>\n",
              "                        <td id=\"T_01071340_2a6b_11ea_9acd_0242ac1c0002row4_col12\" class=\"data row4 col12\" >No Data</td>\n",
              "                        <td id=\"T_01071340_2a6b_11ea_9acd_0242ac1c0002row4_col13\" class=\"data row4 col13\" >No Data</td>\n",
              "                        <td id=\"T_01071340_2a6b_11ea_9acd_0242ac1c0002row4_col14\" class=\"data row4 col14\" >No Data</td>\n",
              "                        <td id=\"T_01071340_2a6b_11ea_9acd_0242ac1c0002row4_col15\" class=\"data row4 col15\" >No Data</td>\n",
              "                        <td id=\"T_01071340_2a6b_11ea_9acd_0242ac1c0002row4_col16\" class=\"data row4 col16\" >No Data</td>\n",
              "                        <td id=\"T_01071340_2a6b_11ea_9acd_0242ac1c0002row4_col17\" class=\"data row4 col17\" >No Data</td>\n",
              "                        <td id=\"T_01071340_2a6b_11ea_9acd_0242ac1c0002row4_col18\" class=\"data row4 col18\" >No Data</td>\n",
              "                        <td id=\"T_01071340_2a6b_11ea_9acd_0242ac1c0002row4_col19\" class=\"data row4 col19\" >No Data</td>\n",
              "                        <td id=\"T_01071340_2a6b_11ea_9acd_0242ac1c0002row4_col20\" class=\"data row4 col20\" >No Data</td>\n",
              "                        <td id=\"T_01071340_2a6b_11ea_9acd_0242ac1c0002row4_col21\" class=\"data row4 col21\" >No Data</td>\n",
              "                        <td id=\"T_01071340_2a6b_11ea_9acd_0242ac1c0002row4_col22\" class=\"data row4 col22\" >No Data</td>\n",
              "                        <td id=\"T_01071340_2a6b_11ea_9acd_0242ac1c0002row4_col23\" class=\"data row4 col23\" >No Data</td>\n",
              "                        <td id=\"T_01071340_2a6b_11ea_9acd_0242ac1c0002row4_col24\" class=\"data row4 col24\" >No Data</td>\n",
              "                        <td id=\"T_01071340_2a6b_11ea_9acd_0242ac1c0002row4_col25\" class=\"data row4 col25\" >No Data</td>\n",
              "                        <td id=\"T_01071340_2a6b_11ea_9acd_0242ac1c0002row4_col26\" class=\"data row4 col26\" >No Data</td>\n",
              "                        <td id=\"T_01071340_2a6b_11ea_9acd_0242ac1c0002row4_col27\" class=\"data row4 col27\" >No Data</td>\n",
              "                        <td id=\"T_01071340_2a6b_11ea_9acd_0242ac1c0002row4_col28\" class=\"data row4 col28\" >No Data</td>\n",
              "                        <td id=\"T_01071340_2a6b_11ea_9acd_0242ac1c0002row4_col29\" class=\"data row4 col29\" >No Data</td>\n",
              "                        <td id=\"T_01071340_2a6b_11ea_9acd_0242ac1c0002row4_col30\" class=\"data row4 col30\" >No Data</td>\n",
              "                        <td id=\"T_01071340_2a6b_11ea_9acd_0242ac1c0002row4_col31\" class=\"data row4 col31\" >No Data</td>\n",
              "                        <td id=\"T_01071340_2a6b_11ea_9acd_0242ac1c0002row4_col32\" class=\"data row4 col32\" >No Data</td>\n",
              "                        <td id=\"T_01071340_2a6b_11ea_9acd_0242ac1c0002row4_col33\" class=\"data row4 col33\" >No Data</td>\n",
              "                        <td id=\"T_01071340_2a6b_11ea_9acd_0242ac1c0002row4_col34\" class=\"data row4 col34\" >No Data</td>\n",
              "                        <td id=\"T_01071340_2a6b_11ea_9acd_0242ac1c0002row4_col35\" class=\"data row4 col35\" >No Data</td>\n",
              "                        <td id=\"T_01071340_2a6b_11ea_9acd_0242ac1c0002row4_col36\" class=\"data row4 col36\" >No Data</td>\n",
              "                        <td id=\"T_01071340_2a6b_11ea_9acd_0242ac1c0002row4_col37\" class=\"data row4 col37\" >No Data</td>\n",
              "                        <td id=\"T_01071340_2a6b_11ea_9acd_0242ac1c0002row4_col38\" class=\"data row4 col38\" >No Data</td>\n",
              "                        <td id=\"T_01071340_2a6b_11ea_9acd_0242ac1c0002row4_col39\" class=\"data row4 col39\" >No Data</td>\n",
              "                        <td id=\"T_01071340_2a6b_11ea_9acd_0242ac1c0002row4_col40\" class=\"data row4 col40\" >34</td>\n",
              "                        <td id=\"T_01071340_2a6b_11ea_9acd_0242ac1c0002row4_col41\" class=\"data row4 col41\" >40</td>\n",
              "                        <td id=\"T_01071340_2a6b_11ea_9acd_0242ac1c0002row4_col42\" class=\"data row4 col42\" >84</td>\n",
              "                        <td id=\"T_01071340_2a6b_11ea_9acd_0242ac1c0002row4_col43\" class=\"data row4 col43\" >47</td>\n",
              "                        <td id=\"T_01071340_2a6b_11ea_9acd_0242ac1c0002row4_col44\" class=\"data row4 col44\" >No Data</td>\n",
              "                        <td id=\"T_01071340_2a6b_11ea_9acd_0242ac1c0002row4_col45\" class=\"data row4 col45\" >44</td>\n",
              "                        <td id=\"T_01071340_2a6b_11ea_9acd_0242ac1c0002row4_col46\" class=\"data row4 col46\" >No Data</td>\n",
              "                        <td id=\"T_01071340_2a6b_11ea_9acd_0242ac1c0002row4_col47\" class=\"data row4 col47\" >No Data</td>\n",
              "                        <td id=\"T_01071340_2a6b_11ea_9acd_0242ac1c0002row4_col48\" class=\"data row4 col48\" >No Data</td>\n",
              "                        <td id=\"T_01071340_2a6b_11ea_9acd_0242ac1c0002row4_col49\" class=\"data row4 col49\" >97</td>\n",
              "                        <td id=\"T_01071340_2a6b_11ea_9acd_0242ac1c0002row4_col50\" class=\"data row4 col50\" >No Data</td>\n",
              "                        <td id=\"T_01071340_2a6b_11ea_9acd_0242ac1c0002row4_col51\" class=\"data row4 col51\" >No Data</td>\n",
              "                        <td id=\"T_01071340_2a6b_11ea_9acd_0242ac1c0002row4_col52\" class=\"data row4 col52\" >No Data</td>\n",
              "                        <td id=\"T_01071340_2a6b_11ea_9acd_0242ac1c0002row4_col53\" class=\"data row4 col53\" >No Data</td>\n",
              "                        <td id=\"T_01071340_2a6b_11ea_9acd_0242ac1c0002row4_col54\" class=\"data row4 col54\" >No Data</td>\n",
              "                        <td id=\"T_01071340_2a6b_11ea_9acd_0242ac1c0002row4_col55\" class=\"data row4 col55\" >No Data</td>\n",
              "                        <td id=\"T_01071340_2a6b_11ea_9acd_0242ac1c0002row4_col56\" class=\"data row4 col56\" >No Data</td>\n",
              "                        <td id=\"T_01071340_2a6b_11ea_9acd_0242ac1c0002row4_col57\" class=\"data row4 col57\" >No Data</td>\n",
              "            </tr>\n",
              "            <tr>\n",
              "                        <th id=\"T_01071340_2a6b_11ea_9acd_0242ac1c0002level0_row5\" class=\"row_heading level0 row5\" >10cc</th>\n",
              "                        <td id=\"T_01071340_2a6b_11ea_9acd_0242ac1c0002row5_col0\" class=\"data row5 col0\" >No Data</td>\n",
              "                        <td id=\"T_01071340_2a6b_11ea_9acd_0242ac1c0002row5_col1\" class=\"data row5 col1\" >No Data</td>\n",
              "                        <td id=\"T_01071340_2a6b_11ea_9acd_0242ac1c0002row5_col2\" class=\"data row5 col2\" >No Data</td>\n",
              "                        <td id=\"T_01071340_2a6b_11ea_9acd_0242ac1c0002row5_col3\" class=\"data row5 col3\" >No Data</td>\n",
              "                        <td id=\"T_01071340_2a6b_11ea_9acd_0242ac1c0002row5_col4\" class=\"data row5 col4\" >No Data</td>\n",
              "                        <td id=\"T_01071340_2a6b_11ea_9acd_0242ac1c0002row5_col5\" class=\"data row5 col5\" >No Data</td>\n",
              "                        <td id=\"T_01071340_2a6b_11ea_9acd_0242ac1c0002row5_col6\" class=\"data row5 col6\" >No Data</td>\n",
              "                        <td id=\"T_01071340_2a6b_11ea_9acd_0242ac1c0002row5_col7\" class=\"data row5 col7\" >No Data</td>\n",
              "                        <td id=\"T_01071340_2a6b_11ea_9acd_0242ac1c0002row5_col8\" class=\"data row5 col8\" >No Data</td>\n",
              "                        <td id=\"T_01071340_2a6b_11ea_9acd_0242ac1c0002row5_col9\" class=\"data row5 col9\" >No Data</td>\n",
              "                        <td id=\"T_01071340_2a6b_11ea_9acd_0242ac1c0002row5_col10\" class=\"data row5 col10\" >No Data</td>\n",
              "                        <td id=\"T_01071340_2a6b_11ea_9acd_0242ac1c0002row5_col11\" class=\"data row5 col11\" >No Data</td>\n",
              "                        <td id=\"T_01071340_2a6b_11ea_9acd_0242ac1c0002row5_col12\" class=\"data row5 col12\" >No Data</td>\n",
              "                        <td id=\"T_01071340_2a6b_11ea_9acd_0242ac1c0002row5_col13\" class=\"data row5 col13\" >No Data</td>\n",
              "                        <td id=\"T_01071340_2a6b_11ea_9acd_0242ac1c0002row5_col14\" class=\"data row5 col14\" >No Data</td>\n",
              "                        <td id=\"T_01071340_2a6b_11ea_9acd_0242ac1c0002row5_col15\" class=\"data row5 col15\" >No Data</td>\n",
              "                        <td id=\"T_01071340_2a6b_11ea_9acd_0242ac1c0002row5_col16\" class=\"data row5 col16\" >No Data</td>\n",
              "                        <td id=\"T_01071340_2a6b_11ea_9acd_0242ac1c0002row5_col17\" class=\"data row5 col17\" >No Data</td>\n",
              "                        <td id=\"T_01071340_2a6b_11ea_9acd_0242ac1c0002row5_col18\" class=\"data row5 col18\" >No Data</td>\n",
              "                        <td id=\"T_01071340_2a6b_11ea_9acd_0242ac1c0002row5_col19\" class=\"data row5 col19\" >42</td>\n",
              "                        <td id=\"T_01071340_2a6b_11ea_9acd_0242ac1c0002row5_col20\" class=\"data row5 col20\" >No Data</td>\n",
              "                        <td id=\"T_01071340_2a6b_11ea_9acd_0242ac1c0002row5_col21\" class=\"data row5 col21\" >44</td>\n",
              "                        <td id=\"T_01071340_2a6b_11ea_9acd_0242ac1c0002row5_col22\" class=\"data row5 col22\" >No Data</td>\n",
              "                        <td id=\"T_01071340_2a6b_11ea_9acd_0242ac1c0002row5_col23\" class=\"data row5 col23\" >No Data</td>\n",
              "                        <td id=\"T_01071340_2a6b_11ea_9acd_0242ac1c0002row5_col24\" class=\"data row5 col24\" >No Data</td>\n",
              "                        <td id=\"T_01071340_2a6b_11ea_9acd_0242ac1c0002row5_col25\" class=\"data row5 col25\" >No Data</td>\n",
              "                        <td id=\"T_01071340_2a6b_11ea_9acd_0242ac1c0002row5_col26\" class=\"data row5 col26\" >No Data</td>\n",
              "                        <td id=\"T_01071340_2a6b_11ea_9acd_0242ac1c0002row5_col27\" class=\"data row5 col27\" >No Data</td>\n",
              "                        <td id=\"T_01071340_2a6b_11ea_9acd_0242ac1c0002row5_col28\" class=\"data row5 col28\" >No Data</td>\n",
              "                        <td id=\"T_01071340_2a6b_11ea_9acd_0242ac1c0002row5_col29\" class=\"data row5 col29\" >No Data</td>\n",
              "                        <td id=\"T_01071340_2a6b_11ea_9acd_0242ac1c0002row5_col30\" class=\"data row5 col30\" >No Data</td>\n",
              "                        <td id=\"T_01071340_2a6b_11ea_9acd_0242ac1c0002row5_col31\" class=\"data row5 col31\" >No Data</td>\n",
              "                        <td id=\"T_01071340_2a6b_11ea_9acd_0242ac1c0002row5_col32\" class=\"data row5 col32\" >No Data</td>\n",
              "                        <td id=\"T_01071340_2a6b_11ea_9acd_0242ac1c0002row5_col33\" class=\"data row5 col33\" >No Data</td>\n",
              "                        <td id=\"T_01071340_2a6b_11ea_9acd_0242ac1c0002row5_col34\" class=\"data row5 col34\" >No Data</td>\n",
              "                        <td id=\"T_01071340_2a6b_11ea_9acd_0242ac1c0002row5_col35\" class=\"data row5 col35\" >No Data</td>\n",
              "                        <td id=\"T_01071340_2a6b_11ea_9acd_0242ac1c0002row5_col36\" class=\"data row5 col36\" >No Data</td>\n",
              "                        <td id=\"T_01071340_2a6b_11ea_9acd_0242ac1c0002row5_col37\" class=\"data row5 col37\" >No Data</td>\n",
              "                        <td id=\"T_01071340_2a6b_11ea_9acd_0242ac1c0002row5_col38\" class=\"data row5 col38\" >No Data</td>\n",
              "                        <td id=\"T_01071340_2a6b_11ea_9acd_0242ac1c0002row5_col39\" class=\"data row5 col39\" >No Data</td>\n",
              "                        <td id=\"T_01071340_2a6b_11ea_9acd_0242ac1c0002row5_col40\" class=\"data row5 col40\" >No Data</td>\n",
              "                        <td id=\"T_01071340_2a6b_11ea_9acd_0242ac1c0002row5_col41\" class=\"data row5 col41\" >No Data</td>\n",
              "                        <td id=\"T_01071340_2a6b_11ea_9acd_0242ac1c0002row5_col42\" class=\"data row5 col42\" >No Data</td>\n",
              "                        <td id=\"T_01071340_2a6b_11ea_9acd_0242ac1c0002row5_col43\" class=\"data row5 col43\" >No Data</td>\n",
              "                        <td id=\"T_01071340_2a6b_11ea_9acd_0242ac1c0002row5_col44\" class=\"data row5 col44\" >No Data</td>\n",
              "                        <td id=\"T_01071340_2a6b_11ea_9acd_0242ac1c0002row5_col45\" class=\"data row5 col45\" >No Data</td>\n",
              "                        <td id=\"T_01071340_2a6b_11ea_9acd_0242ac1c0002row5_col46\" class=\"data row5 col46\" >No Data</td>\n",
              "                        <td id=\"T_01071340_2a6b_11ea_9acd_0242ac1c0002row5_col47\" class=\"data row5 col47\" >No Data</td>\n",
              "                        <td id=\"T_01071340_2a6b_11ea_9acd_0242ac1c0002row5_col48\" class=\"data row5 col48\" >No Data</td>\n",
              "                        <td id=\"T_01071340_2a6b_11ea_9acd_0242ac1c0002row5_col49\" class=\"data row5 col49\" >No Data</td>\n",
              "                        <td id=\"T_01071340_2a6b_11ea_9acd_0242ac1c0002row5_col50\" class=\"data row5 col50\" >No Data</td>\n",
              "                        <td id=\"T_01071340_2a6b_11ea_9acd_0242ac1c0002row5_col51\" class=\"data row5 col51\" >No Data</td>\n",
              "                        <td id=\"T_01071340_2a6b_11ea_9acd_0242ac1c0002row5_col52\" class=\"data row5 col52\" >No Data</td>\n",
              "                        <td id=\"T_01071340_2a6b_11ea_9acd_0242ac1c0002row5_col53\" class=\"data row5 col53\" >No Data</td>\n",
              "                        <td id=\"T_01071340_2a6b_11ea_9acd_0242ac1c0002row5_col54\" class=\"data row5 col54\" >No Data</td>\n",
              "                        <td id=\"T_01071340_2a6b_11ea_9acd_0242ac1c0002row5_col55\" class=\"data row5 col55\" >No Data</td>\n",
              "                        <td id=\"T_01071340_2a6b_11ea_9acd_0242ac1c0002row5_col56\" class=\"data row5 col56\" >No Data</td>\n",
              "                        <td id=\"T_01071340_2a6b_11ea_9acd_0242ac1c0002row5_col57\" class=\"data row5 col57\" >No Data</td>\n",
              "            </tr>\n",
              "            <tr>\n",
              "                        <th id=\"T_01071340_2a6b_11ea_9acd_0242ac1c0002level0_row6\" class=\"row_heading level0 row6\" >100 Proof Aged In Soul</th>\n",
              "                        <td id=\"T_01071340_2a6b_11ea_9acd_0242ac1c0002row6_col0\" class=\"data row6 col0\" >No Data</td>\n",
              "                        <td id=\"T_01071340_2a6b_11ea_9acd_0242ac1c0002row6_col1\" class=\"data row6 col1\" >No Data</td>\n",
              "                        <td id=\"T_01071340_2a6b_11ea_9acd_0242ac1c0002row6_col2\" class=\"data row6 col2\" >No Data</td>\n",
              "                        <td id=\"T_01071340_2a6b_11ea_9acd_0242ac1c0002row6_col3\" class=\"data row6 col3\" >No Data</td>\n",
              "                        <td id=\"T_01071340_2a6b_11ea_9acd_0242ac1c0002row6_col4\" class=\"data row6 col4\" >No Data</td>\n",
              "                        <td id=\"T_01071340_2a6b_11ea_9acd_0242ac1c0002row6_col5\" class=\"data row6 col5\" >No Data</td>\n",
              "                        <td id=\"T_01071340_2a6b_11ea_9acd_0242ac1c0002row6_col6\" class=\"data row6 col6\" >No Data</td>\n",
              "                        <td id=\"T_01071340_2a6b_11ea_9acd_0242ac1c0002row6_col7\" class=\"data row6 col7\" >No Data</td>\n",
              "                        <td id=\"T_01071340_2a6b_11ea_9acd_0242ac1c0002row6_col8\" class=\"data row6 col8\" >No Data</td>\n",
              "                        <td id=\"T_01071340_2a6b_11ea_9acd_0242ac1c0002row6_col9\" class=\"data row6 col9\" >No Data</td>\n",
              "                        <td id=\"T_01071340_2a6b_11ea_9acd_0242ac1c0002row6_col10\" class=\"data row6 col10\" >No Data</td>\n",
              "                        <td id=\"T_01071340_2a6b_11ea_9acd_0242ac1c0002row6_col11\" class=\"data row6 col11\" >No Data</td>\n",
              "                        <td id=\"T_01071340_2a6b_11ea_9acd_0242ac1c0002row6_col12\" class=\"data row6 col12\" >No Data</td>\n",
              "                        <td id=\"T_01071340_2a6b_11ea_9acd_0242ac1c0002row6_col13\" class=\"data row6 col13\" >No Data</td>\n",
              "                        <td id=\"T_01071340_2a6b_11ea_9acd_0242ac1c0002row6_col14\" class=\"data row6 col14\" >84</td>\n",
              "                        <td id=\"T_01071340_2a6b_11ea_9acd_0242ac1c0002row6_col15\" class=\"data row6 col15\" >No Data</td>\n",
              "                        <td id=\"T_01071340_2a6b_11ea_9acd_0242ac1c0002row6_col16\" class=\"data row6 col16\" >No Data</td>\n",
              "                        <td id=\"T_01071340_2a6b_11ea_9acd_0242ac1c0002row6_col17\" class=\"data row6 col17\" >No Data</td>\n",
              "                        <td id=\"T_01071340_2a6b_11ea_9acd_0242ac1c0002row6_col18\" class=\"data row6 col18\" >No Data</td>\n",
              "                        <td id=\"T_01071340_2a6b_11ea_9acd_0242ac1c0002row6_col19\" class=\"data row6 col19\" >No Data</td>\n",
              "                        <td id=\"T_01071340_2a6b_11ea_9acd_0242ac1c0002row6_col20\" class=\"data row6 col20\" >No Data</td>\n",
              "                        <td id=\"T_01071340_2a6b_11ea_9acd_0242ac1c0002row6_col21\" class=\"data row6 col21\" >No Data</td>\n",
              "                        <td id=\"T_01071340_2a6b_11ea_9acd_0242ac1c0002row6_col22\" class=\"data row6 col22\" >No Data</td>\n",
              "                        <td id=\"T_01071340_2a6b_11ea_9acd_0242ac1c0002row6_col23\" class=\"data row6 col23\" >No Data</td>\n",
              "                        <td id=\"T_01071340_2a6b_11ea_9acd_0242ac1c0002row6_col24\" class=\"data row6 col24\" >No Data</td>\n",
              "                        <td id=\"T_01071340_2a6b_11ea_9acd_0242ac1c0002row6_col25\" class=\"data row6 col25\" >No Data</td>\n",
              "                        <td id=\"T_01071340_2a6b_11ea_9acd_0242ac1c0002row6_col26\" class=\"data row6 col26\" >No Data</td>\n",
              "                        <td id=\"T_01071340_2a6b_11ea_9acd_0242ac1c0002row6_col27\" class=\"data row6 col27\" >No Data</td>\n",
              "                        <td id=\"T_01071340_2a6b_11ea_9acd_0242ac1c0002row6_col28\" class=\"data row6 col28\" >No Data</td>\n",
              "                        <td id=\"T_01071340_2a6b_11ea_9acd_0242ac1c0002row6_col29\" class=\"data row6 col29\" >No Data</td>\n",
              "                        <td id=\"T_01071340_2a6b_11ea_9acd_0242ac1c0002row6_col30\" class=\"data row6 col30\" >No Data</td>\n",
              "                        <td id=\"T_01071340_2a6b_11ea_9acd_0242ac1c0002row6_col31\" class=\"data row6 col31\" >No Data</td>\n",
              "                        <td id=\"T_01071340_2a6b_11ea_9acd_0242ac1c0002row6_col32\" class=\"data row6 col32\" >No Data</td>\n",
              "                        <td id=\"T_01071340_2a6b_11ea_9acd_0242ac1c0002row6_col33\" class=\"data row6 col33\" >No Data</td>\n",
              "                        <td id=\"T_01071340_2a6b_11ea_9acd_0242ac1c0002row6_col34\" class=\"data row6 col34\" >No Data</td>\n",
              "                        <td id=\"T_01071340_2a6b_11ea_9acd_0242ac1c0002row6_col35\" class=\"data row6 col35\" >No Data</td>\n",
              "                        <td id=\"T_01071340_2a6b_11ea_9acd_0242ac1c0002row6_col36\" class=\"data row6 col36\" >No Data</td>\n",
              "                        <td id=\"T_01071340_2a6b_11ea_9acd_0242ac1c0002row6_col37\" class=\"data row6 col37\" >No Data</td>\n",
              "                        <td id=\"T_01071340_2a6b_11ea_9acd_0242ac1c0002row6_col38\" class=\"data row6 col38\" >No Data</td>\n",
              "                        <td id=\"T_01071340_2a6b_11ea_9acd_0242ac1c0002row6_col39\" class=\"data row6 col39\" >No Data</td>\n",
              "                        <td id=\"T_01071340_2a6b_11ea_9acd_0242ac1c0002row6_col40\" class=\"data row6 col40\" >No Data</td>\n",
              "                        <td id=\"T_01071340_2a6b_11ea_9acd_0242ac1c0002row6_col41\" class=\"data row6 col41\" >No Data</td>\n",
              "                        <td id=\"T_01071340_2a6b_11ea_9acd_0242ac1c0002row6_col42\" class=\"data row6 col42\" >No Data</td>\n",
              "                        <td id=\"T_01071340_2a6b_11ea_9acd_0242ac1c0002row6_col43\" class=\"data row6 col43\" >No Data</td>\n",
              "                        <td id=\"T_01071340_2a6b_11ea_9acd_0242ac1c0002row6_col44\" class=\"data row6 col44\" >No Data</td>\n",
              "                        <td id=\"T_01071340_2a6b_11ea_9acd_0242ac1c0002row6_col45\" class=\"data row6 col45\" >No Data</td>\n",
              "                        <td id=\"T_01071340_2a6b_11ea_9acd_0242ac1c0002row6_col46\" class=\"data row6 col46\" >No Data</td>\n",
              "                        <td id=\"T_01071340_2a6b_11ea_9acd_0242ac1c0002row6_col47\" class=\"data row6 col47\" >No Data</td>\n",
              "                        <td id=\"T_01071340_2a6b_11ea_9acd_0242ac1c0002row6_col48\" class=\"data row6 col48\" >No Data</td>\n",
              "                        <td id=\"T_01071340_2a6b_11ea_9acd_0242ac1c0002row6_col49\" class=\"data row6 col49\" >No Data</td>\n",
              "                        <td id=\"T_01071340_2a6b_11ea_9acd_0242ac1c0002row6_col50\" class=\"data row6 col50\" >No Data</td>\n",
              "                        <td id=\"T_01071340_2a6b_11ea_9acd_0242ac1c0002row6_col51\" class=\"data row6 col51\" >No Data</td>\n",
              "                        <td id=\"T_01071340_2a6b_11ea_9acd_0242ac1c0002row6_col52\" class=\"data row6 col52\" >No Data</td>\n",
              "                        <td id=\"T_01071340_2a6b_11ea_9acd_0242ac1c0002row6_col53\" class=\"data row6 col53\" >No Data</td>\n",
              "                        <td id=\"T_01071340_2a6b_11ea_9acd_0242ac1c0002row6_col54\" class=\"data row6 col54\" >No Data</td>\n",
              "                        <td id=\"T_01071340_2a6b_11ea_9acd_0242ac1c0002row6_col55\" class=\"data row6 col55\" >No Data</td>\n",
              "                        <td id=\"T_01071340_2a6b_11ea_9acd_0242ac1c0002row6_col56\" class=\"data row6 col56\" >No Data</td>\n",
              "                        <td id=\"T_01071340_2a6b_11ea_9acd_0242ac1c0002row6_col57\" class=\"data row6 col57\" >No Data</td>\n",
              "            </tr>\n",
              "            <tr>\n",
              "                        <th id=\"T_01071340_2a6b_11ea_9acd_0242ac1c0002level0_row7\" class=\"row_heading level0 row7\" >10,000 Maniacs</th>\n",
              "                        <td id=\"T_01071340_2a6b_11ea_9acd_0242ac1c0002row7_col0\" class=\"data row7 col0\" >No Data</td>\n",
              "                        <td id=\"T_01071340_2a6b_11ea_9acd_0242ac1c0002row7_col1\" class=\"data row7 col1\" >No Data</td>\n",
              "                        <td id=\"T_01071340_2a6b_11ea_9acd_0242ac1c0002row7_col2\" class=\"data row7 col2\" >No Data</td>\n",
              "                        <td id=\"T_01071340_2a6b_11ea_9acd_0242ac1c0002row7_col3\" class=\"data row7 col3\" >No Data</td>\n",
              "                        <td id=\"T_01071340_2a6b_11ea_9acd_0242ac1c0002row7_col4\" class=\"data row7 col4\" >No Data</td>\n",
              "                        <td id=\"T_01071340_2a6b_11ea_9acd_0242ac1c0002row7_col5\" class=\"data row7 col5\" >No Data</td>\n",
              "                        <td id=\"T_01071340_2a6b_11ea_9acd_0242ac1c0002row7_col6\" class=\"data row7 col6\" >No Data</td>\n",
              "                        <td id=\"T_01071340_2a6b_11ea_9acd_0242ac1c0002row7_col7\" class=\"data row7 col7\" >No Data</td>\n",
              "                        <td id=\"T_01071340_2a6b_11ea_9acd_0242ac1c0002row7_col8\" class=\"data row7 col8\" >No Data</td>\n",
              "                        <td id=\"T_01071340_2a6b_11ea_9acd_0242ac1c0002row7_col9\" class=\"data row7 col9\" >No Data</td>\n",
              "                        <td id=\"T_01071340_2a6b_11ea_9acd_0242ac1c0002row7_col10\" class=\"data row7 col10\" >No Data</td>\n",
              "                        <td id=\"T_01071340_2a6b_11ea_9acd_0242ac1c0002row7_col11\" class=\"data row7 col11\" >No Data</td>\n",
              "                        <td id=\"T_01071340_2a6b_11ea_9acd_0242ac1c0002row7_col12\" class=\"data row7 col12\" >No Data</td>\n",
              "                        <td id=\"T_01071340_2a6b_11ea_9acd_0242ac1c0002row7_col13\" class=\"data row7 col13\" >No Data</td>\n",
              "                        <td id=\"T_01071340_2a6b_11ea_9acd_0242ac1c0002row7_col14\" class=\"data row7 col14\" >No Data</td>\n",
              "                        <td id=\"T_01071340_2a6b_11ea_9acd_0242ac1c0002row7_col15\" class=\"data row7 col15\" >No Data</td>\n",
              "                        <td id=\"T_01071340_2a6b_11ea_9acd_0242ac1c0002row7_col16\" class=\"data row7 col16\" >No Data</td>\n",
              "                        <td id=\"T_01071340_2a6b_11ea_9acd_0242ac1c0002row7_col17\" class=\"data row7 col17\" >No Data</td>\n",
              "                        <td id=\"T_01071340_2a6b_11ea_9acd_0242ac1c0002row7_col18\" class=\"data row7 col18\" >No Data</td>\n",
              "                        <td id=\"T_01071340_2a6b_11ea_9acd_0242ac1c0002row7_col19\" class=\"data row7 col19\" >No Data</td>\n",
              "                        <td id=\"T_01071340_2a6b_11ea_9acd_0242ac1c0002row7_col20\" class=\"data row7 col20\" >No Data</td>\n",
              "                        <td id=\"T_01071340_2a6b_11ea_9acd_0242ac1c0002row7_col21\" class=\"data row7 col21\" >No Data</td>\n",
              "                        <td id=\"T_01071340_2a6b_11ea_9acd_0242ac1c0002row7_col22\" class=\"data row7 col22\" >No Data</td>\n",
              "                        <td id=\"T_01071340_2a6b_11ea_9acd_0242ac1c0002row7_col23\" class=\"data row7 col23\" >No Data</td>\n",
              "                        <td id=\"T_01071340_2a6b_11ea_9acd_0242ac1c0002row7_col24\" class=\"data row7 col24\" >No Data</td>\n",
              "                        <td id=\"T_01071340_2a6b_11ea_9acd_0242ac1c0002row7_col25\" class=\"data row7 col25\" >No Data</td>\n",
              "                        <td id=\"T_01071340_2a6b_11ea_9acd_0242ac1c0002row7_col26\" class=\"data row7 col26\" >No Data</td>\n",
              "                        <td id=\"T_01071340_2a6b_11ea_9acd_0242ac1c0002row7_col27\" class=\"data row7 col27\" >No Data</td>\n",
              "                        <td id=\"T_01071340_2a6b_11ea_9acd_0242ac1c0002row7_col28\" class=\"data row7 col28\" >No Data</td>\n",
              "                        <td id=\"T_01071340_2a6b_11ea_9acd_0242ac1c0002row7_col29\" class=\"data row7 col29\" >No Data</td>\n",
              "                        <td id=\"T_01071340_2a6b_11ea_9acd_0242ac1c0002row7_col30\" class=\"data row7 col30\" >No Data</td>\n",
              "                        <td id=\"T_01071340_2a6b_11ea_9acd_0242ac1c0002row7_col31\" class=\"data row7 col31\" >No Data</td>\n",
              "                        <td id=\"T_01071340_2a6b_11ea_9acd_0242ac1c0002row7_col32\" class=\"data row7 col32\" >No Data</td>\n",
              "                        <td id=\"T_01071340_2a6b_11ea_9acd_0242ac1c0002row7_col33\" class=\"data row7 col33\" >No Data</td>\n",
              "                        <td id=\"T_01071340_2a6b_11ea_9acd_0242ac1c0002row7_col34\" class=\"data row7 col34\" >No Data</td>\n",
              "                        <td id=\"T_01071340_2a6b_11ea_9acd_0242ac1c0002row7_col35\" class=\"data row7 col35\" >No Data</td>\n",
              "                        <td id=\"T_01071340_2a6b_11ea_9acd_0242ac1c0002row7_col36\" class=\"data row7 col36\" >No Data</td>\n",
              "                        <td id=\"T_01071340_2a6b_11ea_9acd_0242ac1c0002row7_col37\" class=\"data row7 col37\" >No Data</td>\n",
              "                        <td id=\"T_01071340_2a6b_11ea_9acd_0242ac1c0002row7_col38\" class=\"data row7 col38\" >40</td>\n",
              "                        <td id=\"T_01071340_2a6b_11ea_9acd_0242ac1c0002row7_col39\" class=\"data row7 col39\" >No Data</td>\n",
              "                        <td id=\"T_01071340_2a6b_11ea_9acd_0242ac1c0002row7_col40\" class=\"data row7 col40\" >No Data</td>\n",
              "                        <td id=\"T_01071340_2a6b_11ea_9acd_0242ac1c0002row7_col41\" class=\"data row7 col41\" >No Data</td>\n",
              "                        <td id=\"T_01071340_2a6b_11ea_9acd_0242ac1c0002row7_col42\" class=\"data row7 col42\" >No Data</td>\n",
              "                        <td id=\"T_01071340_2a6b_11ea_9acd_0242ac1c0002row7_col43\" class=\"data row7 col43\" >No Data</td>\n",
              "                        <td id=\"T_01071340_2a6b_11ea_9acd_0242ac1c0002row7_col44\" class=\"data row7 col44\" >No Data</td>\n",
              "                        <td id=\"T_01071340_2a6b_11ea_9acd_0242ac1c0002row7_col45\" class=\"data row7 col45\" >No Data</td>\n",
              "                        <td id=\"T_01071340_2a6b_11ea_9acd_0242ac1c0002row7_col46\" class=\"data row7 col46\" >No Data</td>\n",
              "                        <td id=\"T_01071340_2a6b_11ea_9acd_0242ac1c0002row7_col47\" class=\"data row7 col47\" >No Data</td>\n",
              "                        <td id=\"T_01071340_2a6b_11ea_9acd_0242ac1c0002row7_col48\" class=\"data row7 col48\" >No Data</td>\n",
              "                        <td id=\"T_01071340_2a6b_11ea_9acd_0242ac1c0002row7_col49\" class=\"data row7 col49\" >No Data</td>\n",
              "                        <td id=\"T_01071340_2a6b_11ea_9acd_0242ac1c0002row7_col50\" class=\"data row7 col50\" >No Data</td>\n",
              "                        <td id=\"T_01071340_2a6b_11ea_9acd_0242ac1c0002row7_col51\" class=\"data row7 col51\" >No Data</td>\n",
              "                        <td id=\"T_01071340_2a6b_11ea_9acd_0242ac1c0002row7_col52\" class=\"data row7 col52\" >No Data</td>\n",
              "                        <td id=\"T_01071340_2a6b_11ea_9acd_0242ac1c0002row7_col53\" class=\"data row7 col53\" >No Data</td>\n",
              "                        <td id=\"T_01071340_2a6b_11ea_9acd_0242ac1c0002row7_col54\" class=\"data row7 col54\" >No Data</td>\n",
              "                        <td id=\"T_01071340_2a6b_11ea_9acd_0242ac1c0002row7_col55\" class=\"data row7 col55\" >No Data</td>\n",
              "                        <td id=\"T_01071340_2a6b_11ea_9acd_0242ac1c0002row7_col56\" class=\"data row7 col56\" >No Data</td>\n",
              "                        <td id=\"T_01071340_2a6b_11ea_9acd_0242ac1c0002row7_col57\" class=\"data row7 col57\" >No Data</td>\n",
              "            </tr>\n",
              "            <tr>\n",
              "                        <th id=\"T_01071340_2a6b_11ea_9acd_0242ac1c0002level0_row8\" class=\"row_heading level0 row8\" >.38 Special</th>\n",
              "                        <td id=\"T_01071340_2a6b_11ea_9acd_0242ac1c0002row8_col0\" class=\"data row8 col0\" >No Data</td>\n",
              "                        <td id=\"T_01071340_2a6b_11ea_9acd_0242ac1c0002row8_col1\" class=\"data row8 col1\" >No Data</td>\n",
              "                        <td id=\"T_01071340_2a6b_11ea_9acd_0242ac1c0002row8_col2\" class=\"data row8 col2\" >No Data</td>\n",
              "                        <td id=\"T_01071340_2a6b_11ea_9acd_0242ac1c0002row8_col3\" class=\"data row8 col3\" >No Data</td>\n",
              "                        <td id=\"T_01071340_2a6b_11ea_9acd_0242ac1c0002row8_col4\" class=\"data row8 col4\" >No Data</td>\n",
              "                        <td id=\"T_01071340_2a6b_11ea_9acd_0242ac1c0002row8_col5\" class=\"data row8 col5\" >No Data</td>\n",
              "                        <td id=\"T_01071340_2a6b_11ea_9acd_0242ac1c0002row8_col6\" class=\"data row8 col6\" >No Data</td>\n",
              "                        <td id=\"T_01071340_2a6b_11ea_9acd_0242ac1c0002row8_col7\" class=\"data row8 col7\" >No Data</td>\n",
              "                        <td id=\"T_01071340_2a6b_11ea_9acd_0242ac1c0002row8_col8\" class=\"data row8 col8\" >No Data</td>\n",
              "                        <td id=\"T_01071340_2a6b_11ea_9acd_0242ac1c0002row8_col9\" class=\"data row8 col9\" >No Data</td>\n",
              "                        <td id=\"T_01071340_2a6b_11ea_9acd_0242ac1c0002row8_col10\" class=\"data row8 col10\" >No Data</td>\n",
              "                        <td id=\"T_01071340_2a6b_11ea_9acd_0242ac1c0002row8_col11\" class=\"data row8 col11\" >No Data</td>\n",
              "                        <td id=\"T_01071340_2a6b_11ea_9acd_0242ac1c0002row8_col12\" class=\"data row8 col12\" >No Data</td>\n",
              "                        <td id=\"T_01071340_2a6b_11ea_9acd_0242ac1c0002row8_col13\" class=\"data row8 col13\" >No Data</td>\n",
              "                        <td id=\"T_01071340_2a6b_11ea_9acd_0242ac1c0002row8_col14\" class=\"data row8 col14\" >No Data</td>\n",
              "                        <td id=\"T_01071340_2a6b_11ea_9acd_0242ac1c0002row8_col15\" class=\"data row8 col15\" >No Data</td>\n",
              "                        <td id=\"T_01071340_2a6b_11ea_9acd_0242ac1c0002row8_col16\" class=\"data row8 col16\" >No Data</td>\n",
              "                        <td id=\"T_01071340_2a6b_11ea_9acd_0242ac1c0002row8_col17\" class=\"data row8 col17\" >No Data</td>\n",
              "                        <td id=\"T_01071340_2a6b_11ea_9acd_0242ac1c0002row8_col18\" class=\"data row8 col18\" >No Data</td>\n",
              "                        <td id=\"T_01071340_2a6b_11ea_9acd_0242ac1c0002row8_col19\" class=\"data row8 col19\" >No Data</td>\n",
              "                        <td id=\"T_01071340_2a6b_11ea_9acd_0242ac1c0002row8_col20\" class=\"data row8 col20\" >No Data</td>\n",
              "                        <td id=\"T_01071340_2a6b_11ea_9acd_0242ac1c0002row8_col21\" class=\"data row8 col21\" >No Data</td>\n",
              "                        <td id=\"T_01071340_2a6b_11ea_9acd_0242ac1c0002row8_col22\" class=\"data row8 col22\" >No Data</td>\n",
              "                        <td id=\"T_01071340_2a6b_11ea_9acd_0242ac1c0002row8_col23\" class=\"data row8 col23\" >No Data</td>\n",
              "                        <td id=\"T_01071340_2a6b_11ea_9acd_0242ac1c0002row8_col24\" class=\"data row8 col24\" >No Data</td>\n",
              "                        <td id=\"T_01071340_2a6b_11ea_9acd_0242ac1c0002row8_col25\" class=\"data row8 col25\" >No Data</td>\n",
              "                        <td id=\"T_01071340_2a6b_11ea_9acd_0242ac1c0002row8_col26\" class=\"data row8 col26\" >No Data</td>\n",
              "                        <td id=\"T_01071340_2a6b_11ea_9acd_0242ac1c0002row8_col27\" class=\"data row8 col27\" >No Data</td>\n",
              "                        <td id=\"T_01071340_2a6b_11ea_9acd_0242ac1c0002row8_col28\" class=\"data row8 col28\" >No Data</td>\n",
              "                        <td id=\"T_01071340_2a6b_11ea_9acd_0242ac1c0002row8_col29\" class=\"data row8 col29\" >No Data</td>\n",
              "                        <td id=\"T_01071340_2a6b_11ea_9acd_0242ac1c0002row8_col30\" class=\"data row8 col30\" >No Data</td>\n",
              "                        <td id=\"T_01071340_2a6b_11ea_9acd_0242ac1c0002row8_col31\" class=\"data row8 col31\" >No Data</td>\n",
              "                        <td id=\"T_01071340_2a6b_11ea_9acd_0242ac1c0002row8_col32\" class=\"data row8 col32\" >No Data</td>\n",
              "                        <td id=\"T_01071340_2a6b_11ea_9acd_0242ac1c0002row8_col33\" class=\"data row8 col33\" >63</td>\n",
              "                        <td id=\"T_01071340_2a6b_11ea_9acd_0242ac1c0002row8_col34\" class=\"data row8 col34\" >No Data</td>\n",
              "                        <td id=\"T_01071340_2a6b_11ea_9acd_0242ac1c0002row8_col35\" class=\"data row8 col35\" >No Data</td>\n",
              "                        <td id=\"T_01071340_2a6b_11ea_9acd_0242ac1c0002row8_col36\" class=\"data row8 col36\" >No Data</td>\n",
              "                        <td id=\"T_01071340_2a6b_11ea_9acd_0242ac1c0002row8_col37\" class=\"data row8 col37\" >No Data</td>\n",
              "                        <td id=\"T_01071340_2a6b_11ea_9acd_0242ac1c0002row8_col38\" class=\"data row8 col38\" >No Data</td>\n",
              "                        <td id=\"T_01071340_2a6b_11ea_9acd_0242ac1c0002row8_col39\" class=\"data row8 col39\" >No Data</td>\n",
              "                        <td id=\"T_01071340_2a6b_11ea_9acd_0242ac1c0002row8_col40\" class=\"data row8 col40\" >No Data</td>\n",
              "                        <td id=\"T_01071340_2a6b_11ea_9acd_0242ac1c0002row8_col41\" class=\"data row8 col41\" >No Data</td>\n",
              "                        <td id=\"T_01071340_2a6b_11ea_9acd_0242ac1c0002row8_col42\" class=\"data row8 col42\" >No Data</td>\n",
              "                        <td id=\"T_01071340_2a6b_11ea_9acd_0242ac1c0002row8_col43\" class=\"data row8 col43\" >No Data</td>\n",
              "                        <td id=\"T_01071340_2a6b_11ea_9acd_0242ac1c0002row8_col44\" class=\"data row8 col44\" >No Data</td>\n",
              "                        <td id=\"T_01071340_2a6b_11ea_9acd_0242ac1c0002row8_col45\" class=\"data row8 col45\" >No Data</td>\n",
              "                        <td id=\"T_01071340_2a6b_11ea_9acd_0242ac1c0002row8_col46\" class=\"data row8 col46\" >No Data</td>\n",
              "                        <td id=\"T_01071340_2a6b_11ea_9acd_0242ac1c0002row8_col47\" class=\"data row8 col47\" >No Data</td>\n",
              "                        <td id=\"T_01071340_2a6b_11ea_9acd_0242ac1c0002row8_col48\" class=\"data row8 col48\" >No Data</td>\n",
              "                        <td id=\"T_01071340_2a6b_11ea_9acd_0242ac1c0002row8_col49\" class=\"data row8 col49\" >No Data</td>\n",
              "                        <td id=\"T_01071340_2a6b_11ea_9acd_0242ac1c0002row8_col50\" class=\"data row8 col50\" >No Data</td>\n",
              "                        <td id=\"T_01071340_2a6b_11ea_9acd_0242ac1c0002row8_col51\" class=\"data row8 col51\" >No Data</td>\n",
              "                        <td id=\"T_01071340_2a6b_11ea_9acd_0242ac1c0002row8_col52\" class=\"data row8 col52\" >No Data</td>\n",
              "                        <td id=\"T_01071340_2a6b_11ea_9acd_0242ac1c0002row8_col53\" class=\"data row8 col53\" >No Data</td>\n",
              "                        <td id=\"T_01071340_2a6b_11ea_9acd_0242ac1c0002row8_col54\" class=\"data row8 col54\" >No Data</td>\n",
              "                        <td id=\"T_01071340_2a6b_11ea_9acd_0242ac1c0002row8_col55\" class=\"data row8 col55\" >No Data</td>\n",
              "                        <td id=\"T_01071340_2a6b_11ea_9acd_0242ac1c0002row8_col56\" class=\"data row8 col56\" >No Data</td>\n",
              "                        <td id=\"T_01071340_2a6b_11ea_9acd_0242ac1c0002row8_col57\" class=\"data row8 col57\" >No Data</td>\n",
              "            </tr>\n",
              "            <tr>\n",
              "                        <th id=\"T_01071340_2a6b_11ea_9acd_0242ac1c0002level0_row9\" class=\"row_heading level0 row9\" ></th>\n",
              "                        <td id=\"T_01071340_2a6b_11ea_9acd_0242ac1c0002row9_col0\" class=\"data row9 col0\" >No Data</td>\n",
              "                        <td id=\"T_01071340_2a6b_11ea_9acd_0242ac1c0002row9_col1\" class=\"data row9 col1\" >No Data</td>\n",
              "                        <td id=\"T_01071340_2a6b_11ea_9acd_0242ac1c0002row9_col2\" class=\"data row9 col2\" >No Data</td>\n",
              "                        <td id=\"T_01071340_2a6b_11ea_9acd_0242ac1c0002row9_col3\" class=\"data row9 col3\" >4</td>\n",
              "                        <td id=\"T_01071340_2a6b_11ea_9acd_0242ac1c0002row9_col4\" class=\"data row9 col4\" >20</td>\n",
              "                        <td id=\"T_01071340_2a6b_11ea_9acd_0242ac1c0002row9_col5\" class=\"data row9 col5\" >85</td>\n",
              "                        <td id=\"T_01071340_2a6b_11ea_9acd_0242ac1c0002row9_col6\" class=\"data row9 col6\" >77</td>\n",
              "                        <td id=\"T_01071340_2a6b_11ea_9acd_0242ac1c0002row9_col7\" class=\"data row9 col7\" >No Data</td>\n",
              "                        <td id=\"T_01071340_2a6b_11ea_9acd_0242ac1c0002row9_col8\" class=\"data row9 col8\" >No Data</td>\n",
              "                        <td id=\"T_01071340_2a6b_11ea_9acd_0242ac1c0002row9_col9\" class=\"data row9 col9\" >No Data</td>\n",
              "                        <td id=\"T_01071340_2a6b_11ea_9acd_0242ac1c0002row9_col10\" class=\"data row9 col10\" >No Data</td>\n",
              "                        <td id=\"T_01071340_2a6b_11ea_9acd_0242ac1c0002row9_col11\" class=\"data row9 col11\" >No Data</td>\n",
              "                        <td id=\"T_01071340_2a6b_11ea_9acd_0242ac1c0002row9_col12\" class=\"data row9 col12\" >No Data</td>\n",
              "                        <td id=\"T_01071340_2a6b_11ea_9acd_0242ac1c0002row9_col13\" class=\"data row9 col13\" >No Data</td>\n",
              "                        <td id=\"T_01071340_2a6b_11ea_9acd_0242ac1c0002row9_col14\" class=\"data row9 col14\" >No Data</td>\n",
              "                        <td id=\"T_01071340_2a6b_11ea_9acd_0242ac1c0002row9_col15\" class=\"data row9 col15\" >No Data</td>\n",
              "                        <td id=\"T_01071340_2a6b_11ea_9acd_0242ac1c0002row9_col16\" class=\"data row9 col16\" >No Data</td>\n",
              "                        <td id=\"T_01071340_2a6b_11ea_9acd_0242ac1c0002row9_col17\" class=\"data row9 col17\" >No Data</td>\n",
              "                        <td id=\"T_01071340_2a6b_11ea_9acd_0242ac1c0002row9_col18\" class=\"data row9 col18\" >No Data</td>\n",
              "                        <td id=\"T_01071340_2a6b_11ea_9acd_0242ac1c0002row9_col19\" class=\"data row9 col19\" >No Data</td>\n",
              "                        <td id=\"T_01071340_2a6b_11ea_9acd_0242ac1c0002row9_col20\" class=\"data row9 col20\" >No Data</td>\n",
              "                        <td id=\"T_01071340_2a6b_11ea_9acd_0242ac1c0002row9_col21\" class=\"data row9 col21\" >No Data</td>\n",
              "                        <td id=\"T_01071340_2a6b_11ea_9acd_0242ac1c0002row9_col22\" class=\"data row9 col22\" >No Data</td>\n",
              "                        <td id=\"T_01071340_2a6b_11ea_9acd_0242ac1c0002row9_col23\" class=\"data row9 col23\" >No Data</td>\n",
              "                        <td id=\"T_01071340_2a6b_11ea_9acd_0242ac1c0002row9_col24\" class=\"data row9 col24\" >No Data</td>\n",
              "                        <td id=\"T_01071340_2a6b_11ea_9acd_0242ac1c0002row9_col25\" class=\"data row9 col25\" >No Data</td>\n",
              "                        <td id=\"T_01071340_2a6b_11ea_9acd_0242ac1c0002row9_col26\" class=\"data row9 col26\" >No Data</td>\n",
              "                        <td id=\"T_01071340_2a6b_11ea_9acd_0242ac1c0002row9_col27\" class=\"data row9 col27\" >No Data</td>\n",
              "                        <td id=\"T_01071340_2a6b_11ea_9acd_0242ac1c0002row9_col28\" class=\"data row9 col28\" >No Data</td>\n",
              "                        <td id=\"T_01071340_2a6b_11ea_9acd_0242ac1c0002row9_col29\" class=\"data row9 col29\" >24</td>\n",
              "                        <td id=\"T_01071340_2a6b_11ea_9acd_0242ac1c0002row9_col30\" class=\"data row9 col30\" >No Data</td>\n",
              "                        <td id=\"T_01071340_2a6b_11ea_9acd_0242ac1c0002row9_col31\" class=\"data row9 col31\" >No Data</td>\n",
              "                        <td id=\"T_01071340_2a6b_11ea_9acd_0242ac1c0002row9_col32\" class=\"data row9 col32\" >No Data</td>\n",
              "                        <td id=\"T_01071340_2a6b_11ea_9acd_0242ac1c0002row9_col33\" class=\"data row9 col33\" >No Data</td>\n",
              "                        <td id=\"T_01071340_2a6b_11ea_9acd_0242ac1c0002row9_col34\" class=\"data row9 col34\" >No Data</td>\n",
              "                        <td id=\"T_01071340_2a6b_11ea_9acd_0242ac1c0002row9_col35\" class=\"data row9 col35\" >42</td>\n",
              "                        <td id=\"T_01071340_2a6b_11ea_9acd_0242ac1c0002row9_col36\" class=\"data row9 col36\" >No Data</td>\n",
              "                        <td id=\"T_01071340_2a6b_11ea_9acd_0242ac1c0002row9_col37\" class=\"data row9 col37\" >No Data</td>\n",
              "                        <td id=\"T_01071340_2a6b_11ea_9acd_0242ac1c0002row9_col38\" class=\"data row9 col38\" >No Data</td>\n",
              "                        <td id=\"T_01071340_2a6b_11ea_9acd_0242ac1c0002row9_col39\" class=\"data row9 col39\" >No Data</td>\n",
              "                        <td id=\"T_01071340_2a6b_11ea_9acd_0242ac1c0002row9_col40\" class=\"data row9 col40\" >No Data</td>\n",
              "                        <td id=\"T_01071340_2a6b_11ea_9acd_0242ac1c0002row9_col41\" class=\"data row9 col41\" >89</td>\n",
              "                        <td id=\"T_01071340_2a6b_11ea_9acd_0242ac1c0002row9_col42\" class=\"data row9 col42\" >No Data</td>\n",
              "                        <td id=\"T_01071340_2a6b_11ea_9acd_0242ac1c0002row9_col43\" class=\"data row9 col43\" >No Data</td>\n",
              "                        <td id=\"T_01071340_2a6b_11ea_9acd_0242ac1c0002row9_col44\" class=\"data row9 col44\" >No Data</td>\n",
              "                        <td id=\"T_01071340_2a6b_11ea_9acd_0242ac1c0002row9_col45\" class=\"data row9 col45\" >No Data</td>\n",
              "                        <td id=\"T_01071340_2a6b_11ea_9acd_0242ac1c0002row9_col46\" class=\"data row9 col46\" >No Data</td>\n",
              "                        <td id=\"T_01071340_2a6b_11ea_9acd_0242ac1c0002row9_col47\" class=\"data row9 col47\" >No Data</td>\n",
              "                        <td id=\"T_01071340_2a6b_11ea_9acd_0242ac1c0002row9_col48\" class=\"data row9 col48\" >No Data</td>\n",
              "                        <td id=\"T_01071340_2a6b_11ea_9acd_0242ac1c0002row9_col49\" class=\"data row9 col49\" >42</td>\n",
              "                        <td id=\"T_01071340_2a6b_11ea_9acd_0242ac1c0002row9_col50\" class=\"data row9 col50\" >No Data</td>\n",
              "                        <td id=\"T_01071340_2a6b_11ea_9acd_0242ac1c0002row9_col51\" class=\"data row9 col51\" >No Data</td>\n",
              "                        <td id=\"T_01071340_2a6b_11ea_9acd_0242ac1c0002row9_col52\" class=\"data row9 col52\" >No Data</td>\n",
              "                        <td id=\"T_01071340_2a6b_11ea_9acd_0242ac1c0002row9_col53\" class=\"data row9 col53\" >94</td>\n",
              "                        <td id=\"T_01071340_2a6b_11ea_9acd_0242ac1c0002row9_col54\" class=\"data row9 col54\" >No Data</td>\n",
              "                        <td id=\"T_01071340_2a6b_11ea_9acd_0242ac1c0002row9_col55\" class=\"data row9 col55\" >No Data</td>\n",
              "                        <td id=\"T_01071340_2a6b_11ea_9acd_0242ac1c0002row9_col56\" class=\"data row9 col56\" >No Data</td>\n",
              "                        <td id=\"T_01071340_2a6b_11ea_9acd_0242ac1c0002row9_col57\" class=\"data row9 col57\" >No Data</td>\n",
              "            </tr>\n",
              "    </tbody></table>"
            ],
            "text/plain": [
              "<pandas.io.formats.style.Styler at 0x7ff7695ddfd0>"
            ]
          },
          "metadata": {
            "tags": []
          },
          "execution_count": 35
        }
      ]
    },
    {
      "cell_type": "markdown",
      "metadata": {
        "id": "LfTbF606y_5U",
        "colab_type": "text"
      },
      "source": [
        "## Charting data as in Excel\n",
        "\n",
        "To plot in python we use the matplotlib library.\n",
        "\n",
        "- https://matplotlib.org/api/pyplot_api.html\n",
        "\n",
        "There is a specialised tutorial on plotting and matplotlib available at the following link:\n",
        "- https://colab.research.google.com/drive/1SOOsVpbNp0f2anD6pOx1oVbgaa-Mp81T\n",
        "\n",
        "We will use the `sat_scores` dataset for the examples."
      ]
    },
    {
      "cell_type": "code",
      "metadata": {
        "id": "aZgK6GN4y_5V",
        "colab_type": "code",
        "colab": {
          "base_uri": "https://localhost:8080/",
          "height": 202
        },
        "outputId": "988fdd9d-03bc-48d7-853d-038b58f61c0d"
      },
      "source": [
        "sat_scores.head()"
      ],
      "execution_count": 36,
      "outputs": [
        {
          "output_type": "execute_result",
          "data": {
            "text/html": [
              "<div>\n",
              "<style scoped>\n",
              "    .dataframe tbody tr th:only-of-type {\n",
              "        vertical-align: middle;\n",
              "    }\n",
              "\n",
              "    .dataframe tbody tr th {\n",
              "        vertical-align: top;\n",
              "    }\n",
              "\n",
              "    .dataframe thead th {\n",
              "        text-align: right;\n",
              "    }\n",
              "</style>\n",
              "<table border=\"1\" class=\"dataframe\">\n",
              "  <thead>\n",
              "    <tr style=\"text-align: right;\">\n",
              "      <th></th>\n",
              "      <th>school</th>\n",
              "      <th>teacher</th>\n",
              "      <th>student_id</th>\n",
              "      <th>sat_writing</th>\n",
              "      <th>sat_verbal</th>\n",
              "      <th>sat_math</th>\n",
              "      <th>hrs_studied</th>\n",
              "      <th>id</th>\n",
              "    </tr>\n",
              "  </thead>\n",
              "  <tbody>\n",
              "    <tr>\n",
              "      <th>0</th>\n",
              "      <td>Washington HS</td>\n",
              "      <td>Frederickson</td>\n",
              "      <td>1.0</td>\n",
              "      <td>583.0</td>\n",
              "      <td>307.0</td>\n",
              "      <td>528.0</td>\n",
              "      <td>190.0</td>\n",
              "      <td>1</td>\n",
              "    </tr>\n",
              "    <tr>\n",
              "      <th>1</th>\n",
              "      <td>Washington HS</td>\n",
              "      <td>Frederickson</td>\n",
              "      <td>2.0</td>\n",
              "      <td>401.0</td>\n",
              "      <td>791.0</td>\n",
              "      <td>248.0</td>\n",
              "      <td>149.0</td>\n",
              "      <td>2</td>\n",
              "    </tr>\n",
              "    <tr>\n",
              "      <th>2</th>\n",
              "      <td>Washington HS</td>\n",
              "      <td>Frederickson</td>\n",
              "      <td>3.0</td>\n",
              "      <td>523.0</td>\n",
              "      <td>445.0</td>\n",
              "      <td>756.0</td>\n",
              "      <td>166.0</td>\n",
              "      <td>3</td>\n",
              "    </tr>\n",
              "    <tr>\n",
              "      <th>3</th>\n",
              "      <td>Washington HS</td>\n",
              "      <td>Frederickson</td>\n",
              "      <td>4.0</td>\n",
              "      <td>306.0</td>\n",
              "      <td>269.0</td>\n",
              "      <td>327.0</td>\n",
              "      <td>137.0</td>\n",
              "      <td>4</td>\n",
              "    </tr>\n",
              "    <tr>\n",
              "      <th>4</th>\n",
              "      <td>Washington HS</td>\n",
              "      <td>Frederickson</td>\n",
              "      <td>5.0</td>\n",
              "      <td>300.0</td>\n",
              "      <td>539.0</td>\n",
              "      <td>743.0</td>\n",
              "      <td>115.0</td>\n",
              "      <td>5</td>\n",
              "    </tr>\n",
              "  </tbody>\n",
              "</table>\n",
              "</div>"
            ],
            "text/plain": [
              "          school       teacher  student_id  ...  sat_math  hrs_studied  id\n",
              "0  Washington HS  Frederickson         1.0  ...     528.0        190.0   1\n",
              "1  Washington HS  Frederickson         2.0  ...     248.0        149.0   2\n",
              "2  Washington HS  Frederickson         3.0  ...     756.0        166.0   3\n",
              "3  Washington HS  Frederickson         4.0  ...     327.0        137.0   4\n",
              "4  Washington HS  Frederickson         5.0  ...     743.0        115.0   5\n",
              "\n",
              "[5 rows x 8 columns]"
            ]
          },
          "metadata": {
            "tags": []
          },
          "execution_count": 36
        }
      ]
    },
    {
      "cell_type": "markdown",
      "metadata": {
        "id": "onRIydxny_5Y",
        "colab_type": "text"
      },
      "source": [
        "### Line charts\n",
        "\n",
        "We use the method called plot."
      ]
    },
    {
      "cell_type": "markdown",
      "metadata": {
        "id": "6AhBml1jy_5a",
        "colab_type": "text"
      },
      "source": [
        "#### Example 1 \n",
        "\n",
        "How does sat_math depend on hrs_studied. "
      ]
    },
    {
      "cell_type": "code",
      "metadata": {
        "id": "kg9-xicpy_5a",
        "colab_type": "code",
        "colab": {
          "base_uri": "https://localhost:8080/",
          "height": 482
        },
        "outputId": "368ad013-38e3-4de4-9ebd-08509be459a2"
      },
      "source": [
        "# It is good idea to copy the data before you plot because there is always some preprocessing to be done\n",
        "plot_data = sat_scores.copy()\n",
        "\n",
        "# we must sort by hrs_studied first (which is our X axis)\n",
        "plot_data.sort_values(by=\"hrs_studied\", inplace=True)\n",
        "\n",
        "plt.figure(figsize=(10, 8))\n",
        "\n",
        "# X axis = hrs_studied, Y axis = sat_math\n",
        "plt.plot(plot_data.hrs_studied, plot_data.sat_math)\n",
        "plt.show()"
      ],
      "execution_count": 37,
      "outputs": [
        {
          "output_type": "display_data",
          "data": {
            "image/png": "[encoded data removed]",
            "text/plain": [
              "<Figure size 720x576 with 1 Axes>"
            ]
          },
          "metadata": {
            "tags": []
          }
        }
      ]
    },
    {
      "cell_type": "markdown",
      "metadata": {
        "id": "NYPBxGuuy_5k",
        "colab_type": "text"
      },
      "source": [
        "#### Example 2 \n",
        "\n",
        "How do hours studied and maximum score of any of the 3 scores relate to each other."
      ]
    },
    {
      "cell_type": "code",
      "metadata": {
        "id": "ZZkR3eNLy_5l",
        "colab_type": "code",
        "colab": {
          "base_uri": "https://localhost:8080/",
          "height": 482
        },
        "outputId": "db9cb4b8-f39c-4628-a15f-7d287251fef7"
      },
      "source": [
        "# It is good idea to copy the data before you plot because there is always some preprocessing to be done\n",
        "plot_data = sat_scores.copy()\n",
        "\n",
        "plot_data[\"max_score\"] =\\\n",
        "    plot_data.apply(lambda row: np.max([row[\"sat_writing\"], row[\"sat_verbal\"], row[\"sat_math\"]]), axis=1)\n",
        "\n",
        "# we must sort by hrs_studied first (which is our X axis)\n",
        "plot_data.sort_values(by=\"hrs_studied\", inplace=True)\n",
        "\n",
        "plt.figure(figsize=(10, 8))\n",
        "\n",
        "# X axis = hrs_studied, Y axis = max_score\n",
        "plt.plot(plot_data.hrs_studied, plot_data.max_score, color='xkcd:sky')\n",
        "plt.show()"
      ],
      "execution_count": 38,
      "outputs": [
        {
          "output_type": "display_data",
          "data": {
            "image/png": "[encoded data removed]",
            "text/plain": [
              "<Figure size 720x576 with 1 Axes>"
            ]
          },
          "metadata": {
            "tags": []
          }
        }
      ]
    },
    {
      "cell_type": "markdown",
      "metadata": {
        "id": "qNJuBPn6y_5r",
        "colab_type": "text"
      },
      "source": [
        "Studying more hours does not mean having higher scores even in your best test."
      ]
    },
    {
      "cell_type": "markdown",
      "metadata": {
        "id": "zDw7pEdCy_5s",
        "colab_type": "text"
      },
      "source": [
        "### Bar and pie charts\n",
        "\n",
        "To draw bar and pie charts we use the methods with same names:\n",
        "- https://matplotlib.org/api/pyplot_api.html#matplotlib.pyplot.bar\n",
        "- https://matplotlib.org/api/pyplot_api.html#matplotlib.pyplot.pie\n",
        "\n",
        "Bar charts are also explained in detail in the ploting tutorial."
      ]
    },
    {
      "cell_type": "markdown",
      "metadata": {
        "id": "S3oucpVPy_5t",
        "colab_type": "text"
      },
      "source": [
        "#### Example 1 \n",
        "\n",
        "Bar chart of average writing score by teacher."
      ]
    },
    {
      "cell_type": "code",
      "metadata": {
        "id": "Yuu8iLj7y_5u",
        "colab_type": "code",
        "colab": {
          "base_uri": "https://localhost:8080/",
          "height": 696
        },
        "outputId": "81e0db47-0d8c-411a-b31c-8689dae0ae15"
      },
      "source": [
        "plot_data = sat_scores.copy()\n",
        "\n",
        "plot_data[\"sat_writing\"] = plot_data[\"sat_writing\"].astype(np.float64)\n",
        "\n",
        "plot_data = plot_data.groupby(\"teacher\")[\"sat_writing\"].mean().reset_index()\n",
        "\n",
        "print(plot_data)\n",
        "\n",
        "plt.figure(figsize=(10, 8))\n",
        "\n",
        "plt.bar(\n",
        "    x=plot_data[\"teacher\"],\n",
        "    height=plot_data[\"sat_writing\"],\n",
        "    color=[\"orange\", \"green\", \"red\", \"blue\", \"cyan\", \"magenta\", \"violet\", \"black\"]\n",
        ")\n",
        "\n",
        "plt.suptitle(\"Average SAT writing scores by teacher\")\n",
        "\n",
        "plt.show()"
      ],
      "execution_count": 39,
      "outputs": [
        {
          "output_type": "stream",
          "text": [
            "        teacher  sat_writing\n",
            "0         Brown   480.352941\n",
            "1         Davis   530.153846\n",
            "2  Frederickson   449.307692\n",
            "3         Perry   572.695652\n",
            "4       Rajaram   472.800000\n",
            "5      Spellman   482.722222\n",
            "6          Tran   502.000000\n",
            "7      Williams   488.875000\n"
          ],
          "name": "stdout"
        },
        {
          "output_type": "display_data",
          "data": {
            "image/png": "[encoded data removed]",
            "text/plain": [
              "<Figure size 720x576 with 1 Axes>"
            ]
          },
          "metadata": {
            "tags": []
          }
        }
      ]
    },
    {
      "cell_type": "markdown",
      "metadata": {
        "id": "Bq0emBBey_5w",
        "colab_type": "text"
      },
      "source": [
        "#### Example 2\n",
        "\n",
        "Sum of verbal scores by school as pie chart."
      ]
    },
    {
      "cell_type": "code",
      "metadata": {
        "id": "ZGsRdOfpy_5x",
        "colab_type": "code",
        "colab": {
          "base_uri": "https://localhost:8080/",
          "height": 536
        },
        "outputId": "c10618b0-ec13-4294-9fbd-592933d8c392"
      },
      "source": [
        "plot_data = sat_scores.copy()\n",
        "\n",
        "plot_data[\"sat_verbal\"] = plot_data[\"sat_verbal\"].astype(np.float32)\n",
        "\n",
        "plot_data = plot_data.groupby(\"school\")[\"sat_verbal\"].sum().reset_index()\n",
        "\n",
        "print(plot_data)\n",
        "\n",
        "# make sure that width=height so the pie does not look squashed\n",
        "plt.figure(figsize=(8, 8))\n",
        "\n",
        "plt.pie(plot_data[\"sat_verbal\"], # data from which to get the fractions\n",
        "        labels=plot_data[\"school\"],  # labels for each pie slice (school names in this case)\n",
        "        autopct=\"%.3f\") # format string using old python formatting notation for displaying the percents\n",
        "\n",
        "plt.show()"
      ],
      "execution_count": 40,
      "outputs": [
        {
          "output_type": "stream",
          "text": [
            "           school  sat_verbal\n",
            "0  Petersville HS     26205.0\n",
            "1      St. John's     25294.0\n",
            "2   Washington HS     15424.0\n"
          ],
          "name": "stdout"
        },
        {
          "output_type": "display_data",
          "data": {
            "image/png": "[encoded data removed]",
            "text/plain": [
              "<Figure size 576x576 with 1 Axes>"
            ]
          },
          "metadata": {
            "tags": []
          }
        }
      ]
    },
    {
      "cell_type": "markdown",
      "metadata": {
        "id": "qicNvDgsy_50",
        "colab_type": "text"
      },
      "source": [
        "### Scatter plots \n",
        "\n",
        "- https://matplotlib.org/api/pyplot_api.html#matplotlib.pyplot.scatter\n",
        "\n",
        "Detailed information is present in the plotting guide."
      ]
    },
    {
      "cell_type": "markdown",
      "metadata": {
        "id": "vPXZQRisy_50",
        "colab_type": "text"
      },
      "source": [
        "#### Example 1\n",
        "\n",
        "We will visually test if writing and verbal scores correlate."
      ]
    },
    {
      "cell_type": "code",
      "metadata": {
        "id": "Mt5yDKgby_52",
        "colab_type": "code",
        "colab": {
          "base_uri": "https://localhost:8080/",
          "height": 592
        },
        "outputId": "06f25a4d-e937-4f5d-8d8a-fffa2df855aa"
      },
      "source": [
        "plot_data = sat_scores.copy()\n",
        "\n",
        "plt.figure(figsize=(10, 10))\n",
        "\n",
        "plt.scatter(x = plot_data[\"sat_writing\"].astype(np.float32),\n",
        "            y = plot_data[\"sat_verbal\"].astype(np.float32))\n",
        "plt.show()"
      ],
      "execution_count": 41,
      "outputs": [
        {
          "output_type": "display_data",
          "data": {
            "image/png": "[encoded data removed]",
            "text/plain": [
              "<Figure size 720x720 with 1 Axes>"
            ]
          },
          "metadata": {
            "tags": []
          }
        }
      ]
    },
    {
      "cell_type": "markdown",
      "metadata": {
        "id": "WbPPelKMy_54",
        "colab_type": "text"
      },
      "source": [
        "And the answer is no, not at all but maybe some clusters exist."
      ]
    },
    {
      "cell_type": "markdown",
      "metadata": {
        "id": "gqnJDoW_y_54",
        "colab_type": "text"
      },
      "source": [
        "#### Example 2\n",
        "\n",
        "Extending our scatter plot with coloring the dots by teacher to see if we can find clusters of similar performing students."
      ]
    },
    {
      "cell_type": "code",
      "metadata": {
        "id": "LIecPQv1y_55",
        "colab_type": "code",
        "colab": {
          "base_uri": "https://localhost:8080/",
          "height": 609
        },
        "outputId": "66d3f20b-36fd-4a32-af5a-5a03646c2e9d"
      },
      "source": [
        "plot_data = sat_scores.copy()\n",
        "\n",
        "color_dict = dict(zip(plot_data[\"teacher\"].unique(), \n",
        "                      [\"orange\", \"green\", \"red\", \"blue\", \"cyan\", \"magenta\", \"violet\", \"black\"]))\n",
        "\n",
        "print(color_dict)\n",
        "\n",
        "# See map is useful in contexts outside VLOOKUP\n",
        "# We use it here to give each student in sat_scores a color based on its teacher.\n",
        "color_sequence = plot_data[\"teacher\"].map(color_dict)\n",
        "\n",
        "plt.figure(figsize=(10, 10))\n",
        "\n",
        "plt.scatter(x = plot_data[\"sat_writing\"].astype(np.float32),\n",
        "            y = plot_data[\"sat_verbal\"].astype(np.float32),\n",
        "            c = color_sequence\n",
        "           )\n",
        "plt.show()"
      ],
      "execution_count": 42,
      "outputs": [
        {
          "output_type": "stream",
          "text": [
            "{'Frederickson': 'orange', 'Spellman': 'green', 'Davis': 'red', 'Brown': 'blue', 'Perry': 'cyan', 'Rajaram': 'magenta', 'Williams': 'violet', 'Tran': 'black'}\n"
          ],
          "name": "stdout"
        },
        {
          "output_type": "display_data",
          "data": {
            "image/png": "[encoded data removed]",
            "text/plain": [
              "<Figure size 720x720 with 1 Axes>"
            ]
          },
          "metadata": {
            "tags": []
          }
        }
      ]
    },
    {
      "cell_type": "markdown",
      "metadata": {
        "id": "EOjkppety_59",
        "colab_type": "text"
      },
      "source": [
        "We see that small isolated clusters exist but nothing significant."
      ]
    },
    {
      "cell_type": "markdown",
      "metadata": {
        "id": "dPISXziFy_59",
        "colab_type": "text"
      },
      "source": [
        "### Histogram plots\n",
        "\n",
        "- https://matplotlib.org/api/pyplot_api.html#matplotlib.pyplot.hist\n",
        "\n",
        "Also see the ploting guide linked above where histograms are explained in detail."
      ]
    },
    {
      "cell_type": "markdown",
      "metadata": {
        "id": "uIOFaq7Ly_59",
        "colab_type": "text"
      },
      "source": [
        "#### Example 1 \n",
        "\n",
        "The histogram of scores for all 3 scores."
      ]
    },
    {
      "cell_type": "code",
      "metadata": {
        "id": "wlojlZdJy_5-",
        "colab_type": "code",
        "colab": {
          "base_uri": "https://localhost:8080/",
          "height": 626
        },
        "outputId": "ae0003df-959f-4c6c-ef3d-4cb64245e25d"
      },
      "source": [
        "# https://matplotlib.org/api/pyplot_api.html#matplotlib.pyplot.subplots\n",
        "fig, axes = plt.subplots(nrows=1, ncols=3, figsize=(30, 10))\n",
        "\n",
        "axes[0].set_title(\"Writing scores\")\n",
        "axes[0].hist(sat_scores[\"sat_writing\"].astype(np.float32), bins=20, color='red')\n",
        "\n",
        "axes[1].set_title(\"Verbal scores\")\n",
        "axes[1].hist(sat_scores[\"sat_verbal\"].astype(np.float32), bins=20, color='green')\n",
        "\n",
        "axes[2].set_title(\"Math scores\")\n",
        "axes[2].hist(sat_scores[\"sat_math\"].astype(np.float32), bins=20, color='blue')\n",
        "\n",
        "plt.show()"
      ],
      "execution_count": 43,
      "outputs": [
        {
          "output_type": "display_data",
          "data": {
            "image/png": "[encoded data removed]",
            "text/plain": [
              "<Figure size 2160x720 with 3 Axes>"
            ]
          },
          "metadata": {
            "tags": []
          }
        }
      ]
    },
    {
      "cell_type": "markdown",
      "metadata": {
        "id": "xzJNeiDby_6C",
        "colab_type": "text"
      },
      "source": [
        "### Box plots\n",
        "\n",
        "- https://matplotlib.org/api/pyplot_api.html#matplotlib.pyplot.boxplot"
      ]
    },
    {
      "cell_type": "markdown",
      "metadata": {
        "id": "Cd6fHnPFy_6D",
        "colab_type": "text"
      },
      "source": [
        "#### Example 1\n",
        "\n",
        "Box plot of hours studied"
      ]
    },
    {
      "cell_type": "code",
      "metadata": {
        "id": "5UM832ZDy_6D",
        "colab_type": "code",
        "colab": {
          "base_uri": "https://localhost:8080/",
          "height": 265
        },
        "outputId": "79f90715-58da-47dd-fe5e-44c66f4d58f2"
      },
      "source": [
        "plot_data = sat_scores.copy()\n",
        "\n",
        "plot_data.dropna(inplace=True)\n",
        "\n",
        "plt.boxplot(plot_data[\"hrs_studied\"].astype(np.float32), notch=True)\n",
        "plt.show()"
      ],
      "execution_count": 45,
      "outputs": [
        {
          "output_type": "display_data",
          "data": {
            "image/png": "[encoded data removed]",
            "text/plain": [
              "<Figure size 432x288 with 1 Axes>"
            ]
          },
          "metadata": {
            "tags": []
          }
        }
      ]
    },
    {
      "cell_type": "markdown",
      "metadata": {
        "id": "7C8iNCQzy_6F",
        "colab_type": "text"
      },
      "source": [
        "We see the median time studied is around 90 hours and that there are no outliers."
      ]
    },
    {
      "cell_type": "code",
      "metadata": {
        "id": "uI6XpM2Fy_6G",
        "colab_type": "code",
        "colab": {}
      },
      "source": [
        ""
      ],
      "execution_count": 0,
      "outputs": []
    }
  ]
}