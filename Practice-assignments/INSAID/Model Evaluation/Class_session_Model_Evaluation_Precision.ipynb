{
  "nbformat": 4,
  "nbformat_minor": 0,
  "metadata": {
    "kernelspec": {
      "display_name": "Python 3",
      "language": "python",
      "name": "python3"
    },
    "language_info": {
      "codemirror_mode": {
        "name": "ipython",
        "version": 3
      },
      "file_extension": ".py",
      "mimetype": "text/x-python",
      "name": "python",
      "nbconvert_exporter": "python",
      "pygments_lexer": "ipython3",
      "version": "3.7.0"
    },
    "colab": {
      "name": "Class session - Model_Evaluation-Precision.ipynb",
      "provenance": [],
      "collapsed_sections": []
    }
  },
  "cells": [
    {
      "cell_type": "markdown",
      "metadata": {
        "id": "QnnlFiSelbgl",
        "colab_type": "text"
      },
      "source": [
        "<img src=\"https://github.com/insaid2018/Term-1/blob/master/Images/INSAID_Full%20Logo.png?raw=true\" width=\"240\" height=\"360\" />\n",
        "\n",
        "# Model evaluation"
      ]
    },
    {
      "cell_type": "markdown",
      "metadata": {
        "id": "df_az6Uwlbgw",
        "colab_type": "text"
      },
      "source": [
        "## Table of Content\n",
        "\n",
        "1. [Problem Statement](#section1)<br>\n",
        "2. [Data Loading and Description](#section2)<br>\n",
        "3. [Exploratory Data Analysis](#section3)<br>\n",
        "4. [Random Forest Classifier](#section4)<br>\n",
        "5. [Model evaluation](#section5)<br>\n",
        "    - 5.1 [Model evaluation using accuracy score](#section501)<br>\n",
        "    - 5.2 [Model Evaluation using confusion matrix](#section502)<br>\n",
        "    - 5.3 [Model evaluation using precision score](#section503)<br>\n",
        "    - 5.4 [Model evaluation using recall score](#section504)<br>\n",
        "    - 5.5 [Model evaluation using f1_score](#section505)<br>\n",
        "    - 5.6 [Model evaluation using ROC_AUC curve](#section506)<br>\n",
        "    - 5.7 [Choosing better model using precision score](#section507)<br>"
      ]
    },
    {
      "cell_type": "markdown",
      "metadata": {
        "id": "kMKC_TW8lbg2",
        "colab_type": "text"
      },
      "source": [
        "<a id = section1></a>"
      ]
    },
    {
      "cell_type": "markdown",
      "metadata": {
        "id": "klOWiG0qlbg-",
        "colab_type": "text"
      },
      "source": [
        "## 1. Problem Statement\n",
        "\n",
        "Given the dataset containing __personal details of citizens__, make a model to predict whether people will commit crime in future or not using random forest algorithm. Evaluate the model using possible __model evaluation techniques__. "
      ]
    },
    {
      "cell_type": "markdown",
      "metadata": {
        "id": "p1H8c6hglbhG",
        "colab_type": "text"
      },
      "source": [
        "<a id = section2></a>"
      ]
    },
    {
      "cell_type": "markdown",
      "metadata": {
        "id": "5GqlW7SklbhI",
        "colab_type": "text"
      },
      "source": [
        "## 2. Data Loading and Description"
      ]
    },
    {
      "cell_type": "markdown",
      "metadata": {
        "id": "NXqV7FW8lbhK",
        "colab_type": "text"
      },
      "source": [
        "Courts are based on the principle that says \"__it is better 100 guilty Persons should escape than that one innocent Person should suffer__\". You are given a dataset containing answers to various questions concerning the professional and private lives of several people. A few of them have been arrested for various small and large crimes in the past. Use the given data to make a model for the court to predict if the convict is guilty or not.\n",
        "![image.png](attachment:image.png)\n",
        "- __False positive__ - model predict a convict to be guilty but actually he isnt. \n",
        "- __False negative__ - model predict a convict to be innocent but the person would be guilty.\n",
        "\n",
        "So, based on the principle of court, __false positives minimisation__ is the main aim.\n",
        "The dataset consists of __45718 rows__.<br/>\n",
        "Below is a table having brief description of features present in the dataset."
      ]
    },
    {
      "cell_type": "markdown",
      "metadata": {
        "id": "2NHVT0aUlbhL",
        "colab_type": "text"
      },
      "source": [
        "\n",
        "\n",
        "|Feature    |\tDescription                                               |\n",
        "|-----------| ------------                                                | \n",
        "|PERID\t    |        Person ID                                            |\n",
        "| IFATHER   | \tFATHER IN HOUSEHOLD                                       |\n",
        "| NRCH17_2  | \tRECODED # R's CHILDREN &lt; 18 IN HOUSEHOLD               |\n",
        "| RHHSIZ2\t| RECODE - IMPUTATION-REVISED # PERSONS IN HH                 |\n",
        "| IIHHSIZ2\t| IMPUTATION INDICATOR                                        |\n",
        "| IRKI17_2\t| IMPUTATION-REVISED # KIDS AGED&lt;18 IN HH                  |   \n",
        "| IIKI17_2  |  IRKI17_2-IMPUTATION INDICATOR                              | \n",
        "| IRHH65_2  | \tREC - IMPUTATION-REVISED # OF PER IN HH AGED&gt;=65       |\n",
        "| IIHH65_2  | \tIRHH65_2-IMPUTATION INDICATOR                             |\n",
        "| PRXRETRY\t| SELECTED PROXY UNAVAILABLE, OTHER PROXY AVAILABLE?          | \n",
        "| PRXYDATA\t| IS PROXY ANSWERING INSURANCE/INCOME QS                      |\n",
        "| MEDICARE\t| COVERED BY MEDICARE                                         |\n",
        "| CAIDCHIP\t| COVERED BY MEDICAID/CHIP                                    |\n",
        "| CHAMPUS\t| COV BY TRICARE, CHAMPUS, CHAMPVA, VA, MILITARY              |\n",
        "| PRVHLTIN\t| COVERED BY PRIVATE INSURANCE                                |\n",
        "| GRPHLTIN\t| PRIVATE PLAN OFFERED THROUGH EMPLOYER OR UNION              |\n",
        "| HLTINNOS\t| COVERED BY HEALTH INSUR                                     |\n",
        "| HLCNOTYR  | ANYTIME DID NOT HAVE HEALTH INS/COVER PAST 12 MOS           |\n",
        "| HLCNOTMO  | \tPAST 12 MOS, HOW MANY MOS W/O COVERAGE                    |\n",
        "| HLCLAST\t| TIME SINCE LAST HAD HEALTH CARE COVERAGE                    |\n",
        "| HLLOSRSN\t| MAIN REASON STOPPED COVERED BY HEALTH INSURANCE             |\n",
        "| HLNVCOST  | \tCOST TOO HIGH                                             |\n",
        "| HLNVOFFR\t| EMPLOYER DOESN'T OFFER                                      |\n",
        "| HLNVREF\t| INSURANCE COMPANY REFUSED COVERAGE                          |\n",
        "| HLNVNEED  | \tDON'T NEED IT                                             |\n",
        "| HLNVSOR   | \tNEVER HAD HLTH INS SOME OTHER REASON                      |\n",
        "| IRMCDCHP  | \tIMPUTATION REVISED CAIDCHIP                               |\n",
        "| IIMCDCHP\t| MEDICAID/CHIP - IMPUTATION INDICATOR                        |\n",
        "| IRMEDICR\t| MEDICARE - IMPUTATION REVISED                               |\n",
        "| IIMEDICR\t| MEDICARE - IMPUTATION INDICATOR                             |\n",
        "| IRCHMPUS\t| CHAMPUS - IMPUTATION REVISED                                |\n",
        "| IICHMPUS\t| CHAMPUS - IMPUTATION INDICATOR                              |\n",
        "| IRPRVHLT\t| PRIVATE HEALTH INSURANCE - IMPUTATION REVISED               |\n",
        "| IIPRVHLT\t| PRIVATE HEALTH INSURANCE - IMPUTATION INDICATOR             |\n",
        "| IROTHHLT\t| OTHER HEALTH INSURANCE - IMPUTATION REVISED                 |\n",
        "| IIOTHHLT\t| OTHER HEALTH INSURANCE - IMPUTATION INDICATOR               |\n",
        "| HLCALLFG\t| FLAG IF EVERY FORM OF HEALTH INS REPORTED                   |\n",
        "| HLCALL99\t| YES TO MEDICARE/MEDICAID/CHAMPUS/PRVHLTIN                   |\n",
        "| ANYHLTI2\t| COVERED BY ANY HEALTH INSURANCE - RECODE                    |\n",
        "| IRINSUR4\t| RC-OVERALL HEALTH INSURANCE - IMPUTATION REVISED            |\n",
        "| IIINSUR4\t| RC-OVERALL HEALTH INSURANCE - IMPUTATION INDICATOR          |\n",
        "| OTHINS\t| RC-OTHER HEALTH INSURANCE                                   |\n",
        "| CELLNOTCL\t| NOT A CELL PHONE                                            |\n",
        "| CELLWRKNG | WORKING CELL PHONE                                          |\n",
        "| IRFAMSOC\t| FAM RECEIVE SS OR RR PAYMENTS - IMPUTATION REVISED          |\n",
        "| IIFAMSOC\t| FAM RECEIVE SS OR RR PAYMENTS - IMPUTATION INDICATOR        |\n",
        "| IRFAMSSI\t| FAM RECEIVE SSI - IMPUTATION REVISED                        |\n",
        "| IIFAMSSI\t| FAM RECEIVE SSI - IMPUTATION INDICATOR                      |\n",
        "| IRFSTAMP\t| RESP/OTH FAM MEM REC FOOD STAMPS - IMPUTATION REVISED       |\n",
        "| IIFSTAMP\t| RESP/OTH FAM MEM REC FOOD STAMPS - IMPUTATION INDICATOR     |\n",
        "| IRFAMPMT\t| FAM RECEIVE PUBLIC ASSIST - IMPUTATION REVISED              |\n",
        "| IIFAMPMT\t| FAM RECEIVE PUBLIC ASSIST - IMPUTATION INDICATOR            |\n",
        "| IRFAMSVC\t| FAM REC WELFARE/JOB PL/CHILDCARE - IMPUTATION REVISED       |\n",
        "| IIFAMSVC\t| FAM REC WELFARE/JOB PL/CHILDCARE - IMPUTATION INDICATOR     |\n",
        "| IRWELMOS\t| IMP. REVISED - NO.OF MONTHS ON WELFARE                      |\n",
        "| IIWELMOS\t| NO OF MONTHS ON WELFARE - IMPUTATION INDICATOR              |\n",
        "| IRPINC3\t| RESP TOT INCOME (FINER CAT) - IMP REV                       |\n",
        "| IRFAMIN3  | RECODE - IMP.REVISED - TOT FAM INCOME                       |\n",
        "| IIPINC3\t| RESP TOT INCOME (FINER CAT) - IMP INDIC                     |\n",
        "| IIFAMIN3\t| IRFAMIN3 - IMPUTATION INDICATOR                             |\n",
        "| GOVTPROG  | RC-PARTICIPATED IN ONE OR MORE GOVT ASSIST PROGRAMS         |\n",
        "| POVERTY3\t| RC-POVERTY LEVEL                                            |\n",
        "| TOOLONG\t| RESP SAID INTERVIEW WAS TOO LONG                            |\n",
        "| TROUBUND\t| DID RESP HAVE TROUBLE UNDERSTANDING INTERVIEW               |\n",
        "| PDEN10\t| POPULATION DENSITY 2010                                     |\n",
        "| COUTYP2\t| COUNTY METRO/NONMETRO STATUS                                |\n",
        "| MAIIN102\t| MAJORITY AMER INDIAN AREA INDICATOR FOR SEGMENT             |\n",
        "| AIIND102\t| AMER INDIAN AREA INDICATOR                                  |\n",
        "| ANALWT_C\t| FIN PRSN-LEVEL SIMPLE WGHT                                  |\n",
        "| VESTR    \t| ANALYSIS STRATUM                                            |\n",
        "| VEREP\t    | ANALYSIS REPLICATE                                          |\n",
        "| Criminal\t| Target Variable                                             |"
      ]
    },
    {
      "cell_type": "markdown",
      "metadata": {
        "id": "kBnhi0nWlbhN",
        "colab_type": "text"
      },
      "source": [
        "__Importing Packages__"
      ]
    },
    {
      "cell_type": "code",
      "metadata": {
        "id": "xQVToYwKlbhZ",
        "colab_type": "code",
        "colab": {}
      },
      "source": [
        "import pandas as pd\n",
        "import numpy as np\n",
        "from sklearn import metrics\n",
        "import matplotlib.pyplot as plt \n",
        "plt.rc(\"font\", size=14)\n",
        "import seaborn as sns\n",
        "sns.set(style=\"white\")\n",
        "sns.set(style=\"whitegrid\", color_codes=True)"
      ],
      "execution_count": 0,
      "outputs": []
    },
    {
      "cell_type": "markdown",
      "metadata": {
        "id": "N7-8l26Plbhq",
        "colab_type": "text"
      },
      "source": [
        "#### Importing the Dataset"
      ]
    },
    {
      "cell_type": "code",
      "metadata": {
        "colab_type": "code",
        "id": "hj8UmUJeU8tO",
        "outputId": "04271d1f-8763-42fd-f89a-ac4fd9ab2d9a",
        "colab": {
          "base_uri": "https://localhost:8080/",
          "height": 224
        }
      },
      "source": [
        "crime = pd.read_csv('https://raw.githubusercontent.com/st186/Predicting-Criminals/master/criminal_train.csv')\n",
        "crime.head()"
      ],
      "execution_count": 2,
      "outputs": [
        {
          "output_type": "execute_result",
          "data": {
            "text/html": [
              "<div>\n",
              "<style scoped>\n",
              "    .dataframe tbody tr th:only-of-type {\n",
              "        vertical-align: middle;\n",
              "    }\n",
              "\n",
              "    .dataframe tbody tr th {\n",
              "        vertical-align: top;\n",
              "    }\n",
              "\n",
              "    .dataframe thead th {\n",
              "        text-align: right;\n",
              "    }\n",
              "</style>\n",
              "<table border=\"1\" class=\"dataframe\">\n",
              "  <thead>\n",
              "    <tr style=\"text-align: right;\">\n",
              "      <th></th>\n",
              "      <th>PERID</th>\n",
              "      <th>IFATHER</th>\n",
              "      <th>NRCH17_2</th>\n",
              "      <th>IRHHSIZ2</th>\n",
              "      <th>IIHHSIZ2</th>\n",
              "      <th>IRKI17_2</th>\n",
              "      <th>IIKI17_2</th>\n",
              "      <th>IRHH65_2</th>\n",
              "      <th>IIHH65_2</th>\n",
              "      <th>PRXRETRY</th>\n",
              "      <th>PRXYDATA</th>\n",
              "      <th>MEDICARE</th>\n",
              "      <th>CAIDCHIP</th>\n",
              "      <th>CHAMPUS</th>\n",
              "      <th>PRVHLTIN</th>\n",
              "      <th>GRPHLTIN</th>\n",
              "      <th>HLTINNOS</th>\n",
              "      <th>HLCNOTYR</th>\n",
              "      <th>HLCNOTMO</th>\n",
              "      <th>HLCLAST</th>\n",
              "      <th>HLLOSRSN</th>\n",
              "      <th>HLNVCOST</th>\n",
              "      <th>HLNVOFFR</th>\n",
              "      <th>HLNVREF</th>\n",
              "      <th>HLNVNEED</th>\n",
              "      <th>HLNVSOR</th>\n",
              "      <th>IRMCDCHP</th>\n",
              "      <th>IIMCDCHP</th>\n",
              "      <th>IRMEDICR</th>\n",
              "      <th>IIMEDICR</th>\n",
              "      <th>IRCHMPUS</th>\n",
              "      <th>IICHMPUS</th>\n",
              "      <th>IRPRVHLT</th>\n",
              "      <th>IIPRVHLT</th>\n",
              "      <th>IROTHHLT</th>\n",
              "      <th>IIOTHHLT</th>\n",
              "      <th>HLCALLFG</th>\n",
              "      <th>HLCALL99</th>\n",
              "      <th>ANYHLTI2</th>\n",
              "      <th>IRINSUR4</th>\n",
              "      <th>IIINSUR4</th>\n",
              "      <th>OTHINS</th>\n",
              "      <th>CELLNOTCL</th>\n",
              "      <th>CELLWRKNG</th>\n",
              "      <th>IRFAMSOC</th>\n",
              "      <th>IIFAMSOC</th>\n",
              "      <th>IRFAMSSI</th>\n",
              "      <th>IIFAMSSI</th>\n",
              "      <th>IRFSTAMP</th>\n",
              "      <th>IIFSTAMP</th>\n",
              "      <th>IRFAMPMT</th>\n",
              "      <th>IIFAMPMT</th>\n",
              "      <th>IRFAMSVC</th>\n",
              "      <th>IIFAMSVC</th>\n",
              "      <th>IRWELMOS</th>\n",
              "      <th>IIWELMOS</th>\n",
              "      <th>IRPINC3</th>\n",
              "      <th>IRFAMIN3</th>\n",
              "      <th>IIPINC3</th>\n",
              "      <th>IIFAMIN3</th>\n",
              "      <th>GOVTPROG</th>\n",
              "      <th>POVERTY3</th>\n",
              "      <th>TOOLONG</th>\n",
              "      <th>TROUBUND</th>\n",
              "      <th>PDEN10</th>\n",
              "      <th>COUTYP2</th>\n",
              "      <th>MAIIN102</th>\n",
              "      <th>AIIND102</th>\n",
              "      <th>ANALWT_C</th>\n",
              "      <th>VESTR</th>\n",
              "      <th>VEREP</th>\n",
              "      <th>Criminal</th>\n",
              "    </tr>\n",
              "  </thead>\n",
              "  <tbody>\n",
              "    <tr>\n",
              "      <th>0</th>\n",
              "      <td>25095143</td>\n",
              "      <td>4</td>\n",
              "      <td>2</td>\n",
              "      <td>4</td>\n",
              "      <td>1</td>\n",
              "      <td>3</td>\n",
              "      <td>1</td>\n",
              "      <td>1</td>\n",
              "      <td>1</td>\n",
              "      <td>99</td>\n",
              "      <td>99</td>\n",
              "      <td>2</td>\n",
              "      <td>1</td>\n",
              "      <td>2</td>\n",
              "      <td>2</td>\n",
              "      <td>99</td>\n",
              "      <td>99</td>\n",
              "      <td>2</td>\n",
              "      <td>99</td>\n",
              "      <td>99</td>\n",
              "      <td>99</td>\n",
              "      <td>99</td>\n",
              "      <td>99</td>\n",
              "      <td>99</td>\n",
              "      <td>99</td>\n",
              "      <td>99</td>\n",
              "      <td>1</td>\n",
              "      <td>1</td>\n",
              "      <td>2</td>\n",
              "      <td>1</td>\n",
              "      <td>2</td>\n",
              "      <td>1</td>\n",
              "      <td>2</td>\n",
              "      <td>1</td>\n",
              "      <td>99</td>\n",
              "      <td>9</td>\n",
              "      <td>98</td>\n",
              "      <td>98</td>\n",
              "      <td>1</td>\n",
              "      <td>1</td>\n",
              "      <td>1</td>\n",
              "      <td>2</td>\n",
              "      <td>1</td>\n",
              "      <td>1</td>\n",
              "      <td>2</td>\n",
              "      <td>1</td>\n",
              "      <td>2</td>\n",
              "      <td>1</td>\n",
              "      <td>1</td>\n",
              "      <td>1</td>\n",
              "      <td>2</td>\n",
              "      <td>1</td>\n",
              "      <td>2</td>\n",
              "      <td>1</td>\n",
              "      <td>99</td>\n",
              "      <td>9</td>\n",
              "      <td>1</td>\n",
              "      <td>4</td>\n",
              "      <td>1</td>\n",
              "      <td>1</td>\n",
              "      <td>1</td>\n",
              "      <td>2</td>\n",
              "      <td>1</td>\n",
              "      <td>2</td>\n",
              "      <td>1</td>\n",
              "      <td>1</td>\n",
              "      <td>2</td>\n",
              "      <td>2</td>\n",
              "      <td>3884.805998</td>\n",
              "      <td>40026</td>\n",
              "      <td>1</td>\n",
              "      <td>0</td>\n",
              "    </tr>\n",
              "    <tr>\n",
              "      <th>1</th>\n",
              "      <td>13005143</td>\n",
              "      <td>4</td>\n",
              "      <td>1</td>\n",
              "      <td>3</td>\n",
              "      <td>1</td>\n",
              "      <td>2</td>\n",
              "      <td>1</td>\n",
              "      <td>1</td>\n",
              "      <td>1</td>\n",
              "      <td>99</td>\n",
              "      <td>99</td>\n",
              "      <td>2</td>\n",
              "      <td>2</td>\n",
              "      <td>2</td>\n",
              "      <td>1</td>\n",
              "      <td>1</td>\n",
              "      <td>99</td>\n",
              "      <td>2</td>\n",
              "      <td>99</td>\n",
              "      <td>99</td>\n",
              "      <td>99</td>\n",
              "      <td>99</td>\n",
              "      <td>99</td>\n",
              "      <td>99</td>\n",
              "      <td>99</td>\n",
              "      <td>99</td>\n",
              "      <td>2</td>\n",
              "      <td>1</td>\n",
              "      <td>2</td>\n",
              "      <td>1</td>\n",
              "      <td>2</td>\n",
              "      <td>1</td>\n",
              "      <td>1</td>\n",
              "      <td>1</td>\n",
              "      <td>99</td>\n",
              "      <td>9</td>\n",
              "      <td>98</td>\n",
              "      <td>98</td>\n",
              "      <td>1</td>\n",
              "      <td>1</td>\n",
              "      <td>1</td>\n",
              "      <td>2</td>\n",
              "      <td>1</td>\n",
              "      <td>1</td>\n",
              "      <td>2</td>\n",
              "      <td>1</td>\n",
              "      <td>2</td>\n",
              "      <td>1</td>\n",
              "      <td>1</td>\n",
              "      <td>1</td>\n",
              "      <td>2</td>\n",
              "      <td>1</td>\n",
              "      <td>2</td>\n",
              "      <td>1</td>\n",
              "      <td>99</td>\n",
              "      <td>9</td>\n",
              "      <td>1</td>\n",
              "      <td>1</td>\n",
              "      <td>1</td>\n",
              "      <td>1</td>\n",
              "      <td>1</td>\n",
              "      <td>1</td>\n",
              "      <td>2</td>\n",
              "      <td>2</td>\n",
              "      <td>2</td>\n",
              "      <td>3</td>\n",
              "      <td>2</td>\n",
              "      <td>2</td>\n",
              "      <td>1627.108106</td>\n",
              "      <td>40015</td>\n",
              "      <td>2</td>\n",
              "      <td>1</td>\n",
              "    </tr>\n",
              "    <tr>\n",
              "      <th>2</th>\n",
              "      <td>67415143</td>\n",
              "      <td>4</td>\n",
              "      <td>1</td>\n",
              "      <td>2</td>\n",
              "      <td>1</td>\n",
              "      <td>2</td>\n",
              "      <td>1</td>\n",
              "      <td>1</td>\n",
              "      <td>1</td>\n",
              "      <td>99</td>\n",
              "      <td>99</td>\n",
              "      <td>2</td>\n",
              "      <td>1</td>\n",
              "      <td>2</td>\n",
              "      <td>2</td>\n",
              "      <td>99</td>\n",
              "      <td>99</td>\n",
              "      <td>2</td>\n",
              "      <td>99</td>\n",
              "      <td>99</td>\n",
              "      <td>99</td>\n",
              "      <td>99</td>\n",
              "      <td>99</td>\n",
              "      <td>99</td>\n",
              "      <td>99</td>\n",
              "      <td>99</td>\n",
              "      <td>1</td>\n",
              "      <td>1</td>\n",
              "      <td>2</td>\n",
              "      <td>1</td>\n",
              "      <td>2</td>\n",
              "      <td>1</td>\n",
              "      <td>2</td>\n",
              "      <td>1</td>\n",
              "      <td>99</td>\n",
              "      <td>9</td>\n",
              "      <td>98</td>\n",
              "      <td>98</td>\n",
              "      <td>1</td>\n",
              "      <td>1</td>\n",
              "      <td>1</td>\n",
              "      <td>2</td>\n",
              "      <td>2</td>\n",
              "      <td>1</td>\n",
              "      <td>1</td>\n",
              "      <td>1</td>\n",
              "      <td>2</td>\n",
              "      <td>1</td>\n",
              "      <td>1</td>\n",
              "      <td>1</td>\n",
              "      <td>2</td>\n",
              "      <td>1</td>\n",
              "      <td>2</td>\n",
              "      <td>1</td>\n",
              "      <td>99</td>\n",
              "      <td>9</td>\n",
              "      <td>2</td>\n",
              "      <td>2</td>\n",
              "      <td>1</td>\n",
              "      <td>1</td>\n",
              "      <td>1</td>\n",
              "      <td>1</td>\n",
              "      <td>2</td>\n",
              "      <td>2</td>\n",
              "      <td>2</td>\n",
              "      <td>3</td>\n",
              "      <td>2</td>\n",
              "      <td>2</td>\n",
              "      <td>4344.957980</td>\n",
              "      <td>40024</td>\n",
              "      <td>1</td>\n",
              "      <td>0</td>\n",
              "    </tr>\n",
              "    <tr>\n",
              "      <th>3</th>\n",
              "      <td>70925143</td>\n",
              "      <td>4</td>\n",
              "      <td>0</td>\n",
              "      <td>2</td>\n",
              "      <td>1</td>\n",
              "      <td>1</td>\n",
              "      <td>1</td>\n",
              "      <td>1</td>\n",
              "      <td>1</td>\n",
              "      <td>99</td>\n",
              "      <td>99</td>\n",
              "      <td>2</td>\n",
              "      <td>2</td>\n",
              "      <td>2</td>\n",
              "      <td>1</td>\n",
              "      <td>1</td>\n",
              "      <td>99</td>\n",
              "      <td>2</td>\n",
              "      <td>99</td>\n",
              "      <td>99</td>\n",
              "      <td>99</td>\n",
              "      <td>99</td>\n",
              "      <td>99</td>\n",
              "      <td>99</td>\n",
              "      <td>99</td>\n",
              "      <td>99</td>\n",
              "      <td>2</td>\n",
              "      <td>1</td>\n",
              "      <td>2</td>\n",
              "      <td>1</td>\n",
              "      <td>2</td>\n",
              "      <td>1</td>\n",
              "      <td>1</td>\n",
              "      <td>1</td>\n",
              "      <td>99</td>\n",
              "      <td>9</td>\n",
              "      <td>98</td>\n",
              "      <td>98</td>\n",
              "      <td>1</td>\n",
              "      <td>1</td>\n",
              "      <td>1</td>\n",
              "      <td>2</td>\n",
              "      <td>1</td>\n",
              "      <td>1</td>\n",
              "      <td>2</td>\n",
              "      <td>1</td>\n",
              "      <td>2</td>\n",
              "      <td>1</td>\n",
              "      <td>2</td>\n",
              "      <td>1</td>\n",
              "      <td>2</td>\n",
              "      <td>1</td>\n",
              "      <td>2</td>\n",
              "      <td>1</td>\n",
              "      <td>99</td>\n",
              "      <td>9</td>\n",
              "      <td>7</td>\n",
              "      <td>7</td>\n",
              "      <td>1</td>\n",
              "      <td>1</td>\n",
              "      <td>2</td>\n",
              "      <td>3</td>\n",
              "      <td>2</td>\n",
              "      <td>2</td>\n",
              "      <td>1</td>\n",
              "      <td>1</td>\n",
              "      <td>2</td>\n",
              "      <td>2</td>\n",
              "      <td>792.521931</td>\n",
              "      <td>40027</td>\n",
              "      <td>1</td>\n",
              "      <td>0</td>\n",
              "    </tr>\n",
              "    <tr>\n",
              "      <th>4</th>\n",
              "      <td>75235143</td>\n",
              "      <td>1</td>\n",
              "      <td>0</td>\n",
              "      <td>6</td>\n",
              "      <td>1</td>\n",
              "      <td>4</td>\n",
              "      <td>1</td>\n",
              "      <td>1</td>\n",
              "      <td>1</td>\n",
              "      <td>99</td>\n",
              "      <td>1</td>\n",
              "      <td>2</td>\n",
              "      <td>1</td>\n",
              "      <td>2</td>\n",
              "      <td>2</td>\n",
              "      <td>99</td>\n",
              "      <td>99</td>\n",
              "      <td>2</td>\n",
              "      <td>99</td>\n",
              "      <td>99</td>\n",
              "      <td>99</td>\n",
              "      <td>99</td>\n",
              "      <td>99</td>\n",
              "      <td>99</td>\n",
              "      <td>99</td>\n",
              "      <td>99</td>\n",
              "      <td>1</td>\n",
              "      <td>1</td>\n",
              "      <td>2</td>\n",
              "      <td>1</td>\n",
              "      <td>2</td>\n",
              "      <td>1</td>\n",
              "      <td>2</td>\n",
              "      <td>1</td>\n",
              "      <td>99</td>\n",
              "      <td>9</td>\n",
              "      <td>98</td>\n",
              "      <td>98</td>\n",
              "      <td>1</td>\n",
              "      <td>1</td>\n",
              "      <td>1</td>\n",
              "      <td>2</td>\n",
              "      <td>2</td>\n",
              "      <td>1</td>\n",
              "      <td>2</td>\n",
              "      <td>1</td>\n",
              "      <td>2</td>\n",
              "      <td>1</td>\n",
              "      <td>1</td>\n",
              "      <td>1</td>\n",
              "      <td>2</td>\n",
              "      <td>1</td>\n",
              "      <td>1</td>\n",
              "      <td>1</td>\n",
              "      <td>1</td>\n",
              "      <td>1</td>\n",
              "      <td>1</td>\n",
              "      <td>2</td>\n",
              "      <td>1</td>\n",
              "      <td>1</td>\n",
              "      <td>1</td>\n",
              "      <td>1</td>\n",
              "      <td>2</td>\n",
              "      <td>2</td>\n",
              "      <td>2</td>\n",
              "      <td>2</td>\n",
              "      <td>2</td>\n",
              "      <td>2</td>\n",
              "      <td>1518.118526</td>\n",
              "      <td>40001</td>\n",
              "      <td>2</td>\n",
              "      <td>0</td>\n",
              "    </tr>\n",
              "  </tbody>\n",
              "</table>\n",
              "</div>"
            ],
            "text/plain": [
              "      PERID  IFATHER  NRCH17_2  IRHHSIZ2  ...     ANALWT_C  VESTR  VEREP  Criminal\n",
              "0  25095143        4         2         4  ...  3884.805998  40026      1         0\n",
              "1  13005143        4         1         3  ...  1627.108106  40015      2         1\n",
              "2  67415143        4         1         2  ...  4344.957980  40024      1         0\n",
              "3  70925143        4         0         2  ...   792.521931  40027      1         0\n",
              "4  75235143        1         0         6  ...  1518.118526  40001      2         0\n",
              "\n",
              "[5 rows x 72 columns]"
            ]
          },
          "metadata": {
            "tags": []
          },
          "execution_count": 2
        }
      ]
    },
    {
      "cell_type": "markdown",
      "metadata": {
        "id": "JLlTeuaplbh7",
        "colab_type": "text"
      },
      "source": [
        "<a id = section3></a>"
      ]
    },
    {
      "cell_type": "code",
      "metadata": {
        "id": "P-5bEf6um1nX",
        "colab_type": "code",
        "outputId": "e06ee4b3-b2d2-4a78-cb75-490f0c880d48",
        "colab": {
          "base_uri": "https://localhost:8080/",
          "height": 34
        }
      },
      "source": [
        "crime.shape"
      ],
      "execution_count": 3,
      "outputs": [
        {
          "output_type": "execute_result",
          "data": {
            "text/plain": [
              "(45718, 72)"
            ]
          },
          "metadata": {
            "tags": []
          },
          "execution_count": 3
        }
      ]
    },
    {
      "cell_type": "markdown",
      "metadata": {
        "id": "NXUm7DG9lbh_",
        "colab_type": "text"
      },
      "source": [
        "## 3. Exploratory Data Analysis"
      ]
    },
    {
      "cell_type": "markdown",
      "metadata": {
        "id": "M1MlNEB0lbiA",
        "colab_type": "text"
      },
      "source": [
        "#### Check the shape of the dataset"
      ]
    },
    {
      "cell_type": "code",
      "metadata": {
        "colab_type": "code",
        "id": "r-NdDTW3ylAu",
        "outputId": "df45eb79-650c-4c08-e812-0c3530a437ba",
        "colab": {
          "base_uri": "https://localhost:8080/",
          "height": 34
        }
      },
      "source": [
        "crime.shape"
      ],
      "execution_count": 4,
      "outputs": [
        {
          "output_type": "execute_result",
          "data": {
            "text/plain": [
              "(45718, 72)"
            ]
          },
          "metadata": {
            "tags": []
          },
          "execution_count": 4
        }
      ]
    },
    {
      "cell_type": "markdown",
      "metadata": {
        "id": "X9HuPLoOlbiE",
        "colab_type": "text"
      },
      "source": [
        "#### Check the columns present in the dataset"
      ]
    },
    {
      "cell_type": "code",
      "metadata": {
        "colab_type": "code",
        "id": "fzrXmgB6yrnK",
        "outputId": "6e83e2c6-b391-4935-a75e-211b2af10681",
        "colab": {
          "base_uri": "https://localhost:8080/",
          "height": 255
        }
      },
      "source": [
        "crime.columns"
      ],
      "execution_count": 5,
      "outputs": [
        {
          "output_type": "execute_result",
          "data": {
            "text/plain": [
              "Index(['PERID', 'IFATHER', 'NRCH17_2', 'IRHHSIZ2', 'IIHHSIZ2', 'IRKI17_2',\n",
              "       'IIKI17_2', 'IRHH65_2', 'IIHH65_2', 'PRXRETRY', 'PRXYDATA', 'MEDICARE',\n",
              "       'CAIDCHIP', 'CHAMPUS', 'PRVHLTIN', 'GRPHLTIN', 'HLTINNOS', 'HLCNOTYR',\n",
              "       'HLCNOTMO', 'HLCLAST', 'HLLOSRSN', 'HLNVCOST', 'HLNVOFFR', 'HLNVREF',\n",
              "       'HLNVNEED', 'HLNVSOR', 'IRMCDCHP', 'IIMCDCHP', 'IRMEDICR', 'IIMEDICR',\n",
              "       'IRCHMPUS', 'IICHMPUS', 'IRPRVHLT', 'IIPRVHLT', 'IROTHHLT', 'IIOTHHLT',\n",
              "       'HLCALLFG', 'HLCALL99', 'ANYHLTI2', 'IRINSUR4', 'IIINSUR4', 'OTHINS',\n",
              "       'CELLNOTCL', 'CELLWRKNG', 'IRFAMSOC', 'IIFAMSOC', 'IRFAMSSI',\n",
              "       'IIFAMSSI', 'IRFSTAMP', 'IIFSTAMP', 'IRFAMPMT', 'IIFAMPMT', 'IRFAMSVC',\n",
              "       'IIFAMSVC', 'IRWELMOS', 'IIWELMOS', 'IRPINC3', 'IRFAMIN3', 'IIPINC3',\n",
              "       'IIFAMIN3', 'GOVTPROG', 'POVERTY3', 'TOOLONG', 'TROUBUND', 'PDEN10',\n",
              "       'COUTYP2', 'MAIIN102', 'AIIND102', 'ANALWT_C', 'VESTR', 'VEREP',\n",
              "       'Criminal'],\n",
              "      dtype='object')"
            ]
          },
          "metadata": {
            "tags": []
          },
          "execution_count": 5
        }
      ]
    },
    {
      "cell_type": "markdown",
      "metadata": {
        "id": "JzRdJt2UlbiJ",
        "colab_type": "text"
      },
      "source": [
        "#### Check the descriptive statistics of the dataset"
      ]
    },
    {
      "cell_type": "code",
      "metadata": {
        "id": "VOuh9hhtlbiJ",
        "colab_type": "code",
        "outputId": "e2daec71-a6cb-4fc4-ee88-a0950414f6a4",
        "colab": {
          "base_uri": "https://localhost:8080/",
          "height": 317
        }
      },
      "source": [
        "crime.describe()"
      ],
      "execution_count": 6,
      "outputs": [
        {
          "output_type": "execute_result",
          "data": {
            "text/html": [
              "<div>\n",
              "<style scoped>\n",
              "    .dataframe tbody tr th:only-of-type {\n",
              "        vertical-align: middle;\n",
              "    }\n",
              "\n",
              "    .dataframe tbody tr th {\n",
              "        vertical-align: top;\n",
              "    }\n",
              "\n",
              "    .dataframe thead th {\n",
              "        text-align: right;\n",
              "    }\n",
              "</style>\n",
              "<table border=\"1\" class=\"dataframe\">\n",
              "  <thead>\n",
              "    <tr style=\"text-align: right;\">\n",
              "      <th></th>\n",
              "      <th>PERID</th>\n",
              "      <th>IFATHER</th>\n",
              "      <th>NRCH17_2</th>\n",
              "      <th>IRHHSIZ2</th>\n",
              "      <th>IIHHSIZ2</th>\n",
              "      <th>IRKI17_2</th>\n",
              "      <th>IIKI17_2</th>\n",
              "      <th>IRHH65_2</th>\n",
              "      <th>IIHH65_2</th>\n",
              "      <th>PRXRETRY</th>\n",
              "      <th>PRXYDATA</th>\n",
              "      <th>MEDICARE</th>\n",
              "      <th>CAIDCHIP</th>\n",
              "      <th>CHAMPUS</th>\n",
              "      <th>PRVHLTIN</th>\n",
              "      <th>GRPHLTIN</th>\n",
              "      <th>HLTINNOS</th>\n",
              "      <th>HLCNOTYR</th>\n",
              "      <th>HLCNOTMO</th>\n",
              "      <th>HLCLAST</th>\n",
              "      <th>HLLOSRSN</th>\n",
              "      <th>HLNVCOST</th>\n",
              "      <th>HLNVOFFR</th>\n",
              "      <th>HLNVREF</th>\n",
              "      <th>HLNVNEED</th>\n",
              "      <th>HLNVSOR</th>\n",
              "      <th>IRMCDCHP</th>\n",
              "      <th>IIMCDCHP</th>\n",
              "      <th>IRMEDICR</th>\n",
              "      <th>IIMEDICR</th>\n",
              "      <th>IRCHMPUS</th>\n",
              "      <th>IICHMPUS</th>\n",
              "      <th>IRPRVHLT</th>\n",
              "      <th>IIPRVHLT</th>\n",
              "      <th>IROTHHLT</th>\n",
              "      <th>IIOTHHLT</th>\n",
              "      <th>HLCALLFG</th>\n",
              "      <th>HLCALL99</th>\n",
              "      <th>ANYHLTI2</th>\n",
              "      <th>IRINSUR4</th>\n",
              "      <th>IIINSUR4</th>\n",
              "      <th>OTHINS</th>\n",
              "      <th>CELLNOTCL</th>\n",
              "      <th>CELLWRKNG</th>\n",
              "      <th>IRFAMSOC</th>\n",
              "      <th>IIFAMSOC</th>\n",
              "      <th>IRFAMSSI</th>\n",
              "      <th>IIFAMSSI</th>\n",
              "      <th>IRFSTAMP</th>\n",
              "      <th>IIFSTAMP</th>\n",
              "      <th>IRFAMPMT</th>\n",
              "      <th>IIFAMPMT</th>\n",
              "      <th>IRFAMSVC</th>\n",
              "      <th>IIFAMSVC</th>\n",
              "      <th>IRWELMOS</th>\n",
              "      <th>IIWELMOS</th>\n",
              "      <th>IRPINC3</th>\n",
              "      <th>IRFAMIN3</th>\n",
              "      <th>IIPINC3</th>\n",
              "      <th>IIFAMIN3</th>\n",
              "      <th>GOVTPROG</th>\n",
              "      <th>POVERTY3</th>\n",
              "      <th>TOOLONG</th>\n",
              "      <th>TROUBUND</th>\n",
              "      <th>PDEN10</th>\n",
              "      <th>COUTYP2</th>\n",
              "      <th>MAIIN102</th>\n",
              "      <th>AIIND102</th>\n",
              "      <th>ANALWT_C</th>\n",
              "      <th>VESTR</th>\n",
              "      <th>VEREP</th>\n",
              "      <th>Criminal</th>\n",
              "    </tr>\n",
              "  </thead>\n",
              "  <tbody>\n",
              "    <tr>\n",
              "      <th>count</th>\n",
              "      <td>4.571800e+04</td>\n",
              "      <td>45718.000000</td>\n",
              "      <td>45718.000000</td>\n",
              "      <td>45718.000000</td>\n",
              "      <td>45718.000000</td>\n",
              "      <td>45718.000000</td>\n",
              "      <td>45718.000000</td>\n",
              "      <td>45718.000000</td>\n",
              "      <td>45718.000000</td>\n",
              "      <td>45718.000000</td>\n",
              "      <td>45718.000000</td>\n",
              "      <td>45718.000000</td>\n",
              "      <td>45718.000000</td>\n",
              "      <td>45718.000000</td>\n",
              "      <td>45718.000000</td>\n",
              "      <td>45718.000000</td>\n",
              "      <td>45718.000000</td>\n",
              "      <td>45718.000000</td>\n",
              "      <td>45718.000000</td>\n",
              "      <td>45718.000000</td>\n",
              "      <td>45718.000000</td>\n",
              "      <td>45718.000000</td>\n",
              "      <td>45718.000000</td>\n",
              "      <td>45718.000000</td>\n",
              "      <td>45718.000000</td>\n",
              "      <td>45718.000000</td>\n",
              "      <td>45718.000000</td>\n",
              "      <td>45718.000000</td>\n",
              "      <td>45718.000000</td>\n",
              "      <td>45718.000000</td>\n",
              "      <td>45718.000000</td>\n",
              "      <td>45718.000000</td>\n",
              "      <td>45718.000000</td>\n",
              "      <td>45718.000000</td>\n",
              "      <td>45718.000000</td>\n",
              "      <td>45718.000000</td>\n",
              "      <td>45718.000000</td>\n",
              "      <td>45718.000000</td>\n",
              "      <td>45718.000000</td>\n",
              "      <td>45718.000000</td>\n",
              "      <td>45718.000000</td>\n",
              "      <td>45718.000000</td>\n",
              "      <td>45718.000000</td>\n",
              "      <td>45718.000000</td>\n",
              "      <td>45718.000000</td>\n",
              "      <td>45718.000000</td>\n",
              "      <td>45718.000000</td>\n",
              "      <td>45718.000000</td>\n",
              "      <td>45718.000000</td>\n",
              "      <td>45718.000000</td>\n",
              "      <td>45718.000000</td>\n",
              "      <td>45718.000000</td>\n",
              "      <td>45718.000000</td>\n",
              "      <td>45718.000000</td>\n",
              "      <td>45718.000000</td>\n",
              "      <td>45718.000000</td>\n",
              "      <td>45718.000000</td>\n",
              "      <td>45718.000000</td>\n",
              "      <td>45718.000000</td>\n",
              "      <td>45718.000000</td>\n",
              "      <td>45718.000000</td>\n",
              "      <td>45718.000000</td>\n",
              "      <td>45718.000000</td>\n",
              "      <td>45718.000000</td>\n",
              "      <td>45718.000000</td>\n",
              "      <td>45718.000000</td>\n",
              "      <td>45718.000000</td>\n",
              "      <td>45718.000000</td>\n",
              "      <td>45718.000000</td>\n",
              "      <td>45718.000000</td>\n",
              "      <td>45718.000000</td>\n",
              "      <td>45718.000000</td>\n",
              "    </tr>\n",
              "    <tr>\n",
              "      <th>mean</th>\n",
              "      <td>5.445446e+07</td>\n",
              "      <td>3.355549</td>\n",
              "      <td>0.476486</td>\n",
              "      <td>3.426375</td>\n",
              "      <td>1.001706</td>\n",
              "      <td>2.084124</td>\n",
              "      <td>1.007437</td>\n",
              "      <td>1.162606</td>\n",
              "      <td>1.011024</td>\n",
              "      <td>97.394943</td>\n",
              "      <td>70.874098</td>\n",
              "      <td>2.371451</td>\n",
              "      <td>2.652085</td>\n",
              "      <td>2.224485</td>\n",
              "      <td>2.043200</td>\n",
              "      <td>39.552080</td>\n",
              "      <td>86.073953</td>\n",
              "      <td>12.847806</td>\n",
              "      <td>92.272890</td>\n",
              "      <td>89.323352</td>\n",
              "      <td>91.318190</td>\n",
              "      <td>97.102432</td>\n",
              "      <td>97.136883</td>\n",
              "      <td>97.148804</td>\n",
              "      <td>97.132071</td>\n",
              "      <td>97.137211</td>\n",
              "      <td>1.772475</td>\n",
              "      <td>1.019073</td>\n",
              "      <td>1.916729</td>\n",
              "      <td>1.009712</td>\n",
              "      <td>1.961787</td>\n",
              "      <td>1.005556</td>\n",
              "      <td>1.387462</td>\n",
              "      <td>1.013999</td>\n",
              "      <td>85.760160</td>\n",
              "      <td>7.881053</td>\n",
              "      <td>97.976574</td>\n",
              "      <td>97.976574</td>\n",
              "      <td>1.971499</td>\n",
              "      <td>1.103920</td>\n",
              "      <td>1.018461</td>\n",
              "      <td>1.855046</td>\n",
              "      <td>1.741174</td>\n",
              "      <td>1.144823</td>\n",
              "      <td>1.837941</td>\n",
              "      <td>1.018767</td>\n",
              "      <td>1.931602</td>\n",
              "      <td>1.018898</td>\n",
              "      <td>1.800035</td>\n",
              "      <td>1.009930</td>\n",
              "      <td>1.973205</td>\n",
              "      <td>1.014786</td>\n",
              "      <td>1.963844</td>\n",
              "      <td>1.011243</td>\n",
              "      <td>94.126887</td>\n",
              "      <td>8.524739</td>\n",
              "      <td>2.584649</td>\n",
              "      <td>4.750470</td>\n",
              "      <td>1.061420</td>\n",
              "      <td>1.194015</td>\n",
              "      <td>1.762676</td>\n",
              "      <td>2.338138</td>\n",
              "      <td>2.219410</td>\n",
              "      <td>2.234940</td>\n",
              "      <td>1.646135</td>\n",
              "      <td>1.764666</td>\n",
              "      <td>1.978936</td>\n",
              "      <td>1.978739</td>\n",
              "      <td>4692.661179</td>\n",
              "      <td>40023.739118</td>\n",
              "      <td>1.493854</td>\n",
              "      <td>0.069447</td>\n",
              "    </tr>\n",
              "    <tr>\n",
              "      <th>std</th>\n",
              "      <td>2.553911e+07</td>\n",
              "      <td>1.176651</td>\n",
              "      <td>0.888472</td>\n",
              "      <td>1.427420</td>\n",
              "      <td>0.061314</td>\n",
              "      <td>1.102988</td>\n",
              "      <td>0.123162</td>\n",
              "      <td>0.469029</td>\n",
              "      <td>0.146444</td>\n",
              "      <td>12.355156</td>\n",
              "      <td>44.325675</td>\n",
              "      <td>6.489921</td>\n",
              "      <td>8.948287</td>\n",
              "      <td>4.944784</td>\n",
              "      <td>7.809352</td>\n",
              "      <td>47.786379</td>\n",
              "      <td>33.008420</td>\n",
              "      <td>30.646313</td>\n",
              "      <td>24.257115</td>\n",
              "      <td>28.853064</td>\n",
              "      <td>25.805476</td>\n",
              "      <td>13.293939</td>\n",
              "      <td>13.049070</td>\n",
              "      <td>12.963239</td>\n",
              "      <td>13.083555</td>\n",
              "      <td>13.046715</td>\n",
              "      <td>0.419552</td>\n",
              "      <td>0.195279</td>\n",
              "      <td>0.276770</td>\n",
              "      <td>0.140284</td>\n",
              "      <td>0.192394</td>\n",
              "      <td>0.106916</td>\n",
              "      <td>0.487445</td>\n",
              "      <td>0.167787</td>\n",
              "      <td>33.348993</td>\n",
              "      <td>2.754865</td>\n",
              "      <td>1.510135</td>\n",
              "      <td>1.510135</td>\n",
              "      <td>8.988804</td>\n",
              "      <td>0.305589</td>\n",
              "      <td>0.192177</td>\n",
              "      <td>0.352431</td>\n",
              "      <td>4.071442</td>\n",
              "      <td>3.421477</td>\n",
              "      <td>0.368865</td>\n",
              "      <td>0.193734</td>\n",
              "      <td>0.252949</td>\n",
              "      <td>0.194398</td>\n",
              "      <td>0.400306</td>\n",
              "      <td>0.141819</td>\n",
              "      <td>0.162295</td>\n",
              "      <td>0.172350</td>\n",
              "      <td>0.187383</td>\n",
              "      <td>0.150698</td>\n",
              "      <td>20.472772</td>\n",
              "      <td>1.859006</td>\n",
              "      <td>1.985797</td>\n",
              "      <td>2.106725</td>\n",
              "      <td>0.345572</td>\n",
              "      <td>0.592239</td>\n",
              "      <td>0.425756</td>\n",
              "      <td>0.849732</td>\n",
              "      <td>5.295784</td>\n",
              "      <td>5.293651</td>\n",
              "      <td>0.618403</td>\n",
              "      <td>0.771411</td>\n",
              "      <td>0.144510</td>\n",
              "      <td>0.145161</td>\n",
              "      <td>5724.659486</td>\n",
              "      <td>265.140430</td>\n",
              "      <td>0.500230</td>\n",
              "      <td>0.254216</td>\n",
              "    </tr>\n",
              "    <tr>\n",
              "      <th>min</th>\n",
              "      <td>1.000222e+07</td>\n",
              "      <td>-1.000000</td>\n",
              "      <td>-1.000000</td>\n",
              "      <td>-1.000000</td>\n",
              "      <td>-1.000000</td>\n",
              "      <td>-1.000000</td>\n",
              "      <td>-1.000000</td>\n",
              "      <td>-1.000000</td>\n",
              "      <td>-1.000000</td>\n",
              "      <td>-1.000000</td>\n",
              "      <td>-1.000000</td>\n",
              "      <td>-1.000000</td>\n",
              "      <td>-1.000000</td>\n",
              "      <td>-1.000000</td>\n",
              "      <td>-1.000000</td>\n",
              "      <td>-1.000000</td>\n",
              "      <td>-1.000000</td>\n",
              "      <td>-1.000000</td>\n",
              "      <td>-1.000000</td>\n",
              "      <td>-1.000000</td>\n",
              "      <td>-1.000000</td>\n",
              "      <td>-1.000000</td>\n",
              "      <td>-1.000000</td>\n",
              "      <td>-1.000000</td>\n",
              "      <td>-1.000000</td>\n",
              "      <td>-1.000000</td>\n",
              "      <td>-1.000000</td>\n",
              "      <td>-1.000000</td>\n",
              "      <td>-1.000000</td>\n",
              "      <td>-1.000000</td>\n",
              "      <td>-1.000000</td>\n",
              "      <td>-1.000000</td>\n",
              "      <td>-1.000000</td>\n",
              "      <td>-1.000000</td>\n",
              "      <td>-1.000000</td>\n",
              "      <td>-1.000000</td>\n",
              "      <td>-1.000000</td>\n",
              "      <td>-1.000000</td>\n",
              "      <td>-1.000000</td>\n",
              "      <td>-1.000000</td>\n",
              "      <td>-1.000000</td>\n",
              "      <td>-1.000000</td>\n",
              "      <td>-1.000000</td>\n",
              "      <td>-1.000000</td>\n",
              "      <td>-1.000000</td>\n",
              "      <td>-1.000000</td>\n",
              "      <td>-1.000000</td>\n",
              "      <td>-1.000000</td>\n",
              "      <td>-1.000000</td>\n",
              "      <td>-1.000000</td>\n",
              "      <td>-1.000000</td>\n",
              "      <td>-1.000000</td>\n",
              "      <td>-1.000000</td>\n",
              "      <td>-1.000000</td>\n",
              "      <td>-1.000000</td>\n",
              "      <td>-1.000000</td>\n",
              "      <td>-1.000000</td>\n",
              "      <td>-1.000000</td>\n",
              "      <td>-1.000000</td>\n",
              "      <td>-1.000000</td>\n",
              "      <td>-1.000000</td>\n",
              "      <td>-1.000000</td>\n",
              "      <td>-1.000000</td>\n",
              "      <td>-1.000000</td>\n",
              "      <td>-1.000000</td>\n",
              "      <td>-1.000000</td>\n",
              "      <td>-1.000000</td>\n",
              "      <td>-1.000000</td>\n",
              "      <td>-1.000000</td>\n",
              "      <td>-1.000000</td>\n",
              "      <td>-1.000000</td>\n",
              "      <td>0.000000</td>\n",
              "    </tr>\n",
              "    <tr>\n",
              "      <th>25%</th>\n",
              "      <td>3.233189e+07</td>\n",
              "      <td>4.000000</td>\n",
              "      <td>0.000000</td>\n",
              "      <td>2.000000</td>\n",
              "      <td>1.000000</td>\n",
              "      <td>1.000000</td>\n",
              "      <td>1.000000</td>\n",
              "      <td>1.000000</td>\n",
              "      <td>1.000000</td>\n",
              "      <td>99.000000</td>\n",
              "      <td>1.000000</td>\n",
              "      <td>2.000000</td>\n",
              "      <td>2.000000</td>\n",
              "      <td>2.000000</td>\n",
              "      <td>1.000000</td>\n",
              "      <td>1.000000</td>\n",
              "      <td>99.000000</td>\n",
              "      <td>2.000000</td>\n",
              "      <td>99.000000</td>\n",
              "      <td>99.000000</td>\n",
              "      <td>99.000000</td>\n",
              "      <td>99.000000</td>\n",
              "      <td>99.000000</td>\n",
              "      <td>99.000000</td>\n",
              "      <td>99.000000</td>\n",
              "      <td>99.000000</td>\n",
              "      <td>2.000000</td>\n",
              "      <td>1.000000</td>\n",
              "      <td>2.000000</td>\n",
              "      <td>1.000000</td>\n",
              "      <td>2.000000</td>\n",
              "      <td>1.000000</td>\n",
              "      <td>1.000000</td>\n",
              "      <td>1.000000</td>\n",
              "      <td>99.000000</td>\n",
              "      <td>9.000000</td>\n",
              "      <td>98.000000</td>\n",
              "      <td>98.000000</td>\n",
              "      <td>1.000000</td>\n",
              "      <td>1.000000</td>\n",
              "      <td>1.000000</td>\n",
              "      <td>2.000000</td>\n",
              "      <td>1.000000</td>\n",
              "      <td>1.000000</td>\n",
              "      <td>2.000000</td>\n",
              "      <td>1.000000</td>\n",
              "      <td>2.000000</td>\n",
              "      <td>1.000000</td>\n",
              "      <td>2.000000</td>\n",
              "      <td>1.000000</td>\n",
              "      <td>2.000000</td>\n",
              "      <td>1.000000</td>\n",
              "      <td>2.000000</td>\n",
              "      <td>1.000000</td>\n",
              "      <td>99.000000</td>\n",
              "      <td>9.000000</td>\n",
              "      <td>1.000000</td>\n",
              "      <td>3.000000</td>\n",
              "      <td>1.000000</td>\n",
              "      <td>1.000000</td>\n",
              "      <td>2.000000</td>\n",
              "      <td>2.000000</td>\n",
              "      <td>2.000000</td>\n",
              "      <td>2.000000</td>\n",
              "      <td>1.000000</td>\n",
              "      <td>1.000000</td>\n",
              "      <td>2.000000</td>\n",
              "      <td>2.000000</td>\n",
              "      <td>1252.396472</td>\n",
              "      <td>40013.000000</td>\n",
              "      <td>1.000000</td>\n",
              "      <td>0.000000</td>\n",
              "    </tr>\n",
              "    <tr>\n",
              "      <th>50%</th>\n",
              "      <td>5.411043e+07</td>\n",
              "      <td>4.000000</td>\n",
              "      <td>0.000000</td>\n",
              "      <td>3.000000</td>\n",
              "      <td>1.000000</td>\n",
              "      <td>2.000000</td>\n",
              "      <td>1.000000</td>\n",
              "      <td>1.000000</td>\n",
              "      <td>1.000000</td>\n",
              "      <td>99.000000</td>\n",
              "      <td>99.000000</td>\n",
              "      <td>2.000000</td>\n",
              "      <td>2.000000</td>\n",
              "      <td>2.000000</td>\n",
              "      <td>1.000000</td>\n",
              "      <td>1.000000</td>\n",
              "      <td>99.000000</td>\n",
              "      <td>2.000000</td>\n",
              "      <td>99.000000</td>\n",
              "      <td>99.000000</td>\n",
              "      <td>99.000000</td>\n",
              "      <td>99.000000</td>\n",
              "      <td>99.000000</td>\n",
              "      <td>99.000000</td>\n",
              "      <td>99.000000</td>\n",
              "      <td>99.000000</td>\n",
              "      <td>2.000000</td>\n",
              "      <td>1.000000</td>\n",
              "      <td>2.000000</td>\n",
              "      <td>1.000000</td>\n",
              "      <td>2.000000</td>\n",
              "      <td>1.000000</td>\n",
              "      <td>1.000000</td>\n",
              "      <td>1.000000</td>\n",
              "      <td>99.000000</td>\n",
              "      <td>9.000000</td>\n",
              "      <td>98.000000</td>\n",
              "      <td>98.000000</td>\n",
              "      <td>1.000000</td>\n",
              "      <td>1.000000</td>\n",
              "      <td>1.000000</td>\n",
              "      <td>2.000000</td>\n",
              "      <td>2.000000</td>\n",
              "      <td>1.000000</td>\n",
              "      <td>2.000000</td>\n",
              "      <td>1.000000</td>\n",
              "      <td>2.000000</td>\n",
              "      <td>1.000000</td>\n",
              "      <td>2.000000</td>\n",
              "      <td>1.000000</td>\n",
              "      <td>2.000000</td>\n",
              "      <td>1.000000</td>\n",
              "      <td>2.000000</td>\n",
              "      <td>1.000000</td>\n",
              "      <td>99.000000</td>\n",
              "      <td>9.000000</td>\n",
              "      <td>2.000000</td>\n",
              "      <td>5.000000</td>\n",
              "      <td>1.000000</td>\n",
              "      <td>1.000000</td>\n",
              "      <td>2.000000</td>\n",
              "      <td>3.000000</td>\n",
              "      <td>2.000000</td>\n",
              "      <td>2.000000</td>\n",
              "      <td>2.000000</td>\n",
              "      <td>2.000000</td>\n",
              "      <td>2.000000</td>\n",
              "      <td>2.000000</td>\n",
              "      <td>2719.335160</td>\n",
              "      <td>40025.000000</td>\n",
              "      <td>1.000000</td>\n",
              "      <td>0.000000</td>\n",
              "    </tr>\n",
              "    <tr>\n",
              "      <th>75%</th>\n",
              "      <td>7.612731e+07</td>\n",
              "      <td>4.000000</td>\n",
              "      <td>1.000000</td>\n",
              "      <td>4.000000</td>\n",
              "      <td>1.000000</td>\n",
              "      <td>3.000000</td>\n",
              "      <td>1.000000</td>\n",
              "      <td>1.000000</td>\n",
              "      <td>1.000000</td>\n",
              "      <td>99.000000</td>\n",
              "      <td>99.000000</td>\n",
              "      <td>2.000000</td>\n",
              "      <td>2.000000</td>\n",
              "      <td>2.000000</td>\n",
              "      <td>2.000000</td>\n",
              "      <td>99.000000</td>\n",
              "      <td>99.000000</td>\n",
              "      <td>2.000000</td>\n",
              "      <td>99.000000</td>\n",
              "      <td>99.000000</td>\n",
              "      <td>99.000000</td>\n",
              "      <td>99.000000</td>\n",
              "      <td>99.000000</td>\n",
              "      <td>99.000000</td>\n",
              "      <td>99.000000</td>\n",
              "      <td>99.000000</td>\n",
              "      <td>2.000000</td>\n",
              "      <td>1.000000</td>\n",
              "      <td>2.000000</td>\n",
              "      <td>1.000000</td>\n",
              "      <td>2.000000</td>\n",
              "      <td>1.000000</td>\n",
              "      <td>2.000000</td>\n",
              "      <td>1.000000</td>\n",
              "      <td>99.000000</td>\n",
              "      <td>9.000000</td>\n",
              "      <td>98.000000</td>\n",
              "      <td>98.000000</td>\n",
              "      <td>1.000000</td>\n",
              "      <td>1.000000</td>\n",
              "      <td>1.000000</td>\n",
              "      <td>2.000000</td>\n",
              "      <td>2.000000</td>\n",
              "      <td>1.000000</td>\n",
              "      <td>2.000000</td>\n",
              "      <td>1.000000</td>\n",
              "      <td>2.000000</td>\n",
              "      <td>1.000000</td>\n",
              "      <td>2.000000</td>\n",
              "      <td>1.000000</td>\n",
              "      <td>2.000000</td>\n",
              "      <td>1.000000</td>\n",
              "      <td>2.000000</td>\n",
              "      <td>1.000000</td>\n",
              "      <td>99.000000</td>\n",
              "      <td>9.000000</td>\n",
              "      <td>4.000000</td>\n",
              "      <td>7.000000</td>\n",
              "      <td>1.000000</td>\n",
              "      <td>1.000000</td>\n",
              "      <td>2.000000</td>\n",
              "      <td>3.000000</td>\n",
              "      <td>2.000000</td>\n",
              "      <td>2.000000</td>\n",
              "      <td>2.000000</td>\n",
              "      <td>2.000000</td>\n",
              "      <td>2.000000</td>\n",
              "      <td>2.000000</td>\n",
              "      <td>5765.810794</td>\n",
              "      <td>40039.000000</td>\n",
              "      <td>2.000000</td>\n",
              "      <td>0.000000</td>\n",
              "    </tr>\n",
              "    <tr>\n",
              "      <th>max</th>\n",
              "      <td>9.999956e+07</td>\n",
              "      <td>4.000000</td>\n",
              "      <td>3.000000</td>\n",
              "      <td>6.000000</td>\n",
              "      <td>3.000000</td>\n",
              "      <td>4.000000</td>\n",
              "      <td>3.000000</td>\n",
              "      <td>3.000000</td>\n",
              "      <td>3.000000</td>\n",
              "      <td>99.000000</td>\n",
              "      <td>99.000000</td>\n",
              "      <td>98.000000</td>\n",
              "      <td>98.000000</td>\n",
              "      <td>98.000000</td>\n",
              "      <td>98.000000</td>\n",
              "      <td>99.000000</td>\n",
              "      <td>99.000000</td>\n",
              "      <td>99.000000</td>\n",
              "      <td>99.000000</td>\n",
              "      <td>99.000000</td>\n",
              "      <td>99.000000</td>\n",
              "      <td>99.000000</td>\n",
              "      <td>99.000000</td>\n",
              "      <td>99.000000</td>\n",
              "      <td>99.000000</td>\n",
              "      <td>99.000000</td>\n",
              "      <td>2.000000</td>\n",
              "      <td>3.000000</td>\n",
              "      <td>2.000000</td>\n",
              "      <td>3.000000</td>\n",
              "      <td>2.000000</td>\n",
              "      <td>3.000000</td>\n",
              "      <td>2.000000</td>\n",
              "      <td>3.000000</td>\n",
              "      <td>99.000000</td>\n",
              "      <td>9.000000</td>\n",
              "      <td>98.000000</td>\n",
              "      <td>98.000000</td>\n",
              "      <td>98.000000</td>\n",
              "      <td>2.000000</td>\n",
              "      <td>3.000000</td>\n",
              "      <td>2.000000</td>\n",
              "      <td>98.000000</td>\n",
              "      <td>98.000000</td>\n",
              "      <td>2.000000</td>\n",
              "      <td>3.000000</td>\n",
              "      <td>2.000000</td>\n",
              "      <td>3.000000</td>\n",
              "      <td>2.000000</td>\n",
              "      <td>3.000000</td>\n",
              "      <td>2.000000</td>\n",
              "      <td>3.000000</td>\n",
              "      <td>2.000000</td>\n",
              "      <td>3.000000</td>\n",
              "      <td>99.000000</td>\n",
              "      <td>9.000000</td>\n",
              "      <td>7.000000</td>\n",
              "      <td>7.000000</td>\n",
              "      <td>3.000000</td>\n",
              "      <td>3.000000</td>\n",
              "      <td>2.000000</td>\n",
              "      <td>3.000000</td>\n",
              "      <td>98.000000</td>\n",
              "      <td>98.000000</td>\n",
              "      <td>3.000000</td>\n",
              "      <td>3.000000</td>\n",
              "      <td>2.000000</td>\n",
              "      <td>2.000000</td>\n",
              "      <td>109100.623000</td>\n",
              "      <td>40050.000000</td>\n",
              "      <td>2.000000</td>\n",
              "      <td>1.000000</td>\n",
              "    </tr>\n",
              "  </tbody>\n",
              "</table>\n",
              "</div>"
            ],
            "text/plain": [
              "              PERID       IFATHER  ...         VEREP      Criminal\n",
              "count  4.571800e+04  45718.000000  ...  45718.000000  45718.000000\n",
              "mean   5.445446e+07      3.355549  ...      1.493854      0.069447\n",
              "std    2.553911e+07      1.176651  ...      0.500230      0.254216\n",
              "min    1.000222e+07     -1.000000  ...     -1.000000      0.000000\n",
              "25%    3.233189e+07      4.000000  ...      1.000000      0.000000\n",
              "50%    5.411043e+07      4.000000  ...      1.000000      0.000000\n",
              "75%    7.612731e+07      4.000000  ...      2.000000      0.000000\n",
              "max    9.999956e+07      4.000000  ...      2.000000      1.000000\n",
              "\n",
              "[8 rows x 72 columns]"
            ]
          },
          "metadata": {
            "tags": []
          },
          "execution_count": 6
        }
      ]
    },
    {
      "cell_type": "markdown",
      "metadata": {
        "id": "pu2hpOxJlbiO",
        "colab_type": "text"
      },
      "source": [
        "#### Check the info of the dataset"
      ]
    },
    {
      "cell_type": "code",
      "metadata": {
        "id": "olXEYpXglbiP",
        "colab_type": "code",
        "outputId": "b68bca03-82db-4a69-bdb9-f7f683269518",
        "colab": {
          "base_uri": "https://localhost:8080/",
          "height": 1000
        }
      },
      "source": [
        "crime.info()"
      ],
      "execution_count": 7,
      "outputs": [
        {
          "output_type": "stream",
          "text": [
            "<class 'pandas.core.frame.DataFrame'>\n",
            "RangeIndex: 45718 entries, 0 to 45717\n",
            "Data columns (total 72 columns):\n",
            "PERID        45718 non-null int64\n",
            "IFATHER      45718 non-null int64\n",
            "NRCH17_2     45718 non-null int64\n",
            "IRHHSIZ2     45718 non-null int64\n",
            "IIHHSIZ2     45718 non-null int64\n",
            "IRKI17_2     45718 non-null int64\n",
            "IIKI17_2     45718 non-null int64\n",
            "IRHH65_2     45718 non-null int64\n",
            "IIHH65_2     45718 non-null int64\n",
            "PRXRETRY     45718 non-null int64\n",
            "PRXYDATA     45718 non-null int64\n",
            "MEDICARE     45718 non-null int64\n",
            "CAIDCHIP     45718 non-null int64\n",
            "CHAMPUS      45718 non-null int64\n",
            "PRVHLTIN     45718 non-null int64\n",
            "GRPHLTIN     45718 non-null int64\n",
            "HLTINNOS     45718 non-null int64\n",
            "HLCNOTYR     45718 non-null int64\n",
            "HLCNOTMO     45718 non-null int64\n",
            "HLCLAST      45718 non-null int64\n",
            "HLLOSRSN     45718 non-null int64\n",
            "HLNVCOST     45718 non-null int64\n",
            "HLNVOFFR     45718 non-null int64\n",
            "HLNVREF      45718 non-null int64\n",
            "HLNVNEED     45718 non-null int64\n",
            "HLNVSOR      45718 non-null int64\n",
            "IRMCDCHP     45718 non-null int64\n",
            "IIMCDCHP     45718 non-null int64\n",
            "IRMEDICR     45718 non-null int64\n",
            "IIMEDICR     45718 non-null int64\n",
            "IRCHMPUS     45718 non-null int64\n",
            "IICHMPUS     45718 non-null int64\n",
            "IRPRVHLT     45718 non-null int64\n",
            "IIPRVHLT     45718 non-null int64\n",
            "IROTHHLT     45718 non-null int64\n",
            "IIOTHHLT     45718 non-null int64\n",
            "HLCALLFG     45718 non-null int64\n",
            "HLCALL99     45718 non-null int64\n",
            "ANYHLTI2     45718 non-null int64\n",
            "IRINSUR4     45718 non-null int64\n",
            "IIINSUR4     45718 non-null int64\n",
            "OTHINS       45718 non-null int64\n",
            "CELLNOTCL    45718 non-null int64\n",
            "CELLWRKNG    45718 non-null int64\n",
            "IRFAMSOC     45718 non-null int64\n",
            "IIFAMSOC     45718 non-null int64\n",
            "IRFAMSSI     45718 non-null int64\n",
            "IIFAMSSI     45718 non-null int64\n",
            "IRFSTAMP     45718 non-null int64\n",
            "IIFSTAMP     45718 non-null int64\n",
            "IRFAMPMT     45718 non-null int64\n",
            "IIFAMPMT     45718 non-null int64\n",
            "IRFAMSVC     45718 non-null int64\n",
            "IIFAMSVC     45718 non-null int64\n",
            "IRWELMOS     45718 non-null int64\n",
            "IIWELMOS     45718 non-null int64\n",
            "IRPINC3      45718 non-null int64\n",
            "IRFAMIN3     45718 non-null int64\n",
            "IIPINC3      45718 non-null int64\n",
            "IIFAMIN3     45718 non-null int64\n",
            "GOVTPROG     45718 non-null int64\n",
            "POVERTY3     45718 non-null int64\n",
            "TOOLONG      45718 non-null int64\n",
            "TROUBUND     45718 non-null int64\n",
            "PDEN10       45718 non-null int64\n",
            "COUTYP2      45718 non-null int64\n",
            "MAIIN102     45718 non-null int64\n",
            "AIIND102     45718 non-null int64\n",
            "ANALWT_C     45718 non-null float64\n",
            "VESTR        45718 non-null int64\n",
            "VEREP        45718 non-null int64\n",
            "Criminal     45718 non-null int64\n",
            "dtypes: float64(1), int64(71)\n",
            "memory usage: 25.1 MB\n"
          ],
          "name": "stdout"
        }
      ]
    },
    {
      "cell_type": "markdown",
      "metadata": {
        "id": "_2gc5QE_lbiR",
        "colab_type": "text"
      },
      "source": [
        "#### Check the missing values present in the dataset. "
      ]
    },
    {
      "cell_type": "code",
      "metadata": {
        "id": "60knZimLlbiS",
        "colab_type": "code",
        "outputId": "d854b462-7a41-4354-849e-c5ab0c4aabc0",
        "colab": {
          "base_uri": "https://localhost:8080/",
          "height": 221
        }
      },
      "source": [
        "crime.isnull().sum()"
      ],
      "execution_count": 8,
      "outputs": [
        {
          "output_type": "execute_result",
          "data": {
            "text/plain": [
              "PERID       0\n",
              "IFATHER     0\n",
              "NRCH17_2    0\n",
              "IRHHSIZ2    0\n",
              "IIHHSIZ2    0\n",
              "           ..\n",
              "AIIND102    0\n",
              "ANALWT_C    0\n",
              "VESTR       0\n",
              "VEREP       0\n",
              "Criminal    0\n",
              "Length: 72, dtype: int64"
            ]
          },
          "metadata": {
            "tags": []
          },
          "execution_count": 8
        }
      ]
    },
    {
      "cell_type": "markdown",
      "metadata": {
        "id": "DZ4KLRXQlbiY",
        "colab_type": "text"
      },
      "source": [
        "<a id = section4></a>"
      ]
    },
    {
      "cell_type": "markdown",
      "metadata": {
        "id": "ANmLn8wNlbiY",
        "colab_type": "text"
      },
      "source": [
        "## 4. Random Forest Classifier"
      ]
    },
    {
      "cell_type": "code",
      "metadata": {
        "id": "Tbkdk2sGnGoh",
        "colab_type": "code",
        "outputId": "682b240f-5f97-4648-ebc7-67ed60be5060",
        "colab": {
          "base_uri": "https://localhost:8080/",
          "height": 285
        }
      },
      "source": [
        "crime.Criminal.hist()"
      ],
      "execution_count": 9,
      "outputs": [
        {
          "output_type": "execute_result",
          "data": {
            "text/plain": [
              "<matplotlib.axes._subplots.AxesSubplot at 0x7f409745efd0>"
            ]
          },
          "metadata": {
            "tags": []
          },
          "execution_count": 9
        },
        {
          "output_type": "display_data",
          "data": {
            "image/png": "[encoded data removed]",
            "text/plain": [
              "<Figure size 432x288 with 1 Axes>"
            ]
          },
          "metadata": {
            "tags": []
          }
        }
      ]
    },
    {
      "cell_type": "markdown",
      "metadata": {
        "id": "dj6IeLOmlbiZ",
        "colab_type": "text"
      },
      "source": [
        "#### Preparing X and y using pandas"
      ]
    },
    {
      "cell_type": "code",
      "metadata": {
        "id": "krxx7nD1lbia",
        "colab_type": "code",
        "outputId": "b9c2b304-16d4-4023-e5f3-860527cefcef",
        "colab": {
          "base_uri": "https://localhost:8080/",
          "height": 224
        }
      },
      "source": [
        "X = crime.drop(['Criminal'], axis=1)\n",
        "X.head()"
      ],
      "execution_count": 10,
      "outputs": [
        {
          "output_type": "execute_result",
          "data": {
            "text/html": [
              "<div>\n",
              "<style scoped>\n",
              "    .dataframe tbody tr th:only-of-type {\n",
              "        vertical-align: middle;\n",
              "    }\n",
              "\n",
              "    .dataframe tbody tr th {\n",
              "        vertical-align: top;\n",
              "    }\n",
              "\n",
              "    .dataframe thead th {\n",
              "        text-align: right;\n",
              "    }\n",
              "</style>\n",
              "<table border=\"1\" class=\"dataframe\">\n",
              "  <thead>\n",
              "    <tr style=\"text-align: right;\">\n",
              "      <th></th>\n",
              "      <th>PERID</th>\n",
              "      <th>IFATHER</th>\n",
              "      <th>NRCH17_2</th>\n",
              "      <th>IRHHSIZ2</th>\n",
              "      <th>IIHHSIZ2</th>\n",
              "      <th>IRKI17_2</th>\n",
              "      <th>IIKI17_2</th>\n",
              "      <th>IRHH65_2</th>\n",
              "      <th>IIHH65_2</th>\n",
              "      <th>PRXRETRY</th>\n",
              "      <th>PRXYDATA</th>\n",
              "      <th>MEDICARE</th>\n",
              "      <th>CAIDCHIP</th>\n",
              "      <th>CHAMPUS</th>\n",
              "      <th>PRVHLTIN</th>\n",
              "      <th>GRPHLTIN</th>\n",
              "      <th>HLTINNOS</th>\n",
              "      <th>HLCNOTYR</th>\n",
              "      <th>HLCNOTMO</th>\n",
              "      <th>HLCLAST</th>\n",
              "      <th>HLLOSRSN</th>\n",
              "      <th>HLNVCOST</th>\n",
              "      <th>HLNVOFFR</th>\n",
              "      <th>HLNVREF</th>\n",
              "      <th>HLNVNEED</th>\n",
              "      <th>HLNVSOR</th>\n",
              "      <th>IRMCDCHP</th>\n",
              "      <th>IIMCDCHP</th>\n",
              "      <th>IRMEDICR</th>\n",
              "      <th>IIMEDICR</th>\n",
              "      <th>IRCHMPUS</th>\n",
              "      <th>IICHMPUS</th>\n",
              "      <th>IRPRVHLT</th>\n",
              "      <th>IIPRVHLT</th>\n",
              "      <th>IROTHHLT</th>\n",
              "      <th>IIOTHHLT</th>\n",
              "      <th>HLCALLFG</th>\n",
              "      <th>HLCALL99</th>\n",
              "      <th>ANYHLTI2</th>\n",
              "      <th>IRINSUR4</th>\n",
              "      <th>IIINSUR4</th>\n",
              "      <th>OTHINS</th>\n",
              "      <th>CELLNOTCL</th>\n",
              "      <th>CELLWRKNG</th>\n",
              "      <th>IRFAMSOC</th>\n",
              "      <th>IIFAMSOC</th>\n",
              "      <th>IRFAMSSI</th>\n",
              "      <th>IIFAMSSI</th>\n",
              "      <th>IRFSTAMP</th>\n",
              "      <th>IIFSTAMP</th>\n",
              "      <th>IRFAMPMT</th>\n",
              "      <th>IIFAMPMT</th>\n",
              "      <th>IRFAMSVC</th>\n",
              "      <th>IIFAMSVC</th>\n",
              "      <th>IRWELMOS</th>\n",
              "      <th>IIWELMOS</th>\n",
              "      <th>IRPINC3</th>\n",
              "      <th>IRFAMIN3</th>\n",
              "      <th>IIPINC3</th>\n",
              "      <th>IIFAMIN3</th>\n",
              "      <th>GOVTPROG</th>\n",
              "      <th>POVERTY3</th>\n",
              "      <th>TOOLONG</th>\n",
              "      <th>TROUBUND</th>\n",
              "      <th>PDEN10</th>\n",
              "      <th>COUTYP2</th>\n",
              "      <th>MAIIN102</th>\n",
              "      <th>AIIND102</th>\n",
              "      <th>ANALWT_C</th>\n",
              "      <th>VESTR</th>\n",
              "      <th>VEREP</th>\n",
              "    </tr>\n",
              "  </thead>\n",
              "  <tbody>\n",
              "    <tr>\n",
              "      <th>0</th>\n",
              "      <td>25095143</td>\n",
              "      <td>4</td>\n",
              "      <td>2</td>\n",
              "      <td>4</td>\n",
              "      <td>1</td>\n",
              "      <td>3</td>\n",
              "      <td>1</td>\n",
              "      <td>1</td>\n",
              "      <td>1</td>\n",
              "      <td>99</td>\n",
              "      <td>99</td>\n",
              "      <td>2</td>\n",
              "      <td>1</td>\n",
              "      <td>2</td>\n",
              "      <td>2</td>\n",
              "      <td>99</td>\n",
              "      <td>99</td>\n",
              "      <td>2</td>\n",
              "      <td>99</td>\n",
              "      <td>99</td>\n",
              "      <td>99</td>\n",
              "      <td>99</td>\n",
              "      <td>99</td>\n",
              "      <td>99</td>\n",
              "      <td>99</td>\n",
              "      <td>99</td>\n",
              "      <td>1</td>\n",
              "      <td>1</td>\n",
              "      <td>2</td>\n",
              "      <td>1</td>\n",
              "      <td>2</td>\n",
              "      <td>1</td>\n",
              "      <td>2</td>\n",
              "      <td>1</td>\n",
              "      <td>99</td>\n",
              "      <td>9</td>\n",
              "      <td>98</td>\n",
              "      <td>98</td>\n",
              "      <td>1</td>\n",
              "      <td>1</td>\n",
              "      <td>1</td>\n",
              "      <td>2</td>\n",
              "      <td>1</td>\n",
              "      <td>1</td>\n",
              "      <td>2</td>\n",
              "      <td>1</td>\n",
              "      <td>2</td>\n",
              "      <td>1</td>\n",
              "      <td>1</td>\n",
              "      <td>1</td>\n",
              "      <td>2</td>\n",
              "      <td>1</td>\n",
              "      <td>2</td>\n",
              "      <td>1</td>\n",
              "      <td>99</td>\n",
              "      <td>9</td>\n",
              "      <td>1</td>\n",
              "      <td>4</td>\n",
              "      <td>1</td>\n",
              "      <td>1</td>\n",
              "      <td>1</td>\n",
              "      <td>2</td>\n",
              "      <td>1</td>\n",
              "      <td>2</td>\n",
              "      <td>1</td>\n",
              "      <td>1</td>\n",
              "      <td>2</td>\n",
              "      <td>2</td>\n",
              "      <td>3884.805998</td>\n",
              "      <td>40026</td>\n",
              "      <td>1</td>\n",
              "    </tr>\n",
              "    <tr>\n",
              "      <th>1</th>\n",
              "      <td>13005143</td>\n",
              "      <td>4</td>\n",
              "      <td>1</td>\n",
              "      <td>3</td>\n",
              "      <td>1</td>\n",
              "      <td>2</td>\n",
              "      <td>1</td>\n",
              "      <td>1</td>\n",
              "      <td>1</td>\n",
              "      <td>99</td>\n",
              "      <td>99</td>\n",
              "      <td>2</td>\n",
              "      <td>2</td>\n",
              "      <td>2</td>\n",
              "      <td>1</td>\n",
              "      <td>1</td>\n",
              "      <td>99</td>\n",
              "      <td>2</td>\n",
              "      <td>99</td>\n",
              "      <td>99</td>\n",
              "      <td>99</td>\n",
              "      <td>99</td>\n",
              "      <td>99</td>\n",
              "      <td>99</td>\n",
              "      <td>99</td>\n",
              "      <td>99</td>\n",
              "      <td>2</td>\n",
              "      <td>1</td>\n",
              "      <td>2</td>\n",
              "      <td>1</td>\n",
              "      <td>2</td>\n",
              "      <td>1</td>\n",
              "      <td>1</td>\n",
              "      <td>1</td>\n",
              "      <td>99</td>\n",
              "      <td>9</td>\n",
              "      <td>98</td>\n",
              "      <td>98</td>\n",
              "      <td>1</td>\n",
              "      <td>1</td>\n",
              "      <td>1</td>\n",
              "      <td>2</td>\n",
              "      <td>1</td>\n",
              "      <td>1</td>\n",
              "      <td>2</td>\n",
              "      <td>1</td>\n",
              "      <td>2</td>\n",
              "      <td>1</td>\n",
              "      <td>1</td>\n",
              "      <td>1</td>\n",
              "      <td>2</td>\n",
              "      <td>1</td>\n",
              "      <td>2</td>\n",
              "      <td>1</td>\n",
              "      <td>99</td>\n",
              "      <td>9</td>\n",
              "      <td>1</td>\n",
              "      <td>1</td>\n",
              "      <td>1</td>\n",
              "      <td>1</td>\n",
              "      <td>1</td>\n",
              "      <td>1</td>\n",
              "      <td>2</td>\n",
              "      <td>2</td>\n",
              "      <td>2</td>\n",
              "      <td>3</td>\n",
              "      <td>2</td>\n",
              "      <td>2</td>\n",
              "      <td>1627.108106</td>\n",
              "      <td>40015</td>\n",
              "      <td>2</td>\n",
              "    </tr>\n",
              "    <tr>\n",
              "      <th>2</th>\n",
              "      <td>67415143</td>\n",
              "      <td>4</td>\n",
              "      <td>1</td>\n",
              "      <td>2</td>\n",
              "      <td>1</td>\n",
              "      <td>2</td>\n",
              "      <td>1</td>\n",
              "      <td>1</td>\n",
              "      <td>1</td>\n",
              "      <td>99</td>\n",
              "      <td>99</td>\n",
              "      <td>2</td>\n",
              "      <td>1</td>\n",
              "      <td>2</td>\n",
              "      <td>2</td>\n",
              "      <td>99</td>\n",
              "      <td>99</td>\n",
              "      <td>2</td>\n",
              "      <td>99</td>\n",
              "      <td>99</td>\n",
              "      <td>99</td>\n",
              "      <td>99</td>\n",
              "      <td>99</td>\n",
              "      <td>99</td>\n",
              "      <td>99</td>\n",
              "      <td>99</td>\n",
              "      <td>1</td>\n",
              "      <td>1</td>\n",
              "      <td>2</td>\n",
              "      <td>1</td>\n",
              "      <td>2</td>\n",
              "      <td>1</td>\n",
              "      <td>2</td>\n",
              "      <td>1</td>\n",
              "      <td>99</td>\n",
              "      <td>9</td>\n",
              "      <td>98</td>\n",
              "      <td>98</td>\n",
              "      <td>1</td>\n",
              "      <td>1</td>\n",
              "      <td>1</td>\n",
              "      <td>2</td>\n",
              "      <td>2</td>\n",
              "      <td>1</td>\n",
              "      <td>1</td>\n",
              "      <td>1</td>\n",
              "      <td>2</td>\n",
              "      <td>1</td>\n",
              "      <td>1</td>\n",
              "      <td>1</td>\n",
              "      <td>2</td>\n",
              "      <td>1</td>\n",
              "      <td>2</td>\n",
              "      <td>1</td>\n",
              "      <td>99</td>\n",
              "      <td>9</td>\n",
              "      <td>2</td>\n",
              "      <td>2</td>\n",
              "      <td>1</td>\n",
              "      <td>1</td>\n",
              "      <td>1</td>\n",
              "      <td>1</td>\n",
              "      <td>2</td>\n",
              "      <td>2</td>\n",
              "      <td>2</td>\n",
              "      <td>3</td>\n",
              "      <td>2</td>\n",
              "      <td>2</td>\n",
              "      <td>4344.957980</td>\n",
              "      <td>40024</td>\n",
              "      <td>1</td>\n",
              "    </tr>\n",
              "    <tr>\n",
              "      <th>3</th>\n",
              "      <td>70925143</td>\n",
              "      <td>4</td>\n",
              "      <td>0</td>\n",
              "      <td>2</td>\n",
              "      <td>1</td>\n",
              "      <td>1</td>\n",
              "      <td>1</td>\n",
              "      <td>1</td>\n",
              "      <td>1</td>\n",
              "      <td>99</td>\n",
              "      <td>99</td>\n",
              "      <td>2</td>\n",
              "      <td>2</td>\n",
              "      <td>2</td>\n",
              "      <td>1</td>\n",
              "      <td>1</td>\n",
              "      <td>99</td>\n",
              "      <td>2</td>\n",
              "      <td>99</td>\n",
              "      <td>99</td>\n",
              "      <td>99</td>\n",
              "      <td>99</td>\n",
              "      <td>99</td>\n",
              "      <td>99</td>\n",
              "      <td>99</td>\n",
              "      <td>99</td>\n",
              "      <td>2</td>\n",
              "      <td>1</td>\n",
              "      <td>2</td>\n",
              "      <td>1</td>\n",
              "      <td>2</td>\n",
              "      <td>1</td>\n",
              "      <td>1</td>\n",
              "      <td>1</td>\n",
              "      <td>99</td>\n",
              "      <td>9</td>\n",
              "      <td>98</td>\n",
              "      <td>98</td>\n",
              "      <td>1</td>\n",
              "      <td>1</td>\n",
              "      <td>1</td>\n",
              "      <td>2</td>\n",
              "      <td>1</td>\n",
              "      <td>1</td>\n",
              "      <td>2</td>\n",
              "      <td>1</td>\n",
              "      <td>2</td>\n",
              "      <td>1</td>\n",
              "      <td>2</td>\n",
              "      <td>1</td>\n",
              "      <td>2</td>\n",
              "      <td>1</td>\n",
              "      <td>2</td>\n",
              "      <td>1</td>\n",
              "      <td>99</td>\n",
              "      <td>9</td>\n",
              "      <td>7</td>\n",
              "      <td>7</td>\n",
              "      <td>1</td>\n",
              "      <td>1</td>\n",
              "      <td>2</td>\n",
              "      <td>3</td>\n",
              "      <td>2</td>\n",
              "      <td>2</td>\n",
              "      <td>1</td>\n",
              "      <td>1</td>\n",
              "      <td>2</td>\n",
              "      <td>2</td>\n",
              "      <td>792.521931</td>\n",
              "      <td>40027</td>\n",
              "      <td>1</td>\n",
              "    </tr>\n",
              "    <tr>\n",
              "      <th>4</th>\n",
              "      <td>75235143</td>\n",
              "      <td>1</td>\n",
              "      <td>0</td>\n",
              "      <td>6</td>\n",
              "      <td>1</td>\n",
              "      <td>4</td>\n",
              "      <td>1</td>\n",
              "      <td>1</td>\n",
              "      <td>1</td>\n",
              "      <td>99</td>\n",
              "      <td>1</td>\n",
              "      <td>2</td>\n",
              "      <td>1</td>\n",
              "      <td>2</td>\n",
              "      <td>2</td>\n",
              "      <td>99</td>\n",
              "      <td>99</td>\n",
              "      <td>2</td>\n",
              "      <td>99</td>\n",
              "      <td>99</td>\n",
              "      <td>99</td>\n",
              "      <td>99</td>\n",
              "      <td>99</td>\n",
              "      <td>99</td>\n",
              "      <td>99</td>\n",
              "      <td>99</td>\n",
              "      <td>1</td>\n",
              "      <td>1</td>\n",
              "      <td>2</td>\n",
              "      <td>1</td>\n",
              "      <td>2</td>\n",
              "      <td>1</td>\n",
              "      <td>2</td>\n",
              "      <td>1</td>\n",
              "      <td>99</td>\n",
              "      <td>9</td>\n",
              "      <td>98</td>\n",
              "      <td>98</td>\n",
              "      <td>1</td>\n",
              "      <td>1</td>\n",
              "      <td>1</td>\n",
              "      <td>2</td>\n",
              "      <td>2</td>\n",
              "      <td>1</td>\n",
              "      <td>2</td>\n",
              "      <td>1</td>\n",
              "      <td>2</td>\n",
              "      <td>1</td>\n",
              "      <td>1</td>\n",
              "      <td>1</td>\n",
              "      <td>2</td>\n",
              "      <td>1</td>\n",
              "      <td>1</td>\n",
              "      <td>1</td>\n",
              "      <td>1</td>\n",
              "      <td>1</td>\n",
              "      <td>1</td>\n",
              "      <td>2</td>\n",
              "      <td>1</td>\n",
              "      <td>1</td>\n",
              "      <td>1</td>\n",
              "      <td>1</td>\n",
              "      <td>2</td>\n",
              "      <td>2</td>\n",
              "      <td>2</td>\n",
              "      <td>2</td>\n",
              "      <td>2</td>\n",
              "      <td>2</td>\n",
              "      <td>1518.118526</td>\n",
              "      <td>40001</td>\n",
              "      <td>2</td>\n",
              "    </tr>\n",
              "  </tbody>\n",
              "</table>\n",
              "</div>"
            ],
            "text/plain": [
              "      PERID  IFATHER  NRCH17_2  IRHHSIZ2  ...  AIIND102     ANALWT_C  VESTR  VEREP\n",
              "0  25095143        4         2         4  ...         2  3884.805998  40026      1\n",
              "1  13005143        4         1         3  ...         2  1627.108106  40015      2\n",
              "2  67415143        4         1         2  ...         2  4344.957980  40024      1\n",
              "3  70925143        4         0         2  ...         2   792.521931  40027      1\n",
              "4  75235143        1         0         6  ...         2  1518.118526  40001      2\n",
              "\n",
              "[5 rows x 71 columns]"
            ]
          },
          "metadata": {
            "tags": []
          },
          "execution_count": 10
        }
      ]
    },
    {
      "cell_type": "code",
      "metadata": {
        "id": "MRC0h-rflbik",
        "colab_type": "code",
        "colab": {}
      },
      "source": [
        "y = crime[\"Criminal\"]"
      ],
      "execution_count": 0,
      "outputs": []
    },
    {
      "cell_type": "markdown",
      "metadata": {
        "id": "Z5jSJ6-Elbio",
        "colab_type": "text"
      },
      "source": [
        "####  Spliting X and y into train and test dataset."
      ]
    },
    {
      "cell_type": "code",
      "metadata": {
        "id": "b2loFnLrlbip",
        "colab_type": "code",
        "colab": {}
      },
      "source": [
        "from sklearn.model_selection import train_test_split\n",
        "X_train, X_test, y_train, y_test = train_test_split(X, y, test_size=0.25, random_state=1)"
      ],
      "execution_count": 0,
      "outputs": []
    },
    {
      "cell_type": "markdown",
      "metadata": {
        "id": "Ts5F1NHMlbiw",
        "colab_type": "text"
      },
      "source": [
        "#### Checking the shape of X and y of train dataset"
      ]
    },
    {
      "cell_type": "code",
      "metadata": {
        "id": "ZCFLnGtKlbi4",
        "colab_type": "code",
        "outputId": "82591a13-faa5-4ba7-812b-37a63bc9da1e",
        "colab": {
          "base_uri": "https://localhost:8080/",
          "height": 51
        }
      },
      "source": [
        "print(X_train.shape)\n",
        "print(y_train.shape)"
      ],
      "execution_count": 14,
      "outputs": [
        {
          "output_type": "stream",
          "text": [
            "(34288, 71)\n",
            "(34288,)\n"
          ],
          "name": "stdout"
        }
      ]
    },
    {
      "cell_type": "markdown",
      "metadata": {
        "id": "Zcx-RAV_lbi6",
        "colab_type": "text"
      },
      "source": [
        "#### Checking the shape of X and y of test dataset"
      ]
    },
    {
      "cell_type": "code",
      "metadata": {
        "id": "dzdTphOtlbi7",
        "colab_type": "code",
        "outputId": "05f0cf44-5851-4b94-b96c-78cc0b71e7ba",
        "colab": {
          "base_uri": "https://localhost:8080/",
          "height": 51
        }
      },
      "source": [
        "print(X_test.shape)\n",
        "print(y_test.shape)"
      ],
      "execution_count": 16,
      "outputs": [
        {
          "output_type": "stream",
          "text": [
            "(11430, 71)\n",
            "(11430,)\n"
          ],
          "name": "stdout"
        }
      ]
    },
    {
      "cell_type": "markdown",
      "metadata": {
        "id": "sWSD874qlbjA",
        "colab_type": "text"
      },
      "source": [
        "Now, we are going to make 2 models one without any parameter specification and in other we will specify some parameter values. Then in later sections we will compare the performance of these models using various model evaluation techniques."
      ]
    },
    {
      "cell_type": "markdown",
      "metadata": {
        "id": "gjTknXHllbjB",
        "colab_type": "text"
      },
      "source": [
        "#### Instantiating Random Forest Classifier using scikit learn with default parameters."
      ]
    },
    {
      "cell_type": "code",
      "metadata": {
        "id": "3PILIy2hlbjC",
        "colab_type": "code",
        "colab": {}
      },
      "source": [
        "from sklearn.ensemble import RandomForestClassifier\n",
        "model1 = RandomForestClassifier(random_state = 0)  # baseline "
      ],
      "execution_count": 0,
      "outputs": []
    },
    {
      "cell_type": "markdown",
      "metadata": {
        "id": "mNbTaYm4lbjG",
        "colab_type": "text"
      },
      "source": [
        "#### Instantiating Random Forest Classifier using scikit learn with:\n",
        "- random_state = 0,\n",
        "- max_depth = 5, \n",
        "- min_samples_leaf = 5,\n",
        "- min_samples_split = 7,\n",
        "- min_weight_fraction_leaf = 0.0,\n",
        "- n_estimators = 12, \n",
        "- n_jobs = -1"
      ]
    },
    {
      "cell_type": "code",
      "metadata": {
        "id": "Rh5dUFXZlbjH",
        "colab_type": "code",
        "colab": {}
      },
      "source": [
        "# Parametric model \n",
        "model2 = RandomForestClassifier(\n",
        "                                random_state = 0,\n",
        "                                max_depth = 5, \n",
        "                                min_samples_leaf = 5,\n",
        "                                min_samples_split = 7,\n",
        "                                min_weight_fraction_leaf = 0.0,\n",
        "                                n_estimators = 12, \n",
        "                                n_jobs = -1,\n",
        "                                ) "
      ],
      "execution_count": 0,
      "outputs": []
    },
    {
      "cell_type": "markdown",
      "metadata": {
        "id": "Ut0Q0iWSlbjK",
        "colab_type": "text"
      },
      "source": [
        "#### Fitting the model on X_train and y_train"
      ]
    },
    {
      "cell_type": "code",
      "metadata": {
        "id": "PHi2YcDplbjL",
        "colab_type": "code",
        "outputId": "3f586884-4609-43b2-be55-cdd13275f763",
        "colab": {
          "base_uri": "https://localhost:8080/",
          "height": 153
        }
      },
      "source": [
        "model1.fit(X_train,y_train)"
      ],
      "execution_count": 20,
      "outputs": [
        {
          "output_type": "execute_result",
          "data": {
            "text/plain": [
              "RandomForestClassifier(bootstrap=True, ccp_alpha=0.0, class_weight=None,\n",
              "                       criterion='gini', max_depth=None, max_features='auto',\n",
              "                       max_leaf_nodes=None, max_samples=None,\n",
              "                       min_impurity_decrease=0.0, min_impurity_split=None,\n",
              "                       min_samples_leaf=1, min_samples_split=2,\n",
              "                       min_weight_fraction_leaf=0.0, n_estimators=100,\n",
              "                       n_jobs=None, oob_score=False, random_state=0, verbose=0,\n",
              "                       warm_start=False)"
            ]
          },
          "metadata": {
            "tags": []
          },
          "execution_count": 20
        }
      ]
    },
    {
      "cell_type": "code",
      "metadata": {
        "id": "56B9VXQFlbjO",
        "colab_type": "code",
        "outputId": "9fc86744-3925-451b-d4e3-64752039431e",
        "colab": {
          "base_uri": "https://localhost:8080/",
          "height": 153
        }
      },
      "source": [
        "model2.fit(X_train,y_train)"
      ],
      "execution_count": 21,
      "outputs": [
        {
          "output_type": "execute_result",
          "data": {
            "text/plain": [
              "RandomForestClassifier(bootstrap=True, ccp_alpha=0.0, class_weight=None,\n",
              "                       criterion='gini', max_depth=5, max_features='auto',\n",
              "                       max_leaf_nodes=None, max_samples=None,\n",
              "                       min_impurity_decrease=0.0, min_impurity_split=None,\n",
              "                       min_samples_leaf=5, min_samples_split=7,\n",
              "                       min_weight_fraction_leaf=0.0, n_estimators=12, n_jobs=-1,\n",
              "                       oob_score=False, random_state=0, verbose=0,\n",
              "                       warm_start=False)"
            ]
          },
          "metadata": {
            "tags": []
          },
          "execution_count": 21
        }
      ]
    },
    {
      "cell_type": "markdown",
      "metadata": {
        "id": "xndHejQUlbjZ",
        "colab_type": "text"
      },
      "source": [
        "#### Using the model for prediction"
      ]
    },
    {
      "cell_type": "code",
      "metadata": {
        "id": "hXP1Bp-9lbja",
        "colab_type": "code",
        "colab": {}
      },
      "source": [
        "prediction1 = pd.DataFrame()\n",
        "prediction1 = model1.predict(X_test)"
      ],
      "execution_count": 0,
      "outputs": []
    },
    {
      "cell_type": "code",
      "metadata": {
        "id": "9Rqa2a6olbjd",
        "colab_type": "code",
        "colab": {}
      },
      "source": [
        "prediction2 = pd.DataFrame()\n",
        "prediction2 = model2.predict(X_test)"
      ],
      "execution_count": 0,
      "outputs": []
    },
    {
      "cell_type": "markdown",
      "metadata": {
        "id": "fPCLWlEYlbjh",
        "colab_type": "text"
      },
      "source": [
        "<a id = section5></a>"
      ]
    },
    {
      "cell_type": "markdown",
      "metadata": {
        "id": "bEY9vq18lbji",
        "colab_type": "text"
      },
      "source": [
        "## 5. Model evaluation "
      ]
    },
    {
      "cell_type": "markdown",
      "metadata": {
        "id": "U8L9A4Grlbjj",
        "colab_type": "text"
      },
      "source": [
        "<a id = section501></a>"
      ]
    },
    {
      "cell_type": "markdown",
      "metadata": {
        "id": "Bs8yDR4plbjm",
        "colab_type": "text"
      },
      "source": [
        "### 5.1 Model evaluation using accuracy score"
      ]
    },
    {
      "cell_type": "code",
      "metadata": {
        "id": "JQbG4T9Dlbjn",
        "colab_type": "code",
        "outputId": "acc51d14-8954-4d8d-e2cf-de09c4f36cb1",
        "colab": {
          "base_uri": "https://localhost:8080/",
          "height": 51
        }
      },
      "source": [
        "from sklearn.metrics import accuracy_score\n",
        "print('Accuracy score for test data with model 1 is:',accuracy_score(y_test, prediction1))\n",
        "print('Accuracy score for test data with model 2 is:',accuracy_score(y_test, prediction2))"
      ],
      "execution_count": 24,
      "outputs": [
        {
          "output_type": "stream",
          "text": [
            "Accuracy score for test data with model 1 is: 0.9487314085739282\n",
            "Accuracy score for test data with model 2 is: 0.9301837270341208\n"
          ],
          "name": "stdout"
        }
      ]
    },
    {
      "cell_type": "markdown",
      "metadata": {
        "id": "GlLIcY87lbjq",
        "colab_type": "text"
      },
      "source": [
        "__Accuracy score__ of model1 is slightly greater than that of model2.<br/>\n",
        "Lets see some other evaluation techniques, to compare the two models."
      ]
    },
    {
      "cell_type": "markdown",
      "metadata": {
        "id": "6Qgue_kBlbjr",
        "colab_type": "text"
      },
      "source": [
        "<a id = section502></a>"
      ]
    },
    {
      "cell_type": "markdown",
      "metadata": {
        "id": "PWMc8edmlbjs",
        "colab_type": "text"
      },
      "source": [
        "### 5.2 Model evaluation using confusion matrix"
      ]
    },
    {
      "cell_type": "code",
      "metadata": {
        "id": "_vG-g_AKlbjt",
        "colab_type": "code",
        "outputId": "6b828842-e5df-45fe-9b91-0d878bd9175a",
        "colab": {
          "base_uri": "https://localhost:8080/",
          "height": 119
        }
      },
      "source": [
        "from sklearn.metrics import confusion_matrix\n",
        "print('Confusion matrix for test data with model 1 is:\\n',confusion_matrix(y_test, prediction1))\n",
        "print('Confusion matrix for test data with model 2 is:\\n',confusion_matrix(y_test, prediction2))"
      ],
      "execution_count": 25,
      "outputs": [
        {
          "output_type": "stream",
          "text": [
            "Confusion matrix for test data with model 1 is:\n",
            " [[10418   208]\n",
            " [  378   426]]\n",
            "Confusion matrix for test data with model 2 is:\n",
            " [[10626     0]\n",
            " [  798     6]]\n"
          ],
          "name": "stdout"
        }
      ]
    },
    {
      "cell_type": "markdown",
      "metadata": {
        "id": "BEMFduFQlbjz",
        "colab_type": "text"
      },
      "source": [
        "Comparing confusion matrix for the two models: \n",
        "- No. of __False negative__ cases are __more__ in model2\n",
        "- No. of __False positive__ cases are __0__ in model2\n",
        "\n",
        "Calculating Recall and precision score for a clearer picture of the scenario."
      ]
    },
    {
      "cell_type": "markdown",
      "metadata": {
        "id": "V-nsBPO1lbj0",
        "colab_type": "text"
      },
      "source": [
        "<a id = section503></a>"
      ]
    },
    {
      "cell_type": "markdown",
      "metadata": {
        "id": "thAPVnzElbj2",
        "colab_type": "text"
      },
      "source": [
        "### 5.3. Model evaluation using precision score"
      ]
    },
    {
      "cell_type": "code",
      "metadata": {
        "id": "AxeK6dvDlbj3",
        "colab_type": "code",
        "outputId": "66c16713-059f-4bd9-f664-2debf6804ee4",
        "colab": {
          "base_uri": "https://localhost:8080/",
          "height": 51
        }
      },
      "source": [
        "from sklearn.metrics import precision_score\n",
        "precision1 = precision_score(y_test,prediction1)\n",
        "print('Precision score for test data using model1 is:', precision1)\n",
        "precision2 = precision_score(y_test,prediction2)\n",
        "print('Precision score for test data using model2 is:', precision2)\n"
      ],
      "execution_count": 26,
      "outputs": [
        {
          "output_type": "stream",
          "text": [
            "Precision score for test data using model1 is: 0.6719242902208202\n",
            "Precision score for test data using model2 is: 1.0\n"
          ],
          "name": "stdout"
        }
      ]
    },
    {
      "cell_type": "markdown",
      "metadata": {
        "id": "jaGUZ8t4lbkA",
        "colab_type": "text"
      },
      "source": [
        "__Precision score for model2 is 1__. This means that no innocent is convicted as guilty. Thats what the foundation of law."
      ]
    },
    {
      "cell_type": "markdown",
      "metadata": {
        "id": "wrGaATttlbkH",
        "colab_type": "text"
      },
      "source": [
        "<a id = section504></a>"
      ]
    },
    {
      "cell_type": "markdown",
      "metadata": {
        "id": "tzEcKBRrlbkI",
        "colab_type": "text"
      },
      "source": [
        "### 5.4 Model evaluation using recall score"
      ]
    },
    {
      "cell_type": "code",
      "metadata": {
        "id": "o7vJkMQllbkJ",
        "colab_type": "code",
        "outputId": "8c5fd7e9-80eb-46a9-a69e-2923a5fd0742",
        "colab": {
          "base_uri": "https://localhost:8080/",
          "height": 51
        }
      },
      "source": [
        "from sklearn.metrics import recall_score\n",
        "print('Recall score for test data using model1 is:',recall_score(y_test,prediction1))   \n",
        "print('Recall score for test data using model2 is:',recall_score(y_test,prediction2))"
      ],
      "execution_count": 27,
      "outputs": [
        {
          "output_type": "stream",
          "text": [
            "Recall score for test data using model1 is: 0.5298507462686567\n",
            "Recall score for test data using model2 is: 0.007462686567164179\n"
          ],
          "name": "stdout"
        }
      ]
    },
    {
      "cell_type": "markdown",
      "metadata": {
        "id": "nHBQS2QWlbkM",
        "colab_type": "text"
      },
      "source": [
        "Recall score of model1 is higher than that of model2."
      ]
    },
    {
      "cell_type": "markdown",
      "metadata": {
        "id": "UuO1S5dplbkO",
        "colab_type": "text"
      },
      "source": [
        "<a id = section505></a>"
      ]
    },
    {
      "cell_type": "markdown",
      "metadata": {
        "id": "qIxxZotklbkO",
        "colab_type": "text"
      },
      "source": [
        "### 5.5 Model evaluation using F1_score"
      ]
    },
    {
      "cell_type": "code",
      "metadata": {
        "id": "Pp0VumMRlbkP",
        "colab_type": "code",
        "outputId": "11d0b7d2-f191-474f-d899-648a8748691b",
        "colab": {
          "base_uri": "https://localhost:8080/",
          "height": 51
        }
      },
      "source": [
        "from sklearn.metrics import f1_score\n",
        "print('F1_score for test data using model1 is:',f1_score(y_test, prediction1))\n",
        "print('F1_score for test data using model2 is:',f1_score(y_test, prediction2))"
      ],
      "execution_count": 28,
      "outputs": [
        {
          "output_type": "stream",
          "text": [
            "F1_score for test data using model1 is: 0.592489568845619\n",
            "F1_score for test data using model2 is: 0.014814814814814815\n"
          ],
          "name": "stdout"
        }
      ]
    },
    {
      "cell_type": "markdown",
      "metadata": {
        "id": "TqTyXa3TlbkT",
        "colab_type": "text"
      },
      "source": [
        "F1_score for __model1__ is much __higher__ than that of model 2, but we need to take decision on the basis of Precision Score."
      ]
    },
    {
      "cell_type": "markdown",
      "metadata": {
        "id": "nISG1aK0lbkW",
        "colab_type": "text"
      },
      "source": [
        "<a id = section506a>"
      ]
    },
    {
      "cell_type": "markdown",
      "metadata": {
        "id": "0qUiAhMGlbkX",
        "colab_type": "text"
      },
      "source": [
        "### 5.6 Model evaluation using ROC_AUC curve\n",
        "- For model1"
      ]
    },
    {
      "cell_type": "code",
      "metadata": {
        "id": "EklLP9aulbkX",
        "colab_type": "code",
        "outputId": "4082937e-d4a1-438d-c389-e5ad90c9b32f",
        "colab": {
          "base_uri": "https://localhost:8080/",
          "height": 301
        }
      },
      "source": [
        "from sklearn import metrics\n",
        "probs = model1.predict_proba(X_test)\n",
        "preds = probs[:,1]\n",
        "fpr, tpr, threshold = metrics.roc_curve(y_test, preds)\n",
        "roc_auc = metrics.auc(fpr, tpr)\n",
        "\n",
        "import matplotlib.pyplot as plt\n",
        "plt.title('Receiver Operating Characteristic')\n",
        "plt.plot(fpr, tpr, 'b', label = 'AUC = %0.2f' % roc_auc)\n",
        "plt.legend(loc = 'lower right')\n",
        "plt.plot([0, 1], [0, 1],'r--')\n",
        "plt.xlim([0, 1])\n",
        "plt.ylim([0, 1])\n",
        "plt.ylabel('True Positive Rate')\n",
        "plt.xlabel('False Positive Rate')\n",
        "plt.show()"
      ],
      "execution_count": 29,
      "outputs": [
        {
          "output_type": "display_data",
          "data": {
            "image/png": "[encoded data removed]",
            "text/plain": [
              "<Figure size 432x288 with 1 Axes>"
            ]
          },
          "metadata": {
            "tags": []
          }
        }
      ]
    },
    {
      "cell_type": "markdown",
      "metadata": {
        "id": "pIOxcZ32lbka",
        "colab_type": "text"
      },
      "source": [
        "- For model2"
      ]
    },
    {
      "cell_type": "code",
      "metadata": {
        "id": "RauXw3tVlbkb",
        "colab_type": "code",
        "outputId": "0f851d31-fa48-4598-efb1-3ce67ef29f61",
        "colab": {
          "base_uri": "https://localhost:8080/",
          "height": 301
        }
      },
      "source": [
        "from sklearn import metrics\n",
        "probs = model2.predict_proba(X_test)\n",
        "pred = probs[:,1]\n",
        "fpr1, tpr1, threshold = metrics.roc_curve(y_test, pred)\n",
        "roc_auc = metrics.auc(fpr1, tpr1)\n",
        "\n",
        "# method I: plt\n",
        "import matplotlib.pyplot as plt\n",
        "plt.title('Receiver Operating Characteristic')\n",
        "plt.plot(fpr1, tpr1, 'b', label = 'AUC = %0.2f' % roc_auc)\n",
        "plt.legend(loc = 'lower right')\n",
        "plt.plot([0, 1], [0, 1],'r--')\n",
        "plt.xlim([0, 1])\n",
        "plt.ylim([0, 1])\n",
        "plt.ylabel('True Positive Rate')\n",
        "plt.xlabel('False Positive Rate')\n",
        "plt.show()"
      ],
      "execution_count": 30,
      "outputs": [
        {
          "output_type": "display_data",
          "data": {
            "image/png": "[encoded data removed]",
            "text/plain": [
              "<Figure size 432x288 with 1 Axes>"
            ]
          },
          "metadata": {
            "tags": []
          }
        }
      ]
    },
    {
      "cell_type": "markdown",
      "metadata": {
        "id": "55tPzu_clbke",
        "colab_type": "text"
      },
      "source": [
        "Observing the ROC-AUC curve for both the models, __AUC score of model2 is higher than model1.__"
      ]
    },
    {
      "cell_type": "markdown",
      "metadata": {
        "id": "y2OuFzetlbkf",
        "colab_type": "text"
      },
      "source": [
        "<a id = section5.7></a>"
      ]
    },
    {
      "cell_type": "markdown",
      "metadata": {
        "id": "U6Snk8sulbkh",
        "colab_type": "text"
      },
      "source": [
        "### 5.7 Choosing better model using precision score"
      ]
    },
    {
      "cell_type": "markdown",
      "metadata": {
        "id": "jOlYjRejlbki",
        "colab_type": "text"
      },
      "source": [
        "We have compared the performance of the two models using various model evaluation techinques.<br/>\n",
        "Our objective is to __minimize False Positive__ so that no innocent is convicted as guilty. Therefore, among recall & precision scores, we will give more importance to __precision score__.\n",
        "\n",
        "\n",
        "- Precision score for model1 is: __0.62__\n",
        "- Precision score for model2 is: __1__\n",
        "\n",
        "As __precision score of model2 is greater__ than that of model1, therefore, __model2 is preferable.__ "
      ]
    }
  ]
}