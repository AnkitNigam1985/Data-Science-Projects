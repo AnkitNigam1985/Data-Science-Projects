{
  "nbformat": 4,
  "nbformat_minor": 0,
  "metadata": {
    "kernelspec": {
      "display_name": "Python 3",
      "language": "python",
      "name": "python3"
    },
    "language_info": {
      "codemirror_mode": {
        "name": "ipython",
        "version": 3
      },
      "file_extension": ".py",
      "mimetype": "text/x-python",
      "name": "python",
      "nbconvert_exporter": "python",
      "pygments_lexer": "ipython3",
      "version": "3.7.0"
    },
    "colab": {
      "name": "Class session - Using all models to determine best to use ( Titanic Dataset ).ipynb",
      "provenance": [],
      "collapsed_sections": [
        "IcSALE51GA2u",
        "REKewiYFGA2v",
        "CRzMtmGCGA2x",
        "RkZXdemuGA2y",
        "dmudft9TGA2y",
        "Gzh6UuORGA2z",
        "nZx1GC69GA2z",
        "oj9altalGA20"
      ]
    }
  },
  "cells": [
    {
      "cell_type": "markdown",
      "metadata": {
        "id": "s38zNx42GA1B",
        "colab_type": "text"
      },
      "source": [
        "<img src=\"https://github.com/insaid2018/Term-1/blob/master/Images/INSAID_Full%20Logo.png?raw=true\" width=\"240\" height=\"360\" />\n",
        "\n",
        "# Decision Trees on titanic dataset"
      ]
    },
    {
      "cell_type": "markdown",
      "metadata": {
        "id": "1DNYrPi0GA1H",
        "colab_type": "text"
      },
      "source": [
        "## Table of Contents\n",
        "\n",
        "1. [Problem Statement](#section1)<br>\n",
        "2. [Data Loading and Description](#section2)\n",
        "3. [Preprocessing](#section3)\n",
        "4. [Decision Tree](#section4)<br>\n",
        "    - 4.1 [Introduction of Decision Tree](#section401)<br>\n",
        "    - 4.2 [Important Terminology related to Decision Trees](#section402)<br>\n",
        "    - 4.3 [Types of Decision Trees](#section403)<br>\n",
        "    - 4.4 [Concept of Homogenity](#section404)<br>\n",
        "    - 4.5 [How does a tree decide where to split?](#section405)<br>\n",
        "         - 4.5.1 [Gini Index](#GiniIndex)<br>\n",
        "         - 4.5.2 [Information Gain](#InformationGain)<br>\n",
        "    - 4.6 [Advantages of using Decision Tree](#section406)<br>\n",
        "    - 4.7 [Shortcomings of Decision Trees](#section407)<br>\n",
        "    - 4.8 [Preparing X and y using pandas](#section408)<br>\n",
        "    - 4.9 [Splitting X and y into training and test datasets.](#section409)<br>\n",
        "    - 4.10 [Decision Tree in scikit-learn](#section410)<br>\n",
        "    - 4.11 [Using the Model for Prediction](#section411)<br>\n",
        "5. [Model evaluation](#section5)<br>\n",
        "    - 5.1 [Model Evaluation using accuracy score](#section501)<br>\n",
        "    - 5.2 [Model Evaluation using confusion matrix](#section502)<br>\n",
        "6. [Decision Tree with Gridsearch](#section6)<br>"
      ]
    },
    {
      "cell_type": "markdown",
      "metadata": {
        "id": "SVEnc3C6GA1K",
        "colab_type": "text"
      },
      "source": [
        "<a id=section1></a>"
      ]
    },
    {
      "cell_type": "markdown",
      "metadata": {
        "id": "cHZG7k2kGA1N",
        "colab_type": "text"
      },
      "source": [
        "### 1. Problem Statement"
      ]
    },
    {
      "cell_type": "markdown",
      "metadata": {
        "id": "aNYPJzjZGA1S",
        "colab_type": "text"
      },
      "source": [
        "The goal is to __predict survival__ of passengers travelling in RMS __Titanic__ using __Logistic regression__."
      ]
    },
    {
      "cell_type": "markdown",
      "metadata": {
        "id": "JpWJh7UyGA1Y",
        "colab_type": "text"
      },
      "source": [
        "<a id=section2></a>"
      ]
    },
    {
      "cell_type": "markdown",
      "metadata": {
        "id": "HQNavDF3GA1a",
        "colab_type": "text"
      },
      "source": [
        "### 2. Data Loading and Description\n",
        "![image.png](attachment:image.png)"
      ]
    },
    {
      "cell_type": "markdown",
      "metadata": {
        "id": "yOMyTnB8GA1d",
        "colab_type": "text"
      },
      "source": [
        "<a id=section201></a>"
      ]
    },
    {
      "cell_type": "markdown",
      "metadata": {
        "_cell_guid": "e4a1cf77-b695-4ca0-9653-6c41ce2393d8",
        "_uuid": "ca91678a9dc8cc103a7fbf799a5d903a011334ef",
        "id": "gg7X7zdoGA1f",
        "colab_type": "text"
      },
      "source": [
        "- The dataset consists of the information about people boarding the famous RMS Titanic. Various variables present in the dataset includes data of age, sex, fare, ticket etc. \n",
        "- The dataset comprises of __891 observations of 12 columns__. Below is a table showing names of all the columns and their description."
      ]
    },
    {
      "cell_type": "markdown",
      "metadata": {
        "id": "-vVhn_0zGA1j",
        "colab_type": "text"
      },
      "source": [
        "| Column Name   | Description                                               |\n",
        "| ------------- |:-------------                                            :| \n",
        "| PassengerId   | Passenger Identity                                        | \n",
        "| Survived      | Whether passenger survived or not                         |  \n",
        "| Pclass        | Class of ticket                                           | \n",
        "| Name          | Name of passenger                                         |   \n",
        "| Sex           | Sex of passenger                                          |\n",
        "| Age           | Age of passenger                                          |\n",
        "| SibSp         | Number of sibling and/or spouse travelling with passenger |\n",
        "| Parch         | Number of parent and/or children travelling with passenger|\n",
        "| Ticket        | Ticket number                                             |\n",
        "| Fare          | Price of ticket                                           |\n",
        "| Cabin         | Cabin number                                              |"
      ]
    },
    {
      "cell_type": "markdown",
      "metadata": {
        "_cell_guid": "998b2a03-c60e-4fd6-9f69-784de6e6c9b8",
        "_uuid": "d3086cb02907affe5a674b54e4baaedd632482c7",
        "id": "M5lgnAZeGA1k",
        "colab_type": "text"
      },
      "source": [
        "#### Importing packages                                          "
      ]
    },
    {
      "cell_type": "code",
      "metadata": {
        "_cell_guid": "872b97b2-56fe-4644-a11f-afb00f422169",
        "_uuid": "efb595c75201cdb2a53388dc152a8e526e1b921a",
        "id": "7JBycBD9GA1m",
        "colab_type": "code",
        "colab": {}
      },
      "source": [
        "import numpy as np                                                 # Implemennts milti-dimensional array and matrices\n",
        "import pandas as pd                                                # For data manipulation and analysis\n",
        "import pandas_profiling\n",
        "import matplotlib.pyplot as plt                                    # Plotting library for Python programming language and it's numerical mathematics extension NumPy\n",
        "import seaborn as sns                                              # Provides a high level interface for drawing attractive and informative statistical graphics\n",
        "%matplotlib inline\n",
        "sns.set()\n",
        "\n",
        "from subprocess import check_output"
      ],
      "execution_count": 0,
      "outputs": []
    },
    {
      "cell_type": "markdown",
      "metadata": {
        "id": "AOWAncoXGA1t",
        "colab_type": "text"
      },
      "source": [
        "#### Importing the Dataset"
      ]
    },
    {
      "cell_type": "code",
      "metadata": {
        "_cell_guid": "080fb327-390d-4124-b287-a561d050fe7e",
        "_uuid": "0333d5086a63e3870708e7ba7a540d036c53544e",
        "id": "mjpkk6YzGA1u",
        "colab_type": "code",
        "colab": {}
      },
      "source": [
        "titanic_data = pd.read_csv(\"https://raw.githubusercontent.com/insaid2018/Term-1/master/Data/Casestudy/titanic_train.csv\")     # Importing training dataset using pd.read_csv"
      ],
      "execution_count": 0,
      "outputs": []
    },
    {
      "cell_type": "code",
      "metadata": {
        "id": "EXyEdGMPGA1x",
        "colab_type": "code",
        "outputId": "ad8383a0-813d-4b7c-bfc5-9198abdfa608",
        "colab": {
          "base_uri": "https://localhost:8080/",
          "height": 204
        }
      },
      "source": [
        "titanic_data.head()"
      ],
      "execution_count": 3,
      "outputs": [
        {
          "output_type": "execute_result",
          "data": {
            "text/html": [
              "<div>\n",
              "<style scoped>\n",
              "    .dataframe tbody tr th:only-of-type {\n",
              "        vertical-align: middle;\n",
              "    }\n",
              "\n",
              "    .dataframe tbody tr th {\n",
              "        vertical-align: top;\n",
              "    }\n",
              "\n",
              "    .dataframe thead th {\n",
              "        text-align: right;\n",
              "    }\n",
              "</style>\n",
              "<table border=\"1\" class=\"dataframe\">\n",
              "  <thead>\n",
              "    <tr style=\"text-align: right;\">\n",
              "      <th></th>\n",
              "      <th>PassengerId</th>\n",
              "      <th>Survived</th>\n",
              "      <th>Pclass</th>\n",
              "      <th>Name</th>\n",
              "      <th>Sex</th>\n",
              "      <th>Age</th>\n",
              "      <th>SibSp</th>\n",
              "      <th>Parch</th>\n",
              "      <th>Ticket</th>\n",
              "      <th>Fare</th>\n",
              "      <th>Cabin</th>\n",
              "      <th>Embarked</th>\n",
              "    </tr>\n",
              "  </thead>\n",
              "  <tbody>\n",
              "    <tr>\n",
              "      <th>0</th>\n",
              "      <td>1</td>\n",
              "      <td>0</td>\n",
              "      <td>3</td>\n",
              "      <td>Braund, Mr. Owen Harris</td>\n",
              "      <td>male</td>\n",
              "      <td>22.0</td>\n",
              "      <td>1</td>\n",
              "      <td>0</td>\n",
              "      <td>A/5 21171</td>\n",
              "      <td>7.2500</td>\n",
              "      <td>NaN</td>\n",
              "      <td>S</td>\n",
              "    </tr>\n",
              "    <tr>\n",
              "      <th>1</th>\n",
              "      <td>2</td>\n",
              "      <td>1</td>\n",
              "      <td>1</td>\n",
              "      <td>Cumings, Mrs. John Bradley (Florence Briggs Th...</td>\n",
              "      <td>female</td>\n",
              "      <td>38.0</td>\n",
              "      <td>1</td>\n",
              "      <td>0</td>\n",
              "      <td>PC 17599</td>\n",
              "      <td>71.2833</td>\n",
              "      <td>C85</td>\n",
              "      <td>C</td>\n",
              "    </tr>\n",
              "    <tr>\n",
              "      <th>2</th>\n",
              "      <td>3</td>\n",
              "      <td>1</td>\n",
              "      <td>3</td>\n",
              "      <td>Heikkinen, Miss. Laina</td>\n",
              "      <td>female</td>\n",
              "      <td>26.0</td>\n",
              "      <td>0</td>\n",
              "      <td>0</td>\n",
              "      <td>STON/O2. 3101282</td>\n",
              "      <td>7.9250</td>\n",
              "      <td>NaN</td>\n",
              "      <td>S</td>\n",
              "    </tr>\n",
              "    <tr>\n",
              "      <th>3</th>\n",
              "      <td>4</td>\n",
              "      <td>1</td>\n",
              "      <td>1</td>\n",
              "      <td>Futrelle, Mrs. Jacques Heath (Lily May Peel)</td>\n",
              "      <td>female</td>\n",
              "      <td>35.0</td>\n",
              "      <td>1</td>\n",
              "      <td>0</td>\n",
              "      <td>113803</td>\n",
              "      <td>53.1000</td>\n",
              "      <td>C123</td>\n",
              "      <td>S</td>\n",
              "    </tr>\n",
              "    <tr>\n",
              "      <th>4</th>\n",
              "      <td>5</td>\n",
              "      <td>0</td>\n",
              "      <td>3</td>\n",
              "      <td>Allen, Mr. William Henry</td>\n",
              "      <td>male</td>\n",
              "      <td>35.0</td>\n",
              "      <td>0</td>\n",
              "      <td>0</td>\n",
              "      <td>373450</td>\n",
              "      <td>8.0500</td>\n",
              "      <td>NaN</td>\n",
              "      <td>S</td>\n",
              "    </tr>\n",
              "  </tbody>\n",
              "</table>\n",
              "</div>"
            ],
            "text/plain": [
              "   PassengerId  Survived  Pclass  ...     Fare Cabin  Embarked\n",
              "0            1         0       3  ...   7.2500   NaN         S\n",
              "1            2         1       1  ...  71.2833   C85         C\n",
              "2            3         1       3  ...   7.9250   NaN         S\n",
              "3            4         1       1  ...  53.1000  C123         S\n",
              "4            5         0       3  ...   8.0500   NaN         S\n",
              "\n",
              "[5 rows x 12 columns]"
            ]
          },
          "metadata": {
            "tags": []
          },
          "execution_count": 3
        }
      ]
    },
    {
      "cell_type": "code",
      "metadata": {
        "id": "WiLvWEDVGA14",
        "colab_type": "code",
        "outputId": "416eaf85-b1c4-4543-e74e-3c64f33cd79a",
        "colab": {
          "base_uri": "https://localhost:8080/",
          "height": 238
        }
      },
      "source": [
        "titanic_data.isnull().sum()"
      ],
      "execution_count": 5,
      "outputs": [
        {
          "output_type": "execute_result",
          "data": {
            "text/plain": [
              "PassengerId      0\n",
              "Survived         0\n",
              "Pclass           0\n",
              "Name             0\n",
              "Sex              0\n",
              "Age            177\n",
              "SibSp            0\n",
              "Parch            0\n",
              "Ticket           0\n",
              "Fare             0\n",
              "Cabin          687\n",
              "Embarked         2\n",
              "dtype: int64"
            ]
          },
          "metadata": {
            "tags": []
          },
          "execution_count": 5
        }
      ]
    },
    {
      "cell_type": "markdown",
      "metadata": {
        "id": "gBg4MnARGA1_",
        "colab_type": "text"
      },
      "source": [
        "<a id=section3></a>"
      ]
    },
    {
      "cell_type": "markdown",
      "metadata": {
        "_cell_guid": "6c7d2500-95b1-4057-98f7-39100e8a6d7f",
        "_uuid": "13fd8422db7a1ceae9ebb002df452e8293a9ab0c",
        "id": "Eo2slGRIGA2A",
        "colab_type": "text"
      },
      "source": [
        "## 3. Preprocessing the data"
      ]
    },
    {
      "cell_type": "markdown",
      "metadata": {
        "id": "_JW95R9XGA2B",
        "colab_type": "text"
      },
      "source": [
        "- Dealing with missing values<br/>\n",
        "    - Dropping/Replacing missing entries of __Embarked.__\n",
        "    - Replacing missing values of __Age__ with median values.\n",
        "    - Dropping the column __'Cabin'__ as it has too many _null_ values.\n",
        "    - Replacing 0 values of fare with median values."
      ]
    },
    {
      "cell_type": "code",
      "metadata": {
        "id": "NSXNcPbzGA2B",
        "colab_type": "code",
        "colab": {}
      },
      "source": [
        "titanic_data.Embarked = titanic_data.Embarked.fillna(titanic_data['Embarked'].mode()[0])"
      ],
      "execution_count": 0,
      "outputs": []
    },
    {
      "cell_type": "code",
      "metadata": {
        "id": "9DIOnHvDGA2D",
        "colab_type": "code",
        "colab": {}
      },
      "source": [
        "median_age = titanic_data.Age.median()\n",
        "titanic_data.Age.fillna(median_age, inplace = True)"
      ],
      "execution_count": 0,
      "outputs": []
    },
    {
      "cell_type": "code",
      "metadata": {
        "id": "KCJip7w8GA2F",
        "colab_type": "code",
        "colab": {}
      },
      "source": [
        "titanic_data.drop('Cabin', axis = 1,inplace = True)"
      ],
      "execution_count": 0,
      "outputs": []
    },
    {
      "cell_type": "code",
      "metadata": {
        "id": "OAseNYV5GA2G",
        "colab_type": "code",
        "colab": {}
      },
      "source": [
        "titanic_data['Fare']=titanic_data['Fare'].replace(0,titanic_data['Fare'].median())"
      ],
      "execution_count": 0,
      "outputs": []
    },
    {
      "cell_type": "markdown",
      "metadata": {
        "id": "V9XPvxp3GA2J",
        "colab_type": "text"
      },
      "source": [
        "- Creating a new feature named __FamilySize__."
      ]
    },
    {
      "cell_type": "code",
      "metadata": {
        "id": "DaiHBgSGGA2K",
        "colab_type": "code",
        "colab": {}
      },
      "source": [
        "titanic_data['FamilySize'] = titanic_data['SibSp'] + titanic_data['Parch']+1"
      ],
      "execution_count": 0,
      "outputs": []
    },
    {
      "cell_type": "markdown",
      "metadata": {
        "id": "KqdQJzvdGA2M",
        "colab_type": "text"
      },
      "source": [
        "- Segmenting __Sex__ column as per __Age__, Age less than 15 as __Child__, Age greater than 15 as __Males and Females__ as per their gender."
      ]
    },
    {
      "cell_type": "code",
      "metadata": {
        "id": "FnMCY_6sGA2M",
        "colab_type": "code",
        "colab": {}
      },
      "source": [
        "titanic_data['GenderClass'] = titanic_data.apply(lambda x: 'child' if x['Age'] < 15 else x['Sex'],axis=1)"
      ],
      "execution_count": 0,
      "outputs": []
    },
    {
      "cell_type": "code",
      "metadata": {
        "id": "XhdgM42rGA2O",
        "colab_type": "code",
        "outputId": "3f9a7e63-1e4d-4c46-e7e7-11b75be56f27",
        "colab": {
          "base_uri": "https://localhost:8080/",
          "height": 111
        }
      },
      "source": [
        "titanic_data[titanic_data.Age<15].head(2)"
      ],
      "execution_count": 13,
      "outputs": [
        {
          "output_type": "execute_result",
          "data": {
            "text/html": [
              "<div>\n",
              "<style scoped>\n",
              "    .dataframe tbody tr th:only-of-type {\n",
              "        vertical-align: middle;\n",
              "    }\n",
              "\n",
              "    .dataframe tbody tr th {\n",
              "        vertical-align: top;\n",
              "    }\n",
              "\n",
              "    .dataframe thead th {\n",
              "        text-align: right;\n",
              "    }\n",
              "</style>\n",
              "<table border=\"1\" class=\"dataframe\">\n",
              "  <thead>\n",
              "    <tr style=\"text-align: right;\">\n",
              "      <th></th>\n",
              "      <th>PassengerId</th>\n",
              "      <th>Survived</th>\n",
              "      <th>Pclass</th>\n",
              "      <th>Name</th>\n",
              "      <th>Sex</th>\n",
              "      <th>Age</th>\n",
              "      <th>SibSp</th>\n",
              "      <th>Parch</th>\n",
              "      <th>Ticket</th>\n",
              "      <th>Fare</th>\n",
              "      <th>Embarked</th>\n",
              "      <th>FamilySize</th>\n",
              "      <th>GenderClass</th>\n",
              "    </tr>\n",
              "  </thead>\n",
              "  <tbody>\n",
              "    <tr>\n",
              "      <th>7</th>\n",
              "      <td>8</td>\n",
              "      <td>0</td>\n",
              "      <td>3</td>\n",
              "      <td>Palsson, Master. Gosta Leonard</td>\n",
              "      <td>male</td>\n",
              "      <td>2.0</td>\n",
              "      <td>3</td>\n",
              "      <td>1</td>\n",
              "      <td>349909</td>\n",
              "      <td>21.0750</td>\n",
              "      <td>S</td>\n",
              "      <td>5</td>\n",
              "      <td>child</td>\n",
              "    </tr>\n",
              "    <tr>\n",
              "      <th>9</th>\n",
              "      <td>10</td>\n",
              "      <td>1</td>\n",
              "      <td>2</td>\n",
              "      <td>Nasser, Mrs. Nicholas (Adele Achem)</td>\n",
              "      <td>female</td>\n",
              "      <td>14.0</td>\n",
              "      <td>1</td>\n",
              "      <td>0</td>\n",
              "      <td>237736</td>\n",
              "      <td>30.0708</td>\n",
              "      <td>C</td>\n",
              "      <td>2</td>\n",
              "      <td>child</td>\n",
              "    </tr>\n",
              "  </tbody>\n",
              "</table>\n",
              "</div>"
            ],
            "text/plain": [
              "   PassengerId  Survived  Pclass  ... Embarked FamilySize  GenderClass\n",
              "7            8         0       3  ...        S          5        child\n",
              "9           10         1       2  ...        C          2        child\n",
              "\n",
              "[2 rows x 13 columns]"
            ]
          },
          "metadata": {
            "tags": []
          },
          "execution_count": 13
        }
      ]
    },
    {
      "cell_type": "code",
      "metadata": {
        "id": "7PuB6OPwGA2Q",
        "colab_type": "code",
        "outputId": "8a6a1860-f26b-4391-e198-b97b4e6da998",
        "colab": {
          "base_uri": "https://localhost:8080/",
          "height": 111
        }
      },
      "source": [
        "titanic_data[titanic_data.Age>15].head(2)"
      ],
      "execution_count": 14,
      "outputs": [
        {
          "output_type": "execute_result",
          "data": {
            "text/html": [
              "<div>\n",
              "<style scoped>\n",
              "    .dataframe tbody tr th:only-of-type {\n",
              "        vertical-align: middle;\n",
              "    }\n",
              "\n",
              "    .dataframe tbody tr th {\n",
              "        vertical-align: top;\n",
              "    }\n",
              "\n",
              "    .dataframe thead th {\n",
              "        text-align: right;\n",
              "    }\n",
              "</style>\n",
              "<table border=\"1\" class=\"dataframe\">\n",
              "  <thead>\n",
              "    <tr style=\"text-align: right;\">\n",
              "      <th></th>\n",
              "      <th>PassengerId</th>\n",
              "      <th>Survived</th>\n",
              "      <th>Pclass</th>\n",
              "      <th>Name</th>\n",
              "      <th>Sex</th>\n",
              "      <th>Age</th>\n",
              "      <th>SibSp</th>\n",
              "      <th>Parch</th>\n",
              "      <th>Ticket</th>\n",
              "      <th>Fare</th>\n",
              "      <th>Embarked</th>\n",
              "      <th>FamilySize</th>\n",
              "      <th>GenderClass</th>\n",
              "    </tr>\n",
              "  </thead>\n",
              "  <tbody>\n",
              "    <tr>\n",
              "      <th>0</th>\n",
              "      <td>1</td>\n",
              "      <td>0</td>\n",
              "      <td>3</td>\n",
              "      <td>Braund, Mr. Owen Harris</td>\n",
              "      <td>male</td>\n",
              "      <td>22.0</td>\n",
              "      <td>1</td>\n",
              "      <td>0</td>\n",
              "      <td>A/5 21171</td>\n",
              "      <td>7.2500</td>\n",
              "      <td>S</td>\n",
              "      <td>2</td>\n",
              "      <td>male</td>\n",
              "    </tr>\n",
              "    <tr>\n",
              "      <th>1</th>\n",
              "      <td>2</td>\n",
              "      <td>1</td>\n",
              "      <td>1</td>\n",
              "      <td>Cumings, Mrs. John Bradley (Florence Briggs Th...</td>\n",
              "      <td>female</td>\n",
              "      <td>38.0</td>\n",
              "      <td>1</td>\n",
              "      <td>0</td>\n",
              "      <td>PC 17599</td>\n",
              "      <td>71.2833</td>\n",
              "      <td>C</td>\n",
              "      <td>2</td>\n",
              "      <td>female</td>\n",
              "    </tr>\n",
              "  </tbody>\n",
              "</table>\n",
              "</div>"
            ],
            "text/plain": [
              "   PassengerId  Survived  Pclass  ... Embarked FamilySize  GenderClass\n",
              "0            1         0       3  ...        S          2         male\n",
              "1            2         1       1  ...        C          2       female\n",
              "\n",
              "[2 rows x 13 columns]"
            ]
          },
          "metadata": {
            "tags": []
          },
          "execution_count": 14
        }
      ]
    },
    {
      "cell_type": "markdown",
      "metadata": {
        "id": "aQXPkmqCGA2T",
        "colab_type": "text"
      },
      "source": [
        "- __Dummification__ of __GenderClass__ & __Embarked__."
      ]
    },
    {
      "cell_type": "code",
      "metadata": {
        "id": "DQ-jcPv8GA2U",
        "colab_type": "code",
        "colab": {}
      },
      "source": [
        "titanic_data = pd.get_dummies(titanic_data, columns=['GenderClass','Embarked'], drop_first=True)"
      ],
      "execution_count": 0,
      "outputs": []
    },
    {
      "cell_type": "markdown",
      "metadata": {
        "id": "ez-BAuxZGA2W",
        "colab_type": "text"
      },
      "source": [
        "- __Dropping__ columns __'Name' , 'Ticket' , 'Sex' , 'SibSp' and 'Parch'__ "
      ]
    },
    {
      "cell_type": "code",
      "metadata": {
        "id": "wwiDllinGA2X",
        "colab_type": "code",
        "outputId": "104d1815-679b-4c15-894f-6e09c5de1a27",
        "colab": {
          "base_uri": "https://localhost:8080/",
          "height": 204
        }
      },
      "source": [
        "titanic = titanic_data.drop(['Name','Ticket','Sex','SibSp','Parch','PassengerId'], axis = 1)\n",
        "titanic.head()"
      ],
      "execution_count": 16,
      "outputs": [
        {
          "output_type": "execute_result",
          "data": {
            "text/html": [
              "<div>\n",
              "<style scoped>\n",
              "    .dataframe tbody tr th:only-of-type {\n",
              "        vertical-align: middle;\n",
              "    }\n",
              "\n",
              "    .dataframe tbody tr th {\n",
              "        vertical-align: top;\n",
              "    }\n",
              "\n",
              "    .dataframe thead th {\n",
              "        text-align: right;\n",
              "    }\n",
              "</style>\n",
              "<table border=\"1\" class=\"dataframe\">\n",
              "  <thead>\n",
              "    <tr style=\"text-align: right;\">\n",
              "      <th></th>\n",
              "      <th>Survived</th>\n",
              "      <th>Pclass</th>\n",
              "      <th>Age</th>\n",
              "      <th>Fare</th>\n",
              "      <th>FamilySize</th>\n",
              "      <th>GenderClass_female</th>\n",
              "      <th>GenderClass_male</th>\n",
              "      <th>Embarked_Q</th>\n",
              "      <th>Embarked_S</th>\n",
              "    </tr>\n",
              "  </thead>\n",
              "  <tbody>\n",
              "    <tr>\n",
              "      <th>0</th>\n",
              "      <td>0</td>\n",
              "      <td>3</td>\n",
              "      <td>22.0</td>\n",
              "      <td>7.2500</td>\n",
              "      <td>2</td>\n",
              "      <td>0</td>\n",
              "      <td>1</td>\n",
              "      <td>0</td>\n",
              "      <td>1</td>\n",
              "    </tr>\n",
              "    <tr>\n",
              "      <th>1</th>\n",
              "      <td>1</td>\n",
              "      <td>1</td>\n",
              "      <td>38.0</td>\n",
              "      <td>71.2833</td>\n",
              "      <td>2</td>\n",
              "      <td>1</td>\n",
              "      <td>0</td>\n",
              "      <td>0</td>\n",
              "      <td>0</td>\n",
              "    </tr>\n",
              "    <tr>\n",
              "      <th>2</th>\n",
              "      <td>1</td>\n",
              "      <td>3</td>\n",
              "      <td>26.0</td>\n",
              "      <td>7.9250</td>\n",
              "      <td>1</td>\n",
              "      <td>1</td>\n",
              "      <td>0</td>\n",
              "      <td>0</td>\n",
              "      <td>1</td>\n",
              "    </tr>\n",
              "    <tr>\n",
              "      <th>3</th>\n",
              "      <td>1</td>\n",
              "      <td>1</td>\n",
              "      <td>35.0</td>\n",
              "      <td>53.1000</td>\n",
              "      <td>2</td>\n",
              "      <td>1</td>\n",
              "      <td>0</td>\n",
              "      <td>0</td>\n",
              "      <td>1</td>\n",
              "    </tr>\n",
              "    <tr>\n",
              "      <th>4</th>\n",
              "      <td>0</td>\n",
              "      <td>3</td>\n",
              "      <td>35.0</td>\n",
              "      <td>8.0500</td>\n",
              "      <td>1</td>\n",
              "      <td>0</td>\n",
              "      <td>1</td>\n",
              "      <td>0</td>\n",
              "      <td>1</td>\n",
              "    </tr>\n",
              "  </tbody>\n",
              "</table>\n",
              "</div>"
            ],
            "text/plain": [
              "   Survived  Pclass   Age  ...  GenderClass_male  Embarked_Q  Embarked_S\n",
              "0         0       3  22.0  ...                 1           0           1\n",
              "1         1       1  38.0  ...                 0           0           0\n",
              "2         1       3  26.0  ...                 0           0           1\n",
              "3         1       1  35.0  ...                 0           0           1\n",
              "4         0       3  35.0  ...                 1           0           1\n",
              "\n",
              "[5 rows x 9 columns]"
            ]
          },
          "metadata": {
            "tags": []
          },
          "execution_count": 16
        }
      ]
    },
    {
      "cell_type": "markdown",
      "metadata": {
        "id": "Yxqn2sSYGA2Z",
        "colab_type": "text"
      },
      "source": [
        "Drawing __pair plot__ to know the joint relationship between __'Fare' , 'Age' , 'Pclass' & 'Survived'__"
      ]
    },
    {
      "cell_type": "code",
      "metadata": {
        "id": "Q6DidYM6GA2g",
        "colab_type": "code",
        "outputId": "19fb6668-346a-4887-e2d0-947004a3043f",
        "colab": {
          "base_uri": "https://localhost:8080/",
          "height": 558
        }
      },
      "source": [
        "sns.pairplot(titanic_data[[\"Fare\",\"Age\",\"Pclass\",\"Survived\"]],vars = [\"Fare\",\"Age\",\"Pclass\"],hue=\"Survived\", dropna=True,markers=[\"o\", \"s\"])\n",
        "plt.title('Pair Plot')"
      ],
      "execution_count": 17,
      "outputs": [
        {
          "output_type": "execute_result",
          "data": {
            "text/plain": [
              "Text(0.5, 1, 'Pair Plot')"
            ]
          },
          "metadata": {
            "tags": []
          },
          "execution_count": 17
        },
        {
          "output_type": "display_data",
          "data": {
            "image/png": "[encoded data removed]",
            "text/plain": [
              "<Figure size 594.05x540 with 12 Axes>"
            ]
          },
          "metadata": {
            "tags": []
          }
        }
      ]
    },
    {
      "cell_type": "markdown",
      "metadata": {
        "id": "hA8ndir8GA2i",
        "colab_type": "text"
      },
      "source": [
        "Observing the diagonal elements,\n",
        "- More people of __Pclass 1__ _survived_ than died (First peak of red is higher than blue)\n",
        "- More people of __Pclass 3__ _died_ than survived (Third peak of blue is higher than red)\n",
        "- More people of age group __20-40 died__ than survived.\n",
        "- Most of the people paying __less fare died__."
      ]
    },
    {
      "cell_type": "markdown",
      "metadata": {
        "id": "t5YMJKydGA2j",
        "colab_type": "text"
      },
      "source": [
        "Establishing __coorelation__ between all the features using __heatmap__."
      ]
    },
    {
      "cell_type": "code",
      "metadata": {
        "id": "b1e-120QGA2k",
        "colab_type": "code",
        "outputId": "71ccac9a-260f-4754-9a8c-96bdbd81729c",
        "colab": {
          "base_uri": "https://localhost:8080/",
          "height": 666
        }
      },
      "source": [
        "corr = titanic_data.corr()\n",
        "plt.figure(figsize=(10,10))\n",
        "sns.heatmap(corr,vmax=.8,linewidth=.01, square = True, annot = True,cmap='YlGnBu',linecolor ='black')\n",
        "plt.title('Correlation between features')"
      ],
      "execution_count": 18,
      "outputs": [
        {
          "output_type": "execute_result",
          "data": {
            "text/plain": [
              "Text(0.5, 1, 'Correlation between features')"
            ]
          },
          "metadata": {
            "tags": []
          },
          "execution_count": 18
        },
        {
          "output_type": "display_data",
          "data": {
            "image/png": "[encoded data removed]",
            "text/plain": [
              "<Figure size 720x720 with 2 Axes>"
            ]
          },
          "metadata": {
            "tags": []
          }
        }
      ]
    },
    {
      "cell_type": "markdown",
      "metadata": {
        "id": "Ogg9wnTOGA2n",
        "colab_type": "text"
      },
      "source": [
        "- __Age and Pclass are negatively corelated with Survived.__\n",
        "- FamilySize is made from Parch and SibSb only therefore high positive corelation among them.\n",
        "- __Fare and FamilySize__ are __positively coorelated with Survived.__\n",
        "- With high corelation we face __redundancy__ issues."
      ]
    },
    {
      "cell_type": "markdown",
      "metadata": {
        "id": "9Z8PGTBnGA2o",
        "colab_type": "text"
      },
      "source": [
        "<a id = section4></a>"
      ]
    },
    {
      "cell_type": "markdown",
      "metadata": {
        "id": "5Rb9UXKHGA2o",
        "colab_type": "text"
      },
      "source": [
        "## 4. Decision Tree"
      ]
    },
    {
      "cell_type": "markdown",
      "metadata": {
        "id": "H_Zod6c6GA2p",
        "colab_type": "text"
      },
      "source": [
        "<a id = section401></a>"
      ]
    },
    {
      "cell_type": "markdown",
      "metadata": {
        "id": "JJf7RkrsGA2p",
        "colab_type": "text"
      },
      "source": [
        "### 4.1 Introduction of Decision Tree"
      ]
    },
    {
      "cell_type": "markdown",
      "metadata": {
        "id": "U6DYpfswGA2q",
        "colab_type": "text"
      },
      "source": [
        "A __decision tree__ is one of most frequently and widely used supervised machine learning algorithms that can perform both __regression and classification tasks.__<br/>\n",
        "The intuition behind the decision tree algorithm is simple, yet also very powerful.<br/>\n",
        "\n",
        "Everyday we need to make numerous __decisions__, many smalls and a few big.<br>\n",
        "So, Whenever you are in a dilemna, if you'll keenly observe your thinking process. You'll find that, you are unconsciously using __decision tree approcah__ or you can also say that decision tree approach is based on our thinking process. <br/>\n",
        "![image.png](attachment:image.png)\n",
        "- A decision tree __split the data into multiple sets__.Then each of these sets is further split into subsets to arrive at a __decision__.<br/>\n",
        "- It is a very natural decision making process asking a series of question in a nested if then else statement.\n",
        "- On each node you ask a question to further split the data held by the node. <br/>\n",
        "\n",
        "\n"
      ]
    },
    {
      "cell_type": "markdown",
      "metadata": {
        "id": "iIgF8HseGA2q",
        "colab_type": "text"
      },
      "source": [
        "So, lets understand what is a decision tree with a help of a real life example.<br>\n",
        "\n",
        "\n",
        "Consider a scenario where a person asks you to lend them your car for a day, and you have to make a decision whether or not to lend them the car. There are several factors that help determine your decision, some of which have been listed below:\n",
        "\n",
        "1. __Is this person a close friend or just an acquaintance?__\n",
        " - If the person is just an acquaintance, then decline the request;\n",
        " - if the person is friend, then move to next step.\n",
        "2. __Is the person asking for the car for the first time? __\n",
        " - If so, lend them the car,\n",
        " - otherwise move to next step.\n",
        "3. __Was the car damaged last time they returned the car?__\n",
        " - If yes, decline the request; \n",
        " - if no, lend them the car.<br/>\n",
        "The decision tree for the aforementioned scenario looks like this:\n",
        "![image.png](attachment:image.png)"
      ]
    },
    {
      "cell_type": "markdown",
      "metadata": {
        "id": "jKr-I8YeGA2r",
        "colab_type": "text"
      },
      "source": [
        "The structure of decision tree resembles an __upside down tree__, with its roots at the top and braches are at the bottom. The end of the branch that doesnt split any more is the decision or leaf.\n",
        "![image.png](attachment:image.png)"
      ]
    },
    {
      "cell_type": "markdown",
      "metadata": {
        "id": "QhwYl-1qGA2r",
        "colab_type": "text"
      },
      "source": [
        "Now, lets see what is __Decision tree algorithm.__<br/> \n",
        "Decision tree is a type of __supervised learning algorithm__ (having a pre-defined target variable) that is mostly used in classification problems.\n",
        "- It works for both __categorical and continuous__ input and output variables.\n",
        "- In this technique, we __split the population__ or sample into two or more homogeneous sets (or sub-populations) based on most __significant splitter / differentiator__ in input variables."
      ]
    },
    {
      "cell_type": "markdown",
      "metadata": {
        "id": "8SnhmHIpGA2s",
        "colab_type": "text"
      },
      "source": [
        "![image.png](attachment:image.png)"
      ]
    },
    {
      "cell_type": "markdown",
      "metadata": {
        "id": "FUMjLFQuGA2s",
        "colab_type": "text"
      },
      "source": [
        "<a id = section402></a>"
      ]
    },
    {
      "cell_type": "markdown",
      "metadata": {
        "id": "nSRPx8V_GA2s",
        "colab_type": "text"
      },
      "source": [
        "### 4.2 Important Terminology related to Decision Trees"
      ]
    },
    {
      "cell_type": "markdown",
      "metadata": {
        "id": "bC1OKKNaGA2t",
        "colab_type": "text"
      },
      "source": [
        "Let’s look at the basic terminology used with Decision trees:\n",
        "\n",
        "- __Root Node__: <br/>It represents entire population or sample and this further gets divided into two or more homogeneous sets.\n",
        "- __Splitting__: <br/>It is a process of dividing a node into two or more sub-nodes.\n",
        "- __Decision Node__:<br/> When a sub-node splits into further sub-nodes, then it is called decision node.\n",
        "- __Leaf/ Terminal Node__:<br/> Nodes do not split is called Leaf or Terminal node.\n",
        "![image.png](attachment:image.png)"
      ]
    },
    {
      "cell_type": "markdown",
      "metadata": {
        "id": "Fk_RT-95GA2t",
        "colab_type": "text"
      },
      "source": [
        "- __Pruning__:<br/> When we remove sub-nodes of a decision node, this process is called pruning. You can say opposite process of splitting.\n",
        "- __Branch / Sub-Tree__:<br/> A sub section of entire tree is called branch or sub-tree.\n",
        "- __Parent and Child Node__:<br/> A node, which is divided into sub-nodes is called parent node of sub-nodes where as sub-nodes are the child of parent node."
      ]
    },
    {
      "cell_type": "markdown",
      "metadata": {
        "id": "ZN53CAiqGA2t",
        "colab_type": "text"
      },
      "source": [
        "<a id = section403></a>"
      ]
    },
    {
      "cell_type": "markdown",
      "metadata": {
        "id": "IcSALE51GA2u",
        "colab_type": "text"
      },
      "source": [
        "### 4.3 Types of Decision Trees"
      ]
    },
    {
      "cell_type": "markdown",
      "metadata": {
        "id": "r_CN9Y7pGA2u",
        "colab_type": "text"
      },
      "source": [
        "Types of decision tree is based on the __type of target variable__ we have. It can be of two types:\n",
        "\n",
        "- __Categorical Variable Decision Tree__: <br/>\n",
        " - Decision Tree which has __categorical target variable__ then it called as categorical variable decision tree.\n",
        "- __Continuous Variable Decision Tree__:<br/>\n",
        " - Decision Tree has __continuous target variable__ then it is called as Continuous Variable Decision Tree.<br/>\n",
        " \n",
        "__Example__:<br/>\n",
        "- Let’s say we have a problem to predict whether a customer will pay his renewal premium with an insurance company (__Yes/ No__).<br/> For this we are predicting values for categorical variable. So, the decision tree approach that will be used is __Categorical Variable Decision Tree.__ <br/>\n",
        "- Now, suppose insurance company does not have income details for all customers. But, we know that this is an important variable, then we can build a decision tree to predict customer income based on occupation, product and various other variables.<br/> In this case, we are predicting values for continuous variable. So , This approach is called __Continuous Variable Decision Tree__."
      ]
    },
    {
      "cell_type": "markdown",
      "metadata": {
        "id": "xzhI_F-_GA2v",
        "colab_type": "text"
      },
      "source": [
        "<a id = section404></a>"
      ]
    },
    {
      "cell_type": "markdown",
      "metadata": {
        "id": "REKewiYFGA2v",
        "colab_type": "text"
      },
      "source": [
        "### 4.4 Concept of Homogenity"
      ]
    },
    {
      "cell_type": "markdown",
      "metadata": {
        "id": "j9mq4uV4GA2v",
        "colab_type": "text"
      },
      "source": [
        "__Homogenous__ populations are __alike__ and __heterogeneous__ populations are __unlike__.<br/>\n",
        "- A heterogenous population is one where individuals are __not similar__ to one another.<br/>\n",
        "- For example, you could have a heterogenous population in terms of humans that have migrated from different regions of the world and currently live together. That population would likely be heterogenous in regards to height, hair texture, disease immunity, and other traits because of the varied background and genetics.\n",
        "\n",
        "![image.png](attachment:image.png)\n",
        "\n",
        "__Note__: In real world you would never get this level of homogeniety. So out of the hetrogenous options you need to select the one having maximum homoginiety. To select the feature which provide maximum homoginety we use __gini & entropy__ techniques.\n",
        "\n",
        "What Decision tree construction algorithm will try to do is to __create a split in such a way that the homogeneity of different pieces must be as high as possible.__"
      ]
    },
    {
      "cell_type": "markdown",
      "metadata": {
        "id": "xj0MCa9gGA2w",
        "colab_type": "text"
      },
      "source": [
        "__Example__"
      ]
    },
    {
      "cell_type": "markdown",
      "metadata": {
        "id": "fH70QD8rGA2w",
        "colab_type": "text"
      },
      "source": [
        "Let’s say we have a sample of __30 students__ with three variables:\n",
        "1. Gender (Boy/ Girl)\n",
        "2. Class (IX/ X) and,\n",
        "3. Height (5 to 6 ft).<br/>\n",
        "\n",
        "15 out of these 30 play cricket in leisure time. Now, I want to __create a model to predict who will play cricket during leisure period__? In this problem, we need to segregate students who play cricket in their leisure time based on highly significant input variable among all three.\n",
        "\n",
        "This is where decision tree helps, it will segregate the students based on all values of three variables and identify the variable, which creates the best homogeneous sets of students (which are heterogeneous to each other). In the snapshot below, you can see that variable __Gender__ is able to identify best homogeneous sets compared to the other two variables.\n",
        "![image.png](attachment:image.png) "
      ]
    },
    {
      "cell_type": "markdown",
      "metadata": {
        "id": "qNtVj9JbGA2w",
        "colab_type": "text"
      },
      "source": [
        "As mentioned above, decision tree identifies the most significant variable and it’s value that gives best homogeneous sets of population. Now the question which arises is, how does it identify the variable and the split? To do this, decision tree uses various algorithms, which we will shall discuss in the following section."
      ]
    },
    {
      "cell_type": "markdown",
      "metadata": {
        "id": "wZu413DaGA2x",
        "colab_type": "text"
      },
      "source": [
        "<a id = section405></a>"
      ]
    },
    {
      "cell_type": "markdown",
      "metadata": {
        "id": "CRzMtmGCGA2x",
        "colab_type": "text"
      },
      "source": [
        "### 4.5 How does a tree decide where to split?\n",
        "The decision of making strategic splits heavily affects a tree’s accuracy. The decision criteria is different for classification and regression trees.\n",
        "\n",
        "Decision trees use multiple algorithms to decide to split a node in two or more sub-nodes. The creation of sub-nodes increases the homogeneity of resultant sub-nodes. In other words, we can say that purity of the node increases with respect to the target variable. Decision tree splits the nodes on all available variables and then selects the split which results in most homogeneous sub-nodes.\n",
        "\n",
        "The algorithm selection is also based on type of target variables. Let’s look at the most commonly used algorithms in decision tree:\n",
        "\n",
        " "
      ]
    },
    {
      "cell_type": "markdown",
      "metadata": {
        "id": "2mLJ4dvqGA2x",
        "colab_type": "text"
      },
      "source": [
        "<a id = GiniIndex></a>"
      ]
    },
    {
      "cell_type": "markdown",
      "metadata": {
        "id": "RkZXdemuGA2y",
        "colab_type": "text"
      },
      "source": [
        "#### 4.5.1 Gini Index\n",
        "Gini index says, if we select two items from a population at random then they must be of same class and probability for this is 1 if population is pure.\n",
        "\n",
        "- It works with categorical target variable “Success” or “Failure”.\n",
        "- It performs only Binary splits\n",
        "- Higher the value of Gini higher the homogeneity.\n",
        "- CART (Classification and Regression Tree) uses Gini method to create binary splits.\n",
        "\n",
        "__Steps to Calculate Gini for a split__\n",
        "\n",
        "1. Calculate Gini for sub-nodes, using formula sum of square of probability for success and failure (p<sup>2</sup> `+` q<sup>2</sup>).\n",
        "2. Calculate Gini for split using weighted Gini score of each node of that split\n",
        "\n",
        "\n",
        "__Example__: \n",
        "– Referring to example used above, where we want to segregate the students based on target variable ( playing cricket or not ). In the snapshot below, we split the population using two input variables Gender and Class. Now, I want to identify which split is producing more homogeneous sub-nodes using Gini index.\n",
        "![image.png](attachment:image.png)\n",
        "\n",
        "\n",
        "__Gini for Root node__: \n",
        " - (0.5) `*` (0.5) `+` (0.5) `*` (0.5) = 0.50\n",
        " \n",
        "__Split on Gender__:\n",
        "\n",
        "1. Gini for sub-node __Female__\n",
        "  -  (0.2) `*` (0.2) `+` (0.8) `*` (0.8) = 0.68\n",
        "  \n",
        "  \n",
        "2. Gini for sub-node __Male__\n",
        "  -  (0.65) `*` (0.65) `+` (0.35) `*` (0.35) = 0.55\n",
        "  \n",
        "  \n",
        "3. Weighted Gini for Split __Gender__ \n",
        "  -  (10/30) `*` 0.68 `+` (20/30) `*` 0.55 = 0.59\n",
        "  \n",
        "\n",
        "__Split on Class__ : \n",
        "\n",
        "1. Gini for sub-node __Class IX__ =\n",
        "  - (0.43) `*` (0.43) `+` (0.57) `*` (0.57) = 0.51\n",
        "  \n",
        "  \n",
        "2. Gini for sub-node __Class X__ =\n",
        "  - (0.56) `*` (0.56) `+` (0.44) `*` (0.44) = 0.51\n",
        "  \n",
        "  \n",
        "3. Calculate weighted Gini for Split __Class__  \n",
        "  - (14/30) `*` 0.51 `+` (16/30) `*` 0.51 = 0.51\n",
        "  \n",
        "  \n",
        "\n",
        "\n",
        "Above, you can see that:\n",
        "__Gini score__ for Split on __Gender__ __`>`__ Gini score for Split on __Class__.<br/>\n",
        "Also, __Gini score__ for __Gender__ __`>`__ Gini score for __root node__.<br/>\n",
        "Hence, the __node split will take place on Gender.__"
      ]
    },
    {
      "cell_type": "markdown",
      "metadata": {
        "id": "1t9phBtaGA2y",
        "colab_type": "text"
      },
      "source": [
        "<a id = InformationGain></a>"
      ]
    },
    {
      "cell_type": "markdown",
      "metadata": {
        "id": "dmudft9TGA2y",
        "colab_type": "text"
      },
      "source": [
        "#### 4.5.2 Information Gain:\n",
        "Look at the image below and think which node can be described easily.<br/>\n",
        "I am sure, your answer is C because it requires less information as all values are similar. On the other hand, B requires more information to describe it and A requires the maximum information.<br/> In other words, we can say that __C is a Pure node, B is less Impure and A is more impure.__\n",
        "![image.png](attachment:image.png)\n",
        "\n",
        "Now, we can build a conclusion that:\n",
        "- less impure node requires less information to describe it.\n",
        "- more impure node requires more information. \n",
        "\n",
        "Information theory is a measure to define this degree of disorganization in a system by a parameter known as __Entropy__.\n",
        "- If the sample is completely __homogeneous__, then the __entropy is zero__ and<br/>\n",
        "- If the sample is an __equally divided__ (50% – 50%), it has __entropy of one__.\n",
        "\n"
      ]
    },
    {
      "cell_type": "markdown",
      "metadata": {
        "id": "Gzh6UuORGA2z",
        "colab_type": "text"
      },
      "source": [
        "### Entropy can be calculated using formula:\n",
        "![image.png](attachment:image.png)\n",
        "where,<br/>\n",
        "__p__ & __q__ is __probability of success and failure__ respectively in that node.<br/> \n",
        "- __Information Gain = 1 - Entropy__.<br/>\n",
        "- The model will choose the split which facilitates __maximum information gain__, which in turn means __minimum Entropy__.<br/>\n",
        "- So, it chooses the split which has __lowest entropy__ compared to parent node and other splits.\n",
        "- __The lesser the entropy, the better it is.__\n",
        "\n",
        "__Steps to calculate entropy for a split__:\n",
        "\n",
        "1. Calculate entropy of parent node\n",
        "2. Calculate entropy of each individual node of split and \n",
        "3. Calculate weighted average of all sub-nodes available in split.\n",
        "\n",
        "\n",
        "Example: Let’s use this method to identify best split for student example.\n",
        "\n",
        " - __Entropy for parent node__\n",
        "    - `-` (15/30) log2 (15/30) `–` (15/30) log2 (15/30) = 1.<br/>\n",
        "      Here 1 shows that it is a impure node.\n",
        "      \n",
        "      \n",
        "- __Entropy for Female node__ \n",
        "    - `-` (2/10) log2 (2/10) `–` (8/10) log2 (8/10) = 0.72 \n",
        "    \n",
        "    \n",
        "- __Entropy for male node__\n",
        "    - `-` (13/20) log2 (13/20) `–` (7/20) log2 (7/20) = 0.93\n",
        "    \n",
        "    \n",
        "- __Entropy for split Gender__ = Weighted entropy of sub`-`nodes \n",
        "   - (10/30) `*` 0.72 + (20/30) `*` 0.93 = 0.86\n",
        "   \n",
        "   \n",
        "- __Entropy for Class IX node__,\n",
        "   - `-`(6/14) log2 (6/14) `–` (8/14) log2 (8/14) = 0.99\n",
        "   \n",
        "   \n",
        "- __Entropy for Class X node__,\n",
        "   - `-`(9/16) log2 (9/16) `–` (7/16) log2 (7/16) = 0.99.\n",
        "   \n",
        "   \n",
        "- __Entropy for split Class__,\n",
        "   -  (14/30) `*` 0.99 `+` (16/30) `*` 0.99 = 0.99\n",
        "\n",
        "Observe that:<br/>\n",
        "__Entropy for Split on Gender < Entropy for Split on Class__,<br/> So, __the tree will split on Gender.__<br/>\n"
      ]
    },
    {
      "cell_type": "markdown",
      "metadata": {
        "id": "XuyEzfUGGA2z",
        "colab_type": "text"
      },
      "source": [
        "<a id = section406></a>"
      ]
    },
    {
      "cell_type": "markdown",
      "metadata": {
        "id": "nZx1GC69GA2z",
        "colab_type": "text"
      },
      "source": [
        "### 4.6  Advantages of using Decision Tree"
      ]
    },
    {
      "cell_type": "markdown",
      "metadata": {
        "id": "bbiNvXm0GA20",
        "colab_type": "text"
      },
      "source": [
        "- __Easy to Understand__: \n",
        " - Decision tree output is very easy to understand even for people from non-analytical background. It does not require any statistical knowledge to read and interpret them. \n",
        " - Its graphical representation is very intuitive and users can easily relate their hypothesis.\n",
        "- __Less data cleaning required__: \n",
        " - It requires less data cleaning compared to some other modeling techniques.\n",
        " - It is not influenced by outliers and missing values to a fair degree.\n",
        "- __Data type is not a constraint__: \n",
        " - It can handle both numerical and categorical variables.\n",
        "- __Non Parametric Method__: \n",
        " - Decision tree is considered to be a non-parametric method. This means that decision trees have no assumptions about the space distribution and the classifier structure."
      ]
    },
    {
      "cell_type": "markdown",
      "metadata": {
        "id": "p5oY3A9AGA20",
        "colab_type": "text"
      },
      "source": [
        "<a id = section407></a>"
      ]
    },
    {
      "cell_type": "markdown",
      "metadata": {
        "id": "oj9altalGA20",
        "colab_type": "text"
      },
      "source": [
        "### 4.7 Shortcomings of Decision Trees\n",
        "- __Over fitting__:\n",
        " - Over fitting is one of the most practical difficulty for decision tree models. This problem gets solved by setting constraints on model parameters and pruning (discussed in detailed below).\n",
        "- __Not a great contributor for regression__:\n",
        " - While working with continuous numerical variables, decision tree looses information when it categorizes variables in different categories."
      ]
    },
    {
      "cell_type": "markdown",
      "metadata": {
        "id": "uNzBaFl0GA21",
        "colab_type": "text"
      },
      "source": [
        "<a id = section408></a>"
      ]
    },
    {
      "cell_type": "markdown",
      "metadata": {
        "id": "76FyMu96GA21",
        "colab_type": "text"
      },
      "source": [
        "### 4.8 Preparing X and y using pandas"
      ]
    },
    {
      "cell_type": "code",
      "metadata": {
        "id": "FIilFoS0GA21",
        "colab_type": "code",
        "outputId": "f13b311d-10ee-46d1-81e8-86549b6bbc4c",
        "colab": {
          "base_uri": "https://localhost:8080/",
          "height": 204
        }
      },
      "source": [
        "X = titanic.loc[:,titanic.columns != 'Survived']\n",
        "X.head()"
      ],
      "execution_count": 19,
      "outputs": [
        {
          "output_type": "execute_result",
          "data": {
            "text/html": [
              "<div>\n",
              "<style scoped>\n",
              "    .dataframe tbody tr th:only-of-type {\n",
              "        vertical-align: middle;\n",
              "    }\n",
              "\n",
              "    .dataframe tbody tr th {\n",
              "        vertical-align: top;\n",
              "    }\n",
              "\n",
              "    .dataframe thead th {\n",
              "        text-align: right;\n",
              "    }\n",
              "</style>\n",
              "<table border=\"1\" class=\"dataframe\">\n",
              "  <thead>\n",
              "    <tr style=\"text-align: right;\">\n",
              "      <th></th>\n",
              "      <th>Pclass</th>\n",
              "      <th>Age</th>\n",
              "      <th>Fare</th>\n",
              "      <th>FamilySize</th>\n",
              "      <th>GenderClass_female</th>\n",
              "      <th>GenderClass_male</th>\n",
              "      <th>Embarked_Q</th>\n",
              "      <th>Embarked_S</th>\n",
              "    </tr>\n",
              "  </thead>\n",
              "  <tbody>\n",
              "    <tr>\n",
              "      <th>0</th>\n",
              "      <td>3</td>\n",
              "      <td>22.0</td>\n",
              "      <td>7.2500</td>\n",
              "      <td>2</td>\n",
              "      <td>0</td>\n",
              "      <td>1</td>\n",
              "      <td>0</td>\n",
              "      <td>1</td>\n",
              "    </tr>\n",
              "    <tr>\n",
              "      <th>1</th>\n",
              "      <td>1</td>\n",
              "      <td>38.0</td>\n",
              "      <td>71.2833</td>\n",
              "      <td>2</td>\n",
              "      <td>1</td>\n",
              "      <td>0</td>\n",
              "      <td>0</td>\n",
              "      <td>0</td>\n",
              "    </tr>\n",
              "    <tr>\n",
              "      <th>2</th>\n",
              "      <td>3</td>\n",
              "      <td>26.0</td>\n",
              "      <td>7.9250</td>\n",
              "      <td>1</td>\n",
              "      <td>1</td>\n",
              "      <td>0</td>\n",
              "      <td>0</td>\n",
              "      <td>1</td>\n",
              "    </tr>\n",
              "    <tr>\n",
              "      <th>3</th>\n",
              "      <td>1</td>\n",
              "      <td>35.0</td>\n",
              "      <td>53.1000</td>\n",
              "      <td>2</td>\n",
              "      <td>1</td>\n",
              "      <td>0</td>\n",
              "      <td>0</td>\n",
              "      <td>1</td>\n",
              "    </tr>\n",
              "    <tr>\n",
              "      <th>4</th>\n",
              "      <td>3</td>\n",
              "      <td>35.0</td>\n",
              "      <td>8.0500</td>\n",
              "      <td>1</td>\n",
              "      <td>0</td>\n",
              "      <td>1</td>\n",
              "      <td>0</td>\n",
              "      <td>1</td>\n",
              "    </tr>\n",
              "  </tbody>\n",
              "</table>\n",
              "</div>"
            ],
            "text/plain": [
              "   Pclass   Age     Fare  ...  GenderClass_male  Embarked_Q  Embarked_S\n",
              "0       3  22.0   7.2500  ...                 1           0           1\n",
              "1       1  38.0  71.2833  ...                 0           0           0\n",
              "2       3  26.0   7.9250  ...                 0           0           1\n",
              "3       1  35.0  53.1000  ...                 0           0           1\n",
              "4       3  35.0   8.0500  ...                 1           0           1\n",
              "\n",
              "[5 rows x 8 columns]"
            ]
          },
          "metadata": {
            "tags": []
          },
          "execution_count": 19
        }
      ]
    },
    {
      "cell_type": "code",
      "metadata": {
        "id": "FODCv5W1EmAv",
        "colab_type": "code",
        "outputId": "0192a974-ad91-4305-acb5-4319f8b4c4cf",
        "colab": {
          "base_uri": "https://localhost:8080/",
          "height": 34
        }
      },
      "source": [
        "len(titanic)"
      ],
      "execution_count": 20,
      "outputs": [
        {
          "output_type": "execute_result",
          "data": {
            "text/plain": [
              "891"
            ]
          },
          "metadata": {
            "tags": []
          },
          "execution_count": 20
        }
      ]
    },
    {
      "cell_type": "code",
      "metadata": {
        "id": "fFNADdr6GA24",
        "colab_type": "code",
        "colab": {}
      },
      "source": [
        "y = titanic.Survived "
      ],
      "execution_count": 0,
      "outputs": []
    },
    {
      "cell_type": "code",
      "metadata": {
        "id": "OMZxHOeVDLLH",
        "colab_type": "code",
        "outputId": "6ebfef2b-655b-4590-9b9b-49a3639b4048",
        "colab": {
          "base_uri": "https://localhost:8080/",
          "height": 34
        }
      },
      "source": [
        "len(X)"
      ],
      "execution_count": 22,
      "outputs": [
        {
          "output_type": "execute_result",
          "data": {
            "text/plain": [
              "891"
            ]
          },
          "metadata": {
            "tags": []
          },
          "execution_count": 22
        }
      ]
    },
    {
      "cell_type": "code",
      "metadata": {
        "id": "oBQfGiEdDNre",
        "colab_type": "code",
        "outputId": "81c0acfd-cfaf-47e5-9ed5-4849ea3f93a8",
        "colab": {
          "base_uri": "https://localhost:8080/",
          "height": 34
        }
      },
      "source": [
        "len(y)"
      ],
      "execution_count": 23,
      "outputs": [
        {
          "output_type": "execute_result",
          "data": {
            "text/plain": [
              "891"
            ]
          },
          "metadata": {
            "tags": []
          },
          "execution_count": 23
        }
      ]
    },
    {
      "cell_type": "markdown",
      "metadata": {
        "id": "lJ7imPrlGA25",
        "colab_type": "text"
      },
      "source": [
        "<a id=section409></a>"
      ]
    },
    {
      "cell_type": "markdown",
      "metadata": {
        "id": "IExYFEh4GA25",
        "colab_type": "text"
      },
      "source": [
        "### 4.9 Splitting X and y into training and test datasets."
      ]
    },
    {
      "cell_type": "code",
      "metadata": {
        "id": "YOFuU2awGA26",
        "colab_type": "code",
        "colab": {}
      },
      "source": [
        "from sklearn.model_selection import train_test_split\n",
        "X_train, X_test, y_train, y_test = train_test_split(X, y, test_size=0.20, random_state=1)"
      ],
      "execution_count": 0,
      "outputs": []
    },
    {
      "cell_type": "code",
      "metadata": {
        "id": "8c65wJqgGA27",
        "colab_type": "code",
        "outputId": "40e52211-3e86-44ac-a4ed-8db66b5e8a35",
        "colab": {
          "base_uri": "https://localhost:8080/",
          "height": 51
        }
      },
      "source": [
        "print(X_train.shape)\n",
        "print(y_train.shape)"
      ],
      "execution_count": 25,
      "outputs": [
        {
          "output_type": "stream",
          "text": [
            "(712, 8)\n",
            "(712,)\n"
          ],
          "name": "stdout"
        }
      ]
    },
    {
      "cell_type": "markdown",
      "metadata": {
        "id": "-DIraJq0GA28",
        "colab_type": "text"
      },
      "source": [
        "<a id=section410></a>"
      ]
    },
    {
      "cell_type": "markdown",
      "metadata": {
        "id": "HpZHem2xGA29",
        "colab_type": "text"
      },
      "source": [
        "## 4.10 Decision Tree in scikit-learn"
      ]
    },
    {
      "cell_type": "markdown",
      "metadata": {
        "id": "kUbi6oLbGA29",
        "colab_type": "text"
      },
      "source": [
        "To apply any machine learning algorithm on your dataset, basically there are 4 steps:\n",
        "1. Load the algorithm\n",
        "2. Instantiate and Fit the model to the training dataset\n",
        "3. Prediction on the test set\n",
        "4. Calculating the accuracy of the model\n",
        "\n",
        "The code block given below shows how these steps are carried out:<br/>\n",
        "\n",
        "``` from sklearn import tree\n",
        "    model = tree.DecisionTreeClassifier(criterion='gini')\n",
        "    model.fit(X, y)\n",
        "    predicted= model.predict(x_test)\n",
        "    ```"
      ]
    },
    {
      "cell_type": "code",
      "metadata": {
        "id": "-XftKLZgGA2-",
        "colab_type": "code",
        "outputId": "09e04c43-e2aa-4b6e-aa4b-50c349c12bb8",
        "colab": {
          "base_uri": "https://localhost:8080/",
          "height": 119
        }
      },
      "source": [
        "from sklearn import tree\n",
        "model = tree.DecisionTreeClassifier(random_state = 0,criterion=\"entropy\") #Base Model \n",
        "model.fit(X_train, y_train)"
      ],
      "execution_count": 26,
      "outputs": [
        {
          "output_type": "execute_result",
          "data": {
            "text/plain": [
              "DecisionTreeClassifier(ccp_alpha=0.0, class_weight=None, criterion='entropy',\n",
              "                       max_depth=None, max_features=None, max_leaf_nodes=None,\n",
              "                       min_impurity_decrease=0.0, min_impurity_split=None,\n",
              "                       min_samples_leaf=1, min_samples_split=2,\n",
              "                       min_weight_fraction_leaf=0.0, presort='deprecated',\n",
              "                       random_state=0, splitter='best')"
            ]
          },
          "metadata": {
            "tags": []
          },
          "execution_count": 26
        }
      ]
    },
    {
      "cell_type": "markdown",
      "metadata": {
        "id": "CQi2hO90GA2_",
        "colab_type": "text"
      },
      "source": [
        "- __Plotting our model of decision tree__"
      ]
    },
    {
      "cell_type": "code",
      "metadata": {
        "id": "_wGyqh8PGA2_",
        "colab_type": "code",
        "outputId": "f39bafab-69e3-4b35-b53e-663eb8734ff6",
        "colab": {
          "base_uri": "https://localhost:8080/",
          "height": 34
        }
      },
      "source": [
        "from graphviz import Source\n",
        "graph = Source( tree.export_graphviz(model, out_file=None,filled=True, \n",
        "                                rounded=True,  \n",
        "                                special_characters=True, feature_names=X.columns))\n",
        "graph.format = 'png'\n",
        "graph.render('dtree_render',view=True)"
      ],
      "execution_count": 28,
      "outputs": [
        {
          "output_type": "execute_result",
          "data": {
            "text/plain": [
              "'dtree_render.png'"
            ]
          },
          "metadata": {
            "tags": []
          },
          "execution_count": 28
        }
      ]
    },
    {
      "cell_type": "markdown",
      "metadata": {
        "id": "EK15i41XGA3B",
        "colab_type": "text"
      },
      "source": [
        "<a id=section411></a>"
      ]
    },
    {
      "cell_type": "markdown",
      "metadata": {
        "id": "sGIniodGGA3B",
        "colab_type": "text"
      },
      "source": [
        "### 4.11 Using the Model for Prediction"
      ]
    },
    {
      "cell_type": "code",
      "metadata": {
        "id": "iOACAsLhGA3B",
        "colab_type": "code",
        "colab": {}
      },
      "source": [
        "y_pred_train = model.predict(X_train)  "
      ],
      "execution_count": 0,
      "outputs": []
    },
    {
      "cell_type": "code",
      "metadata": {
        "id": "zBz_ZOEMGA3D",
        "colab_type": "code",
        "colab": {}
      },
      "source": [
        "y_pred_test = model.predict(X_test)                                                           # make predictions on the testing set"
      ],
      "execution_count": 0,
      "outputs": []
    },
    {
      "cell_type": "markdown",
      "metadata": {
        "id": "1E_lRQzoGA3E",
        "colab_type": "text"
      },
      "source": [
        "- Now lets see some model evaluation techniques."
      ]
    },
    {
      "cell_type": "markdown",
      "metadata": {
        "id": "xjrMUmw0GA3F",
        "colab_type": "text"
      },
      "source": [
        "<a id = section5></a>"
      ]
    },
    {
      "cell_type": "markdown",
      "metadata": {
        "id": "JlnFIR-NGA3F",
        "colab_type": "text"
      },
      "source": [
        "## 5. Model evaluation "
      ]
    },
    {
      "cell_type": "markdown",
      "metadata": {
        "id": "WmJtd5faGA3F",
        "colab_type": "text"
      },
      "source": [
        "__Error__ is the _deviation_ of the values _predicted_ by the model with the _true_ values.<br/>\n",
        "We will use __accuracy score __ and __confusion matrix__ for evaluation."
      ]
    },
    {
      "cell_type": "markdown",
      "metadata": {
        "id": "kZdoP9X8GA3F",
        "colab_type": "text"
      },
      "source": [
        "<a id=section501></a>"
      ]
    },
    {
      "cell_type": "markdown",
      "metadata": {
        "id": "vTkR6aNpGA3G",
        "colab_type": "text"
      },
      "source": [
        "### 5.1 Model Evaluation using __accuracy_score__"
      ]
    },
    {
      "cell_type": "code",
      "metadata": {
        "id": "YR5TRWHrGA3G",
        "colab_type": "code",
        "outputId": "c85b971b-ba5c-4c6a-be45-3e78dab81f1e",
        "colab": {
          "base_uri": "https://localhost:8080/",
          "height": 34
        }
      },
      "source": [
        "from sklearn.metrics import accuracy_score\n",
        "print('Accuracy score for test data is:', accuracy_score(y_test,y_pred_test))"
      ],
      "execution_count": 33,
      "outputs": [
        {
          "output_type": "stream",
          "text": [
            "Accuracy score for test data is: 0.7541899441340782\n"
          ],
          "name": "stdout"
        }
      ]
    },
    {
      "cell_type": "markdown",
      "metadata": {
        "id": "n5qbzyI9GA3H",
        "colab_type": "text"
      },
      "source": [
        "<a id = section502></a>"
      ]
    },
    {
      "cell_type": "markdown",
      "metadata": {
        "id": "KBJ__Pt3GA3I",
        "colab_type": "text"
      },
      "source": [
        "### 5.2 Model Evaluation using confusion matrix"
      ]
    },
    {
      "cell_type": "markdown",
      "metadata": {
        "id": "yPrntTpVGA3I",
        "colab_type": "text"
      },
      "source": [
        "A __confusion matrix__ is a __summary__ of prediction results on a classification problem.\n",
        "\n",
        "The number of correct and incorrect predictions are summarized with count values and broken down by each class. <br/>\n",
        "Below is a diagram showing a general confusion matrix.\n",
        "![image.png](attachment:image.png)"
      ]
    },
    {
      "cell_type": "code",
      "metadata": {
        "id": "3F6fqZA1GA3J",
        "colab_type": "code",
        "outputId": "0546f097-37ae-45b6-fe08-4dccb896c61e",
        "colab": {
          "base_uri": "https://localhost:8080/",
          "height": 68
        }
      },
      "source": [
        "from sklearn.metrics import confusion_matrix\n",
        "\n",
        "confusion_matrix = pd.DataFrame(confusion_matrix(y_test, y_pred_test))\n",
        "\n",
        "confusion_matrix.index = ['Actual Died','Actual Survived']\n",
        "confusion_matrix.columns = ['Predicted Died','Predicted Survived']\n",
        "print(confusion_matrix)"
      ],
      "execution_count": 34,
      "outputs": [
        {
          "output_type": "stream",
          "text": [
            "                 Predicted Died  Predicted Survived\n",
            "Actual Died                  88                  18\n",
            "Actual Survived              26                  47\n"
          ],
          "name": "stdout"
        }
      ]
    },
    {
      "cell_type": "markdown",
      "metadata": {
        "id": "oqtnSpp6GA3K",
        "colab_type": "text"
      },
      "source": [
        "This means 88 + 51 = __139 correct predictions__ & 22 + 18 = __40 false predictions__."
      ]
    },
    {
      "cell_type": "markdown",
      "metadata": {
        "id": "M9HUP80FGA3M",
        "colab_type": "text"
      },
      "source": [
        "<a id = section6></a>"
      ]
    },
    {
      "cell_type": "markdown",
      "metadata": {
        "id": "HYsKsqEwGA3N",
        "colab_type": "text"
      },
      "source": [
        "## 6. Decision Tree with Gridsearch\n",
        "<br/>\n",
        "Applying __GridsearchCV__ method for __exhaustive search over specified parameter values__ of estimator.\n",
        "To know more about the different parameters in decision tree classifier, refer the [documentation](http://scikit-learn.org/stable/modules/generated/sklearn.tree.DecisionTreeClassifier.html). <br/>\n",
        "Below we will apply gridsearch over the following parameters:\n",
        "- criterion \n",
        "- max_depth \n",
        "- max_features\n",
        "\n",
        "You can change other parameters also and compare the impact of it via calculating __accuracy score & confusion matrix__"
      ]
    },
    {
      "cell_type": "code",
      "metadata": {
        "id": "Z6DUm3d8GA3N",
        "colab_type": "code",
        "outputId": "1ce3dac8-9afa-4097-a434-0b31efd8d468",
        "colab": {
          "base_uri": "https://localhost:8080/",
          "height": 323
        }
      },
      "source": [
        "from sklearn.tree import DecisionTreeClassifier\n",
        "from sklearn.model_selection import GridSearchCV\n",
        "\n",
        "decision_tree_classifier = DecisionTreeClassifier(random_state = 0)\n",
        "\n",
        "\n",
        "tree_para = [{'criterion':['gini','entropy'],'max_depth': range(2,60),\n",
        "                             'max_features': ['sqrt', 'log2', None] }]\n",
        "                            \n",
        "                            \n",
        "\n",
        "grid_search = GridSearchCV(decision_tree_classifier,tree_para, cv=10, refit='AUC')\n",
        "grid_search.fit(X_train, y_train)"
      ],
      "execution_count": 35,
      "outputs": [
        {
          "output_type": "execute_result",
          "data": {
            "text/plain": [
              "GridSearchCV(cv=10, error_score=nan,\n",
              "             estimator=DecisionTreeClassifier(ccp_alpha=0.0, class_weight=None,\n",
              "                                              criterion='gini', max_depth=None,\n",
              "                                              max_features=None,\n",
              "                                              max_leaf_nodes=None,\n",
              "                                              min_impurity_decrease=0.0,\n",
              "                                              min_impurity_split=None,\n",
              "                                              min_samples_leaf=1,\n",
              "                                              min_samples_split=2,\n",
              "                                              min_weight_fraction_leaf=0.0,\n",
              "                                              presort='deprecated',\n",
              "                                              random_state=0, splitter='best'),\n",
              "             iid='deprecated', n_jobs=None,\n",
              "             param_grid=[{'criterion': ['gini', 'entropy'],\n",
              "                          'max_depth': range(2, 60),\n",
              "                          'max_features': ['sqrt', 'log2', None]}],\n",
              "             pre_dispatch='2*n_jobs', refit='AUC', return_train_score=False,\n",
              "             scoring=None, verbose=0)"
            ]
          },
          "metadata": {
            "tags": []
          },
          "execution_count": 35
        }
      ]
    },
    {
      "cell_type": "code",
      "metadata": {
        "id": "BB8tyMrWmU2m",
        "colab_type": "code",
        "outputId": "1bbaa735-9952-489f-c4d3-0daeddccf098",
        "colab": {
          "base_uri": "https://localhost:8080/",
          "height": 119
        }
      },
      "source": [
        "grid_search.best_estimator_"
      ],
      "execution_count": 36,
      "outputs": [
        {
          "output_type": "execute_result",
          "data": {
            "text/plain": [
              "DecisionTreeClassifier(ccp_alpha=0.0, class_weight=None, criterion='gini',\n",
              "                       max_depth=6, max_features='log2', max_leaf_nodes=None,\n",
              "                       min_impurity_decrease=0.0, min_impurity_split=None,\n",
              "                       min_samples_leaf=1, min_samples_split=2,\n",
              "                       min_weight_fraction_leaf=0.0, presort='deprecated',\n",
              "                       random_state=0, splitter='best')"
            ]
          },
          "metadata": {
            "tags": []
          },
          "execution_count": 36
        }
      ]
    },
    {
      "cell_type": "markdown",
      "metadata": {
        "id": "wUDjuhYyGA3O",
        "colab_type": "text"
      },
      "source": [
        "- Using the model for __prediction__"
      ]
    },
    {
      "cell_type": "code",
      "metadata": {
        "id": "JXCt6GYtGA3P",
        "colab_type": "code",
        "colab": {}
      },
      "source": [
        "y_pred_test1 = grid_search.predict(X_test)"
      ],
      "execution_count": 0,
      "outputs": []
    },
    {
      "cell_type": "markdown",
      "metadata": {
        "id": "0skqeYv0GA3P",
        "colab_type": "text"
      },
      "source": [
        "- __Model Evaluation__ using __accuracy_score__"
      ]
    },
    {
      "cell_type": "code",
      "metadata": {
        "id": "UqVlg780GA3Q",
        "colab_type": "code",
        "outputId": "09e575bd-bb08-4d18-d9ea-f12b4cfa88eb",
        "colab": {
          "base_uri": "https://localhost:8080/",
          "height": 34
        }
      },
      "source": [
        "from sklearn.metrics import accuracy_score\n",
        "print('Accuracy score for test data is:', accuracy_score(y_test,y_pred_test1))"
      ],
      "execution_count": 38,
      "outputs": [
        {
          "output_type": "stream",
          "text": [
            "Accuracy score for test data is: 0.7877094972067039\n"
          ],
          "name": "stdout"
        }
      ]
    },
    {
      "cell_type": "markdown",
      "metadata": {
        "id": "QxB9g9LYGA3R",
        "colab_type": "text"
      },
      "source": [
        "- __Model Evaluation__ using __confusion matrix__"
      ]
    },
    {
      "cell_type": "code",
      "metadata": {
        "id": "vMmj196OGA3R",
        "colab_type": "code",
        "outputId": "3d8afdeb-ca10-4910-80de-85b55d70a57f",
        "colab": {
          "base_uri": "https://localhost:8080/",
          "height": 68
        }
      },
      "source": [
        "from sklearn.metrics import confusion_matrix\n",
        "\n",
        "confusion_matrix = pd.DataFrame(confusion_matrix(y_test, y_pred_test1))\n",
        "\n",
        "confusion_matrix.index = ['Actual Died','Actual Survived']\n",
        "confusion_matrix.columns = ['Predicted Died','Predicted Survived']\n",
        "print(confusion_matrix)"
      ],
      "execution_count": 39,
      "outputs": [
        {
          "output_type": "stream",
          "text": [
            "                 Predicted Died  Predicted Survived\n",
            "Actual Died                  98                   8\n",
            "Actual Survived              30                  43\n"
          ],
          "name": "stdout"
        }
      ]
    },
    {
      "cell_type": "markdown",
      "metadata": {
        "id": "yRReTGDAGA3U",
        "colab_type": "text"
      },
      "source": [
        "You can see 95 + 49 = __144 correct predictions__ & 24 + 11 = __35 false predictions__."
      ]
    },
    {
      "cell_type": "markdown",
      "metadata": {
        "id": "48slZATFGA3U",
        "colab_type": "text"
      },
      "source": [
        "__Observations:__\n",
        "\n",
        "- __With gridsearch__ *accuracy_score* __increased__ from __0.765 to 0.804__ and the __number of correct predictions increased from 139 to 144__ and number of false predictions __decreased__ from __40 to 35__. "
      ]
    },
    {
      "cell_type": "code",
      "metadata": {
        "id": "Z_8ZVKrJGA3U",
        "colab_type": "code",
        "outputId": "7c9d4f2f-0264-43e7-aa5e-daa309bb31a5",
        "colab": {
          "base_uri": "https://localhost:8080/",
          "height": 85
        }
      },
      "source": [
        "from sklearn.ensemble import RandomForestClassifier\n",
        "model = RandomForestClassifier(random_state = 0)\n",
        "model.fit(X_train, y_train)\n",
        "\n",
        "y_pred_test = model.predict(X_test)                                                           # make predictions on the testing set\n",
        "print(\"Accurcy :\", accuracy_score(y_test,y_pred_test))\n",
        "from sklearn.metrics import confusion_matrix\n",
        "confusion_matrix = pd.DataFrame(confusion_matrix(y_test, y_pred_test))\n",
        "confusion_matrix.index = ['Actual Died','Actual Survived']\n",
        "confusion_matrix.columns = ['Predicted Died','Predicted Survived']\n",
        "print(confusion_matrix)"
      ],
      "execution_count": 40,
      "outputs": [
        {
          "output_type": "stream",
          "text": [
            "Accurcy : 0.7653631284916201\n",
            "                 Predicted Died  Predicted Survived\n",
            "Actual Died                  92                  14\n",
            "Actual Survived              28                  45\n"
          ],
          "name": "stdout"
        }
      ]
    },
    {
      "cell_type": "code",
      "metadata": {
        "id": "YY-buhmDo0dS",
        "colab_type": "code",
        "colab": {}
      },
      "source": [
        "swrt(15)"
      ],
      "execution_count": 0,
      "outputs": []
    },
    {
      "cell_type": "code",
      "metadata": {
        "id": "gqcYXVrRoFk5",
        "colab_type": "code",
        "outputId": "aa68bb1b-6961-4a09-c069-fb9899f16bd4",
        "colab": {
          "base_uri": "https://localhost:8080/",
          "height": 408
        }
      },
      "source": [
        "from sklearn.model_selection import RandomizedSearchCV\n",
        "from scipy.stats import randint as sp_randint\n",
        "# parameters for GridSearchCV\n",
        "# specify parameters and distributions to sample from\n",
        "param_dist = {\"max_depth\": range(2,20),\n",
        "              \"min_samples_split\": sp_randint(5, 25),\n",
        "              \"min_samples_leaf\": sp_randint(5, 20),\n",
        "              \"bootstrap\": [True, False],\n",
        "              \"n_estimators\": [20,50,100, 400, 700, 1000, 1500],\n",
        "              \"criterion\" : [\"gini\", \"entropy\"],\n",
        "              'max_features': ['sqrt', 'log2', None]\n",
        "             }\n",
        "# run randomized search\n",
        "n_iter_search = 100\n",
        "random_search = RandomizedSearchCV(model, param_distributions = param_dist,\n",
        "                                   n_iter = n_iter_search,\n",
        "                                   n_jobs = -1)\n",
        "\n",
        "random_search.fit(X_train, y_train)"
      ],
      "execution_count": 41,
      "outputs": [
        {
          "output_type": "execute_result",
          "data": {
            "text/plain": [
              "RandomizedSearchCV(cv=None, error_score=nan,\n",
              "                   estimator=RandomForestClassifier(bootstrap=True,\n",
              "                                                    ccp_alpha=0.0,\n",
              "                                                    class_weight=None,\n",
              "                                                    criterion='gini',\n",
              "                                                    max_depth=None,\n",
              "                                                    max_features='auto',\n",
              "                                                    max_leaf_nodes=None,\n",
              "                                                    max_samples=None,\n",
              "                                                    min_impurity_decrease=0.0,\n",
              "                                                    min_impurity_split=None,\n",
              "                                                    min_samples_leaf=1,\n",
              "                                                    min_samples_split=2,\n",
              "                                                    min_weight_fraction_leaf=0.0,\n",
              "                                                    n_estimators=100,\n",
              "                                                    n_j...\n",
              "                                        'max_features': ['sqrt', 'log2', None],\n",
              "                                        'min_samples_leaf': <scipy.stats._distn_infrastructure.rv_frozen object at 0x7fefe7a62c18>,\n",
              "                                        'min_samples_split': <scipy.stats._distn_infrastructure.rv_frozen object at 0x7fefe7a62b00>,\n",
              "                                        'n_estimators': [20, 50, 100, 400, 700,\n",
              "                                                         1000, 1500]},\n",
              "                   pre_dispatch='2*n_jobs', random_state=None, refit=True,\n",
              "                   return_train_score=False, scoring=None, verbose=0)"
            ]
          },
          "metadata": {
            "tags": []
          },
          "execution_count": 41
        }
      ]
    },
    {
      "cell_type": "code",
      "metadata": {
        "id": "WLosnkInokVh",
        "colab_type": "code",
        "outputId": "53127352-4b0c-4efa-e961-41f88c5ae7d9",
        "colab": {
          "base_uri": "https://localhost:8080/",
          "height": 272
        }
      },
      "source": [
        "random_search.best_estimator_"
      ],
      "execution_count": 42,
      "outputs": [
        {
          "output_type": "execute_result",
          "data": {
            "text/plain": [
              "RandomForestClassifier(bootstrap=False, ccp_alpha=0.0, class_weight=None,\n",
              "                       criterion='gini', max_depth=12, max_features='log2',\n",
              "                       max_leaf_nodes=None, max_samples=None,\n",
              "                       min_impurity_decrease=0.0, min_impurity_split=None,\n",
              "                       min_samples_leaf=9, min_samples_split=16,\n",
              "                       min_weight_fraction_leaf=0.0, n_estimators=100,\n",
              "                       n_jobs=None, oob_score=False, random_state=0, verbose=0,\n",
              "                       warm_start=False)"
            ]
          },
          "metadata": {
            "tags": []
          },
          "execution_count": 42
        },
        {
          "output_type": "execute_result",
          "data": {
            "text/plain": [
              "RandomForestClassifier(bootstrap=False, ccp_alpha=0.0, class_weight=None,\n",
              "                       criterion='gini', max_depth=12, max_features='log2',\n",
              "                       max_leaf_nodes=None, max_samples=None,\n",
              "                       min_impurity_decrease=0.0, min_impurity_split=None,\n",
              "                       min_samples_leaf=9, min_samples_split=16,\n",
              "                       min_weight_fraction_leaf=0.0, n_estimators=100,\n",
              "                       n_jobs=None, oob_score=False, random_state=0, verbose=0,\n",
              "                       warm_start=False)"
            ]
          },
          "metadata": {
            "tags": []
          },
          "execution_count": 43
        }
      ]
    },
    {
      "cell_type": "markdown",
      "metadata": {
        "id": "V66kXpuJjE1g",
        "colab_type": "text"
      },
      "source": [
        ""
      ]
    },
    {
      "cell_type": "code",
      "metadata": {
        "id": "gdkPSdQJpq9X",
        "colab_type": "code",
        "outputId": "6116d1d3-6a26-4ff0-d296-10fb692edc33",
        "colab": {
          "base_uri": "https://localhost:8080/",
          "height": 85
        }
      },
      "source": [
        "from sklearn.ensemble import RandomForestClassifier\n",
        "model = random_search.best_estimator_\n",
        "model.fit(X_train, y_train)\n",
        "\n",
        "y_pred_test = model.predict(X_test)                                                           # make predictions on the testing set\n",
        "print(\"Accurcy :\", accuracy_score(y_test,y_pred_test))\n",
        "from sklearn.metrics import confusion_matrix\n",
        "confusion_matrix = pd.DataFrame(confusion_matrix(y_test, y_pred_test))\n",
        "confusion_matrix.index = ['Actual Died','Actual Survived']\n",
        "confusion_matrix.columns = ['Predicted Died','Predicted Survived']\n",
        "print(confusion_matrix)"
      ],
      "execution_count": 44,
      "outputs": [
        {
          "output_type": "stream",
          "text": [
            "Accurcy : 0.7877094972067039\n",
            "                 Predicted Died  Predicted Survived\n",
            "Actual Died                  99                   7\n",
            "Actual Survived              31                  42\n"
          ],
          "name": "stdout"
        }
      ]
    },
    {
      "cell_type": "markdown",
      "metadata": {
        "id": "2v0pdzIr00hD",
        "colab_type": "text"
      },
      "source": [
        "Using all models"
      ]
    },
    {
      "cell_type": "code",
      "metadata": {
        "id": "nt9p5cjnCjII",
        "colab_type": "code",
        "colab": {}
      },
      "source": [
        "#library\n",
        "import pandas as pd\n",
        "import seaborn as sns\n",
        "import matplotlib.pyplot as plt\n",
        "%matplotlib inline\n",
        "\n",
        "import numpy as np\n",
        "import random as rnd\n",
        "\n",
        "from sklearn import svm, tree, linear_model, neighbors, naive_bayes, ensemble, discriminant_analysis, gaussian_process\n",
        "from xgboost import XGBClassifier\n",
        "\n",
        "#Common Model Helpers\n",
        "from sklearn.preprocessing import OneHotEncoder, LabelEncoder\n",
        "from sklearn import feature_selection\n",
        "from sklearn import model_selection\n",
        "from sklearn import metrics\n",
        "\n",
        "#Visualization\n",
        "import matplotlib as mpl\n",
        "import matplotlib.pyplot as plt\n",
        "import matplotlib.pylab as pylab\n",
        "import seaborn as sns\n",
        "from pandas.plotting import scatter_matrix\n",
        "\n",
        "# Importing Models\n",
        "from sklearn import svm, tree, linear_model, neighbors, naive_bayes, ensemble, discriminant_analysis, gaussian_process\n",
        "\n",
        "from sklearn.linear_model import LogisticRegression\n",
        "from sklearn.tree import DecisionTreeClassifier\n",
        "from sklearn.discriminant_analysis import LinearDiscriminantAnalysis\n",
        "from sklearn.ensemble import AdaBoostClassifier, RandomForestClassifier, GradientBoostingClassifier\n",
        "from sklearn.neighbors import KNeighborsClassifier\n",
        "from sklearn.svm import SVC, LinearSVC\n",
        "from xgboost import XGBClassifier\n",
        "from lightgbm import LGBMClassifier\n",
        "\n",
        "# Importing other tools\n",
        "from sklearn import model_selection\n",
        "from sklearn.metrics import confusion_matrix, classification_report, make_scorer\n",
        "from sklearn.metrics import accuracy_score, recall_score, precision_recall_curve\n",
        "from sklearn.model_selection import StratifiedKFold, cross_validate\n",
        "from sklearn.preprocessing import StandardScaler\n",
        "from sklearn.pipeline import Pipeline\n",
        "from sklearn.calibration import CalibratedClassifierCV"
      ],
      "execution_count": 0,
      "outputs": []
    },
    {
      "cell_type": "code",
      "metadata": {
        "id": "0NVXd8dvC7rg",
        "colab_type": "code",
        "outputId": "7d7e5eb0-8304-45bd-90b7-bc2fbaf12555",
        "colab": {
          "base_uri": "https://localhost:8080/",
          "height": 34
        }
      },
      "source": [
        "len(y)"
      ],
      "execution_count": 46,
      "outputs": [
        {
          "output_type": "execute_result",
          "data": {
            "text/plain": [
              "891"
            ]
          },
          "metadata": {
            "tags": []
          },
          "execution_count": 46
        }
      ]
    },
    {
      "cell_type": "code",
      "metadata": {
        "id": "F2qIjFVYFczv",
        "colab_type": "code",
        "colab": {}
      },
      "source": [
        "data = pd.read_csv(\"https://raw.githubusercontent.com/Mineria/Titanic/master/csv/train.csv\")\n",
        "\n",
        "# Drop Ticket & Cabin \n",
        "data = data.drop(['Ticket', 'Cabin'], axis=1)\n",
        "\n",
        "# Get the title from name\n",
        "data['Title'] = data.Name.str.extract(' ([A-Za-z]+)\\.', expand=False)\n",
        "data['Title'] = data['Title'].replace(['Lady', 'Countess','Capt', 'Col',\\\n",
        " \t'Don', 'Dr', 'Major', 'Rev', 'Sir', 'Jonkheer', 'Dona'], 'Rare')\n",
        "data['Title'] = data['Title'].replace('Mlle', 'Miss')\n",
        "data['Title'] = data['Title'].replace('Ms', 'Miss')\n",
        "data['Title'] = data['Title'].replace('Mme', 'Mrs')\n",
        "\n",
        "title_mapping = {\"Mr\": 1, \"Miss\": 2, \"Mrs\": 3, \"Master\": 4, \"Rare\": 5} \n",
        "data['Title'] = data['Title'].map(title_mapping)\n",
        "data = data.drop(['Name', 'PassengerId'], axis=1)\n",
        "\n",
        "#Change Sex to Numeric\n",
        "data['Sex'] = data['Sex'].map( {'female': 1, 'male': 0} ).astype(int)\n",
        "\n",
        "#Add Family Size \n",
        "data['FamilySize'] = data['SibSp'] + data['Parch'] + 1\n",
        "data['IsAlone'] = 0\n",
        "data.loc[data['FamilySize'] == 1, 'IsAlone'] = 1\n",
        "data = data.drop(['Parch', 'SibSp', 'FamilySize'], axis=1)\n",
        "\n",
        "#Imputing Missing Value \n",
        "data['Age'].fillna(data['Age'].dropna().median(), inplace=True)\n",
        "data['Embarked'].fillna(data['Embarked'].dropna().mode()[0], inplace=True)\n",
        "\n",
        "# Categorizing Numerical Value \n",
        "data['FareBand'] = pd.qcut(data['Fare'], 4).astype(str)\n",
        "data['AgeBand'] = pd.qcut(data['Age'], 4).astype(str)\n",
        "# data = data.drop(['Fare', 'Age'], axis=1)\n",
        "\n",
        "# Converting Embark to Number\n",
        "data['Embarked'] = data['Embarked'].map( {'S': 0, 'C': 1, 'Q': 2} ).astype(int)\n",
        "\n",
        "# \n",
        "\n",
        "data['FareBand'] = data['FareBand'].map( {'(-0.001, 7.91]': 0, '(31.0, 512.329]': 3, '(7.91, 14.454]': 1, '(14.454, 31.0]':2 } ).astype(int)\n",
        "data['AgeBand'] = data['AgeBand'].map( {'(0.419, 22.0]': 0, '(35.0, 80.0]': 3, '(22.0, 28.0]': 1, '(28.0, 35.0]':2 } ).astype(int)\n",
        "\n",
        "# Change in the cateogry Type & Data Columns to make it dummy\n",
        "dataDump  = data.copy()\n",
        "df = dataDump.drop(['Survived','Age','Fare'], axis=1)\n",
        "df2 = df.drop([],axis = 1)\n",
        "df3 = pd.DataFrame()\n",
        "for col in df.columns:\n",
        "    df3[col] = df[col].astype('category')\n",
        "\n",
        "Target = ['Survived']\n",
        "data1_x_bin = pd.concat([pd.get_dummies(df3), data[['Age','Fare']]],axis=1)\n",
        "\n",
        "data1_x_bin.drop(columns=['Age','Fare'],inplace=True)\n"
      ],
      "execution_count": 0,
      "outputs": []
    },
    {
      "cell_type": "code",
      "metadata": {
        "id": "F3SX9bSAHh4S",
        "colab_type": "code",
        "outputId": "10ded627-5c25-47d9-989a-a385efd50edd",
        "colab": {
          "base_uri": "https://localhost:8080/",
          "height": 224
        }
      },
      "source": [
        "data1_x_bin.head()"
      ],
      "execution_count": 48,
      "outputs": [
        {
          "output_type": "execute_result",
          "data": {
            "text/html": [
              "<div>\n",
              "<style scoped>\n",
              "    .dataframe tbody tr th:only-of-type {\n",
              "        vertical-align: middle;\n",
              "    }\n",
              "\n",
              "    .dataframe tbody tr th {\n",
              "        vertical-align: top;\n",
              "    }\n",
              "\n",
              "    .dataframe thead th {\n",
              "        text-align: right;\n",
              "    }\n",
              "</style>\n",
              "<table border=\"1\" class=\"dataframe\">\n",
              "  <thead>\n",
              "    <tr style=\"text-align: right;\">\n",
              "      <th></th>\n",
              "      <th>Pclass_1</th>\n",
              "      <th>Pclass_2</th>\n",
              "      <th>Pclass_3</th>\n",
              "      <th>Sex_0</th>\n",
              "      <th>Sex_1</th>\n",
              "      <th>Embarked_0</th>\n",
              "      <th>Embarked_1</th>\n",
              "      <th>Embarked_2</th>\n",
              "      <th>Title_1</th>\n",
              "      <th>Title_2</th>\n",
              "      <th>Title_3</th>\n",
              "      <th>Title_4</th>\n",
              "      <th>Title_5</th>\n",
              "      <th>IsAlone_0</th>\n",
              "      <th>IsAlone_1</th>\n",
              "      <th>FareBand_0</th>\n",
              "      <th>FareBand_1</th>\n",
              "      <th>FareBand_2</th>\n",
              "      <th>FareBand_3</th>\n",
              "      <th>AgeBand_0</th>\n",
              "      <th>AgeBand_1</th>\n",
              "      <th>AgeBand_2</th>\n",
              "      <th>AgeBand_3</th>\n",
              "    </tr>\n",
              "  </thead>\n",
              "  <tbody>\n",
              "    <tr>\n",
              "      <th>0</th>\n",
              "      <td>0</td>\n",
              "      <td>0</td>\n",
              "      <td>1</td>\n",
              "      <td>1</td>\n",
              "      <td>0</td>\n",
              "      <td>1</td>\n",
              "      <td>0</td>\n",
              "      <td>0</td>\n",
              "      <td>1</td>\n",
              "      <td>0</td>\n",
              "      <td>0</td>\n",
              "      <td>0</td>\n",
              "      <td>0</td>\n",
              "      <td>1</td>\n",
              "      <td>0</td>\n",
              "      <td>1</td>\n",
              "      <td>0</td>\n",
              "      <td>0</td>\n",
              "      <td>0</td>\n",
              "      <td>1</td>\n",
              "      <td>0</td>\n",
              "      <td>0</td>\n",
              "      <td>0</td>\n",
              "    </tr>\n",
              "    <tr>\n",
              "      <th>1</th>\n",
              "      <td>1</td>\n",
              "      <td>0</td>\n",
              "      <td>0</td>\n",
              "      <td>0</td>\n",
              "      <td>1</td>\n",
              "      <td>0</td>\n",
              "      <td>1</td>\n",
              "      <td>0</td>\n",
              "      <td>0</td>\n",
              "      <td>0</td>\n",
              "      <td>1</td>\n",
              "      <td>0</td>\n",
              "      <td>0</td>\n",
              "      <td>1</td>\n",
              "      <td>0</td>\n",
              "      <td>0</td>\n",
              "      <td>0</td>\n",
              "      <td>0</td>\n",
              "      <td>1</td>\n",
              "      <td>0</td>\n",
              "      <td>0</td>\n",
              "      <td>0</td>\n",
              "      <td>1</td>\n",
              "    </tr>\n",
              "    <tr>\n",
              "      <th>2</th>\n",
              "      <td>0</td>\n",
              "      <td>0</td>\n",
              "      <td>1</td>\n",
              "      <td>0</td>\n",
              "      <td>1</td>\n",
              "      <td>1</td>\n",
              "      <td>0</td>\n",
              "      <td>0</td>\n",
              "      <td>0</td>\n",
              "      <td>1</td>\n",
              "      <td>0</td>\n",
              "      <td>0</td>\n",
              "      <td>0</td>\n",
              "      <td>0</td>\n",
              "      <td>1</td>\n",
              "      <td>0</td>\n",
              "      <td>1</td>\n",
              "      <td>0</td>\n",
              "      <td>0</td>\n",
              "      <td>0</td>\n",
              "      <td>1</td>\n",
              "      <td>0</td>\n",
              "      <td>0</td>\n",
              "    </tr>\n",
              "    <tr>\n",
              "      <th>3</th>\n",
              "      <td>1</td>\n",
              "      <td>0</td>\n",
              "      <td>0</td>\n",
              "      <td>0</td>\n",
              "      <td>1</td>\n",
              "      <td>1</td>\n",
              "      <td>0</td>\n",
              "      <td>0</td>\n",
              "      <td>0</td>\n",
              "      <td>0</td>\n",
              "      <td>1</td>\n",
              "      <td>0</td>\n",
              "      <td>0</td>\n",
              "      <td>1</td>\n",
              "      <td>0</td>\n",
              "      <td>0</td>\n",
              "      <td>0</td>\n",
              "      <td>0</td>\n",
              "      <td>1</td>\n",
              "      <td>0</td>\n",
              "      <td>0</td>\n",
              "      <td>1</td>\n",
              "      <td>0</td>\n",
              "    </tr>\n",
              "    <tr>\n",
              "      <th>4</th>\n",
              "      <td>0</td>\n",
              "      <td>0</td>\n",
              "      <td>1</td>\n",
              "      <td>1</td>\n",
              "      <td>0</td>\n",
              "      <td>1</td>\n",
              "      <td>0</td>\n",
              "      <td>0</td>\n",
              "      <td>1</td>\n",
              "      <td>0</td>\n",
              "      <td>0</td>\n",
              "      <td>0</td>\n",
              "      <td>0</td>\n",
              "      <td>0</td>\n",
              "      <td>1</td>\n",
              "      <td>0</td>\n",
              "      <td>1</td>\n",
              "      <td>0</td>\n",
              "      <td>0</td>\n",
              "      <td>0</td>\n",
              "      <td>0</td>\n",
              "      <td>1</td>\n",
              "      <td>0</td>\n",
              "    </tr>\n",
              "  </tbody>\n",
              "</table>\n",
              "</div>"
            ],
            "text/plain": [
              "   Pclass_1  Pclass_2  Pclass_3  ...  AgeBand_1  AgeBand_2  AgeBand_3\n",
              "0         0         0         1  ...          0          0          0\n",
              "1         1         0         0  ...          0          0          1\n",
              "2         0         0         1  ...          1          0          0\n",
              "3         1         0         0  ...          0          1          0\n",
              "4         0         0         1  ...          0          1          0\n",
              "\n",
              "[5 rows x 23 columns]"
            ]
          },
          "metadata": {
            "tags": []
          },
          "execution_count": 48
        }
      ]
    },
    {
      "cell_type": "code",
      "metadata": {
        "id": "33dU3IJqF9bN",
        "colab_type": "code",
        "colab": {}
      },
      "source": [
        "import warnings\n",
        "warnings.filterwarnings('ignore')"
      ],
      "execution_count": 0,
      "outputs": []
    },
    {
      "cell_type": "code",
      "metadata": {
        "id": "D5Ox0aHOAHga",
        "colab_type": "code",
        "outputId": "491f280d-dc48-4ddd-8355-93945975dfcd",
        "colab": {
          "base_uri": "https://localhost:8080/",
          "height": 1000
        }
      },
      "source": [
        "Target = ['Survived']\n",
        "data1_x_bin = pd.get_dummies(df2)\n",
        "\n",
        "# X = data1_x_bin\n",
        "# y = Target\n",
        "# from sklearn.model_selection import train_test_split\n",
        "# X_train, X_test, y_train, y_test = train_test_split(X, y, test_size=0.2, random_state=101)\n",
        "\n",
        "MLA = [\n",
        "    #Ensemble Methods\n",
        "    ensemble.AdaBoostClassifier(),\n",
        "    ensemble.BaggingClassifier(),\n",
        "    ensemble.ExtraTreesClassifier(),\n",
        "    ensemble.GradientBoostingClassifier(),\n",
        "    ensemble.RandomForestClassifier(),\n",
        "\n",
        "    #Gaussian Processes\n",
        "    gaussian_process.GaussianProcessClassifier(),\n",
        "    \n",
        "    #GLM\n",
        "    linear_model.LogisticRegressionCV(),\n",
        "    linear_model.PassiveAggressiveClassifier(),\n",
        "    linear_model.RidgeClassifierCV(),\n",
        "    linear_model.SGDClassifier(),\n",
        "    linear_model.Perceptron(),\n",
        "    \n",
        "    #Navies Bayes\n",
        "    naive_bayes.BernoulliNB(),\n",
        "    naive_bayes.GaussianNB(),\n",
        "    \n",
        "    #Nearest Neighbor\n",
        "    neighbors.KNeighborsClassifier(),\n",
        "    \n",
        "    #SVM\n",
        "    svm.SVC(probability=True),\n",
        "    svm.NuSVC(probability=True),\n",
        "    svm.LinearSVC(),\n",
        "    \n",
        "    #Trees    \n",
        "    tree.DecisionTreeClassifier(),\n",
        "    tree.ExtraTreeClassifier(),\n",
        "    \n",
        "    #Discriminant Analysis\n",
        "    discriminant_analysis.LinearDiscriminantAnalysis(),\n",
        "    discriminant_analysis.QuadraticDiscriminantAnalysis(),\n",
        "\n",
        "    \n",
        "    #xgboost: http://xgboost.readthedocs.io/en/latest/model.html\n",
        "    XGBClassifier()    \n",
        "    ]\n",
        "\n",
        "#split dataset in cross-validation with this splitter class: http://scikit-learn.org/stable/modules/generated/sklearn.model_selection.ShuffleSplit.html#sklearn.model_selection.ShuffleSplit\n",
        "#note: this is an alternative to train_test_split\n",
        "cv_split = model_selection.ShuffleSplit(n_splits = 5, test_size = .3, train_size = .7, random_state = 0 ) # run model 10x with 60/30 split intentionally leaving out 10%\n",
        "\n",
        "#create table to compare MLA metrics\n",
        "MLA_columns = ['MLA Name', 'MLA Parameters','MLA Train Accuracy Mean', 'MLA Test Accuracy Mean', 'MLA Test Accuracy 3*STD' ,'MLA Time', 'TrainTestDifference']\n",
        "MLA_compare = pd.DataFrame(columns = MLA_columns)\n",
        "\n",
        "#create table to compare MLA predictions\n",
        "MLA_predict = data[Target]  # Y \n",
        "\n",
        "#index through MLA and save performance to table\n",
        "row_index = 0\n",
        "Feature_Importance = {}\n",
        "\n",
        "for alg in MLA:\n",
        "\n",
        "    #set name and parameters\n",
        "    MLA_name = alg.__class__.__name__\n",
        "    MLA_compare.loc[row_index, 'MLA Name'] = MLA_name\n",
        "    MLA_compare.loc[row_index, 'MLA Parameters'] = str(alg.get_params())\n",
        "    \n",
        "    \n",
        "    #score model with cross validation: http://scikit-learn.org/stable/modules/generated/sklearn.model_selection.cross_validate.html#sklearn.model_selection.cross_validate\n",
        "    cv_results = model_selection.cross_validate(alg, data1_x_bin, data[Target], cv  = cv_split,return_train_score=True,scoring='precision')\n",
        "\n",
        "    # cv_result is a doctionary -> All the results of diff models are saved \n",
        "    MLA_compare.loc[row_index, 'MLA Time'] = cv_results['fit_time'].mean()\n",
        "    MLA_compare.loc[row_index, 'MLA Train Accuracy Mean'] = cv_results['train_score'].mean()\n",
        "    MLA_compare.loc[row_index, 'MLA Test Accuracy Mean'] = cv_results['test_score'].mean()   \n",
        "    #if this is a non-bias random sample, then +/-3 standard deviations (std) from the mean, should statistically capture 99.7% of the subsets\n",
        "    MLA_compare.loc[row_index, 'MLA Test Accuracy 3*STD'] = cv_results['test_score'].std()*3   #let's know the worst that can happen!\n",
        "    #MLA_compare.loc[row_index, 'TrainTestDifference'] = cv_results['train_score'].mean() - cv_results['test_score'].mean() \n",
        "\n",
        "    #save MLA predictions - see section 6 for usage\n",
        "    alg.fit(data1_x_bin, data[Target])\n",
        "\n",
        "    try:\n",
        "      Feature_Importance[MLA_name] = alg.feature_importances_\n",
        "    except AttributeError:\n",
        "      pass\n",
        "      \n",
        "    MLA_predict[MLA_name] = alg.predict(data1_x_bin)\n",
        "    \n",
        "    row_index+=1\n",
        "\n",
        "    \n",
        "#print and sort table: https://pandas.pydata.org/pandas-docs/stable/generated/pandas.DataFrame.sort_values.html\n",
        "MLA_compare.sort_values(by = ['MLA Test Accuracy Mean'], ascending = False, inplace = True)\n",
        "MLA_compare\n",
        "MLA_compare['Difference'] = (MLA_compare['MLA Test Accuracy Mean']-MLA_compare['MLA Train Accuracy Mean'])*100\n",
        "MLA_compare\n",
        "\n",
        "#MLA_predict"
      ],
      "execution_count": 50,
      "outputs": [
        {
          "output_type": "execute_result",
          "data": {
            "text/html": [
              "<div>\n",
              "<style scoped>\n",
              "    .dataframe tbody tr th:only-of-type {\n",
              "        vertical-align: middle;\n",
              "    }\n",
              "\n",
              "    .dataframe tbody tr th {\n",
              "        vertical-align: top;\n",
              "    }\n",
              "\n",
              "    .dataframe thead th {\n",
              "        text-align: right;\n",
              "    }\n",
              "</style>\n",
              "<table border=\"1\" class=\"dataframe\">\n",
              "  <thead>\n",
              "    <tr style=\"text-align: right;\">\n",
              "      <th></th>\n",
              "      <th>MLA Name</th>\n",
              "      <th>MLA Parameters</th>\n",
              "      <th>MLA Train Accuracy Mean</th>\n",
              "      <th>MLA Test Accuracy Mean</th>\n",
              "      <th>MLA Test Accuracy 3*STD</th>\n",
              "      <th>MLA Time</th>\n",
              "      <th>TrainTestDifference</th>\n",
              "      <th>Difference</th>\n",
              "    </tr>\n",
              "  </thead>\n",
              "  <tbody>\n",
              "    <tr>\n",
              "      <th>3</th>\n",
              "      <td>GradientBoostingClassifier</td>\n",
              "      <td>{'ccp_alpha': 0.0, 'criterion': 'friedman_mse'...</td>\n",
              "      <td>0.868761</td>\n",
              "      <td>0.815177</td>\n",
              "      <td>0.123275</td>\n",
              "      <td>0.0814981</td>\n",
              "      <td>NaN</td>\n",
              "      <td>-5.35844</td>\n",
              "    </tr>\n",
              "    <tr>\n",
              "      <th>21</th>\n",
              "      <td>XGBClassifier</td>\n",
              "      <td>{'base_score': 0.5, 'booster': 'gbtree', 'cols...</td>\n",
              "      <td>0.857606</td>\n",
              "      <td>0.804578</td>\n",
              "      <td>0.129693</td>\n",
              "      <td>0.0498864</td>\n",
              "      <td>NaN</td>\n",
              "      <td>-5.3028</td>\n",
              "    </tr>\n",
              "    <tr>\n",
              "      <th>14</th>\n",
              "      <td>SVC</td>\n",
              "      <td>{'C': 1.0, 'break_ties': False, 'cache_size': ...</td>\n",
              "      <td>0.826118</td>\n",
              "      <td>0.786063</td>\n",
              "      <td>0.0519905</td>\n",
              "      <td>0.055814</td>\n",
              "      <td>NaN</td>\n",
              "      <td>-4.00554</td>\n",
              "    </tr>\n",
              "    <tr>\n",
              "      <th>5</th>\n",
              "      <td>GaussianProcessClassifier</td>\n",
              "      <td>{'copy_X_train': True, 'kernel': None, 'max_it...</td>\n",
              "      <td>0.86605</td>\n",
              "      <td>0.780733</td>\n",
              "      <td>0.0598099</td>\n",
              "      <td>0.209484</td>\n",
              "      <td>NaN</td>\n",
              "      <td>-8.53164</td>\n",
              "    </tr>\n",
              "    <tr>\n",
              "      <th>2</th>\n",
              "      <td>ExtraTreesClassifier</td>\n",
              "      <td>{'bootstrap': False, 'ccp_alpha': 0.0, 'class_...</td>\n",
              "      <td>0.912862</td>\n",
              "      <td>0.77278</td>\n",
              "      <td>0.152337</td>\n",
              "      <td>0.115861</td>\n",
              "      <td>NaN</td>\n",
              "      <td>-14.0082</td>\n",
              "    </tr>\n",
              "    <tr>\n",
              "      <th>17</th>\n",
              "      <td>DecisionTreeClassifier</td>\n",
              "      <td>{'ccp_alpha': 0.0, 'class_weight': None, 'crit...</td>\n",
              "      <td>0.912862</td>\n",
              "      <td>0.767496</td>\n",
              "      <td>0.122972</td>\n",
              "      <td>0.00299759</td>\n",
              "      <td>NaN</td>\n",
              "      <td>-14.5366</td>\n",
              "    </tr>\n",
              "    <tr>\n",
              "      <th>1</th>\n",
              "      <td>BaggingClassifier</td>\n",
              "      <td>{'base_estimator': None, 'bootstrap': True, 'b...</td>\n",
              "      <td>0.881149</td>\n",
              "      <td>0.764814</td>\n",
              "      <td>0.156667</td>\n",
              "      <td>0.0197701</td>\n",
              "      <td>NaN</td>\n",
              "      <td>-11.6336</td>\n",
              "    </tr>\n",
              "    <tr>\n",
              "      <th>4</th>\n",
              "      <td>RandomForestClassifier</td>\n",
              "      <td>{'bootstrap': True, 'ccp_alpha': 0.0, 'class_w...</td>\n",
              "      <td>0.88694</td>\n",
              "      <td>0.764769</td>\n",
              "      <td>0.134932</td>\n",
              "      <td>0.151026</td>\n",
              "      <td>NaN</td>\n",
              "      <td>-12.2171</td>\n",
              "    </tr>\n",
              "    <tr>\n",
              "      <th>13</th>\n",
              "      <td>KNeighborsClassifier</td>\n",
              "      <td>{'algorithm': 'auto', 'leaf_size': 30, 'metric...</td>\n",
              "      <td>0.83859</td>\n",
              "      <td>0.757005</td>\n",
              "      <td>0.156188</td>\n",
              "      <td>0.00403352</td>\n",
              "      <td>NaN</td>\n",
              "      <td>-8.1585</td>\n",
              "    </tr>\n",
              "    <tr>\n",
              "      <th>18</th>\n",
              "      <td>ExtraTreeClassifier</td>\n",
              "      <td>{'ccp_alpha': 0.0, 'class_weight': None, 'crit...</td>\n",
              "      <td>0.912862</td>\n",
              "      <td>0.75604</td>\n",
              "      <td>0.121729</td>\n",
              "      <td>0.00318294</td>\n",
              "      <td>NaN</td>\n",
              "      <td>-15.6821</td>\n",
              "    </tr>\n",
              "    <tr>\n",
              "      <th>11</th>\n",
              "      <td>BernoulliNB</td>\n",
              "      <td>{'alpha': 1.0, 'binarize': 0.0, 'class_prior':...</td>\n",
              "      <td>0.758041</td>\n",
              "      <td>0.737701</td>\n",
              "      <td>0.034179</td>\n",
              "      <td>0.00247974</td>\n",
              "      <td>NaN</td>\n",
              "      <td>-2.03403</td>\n",
              "    </tr>\n",
              "    <tr>\n",
              "      <th>15</th>\n",
              "      <td>NuSVC</td>\n",
              "      <td>{'break_ties': False, 'cache_size': 200, 'clas...</td>\n",
              "      <td>0.777772</td>\n",
              "      <td>0.735901</td>\n",
              "      <td>0.0908618</td>\n",
              "      <td>0.0658358</td>\n",
              "      <td>NaN</td>\n",
              "      <td>-4.18706</td>\n",
              "    </tr>\n",
              "    <tr>\n",
              "      <th>20</th>\n",
              "      <td>QuadraticDiscriminantAnalysis</td>\n",
              "      <td>{'priors': None, 'reg_param': 0.0, 'store_cova...</td>\n",
              "      <td>0.766433</td>\n",
              "      <td>0.732535</td>\n",
              "      <td>0.0934597</td>\n",
              "      <td>0.00246</td>\n",
              "      <td>NaN</td>\n",
              "      <td>-3.38972</td>\n",
              "    </tr>\n",
              "    <tr>\n",
              "      <th>0</th>\n",
              "      <td>AdaBoostClassifier</td>\n",
              "      <td>{'algorithm': 'SAMME.R', 'base_estimator': Non...</td>\n",
              "      <td>0.776881</td>\n",
              "      <td>0.728992</td>\n",
              "      <td>0.118308</td>\n",
              "      <td>0.0748884</td>\n",
              "      <td>NaN</td>\n",
              "      <td>-4.78888</td>\n",
              "    </tr>\n",
              "    <tr>\n",
              "      <th>6</th>\n",
              "      <td>LogisticRegressionCV</td>\n",
              "      <td>{'Cs': 10, 'class_weight': None, 'cv': None, '...</td>\n",
              "      <td>0.767409</td>\n",
              "      <td>0.725761</td>\n",
              "      <td>0.0770074</td>\n",
              "      <td>0.19473</td>\n",
              "      <td>NaN</td>\n",
              "      <td>-4.16474</td>\n",
              "    </tr>\n",
              "    <tr>\n",
              "      <th>7</th>\n",
              "      <td>PassiveAggressiveClassifier</td>\n",
              "      <td>{'C': 1.0, 'average': False, 'class_weight': N...</td>\n",
              "      <td>0.732627</td>\n",
              "      <td>0.704766</td>\n",
              "      <td>0.228439</td>\n",
              "      <td>0.00271411</td>\n",
              "      <td>NaN</td>\n",
              "      <td>-2.7861</td>\n",
              "    </tr>\n",
              "    <tr>\n",
              "      <th>8</th>\n",
              "      <td>RidgeClassifierCV</td>\n",
              "      <td>{'alphas': array([ 0.1,  1. , 10. ]), 'class_w...</td>\n",
              "      <td>0.737442</td>\n",
              "      <td>0.702903</td>\n",
              "      <td>0.0573342</td>\n",
              "      <td>0.00821099</td>\n",
              "      <td>NaN</td>\n",
              "      <td>-3.45386</td>\n",
              "    </tr>\n",
              "    <tr>\n",
              "      <th>19</th>\n",
              "      <td>LinearDiscriminantAnalysis</td>\n",
              "      <td>{'n_components': None, 'priors': None, 'shrink...</td>\n",
              "      <td>0.737442</td>\n",
              "      <td>0.701708</td>\n",
              "      <td>0.0616525</td>\n",
              "      <td>0.00352197</td>\n",
              "      <td>NaN</td>\n",
              "      <td>-3.57341</td>\n",
              "    </tr>\n",
              "    <tr>\n",
              "      <th>16</th>\n",
              "      <td>LinearSVC</td>\n",
              "      <td>{'C': 1.0, 'class_weight': None, 'dual': True,...</td>\n",
              "      <td>0.739181</td>\n",
              "      <td>0.7011</td>\n",
              "      <td>0.0639878</td>\n",
              "      <td>0.0346077</td>\n",
              "      <td>NaN</td>\n",
              "      <td>-3.8081</td>\n",
              "    </tr>\n",
              "    <tr>\n",
              "      <th>9</th>\n",
              "      <td>SGDClassifier</td>\n",
              "      <td>{'alpha': 0.0001, 'average': False, 'class_wei...</td>\n",
              "      <td>0.751306</td>\n",
              "      <td>0.689424</td>\n",
              "      <td>0.195253</td>\n",
              "      <td>0.00437808</td>\n",
              "      <td>NaN</td>\n",
              "      <td>-6.18825</td>\n",
              "    </tr>\n",
              "    <tr>\n",
              "      <th>12</th>\n",
              "      <td>GaussianNB</td>\n",
              "      <td>{'priors': None, 'var_smoothing': 1e-09}</td>\n",
              "      <td>0.694684</td>\n",
              "      <td>0.66798</td>\n",
              "      <td>0.085298</td>\n",
              "      <td>0.00245104</td>\n",
              "      <td>NaN</td>\n",
              "      <td>-2.67043</td>\n",
              "    </tr>\n",
              "    <tr>\n",
              "      <th>10</th>\n",
              "      <td>Perceptron</td>\n",
              "      <td>{'alpha': 0.0001, 'class_weight': None, 'early...</td>\n",
              "      <td>0.550122</td>\n",
              "      <td>0.551353</td>\n",
              "      <td>0.44469</td>\n",
              "      <td>0.00283337</td>\n",
              "      <td>NaN</td>\n",
              "      <td>0.123091</td>\n",
              "    </tr>\n",
              "  </tbody>\n",
              "</table>\n",
              "</div>"
            ],
            "text/plain": [
              "                         MLA Name  ... Difference\n",
              "3      GradientBoostingClassifier  ...   -5.35844\n",
              "21                  XGBClassifier  ...    -5.3028\n",
              "14                            SVC  ...   -4.00554\n",
              "5       GaussianProcessClassifier  ...   -8.53164\n",
              "2            ExtraTreesClassifier  ...   -14.0082\n",
              "17         DecisionTreeClassifier  ...   -14.5366\n",
              "1               BaggingClassifier  ...   -11.6336\n",
              "4          RandomForestClassifier  ...   -12.2171\n",
              "13           KNeighborsClassifier  ...    -8.1585\n",
              "18            ExtraTreeClassifier  ...   -15.6821\n",
              "11                    BernoulliNB  ...   -2.03403\n",
              "15                          NuSVC  ...   -4.18706\n",
              "20  QuadraticDiscriminantAnalysis  ...   -3.38972\n",
              "0              AdaBoostClassifier  ...   -4.78888\n",
              "6            LogisticRegressionCV  ...   -4.16474\n",
              "7     PassiveAggressiveClassifier  ...    -2.7861\n",
              "8               RidgeClassifierCV  ...   -3.45386\n",
              "19     LinearDiscriminantAnalysis  ...   -3.57341\n",
              "16                      LinearSVC  ...    -3.8081\n",
              "9                   SGDClassifier  ...   -6.18825\n",
              "12                     GaussianNB  ...   -2.67043\n",
              "10                     Perceptron  ...   0.123091\n",
              "\n",
              "[22 rows x 8 columns]"
            ]
          },
          "metadata": {
            "tags": []
          },
          "execution_count": 50
        }
      ]
    },
    {
      "cell_type": "code",
      "metadata": {
        "id": "VFjUD7Wi_dHR",
        "colab_type": "code",
        "colab": {
          "base_uri": "https://localhost:8080/",
          "height": 238
        },
        "outputId": "ba4494d1-4c80-4099-d8df-a3aee5d26077"
      },
      "source": [
        "Feature_Importance"
      ],
      "execution_count": 51,
      "outputs": [
        {
          "output_type": "execute_result",
          "data": {
            "text/plain": [
              "{'AdaBoostClassifier': array([0.18, 0.08, 0.08, 0.26, 0.08, 0.14, 0.18]),\n",
              " 'DecisionTreeClassifier': array([0.17371365, 0.00831299, 0.05216397, 0.55856072, 0.04840949,\n",
              "        0.07314088, 0.0856983 ]),\n",
              " 'ExtraTreeClassifier': array([0.18451573, 0.44546071, 0.06777654, 0.07815009, 0.01032761,\n",
              "        0.12710845, 0.08666087]),\n",
              " 'ExtraTreesClassifier': array([0.1887964 , 0.32337894, 0.06111165, 0.18371003, 0.04220695,\n",
              "        0.11316905, 0.08762698]),\n",
              " 'GradientBoostingClassifier': array([0.18693784, 0.07891989, 0.04147273, 0.58410889, 0.00909384,\n",
              "        0.06775165, 0.03171517]),\n",
              " 'RandomForestClassifier': array([0.1703675 , 0.21571262, 0.07022613, 0.25646953, 0.04255954,\n",
              "        0.13195171, 0.11271297]),\n",
              " 'XGBClassifier': array([0.17691718, 0.26354605, 0.0363711 , 0.4430051 , 0.01836762,\n",
              "        0.04191788, 0.01987509], dtype=float32)}"
            ]
          },
          "metadata": {
            "tags": []
          },
          "execution_count": 51
        }
      ]
    },
    {
      "cell_type": "code",
      "metadata": {
        "id": "LSz6_0HnNQVx",
        "colab_type": "code",
        "outputId": "ce7e2512-0cf7-4282-e47d-80d62e0310dc",
        "colab": {
          "base_uri": "https://localhost:8080/",
          "height": 1000
        }
      },
      "source": [
        "MLA_compare.sort_values(by=\"Difference\",ascending=False)"
      ],
      "execution_count": 52,
      "outputs": [
        {
          "output_type": "execute_result",
          "data": {
            "text/html": [
              "<div>\n",
              "<style scoped>\n",
              "    .dataframe tbody tr th:only-of-type {\n",
              "        vertical-align: middle;\n",
              "    }\n",
              "\n",
              "    .dataframe tbody tr th {\n",
              "        vertical-align: top;\n",
              "    }\n",
              "\n",
              "    .dataframe thead th {\n",
              "        text-align: right;\n",
              "    }\n",
              "</style>\n",
              "<table border=\"1\" class=\"dataframe\">\n",
              "  <thead>\n",
              "    <tr style=\"text-align: right;\">\n",
              "      <th></th>\n",
              "      <th>MLA Name</th>\n",
              "      <th>MLA Parameters</th>\n",
              "      <th>MLA Train Accuracy Mean</th>\n",
              "      <th>MLA Test Accuracy Mean</th>\n",
              "      <th>MLA Test Accuracy 3*STD</th>\n",
              "      <th>MLA Time</th>\n",
              "      <th>TrainTestDifference</th>\n",
              "      <th>Difference</th>\n",
              "    </tr>\n",
              "  </thead>\n",
              "  <tbody>\n",
              "    <tr>\n",
              "      <th>10</th>\n",
              "      <td>Perceptron</td>\n",
              "      <td>{'alpha': 0.0001, 'class_weight': None, 'early...</td>\n",
              "      <td>0.550122</td>\n",
              "      <td>0.551353</td>\n",
              "      <td>0.44469</td>\n",
              "      <td>0.00283337</td>\n",
              "      <td>NaN</td>\n",
              "      <td>0.123091</td>\n",
              "    </tr>\n",
              "    <tr>\n",
              "      <th>11</th>\n",
              "      <td>BernoulliNB</td>\n",
              "      <td>{'alpha': 1.0, 'binarize': 0.0, 'class_prior':...</td>\n",
              "      <td>0.758041</td>\n",
              "      <td>0.737701</td>\n",
              "      <td>0.034179</td>\n",
              "      <td>0.00247974</td>\n",
              "      <td>NaN</td>\n",
              "      <td>-2.03403</td>\n",
              "    </tr>\n",
              "    <tr>\n",
              "      <th>12</th>\n",
              "      <td>GaussianNB</td>\n",
              "      <td>{'priors': None, 'var_smoothing': 1e-09}</td>\n",
              "      <td>0.694684</td>\n",
              "      <td>0.66798</td>\n",
              "      <td>0.085298</td>\n",
              "      <td>0.00245104</td>\n",
              "      <td>NaN</td>\n",
              "      <td>-2.67043</td>\n",
              "    </tr>\n",
              "    <tr>\n",
              "      <th>7</th>\n",
              "      <td>PassiveAggressiveClassifier</td>\n",
              "      <td>{'C': 1.0, 'average': False, 'class_weight': N...</td>\n",
              "      <td>0.732627</td>\n",
              "      <td>0.704766</td>\n",
              "      <td>0.228439</td>\n",
              "      <td>0.00271411</td>\n",
              "      <td>NaN</td>\n",
              "      <td>-2.7861</td>\n",
              "    </tr>\n",
              "    <tr>\n",
              "      <th>20</th>\n",
              "      <td>QuadraticDiscriminantAnalysis</td>\n",
              "      <td>{'priors': None, 'reg_param': 0.0, 'store_cova...</td>\n",
              "      <td>0.766433</td>\n",
              "      <td>0.732535</td>\n",
              "      <td>0.0934597</td>\n",
              "      <td>0.00246</td>\n",
              "      <td>NaN</td>\n",
              "      <td>-3.38972</td>\n",
              "    </tr>\n",
              "    <tr>\n",
              "      <th>8</th>\n",
              "      <td>RidgeClassifierCV</td>\n",
              "      <td>{'alphas': array([ 0.1,  1. , 10. ]), 'class_w...</td>\n",
              "      <td>0.737442</td>\n",
              "      <td>0.702903</td>\n",
              "      <td>0.0573342</td>\n",
              "      <td>0.00821099</td>\n",
              "      <td>NaN</td>\n",
              "      <td>-3.45386</td>\n",
              "    </tr>\n",
              "    <tr>\n",
              "      <th>19</th>\n",
              "      <td>LinearDiscriminantAnalysis</td>\n",
              "      <td>{'n_components': None, 'priors': None, 'shrink...</td>\n",
              "      <td>0.737442</td>\n",
              "      <td>0.701708</td>\n",
              "      <td>0.0616525</td>\n",
              "      <td>0.00352197</td>\n",
              "      <td>NaN</td>\n",
              "      <td>-3.57341</td>\n",
              "    </tr>\n",
              "    <tr>\n",
              "      <th>16</th>\n",
              "      <td>LinearSVC</td>\n",
              "      <td>{'C': 1.0, 'class_weight': None, 'dual': True,...</td>\n",
              "      <td>0.739181</td>\n",
              "      <td>0.7011</td>\n",
              "      <td>0.0639878</td>\n",
              "      <td>0.0346077</td>\n",
              "      <td>NaN</td>\n",
              "      <td>-3.8081</td>\n",
              "    </tr>\n",
              "    <tr>\n",
              "      <th>14</th>\n",
              "      <td>SVC</td>\n",
              "      <td>{'C': 1.0, 'break_ties': False, 'cache_size': ...</td>\n",
              "      <td>0.826118</td>\n",
              "      <td>0.786063</td>\n",
              "      <td>0.0519905</td>\n",
              "      <td>0.055814</td>\n",
              "      <td>NaN</td>\n",
              "      <td>-4.00554</td>\n",
              "    </tr>\n",
              "    <tr>\n",
              "      <th>6</th>\n",
              "      <td>LogisticRegressionCV</td>\n",
              "      <td>{'Cs': 10, 'class_weight': None, 'cv': None, '...</td>\n",
              "      <td>0.767409</td>\n",
              "      <td>0.725761</td>\n",
              "      <td>0.0770074</td>\n",
              "      <td>0.19473</td>\n",
              "      <td>NaN</td>\n",
              "      <td>-4.16474</td>\n",
              "    </tr>\n",
              "    <tr>\n",
              "      <th>15</th>\n",
              "      <td>NuSVC</td>\n",
              "      <td>{'break_ties': False, 'cache_size': 200, 'clas...</td>\n",
              "      <td>0.777772</td>\n",
              "      <td>0.735901</td>\n",
              "      <td>0.0908618</td>\n",
              "      <td>0.0658358</td>\n",
              "      <td>NaN</td>\n",
              "      <td>-4.18706</td>\n",
              "    </tr>\n",
              "    <tr>\n",
              "      <th>0</th>\n",
              "      <td>AdaBoostClassifier</td>\n",
              "      <td>{'algorithm': 'SAMME.R', 'base_estimator': Non...</td>\n",
              "      <td>0.776881</td>\n",
              "      <td>0.728992</td>\n",
              "      <td>0.118308</td>\n",
              "      <td>0.0748884</td>\n",
              "      <td>NaN</td>\n",
              "      <td>-4.78888</td>\n",
              "    </tr>\n",
              "    <tr>\n",
              "      <th>21</th>\n",
              "      <td>XGBClassifier</td>\n",
              "      <td>{'base_score': 0.5, 'booster': 'gbtree', 'cols...</td>\n",
              "      <td>0.857606</td>\n",
              "      <td>0.804578</td>\n",
              "      <td>0.129693</td>\n",
              "      <td>0.0498864</td>\n",
              "      <td>NaN</td>\n",
              "      <td>-5.3028</td>\n",
              "    </tr>\n",
              "    <tr>\n",
              "      <th>3</th>\n",
              "      <td>GradientBoostingClassifier</td>\n",
              "      <td>{'ccp_alpha': 0.0, 'criterion': 'friedman_mse'...</td>\n",
              "      <td>0.868761</td>\n",
              "      <td>0.815177</td>\n",
              "      <td>0.123275</td>\n",
              "      <td>0.0814981</td>\n",
              "      <td>NaN</td>\n",
              "      <td>-5.35844</td>\n",
              "    </tr>\n",
              "    <tr>\n",
              "      <th>9</th>\n",
              "      <td>SGDClassifier</td>\n",
              "      <td>{'alpha': 0.0001, 'average': False, 'class_wei...</td>\n",
              "      <td>0.751306</td>\n",
              "      <td>0.689424</td>\n",
              "      <td>0.195253</td>\n",
              "      <td>0.00437808</td>\n",
              "      <td>NaN</td>\n",
              "      <td>-6.18825</td>\n",
              "    </tr>\n",
              "    <tr>\n",
              "      <th>13</th>\n",
              "      <td>KNeighborsClassifier</td>\n",
              "      <td>{'algorithm': 'auto', 'leaf_size': 30, 'metric...</td>\n",
              "      <td>0.83859</td>\n",
              "      <td>0.757005</td>\n",
              "      <td>0.156188</td>\n",
              "      <td>0.00403352</td>\n",
              "      <td>NaN</td>\n",
              "      <td>-8.1585</td>\n",
              "    </tr>\n",
              "    <tr>\n",
              "      <th>5</th>\n",
              "      <td>GaussianProcessClassifier</td>\n",
              "      <td>{'copy_X_train': True, 'kernel': None, 'max_it...</td>\n",
              "      <td>0.86605</td>\n",
              "      <td>0.780733</td>\n",
              "      <td>0.0598099</td>\n",
              "      <td>0.209484</td>\n",
              "      <td>NaN</td>\n",
              "      <td>-8.53164</td>\n",
              "    </tr>\n",
              "    <tr>\n",
              "      <th>1</th>\n",
              "      <td>BaggingClassifier</td>\n",
              "      <td>{'base_estimator': None, 'bootstrap': True, 'b...</td>\n",
              "      <td>0.881149</td>\n",
              "      <td>0.764814</td>\n",
              "      <td>0.156667</td>\n",
              "      <td>0.0197701</td>\n",
              "      <td>NaN</td>\n",
              "      <td>-11.6336</td>\n",
              "    </tr>\n",
              "    <tr>\n",
              "      <th>4</th>\n",
              "      <td>RandomForestClassifier</td>\n",
              "      <td>{'bootstrap': True, 'ccp_alpha': 0.0, 'class_w...</td>\n",
              "      <td>0.88694</td>\n",
              "      <td>0.764769</td>\n",
              "      <td>0.134932</td>\n",
              "      <td>0.151026</td>\n",
              "      <td>NaN</td>\n",
              "      <td>-12.2171</td>\n",
              "    </tr>\n",
              "    <tr>\n",
              "      <th>2</th>\n",
              "      <td>ExtraTreesClassifier</td>\n",
              "      <td>{'bootstrap': False, 'ccp_alpha': 0.0, 'class_...</td>\n",
              "      <td>0.912862</td>\n",
              "      <td>0.77278</td>\n",
              "      <td>0.152337</td>\n",
              "      <td>0.115861</td>\n",
              "      <td>NaN</td>\n",
              "      <td>-14.0082</td>\n",
              "    </tr>\n",
              "    <tr>\n",
              "      <th>17</th>\n",
              "      <td>DecisionTreeClassifier</td>\n",
              "      <td>{'ccp_alpha': 0.0, 'class_weight': None, 'crit...</td>\n",
              "      <td>0.912862</td>\n",
              "      <td>0.767496</td>\n",
              "      <td>0.122972</td>\n",
              "      <td>0.00299759</td>\n",
              "      <td>NaN</td>\n",
              "      <td>-14.5366</td>\n",
              "    </tr>\n",
              "    <tr>\n",
              "      <th>18</th>\n",
              "      <td>ExtraTreeClassifier</td>\n",
              "      <td>{'ccp_alpha': 0.0, 'class_weight': None, 'crit...</td>\n",
              "      <td>0.912862</td>\n",
              "      <td>0.75604</td>\n",
              "      <td>0.121729</td>\n",
              "      <td>0.00318294</td>\n",
              "      <td>NaN</td>\n",
              "      <td>-15.6821</td>\n",
              "    </tr>\n",
              "  </tbody>\n",
              "</table>\n",
              "</div>"
            ],
            "text/plain": [
              "                         MLA Name  ... Difference\n",
              "10                     Perceptron  ...   0.123091\n",
              "11                    BernoulliNB  ...   -2.03403\n",
              "12                     GaussianNB  ...   -2.67043\n",
              "7     PassiveAggressiveClassifier  ...    -2.7861\n",
              "20  QuadraticDiscriminantAnalysis  ...   -3.38972\n",
              "8               RidgeClassifierCV  ...   -3.45386\n",
              "19     LinearDiscriminantAnalysis  ...   -3.57341\n",
              "16                      LinearSVC  ...    -3.8081\n",
              "14                            SVC  ...   -4.00554\n",
              "6            LogisticRegressionCV  ...   -4.16474\n",
              "15                          NuSVC  ...   -4.18706\n",
              "0              AdaBoostClassifier  ...   -4.78888\n",
              "21                  XGBClassifier  ...    -5.3028\n",
              "3      GradientBoostingClassifier  ...   -5.35844\n",
              "9                   SGDClassifier  ...   -6.18825\n",
              "13           KNeighborsClassifier  ...    -8.1585\n",
              "5       GaussianProcessClassifier  ...   -8.53164\n",
              "1               BaggingClassifier  ...   -11.6336\n",
              "4          RandomForestClassifier  ...   -12.2171\n",
              "2            ExtraTreesClassifier  ...   -14.0082\n",
              "17         DecisionTreeClassifier  ...   -14.5366\n",
              "18            ExtraTreeClassifier  ...   -15.6821\n",
              "\n",
              "[22 rows x 8 columns]"
            ]
          },
          "metadata": {
            "tags": []
          },
          "execution_count": 52
        }
      ]
    },
    {
      "cell_type": "markdown",
      "metadata": {
        "id": "3_ql-GohMMgv",
        "colab_type": "text"
      },
      "source": [
        "# This analysis helped you udnerstand\n",
        "   - Which is the stable model - look for lowedst SD and Difference \n",
        "   - Which is the fastest model  - FOr model Deployment, we will pick this model \n",
        "   - Which is the optimal model - look for lowest difference in accpetable range\n"
      ]
    },
    {
      "cell_type": "markdown",
      "metadata": {
        "id": "R8Anw1t5QOrJ",
        "colab_type": "text"
      },
      "source": [
        "https://scikit-learn.org/stable/modules/model_persistence.html\n",
        "\n",
        "To export models"
      ]
    }
  ]
}