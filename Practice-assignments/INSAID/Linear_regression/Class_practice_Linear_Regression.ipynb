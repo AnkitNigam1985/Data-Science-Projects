{
  "nbformat": 4,
  "nbformat_minor": 0,
  "metadata": {
    "kernelspec": {
      "display_name": "Python 3",
      "language": "python",
      "name": "python3"
    },
    "language_info": {
      "codemirror_mode": {
        "name": "ipython",
        "version": 3
      },
      "file_extension": ".py",
      "mimetype": "text/x-python",
      "name": "python",
      "nbconvert_exporter": "python",
      "pygments_lexer": "ipython3",
      "version": "3.7.0"
    },
    "colab": {
      "name": "Class practice -  Linear Regression.ipynb",
      "provenance": [],
      "collapsed_sections": []
    }
  },
  "cells": [
    {
      "cell_type": "markdown",
      "metadata": {
        "id": "NWQMsPntwkpy",
        "colab_type": "text"
      },
      "source": [
        "<img src=\"https://github.com/insaid2018/Term-1/blob/master/Images/INSAID_Full%20Logo.png?raw=true\" width=\"240\" height=\"360\" />\n",
        "\n",
        "# LINEAR REGRESSION"
      ]
    },
    {
      "cell_type": "markdown",
      "metadata": {
        "id": "TqJyUEqkwkp1",
        "colab_type": "text"
      },
      "source": [
        "## Table of Content\n",
        "\n",
        "1. [Problem Statement](#section1)<br>\n",
        "2. [Data Loading and Description](#section2)<br>\n",
        "3. [Exploratory Data Analysis](#section3)<br>\n",
        "4. [Introduction to Linear Regression](#section4)<br>\n",
        "    - 4.1 [Linear Regression Equation with Errors in consideration](#section401)<br>\n",
        "        - 4.1.1 [Assumptions of Linear Regression](#sectionassumptions)<br>\n",
        "    - 4.2 [Preparing X and y using pandas](#section402)<br>\n",
        "    - 4.3 [Splitting X and y into training and test datasets](#section403)<br>\n",
        "    - 4.4 [Linear regression in scikit-learn](#section404)<br>\n",
        "    - 4.5 [Interpreting Model Coefficients](#section405)<br>\n",
        "    - 4.3 [Using the Model for Prediction](#section406)<br>\n",
        "5. [Model evaluation](#section5)<br>\n",
        "    - 5.1 [Model evaluation using metrics](#section501)<br>\n",
        "    - 5.2 [Model Evaluation using Rsquared value.](#section502)<br>\n",
        "6. [Feature Selection](#section6)<br>\n",
        "7. [Handling Categorical Features](#section7)<br>"
      ]
    },
    {
      "cell_type": "markdown",
      "metadata": {
        "id": "N6r-DNsDwkp3",
        "colab_type": "text"
      },
      "source": [
        "**CLASS NOTES**\n",
        "\n",
        "**Day 4**\n",
        "\n",
        "Regression - iterative or repeatable\n",
        "\n",
        "input  - independent (X) or E\n",
        "\n",
        "output - dependent (Y)  or T\n",
        "\n",
        "Every Unit change in X, has a unit change in Y\n",
        "\n",
        "Y=f(X)\n",
        "\n",
        "Y is dependent on X with a function (model)\n",
        "\n",
        "\n",
        "Goal is to get value that would be general but as closer to accurate as possible\n",
        "\n",
        "\n",
        "We need to get straight line closer to actual\n",
        "\n",
        "\n",
        "Correlation - relation b/w 2 variables\n",
        "\n",
        "-1 negative correlation or inverse proportion\n",
        "\n",
        "+1 positive with direct proportion\n",
        "\n",
        "0 no correlation\n",
        "\n",
        "line =  Y= mX + c\n",
        "OR\n",
        "\n",
        "Y=B1X+ B0\n",
        "\n",
        "c or B0 - intercept or bias  - where line cuts on Y-axis\n",
        "High bias means high variance due to high c\n",
        "\n",
        "m or B1 - slope\n",
        "\n",
        "slope has max value 1 and lowest is 0\n",
        "higher the value of m, better is the prediction\n",
        "\n",
        "Ideally - high m and low C ie high slope and less bias\n",
        "\n",
        "When data has high variance, there could be more bias and we may not be confident of the data\n",
        "\n",
        "Best line would be high m (strength) and low c(bias)\n",
        "\n"
      ]
    },
    {
      "cell_type": "markdown",
      "metadata": {
        "id": "okABHzOueTgB",
        "colab_type": "text"
      },
      "source": [
        "\n",
        "<img src=\"https://raw.githubusercontent.com/AnkitNigam1985/Data-Science/master/tmp_images/ML_Linear_regression_1.PNG\" width=\"500\" height=\"500\" />\n",
        "\n",
        "\n",
        "\n",
        "<img src=\"https://raw.githubusercontent.com/AnkitNigam1985/Data-Science/master/tmp_images/ML_Linear_regression_2.PNG\" width=\"500\" height=\"500\" />\n",
        "\n",
        "\n",
        "\n",
        "<img src=\"https://raw.githubusercontent.com/AnkitNigam1985/Data-Science/master/tmp_images/ML_Linear_regression_3.PNG\" width=\"500\" height=\"500\" />\n",
        "\n",
        "\n",
        "\n",
        "<img src=\"https://raw.githubusercontent.com/AnkitNigam1985/Data-Science/master/tmp_images/ML_Linear_regression_4.PNG\" width=\"500\" height=\"500\" />\n",
        "\n",
        "\n",
        "\n",
        "<img src=\"https://raw.githubusercontent.com/AnkitNigam1985/Data-Science/master/tmp_images/ML_Linear_regression_5.PNG\" width=\"500\" height=\"500\" />\n",
        "\n",
        "\n",
        "\n",
        "<img src=\"https://raw.githubusercontent.com/AnkitNigam1985/Data-Science/master/tmp_images/ML_Linear_regression_6.PNG\" width=\"500\" height=\"500\" />\n",
        "\n",
        "\n",
        "\n",
        "<img src=\"https://raw.githubusercontent.com/AnkitNigam1985/Data-Science/master/tmp_images/ML_Linear_regression_7.PNG\" width=\"500\" height=\"500\" />\n",
        "\n",
        "\n",
        "\n",
        "<img src=\"https://raw.githubusercontent.com/AnkitNigam1985/Data-Science/master/tmp_images/ML_Linear_regression_8.PNG\" width=\"500\" height=\"500\" />\n",
        "\n",
        "\n",
        "\n",
        "<img src=\"https://raw.githubusercontent.com/AnkitNigam1985/Data-Science/master/tmp_images/ML_Linear_regression_9.PNG\" width=\"500\" height=\"500\" />\n",
        "\n",
        "\n",
        "\n",
        "<img src=\"https://raw.githubusercontent.com/AnkitNigam1985/Data-Science/master/tmp_images/ML_Linear_regression_10.PNG\" width=\"500\" height=\"500\" />\n",
        "\n",
        "\n",
        "<img src=\"https://raw.githubusercontent.com/AnkitNigam1985/Data-Science/master/tmp_images/ML_Linear_regression_11.PNG\" width=\"500\" height=\"500\" />\n",
        "\n",
        "\n",
        "<img src=\"https://raw.githubusercontent.com/AnkitNigam1985/Data-Science/master/tmp_images/ML_Linear_regression_12.PNG\" width=\"500\" height=\"500\" />\n",
        "\n",
        "\n",
        "\n",
        "<img src=\"https://raw.githubusercontent.com/AnkitNigam1985/Data-Science/master/tmp_images/ML_Linear_regression_13.PNG\" width=\"500\" height=\"500\" />\n",
        "\n",
        "\n",
        "\n",
        "<img src=\"https://raw.githubusercontent.com/AnkitNigam1985/Data-Science/master/tmp_images/ML_Linear_regression_14.PNG\" width=\"500\" height=\"500\" />\n",
        "\n",
        "\n",
        "\n",
        "<img src=\"https://raw.githubusercontent.com/AnkitNigam1985/Data-Science/master/tmp_images/ML_Linear_regression_15.PNG\" width=\"500\" height=\"500\" />\n",
        "\n",
        "\n",
        "\n",
        "<img src=\"https://raw.githubusercontent.com/AnkitNigam1985/Data-Science/master/tmp_images/ML_Linear_regression_16.PNG\" width=\"500\" height=\"500\" />\n",
        "\n",
        "\n",
        "\n",
        "\n",
        "<img src=\"https://raw.githubusercontent.com/AnkitNigam1985/Data-Science/master/tmp_images/ML_Linear_regression_17.PNG\" width=\"500\" height=\"500\" />\n",
        "\n",
        "\n",
        "\n",
        "\n",
        "<img src=\"https://raw.githubusercontent.com/AnkitNigam1985/Data-Science/master/tmp_images/ML_Linear_regression_18.PNG\" width=\"500\" height=\"500\" />\n",
        "\n",
        "\n",
        "\n",
        "<img src=\"https://raw.githubusercontent.com/AnkitNigam1985/Data-Science/master/tmp_images/ML_Linear_regression_19.PNG\" width=\"500\" height=\"500\" />\n",
        "\n",
        "\n",
        "\n",
        "<img src=\"https://raw.githubusercontent.com/AnkitNigam1985/Data-Science/master/tmp_images/ML_Linear_regression_20.PNG\" width=\"500\" height=\"500\" />\n",
        "\n",
        "\n",
        "\n",
        "<img src=\"https://raw.githubusercontent.com/AnkitNigam1985/Data-Science/master/tmp_images/ML_Linear_regression_21.PNG\" width=\"500\" height=\"500\" />\n",
        "\n",
        "\n",
        "\n",
        "<img src=\"https://raw.githubusercontent.com/AnkitNigam1985/Data-Science/master/tmp_images/ML_Linear_regression_22.PNG\" width=\"500\" height=\"500\" />\n",
        "\n",
        "\n",
        "\n",
        "\n",
        "<img src=\"https://raw.githubusercontent.com/AnkitNigam1985/Data-Science/master/tmp_images/ML_Linear_regression_23.PNG\" width=\"500\" height=\"500\" />\n",
        "\n",
        "\n",
        "\n",
        "\n",
        "<img src=\"https://raw.githubusercontent.com/AnkitNigam1985/Data-Science/master/tmp_images/ML_Linear_regression_24.PNG\" width=\"500\" height=\"500\" />\n",
        "\n",
        "\n",
        "\n",
        "\n",
        "<img src=\"https://raw.githubusercontent.com/AnkitNigam1985/Data-Science/master/tmp_images/ML_Linear_regression_25.PNG\" width=\"500\" height=\"500\" />\n",
        "\n",
        "\n",
        "\n",
        "\n",
        "\n",
        "\n",
        "In regression, accuracy is in units while in classification, it can be termed in percentage\n",
        "\n",
        "Linear relation - unit change in x results in unit change in y in same direction\n",
        "\n",
        "Every column in your data becomes axis in vector space,\n",
        "example all cpoulumns can be axis in a graph\n",
        "\n",
        "3 ways of lineaer regressiom\n",
        "\n",
        "1. Linear Algebra\n",
        "\n",
        "2. Gradient descent\n",
        "\n",
        "3. Sum of least squares - sum of difference between actual points from predicted\n",
        "\n",
        "Least square sum we will be studying\n",
        "\n",
        "higher the c , higher the bias ie more dispersion in data, more variance\n",
        "\n",
        "\n",
        "Dense the data, c (in y=mx+c), value of c decreases."
      ]
    },
    {
      "cell_type": "markdown",
      "metadata": {
        "id": "HA_8wZduir1Z",
        "colab_type": "text"
      },
      "source": [
        "Every column in the data becomes axis in the vector space\n",
        "\n",
        "like c1,c2,c3..are columns in the data\n",
        "\n",
        "<img src=\"https://raw.githubusercontent.com/AnkitNigam1985/Data-Science/master/tmp_images/ML_Linear_regression_26.PNG\" width=\"400\" height=\"400\" />"
      ]
    },
    {
      "cell_type": "markdown",
      "metadata": {
        "id": "147i5zN2obl-",
        "colab_type": "text"
      },
      "source": [
        "<img src=\"https://raw.githubusercontent.com/AnkitNigam1985/Data-Science/master/tmp_images/ML_Linear_regression_27.PNG\" width=\"600\" height=\"400\" />\n",
        "\n",
        "We are using least square method to detect the best fit line, i.e. we will take summation of the square of the difference of each point from mean,\n",
        "The above would be calculated for each possible line which is candidate for best fit line.\n",
        "The line with least value is best fit line.\n",
        "\n",
        "\n",
        "Also if the data is more dispersed, then the variance would be large, so the possibility that we cant apply linear regression on it.\n",
        "\n",
        "Outlier in the data also impact the line, so EDA is very important for ML to normalize the data and to understand the correlation in the data which is must for lineaer regression, as if no correlation, linear regression may not be possible on that dataset.\n",
        "\n"
      ]
    },
    {
      "cell_type": "markdown",
      "metadata": {
        "id": "R95NTjQoofJ7",
        "colab_type": "text"
      },
      "source": [
        "<img src=\"https://raw.githubusercontent.com/AnkitNigam1985/Data-Science/master/tmp_images/ML_Linear_regression_28.PNG\" width=\"400\" height=\"400\" />\n",
        "\n",
        "\n",
        "\n",
        "The graph with pink data points is more dispersed, so for particular value of x(in orange) we can have multiple value of y , and all the values have high variance in each other.\n",
        "\n",
        "Whereas, in te second graph with blue data points, for x value, the ranges of y values have less variance, so this data is better for linear regression"
      ]
    },
    {
      "cell_type": "markdown",
      "metadata": {
        "id": "GGybCZXowkp6",
        "colab_type": "text"
      },
      "source": [
        "## 1. Problem Statement\n",
        "\n",
        "__Sales__ (in thousands of units) for a particular product as a __function__ of __advertising budgets__ (in thousands of dollars) for _TV, radio, and newspaper media_. Suppose that in our role as __Data Scientist__ we are asked to suggest.\n",
        "\n",
        "- We want to find a function that given input budgets for TV, radio and newspaper __predicts the output sales__.\n",
        "\n",
        "- Which media __contribute__ to sales?\n",
        "\n",
        "- Visualize the __relationship__ between the _features_ and the _response_ using scatter plots."
      ]
    },
    {
      "cell_type": "markdown",
      "metadata": {
        "id": "Of4CZLQ2wkp7",
        "colab_type": "text"
      },
      "source": [
        "<a id=section2></a>"
      ]
    },
    {
      "cell_type": "markdown",
      "metadata": {
        "id": "5bF9jZ7iwkp-",
        "colab_type": "text"
      },
      "source": [
        "## 2. Data Loading and Description\n",
        "\n",
        "The adverstising dataset captures sales revenue generated with respect to advertisement spends across multiple channles like radio, tv and newspaper.\n",
        "- TV        - Spend on TV Advertisements\n",
        "- Radio     - Spend on radio Advertisements\n",
        "- Newspaper - Spend on newspaper Advertisements\n",
        "- Sales     - Sales revenue generated"
      ]
    },
    {
      "cell_type": "markdown",
      "metadata": {
        "id": "gcK0nPW1wkp_",
        "colab_type": "text"
      },
      "source": [
        "__Importing Packages__"
      ]
    },
    {
      "cell_type": "code",
      "metadata": {
        "id": "MeQk2xNNwkqB",
        "colab_type": "code",
        "colab": {}
      },
      "source": [
        "import pandas as pd\n",
        "import seaborn as sns\n",
        "import matplotlib.pyplot as plt\n",
        "\n",
        "\n",
        "from sklearn import metrics\n",
        "\n",
        "import numpy as np\n",
        "\n",
        "# allow plots to appear directly in the notebook\n",
        "%matplotlib inline"
      ],
      "execution_count": 0,
      "outputs": []
    },
    {
      "cell_type": "markdown",
      "metadata": {
        "id": "14CnLbuuwkqG",
        "colab_type": "text"
      },
      "source": [
        "#### Importing the Dataset"
      ]
    },
    {
      "cell_type": "code",
      "metadata": {
        "id": "tTlYmm8FwkqK",
        "colab_type": "code",
        "outputId": "91224c33-0600-4e9b-ce0b-e9f2a8739de6",
        "colab": {
          "base_uri": "https://localhost:8080/",
          "height": 204
        }
      },
      "source": [
        "data = pd.read_csv('https://raw.githubusercontent.com/insaid2018/Term-2/master/CaseStudy/Advertising.csv', index_col=0)\n",
        "data.head()"
      ],
      "execution_count": 82,
      "outputs": [
        {
          "output_type": "execute_result",
          "data": {
            "text/html": [
              "<div>\n",
              "<style scoped>\n",
              "    .dataframe tbody tr th:only-of-type {\n",
              "        vertical-align: middle;\n",
              "    }\n",
              "\n",
              "    .dataframe tbody tr th {\n",
              "        vertical-align: top;\n",
              "    }\n",
              "\n",
              "    .dataframe thead th {\n",
              "        text-align: right;\n",
              "    }\n",
              "</style>\n",
              "<table border=\"1\" class=\"dataframe\">\n",
              "  <thead>\n",
              "    <tr style=\"text-align: right;\">\n",
              "      <th></th>\n",
              "      <th>TV</th>\n",
              "      <th>radio</th>\n",
              "      <th>newspaper</th>\n",
              "      <th>sales</th>\n",
              "    </tr>\n",
              "  </thead>\n",
              "  <tbody>\n",
              "    <tr>\n",
              "      <th>1</th>\n",
              "      <td>230.1</td>\n",
              "      <td>37.8</td>\n",
              "      <td>69.2</td>\n",
              "      <td>22.1</td>\n",
              "    </tr>\n",
              "    <tr>\n",
              "      <th>2</th>\n",
              "      <td>44.5</td>\n",
              "      <td>39.3</td>\n",
              "      <td>45.1</td>\n",
              "      <td>10.4</td>\n",
              "    </tr>\n",
              "    <tr>\n",
              "      <th>3</th>\n",
              "      <td>17.2</td>\n",
              "      <td>45.9</td>\n",
              "      <td>69.3</td>\n",
              "      <td>9.3</td>\n",
              "    </tr>\n",
              "    <tr>\n",
              "      <th>4</th>\n",
              "      <td>151.5</td>\n",
              "      <td>41.3</td>\n",
              "      <td>58.5</td>\n",
              "      <td>18.5</td>\n",
              "    </tr>\n",
              "    <tr>\n",
              "      <th>5</th>\n",
              "      <td>180.8</td>\n",
              "      <td>10.8</td>\n",
              "      <td>58.4</td>\n",
              "      <td>12.9</td>\n",
              "    </tr>\n",
              "  </tbody>\n",
              "</table>\n",
              "</div>"
            ],
            "text/plain": [
              "      TV  radio  newspaper  sales\n",
              "1  230.1   37.8       69.2   22.1\n",
              "2   44.5   39.3       45.1   10.4\n",
              "3   17.2   45.9       69.3    9.3\n",
              "4  151.5   41.3       58.5   18.5\n",
              "5  180.8   10.8       58.4   12.9"
            ]
          },
          "metadata": {
            "tags": []
          },
          "execution_count": 82
        }
      ]
    },
    {
      "cell_type": "markdown",
      "metadata": {
        "id": "n7ZIdsFKwkqQ",
        "colab_type": "text"
      },
      "source": [
        "What are the **features**?\n",
        "- TV: advertising dollars spent on TV for a single product in a given market (in thousands of dollars)\n",
        "- Radio: advertising dollars spent on Radio\n",
        "- Newspaper: advertising dollars spent on Newspaper\n",
        "\n",
        "What is the **response**?\n",
        "- Sales: sales of a single product in a given market (in thousands of widgets)"
      ]
    },
    {
      "cell_type": "markdown",
      "metadata": {
        "id": "DsOajKY7wkqU",
        "colab_type": "text"
      },
      "source": [
        "<a id=section3></a>"
      ]
    },
    {
      "cell_type": "markdown",
      "metadata": {
        "id": "EctIg_84wkqV",
        "colab_type": "text"
      },
      "source": [
        "## 3. Exploratory Data Analysis"
      ]
    },
    {
      "cell_type": "code",
      "metadata": {
        "id": "kfVUkwZBwkqY",
        "colab_type": "code",
        "outputId": "4b872dfe-1622-4b2b-eda0-9eb49d999133",
        "colab": {
          "base_uri": "https://localhost:8080/",
          "height": 34
        }
      },
      "source": [
        "data.shape"
      ],
      "execution_count": 83,
      "outputs": [
        {
          "output_type": "execute_result",
          "data": {
            "text/plain": [
              "(200, 4)"
            ]
          },
          "metadata": {
            "tags": []
          },
          "execution_count": 83
        }
      ]
    },
    {
      "cell_type": "code",
      "metadata": {
        "id": "9JV0kKn3qUuH",
        "colab_type": "code",
        "outputId": "17a4e04c-f6a2-4864-8cfd-d5bd6694b3ae",
        "colab": {
          "base_uri": "https://localhost:8080/",
          "height": 34
        }
      },
      "source": [
        "data.ndim"
      ],
      "execution_count": 85,
      "outputs": [
        {
          "output_type": "execute_result",
          "data": {
            "text/plain": [
              "2"
            ]
          },
          "metadata": {
            "tags": []
          },
          "execution_count": 85
        }
      ]
    },
    {
      "cell_type": "code",
      "metadata": {
        "id": "pagUa7Ilwkqf",
        "colab_type": "code",
        "outputId": "53d8e947-fb03-4153-9ebf-864f3c1d5c0c",
        "colab": {
          "base_uri": "https://localhost:8080/",
          "height": 170
        }
      },
      "source": [
        "data.info()"
      ],
      "execution_count": 86,
      "outputs": [
        {
          "output_type": "stream",
          "text": [
            "<class 'pandas.core.frame.DataFrame'>\n",
            "Int64Index: 200 entries, 1 to 200\n",
            "Data columns (total 4 columns):\n",
            "TV           200 non-null float64\n",
            "radio        200 non-null float64\n",
            "newspaper    200 non-null float64\n",
            "sales        200 non-null float64\n",
            "dtypes: float64(4)\n",
            "memory usage: 7.8 KB\n"
          ],
          "name": "stdout"
        }
      ]
    },
    {
      "cell_type": "code",
      "metadata": {
        "id": "-Zjd1Bk6e473",
        "colab_type": "code",
        "colab": {
          "base_uri": "https://localhost:8080/",
          "height": 34
        },
        "outputId": "b2e63674-77dc-42f8-e0a7-9a7f2af71652"
      },
      "source": [
        "data.ndim"
      ],
      "execution_count": 87,
      "outputs": [
        {
          "output_type": "execute_result",
          "data": {
            "text/plain": [
              "2"
            ]
          },
          "metadata": {
            "tags": []
          },
          "execution_count": 87
        }
      ]
    },
    {
      "cell_type": "code",
      "metadata": {
        "id": "CRTQl6c8wkqk",
        "colab_type": "code",
        "outputId": "2147d320-1fa3-45f0-955b-880098a68f23",
        "colab": {
          "base_uri": "https://localhost:8080/",
          "height": 297
        }
      },
      "source": [
        "data.describe()"
      ],
      "execution_count": 88,
      "outputs": [
        {
          "output_type": "execute_result",
          "data": {
            "text/html": [
              "<div>\n",
              "<style scoped>\n",
              "    .dataframe tbody tr th:only-of-type {\n",
              "        vertical-align: middle;\n",
              "    }\n",
              "\n",
              "    .dataframe tbody tr th {\n",
              "        vertical-align: top;\n",
              "    }\n",
              "\n",
              "    .dataframe thead th {\n",
              "        text-align: right;\n",
              "    }\n",
              "</style>\n",
              "<table border=\"1\" class=\"dataframe\">\n",
              "  <thead>\n",
              "    <tr style=\"text-align: right;\">\n",
              "      <th></th>\n",
              "      <th>TV</th>\n",
              "      <th>radio</th>\n",
              "      <th>newspaper</th>\n",
              "      <th>sales</th>\n",
              "    </tr>\n",
              "  </thead>\n",
              "  <tbody>\n",
              "    <tr>\n",
              "      <th>count</th>\n",
              "      <td>200.000000</td>\n",
              "      <td>200.000000</td>\n",
              "      <td>200.000000</td>\n",
              "      <td>200.000000</td>\n",
              "    </tr>\n",
              "    <tr>\n",
              "      <th>mean</th>\n",
              "      <td>147.042500</td>\n",
              "      <td>23.264000</td>\n",
              "      <td>30.554000</td>\n",
              "      <td>14.022500</td>\n",
              "    </tr>\n",
              "    <tr>\n",
              "      <th>std</th>\n",
              "      <td>85.854236</td>\n",
              "      <td>14.846809</td>\n",
              "      <td>21.778621</td>\n",
              "      <td>5.217457</td>\n",
              "    </tr>\n",
              "    <tr>\n",
              "      <th>min</th>\n",
              "      <td>0.700000</td>\n",
              "      <td>0.000000</td>\n",
              "      <td>0.300000</td>\n",
              "      <td>1.600000</td>\n",
              "    </tr>\n",
              "    <tr>\n",
              "      <th>25%</th>\n",
              "      <td>74.375000</td>\n",
              "      <td>9.975000</td>\n",
              "      <td>12.750000</td>\n",
              "      <td>10.375000</td>\n",
              "    </tr>\n",
              "    <tr>\n",
              "      <th>50%</th>\n",
              "      <td>149.750000</td>\n",
              "      <td>22.900000</td>\n",
              "      <td>25.750000</td>\n",
              "      <td>12.900000</td>\n",
              "    </tr>\n",
              "    <tr>\n",
              "      <th>75%</th>\n",
              "      <td>218.825000</td>\n",
              "      <td>36.525000</td>\n",
              "      <td>45.100000</td>\n",
              "      <td>17.400000</td>\n",
              "    </tr>\n",
              "    <tr>\n",
              "      <th>max</th>\n",
              "      <td>296.400000</td>\n",
              "      <td>49.600000</td>\n",
              "      <td>114.000000</td>\n",
              "      <td>27.000000</td>\n",
              "    </tr>\n",
              "  </tbody>\n",
              "</table>\n",
              "</div>"
            ],
            "text/plain": [
              "               TV       radio   newspaper       sales\n",
              "count  200.000000  200.000000  200.000000  200.000000\n",
              "mean   147.042500   23.264000   30.554000   14.022500\n",
              "std     85.854236   14.846809   21.778621    5.217457\n",
              "min      0.700000    0.000000    0.300000    1.600000\n",
              "25%     74.375000    9.975000   12.750000   10.375000\n",
              "50%    149.750000   22.900000   25.750000   12.900000\n",
              "75%    218.825000   36.525000   45.100000   17.400000\n",
              "max    296.400000   49.600000  114.000000   27.000000"
            ]
          },
          "metadata": {
            "tags": []
          },
          "execution_count": 88
        }
      ]
    },
    {
      "cell_type": "markdown",
      "metadata": {
        "id": "vkq3Yl0Cwkqo",
        "colab_type": "text"
      },
      "source": [
        "There are 200 **observations**, and thus 200 markets in the dataset.\n",
        "\n",
        "\n",
        "describe() makes sense when data is continuos and may not be useful when data is descrete or categorical\n",
        "\n",
        "If we check mean and standard deviation,\n",
        "TV has more dispersed data as huge difference in meand and std.\n",
        "\n",
        "For newspaper and radio, less difference between mean and std and seems to be more densed data.\n",
        "\n"
      ]
    },
    {
      "cell_type": "markdown",
      "metadata": {
        "id": "o8u8W8n4wkqp",
        "colab_type": "text"
      },
      "source": [
        "__Distribution of Features__"
      ]
    },
    {
      "cell_type": "code",
      "metadata": {
        "id": "UYtuFh-kwkqq",
        "colab_type": "code",
        "outputId": "779e8cf7-4cca-413d-a284-8cef2f4a069e",
        "colab": {
          "base_uri": "https://localhost:8080/",
          "height": 459
        }
      },
      "source": [
        "f, axes = plt.subplots(2, 2, figsize=(7, 7), sharex=True)                                      # Set up the matplotlib figure\n",
        "sns.despine(left=True)\n",
        "\n",
        "sns.distplot(data.sales, color=\"b\", ax=axes[0, 0])\n",
        "\n",
        "sns.distplot(data.TV, color=\"r\", ax=axes[0, 1])\n",
        "\n",
        "sns.distplot(data.radio, color=\"g\", ax=axes[1, 0])\n",
        "\n",
        "sns.distplot(data.newspaper, color=\"m\", ax=axes[1, 1])"
      ],
      "execution_count": 90,
      "outputs": [
        {
          "output_type": "execute_result",
          "data": {
            "text/plain": [
              "<matplotlib.axes._subplots.AxesSubplot at 0x7f3b51aef470>"
            ]
          },
          "metadata": {
            "tags": []
          },
          "execution_count": 90
        },
        {
          "output_type": "display_data",
          "data": {
            "image/png": "[encoded data removed]",
            "text/plain": [
              "<Figure size 504x504 with 4 Axes>"
            ]
          },
          "metadata": {
            "tags": []
          }
        }
      ]
    },
    {
      "cell_type": "markdown",
      "metadata": {
        "id": "gJfeSRFTwkqu",
        "colab_type": "text"
      },
      "source": [
        "__Observations__<br/>\n",
        "_Sales_ seems to be __normal distribution__. Spending on _newspaper advertisement_ seems to be __right skewed__. Most of the spends on _newspaper_ is __fairly low__ where are spend on _radio and tv_ seems be __uniform distribution__. Spends on _tv_ are __comparatively higher__ then spend on _radio and newspaper_."
      ]
    },
    {
      "cell_type": "markdown",
      "metadata": {
        "id": "gsAS3teawkqv",
        "colab_type": "text"
      },
      "source": [
        "### Is there a relationship between sales and spend various advertising channels?"
      ]
    },
    {
      "cell_type": "code",
      "metadata": {
        "id": "f1Fq67yximZ6",
        "colab_type": "code",
        "colab": {
          "base_uri": "https://localhost:8080/",
          "height": 458
        },
        "outputId": "a674e71e-bb46-44d6-e8b3-e921761713cf"
      },
      "source": [
        "sns.jointplot(\"newspaper\", \"sales\", data=data, kind='reg')"
      ],
      "execution_count": 91,
      "outputs": [
        {
          "output_type": "execute_result",
          "data": {
            "text/plain": [
              "<seaborn.axisgrid.JointGrid at 0x7f3b51bc5048>"
            ]
          },
          "metadata": {
            "tags": []
          },
          "execution_count": 91
        },
        {
          "output_type": "display_data",
          "data": {
            "image/png": "[encoded data removed]",
            "text/plain": [
              "<Figure size 432x432 with 3 Axes>"
            ]
          },
          "metadata": {
            "tags": []
          }
        }
      ]
    },
    {
      "cell_type": "markdown",
      "metadata": {
        "id": "aUHPwinXi6Cv",
        "colab_type": "text"
      },
      "source": [
        "Newspaper data seems dispersed and seems to be right skewed"
      ]
    },
    {
      "cell_type": "code",
      "metadata": {
        "id": "r_7aqZzqipHC",
        "colab_type": "code",
        "colab": {
          "base_uri": "https://localhost:8080/",
          "height": 458
        },
        "outputId": "57c2b6de-530b-4785-c47d-a07eb2a1a4f8"
      },
      "source": [
        "sns.jointplot(\"radio\", \"sales\", data=data, kind='reg')"
      ],
      "execution_count": 41,
      "outputs": [
        {
          "output_type": "execute_result",
          "data": {
            "text/plain": [
              "<seaborn.axisgrid.JointGrid at 0x7f3b563066a0>"
            ]
          },
          "metadata": {
            "tags": []
          },
          "execution_count": 41
        },
        {
          "output_type": "display_data",
          "data": {
            "image/png": "[encoded data removed]",
            "text/plain": [
              "<Figure size 432x432 with 3 Axes>"
            ]
          },
          "metadata": {
            "tags": []
          }
        }
      ]
    },
    {
      "cell_type": "markdown",
      "metadata": {
        "id": "dggpOjffjZ6F",
        "colab_type": "text"
      },
      "source": [
        "Radio data is not densed but not dispersed much and kind of uniform though not compeletly uniformed."
      ]
    },
    {
      "cell_type": "code",
      "metadata": {
        "id": "dV-yxe8UiufY",
        "colab_type": "code",
        "colab": {
          "base_uri": "https://localhost:8080/",
          "height": 458
        },
        "outputId": "baff53ad-5b44-4120-cfaa-2e6890e59a13"
      },
      "source": [
        "sns.jointplot(\"TV\", \"sales\", data=data, kind='reg')"
      ],
      "execution_count": 42,
      "outputs": [
        {
          "output_type": "execute_result",
          "data": {
            "text/plain": [
              "<seaborn.axisgrid.JointGrid at 0x7f3b55d22748>"
            ]
          },
          "metadata": {
            "tags": []
          },
          "execution_count": 42
        },
        {
          "output_type": "display_data",
          "data": {
            "image/png": "[encoded data removed]",
            "text/plain": [
              "<Figure size 432x432 with 3 Axes>"
            ]
          },
          "metadata": {
            "tags": []
          }
        }
      ]
    },
    {
      "cell_type": "markdown",
      "metadata": {
        "id": "293SZS--jq8J",
        "colab_type": "text"
      },
      "source": [
        "TV data is most dense out of three mediums"
      ]
    },
    {
      "cell_type": "code",
      "metadata": {
        "id": "-GyeApiSwkqw",
        "colab_type": "code",
        "outputId": "7ae5d680-4b7e-4989-9dc8-b2474568da5f",
        "colab": {
          "base_uri": "https://localhost:8080/",
          "height": 1000
        }
      },
      "source": [
        "JG1 = sns.jointplot(\"newspaper\", \"sales\", data=data, kind='reg')\n",
        "JG2 = sns.jointplot(\"radio\", \"sales\", data=data, kind='reg')\n",
        "JG3 = sns.jointplot(\"TV\", \"sales\", data=data, kind='reg')\n",
        "\n",
        "#subplots migration\n",
        "f = plt.figure()\n",
        "for J in [JG1, JG2,JG3]:\n",
        "    for A in J.fig.axes:\n",
        "        f._axstack.add(f._make_key(A), A)"
      ],
      "execution_count": 43,
      "outputs": [
        {
          "output_type": "display_data",
          "data": {
            "image/png": "[encoded data removed]",
            "text/plain": [
              "<Figure size 432x432 with 3 Axes>"
            ]
          },
          "metadata": {
            "tags": []
          }
        },
        {
          "output_type": "display_data",
          "data": {
            "image/png": "[encoded data removed]",
            "text/plain": [
              "<Figure size 432x432 with 3 Axes>"
            ]
          },
          "metadata": {
            "tags": []
          }
        },
        {
          "output_type": "display_data",
          "data": {
            "image/png": "[encoded data removed]",
            "text/plain": [
              "<Figure size 432x432 with 3 Axes>"
            ]
          },
          "metadata": {
            "tags": []
          }
        },
        {
          "output_type": "display_data",
          "data": {
            "image/png": "[encoded data removed]",
            "text/plain": [
              "<Figure size 432x288 with 9 Axes>"
            ]
          },
          "metadata": {
            "tags": []
          }
        }
      ]
    },
    {
      "cell_type": "markdown",
      "metadata": {
        "id": "67EEnmmpwkq2",
        "colab_type": "text"
      },
      "source": [
        "__Observation__<br/>\n",
        "_Sales and spend on newpaper_ is __not__ highly correlaed where are _sales and spend on tv_ is __highly correlated__."
      ]
    },
    {
      "cell_type": "markdown",
      "metadata": {
        "id": "yvhA7ZGlLhdd",
        "colab_type": "text"
      },
      "source": [
        "<img src=\"https://raw.githubusercontent.com/AnkitNigam1985/Data-Science/master/tmp_images/ML_Linear_regression_29.PNG\" width=\"600\" height=\"400\" />\n",
        "\n",
        "\n",
        "\n",
        "\n",
        "<img src=\"https://raw.githubusercontent.com/AnkitNigam1985/Data-Science/master/tmp_images/ML_Linear_regression_30.PNG\" width=\"600\" height=\"400\" />\n",
        "\n",
        "\n",
        "\n",
        "\n",
        "<img src=\"https://raw.githubusercontent.com/AnkitNigam1985/Data-Science/master/tmp_images/ML_Linear_regression_31.PNG\" width=\"600\" height=\"400\" />\n",
        "\n",
        "\n",
        "\n",
        "From the above figures, we can understand that the more data is disperesed, the range area highlighted in regplot around the line has more range.\n",
        "So, prediction have more variance, so data should be less dispersed or has low bias.\n",
        "\n",
        "For the best data for model, the data should not have any skewness or bias and outliers.\n",
        "\n",
        "Also the high value of m, like here it is around 10, means bias in the data.\n",
        "If we comaore it with TV , there m is below 5, so TV data has less bias.\n",
        "\n",
        "Also, if data is dispersed, and at anywhere data is more densly populated, it will incline the regplot line towards it as mean is affected by the density of data at any place in dataset.\n",
        "Another reason, why outliers can be avoided as it may imapct the mean.\n",
        "\n",
        "<img src=\"https://raw.githubusercontent.com/AnkitNigam1985/Data-Science/master/tmp_images/ML_Linear_regression_32.PNG\" width=\"600\" height=\"400\" />\n",
        "\n",
        "\n",
        "For TV, data is dense and line has low range in shaded area.\n",
        "Also m value is low, hence low bias."
      ]
    },
    {
      "cell_type": "markdown",
      "metadata": {
        "id": "2wwP7VqRwkq3",
        "colab_type": "text"
      },
      "source": [
        "### Visualising Pairwise correlation"
      ]
    },
    {
      "cell_type": "code",
      "metadata": {
        "id": "Y94Oslfwwkq4",
        "colab_type": "code",
        "outputId": "9673e997-1d0b-46d2-bfb7-f9a9261aa83e",
        "colab": {
          "base_uri": "https://localhost:8080/",
          "height": 632
        }
      },
      "source": [
        "sns.pairplot(data, size = 2, aspect = 1.5)"
      ],
      "execution_count": 44,
      "outputs": [
        {
          "output_type": "stream",
          "text": [
            "/usr/local/lib/python3.6/dist-packages/seaborn/axisgrid.py:2065: UserWarning: The `size` parameter has been renamed to `height`; pleaes update your code.\n",
            "  warnings.warn(msg, UserWarning)\n"
          ],
          "name": "stderr"
        },
        {
          "output_type": "execute_result",
          "data": {
            "text/plain": [
              "<seaborn.axisgrid.PairGrid at 0x7f3b576c0240>"
            ]
          },
          "metadata": {
            "tags": []
          },
          "execution_count": 44
        },
        {
          "output_type": "display_data",
          "data": {
            "image/png": "[encoded data removed]",
            "text/plain": [
              "<Figure size 864x576 with 20 Axes>"
            ]
          },
          "metadata": {
            "tags": []
          }
        }
      ]
    },
    {
      "cell_type": "code",
      "metadata": {
        "id": "68MWP8Auwkq6",
        "colab_type": "code",
        "outputId": "68313c86-38b1-4ba0-ea97-4c7fd43e3659",
        "colab": {
          "base_uri": "https://localhost:8080/",
          "height": 416
        }
      },
      "source": [
        "sns.pairplot(data, x_vars=['TV', 'radio', 'newspaper'], y_vars='sales', size=5, aspect=1, kind='reg')"
      ],
      "execution_count": 45,
      "outputs": [
        {
          "output_type": "stream",
          "text": [
            "/usr/local/lib/python3.6/dist-packages/seaborn/axisgrid.py:2065: UserWarning: The `size` parameter has been renamed to `height`; pleaes update your code.\n",
            "  warnings.warn(msg, UserWarning)\n"
          ],
          "name": "stderr"
        },
        {
          "output_type": "execute_result",
          "data": {
            "text/plain": [
              "<seaborn.axisgrid.PairGrid at 0x7f3b55f41e10>"
            ]
          },
          "metadata": {
            "tags": []
          },
          "execution_count": 45
        },
        {
          "output_type": "display_data",
          "data": {
            "image/png": "[encoded data removed]",
            "text/plain": [
              "<Figure size 1080x360 with 3 Axes>"
            ]
          },
          "metadata": {
            "tags": []
          }
        }
      ]
    },
    {
      "cell_type": "markdown",
      "metadata": {
        "id": "bPeWreRPwkq8",
        "colab_type": "text"
      },
      "source": [
        "__Observation__\n",
        "\n",
        "- Strong relationship between TV ads and sales\n",
        "- Weak relationship between Radio ads and sales\n",
        "- Very weak to no relationship between Newspaper ads and sales\n",
        "\n"
      ]
    },
    {
      "cell_type": "markdown",
      "metadata": {
        "id": "eRs7P-w5wkq9",
        "colab_type": "text"
      },
      "source": [
        "### Calculating and plotting heatmap correlation"
      ]
    },
    {
      "cell_type": "code",
      "metadata": {
        "id": "y46uV6TNwkq-",
        "colab_type": "code",
        "outputId": "d33f1e0f-abc0-47f0-a6d9-49ce543a0714",
        "colab": {
          "base_uri": "https://localhost:8080/",
          "height": 173
        }
      },
      "source": [
        "data.corr()\n",
        "# only worls on numerical cont"
      ],
      "execution_count": 46,
      "outputs": [
        {
          "output_type": "execute_result",
          "data": {
            "text/html": [
              "<div>\n",
              "<style scoped>\n",
              "    .dataframe tbody tr th:only-of-type {\n",
              "        vertical-align: middle;\n",
              "    }\n",
              "\n",
              "    .dataframe tbody tr th {\n",
              "        vertical-align: top;\n",
              "    }\n",
              "\n",
              "    .dataframe thead th {\n",
              "        text-align: right;\n",
              "    }\n",
              "</style>\n",
              "<table border=\"1\" class=\"dataframe\">\n",
              "  <thead>\n",
              "    <tr style=\"text-align: right;\">\n",
              "      <th></th>\n",
              "      <th>TV</th>\n",
              "      <th>radio</th>\n",
              "      <th>newspaper</th>\n",
              "      <th>sales</th>\n",
              "    </tr>\n",
              "  </thead>\n",
              "  <tbody>\n",
              "    <tr>\n",
              "      <th>TV</th>\n",
              "      <td>1.000000</td>\n",
              "      <td>0.054809</td>\n",
              "      <td>0.056648</td>\n",
              "      <td>0.782224</td>\n",
              "    </tr>\n",
              "    <tr>\n",
              "      <th>radio</th>\n",
              "      <td>0.054809</td>\n",
              "      <td>1.000000</td>\n",
              "      <td>0.354104</td>\n",
              "      <td>0.576223</td>\n",
              "    </tr>\n",
              "    <tr>\n",
              "      <th>newspaper</th>\n",
              "      <td>0.056648</td>\n",
              "      <td>0.354104</td>\n",
              "      <td>1.000000</td>\n",
              "      <td>0.228299</td>\n",
              "    </tr>\n",
              "    <tr>\n",
              "      <th>sales</th>\n",
              "      <td>0.782224</td>\n",
              "      <td>0.576223</td>\n",
              "      <td>0.228299</td>\n",
              "      <td>1.000000</td>\n",
              "    </tr>\n",
              "  </tbody>\n",
              "</table>\n",
              "</div>"
            ],
            "text/plain": [
              "                 TV     radio  newspaper     sales\n",
              "TV         1.000000  0.054809   0.056648  0.782224\n",
              "radio      0.054809  1.000000   0.354104  0.576223\n",
              "newspaper  0.056648  0.354104   1.000000  0.228299\n",
              "sales      0.782224  0.576223   0.228299  1.000000"
            ]
          },
          "metadata": {
            "tags": []
          },
          "execution_count": 46
        }
      ]
    },
    {
      "cell_type": "code",
      "metadata": {
        "id": "MsbhoShrwkrA",
        "colab_type": "code",
        "outputId": "3ac63965-ff73-428b-bb4a-58d3dc93f31a",
        "colab": {
          "base_uri": "https://localhost:8080/",
          "height": 286
        }
      },
      "source": [
        "sns.heatmap( data.corr(), annot=True )"
      ],
      "execution_count": 47,
      "outputs": [
        {
          "output_type": "execute_result",
          "data": {
            "text/plain": [
              "<matplotlib.axes._subplots.AxesSubplot at 0x7f3b55561cc0>"
            ]
          },
          "metadata": {
            "tags": []
          },
          "execution_count": 47
        },
        {
          "output_type": "display_data",
          "data": {
            "image/png": "[encoded data removed]",
            "text/plain": [
              "<Figure size 432x288 with 2 Axes>"
            ]
          },
          "metadata": {
            "tags": []
          }
        }
      ]
    },
    {
      "cell_type": "markdown",
      "metadata": {
        "id": "W0IskE_gwkrD",
        "colab_type": "text"
      },
      "source": [
        "__Observation__\n",
        "\n",
        "- The diagonal of the above matirx shows the auto-correlation of the variables. It is always 1. You can observe that the correlation between __TV and Sales is highest i.e. 0.78__ and then between __sales and radio i.e. 0.576__.\n",
        "\n",
        "- correlations can vary from -1 to +1. Closer to +1 means strong positive correlation and close -1 means strong negative correlation. Closer to 0 means not very strongly correlated. variables with __strong correlations__ are mostly probably candidates for __model builing__.\n"
      ]
    },
    {
      "cell_type": "markdown",
      "metadata": {
        "id": "1p5er9jqwkrE",
        "colab_type": "text"
      },
      "source": [
        "<a id=section4></a>"
      ]
    },
    {
      "cell_type": "markdown",
      "metadata": {
        "id": "Vge0kZGOwkrG",
        "colab_type": "text"
      },
      "source": [
        "## 4. Introduction to Linear Regression\n",
        "\n",
        "__Linear regression__ is a _basic_ and _commonly_ used type of __predictive analysis__.  The overall idea of regression is to examine two things: \n",
        "- Does a set of __predictor variables__ do a good job in predicting an __outcome__ (dependent) variable?  \n",
        "- Which variables in particular are __significant predictors__ of the outcome variable, and in what way they do __impact__ the outcome variable?  \n",
        "\n",
        "These regression estimates are used to explain the __relationship between one dependent variable and one or more independent variables__.  The simplest form of the regression equation with one dependent and one independent variable is defined by the formula :<br/>\n",
        "$y = \\beta_0 + \\beta_1x$\n",
        "\n",
        "![image.png](attachment:image.png)\n",
        "\n",
        "What does each term represent?\n",
        "- $y$ is the response\n",
        "- $x$ is the feature\n",
        "- $\\beta_0$ is the intercept\n",
        "- $\\beta_1$ is the coefficient for x\n",
        "\n",
        "\n",
        "Three major uses for __regression analysis__ are: \n",
        "- determining the __strength__ of predictors,\n",
        "    - Typical questions are what is the strength of __relationship__ between _dose and effect_, _sales and marketing spending_, or _age and income_.\n",
        "- __forecasting__ an effect, and\n",
        "    - how much __additional sales income__ do I get for each additional $1000 spent on marketing?\n",
        "- __trend__ forecasting.\n",
        "    - what will the __price of house__ be in _6 months_?"
      ]
    },
    {
      "cell_type": "markdown",
      "metadata": {
        "id": "7fcX0j0MwkrH",
        "colab_type": "text"
      },
      "source": [
        "<a id=section401></a>"
      ]
    },
    {
      "cell_type": "markdown",
      "metadata": {
        "id": "dNfUn60pwkrH",
        "colab_type": "text"
      },
      "source": [
        "### 4.1 Linear Regression Equation with Errors in consideration\n",
        "\n",
        "While taking errors into consideration the equation of linear regression is: \n",
        "![image.png](attachment:image.png)\n",
        "Generally speaking, coefficients are estimated using the **least squares criterion**, which means we are find the line (mathematically) which minimizes the **sum of squared residuals** (or \"sum of squared errors\"):\n"
      ]
    },
    {
      "cell_type": "markdown",
      "metadata": {
        "id": "bDnefuavwkrI",
        "colab_type": "text"
      },
      "source": [
        "What elements are present in the diagram?\n",
        "- The black dots are the **observed values** of x and y.\n",
        "- The blue line is our **least squares line**.\n",
        "- The red lines are the **residuals**, which are the distances between the observed values and the least squares line.\n",
        "![image.png](attachment:image.png)\n"
      ]
    },
    {
      "cell_type": "markdown",
      "metadata": {
        "id": "Fm5IfGr0wkrI",
        "colab_type": "text"
      },
      "source": [
        "How do the model coefficients relate to the least squares line?\n",
        "- $\\beta_0$ is the **intercept** (the value of $y$ when $x$ = 0)\n",
        "- $\\beta_1$ is the **slope** (the change in $y$ divided by change in $x$)\n",
        "\n",
        "Here is a graphical depiction of those calculations:\n",
        "![image.png](attachment:image.png)"
      ]
    },
    {
      "cell_type": "markdown",
      "metadata": {
        "id": "Olv-4iqRwkrJ",
        "colab_type": "text"
      },
      "source": [
        "<a id = sectionassumptions></a>"
      ]
    },
    {
      "cell_type": "markdown",
      "metadata": {
        "id": "uPzXeiY_wkrK",
        "colab_type": "text"
      },
      "source": [
        "#### 4.1.1 Assumptions of Linear Regression"
      ]
    },
    {
      "cell_type": "markdown",
      "metadata": {
        "id": "7NsIWG27wkrK",
        "colab_type": "text"
      },
      "source": [
        "1. There should be a linear and additive relationship between dependent (response) variable and independent (predictor) variable(s). A linear relationship suggests that a change in response Y due to one unit change in X¹ is constant, regardless of the value of X¹. An additive relationship suggests that the effect of X¹ on Y is independent of other variables.\n",
        "2. There should be no correlation between the residual (error) terms. Absence of this phenomenon is known as Autocorrelation.\n",
        "3. The independent variables should not be correlated. Absence of this phenomenon is known as multicollinearity.\n",
        "4. The error terms must have constant variance. This phenomenon is known as homoskedasticity. The presence of non-constant variance is referred to heteroskedasticity.\n",
        "5. The error terms must be normally distributed."
      ]
    },
    {
      "cell_type": "markdown",
      "metadata": {
        "id": "59jqUPWkwkrL",
        "colab_type": "text"
      },
      "source": [
        "<a id=section402></a>"
      ]
    },
    {
      "cell_type": "markdown",
      "metadata": {
        "id": "wUrFGE6kwkrL",
        "colab_type": "text"
      },
      "source": [
        "### 4.2 Preparing X and y using pandas"
      ]
    },
    {
      "cell_type": "markdown",
      "metadata": {
        "id": "uLU1NQajwkrM",
        "colab_type": "text"
      },
      "source": [
        "- __Standardization__. <br/>\n",
        "Standardize features by removing the _mean_ and scaling to _unit standard deviation_."
      ]
    },
    {
      "cell_type": "markdown",
      "metadata": {
        "id": "MCUPHuc2qVs7",
        "colab_type": "text"
      },
      "source": [
        "data is the data is manually scaled using StandardScaler\n",
        "\n",
        "while data2 is not scaled manually, instead will be feed into algo directly and algo with normalize internally"
      ]
    },
    {
      "cell_type": "code",
      "metadata": {
        "id": "P_3F4tpewkrM",
        "colab_type": "code",
        "colab": {}
      },
      "source": [
        "from sklearn.preprocessing import StandardScaler\n",
        "scaler = StandardScaler().fit(data)\n",
        "data1 = scaler.transform(data)"
      ],
      "execution_count": 0,
      "outputs": []
    },
    {
      "cell_type": "code",
      "metadata": {
        "scrolled": true,
        "id": "IQUzswxowkrO",
        "colab_type": "code",
        "outputId": "89a8856f-5258-4d97-d667-0c9da15d6ba5",
        "colab": {
          "base_uri": "https://localhost:8080/",
          "height": 204
        }
      },
      "source": [
        "data = pd.DataFrame(data1)\n",
        "data.head()"
      ],
      "execution_count": 93,
      "outputs": [
        {
          "output_type": "execute_result",
          "data": {
            "text/html": [
              "<div>\n",
              "<style scoped>\n",
              "    .dataframe tbody tr th:only-of-type {\n",
              "        vertical-align: middle;\n",
              "    }\n",
              "\n",
              "    .dataframe tbody tr th {\n",
              "        vertical-align: top;\n",
              "    }\n",
              "\n",
              "    .dataframe thead th {\n",
              "        text-align: right;\n",
              "    }\n",
              "</style>\n",
              "<table border=\"1\" class=\"dataframe\">\n",
              "  <thead>\n",
              "    <tr style=\"text-align: right;\">\n",
              "      <th></th>\n",
              "      <th>0</th>\n",
              "      <th>1</th>\n",
              "      <th>2</th>\n",
              "      <th>3</th>\n",
              "    </tr>\n",
              "  </thead>\n",
              "  <tbody>\n",
              "    <tr>\n",
              "      <th>0</th>\n",
              "      <td>0.969852</td>\n",
              "      <td>0.981522</td>\n",
              "      <td>1.778945</td>\n",
              "      <td>1.552053</td>\n",
              "    </tr>\n",
              "    <tr>\n",
              "      <th>1</th>\n",
              "      <td>-1.197376</td>\n",
              "      <td>1.082808</td>\n",
              "      <td>0.669579</td>\n",
              "      <td>-0.696046</td>\n",
              "    </tr>\n",
              "    <tr>\n",
              "      <th>2</th>\n",
              "      <td>-1.516155</td>\n",
              "      <td>1.528463</td>\n",
              "      <td>1.783549</td>\n",
              "      <td>-0.907406</td>\n",
              "    </tr>\n",
              "    <tr>\n",
              "      <th>3</th>\n",
              "      <td>0.052050</td>\n",
              "      <td>1.217855</td>\n",
              "      <td>1.286405</td>\n",
              "      <td>0.860330</td>\n",
              "    </tr>\n",
              "    <tr>\n",
              "      <th>4</th>\n",
              "      <td>0.394182</td>\n",
              "      <td>-0.841614</td>\n",
              "      <td>1.281802</td>\n",
              "      <td>-0.215683</td>\n",
              "    </tr>\n",
              "  </tbody>\n",
              "</table>\n",
              "</div>"
            ],
            "text/plain": [
              "          0         1         2         3\n",
              "0  0.969852  0.981522  1.778945  1.552053\n",
              "1 -1.197376  1.082808  0.669579 -0.696046\n",
              "2 -1.516155  1.528463  1.783549 -0.907406\n",
              "3  0.052050  1.217855  1.286405  0.860330\n",
              "4  0.394182 -0.841614  1.281802 -0.215683"
            ]
          },
          "metadata": {
            "tags": []
          },
          "execution_count": 93
        }
      ]
    },
    {
      "cell_type": "code",
      "metadata": {
        "id": "gbudgGDkCxVX",
        "colab_type": "code",
        "outputId": "5750aa47-a9b3-4aad-bdb0-9c2604203726",
        "colab": {
          "base_uri": "https://localhost:8080/",
          "height": 204
        }
      },
      "source": [
        "data2 = pd.read_csv('https://raw.githubusercontent.com/insaid2018/Term-2/master/CaseStudy/Advertising.csv', index_col=0)\n",
        "data2.head()"
      ],
      "execution_count": 94,
      "outputs": [
        {
          "output_type": "execute_result",
          "data": {
            "text/html": [
              "<div>\n",
              "<style scoped>\n",
              "    .dataframe tbody tr th:only-of-type {\n",
              "        vertical-align: middle;\n",
              "    }\n",
              "\n",
              "    .dataframe tbody tr th {\n",
              "        vertical-align: top;\n",
              "    }\n",
              "\n",
              "    .dataframe thead th {\n",
              "        text-align: right;\n",
              "    }\n",
              "</style>\n",
              "<table border=\"1\" class=\"dataframe\">\n",
              "  <thead>\n",
              "    <tr style=\"text-align: right;\">\n",
              "      <th></th>\n",
              "      <th>TV</th>\n",
              "      <th>radio</th>\n",
              "      <th>newspaper</th>\n",
              "      <th>sales</th>\n",
              "    </tr>\n",
              "  </thead>\n",
              "  <tbody>\n",
              "    <tr>\n",
              "      <th>1</th>\n",
              "      <td>230.1</td>\n",
              "      <td>37.8</td>\n",
              "      <td>69.2</td>\n",
              "      <td>22.1</td>\n",
              "    </tr>\n",
              "    <tr>\n",
              "      <th>2</th>\n",
              "      <td>44.5</td>\n",
              "      <td>39.3</td>\n",
              "      <td>45.1</td>\n",
              "      <td>10.4</td>\n",
              "    </tr>\n",
              "    <tr>\n",
              "      <th>3</th>\n",
              "      <td>17.2</td>\n",
              "      <td>45.9</td>\n",
              "      <td>69.3</td>\n",
              "      <td>9.3</td>\n",
              "    </tr>\n",
              "    <tr>\n",
              "      <th>4</th>\n",
              "      <td>151.5</td>\n",
              "      <td>41.3</td>\n",
              "      <td>58.5</td>\n",
              "      <td>18.5</td>\n",
              "    </tr>\n",
              "    <tr>\n",
              "      <th>5</th>\n",
              "      <td>180.8</td>\n",
              "      <td>10.8</td>\n",
              "      <td>58.4</td>\n",
              "      <td>12.9</td>\n",
              "    </tr>\n",
              "  </tbody>\n",
              "</table>\n",
              "</div>"
            ],
            "text/plain": [
              "      TV  radio  newspaper  sales\n",
              "1  230.1   37.8       69.2   22.1\n",
              "2   44.5   39.3       45.1   10.4\n",
              "3   17.2   45.9       69.3    9.3\n",
              "4  151.5   41.3       58.5   18.5\n",
              "5  180.8   10.8       58.4   12.9"
            ]
          },
          "metadata": {
            "tags": []
          },
          "execution_count": 94
        }
      ]
    },
    {
      "cell_type": "code",
      "metadata": {
        "id": "b1SLBu6TwkrQ",
        "colab_type": "code",
        "outputId": "4e51b0b7-de03-47c1-fd33-c3c18a68765e",
        "colab": {
          "base_uri": "https://localhost:8080/",
          "height": 204
        }
      },
      "source": [
        "data.columns = ['TV','radio','newspaper','sales']\n",
        "data.head()"
      ],
      "execution_count": 95,
      "outputs": [
        {
          "output_type": "execute_result",
          "data": {
            "text/html": [
              "<div>\n",
              "<style scoped>\n",
              "    .dataframe tbody tr th:only-of-type {\n",
              "        vertical-align: middle;\n",
              "    }\n",
              "\n",
              "    .dataframe tbody tr th {\n",
              "        vertical-align: top;\n",
              "    }\n",
              "\n",
              "    .dataframe thead th {\n",
              "        text-align: right;\n",
              "    }\n",
              "</style>\n",
              "<table border=\"1\" class=\"dataframe\">\n",
              "  <thead>\n",
              "    <tr style=\"text-align: right;\">\n",
              "      <th></th>\n",
              "      <th>TV</th>\n",
              "      <th>radio</th>\n",
              "      <th>newspaper</th>\n",
              "      <th>sales</th>\n",
              "    </tr>\n",
              "  </thead>\n",
              "  <tbody>\n",
              "    <tr>\n",
              "      <th>0</th>\n",
              "      <td>0.969852</td>\n",
              "      <td>0.981522</td>\n",
              "      <td>1.778945</td>\n",
              "      <td>1.552053</td>\n",
              "    </tr>\n",
              "    <tr>\n",
              "      <th>1</th>\n",
              "      <td>-1.197376</td>\n",
              "      <td>1.082808</td>\n",
              "      <td>0.669579</td>\n",
              "      <td>-0.696046</td>\n",
              "    </tr>\n",
              "    <tr>\n",
              "      <th>2</th>\n",
              "      <td>-1.516155</td>\n",
              "      <td>1.528463</td>\n",
              "      <td>1.783549</td>\n",
              "      <td>-0.907406</td>\n",
              "    </tr>\n",
              "    <tr>\n",
              "      <th>3</th>\n",
              "      <td>0.052050</td>\n",
              "      <td>1.217855</td>\n",
              "      <td>1.286405</td>\n",
              "      <td>0.860330</td>\n",
              "    </tr>\n",
              "    <tr>\n",
              "      <th>4</th>\n",
              "      <td>0.394182</td>\n",
              "      <td>-0.841614</td>\n",
              "      <td>1.281802</td>\n",
              "      <td>-0.215683</td>\n",
              "    </tr>\n",
              "  </tbody>\n",
              "</table>\n",
              "</div>"
            ],
            "text/plain": [
              "         TV     radio  newspaper     sales\n",
              "0  0.969852  0.981522   1.778945  1.552053\n",
              "1 -1.197376  1.082808   0.669579 -0.696046\n",
              "2 -1.516155  1.528463   1.783549 -0.907406\n",
              "3  0.052050  1.217855   1.286405  0.860330\n",
              "4  0.394182 -0.841614   1.281802 -0.215683"
            ]
          },
          "metadata": {
            "tags": []
          },
          "execution_count": 95
        }
      ]
    },
    {
      "cell_type": "markdown",
      "metadata": {
        "id": "wHJ29WhaS5Ob",
        "colab_type": "text"
      },
      "source": [
        "#Steps \n",
        "\n",
        "1) Get the data \n",
        "\n",
        "2) Divide into X & Y \n",
        "\n",
        "3) Divide the data into train & test; create 4 sets \n"
      ]
    },
    {
      "cell_type": "code",
      "metadata": {
        "id": "wpbzAPU8S40T",
        "colab_type": "code",
        "outputId": "51379559-61ae-40e0-833a-f12db45b7be4",
        "colab": {
          "base_uri": "https://localhost:8080/",
          "height": 204
        }
      },
      "source": [
        "data.head()"
      ],
      "execution_count": 96,
      "outputs": [
        {
          "output_type": "execute_result",
          "data": {
            "text/html": [
              "<div>\n",
              "<style scoped>\n",
              "    .dataframe tbody tr th:only-of-type {\n",
              "        vertical-align: middle;\n",
              "    }\n",
              "\n",
              "    .dataframe tbody tr th {\n",
              "        vertical-align: top;\n",
              "    }\n",
              "\n",
              "    .dataframe thead th {\n",
              "        text-align: right;\n",
              "    }\n",
              "</style>\n",
              "<table border=\"1\" class=\"dataframe\">\n",
              "  <thead>\n",
              "    <tr style=\"text-align: right;\">\n",
              "      <th></th>\n",
              "      <th>TV</th>\n",
              "      <th>radio</th>\n",
              "      <th>newspaper</th>\n",
              "      <th>sales</th>\n",
              "    </tr>\n",
              "  </thead>\n",
              "  <tbody>\n",
              "    <tr>\n",
              "      <th>0</th>\n",
              "      <td>0.969852</td>\n",
              "      <td>0.981522</td>\n",
              "      <td>1.778945</td>\n",
              "      <td>1.552053</td>\n",
              "    </tr>\n",
              "    <tr>\n",
              "      <th>1</th>\n",
              "      <td>-1.197376</td>\n",
              "      <td>1.082808</td>\n",
              "      <td>0.669579</td>\n",
              "      <td>-0.696046</td>\n",
              "    </tr>\n",
              "    <tr>\n",
              "      <th>2</th>\n",
              "      <td>-1.516155</td>\n",
              "      <td>1.528463</td>\n",
              "      <td>1.783549</td>\n",
              "      <td>-0.907406</td>\n",
              "    </tr>\n",
              "    <tr>\n",
              "      <th>3</th>\n",
              "      <td>0.052050</td>\n",
              "      <td>1.217855</td>\n",
              "      <td>1.286405</td>\n",
              "      <td>0.860330</td>\n",
              "    </tr>\n",
              "    <tr>\n",
              "      <th>4</th>\n",
              "      <td>0.394182</td>\n",
              "      <td>-0.841614</td>\n",
              "      <td>1.281802</td>\n",
              "      <td>-0.215683</td>\n",
              "    </tr>\n",
              "  </tbody>\n",
              "</table>\n",
              "</div>"
            ],
            "text/plain": [
              "         TV     radio  newspaper     sales\n",
              "0  0.969852  0.981522   1.778945  1.552053\n",
              "1 -1.197376  1.082808   0.669579 -0.696046\n",
              "2 -1.516155  1.528463   1.783549 -0.907406\n",
              "3  0.052050  1.217855   1.286405  0.860330\n",
              "4  0.394182 -0.841614   1.281802 -0.215683"
            ]
          },
          "metadata": {
            "tags": []
          },
          "execution_count": 96
        }
      ]
    },
    {
      "cell_type": "code",
      "metadata": {
        "id": "s9OHw4hZqBVO",
        "colab_type": "code",
        "colab": {
          "base_uri": "https://localhost:8080/",
          "height": 204
        },
        "outputId": "a47fc2a9-4181-4e1a-9a4b-e7a3e2431d0e"
      },
      "source": [
        "data2.head()"
      ],
      "execution_count": 97,
      "outputs": [
        {
          "output_type": "execute_result",
          "data": {
            "text/html": [
              "<div>\n",
              "<style scoped>\n",
              "    .dataframe tbody tr th:only-of-type {\n",
              "        vertical-align: middle;\n",
              "    }\n",
              "\n",
              "    .dataframe tbody tr th {\n",
              "        vertical-align: top;\n",
              "    }\n",
              "\n",
              "    .dataframe thead th {\n",
              "        text-align: right;\n",
              "    }\n",
              "</style>\n",
              "<table border=\"1\" class=\"dataframe\">\n",
              "  <thead>\n",
              "    <tr style=\"text-align: right;\">\n",
              "      <th></th>\n",
              "      <th>TV</th>\n",
              "      <th>radio</th>\n",
              "      <th>newspaper</th>\n",
              "      <th>sales</th>\n",
              "    </tr>\n",
              "  </thead>\n",
              "  <tbody>\n",
              "    <tr>\n",
              "      <th>1</th>\n",
              "      <td>230.1</td>\n",
              "      <td>37.8</td>\n",
              "      <td>69.2</td>\n",
              "      <td>22.1</td>\n",
              "    </tr>\n",
              "    <tr>\n",
              "      <th>2</th>\n",
              "      <td>44.5</td>\n",
              "      <td>39.3</td>\n",
              "      <td>45.1</td>\n",
              "      <td>10.4</td>\n",
              "    </tr>\n",
              "    <tr>\n",
              "      <th>3</th>\n",
              "      <td>17.2</td>\n",
              "      <td>45.9</td>\n",
              "      <td>69.3</td>\n",
              "      <td>9.3</td>\n",
              "    </tr>\n",
              "    <tr>\n",
              "      <th>4</th>\n",
              "      <td>151.5</td>\n",
              "      <td>41.3</td>\n",
              "      <td>58.5</td>\n",
              "      <td>18.5</td>\n",
              "    </tr>\n",
              "    <tr>\n",
              "      <th>5</th>\n",
              "      <td>180.8</td>\n",
              "      <td>10.8</td>\n",
              "      <td>58.4</td>\n",
              "      <td>12.9</td>\n",
              "    </tr>\n",
              "  </tbody>\n",
              "</table>\n",
              "</div>"
            ],
            "text/plain": [
              "      TV  radio  newspaper  sales\n",
              "1  230.1   37.8       69.2   22.1\n",
              "2   44.5   39.3       45.1   10.4\n",
              "3   17.2   45.9       69.3    9.3\n",
              "4  151.5   41.3       58.5   18.5\n",
              "5  180.8   10.8       58.4   12.9"
            ]
          },
          "metadata": {
            "tags": []
          },
          "execution_count": 97
        }
      ]
    },
    {
      "cell_type": "code",
      "metadata": {
        "id": "7TiyCPrNwkrU",
        "colab_type": "code",
        "colab": {}
      },
      "source": [
        "feature_cols = ['TV', 'radio', 'newspaper']                # create a Python list of feature names\n",
        "X1 = data[feature_cols]                                     # use the list to select a subset of the original DataFrame-+\n",
        "X2 = data2[feature_cols]  "
      ],
      "execution_count": 0,
      "outputs": []
    },
    {
      "cell_type": "markdown",
      "metadata": {
        "id": "UK4As9B0wkrW",
        "colab_type": "text"
      },
      "source": [
        "- Checking the type and shape of X."
      ]
    },
    {
      "cell_type": "code",
      "metadata": {
        "id": "8VijFucswkrX",
        "colab_type": "code",
        "outputId": "b4c96a5a-d100-4c36-8b25-f855d8d6dbf5",
        "colab": {
          "base_uri": "https://localhost:8080/",
          "height": 85
        }
      },
      "source": [
        "print(type(X1))\n",
        "print(X1.shape)\n",
        "print(type(X2))\n",
        "print(X2.shape)"
      ],
      "execution_count": 99,
      "outputs": [
        {
          "output_type": "stream",
          "text": [
            "<class 'pandas.core.frame.DataFrame'>\n",
            "(200, 3)\n",
            "<class 'pandas.core.frame.DataFrame'>\n",
            "(200, 3)\n"
          ],
          "name": "stdout"
        }
      ]
    },
    {
      "cell_type": "code",
      "metadata": {
        "id": "dUtY1uwEwkrZ",
        "colab_type": "code",
        "outputId": "90c473cf-166c-4805-a5fa-a37dfce8adb3",
        "colab": {
          "base_uri": "https://localhost:8080/",
          "height": 119
        }
      },
      "source": [
        "y1 = data.sales\n",
        "y1.head()"
      ],
      "execution_count": 100,
      "outputs": [
        {
          "output_type": "execute_result",
          "data": {
            "text/plain": [
              "0    1.552053\n",
              "1   -0.696046\n",
              "2   -0.907406\n",
              "3    0.860330\n",
              "4   -0.215683\n",
              "Name: sales, dtype: float64"
            ]
          },
          "metadata": {
            "tags": []
          },
          "execution_count": 100
        }
      ]
    },
    {
      "cell_type": "code",
      "metadata": {
        "id": "ch6aqpHBqpAJ",
        "colab_type": "code",
        "colab": {
          "base_uri": "https://localhost:8080/",
          "height": 119
        },
        "outputId": "a1e3762a-f3f1-4b72-a3b1-f4c8f216cb14"
      },
      "source": [
        "y2=data2.sales\n",
        "y2.head()"
      ],
      "execution_count": 101,
      "outputs": [
        {
          "output_type": "execute_result",
          "data": {
            "text/plain": [
              "1    22.1\n",
              "2    10.4\n",
              "3     9.3\n",
              "4    18.5\n",
              "5    12.9\n",
              "Name: sales, dtype: float64"
            ]
          },
          "metadata": {
            "tags": []
          },
          "execution_count": 101
        }
      ]
    },
    {
      "cell_type": "markdown",
      "metadata": {
        "id": "y8rHVOClwkra",
        "colab_type": "text"
      },
      "source": [
        "- Check the type and shape of y"
      ]
    },
    {
      "cell_type": "code",
      "metadata": {
        "id": "N9sfodXqwkrb",
        "colab_type": "code",
        "outputId": "b52aaebf-e895-45a2-8725-9e24e7c405ab",
        "colab": {
          "base_uri": "https://localhost:8080/",
          "height": 85
        }
      },
      "source": [
        "print(type(y1))\n",
        "print(y1.shape)\n",
        "\n",
        "print(type(y2))\n",
        "print(y2.shape)"
      ],
      "execution_count": 102,
      "outputs": [
        {
          "output_type": "stream",
          "text": [
            "<class 'pandas.core.series.Series'>\n",
            "(200,)\n",
            "<class 'pandas.core.series.Series'>\n",
            "(200,)\n"
          ],
          "name": "stdout"
        }
      ]
    },
    {
      "cell_type": "markdown",
      "metadata": {
        "id": "pyw3VbkWwkrc",
        "colab_type": "text"
      },
      "source": [
        "<a id=section403></a>"
      ]
    },
    {
      "cell_type": "markdown",
      "metadata": {
        "id": "FEF3nGthwkrd",
        "colab_type": "text"
      },
      "source": [
        "### 4.3 Splitting X and y into training and test datasets."
      ]
    },
    {
      "cell_type": "code",
      "metadata": {
        "id": "BymrG8jdTwhw",
        "colab_type": "code",
        "colab": {}
      },
      "source": [
        "\n",
        "#200 \n",
        "\n",
        "\n",
        "\n",
        "#80% for train   - 160 \n",
        "#20% for test    - 40 "
      ],
      "execution_count": 0,
      "outputs": []
    },
    {
      "cell_type": "markdown",
      "metadata": {
        "id": "46xUVyOtVi9S",
        "colab_type": "text"
      },
      "source": [
        "Random State; random first time, reapeat after that. Very importnat steps\n"
      ]
    },
    {
      "cell_type": "markdown",
      "metadata": {
        "id": "fRfXjXFHG5Fn",
        "colab_type": "text"
      },
      "source": [
        "\n",
        "Train Set 80%\n",
        "\n",
        "Test Set  15%\n",
        "\n",
        "\n",
        "[Eval/ Evaluation Set / Validation Set]  5% -- Created by client/business/ owner of the problem "
      ]
    },
    {
      "cell_type": "code",
      "metadata": {
        "id": "4JdKQA6-G4lT",
        "colab_type": "code",
        "colab": {}
      },
      "source": [
        ""
      ],
      "execution_count": 0,
      "outputs": []
    },
    {
      "cell_type": "code",
      "metadata": {
        "id": "1Rc4od2MVqyw",
        "colab_type": "code",
        "colab": {}
      },
      "source": [
        "data.to_csv(\"datasump.csv\")"
      ],
      "execution_count": 0,
      "outputs": []
    },
    {
      "cell_type": "markdown",
      "metadata": {
        "id": "OB8NIv6m914_",
        "colab_type": "text"
      },
      "source": [
        "# random_state = first random and then saves the state. "
      ]
    },
    {
      "cell_type": "code",
      "metadata": {
        "id": "_srCIdZzwkrd",
        "colab_type": "code",
        "colab": {}
      },
      "source": [
        "from sklearn.model_selection import train_test_split\n",
        "\n",
        "def split(X,y):\n",
        "    return train_test_split(X, y, test_size=0.20, random_state=1)"
      ],
      "execution_count": 0,
      "outputs": []
    },
    {
      "cell_type": "code",
      "metadata": {
        "id": "F7poXLqawkrf",
        "colab_type": "code",
        "outputId": "2dec5072-c063-4dc6-bc8a-3a3c3c068085",
        "colab": {
          "base_uri": "https://localhost:8080/",
          "height": 136
        }
      },
      "source": [
        "X1_train, X1_test, y1_train, y1_test=split(X1,y1)\n",
        "print('Train cases as below')\n",
        "print('X_train shape: ',X1_train.shape)\n",
        "print('y_train shape: ',y1_train.shape)\n",
        "print('\\nTest cases as below')\n",
        "print('X_test shape: ',X1_test.shape)\n",
        "print('y_test shape: ',y1_test.shape)"
      ],
      "execution_count": 104,
      "outputs": [
        {
          "output_type": "stream",
          "text": [
            "Train cases as below\n",
            "X_train shape:  (160, 3)\n",
            "y_train shape:  (160,)\n",
            "\n",
            "Test cases as below\n",
            "X_test shape:  (40, 3)\n",
            "y_test shape:  (40,)\n"
          ],
          "name": "stdout"
        }
      ]
    },
    {
      "cell_type": "code",
      "metadata": {
        "id": "3LtC6WB7uE7n",
        "colab_type": "code",
        "colab": {
          "base_uri": "https://localhost:8080/",
          "height": 136
        },
        "outputId": "ae72de1a-fef9-4e1a-ce6b-63564d481ec1"
      },
      "source": [
        "X2_train, X2_test, y2_train, y2_test=split(X2,y2)\n",
        "print('Train cases as below')\n",
        "print('X_train shape: ',X2_train.shape)\n",
        "print('y_train shape: ',y2_train.shape)\n",
        "print('\\nTest cases as below')\n",
        "print('X_test shape: ',X2_test.shape)\n",
        "print('y_test shape: ',y2_test.shape)"
      ],
      "execution_count": 105,
      "outputs": [
        {
          "output_type": "stream",
          "text": [
            "Train cases as below\n",
            "X_train shape:  (160, 3)\n",
            "y_train shape:  (160,)\n",
            "\n",
            "Test cases as below\n",
            "X_test shape:  (40, 3)\n",
            "y_test shape:  (40,)\n"
          ],
          "name": "stdout"
        }
      ]
    },
    {
      "cell_type": "code",
      "metadata": {
        "id": "MnKEPbo5W7D8",
        "colab_type": "code",
        "colab": {}
      },
      "source": [
        "#X_train.to_csv(\"datasump_xtrain.csv\") \n",
        "#X_test.to_csv(\"datasump_xtest.csv\") \n",
        "#y_train.to_csv(\"datasump_ytrain.csv\")\n",
        "#y_test.to_csv(\"datasump_ytest.csv\")"
      ],
      "execution_count": 0,
      "outputs": []
    },
    {
      "cell_type": "code",
      "metadata": {
        "id": "a-e6PUTfXI1E",
        "colab_type": "code",
        "colab": {}
      },
      "source": [
        "#X_train = pd.read_csv(\"datasump_xtrain.csv\") \n",
        "#X_test= pd.read_csv(\"datasump_xtest.csv\") \n",
        "#y_train =pd.read_csv(\"datasump_ytrain.csv\")\n",
        "#y_test =pd.read_csv(\"datasump_ytest.csv\")"
      ],
      "execution_count": 0,
      "outputs": []
    },
    {
      "cell_type": "code",
      "metadata": {
        "id": "SsW8ri3WXiLn",
        "colab_type": "code",
        "colab": {}
      },
      "source": [
        "#X_train.index = X_train['Unnamed: 0']"
      ],
      "execution_count": 0,
      "outputs": []
    },
    {
      "cell_type": "code",
      "metadata": {
        "id": "4HLZ3EfZYH2N",
        "colab_type": "code",
        "colab": {}
      },
      "source": [
        "#X_train"
      ],
      "execution_count": 0,
      "outputs": []
    },
    {
      "cell_type": "code",
      "metadata": {
        "id": "RXZJUfWYXvYS",
        "colab_type": "code",
        "colab": {}
      },
      "source": [
        "#y_test"
      ],
      "execution_count": 0,
      "outputs": []
    },
    {
      "cell_type": "markdown",
      "metadata": {
        "id": "J4hAzN6Hwkrg",
        "colab_type": "text"
      },
      "source": [
        "<a id=section404></a>"
      ]
    },
    {
      "cell_type": "markdown",
      "metadata": {
        "id": "BEqmILM4wkrh",
        "colab_type": "text"
      },
      "source": [
        "### 4.4 Linear regression in scikit-learn"
      ]
    },
    {
      "cell_type": "markdown",
      "metadata": {
        "id": "T5ZPJtQ0wkrh",
        "colab_type": "text"
      },
      "source": [
        "To apply any machine learning algorithm on your dataset, basically there are 4 steps:\n",
        "1. Load the algorithm\n",
        "2. Instantiate and Fit the model to the training dataset\n",
        "3. Prediction on the test set\n",
        "4. Calculating Root mean square error \n",
        "The code block given below shows how these steps are carried out:<br/>\n",
        "\n",
        "``` from sklearn.linear_model import LinearRegression\n",
        "    linreg = LinearRegression()\n",
        "    linreg.fit(X_train, y_train) \n",
        "    RMSE_test = np.sqrt(metrics.mean_squared_error(y_test, y_pred_test))```"
      ]
    },
    {
      "cell_type": "markdown",
      "metadata": {
        "id": "LzTEqRPSYS1H",
        "colab_type": "text"
      },
      "source": [
        "- Import the model class \n",
        "\n",
        "from sklearn.linear_model import LinearRegression\n",
        "\n",
        "\n",
        "- Call the model class and create object - Initializtation of Class \n",
        "\n",
        "linreg = LinearRegression()\n",
        "\n",
        "- Do the .fit by passing (X_Train, y_Train) and get model trained object \n",
        "\n",
        "linreg.fit(X_train, y_train) ---> This is where model is learning, in LR it means figuring best line ---- THe learning from the data is happening at this stage --- ONLY --- Self Study/Group Study \n",
        "\n",
        "\n",
        "- To model .predict by passing X_Test and get Y_pred object \n",
        "\n",
        "Y_Pred = linreg.predict(X_test)    - Exammm \n",
        "\n",
        "\n",
        "- Calcualte Accuracy by comparing (Y_Pred, Y_test) \n",
        "\n",
        "Y_Pred ~ Y_Test.  - Resutls \n"
      ]
    },
    {
      "cell_type": "code",
      "metadata": {
        "id": "BWfBfLH8N07m",
        "colab_type": "code",
        "colab": {}
      },
      "source": [
        "from sklearn.linear_model import LinearRegression\n",
        "linreg = LinearRegression()"
      ],
      "execution_count": 0,
      "outputs": []
    },
    {
      "cell_type": "code",
      "metadata": {
        "id": "B-uEoGgmN3Ig",
        "colab_type": "code",
        "outputId": "d39376ff-7015-48a5-a7d7-efc8612675ee",
        "colab": {
          "base_uri": "https://localhost:8080/",
          "height": 34
        }
      },
      "source": [
        "linreg.fit(X1_train, y1_train) # this is the trianing code. all learning is happening here"
      ],
      "execution_count": 112,
      "outputs": [
        {
          "output_type": "execute_result",
          "data": {
            "text/plain": [
              "LinearRegression(copy_X=True, fit_intercept=True, n_jobs=None, normalize=False)"
            ]
          },
          "metadata": {
            "tags": []
          },
          "execution_count": 112
        }
      ]
    },
    {
      "cell_type": "code",
      "metadata": {
        "id": "Cpwziy4GODYx",
        "colab_type": "code",
        "colab": {}
      },
      "source": [
        "#X_test.shape"
      ],
      "execution_count": 0,
      "outputs": []
    },
    {
      "cell_type": "code",
      "metadata": {
        "id": "BBrJKIJIOGxg",
        "colab_type": "code",
        "colab": {}
      },
      "source": [
        "#y_test.iloc[0]"
      ],
      "execution_count": 0,
      "outputs": []
    },
    {
      "cell_type": "code",
      "metadata": {
        "id": "K_2hRIIaN78f",
        "colab_type": "code",
        "colab": {}
      },
      "source": [
        "#X_test.iloc[0]"
      ],
      "execution_count": 0,
      "outputs": []
    },
    {
      "cell_type": "code",
      "metadata": {
        "id": "loNG7AZhO75_",
        "colab_type": "code",
        "colab": {}
      },
      "source": [
        "#[X_test.iloc[5]]"
      ],
      "execution_count": 0,
      "outputs": []
    },
    {
      "cell_type": "markdown",
      "metadata": {
        "id": "92xfnY8fBH2C",
        "colab_type": "text"
      },
      "source": [
        "# Client Evaluation \n",
        "# 80 % and 20 % (Evaulation Set) split  \n",
        "# Give DS Team 80% data and keep 20 % for final validation \n",
        "# the DS team inernally plays with 80 % and further divided into 80-20\n",
        "# The evaulation of Performance:\n",
        "  # Contenxt of past data --> Accuracy -- Used as Benchamrk ( client might put this, that themodels should not be less than 95% accurate on past data )\n",
        "  # Context w.r.t to global goal; actual reason why they are solving problem. (Deployment) \n",
        "  # Ex: Face Recognition ; Gloabl Goal -> Reduce the time spent by an employee on accessing office spaces. Local Goal -> is to have accuracte face recognition \n",
        "\n",
        "# Model Consumption ( Deployment) \n",
        "  # API Endpoint ( Data Science Scope) \n",
        "  # Software System  ( Software Engineering Scope) \n",
        "  # Analysis (Data Science Scope) \n",
        "\n",
        "# Entry Requirement for Model Deployment \n",
        "  # Cloud or Local? \n",
        "  # COmputing Infrastructure - cloud and local \n",
        "\n",
        "\n"
      ]
    },
    {
      "cell_type": "code",
      "metadata": {
        "id": "i3PAlvMB_H0G",
        "colab_type": "code",
        "colab": {}
      },
      "source": [
        "#linreg.predict([X_test.iloc[20]])"
      ],
      "execution_count": 0,
      "outputs": []
    },
    {
      "cell_type": "code",
      "metadata": {
        "id": "Nh1-wPO2_ODi",
        "colab_type": "code",
        "colab": {}
      },
      "source": [
        "#y_test.iloc[20]"
      ],
      "execution_count": 0,
      "outputs": []
    },
    {
      "cell_type": "code",
      "metadata": {
        "id": "l2DAC_W7Oo4R",
        "colab_type": "code",
        "colab": {}
      },
      "source": [
        "#y_pred = linreg.predict([X_test.iloc[5]])"
      ],
      "execution_count": 0,
      "outputs": []
    },
    {
      "cell_type": "code",
      "metadata": {
        "id": "tM4mCb5xPBst",
        "colab_type": "code",
        "colab": {}
      },
      "source": [
        "#y_pred"
      ],
      "execution_count": 0,
      "outputs": []
    },
    {
      "cell_type": "code",
      "metadata": {
        "id": "emG9Cr1U-WAE",
        "colab_type": "code",
        "colab": {}
      },
      "source": [
        "#X_test.iloc[0]"
      ],
      "execution_count": 0,
      "outputs": []
    },
    {
      "cell_type": "code",
      "metadata": {
        "id": "TDmYYIy9-RBv",
        "colab_type": "code",
        "colab": {}
      },
      "source": [
        "#linreg.predict([X_test.iloc[0]])\n"
      ],
      "execution_count": 0,
      "outputs": []
    },
    {
      "cell_type": "code",
      "metadata": {
        "id": "0vS6zNdyPCXM",
        "colab_type": "code",
        "colab": {}
      },
      "source": [
        "#y_pred - y_test.iloc[0]"
      ],
      "execution_count": 0,
      "outputs": []
    },
    {
      "cell_type": "code",
      "metadata": {
        "id": "h0WpmOrtPmnX",
        "colab_type": "code",
        "colab": {}
      },
      "source": [
        "#X_test.head()"
      ],
      "execution_count": 0,
      "outputs": []
    },
    {
      "cell_type": "code",
      "metadata": {
        "id": "JQ-u48EVPpML",
        "colab_type": "code",
        "outputId": "c7287576-27fa-4658-f22d-4c02eb49caf4",
        "colab": {
          "base_uri": "https://localhost:8080/",
          "height": 153
        }
      },
      "source": [
        "linreg.predict(X1_test) "
      ],
      "execution_count": 125,
      "outputs": [
        {
          "output_type": "execute_result",
          "data": {
            "text/plain": [
              "array([ 1.48206842,  0.46776561, -1.22253715,  0.74351113,  0.89439893,\n",
              "        1.89075119,  0.4445734 , -0.10875569, -0.93098286,  0.64139276,\n",
              "        0.08556218, -0.80038558,  0.62217977,  0.51805609,  0.20613396,\n",
              "        0.30104111, -0.30178683,  0.62576928, -0.56261827,  0.77749619,\n",
              "       -0.90080942, -0.21309721, -1.00649893, -0.68322877, -0.50331834,\n",
              "        0.19378743, -0.81425504,  1.04484476,  0.80836448,  0.60975182,\n",
              "        1.45656505,  0.13383186,  0.43608424, -0.31861084,  1.14630246,\n",
              "        0.25998482, -0.01070576, -0.75982008,  1.33530807, -1.26118784])"
            ]
          },
          "metadata": {
            "tags": []
          },
          "execution_count": 125
        }
      ]
    },
    {
      "cell_type": "code",
      "metadata": {
        "id": "meJqo2W1PtrK",
        "colab_type": "code",
        "outputId": "b90df499-a095-4cbf-846b-2556af46c4da",
        "colab": {
          "base_uri": "https://localhost:8080/",
          "height": 34
        }
      },
      "source": [
        "# compute the RMSE of our predictions based on data that is scaled using standard scaler\n",
        "y1_pred_test = linreg.predict(X1_test) \n",
        "RMSE_test1 = (metrics.mean_squared_error(y1_test, y1_pred_test))                          \n",
        "print('RMSE for the test set is {}'.format(RMSE_test1))"
      ],
      "execution_count": 128,
      "outputs": [
        {
          "output_type": "stream",
          "text": [
            "RMSE for the test set is 0.07353999839228295\n"
          ],
          "name": "stdout"
        }
      ]
    },
    {
      "cell_type": "markdown",
      "metadata": {
        "id": "xCxnZeqwVnAv",
        "colab_type": "text"
      },
      "source": [
        "# When you do scaling outside linear regression, the RMSE calculations shows scaled version of devaition. You would have to rescale them if you want to know actual deviation with respect to actual scale of Y (Sales) \n",
        "\n",
        "# When you do scaling inside LR Function, it scales the data to fit the line, but it automatically scales the RMSE back to original Y (Sales) \n",
        "\n",
        "# This only applies to LR "
      ]
    },
    {
      "cell_type": "markdown",
      "metadata": {
        "id": "oyEy6-7UXlbN",
        "colab_type": "text"
      },
      "source": [
        "Scaling --- IT scales the value into specific range \n",
        "\n",
        "\n",
        "2 Processs for Accuracy Calcualtions \n",
        "\n",
        "\n",
        "1) Y_Pred Y_Test <Scaled> Manual Scaling \n",
        "2) Y_Pred Y_Test <Scaled> -> <Unscaled> [Normalize=True]  Algo Scaling \n",
        "3) Y_Pred Y_Test <Scaled> -> <Unscaled> <scaling>  ; same result as 1.  ; Algo Scaling \n",
        "4) Y_Pred Y_Test <Scaled> ->; same result as 1  [Algo Scaling] "
      ]
    },
    {
      "cell_type": "code",
      "metadata": {
        "id": "wZb720AjWVdW",
        "colab_type": "code",
        "colab": {}
      },
      "source": [
        "#from sklearn.preprocessing import StandardScaler\n",
        "#scaler = StandardScaler().fit(pd.DataFrame(y_test))\n",
        "#scaler.transform(pd.DataFrame(y_test))"
      ],
      "execution_count": 0,
      "outputs": []
    },
    {
      "cell_type": "code",
      "metadata": {
        "id": "_X_1zK-kWx6H",
        "colab_type": "code",
        "colab": {}
      },
      "source": [
        "#y_pred --- is also going to be scaled values \n",
        "#Deviation -- y_pred & Y_test  --> scaled "
      ],
      "execution_count": 0,
      "outputs": []
    },
    {
      "cell_type": "code",
      "metadata": {
        "id": "SM5XXRIVWP1d",
        "colab_type": "code",
        "colab": {}
      },
      "source": [
        "#y_test"
      ],
      "execution_count": 0,
      "outputs": []
    },
    {
      "cell_type": "code",
      "metadata": {
        "id": "g0IfS2RMXCEJ",
        "colab_type": "code",
        "colab": {}
      },
      "source": [
        "y_pred --- Non Scaling \n",
        "Y_pred with Y_test --> Non_Scaled RMSE \n",
        "\n",
        "\n",
        "Added Parameter ---> Normalize=True "
      ],
      "execution_count": 0,
      "outputs": []
    },
    {
      "cell_type": "markdown",
      "metadata": {
        "id": "5q1zr2EkaIam",
        "colab_type": "text"
      },
      "source": [
        "# if you plan to use scaling from Algorithm, don't scale before."
      ]
    },
    {
      "cell_type": "markdown",
      "metadata": {
        "id": "lDlBcHS-E7pm",
        "colab_type": "text"
      },
      "source": [
        "# when you don't pass any parameters to algo, it means you are working on default/baseline model. "
      ]
    },
    {
      "cell_type": "code",
      "metadata": {
        "id": "W4dF8t9QFozk",
        "colab_type": "code",
        "colab": {}
      },
      "source": [
        "from sklearn.linear_model import LinearRegression\n",
        "linreg = LinearRegression()"
      ],
      "execution_count": 0,
      "outputs": []
    },
    {
      "cell_type": "code",
      "metadata": {
        "id": "xcjXSoZ5FsYO",
        "colab_type": "code",
        "outputId": "7bdda83f-6bad-4415-a70e-da56bf886c82",
        "colab": {
          "base_uri": "https://localhost:8080/",
          "height": 34
        }
      },
      "source": [
        "linreg"
      ],
      "execution_count": 133,
      "outputs": [
        {
          "output_type": "execute_result",
          "data": {
            "text/plain": [
              "LinearRegression(copy_X=True, fit_intercept=True, n_jobs=None, normalize=False)"
            ]
          },
          "metadata": {
            "tags": []
          },
          "execution_count": 133
        }
      ]
    },
    {
      "cell_type": "code",
      "metadata": {
        "id": "ocv9WCzQY8vB",
        "colab_type": "code",
        "outputId": "e4fb9f26-70ce-452a-ece8-65c424ff6760",
        "colab": {
          "base_uri": "https://localhost:8080/",
          "height": 34
        }
      },
      "source": [
        "# Applying linear regression on data that is scaled using standardScaler\n",
        "# normalize=False\n",
        "# fit_intercept=False\n",
        "from sklearn.linear_model import LinearRegression\n",
        "linreg = LinearRegression(normalize=False, fit_intercept=False)\n",
        "linreg.fit(X1_train, y1_train) \n",
        "y1_pred_test = linreg.predict(X1_test)   \n",
        "# make predictions on the testing set\n",
        "RMSE_test = (metrics.mean_squared_error(y1_test, y1_pred_test)) # compute the RMSE of our predictions\n",
        "print('RMSE for the test set is {}'.format(RMSE_test))"
      ],
      "execution_count": 134,
      "outputs": [
        {
          "output_type": "stream",
          "text": [
            "RMSE for the test set is 0.07351013283942706\n"
          ],
          "name": "stdout"
        }
      ]
    },
    {
      "cell_type": "code",
      "metadata": {
        "id": "qlNVDAiIzTzW",
        "colab_type": "code",
        "colab": {
          "base_uri": "https://localhost:8080/",
          "height": 34
        },
        "outputId": "2cad917f-9ddb-47ee-b816-d572bfcb0e30"
      },
      "source": [
        "# Applying linear regression on data that is scaled using standardScaler\n",
        "# normalize=False\n",
        "# fit_intercept=True\n",
        "from sklearn.linear_model import LinearRegression\n",
        "linreg = LinearRegression(normalize=False, fit_intercept=True)\n",
        "linreg.fit(X1_train, y1_train) \n",
        "y1_pred_test = linreg.predict(X1_test)   \n",
        "# make predictions on the testing set\n",
        "RMSE_test = (metrics.mean_squared_error(y1_test, y1_pred_test)) # compute the RMSE of our predictions\n",
        "print('RMSE for the test set is {}'.format(RMSE_test))"
      ],
      "execution_count": 136,
      "outputs": [
        {
          "output_type": "stream",
          "text": [
            "RMSE for the test set is 0.07353999839228295\n"
          ],
          "name": "stdout"
        }
      ]
    },
    {
      "cell_type": "code",
      "metadata": {
        "id": "-tAjox2My6tN",
        "colab_type": "code",
        "colab": {
          "base_uri": "https://localhost:8080/",
          "height": 34
        },
        "outputId": "3a836bee-d223-4e14-eddf-007f8a0bab7d"
      },
      "source": [
        "# Applying linear regression on data that is not scaled earlier\n",
        "# normalize=False\n",
        "# fit_intercept=False\n",
        "\n",
        "from sklearn.linear_model import LinearRegression\n",
        "linreg = LinearRegression(normalize=False, fit_intercept=False)\n",
        "linreg.fit(X2_train, y2_train) \n",
        "y2_pred_test = linreg.predict(X2_test)   \n",
        "# make predictions on the testing set\n",
        "RMSE_test = (metrics.mean_squared_error(y2_test, y2_pred_test)) # compute the RMSE of our predictions\n",
        "print('RMSE for the test set is {}'.format(RMSE_test))"
      ],
      "execution_count": 137,
      "outputs": [
        {
          "output_type": "stream",
          "text": [
            "RMSE for the test set is 2.947777856866131\n"
          ],
          "name": "stdout"
        }
      ]
    },
    {
      "cell_type": "code",
      "metadata": {
        "id": "DNc6FJLczldD",
        "colab_type": "code",
        "colab": {
          "base_uri": "https://localhost:8080/",
          "height": 34
        },
        "outputId": "a67755bf-7dba-4d4c-805f-58ebfb172b40"
      },
      "source": [
        "# Applying linear regression on data that is not scaled earlier\n",
        "# normalize=False\n",
        "# fit_intercept=True\n",
        "\n",
        "from sklearn.linear_model import LinearRegression\n",
        "linreg = LinearRegression(normalize=False, fit_intercept=True)\n",
        "linreg.fit(X2_train, y2_train) \n",
        "y2_pred_test = linreg.predict(X2_test)   \n",
        "# make predictions on the testing set\n",
        "RMSE_test = (metrics.mean_squared_error(y2_test, y2_pred_test)) # compute the RMSE of our predictions\n",
        "print('RMSE for the test set is {}'.format(RMSE_test))"
      ],
      "execution_count": 138,
      "outputs": [
        {
          "output_type": "stream",
          "text": [
            "RMSE for the test set is 1.9918855518287906\n"
          ],
          "name": "stdout"
        }
      ]
    },
    {
      "cell_type": "code",
      "metadata": {
        "id": "FO_apsHCY_m_",
        "colab_type": "code",
        "outputId": "217c0dba-f8cc-4691-934d-5a58fc40aca1",
        "colab": {
          "base_uri": "https://localhost:8080/",
          "height": 34
        }
      },
      "source": [
        "# Applying linear regression on data that is scaled earlier\n",
        "# normalize=True\n",
        "# fit_intercept=True\n",
        "\n",
        "from sklearn.linear_model import LinearRegression\n",
        "linreg = LinearRegression(normalize=True, fit_intercept=True)\n",
        "linreg.fit(X1_train, y1_train) \n",
        "y1_pred_test = linreg.predict(X1_test)   \n",
        "# make predictions on the testing set\n",
        "RMSE_test = (metrics.mean_squared_error(y1_test, y1_pred_test)) # compute the RMSE of our predictions\n",
        "print('RMSE for the test set is {}'.format(RMSE_test))"
      ],
      "execution_count": 139,
      "outputs": [
        {
          "output_type": "stream",
          "text": [
            "RMSE for the test set is 0.073539998392283\n"
          ],
          "name": "stdout"
        }
      ]
    },
    {
      "cell_type": "code",
      "metadata": {
        "id": "RUYvlPbu0DAU",
        "colab_type": "code",
        "colab": {
          "base_uri": "https://localhost:8080/",
          "height": 34
        },
        "outputId": "e337ba2d-cd7f-4b9f-b264-b46c1512b4da"
      },
      "source": [
        "# Applying linear regression on data that is scaled earlier\n",
        "# normalize=True\n",
        "# fit_intercept=False\n",
        "\n",
        "from sklearn.linear_model import LinearRegression\n",
        "linreg = LinearRegression(normalize=True, fit_intercept=False)\n",
        "linreg.fit(X1_train, y1_train) \n",
        "y1_pred_test = linreg.predict(X1_test)   \n",
        "# make predictions on the testing set\n",
        "RMSE_test = (metrics.mean_squared_error(y1_test, y1_pred_test)) # compute the RMSE of our predictions\n",
        "print('RMSE for the test set is {}'.format(RMSE_test))"
      ],
      "execution_count": 140,
      "outputs": [
        {
          "output_type": "stream",
          "text": [
            "RMSE for the test set is 0.07351013283942706\n"
          ],
          "name": "stdout"
        }
      ]
    },
    {
      "cell_type": "code",
      "metadata": {
        "id": "DsQI-4800UtS",
        "colab_type": "code",
        "colab": {
          "base_uri": "https://localhost:8080/",
          "height": 34
        },
        "outputId": "7c046cc7-eaff-4a03-b6f8-df48bc4e0bf9"
      },
      "source": [
        "# Applying linear regression on data that is not scaled earlier\n",
        "# normalize=True\n",
        "# fit_intercept=True\n",
        "\n",
        "from sklearn.linear_model import LinearRegression\n",
        "linreg = LinearRegression(normalize=True, fit_intercept=True)\n",
        "linreg.fit(X2_train, y2_train) \n",
        "y2_pred_test = linreg.predict(X2_test)   \n",
        "# make predictions on the testing set\n",
        "RMSE_test = (metrics.mean_squared_error(y2_test, y2_pred_test)) # compute the RMSE of our predictions\n",
        "print('RMSE for the test set is {}'.format(RMSE_test))"
      ],
      "execution_count": 141,
      "outputs": [
        {
          "output_type": "stream",
          "text": [
            "RMSE for the test set is 1.9918855518287892\n"
          ],
          "name": "stdout"
        }
      ]
    },
    {
      "cell_type": "code",
      "metadata": {
        "id": "VGzT5ac90fvR",
        "colab_type": "code",
        "colab": {
          "base_uri": "https://localhost:8080/",
          "height": 34
        },
        "outputId": "26ace369-7e79-4bbf-b359-498647d822d4"
      },
      "source": [
        "# Applying linear regression on data that is not scaled earlier\n",
        "# normalize=True\n",
        "# fit_intercept=False\n",
        "\n",
        "from sklearn.linear_model import LinearRegression\n",
        "linreg = LinearRegression(normalize=True, fit_intercept=False)\n",
        "linreg.fit(X2_train, y2_train) \n",
        "y2_pred_test = linreg.predict(X2_test)   \n",
        "# make predictions on the testing set\n",
        "RMSE_test = (metrics.mean_squared_error(y2_test, y2_pred_test)) # compute the RMSE of our predictions\n",
        "print('RMSE for the test set is {}'.format(RMSE_test))"
      ],
      "execution_count": 142,
      "outputs": [
        {
          "output_type": "stream",
          "text": [
            "RMSE for the test set is 2.947777856866131\n"
          ],
          "name": "stdout"
        }
      ]
    },
    {
      "cell_type": "markdown",
      "metadata": {
        "id": "V6goTknMchph",
        "colab_type": "text"
      },
      "source": [
        "# when gridsearch does the training, it create its own Train & Test. Make sure, wheever you do GridSearch, use random_seed "
      ]
    },
    {
      "cell_type": "code",
      "metadata": {
        "id": "gtpvQwxOwkri",
        "colab_type": "code",
        "outputId": "7ef6e54f-70c1-4ea5-a13a-e3a79bde077f",
        "colab": {
          "base_uri": "https://localhost:8080/",
          "height": 258
        }
      },
      "source": [
        "#using Grid Search with data1 that is scaled earlier using StandardScaler\n",
        "from sklearn.model_selection import GridSearchCV\n",
        "\n",
        "# define the parameters , it should always be a dictionary \n",
        "parameters = {'normalize':[True,False], 'copy_X':[True, False], 'fit_intercept':[True,False]}\n",
        "linreg1 = LinearRegression() # this the model on which i would want to experiment \n",
        "\n",
        "# Call the GridSearch Class, Pass the model and parameter \n",
        "linreg1 = GridSearchCV(linreg1,parameters)\n",
        "\n",
        "\n",
        "linreg1.fit(X1_train, y1_train)                                                           # fit the model to the training data (learn the coefficients)\n",
        "#, So internal Train test get created on this X_Train & Y_Train 80,20% \n",
        "# So, it creates new 80,20 split from the previous(global) 80% "
      ],
      "execution_count": 143,
      "outputs": [
        {
          "output_type": "stream",
          "text": [
            "/usr/local/lib/python3.6/dist-packages/sklearn/model_selection/_split.py:1978: FutureWarning: The default value of cv will change from 3 to 5 in version 0.22. Specify it explicitly to silence this warning.\n",
            "  warnings.warn(CV_WARNING, FutureWarning)\n",
            "/usr/local/lib/python3.6/dist-packages/sklearn/model_selection/_search.py:814: DeprecationWarning: The default of the `iid` parameter will change from True to False in version 0.22 and will be removed in 0.24. This will change numeric results when test-set sizes are unequal.\n",
            "  DeprecationWarning)\n"
          ],
          "name": "stderr"
        },
        {
          "output_type": "execute_result",
          "data": {
            "text/plain": [
              "GridSearchCV(cv='warn', error_score='raise-deprecating',\n",
              "             estimator=LinearRegression(copy_X=True, fit_intercept=True,\n",
              "                                        n_jobs=None, normalize=False),\n",
              "             iid='warn', n_jobs=None,\n",
              "             param_grid={'copy_X': [True, False],\n",
              "                         'fit_intercept': [True, False],\n",
              "                         'normalize': [True, False]},\n",
              "             pre_dispatch='2*n_jobs', refit=True, return_train_score=False,\n",
              "             scoring=None, verbose=0)"
            ]
          },
          "metadata": {
            "tags": []
          },
          "execution_count": 143
        }
      ]
    },
    {
      "cell_type": "markdown",
      "metadata": {
        "id": "Nb871Ap9c-K1",
        "colab_type": "text"
      },
      "source": [
        "# This best_scaore_ gives you the RMSE of internal Train Test set of GridSearch "
      ]
    },
    {
      "cell_type": "markdown",
      "metadata": {
        "id": "n6IuWamVG7u5",
        "colab_type": "text"
      },
      "source": [
        "# always fight for best stable model and not accurate model. -> Real World/Depolyment Prospective "
      ]
    },
    {
      "cell_type": "code",
      "metadata": {
        "id": "TZkUAWNSb5hQ",
        "colab_type": "code",
        "outputId": "3066cd95-3119-49ea-eeeb-8d14ae8aa0cc",
        "colab": {
          "base_uri": "https://localhost:8080/",
          "height": 34
        }
      },
      "source": [
        "print(\"Mean cross-validated score of the best_estimator : \", linreg1.best_score_)  \n",
        "# Of the internal Test set which is created out of 80% "
      ],
      "execution_count": 144,
      "outputs": [
        {
          "output_type": "stream",
          "text": [
            "Mean cross-validated score of the best_estimator :  0.8799370694159695\n"
          ],
          "name": "stdout"
        }
      ]
    },
    {
      "cell_type": "code",
      "metadata": {
        "id": "gGEXqXwPbxxS",
        "colab_type": "code",
        "outputId": "3df44447-a57c-474a-e246-3ddd9d22a133",
        "colab": {
          "base_uri": "https://localhost:8080/",
          "height": 34
        }
      },
      "source": [
        "linreg1.best_estimator_"
      ],
      "execution_count": 146,
      "outputs": [
        {
          "output_type": "execute_result",
          "data": {
            "text/plain": [
              "LinearRegression(copy_X=True, fit_intercept=False, n_jobs=None, normalize=True)"
            ]
          },
          "metadata": {
            "tags": []
          },
          "execution_count": 146
        }
      ]
    },
    {
      "cell_type": "code",
      "metadata": {
        "id": "YrHnloX6bqw9",
        "colab_type": "code",
        "outputId": "709c9f34-d9ce-43e9-efda-72df066698f2",
        "colab": {
          "base_uri": "https://localhost:8080/",
          "height": 34
        }
      },
      "source": [
        "linreg1 = LinearRegression(copy_X=True, fit_intercept=True, n_jobs=None, normalize=True)\n",
        "linreg1.fit(X1_train, y1_train)\n",
        "y1_pred_test = linreg.predict(X1_test)                                                   # make predictions on the testing set\n",
        "\n",
        "RMSE_test = (metrics.mean_squared_error(y1_test, y1_pred_test))                          # compute the RMSE of our predictions\n",
        "print('RMSE for the test set is {}'.format(RMSE_test))"
      ],
      "execution_count": 147,
      "outputs": [
        {
          "output_type": "stream",
          "text": [
            "RMSE for the test set is 0.49008883546696946\n"
          ],
          "name": "stdout"
        }
      ]
    },
    {
      "cell_type": "code",
      "metadata": {
        "id": "LRMm3BLr17Hl",
        "colab_type": "code",
        "colab": {
          "base_uri": "https://localhost:8080/",
          "height": 258
        },
        "outputId": "acada547-aaf0-4d87-c2be-666ba9a2d879"
      },
      "source": [
        "#Now using Grid search with data2 that is not scaled\n",
        "\n",
        "from sklearn.model_selection import GridSearchCV\n",
        "\n",
        "# define the parameters , it should always be a dictionary \n",
        "parameters = {'normalize':[True,False], 'copy_X':[True, False], 'fit_intercept':[True,False]}\n",
        "linreg2 = LinearRegression() # this the model on which i would want to experiment \n",
        "\n",
        "# Call the GridSearch Class, Pass the model and parameter \n",
        "linreg2 = GridSearchCV(linreg2,parameters)\n",
        "\n",
        "\n",
        "linreg2.fit(X2_train, y2_train)                 "
      ],
      "execution_count": 148,
      "outputs": [
        {
          "output_type": "stream",
          "text": [
            "/usr/local/lib/python3.6/dist-packages/sklearn/model_selection/_split.py:1978: FutureWarning: The default value of cv will change from 3 to 5 in version 0.22. Specify it explicitly to silence this warning.\n",
            "  warnings.warn(CV_WARNING, FutureWarning)\n",
            "/usr/local/lib/python3.6/dist-packages/sklearn/model_selection/_search.py:814: DeprecationWarning: The default of the `iid` parameter will change from True to False in version 0.22 and will be removed in 0.24. This will change numeric results when test-set sizes are unequal.\n",
            "  DeprecationWarning)\n"
          ],
          "name": "stderr"
        },
        {
          "output_type": "execute_result",
          "data": {
            "text/plain": [
              "GridSearchCV(cv='warn', error_score='raise-deprecating',\n",
              "             estimator=LinearRegression(copy_X=True, fit_intercept=True,\n",
              "                                        n_jobs=None, normalize=False),\n",
              "             iid='warn', n_jobs=None,\n",
              "             param_grid={'copy_X': [True, False],\n",
              "                         'fit_intercept': [True, False],\n",
              "                         'normalize': [True, False]},\n",
              "             pre_dispatch='2*n_jobs', refit=True, return_train_score=False,\n",
              "             scoring=None, verbose=0)"
            ]
          },
          "metadata": {
            "tags": []
          },
          "execution_count": 148
        }
      ]
    },
    {
      "cell_type": "code",
      "metadata": {
        "id": "R3tGaQII2gui",
        "colab_type": "code",
        "colab": {
          "base_uri": "https://localhost:8080/",
          "height": 34
        },
        "outputId": "021aa400-0d0e-4d22-faa3-bd172ca454c4"
      },
      "source": [
        "print(\"Mean cross-validated score of the best_estimator : \", linreg2.best_score_)  "
      ],
      "execution_count": 149,
      "outputs": [
        {
          "output_type": "stream",
          "text": [
            "Mean cross-validated score of the best_estimator :  0.8797354176584935\n"
          ],
          "name": "stdout"
        }
      ]
    },
    {
      "cell_type": "code",
      "metadata": {
        "id": "esF4BPx02qn6",
        "colab_type": "code",
        "colab": {
          "base_uri": "https://localhost:8080/",
          "height": 34
        },
        "outputId": "ade6425e-f041-4a51-c2f2-8fd2ee3db5a3"
      },
      "source": [
        "linreg2.best_estimator_"
      ],
      "execution_count": 150,
      "outputs": [
        {
          "output_type": "execute_result",
          "data": {
            "text/plain": [
              "LinearRegression(copy_X=True, fit_intercept=True, n_jobs=None, normalize=True)"
            ]
          },
          "metadata": {
            "tags": []
          },
          "execution_count": 150
        }
      ]
    },
    {
      "cell_type": "code",
      "metadata": {
        "id": "OSrhXllg2tAo",
        "colab_type": "code",
        "colab": {}
      },
      "source": [
        "linreg2 = LinearRegression(copy_X=True, fit_intercept=True, n_jobs=None, normalize=True)\n",
        "linreg2.fit(X2_train, y2_train)\n",
        "y2_pred_test = linreg.predict(X2_test) "
      ],
      "execution_count": 0,
      "outputs": []
    },
    {
      "cell_type": "code",
      "metadata": {
        "id": "zQh1wW0J2yM2",
        "colab_type": "code",
        "colab": {
          "base_uri": "https://localhost:8080/",
          "height": 34
        },
        "outputId": "fd7ba065-15db-4121-d51a-5fc64c62ead1"
      },
      "source": [
        "RMSE_test = (metrics.mean_squared_error(y2_test, y2_pred_test))                          # compute the RMSE of our predictions\n",
        "print('RMSE for the test set is {}'.format(RMSE_test))"
      ],
      "execution_count": 153,
      "outputs": [
        {
          "output_type": "stream",
          "text": [
            "RMSE for the test set is 2.947777856866131\n"
          ],
          "name": "stdout"
        }
      ]
    },
    {
      "cell_type": "markdown",
      "metadata": {
        "id": "0rqJBegJwkrk",
        "colab_type": "text"
      },
      "source": [
        "<a id=section405></a>"
      ]
    },
    {
      "cell_type": "markdown",
      "metadata": {
        "id": "p_H5_ruOwkrl",
        "colab_type": "text"
      },
      "source": [
        "### 4.5 Interpreting Model Coefficients"
      ]
    },
    {
      "cell_type": "code",
      "metadata": {
        "scrolled": true,
        "id": "xtbSJPY7wkrl",
        "colab_type": "code",
        "outputId": "fbd5808c-f46e-4fb8-88e8-c6c06715e288",
        "colab": {
          "base_uri": "https://localhost:8080/",
          "height": 51
        }
      },
      "source": [
        "print('Intercept:',linreg1.intercept_)                                           # print the intercept \n",
        "print('Coefficients:',linreg1.coef_)"
      ],
      "execution_count": 155,
      "outputs": [
        {
          "output_type": "stream",
          "text": [
            "Intercept: 0.0011620874606384848\n",
            "Coefficients: [0.77081214 0.50806629 0.01079522]\n"
          ],
          "name": "stdout"
        }
      ]
    },
    {
      "cell_type": "code",
      "metadata": {
        "id": "DbdNaxQX24hF",
        "colab_type": "code",
        "colab": {
          "base_uri": "https://localhost:8080/",
          "height": 51
        },
        "outputId": "ebe98bb7-5837-4ca1-b5fc-9187b409e923"
      },
      "source": [
        "print('Intercept:',linreg2.intercept_)                                           # print the intercept \n",
        "print('Coefficients:',linreg2.coef_)"
      ],
      "execution_count": 154,
      "outputs": [
        {
          "output_type": "stream",
          "text": [
            "Intercept: 2.9079470208164366\n",
            "Coefficients: [0.0468431  0.17854434 0.00258619]\n"
          ],
          "name": "stdout"
        }
      ]
    },
    {
      "cell_type": "markdown",
      "metadata": {
        "id": "RHEaU-nZwkrn",
        "colab_type": "text"
      },
      "source": [
        "Its hard to remember the order of the feature names, we so we are __zipping__ the features to pair the feature names with the coefficients"
      ]
    },
    {
      "cell_type": "code",
      "metadata": {
        "id": "CaLEJ1TaHuQU",
        "colab_type": "code",
        "colab": {}
      },
      "source": [
        "# Tv # Radio # Newspaper "
      ],
      "execution_count": 0,
      "outputs": []
    },
    {
      "cell_type": "code",
      "metadata": {
        "id": "TBLyfAyJ3MUW",
        "colab_type": "code",
        "colab": {
          "base_uri": "https://localhost:8080/",
          "height": 34
        },
        "outputId": "facffa08-d084-4f75-8deb-f26ac58dc597"
      },
      "source": [
        "feature_cols"
      ],
      "execution_count": 156,
      "outputs": [
        {
          "output_type": "execute_result",
          "data": {
            "text/plain": [
              "['TV', 'radio', 'newspaper']"
            ]
          },
          "metadata": {
            "tags": []
          },
          "execution_count": 156
        }
      ]
    },
    {
      "cell_type": "code",
      "metadata": {
        "id": "1o4y_Bts3Q8v",
        "colab_type": "code",
        "colab": {
          "base_uri": "https://localhost:8080/",
          "height": 34
        },
        "outputId": "908b8a67-9016-4194-c6e4-7345517be036"
      },
      "source": [
        "feature_cols.insert(0,'Intercept')\n",
        "feature_cols"
      ],
      "execution_count": 157,
      "outputs": [
        {
          "output_type": "execute_result",
          "data": {
            "text/plain": [
              "['Intercept', 'TV', 'radio', 'newspaper']"
            ]
          },
          "metadata": {
            "tags": []
          },
          "execution_count": 157
        }
      ]
    },
    {
      "cell_type": "code",
      "metadata": {
        "id": "a3jgoqQVwkro",
        "colab_type": "code",
        "colab": {}
      },
      "source": [
        "#for data 1\n",
        "coef1 = linreg1.coef_.tolist()\n",
        "coef1.insert(0, linreg1.intercept_)"
      ],
      "execution_count": 0,
      "outputs": []
    },
    {
      "cell_type": "code",
      "metadata": {
        "scrolled": true,
        "id": "K-F_1-eHwkrp",
        "colab_type": "code",
        "outputId": "c0241375-c857-4c97-a10d-e320001c893d",
        "colab": {
          "base_uri": "https://localhost:8080/",
          "height": 85
        }
      },
      "source": [
        "eq1 = zip(feature_cols, coef1)\n",
        "\n",
        "for c1,c2 in eq1:\n",
        "    print(c1,c2)"
      ],
      "execution_count": 159,
      "outputs": [
        {
          "output_type": "stream",
          "text": [
            "Intercept 0.0011620874606384848\n",
            "TV 0.7708121379125101\n",
            "radio 0.5080662902756097\n",
            "newspaper 0.010795215187608682\n"
          ],
          "name": "stdout"
        }
      ]
    },
    {
      "cell_type": "code",
      "metadata": {
        "id": "WQqn10cXIRHB",
        "colab_type": "code",
        "colab": {}
      },
      "source": [
        "# y = 0.04*TV + 0.17*Radio + 0.002*Newspaper + 2.90.  # this is the equation of hyperplane that model learned \n",
        "\n",
        "# a unit is 1000 in dollors for TV, Newspaper and Radio \n",
        "# a unit is 1000 unit in sales \n",
        "#  a unit increase in Radio ad spending is associated with 0.17 unit increase in sales \n",
        "\n",
        "# if you see negative sign in M, then the asosciated effect on Y is going to be negative "
      ],
      "execution_count": 0,
      "outputs": []
    },
    {
      "cell_type": "markdown",
      "metadata": {
        "id": "zF3Bzc7Ywkrq",
        "colab_type": "text"
      },
      "source": [
        "__y = 0.00116 + 0.7708 `*` TV + 0.508 `*` radio + 0.010 `*` newspaper__"
      ]
    },
    {
      "cell_type": "code",
      "metadata": {
        "id": "qCKlXhTy39E7",
        "colab_type": "code",
        "colab": {}
      },
      "source": [
        "#for data 2\n",
        "coef2 = linreg2.coef_.tolist()\n",
        "coef2.insert(0, linreg2.intercept_)"
      ],
      "execution_count": 0,
      "outputs": []
    },
    {
      "cell_type": "code",
      "metadata": {
        "id": "TIE7mJds4LTS",
        "colab_type": "code",
        "colab": {
          "base_uri": "https://localhost:8080/",
          "height": 85
        },
        "outputId": "67c224f8-45a5-416f-92c8-39c0225bf650"
      },
      "source": [
        "eq2 = zip(feature_cols, coef2)\n",
        "\n",
        "for c1,c2 in eq2:\n",
        "    print(c1,c2)"
      ],
      "execution_count": 162,
      "outputs": [
        {
          "output_type": "stream",
          "text": [
            "Intercept 2.9079470208164366\n",
            "TV 0.04684310317699041\n",
            "radio 0.17854434380887604\n",
            "newspaper 0.0025861860939889363\n"
          ],
          "name": "stdout"
        }
      ]
    },
    {
      "cell_type": "markdown",
      "metadata": {
        "id": "UY7e7aBy4WRH",
        "colab_type": "text"
      },
      "source": [
        "__y = 2.908 + 0.0468 `*` TV + 0.1785 `*` radio + 0.0026 `*` newspaper__"
      ]
    },
    {
      "cell_type": "markdown",
      "metadata": {
        "id": "ALXNPvlvwkrr",
        "colab_type": "text"
      },
      "source": [
        "How do we interpret the TV coefficient (_0.77081_)\n",
        "- A \"unit\" increase in TV ad spending is **associated with** a _\"0.7708_ unit\" increase in Sales.\n",
        "- Or more clearly: An additional $1,000 spent on TV ads is **associated with** an increase in sales of 770.8 widgets.\n",
        "\n",
        "Important Notes:\n",
        "- This is a statement of __association__, not __causation__.\n",
        "- If an increase in TV ad spending was associated with a __decrease__ in sales,  β1  would be __negative.__"
      ]
    },
    {
      "cell_type": "markdown",
      "metadata": {
        "id": "MqMNCEjHwkrr",
        "colab_type": "text"
      },
      "source": [
        "<a id=section406></a>"
      ]
    },
    {
      "cell_type": "markdown",
      "metadata": {
        "id": "hBDoB6jVwkrs",
        "colab_type": "text"
      },
      "source": [
        "### 4.6 Using the Model for Prediction"
      ]
    },
    {
      "cell_type": "code",
      "metadata": {
        "id": "Fiiu3ZIGwkrs",
        "colab_type": "code",
        "colab": {
          "base_uri": "https://localhost:8080/",
          "height": 561
        },
        "outputId": "ae772a83-3979-417c-a06a-4ff5fe0ae598"
      },
      "source": [
        "y1_pred_train = linreg1.predict(X1_train)  \n",
        "y1_pred_train"
      ],
      "execution_count": 163,
      "outputs": [
        {
          "output_type": "execute_result",
          "data": {
            "text/plain": [
              "array([-1.99125568, -1.30012645, -1.5405597 ,  0.85297071, -1.08531971,\n",
              "        0.0196069 ,  0.19093018,  1.22580095,  1.26649117,  1.07501733,\n",
              "        1.94849342,  0.16554004, -1.40101071,  1.12204275,  0.94124994,\n",
              "       -0.29328564,  0.02991048, -1.51846189,  0.25280788, -0.84985534,\n",
              "       -0.37941047, -0.37930173, -1.05657094,  1.45817396,  1.78344623,\n",
              "       -0.34244808, -1.40918223,  0.72672277,  0.47618419, -1.00705522,\n",
              "        1.22479669,  1.27800972,  1.96384312, -0.74193169, -0.67384036,\n",
              "        0.46296378, -0.68448877, -1.41315689,  1.41077477,  0.07855814,\n",
              "        0.28330589, -0.75409423,  0.18174734, -0.02936881, -1.08256598,\n",
              "       -0.99373535, -0.74528642, -1.12582385,  0.57806035,  0.22795861,\n",
              "        0.53467095,  1.77177975, -0.11158115, -0.79475197,  0.7869078 ,\n",
              "        0.15458498, -1.65799106, -0.22025795, -0.40511947, -0.36995766,\n",
              "       -0.43988033,  0.18779338, -1.81033083,  0.44932227, -0.3716941 ,\n",
              "        0.72543495,  0.26720925,  0.88612796, -0.48114025, -0.02467721,\n",
              "        1.26661857, -1.69791838, -0.06623658, -1.19506437,  1.37918045,\n",
              "       -0.08623414, -0.42955991, -0.76644946, -0.97087351,  0.56357001,\n",
              "        0.63558476,  1.00242382,  1.75638625,  0.05321094, -0.98149646,\n",
              "        0.285014  , -0.63278083, -0.80315856, -0.57374068, -1.32966058,\n",
              "       -1.19437502,  0.02436532, -1.41946487,  0.03840713, -0.93306281,\n",
              "        0.51204495, -0.70573807, -0.23754118, -1.27847629,  1.18769811,\n",
              "       -0.73415192, -0.08424884,  1.35502926,  0.91728402,  0.52705756,\n",
              "        1.28582896,  0.62257799,  0.60215704,  1.08874148, -0.52089304,\n",
              "        1.26239547,  0.16202871, -1.82291309,  0.02792502, -1.13351118,\n",
              "        0.67392067,  0.79011329, -1.11379078, -0.83793514,  0.37222809,\n",
              "       -0.36720453,  1.49302998, -1.19690083, -0.23274396,  2.05503618,\n",
              "       -1.98566209, -1.57482501,  1.52984715, -0.36442365, -0.24278323,\n",
              "       -1.44667955,  1.70833594, -0.19159373, -0.37555614, -1.11561776,\n",
              "        0.85983869, -0.49747857, -0.2340698 ,  0.9500462 , -0.21372919,\n",
              "        1.0068487 , -0.73063305,  0.22698035,  1.03551486,  0.28021493,\n",
              "        1.82765639,  0.80696414,  0.44556141,  0.36043269, -0.44665639,\n",
              "       -0.6409992 , -1.16607318, -0.74267736, -1.82443751, -0.81589106,\n",
              "        1.01441801,  1.34900004, -0.75268689, -0.88533867,  0.25419011])"
            ]
          },
          "metadata": {
            "tags": []
          },
          "execution_count": 163
        }
      ]
    },
    {
      "cell_type": "code",
      "metadata": {
        "id": "-UQCB_zQwkrt",
        "colab_type": "code",
        "colab": {
          "base_uri": "https://localhost:8080/",
          "height": 153
        },
        "outputId": "b34d2200-df81-4bb1-8b80-38e7dfaa0728"
      },
      "source": [
        "y1_pred_test = linreg1.predict(X1_test)      \n",
        "y1_pred_test                                                           # make predictions on the testing set\n",
        "                                                     # make predictions on the testing set"
      ],
      "execution_count": 165,
      "outputs": [
        {
          "output_type": "execute_result",
          "data": {
            "text/plain": [
              "array([ 1.48206842,  0.46776561, -1.22253715,  0.74351113,  0.89439893,\n",
              "        1.89075119,  0.4445734 , -0.10875569, -0.93098286,  0.64139276,\n",
              "        0.08556218, -0.80038558,  0.62217977,  0.51805609,  0.20613396,\n",
              "        0.30104111, -0.30178683,  0.62576928, -0.56261827,  0.77749619,\n",
              "       -0.90080942, -0.21309721, -1.00649893, -0.68322877, -0.50331834,\n",
              "        0.19378743, -0.81425504,  1.04484476,  0.80836448,  0.60975182,\n",
              "        1.45656505,  0.13383186,  0.43608424, -0.31861084,  1.14630246,\n",
              "        0.25998482, -0.01070576, -0.75982008,  1.33530807, -1.26118784])"
            ]
          },
          "metadata": {
            "tags": []
          },
          "execution_count": 165
        }
      ]
    },
    {
      "cell_type": "code",
      "metadata": {
        "id": "utd3503D49rH",
        "colab_type": "code",
        "colab": {
          "base_uri": "https://localhost:8080/",
          "height": 561
        },
        "outputId": "a2602e20-79d0-4408-9aba-4f145c066c1f"
      },
      "source": [
        "y2_pred_train = linreg2.predict(X2_train)  \n",
        "y2_pred_train"
      ],
      "execution_count": 166,
      "outputs": [
        {
          "output_type": "execute_result",
          "data": {
            "text/plain": [
              "array([ 3.65921577,  7.25612637,  6.00481636, 18.46169785,  8.37406584,\n",
              "       14.12454209, 15.0161764 , 20.40205426, 20.61382233, 19.61731651,\n",
              "       24.16323248, 14.88403603,  6.73108467, 19.86205547, 18.92113796,\n",
              "       12.49612522, 14.17816602,  6.11982211, 15.33821244,  9.59951578,\n",
              "       12.04789746, 12.04846338,  8.52368581, 21.61141557, 23.30426145,\n",
              "       12.24026439,  6.68855681, 17.80465348, 16.50075138,  8.78138524,\n",
              "       20.39682769, 20.67376942, 24.24311844, 10.16119323, 10.51556751,\n",
              "       16.43194712, 10.46014901,  6.66787113, 21.36473141, 14.43134771,\n",
              "       15.49693622, 10.09789459, 14.96838524, 13.86965306,  8.38839734,\n",
              "        8.85070713, 10.14373392,  8.16326623, 17.03095529, 15.20888698,\n",
              "       16.80513965, 23.24354445, 13.44178745,  9.88629559, 18.11788026,\n",
              "       14.82702155,  5.393657  , 12.87619027, 11.91409761, 12.09709362,\n",
              "       11.73318833, 14.99985124,  4.60082043, 16.36095126, 12.08805647,\n",
              "       17.79795119, 15.41316291, 18.63426135, 11.5184553 , 13.89406999,\n",
              "       20.61448534,  5.18585939, 13.67777859,  7.8029111 , 21.20030199,\n",
              "       13.57370336, 11.78689986, 10.03359303,  8.96968922, 16.95554182,\n",
              "       17.33033513, 19.23951108, 23.1634306 , 14.29943085,  8.91440317,\n",
              "       15.50582586, 10.72925762,  9.84254432, 11.03652597,  7.10241904,\n",
              "        7.80649875, 14.1493068 ,  6.63504191, 14.22238591,  9.16647109,\n",
              "       16.68738496, 10.34955922, 12.78624147,  7.36880239, 20.20375198,\n",
              "       10.20168226, 13.58403565, 21.07460964, 18.7964098 , 16.76551654,\n",
              "       20.71446383, 17.26264277, 17.15636402, 19.68874244, 11.31156603,\n",
              "       20.59250665, 14.86576168,  4.53533736, 14.16783287,  8.12325829,\n",
              "       17.52985044, 18.13456289,  8.22589109,  9.66155324, 15.95972258,\n",
              "       12.11142201, 21.79282011,  7.7933534 , 12.81120811, 24.71772328,\n",
              "        3.68832702,  5.82648611, 21.98443129, 12.12589482, 12.75895976,\n",
              "        6.49340588, 22.91335774, 13.02537026, 12.06795692,  8.21638273,\n",
              "       18.49744155, 11.43342423, 12.80430791, 18.96691722, 12.91016854,\n",
              "       19.26253994, 10.21999585, 15.20379576, 19.41173001, 15.48084962,\n",
              "       23.53434866, 18.22226142, 16.34137827, 15.89833468, 11.69792301,\n",
              "       10.68648597,  7.95379272, 10.15731247,  4.52740369,  9.77627934,\n",
              "       19.30193361, 21.04323121, 10.10521892,  9.41484644, 15.34540612])"
            ]
          },
          "metadata": {
            "tags": []
          },
          "execution_count": 166
        }
      ]
    },
    {
      "cell_type": "code",
      "metadata": {
        "id": "T_3qECRK5D5N",
        "colab_type": "code",
        "colab": {
          "base_uri": "https://localhost:8080/",
          "height": 153
        },
        "outputId": "173b84d5-15bd-4ba6-dce0-87fe251c4929"
      },
      "source": [
        "y2_pred_test = linreg2.predict(X2_test)      \n",
        "y2_pred_test   "
      ],
      "execution_count": 167,
      "outputs": [
        {
          "output_type": "execute_result",
          "data": {
            "text/plain": [
              "array([21.73577184, 16.45693776,  7.65993185, 17.89202679, 18.67730671,\n",
              "       23.86271904, 16.33623628, 13.45649226,  9.177296  , 17.36056228,\n",
              "       14.4677995 ,  9.85697601, 17.26057027, 16.71866935, 15.09530285,\n",
              "       15.58923732, 12.45188167, 17.27925151, 11.0944114 , 18.06889853,\n",
              "        9.33433055, 12.91345761,  8.7842804 , 10.46670654, 11.40303174,\n",
              "       15.03104665,  9.78479388, 19.46028647, 18.22954934, 17.1958903 ,\n",
              "       21.60304218, 14.71901407, 16.29205532, 12.36432281, 19.98831261,\n",
              "       15.37556411, 13.96678297, 10.06809496, 20.97197274,  7.45877832])"
            ]
          },
          "metadata": {
            "tags": []
          },
          "execution_count": 167
        }
      ]
    },
    {
      "cell_type": "markdown",
      "metadata": {
        "id": "Xcz2DsOkwkrx",
        "colab_type": "text"
      },
      "source": [
        "- We need an evaluation metric in order to compare our predictions with the actual values."
      ]
    },
    {
      "cell_type": "markdown",
      "metadata": {
        "id": "rxEknsXywkry",
        "colab_type": "text"
      },
      "source": [
        "<a id=section5></a>"
      ]
    },
    {
      "cell_type": "markdown",
      "metadata": {
        "id": "qwUqEECWwkrz",
        "colab_type": "text"
      },
      "source": [
        "## 5. Model evaluation "
      ]
    },
    {
      "cell_type": "markdown",
      "metadata": {
        "id": "zF9I8k2_wkr0",
        "colab_type": "text"
      },
      "source": [
        "__Error__ is the _deviation_ of the values _predicted_ by the model with the _true_ values.<br/>\n",
        "For example, if a model predicts that the price of apple is Rs75/kg, but the actual price of apple is Rs100/kg, then the error in prediction will be Rs25/kg.<br/>\n",
        "Below are the types of error we will be calculating for our _linear regression model_:\n",
        "- Mean Absolute Error\n",
        "- Mean Squared Error\n",
        "- Root Mean Squared Error"
      ]
    },
    {
      "cell_type": "markdown",
      "metadata": {
        "id": "Yle07zMjwkr0",
        "colab_type": "text"
      },
      "source": [
        "<a id=section501></a>"
      ]
    },
    {
      "cell_type": "markdown",
      "metadata": {
        "id": "uy6dJk2Nwkr0",
        "colab_type": "text"
      },
      "source": [
        "### 5.1 Model Evaluation using __metrics.__"
      ]
    },
    {
      "cell_type": "markdown",
      "metadata": {
        "id": "GXTdqk_jwkr1",
        "colab_type": "text"
      },
      "source": [
        "__Mean Absolute Error__ (MAE) is the mean of the absolute value of the errors:\n",
        "$$\\frac 1n\\sum_{i=1}^n|y_i-\\hat{y}_i|$$\n",
        "Computing the MAE for our Sales predictions"
      ]
    },
    {
      "cell_type": "markdown",
      "metadata": {
        "id": "X0e8t-p-h5rc",
        "colab_type": "text"
      },
      "source": [
        "Model 1 \n",
        "Train Accuracy = 99% \n",
        "Test Accuracy = 60%\n",
        "\n",
        "Model 2 \n",
        "Train Accuracy = 80 \n",
        "Test Accuracy = 85% \n",
        "\n",
        "Model 3 \n",
        "Train Accuracy = 40 \n",
        "Test Accuracy = 40% \n",
        "\n",
        "One of the criteria to know good model : \n",
        "\n",
        "- Train Test Accuracy Difference Least \n",
        "- The Values should be in decent & acceptable range accuracy  \n"
      ]
    },
    {
      "cell_type": "markdown",
      "metadata": {
        "id": "15bmMAoohScg",
        "colab_type": "text"
      },
      "source": [
        "# The difference between Train Accuracy and Test Accuracy should be least for a good Model \n",
        "\n",
        "\n",
        "# Train Accuracy.     y_train   ~~ model.predict(X_train) "
      ]
    },
    {
      "cell_type": "code",
      "metadata": {
        "id": "rB_D4Az5wkr1",
        "colab_type": "code",
        "colab": {}
      },
      "source": [
        "MAE_train = metrics.mean_absolute_error(y1_train, y1_pred_train)\n",
        "MAE_test = metrics.mean_absolute_error(y1_test, y1_pred_test)"
      ],
      "execution_count": 0,
      "outputs": []
    },
    {
      "cell_type": "code",
      "metadata": {
        "scrolled": false,
        "id": "WvJcLu1jwkr2",
        "colab_type": "code",
        "outputId": "9b41abaf-9811-4ab6-ec85-d53236e72a44",
        "colab": {
          "base_uri": "https://localhost:8080/",
          "height": 51
        }
      },
      "source": [
        "print('MAE for training set is {}'.format(MAE_train))\n",
        "print('MAE for test set is {}'.format(MAE_test))"
      ],
      "execution_count": 169,
      "outputs": [
        {
          "output_type": "stream",
          "text": [
            "MAE for training set is 0.25533224187771947\n",
            "MAE for test set is 0.19987243199696364\n"
          ],
          "name": "stdout"
        }
      ]
    },
    {
      "cell_type": "code",
      "metadata": {
        "id": "ewcLutOT5VJn",
        "colab_type": "code",
        "colab": {}
      },
      "source": [
        "MAE_train = metrics.mean_absolute_error(y2_train, y2_pred_train)\n",
        "MAE_test = metrics.mean_absolute_error(y2_test, y2_pred_test)"
      ],
      "execution_count": 0,
      "outputs": []
    },
    {
      "cell_type": "code",
      "metadata": {
        "id": "gLxYcHBA5Zcd",
        "colab_type": "code",
        "colab": {
          "base_uri": "https://localhost:8080/",
          "height": 51
        },
        "outputId": "9894bdb9-761c-4e95-e680-6bfca7eb040b"
      },
      "source": [
        "print('MAE for training set is {}'.format(MAE_train))\n",
        "print('MAE for test set is {}'.format(MAE_test))"
      ],
      "execution_count": 171,
      "outputs": [
        {
          "output_type": "stream",
          "text": [
            "MAE for training set is 1.3288502460998382\n",
            "MAE for test set is 1.0402154012924714\n"
          ],
          "name": "stdout"
        }
      ]
    },
    {
      "cell_type": "markdown",
      "metadata": {
        "id": "7InMTc4Mwkr3",
        "colab_type": "text"
      },
      "source": [
        "__Mean Squared Error__ (MSE) is the mean of the squared errors:\n",
        "$$\\frac 1n\\sum_{i=1}^n(y_i-\\hat{y}_i)^2$$\n",
        "\n",
        "Computing the MSE for our Sales predictions"
      ]
    },
    {
      "cell_type": "code",
      "metadata": {
        "id": "3l4mX3tGwkr4",
        "colab_type": "code",
        "colab": {}
      },
      "source": [
        "MSE_train = metrics.mean_squared_error(y1_train, y1_pred_train)\n",
        "MSE_test = metrics.mean_squared_error(y1_test, y1_pred_test)"
      ],
      "execution_count": 0,
      "outputs": []
    },
    {
      "cell_type": "code",
      "metadata": {
        "id": "ezAFWErUwkr5",
        "colab_type": "code",
        "outputId": "5414044c-3696-4bc7-8876-8e1ac671cf3b",
        "colab": {
          "base_uri": "https://localhost:8080/",
          "height": 51
        }
      },
      "source": [
        "print('MSE for training set is {}'.format(MSE_train))\n",
        "print('MSE for test set is {}'.format(MSE_test))"
      ],
      "execution_count": 173,
      "outputs": [
        {
          "output_type": "stream",
          "text": [
            "MSE for training set is 0.1113807557032536\n",
            "MSE for test set is 0.073539998392283\n"
          ],
          "name": "stdout"
        }
      ]
    },
    {
      "cell_type": "code",
      "metadata": {
        "id": "jx1BXZls5sE5",
        "colab_type": "code",
        "colab": {}
      },
      "source": [
        "MSE_train = metrics.mean_squared_error(y2_train, y2_pred_train)\n",
        "MSE_test = metrics.mean_squared_error(y2_test, y2_pred_test)"
      ],
      "execution_count": 0,
      "outputs": []
    },
    {
      "cell_type": "code",
      "metadata": {
        "id": "V5w3VVUq5ywI",
        "colab_type": "code",
        "colab": {
          "base_uri": "https://localhost:8080/",
          "height": 51
        },
        "outputId": "bf294ec0-ce00-4618-d94c-e28c866ae1c1"
      },
      "source": [
        "print('MSE for training set is {}'.format(MSE_train))\n",
        "print('MSE for test set is {}'.format(MSE_test))"
      ],
      "execution_count": 175,
      "outputs": [
        {
          "output_type": "stream",
          "text": [
            "MSE for training set is 3.0168306076596774\n",
            "MSE for test set is 1.9918855518287892\n"
          ],
          "name": "stdout"
        }
      ]
    },
    {
      "cell_type": "markdown",
      "metadata": {
        "id": "5WguX383wkr6",
        "colab_type": "text"
      },
      "source": [
        "__Root Mean Squared Error__ (RMSE) is the square root of the mean of the squared errors:\n",
        "\n",
        "$$\\sqrt{\\frac 1n\\sum_{i=1}^n(y_i-\\hat{y}_i)^2}$$\n",
        "\n",
        "Computing the RMSE for our Sales predictions"
      ]
    },
    {
      "cell_type": "code",
      "metadata": {
        "id": "ipYNPz3gwkr6",
        "colab_type": "code",
        "colab": {}
      },
      "source": [
        "RMSE_train = np.sqrt( metrics.mean_squared_error(y1_train, y1_pred_train))\n",
        "RMSE_test = np.sqrt(metrics.mean_squared_error(y1_test, y1_pred_test))"
      ],
      "execution_count": 0,
      "outputs": []
    },
    {
      "cell_type": "code",
      "metadata": {
        "id": "1pAhSvpjwkr7",
        "colab_type": "code",
        "outputId": "8393d9f4-26fc-4dee-bfda-4157728a21af",
        "colab": {
          "base_uri": "https://localhost:8080/",
          "height": 51
        }
      },
      "source": [
        "print('RMSE for training set is {}'.format(RMSE_train))\n",
        "print('RMSE for test set is {}'.format(RMSE_test))"
      ],
      "execution_count": 177,
      "outputs": [
        {
          "output_type": "stream",
          "text": [
            "RMSE for training set is 0.3337375551286573\n",
            "RMSE for test set is 0.2711825923474495\n"
          ],
          "name": "stdout"
        }
      ]
    },
    {
      "cell_type": "code",
      "metadata": {
        "id": "HIHqcceY57Js",
        "colab_type": "code",
        "colab": {}
      },
      "source": [
        "RMSE_train = np.sqrt( metrics.mean_squared_error(y2_train, y2_pred_train))\n",
        "RMSE_test = np.sqrt(metrics.mean_squared_error(y2_test, y2_pred_test))"
      ],
      "execution_count": 0,
      "outputs": []
    },
    {
      "cell_type": "code",
      "metadata": {
        "id": "ZT6GwX1q6B43",
        "colab_type": "code",
        "colab": {
          "base_uri": "https://localhost:8080/",
          "height": 51
        },
        "outputId": "789a917e-d81f-484e-8954-6021c65ca620"
      },
      "source": [
        "print('RMSE for training set is {}'.format(RMSE_train))\n",
        "print('RMSE for test set is {}'.format(RMSE_test))"
      ],
      "execution_count": 179,
      "outputs": [
        {
          "output_type": "stream",
          "text": [
            "RMSE for training set is 1.736902590147092\n",
            "RMSE for test set is 1.4113417558581582\n"
          ],
          "name": "stdout"
        }
      ]
    },
    {
      "cell_type": "markdown",
      "metadata": {
        "id": "PjIfmZTWwkr-",
        "colab_type": "text"
      },
      "source": [
        "Comparing these metrics:\n",
        "\n",
        "- __MAE__ is the easiest to understand, because it's the __average error.__ \n",
        "- __MSE__ is more popular than MAE, because MSE \"punishes\" larger errors.\n",
        "- __RMSE__ is even more popular than MSE, because RMSE is _interpretable_ in the \"y\" units.\n",
        "    - Easier to put in context as it's the same units as our response variable."
      ]
    },
    {
      "cell_type": "markdown",
      "metadata": {
        "id": "7wnrpm-xwkr-",
        "colab_type": "text"
      },
      "source": [
        "<a id=section502></a>"
      ]
    },
    {
      "cell_type": "markdown",
      "metadata": {
        "id": "lA2LnNLQwkr-",
        "colab_type": "text"
      },
      "source": [
        "### 5.2 Model Evaluation using Rsquared value."
      ]
    },
    {
      "cell_type": "markdown",
      "metadata": {
        "id": "APrwj0b2wkr_",
        "colab_type": "text"
      },
      "source": [
        "- There is one more method to evaluate linear regression model and that is by using the __Rsquared__ value.<br/>\n",
        "- R-squared is the **proportion of variance explained**, meaning the proportion of variance in the observed data that is explained by the model, or the reduction in error over the **null model**. (The null model just predicts the mean of the observed response, and thus it has an intercept and no slope.)\n",
        "\n",
        "- R-squared is between 0 and 1, and higher is better because it means that more variance is explained by the model. But there is one shortcoming of Rsquare method and that is **R-squared will always increase as you add more features to the model**, even if they are unrelated to the response. Thus, selecting the model with the highest R-squared is not a reliable approach for choosing the best linear model.\n",
        "\n",
        "There is alternative to R-squared called **adjusted R-squared** that penalizes model complexity (to control for overfitting)."
      ]
    },
    {
      "cell_type": "code",
      "metadata": {
        "id": "kMwKWpnswkr_",
        "colab_type": "code",
        "outputId": "2f984940-9e05-409e-adf0-85d1855af901",
        "colab": {
          "base_uri": "https://localhost:8080/",
          "height": 34
        }
      },
      "source": [
        "yhat = linreg1.predict(X1_train)\n",
        "SS_Residual = sum((y1_train-yhat)**2)\n",
        "SS_Total = sum((y1_train-np.mean(y1_train))**2)\n",
        "r_squared = 1 - (float(SS_Residual))/SS_Total\n",
        "adjusted_r_squared = 1 - (1-r_squared)*(len(y1_train)-1)/(len(y1_train)-X1_train.shape[1]-1)\n",
        "print(r_squared, adjusted_r_squared)"
      ],
      "execution_count": 180,
      "outputs": [
        {
          "output_type": "stream",
          "text": [
            "0.8959372632325174 0.8939360567562197\n"
          ],
          "name": "stdout"
        }
      ]
    },
    {
      "cell_type": "code",
      "metadata": {
        "id": "GPp2pYPa6cjA",
        "colab_type": "code",
        "colab": {
          "base_uri": "https://localhost:8080/",
          "height": 34
        },
        "outputId": "d3ed7044-7195-4df1-8d1d-a91c375081d3"
      },
      "source": [
        "yhat = linreg2.predict(X2_train)\n",
        "SS_Residual = sum((y2_train-yhat)**2)\n",
        "SS_Total = sum((y2_train-np.mean(y2_train))**2)\n",
        "r_squared = 1 - (float(SS_Residual))/SS_Total\n",
        "adjusted_r_squared = 1 - (1-r_squared)*(len(y2_train)-1)/(len(y2_train)-X2_train.shape[1]-1)\n",
        "print(r_squared, adjusted_r_squared)"
      ],
      "execution_count": 182,
      "outputs": [
        {
          "output_type": "stream",
          "text": [
            "0.8959372632325174 0.8939360567562197\n"
          ],
          "name": "stdout"
        }
      ]
    },
    {
      "cell_type": "markdown",
      "metadata": {
        "id": "nrj0GAQOwksC",
        "colab_type": "text"
      },
      "source": [
        "<a id=section6></a>"
      ]
    },
    {
      "cell_type": "markdown",
      "metadata": {
        "id": "YKEjFtTSwksC",
        "colab_type": "text"
      },
      "source": [
        "## 6. Feature Selection\n",
        "\n",
        "At times some features do not contribute much to the accuracy of the model, in that case its better to discard those features.<br/> \n",
        "- Let's check whether __\"newspaper\"__ improve the quality of our predictions or not.<br/> \n",
        "To check this we are going to take all the features other than \"newspaper\" and see if the error (RMSE) is reducing or not.\n",
        "- Also Applying __Gridsearch__ method for exhaustive search over specified parameter values of  estimator."
      ]
    },
    {
      "cell_type": "code",
      "metadata": {
        "id": "qVJUtyxW7Dw6",
        "colab_type": "code",
        "colab": {
          "base_uri": "https://localhost:8080/",
          "height": 204
        },
        "outputId": "aafcfc91-945c-41d1-a2cf-c7fca39dee42"
      },
      "source": [
        "data = pd.read_csv('https://raw.githubusercontent.com/insaid2018/Term-2/master/CaseStudy/Advertising.csv', index_col=0)\n",
        "data.head()"
      ],
      "execution_count": 183,
      "outputs": [
        {
          "output_type": "execute_result",
          "data": {
            "text/html": [
              "<div>\n",
              "<style scoped>\n",
              "    .dataframe tbody tr th:only-of-type {\n",
              "        vertical-align: middle;\n",
              "    }\n",
              "\n",
              "    .dataframe tbody tr th {\n",
              "        vertical-align: top;\n",
              "    }\n",
              "\n",
              "    .dataframe thead th {\n",
              "        text-align: right;\n",
              "    }\n",
              "</style>\n",
              "<table border=\"1\" class=\"dataframe\">\n",
              "  <thead>\n",
              "    <tr style=\"text-align: right;\">\n",
              "      <th></th>\n",
              "      <th>TV</th>\n",
              "      <th>radio</th>\n",
              "      <th>newspaper</th>\n",
              "      <th>sales</th>\n",
              "    </tr>\n",
              "  </thead>\n",
              "  <tbody>\n",
              "    <tr>\n",
              "      <th>1</th>\n",
              "      <td>230.1</td>\n",
              "      <td>37.8</td>\n",
              "      <td>69.2</td>\n",
              "      <td>22.1</td>\n",
              "    </tr>\n",
              "    <tr>\n",
              "      <th>2</th>\n",
              "      <td>44.5</td>\n",
              "      <td>39.3</td>\n",
              "      <td>45.1</td>\n",
              "      <td>10.4</td>\n",
              "    </tr>\n",
              "    <tr>\n",
              "      <th>3</th>\n",
              "      <td>17.2</td>\n",
              "      <td>45.9</td>\n",
              "      <td>69.3</td>\n",
              "      <td>9.3</td>\n",
              "    </tr>\n",
              "    <tr>\n",
              "      <th>4</th>\n",
              "      <td>151.5</td>\n",
              "      <td>41.3</td>\n",
              "      <td>58.5</td>\n",
              "      <td>18.5</td>\n",
              "    </tr>\n",
              "    <tr>\n",
              "      <th>5</th>\n",
              "      <td>180.8</td>\n",
              "      <td>10.8</td>\n",
              "      <td>58.4</td>\n",
              "      <td>12.9</td>\n",
              "    </tr>\n",
              "  </tbody>\n",
              "</table>\n",
              "</div>"
            ],
            "text/plain": [
              "      TV  radio  newspaper  sales\n",
              "1  230.1   37.8       69.2   22.1\n",
              "2   44.5   39.3       45.1   10.4\n",
              "3   17.2   45.9       69.3    9.3\n",
              "4  151.5   41.3       58.5   18.5\n",
              "5  180.8   10.8       58.4   12.9"
            ]
          },
          "metadata": {
            "tags": []
          },
          "execution_count": 183
        }
      ]
    },
    {
      "cell_type": "code",
      "metadata": {
        "id": "EHfhBFYlwksD",
        "colab_type": "code",
        "outputId": "0e859366-054b-4dc6-d989-9682b2c44a2a",
        "colab": {
          "base_uri": "https://localhost:8080/",
          "height": 34
        }
      },
      "source": [
        "feature_cols = ['TV','radio']                                                          # create a Python list of feature names\n",
        "X = data[feature_cols]  \n",
        "y = data.sales\n",
        "\n",
        "X_train, X_test, y_train, y_test=split(X,y)\n",
        "\n",
        "linreg = LinearRegression(copy_X=True, fit_intercept=True, n_jobs=None, normalize=True)\n",
        "linreg.fit(X_train, y_train)\n",
        "y_pred_test = linreg.predict(X_test)                                                   # make predictions on the testing set\n",
        "\n",
        "RMSE_test = (metrics.mean_squared_error(y_test, y_pred_test))                          # compute the RMSE of our predictions\n",
        "print('RMSE for the test set is {}'.format(RMSE_test))\n"
      ],
      "execution_count": 184,
      "outputs": [
        {
          "output_type": "stream",
          "text": [
            "RMSE for the test set is 1.9552218850113192\n"
          ],
          "name": "stdout"
        }
      ]
    },
    {
      "cell_type": "code",
      "metadata": {
        "id": "_Bd79LiWL4Gh",
        "colab_type": "code",
        "outputId": "f2e00aa5-a702-450e-d775-6b2c898bc1f3",
        "colab": {
          "base_uri": "https://localhost:8080/",
          "height": 51
        }
      },
      "source": [
        "print('Intercept:',linreg.intercept_)                                           # print the intercept \n",
        "print('Coefficients:',linreg.coef_)"
      ],
      "execution_count": 185,
      "outputs": [
        {
          "output_type": "stream",
          "text": [
            "Intercept: 2.9475150360289923\n",
            "Coefficients: [0.04686997 0.1800065 ]\n"
          ],
          "name": "stdout"
        }
      ]
    },
    {
      "cell_type": "markdown",
      "metadata": {
        "id": "CrIx-c7vMvU6",
        "colab_type": "text"
      },
      "source": [
        "# more the variables in the model, more uncertainity you will carry while prediction. So the goal is always to reduce the dependency a model has on number of columns. \n",
        "\n",
        "# Feature Selection \n",
        "    # Imporves accuracy \n",
        "    # Imporoves Time \n",
        "    # Reduces uncertainity \n",
        "    # Reduces biases \n",
        "\n",
        "# Only do feature selection/susbset, if you have a mathematical/quantifyable way of knowing if that feature is impr or not. Just like, in LR, we saw that Newspaper isn't giving us good dependency and was acting as noise. \n"
      ]
    },
    {
      "cell_type": "markdown",
      "metadata": {
        "id": "gMw82z7YwksE",
        "colab_type": "text"
      },
      "source": [
        "- _Before_ doing feature selection _RMSE_ for the test dataset was __0.271__.<br/>\n",
        "- _After_ discarding 'newspaper' column, RMSE comes to be __0.072__.<br/>\n",
        "As you can see there is __significant improvement__ in the quality, therefore, the 'newspaper' column should be discarded. But if in some other case if there is no significant decrease in the RMSE, then you must keep that feature."
      ]
    },
    {
      "cell_type": "markdown",
      "metadata": {
        "id": "HxsLAfY0wksF",
        "colab_type": "text"
      },
      "source": [
        "<a id=section7></a>"
      ]
    },
    {
      "cell_type": "markdown",
      "metadata": {
        "id": "BnXzCs6EPTrD",
        "colab_type": "text"
      },
      "source": [
        "# Feature Engineering -- Adding new new features from the exsisting data. \n",
        "# in this case, we are not adding from exsisting, but we are adding new columns. \n",
        "\n",
        "#timstamps\n",
        "# 21December2019 12:26  # single column \n",
        "\n",
        "# Day 21, Month: December; Year: 2019 ; Time: 12-1  # 4 columns "
      ]
    },
    {
      "cell_type": "markdown",
      "metadata": {
        "id": "2Tl1v6qOwksF",
        "colab_type": "text"
      },
      "source": [
        "## 7.  Handling Categorical Features\n",
        "\n",
        "Let's create a new feature called **Area**, and randomly assign observations to be **rural, suburban, or urban** :"
      ]
    },
    {
      "cell_type": "code",
      "metadata": {
        "id": "ogp_nWg-P_Xz",
        "colab_type": "code",
        "colab": {}
      },
      "source": [
        "# linear regression always work on numerical continuous. \n",
        "# the area column is categorical column - nonOrdinal \n",
        "  # possible solution -> you conver this to discreat numeircal ; 0,1,2, \n",
        "  # the actual solution is to convert numeical descrete to Dummy Variable \n",
        "  # Categrical (single col) --> Numerical Discreate (single col) --> Dummy Variable (which projects the categories into axis of vector space) (multiple col)\n",
        "  # For N Categories, N columns will be created in Dummies. You always need N-1 columns to represent whole data\n",
        "  # If the inference is important, Use N columns rather than N-1.\n",
        "  # by default, always do N columns in Dummy. "
      ],
      "execution_count": 0,
      "outputs": []
    },
    {
      "cell_type": "code",
      "metadata": {
        "id": "T7-kwRVLwksF",
        "colab_type": "code",
        "outputId": "e187016f-4e65-4e25-ad55-dff5276f09fe",
        "colab": {
          "base_uri": "https://localhost:8080/",
          "height": 204
        }
      },
      "source": [
        "np.random.seed(123456)                                                # set a seed for reproducibility\n",
        "nums = np.random.rand(len(data))\n",
        "mask_suburban = (nums > 0.33) & (nums < 0.66)                         # assign roughly one third of observations to each group\n",
        "mask_urban = nums > 0.66\n",
        "data['Area'] = 'rural'\n",
        "data.loc[mask_suburban, 'Area'] = 'suburban'\n",
        "data.loc[mask_urban, 'Area'] = 'urban'\n",
        "data.head()"
      ],
      "execution_count": 186,
      "outputs": [
        {
          "output_type": "execute_result",
          "data": {
            "text/html": [
              "<div>\n",
              "<style scoped>\n",
              "    .dataframe tbody tr th:only-of-type {\n",
              "        vertical-align: middle;\n",
              "    }\n",
              "\n",
              "    .dataframe tbody tr th {\n",
              "        vertical-align: top;\n",
              "    }\n",
              "\n",
              "    .dataframe thead th {\n",
              "        text-align: right;\n",
              "    }\n",
              "</style>\n",
              "<table border=\"1\" class=\"dataframe\">\n",
              "  <thead>\n",
              "    <tr style=\"text-align: right;\">\n",
              "      <th></th>\n",
              "      <th>TV</th>\n",
              "      <th>radio</th>\n",
              "      <th>newspaper</th>\n",
              "      <th>sales</th>\n",
              "      <th>Area</th>\n",
              "    </tr>\n",
              "  </thead>\n",
              "  <tbody>\n",
              "    <tr>\n",
              "      <th>1</th>\n",
              "      <td>230.1</td>\n",
              "      <td>37.8</td>\n",
              "      <td>69.2</td>\n",
              "      <td>22.1</td>\n",
              "      <td>rural</td>\n",
              "    </tr>\n",
              "    <tr>\n",
              "      <th>2</th>\n",
              "      <td>44.5</td>\n",
              "      <td>39.3</td>\n",
              "      <td>45.1</td>\n",
              "      <td>10.4</td>\n",
              "      <td>urban</td>\n",
              "    </tr>\n",
              "    <tr>\n",
              "      <th>3</th>\n",
              "      <td>17.2</td>\n",
              "      <td>45.9</td>\n",
              "      <td>69.3</td>\n",
              "      <td>9.3</td>\n",
              "      <td>rural</td>\n",
              "    </tr>\n",
              "    <tr>\n",
              "      <th>4</th>\n",
              "      <td>151.5</td>\n",
              "      <td>41.3</td>\n",
              "      <td>58.5</td>\n",
              "      <td>18.5</td>\n",
              "      <td>urban</td>\n",
              "    </tr>\n",
              "    <tr>\n",
              "      <th>5</th>\n",
              "      <td>180.8</td>\n",
              "      <td>10.8</td>\n",
              "      <td>58.4</td>\n",
              "      <td>12.9</td>\n",
              "      <td>suburban</td>\n",
              "    </tr>\n",
              "  </tbody>\n",
              "</table>\n",
              "</div>"
            ],
            "text/plain": [
              "      TV  radio  newspaper  sales      Area\n",
              "1  230.1   37.8       69.2   22.1     rural\n",
              "2   44.5   39.3       45.1   10.4     urban\n",
              "3   17.2   45.9       69.3    9.3     rural\n",
              "4  151.5   41.3       58.5   18.5     urban\n",
              "5  180.8   10.8       58.4   12.9  suburban"
            ]
          },
          "metadata": {
            "tags": []
          },
          "execution_count": 186
        }
      ]
    },
    {
      "cell_type": "code",
      "metadata": {
        "id": "MDgV1vefQl3Y",
        "colab_type": "code",
        "outputId": "a12e95de-cdf6-4b40-db14-4e357d9f7959",
        "colab": {
          "base_uri": "https://localhost:8080/",
          "height": 419
        }
      },
      "source": [
        "pd.get_dummies(data['Area'])"
      ],
      "execution_count": 187,
      "outputs": [
        {
          "output_type": "execute_result",
          "data": {
            "text/html": [
              "<div>\n",
              "<style scoped>\n",
              "    .dataframe tbody tr th:only-of-type {\n",
              "        vertical-align: middle;\n",
              "    }\n",
              "\n",
              "    .dataframe tbody tr th {\n",
              "        vertical-align: top;\n",
              "    }\n",
              "\n",
              "    .dataframe thead th {\n",
              "        text-align: right;\n",
              "    }\n",
              "</style>\n",
              "<table border=\"1\" class=\"dataframe\">\n",
              "  <thead>\n",
              "    <tr style=\"text-align: right;\">\n",
              "      <th></th>\n",
              "      <th>rural</th>\n",
              "      <th>suburban</th>\n",
              "      <th>urban</th>\n",
              "    </tr>\n",
              "  </thead>\n",
              "  <tbody>\n",
              "    <tr>\n",
              "      <th>1</th>\n",
              "      <td>1</td>\n",
              "      <td>0</td>\n",
              "      <td>0</td>\n",
              "    </tr>\n",
              "    <tr>\n",
              "      <th>2</th>\n",
              "      <td>0</td>\n",
              "      <td>0</td>\n",
              "      <td>1</td>\n",
              "    </tr>\n",
              "    <tr>\n",
              "      <th>3</th>\n",
              "      <td>1</td>\n",
              "      <td>0</td>\n",
              "      <td>0</td>\n",
              "    </tr>\n",
              "    <tr>\n",
              "      <th>4</th>\n",
              "      <td>0</td>\n",
              "      <td>0</td>\n",
              "      <td>1</td>\n",
              "    </tr>\n",
              "    <tr>\n",
              "      <th>5</th>\n",
              "      <td>0</td>\n",
              "      <td>1</td>\n",
              "      <td>0</td>\n",
              "    </tr>\n",
              "    <tr>\n",
              "      <th>...</th>\n",
              "      <td>...</td>\n",
              "      <td>...</td>\n",
              "      <td>...</td>\n",
              "    </tr>\n",
              "    <tr>\n",
              "      <th>196</th>\n",
              "      <td>0</td>\n",
              "      <td>1</td>\n",
              "      <td>0</td>\n",
              "    </tr>\n",
              "    <tr>\n",
              "      <th>197</th>\n",
              "      <td>0</td>\n",
              "      <td>0</td>\n",
              "      <td>1</td>\n",
              "    </tr>\n",
              "    <tr>\n",
              "      <th>198</th>\n",
              "      <td>0</td>\n",
              "      <td>1</td>\n",
              "      <td>0</td>\n",
              "    </tr>\n",
              "    <tr>\n",
              "      <th>199</th>\n",
              "      <td>1</td>\n",
              "      <td>0</td>\n",
              "      <td>0</td>\n",
              "    </tr>\n",
              "    <tr>\n",
              "      <th>200</th>\n",
              "      <td>1</td>\n",
              "      <td>0</td>\n",
              "      <td>0</td>\n",
              "    </tr>\n",
              "  </tbody>\n",
              "</table>\n",
              "<p>200 rows × 3 columns</p>\n",
              "</div>"
            ],
            "text/plain": [
              "     rural  suburban  urban\n",
              "1        1         0      0\n",
              "2        0         0      1\n",
              "3        1         0      0\n",
              "4        0         0      1\n",
              "5        0         1      0\n",
              "..     ...       ...    ...\n",
              "196      0         1      0\n",
              "197      0         0      1\n",
              "198      0         1      0\n",
              "199      1         0      0\n",
              "200      1         0      0\n",
              "\n",
              "[200 rows x 3 columns]"
            ]
          },
          "metadata": {
            "tags": []
          },
          "execution_count": 187
        }
      ]
    },
    {
      "cell_type": "code",
      "metadata": {
        "id": "jVx_VpRzRVmk",
        "colab_type": "code",
        "outputId": "72463ae4-f616-4d2b-ef57-a72bd0e807a7",
        "colab": {
          "base_uri": "https://localhost:8080/",
          "height": 419
        }
      },
      "source": [
        "pd.get_dummies(data['Area'],drop_first=True)"
      ],
      "execution_count": 188,
      "outputs": [
        {
          "output_type": "execute_result",
          "data": {
            "text/html": [
              "<div>\n",
              "<style scoped>\n",
              "    .dataframe tbody tr th:only-of-type {\n",
              "        vertical-align: middle;\n",
              "    }\n",
              "\n",
              "    .dataframe tbody tr th {\n",
              "        vertical-align: top;\n",
              "    }\n",
              "\n",
              "    .dataframe thead th {\n",
              "        text-align: right;\n",
              "    }\n",
              "</style>\n",
              "<table border=\"1\" class=\"dataframe\">\n",
              "  <thead>\n",
              "    <tr style=\"text-align: right;\">\n",
              "      <th></th>\n",
              "      <th>suburban</th>\n",
              "      <th>urban</th>\n",
              "    </tr>\n",
              "  </thead>\n",
              "  <tbody>\n",
              "    <tr>\n",
              "      <th>1</th>\n",
              "      <td>0</td>\n",
              "      <td>0</td>\n",
              "    </tr>\n",
              "    <tr>\n",
              "      <th>2</th>\n",
              "      <td>0</td>\n",
              "      <td>1</td>\n",
              "    </tr>\n",
              "    <tr>\n",
              "      <th>3</th>\n",
              "      <td>0</td>\n",
              "      <td>0</td>\n",
              "    </tr>\n",
              "    <tr>\n",
              "      <th>4</th>\n",
              "      <td>0</td>\n",
              "      <td>1</td>\n",
              "    </tr>\n",
              "    <tr>\n",
              "      <th>5</th>\n",
              "      <td>1</td>\n",
              "      <td>0</td>\n",
              "    </tr>\n",
              "    <tr>\n",
              "      <th>...</th>\n",
              "      <td>...</td>\n",
              "      <td>...</td>\n",
              "    </tr>\n",
              "    <tr>\n",
              "      <th>196</th>\n",
              "      <td>1</td>\n",
              "      <td>0</td>\n",
              "    </tr>\n",
              "    <tr>\n",
              "      <th>197</th>\n",
              "      <td>0</td>\n",
              "      <td>1</td>\n",
              "    </tr>\n",
              "    <tr>\n",
              "      <th>198</th>\n",
              "      <td>1</td>\n",
              "      <td>0</td>\n",
              "    </tr>\n",
              "    <tr>\n",
              "      <th>199</th>\n",
              "      <td>0</td>\n",
              "      <td>0</td>\n",
              "    </tr>\n",
              "    <tr>\n",
              "      <th>200</th>\n",
              "      <td>0</td>\n",
              "      <td>0</td>\n",
              "    </tr>\n",
              "  </tbody>\n",
              "</table>\n",
              "<p>200 rows × 2 columns</p>\n",
              "</div>"
            ],
            "text/plain": [
              "     suburban  urban\n",
              "1           0      0\n",
              "2           0      1\n",
              "3           0      0\n",
              "4           0      1\n",
              "5           1      0\n",
              "..        ...    ...\n",
              "196         1      0\n",
              "197         0      1\n",
              "198         1      0\n",
              "199         0      0\n",
              "200         0      0\n",
              "\n",
              "[200 rows x 2 columns]"
            ]
          },
          "metadata": {
            "tags": []
          },
          "execution_count": 188
        }
      ]
    },
    {
      "cell_type": "markdown",
      "metadata": {
        "id": "4BUlGrvBwksH",
        "colab_type": "text"
      },
      "source": [
        "We want to represent Area numerically, but we can't simply code it as:<br/>\n",
        "- 0 = rural,<br/>\n",
        "- 1 = suburban,<br/>\n",
        "- 2 = urban<br/>\n",
        "Because that would imply an **ordered relationship** between suburban and urban, and thus urban is somehow \"twice\" the suburban category.<br/> Note that if you do have ordered categories (i.e., strongly disagree, disagree, neutral, agree, strongly agree), you can use a single dummy variable to represent the categories numerically (such as 1, 2, 3, 4, 5).<br/>\n",
        "\n",
        "Anyway, our Area feature is unordered, so we have to create **additional dummy variables**. Let's explore how to do this using pandas:"
      ]
    },
    {
      "cell_type": "code",
      "metadata": {
        "id": "GoQmRY9GwksH",
        "colab_type": "code",
        "outputId": "c1d4adb1-cb4f-4abd-f47a-efc52e08a49c",
        "colab": {
          "base_uri": "https://localhost:8080/",
          "height": 204
        }
      },
      "source": [
        "area_dummies = pd.get_dummies(data.Area, prefix='Area')                           # create three dummy variables using get_dummies\n",
        "area_dummies.head()"
      ],
      "execution_count": 189,
      "outputs": [
        {
          "output_type": "execute_result",
          "data": {
            "text/html": [
              "<div>\n",
              "<style scoped>\n",
              "    .dataframe tbody tr th:only-of-type {\n",
              "        vertical-align: middle;\n",
              "    }\n",
              "\n",
              "    .dataframe tbody tr th {\n",
              "        vertical-align: top;\n",
              "    }\n",
              "\n",
              "    .dataframe thead th {\n",
              "        text-align: right;\n",
              "    }\n",
              "</style>\n",
              "<table border=\"1\" class=\"dataframe\">\n",
              "  <thead>\n",
              "    <tr style=\"text-align: right;\">\n",
              "      <th></th>\n",
              "      <th>Area_rural</th>\n",
              "      <th>Area_suburban</th>\n",
              "      <th>Area_urban</th>\n",
              "    </tr>\n",
              "  </thead>\n",
              "  <tbody>\n",
              "    <tr>\n",
              "      <th>1</th>\n",
              "      <td>1</td>\n",
              "      <td>0</td>\n",
              "      <td>0</td>\n",
              "    </tr>\n",
              "    <tr>\n",
              "      <th>2</th>\n",
              "      <td>0</td>\n",
              "      <td>0</td>\n",
              "      <td>1</td>\n",
              "    </tr>\n",
              "    <tr>\n",
              "      <th>3</th>\n",
              "      <td>1</td>\n",
              "      <td>0</td>\n",
              "      <td>0</td>\n",
              "    </tr>\n",
              "    <tr>\n",
              "      <th>4</th>\n",
              "      <td>0</td>\n",
              "      <td>0</td>\n",
              "      <td>1</td>\n",
              "    </tr>\n",
              "    <tr>\n",
              "      <th>5</th>\n",
              "      <td>0</td>\n",
              "      <td>1</td>\n",
              "      <td>0</td>\n",
              "    </tr>\n",
              "  </tbody>\n",
              "</table>\n",
              "</div>"
            ],
            "text/plain": [
              "   Area_rural  Area_suburban  Area_urban\n",
              "1           1              0           0\n",
              "2           0              0           1\n",
              "3           1              0           0\n",
              "4           0              0           1\n",
              "5           0              1           0"
            ]
          },
          "metadata": {
            "tags": []
          },
          "execution_count": 189
        }
      ]
    },
    {
      "cell_type": "markdown",
      "metadata": {
        "id": "cVfHZOQ8wksI",
        "colab_type": "text"
      },
      "source": [
        "However, we actually only need **two dummy variables, not three**. \n",
        "__Why???__\n",
        "Because two dummies captures all the \"information\" about the Area feature, and implicitly defines rural as the \"baseline level\".\n",
        "\n",
        "Let's see what that looks like:"
      ]
    },
    {
      "cell_type": "code",
      "metadata": {
        "id": "HUgVqIILwksJ",
        "colab_type": "code",
        "outputId": "180b5c39-8cae-448d-f463-83e3a7071f8d",
        "colab": {
          "base_uri": "https://localhost:8080/",
          "height": 204
        }
      },
      "source": [
        "#area_dummies = pd.get_dummies(data.Area, prefix='Area').iloc[:, 1:]\n",
        "#area_dummies.head()"
      ],
      "execution_count": 0,
      "outputs": [
        {
          "output_type": "execute_result",
          "data": {
            "text/html": [
              "<div>\n",
              "<style scoped>\n",
              "    .dataframe tbody tr th:only-of-type {\n",
              "        vertical-align: middle;\n",
              "    }\n",
              "\n",
              "    .dataframe tbody tr th {\n",
              "        vertical-align: top;\n",
              "    }\n",
              "\n",
              "    .dataframe thead th {\n",
              "        text-align: right;\n",
              "    }\n",
              "</style>\n",
              "<table border=\"1\" class=\"dataframe\">\n",
              "  <thead>\n",
              "    <tr style=\"text-align: right;\">\n",
              "      <th></th>\n",
              "      <th>Area_suburban</th>\n",
              "      <th>Area_urban</th>\n",
              "    </tr>\n",
              "  </thead>\n",
              "  <tbody>\n",
              "    <tr>\n",
              "      <th>1</th>\n",
              "      <td>0</td>\n",
              "      <td>0</td>\n",
              "    </tr>\n",
              "    <tr>\n",
              "      <th>2</th>\n",
              "      <td>0</td>\n",
              "      <td>1</td>\n",
              "    </tr>\n",
              "    <tr>\n",
              "      <th>3</th>\n",
              "      <td>0</td>\n",
              "      <td>0</td>\n",
              "    </tr>\n",
              "    <tr>\n",
              "      <th>4</th>\n",
              "      <td>0</td>\n",
              "      <td>1</td>\n",
              "    </tr>\n",
              "    <tr>\n",
              "      <th>5</th>\n",
              "      <td>1</td>\n",
              "      <td>0</td>\n",
              "    </tr>\n",
              "  </tbody>\n",
              "</table>\n",
              "</div>"
            ],
            "text/plain": [
              "   Area_suburban  Area_urban\n",
              "1              0           0\n",
              "2              0           1\n",
              "3              0           0\n",
              "4              0           1\n",
              "5              1           0"
            ]
          },
          "metadata": {
            "tags": []
          },
          "execution_count": 44
        }
      ]
    },
    {
      "cell_type": "markdown",
      "metadata": {
        "id": "Msz7qe14wksK",
        "colab_type": "text"
      },
      "source": [
        "Here is how we interpret the coding:\n",
        "- **rural** is coded as  Area_suburban = 0  and  Area_urban = 0\n",
        "- **suburban** is coded as  Area_suburban = 1  and  Area_urban = 0\n",
        "- **urban** is coded as  Area_suburban = 0  and  Area_urban = 1\n",
        "\n",
        "If this sounds confusing, think in general terms that why we need only __k-1 dummy variables__ if we have a categorical feature with __k \"levels\"__.\n",
        "\n",
        "Anyway, let's add these two new dummy variables onto the original DataFrame, and then include them in the linear regression model."
      ]
    },
    {
      "cell_type": "code",
      "metadata": {
        "id": "f1s6_504wksK",
        "colab_type": "code",
        "outputId": "f8e31fe9-bd9c-4295-8519-7588dd250287",
        "colab": {
          "base_uri": "https://localhost:8080/",
          "height": 204
        }
      },
      "source": [
        "# concatenate the dummy variable columns onto the DataFrame (axis=0 means rows, axis=1 means columns)\n",
        "data = pd.concat([data, area_dummies], axis=1)\n",
        "data.head()\n",
        "\n",
        "# Model for each Cateogry \n",
        "#data = data[data['Area_rural']==1]"
      ],
      "execution_count": 190,
      "outputs": [
        {
          "output_type": "execute_result",
          "data": {
            "text/html": [
              "<div>\n",
              "<style scoped>\n",
              "    .dataframe tbody tr th:only-of-type {\n",
              "        vertical-align: middle;\n",
              "    }\n",
              "\n",
              "    .dataframe tbody tr th {\n",
              "        vertical-align: top;\n",
              "    }\n",
              "\n",
              "    .dataframe thead th {\n",
              "        text-align: right;\n",
              "    }\n",
              "</style>\n",
              "<table border=\"1\" class=\"dataframe\">\n",
              "  <thead>\n",
              "    <tr style=\"text-align: right;\">\n",
              "      <th></th>\n",
              "      <th>TV</th>\n",
              "      <th>radio</th>\n",
              "      <th>newspaper</th>\n",
              "      <th>sales</th>\n",
              "      <th>Area</th>\n",
              "      <th>Area_rural</th>\n",
              "      <th>Area_suburban</th>\n",
              "      <th>Area_urban</th>\n",
              "    </tr>\n",
              "  </thead>\n",
              "  <tbody>\n",
              "    <tr>\n",
              "      <th>1</th>\n",
              "      <td>230.1</td>\n",
              "      <td>37.8</td>\n",
              "      <td>69.2</td>\n",
              "      <td>22.1</td>\n",
              "      <td>rural</td>\n",
              "      <td>1</td>\n",
              "      <td>0</td>\n",
              "      <td>0</td>\n",
              "    </tr>\n",
              "    <tr>\n",
              "      <th>2</th>\n",
              "      <td>44.5</td>\n",
              "      <td>39.3</td>\n",
              "      <td>45.1</td>\n",
              "      <td>10.4</td>\n",
              "      <td>urban</td>\n",
              "      <td>0</td>\n",
              "      <td>0</td>\n",
              "      <td>1</td>\n",
              "    </tr>\n",
              "    <tr>\n",
              "      <th>3</th>\n",
              "      <td>17.2</td>\n",
              "      <td>45.9</td>\n",
              "      <td>69.3</td>\n",
              "      <td>9.3</td>\n",
              "      <td>rural</td>\n",
              "      <td>1</td>\n",
              "      <td>0</td>\n",
              "      <td>0</td>\n",
              "    </tr>\n",
              "    <tr>\n",
              "      <th>4</th>\n",
              "      <td>151.5</td>\n",
              "      <td>41.3</td>\n",
              "      <td>58.5</td>\n",
              "      <td>18.5</td>\n",
              "      <td>urban</td>\n",
              "      <td>0</td>\n",
              "      <td>0</td>\n",
              "      <td>1</td>\n",
              "    </tr>\n",
              "    <tr>\n",
              "      <th>5</th>\n",
              "      <td>180.8</td>\n",
              "      <td>10.8</td>\n",
              "      <td>58.4</td>\n",
              "      <td>12.9</td>\n",
              "      <td>suburban</td>\n",
              "      <td>0</td>\n",
              "      <td>1</td>\n",
              "      <td>0</td>\n",
              "    </tr>\n",
              "  </tbody>\n",
              "</table>\n",
              "</div>"
            ],
            "text/plain": [
              "      TV  radio  newspaper  ...  Area_rural Area_suburban  Area_urban\n",
              "1  230.1   37.8       69.2  ...           1             0           0\n",
              "2   44.5   39.3       45.1  ...           0             0           1\n",
              "3   17.2   45.9       69.3  ...           1             0           0\n",
              "4  151.5   41.3       58.5  ...           0             0           1\n",
              "5  180.8   10.8       58.4  ...           0             1           0\n",
              "\n",
              "[5 rows x 8 columns]"
            ]
          },
          "metadata": {
            "tags": []
          },
          "execution_count": 190
        }
      ]
    },
    {
      "cell_type": "code",
      "metadata": {
        "id": "O6Xn86zEwksL",
        "colab_type": "code",
        "outputId": "b2c1b0a5-b32a-40f6-8654-88b5e0b3da54",
        "colab": {
          "base_uri": "https://localhost:8080/",
          "height": 34
        }
      },
      "source": [
        "feature_cols = ['TV', 'radio', 'newspaper', 'Area_rural','Area_suburban', 'Area_urban']             # create a Python list of feature names\n",
        "X = data[feature_cols]  \n",
        "y = data.sales\n",
        "X_train, X_test, y_train, y_test=split(X,y)\n",
        "\n",
        "linreg = LinearRegression(copy_X=True, fit_intercept=True, n_jobs=None, normalize=True)\n",
        "linreg.fit(X_train, y_train)\n",
        "y_pred_test = linreg.predict(X_test)                                                   # make predictions on the testing set\n",
        "\n",
        "RMSE_test = (metrics.mean_squared_error(y_test, y_pred_test))                          # compute the RMSE of our predictions\n",
        "print('RMSE for the test set is {}'.format(RMSE_test))"
      ],
      "execution_count": 191,
      "outputs": [
        {
          "output_type": "stream",
          "text": [
            "RMSE for the test set is 1.9611076982081195\n"
          ],
          "name": "stdout"
        }
      ]
    },
    {
      "cell_type": "code",
      "metadata": {
        "id": "9Xm-wZqywksM",
        "colab_type": "code",
        "outputId": "b394cc05-811f-4471-f5d6-562a428a35e2",
        "colab": {
          "base_uri": "https://localhost:8080/",
          "height": 136
        }
      },
      "source": [
        "feature_cols.insert(0,'Intercept')\n",
        "coef = linreg.coef_.tolist()\n",
        "coef.insert(0, linreg.intercept_)\n",
        "\n",
        "eq1 = zip(feature_cols, coef)\n",
        "\n",
        "for c1,c2 in eq1:\n",
        "    print(c1,c2)"
      ],
      "execution_count": 192,
      "outputs": [
        {
          "output_type": "stream",
          "text": [
            "Intercept 2.9379838008173014\n",
            "TV 0.04674359838828311\n",
            "radio 0.1778069996112494\n",
            "newspaper 0.00265856866706011\n",
            "Area_rural -0.017884792525816852\n",
            "Area_suburban -0.18011772197104234\n",
            "Area_urban 0.1997610026512184\n"
          ],
          "name": "stdout"
        }
      ]
    },
    {
      "cell_type": "markdown",
      "metadata": {
        "id": "09tZB6OawksO",
        "colab_type": "text"
      },
      "source": [
        "__y = - 2.93 + 0.046 `*` TV + 0.177 `*` radio + 0.026 `*` newspaper - 0.0178 `*` Area_rural - 0.1810 `*` Area_suburban + 0.1997 `*` Area_urban__<br/>\n",
        "How do we interpret the coefficients?<br/>\n",
        "- Holding all other variables fixed, being a **suburban** area is associated with an average **decrease** in Sales of 0.0311 widgets (as compared to the baseline level, which is rural).\n",
        "- Being an **urban** area is associated with an average **increase** in Sales of 0.0418 widgets (as compared to rural)."
      ]
    }
  ]
}